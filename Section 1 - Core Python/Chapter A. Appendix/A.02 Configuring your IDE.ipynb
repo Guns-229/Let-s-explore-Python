{
 "cells": [
  {
   "cell_type": "markdown",
   "metadata": {},
   "source": [
    "## A.02 Configuring your IDE"
   ]
  },
  {
   "cell_type": "markdown",
   "metadata": {},
   "source": [
    "### VIM Editor"
   ]
  },
  {
   "cell_type": "markdown",
   "metadata": {},
   "source": [
    "vi is a screen-oriented text editor originally created for the Unix operating system. The portable subset of the behavior of vi and programs based on it, and the ex editor language supported within these programs, is described by the Single Unix Specification and POSIX."
   ]
  },
  {
   "cell_type": "markdown",
   "metadata": {},
   "source": [
    "### Plugins to Install"
   ]
  },
  {
   "cell_type": "markdown",
   "metadata": {},
   "source": [
    "#### Core Formatting"
   ]
  },
  {
   "cell_type": "markdown",
   "metadata": {},
   "source": [
    "#### Syntax Highlighting"
   ]
  },
  {
   "cell_type": "markdown",
   "metadata": {},
   "source": [
    "#### Color Themes"
   ]
  },
  {
   "cell_type": "markdown",
   "metadata": {},
   "source": [
    "#### Project Navigation"
   ]
  },
  {
   "cell_type": "markdown",
   "metadata": {},
   "source": [
    "#### Powerful Full Text search"
   ]
  },
  {
   "cell_type": "markdown",
   "metadata": {},
   "source": [
    "#### Real time linting"
   ]
  },
  {
   "cell_type": "markdown",
   "metadata": {},
   "source": [
    "- dense-analysis/ale \n",
    "- Coc (Conquer of Completion)"
   ]
  },
  {
   "cell_type": "code",
   "execution_count": null,
   "metadata": {},
   "outputs": [],
   "source": []
  },
  {
   "cell_type": "markdown",
   "metadata": {},
   "source": [
    "#### Fixing"
   ]
  },
  {
   "cell_type": "code",
   "execution_count": null,
   "metadata": {},
   "outputs": [],
   "source": []
  },
  {
   "cell_type": "markdown",
   "metadata": {},
   "source": [
    "#### Code Completion"
   ]
  },
  {
   "cell_type": "markdown",
   "metadata": {},
   "source": [
    "We have following modules which can be used for code completion for python language. \n",
    "\n",
    "- Youcompleteme\n",
    "- nvim-completion-manager (https://github.com/ncm2/ncm2)\n",
    "- deoplete\n",
    "- LanguageClient-neovim\n",
    "- Aynccomplete\n",
    "- Asyncomplete-lsp\n",
    "- Jedi\n",
    "- Jedi-vim\n",
    "- rope\n",
    "- ALE\n",
    "- ....\n",
    "\n",
    "They are all equally good and I will try to cover the installation & configuration process of few major ones."
   ]
  },
  {
   "cell_type": "markdown",
   "metadata": {},
   "source": [
    "##### `'davidhalter/jedi-vim'`\n",
    "- Website: https://github.com/davidhalter/jedi-vim\n",
    "- Installation command: `Plug 'davidhalter/jedi-vim'`\n",
    "\n",
    "For default  behavior you don't have to add any other configuration, but it will still be a good idea to visit its website once.\n",
    "![images/jedi-vim.png](images/jedi-vim.png)"
   ]
  },
  {
   "cell_type": "code",
   "execution_count": null,
   "metadata": {},
   "outputs": [],
   "source": []
  },
  {
   "cell_type": "markdown",
   "metadata": {},
   "source": [
    "##### deoplate\n",
    "- Website: https://github.com/deoplete-plugins/deoplete-jedi\n",
    "- Installation command: Please find the below instructions\n",
    "\n",
    "In order to install deoplate for python, we need to install following plugins\n",
    "```vimrc\n",
    " Plug 'Shougo/deoplete.nvim'\n",
    " Plug 'roxma/nvim-yarp'\n",
    " Plug 'roxma/vim-hug-neovim-rpc'\n",
    " Plug 'deoplete-plugins/deoplete-jedi'\n",
    "```\n",
    "Also we need to install following python modules \n",
    "```bash\n",
    "pip install --user pynvim jedi\n",
    "```\n",
    "Also start the deoplate at the start of the vim session using the following code in `vimrc` file\n",
    "\n",
    "```\n",
    "let g:deoplete#enable_at_startup = 1\n",
    "```\n",
    "\n",
    "\n",
    "If python is not installed in proper place or wish to use another python version then please specify them in the vimrc file\n",
    "```\n",
    "let g:python_host_prog  = '/usr/bin/python'\n",
    "let g:python3_host_prog = '/usr/bin/python3'\n",
    "```\n",
    "\n",
    "![images/deoplate.png](images/deoplate.png)"
   ]
  },
  {
   "cell_type": "markdown",
   "metadata": {},
   "source": [
    "#### Indentation"
   ]
  },
  {
   "cell_type": "markdown",
   "metadata": {},
   "source": [
    "- Vimjas/vim-python-pep8-indent "
   ]
  },
  {
   "cell_type": "markdown",
   "metadata": {},
   "source": [
    "#### Folding"
   ]
  },
  {
   "cell_type": "markdown",
   "metadata": {},
   "source": [
    "Folding (:help foldmethod) is when you collapse chunks of code to eliminate distraction.\n",
    "\n",
    "The best approximation is to use the folding method indent though it doesn't work ideally.\n",
    "\n",
    "au BufNewFile,BufRead *.py \\\n",
    "  set foldmethod=indent\n",
    "To toggle a fold you can press za (:help fold-commands), and I have it mapped to Space for convenience.\n",
    "\n",
    "nnoremap <space> za"
   ]
  },
  {
   "cell_type": "markdown",
   "metadata": {},
   "source": [
    "#### Code Auto Styling"
   ]
  },
  {
   "cell_type": "markdown",
   "metadata": {},
   "source": [
    "#### Code navigation"
   ]
  },
  {
   "cell_type": "code",
   "execution_count": null,
   "metadata": {},
   "outputs": [],
   "source": [
    "CtrlP - File Searching"
   ]
  },
  {
   "cell_type": "markdown",
   "metadata": {},
   "source": [
    "#### Code refactoring"
   ]
  },
  {
   "cell_type": "markdown",
   "metadata": {},
   "source": [
    "#### Snippets"
   ]
  },
  {
   "cell_type": "markdown",
   "metadata": {},
   "source": [
    "#### Git Integration"
   ]
  },
  {
   "cell_type": "code",
   "execution_count": null,
   "metadata": {},
   "outputs": [],
   "source": []
  },
  {
   "cell_type": "code",
   "execution_count": null,
   "metadata": {},
   "outputs": [],
   "source": []
  },
  {
   "cell_type": "code",
   "execution_count": null,
   "metadata": {},
   "outputs": [],
   "source": []
  },
  {
   "cell_type": "markdown",
   "metadata": {},
   "source": [
    "#### All in One"
   ]
  },
  {
   "cell_type": "markdown",
   "metadata": {},
   "source": [
    "- https://github.com/python-mode/python-mode"
   ]
  },
  {
   "cell_type": "code",
   "execution_count": null,
   "metadata": {},
   "outputs": [],
   "source": []
  },
  {
   "cell_type": "code",
   "execution_count": null,
   "metadata": {},
   "outputs": [],
   "source": []
  },
  {
   "cell_type": "code",
   "execution_count": null,
   "metadata": {},
   "outputs": [],
   "source": []
  }
 ],
 "metadata": {
  "kernelspec": {
   "display_name": "Python 3",
   "language": "python",
   "name": "python3"
  },
  "language_info": {
   "codemirror_mode": {
    "name": "ipython",
    "version": 3
   },
   "file_extension": ".py",
   "mimetype": "text/x-python",
   "name": "python",
   "nbconvert_exporter": "python",
   "pygments_lexer": "ipython3",
   "version": "3.10.0a7"
  }
 },
 "nbformat": 4,
 "nbformat_minor": 4
}
