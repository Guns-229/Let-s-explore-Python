{
 "cells": [
  {
   "cell_type": "markdown",
   "metadata": {},
   "source": [
    "# Appendix"
   ]
  },
  {
   "cell_type": "markdown",
   "metadata": {},
   "source": [
    "## Virtual Environment"
   ]
  },
  {
   "cell_type": "markdown",
   "metadata": {},
   "source": [
    "Use of `virtualenv` is strongly recommended in all projects. In this chapter we are going to discuss about various aspects of it, such as how to \n",
    "- Advantages\n",
    "- Install\n",
    "- Use\n",
    "- Maintain\n",
    "- Delete\n",
    "- Gotcha's etc"
   ]
  },
  {
   "cell_type": "markdown",
   "metadata": {},
   "source": [
    "### What is virtualenv"
   ]
  },
  {
   "cell_type": "markdown",
   "metadata": {},
   "source": [
    "Python 3 `venv` module provides support for creating lightweight “virtual environments” with their own site directories, optionally isolated from system site directories. Each virtual environment has its own Python binary (which matches the version of the binary that was used to create this environment) and can have its own independent set of installed Python packages in its site directories.\n",
    "\n",
    "See PEP 405 for more information about Python virtual environments.<sup>[1]</sup>"
   ]
  },
  {
   "cell_type": "markdown",
   "metadata": {},
   "source": [
    "### Advantages"
   ]
  },
  {
   "cell_type": "markdown",
   "metadata": {},
   "source": [
    "Major advantages of using Virtual Environments in python are:\n",
    "\n",
    "- Specific packages: It allows to have specific package sets for each project without interfering others.\n",
    "- Specific python version: It allows to have specific python versions for each project without interfering others.\n",
    "- Helps in creating the `requirements.txt` file for easy distribution.\n"
   ]
  },
  {
   "cell_type": "markdown",
   "metadata": {},
   "source": [
    "### Install"
   ]
  },
  {
   "cell_type": "markdown",
   "metadata": {},
   "source": [
    "Installing `virtualenv` in python 3 is very stateforward and following are the steps\n",
    "\n",
    "```bash\n",
    "# Navigate to the project folder project\n",
    "$:> cd <proj_folder>\n",
    "# Create virtualenv in .venv folder\n",
    "$:> python -m venv .venv\n",
    "```\n",
    "\n",
    "The above command will create a folder with virtualenv related files, and should not be part of your source repo, this can be achived by adding `.venv` folder in your `.gitignore` file."
   ]
  },
  {
   "cell_type": "markdown",
   "metadata": {},
   "source": [
    "### Usage"
   ]
  },
  {
   "cell_type": "markdown",
   "metadata": {},
   "source": [
    "#### Starting the virtualenv"
   ]
  },
  {
   "cell_type": "markdown",
   "metadata": {},
   "source": [
    "We can start the virtualenv by running the following command from Terminal/Command Window\n",
    "\n",
    "- On *inx OSes such as (Linux, Solaris, macOS, BSD OS etc)\n",
    "```bash\n",
    "$:> source .venv/bin/activate\n",
    "```\n",
    "\n",
    "- On Windows & ReactOS\n",
    "```bash\n",
    "$:> .venv\\scripts\\activate.bat\n",
    "```\n",
    "\n",
    "Once the virtualenv has started you will see `(.venv)` before the command, now you can work in the virtualenv from **within this terminal window**,"
   ]
  },
  {
   "cell_type": "markdown",
   "metadata": {},
   "source": [
    "| Platform         | Shell           | Activation Command                  | \n",
    "|------------------|---------|-------------------|\n",
    "| Posix \t\t   | `bash/zsh`        | `$ source <venv>/bin/activate`        |\n",
    "|-\t               | `fish`            | `$ . <venv>/bin/activate.fish`        |\n",
    "|-                 | `csh/tcsh`        | `$ source <venv>/bin/activate.csh`    |\n",
    "| Windows          | `cmd.exe`         | `C:\\> <venv>\\Scripts\\activate.bat`    |\n",
    "|-                 | `PowerShell`      | `PS C:\\> <venv>\\Scripts\\Activate.ps1` |"
   ]
  },
  {
   "cell_type": "markdown",
   "metadata": {},
   "source": [
    "#### Closing the virtualenv"
   ]
  },
  {
   "cell_type": "markdown",
   "metadata": {},
   "source": [
    "We can close the virtualenv using command `deactivate` from the terminal.\n",
    "```bash\n",
    "(.venv) $:> deactivate\n",
    "```"
   ]
  },
  {
   "cell_type": "markdown",
   "metadata": {},
   "source": [
    "### Delete"
   ]
  },
  {
   "cell_type": "markdown",
   "metadata": {},
   "source": [
    "Deleting the virtualenv is very easy just delete the virualenv folder (in our case its .venv)"
   ]
  },
  {
   "cell_type": "markdown",
   "metadata": {},
   "source": [
    "## piploc"
   ]
  },
  {
   "cell_type": "markdown",
   "metadata": {},
   "source": [
    "This is new idea from Python 3.8 (https://www.python.org/dev/peps/pep-0582/), in it `piploc` creates a folder named `__pypackages__` and stores new modules in it.\n",
    "\n",
    "I will add more details to it once 3.8 gets released in production."
   ]
  },
  {
   "cell_type": "markdown",
   "metadata": {},
   "source": [
    "### References"
   ]
  },
  {
   "cell_type": "markdown",
   "metadata": {},
   "source": [
    "1. https://docs.python.org/3/library/venv.html?highlight=venv\n",
    "-  https://www.python.org/dev/peps/pep-0582/"
   ]
  }
 ],
 "metadata": {
  "kernelspec": {
   "display_name": "Python 3",
   "language": "python",
   "name": "python3"
  },
  "language_info": {
   "codemirror_mode": {
    "name": "ipython",
    "version": 3
   },
   "file_extension": ".py",
   "mimetype": "text/x-python",
   "name": "python",
   "nbconvert_exporter": "python",
   "pygments_lexer": "ipython3",
   "version": "3.10.0a7"
  }
 },
 "nbformat": 4,
 "nbformat_minor": 2
}
