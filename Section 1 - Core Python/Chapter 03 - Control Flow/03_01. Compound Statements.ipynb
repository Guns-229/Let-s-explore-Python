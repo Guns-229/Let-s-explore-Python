{
 "cells": [
  {
   "cell_type": "markdown",
   "metadata": {},
   "source": [
    "# Chapter 3:Traditional Control Flow Constructs"
   ]
  },
  {
   "cell_type": "markdown",
   "metadata": {},
   "source": [
    "Compound statements contain one or groups of other statements; they affect or control the execution of those other statements in some way. \n",
    "\n",
    "In general, they span multiple lines, but can be also be listed in a single line.\n",
    "\n",
    "The `if`, `while`, `for` and `match/case` statements implement **traditional control flow constructs**, whereas `try` specifies **exception handlers and/or cleanup code** for a group of statements, while the `with` statement allows the execution of initialization and finalization code around a block of code. `Function` and `class` definitions are also **syntactically compound statements**.\n",
    "\n",
    "They consists of one or more *‘clauses’*. A *clause* consists of a 'header' and a ‘suite’. \n",
    "\n",
    "The 'clause' headers of a particular compound statement are all at the same indentation level. They should begins with an uniquely identifying keyword and should ends with a colon. \n",
    "\n",
    "'suite' is a group of statements controlled by a clause. It can be of one or more semicolon-separated simple statements on the same line as the header, following the header’s colon (one liner), or it can be one or more indented statements on subsequent lines. Only the latter form of a suite can contain nested compound statements; the following is illegal, mostly because it wouldn’t be clear to which if clause a following else clause would belong:"
   ]
  },
  {
   "cell_type": "markdown",
   "metadata": {},
   "source": [
    "With Python 3.10, `Structural Pattern Matching` has been added to the control flow, which also we will discuss in this chapter"
   ]
  },
  {
   "cell_type": "markdown",
   "metadata": {},
   "source": [
    "## `if` Statement"
   ]
  },
  {
   "cell_type": "markdown",
   "metadata": {},
   "source": [
    "The `if` statement is used for conditional execution similar to that in most common languages. If statement can be constructed in three format depending on our need.\n",
    "\n",
    "- **if**:  when we have \"**if** something do something\" condition\n",
    "- **if .. else**: when we have condition like \"**if** something: do something **else** do something else\" \n",
    "- **if .. elif ..else**: When we have too many conditions or nested conditions\n",
    "\n"
   ]
  },
  {
   "cell_type": "markdown",
   "metadata": {},
   "source": [
    "### `if`"
   ]
  },
  {
   "cell_type": "markdown",
   "metadata": {},
   "source": [
    "\n",
    "This format is used when specific operation needs to be performed if a specific condition is met. \n",
    "Syntax:\n",
    "```python\n",
    "if <condition>:\n",
    "    <code block>\n",
    "```\n",
    "\n",
    "\n",
    "Where:\n",
    "\n",
    "+ `<condition>`: sentence that can be evaluated as true or false.\n",
    "+ `<code block>`: sequence of command lines.\n",
    "+ The clauses `elif` and `else` are optional and  several `elifs` for the `if` may be used but only  one `else` at the end.\n",
    "+ Parentheses are only required to avoid ambiguity.\n",
    "Example:"
   ]
  },
  {
   "cell_type": "code",
   "execution_count": 3,
   "metadata": {},
   "outputs": [
    {
     "name": "stdout",
     "output_type": "stream",
     "text": [
      "Vinay\n"
     ]
    }
   ],
   "source": [
    "x = \"Vinay\"\n",
    "y = \"Vinod\"\n",
    "\n",
    "if y == \"Vinod\":\n",
    "    print(x)"
   ]
  },
  {
   "cell_type": "code",
   "execution_count": 5,
   "metadata": {},
   "outputs": [
    {
     "name": "stdout",
     "output_type": "stream",
     "text": [
      "Welcommone Vinod\n"
     ]
    }
   ],
   "source": [
    "if y:\n",
    "    print(\"Welcommone\", y)"
   ]
  },
  {
   "cell_type": "code",
   "execution_count": 12,
   "metadata": {},
   "outputs": [],
   "source": [
    "# Falsish Value, thus will not run the if code block\n",
    "y = None\n",
    "\n",
    "if y:\n",
    "    print(\"TEST\")"
   ]
  },
  {
   "cell_type": "code",
   "execution_count": 13,
   "metadata": {},
   "outputs": [],
   "source": [
    "y = 0\n",
    "\n",
    "if y:\n",
    "    print(\"TEST\")"
   ]
  },
  {
   "cell_type": "code",
   "execution_count": 14,
   "metadata": {},
   "outputs": [],
   "source": [
    "y = []\n",
    "\n",
    "if y:\n",
    "    print(\"TEST\")"
   ]
  },
  {
   "cell_type": "code",
   "execution_count": 16,
   "metadata": {},
   "outputs": [
    {
     "name": "stdout",
     "output_type": "stream",
     "text": [
      "TEST\n"
     ]
    }
   ],
   "source": [
    "# As the list is not empty, the `y` is holding \n",
    "# Truish value. \n",
    "\n",
    "y = [False]\n",
    "\n",
    "if y:\n",
    "    print(\"TEST\")"
   ]
  },
  {
   "cell_type": "code",
   "execution_count": 17,
   "metadata": {},
   "outputs": [
    {
     "name": "stdout",
     "output_type": "stream",
     "text": [
      "TEST\n"
     ]
    }
   ],
   "source": [
    "y = [[]]\n",
    "\n",
    "if y:\n",
    "    print(\"TEST\")"
   ]
  },
  {
   "cell_type": "code",
   "execution_count": 19,
   "metadata": {},
   "outputs": [],
   "source": [
    "y = {}\n",
    "\n",
    "if y:\n",
    "    print(\"TEST\")"
   ]
  },
  {
   "cell_type": "code",
   "execution_count": 18,
   "metadata": {},
   "outputs": [
    {
     "name": "stdout",
     "output_type": "stream",
     "text": [
      "TEST\n"
     ]
    }
   ],
   "source": [
    "y = {2}\n",
    "\n",
    "if y:\n",
    "    print(\"TEST\")"
   ]
  },
  {
   "cell_type": "markdown",
   "metadata": {},
   "source": [
    "```python\n",
    "# For C, C# & Java Guys\n",
    "if input(\"Please enter the password:\") == \"Simsim\": #{\n",
    "    print(\"\\t> Welcome to the cave\")\n",
    "#}\n",
    "\n",
    "print(\"Bye bye\")\n",
    "```"
   ]
  },
  {
   "cell_type": "markdown",
   "metadata": {},
   "source": [
    "#### Cascading of `if`"
   ]
  },
  {
   "cell_type": "markdown",
   "metadata": {},
   "source": [
    "Cascading of `if` statements is possible as shown in below example."
   ]
  },
  {
   "cell_type": "code",
   "execution_count": 21,
   "metadata": {},
   "outputs": [
    {
     "name": "stdout",
     "output_type": "stream",
     "text": [
      "Hello\n",
      "Hello again\n",
      "Bye bye bye ...\n"
     ]
    }
   ],
   "source": [
    "x = 12\n",
    "if x > 10:\n",
    "    print(\"Hello\")\n",
    "    if x > 10.999999999999:\n",
    "        print(\"Hello again\")\n",
    "        if x % 2 == 0:\n",
    "            print(\"Bye bye bye ...\")"
   ]
  },
  {
   "cell_type": "code",
   "execution_count": 22,
   "metadata": {},
   "outputs": [
    {
     "name": "stdout",
     "output_type": "stream",
     "text": [
      "Hello\n",
      "Hello again\n"
     ]
    }
   ],
   "source": [
    "x = 11\n",
    "if x > 10:\n",
    "    print(\"Hello\")\n",
    "    if x > 10.999999999999:\n",
    "        print(\"Hello again\")\n",
    "        if x % 2 == 0:\n",
    "            print(\"Bye bye bye ...\")"
   ]
  },
  {
   "cell_type": "code",
   "execution_count": 23,
   "metadata": {},
   "outputs": [
    {
     "name": "stdout",
     "output_type": "stream",
     "text": [
      "94433171799488\n",
      "Hello x is Green\n"
     ]
    }
   ],
   "source": [
    "x = \"Green\"\n",
    "y = None\n",
    "z = \"111\"\n",
    "print(id(y))\n",
    "if x == \"Green\":\n",
    "    print(\"Hello x is Green\")\n",
    "\n",
    "if x == 'Yellow':\n",
    "    print(\"Hello in Y\")\n",
    "\n",
    "if x == 'Orange':\n",
    "    print(\"Hello in Z\")"
   ]
  },
  {
   "cell_type": "markdown",
   "metadata": {},
   "source": [
    "### `if` ... `else` statement"
   ]
  },
  {
   "cell_type": "markdown",
   "metadata": {},
   "source": [
    "```python\n",
    "if <condition>:\n",
    "    <code block One>\n",
    "else:\n",
    "    <code block Second>\n",
    "```\n",
    "Where:\n",
    "\n",
    "+ `<condition>`: sentence that can be evaluated as true `if` statement `if` statemente or false.\n",
    "+ `<code block>`: sequence of command lines.\n",
    "+ The clauses `elif` and `else` are optional and  several `elifs` for the `if` may be used but only  one `else` at the end.\n",
    "+ Parentheses are only required to avoid ambiguity."
   ]
  },
  {
   "cell_type": "code",
   "execution_count": 25,
   "metadata": {},
   "outputs": [
    {
     "name": "stdout",
     "output_type": "stream",
     "text": [
      "Name is not mayank and its Anuja\n"
     ]
    }
   ],
   "source": [
    "user = \"Anuja\"\n",
    "\n",
    "if user == \"mayank\":  #{\n",
    "    print(\"Name is mayank\")\n",
    "#}\n",
    "else:  #{\n",
    "    print(f\"Name is not mayank and its {user}\")\n",
    "#}"
   ]
  },
  {
   "cell_type": "code",
   "execution_count": 26,
   "metadata": {},
   "outputs": [
    {
     "name": "stdout",
     "output_type": "stream",
     "text": [
      "Name is not mayank and its Anuja\n"
     ]
    }
   ],
   "source": [
    "user = \"Anuja\"\n",
    "\n",
    "if user != \"mayank\":\n",
    "    print(f\"Name is not mayank and its {user}\")\n",
    "else:\n",
    "    print(\"Name is mayank\")"
   ]
  },
  {
   "cell_type": "code",
   "execution_count": 6,
   "metadata": {},
   "outputs": [
    {
     "name": "stdout",
     "output_type": "stream",
     "text": [
      "Hello in Orange\n"
     ]
    }
   ],
   "source": [
    "x = \"Orange\"\n",
    "\n",
    "if x == \"Green\":\n",
    "    print(\"Hello x is Green\")\n",
    "else:\n",
    "    if x == 'Yellow':\n",
    "        print(\"Hello in Yellow\")\n",
    "    else:\n",
    "        if x == 'Orange':\n",
    "            print(\"Hello in Orange\")"
   ]
  },
  {
   "cell_type": "markdown",
   "metadata": {},
   "source": [
    "### `if` ...`elif` ... `else` statement"
   ]
  },
  {
   "cell_type": "markdown",
   "metadata": {},
   "source": [
    "**Syntax:**\n",
    "\n",
    "```python\n",
    "if <condition>:\n",
    "    <code block>\n",
    "elif <condition>:\n",
    "    <code block>\n",
    "elif <condition>:\n",
    "    <code block>\n",
    "else:\n",
    "    <code block>\n",
    "```\n",
    "\n",
    "Where:\n",
    "\n",
    "+ `<condition>`: sentence that can be evaluated as true or false.\n",
    "+ `<code block>`: sequence of command lines.\n",
    "+ The clauses `elif` and `else` are optional and  several `elifs` for the `if` may be used but only  one `else` at the end.\n",
    "+ Parentheses are only required to avoid ambiguity."
   ]
  },
  {
   "cell_type": "code",
   "execution_count": 23,
   "metadata": {},
   "outputs": [
    {
     "name": "stdout",
     "output_type": "stream",
     "text": [
      "Hello is Orange\n"
     ]
    }
   ],
   "source": [
    "# In this case we will exit after executing \n",
    "# first true condition block\n",
    "cols = \"Orange\", \"Red\", \"Green\"\n",
    "orange, red, green = \"Orange\", \"Red\", \"Green\"\n",
    "\n",
    "if orange in cols:\n",
    "    print(\"Hello is\", orange)\n",
    "elif red in cols:\n",
    "    print(\"Hello is\", red)\n",
    "elif green in cols:\n",
    "    print(\"Hello is\", green)"
   ]
  },
  {
   "cell_type": "code",
   "execution_count": 7,
   "metadata": {},
   "outputs": [
    {
     "name": "stdout",
     "output_type": "stream",
     "text": [
      "Cold\n"
     ]
    }
   ],
   "source": [
    "# temperature value used to test\n",
    "# Logical Issue ? Find it if you can.\n",
    "\n",
    "temp = 20\n",
    "\n",
    "if temp < 0:\n",
    "    print('Freezing...')\n",
    "elif 0 <= temp <= 20:\n",
    "    print ('Cold')\n",
    "elif 21 <= temp <= 25:\n",
    "    print('Room Temprature')\n",
    "elif 26 <= temp <= 35:\n",
    "    print ('Hot')\n",
    "else:\n",
    "    print('Its very HOT!, lets stay at home... \\nand drink lemonade.')"
   ]
  },
  {
   "cell_type": "code",
   "execution_count": 5,
   "metadata": {},
   "outputs": [
    {
     "name": "stdout",
     "output_type": "stream",
     "text": [
      "Its very HOT!, lets stay at home... \n",
      "and drink lemonade.\n"
     ]
    }
   ],
   "source": [
    "# temperature value used to test\n",
    "temp = 25.3\n",
    "\n",
    "if temp < 0:\n",
    "    print('Freezing...')\n",
    "elif 0 <= temp <= 20:\n",
    "    print ('Cold')\n",
    "elif 21 <= temp <= 25:\n",
    "    print('Room Temprature')\n",
    "elif 26 <= temp <= 35:\n",
    "    print ('Hot')\n",
    "else:\n",
    "    print('Its very HOT!, lets stay at home... \\nand drink lemonade.')"
   ]
  },
  {
   "cell_type": "code",
   "execution_count": 26,
   "metadata": {},
   "outputs": [
    {
     "name": "stdout",
     "output_type": "stream",
     "text": [
      "Room Temprature\n"
     ]
    }
   ],
   "source": [
    "# temperature value used to test\n",
    "# logical issue solved. \n",
    "\n",
    "temp = 20.2\n",
    "\n",
    "if temp <= 0:\n",
    "    print('Freezing...')\n",
    "elif 0 < temp <= 20:\n",
    "    print ('Cold')\n",
    "elif 20 < temp <= 25:\n",
    "    print('Room Temprature')\n",
    "elif 25 < temp <= 35:\n",
    "    print ('Hot')\n",
    "else:\n",
    "    print('Its very HOT!, lets stay at home... \\nand drink lemonade.')"
   ]
  },
  {
   "cell_type": "markdown",
   "metadata": {},
   "source": [
    "Imagine that in the above program, `23` is the temperature which was read by  some sensor or manually entered by the user and `Normal` is the response of the program."
   ]
  },
  {
   "cell_type": "code",
   "execution_count": 7,
   "metadata": {},
   "outputs": [
    {
     "name": "stdout",
     "output_type": "stream",
     "text": [
      "Freezing...\n"
     ]
    }
   ],
   "source": [
    "# temperature value used to test\n",
    "# Much simpler code \n",
    "\n",
    "temp = 0\n",
    "\n",
    "if temp <= 0:\n",
    "    print('Freezing...')\n",
    "elif temp <= 20:\n",
    "    print ('Cold')\n",
    "elif temp <= 25:\n",
    "    print('Room Temprature')\n",
    "elif temp <= 35:\n",
    "    print ('Hot')\n",
    "else:\n",
    "    print('Its very HOT!, lets stay at home... \\nand drink lemonade.')"
   ]
  },
  {
   "cell_type": "markdown",
   "metadata": {},
   "source": [
    "**NOTE**: This construct will only run the first true if block and will skip all the others as shown in the below example"
   ]
  },
  {
   "cell_type": "code",
   "execution_count": 8,
   "metadata": {},
   "outputs": [
    {
     "name": "stdout",
     "output_type": "stream",
     "text": [
      "apple\n"
     ]
    }
   ],
   "source": [
    "a = \"apple\"\n",
    "b = \"banana\"\n",
    "c = \"Mango\"\n",
    "\n",
    "if a == \"apple\":\n",
    "    print(\"apple\")\n",
    "elif b == \"banana\":\n",
    "    print(\"banana\")\n",
    "elif c == \"Mango\":\n",
    "    print(\"My Mango farm\")"
   ]
  },
  {
   "cell_type": "code",
   "execution_count": 17,
   "metadata": {},
   "outputs": [
    {
     "name": "stdout",
     "output_type": "stream",
     "text": [
      "Hello in Z\n"
     ]
    }
   ],
   "source": [
    "x = \"Orange\"\n",
    "\n",
    "if x == \"Green\":\n",
    "    print(\"Hello x is Green\")\n",
    "elif x == 'Yellow':\n",
    "    print(\"Hello in Y\")\n",
    "elif x == 'Orange':\n",
    "    print(\"Hello in Z\")"
   ]
  },
  {
   "cell_type": "code",
   "execution_count": 18,
   "metadata": {},
   "outputs": [
    {
     "name": "stdout",
     "output_type": "stream",
     "text": [
      "Hello user_selection is Orange\n"
     ]
    }
   ],
   "source": [
    "user_selection = \"Orange\"\n",
    "orange, red, green = \"Orange\", \"Red\", \"Green\"\n",
    "if user_selection == orange:\n",
    "    print(\"Hello user_selection is\", orange)\n",
    "elif user_selection == red:\n",
    "    print(\"Hello user_selection is\", red)\n",
    "elif user_selection == green:\n",
    "    print(\"Hello user_selection is\", green)"
   ]
  },
  {
   "cell_type": "markdown",
   "metadata": {},
   "source": [
    "### One line if "
   ]
  },
  {
   "cell_type": "markdown",
   "metadata": {},
   "source": [
    "There are instances where we might need to have \n",
    "If the code block is composed of only one line, it can be written after the colon:\n",
    "\n",
    "    if temp < 0: print 'Freezing...'"
   ]
  },
  {
   "cell_type": "code",
   "execution_count": 27,
   "metadata": {},
   "outputs": [
    {
     "name": "stdout",
     "output_type": "stream",
     "text": [
      "Hello \n"
     ]
    }
   ],
   "source": [
    "x = 20\n",
    "\n",
    "if x > 10: print(\"Hello \")"
   ]
  },
  {
   "cell_type": "code",
   "execution_count": 10,
   "metadata": {},
   "outputs": [
    {
     "name": "stdout",
     "output_type": "stream",
     "text": [
      "Hello \n",
      "How are you doing\n"
     ]
    }
   ],
   "source": [
    "# Intresting example\n",
    "x = 20\n",
    "\n",
    "if x > 10: print(\"Hello \"); print(\"How are you doing\")"
   ]
  },
  {
   "cell_type": "code",
   "execution_count": 11,
   "metadata": {},
   "outputs": [],
   "source": [
    "# Intresting example\n",
    "x = 3\n",
    "\n",
    "if x > 10: print(\"Hello \"); print(\"How are you doing\")"
   ]
  },
  {
   "cell_type": "markdown",
   "metadata": {},
   "source": [
    "Since version 2.5, Python supports the expression:\n",
    "```python\n",
    "<variable> = <value 1> if <condition> else <value 2>\n",
    "```\n",
    "Where `<variable>` receives `<value 1>` if `<condition>` is true and `<value 2>`  otherwise."
   ]
  },
  {
   "cell_type": "code",
   "execution_count": 16,
   "metadata": {},
   "outputs": [
    {
     "name": "stdout",
     "output_type": "stream",
     "text": [
      "val = 1, x = 3, (x < 10) = True\n"
     ]
    }
   ],
   "source": [
    "x = 3\n",
    "val = 1 if x < 10 else 24\n",
    "\n",
    "print(f\"{val = }, {x = }, {(x < 10) = }\")"
   ]
  },
  {
   "cell_type": "code",
   "execution_count": 17,
   "metadata": {},
   "outputs": [
    {
     "name": "stdout",
     "output_type": "stream",
     "text": [
      "val = 24, x = 3, (x < 10) = True\n"
     ]
    }
   ],
   "source": [
    "val = 1 if x > 10 else 24\n",
    "\n",
    "print(f\"{val = }, {x = }, {(x < 10) = }\")"
   ]
  },
  {
   "cell_type": "code",
   "execution_count": 18,
   "metadata": {},
   "outputs": [
    {
     "name": "stdout",
     "output_type": "stream",
     "text": [
      "val: 100 x: 3 x > 10: False\n"
     ]
    }
   ],
   "source": [
    "# Cascaded if eles statements in a single line\n",
    "\n",
    "val = (1 if x > 10 else 24) if x % 2 == 0 else 100\n",
    "\n",
    "print(\"val:\", val, \"x:\", x, \"x > 10:\", x > 10)"
   ]
  },
  {
   "cell_type": "code",
   "execution_count": 33,
   "metadata": {},
   "outputs": [
    {
     "name": "stdout",
     "output_type": "stream",
     "text": [
      "val: 24 x: 3 x > 10: False\n"
     ]
    }
   ],
   "source": [
    "val = 1 if x > 10 else 24 if x % 2 != 0 else 100\n",
    "\n",
    "print(\"val:\", val, \"x:\", x, \"x > 10:\", x > 10)"
   ]
  },
  {
   "cell_type": "code",
   "execution_count": 34,
   "metadata": {},
   "outputs": [
    {
     "name": "stdout",
     "output_type": "stream",
     "text": [
      "val: 100 x: 3 x > 10: False\n"
     ]
    }
   ],
   "source": [
    "val = 1 if x > 10 else 24 if x % 2 == 0 else 100\n",
    "\n",
    "print(\"val:\", val, \"x:\", x, \"x > 10:\", x > 10)"
   ]
  },
  {
   "cell_type": "markdown",
   "metadata": {},
   "source": [
    "### `if` expression extended"
   ]
  },
  {
   "cell_type": "markdown",
   "metadata": {},
   "source": [
    "we can extend one liner `if` using `()`'s as shown in the below example. "
   ]
  },
  {
   "cell_type": "code",
   "execution_count": 36,
   "metadata": {},
   "outputs": [
    {
     "name": "stdout",
     "output_type": "stream",
     "text": [
      "Hot\n"
     ]
    }
   ],
   "source": [
    "# Never ever use this code in Production\n",
    "\n",
    "temp = 30\n",
    "\n",
    "(print ('Freezing...') if temp < 0 else\n",
    "print ('Cold') if 0 < temp <= 20 else\n",
    "print ('Room Temprature') if 20 < temp <= 25 else \n",
    "print(\"Hot\") if 25 < temp <= 35 else\n",
    "print ('Its very HOT!, lets stay at home... \\nand drink lemonade.'))"
   ]
  },
  {
   "cell_type": "code",
   "execution_count": 35,
   "metadata": {},
   "outputs": [
    {
     "name": "stdout",
     "output_type": "stream",
     "text": [
      "Hot\n"
     ]
    }
   ],
   "source": [
    "# Optimized code\n",
    "# But still Never ever use this code in Production\n",
    "temp = 30\n",
    "\n",
    "print(('Freezing...' if temp < 0 else\n",
    "'Cold' if 0 < temp <= 20 else\n",
    "'Room Temprature' if 20 < temp <= 25 else \n",
    "\"Hot\" if 25 < temp <= 35 else\n",
    "'Its very HOT!, lets stay at home... \\nand drink lemonade.'))"
   ]
  },
  {
   "cell_type": "markdown",
   "metadata": {},
   "source": [
    "We have converted one previous multi `if-elif-else` example to `single line if-else` construct."
   ]
  },
  {
   "cell_type": "markdown",
   "metadata": {},
   "source": [
    "### Suite"
   ]
  },
  {
   "cell_type": "markdown",
   "metadata": {},
   "source": [
    "Python allows to have more than one statements on a single line using `;` and its called `suite` (https://docs.python.org/3/reference/compound_stmts.html). Very simple suite is as shown in the exmples below"
   ]
  },
  {
   "cell_type": "code",
   "execution_count": 24,
   "metadata": {},
   "outputs": [
    {
     "name": "stdout",
     "output_type": "stream",
     "text": [
      "Hello\n"
     ]
    }
   ],
   "source": [
    "print(\"He\", end=\"\"); print(\"l\", end=\"\"); print(\"lo\")"
   ]
  },
  {
   "cell_type": "code",
   "execution_count": 19,
   "metadata": {},
   "outputs": [
    {
     "name": "stdout",
     "output_type": "stream",
     "text": [
      "10\n",
      "30\n"
     ]
    }
   ],
   "source": [
    "x = 10; print(x); x += 20; print(x)"
   ]
  },
  {
   "cell_type": "markdown",
   "metadata": {},
   "source": [
    "as you can see in the above example we can have more than one statements in a simple line. Lets check its effect on other compound constructs"
   ]
  },
  {
   "cell_type": "markdown",
   "metadata": {},
   "source": [
    "### `Suite` and `if`"
   ]
  },
  {
   "cell_type": "markdown",
   "metadata": {},
   "source": [
    "The entire suite will get executed only when the `if` condition is fulfilled."
   ]
  },
  {
   "cell_type": "code",
   "execution_count": 26,
   "metadata": {},
   "outputs": [
    {
     "name": "stdout",
     "output_type": "stream",
     "text": [
      "Hello\n",
      "...\n"
     ]
    }
   ],
   "source": [
    "x = 10\n",
    "if x <= 10: print(\"He\", end=\"\"); print(\"l\", end=\"\"); print(\"lo\")\n",
    "print(\"...\")"
   ]
  },
  {
   "cell_type": "markdown",
   "metadata": {},
   "source": [
    "else the entire suite will not get executed."
   ]
  },
  {
   "cell_type": "code",
   "execution_count": 27,
   "metadata": {},
   "outputs": [
    {
     "name": "stdout",
     "output_type": "stream",
     "text": [
      "...\n"
     ]
    }
   ],
   "source": [
    "x = 30\n",
    "if x <= 10: print(\"He\", end=\"\"); print(\"l\", end=\"\"); print(\"lo\")\n",
    "print(\"...\")"
   ]
  },
  {
   "cell_type": "markdown",
   "metadata": {},
   "source": [
    "> **NOTE:**<hr>\n",
    "> The semicolon binds tighter than the colon in the above context, thus either all or none of the `print()` calls are executed"
   ]
  },
  {
   "cell_type": "markdown",
   "metadata": {},
   "source": [
    "#### Gotcha's"
   ]
  },
  {
   "cell_type": "markdown",
   "metadata": {},
   "source": [
    "1. We can only have first statement as compound statements and all the following cannot be compound statementas (statements with `:`) as shown in the examples below.\n",
    "\n",
    "```python\n",
    "x = 20; if x <= 10: print(\"l\", end=\"\"); print(\"lo\")\n",
    "```\n",
    "**Output:**\n",
    "```python\n",
    "  File \"<ipython-input-14-cf119c4c1398>\", line 2\n",
    "    x = 20; if x <= 10: print(\"l\", end=\"\"); print(\"lo\")\n",
    "             ^\n",
    "SyntaxError: invalid syntax\n",
    "``` "
   ]
  },
  {
   "cell_type": "markdown",
   "metadata": {},
   "source": [
    "As one liner `if` do not have `:` in its construct it can be present in following statements as shown in the below example"
   ]
  },
  {
   "cell_type": "code",
   "execution_count": 28,
   "metadata": {},
   "outputs": [
    {
     "name": "stdout",
     "output_type": "stream",
     "text": [
      "> 8 and blue in color\n",
      "Swagatam\n"
     ]
    }
   ],
   "source": [
    "size = 10\n",
    "color = \"blue\"\n",
    "\n",
    "if size > 8: print(\"> 8 and blue in color\") if color == \"blue\" else print(\"> 8 but not blue color\");print(\"Swagatam\")"
   ]
  },
  {
   "cell_type": "markdown",
   "metadata": {},
   "source": [
    "The below example will not work as last statement was \":\" in it, \n",
    "```python\n",
    "# this one will not work\n",
    "x = 20\n",
    "if x > 10: print(\"Greater than 10\") if x > 15 else print(\"less than\") else: print(\"TEST\")\n",
    "```\n",
    "**Output:**\n",
    "```python\n",
    "  File \"<ipython-input-34-ad260d588f22>\", line 2\n",
    "    if x > 10: print(\"Greater than 10\") if x > 15 else print(\"less than\") else: print(\"TEST\")\n",
    "                                                                             ^\n",
    "SyntaxError: invalid syntax\n",
    "```"
   ]
  },
  {
   "cell_type": "markdown",
   "metadata": {},
   "source": [
    "But, following will work without issue. "
   ]
  },
  {
   "cell_type": "code",
   "execution_count": 29,
   "metadata": {},
   "outputs": [
    {
     "name": "stdout",
     "output_type": "stream",
     "text": [
      "True\n"
     ]
    }
   ],
   "source": [
    "size = 10\n",
    "color = \"blue\"\n",
    "if size > 8: x = 10 and True or False; print(x) "
   ]
  },
  {
   "cell_type": "code",
   "execution_count": 30,
   "metadata": {},
   "outputs": [
    {
     "name": "stdout",
     "output_type": "stream",
     "text": [
      "> 8 and blue in color\n",
      "10\n",
      "Hello \n"
     ]
    }
   ],
   "source": [
    "if size > 8: print(\"> 8 and blue in color\"); print(10) if color == \"blue\" else print(\"> 8 but not blue color\"); print(\"Hello \")"
   ]
  },
  {
   "cell_type": "markdown",
   "metadata": {},
   "source": [
    "### Uses of suite"
   ]
  },
  {
   "cell_type": "markdown",
   "metadata": {},
   "source": [
    "#### running at command prompt/interpretor"
   ]
  },
  {
   "cell_type": "markdown",
   "metadata": {},
   "source": [
    "```python\n",
    "$:> python -c \"import os; print(os.path.join('test', 'test'))\"\n",
    "```"
   ]
  },
  {
   "cell_type": "markdown",
   "metadata": {},
   "source": [
    "#### initiating pdb"
   ]
  },
  {
   "cell_type": "markdown",
   "metadata": {},
   "source": [
    "easy to write and easy to remove. "
   ]
  },
  {
   "cell_type": "code",
   "execution_count": 31,
   "metadata": {},
   "outputs": [],
   "source": [
    "# import pdb; pdb.sta..."
   ]
  },
  {
   "cell_type": "markdown",
   "metadata": {},
   "source": [
    "#### Ending multiline statement"
   ]
  },
  {
   "cell_type": "code",
   "execution_count": 32,
   "metadata": {},
   "outputs": [
    {
     "name": "stdout",
     "output_type": "stream",
     "text": [
      "Hot\n"
     ]
    }
   ],
   "source": [
    "temp = 30\n",
    "\n",
    "print(('Freezing...' if temp < 0 else\n",
    "'Cold' if 0 < temp <= 20 else\n",
    "'Room Temprature' if 20 < temp <= 25 else \n",
    "\"Hot\" if 25 < temp <= 35 else\n",
    "'Its very HOT!, lets stay at home... \\nand drink lemonade.'));"
   ]
  },
  {
   "cell_type": "markdown",
   "metadata": {},
   "source": [
    "#### for c/c++ guys (joke)"
   ]
  },
  {
   "cell_type": "code",
   "execution_count": 1,
   "metadata": {},
   "outputs": [
    {
     "name": "stdout",
     "output_type": "stream",
     "text": [
      "20\n"
     ]
    }
   ],
   "source": [
    "# now your code looks like c/c++ :)\n",
    "temp = 20;\n",
    "print(temp);"
   ]
  },
  {
   "cell_type": "markdown",
   "metadata": {},
   "source": [
    "### Assignment expression Aka Walrus Operator  `:=` and `if` statement"
   ]
  },
  {
   "cell_type": "markdown",
   "metadata": {},
   "source": [
    "`walrus` operator allows developers to assign variables within an expression, which then can be later used without the need to recalculate it when later needed in the block.\n",
    "\n",
    "There are multiple usecases for walrus operator in `if` statements. Few of the examples below provide the usescase described in the https://www.python.org/dev/peps/pep-0572/ (PEP 572 -- Assignment Expressions)."
   ]
  },
  {
   "cell_type": "markdown",
   "metadata": {},
   "source": [
    "> Note: `walrus` operator has been added in Python 3.8. "
   ]
  },
  {
   "cell_type": "code",
   "execution_count": 21,
   "metadata": {},
   "outputs": [
    {
     "name": "stdout",
     "output_type": "stream",
     "text": [
      "Length of str: Its very HOT!, lets stay at home... is 35\n"
     ]
    }
   ],
   "source": [
    "# Normal Equivalent code without using walrus operator.\n",
    "\n",
    "txt = \"Its very HOT!, lets stay at home...\"\n",
    "\n",
    "if len(txt) > 10:\n",
    "    width = len(txt)\n",
    "    print(f\"Length of str: {txt} is {width}\")"
   ]
  },
  {
   "cell_type": "code",
   "execution_count": 23,
   "metadata": {},
   "outputs": [
    {
     "name": "stdout",
     "output_type": "stream",
     "text": [
      "Length of str: Its very HOT!, lets stay at home... \n",
      "and drink lemonade. is 56\n"
     ]
    }
   ],
   "source": [
    "# Normal Optimization Equivalent code without using walrus operator.\n",
    "\n",
    "txt = \"Its very HOT!, lets stay at home... \\nand drink lemonade.\"\n",
    "\n",
    "txt_len = len(txt)\n",
    "if txt_len > 10:\n",
    "    width = txt_len\n",
    "    print(f\"Length of str: {txt} is {width}\")"
   ]
  },
  {
   "cell_type": "code",
   "execution_count": 24,
   "metadata": {},
   "outputs": [
    {
     "name": "stdout",
     "output_type": "stream",
     "text": [
      "Length of str: Its very HOT!, lets stay at home... \n",
      "and drink lemonade. is 56\n"
     ]
    }
   ],
   "source": [
    "# Optimized using walrus operator.\n",
    "\n",
    "txt = \"Its very HOT!, lets stay at home... \\nand drink lemonade.\"\n",
    "\n",
    "if (width := len(txt)) > 10:\n",
    "    print(f\"Length of str: {txt} is {width}\")"
   ]
  },
  {
   "cell_type": "markdown",
   "metadata": {},
   "source": [
    "In the above example, variable `width` is assigned in the `if` statemenet itself and later used within the `if` code block. Prior to `3.8`. "
   ]
  },
  {
   "cell_type": "code",
   "execution_count": 41,
   "metadata": {},
   "outputs": [
    {
     "name": "stdout",
     "output_type": "stream",
     "text": [
      "`m` found 2 times\n"
     ]
    }
   ],
   "source": [
    "txt = \"Krivanto Visvamaryam\"\n",
    "\n",
    "if (num := txt.count(\"m\")) > 1:\n",
    "    print(f\"`m` found {num} times\")"
   ]
  },
  {
   "cell_type": "markdown",
   "metadata": {},
   "source": [
    "In the above examples, we have seen a usecase where we need to get the value from the `if` condition. In those cases we can use **walrus operator `:=` which assigns values to variables as part of a larger expression as shown in the below examples"
   ]
  },
  {
   "cell_type": "code",
   "execution_count": 43,
   "metadata": {},
   "outputs": [
    {
     "name": "stdout",
     "output_type": "stream",
     "text": [
      "Welcome mayank\n"
     ]
    }
   ],
   "source": [
    "def get_val(name):\n",
    "    return name.lower()\n",
    "\n",
    "if (name := get_val(\"Mayank\")) == \"mayank\":\n",
    "    print(f\"Welcome {name}\")"
   ]
  },
  {
   "cell_type": "code",
   "execution_count": 44,
   "metadata": {},
   "outputs": [
    {
     "name": "stdout",
     "output_type": "stream",
     "text": [
      "Good Bye mohan\n"
     ]
    }
   ],
   "source": [
    "if (name := get_val(\"Mohan\")) == \"mayank\":\n",
    "    print(f\"Welcome {name}\")\n",
    "else:\n",
    "    print(f\"Good Bye {name}\")"
   ]
  },
  {
   "cell_type": "code",
   "execution_count": 9,
   "metadata": {},
   "outputs": [
    {
     "name": "stdout",
     "output_type": "stream",
     "text": [
      "All have left the zoo as final count is: final_count = 0\n"
     ]
    }
   ],
   "source": [
    "def total(*a):\n",
    "    result = 0\n",
    "    for x in a:\n",
    "        result += x\n",
    "    return result\n",
    "\n",
    "if (final_count := total(10, -7, -3)):\n",
    "    print(f\"Remaining Persons in Zoo: {final_count = }\")\n",
    "else:\n",
    "    print(f\"All have left the zoo as final count is: {final_count = }\")"
   ]
  },
  {
   "cell_type": "code",
   "execution_count": 14,
   "metadata": {},
   "outputs": [
    {
     "name": "stdout",
     "output_type": "stream",
     "text": [
      "Remaining Persons in Zoo: final_count = 2\n"
     ]
    }
   ],
   "source": [
    "if (final_count := total(10, -5, -3)):\n",
    "    print(f\"Remaining Persons in Zoo: {final_count = }\")\n",
    "else:\n",
    "    print(f\"All have left the zoo as final count is: {final_count = }\")"
   ]
  },
  {
   "cell_type": "markdown",
   "metadata": {},
   "source": [
    "## Structural Pattern Matching"
   ]
  },
  {
   "cell_type": "markdown",
   "metadata": {},
   "source": [
    "(Structural Pattern Matching) `match` and `case` keywords are **soft keywords** and used with following syntax\n",
    "\n",
    "```python\n",
    "\n",
    "match subject:\n",
    "    case <pattern_1>:\n",
    "        <action_1>\n",
    "    case <pattern_2>:\n",
    "        <action_2>\n",
    "    case _:\n",
    "        <action_wildcard>\n",
    "```        "
   ]
  },
  {
   "cell_type": "markdown",
   "metadata": {},
   "source": [
    "**Example:**"
   ]
  },
  {
   "cell_type": "code",
   "execution_count": 26,
   "metadata": {},
   "outputs": [
    {
     "name": "stdout",
     "output_type": "stream",
     "text": [
      "abbreviation_meaning(\"Mr\") = 'Mister'\n"
     ]
    }
   ],
   "source": [
    "def abbreviation_meaning(abbreviation):\n",
    "    match abbreviation:\n",
    "        case \"Dr\":\n",
    "            return \"Doctor\"\n",
    "        case \"Mr\":\n",
    "            return \"Mister\"\n",
    "        case \"Mrs\":\n",
    "            return \"Missus\"\n",
    "        case _:\n",
    "            return \"Not Sure\"\n",
    "        \n",
    "print(f'{abbreviation_meaning(\"Mr\") = }')"
   ]
  },
  {
   "cell_type": "code",
   "execution_count": 27,
   "metadata": {},
   "outputs": [
    {
     "name": "stdout",
     "output_type": "stream",
     "text": [
      "abbreviation_meaning(\"Jr\") = 'Not Sure'\n"
     ]
    }
   ],
   "source": [
    "print(f'{abbreviation_meaning(\"Jr\") = }')"
   ]
  },
  {
   "cell_type": "markdown",
   "metadata": {},
   "source": [
    "In the above example, the `match` construct will sequentially check the `abbreviation`against the `case` values and will run the code block of the first matched case. If not able to find any matches then will run the code block under case `_`, if provided.\n",
    "\n",
    "Lets learn about the options provided by it."
   ]
  },
  {
   "cell_type": "markdown",
   "metadata": {},
   "source": [
    "### Simple pattern: match to a literal"
   ]
  },
  {
   "cell_type": "markdown",
   "metadata": {},
   "source": [
    "Lets take a look at previous example again, in that example, we have only one value in `case` each. It's the simplest usecase which can be created. \n",
    "\n",
    "If I provide `Dr` value for `abbreviation` then it will return `Doctor` and if `Mrs` is provided then `Missus` is returned.\n",
    "\n",
    "We can even provide multiple values in `case` by using `|` (or) as shown in below example."
   ]
  },
  {
   "cell_type": "code",
   "execution_count": 28,
   "metadata": {},
   "outputs": [
    {
     "name": "stdout",
     "output_type": "stream",
     "text": [
      "abbreviation_meaning(\"Raja\") = 'kingdom'\n",
      "abbreviation_meaning(\"czar\") = 'dictatorship'\n",
      "abbreviation_meaning(\"BDFL\") = 'Not Sure'\n"
     ]
    }
   ],
   "source": [
    "def abbreviation_meaning(abbreviation):\n",
    "    match abbreviation:\n",
    "        case \"Raja\" | \"King\":\n",
    "            return \"kingdom\"\n",
    "        case \"President\" | \"Prime Minister\":\n",
    "            return \"Democracy\"\n",
    "        case \"Dictator\" | \"czar\":\n",
    "            return \"dictatorship\"\n",
    "        case _:\n",
    "            return \"Not Sure\"\n",
    "\n",
    "print(f'{abbreviation_meaning(\"Raja\") = }')\n",
    "print(f'{abbreviation_meaning(\"czar\") = }')\n",
    "print(f'{abbreviation_meaning(\"BDFL\") = }')"
   ]
  },
  {
   "cell_type": "markdown",
   "metadata": {},
   "source": [
    "In the below example, we have removed the default `case _`. Now if we request with a non existing case value, then no case is selected."
   ]
  },
  {
   "cell_type": "code",
   "execution_count": 30,
   "metadata": {},
   "outputs": [
    {
     "name": "stdout",
     "output_type": "stream",
     "text": [
      "Done\n"
     ]
    }
   ],
   "source": [
    "abbreviation = \"Testing\"\n",
    "\n",
    "match abbreviation:\n",
    "    case \"Raja\" | \"King\":\n",
    "        print(\"kingdom\")\n",
    "    case \"President\" | \"Prime Minister\":\n",
    "        print(\"Democracy\")\n",
    "    case \"Dictator\" | \"czar\":\n",
    "        print(\"dictatorship\")\n",
    "        \n",
    "print(\"Done\")"
   ]
  },
  {
   "cell_type": "markdown",
   "metadata": {},
   "source": [
    "### `match` and unpacking"
   ]
  },
  {
   "cell_type": "markdown",
   "metadata": {},
   "source": [
    "Pattern variables can also be used for unpacking data as shown in below example   "
   ]
  },
  {
   "cell_type": "code",
   "execution_count": 14,
   "metadata": {},
   "outputs": [
    {
     "name": "stdout",
     "output_type": "stream",
     "text": [
      "Correct Message\n"
     ]
    }
   ],
   "source": [
    "validate = (True, \"Correct\")\n",
    "\n",
    "match validate:\n",
    "    case (True, \"Correct\"):\n",
    "        print(\"Correct Message\")\n",
    "    case (False, \"Wrong\"):\n",
    "        print(\"Wrong Message\")\n",
    "    "
   ]
  },
  {
   "cell_type": "markdown",
   "metadata": {},
   "source": [
    "There are times when we only need to check part of the pattern as shown in two below examples"
   ]
  },
  {
   "cell_type": "code",
   "execution_count": 31,
   "metadata": {},
   "outputs": [
    {
     "name": "stdout",
     "output_type": "stream",
     "text": [
      "Good Message Received: Correct\n"
     ]
    }
   ],
   "source": [
    "validate = (True, \"Correct\")\n",
    "\n",
    "match validate:\n",
    "    case (True, msg):\n",
    "        print(f\"Good Message Received: {msg}\")\n",
    "    case (False, msg):\n",
    "        print(f\"Bad Message Received: {msg}\")\n",
    "    "
   ]
  },
  {
   "cell_type": "code",
   "execution_count": 32,
   "metadata": {},
   "outputs": [
    {
     "name": "stdout",
     "output_type": "stream",
     "text": [
      "Bad Message Received: Something is wrong\n"
     ]
    }
   ],
   "source": [
    "validate = (False, \"Something is wrong\")\n",
    "\n",
    "match validate:\n",
    "\n",
    "    case (True, msg):\n",
    "        print(f\"Good Message Received: {msg}\")\n",
    "    case (False, msg):\n",
    "        print(f\"Bad Message Received: {msg}\")"
   ]
  },
  {
   "cell_type": "markdown",
   "metadata": {},
   "source": [
    "We can sometime have need to have full match or partial match of pattern as show in two below examples."
   ]
  },
  {
   "cell_type": "code",
   "execution_count": 20,
   "metadata": {},
   "outputs": [
    {
     "name": "stdout",
     "output_type": "stream",
     "text": [
      "Default True message received\n"
     ]
    }
   ],
   "source": [
    "validate = (True, \"Correct\")\n",
    "\n",
    "match validate:\n",
    "    case (True, \"Correct\"):\n",
    "        print(\"Default True message received\")\n",
    "    case (True, msg):\n",
    "        print(f\"Good Message Received: {msg}\")\n",
    "    case (False, msg):\n",
    "        print(f\"Bad Message Received: {msg}\")"
   ]
  },
  {
   "cell_type": "code",
   "execution_count": 33,
   "metadata": {},
   "outputs": [
    {
     "name": "stdout",
     "output_type": "stream",
     "text": [
      "Good Message Received: Yada Yada\n"
     ]
    }
   ],
   "source": [
    "validate = (True, \"Yada Yada\")\n",
    "\n",
    "match validate:\n",
    "    case (True, \"Correct\"):\n",
    "        print(\"Default True message received\")\n",
    "    case (True, msg):\n",
    "        print(f\"Good Message Received: {msg}\")\n",
    "    case (False, msg):\n",
    "        print(f\"Bad Message Received: {msg}\")"
   ]
  },
  {
   "cell_type": "code",
   "execution_count": 35,
   "metadata": {},
   "outputs": [
    {
     "name": "stdout",
     "output_type": "stream",
     "text": [
      "Good Message Received: Correct\n"
     ]
    }
   ],
   "source": [
    "# Only the first full or partial case match code block \n",
    "# will be executed.\n",
    "\n",
    "validate = (True, \"Correct\")\n",
    "\n",
    "match validate:\n",
    "    case (True, msg):\n",
    "        print(f\"Good Message Received: {msg}\")\n",
    "        \n",
    "    case (True, \"Correct\"):\n",
    "        print(\"Default True message received\")\n",
    "    \n",
    "    case (False, msg):\n",
    "        print(f\"Bad Message Received: {msg}\")"
   ]
  },
  {
   "cell_type": "markdown",
   "metadata": {},
   "source": [
    "### Nested patterns"
   ]
  },
  {
   "cell_type": "markdown",
   "metadata": {},
   "source": [
    "We can even match nested patterns as shown in the below example"
   ]
  },
  {
   "cell_type": "code",
   "execution_count": 36,
   "metadata": {},
   "outputs": [
    {
     "name": "stdout",
     "output_type": "stream",
     "text": [
      "Mayank Johri Present\n"
     ]
    }
   ],
   "source": [
    "lst = [\"Mayank\", \"Johri\"]\n",
    "\n",
    "match lst:\n",
    "    case []:\n",
    "        print(\"Nothing present\")\n",
    "    case [\"Mayank\"]:\n",
    "        print(\"Mayank Present\")\n",
    "    case [\"Mayank\", \"Johri\"]:\n",
    "        print(\"Mayank Johri Present\")"
   ]
  },
  {
   "cell_type": "markdown",
   "metadata": {},
   "source": [
    "Now, lets check the below example and compare if with the result of previous example"
   ]
  },
  {
   "cell_type": "code",
   "execution_count": 37,
   "metadata": {},
   "outputs": [
    {
     "name": "stdout",
     "output_type": "stream",
     "text": [
      "Mayank with last_name = 'Johri' Present\n"
     ]
    }
   ],
   "source": [
    "lst = [\"Mayank\", \"Johri\"]\n",
    "\n",
    "match lst:\n",
    "    case []:\n",
    "        print(\"Nothing present\")\n",
    "    case [\"Mayank\", last_name]:\n",
    "        print(f\"Mayank with {last_name = } Present\")\n",
    "    case [\"Mayank\", \"Johri\"]:\n",
    "        print(\"Mayank Johri Present\")"
   ]
  },
  {
   "cell_type": "markdown",
   "metadata": {},
   "source": [
    "### Complex patterns and the wildcard"
   ]
  },
  {
   "cell_type": "markdown",
   "metadata": {},
   "source": [
    "There are times when you just want to check a particular condition and ignore the remaining data. We can achive it by using `_` as shown in the below example.\n",
    "\n",
    "Please note that `_` can be used to ignore only one element as shown in the last example in the section. "
   ]
  },
  {
   "cell_type": "code",
   "execution_count": 38,
   "metadata": {},
   "outputs": [
    {
     "name": "stdout",
     "output_type": "stream",
     "text": [
      "Mayank with _ = '' Present\n"
     ]
    }
   ],
   "source": [
    "lst = [\"Mayank\", \"Johri\"]\n",
    "\n",
    "match lst:\n",
    "    case []:\n",
    "        print(\"Nothing present\")\n",
    "    \n",
    "    case [\"Mayank\", _]:\n",
    "        print(f\"Mayank with {_ = } Present\")\n",
    "        \n",
    "    case [\"Mayank\", last_name]:\n",
    "        print(f\"Mayank with {last_name = } Present\")\n",
    "    \n",
    "    case [\"Mayank\", \"Johri\"]:\n",
    "        print(\"Mayank Johri Present\")"
   ]
  },
  {
   "cell_type": "code",
   "execution_count": 40,
   "metadata": {},
   "outputs": [
    {
     "name": "stdout",
     "output_type": "stream",
     "text": [
      "Mayank with last_name = 'Johri' Present\n"
     ]
    }
   ],
   "source": [
    "lst = [\"Mayank\", \"Johri\"]\n",
    "\n",
    "match lst:\n",
    "    case []:\n",
    "        print(\"Nothing present\")\n",
    "    case [_, \"Johri\", _]:\n",
    "        print(f\"Mayank with { _ = } Present\")\n",
    "    case [\"Mayank\", last_name]:\n",
    "        print(f\"Mayank with {last_name = } Present\")\n",
    "    case [\"Mayank\", \"Johri\"]:\n",
    "        print(\"Mayank Johri Present\")"
   ]
  },
  {
   "cell_type": "code",
   "execution_count": 63,
   "metadata": {},
   "outputs": [
    {
     "name": "stdout",
     "output_type": "stream",
     "text": [
      "Mayank with _ = '' Present\n"
     ]
    }
   ],
   "source": [
    "lst = [\"Mayank\", \"Johri\"]\n",
    "\n",
    "match lst:\n",
    "    case []:\n",
    "        print(\"Nothing present\")\n",
    "    case [_, \"Johri\"]:\n",
    "        print(f\"Mayank with {_ = } Present\")\n",
    "    case [\"Mayank\", last_name]:\n",
    "        print(f\"Mayank with {last_name = } Present\")\n",
    "    case [\"Mayank\", \"Johri\"]:\n",
    "        print(\"Mayank Johri Present\")"
   ]
  },
  {
   "cell_type": "code",
   "execution_count": 65,
   "metadata": {},
   "outputs": [],
   "source": [
    "lst = [\"Shri\", \"Mayank\", \"Johri\"]\n",
    "\n",
    "match lst:\n",
    "    case []:\n",
    "        print(\"Nothing present\")\n",
    "    case [_, \"Johri\", _]:\n",
    "        print(f\"Mayank with {_ = } Present\")\n",
    "    case [\"Mayank\", last_name]:\n",
    "        print(f\"Mayank with {last_name = } Present\")\n",
    "    case [\"Mayank\", \"Johri\"]:\n",
    "        print(\"Mayank Johri Present\")"
   ]
  },
  {
   "cell_type": "code",
   "execution_count": 70,
   "metadata": {},
   "outputs": [
    {
     "name": "stdout",
     "output_type": "stream",
     "text": [
      "_, _, Johri\n"
     ]
    }
   ],
   "source": [
    "lst = [\"Shri\", \"Mayank\", \"Johri\"]\n",
    "\n",
    "match lst:\n",
    "    case []:\n",
    "        print(\"Nothing present\")\n",
    "    case [_, _, \"Johri\"]:\n",
    "        print(f\"_, _, Johri\")\n",
    "    case [\"Mayank\", last_name]:\n",
    "        print(f\"Mayank with {last_name = } Present\")\n",
    "    case [\"Mayank\", \"Johri\"]:\n",
    "        print(\"Mayank Johri Present\")"
   ]
  },
  {
   "cell_type": "markdown",
   "metadata": {},
   "source": [
    "### Guard"
   ]
  },
  {
   "cell_type": "markdown",
   "metadata": {},
   "source": [
    "We can even add `if` conditions in our case as shown below"
   ]
  },
  {
   "cell_type": "code",
   "execution_count": 41,
   "metadata": {},
   "outputs": [
    {
     "name": "stdout",
     "output_type": "stream",
     "text": [
      "_, _, Johri with len == 3 \n"
     ]
    }
   ],
   "source": [
    "lst = [\"Shri\", \"Mayank\", \"Johri\"]\n",
    "\n",
    "match lst:\n",
    "    case []:\n",
    "        print(\"Nothing present\")\n",
    "    \n",
    "    case [_, _, \"Johri\"] if len(lst) == 1:\n",
    "        print(\"_, _, Johri with len == 1\")\n",
    "    \n",
    "    case [_, _, \"Johri\"] if len(lst) == 3:\n",
    "        print(f\"_, _, Johri with len == 3 \")\n",
    "    \n",
    "    case [\"Mayank\", last_name]:\n",
    "        print(f\"Mayank with {last_name = } Present\")\n",
    "    \n",
    "    case [\"Mayank\", \"Johri\"]:\n",
    "        print(\"Mayank Johri Present\")"
   ]
  },
  {
   "cell_type": "markdown",
   "metadata": {},
   "source": [
    "### wildcard patterns "
   ]
  },
  {
   "cell_type": "code",
   "execution_count": 8,
   "metadata": {},
   "outputs": [
    {
     "name": "stdout",
     "output_type": "stream",
     "text": [
      "case [*dummy, Johri] with ignored value dummy = ['Shri', 'Mayank']\n"
     ]
    }
   ],
   "source": [
    "lst = [\"Shri\", \"Mayank\", \"Johri\"]\n",
    "\n",
    "match lst:\n",
    "    case []:\n",
    "        print(\"Nothing present\")\n",
    "    case [*dummy, \"Johri\"]:\n",
    "        print(f\"case [*dummy, Johri] with ignored value {dummy = }\")\n",
    "    case [\"Mayank\", last_name]:\n",
    "        print(f\"Mayank with {last_name = } Present\")\n",
    "    case [\"Mayank\", \"Johri\"]:\n",
    "        print(\"Mayank Johri Present\")"
   ]
  },
  {
   "cell_type": "markdown",
   "metadata": {},
   "source": [
    "Please note that we **can not** use multiple wildcards in the pattern as shown in below example\n",
    "\n",
    "```python\n",
    "lst = [\"Shri\", \"Mayank\", \"Johri\"]\n",
    "\n",
    "match lst:\n",
    "    case []:\n",
    "        print(\"Nothing present\")\n",
    "    case [*s, \"Mayank\", *last_name]:\n",
    "        print(f\"Mayank with {last_name = } Present\")\n",
    "    case [\"Mayank\", \"Johri\"]:\n",
    "        print(\"Mayank Johri Present\")\n",
    "```\n",
    "\n",
    "**Output:**\n",
    "```python\n",
    "  File \"<ipython-input-81-b8f4053d8cd5>\", line 6\n",
    "    case [*s, \"Mayank\", *last_name]:\n",
    "         ^\n",
    "SyntaxError: multiple starred names in sequence pattern\n",
    "```"
   ]
  },
  {
   "cell_type": "markdown",
   "metadata": {},
   "source": [
    "`match` also support complex data type pattern matching as shown in the below example"
   ]
  },
  {
   "cell_type": "code",
   "execution_count": 9,
   "metadata": {},
   "outputs": [
    {
     "name": "stdout",
     "output_type": "stream",
     "text": [
      "Mayank with last_name = ['Johri'] and  s = ['Shri']\n"
     ]
    }
   ],
   "source": [
    "lst = [\"Shri\", (\"Mayank\", \"Johri\")]\n",
    "\n",
    "match lst:\n",
    "    case []:\n",
    "        print(\"Nothing present\")\n",
    "        \n",
    "    case [*s, (\"Mayank\", *last_name)]:\n",
    "        print(f\"Mayank with {last_name = } and { s = }\")\n",
    "    \n",
    "    case [\"Mayank\", \"Johri\"]:\n",
    "        print(\"Mayank Johri Present\")"
   ]
  },
  {
   "cell_type": "code",
   "execution_count": 42,
   "metadata": {},
   "outputs": [],
   "source": [
    "resp = {\"code\": \"200\", \"data\": {\"name\": \"Mayank\", \"surname\": \"Johri\"}}\n",
    "\n",
    "match resp.get(\"code\"):\n",
    "    case {\"code\": \"200\"}:\n",
    "        print(f\"Got {rsp = }\")"
   ]
  },
  {
   "cell_type": "markdown",
   "metadata": {},
   "source": [
    "## References"
   ]
  },
  {
   "cell_type": "markdown",
   "metadata": {},
   "source": [
    "- https://docs.python.org/3/reference/compound_stmts.html\n",
    "- https://docs.python.org/release/3.10.4/whatsnew/3.10.html.0\n",
    "..."
   ]
  }
 ],
 "metadata": {
  "anaconda-cloud": {},
  "kernelspec": {
   "display_name": "Python 3 (ipykernel)",
   "language": "python",
   "name": "python3"
  },
  "language_info": {
   "codemirror_mode": {
    "name": "ipython",
    "version": 3
   },
   "file_extension": ".py",
   "mimetype": "text/x-python",
   "name": "python",
   "nbconvert_exporter": "python",
   "pygments_lexer": "ipython3",
   "version": "3.10.4"
  }
 },
 "nbformat": 4,
 "nbformat_minor": 1
}
