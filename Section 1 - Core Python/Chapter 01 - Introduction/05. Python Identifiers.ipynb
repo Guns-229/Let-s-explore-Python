{
 "cells": [
  {
   "cell_type": "markdown",
   "metadata": {},
   "source": [
    "## Python Identifiers aka Variables"
   ]
  },
  {
   "cell_type": "markdown",
   "metadata": {},
   "source": [
    "In Python, variable names are kind of tags/pointers to the memory location which hosts the data. We can also think of it as a labeled container that can store a **single value**. That single value can be of practically any data type.\n",
    "\n",
    "For easy understanding, we can say, that `identifiers` are names given to data which we want to use in our program. "
   ]
  },
  {
   "cell_type": "markdown",
   "metadata": {},
   "source": [
    "### Storing Values in Variables aka Initializing a Variable:"
   ]
  },
  {
   "cell_type": "markdown",
   "metadata": {},
   "source": [
    "In Python, the declaration & assignation of value to the variable are done at the same time, i.e. as soon as we assign a value to a non-existing or existing variable, the required memory location is assigned to it and proper data is populated in it."
   ]
  },
  {
   "cell_type": "markdown",
   "metadata": {},
   "source": [
    "> **NOTE**: Storing Values in Python is one of the most important concepts and should be understood with great care. "
   ]
  },
  {
   "cell_type": "code",
   "execution_count": 3,
   "metadata": {},
   "outputs": [
    {
     "name": "stdout",
     "output_type": "stream",
     "text": [
      "MAY\n"
     ]
    }
   ],
   "source": [
    "current_month = \"MAY\"\n",
    "print(current_month)"
   ]
  },
  {
   "cell_type": "markdown",
   "metadata": {},
   "source": [
    "In the above line `1`, we are not only defining the variable `current_month` but assigning value `MAY` to it as well. "
   ]
  },
  {
   "cell_type": "markdown",
   "metadata": {},
   "source": [
    "In the above example, `current_month` is the variable name and \"MAY\" is the value associated with it. Operation performed in the first line is called `assignment` and such statements are called `assignment statements`. Lets discuss them in details."
   ]
  },
  {
   "cell_type": "markdown",
   "metadata": {},
   "source": [
    "#### Assignment Statements\n",
    "You’ll store values in variables with an assignment statement. An assignment statement consists of a variable name, an equal sign (called the assignment operator), and the value to be stored. If you enter the assignment statement current_month = \"MAY\", then a variable named `current_month` will be pointing to a memory location which has the string value \"MAY\" stored in it.\n",
    "\n",
    "> In Python, we do not need to declare variable explicitly. They are declared automatically when any value is assigned. The assignment is done using the equal (`=`) operator as shown in the below example:"
   ]
  },
  {
   "cell_type": "code",
   "execution_count": 4,
   "metadata": {},
   "outputs": [],
   "source": [
    "current_month = \"MAY\"\n",
    "date = 10"
   ]
  },
  {
   "cell_type": "markdown",
   "metadata": {},
   "source": [
    "The pictorial representation of variables from above example.\n",
    "<img src=\"files/variables.png\">"
   ]
  },
  {
   "cell_type": "markdown",
   "metadata": {},
   "source": [
    "Now lets perform some actions on the variable `current_month` and observe the changes happening on it. "
   ]
  },
  {
   "cell_type": "code",
   "execution_count": 6,
   "metadata": {},
   "outputs": [
    {
     "name": "stdout",
     "output_type": "stream",
     "text": [
      "ID: 136898260387056 Current Month: MAY\n",
      "ID: 136898404948560 Date: 10\n"
     ]
    }
   ],
   "source": [
    "current_month = \"MAY\"\n",
    "print(\"ID:\", id(current_month), \"Current Month:\", current_month)\n",
    "print(\"ID:\", id(date), \"Date:\", date)"
   ]
  },
  {
   "cell_type": "markdown",
   "metadata": {},
   "source": [
    "In the example shown below, we will reassign a new value `JUNE` to the variable `current_month` and observe the effects of it. \n",
    "\n",
    "Image below shows the process of re-assignation. You will note that a new memory is assigned to the variable instead of using the existing one."
   ]
  },
  {
   "cell_type": "code",
   "execution_count": 7,
   "metadata": {},
   "outputs": [
    {
     "name": "stdout",
     "output_type": "stream",
     "text": [
      "ID: 140198808093488 CurrentMonth: JUNE\n"
     ]
    }
   ],
   "source": [
    "# Re-Assignation of Variables\n",
    "current_month = \"JUNE\"\n",
    "print(\"ID:\", id(current_month), \"CurrentMonth:\", current_month)"
   ]
  },
  {
   "cell_type": "markdown",
   "metadata": {},
   "source": [
    "![Variable after reassination](files/variable_2.png \"Variable after reassination\")"
   ]
  },
  {
   "cell_type": "markdown",
   "metadata": {},
   "source": [
    "`current_month` was initially pointing to memory location containing value `MAY` and after reassination, it was pointing to a **new** memory location containing value `JUNE` and if no other referencing the previous value, then automatically Python GC will clean it at some future time."
   ]
  },
  {
   "cell_type": "code",
   "execution_count": 10,
   "metadata": {},
   "outputs": [
    {
     "name": "stdout",
     "output_type": "stream",
     "text": [
      "ID: 136898357829808 Current Month: July\n"
     ]
    }
   ],
   "source": [
    "current_month = \"July\"\n",
    "print(\"ID:\", id(current_month), \"Current Month:\", current_month)"
   ]
  },
  {
   "cell_type": "code",
   "execution_count": 18,
   "metadata": {},
   "outputs": [
    {
     "name": "stdout",
     "output_type": "stream",
     "text": [
      "ID: 136898357829808 Current Month: July\n"
     ]
    }
   ],
   "source": [
    "# Lets redo it. it might use the same memory location !!!! \n",
    "current_month = \"July\"\n",
    "print(\"ID:\", id(current_month), \"Current Month:\", current_month)"
   ]
  },
  {
   "cell_type": "code",
   "execution_count": 16,
   "metadata": {},
   "outputs": [
    {
     "name": "stdout",
     "output_type": "stream",
     "text": [
      "ID: 136898304904368 Current Month: july\n"
     ]
    }
   ],
   "source": [
    "# Lets redo it with lower case July !!!!\n",
    "current_month = \"july\"\n",
    "print(\"ID:\", id(current_month), \"Current Month:\", current_month)"
   ]
  },
  {
   "cell_type": "code",
   "execution_count": 17,
   "metadata": {},
   "outputs": [
    {
     "name": "stdout",
     "output_type": "stream",
     "text": [
      "ID: 136898304904368 Current Month: july\n"
     ]
    }
   ],
   "source": [
    "# Lets redo it with lower case July !!!! \n",
    "current_month = \"july\"\n",
    "print(\"ID:\", id(current_month), \"Current Month:\", current_month)"
   ]
  },
  {
   "cell_type": "code",
   "execution_count": 20,
   "metadata": {},
   "outputs": [],
   "source": [
    "### More than one variables can point to the same memory location.\n",
    "# This is NOT at COPY, deep or shallow. \n",
    "# Its a simple assignation statement\n",
    "\n",
    "cm = \"MAY\"\n",
    "current_month = cm"
   ]
  },
  {
   "cell_type": "code",
   "execution_count": 21,
   "metadata": {},
   "outputs": [
    {
     "name": "stdout",
     "output_type": "stream",
     "text": [
      "136898260295600 136898260295600\n",
      "cm: MAY and current_month: MAY\n"
     ]
    }
   ],
   "source": [
    "print(id(cm), id(current_month))\n",
    "print(\"cm:\", cm, \"and current_month:\", current_month)"
   ]
  },
  {
   "cell_type": "code",
   "execution_count": 22,
   "metadata": {},
   "outputs": [
    {
     "name": "stdout",
     "output_type": "stream",
     "text": [
      "True\n"
     ]
    }
   ],
   "source": [
    "# Lets use `is` to find if they are pointing to same memory location\n",
    "print(cm is current_month)"
   ]
  },
  {
   "cell_type": "code",
   "execution_count": 20,
   "metadata": {},
   "outputs": [
    {
     "name": "stdout",
     "output_type": "stream",
     "text": [
      "June\n"
     ]
    }
   ],
   "source": [
    "current_month = \"June\"\n",
    "\n",
    "print(current_month)"
   ]
  },
  {
   "cell_type": "code",
   "execution_count": 23,
   "metadata": {},
   "outputs": [
    {
     "name": "stdout",
     "output_type": "stream",
     "text": [
      "136898260295600 136898260295600\n",
      "cm: MAY and current_month: MAY\n"
     ]
    }
   ],
   "source": [
    "print(id(cm), id(current_month))\n",
    "print(\"cm:\", cm, \"and current_month:\", current_month)"
   ]
  },
  {
   "cell_type": "code",
   "execution_count": 24,
   "metadata": {},
   "outputs": [
    {
     "name": "stdout",
     "output_type": "stream",
     "text": [
      "136898260295600 136898260295600\n",
      "cm: MAY and current_month: MAY\n"
     ]
    }
   ],
   "source": [
    "cm = current_month\n",
    "print(id(cm), id(current_month))\n",
    "print(\"cm:\", cm, \"and current_month:\", current_month)"
   ]
  },
  {
   "cell_type": "markdown",
   "metadata": {},
   "source": [
    " Later in the chapter, we will show the above senario with more examples."
   ]
  },
  {
   "cell_type": "code",
   "execution_count": 25,
   "metadata": {},
   "outputs": [
    {
     "name": "stdout",
     "output_type": "stream",
     "text": [
      "136898400177776\n"
     ]
    }
   ],
   "source": [
    "current_month = \"May\"\n",
    "print(id(current_month))\n",
    "next_month = \"JUNE\""
   ]
  },
  {
   "cell_type": "code",
   "execution_count": 26,
   "metadata": {},
   "outputs": [
    {
     "name": "stdout",
     "output_type": "stream",
     "text": [
      "136897652334064 JUNE\n",
      "136897652334064 JUNE\n"
     ]
    }
   ],
   "source": [
    "print(id(next_month), next_month)\n",
    "current_month = \"JUNE\"\n",
    "print(id(current_month), current_month)"
   ]
  },
  {
   "cell_type": "code",
   "execution_count": 40,
   "metadata": {
    "scrolled": true
   },
   "outputs": [
    {
     "name": "stdout",
     "output_type": "stream",
     "text": [
      "Welcome 136897652456880\n",
      "1010 136897989334352\n"
     ]
    }
   ],
   "source": [
    "# Variable pointing to another data type\n",
    "var1 = \"Welcome\"\n",
    "print(var1, id(var1))\n",
    "\n",
    "# lets change the data type of the var1 \n",
    "var1 = 1010\n",
    "print(var1, id(var1))"
   ]
  },
  {
   "cell_type": "markdown",
   "metadata": {},
   "source": [
    "### How to find the reference count of a value"
   ]
  },
  {
   "cell_type": "code",
   "execution_count": 39,
   "metadata": {},
   "outputs": [
    {
     "name": "stdout",
     "output_type": "stream",
     "text": [
      "3\n"
     ]
    }
   ],
   "source": [
    "########## Reference count ###################\n",
    "# NOTE: Please test the below code by saving \n",
    "#       it as a file and executing it instead\n",
    "#       of running it here.\n",
    "#############################################\n",
    "import sys\n",
    "\n",
    "new_var = \"Saturn\"\n",
    "print(sys.getrefcount(new_var))"
   ]
  },
  {
   "cell_type": "markdown",
   "metadata": {},
   "source": [
    "> **NOTE**:\n",
    "\n",
    "> The value of refcount will almost always be more than you think. It is done internally by python to optimize the code. I will be adding more details about it in \"Section 2 -> Chapter: GC & Cleanup\""
   ]
  },
  {
   "cell_type": "markdown",
   "metadata": {},
   "source": [
    "### Multiple Assignment:\n",
    "In multiple assignment, multiple variables are assigned values in a single line. There are two ways multiple assignment can be done in python. In first format all the variables point to the same value and in next all variables point to individual values. "
   ]
  },
  {
   "cell_type": "markdown",
   "metadata": {},
   "source": [
    "#### 1. Assigning single value to multiple variables:"
   ]
  },
  {
   "cell_type": "code",
   "execution_count": 42,
   "metadata": {},
   "outputs": [
    {
     "name": "stdout",
     "output_type": "stream",
     "text": [
      "1000 1000 1000\n"
     ]
    }
   ],
   "source": [
    "x = y = z = 1000\n",
    "\n",
    "print(x, y, z)"
   ]
  },
  {
   "cell_type": "markdown",
   "metadata": {},
   "source": [
    "In the above example, all x, y and z are pointing to same memory location which contains 1000, which we are able to identify by checking the `id` of the variables. They are pointing to the same memory location, thus value of `id` for all three are same. "
   ]
  },
  {
   "cell_type": "code",
   "execution_count": 43,
   "metadata": {},
   "outputs": [
    {
     "name": "stdout",
     "output_type": "stream",
     "text": [
      "x: 1000 id(x): 136897989333840\n",
      "y: 1000 id(y): 136897989333840\n",
      "z: 1000 id(z): 136897989333840\n"
     ]
    }
   ],
   "source": [
    "print(\"x:\", x, \"id(x):\", id(x))\n",
    "print(\"y:\", y, \"id(y):\", id(y))\n",
    "print(\"z:\", z, \"id(z):\", id(z))"
   ]
  },
  {
   "cell_type": "markdown",
   "metadata": {},
   "source": [
    "![files/multi_assignation_1.png](files/multi_assignation_1.png)"
   ]
  },
  {
   "cell_type": "markdown",
   "metadata": {},
   "source": [
    "Now, lets change value of one variable and again check respective `id`es."
   ]
  },
  {
   "cell_type": "code",
   "execution_count": 44,
   "metadata": {
    "scrolled": true
   },
   "outputs": [
    {
     "name": "stdout",
     "output_type": "stream",
     "text": [
      "x: 1001 id(x): 136897989336336\n",
      "y: 1000 id(y): 136897989333840\n",
      "z: 1000 id(z): 136897989333840\n"
     ]
    }
   ],
   "source": [
    "x = x + 1\n",
    "\n",
    "print(\"x:\", x, \"id(x):\", id(x))\n",
    "print(\"y:\", y, \"id(y):\", id(y))\n",
    "print(\"z:\", z, \"id(z):\", id(z))"
   ]
  },
  {
   "cell_type": "markdown",
   "metadata": {},
   "source": [
    "As, we have changed the value of `x` and not performed any operations on `y` and `z` thus they will continue to point to `1000`"
   ]
  },
  {
   "cell_type": "markdown",
   "metadata": {},
   "source": [
    "![files/multi_assignation_2.png](files/multi_assignation_2.png)"
   ]
  },
  {
   "cell_type": "code",
   "execution_count": 45,
   "metadata": {},
   "outputs": [
    {
     "name": "stdout",
     "output_type": "stream",
     "text": [
      "a: 1001 136897989336336\n",
      "x: 1001 136897989336336\n",
      "y: 1000 136897989333840\n",
      "z: 1000 136897989333840\n"
     ]
    }
   ],
   "source": [
    "a = x\n",
    "\n",
    "print('a:', a, id(a))\n",
    "print('x:', x, id(x))\n",
    "print('y:', y, id(y))\n",
    "print('z:', z, id(z))"
   ]
  },
  {
   "cell_type": "markdown",
   "metadata": {},
   "source": [
    "![files/multi_assignation_3.png](files/multi_assignation_3.png)"
   ]
  },
  {
   "cell_type": "code",
   "execution_count": 47,
   "metadata": {},
   "outputs": [
    {
     "name": "stdout",
     "output_type": "stream",
     "text": [
      "1001 136897989336336\n",
      "1001 136897989336336\n",
      "102 136898405139984\n",
      "1000 136897989333840\n"
     ]
    }
   ],
   "source": [
    "y = 102\n",
    "print(a, id(a))\n",
    "print(x, id(x))\n",
    "print(y, id(y))\n",
    "print(z, id(z))"
   ]
  },
  {
   "cell_type": "markdown",
   "metadata": {},
   "source": [
    "Now, lets test something else. Can different data types impact the behavior of python memory optimization. We will first test it with integer, string and then with list.  "
   ]
  },
  {
   "cell_type": "code",
   "execution_count": 6,
   "metadata": {},
   "outputs": [],
   "source": [
    "### INTEGER \n",
    "# If you save the code in script and run \n",
    "# the results might be different.\n",
    "\n",
    "x = 1000\n",
    "y = 1000\n",
    "z = 1000"
   ]
  },
  {
   "cell_type": "code",
   "execution_count": 4,
   "metadata": {},
   "outputs": [
    {
     "name": "stdout",
     "output_type": "stream",
     "text": [
      "x = 1000 id(x) = 129751701659856\n",
      "y = 1000 id(y) = 129751701659920\n",
      "z = 1000 id(z) = 129751701659888\n"
     ]
    }
   ],
   "source": [
    "print(\"x =\", x, \"id(x) =\", id(x))\n",
    "print(\"y =\", y, \"id(y) =\", id(y))\n",
    "print(\"z =\", z, \"id(z) =\", id(z))"
   ]
  },
  {
   "cell_type": "markdown",
   "metadata": {},
   "source": [
    "![files/parallel_data.png](files/parallel_data.png)"
   ]
  },
  {
   "cell_type": "code",
   "execution_count": 54,
   "metadata": {},
   "outputs": [
    {
     "name": "stdout",
     "output_type": "stream",
     "text": [
      "x = 1000 id(x) = 136897652846832\n",
      "y = 1000 id(y) = 136897652846832\n",
      "z = 1000 id(z) = 136897652846832\n"
     ]
    }
   ],
   "source": [
    "### INTEGER \n",
    "x = 1000\n",
    "y = x\n",
    "z = y\n",
    "# same as: x = y = z = 1000\n",
    "\n",
    "print(\"x =\", x, \"id(x) =\", id(x))\n",
    "print(\"y =\", y, \"id(y) =\", id(y))\n",
    "print(\"z =\", z, \"id(z) =\", id(z))"
   ]
  },
  {
   "cell_type": "markdown",
   "metadata": {},
   "source": [
    "> **Special Case**: For integers ranging from -5 to 256"
   ]
  },
  {
   "cell_type": "code",
   "execution_count": 2,
   "metadata": {},
   "outputs": [],
   "source": [
    "### INTEGER \n",
    "x = 24\n",
    "y = 24\n",
    "z = 24"
   ]
  },
  {
   "cell_type": "code",
   "execution_count": 47,
   "metadata": {},
   "outputs": [
    {
     "name": "stdout",
     "output_type": "stream",
     "text": [
      "x = 24 id(x) = 140198932261904\n",
      "y = 24 id(y) = 140198932261904\n",
      "z = 24 id(z) = 140198932261904\n"
     ]
    }
   ],
   "source": [
    "print(\"x =\", x, \"id(x) =\", id(x))\n",
    "print(\"y =\", y, \"id(y) =\", id(y))\n",
    "print(\"z =\", z, \"id(z) =\", id(z))"
   ]
  },
  {
   "cell_type": "code",
   "execution_count": 49,
   "metadata": {},
   "outputs": [],
   "source": [
    "x = 24\n",
    "y = 24\n",
    "z = 24  \n",
    "\n",
    "x = x + 1\n",
    "a = 25"
   ]
  },
  {
   "cell_type": "code",
   "execution_count": 48,
   "metadata": {
    "scrolled": true
   },
   "outputs": [
    {
     "name": "stdout",
     "output_type": "stream",
     "text": [
      "x = 24 id(x) = 140198932261904\n",
      "a = 1001 id(a) = 140198868578256\n",
      "y = 24 id(y) = 140198932261904\n",
      "z = 24 id(z) = 140198932261904\n"
     ]
    }
   ],
   "source": [
    "print(\"x =\", x, \"id(x) =\", id(x))\n",
    "print(\"a =\", a, \"id(a) =\", id(a))\n",
    "print(\"y =\", y, \"id(y) =\", id(y))\n",
    "print(\"z =\", z, \"id(z) =\", id(z))"
   ]
  },
  {
   "cell_type": "code",
   "execution_count": 49,
   "metadata": {},
   "outputs": [],
   "source": [
    "### String\n",
    "x = \"1000\"\n",
    "y = 1000\n",
    "z = \"1000\"  "
   ]
  },
  {
   "cell_type": "code",
   "execution_count": 52,
   "metadata": {},
   "outputs": [
    {
     "name": "stdout",
     "output_type": "stream",
     "text": [
      "x = 1000\n",
      "y = 1000\n",
      "z = 1000\n",
      "id(x) = 140070093382704\n",
      "id(y) = 140070093335856\n",
      "id(z) = 140070093382704\n"
     ]
    }
   ],
   "source": [
    "print(\"x =\", x)  \n",
    "print(\"y =\", y) \n",
    "print(\"z =\", z)  \n",
    "\n",
    "print(\"id(x) =\", id(x))\n",
    "print(\"id(y) =\", id(y))\n",
    "print(\"id(z) =\", id(z))"
   ]
  },
  {
   "cell_type": "markdown",
   "metadata": {},
   "source": [
    "check the id of both x and z, they are same but y is not same."
   ]
  },
  {
   "cell_type": "code",
   "execution_count": 53,
   "metadata": {},
   "outputs": [
    {
     "name": "stdout",
     "output_type": "stream",
     "text": [
      "['1000']\n",
      "[1000]\n",
      "['1000']\n",
      "[1000]\n",
      "140070093384768\n",
      "140070101792192\n",
      "140070101993344\n",
      "140070101982976\n"
     ]
    }
   ],
   "source": [
    "### list\n",
    "x = [\"1000\"]\n",
    "y = [1000]\n",
    "z = [\"1000\"]  \n",
    "a = [1000]\n",
    "print(x)  \n",
    "print(y) \n",
    "print(z)  \n",
    "print(a)  \n",
    "print(id(x))\n",
    "print(id(y))\n",
    "print(id(z))\n",
    "print(id(a))"
   ]
  },
  {
   "cell_type": "markdown",
   "metadata": {},
   "source": [
    "#### 2. Assigning multiple values to multiple variables:"
   ]
  },
  {
   "cell_type": "code",
   "execution_count": 7,
   "metadata": {},
   "outputs": [],
   "source": [
    "# Note: Please dont use this in production, due to \n",
    "# readability issue\n",
    "# This example is only provided to show the feature. \n",
    "\n",
    "x, y, z = \"Kind\", \"Ja\", 10"
   ]
  },
  {
   "cell_type": "code",
   "execution_count": 8,
   "metadata": {},
   "outputs": [
    {
     "name": "stdout",
     "output_type": "stream",
     "text": [
      "x = Kind\n",
      "y = Ja\n",
      "z = 10\n",
      "id(x) = 129751701966768\n",
      "id(y) = 129751701964656\n",
      "id(z) = 129751855012432\n"
     ]
    }
   ],
   "source": [
    "print(\"x =\", x)  \n",
    "print(\"y =\", y) \n",
    "print(\"z =\", z)  \n",
    "\n",
    "print(\"id(x) =\", id(x))\n",
    "print(\"id(y) =\", id(y))\n",
    "print(\"id(z) =\", id(z))"
   ]
  },
  {
   "cell_type": "markdown",
   "metadata": {},
   "source": [
    "> NOTE: Please make sure that the number of variables should be equal to the number of data provided in the statement."
   ]
  },
  {
   "cell_type": "code",
   "execution_count": 15,
   "metadata": {},
   "outputs": [
    {
     "name": "stdout",
     "output_type": "stream",
     "text": [
      "not enough values to unpack (expected 3, got 2) Kind Ja\n"
     ]
    }
   ],
   "source": [
    "# More variables less values.\n",
    "try:\n",
    "    x, y, z = 10, 120\n",
    "except Exception as e:\n",
    "    print(e, x, y)"
   ]
  },
  {
   "cell_type": "code",
   "execution_count": 13,
   "metadata": {},
   "outputs": [
    {
     "name": "stdout",
     "output_type": "stream",
     "text": [
      "too many values to unpack (expected 3) Kind Ja\n"
     ]
    }
   ],
   "source": [
    "# Less variables More values.\n",
    "try:\n",
    "    x, y, z = 10, 120, 29, 30\n",
    "except Exception as e:\n",
    "    # No value is assigned to the variables\n",
    "    # and `x` and `y` are still holding older values\n",
    "    print(e, x, y)"
   ]
  },
  {
   "cell_type": "code",
   "execution_count": 56,
   "metadata": {},
   "outputs": [
    {
     "name": "stdout",
     "output_type": "stream",
     "text": [
      "(10, 20, 30)\n"
     ]
    }
   ],
   "source": [
    "# If we have only one variable, then entire \n",
    "# data set is associated with it. \n",
    "\n",
    "a = 10, 20, 30\n",
    "print(a)"
   ]
  },
  {
   "cell_type": "code",
   "execution_count": 57,
   "metadata": {},
   "outputs": [
    {
     "name": "stdout",
     "output_type": "stream",
     "text": [
      "Welcome\n"
     ]
    }
   ],
   "source": [
    "# Valid variable name but **not recommended**.\n",
    "# Because its a valid name, but not in english thus not \n",
    "# recommended.\n",
    "\n",
    "आईं = \"Welcome\"\n",
    "print(आईं)"
   ]
  },
  {
   "cell_type": "code",
   "execution_count": 17,
   "metadata": {},
   "outputs": [
    {
     "name": "stdout",
     "output_type": "stream",
     "text": [
      "আদৰণি आईं ना স্বাগতম\n",
      "129751701762096 129751744355328 129751701762480\n"
     ]
    }
   ],
   "source": [
    "# Python variable are case sensitive\n",
    "\n",
    "Welcome = \"আদৰণি\"\n",
    "welcome = \"आईं ना\"\n",
    "wElcome = \"স্বাগতম\"\n",
    "print(Welcome, welcome, wElcome)\n",
    "print(id(Welcome), id(welcome), id(wElcome))"
   ]
  },
  {
   "cell_type": "markdown",
   "metadata": {},
   "source": [
    "Although `Welcome`, `welcome` & `wElcome` have data which means `welcome` in various languages, but still not able to convey full meaning of the data."
   ]
  },
  {
   "cell_type": "code",
   "execution_count": 18,
   "metadata": {},
   "outputs": [
    {
     "name": "stdout",
     "output_type": "stream",
     "text": [
      "10 : 20\n"
     ]
    }
   ],
   "source": [
    "a = 10\n",
    "A = 20\n",
    "print(a, \":\", A)"
   ]
  },
  {
   "cell_type": "markdown",
   "metadata": {},
   "source": [
    "### Variable Names & Naming Conventions\n",
    "\n",
    "There are a couple of naming conventions in use in Python:\n",
    "- lower_with_underscores: Uses only lower case letters and connects multiple words with underscores.\n",
    "- UPPER_WITH_UNDERSCORES: Uses only upper case letters and connects multiple words with underscores.\n",
    "- CapitalWords: Capitalize the beginning of each letter in a word; no underscores.\n",
    "\n",
    "With these conventions in mind, here are the naming conventions in use.\n",
    "\n",
    "* **Variable Names**: lower_with_underscores\n",
    "* **Constants:** UPPER_WITH_UNDERSCORES\n",
    "* **Function Names**: lower_with_underscores\n",
    "* **Function Parameters**: lower_with_underscores\n",
    "* **Class Names**: CapitalWords\n",
    "* **Method Names**: lower_with_underscores\n",
    "* **Method Parameters** and Variables: lower_with_underscores\n",
    "* Always use `self` as the first parameter to a method in a class method\n",
    "* To indicate privacy, precede name with a single underscore."
   ]
  },
  {
   "cell_type": "markdown",
   "metadata": {},
   "source": [
    "Options can be used to override the default regular expression associated to each type. The table below lists the types, their associated options, and their default regular expressions."
   ]
  },
  {
   "cell_type": "markdown",
   "metadata": {},
   "source": [
    "|        Type       |         Default Expression        |\n",
    "|:-----------------:|:-----------------------------------------:|\n",
    "|      Argument     | [a-z\\_][a-z0-9\\_]                    |\n",
    "|     Attribute     | [a-z\\_][a-z0-9\\_]                    |\n",
    "|       Class       | [A-Z\\_][a-zA-Z0-9\\_]                       |\n",
    "|      Constant     | [A-Z\\_][A-Z0-9\\_]                   |\n",
    "|      Function     | [a-z\\_][a-z0-9\\_]                    |\n",
    "|       Method      | [a-z\\_][a-z0-9\\_]                    |\n",
    "|       Module      | (([a-z\\_][a-z0-9\\_]), ([A-Z][a-zA-Z0-9])) |\n",
    "|      Variable     | [a-z\\_][a-z0-9\\_]                    |\n",
    "\n",
    "```\n",
    "[a-z_]          [a-z0-9_]\n",
    "first_letter    remaining_letters\n",
    "```"
   ]
  },
  {
   "cell_type": "markdown",
   "metadata": {},
   "source": [
    "> **NOTE**:  *Rules for Variable Names*\n",
    "> <hr/>\n",
    ">\n",
    "> * Only `_` from special characters is allowed in variable name.\n",
    ">\n",
    "> * Variable name **cannot** start with number. **Its the LAW.**"
   ]
  },
  {
   "cell_type": "markdown",
   "metadata": {},
   "source": [
    "### Choosing the variable name"
   ]
  },
  {
   "cell_type": "code",
   "execution_count": 78,
   "metadata": {},
   "outputs": [],
   "source": [
    "# Example of Valid variable names.\n",
    "\n",
    "pm_name = \"Narendra Modi\"\n",
    "prime_minister = \"Narendra Modi\"\n",
    "cong_p_name = \"Rahul Gandhi\"\n",
    "correct_name_of_congress_president = \"Rahul Gandhi\"\n",
    "congress_president = \"Rahul Gandhi\"\n",
    "cname = \"RG\""
   ]
  },
  {
   "cell_type": "markdown",
   "metadata": {},
   "source": [
    "So, chosing a good variable name is important."
   ]
  },
  {
   "cell_type": "markdown",
   "metadata": {},
   "source": [
    "### Good Variable Name\n",
    "\n",
    "- Choose meaningful name instead of short name. `roll_no` is better than `rn`.\n",
    "- Maintain the length of a variable name. `Roll_no_of_a_student` is too long?\n",
    "- Be consistent; `roll_num` or `RollNo` or `rollno` or `rollNo`\n",
    "- Begin a variable name with an underscore(_) character for a special case.\n"
   ]
  },
  {
   "cell_type": "markdown",
   "metadata": {},
   "source": [
    "> **Note**: \n",
    "> <hr>\n",
    "> The variable name should be big enough that it provide proper meaning to the data its holding and still not big enough that you hate typing it."
   ]
  },
  {
   "cell_type": "markdown",
   "metadata": {},
   "source": [
    "`_` is used \n",
    "* To use as ‘Internationalization(i18n)’ or ‘Localization(l10n)’ functions.\n",
    "* To act as a dump variable which can be used for data which are of no use. "
   ]
  },
  {
   "cell_type": "markdown",
   "metadata": {},
   "source": [
    "## Exercises"
   ]
  },
  {
   "cell_type": "markdown",
   "metadata": {},
   "source": [
    "Q: Please find the invalid variables name from the below list\n",
    "```python\n",
    "this_is_my_number\n",
    "THIS_IS_MY_NUMBER \n",
    "ThisIsMyNumber\n",
    "this_is_number \n",
    "anotherVarible\n",
    "This1\n",
    "this1home\n",
    "1This\n",
    "__sd__\n",
    "__sub domain__\n",
    "_sd\n",
    "_sub@domain\n",
    "```"
   ]
  },
  {
   "cell_type": "markdown",
   "metadata": {},
   "source": [
    "Q 1. Find the valid and in-valid variable names from the followings:\n",
    "\n",
    "* balance\n",
    "* current-balance \n",
    "* current balance \n",
    "* current_balance \n",
    "* 4account \n",
    "* _spam \n",
    "* 42 \n",
    "* SPAM \n",
    "* total_$um \n",
    "* account4 \n",
    "* 'hello'  \n",
    "* ସ୍ବାଗତ"
   ]
  },
  {
   "cell_type": "markdown",
   "metadata": {},
   "source": [
    "Q 2. **Multiple Choice Questions & Answers**\n",
    "\n",
    "- Is Python case sensitive when dealing with identifiers?\n",
    "```\n",
    "a) yes\n",
    "b) no\n",
    "c) machine dependent\n",
    "d) none of the mentioned\n",
    "```\n",
    "- What is the maximum possible length of an identifier?\n",
    "```\n",
    "a) 31 characters\n",
    "b) 63 characters\n",
    "c) 79 characters\n",
    "d) none of the mentioned\n",
    "```\n",
    "-  What does local variable names beginning with an underscore mean?\n",
    "```\n",
    "a) they are used to indicate a private variables of a class\n",
    "b) they confuse the interpreter\n",
    "c) they are used to indicate global variables\n",
    "d) None of the \n",
    "```\n",
    "- Which of the following is true for variable names in Python?\n",
    "```\n",
    "a) unlimited length\n",
    "b) Only _ and $ special characters allowed in variable name\n",
    "c) private members should have leading & trailing underscores\n",
    "d) None of the above\n",
    "```"
   ]
  },
  {
   "cell_type": "markdown",
   "metadata": {},
   "source": [
    "Q 3: **Good Code / Bad Code**: Find if the code in question will run or not ( with error message)\n",
    "\n",
    "- \n",
    "```python\n",
    "test1 = 101\n",
    "test2 = \"Arya Sharma\"\n",
    "test3 = test1 + test2\n",
    "```\n"
   ]
  }
 ],
 "metadata": {
  "anaconda-cloud": {},
  "kernelspec": {
   "display_name": "Python 3 (ipykernel)",
   "language": "python",
   "name": "python3"
  },
  "language_info": {
   "codemirror_mode": {
    "name": "ipython",
    "version": 3
   },
   "file_extension": ".py",
   "mimetype": "text/x-python",
   "name": "python",
   "nbconvert_exporter": "python",
   "pygments_lexer": "ipython3",
   "version": "3.9.12"
  }
 },
 "nbformat": 4,
 "nbformat_minor": 1
}
