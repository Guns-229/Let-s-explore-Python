{
 "cells": [
  {
   "cell_type": "markdown",
   "metadata": {},
   "source": [
    "# Decorators"
   ]
  },
  {
   "cell_type": "markdown",
   "metadata": {},
   "source": [
    "> **Note**:\n",
    ">\n",
    "> Read this chapter after reading basics of Functional Programming "
   ]
  },
  {
   "cell_type": "markdown",
   "metadata": {},
   "source": [
    "A decorator is the name used for a software design pattern. They can dynamically alter the functionality of a function, method, or class without having to directly use subclasses or change the source code of the function being decorated.\n",
    "\n",
    "Python decorator is a specific change to the Python syntax that allows us to more conveniently alter functions and methods (and possibly classes in a future version). This supports more readable applications of the Decorator Pattern but also other uses as well.\n",
    "\n",
    "Lets look at the below example."
   ]
  },
  {
   "cell_type": "code",
   "execution_count": 1,
   "metadata": {},
   "outputs": [],
   "source": [
    "def bread(test_funct):\n",
    "    def wheat_bread(filling=\"\"):\n",
    "        print(\"</''''''\\>\")\n",
    "        test_funct(filling)\n",
    "        print(\"<\\______/>\")\n",
    "    return wheat_bread\n",
    "\n",
    "def ingredients(test_funct):\n",
    "    def fillings(ingred=\"\"):\n",
    "        print(\"#tomatoes#\")\n",
    "        test_funct(ingred)\n",
    "        print(\"~salad~\")\n",
    "    return fillings\n",
    "\n",
    "\n",
    "def cheese(food=\"--Say Cheese--\"):\n",
    "    print(food)"
   ]
  },
  {
   "cell_type": "markdown",
   "metadata": {},
   "source": [
    "In the above example, we have two functions `bread` and `ingredients` which have inner functions and a third normal function whose functionality we will change.\n",
    "\n",
    "In both `bread` and `ingredients` we can pass another function as a parameter and in the below code we are going to pass `cheese` to both the functions. "
   ]
  },
  {
   "cell_type": "code",
   "execution_count": 3,
   "metadata": {},
   "outputs": [
    {
     "name": "stdout",
     "output_type": "stream",
     "text": [
      "bread_cheese = <function bread.<locals>.wheat_bread at 0x7e256031adc0>\n",
      "...\n",
      "bread_cheese_1 = <function bread.<locals>.wheat_bread at 0x7e256031ab80>\n"
     ]
    }
   ],
   "source": [
    "bread_cheese = bread(cheese)\n",
    "print(f\"{bread_cheese = }\")\n",
    "print(\"...\")\n",
    "\n",
    "bread_cheese_1 = bread(cheese)\n",
    "print(f\"{bread_cheese_1 = }\")"
   ]
  },
  {
   "cell_type": "markdown",
   "metadata": {},
   "source": [
    "Passing `cheese` to function `bread` as a parameter returned the inner functon `wheat_bread` with `test_funct` pointing to `cheese` function. \n",
    "\n",
    "Now if we call the returned function with some data `Egg Plant` in our case, it will first execute the `test_funct` which internally will call `cheese` function as shown below."
   ]
  },
  {
   "cell_type": "code",
   "execution_count": 5,
   "metadata": {},
   "outputs": [
    {
     "name": "stdout",
     "output_type": "stream",
     "text": [
      "</''''''\\>\n",
      "Egg Plant\n",
      "<\\______/>\n"
     ]
    }
   ],
   "source": [
    "bread_cheese(\"Egg Plant\")"
   ]
  },
  {
   "cell_type": "code",
   "execution_count": 4,
   "metadata": {},
   "outputs": [
    {
     "name": "stdout",
     "output_type": "stream",
     "text": [
      "</''''''\\>\n",
      "#tomatoes#\n",
      "Potato Chips\n",
      "~salad~\n",
      "<\\______/>\n"
     ]
    }
   ],
   "source": [
    "inn = bread(ingredients(cheese))\n",
    "inn(\"Potato Chips\")"
   ]
  },
  {
   "cell_type": "code",
   "execution_count": 9,
   "metadata": {},
   "outputs": [
    {
     "name": "stdout",
     "output_type": "stream",
     "text": [
      "#tomatoes#\n",
      "</''''''\\>\n",
      "Potato Chips\n",
      "<\\______/>\n",
      "~salad~\n"
     ]
    }
   ],
   "source": [
    "inn = ingredients(bread(cheese))\n",
    "inn(\"Potato Chips\")"
   ]
  },
  {
   "cell_type": "markdown",
   "metadata": {},
   "source": [
    "## Function Decorators"
   ]
  },
  {
   "cell_type": "markdown",
   "metadata": {},
   "source": [
    "A function decorator is applied to a function definition by placing it on the line before that function definition begins"
   ]
  },
  {
   "cell_type": "code",
   "execution_count": 6,
   "metadata": {
    "scrolled": true
   },
   "outputs": [
    {
     "name": "stdout",
     "output_type": "stream",
     "text": [
      "</''''''\\>\n",
      "#tomatoes#\n",
      "Potato Chips\n",
      "~salad~\n",
      "<\\______/>\n"
     ]
    }
   ],
   "source": [
    "@bread\n",
    "@ingredients\n",
    "def sandwich(food=\"--Say Cheese--\"):\n",
    "    print(food)\n",
    "\n",
    "sandwich(\"Potato Chips\")"
   ]
  },
  {
   "cell_type": "markdown",
   "metadata": {},
   "source": [
    "> ***!!! Order Matters !!!*** \n",
    ">\n",
    "> Order in which we place our decorators matter as shown in below examples."
   ]
  },
  {
   "cell_type": "code",
   "execution_count": 7,
   "metadata": {},
   "outputs": [
    {
     "name": "stdout",
     "output_type": "stream",
     "text": [
      "#tomatoes#\n",
      "</''''''\\>\n",
      "Kashimiri Mirch\n",
      "<\\______/>\n",
      "~salad~\n"
     ]
    }
   ],
   "source": [
    "@ingredients\n",
    "@bread\n",
    "def sandwich(food=\"--Say Cheese--\"):\n",
    "    print(food)\n",
    "\n",
    "sandwich(\"Kashimiri Mirch\")"
   ]
  },
  {
   "cell_type": "code",
   "execution_count": 8,
   "metadata": {},
   "outputs": [
    {
     "name": "stdout",
     "output_type": "stream",
     "text": [
      "Jam\n"
     ]
    }
   ],
   "source": [
    "def Jam(food=\"Jam\"):\n",
    "    print(food)\n",
    "\n",
    "Jam()"
   ]
  },
  {
   "cell_type": "code",
   "execution_count": 9,
   "metadata": {},
   "outputs": [
    {
     "name": "stdout",
     "output_type": "stream",
     "text": [
      "</''''''\\>\n",
      "#tomatoes#\n",
      "Jam\n",
      "~salad~\n",
      "<\\______/>\n"
     ]
    }
   ],
   "source": [
    "@bread\n",
    "@ingredients\n",
    "def Jam(food):\n",
    "    print(food)\n",
    "\n",
    "Jam(\"Jam\")"
   ]
  },
  {
   "cell_type": "markdown",
   "metadata": {},
   "source": [
    "So, my `Jam` is doing more than what originally it was designed to do. "
   ]
  },
  {
   "cell_type": "code",
   "execution_count": 10,
   "metadata": {},
   "outputs": [
    {
     "name": "stdout",
     "output_type": "stream",
     "text": [
      "Yummy\n"
     ]
    }
   ],
   "source": [
    "def sandwich(food=\"--Say Cheese--\"):\n",
    "    print(food)\n",
    "\n",
    "sandwich(\"Yummy\")"
   ]
  },
  {
   "cell_type": "code",
   "execution_count": 14,
   "metadata": {},
   "outputs": [
    {
     "name": "stdout",
     "output_type": "stream",
     "text": [
      "</''''''\\>\n",
      "<\\______/>\n"
     ]
    }
   ],
   "source": [
    "# By omiting the `inner_funct in `inner`, I am making sure that my decorated \n",
    "# function is very called. \n",
    "\n",
    "def diet_sandwitch(_):\n",
    "    def inner(c):\n",
    "        ...  # Using Ellipsis\n",
    "    return inner\n",
    "\n",
    "@bread\n",
    "@diet_sandwitch\n",
    "@ingredients\n",
    "def sandwich(food=\"--Say Cheese--\"):\n",
    "    print(food)\n",
    "\n",
    "sandwich(\"Yummy\")"
   ]
  },
  {
   "cell_type": "code",
   "execution_count": 18,
   "metadata": {},
   "outputs": [
    {
     "name": "stdout",
     "output_type": "stream",
     "text": [
      "inside diet_sandwitch\n"
     ]
    }
   ],
   "source": [
    "# Re-adding the calling of `inner_func` in `inner`.\n",
    "\n",
    "def diet_sandwitch(inner_func):\n",
    "    print(\"inside diet_sandwitch\")\n",
    "    def inner(c):\n",
    "        print(\"salad\")\n",
    "        inner_func(c)\n",
    "    return inner\n",
    "\n",
    "@bread\n",
    "@diet_sandwitch\n",
    "@ingredients\n",
    "def sandwich(food=\"--Say Cheese--\"):\n",
    "    print(food)"
   ]
  },
  {
   "cell_type": "code",
   "execution_count": 17,
   "metadata": {},
   "outputs": [
    {
     "name": "stdout",
     "output_type": "stream",
     "text": [
      "</''''''\\>\n",
      "salad\n",
      "#tomatoes#\n",
      "Yummy\n",
      "~salad~\n",
      "<\\______/>\n"
     ]
    }
   ],
   "source": [
    "sandwich(\"Yummy\")"
   ]
  },
  {
   "cell_type": "code",
   "execution_count": 13,
   "metadata": {},
   "outputs": [
    {
     "name": "stdout",
     "output_type": "stream",
     "text": [
      "in onexit\n",
      "Test\n"
     ]
    }
   ],
   "source": [
    "# def onexit(f):\n",
    "#     import atexit\n",
    "#     atexit.register(f)\n",
    "#     print(\"in onexit\")\n",
    "#     return f\n",
    "\n",
    "# @onexit\n",
    "# def sandwich(food=\"--Say Cheese--\"):\n",
    "#     print(food)\n",
    "    \n",
    "# sandwich(\"Test\")"
   ]
  },
  {
   "cell_type": "markdown",
   "metadata": {},
   "source": [
    "## Decorators with arguments"
   ]
  },
  {
   "cell_type": "markdown",
   "metadata": {},
   "source": [
    "### Using Functions"
   ]
  },
  {
   "cell_type": "markdown",
   "metadata": {},
   "source": [
    "We can create a function which can take an argument and wrap the original decorator inside as shown in below code sample."
   ]
  },
  {
   "cell_type": "code",
   "execution_count": 20,
   "metadata": {},
   "outputs": [
    {
     "name": "stdout",
     "output_type": "stream",
     "text": [
      "Level 1 Start\n",
      ".count = 5\n",
      "Level 1 Ends\n",
      "Level 2 Start\n",
      ".. count = 5\n",
      "TEST\n",
      "TEST\n",
      "TEST\n",
      "TEST\n",
      "TEST\n",
      "Level 2 Ends\n"
     ]
    }
   ],
   "source": [
    "def run_me(count=1):\n",
    "    \"\"\"Level 1\"\"\"\n",
    "    print(\"Level 1 Start\")\n",
    "    print(f\".{count = }\")\n",
    "    \n",
    "    def __inner__(func):\n",
    "        \"\"\"Level 2\"\"\"\n",
    "        print(\"Level 2 Start\")\n",
    "        print(f\".. {count = }\")\n",
    "        for _ in range(count):\n",
    "            func()\n",
    "        print(\"Level 2 Ends\")\n",
    "        \n",
    "    print(\"Level 1 Ends\")\n",
    "    return __inner__\n",
    "\n",
    "\n",
    "@run_me(5)\n",
    "def print_args():\n",
    "    \"\"\" print_args function\"\"\"\n",
    "    print(\"TEST\")"
   ]
  },
  {
   "cell_type": "code",
   "execution_count": 66,
   "metadata": {},
   "outputs": [
    {
     "name": "stdout",
     "output_type": "stream",
     "text": [
      "'NoneType' object has no attribute '__name__'\n"
     ]
    }
   ],
   "source": [
    "try:\n",
    "    print(f\"{print_args.__name__ = }\")\n",
    "    print(f\"{print_args.__doc__ = }\")\n",
    "except Exception as e:\n",
    "    print(e)"
   ]
  },
  {
   "cell_type": "code",
   "execution_count": 21,
   "metadata": {},
   "outputs": [],
   "source": [
    "def decorator_factory(*argument):\n",
    "    def decorator(function):\n",
    "        def wrapper(*args, **kwargs):\n",
    "            print(\"Inside wrapper...Before\")\n",
    "            print(f\"{argument = },\\n{args = },\\n{kwargs = }\")\n",
    "            result = function(*args, **kwargs)\n",
    "            print(\"Inside wrapper...After\")\n",
    "            return result\n",
    "        \n",
    "        return wrapper\n",
    "    \n",
    "    return decorator\n",
    "\n",
    "\n",
    "@decorator_factory(\"arg1\")\n",
    "def print_args(*args, **kwargs):\n",
    "    print(\"TEST\")\n",
    "    for arg in args:\n",
    "        print(\"arg\", arg)\n",
    "    for k, v in kwargs.items():\n",
    "        print(\"kwargs\", k, v)"
   ]
  },
  {
   "cell_type": "code",
   "execution_count": 22,
   "metadata": {},
   "outputs": [
    {
     "name": "stdout",
     "output_type": "stream",
     "text": [
      "Inside wrapper...Before\n",
      "argument = ('arg1',),\n",
      "args = (1, 2, 3),\n",
      "kwargs = {'test': 11}\n",
      "TEST\n",
      "arg 1\n",
      "arg 2\n",
      "arg 3\n",
      "kwargs test 11\n",
      "Inside wrapper...After\n"
     ]
    }
   ],
   "source": [
    "print_args(1, 2 , 3, test=11)"
   ]
  },
  {
   "cell_type": "markdown",
   "metadata": {},
   "source": [
    "Level 1: Decorator Arguments\n",
    "\n",
    "Level 2: Function \n",
    "\n",
    "Level 3: Function Call Arguments"
   ]
  },
  {
   "cell_type": "code",
   "execution_count": 124,
   "metadata": {},
   "outputs": [
    {
     "name": "stdout",
     "output_type": "stream",
     "text": [
      "Level 1 Start\n",
      "Level 1 Ends\n",
      "Level 2 Start\n",
      "Level 2 Ends - <function corps_fun.<locals>.decorator.<locals>.inner at 0x7f3f1860b010>\n"
     ]
    }
   ],
   "source": [
    "def corps_fun(*deco_args, **deco_kwargs):\n",
    "    \"\"\"Level 1\"\"\"\n",
    "    print(\"Level 1 Start\")\n",
    "    \n",
    "    def decorator(func):\n",
    "        \"\"\"Level 2\"\"\"\n",
    "        print(\"Level 2 Start\")\n",
    "\n",
    "        def inner(*args, **kwargs):\n",
    "            \"\"\"Level 3\"\"\"\n",
    "            print(\"Level 3 Start\")\n",
    "            print(\"inside inner args:\", deco_args)\n",
    "            for k, v in deco_kwargs.items():\n",
    "                print(\"inside inner kwars:\", k, v)\n",
    "            print(\"deco_kwargs:\", deco_kwargs)\n",
    "            print(*args, kwargs)\n",
    "            result = func(*args, **kwargs)\n",
    "            print(\"Level 3 Ends\")\n",
    "            return result\n",
    "        print(f\"Level 2 Ends - {inner}\")\n",
    "        return inner\n",
    "    print(\"Level 1 Ends\")\n",
    "    return decorator\n",
    "\n",
    "\n",
    "@corps_fun(\"arg1\", \"arg2\")\n",
    "def print_args(*args, **kwargs):\n",
    "    print(\"TEST\")\n",
    "    for arg in args:\n",
    "        print(\"arg\", arg)\n",
    "    for k, v in kwargs.items():\n",
    "        print(\"kwargs\", k, v)"
   ]
  },
  {
   "cell_type": "code",
   "execution_count": 125,
   "metadata": {},
   "outputs": [
    {
     "name": "stdout",
     "output_type": "stream",
     "text": [
      "Level 3 Start\n",
      "inside inner args: ('arg1', 'arg2')\n",
      "deco_kwargs: {}\n",
      "1 2 3 {'corp': 'Bhopal Municipal Corporation'}\n",
      "TEST\n",
      "arg 1\n",
      "arg 2\n",
      "arg 3\n",
      "kwargs corp Bhopal Municipal Corporation\n",
      "Level 3 Ends\n"
     ]
    }
   ],
   "source": [
    "print_args(1, 2, 3, corp=\"Bhopal Municipal Corporation\")"
   ]
  },
  {
   "cell_type": "code",
   "execution_count": 122,
   "metadata": {},
   "outputs": [
    {
     "name": "stdout",
     "output_type": "stream",
     "text": [
      "deco_args=('arg1', 'arg2'), deco_kwargs={}\n",
      "func=<function print_args at 0x7f3f186097e0>\n"
     ]
    }
   ],
   "source": [
    "def decorator(*deco_args, **deco_kwargs):\n",
    "    print(f\"{deco_args=}, {deco_kwargs=}\")\n",
    "    \n",
    "    def real_decorator(func):\n",
    "        print(f\"{func=}\")\n",
    "        \n",
    "        def inner(*args, **kwargs):\n",
    "            print(f\"inside inner args: {args = }\")\n",
    "            print(f\"inside inner kwargs: {kwargs = }\")\n",
    "            # Calling the actual function\n",
    "            func(*args, **kwargs)\n",
    "        return inner\n",
    "    return real_decorator\n",
    "\n",
    "\n",
    "@decorator(\"arg1\", \"arg2\")\n",
    "def print_args(*args, **kwargs):\n",
    "    print(\".TEST\")\n",
    "    for arg in args:\n",
    "        print(\".arg\", arg)\n",
    "    for k, v in kwargs.items():\n",
    "        print(\".kwargs\", k, v)"
   ]
  },
  {
   "cell_type": "code",
   "execution_count": 123,
   "metadata": {},
   "outputs": [
    {
     "name": "stdout",
     "output_type": "stream",
     "text": [
      "inside inner args: args = (1, 2, 3)\n",
      "inside inner kwargs: kwargs = {'corp': 'Bhopal Municipal Corporation'}\n",
      ".TEST\n",
      ".arg 1\n",
      ".arg 2\n",
      ".arg 3\n",
      ".kwargs corp Bhopal Municipal Corporation\n"
     ]
    }
   ],
   "source": [
    "print_args(1, 2, 3, corp=\"Bhopal Municipal Corporation\")"
   ]
  },
  {
   "cell_type": "code",
   "execution_count": 43,
   "metadata": {},
   "outputs": [
    {
     "name": "stdout",
     "output_type": "stream",
     "text": [
      "deco_args=('arg1', 'arg2'), deco_kwargs={'ver': '10.2.301'}\n",
      "func=<function print_args at 0x7f3f1860a320>\n"
     ]
    }
   ],
   "source": [
    "@decorator(\"arg1\", \"arg2\", ver=\"10.2.301\")\n",
    "def print_args(*args, **kwargs):\n",
    "    print(\"TEST\")\n",
    "    for arg in args:\n",
    "        print(\"arg\", arg)\n",
    "    for k, v in kwargs.items():\n",
    "        print(\"kwargs\", k, v)"
   ]
  },
  {
   "cell_type": "code",
   "execution_count": 17,
   "metadata": {},
   "outputs": [
    {
     "name": "stdout",
     "output_type": "stream",
     "text": [
      "inside inner args: (1, 2, 3)\n",
      "inside inner kwargs: {'corp': 'Bhopal Municipal Corporation'}\n",
      "TEST\n",
      "arg 1\n",
      "arg 2\n",
      "arg 3\n",
      "kwargs corp Bhopal Municipal Corporation\n"
     ]
    }
   ],
   "source": [
    "print_args(1, 2, 3, corp=\"Bhopal Municipal Corporation\")"
   ]
  },
  {
   "cell_type": "code",
   "execution_count": 18,
   "metadata": {},
   "outputs": [],
   "source": [
    "def decorator(*deco_args, **deco_kwargs):\n",
    "    def real_decorator(func):\n",
    "        def inner(*args, **kwargs):\n",
    "            print(\"inside inner args:\", args)\n",
    "            print(\"inside inner kwargs:\", kwargs)\n",
    "            # Calling the actual function\n",
    "            if args[0] == 0:\n",
    "                func(*args, **kwargs)\n",
    "        return inner\n",
    "    return real_decorator\n",
    "\n",
    "\n",
    "@decorator(\"arg1\", \"arg2\")\n",
    "def print_args(*args, **kwargs):\n",
    "    print(\"TEST\")\n",
    "    for arg in args:\n",
    "        print(\"arg\", arg)\n",
    "    for k, v in kwargs.items():\n",
    "        print(\"kwargs\", k, v)"
   ]
  },
  {
   "cell_type": "code",
   "execution_count": 19,
   "metadata": {},
   "outputs": [
    {
     "name": "stdout",
     "output_type": "stream",
     "text": [
      "inside inner args: (1, 2, 3)\n",
      "inside inner kwargs: {'corp': 'Bhopal Municipal Corporation'}\n"
     ]
    }
   ],
   "source": [
    "print_args(1, 2, 3, corp=\"Bhopal Municipal Corporation\")"
   ]
  },
  {
   "cell_type": "code",
   "execution_count": 20,
   "metadata": {},
   "outputs": [
    {
     "name": "stdout",
     "output_type": "stream",
     "text": [
      "inside inner args: (0, 1, 2, 3)\n",
      "inside inner kwargs: {'corp': 'Bhopal Municipal Corporation'}\n",
      "TEST\n",
      "arg 0\n",
      "arg 1\n",
      "arg 2\n",
      "arg 3\n",
      "kwargs corp Bhopal Municipal Corporation\n"
     ]
    }
   ],
   "source": [
    "print_args(0, 1, 2, 3, corp=\"Bhopal Municipal Corporation\")"
   ]
  },
  {
   "cell_type": "markdown",
   "metadata": {},
   "source": [
    "In the above example, we bypassed the execution of actual function itself."
   ]
  },
  {
   "cell_type": "markdown",
   "metadata": {},
   "source": [
    "Python provides `wrapper` function of `functools` in order to ease the debugging of decorators, thus its adviced to use them while creating the decorators."
   ]
  },
  {
   "cell_type": "code",
   "execution_count": 56,
   "metadata": {},
   "outputs": [
    {
     "name": "stdout",
     "output_type": "stream",
     "text": [
      "Else ('arg1', 'arg2')\n",
      "arg = 1\n",
      "arg = 2\n",
      "arg = 3\n",
      "k = 'd', v = 'Satyam'\n"
     ]
    }
   ],
   "source": [
    "from functools import wraps\n",
    "\n",
    "def decorator(*deco_args, **deco_kwargs):\n",
    "    method_or_name = deco_args\n",
    "    \n",
    "    def real_decorator(method):    \n",
    "        if callable(method_or_name):\n",
    "            print(\"if\", method_or_name)\n",
    "            method.gw_method = method.__name__\n",
    "        else:\n",
    "            print(\"Else\", method_or_name)\n",
    "            method.gw_method = method_or_name\n",
    "\n",
    "        @wraps(method)\n",
    "        def wrapper(*args, **kwargs):\n",
    "            method(*args, **kwargs)\n",
    "        return wrapper\n",
    "    \n",
    "    if callable(method_or_name):\n",
    "        return real_decorator(method_or_name)\n",
    "    return real_decorator\n",
    "\n",
    "@decorator(\"arg1\", \"arg2\", test=\"test\")\n",
    "def print_args(*args, **kwargs):\n",
    "    \"\"\"\n",
    "    Custom Print Function \n",
    "    \"\"\"\n",
    "    for arg in args:\n",
    "        print(f\"{arg = }\")\n",
    "    for k, v in kwargs.items():\n",
    "        print(f\"{k = }, {v = }\")\n",
    "\n",
    "print_args(1, 2, 3, d=\"Satyam\")"
   ]
  },
  {
   "cell_type": "code",
   "execution_count": 57,
   "metadata": {},
   "outputs": [
    {
     "name": "stdout",
     "output_type": "stream",
     "text": [
      "print_args.__name__ = 'print_args'\n",
      "print_args.__doc__ = '\\n    Custom Print Function \\n    '\n"
     ]
    }
   ],
   "source": [
    "print(f\"{print_args.__name__ = }\")\n",
    "print(f\"{print_args.__doc__ = }\")"
   ]
  },
  {
   "cell_type": "markdown",
   "metadata": {},
   "source": [
    "#### Conditional Decorators"
   ]
  },
  {
   "cell_type": "markdown",
   "metadata": {},
   "source": [
    "There are scenarios were we want to run the decorators only under certain condition, although Python do not natively support it, but we can achieve it with the following code template."
   ]
  },
  {
   "cell_type": "code",
   "execution_count": 68,
   "metadata": {},
   "outputs": [
    {
     "name": "stdout",
     "output_type": "stream",
     "text": [
      "Flag not found\n",
      "...done....\n"
     ]
    }
   ],
   "source": [
    "def condition(**deco_kwargs):\n",
    "    \n",
    "    def __decorator__(func):\n",
    "    \n",
    "        def __inner__(*args, **kwargs):\n",
    "            if deco_kwargs.get('flag', False):\n",
    "                print(\"Flag found\")\n",
    "                return func(*args, **kwargs)\n",
    "            else:\n",
    "                print(\"Flag not found\")\n",
    "            \n",
    "        return __inner__\n",
    "    return __decorator__\n",
    "        \n",
    "\n",
    "def decorator(func):\n",
    "    def inner(*args, **kwargs):\n",
    "        print(\"Yadayada _ in inner\")\n",
    "        print(*args, **kwargs)\n",
    "        print(args)\n",
    "        for k, v in kwargs.items():\n",
    "            print(k, v)\n",
    "        func(*args, **kwargs)\n",
    "    return inner\n",
    "\n",
    "debug = False\n",
    "\n",
    "@condition(flag=debug)\n",
    "@decorator\n",
    "def print_args(*args, **kwargs):\n",
    "    for arg in args:\n",
    "        print(arg)\n",
    "    for k, v in kwargs.items():\n",
    "        print(k, v)\n",
    "\n",
    "\n",
    "print_args(1, 2)\n",
    "print(\"...done....\")"
   ]
  },
  {
   "cell_type": "markdown",
   "metadata": {},
   "source": [
    "In the above example, any decorator below `condition` will not run, but if there were any decorators above it, they will still get partially executed. "
   ]
  },
  {
   "cell_type": "code",
   "execution_count": 70,
   "metadata": {},
   "outputs": [
    {
     "name": "stdout",
     "output_type": "stream",
     "text": [
      "Yadayada _ in inner\n",
      "1 2\n",
      "(1, 2)\n",
      "1\n",
      "2\n"
     ]
    }
   ],
   "source": [
    "debug = True\n",
    "\n",
    "def condition(**deco_kwargs):\n",
    "    def __decorator__(func):\n",
    "        def __inner__(*args, **kwargs):\n",
    "            if deco_kwargs.get('flag', False):\n",
    "                return func(*args, **kwargs)\n",
    "        return __inner__\n",
    "    return __decorator__\n",
    "        \n",
    "\n",
    "def decorator(func):\n",
    "    def inner(*args, **kwargs):\n",
    "        print(\"Yadayada _ in inner\")\n",
    "        print(*args, **kwargs)\n",
    "        print(args)\n",
    "        for k, v in kwargs.items():\n",
    "            print(k, v)\n",
    "        func(*args, **kwargs)\n",
    "    return inner\n",
    "\n",
    "@condition(flag=debug)\n",
    "@decorator\n",
    "def print_args(*args, **kwargs):\n",
    "    for arg in args:\n",
    "        print(arg)\n",
    "    for k, v in kwargs.items():\n",
    "        print(k, v)\n",
    "\n",
    "\n",
    "print_args(1, 2)"
   ]
  },
  {
   "cell_type": "markdown",
   "metadata": {},
   "source": [
    "### Context Managers as Decorators "
   ]
  },
  {
   "cell_type": "markdown",
   "metadata": {},
   "source": [
    "Context managers can also be used as decorators, as shown below (https://docs.python.org/dev/library/contextlib.html#contextlib.ContextDecorator)"
   ]
  },
  {
   "cell_type": "code",
   "execution_count": 23,
   "metadata": {},
   "outputs": [],
   "source": [
    "from contextlib import ContextDecorator\n",
    "\n",
    "class mycontext(ContextDecorator):\n",
    "    def __enter__(self):\n",
    "        print('Starting')\n",
    "        return self\n",
    "\n",
    "    def __exit__(self, *exc):\n",
    "        print('Finishing')\n",
    "        return False\n",
    "\n",
    "@mycontext()\n",
    "def function():\n",
    "    print('The bit in the middle')"
   ]
  },
  {
   "cell_type": "code",
   "execution_count": 24,
   "metadata": {},
   "outputs": [
    {
     "name": "stdout",
     "output_type": "stream",
     "text": [
      "Starting\n",
      "The bit in the middle\n",
      "Finishing\n"
     ]
    }
   ],
   "source": [
    "function()"
   ]
  },
  {
   "cell_type": "code",
   "execution_count": 25,
   "metadata": {},
   "outputs": [
    {
     "name": "stdout",
     "output_type": "stream",
     "text": [
      "Starting\n",
      "This is function 2\n",
      "Finishing\n"
     ]
    }
   ],
   "source": [
    "def function_2():\n",
    "    print(\"This is function 2\")\n",
    "    \n",
    "with mycontext() as t: \n",
    "    function_2()"
   ]
  },
  {
   "cell_type": "code",
   "execution_count": 27,
   "metadata": {},
   "outputs": [
    {
     "name": "stdout",
     "output_type": "stream",
     "text": [
      "Starting\n",
      "Finishing\n",
      "Error: Raising Error\n"
     ]
    }
   ],
   "source": [
    "from contextlib import ContextDecorator\n",
    "\n",
    "class mycontext(ContextDecorator):\n",
    "    def __enter__(self):\n",
    "        print('Starting')\n",
    "        return self\n",
    "\n",
    "    def __exit__(self, *exc):\n",
    "        print('Finishing')\n",
    "        return False\n",
    "\n",
    "@mycontext()\n",
    "def function():\n",
    "    raise Exception(\"Raising Error\")\n",
    "    print('The bit in the middle')\n",
    "\n",
    "try:\n",
    "    function()\n",
    "except Exception as e:\n",
    "    print(\"Error:\", e)"
   ]
  },
  {
   "cell_type": "markdown",
   "metadata": {},
   "source": [
    "In the above example, although the exception was not handled, yet, `__end__` funtion was called by python"
   ]
  },
  {
   "cell_type": "markdown",
   "metadata": {},
   "source": [
    "## Decorators & Classes"
   ]
  },
  {
   "cell_type": "markdown",
   "metadata": {},
   "source": [
    "We can apply decorators on classes in two ways.\n",
    "\n",
    "- Decorator(s) on methods\n",
    "- Decorator(s) on classes\n",
    "\n",
    "Before we discuss it in details, a bit of understanding is in order. \n",
    "\n",
    "So Lets begin"
   ]
  },
  {
   "cell_type": "markdown",
   "metadata": {},
   "source": [
    "### Decorator(s) on methods"
   ]
  },
  {
   "cell_type": "markdown",
   "metadata": {
    "collapsed": true
   },
   "source": [
    "#### Bound methods"
   ]
  },
  {
   "cell_type": "markdown",
   "metadata": {},
   "source": [
    "Unless you tell it not to, Python will create what is called a bound method when a function is an attribute of a class and you access it via an instance of a class. This may sound complicated but it does exactly what you want."
   ]
  },
  {
   "cell_type": "code",
   "execution_count": 75,
   "metadata": {},
   "outputs": [
    {
     "data": {
      "text/plain": [
       "<bound method A.method of <__main__.A object at 0x7f3f1a7499c0>>"
      ]
     },
     "execution_count": 75,
     "metadata": {},
     "output_type": "execute_result"
    }
   ],
   "source": [
    "class A(object):\n",
    "    def method(*argv):\n",
    "        return argv\n",
    "a = A()\n",
    "a.method"
   ]
  },
  {
   "cell_type": "code",
   "execution_count": 18,
   "metadata": {},
   "outputs": [
    {
     "data": {
      "text/plain": [
       "('an arg',)"
      ]
     },
     "execution_count": 18,
     "metadata": {},
     "output_type": "execute_result"
    }
   ],
   "source": [
    "a.method('an arg')"
   ]
  },
  {
   "cell_type": "markdown",
   "metadata": {},
   "source": [
    "#### Examples of decorators on methods"
   ]
  },
  {
   "cell_type": "markdown",
   "metadata": {},
   "source": [
    "##### staticmethod()\n",
    "\n",
    "A static method is a way of suppressing the creation of a bound method when accessing a function. Please note that we are using `staticmethod` decorator in class `A` method `method` "
   ]
  },
  {
   "cell_type": "code",
   "execution_count": 15,
   "metadata": {},
   "outputs": [
    {
     "data": {
      "text/plain": [
       "<function __main__.A.method(*argv)>"
      ]
     },
     "execution_count": 15,
     "metadata": {},
     "output_type": "execute_result"
    }
   ],
   "source": [
    "class A(object):\n",
    "    @staticmethod\n",
    "    def method(*argv):\n",
    "        return argv\n",
    "a = A()\n",
    "a.method"
   ]
  },
  {
   "cell_type": "markdown",
   "metadata": {},
   "source": [
    "When we call a static method we don’t get any additional arguments."
   ]
  },
  {
   "cell_type": "code",
   "execution_count": 16,
   "metadata": {},
   "outputs": [
    {
     "data": {
      "text/plain": [
       "('an arg',)"
      ]
     },
     "execution_count": 16,
     "metadata": {},
     "output_type": "execute_result"
    }
   ],
   "source": [
    "a.method('an arg')"
   ]
  },
  {
   "cell_type": "markdown",
   "metadata": {},
   "source": [
    "##### classmethod\n",
    "\n",
    "A class method is like a bound method except that the class of the instance is passed as an argument rather than the instance itself. We are using `classmethod` decorator in class `A` method `method`  "
   ]
  },
  {
   "cell_type": "code",
   "execution_count": 76,
   "metadata": {},
   "outputs": [
    {
     "data": {
      "text/plain": [
       "<bound method A.method of <class '__main__.A'>>"
      ]
     },
     "execution_count": 76,
     "metadata": {},
     "output_type": "execute_result"
    }
   ],
   "source": [
    "class A(object):\n",
    "    \n",
    "    @classmethod\n",
    "    def method(*argv):\n",
    "        return argv\n",
    "a = A()\n",
    "a.method"
   ]
  },
  {
   "cell_type": "code",
   "execution_count": 33,
   "metadata": {},
   "outputs": [
    {
     "data": {
      "text/plain": [
       "(__main__.A, 'an arg')"
      ]
     },
     "execution_count": 33,
     "metadata": {},
     "output_type": "execute_result"
    }
   ],
   "source": [
    "a.method('an arg')"
   ]
  },
  {
   "cell_type": "code",
   "execution_count": 77,
   "metadata": {},
   "outputs": [
    {
     "name": "stdout",
     "output_type": "stream",
     "text": [
      "Ja\n",
      "Name:  Mayank\n"
     ]
    }
   ],
   "source": [
    "def test(strg):\n",
    "    print(\"Name: \", strg)\n",
    "    \n",
    "def hello(func, name):\n",
    "    print(\"Ja\")\n",
    "    func(name)\n",
    "    \n",
    "hello(test, \"Mayank\")"
   ]
  },
  {
   "cell_type": "code",
   "execution_count": 78,
   "metadata": {},
   "outputs": [],
   "source": [
    "class B(object):\n",
    "    @classmethod\n",
    "    def method(*argv):\n",
    "        return argv"
   ]
  },
  {
   "cell_type": "code",
   "execution_count": 24,
   "metadata": {},
   "outputs": [
    {
     "name": "stdout",
     "output_type": "stream",
     "text": [
      "a.method() = (<class '__main__.B'>,)\n"
     ]
    }
   ],
   "source": [
    "a = B()\n",
    "print(f\"{a.method() = }\")"
   ]
  },
  {
   "cell_type": "code",
   "execution_count": 79,
   "metadata": {},
   "outputs": [
    {
     "name": "stdout",
     "output_type": "stream",
     "text": [
      "Debug: Starting function <function Runner.run_me at 0x7f3f18609a20>\n",
      "Running run_me\n",
      "Debug:  Function <function Runner.run_me at 0x7f3f18609a20> execution ended \n",
      "        with return value 10.\n"
     ]
    },
    {
     "data": {
      "text/plain": [
       "10"
      ]
     },
     "execution_count": 79,
     "metadata": {},
     "output_type": "execute_result"
    }
   ],
   "source": [
    "# from functools import wraps\n",
    "\n",
    "def debug(func):\n",
    "\n",
    "    def __wrapper__(args):\n",
    "        print(f\"Debug: Starting function {func}\")\n",
    "        ret = func(args)\n",
    "        print(f\"\"\"Debug:  Function {func} execution ended \n",
    "        with return value {ret}.\"\"\")\n",
    "        return ret\n",
    "    \n",
    "    return __wrapper__\n",
    "\n",
    "class Runner():\n",
    "    \n",
    "    @debug\n",
    "    def run_me(self):\n",
    "        print(\"Running run_me\")\n",
    "        return 10\n",
    "    \n",
    "mayank = Runner()\n",
    "mayank.run_me()\n"
   ]
  },
  {
   "cell_type": "markdown",
   "metadata": {},
   "source": [
    "We can make the above code a bit more versatile, by adding arguemnts to it."
   ]
  },
  {
   "cell_type": "code",
   "execution_count": 80,
   "metadata": {},
   "outputs": [
    {
     "name": "stdout",
     "output_type": "stream",
     "text": [
      "Debug: Starting function <function Runner.run_me at 0x7f3f1860a710> with args = (<__main__.Runner object at 0x7f3f1a74a200>, 'Mayank') & kargs = {}\n",
      "Running run_me\n",
      "Debug:  Function <function Runner.run_me at 0x7f3f1860a710> execution ended \n",
      "        with return value 10.\n"
     ]
    },
    {
     "data": {
      "text/plain": [
       "10"
      ]
     },
     "execution_count": 80,
     "metadata": {},
     "output_type": "execute_result"
    }
   ],
   "source": [
    "from functools import wraps\n",
    "\n",
    "def debug(func):\n",
    "    \n",
    "    @wraps(func)\n",
    "    def __wrapper__(*args, **kargs):\n",
    "        print(f\"Debug: Starting function {func} with {args = } & {kargs = }\")\n",
    "        ret = func(*args, **kargs )\n",
    "        print(f\"\"\"Debug:  Function {func} execution ended \n",
    "        with return value {ret}.\"\"\")\n",
    "        return ret\n",
    "    \n",
    "    return __wrapper__\n",
    "\n",
    "class Runner():\n",
    "    \n",
    "    @debug\n",
    "    def run_me(self, name):\n",
    "        print(\"Running run_me\")\n",
    "        return 10\n",
    "    \n",
    "mayank = Runner()\n",
    "mayank.run_me(\"Mayank\")\n"
   ]
  },
  {
   "cell_type": "code",
   "execution_count": 129,
   "metadata": {},
   "outputs": [],
   "source": [
    "# For next version - TODO\n",
    "# from functools import wraps\n",
    "# from timeit import timeit\n",
    "\n",
    "# def debug(func):\n",
    "    \n",
    "#     @wraps(func)\n",
    "#     def __wrapper__(*args, **kargs):\n",
    "#         print(f\"Debug: Starting function {func} with {args = } & {kargs = }\")\n",
    "#         calling_func = f\"{func.__name__}\" + \"(*args, **kargs )\"\n",
    "#         timeit(calling_func, globals=globals())\n",
    "#         print(calling_func)\n",
    "#         ret = 0\n",
    "# #         ret = func(*args, **kargs)\n",
    "# #         print(f\"\"\"Debug:  Function {func} execution ended \n",
    "# #         with return value {ret}.\"\"\")\n",
    "#         return ret\n",
    "    \n",
    "#     return __wrapper__\n",
    "\n",
    "# class Runner():\n",
    "    \n",
    "#     @debug\n",
    "#     def run_me(self, name):\n",
    "#         print(\"Running run_me\")\n",
    "#         return 10\n",
    "    \n",
    "# mayank = Runner()\n",
    "# mayank.run_me(\"Mayank\")\n"
   ]
  },
  {
   "cell_type": "markdown",
   "metadata": {},
   "source": [
    "#### Decorators on Classes"
   ]
  },
  {
   "cell_type": "markdown",
   "metadata": {},
   "source": [
    "Lets create a decorator which can be used to create a simple singleton class"
   ]
  },
  {
   "cell_type": "code",
   "execution_count": 33,
   "metadata": {},
   "outputs": [],
   "source": [
    "def singleton(cls):\n",
    "    instances = None\n",
    "\n",
    "    def getinstance():\n",
    "        nonlocal instances\n",
    "        \n",
    "        if not instances:\n",
    "            instances = cls()\n",
    "        print(f\"{instances = }\")\n",
    "        return instances\n",
    "    \n",
    "    return getinstance\n",
    "\n",
    "@singleton\n",
    "class GodMade(object):\n",
    "    def __init__(self):\n",
    "        pass"
   ]
  },
  {
   "cell_type": "code",
   "execution_count": 30,
   "metadata": {},
   "outputs": [
    {
     "name": "stdout",
     "output_type": "stream",
     "text": [
      "instances = <__main__.GodMade object at 0x7e25601c7d90>\n",
      "instances = <__main__.GodMade object at 0x7e25601c7d90>\n",
      "a = <__main__.GodMade object at 0x7e25601c7d90>, b = <__main__.GodMade object at 0x7e25601c7d90>\n",
      "a is b = True\n"
     ]
    }
   ],
   "source": [
    "a = GodMade()\n",
    "b = GodMade()\n",
    "\n",
    "print(f\"{a = }, {b = }\")\n",
    "print(f\"{a is b = }\")"
   ]
  },
  {
   "cell_type": "code",
   "execution_count": 32,
   "metadata": {},
   "outputs": [
    {
     "name": "stdout",
     "output_type": "stream",
     "text": [
      "instances = <__main__.MadeGod object at 0x7e25600f2460>\n",
      "instances = <__main__.MadeGod object at 0x7e25600f2460>\n"
     ]
    }
   ],
   "source": [
    "@singleton\n",
    "class MadeGod(object):\n",
    "    def __init__(self):\n",
    "        pass\n",
    "\n",
    "d = MadeGod()\n",
    "e = MadeGod()"
   ]
  },
  {
   "cell_type": "code",
   "execution_count": 90,
   "metadata": {},
   "outputs": [
    {
     "name": "stdout",
     "output_type": "stream",
     "text": [
      "a is d = False and b is d = False\n"
     ]
    }
   ],
   "source": [
    "print(f\"{a is d = } and {b is d = }\")"
   ]
  },
  {
   "cell_type": "markdown",
   "metadata": {},
   "source": [
    "## References:"
   ]
  },
  {
   "cell_type": "markdown",
   "metadata": {},
   "source": [
    "- https://www.python.org/dev/peps/pep-0318/"
   ]
  }
 ],
 "metadata": {
  "anaconda-cloud": {},
  "kernelspec": {
   "display_name": "Python 3 (ipykernel)",
   "language": "python",
   "name": "python3"
  },
  "language_info": {
   "codemirror_mode": {
    "name": "ipython",
    "version": 3
   },
   "file_extension": ".py",
   "mimetype": "text/x-python",
   "name": "python",
   "nbconvert_exporter": "python",
   "pygments_lexer": "ipython3",
   "version": "3.9.9"
  }
 },
 "nbformat": 4,
 "nbformat_minor": 1
}
