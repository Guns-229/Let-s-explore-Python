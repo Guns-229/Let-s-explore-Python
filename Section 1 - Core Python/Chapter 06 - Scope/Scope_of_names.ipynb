{
 "cells": [
  {
   "cell_type": "markdown",
   "metadata": {},
   "source": [
    "# Scope of names"
   ]
  },
  {
   "cell_type": "markdown",
   "metadata": {},
   "source": [
    "The scope of names (variables) are maintained by **_Namespaces_**, which are dictionaries containing the names of the objects (references) and the objects themselves.\n",
    "\n",
    "As we have seen that names are not pre-defined thus Python uses the code block of the assignment of a name to associate it with a particular namespace. In other words, the place where you assign a name in your source code determines its scope of visibility.\n",
    "\n",
    "Python uses `lexical` scoping, which means that variable scopes are determined entirely by their locations in the source code and not by function calls. "
   ]
  },
  {
   "cell_type": "markdown",
   "metadata": {},
   "source": [
    "Rules for names inside **Functions** are as follows \n",
    "\n",
    "* Names assigned inside a `def` can only be seen by the code within that `def` and cannot be referred from outside the function.\n",
    "* Names assigned inside a `def` do'nt clash with variables from outside the `def`. i.e. a name assigned outside a `def` is a completely different variable from a name assigned inside that `def`.\n",
    "* If a variable is assigned outside all `defs`, then it is global to the entire file and can be accessed with the help of `global` keyword inside the `def`.\n",
    "\n",
    "\n",
    "Normally, the names are defined in two dictionaries, which can be accessed through the functions `locals()` and `globals()`. These dictionaries are updated dynamically at <span class=\"note\" title=\"Although the dictionaries returned by locals() and globals() can be changed directly, this should be avoided because it can have undesirable effects.\">runtime</span>.\n"
   ]
  },
  {
   "cell_type": "code",
   "execution_count": 1,
   "metadata": {},
   "outputs": [],
   "source": [
    "month = 7 \n",
    "year = 1947\n",
    "\n",
    "def A():\n",
    "    month = 3\n",
    "    date = 10\n",
    "    \n",
    "def B():\n",
    "    month = 2\n",
    "#     date = 15"
   ]
  },
  {
   "cell_type": "markdown",
   "metadata": {},
   "source": [
    "```python\n",
    "month = 7 \n",
    "year = 1947\n",
    "\n",
    "def A():\n",
    "    month = 3\n",
    "    date = 10\n",
    "    print(locals())\n",
    "    print(globals())\n",
    "    \n",
    "def B():\n",
    "    month = 2\n",
    "    date = 15\n",
    "    print(locals())\n",
    "    print(globals())\n",
    "    \n",
    "A()\n",
    "B()\n",
    "```\n",
    "\n",
    "**Output:**\n",
    "    \n",
    "```python\n",
    "C02Q33EAFVH5:code mayank.johri$ python3 0_intro.py \n",
    "{'month': 3, 'date': 10}\n",
    "{'__name__': '__main__', '__doc__': None, '__package__': None, '__loader__': <_frozen_importlib_external.SourceFileLoader object at 0x109c45f50>, '__spec__': None, '__annotations__': {}, '__builtins__': <module 'builtins' (built-in)>, '__file__': '0_intro.py', '__cached__': None, 'month': 7, 'year': 1947, 'A': <function A at 0x109ce87a0>, 'B': <function B at 0x109ce8830>}\n",
    "{'month': 2, 'date': 15}\n",
    "{'__name__': '__main__', '__doc__': None, '__package__': None, '__loader__': <_frozen_importlib_external.SourceFileLoader object at 0x109c45f50>, '__spec__': None, '__annotations__': {}, '__builtins__': <module 'builtins' (built-in)>, '__file__': '0_intro.py', '__cached__': None, 'month': 7, 'year': 1947, 'A': <function A at 0x109ce87a0>, 'B': <function B at 0x109ce8830>}\n",
    "\n",
    "```"
   ]
  },
  {
   "cell_type": "markdown",
   "metadata": {},
   "source": [
    "\n",
    "![Namespaces](files/scope_1.png)\n",
    "Global variables can be overshadowed by local variables (because the local scope is consulted before the global scope). To avoid this, you must declare the variable as global in the local scope.\n",
    "\n",
    "example:"
   ]
  },
  {
   "cell_type": "code",
   "execution_count": 4,
   "metadata": {},
   "outputs": [
    {
     "name": "stdout",
     "output_type": "stream",
     "text": [
      "Global: month=7, year=1947\n",
      "month=3, date=10, year=1947\n",
      "Global: month=7, year=1947\n"
     ]
    }
   ],
   "source": [
    "month = 7 \n",
    "year = 1947\n",
    "\n",
    "def A():\n",
    "    month = 3\n",
    "    date = 10\n",
    "    print(f\"{month=}, {date=}, {year=}\")\n",
    "\n",
    "    \n",
    "print(f\"Global: {month=}, {year=}\")\n",
    "A()\n",
    "print(f\"Global: {month=}, {year=}\")\n"
   ]
  },
  {
   "cell_type": "code",
   "execution_count": 3,
   "metadata": {},
   "outputs": [
    {
     "name": "stdout",
     "output_type": "stream",
     "text": [
      "Global: month=7, year=1947\n",
      "month=3, date=10, year=1947\n",
      "Global: month=3, year=1947\n"
     ]
    }
   ],
   "source": [
    "month = 7\n",
    "year = 1947\n",
    "\n",
    "def A():\n",
    "    global month\n",
    "    month = 3\n",
    "    date = 10\n",
    "    print(f\"{month=}, {date=}, {year=}\")\n",
    "    \n",
    "print(f\"Global: {month=}, {year=}\")\n",
    "A()\n",
    "print(f\"Global: {month=}, {year=}\")"
   ]
  },
  {
   "cell_type": "code",
   "execution_count": 11,
   "metadata": {},
   "outputs": [
    {
     "name": "stdout",
     "output_type": "stream",
     "text": [
      "Month: 7\n"
     ]
    }
   ],
   "source": [
    "month = 7 \n",
    "year = 1947\n",
    "\n",
    "def A():\n",
    "    print(\"Month:\", month)\n",
    "\n",
    "A()"
   ]
  },
  {
   "cell_type": "code",
   "execution_count": 4,
   "metadata": {},
   "outputs": [
    {
     "name": "stdout",
     "output_type": "stream",
     "text": [
      "Error: cannot access local variable 'month' where it is not associated with a value\n"
     ]
    }
   ],
   "source": [
    "### !!! Gotcha's !!! \n",
    "month = 7 \n",
    "year = 1947\n",
    "\n",
    "def A():\n",
    "    print(\"Month:\", month)\n",
    "    month = 3\n",
    "    date = 10\n",
    "    print(month, date, year)\n",
    "    \n",
    "try:\n",
    "    A()\n",
    "    print(month, year)\n",
    "except Exception as e:\n",
    "    print(\"Error:\", e)"
   ]
  },
  {
   "cell_type": "markdown",
   "metadata": {},
   "source": [
    "```python\n",
    "### !!! Gotcha's !!! \n",
    "month = 7 \n",
    "year = 1947\n",
    "\n",
    "def A(flg):\n",
    "    print(\"Month:\", month)\n",
    "    if flg:\n",
    "        global month\n",
    "        month = 3\n",
    "    date = 10\n",
    "    print(month, date, year)\n",
    "    \n",
    "try:\n",
    "    A(false)\n",
    "    print(month, year)\n",
    "except Exception as e:\n",
    "    print(\"Error:\", e)\n",
    "```"
   ]
  },
  {
   "cell_type": "markdown",
   "metadata": {},
   "source": [
    "```python\n",
    "  Input In [8]\n",
    "    global month\n",
    "    ^\n",
    "SyntaxError: name 'month' is used prior to global declaration\n",
    "```"
   ]
  },
  {
   "cell_type": "markdown",
   "metadata": {},
   "source": [
    "### `globals` and `locals`"
   ]
  },
  {
   "cell_type": "code",
   "execution_count": 6,
   "metadata": {},
   "outputs": [],
   "source": [
    "# month = 7 \n",
    "# year = 1947\n",
    "\n",
    "# def A():\n",
    "#     print(\"Month:\", month)\n",
    "#     print(locals())\n",
    "#     print(globals())\n",
    "\n",
    "# A()"
   ]
  },
  {
   "cell_type": "code",
   "execution_count": 5,
   "metadata": {},
   "outputs": [
    {
     "name": "stdout",
     "output_type": "stream",
     "text": [
      "10\n",
      "122\n"
     ]
    }
   ],
   "source": [
    "def test():\n",
    "    \"\"\"\n",
    "    Updating the data\n",
    "    \"\"\"\n",
    "    global glb\n",
    "    print(glb)\n",
    "    glb = 122\n",
    "\n",
    "glb = 10    \n",
    "test()\n",
    "print(glb)"
   ]
  },
  {
   "cell_type": "code",
   "execution_count": 15,
   "metadata": {},
   "outputs": [
    {
     "name": "stdout",
     "output_type": "stream",
     "text": [
      "122\n",
      "10\n"
     ]
    }
   ],
   "source": [
    "def test():\n",
    "    \"\"\"\n",
    "    Updating the data\n",
    "    \"\"\"\n",
    "    global glb1\n",
    "    print(glb)\n",
    "    glb1 = 12\n",
    "\n",
    "try:\n",
    "    test()\n",
    "    glb1 = 10\n",
    "    print(glb1)\n",
    "except Exception as e:\n",
    "    print(e)"
   ]
  },
  {
   "cell_type": "code",
   "execution_count": 16,
   "metadata": {},
   "outputs": [
    {
     "name": "stdout",
     "output_type": "stream",
     "text": [
      "12\n",
      "12\n"
     ]
    }
   ],
   "source": [
    "def test():\n",
    "    \"\"\"\n",
    "    Updating the data\n",
    "    \"\"\"\n",
    "    global glb1\n",
    "    glb1 = 12\n",
    "    print(glb1)\n",
    "\n",
    "\n",
    "test()\n",
    "print(glb1)"
   ]
  },
  {
   "cell_type": "code",
   "execution_count": 7,
   "metadata": {},
   "outputs": [
    {
     "name": "stdout",
     "output_type": "stream",
     "text": [
      "Chennai Riders\n",
      "Pune Rocks\n"
     ]
    }
   ],
   "source": [
    "a = 10\n",
    "\n",
    "def test():\n",
    "    global a\n",
    "    a = \"Chennai Riders\"\n",
    "    print(a)\n",
    "    a = \"Pune Rocks\"\n",
    "\n",
    "test()\n",
    "print(a)"
   ]
  },
  {
   "cell_type": "code",
   "execution_count": 17,
   "metadata": {},
   "outputs": [
    {
     "name": "stdout",
     "output_type": "stream",
     "text": [
      "200\n"
     ]
    }
   ],
   "source": [
    "### Opps, we can change the values of global variables without \n",
    "#   using `global` keyword \n",
    "\n",
    "a = 100\n",
    "\n",
    "def test():\n",
    "    d = globals()\n",
    "    d['a'] = 200\n",
    "\n",
    "test()\n",
    "print(a)"
   ]
  },
  {
   "cell_type": "markdown",
   "metadata": {},
   "source": [
    "#### Wasted global usage"
   ]
  },
  {
   "cell_type": "code",
   "execution_count": 12,
   "metadata": {},
   "outputs": [
    {
     "name": "stdout",
     "output_type": "stream",
     "text": [
      "Pune Rocks\n",
      "{'a': 'Pune Rocks'}\n",
      "~~~~~~~~~~~~~~~~~~~~\n",
      "10\n"
     ]
    }
   ],
   "source": [
    "# please don't do the following, \n",
    "# Calling global keywork at module level does not help\n",
    "\n",
    "global a\n",
    "a = 10\n",
    "\n",
    "def test():\n",
    "    a = \"Pune Rocks\"\n",
    "    print(a)\n",
    "    print(locals())\n",
    "    print(\"~\"*20)\n",
    "    \n",
    "test()\n",
    "print(a)"
   ]
  },
  {
   "cell_type": "code",
   "execution_count": 13,
   "metadata": {},
   "outputs": [
    {
     "name": "stdout",
     "output_type": "stream",
     "text": [
      "10\n",
      "{'a': 'Pune Rocks'}\n",
      "10\n",
      "42\n",
      "42\n"
     ]
    }
   ],
   "source": [
    "# 1. At module level both locals and globals will return \n",
    "#    same values. \n",
    "# 2. when passed as argument, it do not get updated when \n",
    "#    we **assign** new value to it within the function\n",
    "\n",
    "a = 10\n",
    "\n",
    "def test(a):\n",
    "    print(a)\n",
    "    a = \"Pune Rocks\"\n",
    "    print(locals())\n",
    "\n",
    "\n",
    "test(a)\n",
    "print(a)\n",
    "print(len(locals()))\n",
    "print(len(globals()))"
   ]
  },
  {
   "cell_type": "code",
   "execution_count": 8,
   "metadata": {},
   "outputs": [
    {
     "name": "stdout",
     "output_type": "stream",
     "text": [
      "[10]\n",
      "{'a': [10]}\n",
      "{'a': ['Pune Rocks']}\n",
      "[10]\n",
      "36\n",
      "36\n"
     ]
    }
   ],
   "source": [
    "# VERY VERY BAD Coding practice\n",
    "# ** Assignation is the keyword\n",
    "\n",
    "a = [10]\n",
    "\n",
    "def test(a):\n",
    "    print(a)\n",
    "    print(locals())\n",
    "    a = [\"Pune Rocks\"]\n",
    "    print(locals())\n",
    "\n",
    "\n",
    "test(a)\n",
    "print(a)\n",
    "print(len(locals()))\n",
    "print(len(globals()))"
   ]
  },
  {
   "cell_type": "code",
   "execution_count": 10,
   "metadata": {},
   "outputs": [
    {
     "name": "stdout",
     "output_type": "stream",
     "text": [
      "[10]\n",
      "{}\n",
      "{}\n",
      "['Pune Rocks']\n",
      "38\n",
      "38\n"
     ]
    }
   ],
   "source": [
    "# VERY VERY BAD Coding practice\n",
    "# ** Assignation is the keyword\n",
    "\n",
    "a = [10]\n",
    "\n",
    "def test():\n",
    "    global a\n",
    "    print(a)\n",
    "    print(locals())\n",
    "    a = [\"Pune Rocks\"]\n",
    "    print(locals())\n",
    "\n",
    "\n",
    "test()\n",
    "print(a)\n",
    "print(len(locals()))\n",
    "print(len(globals()))"
   ]
  },
  {
   "cell_type": "code",
   "execution_count": null,
   "metadata": {},
   "outputs": [],
   "source": []
  },
  {
   "cell_type": "code",
   "execution_count": 12,
   "metadata": {},
   "outputs": [
    {
     "name": "stdout",
     "output_type": "stream",
     "text": [
      "[10]\n",
      "{'a': [10]}\n",
      "{'a': ['Pune Rocks']}\n",
      "['Pune Rocks']\n",
      "40\n",
      "40\n"
     ]
    }
   ],
   "source": [
    "\n",
    "a = [10]\n",
    "\n",
    "def test(a):\n",
    "    print(a)\n",
    "    print(locals())\n",
    "    a = [\"Pune Rocks\"]\n",
    "    print(locals())\n",
    "    return a\n",
    "\n",
    "a = test(a)\n",
    "print(a)\n",
    "print(len(locals()))\n",
    "print(len(globals()))"
   ]
  },
  {
   "cell_type": "code",
   "execution_count": 11,
   "metadata": {},
   "outputs": [
    {
     "name": "stdout",
     "output_type": "stream",
     "text": [
      "{}\n",
      "A: [10, 'Pune Rocks']\n"
     ]
    }
   ],
   "source": [
    "# but if we update the values within the mutable data using one if its function, \n",
    "# then it will get reflected outside also because Python pass variables\n",
    "# by reference instead of value.\n",
    "2\n",
    "a = [10]\n",
    "\n",
    "def test():\n",
    "    a.append(\"Pune Rocks\")\n",
    "    print(locals())\n",
    "\n",
    "test()\n",
    "print(\"A:\", a)"
   ]
  },
  {
   "cell_type": "code",
   "execution_count": 12,
   "metadata": {},
   "outputs": [
    {
     "name": "stdout",
     "output_type": "stream",
     "text": [
      "10\n",
      "{'a': 'Pune Rocks'}\n",
      "Pune Rocks\n",
      "38\n",
      "38\n"
     ]
    }
   ],
   "source": [
    "# 1. At module level both locals and globals will return same values. \n",
    "\n",
    "a = 10\n",
    "\n",
    "def test(a):\n",
    "    print(a)\n",
    "    a = \"Pune Rocks\"\n",
    "    print(locals())\n",
    "    return a\n",
    "    \n",
    "a = test(a)\n",
    "print(a)\n",
    "print(len(locals()))\n",
    "print(len(globals()))"
   ]
  },
  {
   "cell_type": "code",
   "execution_count": 17,
   "metadata": {},
   "outputs": [
    {
     "name": "stdout",
     "output_type": "stream",
     "text": [
      "21.29\n"
     ]
    }
   ],
   "source": [
    "def addlist(lists):\n",
    "    \"\"\"\n",
    "    Add lists of lists, recursively\n",
    "    the result is global\n",
    "    \"\"\"\n",
    "    global add\n",
    "    \n",
    "    for item in lists:\n",
    "        if isinstance(item, list): # If item type is list\n",
    "            addlist(item)\n",
    "        else:\n",
    "            add += item # add = add + item\n",
    "\n",
    "add = 0\n",
    "addlist([[1, 2], [3, [4, 5]], 6.29])\n",
    "\n",
    "print(add)"
   ]
  },
  {
   "cell_type": "code",
   "execution_count": 18,
   "metadata": {},
   "outputs": [
    {
     "name": "stdout",
     "output_type": "stream",
     "text": [
      "1: Error: name 'add3' is not defined\n",
      "1: Error: name 'add3' is not defined\n",
      "1: Error: name 'add3' is not defined\n",
      "1: Error: name 'add3' is not defined\n",
      "1: Error: name 'add3' is not defined\n",
      "1: Error: name 'add3' is not defined\n",
      "addList done\n",
      "2: Error: name 'add3' is not defined\n"
     ]
    }
   ],
   "source": [
    "# Gotcha: Trying to create a global variable inside the function \n",
    "# itself. \n",
    "\n",
    "\n",
    "def addlist(lists):\n",
    "    \"\"\"\n",
    "    Add lists of lists, recursively\n",
    "    the result is global\n",
    "    \"\"\"\n",
    "    global add3\n",
    "    \n",
    "    for item in lists:\n",
    "        if isinstance(item, list): # If item type is list\n",
    "            addlist(item)\n",
    "        else:\n",
    "            try:\n",
    "                add3 += item   # add3 = add3 + item\n",
    "            except NameError as ne:\n",
    "                print(\"1: Error:\", ne)\n",
    "            \n",
    "addlist([[1, 2], [3, 4, 5], 6])\n",
    "print(\"addList done\")\n",
    "try:\n",
    "    print(add3)\n",
    "except NameError as ne:\n",
    "    print(\"2: Error:\", ne)"
   ]
  },
  {
   "cell_type": "code",
   "execution_count": 20,
   "metadata": {},
   "outputs": [
    {
     "name": "stdout",
     "output_type": "stream",
     "text": [
      "Creating add2 as global variable\n",
      "21\n"
     ]
    }
   ],
   "source": [
    "# in this example we are creating a global variable inside the function \n",
    "# itself. \n",
    "\n",
    "if 'add2' in globals():\n",
    "    del add2\n",
    "\n",
    "def addlist(lists):\n",
    "    \"\"\"\n",
    "    Add lists of lists, recursively\n",
    "    the result is global\n",
    "    \"\"\"\n",
    "    global add2\n",
    "    \n",
    "    for item in lists:\n",
    "        if isinstance(item, list): # If item type is list\n",
    "            addlist(item)\n",
    "        else:\n",
    "            # Checking if `add2` existing as global variable.\n",
    "            if 'add2' in globals():\n",
    "                add2 += item\n",
    "            else:\n",
    "                print(\"Creating add2 as global variable\")\n",
    "                add2 = item  \n",
    "\n",
    "addlist([[1, 2], [3, 4, 5], 6])\n",
    "\n",
    "print(add2)"
   ]
  },
  {
   "cell_type": "code",
   "execution_count": 21,
   "metadata": {},
   "outputs": [
    {
     "name": "stdout",
     "output_type": "stream",
     "text": [
      "21\n"
     ]
    }
   ],
   "source": [
    "# in this example we are creating a global variable inside the function \n",
    "# itself. \n",
    "\n",
    "if 'add2' in globals():\n",
    "    del add2\n",
    "\n",
    "def addlist(lists):\n",
    "    \"\"\"\n",
    "    Add lists of lists, recursively\n",
    "    the result is global\n",
    "    \"\"\"\n",
    "    global add2\n",
    "    \n",
    "    for item in lists:\n",
    "        if isinstance(item, list): # If item type is list\n",
    "            addlist(item)\n",
    "        else:\n",
    "            # Checking if `add2` existing as global variable.\n",
    "            add2 = (item + add2) if 'add2' in globals() else item\n",
    "\n",
    "\n",
    "addlist([[1, 2], [3, 4, 5], 6])\n",
    "\n",
    "print(add2)"
   ]
  },
  {
   "cell_type": "markdown",
   "metadata": {},
   "source": [
    "Using global variables is not considered a good development practice, as they make the system harder to understand, so it is better to avoid their use. The same applies to overshadowing variables."
   ]
  },
  {
   "cell_type": "code",
   "execution_count": 20,
   "metadata": {},
   "outputs": [
    {
     "name": "stdout",
     "output_type": "stream",
     "text": [
      "31\n"
     ]
    }
   ],
   "source": [
    "add = 10\n",
    "\n",
    "def addlist(lists):\n",
    "    \"\"\"\n",
    "    Add lists of lists, recursively\n",
    "    the result is global\n",
    "    \"\"\"\n",
    "    global add\n",
    "    \n",
    "    for item in lists:\n",
    "        if isinstance(item, list): # If item type is list\n",
    "            addlist(item)\n",
    "            x = 100\n",
    "        else:\n",
    "            add += item\n",
    "\n",
    "\n",
    "try:\n",
    "    addlist([[1, 2], [3, 4, 5], 6])\n",
    "except Exception as e:\n",
    "    print(e)\n",
    "print(add)"
   ]
  },
  {
   "cell_type": "code",
   "execution_count": 27,
   "metadata": {},
   "outputs": [
    {
     "name": "stdout",
     "output_type": "stream",
     "text": [
      "0\n",
      "10\n"
     ]
    }
   ],
   "source": [
    "# Example 1: using outer function variables.\n",
    "def outer():\n",
    "    a = 0\n",
    "    b = 10\n",
    "\n",
    "    def inner():\n",
    "        print(a)\n",
    "        print(b)\n",
    "\n",
    "    inner()\n",
    "\n",
    "outer()"
   ]
  },
  {
   "cell_type": "markdown",
   "metadata": {},
   "source": [
    "**NOTE:** A special quirk of Python is that – if no global statement is in effect – assignments to names always go into the innermost scope. Assignments do not copy data — they just bind names to objects."
   ]
  },
  {
   "cell_type": "code",
   "execution_count": 23,
   "metadata": {},
   "outputs": [
    {
     "name": "stdout",
     "output_type": "stream",
     "text": [
      "0\n",
      "local variable 'b' referenced before assignment\n"
     ]
    }
   ],
   "source": [
    "def outer():\n",
    "    a = 0\n",
    "    b = 1\n",
    "\n",
    "    def inner():\n",
    "        print(a)\n",
    "        print(b)\n",
    "        b = 4\n",
    "\n",
    "    inner()\n",
    "try:\n",
    "    outer()\n",
    "except Exception as e:\n",
    "    print(e)"
   ]
  },
  {
   "cell_type": "markdown",
   "metadata": {},
   "source": [
    "```python\n",
    "def outer():\n",
    "    a = 0\n",
    "    b = 1\n",
    "\n",
    "    def inner():\n",
    "        print(locals())\n",
    "        print(globals())\n",
    "\n",
    "\n",
    "    inner()\n",
    "try:\n",
    "    outer()\n",
    "except Exception as e:\n",
    "    print(e)\n",
    "```\n",
    "\n",
    "**Output:**\n",
    "```python\n",
    "$:> python scopes_in_innerfunctions.py\n",
    "{}\n",
    "{'__name__': '__main__', '__doc__': None, '__package__': None, '__loader__': <_f\n",
    "rozen_importlib_external.SourceFileLoader object at 0x0000000000690F98>, '__spec\n",
    "__': None, '__annotations__': {}, '__builtins__': <module 'builtins' (built-in)>\n",
    ", '__file__': 'scopes_in_innerfunctions.py', '__cached__': None, 'outer': <funct\n",
    "ion outer at 0x0000000000641E18>}\n",
    "```"
   ]
  },
  {
   "cell_type": "code",
   "execution_count": 28,
   "metadata": {},
   "outputs": [
    {
     "name": "stdout",
     "output_type": "stream",
     "text": [
      "1: 140335208709680 140335208707600\n",
      "11001 12002\n",
      "2: 140335208709680 140335208707600\n",
      "3: 140335208706960 140335208710064\n",
      "{'a': 200000, 'b': 400000}\n",
      "200000 400000\n",
      "4: 140335208706960 140335208710064\n"
     ]
    }
   ],
   "source": [
    "### Non Local\n",
    "\n",
    "def outer():\n",
    "    a = 11001\n",
    "    b = 12002\n",
    "    \n",
    "\n",
    "    def inner():\n",
    "        nonlocal a\n",
    "        nonlocal b\n",
    "        print(\"2:\", id(a), id(b))\n",
    "        a = 200000\n",
    "        b = 400000\n",
    "        print(\"3:\", id(a), id(b))\n",
    "        print(locals())\n",
    "\n",
    "    print(\"1:\", id(a), id(b))\n",
    "    print(a, b)\n",
    "    inner()\n",
    "    print(a, b)\n",
    "    print(\"4:\", id(a), id(b))\n",
    "\n",
    "\n",
    "try:\n",
    "    outer()\n",
    "except Exception as e:\n",
    "    print(e)"
   ]
  },
  {
   "cell_type": "markdown",
   "metadata": {},
   "source": [
    "```python\n",
    "### !! Gotcha !!: Trying to declare global variable `b` as nonlocal\n",
    "b = 1\n",
    "\n",
    "def outer():\n",
    "    a = 0\n",
    "\n",
    "    def inner():\n",
    "        nonlocal a\n",
    "        nonlocal b\n",
    "        a = 20\n",
    "        b = 40        \n",
    "        print(locals())\n",
    "\n",
    "\n",
    "    print(a)\n",
    "    print(b)\n",
    "    inner()\n",
    "    print(a)\n",
    "    print(b)\n",
    "\n",
    "try:\n",
    "    outer()\n",
    "except Exception as e:\n",
    "    print(e)\n",
    "```\n",
    "Output:\n",
    "```python\n",
    "SyntaxError: no binding for nonlocal 'b' found\n",
    "```"
   ]
  },
  {
   "cell_type": "code",
   "execution_count": 19,
   "metadata": {},
   "outputs": [
    {
     "name": "stdout",
     "output_type": "stream",
     "text": [
      "1: a = 0 , b = 1\n",
      "locals in `inner`: {'a': 20, 'b': 1}\n",
      "Executing innermost\n",
      "locals in `innermost`: {'a': 20, 'b': 1}\n",
      "2: a = 20 , b = 1\n",
      "3: a = 20022 , b = 11111\n",
      "done executing\n",
      "4: a = 0 , b = 11111\n"
     ]
    }
   ],
   "source": [
    "### Non Locals: gets the nearest available variables \n",
    "# as `a` we are getting from inner and `b` we are getting from `outer`\n",
    "# Note: nonlocal will never search in globalvariales\n",
    "\n",
    "def outer():\n",
    "    a = 0\n",
    "    b = 1  # non local variable for innermost\n",
    "\n",
    "    def inner():\n",
    "        \"\"\"\n",
    "            a: 20   `local` \n",
    "            b: 1    `non local` \n",
    "        \"\"\"\n",
    "        a = 20\n",
    "        print(\"locals in `inner`:\", locals())\n",
    "        \n",
    "        def innermost():\n",
    "            nonlocal a, b\n",
    "            print(\"locals in `innermost`:\", locals())\n",
    "            print(f\"2: {a = } , {b = }\")\n",
    "            a, b = 20022, 11111\n",
    "        \n",
    "        print(\"Executing innermost\")\n",
    "        innermost()\n",
    "        print(f\"3: {a = } , {b = }\")\n",
    "        print(\"done executing\")\n",
    "\n",
    "    print(f\"1: {a = } , {b = }\")\n",
    "    inner()\n",
    "    print(f\"4: {a = } , {b = }\")\n",
    "\n",
    "try:\n",
    "    outer()\n",
    "except Exception as e:\n",
    "    print(e)"
   ]
  },
  {
   "cell_type": "markdown",
   "metadata": {},
   "source": [
    "```python\n",
    "### Non Locals: gets the nearest available variables \n",
    "# as `a` we are getting from inner and `b` we are getting from `outer`\n",
    "# Note: nonlocal will never search in globalvariales\n",
    "b = 1  # Global Variable `b`, `nonlocal` will not be able to access it.\n",
    "\n",
    "def outer():\n",
    "    a = 0\n",
    "    \n",
    "\n",
    "    def inner():\n",
    "        \"\"\"\n",
    "            a: 20   `local` \n",
    "            b: 1    `non local` \n",
    "        \"\"\"\n",
    "        a = 20\n",
    "        print(\"locals in `inner`:\", locals())\n",
    "        \n",
    "        def innermost():\n",
    "            nonlocal a, b\n",
    "            print(\"locals in `innermost`:\", locals())\n",
    "            print(f\"2: {a = } , {b = }\")\n",
    "            a, b = 20022, 11111\n",
    "        \n",
    "        print(\"Executing innermost\")\n",
    "        innermost()\n",
    "        print(f\"3: {a = } , {b = }\")\n",
    "        print(\"done executing\")\n",
    "\n",
    "    print(f\"1: {a = } , {b = }\")\n",
    "    inner()\n",
    "    print(f\"4: {a = } , {b = }\")\n",
    "\n",
    "try:\n",
    "    outer()\n",
    "except Exception as e:\n",
    "    print(e)\n",
    "    \n",
    "    \n",
    "```\n",
    "Output:\n",
    "```\n",
    "  Input In [18]\n",
    "    nonlocal a, b\n",
    "    ^\n",
    "SyntaxError: no binding for nonlocal 'b' found\n",
    "```"
   ]
  },
  {
   "cell_type": "code",
   "execution_count": 25,
   "metadata": {},
   "outputs": [],
   "source": [
    "def power(x):\n",
    "    def inner(y):\n",
    "        return y ** x\n",
    "    return inner\n",
    "\n",
    "square = power(2)\n",
    "cube = power(3)"
   ]
  },
  {
   "cell_type": "code",
   "execution_count": 26,
   "metadata": {},
   "outputs": [
    {
     "name": "stdout",
     "output_type": "stream",
     "text": [
      "<function power.<locals>.inner at 0x10db407a0>\n",
      "<function power.<locals>.inner at 0x10db40050>\n"
     ]
    }
   ],
   "source": [
    "print(square)\n",
    "print(cube)"
   ]
  },
  {
   "cell_type": "code",
   "execution_count": 27,
   "metadata": {},
   "outputs": [
    {
     "data": {
      "text/plain": [
       "100"
      ]
     },
     "execution_count": 27,
     "metadata": {},
     "output_type": "execute_result"
    }
   ],
   "source": [
    "square(10)"
   ]
  },
  {
   "cell_type": "code",
   "execution_count": 28,
   "metadata": {},
   "outputs": [
    {
     "data": {
      "text/plain": [
       "400"
      ]
     },
     "execution_count": 28,
     "metadata": {},
     "output_type": "execute_result"
    }
   ],
   "source": [
    "square(20)"
   ]
  },
  {
   "cell_type": "code",
   "execution_count": 29,
   "metadata": {},
   "outputs": [
    {
     "data": {
      "text/plain": [
       "1000"
      ]
     },
     "execution_count": 29,
     "metadata": {},
     "output_type": "execute_result"
    }
   ],
   "source": [
    "cube(10)"
   ]
  },
  {
   "cell_type": "code",
   "execution_count": 30,
   "metadata": {},
   "outputs": [
    {
     "data": {
      "text/plain": [
       "400"
      ]
     },
     "execution_count": 30,
     "metadata": {},
     "output_type": "execute_result"
    }
   ],
   "source": [
    "power(2)(20)"
   ]
  },
  {
   "cell_type": "code",
   "execution_count": 31,
   "metadata": {},
   "outputs": [
    {
     "name": "stdout",
     "output_type": "stream",
     "text": [
      "[1, 2, 3, 4, 5, 6, 7]\n",
      "[1, 2, 3, 4, 5, 6, 7]\n",
      "4523774272\n",
      "4523774272\n"
     ]
    }
   ],
   "source": [
    "# VERY VERY VERY BAD EXample.\n",
    "def List_fun(l, a=[]):\n",
    "    \"\"\"function takes 2 parameters list having values and empty list.\"\"\"\n",
    "\n",
    "    for i in l:\n",
    "        #checking whether the values are list or not\n",
    "        if isinstance(i, list):\n",
    "            List_fun(i, a)\n",
    "        else:\n",
    "            a.append(i)\n",
    "    return a \n",
    "\n",
    "b=[]\n",
    "l2 = List_fun([[1, 2], [3, [4, 5]], 6, 7], b)\n",
    "print(l2)\n",
    "print(b)\n",
    "print(id(l2))\n",
    "print(id(b))"
   ]
  },
  {
   "cell_type": "code",
   "execution_count": 32,
   "metadata": {},
   "outputs": [
    {
     "name": "stdout",
     "output_type": "stream",
     "text": [
      "[1, 2, 3, 4, 5, 6, 7]\n"
     ]
    }
   ],
   "source": [
    "def List_fun(l, a=[]):\n",
    "    \"\"\"function takes 2 parameters list having values and empty list.\"\"\"\n",
    "    \n",
    "    for i in l:\n",
    "        #checking whether the values are list or not\n",
    "        if isinstance(i, list):\n",
    "            List_fun(i, a)\n",
    "        else:\n",
    "            a.append(i)\n",
    "\n",
    "\n",
    "b=[]\n",
    "List_fun([[1,2],[3,[4,5]],6,7], b)\n",
    "print(b)"
   ]
  },
  {
   "cell_type": "code",
   "execution_count": 33,
   "metadata": {},
   "outputs": [
    {
     "name": "stdout",
     "output_type": "stream",
     "text": [
      "10 4487560272\n",
      "10 4487560272\n",
      "20 4487560592\n",
      "10 4487560272\n"
     ]
    }
   ],
   "source": [
    "# Gotcha: The changes are not retained outside the function\n",
    "def fun_numbers(a):\n",
    "    print(a, id(a))\n",
    "    a += 10\n",
    "    print(a, id(a))\n",
    "\n",
    "b = 10\n",
    "print(b, id(b))\n",
    "fun_numbers(b)\n",
    "print(b, id(b))"
   ]
  },
  {
   "cell_type": "code",
   "execution_count": 34,
   "metadata": {},
   "outputs": [
    {
     "name": "stdout",
     "output_type": "stream",
     "text": [
      "10 4487560272\n",
      "10 4487560272\n",
      "20 4487560592\n",
      "20 4487560592\n"
     ]
    }
   ],
   "source": [
    "# Better way to solve the case.\n",
    "def fun_numbers(a):\n",
    "    print(a, id(a))\n",
    "    a += 10\n",
    "    print(a, id(a))\n",
    "    return a\n",
    "\n",
    "b = 10\n",
    "print(b, id(b))\n",
    "b = fun_numbers(b)\n",
    "print(b, id(b))"
   ]
  },
  {
   "cell_type": "code",
   "execution_count": 35,
   "metadata": {},
   "outputs": [
    {
     "name": "stdout",
     "output_type": "stream",
     "text": [
      "4524871840\n",
      "[10]\n",
      "4524871840\n",
      "[20]\n",
      "4524824128\n",
      "[10]\n"
     ]
    }
   ],
   "source": [
    "# Gotcha: The changes are not retained outside the function\n",
    "\n",
    "def fun_numbers(a):\n",
    "    print(a)\n",
    "    print(id(a))\n",
    "    a = [20]\n",
    "    print(a)\n",
    "    print(id(a))\n",
    "\n",
    "b = [10]\n",
    "print(id(b))\n",
    "fun_numbers(b)\n",
    "print(b)"
   ]
  },
  {
   "cell_type": "code",
   "execution_count": 28,
   "metadata": {},
   "outputs": [
    {
     "name": "stdout",
     "output_type": "stream",
     "text": [
      "a=[10], id(a)=140545148360384\n",
      "a=[10], id(a)=140545148360384\n",
      "a=[10, 20], id(a)=140545148360384\n",
      "a=[10, 20], id(a)=140545148360384\n"
     ]
    }
   ],
   "source": [
    "# Gotcha: Any updating the the multable data within the function \n",
    "# will be carry forwarded outside the function also .\n",
    "\n",
    "def fun_numbers(a):\n",
    "    print(f\"{a=}, {id(a)=}\")\n",
    "    a.append(20)\n",
    "    print(f\"{a=}, {id(a)=}\")\n",
    "\n",
    "a = [10]\n",
    "\n",
    "print(f\"{a=}, {id(a)=}\")\n",
    "fun_numbers(a)\n",
    "print(f\"{a=}, {id(a)=}\")"
   ]
  },
  {
   "cell_type": "code",
   "execution_count": 29,
   "metadata": {},
   "outputs": [
    {
     "name": "stdout",
     "output_type": "stream",
     "text": [
      "[10]\n",
      "[10, 120]\n",
      "[10, 120]\n"
     ]
    }
   ],
   "source": [
    "def fun_numbers(a):\n",
    "    print(a)\n",
    "    a.append(120)\n",
    "    print(a)\n",
    "\n",
    "b = [10]\n",
    "fun_numbers(b)\n",
    "print(b)"
   ]
  },
  {
   "cell_type": "code",
   "execution_count": 32,
   "metadata": {},
   "outputs": [
    {
     "name": "stdout",
     "output_type": "stream",
     "text": [
      "70\n"
     ]
    }
   ],
   "source": [
    "def func():\n",
    "    a = 10\n",
    "    for d in [10,20,30]:\n",
    "        a = a + d\n",
    "    print(a)\n",
    "    \n",
    "func()"
   ]
  }
 ],
 "metadata": {
  "anaconda-cloud": {},
  "kernelspec": {
   "display_name": "Python 3 (ipykernel)",
   "language": "python",
   "name": "python3"
  },
  "language_info": {
   "codemirror_mode": {
    "name": "ipython",
    "version": 3
   },
   "file_extension": ".py",
   "mimetype": "text/x-python",
   "name": "python",
   "nbconvert_exporter": "python",
   "pygments_lexer": "ipython3",
   "version": "3.11.0b1"
  }
 },
 "nbformat": 4,
 "nbformat_minor": 1
}
