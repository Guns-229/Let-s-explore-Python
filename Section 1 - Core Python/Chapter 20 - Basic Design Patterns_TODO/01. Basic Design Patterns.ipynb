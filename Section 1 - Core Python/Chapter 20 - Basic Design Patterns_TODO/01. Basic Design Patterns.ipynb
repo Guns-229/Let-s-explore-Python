{
 "cells": [
  {
   "cell_type": "markdown",
   "metadata": {},
   "source": [
    "# Basic Design Patterns"
   ]
  },
  {
   "cell_type": "markdown",
   "metadata": {},
   "source": [
    "- What is design Pattern"
   ]
  },
  {
   "cell_type": "code",
   "execution_count": null,
   "metadata": {},
   "outputs": [],
   "source": []
  },
  {
   "cell_type": "markdown",
   "metadata": {},
   "source": [
    "- Principles of Design Pattern"
   ]
  },
  {
   "cell_type": "markdown",
   "metadata": {},
   "source": [
    "- Program to an interface not an implementation\n",
    "- Favour object composition over inheritance."
   ]
  },
  {
   "cell_type": "code",
   "execution_count": null,
   "metadata": {},
   "outputs": [],
   "source": []
  },
  {
   "cell_type": "markdown",
   "metadata": {},
   "source": [
    "## Creational Design Patterns"
   ]
  },
  {
   "cell_type": "markdown",
   "metadata": {},
   "source": [
    "Creational Design Patterns as the names suggest handles creation of `classes` or `objects` by abstracting the creation of the classes."
   ]
  },
  {
   "cell_type": "markdown",
   "metadata": {},
   "source": [
    "| Pattern Name | Description |\n",
    "|------|--------------|\n",
    "|Singleton | a singleton with shared-state among instances|\n",
    "|abstract_factory | use a generic function with specific factories|\n",
    "|builder | instead of using multiple constructors, builder object receives parameters and returns constructed objects|\n",
    "|factory| delegate a specialized function/method to create instances|\n",
    "|lazy_evaluation| lazily-evaluated property pattern in Python|\n",
    "|pool|preinstantiate and maintain a group of instances of the same type|\n",
    "|prototype| use a factory and clones of a prototype for new instances (if instantiation is expensive)|"
   ]
  },
  {
   "cell_type": "markdown",
   "metadata": {},
   "source": [
    "### Singleton"
   ]
  },
  {
   "cell_type": "markdown",
   "metadata": {},
   "source": [
    "The main characteristics of a `Singleton` object is that:\n",
    "- It can have at most one instance\n",
    "- It should be globally accessible in the program\n",
    "\n",
    "Although both of the above properties are important, but many times only one is implemented based on user requirement."
   ]
  },
  {
   "cell_type": "markdown",
   "metadata": {},
   "source": [
    "Lets implement the singleton design pattern on the example from `classes` chapter."
   ]
  },
  {
   "cell_type": "code",
   "execution_count": 2,
   "metadata": {},
   "outputs": [],
   "source": [
    "from typing import Optional\n",
    "\n",
    "class MetaSingleton(type):\n",
    "    _instance : Optional[type] = None\n",
    "    def __call__(cls, *args, **kwargs):\n",
    "        if cls._instance is None:\n",
    "            cls._instance = super(MetaSingleton, cls).__call__(*args, **kwargs)\n",
    "        return cls._instance\n",
    "\n",
    "class Godlike(object, metaclass=MetaSingleton):  \n",
    "    \n",
    "    def __init__(self, name):\n",
    "        \"\"\"\n",
    "        init function\n",
    "        \"\"\"\n",
    "        print(\"Running init\")\n",
    "        self.name = name\n",
    "    \n",
    "    def print_name(self):\n",
    "        print(self.name)"
   ]
  },
  {
   "cell_type": "code",
   "execution_count": 15,
   "metadata": {},
   "outputs": [
    {
     "name": "stdout",
     "output_type": "stream",
     "text": [
      "Running init\n",
      "God\n",
      "God\n"
     ]
    }
   ],
   "source": [
    "g = Godlike(\"God\")\n",
    "d = Godlike(\"Welcome\")\n",
    "\n",
    "g.print_name()\n",
    "d.print_name()"
   ]
  },
  {
   "cell_type": "code",
   "execution_count": null,
   "metadata": {},
   "outputs": [],
   "source": []
  },
  {
   "cell_type": "markdown",
   "metadata": {},
   "source": [
    "### abstract_factory"
   ]
  },
  {
   "cell_type": "code",
   "execution_count": null,
   "metadata": {},
   "outputs": [],
   "source": []
  },
  {
   "cell_type": "markdown",
   "metadata": {},
   "source": [
    "### builder"
   ]
  },
  {
   "cell_type": "code",
   "execution_count": null,
   "metadata": {},
   "outputs": [],
   "source": []
  },
  {
   "cell_type": "code",
   "execution_count": null,
   "metadata": {},
   "outputs": [],
   "source": []
  },
  {
   "cell_type": "markdown",
   "metadata": {},
   "source": [
    "### factory"
   ]
  },
  {
   "cell_type": "code",
   "execution_count": null,
   "metadata": {},
   "outputs": [],
   "source": []
  },
  {
   "cell_type": "markdown",
   "metadata": {},
   "source": [
    "### lazy_evaluation"
   ]
  },
  {
   "cell_type": "code",
   "execution_count": null,
   "metadata": {},
   "outputs": [],
   "source": []
  },
  {
   "cell_type": "code",
   "execution_count": null,
   "metadata": {},
   "outputs": [],
   "source": []
  },
  {
   "cell_type": "code",
   "execution_count": null,
   "metadata": {},
   "outputs": [],
   "source": []
  },
  {
   "cell_type": "markdown",
   "metadata": {},
   "source": [
    "### pool"
   ]
  },
  {
   "cell_type": "code",
   "execution_count": null,
   "metadata": {},
   "outputs": [],
   "source": []
  },
  {
   "cell_type": "markdown",
   "metadata": {},
   "source": [
    "### prototype"
   ]
  },
  {
   "cell_type": "code",
   "execution_count": null,
   "metadata": {},
   "outputs": [],
   "source": []
  },
  {
   "cell_type": "code",
   "execution_count": null,
   "metadata": {},
   "outputs": [],
   "source": []
  },
  {
   "cell_type": "markdown",
   "metadata": {},
   "source": [
    "Creational Patterns:\n",
    "Pattern \tDescription\n",
    "\n",
    "\n",
    "Structural Patterns:\n",
    "Pattern \tDescription\n",
    "\n",
    "3-tier \tdata<->business logic<->presentation separation (strict relationships)\n",
    "adapter \tadapt one interface to another using a white-list\n",
    "bridge \ta client-provider middleman to soften interface changes\n",
    "composite \tlets clients treat individual objects and compositions uniformly\n",
    "decorator \twrap functionality with other functionality in order to affect outputs\n",
    "facade \tuse one class as an API to a number of others\n",
    "flyweight \ttransparently reuse existing instances of objects with similar/identical state\n",
    "front_controller \tsingle handler requests coming to the application\n",
    "mvc \tmodel<->view<->controller (non-strict relationships)\n",
    "proxy \tan object funnels operations to something else\n",
    "\n",
    "Behavioral Patterns:\n",
    "Pattern \tDescription\n",
    "chain_of_responsibility \tapply a chain of successive handlers to try and process the data\n",
    "catalog \tgeneral methods will call different specialized methods based on construction parameter\n",
    "chaining_method \tcontinue callback next object method\n",
    "command \tbundle a command and arguments to call later\n",
    "iterator \ttraverse a container and access the container's elements\n",
    "iterator (alt. impl.) \ttraverse a container and access the container's elements\n",
    "mediator \tan object that knows how to connect other objects and act as a proxy\n",
    "memento \tgenerate an opaque token that can be used to go back to a previous state\n",
    "observer \tprovide a callback for notification of events/changes to data\n",
    "publish_subscribe \ta source syndicates events/data to 0+ registered listeners\n",
    "registry \tkeep track of all subclasses of a given class\n",
    "specification \tbusiness rules can be recombined by chaining the business rules together using boolean logic\n",
    "state \tlogic is organized into a discrete number of potential states and the next state that can be transitioned to\n",
    "strategy \tselectable operations over the same data\n",
    "template \tan object imposes a structure but takes pluggable components\n",
    "visitor \tinvoke a callback for all items of a collection\n",
    "\n",
    "Design for Testability Patterns:\n",
    "Pattern \tDescription\n",
    "dependency_injection \t3 variants of dependency injection\n",
    "\n",
    "Fundamental Patterns:\n",
    "Pattern \tDescription\n",
    "delegation_pattern \tan object handles a request by delegating to a second object (the delegate)\n",
    "\n",
    "Others:\n",
    "Pattern \tDescription\n",
    "blackboard \tarchitectural model, assemble different sub-system knowledge to build a solution, AI approach - non gang of four pattern\n",
    "graph_search \tgraphing algorithms - non gang of four pattern\n",
    "hsm \thierarchical state machine - non gang of four pattern"
   ]
  },
  {
   "cell_type": "markdown",
   "metadata": {},
   "source": [
    "## Structurual Design Pattern"
   ]
  },
  {
   "cell_type": "markdown",
   "metadata": {},
   "source": [
    " - How my classes and objects are composed to form a larger structure"
   ]
  },
  {
   "cell_type": "code",
   "execution_count": null,
   "metadata": {},
   "outputs": [],
   "source": []
  },
  {
   "cell_type": "code",
   "execution_count": null,
   "metadata": {},
   "outputs": [],
   "source": []
  },
  {
   "cell_type": "code",
   "execution_count": null,
   "metadata": {},
   "outputs": [],
   "source": [
    "def double(num):\n",
    "    return num * 2\n",
    "\n",
    "print(double(10))"
   ]
  },
  {
   "cell_type": "code",
   "execution_count": 41,
   "metadata": {},
   "outputs": [
    {
     "name": "stdout",
     "output_type": "stream",
     "text": [
      "Starting double_new\n",
      "240\n",
      "Ending double_new\n"
     ]
    }
   ],
   "source": [
    "def execution_mapper(func):\n",
    "    def inner(*args):\n",
    "        print(\"Starting {}\".format(func.__name__))\n",
    "        print(func(*args))\n",
    "        print(\"Ending {}\".format(func.__name__))\n",
    "    return inner\n",
    "\n",
    "@execution_mapper\n",
    "def double_new(num):\n",
    "    \n",
    "    return num * 2\n",
    "\n",
    "double_new(120)"
   ]
  },
  {
   "cell_type": "markdown",
   "metadata": {},
   "source": [
    "#### `iterator`"
   ]
  },
  {
   "cell_type": "code",
   "execution_count": 47,
   "metadata": {},
   "outputs": [
    {
     "name": "stdout",
     "output_type": "stream",
     "text": [
      "M o h a n   S h a h \n",
      "Manish Rajeev Sachin "
     ]
    }
   ],
   "source": [
    "def tarverse(obj):\n",
    "    for a in obj:\n",
    "        yield a\n",
    "    \n",
    "name = \"Mohan Shah\"\n",
    "\n",
    "d = tarverse(name)\n",
    "for a in d:\n",
    "    print(a, end=\" \")\n",
    "print()\n",
    "    \n",
    "names = [\"Manish\", \"Rajeev\", \"Sachin\"]\n",
    "d = tarverse(names)\n",
    "for a in d:\n",
    "    print(a, end=\" \")"
   ]
  },
  {
   "cell_type": "code",
   "execution_count": null,
   "metadata": {},
   "outputs": [],
   "source": []
  },
  {
   "cell_type": "code",
   "execution_count": null,
   "metadata": {},
   "outputs": [],
   "source": []
  },
  {
   "cell_type": "markdown",
   "metadata": {},
   "source": [
    "#### References"
   ]
  },
  {
   "cell_type": "markdown",
   "metadata": {},
   "source": [
    "- https://legacy.python.org/workshops/1997-10/proceedings/savikko.html\n",
    "- https://python-patterns.guide/\n",
    "- https://www.toptal.com/python/python-design-patterns\n",
    "- https://github.com/faif/python-patterns\n",
    "- https://stackabuse.com/design-patterns-in-python/"
   ]
  }
 ],
 "metadata": {
  "kernelspec": {
   "display_name": "Python 3",
   "language": "python",
   "name": "python3"
  },
  "language_info": {
   "codemirror_mode": {
    "name": "ipython",
    "version": 3
   },
   "file_extension": ".py",
   "mimetype": "text/x-python",
   "name": "python",
   "nbconvert_exporter": "python",
   "pygments_lexer": "ipython3",
   "version": "3.10.0a7"
  }
 },
 "nbformat": 4,
 "nbformat_minor": 4
}
