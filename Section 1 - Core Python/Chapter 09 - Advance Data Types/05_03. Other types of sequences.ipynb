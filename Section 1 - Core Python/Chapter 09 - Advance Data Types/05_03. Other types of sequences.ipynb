{
 "cells": [
  {
   "cell_type": "markdown",
   "metadata": {},
   "source": [
    "# Other types of sequences"
   ]
  },
  {
   "cell_type": "markdown",
   "metadata": {},
   "source": [
    "Also in the *builtins*, Python provides:\n",
    "\n",
    "+ *set*: mutable sequence univocal (without repetitions) unordered.\n",
    "+ *frozenset*: immutable sequence univocal unordered.\n",
    "\n",
    "Both types implement set operations, such as: union, intersection e difference.\n",
    "\n",
    "Example:"
   ]
  },
  {
   "cell_type": "code",
   "execution_count": 1,
   "metadata": {},
   "outputs": [
    {
     "name": "stdout",
     "output_type": "stream",
     "text": [
      "(1, 2, 3, 'Aasdf', [1, 3, 5])\n",
      "(1, 2, 3, 'Aasdf', [1, 'test', 5])\n",
      "(1, 2, 3, 'Aasdf', [1, 'test', 5, 'testing'])\n"
     ]
    }
   ],
   "source": [
    "test = (1, 2, 3, \"Aasdf\", [1, 3, 5])\n",
    "print(test)\n",
    "test[-1][1]= \"test\"  \n",
    "print(test)\n",
    "test[-1].append(\"testing\")\n",
    "print(test)"
   ]
  },
  {
   "cell_type": "code",
   "execution_count": 2,
   "metadata": {},
   "outputs": [
    {
     "name": "stdout",
     "output_type": "stream",
     "text": [
      "([1, 2], 4)\n",
      "<class 'list'>\n",
      "([1, [5], 5, 5], 4)\n"
     ]
    }
   ],
   "source": [
    "s1 = (1,2,3)\n",
    "# print(s1)\n",
    "# print(len(s1))\n",
    "# print(s1.append(4))\n",
    "s2 = ([1,2], 4)\n",
    "print(s2)\n",
    "\n",
    "# s2[0][1] = [5]\n",
    "x = s2[0]\n",
    "x[1] = [5]\n",
    "x.append(5)\n",
    "print(type(x))\n",
    "s2[0].append(5)\n",
    "# s2[0] = [6]\n",
    "print(s2)"
   ]
  },
  {
   "cell_type": "code",
   "execution_count": 3,
   "metadata": {},
   "outputs": [
    {
     "name": "stdout",
     "output_type": "stream",
     "text": [
      "((1, 2), (21, 22), (31, 31), (41, 42))\n",
      "2\n",
      "22\n",
      "21\n",
      "(1, 2)\n"
     ]
    }
   ],
   "source": [
    "s = ((1,2),(21,22),(31,31),(41,42))\n",
    "print(s)\n",
    "print(s[0][1])\n",
    "print(s[1][1])\n",
    "print(s[1][0])\n",
    "print(s[0])"
   ]
  },
  {
   "cell_type": "code",
   "execution_count": 4,
   "metadata": {
    "scrolled": true
   },
   "outputs": [
    {
     "name": "stdout",
     "output_type": "stream",
     "text": [
      "s1: {0, 1, 2} \n",
      "s2: {8, 9, 10} \n",
      "s3: {8, 2, 4, 6}\n",
      "Union of s1 and s2: {0, 1, 2, 8, 9, 10}\n",
      "Union of s2 and s1: {0, 1, 2, 8, 9, 10}\n",
      "Difference with s3: {0, 1, 10, 9}\n",
      "Intersection with s3: {8, 2}\n",
      "s1 includes 1 and 2\n",
      "s1 and s2 have no common elements\n",
      "s2 includes all items from s4\n",
      "s2 and s3 have common elements\n"
     ]
    }
   ],
   "source": [
    "# Data sets\n",
    "s1 = set(range(3))\n",
    "s2 = set(range(10, 7, -1))\n",
    "s3 = set(range(2, 10, 2))\n",
    "s4 = [8, 9]\n",
    "\n",
    "# Shows the data\n",
    "print ('s1:', s1, '\\ns2:', s2, '\\ns3:', s3)\n",
    "\n",
    "# Union\n",
    "s1s2 = s1.union(s2)\n",
    "print ('Union of s1 and s2:', s1s2)\n",
    "s2s1 = s2.union(s1)\n",
    "print ('Union of s2 and s1:', s2s1)\n",
    "\n",
    "# Difference\n",
    "print ('Difference with s3:', s1s2.difference(s3))\n",
    "\n",
    "# Intersectiono\n",
    "print ('Intersection with s3:', s1s2.intersection(s3))\n",
    "\n",
    "# Tests if a set includes the other\n",
    "if s1.issuperset([1, 2]):\n",
    "    print ('s1 includes 1 and 2')\n",
    "\n",
    "# Tests if there is no common elements\n",
    "if s1.isdisjoint(s2):\n",
    "    print ('s1 and s2 have no common elements')\n",
    "\n",
    "# Tests if a set includes the other\n",
    "if s2.issuperset(s4):\n",
    "    print ('s2 includes all items from s4')\n",
    "else:\n",
    "    print(\"s2 does not include all items from s4\")\n",
    "\n",
    "# Tests if there is no common elements\n",
    "if s2.isdisjoint(s3):\n",
    "    print ('s2 and s3 have no common elements')\n",
    "else:\n",
    "    print(\"s2 and s3 have common elements\")"
   ]
  },
  {
   "cell_type": "markdown",
   "metadata": {},
   "source": [
    "When one list is converted to a `set`, the repetitions are discarded."
   ]
  },
  {
   "cell_type": "code",
   "execution_count": null,
   "metadata": {
    "scrolled": false
   },
   "outputs": [],
   "source": []
  }
 ],
 "metadata": {
  "kernelspec": {
   "display_name": "Python 3 (ipykernel)",
   "language": "python",
   "name": "python3"
  },
  "language_info": {
   "codemirror_mode": {
    "name": "ipython",
    "version": 3
   },
   "file_extension": ".py",
   "mimetype": "text/x-python",
   "name": "python",
   "nbconvert_exporter": "python",
   "pygments_lexer": "ipython3",
   "version": "3.9.9"
  }
 },
 "nbformat": 4,
 "nbformat_minor": 2
}
