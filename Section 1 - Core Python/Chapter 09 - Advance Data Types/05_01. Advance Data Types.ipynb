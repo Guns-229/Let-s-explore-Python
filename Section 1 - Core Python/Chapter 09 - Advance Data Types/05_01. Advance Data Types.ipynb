{
 "cells": [
  {
   "cell_type": "markdown",
   "metadata": {},
   "source": [
    "# Advance Data Types"
   ]
  },
  {
   "cell_type": "markdown",
   "metadata": {},
   "source": [
    "We will cover few advance data types in this section such as \n",
    "- Collections\n",
    "- set\n",
    "- frozenset"
   ]
  },
  {
   "cell_type": "markdown",
   "metadata": {},
   "source": [
    "## Collections "
   ]
  },
  {
   "cell_type": "markdown",
   "metadata": {},
   "source": [
    "The collections module contains many specialized container datatypes as shown below\n",
    "\n",
    "| Name | Description|\n",
    "|:-------------:|---------------|\n",
    "|namedtuple() |\tfactory function for creating tuple subclasses with named fields|\n",
    "|deque \t|list-like container with fast appends and pops on either end|\n",
    "|ChainMap \t|dict-like class for creating a single view of multiple mappings|\n",
    "|Counter |\tdict subclass for counting hashable objects|\n",
    "|OrderedDict |\tdict subclass that remembers the order entries were added|\n",
    "|defaultdict |\tdict subclass that calls a factory function to supply missing values|\n",
    "|UserDict |\twrapper around dictionary objects for easier dict subclassing|\n",
    "|UserList \t|wrapper around list objects for easier list subclassing|\n",
    "|UserString |\twrapper around string objects for easier string subclassing|"
   ]
  },
  {
   "cell_type": "markdown",
   "metadata": {},
   "source": [
    "### ChainMap — Search Multiple Dictionaries"
   ]
  },
  {
   "cell_type": "markdown",
   "metadata": {},
   "source": [
    "The `ChainMap` class manages a list of dictionaries, and can be used to search through them in the order they are added to find values for associated keys. \n",
    "\n",
    "It makes a good **\"context\" container**, as it can be visualised as a stack for which changes happen as soon as the stack grows, with these changes being discarded again as soon as the stack shrinks.\n",
    "\n",
    "Treat it as a view table in DB, where actual values are still stored in their respective table and we can still perform all the operation on them."
   ]
  },
  {
   "cell_type": "markdown",
   "metadata": {},
   "source": [
    "#### Accessing Values"
   ]
  },
  {
   "cell_type": "markdown",
   "metadata": {},
   "source": [
    "The ChainMap supports the same API as a regular dictionary for accessing existing values."
   ]
  },
  {
   "cell_type": "code",
   "execution_count": 1,
   "metadata": {},
   "outputs": [
    {
     "name": "stdout",
     "output_type": "stream",
     "text": [
      "Individual Values\n",
      "a = A\n",
      "b = B\n",
      "c = C\n",
      "--------------------\n",
      "<class 'collections.abc.KeysView'>\n",
      "Keys = ['b', 'c', 'a']\n",
      "Values = ['B', 'C', 'A']\n",
      "--------------------\n",
      "Items:\n",
      "b = B\n",
      "c = C\n",
      "a = A\n",
      "--------------------\n",
      "\"d\" in m: False\n"
     ]
    }
   ],
   "source": [
    "import collections\n",
    "# from collections import ChainMap\n",
    "\n",
    "a = {'a': 'A', 'c': 'C'}\n",
    "b = {'b': 'B', 'c': 'D'}\n",
    "\n",
    "m = collections.ChainMap(a, b)\n",
    "\n",
    "print('Individual Values')\n",
    "print('a = {}'.format(m['a']))\n",
    "print('b = {}'.format(m['b']))\n",
    "print('c = {}'.format(m['c']))\n",
    "print(\"-\"*20)\n",
    "\n",
    "print(type(m.keys()))\n",
    "print('Keys = {}'.format(list(m.keys())))\n",
    "print('Values = {}'.format(list(m.values())))\n",
    "print(\"-\"*20)\n",
    "\n",
    "print('Items:')\n",
    "for k, v in m.items():\n",
    "    print('{} = {}'.format(k, v))\n",
    "print(\"-\"*20)\n",
    "\n",
    "print('\"d\" in m: {}'.format(('d' in m)))"
   ]
  },
  {
   "cell_type": "code",
   "execution_count": 2,
   "metadata": {},
   "outputs": [
    {
     "name": "stdout",
     "output_type": "stream",
     "text": [
      "['b', 'c', 'a', 'B', 'C', 'A']\n"
     ]
    }
   ],
   "source": [
    "a = {'a': 'A', 'c': 'C'}\n",
    "b = {'b': 'B', 'c': 'D'}\n",
    "\n",
    "m = collections.ChainMap(a, b)\n",
    "\n",
    "lst = []\n",
    "\n",
    "for v in m.keys():\n",
    "    lst.append(v)\n",
    "\n",
    "for v in m.values():\n",
    "    lst.append(v)\n",
    "\n",
    "print(lst)"
   ]
  },
  {
   "cell_type": "markdown",
   "metadata": {},
   "source": [
    "The child mappings are searched in the order they are passed to the constructor, so the value reported for the key 'c' comes from the a dictionary."
   ]
  },
  {
   "cell_type": "markdown",
   "metadata": {},
   "source": [
    "#### Reordering"
   ]
  },
  {
   "cell_type": "markdown",
   "metadata": {},
   "source": [
    "The ChainMap stores the list of mappings over which it searches in a list in its maps attribute. This list is mutable, so it is possible to add new mappings directly or to change the order of the elements to control lookup and update behavior."
   ]
  },
  {
   "cell_type": "code",
   "execution_count": 3,
   "metadata": {},
   "outputs": [
    {
     "name": "stdout",
     "output_type": "stream",
     "text": [
      "[{'a': '1', 'c': '3'}, {'b': '2', 'c': '33'}]\n",
      "c = 3\n",
      "\n",
      "[{'b': '2', 'c': '33'}, {'a': '1', 'c': '3'}]\n",
      "c = 33\n"
     ]
    }
   ],
   "source": [
    "import collections\n",
    "\n",
    "a = {'a': '1', 'c': '3'}\n",
    "b = {'b': '2', 'c': '33'}\n",
    "\n",
    "cm = collections.ChainMap(a, b)\n",
    "\n",
    "print(cm.maps)\n",
    "print('c = {}\\n'.format(cm['c']))\n",
    "# reverse the list\n",
    "cm.maps = list(reversed(cm.maps)) # m = collections.ChainMap(b, a)\n",
    "\n",
    "print(cm.maps)\n",
    "print('c = {}'.format(cm['c']))"
   ]
  },
  {
   "cell_type": "markdown",
   "metadata": {},
   "source": [
    "When the list of mappings is reversed, the value associated with 'c' changes."
   ]
  },
  {
   "cell_type": "markdown",
   "metadata": {},
   "source": [
    "#### Updating Values"
   ]
  },
  {
   "cell_type": "markdown",
   "metadata": {},
   "source": [
    "A ChainMap does not cache the values in the child mappings. Thus, if their contents are modified, the results are reflected when the ChainMap is accessed."
   ]
  },
  {
   "cell_type": "code",
   "execution_count": 4,
   "metadata": {},
   "outputs": [
    {
     "name": "stdout",
     "output_type": "stream",
     "text": [
      "Before: 3\n",
      "After : 3.3\n"
     ]
    }
   ],
   "source": [
    "import collections\n",
    "\n",
    "a = {'a': '1', 'c': '3'}\n",
    "b = {'b': '2', 'c': '33'}\n",
    "\n",
    "m = collections.ChainMap(a, b)\n",
    "print('Before: {}'.format(m['c']))\n",
    "a['c'] = '3.3'\n",
    "print('After : {}'.format(m['c']))"
   ]
  },
  {
   "cell_type": "code",
   "execution_count": 5,
   "metadata": {},
   "outputs": [
    {
     "name": "stdout",
     "output_type": "stream",
     "text": [
      "[{'b': '2', 'c': '33'}, {'a': '1', 'c': '3'}]\n",
      "Before: 33\n",
      "After : 33\n"
     ]
    }
   ],
   "source": [
    "import collections\n",
    "\n",
    "a = {'a': '1', 'c': '3'}\n",
    "b = {'b': '2', 'c': '33'}\n",
    "\n",
    "cm = collections.ChainMap(b, a)\n",
    "print(cm.maps)\n",
    "print('Before: {}'.format(cm['c']))\n",
    "a['c'] = '3.3'\n",
    "print('After : {}'.format(cm['c']))"
   ]
  },
  {
   "cell_type": "markdown",
   "metadata": {},
   "source": [
    "Changing the values associated with existing keys and adding new elements works the same way.\n",
    "\n",
    "It is also possible to set values through the ChainMap directly, although only the first mapping in the chain is actually modified."
   ]
  },
  {
   "cell_type": "code",
   "execution_count": 6,
   "metadata": {},
   "outputs": [
    {
     "name": "stdout",
     "output_type": "stream",
     "text": [
      "Before: 3\n",
      "After : 3.3\n",
      "3.3\n",
      "33\n"
     ]
    }
   ],
   "source": [
    "import collections\n",
    "\n",
    "a = {'a': '1', 'c': '3'}\n",
    "b = {'b': '2', 'c': '33'}\n",
    "\n",
    "cm = collections.ChainMap(a, b)\n",
    "print('Before: {}'.format(cm['c']))\n",
    "cm['c'] = '3.3'\n",
    "print('After : {}'.format(cm['c']))\n",
    "print(a['c'])\n",
    "print(b['c'])"
   ]
  },
  {
   "cell_type": "code",
   "execution_count": 7,
   "metadata": {},
   "outputs": [
    {
     "name": "stdout",
     "output_type": "stream",
     "text": [
      "Before: 33\n",
      "After : 3.3\n",
      "3\n",
      "3.3\n"
     ]
    }
   ],
   "source": [
    "import collections\n",
    "\n",
    "a = {'a': '1', 'c': '3'}\n",
    "b = {'b': '2', 'c': '33'}\n",
    "\n",
    "cm = collections.ChainMap(b, a)\n",
    "print('Before: {}'.format(cm['c']))\n",
    "cm['c'] = '3.3'\n",
    "print('After : {}'.format(cm['c']))\n",
    "print(a['c'])\n",
    "print(b['c'])"
   ]
  },
  {
   "cell_type": "code",
   "execution_count": 8,
   "metadata": {},
   "outputs": [
    {
     "name": "stdout",
     "output_type": "stream",
     "text": [
      "Before: 3\n",
      "After : 3\n",
      "[{'a': '1', 'c': '3', 'd': '3.3'}, {'b': '2', 'c': '33'}]\n",
      "{'a': '1', 'c': '3', 'd': '3.3'}\n",
      "{'b': '2', 'c': '33'}\n"
     ]
    }
   ],
   "source": [
    "import collections\n",
    "\n",
    "a = {'a': '1', 'c': '3'}\n",
    "b = {'b': '2', 'c': '33'}\n",
    "\n",
    "cm = collections.ChainMap(a, b)\n",
    "print('Before: {}'.format(cm['c']))\n",
    "cm['d'] = '3.3'\n",
    "print('After : {}'.format(cm['c']))\n",
    "print(cm.maps)\n",
    "print(a)\n",
    "print(b)"
   ]
  },
  {
   "cell_type": "markdown",
   "metadata": {},
   "source": [
    "When the new value is stored using m, the a mapping is updated."
   ]
  },
  {
   "cell_type": "markdown",
   "metadata": {},
   "source": [
    "ChainMap provides a convenience method for creating a new instance with one extra mapping at the front of the maps list to make it easy to avoid modifying the existing underlying data structures.\n",
    "\n",
    "This stacking behavior is what makes it convenient to use ChainMap instances as template or application contexts. Specifically, it is easy to add or update values in one iteration, then discard the changes for the next iteration."
   ]
  },
  {
   "cell_type": "code",
   "execution_count": 9,
   "metadata": {},
   "outputs": [
    {
     "name": "stdout",
     "output_type": "stream",
     "text": [
      "m1 before: ChainMap({'a': '1', 'c': '3'}, {'b': '2', 'c': '33'})\n",
      "m2 before: ChainMap({}, {'a': '1', 'c': '3'}, {'b': '2', 'c': '33'})\n",
      "m1 after: ChainMap({'a': '1', 'c': '3'}, {'b': '2', 'c': '33'})\n",
      "m2 after: ChainMap({'c': '3.3'}, {'a': '1', 'c': '3'}, {'b': '2', 'c': '33'})\n"
     ]
    }
   ],
   "source": [
    "import collections\n",
    "\n",
    "\n",
    "a = {'a': '1', 'c': '3'}\n",
    "b = {'b': '2', 'c': '33'}\n",
    "\n",
    "m1 = collections.ChainMap(a, b)\n",
    "m2 = m1.new_child()\n",
    "\n",
    "print('m1 before:', m1)\n",
    "print('m2 before:', m2)\n",
    "\n",
    "m2['c'] = '3.3'\n",
    "\n",
    "print('m1 after:', m1)\n",
    "print('m2 after:', m2)"
   ]
  },
  {
   "cell_type": "markdown",
   "metadata": {},
   "source": [
    "For situations where the new context is known or built in advance, it is also possible to pass a mapping to new_child()."
   ]
  },
  {
   "cell_type": "code",
   "execution_count": 10,
   "metadata": {},
   "outputs": [
    {
     "name": "stdout",
     "output_type": "stream",
     "text": [
      "m1[\"c\"] = 3\n",
      "m2[\"c\"] = 333\n",
      "ChainMap({'c': '333'}, {'a': '1', 'c': '3'}, {'b': '2', 'c': '33'})\n",
      "ChainMap({'c': '333'}, {'a': '1', 'c': '3'}, {'b': '2', 'c': '33'})\n"
     ]
    }
   ],
   "source": [
    "import collections\n",
    "\n",
    "\n",
    "a = {'a': '1', 'c': '3'}\n",
    "b = {'b': '2', 'c': '33'}\n",
    "c = {'c': '333'}\n",
    "\n",
    "m1 = collections.ChainMap(a, b)\n",
    "m2 = m1.new_child(c)\n",
    "\n",
    "print('m1[\"c\"] = {}'.format(m1['c']))\n",
    "print('m2[\"c\"] = {}'.format(m2['c']))\n",
    "print(m2)\n",
    "\n",
    "#This is the equivalent of\n",
    "m2_1 = collections.ChainMap(c, *m1.maps)\n",
    "print(m2_1)"
   ]
  },
  {
   "cell_type": "markdown",
   "metadata": {},
   "source": [
    "### Counter"
   ]
  },
  {
   "cell_type": "markdown",
   "metadata": {},
   "source": [
    "*Counter* is a *dict* subclass which helps count the hashable objects. It stores elements as dictionary keys and the counts of the objects as value. In other words , It is a container that keeps track of how many times equivalent values are present.\n",
    "\n",
    "**For example:**"
   ]
  },
  {
   "cell_type": "code",
   "execution_count": 11,
   "metadata": {},
   "outputs": [
    {
     "data": {
      "text/plain": [
       "[('the', 1150),\n",
       " ('and', 983),\n",
       " ('to', 772),\n",
       " ('of', 672),\n",
       " ('i', 638),\n",
       " ('you', 556),\n",
       " ('a', 550),\n",
       " ('my', 516),\n",
       " ('in', 450),\n",
       " ('it', 419)]"
      ]
     },
     "execution_count": 11,
     "metadata": {},
     "output_type": "execute_result"
    }
   ],
   "source": [
    "# Tally occurrences of words in a list\n",
    "from collections import Counter\n",
    "\n",
    "cnt = Counter()\n",
    "for word in ['red', 'blue', 'red', 'green', 'blue', 'blue']:\n",
    "    cnt[word] += 1\n",
    "\n",
    "Counter({'blue': 3, 'red': 2, 'green': 1})\n",
    "\n",
    "# Find the ten most common words in Hamlet\n",
    "import re\n",
    "words = re.findall(r'\\w+', open('hamlet.txt').read().lower())\n",
    "Counter(words).most_common(10)"
   ]
  },
  {
   "cell_type": "markdown",
   "metadata": {},
   "source": [
    "Where as Counter can be used:"
   ]
  },
  {
   "cell_type": "markdown",
   "metadata": {},
   "source": [
    "#### `Counter()` with lists"
   ]
  },
  {
   "cell_type": "code",
   "execution_count": 12,
   "metadata": {},
   "outputs": [
    {
     "name": "stdout",
     "output_type": "stream",
     "text": [
      "Counter({44: 4, 23: 3, 1: 2, 4: 1, 55: 1, 555: 1, 32: 1, 56: 1, 64: 1, 2: 1})\n",
      "[(44, 4), (23, 3), (1, 2), (4, 1)]\n"
     ]
    }
   ],
   "source": [
    "l = [1 ,23 , 23, 44, 4, 44, 55, 555, 44, 32, 23, 44, 56, 64, 2, 1]\n",
    "\n",
    "lstCounter = Counter(l)\n",
    "print(lstCounter)\n",
    "print(lstCounter.most_common(4))"
   ]
  },
  {
   "cell_type": "markdown",
   "metadata": {},
   "source": [
    "#### `Counter` with Strings"
   ]
  },
  {
   "cell_type": "code",
   "execution_count": 13,
   "metadata": {},
   "outputs": [
    {
     "data": {
      "text/plain": [
       "[('module', 2), ('a', 2), ('built-in', 2)]"
      ]
     },
     "execution_count": 13,
     "metadata": {},
     "output_type": "execute_result"
    }
   ],
   "source": [
    "sentance = \"The collections module is a tresure trove of a built-in module that implements \" + \\\n",
    "           \"specialized container datatypes providing alternatives to Python’s general purpose \" + \\\n",
    "           \"built-in containers.\"\n",
    "\n",
    "wordList = sentance.split(\" \")\n",
    "Counter(wordList).most_common(3)"
   ]
  },
  {
   "cell_type": "markdown",
   "metadata": {},
   "source": [
    "#### `Counter` methods"
   ]
  },
  {
   "cell_type": "code",
   "execution_count": 14,
   "metadata": {},
   "outputs": [
    {
     "name": "stdout",
     "output_type": "stream",
     "text": [
      "[('module', 2), ('a', 2), ('built-in', 2), ('The', 1)]\n",
      "dict_items([('The', 1), ('collections', 1), ('module', 2), ('is', 1), ('a', 2), ('tresure', 1), ('trove', 1), ('of', 1), ('built-in', 2), ('that', 1), ('implements', 1), ('specialized', 1), ('container', 1), ('datatypes', 1), ('providing', 1), ('alternatives', 1), ('to', 1), ('Python’s', 1), ('general', 1), ('purpose', 1), ('containers.', 1)])\n"
     ]
    }
   ],
   "source": [
    "# find the most common words\n",
    "\n",
    "# Methods with Counter()\n",
    "c = Counter(wordList)\n",
    "print(c.most_common(4))\n",
    "print(c.items())"
   ]
  },
  {
   "cell_type": "markdown",
   "metadata": {},
   "source": [
    "### Default dict "
   ]
  },
  {
   "cell_type": "markdown",
   "metadata": {},
   "source": [
    "The standard dictionary includes the method `setdefault()` for retrieving a value and establishing a default if the value does not exist. By contrast, defaultdict lets the caller specify the default up front when the container is initialized."
   ]
  },
  {
   "cell_type": "code",
   "execution_count": 15,
   "metadata": {},
   "outputs": [
    {
     "name": "stdout",
     "output_type": "stream",
     "text": [
      "{'a': 1, 'b': 2}\n",
      "1\n",
      "Error: 'd'\n"
     ]
    }
   ],
   "source": [
    "d = {\"a\": 1, \"b\": 2}\n",
    "print(d)\n",
    "print(d['a'])\n",
    "try:\n",
    "    print(d['d'])\n",
    "except Exception as e:\n",
    "    print(\"Error:\", e)"
   ]
  },
  {
   "cell_type": "code",
   "execution_count": 16,
   "metadata": {},
   "outputs": [
    {
     "name": "stdout",
     "output_type": "stream",
     "text": [
      "None\n"
     ]
    }
   ],
   "source": [
    "print(d.get('d', None))"
   ]
  },
  {
   "cell_type": "code",
   "execution_count": 17,
   "metadata": {},
   "outputs": [
    {
     "name": "stdout",
     "output_type": "stream",
     "text": [
      "defaultdict(<class 'object'>, {})\n",
      "<object object at 0x10f369290>\n",
      "defaultdict(<class 'object'>, {'one': <object object at 0x10f369290>})\n",
      "defaultdict(<class 'object'>, {'one': <object object at 0x10f369290>, 'Two': 2})\n",
      "one\n",
      "<object object at 0x10f369290>\n",
      "Two\n",
      "2\n"
     ]
    }
   ],
   "source": [
    "from collections import defaultdict\n",
    "\n",
    "dd  = defaultdict(object)\n",
    "print(dd)\n",
    "print(dd['one'])\n",
    "print(dd)\n",
    "dd['Two'] = 2\n",
    "print(dd)\n",
    "for d in dd:\n",
    "    print(d)\n",
    "    print(dd[d])"
   ]
  },
  {
   "cell_type": "code",
   "execution_count": 18,
   "metadata": {},
   "outputs": [
    {
     "name": "stdout",
     "output_type": "stream",
     "text": [
      "defaultdict(<function default_func at 0x10f468a70>, {})\n"
     ]
    }
   ],
   "source": [
    "from collections import defaultdict\n",
    "\n",
    "def default_func():\n",
    "    return 'defaul value'\n",
    "\n",
    "d1 = defaultdict(default_func)\n",
    "print(d1)"
   ]
  },
  {
   "cell_type": "code",
   "execution_count": 19,
   "metadata": {},
   "outputs": [
    {
     "data": {
      "text/plain": [
       "'defaul value'"
      ]
     },
     "execution_count": 19,
     "metadata": {},
     "output_type": "execute_result"
    }
   ],
   "source": [
    "d1['test']"
   ]
  },
  {
   "cell_type": "code",
   "execution_count": 20,
   "metadata": {},
   "outputs": [
    {
     "name": "stdout",
     "output_type": "stream",
     "text": [
      "dict_items([('test', 'defaul value')])\n"
     ]
    }
   ],
   "source": [
    "print(d1.items())"
   ]
  },
  {
   "cell_type": "code",
   "execution_count": 21,
   "metadata": {},
   "outputs": [
    {
     "name": "stdout",
     "output_type": "stream",
     "text": [
      "dict_values(['defaul value'])  :  dict_keys(['test'])\n"
     ]
    }
   ],
   "source": [
    "print(d1.values(), \" : \",  d1.keys())"
   ]
  },
  {
   "cell_type": "code",
   "execution_count": 22,
   "metadata": {},
   "outputs": [
    {
     "name": "stdout",
     "output_type": "stream",
     "text": [
      "d: defaultdict(<function default_factory at 0x10f4685f0>, {'india': 'New Delhi'})\n",
      "india => New Delhi\n",
      "India => default value\n",
      "bar => default value\n",
      "defaultdict(<function default_factory at 0x10f4685f0>, {'india': 'New Delhi', 'India': 'default value', 'bar': 'default value'})\n"
     ]
    }
   ],
   "source": [
    "# Using factory function\n",
    "import collections\n",
    "\n",
    "def default_factory():\n",
    "    return 'default value'\n",
    "\n",
    "d = collections.defaultdict(default_factory, india='New Delhi')\n",
    "print('d:', d)\n",
    "print('india =>', d['india'])\n",
    "print('India =>', d['India'])\n",
    "print('bar =>', d['bar'])\n",
    "print(d)"
   ]
  },
  {
   "cell_type": "code",
   "execution_count": 23,
   "metadata": {},
   "outputs": [],
   "source": [
    "# Using factory function\n",
    "import collections\n",
    "\n",
    "def default_val():\n",
    "    return 'Bhopal'\n",
    "\n",
    "d = collections.defaultdict(default_factory, \n",
    "                            {\n",
    "                                \"India\": 'New Delhi', \n",
    "                                 \"Karnataka\":\"Bangaluru\"\n",
    "                            })"
   ]
  },
  {
   "cell_type": "code",
   "execution_count": 24,
   "metadata": {},
   "outputs": [
    {
     "name": "stdout",
     "output_type": "stream",
     "text": [
      "d: defaultdict(<function default_factory at 0x10f4685f0>, {'India': 'New Delhi', 'Karnataka': 'Bangaluru'})\n",
      "india => default value\n",
      "MP => default value\n",
      "defaultdict(<function default_factory at 0x10f4685f0>, {'India': 'New Delhi', 'Karnataka': 'Bangaluru', 'india': 'default value', 'MP': 'default value'})\n"
     ]
    }
   ],
   "source": [
    "print('d:', d)\n",
    "print('india =>', d['india'])\n",
    "print('MP =>', d['MP'])\n",
    "print(d)"
   ]
  },
  {
   "cell_type": "code",
   "execution_count": 25,
   "metadata": {},
   "outputs": [
    {
     "name": "stdout",
     "output_type": "stream",
     "text": [
      "d: defaultdict(<function default_factory at 0x10f4688c0>, {'foo': 'bar'})\n",
      "foo => bar\n",
      "bar => default value\n"
     ]
    }
   ],
   "source": [
    "# Using factory function\n",
    "\n",
    "# ---------------------------------------------------\n",
    "# TODO:  How can i pass value to the default function\n",
    "# ---------------------------------------------------\n",
    "import collections\n",
    "\n",
    "def default_factory():\n",
    "    return 'default value'\n",
    "\n",
    "d = collections.defaultdict(default_factory, foo='bar')\n",
    "print('d:', d)\n",
    "print('foo =>', d['foo'])\n",
    "print('bar =>', d['bar'])"
   ]
  },
  {
   "cell_type": "code",
   "execution_count": 26,
   "metadata": {
    "collapsed": true
   },
   "outputs": [
    {
     "name": "stdout",
     "output_type": "stream",
     "text": [
      "dict_items([('India', ['New Delhi']), ('Iceland', ['Reykjavik']), ('Indonesia', ['Jakarta']), ('Ireland', ['Dublin']), ('Israel', ['Jerusalem']), ('Italy', ['Rome'])])\n"
     ]
    }
   ],
   "source": [
    "# Using list as the default_factory, it is easy to group a sequence of key-value pairs into a dictionary of lists:\n",
    "\n",
    "from collections import defaultdict\n",
    "\n",
    "countryList = [(\"India\", \"New Delhi\"), (\"Iceland\", \"Reykjavik\"), \n",
    "               (\"Indonesia\", \"Jakarta\"), (\"Ireland\", \"Dublin\"), \n",
    "               (\"Israel\", \"Jerusalem\"), (\"Italy\", \"Rome\")]\n",
    "d = defaultdict(list)\n",
    "for country, capital in countryList:\n",
    "    d[country].append(capital)\n",
    "\n",
    "print(d.items())"
   ]
  },
  {
   "cell_type": "code",
   "execution_count": 27,
   "metadata": {},
   "outputs": [
    {
     "name": "stdout",
     "output_type": "stream",
     "text": [
      "defaultdict(<class 'int'>, {})\n",
      "dict_items([('V', 1), ('a', 4), ('n', 1), ('d', 1), ('e', 1), (' ', 1), ('M', 1), ('t', 1), ('r', 1), ('m', 1)])\n",
      "0\n"
     ]
    }
   ],
   "source": [
    "# Setting the default_factory to int makes the defaultdict useful for counting\n",
    "quote = 'Vande Mataram'\n",
    "dd = defaultdict(int)\n",
    "print(dd)\n",
    "for chars in quote:\n",
    "    dd[chars] += 1\n",
    "    \n",
    "print(dd.items())\n",
    "print(dd['T'])"
   ]
  },
  {
   "cell_type": "markdown",
   "metadata": {
    "collapsed": true
   },
   "source": [
    "### deque — Double-Ended Queue"
   ]
  },
  {
   "cell_type": "markdown",
   "metadata": {},
   "source": [
    "A double-ended queue, or deque, supports adding and removing elements from either end of the queue. The more commonly used stacks and queues are degenerate forms of deques, where the inputs and outputs are restricted to a single end."
   ]
  },
  {
   "cell_type": "code",
   "execution_count": 28,
   "metadata": {},
   "outputs": [
    {
     "name": "stdout",
     "output_type": "stream",
     "text": [
      "Deque: deque(['V', 'a', 'n', 'd', 'e', ' ', 'M', 'a', 't', 'a', 'r', 'a', 'm'])\n",
      "Length: 13\n",
      "Left end: V\n",
      "Right end: m\n",
      "remove(e): deque(['V', 'a', 'n', 'd', ' ', 'M', 'a', 't', 'a', 'r', 'a', 'm'])\n"
     ]
    }
   ],
   "source": [
    "import collections\n",
    "\n",
    "d = collections.deque('Vande Mataram')\n",
    "print('Deque:', d)\n",
    "print('Length:', len(d))\n",
    "print('Left end:', d[0])\n",
    "print('Right end:', d[-1])\n",
    "\n",
    "d.remove('e')\n",
    "print('remove(e):', d)"
   ]
  },
  {
   "cell_type": "markdown",
   "metadata": {},
   "source": [
    "#### Adding "
   ]
  },
  {
   "cell_type": "code",
   "execution_count": 29,
   "metadata": {},
   "outputs": [
    {
     "name": "stdout",
     "output_type": "stream",
     "text": [
      "extend    : deque(['V', 'a', 'n', 'd', 'e'])\n",
      "append    : deque(['V', 'a', 'n', 'd', 'e', ' ', 'M', 'a', 't', 'a', 'r', 'a', 'm', ' ', '!', '!', '!'])\n",
      "append    : deque([' ', '*', '!', '#', ' ', 'V', 'a', 'n', 'd', 'e', ' ', 'M', 'a', 't', 'a', 'r', 'a', 'm', ' ', '!', '!', '!'])\n",
      "extendleft: deque([5, 4, 3, 2, 1, 0])\n",
      "appendleft: deque([6, 5, 4, 3, 2, 1, 0])\n"
     ]
    }
   ],
   "source": [
    "import collections\n",
    "\n",
    "# Add to the right\n",
    "d1 = collections.deque()\n",
    "d1.extend('Vande')\n",
    "print('extend    :', d1)\n",
    "\n",
    "for a in \" Mataram\":\n",
    "    d1.append(a)\n",
    "    \n",
    "d1.extend(\" !!!\")  \n",
    "print('append    :', d1)\n",
    "d1.extendleft(\" #!* \")  \n",
    "print('append    :', d1)\n",
    "\n",
    "# Add to the left\n",
    "d2 = collections.deque()\n",
    "d2.extendleft(range(6))\n",
    "print('extendleft:', d2)\n",
    "d2.appendleft(6)\n",
    "print('appendleft:', d2)"
   ]
  },
  {
   "cell_type": "markdown",
   "metadata": {},
   "source": [
    "#### Consuming"
   ]
  },
  {
   "cell_type": "markdown",
   "metadata": {},
   "source": [
    "Python provides two methods (`pop` & `popleft`) which can be used to consume deque. We will encounter `IndexError` exception when calling `pop` or `popleft` if nothing to pop. We are using it to exit out of our while loop."
   ]
  },
  {
   "cell_type": "code",
   "execution_count": 30,
   "metadata": {},
   "outputs": [
    {
     "name": "stdout",
     "output_type": "stream",
     "text": [
      ".... K O P ~~~~\n",
      "deque([])\n",
      "deque(['!', '!', '!', ' ', '.', '.', '.', '.', ' ', 'V', 'a', 'n', 'd', 'e', ' ', 'M', 'a', 't', 'a', 'r', 'a', 'm', ' ', '.', '.', '.', '.', ' ', '!', '!', '!'])\n",
      "! ! !   . . . .   V a n d e   M a t a r a m   . . . .   ! ! ! \n",
      "deque([])\n"
     ]
    }
   ],
   "source": [
    "d1 = collections.deque(\"~~~~ P O K ....\")\n",
    "\n",
    "while True:\n",
    "    try:\n",
    "        print(d1.pop(), end=\"\")\n",
    "    except IndexError:\n",
    "        break\n",
    "print(\"\")\n",
    "print(d1)\n",
    "d1 = collections.deque(\"!!! .... Vande Mataram .... !!!\")\n",
    "print(d1)\n",
    "while True:\n",
    "    try:\n",
    "        print(d1.popleft(), end=\" \")\n",
    "    except IndexError:\n",
    "        break\n",
    "print(\"\")\n",
    "print(d1)"
   ]
  },
  {
   "cell_type": "markdown",
   "metadata": {},
   "source": [
    "#### Rotating"
   ]
  },
  {
   "cell_type": "markdown",
   "metadata": {},
   "source": [
    "`deque` provides `rotate` method to rotate the queue as shown in the below example. We can change the direction of rotation by changing the rotation number from `+ve` to `-ve`.\n",
    "- `-ve` number will rotate the queue left side \n",
    "- `+ve` number will rotate the queue right side \n"
   ]
  },
  {
   "cell_type": "code",
   "execution_count": 31,
   "metadata": {},
   "outputs": [
    {
     "name": "stdout",
     "output_type": "stream",
     "text": [
      "deque(['P', 'h', 'i', 'l', 'i', 'p', 'p', 'i', 'n', 'e', 's'])\n",
      "deque(['i', 'n', 'e', 's', 'P', 'h', 'i', 'l', 'i', 'p', 'p'])\n",
      "deque(['P', 'h', 'i', 'l', 'i', 'p', 'p', 'i', 'n', 'e', 's'])\n"
     ]
    }
   ],
   "source": [
    "d = collections.deque(\"Philippines\")\n",
    "\n",
    "print(d)\n",
    "d.rotate(4)\n",
    "print(d)\n",
    "d.rotate(-4)\n",
    "print(d)"
   ]
  },
  {
   "cell_type": "markdown",
   "metadata": {},
   "source": [
    "We can obtain string from deque using `\"\".join` similar to how we get it in `list`"
   ]
  },
  {
   "cell_type": "code",
   "execution_count": 32,
   "metadata": {},
   "outputs": [
    {
     "name": "stdout",
     "output_type": "stream",
     "text": [
      "Philippines\n"
     ]
    }
   ],
   "source": [
    "print(\"\".join(d))"
   ]
  },
  {
   "cell_type": "markdown",
   "metadata": {},
   "source": [
    "#### `deque` vs `list` performance comparison"
   ]
  },
  {
   "cell_type": "code",
   "execution_count": 33,
   "metadata": {},
   "outputs": [],
   "source": [
    "d = collections.deque(range(999999))"
   ]
  },
  {
   "cell_type": "code",
   "execution_count": 34,
   "metadata": {},
   "outputs": [
    {
     "name": "stdout",
     "output_type": "stream",
     "text": [
      "500 ns ± 26.8 ns per loop (mean ± std. dev. of 7 runs, 1000000 loops each)\n"
     ]
    }
   ],
   "source": [
    "%%timeit\n",
    "while True:\n",
    "    try:\n",
    "        d1.pop()\n",
    "    except IndexError:\n",
    "        break"
   ]
  },
  {
   "cell_type": "code",
   "execution_count": 35,
   "metadata": {},
   "outputs": [],
   "source": [
    "l = list(range(999999))"
   ]
  },
  {
   "cell_type": "code",
   "execution_count": 36,
   "metadata": {},
   "outputs": [
    {
     "name": "stdout",
     "output_type": "stream",
     "text": [
      "540 ns ± 33.6 ns per loop (mean ± std. dev. of 7 runs, 1000000 loops each)\n"
     ]
    }
   ],
   "source": [
    "%%timeit\n",
    "while True:\n",
    "    try:\n",
    "        l.pop()\n",
    "    except IndexError:\n",
    "        break"
   ]
  },
  {
   "cell_type": "code",
   "execution_count": 37,
   "metadata": {},
   "outputs": [
    {
     "name": "stdout",
     "output_type": "stream",
     "text": [
      "[]\n"
     ]
    }
   ],
   "source": [
    "print(l)"
   ]
  },
  {
   "cell_type": "markdown",
   "metadata": {},
   "source": [
    "### OrderedDict"
   ]
  },
  {
   "cell_type": "markdown",
   "metadata": {},
   "source": [
    "It is a dictionary subclass that remembers the order in which its contents are added.\n",
    "\n",
    "Lets start with a normal dictionary:"
   ]
  },
  {
   "cell_type": "code",
   "execution_count": 38,
   "metadata": {},
   "outputs": [
    {
     "name": "stdout",
     "output_type": "stream",
     "text": [
      "{'apple': 10, 'grapes': 120, 'mango': 200, 'kiwi': 2000, 'leeche': 20}\n",
      "apple\n",
      "grapes\n",
      "mango\n",
      "kiwi\n",
      "leeche\n"
     ]
    }
   ],
   "source": [
    "fruitsCount = {}\n",
    "fruitsCount[\"apple\"] = 10\n",
    "fruitsCount[\"grapes\"] = 120\n",
    "fruitsCount[\"mango\"] = 200\n",
    "fruitsCount[\"kiwi\"] = 2000\n",
    "fruitsCount[\"leeche\"] = 20\n",
    "print(fruitsCount)\n",
    "for fruit in fruitsCount:\n",
    "    print(fruit)"
   ]
  },
  {
   "cell_type": "code",
   "execution_count": 39,
   "metadata": {},
   "outputs": [
    {
     "name": "stdout",
     "output_type": "stream",
     "text": [
      "OrderedDict([('apple', 10), ('grapes', 120), ('mango', 200), ('kiwi', 2000), ('leeche', 20)])\n",
      "apple\n",
      "grapes\n",
      "mango\n",
      "kiwi\n",
      "leeche\n"
     ]
    }
   ],
   "source": [
    "# Now lets try this with OrderedDict\n",
    "\n",
    "from collections import OrderedDict as OD\n",
    "\n",
    "fruitsCount = OD()\n",
    "fruitsCount[\"apple\"] = 10\n",
    "fruitsCount[\"grapes\"] = 120\n",
    "fruitsCount[\"mango\"] = 200\n",
    "fruitsCount[\"kiwi\"] = 2000\n",
    "fruitsCount[\"leeche\"] = 20\n",
    "print(fruitsCount)\n",
    "for fruit in fruitsCount:\n",
    "    print(fruit)"
   ]
  },
  {
   "cell_type": "markdown",
   "metadata": {},
   "source": [
    "### namedtuple"
   ]
  },
  {
   "cell_type": "markdown",
   "metadata": {},
   "source": [
    "Named tuples helps to have meaning of each position in a tuple and allow us to code with better readability and self-documenting code. You can use them in any place where you are using tuples. In the example we will create a namedtuple to show hold information for points."
   ]
  },
  {
   "cell_type": "code",
   "execution_count": 2,
   "metadata": {},
   "outputs": [],
   "source": [
    "from collections import namedtuple\n",
    "\n",
    "States = namedtuple(\"India\", ['MP', 'K', \"AP\"])  # Defining the namedtuple"
   ]
  },
  {
   "cell_type": "code",
   "execution_count": 3,
   "metadata": {},
   "outputs": [
    {
     "name": "stdout",
     "output_type": "stream",
     "text": [
      "India(MP='Bhopal', K='Bangaluru', AP='Hyderabad')\n",
      "Bhopal Bangaluru Hyderabad\n",
      "Bhopal Bangaluru\n"
     ]
    }
   ],
   "source": [
    "vals = States(\"Bhopal\", K='Bangaluru', AP = 'Hyderabad')  # Creating an object\n",
    "print(vals)\n",
    "print(vals.MP , vals.K , vals.AP)\n",
    "print(vals[0] , vals[1])  # Accessing the values in normal way"
   ]
  },
  {
   "cell_type": "markdown",
   "metadata": {},
   "source": [
    "### References"
   ]
  },
  {
   "cell_type": "markdown",
   "metadata": {},
   "source": [
    "* https://docs.python.org/3/library/collections.html, \n",
    "* http://alexmarandon.com/articles/python_collections_tips/, \n",
    "* http://pymbook.readthedocs.io/en/latest/collections.html"
   ]
  },
  {
   "cell_type": "markdown",
   "metadata": {},
   "source": [
    "## Practice Questions"
   ]
  },
  {
   "cell_type": "markdown",
   "metadata": {},
   "source": [
    "* Write a function `lensort` to sort a list of strings based on length.\n",
    "* Write a program to count frequency of characters in a given file. Can you use character frequency to tell whether the given file is a Python program file, C program file or a text file?\n",
    "* Write a program similar to 'tail'\n",
    "* write a program similar to \"wc\""
   ]
  }
 ],
 "metadata": {
  "kernelspec": {
   "display_name": "Python 3 (ipykernel)",
   "language": "python",
   "name": "python3"
  },
  "language_info": {
   "codemirror_mode": {
    "name": "ipython",
    "version": 3
   },
   "file_extension": ".py",
   "mimetype": "text/x-python",
   "name": "python",
   "nbconvert_exporter": "python",
   "pygments_lexer": "ipython3",
   "version": "3.10.2"
  }
 },
 "nbformat": 4,
 "nbformat_minor": 1
}
