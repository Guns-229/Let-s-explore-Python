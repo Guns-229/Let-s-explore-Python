{
 "cells": [
  {
   "cell_type": "markdown",
   "metadata": {},
   "source": [
    "# Composition\n",
    "-----\n",
    "Inheritance is useful, but another way to do the exact same thing is just to use other classes and modules, rather than rely on implicit inheritance. If you look at the three ways to exploit inheritance, two of the three involve writing new code to replace or alter functionality. This can easily be replicated by just calling functions in a module. Here's an example of doing this:"
   ]
  },
  {
   "cell_type": "code",
   "execution_count": 1,
   "metadata": {},
   "outputs": [],
   "source": [
    "class Spa(object):\n",
    "    def __init__(self):\n",
    "        print(\"in init of spa\")\n",
    "        \n",
    "    def usage(self):\n",
    "        print(\"in spa usage\")\n",
    "\n",
    "class CoffeeShop(object):\n",
    "    def __init__(self):\n",
    "        print(\"in init of coffeeshop\")\n",
    "        \n",
    "    def usage(self):\n",
    "        print(\"in CoffeeShop usage\")\n",
    "        \n",
    "class Laundery(object):\n",
    "    def __init__(self):\n",
    "        print(\"in init of Laundery\")\n",
    "    \n",
    "    def usage(self):\n",
    "        print(\"in Laundery usage\")\n",
    "\n",
    "class Hotel(object):\n",
    "    def __init__(self):\n",
    "        print(\"Hotel init\")\n",
    "        self.spa = Spa()\n",
    "        self.coffeeshop = CoffeeShop()\n",
    "        self.laundery = Laundery()"
   ]
  },
  {
   "cell_type": "code",
   "execution_count": 2,
   "metadata": {},
   "outputs": [
    {
     "name": "stdout",
     "output_type": "stream",
     "text": [
      "Hotel init\n",
      "in init of spa\n",
      "in init of coffeeshop\n",
      "in init of Laundery\n"
     ]
    }
   ],
   "source": [
    "swagat_hotel = Hotel()"
   ]
  },
  {
   "cell_type": "code",
   "execution_count": 3,
   "metadata": {},
   "outputs": [
    {
     "name": "stdout",
     "output_type": "stream",
     "text": [
      "in spa usage\n"
     ]
    }
   ],
   "source": [
    "swagat_hotel.spa.usage()"
   ]
  },
  {
   "cell_type": "code",
   "execution_count": 4,
   "metadata": {},
   "outputs": [
    {
     "name": "stdout",
     "output_type": "stream",
     "text": [
      "in Laundery usage\n"
     ]
    }
   ],
   "source": [
    "swagat_hotel.laundery.usage()"
   ]
  },
  {
   "cell_type": "code",
   "execution_count": 5,
   "metadata": {},
   "outputs": [],
   "source": [
    "# Interesting Example\n",
    "\n",
    "class Other():        \n",
    "    def test(self):\n",
    "        print(\"Test\")\n",
    "\n",
    "\n",
    "class Child():\n",
    "    x = \"Ja, ich bin Eine Mann\"\n",
    "    \n",
    "    def update(self):\n",
    "        # Creating class object `other` at \n",
    "        # the execution of `update` function\n",
    "        # in the object\n",
    "        Child.other = Other()\n",
    "\n",
    "    def implicit(self):\n",
    "        self.x = 11\n",
    "        self.other.test()\n"
   ]
  },
  {
   "cell_type": "code",
   "execution_count": 6,
   "metadata": {},
   "outputs": [],
   "source": [
    "son = Child()\n",
    "girl = Child()"
   ]
  },
  {
   "cell_type": "code",
   "execution_count": 7,
   "metadata": {},
   "outputs": [
    {
     "name": "stdout",
     "output_type": "stream",
     "text": [
      "['__class__', '__delattr__', '__dict__', '__dir__', '__doc__', '__eq__', '__format__', '__ge__', '__getattribute__', '__gt__', '__hash__', '__init__', '__init_subclass__', '__le__', '__lt__', '__module__', '__ne__', '__new__', '__reduce__', '__reduce_ex__', '__repr__', '__setattr__', '__sizeof__', '__str__', '__subclasshook__', '__weakref__', 'implicit', 'update', 'x']\n",
      "['__class__', '__delattr__', '__dict__', '__dir__', '__doc__', '__eq__', '__format__', '__ge__', '__getattribute__', '__gt__', '__hash__', '__init__', '__init_subclass__', '__le__', '__lt__', '__module__', '__ne__', '__new__', '__reduce__', '__reduce_ex__', '__repr__', '__setattr__', '__sizeof__', '__str__', '__subclasshook__', '__weakref__', 'implicit', 'update', 'x']\n"
     ]
    }
   ],
   "source": [
    "print(dir(son))\n",
    "print(dir(girl))"
   ]
  },
  {
   "cell_type": "code",
   "execution_count": 8,
   "metadata": {},
   "outputs": [
    {
     "name": "stdout",
     "output_type": "stream",
     "text": [
      "eror: 'Child' object has no attribute 'other'\n"
     ]
    }
   ],
   "source": [
    "try:\n",
    "    girl.other()\n",
    "except Exception as e:\n",
    "    print(\"eror:\", e)"
   ]
  },
  {
   "cell_type": "code",
   "execution_count": 9,
   "metadata": {},
   "outputs": [],
   "source": [
    "# As soon as I call update, it will add `other` attribute\n",
    "# to the instances of `Child`,\n",
    "girl.update()"
   ]
  },
  {
   "cell_type": "code",
   "execution_count": 10,
   "metadata": {
    "scrolled": true
   },
   "outputs": [
    {
     "name": "stdout",
     "output_type": "stream",
     "text": [
      "Test\n",
      "Test\n"
     ]
    }
   ],
   "source": [
    "son.implicit()\n",
    "son.other.test()\n",
    "# That means we can even customize the class & its object \n",
    "# at runtime "
   ]
  },
  {
   "cell_type": "code",
   "execution_count": 11,
   "metadata": {},
   "outputs": [
    {
     "name": "stdout",
     "output_type": "stream",
     "text": [
      "139989954956256 139989954956256\n"
     ]
    }
   ],
   "source": [
    "# as Client.other was used, thus it is a class variable.\n",
    "print(id(son.other), id(girl.other))  "
   ]
  },
  {
   "cell_type": "code",
   "execution_count": 12,
   "metadata": {},
   "outputs": [],
   "source": [
    "# Effect on static immutable data\n",
    "# Since the `other` is a class object (and its mutable) \n",
    "# thus any change in attributes of it \n",
    "# will get reflected in all objects\n",
    "\n",
    "class Other():\n",
    "    a = 10\n",
    "\n",
    "    def test(self):\n",
    "        print(f\"I am test of Other: a = {self.a}\")\n",
    "\n",
    "class Child():\n",
    "    x = 12\n",
    "    \n",
    "    def __init__(self):\n",
    "        # Class level object, all the objects will share it.\n",
    "        # We can also use self.__class__ to achieve the same result\n",
    "        self.__class__.other = Other()\n",
    "\n",
    "    def implicit(self):\n",
    "        self.x = 11\n",
    "        self.other.test()"
   ]
  },
  {
   "cell_type": "code",
   "execution_count": 13,
   "metadata": {},
   "outputs": [
    {
     "name": "stdout",
     "output_type": "stream",
     "text": [
      "I am test of Other: a = 1100\n",
      "girl.other.a: 1100\n",
      "139989954959424 139989954959424\n"
     ]
    }
   ],
   "source": [
    "son = Child()\n",
    "girl = Child()\n",
    "\n",
    "# This is a class level change\n",
    "son.other.a = 1100\n",
    "\n",
    "son.implicit()\n",
    "print(\"girl.other.a:\", girl.other.a)\n",
    "print(id(son.other), id(girl.other))"
   ]
  },
  {
   "cell_type": "code",
   "execution_count": 14,
   "metadata": {},
   "outputs": [
    {
     "name": "stdout",
     "output_type": "stream",
     "text": [
      "Test: 20\n",
      "girl.other.a: 20\n",
      "139989954962208 139989954962208\n"
     ]
    }
   ],
   "source": [
    "# Effect on static immutable data\n",
    "# Since the `other` is a class object any change in attributes of it \n",
    "# will get reflected in all objects\n",
    "\n",
    "class Other():\n",
    "    def __init__(self):\n",
    "        self.a = 100\n",
    "\n",
    "    def test(self):\n",
    "        print(f\"Test: {self.a}\")\n",
    "\n",
    "class Child():\n",
    "    x = 12\n",
    "    def __init__(self):\n",
    "        # Class level object, all the objects will share it.\n",
    "        Child.other = Other()\n",
    "\n",
    "    def implicit(self):\n",
    "        self.x = 11\n",
    "        self.other.test()\n",
    "\n",
    "son = Child()\n",
    "girl = Child()\n",
    "son.other.a = 20\n",
    "\n",
    "son.implicit()\n",
    "print(\"girl.other.a:\", girl.other.a)\n",
    "print(id(son.other), id(girl.other))"
   ]
  },
  {
   "cell_type": "code",
   "execution_count": 15,
   "metadata": {},
   "outputs": [
    {
     "name": "stdout",
     "output_type": "stream",
     "text": [
      "Test\n",
      "10 1100\n",
      "139989954967440 139989954962784\n"
     ]
    }
   ],
   "source": [
    "class Other():\n",
    "    a = 10\n",
    "\n",
    "    def test(self):\n",
    "        print(\"Test\")\n",
    "\n",
    "\n",
    "class Child():\n",
    "    x = 12\n",
    "    def __init__(self):\n",
    "        # Object level object, every Child object will have \n",
    "        # different `other` object.\n",
    "        self.other = Other()\n",
    "\n",
    "    def implicit(self):\n",
    "        self.x = 11\n",
    "        self.other.test()\n",
    "\n",
    "son = Child()\n",
    "girl = Child()\n",
    "son.other.a = 1100\n",
    "\n",
    "son.implicit()\n",
    "print(girl.other.a, son.other.a)\n",
    "print(id(son.other), id(girl.other))"
   ]
  },
  {
   "cell_type": "markdown",
   "metadata": {},
   "source": [
    "## When to Use Inheritance or Composition\n",
    "\n",
    "The question of \"inheritance versus composition\" comes down to an attempt to solve the problem of reusable code. You don't want to have duplicated code all over your software, since that's not clean and efficient. Inheritance solves this problem by creating a mechanism for you to have implied features in base classes. Composition solves this by giving you modules and the ability to call functions in other classes.\n",
    "\n",
    "If both solutions solve the problem of reuse, then which one is appropriate in which situations? The answer is incredibly subjective, but I'll give you my three guidelines for when to do which:\n",
    "\n",
    "* Avoid multiple inheritance at all costs, as it's too complex to be reliable. If you're stuck with it, then be prepared to know the class hierarchy and spend time finding where everything is coming from.\n",
    "* Use composition to package code into modules that are used in many different unrelated places and situations.\n",
    "* Use inheritance only when there are clearly related reusable pieces of code that fit under a single common concept or if you have to because of something you're using.\n",
    "\n",
    "Do not be a slave to these rules. The thing to remember about object-oriented programming is that it is entirely a social convention programmers have created to package and share code. Because it's a social convention, but one that's codified in Python, you may be forced to avoid these rules because of the people you work with. In that case, find out how they use things and then just adapt to the situation."
   ]
  }
 ],
 "metadata": {
  "anaconda-cloud": {},
  "kernelspec": {
   "display_name": "Python 3 (ipykernel)",
   "language": "python",
   "name": "python3"
  },
  "language_info": {
   "codemirror_mode": {
    "name": "ipython",
    "version": 3
   },
   "file_extension": ".py",
   "mimetype": "text/x-python",
   "name": "python",
   "nbconvert_exporter": "python",
   "pygments_lexer": "ipython3",
   "version": "3.9.9"
  }
 },
 "nbformat": 4,
 "nbformat_minor": 1
}
