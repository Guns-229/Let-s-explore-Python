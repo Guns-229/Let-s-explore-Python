{
 "cells": [
  {
   "cell_type": "markdown",
   "metadata": {},
   "source": [
    "## `Enum`"
   ]
  },
  {
   "cell_type": "markdown",
   "metadata": {},
   "source": [
    "Just like older languages implementation, its a set of symbolic names (members) bound to unique, constant values. Within an enumeration, the members can be compared by identity, and the enumeration itself can be iterated over."
   ]
  },
  {
   "cell_type": "markdown",
   "metadata": {},
   "source": [
    "An enumeration is a set of symbolic names (members) bound to unique, constant values."
   ]
  },
  {
   "cell_type": "markdown",
   "metadata": {},
   "source": [
    "The `enum` provides four enumeration classes to define unique sets of names and values: \n",
    "- `Enum`, \n",
    "- `IntEnum`, \n",
    "- `Flag`,\n",
    "- `IntFlag`\n",
    "- Helper Function (`auto`)\n",
    "- Decorator\n",
    "    - `unique()`,"
   ]
  },
  {
   "cell_type": "markdown",
   "metadata": {},
   "source": [
    "### Creating an Enum"
   ]
  },
  {
   "cell_type": "code",
   "execution_count": 4,
   "metadata": {},
   "outputs": [],
   "source": [
    "from enum import Enum\n",
    "\n",
    "class Week(Enum):\n",
    "    Sun = 1\n",
    "    Mon = 2\n",
    "    Tues = 3\n",
    "    Wed = 4\n",
    "    Thus = 5\n",
    "    Fri = 6\n",
    "    Sat = 7"
   ]
  },
  {
   "cell_type": "code",
   "execution_count": 5,
   "metadata": {},
   "outputs": [],
   "source": [
    "from enum import IntEnum\n",
    "\n",
    "class TrafficLights(IntEnum): \n",
    "    red = 1\n",
    "    yellow = 2 \n",
    "    green = 3"
   ]
  },
  {
   "cell_type": "code",
   "execution_count": 2,
   "metadata": {},
   "outputs": [],
   "source": [
    "from enum import Flag\n",
    "\n",
    "class Switch(Flag):\n",
    "    On = True\n",
    "    Off = False"
   ]
  },
  {
   "cell_type": "code",
   "execution_count": 6,
   "metadata": {},
   "outputs": [],
   "source": [
    "# using Auto\n",
    "\n",
    "from enum import auto\n",
    "\n",
    "class Colors(Enum): \n",
    "    GREEN = auto\n",
    "    YELLOW = auto \n",
    "    BLUE = auto"
   ]
  },
  {
   "cell_type": "code",
   "execution_count": 7,
   "metadata": {},
   "outputs": [
    {
     "name": "stdout",
     "output_type": "stream",
     "text": [
      "green = <Colors.GREEN: <class 'enum.auto'>>\n"
     ]
    }
   ],
   "source": [
    "green = Colors(Colors.GREEN)\n",
    "print(f\"{green = }\")"
   ]
  },
  {
   "cell_type": "markdown",
   "metadata": {},
   "source": [
    "### Using an Enum"
   ]
  },
  {
   "cell_type": "code",
   "execution_count": 8,
   "metadata": {},
   "outputs": [
    {
     "name": "stdout",
     "output_type": "stream",
     "text": [
      "Week.Sun=<Week.Sun: 1>\n",
      "Week.Mon.name='Mon'\n",
      "Week.Mon.value=2\n"
     ]
    }
   ],
   "source": [
    "print(f\"{Week.Sun=}\")\n",
    "print(f\"{Week.Mon.name=}\")\n",
    "print(f\"{Week.Mon.value=}\")"
   ]
  },
  {
   "cell_type": "code",
   "execution_count": 9,
   "metadata": {},
   "outputs": [
    {
     "name": "stdout",
     "output_type": "stream",
     "text": [
      "green.name = 'GREEN' - green.value = <class 'enum.auto'>\n"
     ]
    }
   ],
   "source": [
    "\n",
    "print(f\"{green.name = } - {green.value = }\")"
   ]
  }
 ],
 "metadata": {
  "kernelspec": {
   "display_name": "Python 3 (ipykernel)",
   "language": "python",
   "name": "python3"
  },
  "language_info": {
   "codemirror_mode": {
    "name": "ipython",
    "version": 3
   },
   "file_extension": ".py",
   "mimetype": "text/x-python",
   "name": "python",
   "nbconvert_exporter": "python",
   "pygments_lexer": "ipython3",
   "version": "3.9.9"
  }
 },
 "nbformat": 4,
 "nbformat_minor": 4
}
