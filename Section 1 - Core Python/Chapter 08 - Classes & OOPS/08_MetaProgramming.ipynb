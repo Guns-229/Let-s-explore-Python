{
 "cells": [
  {
   "cell_type": "markdown",
   "metadata": {},
   "source": [
    "# Metaprogramming\n",
    "-----\n",
    "Objects are created by other objects: special objects called “classes” that we can set up to spit out objects that are configured to our liking.\n",
    "\n",
    "Classes are just objects, and they can be modified the same way:"
   ]
  },
  {
   "cell_type": "code",
   "execution_count": 1,
   "metadata": {},
   "outputs": [
    {
     "name": "stdout",
     "output_type": "stream",
     "text": [
      "<class 'type'>\n"
     ]
    }
   ],
   "source": [
    "class Foo(object): pass\n",
    "\n",
    "print(type(Foo))"
   ]
  },
  {
   "cell_type": "code",
   "execution_count": 3,
   "metadata": {},
   "outputs": [
    {
     "data": {
      "text/plain": [
       "42"
      ]
     },
     "execution_count": 3,
     "metadata": {},
     "output_type": "execute_result"
    }
   ],
   "source": [
    "class Foo(object): pass\n",
    "\n",
    "Foo.field = 42\n",
    "\n",
    "x = Foo()\n",
    "x.field"
   ]
  },
  {
   "cell_type": "code",
   "execution_count": 4,
   "metadata": {},
   "outputs": [
    {
     "name": "stdout",
     "output_type": "stream",
     "text": [
      "42\n"
     ]
    }
   ],
   "source": [
    "print(Foo.field)"
   ]
  },
  {
   "cell_type": "code",
   "execution_count": 5,
   "metadata": {},
   "outputs": [
    {
     "name": "stdout",
     "output_type": "stream",
     "text": [
      "22\n",
      "42\n"
     ]
    }
   ],
   "source": [
    "x.field = 22\n",
    "print(x.field)\n",
    "print(Foo.field)"
   ]
  },
  {
   "cell_type": "code",
   "execution_count": 9,
   "metadata": {},
   "outputs": [
    {
     "name": "stdout",
     "output_type": "stream",
     "text": [
      "99\n"
     ]
    }
   ],
   "source": [
    "# Auto object updation, \n",
    "# I Create a new a class attribute and it gets reflected at object instance \n",
    "\n",
    "Foo.field2 = 99\n",
    "print(x.field2)"
   ]
  },
  {
   "cell_type": "code",
   "execution_count": 10,
   "metadata": {},
   "outputs": [
    {
     "name": "stdout",
     "output_type": "stream",
     "text": [
      "22\n",
      "122\n"
     ]
    }
   ],
   "source": [
    "# Once object start pointing to another memory location, it will not get updated.\n",
    "\n",
    "Foo.field = 122\n",
    "print(x.field)\n",
    "print(Foo.field)"
   ]
  },
  {
   "cell_type": "code",
   "execution_count": 11,
   "metadata": {},
   "outputs": [
    {
     "data": {
      "text/plain": [
       "'Hi!'"
      ]
     },
     "execution_count": 11,
     "metadata": {},
     "output_type": "execute_result"
    }
   ],
   "source": [
    "Foo.method = lambda self: \"Hi!\"\n",
    "\n",
    "x.method()"
   ]
  },
  {
   "cell_type": "markdown",
   "metadata": {},
   "source": [
    "To modify a class, you perform operations on it like any other object. You can add and subtract fields and methods, for example. The difference is that any change you make to a class affects all the objects of that class, even the ones that have already been instantiated.\n",
    "\n",
    "What creates these special “class” objects? Other special objects, called metaclasses.\n",
    "\n",
    "The default metaclass is called type and in the vast majority of cases it does the right thing. In some situations, however, you can gain leverage by modifying the way that classes are produced – typically by performing extra actions or injecting code. When this is the case, you can use metaclass programming to modify the way that some of your class objects are created.\n",
    "\n",
    "It’s worth re-emphasizing that in the vast majority of cases, you don’t need metaclasses, because it’s a fascinating toy and the temptation to use it everywhere can be overwhelming. Some of the examples in this chapter will show both metaclass and non-metaclass solutions to a problem, so you can see that there’s usually another (often simpler) approach.\n",
    "\n",
    "Some of the functionality that was previously only available with metaclasses is now available in a simpler form using class decorators. It is still useful, however, to understand metaclasses, and certain results can still be achieved only through metaclass programming.\n",
    "\n",
    "## Basic Metaprogramming\n",
    "-----\n",
    "\n",
    "So metaclasses create classes, and classes create instances. Normally when we write a class, the default metaclass type is automatically invoked to create that class, and we aren’t even aware that it’s happening.\n",
    "\n",
    "It’s possible to explicitly code the metaclass’ creation of a class. type called with one argument produces the type information of an existing class; type called with three arguments creates a new class object. The arguments when invoking type are the name of the class, a list of base classes, and a dictionary giving the namespace for the class (all the fields and methods). So the equivalent of:"
   ]
  },
  {
   "cell_type": "code",
   "execution_count": 12,
   "metadata": {},
   "outputs": [],
   "source": [
    "class C: pass"
   ]
  },
  {
   "cell_type": "code",
   "execution_count": 13,
   "metadata": {},
   "outputs": [
    {
     "name": "stdout",
     "output_type": "stream",
     "text": [
      "<class '__main__.C'>\n"
     ]
    }
   ],
   "source": [
    "print(C)"
   ]
  },
  {
   "cell_type": "markdown",
   "metadata": {},
   "source": [
    "is"
   ]
  },
  {
   "cell_type": "code",
   "execution_count": 15,
   "metadata": {},
   "outputs": [],
   "source": [
    "CMeta = type('C', (), {})"
   ]
  },
  {
   "cell_type": "code",
   "execution_count": 16,
   "metadata": {},
   "outputs": [
    {
     "name": "stdout",
     "output_type": "stream",
     "text": [
      "<class '__main__.C'>\n"
     ]
    }
   ],
   "source": [
    "print(CMeta)"
   ]
  },
  {
   "cell_type": "code",
   "execution_count": 1,
   "metadata": {},
   "outputs": [],
   "source": [
    "class Cpp(object):\n",
    "    \"\"\"This is a doc\"\"\"\n",
    "    def me(self):\n",
    "        self.meme=\"Me\"\n",
    "    \n",
    "    def you(self):\n",
    "        self.youyou = \"You\""
   ]
  },
  {
   "cell_type": "code",
   "execution_count": 2,
   "metadata": {},
   "outputs": [
    {
     "name": "stdout",
     "output_type": "stream",
     "text": [
      "<class 'type'>\n",
      "{'__module__': '__main__', '__doc__': 'This is a doc', 'me': <function Cpp.me at 0x7f5efc139c10>, 'you': <function Cpp.you at 0x7f5efc1399d0>, '__dict__': <attribute '__dict__' of 'Cpp' objects>, '__weakref__': <attribute '__weakref__' of 'Cpp' objects>}\n"
     ]
    }
   ],
   "source": [
    "print(type(Cpp))\n",
    "print(Cpp.__dict__)"
   ]
  },
  {
   "cell_type": "code",
   "execution_count": 3,
   "metadata": {},
   "outputs": [
    {
     "name": "stdout",
     "output_type": "stream",
     "text": [
      "Me\n"
     ]
    }
   ],
   "source": [
    "cpp = Cpp()\n",
    "cpp.me()\n",
    "print(cpp.meme)"
   ]
  },
  {
   "cell_type": "markdown",
   "metadata": {},
   "source": [
    "Lets create a meta class "
   ]
  },
  {
   "cell_type": "code",
   "execution_count": 4,
   "metadata": {},
   "outputs": [],
   "source": [
    "def its_me(self):\n",
    "    self.meme=\"Me\"\n",
    "\n",
    "def its_you(self):\n",
    "    self.youyou = \"You\"\n",
    "\n",
    "Cpp = type('Cpp', (), dict(me=its_me, you=its_you))"
   ]
  },
  {
   "cell_type": "code",
   "execution_count": 5,
   "metadata": {},
   "outputs": [
    {
     "name": "stdout",
     "output_type": "stream",
     "text": [
      "<class 'type'>\n",
      "{'me': <function its_me at 0x7f5efc0fa0d0>, 'you': <function its_you at 0x7f5efc0fa160>, '__module__': '__main__', '__dict__': <attribute '__dict__' of 'Cpp' objects>, '__weakref__': <attribute '__weakref__' of 'Cpp' objects>, '__doc__': None}\n"
     ]
    }
   ],
   "source": [
    "print(type(Cpp))\n",
    "print(Cpp.__dict__)"
   ]
  },
  {
   "cell_type": "code",
   "execution_count": 6,
   "metadata": {},
   "outputs": [
    {
     "name": "stdout",
     "output_type": "stream",
     "text": [
      "Me\n"
     ]
    }
   ],
   "source": [
    "cpp = Cpp()\n",
    "cpp.me()\n",
    "print(cpp.meme)"
   ]
  },
  {
   "cell_type": "markdown",
   "metadata": {},
   "source": [
    "Classes are often referred to as “types,” so this reads fairly sensibly: you’re calling a function that creates a new type based on its arguments.\n",
    "\n",
    "We can also add base classes, fields and methods:"
   ]
  },
  {
   "cell_type": "code",
   "execution_count": 7,
   "metadata": {},
   "outputs": [],
   "source": [
    "# Original Class with parent class\n",
    "class MyList(list):\n",
    "    x = 42\n",
    "    \n",
    "    def howdy(self, you):\n",
    "        print(\"Howdy,\", you)"
   ]
  },
  {
   "cell_type": "code",
   "execution_count": 8,
   "metadata": {},
   "outputs": [
    {
     "name": "stdout",
     "output_type": "stream",
     "text": [
      "['Camembert']\n",
      "42\n",
      "Howdy, John\n"
     ]
    }
   ],
   "source": [
    "ml = MyList()\n",
    "ml.append(\"Camembert\")\n",
    "print(ml)\n",
    "print(ml.x)\n",
    "ml.howdy(\"John\")"
   ]
  },
  {
   "cell_type": "code",
   "execution_count": 9,
   "metadata": {},
   "outputs": [],
   "source": [
    "# Meta class version\n",
    "\n",
    "def howdy(self, you):\n",
    "    print(\"Howdy,\", you)\n",
    "\n",
    "MyList = type('MyList', (list,), dict(x=42, howdy=howdy))"
   ]
  },
  {
   "cell_type": "code",
   "execution_count": 10,
   "metadata": {},
   "outputs": [
    {
     "name": "stdout",
     "output_type": "stream",
     "text": [
      "['Camembert']\n",
      "42\n",
      "Howdy, John\n"
     ]
    }
   ],
   "source": [
    "ml = MyList()\n",
    "ml.append(\"Camembert\")\n",
    "print(ml)\n",
    "print(ml.x)\n",
    "ml.howdy(\"John\")"
   ]
  },
  {
   "cell_type": "code",
   "execution_count": 11,
   "metadata": {},
   "outputs": [
    {
     "name": "stdout",
     "output_type": "stream",
     "text": [
      "100\n",
      "Howdy, MJ\n"
     ]
    }
   ],
   "source": [
    "class MySample():\n",
    "    def __init__(self, x):\n",
    "        self.x = x\n",
    "    \n",
    "    def howdy(self, you):\n",
    "        print(self.x)\n",
    "        print(\"Howdy,\", you)\n",
    "        \n",
    "ms = MySample(100)\n",
    "ms.howdy(\"MJ\")"
   ]
  },
  {
   "cell_type": "code",
   "execution_count": 12,
   "metadata": {},
   "outputs": [],
   "source": [
    "def howdy(self, you):\n",
    "    print(self.x)\n",
    "    print(\"Howdy,\", you)\n",
    "    \n",
    "def my_init(self, x):\n",
    "    self.x = x\n",
    "\n",
    "MySample = type('MySample', (), dict(__init__=my_init, howdy=howdy))"
   ]
  },
  {
   "cell_type": "code",
   "execution_count": 9,
   "metadata": {},
   "outputs": [
    {
     "name": "stdout",
     "output_type": "stream",
     "text": [
      "100\n",
      "Howdy, MJ\n"
     ]
    }
   ],
   "source": [
    "ms = MySample(100)\n",
    "ms.howdy(\"MJ\")"
   ]
  },
  {
   "cell_type": "code",
   "execution_count": 13,
   "metadata": {},
   "outputs": [
    {
     "name": "stdout",
     "output_type": "stream",
     "text": [
      "100\n",
      "Howdy, MJ\n"
     ]
    }
   ],
   "source": [
    "def howdy(self, you):\n",
    "    print(self.x)\n",
    "    print(\"Howdy,\", you)\n",
    "    \n",
    "def my_init(self, x):\n",
    "    self.x = x\n",
    "\n",
    "# We can define the functionality we want in the class\n",
    "# in `my_functions`. This will be a good example for \n",
    "# having different functionality for different\n",
    "# - Region\n",
    "# - User \n",
    "# - Shareware / Full version.\n",
    "# - laptop / desktop\n",
    "# ....\n",
    "\n",
    "my_functions = {\n",
    "    \"__init__\": my_init,\n",
    "    \"howdy\": howdy\n",
    "}\n",
    "\n",
    "MySample = type('MySample', (), my_functions)\n",
    "\n",
    "ms = MySample(100)\n",
    "ms.howdy(\"MJ\")"
   ]
  },
  {
   "cell_type": "markdown",
   "metadata": {},
   "source": [
    "Note that printing the class of the class produces the metaclass.\n",
    "\n",
    "The ability to generate classes programmatically using type opens up some interesting possibilities."
   ]
  }
 ],
 "metadata": {
  "anaconda-cloud": {},
  "kernelspec": {
   "display_name": "Python 3 (ipykernel)",
   "language": "python",
   "name": "python3"
  },
  "language_info": {
   "codemirror_mode": {
    "name": "ipython",
    "version": 3
   },
   "file_extension": ".py",
   "mimetype": "text/x-python",
   "name": "python",
   "nbconvert_exporter": "python",
   "pygments_lexer": "ipython3",
   "version": "3.9.9"
  }
 },
 "nbformat": 4,
 "nbformat_minor": 1
}
