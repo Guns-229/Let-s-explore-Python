{
 "cells": [
  {
   "cell_type": "markdown",
   "metadata": {},
   "source": [
    "# Modules, Classes, and Objects & OOPS"
   ]
  },
  {
   "cell_type": "markdown",
   "metadata": {},
   "source": [
    "Python is something called an “object- oriented programming language”. What this means is\n",
    "there’s a construct in Python called a class that lets you structure your software in a particular\n",
    "way. Using classes, you can add consistency to your programs so that they can be used in a cleaner\n",
    "way, or at least that’s the theory.\n",
    "\n",
    "Classes and objects are the two main aspects of object oriented programming. A class creates a new type where objects are instances of the class. An analogy is that you can have variables of type `int` which translates to saying that variables that store integers are variables which are instances (objects) of the int class."
   ]
  },
  {
   "cell_type": "markdown",
   "metadata": {},
   "source": [
    "Objects can store data using ordinary variables that belong to the object. Variables that\n",
    "belong to an object or class are referred to as fields. Objects can also have functionality by\n",
    "using functions that belong to a class. Such functions are called methods of the class. This\n",
    "terminology is important because it helps us to differentiate between functions and\n",
    "variables which are independent and those which belong to a class or object. Collectively,\n",
    "the fields and methods can be referred to as the attributes of that class.\n",
    "\n",
    "Fields are of two types - they can belong to each instance/object of the class or they can\n",
    "belong to the class itself. They are called instance variables and class variables\n",
    "respectively.\n",
    "\n",
    "A class is created using the ***`class`*** keyword. The fields and methods of the class are listed\n",
    "in an indented block."
   ]
  },
  {
   "cell_type": "markdown",
   "metadata": {},
   "source": [
    "## The `self`"
   ]
  },
  {
   "cell_type": "markdown",
   "metadata": {},
   "source": [
    "Class methods have only one specific difference from ordinary functions - they must have an extra first name that has to be added to the beginning of the parameter list, but you do not give a value for this parameter when you call the method, Python will provide it. This particular variable refers to the object itself, and by convention, it is given the name ***`self`***.\n",
    "\n",
    "> **Note**\n",
    "> <hr>\n",
    "> `self` is NOT a keyword"
   ]
  },
  {
   "cell_type": "markdown",
   "metadata": {},
   "source": [
    "## Classes"
   ]
  },
  {
   "cell_type": "markdown",
   "metadata": {},
   "source": [
    "A class is merely a container for static data members or function declarations, called a class's attributes. Classes provide something which can be considered a blueprint for creating \"real\" objects, called class instances. Functions which are part of classes are called ***`methods`***.\n",
    "\n",
    "The simplest class possible is shown in the following example."
   ]
  },
  {
   "cell_type": "code",
   "execution_count": 2,
   "metadata": {},
   "outputs": [],
   "source": [
    "# new Class ; The new recommended way...\n",
    "class Class_Name(object):\n",
    "    pass\n",
    "\n",
    "# old classes ; The older way. \n",
    "class Class_Name_slow():\n",
    "    pass\n",
    "\n",
    "class Class_Name_for_lazy:\n",
    "    pass"
   ]
  },
  {
   "cell_type": "markdown",
   "metadata": {},
   "source": [
    "**Example:**\n",
    "\n",
    "```python\n",
    "class Class_Name(base_classes_if_any):\n",
    "    \"\"\"optional documentation string\"\"\"\n",
    "\n",
    "    static_member_declarations = 1\n",
    "    \n",
    "    def method_declarations(self):\n",
    "        \"\"\"\n",
    "        documentation\n",
    "        \"\"\"\n",
    "        pass\n",
    "```"
   ]
  },
  {
   "cell_type": "code",
   "execution_count": 9,
   "metadata": {},
   "outputs": [],
   "source": [
    "# first.py \n",
    "# Totally useless class\n",
    "\n",
    "class First(object):\n",
    "    pass\n",
    "\n",
    "# Creating its first object `fr` of class `First`.\n",
    "fr = First()"
   ]
  },
  {
   "cell_type": "code",
   "execution_count": 10,
   "metadata": {},
   "outputs": [
    {
     "name": "stdout",
     "output_type": "stream",
     "text": [
      "type(fr) = <class '__main__.First'>, type(First) = <class 'type'>\n"
     ]
    }
   ],
   "source": [
    "# Everything in python is an object\n",
    "\n",
    "print(f\"{type(fr) = }, {type(First) = }\")"
   ]
  },
  {
   "cell_type": "code",
   "execution_count": 11,
   "metadata": {},
   "outputs": [
    {
     "name": "stdout",
     "output_type": "stream",
     "text": [
      "type(10) = <class 'int'>\n",
      "type(int) = <class 'type'>\n"
     ]
    }
   ],
   "source": [
    "# Similarity between data and datatype vs object and class\n",
    "print(f\"{type(10) = }\")\n",
    "print(f\"{type(int) = }\")"
   ]
  },
  {
   "cell_type": "code",
   "execution_count": 13,
   "metadata": {},
   "outputs": [
    {
     "name": "stdout",
     "output_type": "stream",
     "text": [
      "<class 'type'> <class 'type'>\n"
     ]
    }
   ],
   "source": [
    "# first.py\n",
    "# Old class type\n",
    "class First():\n",
    "    pass\n",
    "\n",
    "# So do not format `()` eles you are creating a variable\n",
    "# Which is pointing to the Class and is not an object of that class\n",
    "\n",
    "fr = First\n",
    "\n",
    "print (type(fr), type(First))"
   ]
  },
  {
   "cell_type": "code",
   "execution_count": 18,
   "metadata": {},
   "outputs": [
    {
     "name": "stdout",
     "output_type": "stream",
     "text": [
      "fr is First = True\n"
     ]
    }
   ],
   "source": [
    "\n",
    "print(f\"{fr is First = }\")"
   ]
  },
  {
   "cell_type": "code",
   "execution_count": 17,
   "metadata": {},
   "outputs": [
    {
     "name": "stdout",
     "output_type": "stream",
     "text": [
      "<class '__main__.First'>\n"
     ]
    }
   ],
   "source": [
    "\n",
    "obj = fr()\n",
    "print(type(obj))"
   ]
  },
  {
   "cell_type": "code",
   "execution_count": 20,
   "metadata": {},
   "outputs": [],
   "source": [
    "# first.py\n",
    "\n",
    "class User(object):\n",
    "\n",
    "    def set_name(self, name):\n",
    "        full_name = name      # Local variable to funtion `set_name`\n",
    "        self.fullname = name  # `self.full_name` is an object variable \n",
    "\n",
    "    def get_name(self):\n",
    "        return self.fullname  # using it before creating it will result in error. "
   ]
  },
  {
   "cell_type": "code",
   "execution_count": 21,
   "metadata": {},
   "outputs": [
    {
     "name": "stdout",
     "output_type": "stream",
     "text": [
      "dir(user) = ['__class__', '__delattr__', '__dict__', '__dir__', '__doc__', '__eq__', '__format__', '__ge__', '__getattribute__', '__getstate__', '__gt__', '__hash__', '__init__', '__init_subclass__', '__le__', '__lt__', '__module__', '__ne__', '__new__', '__reduce__', '__reduce_ex__', '__repr__', '__setattr__', '__sizeof__', '__str__', '__subclasshook__', '__weakref__', 'get_name', 'set_name']\n"
     ]
    }
   ],
   "source": [
    "# Lets create an object of the class and find its attributes.\n",
    "\n",
    "user = User()\n",
    "print(f\"{dir(user) = }\")  # Use `dir` to find all the attributes of the object `user`"
   ]
  },
  {
   "cell_type": "code",
   "execution_count": 22,
   "metadata": {},
   "outputs": [
    {
     "name": "stdout",
     "output_type": "stream",
     "text": [
      "{}\n"
     ]
    }
   ],
   "source": [
    "# To find all the data variables (not attributes) exposed by the object.\n",
    "\n",
    "print(user.__dict__)"
   ]
  },
  {
   "cell_type": "code",
   "execution_count": 23,
   "metadata": {
    "scrolled": true
   },
   "outputs": [
    {
     "name": "stdout",
     "output_type": "stream",
     "text": [
      "['__class__', '__delattr__', '__dict__', '__dir__', '__doc__', '__eq__', '__format__', '__ge__', '__getattribute__', '__getstate__', '__gt__', '__hash__', '__init__', '__init_subclass__', '__le__', '__lt__', '__module__', '__ne__', '__new__', '__reduce__', '__reduce_ex__', '__repr__', '__setattr__', '__sizeof__', '__str__', '__subclasshook__', '__weakref__', 'fullname', 'get_name', 'set_name']\n"
     ]
    }
   ],
   "source": [
    "# Lets populate self.fullname by calling `set_name` function\n",
    "\n",
    "user.set_name(\"Manish Gupta\")\n",
    "\n",
    "print(dir(user))"
   ]
  },
  {
   "cell_type": "code",
   "execution_count": 26,
   "metadata": {},
   "outputs": [
    {
     "name": "stdout",
     "output_type": "stream",
     "text": [
      "Manish Gupta\n"
     ]
    }
   ],
   "source": [
    "# Now I can call `get_name` as self.fullname has been created\n",
    "\n",
    "print(user.get_name())"
   ]
  },
  {
   "cell_type": "code",
   "execution_count": 25,
   "metadata": {},
   "outputs": [
    {
     "name": "stdout",
     "output_type": "stream",
     "text": [
      "Manish Gupta\n"
     ]
    }
   ],
   "source": [
    "print(user.fullname)"
   ]
  },
  {
   "cell_type": "code",
   "execution_count": 27,
   "metadata": {},
   "outputs": [
    {
     "name": "stdout",
     "output_type": "stream",
     "text": [
      "{'fullname': 'Manish Gupta'}\n"
     ]
    }
   ],
   "source": [
    "# To find all the data variables (not attributes) exposed by the object.\n",
    "\n",
    "print(user.__dict__)"
   ]
  },
  {
   "cell_type": "code",
   "execution_count": 43,
   "metadata": {},
   "outputs": [
    {
     "name": "stdout",
     "output_type": "stream",
     "text": [
      "Error: 'User' object has no attribute 'fullname'\n"
     ]
    }
   ],
   "source": [
    "# first.py\n",
    "\n",
    "class User(object):\n",
    "    def set_name(self, name):\n",
    "        self.fullname = name\n",
    "\n",
    "    def get_name(self):\n",
    "        return self.fullname\n",
    "\n",
    "user = User()\n",
    "\n",
    "try:\n",
    "    user.get_name()\n",
    "except Exception as e:\n",
    "    print(f\"Error: {e}\")"
   ]
  },
  {
   "cell_type": "code",
   "execution_count": 30,
   "metadata": {},
   "outputs": [
    {
     "name": "stdout",
     "output_type": "stream",
     "text": [
      "None\n"
     ]
    }
   ],
   "source": [
    "# first.py\n",
    "# Class with it's methods  \n",
    "# wrong method to resolve the issue of attribute accessed before its created \n",
    "# use __getattr__ to resolve it as shown in the later examples.\n",
    "\n",
    "class Second(object):\n",
    "    def set_name(self, name):\n",
    "        self.fullname = name\n",
    "        \n",
    "    def get_name(self):\n",
    "        return self.fullname if \"fullname\" in self.__dict__ else None\n",
    "\n",
    "try:\n",
    "    sec = Second()\n",
    "    print(sec.get_name())\n",
    "except Exception as e:\n",
    "    print(\"Error:\", e)"
   ]
  },
  {
   "cell_type": "code",
   "execution_count": 31,
   "metadata": {},
   "outputs": [
    {
     "name": "stdout",
     "output_type": "stream",
     "text": [
      "None\n"
     ]
    }
   ],
   "source": [
    "# first.py\n",
    "# Class with it's methods  \n",
    "# wrong method to resolve the issue of attribute accessed before its created \n",
    "# use __getattr__ to resolve it as shown in the later examples.\n",
    "\n",
    "class Second(object):\n",
    "    def set_name(self, name):\n",
    "        self.fullname = name\n",
    "        \n",
    "    def get_name(self):\n",
    "        # One update, now using `get` function of dictionary to get the data\n",
    "        return self.__dict__.get('fullname', None)\n",
    "\n",
    "try:\n",
    "    sec = Second()\n",
    "    print(sec.get_name())\n",
    "except Exception as e:\n",
    "    print(e)"
   ]
  },
  {
   "cell_type": "code",
   "execution_count": 28,
   "metadata": {},
   "outputs": [
    {
     "name": "stdout",
     "output_type": "stream",
     "text": [
      "{}\n"
     ]
    }
   ],
   "source": [
    "# To find all the variables exposed to the object.\n",
    "\n",
    "print(sec.__dict__)"
   ]
  },
  {
   "cell_type": "code",
   "execution_count": 32,
   "metadata": {},
   "outputs": [
    {
     "name": "stdout",
     "output_type": "stream",
     "text": [
      "None\n"
     ]
    }
   ],
   "source": [
    "class Second(object):\n",
    "    def set_name(self, name):\n",
    "        self.fullname = name\n",
    "        \n",
    "    def get_name(self):\n",
    "        # We can also use `getattr` to get the object attributes.\n",
    "        return getattr(self, 'fullname', None)\n",
    "\n",
    "sec = Second()\n",
    "print(sec.get_name())"
   ]
  },
  {
   "cell_type": "markdown",
   "metadata": {},
   "source": [
    "> <center><b>!!! NOTE !!!</b></center>\n",
    "><hr>\n",
    "> `self.x = y`. Assignation statements within the function will create the attribute if it does not exists."
   ]
  },
  {
   "cell_type": "markdown",
   "metadata": {},
   "source": [
    "### `__init__` The Python Object Initializer"
   ]
  },
  {
   "cell_type": "markdown",
   "metadata": {},
   "source": [
    "`__init__` will initialize a newly created object with provided data. **Also it is NOT A Constructor**."
   ]
  },
  {
   "cell_type": "code",
   "execution_count": 49,
   "metadata": {},
   "outputs": [],
   "source": [
    "# first.py\n",
    "\n",
    "class User(object):\n",
    "    # `__init__` is a initializer and NOT a constructor\n",
    "    # The object is already created and its reference is passed\n",
    "    # as `self`.\n",
    "    def __init__(self, name):\n",
    "        self.set_name(name)\n",
    "        \n",
    "    def set_name(self, name):\n",
    "        self.fullname = name\n",
    "\n",
    "    def get_name(self):\n",
    "        return self.fullname"
   ]
  },
  {
   "cell_type": "code",
   "execution_count": 50,
   "metadata": {},
   "outputs": [
    {
     "name": "stdout",
     "output_type": "stream",
     "text": [
      "['__class__', '__delattr__', '__dict__', '__dir__', '__doc__', '__eq__', '__format__', '__ge__', '__getattribute__', '__getstate__', '__gt__', '__hash__', '__init__', '__init_subclass__', '__le__', '__lt__', '__module__', '__ne__', '__new__', '__reduce__', '__reduce_ex__', '__repr__', '__setattr__', '__sizeof__', '__str__', '__subclasshook__', '__weakref__', 'fullname', 'get_name', 'set_name']\n"
     ]
    }
   ],
   "source": [
    "# Lets \n",
    "# 1. creates the object\n",
    "# 2. initialize the created object\n",
    "# 3. Returns the object\n",
    "\n",
    "vishal = User(name=\"Vishal Saxena\")\n",
    "\n",
    "print(dir(vishal))"
   ]
  },
  {
   "cell_type": "code",
   "execution_count": 51,
   "metadata": {},
   "outputs": [
    {
     "name": "stdout",
     "output_type": "stream",
     "text": [
      "user.get_name()='Manish Gupta'\n",
      "user.__dict__={'fullname': 'Manish Gupta'}\n"
     ]
    }
   ],
   "source": [
    "user.set_name(\"Manish Gupta\")\n",
    "print(f\"{user.get_name()=}\")\n",
    "print(f\"{user.__dict__=}\")"
   ]
  },
  {
   "cell_type": "code",
   "execution_count": 60,
   "metadata": {},
   "outputs": [
    {
     "name": "stdout",
     "output_type": "stream",
     "text": [
      "vishal.get_name() = 'Vishal Saxena'\n",
      "vishal.__dict__ = {'fullname': 'Vishal Saxena'}\n"
     ]
    }
   ],
   "source": [
    "print(f\"{vishal.get_name() = }\")\n",
    "print(f\"{vishal.__dict__ = }\")"
   ]
  },
  {
   "cell_type": "code",
   "execution_count": 61,
   "metadata": {},
   "outputs": [
    {
     "name": "stdout",
     "output_type": "stream",
     "text": [
      "sachin.get_name() = 'Sachin Shah'\n",
      "sachin.__dict__ = {'fullname': 'Sachin Shah'}\n"
     ]
    }
   ],
   "source": [
    "sachin = User(\"Sachin Shah\")\n",
    "\n",
    "print(f\"{sachin.get_name() = }\")\n",
    "print(f\"{sachin.__dict__ = }\")"
   ]
  },
  {
   "cell_type": "code",
   "execution_count": 62,
   "metadata": {},
   "outputs": [
    {
     "name": "stdout",
     "output_type": "stream",
     "text": [
      "id(vishal) = 139936991070416, id(sachin) = 139936992787408\n"
     ]
    }
   ],
   "source": [
    "print(f\"{id(vishal) = }, {id(sachin) = }\")"
   ]
  },
  {
   "cell_type": "code",
   "execution_count": 63,
   "metadata": {},
   "outputs": [
    {
     "name": "stdout",
     "output_type": "stream",
     "text": [
      "sachin.get_name() = 'Ron'\n",
      "sachin.__dict__ = {'fullname': 'Ron'}\n"
     ]
    }
   ],
   "source": [
    "sachin.set_name(\"Ron\")  # updating from Sachin to Ron\n",
    "print(f\"{sachin.get_name() = }\")\n",
    "print(f\"{sachin.__dict__ = }\")"
   ]
  },
  {
   "cell_type": "code",
   "execution_count": 67,
   "metadata": {},
   "outputs": [
    {
     "name": "stdout",
     "output_type": "stream",
     "text": [
      "id(vishal) = 139936991070416, id(sachin) = 139936992787408\n"
     ]
    }
   ],
   "source": [
    "print(f\"{id(vishal) = }, {id(sachin) = }\")\n"
   ]
  },
  {
   "cell_type": "code",
   "execution_count": 68,
   "metadata": {},
   "outputs": [
    {
     "name": "stdout",
     "output_type": "stream",
     "text": [
      "vishal.get_name() = 'Vishal Saxena', sachin.get_name() = 'Ron'\n"
     ]
    }
   ],
   "source": [
    "print(f\"{vishal.get_name() = }, {sachin.get_name() = }\")"
   ]
  },
  {
   "cell_type": "markdown",
   "metadata": {},
   "source": [
    "> NOTE:\n",
    "> <hr/>\n",
    "\n",
    "> `self` is _NOT_ a **keyword**, but just a convension. Still for the sake of sanity for the developers to come, use `self` and not any other variable name. "
   ]
  },
  {
   "cell_type": "code",
   "execution_count": 69,
   "metadata": {},
   "outputs": [
    {
     "name": "stdout",
     "output_type": "stream",
     "text": [
      "Mayank\n"
     ]
    }
   ],
   "source": [
    "### Just for fun\n",
    "# स्वयं is myself in Hindi\n",
    "\n",
    "class FunClass(object):\n",
    "    def __init__(स्वयं, name):\n",
    "        स्वयं.name = name\n",
    "\n",
    "fc = FunClass(\"Mayank\")\n",
    "print(fc.name)"
   ]
  },
  {
   "cell_type": "code",
   "execution_count": 72,
   "metadata": {},
   "outputs": [],
   "source": [
    "# __init__ supports default arguments also.\n",
    "\n",
    "class User(object):\n",
    "    def __init__(self, name, age=35):\n",
    "        self.name(name)\n",
    "        self.age = age\n",
    "        \n",
    "    def name(self, new_name):\n",
    "        self.fullname = new_name\n",
    "        \n",
    "    def get_name(self):\n",
    "        return self.fullname"
   ]
  },
  {
   "cell_type": "code",
   "execution_count": 71,
   "metadata": {},
   "outputs": [
    {
     "name": "stdout",
     "output_type": "stream",
     "text": [
      "Arya is 35 years old.\n"
     ]
    }
   ],
   "source": [
    "# First Object\n",
    "arya = User(name=\"Arya\")\n",
    "\n",
    "print(f\"{arya.get_name()} is {arya.age} years old.\")"
   ]
  },
  {
   "cell_type": "code",
   "execution_count": 78,
   "metadata": {},
   "outputs": [
    {
     "name": "stdout",
     "output_type": "stream",
     "text": [
      "Rajneekanth is 20 years old.\n"
     ]
    }
   ],
   "source": [
    "# Second Object\n",
    "\n",
    "rajni = User(\"Rajneekanth\", 20)\n",
    "\n",
    "print(f\"{rajni.get_name()} is {rajni.age} years old.\")"
   ]
  },
  {
   "cell_type": "code",
   "execution_count": 74,
   "metadata": {},
   "outputs": [
    {
     "data": {
      "text/plain": [
       "False"
      ]
     },
     "execution_count": 74,
     "metadata": {},
     "output_type": "execute_result"
    }
   ],
   "source": [
    "# Two objects of the same class need not be same\n",
    "arya == rajni"
   ]
  },
  {
   "cell_type": "code",
   "execution_count": 75,
   "metadata": {},
   "outputs": [],
   "source": [
    "arya2 = User(name=\"Arya\")"
   ]
  },
  {
   "cell_type": "code",
   "execution_count": 76,
   "metadata": {},
   "outputs": [
    {
     "name": "stdout",
     "output_type": "stream",
     "text": [
      "{'fullname': 'Arya', 'age': 35} {'fullname': 'Arya', 'age': 35}\n"
     ]
    }
   ],
   "source": [
    "print(arya.__dict__, arya2.__dict__)"
   ]
  },
  {
   "cell_type": "code",
   "execution_count": 79,
   "metadata": {},
   "outputs": [
    {
     "data": {
      "text/plain": [
       "False"
      ]
     },
     "execution_count": 79,
     "metadata": {},
     "output_type": "execute_result"
    }
   ],
   "source": [
    "# Although both arya and arya2 have same data \n",
    "# But they will by default fail in `==` comparision.\n",
    "\n",
    "# Please implement `__eq__(self)` attribure in your class\n",
    "\n",
    "arya == arya2"
   ]
  },
  {
   "cell_type": "code",
   "execution_count": 80,
   "metadata": {},
   "outputs": [
    {
     "name": "stdout",
     "output_type": "stream",
     "text": [
      "139936990872976 139936992781968\n"
     ]
    }
   ],
   "source": [
    "print(id(arya), id(arya2))"
   ]
  },
  {
   "cell_type": "code",
   "execution_count": 31,
   "metadata": {},
   "outputs": [],
   "source": [
    "# first.py\n",
    "\n",
    "class User(object):\n",
    "    fullname = \"Mayank Johri\"\n",
    "    age = 45\n",
    "        \n",
    "    def name(self, name):\n",
    "        self.fullname = name\n",
    "        \n",
    "    def get_name(self):\n",
    "        return self.fullname\n",
    "        \n",
    "    def dummy_data(self):\n",
    "        pass"
   ]
  },
  {
   "cell_type": "code",
   "execution_count": 32,
   "metadata": {},
   "outputs": [
    {
     "name": "stdout",
     "output_type": "stream",
     "text": [
      "Mayank Johri is 45 years old\n"
     ]
    }
   ],
   "source": [
    "rahul = User()\n",
    "print(rahul.get_name(), \"is\", rahul.age, \"years old\")"
   ]
  },
  {
   "cell_type": "code",
   "execution_count": 33,
   "metadata": {},
   "outputs": [
    {
     "name": "stdout",
     "output_type": "stream",
     "text": [
      "Mayank Johri is 45 years old\n"
     ]
    }
   ],
   "source": [
    "rajni = User()\n",
    "print(rajni.get_name(), \"is\", rajni.age, \"years old\")"
   ]
  },
  {
   "cell_type": "code",
   "execution_count": 34,
   "metadata": {},
   "outputs": [
    {
     "name": "stdout",
     "output_type": "stream",
     "text": [
      "rahul.fullname='Mayank Johri' id(rahul.fullname)=139909904792624\n",
      "rajni.fullname='Mayank Johri' id(rajni.fullname)=139909904792624\n"
     ]
    }
   ],
   "source": [
    "print(f\"{rahul.fullname=}\", f\"{id(rahul.fullname)=}\")\n",
    "print(f\"{rajni.fullname=}\", f\"{id(rajni.fullname)=}\")"
   ]
  },
  {
   "cell_type": "code",
   "execution_count": 36,
   "metadata": {},
   "outputs": [],
   "source": [
    "rahul.name(\"Rahul Johri\")"
   ]
  },
  {
   "cell_type": "code",
   "execution_count": 37,
   "metadata": {},
   "outputs": [
    {
     "name": "stdout",
     "output_type": "stream",
     "text": [
      "Rahul Johri 139909904859568\n",
      "Mayank Johri 139909904792624\n"
     ]
    }
   ],
   "source": [
    "print(rahul.fullname, id(rahul.fullname))\n",
    "print(rajni.fullname, id(rajni.fullname))"
   ]
  },
  {
   "cell_type": "code",
   "execution_count": 38,
   "metadata": {},
   "outputs": [],
   "source": [
    "# first.py\n",
    "\n",
    "class Bridge(object):\n",
    "    fullname = \"Ram Setu\"\n",
    "    age = 33\n",
    "    __CONST = \"India\"\n",
    "        \n",
    "    def name(self, name):\n",
    "        self.fullname = name\n",
    "        \n",
    "    def get_name(self):\n",
    "        return self.fullname, self.__CONST"
   ]
  },
  {
   "cell_type": "code",
   "execution_count": 40,
   "metadata": {},
   "outputs": [],
   "source": [
    "rs_1 = Bridge()\n",
    "rs_2 = Bridge()"
   ]
  },
  {
   "cell_type": "code",
   "execution_count": 41,
   "metadata": {},
   "outputs": [
    {
     "name": "stdout",
     "output_type": "stream",
     "text": [
      "rs_1.__dict__ => {}\n",
      "dir(rs_1) => ['_Bridge__CONST', '__class__', '__delattr__', '__dict__', '__dir__', '__doc__', '__eq__', '__format__', '__ge__', '__getattribute__', '__gt__', '__hash__', '__init__', '__init_subclass__', '__le__', '__lt__', '__module__', '__ne__', '__new__', '__reduce__', '__reduce_ex__', '__repr__', '__setattr__', '__sizeof__', '__str__', '__subclasshook__', '__weakref__', 'age', 'fullname', 'get_name', 'name']\n"
     ]
    }
   ],
   "source": [
    "print(f\"rs_1.__dict__ => {rs_1.__dict__}\")\n",
    "print(f\"dir(rs_1) => {dir(rs_1)}\")"
   ]
  },
  {
   "cell_type": "code",
   "execution_count": 42,
   "metadata": {},
   "outputs": [
    {
     "name": "stdout",
     "output_type": "stream",
     "text": [
      "True\n",
      "True\n"
     ]
    }
   ],
   "source": [
    "print(rs_1.fullname == rs_2.fullname)\n",
    "print(id(rs_1.fullname) == id(rs_2.fullname))"
   ]
  },
  {
   "cell_type": "code",
   "execution_count": 43,
   "metadata": {},
   "outputs": [
    {
     "name": "stdout",
     "output_type": "stream",
     "text": [
      "False\n"
     ]
    }
   ],
   "source": [
    "# Still object are not same. :(\n",
    "print(rs_1 == rs_2)"
   ]
  },
  {
   "cell_type": "code",
   "execution_count": 44,
   "metadata": {},
   "outputs": [
    {
     "name": "stdout",
     "output_type": "stream",
     "text": [
      "('Ram Setu', 'India')\n"
     ]
    }
   ],
   "source": [
    "print(rs_1.get_name())"
   ]
  },
  {
   "cell_type": "code",
   "execution_count": 45,
   "metadata": {},
   "outputs": [],
   "source": [
    "rs_1.name(\"ram setu\")"
   ]
  },
  {
   "cell_type": "code",
   "execution_count": 46,
   "metadata": {},
   "outputs": [
    {
     "name": "stdout",
     "output_type": "stream",
     "text": [
      "False\n",
      "False\n"
     ]
    }
   ],
   "source": [
    "print(rs_1.fullname == rs_2.fullname)\n",
    "print(id(rs_1.fullname) == id(rs_2.fullname))"
   ]
  },
  {
   "cell_type": "code",
   "execution_count": 47,
   "metadata": {},
   "outputs": [
    {
     "name": "stdout",
     "output_type": "stream",
     "text": [
      "ram setu  -  Ram Setu\n"
     ]
    }
   ],
   "source": [
    "print(rs_1.fullname, \" - \", rs_2.fullname)"
   ]
  },
  {
   "cell_type": "markdown",
   "metadata": {},
   "source": [
    "- The magic of `mutables`"
   ]
  },
  {
   "cell_type": "code",
   "execution_count": 51,
   "metadata": {},
   "outputs": [],
   "source": [
    "\"\"\"\n",
    "We wants to create a class which remember all the objects created using it \n",
    "and will have a reference of for each object\n",
    "\"\"\"\n",
    "\n",
    "class Users(object):\n",
    "    user_list = []\n",
    "    \n",
    "    def __init__(self, user_name, age=35):\n",
    "        self.age = age\n",
    "        self.name(user_name)\n",
    "        \n",
    "    def name(self, name):\n",
    "        self.user_name = name\n",
    "        self.user_list.append(name)\n",
    "    \n",
    "    def get_name(self):\n",
    "        return self.user_name\n",
    "        \n",
    "    def get_all_users(self):\n",
    "        return self.user_list"
   ]
  },
  {
   "cell_type": "code",
   "execution_count": 52,
   "metadata": {},
   "outputs": [
    {
     "name": "stdout",
     "output_type": "stream",
     "text": [
      "['Kapil Dev']\n"
     ]
    }
   ],
   "source": [
    "kapil = Users(\"Kapil Dev\")\n",
    "print(kapil.user_list)"
   ]
  },
  {
   "cell_type": "code",
   "execution_count": 53,
   "metadata": {},
   "outputs": [
    {
     "name": "stdout",
     "output_type": "stream",
     "text": [
      "kapil.user_list=['Kapil Dev', 'Roser Binny'] \n",
      " \brosar.user_list=['Kapil Dev', 'Roser Binny']\n"
     ]
    }
   ],
   "source": [
    "rosar = Users(\"Roser Binny\")\n",
    "print(f\"{kapil.user_list=}\", \"\\n\", f\"\\b{rosar.user_list=}\")"
   ]
  },
  {
   "cell_type": "code",
   "execution_count": 54,
   "metadata": {},
   "outputs": [
    {
     "name": "stdout",
     "output_type": "stream",
     "text": [
      "True\n"
     ]
    }
   ],
   "source": [
    "print(id(kapil.user_list) == id(rosar.user_list))"
   ]
  },
  {
   "cell_type": "code",
   "execution_count": 55,
   "metadata": {},
   "outputs": [
    {
     "name": "stdout",
     "output_type": "stream",
     "text": [
      "True\n"
     ]
    }
   ],
   "source": [
    "print(kapil.user_list is rosar.user_list)"
   ]
  },
  {
   "cell_type": "code",
   "execution_count": 58,
   "metadata": {},
   "outputs": [],
   "source": [
    "rosar.name(\"A-Shanti\")"
   ]
  },
  {
   "cell_type": "code",
   "execution_count": 59,
   "metadata": {},
   "outputs": [
    {
     "name": "stdout",
     "output_type": "stream",
     "text": [
      "['Kapil Dev', 'Roser Binny', 'A-Shanti', 'A-Shanti'] ['Kapil Dev', 'Roser Binny', 'A-Shanti', 'A-Shanti']\n"
     ]
    }
   ],
   "source": [
    "# Values in both the object got updated. \n",
    "# Bug: Kapil is still not updated but instead a new user name has been added\n",
    "\n",
    "print(kapil.user_list, rosar.user_list)"
   ]
  },
  {
   "cell_type": "code",
   "execution_count": 95,
   "metadata": {},
   "outputs": [],
   "source": [
    "# For Cases where you need to have some data at class level and some at object level. \n",
    "# For object level populate them in __init__ function\n",
    "\n",
    "class UserDetails:\n",
    "    users_list = [\"Mayank\", \"Johri\"]\n",
    "    \n",
    "    def __init__(self, name, age=2400):\n",
    "        self.name(name)\n",
    "        self.age = age  # The Man from Earth Guy. \n",
    "        \n",
    "    def name(self, name):\n",
    "        self.users_list.append(name)\n",
    "        \n",
    "    def get_name(self):\n",
    "        return self.users_list"
   ]
  },
  {
   "cell_type": "code",
   "execution_count": 96,
   "metadata": {},
   "outputs": [],
   "source": [
    "rs_1 = UserDetails(\"Ram Setu\")\n",
    "rs_2 = UserDetails(\"London Bridge\", 120)"
   ]
  },
  {
   "cell_type": "code",
   "execution_count": 97,
   "metadata": {},
   "outputs": [
    {
     "name": "stdout",
     "output_type": "stream",
     "text": [
      "True\n",
      "True\n"
     ]
    }
   ],
   "source": [
    "print(rs_1.users_list == rs_2.users_list)\n",
    "print(id(rs_1.users_list) == id(rs_2.users_list))"
   ]
  },
  {
   "cell_type": "code",
   "execution_count": 98,
   "metadata": {},
   "outputs": [
    {
     "name": "stdout",
     "output_type": "stream",
     "text": [
      "['Mayank', 'Johri', 'Ram Setu', 'London Bridge']  -  ['Mayank', 'Johri', 'Ram Setu', 'London Bridge']\n"
     ]
    }
   ],
   "source": [
    "print(rs_1.users_list, \" - \", rs_2.users_list)"
   ]
  },
  {
   "cell_type": "code",
   "execution_count": 99,
   "metadata": {},
   "outputs": [
    {
     "name": "stdout",
     "output_type": "stream",
     "text": [
      "140042779398096 120\n"
     ]
    }
   ],
   "source": [
    "print(id(rs_2.age), rs_2.age)"
   ]
  },
  {
   "cell_type": "code",
   "execution_count": 100,
   "metadata": {},
   "outputs": [
    {
     "name": "stdout",
     "output_type": "stream",
     "text": [
      "[]  -  ['Mayank', 'Johri', 'Ram Setu', 'London Bridge']\n"
     ]
    }
   ],
   "source": [
    "rs_1.users_list = []\n",
    "print(rs_1.users_list, \" - \", rs_2.users_list)"
   ]
  },
  {
   "cell_type": "markdown",
   "metadata": {},
   "source": [
    "In the below example, attributes are no longer sharing the same memory space and will not be created at the time of object creation but will be created at the time of object initialization"
   ]
  },
  {
   "cell_type": "code",
   "execution_count": 60,
   "metadata": {},
   "outputs": [],
   "source": [
    "class Bridge:\n",
    "    def __init__(self, name):\n",
    "        self.fullname = [\"Rahul\", \"Johri\"]\n",
    "        self.name(name)\n",
    "        self.age = 33\n",
    "        \n",
    "    def name(self, name):\n",
    "        self.fullname.append(name)\n",
    "        \n",
    "    def get_name(self):\n",
    "        return self.fullname"
   ]
  },
  {
   "cell_type": "code",
   "execution_count": 61,
   "metadata": {},
   "outputs": [],
   "source": [
    "rs_1 = Bridge(\"Ram Setu\")\n",
    "rs_2 = Bridge(\"London Bridge\")"
   ]
  },
  {
   "cell_type": "code",
   "execution_count": 62,
   "metadata": {},
   "outputs": [
    {
     "name": "stdout",
     "output_type": "stream",
     "text": [
      "['Rahul', 'Johri', 'Ram Setu']  :  ['Rahul', 'Johri', 'London Bridge']\n",
      "False\n",
      "False\n"
     ]
    }
   ],
   "source": [
    "# Now the fullname in both the objects are two different lists\n",
    "print(rs_1.fullname, \" : \", rs_2.fullname)\n",
    "print(rs_1.fullname == rs_2.fullname)\n",
    "print(id(rs_1.fullname) == id(rs_2.fullname))"
   ]
  },
  {
   "cell_type": "code",
   "execution_count": 63,
   "metadata": {},
   "outputs": [
    {
     "name": "stdout",
     "output_type": "stream",
     "text": [
      "False\n",
      "False\n"
     ]
    }
   ],
   "source": [
    "print(rs_1.fullname == rs_2.fullname)\n",
    "print(id(rs_1.fullname) == id(rs_2.fullname))"
   ]
  },
  {
   "cell_type": "code",
   "execution_count": 64,
   "metadata": {},
   "outputs": [
    {
     "name": "stdout",
     "output_type": "stream",
     "text": [
      "['Rahul', 'Johri', 'Ram Setu']  -  ['Rahul', 'Johri', 'London Bridge']\n"
     ]
    }
   ],
   "source": [
    "print(rs_1.fullname, \" - \", rs_2.fullname)"
   ]
  },
  {
   "cell_type": "code",
   "execution_count": 66,
   "metadata": {},
   "outputs": [],
   "source": [
    "class HardDisks(object):\n",
    "    __version = \"0.0.1\"\n",
    "    _build_ver = \"1.0.1\"\n",
    "    hdd_type = \"HDD\"\n",
    "    \n",
    "    def __init__(self, size, brand):\n",
    "        self.size = size\n",
    "        self.brand = brand\n",
    "        \n",
    "    def get_size(self):\n",
    "        return self.size\n",
    "    \n",
    "    def set_size(self, size):\n",
    "        self.size = size"
   ]
  },
  {
   "cell_type": "code",
   "execution_count": 67,
   "metadata": {},
   "outputs": [],
   "source": [
    "hd = HardDisks(100, \"Sony\")"
   ]
  },
  {
   "cell_type": "code",
   "execution_count": 68,
   "metadata": {},
   "outputs": [
    {
     "data": {
      "text/plain": [
       "100"
      ]
     },
     "execution_count": 68,
     "metadata": {},
     "output_type": "execute_result"
    }
   ],
   "source": [
    "hd.get_size()"
   ]
  },
  {
   "cell_type": "code",
   "execution_count": 69,
   "metadata": {},
   "outputs": [
    {
     "name": "stdout",
     "output_type": "stream",
     "text": [
      "['_HardDisks__version', '__class__', '__delattr__', '__dict__', '__dir__', '__doc__', '__eq__', '__format__', '__ge__', '__getattribute__', '__gt__', '__hash__', '__init__', '__init_subclass__', '__le__', '__lt__', '__module__', '__ne__', '__new__', '__reduce__', '__reduce_ex__', '__repr__', '__setattr__', '__sizeof__', '__str__', '__subclasshook__', '__weakref__', '_build_ver', 'brand', 'get_size', 'hdd_type', 'set_size', 'size']\n"
     ]
    }
   ],
   "source": [
    "print(dir(hd))"
   ]
  },
  {
   "cell_type": "code",
   "execution_count": 70,
   "metadata": {},
   "outputs": [
    {
     "name": "stdout",
     "output_type": "stream",
     "text": [
      "{'size': 100, 'brand': 'Sony'}\n"
     ]
    }
   ],
   "source": [
    "print(hd.__dict__)"
   ]
  },
  {
   "cell_type": "code",
   "execution_count": 71,
   "metadata": {},
   "outputs": [],
   "source": [
    "class HardDisks(object):\n",
    "    __version = \"0.0.1\"\n",
    "    _build_ver = \"1.0.1\"\n",
    "    hdd_type = \"HDD\"\n",
    "    \n",
    "    def __init__(self, size, brand):\n",
    "        self.size = size\n",
    "        self.brand = brand\n",
    "        \n",
    "    def get_size(self):\n",
    "        return self.size\n",
    "    \n",
    "    def set_size(self, size):\n",
    "        self.size = size\n",
    "        \n",
    "    def get_version(self):\n",
    "        return self.__version\n",
    "    \n",
    "    def set_version(self, version):\n",
    "        self.__version = version"
   ]
  },
  {
   "cell_type": "code",
   "execution_count": 72,
   "metadata": {},
   "outputs": [],
   "source": [
    "hd = HardDisks(100, \"Sony\")"
   ]
  },
  {
   "cell_type": "code",
   "execution_count": 76,
   "metadata": {},
   "outputs": [
    {
     "name": "stdout",
     "output_type": "stream",
     "text": [
      "['_HardDisks__version', '__class__', '__delattr__', '__dict__', '__dir__', '__doc__', '__eq__', '__format__', '__ge__', '__getattribute__', '__gt__', '__hash__', '__init__', '__init_subclass__', '__le__', '__lt__', '__module__', '__ne__', '__new__', '__reduce__', '__reduce_ex__', '__repr__', '__setattr__', '__sizeof__', '__str__', '__subclasshook__', '__weakref__', '_build_ver', 'brand', 'get_size', 'get_version', 'hdd_type', 'set_size', 'set_version', 'size']\n"
     ]
    }
   ],
   "source": [
    "print(dir(hd))"
   ]
  },
  {
   "cell_type": "code",
   "execution_count": 78,
   "metadata": {},
   "outputs": [
    {
     "name": "stdout",
     "output_type": "stream",
     "text": [
      "Error: {e}\n"
     ]
    }
   ],
   "source": [
    "try:\n",
    "    print(hd.__version)\n",
    "except Exception as e:\n",
    "    print(\"Error: {e}\")"
   ]
  },
  {
   "cell_type": "code",
   "execution_count": 79,
   "metadata": {},
   "outputs": [
    {
     "name": "stdout",
     "output_type": "stream",
     "text": [
      "0.0.1\n"
     ]
    }
   ],
   "source": [
    "print(hd.get_version())"
   ]
  },
  {
   "cell_type": "code",
   "execution_count": 81,
   "metadata": {},
   "outputs": [],
   "source": [
    "hd.set_version(\"0.1.1\")"
   ]
  },
  {
   "cell_type": "code",
   "execution_count": 82,
   "metadata": {},
   "outputs": [
    {
     "name": "stdout",
     "output_type": "stream",
     "text": [
      "0.1.1\n"
     ]
    }
   ],
   "source": [
    "print(hd.get_version())"
   ]
  },
  {
   "cell_type": "code",
   "execution_count": null,
   "metadata": {},
   "outputs": [],
   "source": []
  },
  {
   "cell_type": "code",
   "execution_count": 88,
   "metadata": {},
   "outputs": [],
   "source": [
    "class HardDisks(object):\n",
    "    \n",
    "    def __init__(self, size, brand):\n",
    "        self.size = size\n",
    "        self.brand = brand\n",
    "        self.__version = \"0.0.1\"\n",
    "        self._build_ver = \"1.0.1\"\n",
    "        self.type = \"HDD\"\n",
    "        \n",
    "    def get_version(self):\n",
    "        return self.__version\n",
    "    \n",
    "    def set_version(self, version):\n",
    "        self.__version = version"
   ]
  },
  {
   "cell_type": "code",
   "execution_count": 89,
   "metadata": {},
   "outputs": [
    {
     "name": "stdout",
     "output_type": "stream",
     "text": [
      "0.0.1\n",
      "['_HardDisks__version', '__class__', '__delattr__', '__dict__', '__dir__', '__doc__', '__eq__', '__format__', '__ge__', '__getattribute__', '__gt__', '__hash__', '__init__', '__init_subclass__', '__le__', '__lt__', '__module__', '__ne__', '__new__', '__reduce__', '__reduce_ex__', '__repr__', '__setattr__', '__sizeof__', '__str__', '__subclasshook__', '__weakref__', '_build_ver', 'brand', 'get_version', 'set_version', 'size', 'type']\n",
      "{'size': 100, 'brand': 'Sony', '_HardDisks__version': '0.0.1', '_build_ver': '1.0.1', 'type': 'HDD'}\n"
     ]
    }
   ],
   "source": [
    "hd = HardDisks(100, \"Sony\")\n",
    "print(hd.get_version())\n",
    "print(dir(hd))\n",
    "print(hd.__dict__)"
   ]
  },
  {
   "cell_type": "code",
   "execution_count": 86,
   "metadata": {},
   "outputs": [
    {
     "name": "stdout",
     "output_type": "stream",
     "text": [
      "'HardDisks' object has no attribute '__version'\n"
     ]
    }
   ],
   "source": [
    "try:\n",
    "    print(hd.__version)\n",
    "except Exception as e:\n",
    "    print(e)"
   ]
  },
  {
   "cell_type": "code",
   "execution_count": 87,
   "metadata": {},
   "outputs": [
    {
     "name": "stdout",
     "output_type": "stream",
     "text": [
      "1.0.1\n"
     ]
    }
   ],
   "source": [
    "try:\n",
    "    print(hd._build_ver)\n",
    "except Exception as e:\n",
    "    print(e)"
   ]
  },
  {
   "cell_type": "code",
   "execution_count": 180,
   "metadata": {},
   "outputs": [
    {
     "name": "stdout",
     "output_type": "stream",
     "text": [
      "2 12.56\n",
      "51 8167.14\n"
     ]
    }
   ],
   "source": [
    "# Another example for getters and setters \n",
    "import math\n",
    "\n",
    "class Circle(object):\n",
    "    PI = 3.14\n",
    "    \n",
    "    def __init__(self, radius):\n",
    "        self.radius = radius\n",
    "        \n",
    "    \n",
    "    @property\n",
    "    def radius(self):\n",
    "        return self.__radius\n",
    "    \n",
    "    @radius.setter\n",
    "    def radius(self, radius):\n",
    "        self.__radius = radius\n",
    "        self.__area = self.PI * self.__radius * self.__radius        \n",
    "\n",
    "    @property\n",
    "    def area(self):\n",
    "        return self.__area\n",
    "    \n",
    "    @area.setter\n",
    "    def area(self, area):\n",
    "        self.__area = area\n",
    "        self.__radius = Maths.sqrt(self.area/self.PI)   \n",
    "        \n",
    "c = Circle(2)\n",
    "print(c.radius, c.area)\n",
    "c.radius = 51\n",
    "print(c.radius, c.area)"
   ]
  },
  {
   "cell_type": "markdown",
   "metadata": {},
   "source": [
    "### Updating class attribute containing immutable data type"
   ]
  },
  {
   "cell_type": "code",
   "execution_count": 62,
   "metadata": {},
   "outputs": [],
   "source": [
    "class Foo(object):\n",
    "    ver = 20\n",
    "    def setVersion(self, val):\n",
    "        pass\n",
    "    \n",
    "    def showVer(self):\n",
    "        return self.ver\n",
    "\n",
    "foo = Foo()\n",
    "foo.setVersion(10)  # __version\n",
    "foo.ver = 2020202   # ver"
   ]
  },
  {
   "cell_type": "code",
   "execution_count": 63,
   "metadata": {},
   "outputs": [
    {
     "data": {
      "text/plain": [
       "2020202"
      ]
     },
     "execution_count": 63,
     "metadata": {},
     "output_type": "execute_result"
    }
   ],
   "source": [
    "foo.showVer()"
   ]
  },
  {
   "cell_type": "markdown",
   "metadata": {},
   "source": [
    "### Updating class attribute contains mutable data type"
   ]
  },
  {
   "cell_type": "code",
   "execution_count": 88,
   "metadata": {},
   "outputs": [],
   "source": [
    "class Foo(object):\n",
    "    vers = [100]\n",
    "        \n",
    "    def setVersion(self, val):\n",
    "        pass\n",
    "    \n",
    "    def set_name(self, name):\n",
    "        self.name = name\n",
    "        return self.name\n",
    "\n",
    "foo = Foo()\n",
    "foo2 = Foo()"
   ]
  },
  {
   "cell_type": "code",
   "execution_count": 85,
   "metadata": {},
   "outputs": [],
   "source": [
    "foo.vers.append(10.011)"
   ]
  },
  {
   "cell_type": "code",
   "execution_count": 86,
   "metadata": {},
   "outputs": [
    {
     "name": "stdout",
     "output_type": "stream",
     "text": [
      "[100, 0.011, 10.011] 4357083200\n",
      "[100, 0.011, 10.011] 4357083200\n"
     ]
    }
   ],
   "source": [
    "print(foo.vers, id(foo.vers))\n",
    "print(foo2.vers, id(foo2.vers))"
   ]
  },
  {
   "cell_type": "markdown",
   "metadata": {},
   "source": [
    "### Object Attributes"
   ]
  },
  {
   "cell_type": "markdown",
   "metadata": {},
   "source": [
    "They are not shared across the class, but are different for different object of the same class."
   ]
  },
  {
   "cell_type": "code",
   "execution_count": 121,
   "metadata": {},
   "outputs": [
    {
     "ename": "NameError",
     "evalue": "name 'foo' is not defined",
     "output_type": "error",
     "traceback": [
      "\u001b[0;31m---------------------------------------------------------------------------\u001b[0m",
      "\u001b[0;31mNameError\u001b[0m                                 Traceback (most recent call last)",
      "\u001b[0;32m<ipython-input-121-8d194e15a4a1>\u001b[0m in \u001b[0;36m<module>\u001b[0;34m\u001b[0m\n\u001b[0;32m----> 1\u001b[0;31m \u001b[0mfoo\u001b[0m\u001b[0;34m.\u001b[0m\u001b[0mset_name\u001b[0m\u001b[0;34m(\u001b[0m\u001b[0;34m\"Ramesh Saxna\"\u001b[0m\u001b[0;34m)\u001b[0m\u001b[0;34m\u001b[0m\u001b[0;34m\u001b[0m\u001b[0m\n\u001b[0m\u001b[1;32m      2\u001b[0m \u001b[0mprint\u001b[0m\u001b[0;34m(\u001b[0m\u001b[0mfoo\u001b[0m\u001b[0;34m.\u001b[0m\u001b[0mname\u001b[0m\u001b[0;34m)\u001b[0m\u001b[0;34m\u001b[0m\u001b[0;34m\u001b[0m\u001b[0m\n",
      "\u001b[0;31mNameError\u001b[0m: name 'foo' is not defined"
     ]
    }
   ],
   "source": [
    "foo.set_name(\"Ramesh Saxna\")\n",
    "print(foo.name)"
   ]
  },
  {
   "cell_type": "code",
   "execution_count": 92,
   "metadata": {},
   "outputs": [
    {
     "name": "stdout",
     "output_type": "stream",
     "text": [
      "Anamika Johri\n"
     ]
    }
   ],
   "source": [
    "foo.name = \"Anamika Johri\"\n",
    "print(foo.name)"
   ]
  },
  {
   "cell_type": "code",
   "execution_count": 95,
   "metadata": {},
   "outputs": [
    {
     "name": "stdout",
     "output_type": "stream",
     "text": [
      "['__class__', '__delattr__', '__dict__', '__dir__', '__doc__', '__eq__', '__format__', '__ge__', '__getattribute__', '__gt__', '__hash__', '__init__', '__init_subclass__', '__le__', '__lt__', '__module__', '__ne__', '__new__', '__reduce__', '__reduce_ex__', '__repr__', '__setattr__', '__sizeof__', '__str__', '__subclasshook__', '__weakref__', 'setVersion', 'set_name', 'vers']\n"
     ]
    }
   ],
   "source": [
    "# Lets check if foo2 also have `name` \n",
    "print(dir(foo2))"
   ]
  },
  {
   "cell_type": "code",
   "execution_count": 96,
   "metadata": {},
   "outputs": [
    {
     "name": "stdout",
     "output_type": "stream",
     "text": [
      "['__class__', '__delattr__', '__dict__', '__dir__', '__doc__', '__eq__', '__format__', '__ge__', '__getattribute__', '__gt__', '__hash__', '__init__', '__init_subclass__', '__le__', '__lt__', '__module__', '__ne__', '__new__', '__reduce__', '__reduce_ex__', '__repr__', '__setattr__', '__sizeof__', '__str__', '__subclasshook__', '__weakref__', 'name', 'setVersion', 'set_name', 'vers']\n"
     ]
    }
   ],
   "source": [
    "print(dir(foo))"
   ]
  },
  {
   "cell_type": "code",
   "execution_count": null,
   "metadata": {},
   "outputs": [],
   "source": [
    "foo.showVer()\n",
    "print(foo.ver)\n",
    "print(\"-\"*20)\n",
    "print(arya.showVer())"
   ]
  },
  {
   "cell_type": "code",
   "execution_count": null,
   "metadata": {},
   "outputs": [],
   "source": [
    "try:\n",
    "    print(foo.__version)\n",
    "except Exception as e:\n",
    "    print(e)"
   ]
  },
  {
   "cell_type": "code",
   "execution_count": null,
   "metadata": {},
   "outputs": [],
   "source": [
    "try:\n",
    "    print(foo.__getattribute__(\"__version\"))\n",
    "except Exception as e:\n",
    "    print(e)"
   ]
  },
  {
   "cell_type": "code",
   "execution_count": 67,
   "metadata": {},
   "outputs": [
    {
     "name": "stdout",
     "output_type": "stream",
     "text": [
      "Created an object instance for:  John Doe\n",
      "Created an object instance for:  Arya Doe\n",
      "Created an object instance for:  John Gupta\n"
     ]
    }
   ],
   "source": [
    "# Example\n",
    "class User(object):\n",
    "    \"\"\"my very first class: FooClass\"\"\"\n",
    "    \n",
    "    def __init__(self, firstname='John', surname=\"Doe\"):\n",
    "        'not a constructor, but is an initializer'\n",
    "        self.name = firstname + \" \" + surname \n",
    "        print ('Created an object instance for: ', self.name)\n",
    "    \n",
    "    def showName(self):\n",
    "        'display instance attribute and class name'\n",
    "        print ('Your name is: ', self.name)\n",
    "        print( 'My name is: ', self.__class__ )  # full class name\n",
    "\n",
    "# Create Class Instances\n",
    "user = User()\n",
    "arya = User(\"Arya\")\n",
    "gupta = User(surname=\"Gupta\")"
   ]
  },
  {
   "cell_type": "code",
   "execution_count": null,
   "metadata": {},
   "outputs": [],
   "source": [
    "user.showName()\n",
    "arya.showName()\n",
    "gupta.showName()"
   ]
  },
  {
   "cell_type": "code",
   "execution_count": null,
   "metadata": {},
   "outputs": [],
   "source": [
    "# Example\n",
    "class User(object):\n",
    "    \"\"\"my very first class: FooClass\"\"\"\n",
    "    \n",
    "    def __init__(self, firstname, surname):\n",
    "        'initializer is not a constructor'\n",
    "        self.name = firstname + \" \" + surname \n",
    "        print ('Created a class instance for: ', self.name)\n",
    "    \n",
    "    # full class name\n",
    "    def showName(self):\n",
    "        'display instance attribute and class name'\n",
    "        print ('Your name is: ', self.name)\n",
    "        print( 'My name is: ', self.__class__ )"
   ]
  },
  {
   "cell_type": "code",
   "execution_count": null,
   "metadata": {},
   "outputs": [],
   "source": [
    "# Create Class Instances\n",
    "try:\n",
    "    user = User()\n",
    "#     arya = User(\"Arya\")\n",
    "#     gupta = User(surname=\"Gupta\")\n",
    "#     gupta = User(surname=\"Gupta\", firstname=\"Manish\")\n",
    "    arya.showName()\n",
    "except Exception as e:\n",
    "    print(e)"
   ]
  },
  {
   "cell_type": "markdown",
   "metadata": {},
   "source": [
    "So, we can't have any object creation with lesser than two parameters. Lets comment out the first three object creation code and try again"
   ]
  },
  {
   "cell_type": "code",
   "execution_count": null,
   "metadata": {},
   "outputs": [],
   "source": [
    "# Create Class Instances\n",
    "try:\n",
    "#     user = User()\n",
    "#     arya = User(\"Arya\")\n",
    "#     gupta = User(surname=\"Gupta\")\n",
    "    gupta = User(surname=\"Gupta\", firstname=\"Manish\")\n",
    "    arya.showName()\n",
    "except Exception as e:\n",
    "    print(e)"
   ]
  },
  {
   "cell_type": "markdown",
   "metadata": {},
   "source": [
    "### Attributes Type, private & public"
   ]
  },
  {
   "cell_type": "code",
   "execution_count": 119,
   "metadata": {},
   "outputs": [],
   "source": [
    "class PrivateVariables(object):\n",
    "    def __init__(self):\n",
    "        self.__version = 1.0\n",
    "        self._vers = 11.0\n",
    "        self.ver = 10.0\n",
    "    \n",
    "    def show_version(self):\n",
    "        return(self.__version)\n",
    "    \n",
    "    def update_version(self, ver):\n",
    "        self.__version = ver\n",
    "    \n",
    "    def show_vers(self):\n",
    "        print(self._vers)\n",
    "    \n",
    "    def __private_funct(self):\n",
    "        pass"
   ]
  },
  {
   "cell_type": "code",
   "execution_count": 120,
   "metadata": {},
   "outputs": [],
   "source": [
    "pv = PrivateVariables()"
   ]
  },
  {
   "cell_type": "code",
   "execution_count": 133,
   "metadata": {},
   "outputs": [
    {
     "name": "stdout",
     "output_type": "stream",
     "text": [
      "['_PrivateVariables__private_funct', '_PrivateVariables__version', '__class__', '__delattr__', '__dict__', '__dir__', '__doc__', '__eq__', '__format__', '__ge__', '__getattribute__', '__gt__', '__hash__', '__init__', '__init_subclass__', '__le__', '__lt__', '__module__', '__ne__', '__new__', '__reduce__', '__reduce_ex__', '__repr__', '__setattr__', '__sizeof__', '__str__', '__subclasshook__', '__weakref__', '_vers', 'show_vers', 'show_version', 'update_version', 'ver']\n"
     ]
    }
   ],
   "source": [
    "print(dir(pv))"
   ]
  },
  {
   "cell_type": "code",
   "execution_count": 102,
   "metadata": {},
   "outputs": [
    {
     "name": "stdout",
     "output_type": "stream",
     "text": [
      "1.0\n"
     ]
    }
   ],
   "source": [
    "# Using Hack to call private variable:\n",
    "print(pv._PrivateVariables__version)"
   ]
  },
  {
   "cell_type": "code",
   "execution_count": 134,
   "metadata": {},
   "outputs": [
    {
     "name": "stdout",
     "output_type": "stream",
     "text": [
      "10.0\n",
      "11.0\n",
      "'PrivateVariables' object has no attribute '__version'\n"
     ]
    }
   ],
   "source": [
    "print(pv.ver)\n",
    "print(pv._vers)\n",
    "\n",
    "try:\n",
    "    print(pv.__version)\n",
    "except Exception as e:\n",
    "    print(e)"
   ]
  },
  {
   "cell_type": "code",
   "execution_count": 135,
   "metadata": {},
   "outputs": [
    {
     "name": "stdout",
     "output_type": "stream",
     "text": [
      "111\n",
      "1000\n",
      "1.0\n"
     ]
    }
   ],
   "source": [
    "pv.ver = 111\n",
    "print(pv.ver)\n",
    "pv._vers = 1000  # Convension only not to update outside the class/object\n",
    "print(pv._vers)   \n",
    "print(pv.show_version())"
   ]
  },
  {
   "cell_type": "code",
   "execution_count": null,
   "metadata": {},
   "outputs": [],
   "source": [
    "print(pv.__dict__)"
   ]
  },
  {
   "cell_type": "markdown",
   "metadata": {},
   "source": [
    "#### Private Methods"
   ]
  },
  {
   "cell_type": "markdown",
   "metadata": {},
   "source": [
    "To create a private method, the function name should start with double underscore, but **not end** with double underscore."
   ]
  },
  {
   "cell_type": "code",
   "execution_count": 121,
   "metadata": {},
   "outputs": [],
   "source": [
    "class PrivateAttributes(object):\n",
    "    def __hidden(self, val):\n",
    "        return val * 2\n",
    "\n",
    "    def show(self, val):\n",
    "        return self.__hidden(val)        "
   ]
  },
  {
   "cell_type": "code",
   "execution_count": 122,
   "metadata": {},
   "outputs": [],
   "source": [
    "pa = PrivateAttributes()"
   ]
  },
  {
   "cell_type": "code",
   "execution_count": 123,
   "metadata": {},
   "outputs": [
    {
     "name": "stdout",
     "output_type": "stream",
     "text": [
      "{}\n",
      "['__module__', '_PrivateAttributes__hidden', 'show', '__dict__', '__weakref__', '__doc__', '__repr__', '__hash__', '__str__', '__getattribute__', '__setattr__', '__delattr__', '__lt__', '__le__', '__eq__', '__ne__', '__gt__', '__ge__', '__init__', '__new__', '__reduce_ex__', '__reduce__', '__subclasshook__', '__init_subclass__', '__format__', '__sizeof__', '__dir__', '__class__']\n"
     ]
    }
   ],
   "source": [
    "print(pa.__dict__)\n",
    "print(pa.__dir__())"
   ]
  },
  {
   "cell_type": "code",
   "execution_count": 109,
   "metadata": {},
   "outputs": [
    {
     "name": "stdout",
     "output_type": "stream",
     "text": [
      "200\n"
     ]
    }
   ],
   "source": [
    "print(pa.show(100))"
   ]
  },
  {
   "cell_type": "markdown",
   "metadata": {},
   "source": [
    "#### Misc"
   ]
  },
  {
   "cell_type": "code",
   "execution_count": 124,
   "metadata": {},
   "outputs": [
    {
     "name": "stdout",
     "output_type": "stream",
     "text": [
      "20\n",
      "24\n"
     ]
    }
   ],
   "source": [
    "class PrivateAttributes(object):\n",
    "    def __hidden(self, val):\n",
    "        return val * 2\n",
    "\n",
    "    def show(self, val):\n",
    "        print(self._PrivateAttributes__hidden(10))\n",
    "        return self.__hidden(val)    \n",
    "\n",
    "pa = PrivateAttributes()\n",
    "print(pa.show(12))"
   ]
  },
  {
   "cell_type": "markdown",
   "metadata": {},
   "source": [
    "### Investigating the attributes existance"
   ]
  },
  {
   "cell_type": "markdown",
   "metadata": {},
   "source": [
    "Say we are trying to find if `__vesion` is an attribute of the object `pv`"
   ]
  },
  {
   "cell_type": "code",
   "execution_count": 125,
   "metadata": {},
   "outputs": [
    {
     "name": "stdout",
     "output_type": "stream",
     "text": [
      "None\n"
     ]
    }
   ],
   "source": [
    "print(pv.__dict__.get('__version', \"None\"))"
   ]
  },
  {
   "cell_type": "code",
   "execution_count": 126,
   "metadata": {},
   "outputs": [
    {
     "name": "stdout",
     "output_type": "stream",
     "text": [
      "10.0\n"
     ]
    }
   ],
   "source": [
    "print(pv.__dict__.get('ver', 'None'))"
   ]
  },
  {
   "cell_type": "markdown",
   "metadata": {},
   "source": [
    "To check if attribute exists in an object we can use `in` as in the above example, the attribute might contain the default values, thus rendering our solution ineffective."
   ]
  },
  {
   "cell_type": "code",
   "execution_count": 127,
   "metadata": {},
   "outputs": [
    {
     "data": {
      "text/plain": [
       "False"
      ]
     },
     "execution_count": 127,
     "metadata": {},
     "output_type": "execute_result"
    }
   ],
   "source": [
    "'__version' in pv.__dict__ "
   ]
  },
  {
   "cell_type": "code",
   "execution_count": 128,
   "metadata": {},
   "outputs": [
    {
     "data": {
      "text/plain": [
       "True"
      ]
     },
     "execution_count": 128,
     "metadata": {},
     "output_type": "execute_result"
    }
   ],
   "source": [
    "'ver' in pv.__dict__ "
   ]
  },
  {
   "cell_type": "markdown",
   "metadata": {},
   "source": [
    "### Adding/Update new object attribute"
   ]
  },
  {
   "cell_type": "code",
   "execution_count": 129,
   "metadata": {},
   "outputs": [
    {
     "name": "stdout",
     "output_type": "stream",
     "text": [
      "1010\n"
     ]
    }
   ],
   "source": [
    "# Not a recommended way.\n",
    "\n",
    "pv.__dict__['new_ver'] = 1010\n",
    "print(pv.__dict__.get('new_ver'))"
   ]
  },
  {
   "cell_type": "code",
   "execution_count": 130,
   "metadata": {},
   "outputs": [
    {
     "data": {
      "text/plain": [
       "1010"
      ]
     },
     "execution_count": 130,
     "metadata": {},
     "output_type": "execute_result"
    }
   ],
   "source": [
    "pv.new_ver"
   ]
  },
  {
   "cell_type": "code",
   "execution_count": 131,
   "metadata": {},
   "outputs": [
    {
     "name": "stdout",
     "output_type": "stream",
     "text": [
      "['_PrivateVariables__private_funct', '_PrivateVariables__version', '__class__', '__delattr__', '__dict__', '__dir__', '__doc__', '__eq__', '__format__', '__ge__', '__getattribute__', '__gt__', '__hash__', '__init__', '__init_subclass__', '__le__', '__lt__', '__module__', '__ne__', '__new__', '__reduce__', '__reduce_ex__', '__repr__', '__setattr__', '__sizeof__', '__str__', '__subclasshook__', '__weakref__', '_vers', 'new_ver', 'show_vers', 'show_version', 'update_version', 'ver']\n"
     ]
    }
   ],
   "source": [
    "print(dir(pv))"
   ]
  },
  {
   "cell_type": "code",
   "execution_count": 132,
   "metadata": {},
   "outputs": [],
   "source": [
    "# This is the better method\n",
    "\n",
    "pv.test = \"TESting\""
   ]
  },
  {
   "cell_type": "code",
   "execution_count": 133,
   "metadata": {},
   "outputs": [
    {
     "name": "stdout",
     "output_type": "stream",
     "text": [
      "['_PrivateVariables__private_funct', '_PrivateVariables__version', '__class__', '__delattr__', '__dict__', '__dir__', '__doc__', '__eq__', '__format__', '__ge__', '__getattribute__', '__gt__', '__hash__', '__init__', '__init_subclass__', '__le__', '__lt__', '__module__', '__ne__', '__new__', '__reduce__', '__reduce_ex__', '__repr__', '__setattr__', '__sizeof__', '__str__', '__subclasshook__', '__weakref__', '_vers', 'new_ver', 'show_vers', 'show_version', 'test', 'update_version', 'ver']\n"
     ]
    }
   ],
   "source": [
    "print(dir(pv))"
   ]
  },
  {
   "cell_type": "code",
   "execution_count": 134,
   "metadata": {},
   "outputs": [
    {
     "name": "stdout",
     "output_type": "stream",
     "text": [
      "{'_PrivateVariables__version': 1.0, '_vers': 11.0, 'ver': 10.0, 'new_ver': 1010, 'test': 'TESting'}\n"
     ]
    }
   ],
   "source": [
    "print(pv.__dict__)"
   ]
  },
  {
   "cell_type": "code",
   "execution_count": null,
   "metadata": {
    "scrolled": true
   },
   "outputs": [],
   "source": [
    "try:\n",
    "    print(pv.__version)\n",
    "except Exception as e:\n",
    "    print(e)"
   ]
  },
  {
   "cell_type": "code",
   "execution_count": 143,
   "metadata": {},
   "outputs": [],
   "source": [
    "pv.__test = \"Testing\"  # This will not create a private variable."
   ]
  },
  {
   "cell_type": "code",
   "execution_count": 144,
   "metadata": {},
   "outputs": [
    {
     "name": "stdout",
     "output_type": "stream",
     "text": [
      "{'_PrivateVariables__version': 1.0, '_vers': 11.0, 'ver': 10.0, 'new_ver': 1010, 'test': 'TESting', '__test': 'TESting'}\n"
     ]
    }
   ],
   "source": [
    "print(pv.__dict__)"
   ]
  },
  {
   "cell_type": "code",
   "execution_count": 145,
   "metadata": {},
   "outputs": [
    {
     "name": "stdout",
     "output_type": "stream",
     "text": [
      "['_PrivateVariables__private_funct', '_PrivateVariables__version', '__class__', '__delattr__', '__dict__', '__dir__', '__doc__', '__eq__', '__format__', '__ge__', '__getattribute__', '__gt__', '__hash__', '__init__', '__init_subclass__', '__le__', '__lt__', '__module__', '__ne__', '__new__', '__reduce__', '__reduce_ex__', '__repr__', '__setattr__', '__sizeof__', '__str__', '__subclasshook__', '__test', '__weakref__', '_vers', 'new_ver', 'show_vers', 'show_version', 'test', 'update_version', 'ver']\n"
     ]
    }
   ],
   "source": [
    "print(dir(pv))"
   ]
  },
  {
   "cell_type": "markdown",
   "metadata": {
    "collapsed": true
   },
   "source": [
    "### `static` / `class` variables "
   ]
  },
  {
   "cell_type": "markdown",
   "metadata": {},
   "source": [
    "**Reference:** \n",
    "[https://stackoverflow.com/questions/68645/are-static-class-variables-possible](https://stackoverflow.com/questions/68645/are-static-class-variables-possible)."
   ]
  },
  {
   "cell_type": "markdown",
   "metadata": {},
   "source": [
    "`Static variables` are variables **declared inside the class definition**, and not inside a _method_ are **class** or **static** variables.\n",
    "\n",
    "But before you go all, _Yahooooo..._ about understanding of `static variables`. Please note that the implementation of static variables in python are different from Java/C++, they are unique in many ways. \n",
    "\n",
    "Lets understand them a little using the following code"
   ]
  },
  {
   "cell_type": "code",
   "execution_count": 90,
   "metadata": {},
   "outputs": [],
   "source": [
    "class Static_Test(object):\n",
    "    val = \"Rajeev Chaturvedi\""
   ]
  },
  {
   "cell_type": "code",
   "execution_count": 91,
   "metadata": {},
   "outputs": [],
   "source": [
    "s = Static_Test()"
   ]
  },
  {
   "cell_type": "code",
   "execution_count": 92,
   "metadata": {},
   "outputs": [
    {
     "name": "stdout",
     "output_type": "stream",
     "text": [
      "Rajeev Chaturvedi \b, 139909406149488\n",
      "Rajeev Chaturvedi \b, 139909406149488\n"
     ]
    }
   ],
   "source": [
    "print(s.val,\"\\b,\", id(s.val))\n",
    "print(Static_Test.val, \"\\b,\", id(Static_Test.val))"
   ]
  },
  {
   "cell_type": "markdown",
   "metadata": {},
   "source": [
    "So far so good, val & id of val from both the `instance` and `class` _seems_ to be same, thus they are pointing to same memory location which contains the value.\n",
    "Now lets try to update it in class"
   ]
  },
  {
   "cell_type": "code",
   "execution_count": 93,
   "metadata": {},
   "outputs": [],
   "source": [
    "Static_Test.val = \"राजीव चतुर्वेदी\""
   ]
  },
  {
   "cell_type": "code",
   "execution_count": 96,
   "metadata": {},
   "outputs": [
    {
     "name": "stdout",
     "output_type": "stream",
     "text": [
      "राजीव चतुर्वेदी \b, 139909406085104\n",
      "राजीव चतुर्वेदी \b, 139909406085104\n",
      "राजीव चतुर्वेदी \b, 139909406085104\n"
     ]
    }
   ],
   "source": [
    "print(s.val,\"\\b,\", id(s.val))\n",
    "print(Static_Test.val, \"\\b,\", id(Static_Test.val))\n",
    "s_new = Static_Test()\n",
    "print(s_new.val,\"\\b,\", id(s.val))"
   ]
  },
  {
   "cell_type": "markdown",
   "metadata": {},
   "source": [
    "So, if we update values at class level, than they are getting reflected in all the instances as well. Now lets try to update its value in an instance and check its effect"
   ]
  },
  {
   "cell_type": "code",
   "execution_count": 98,
   "metadata": {},
   "outputs": [
    {
     "name": "stdout",
     "output_type": "stream",
     "text": [
      "Sachin \b, 139909405886832\n",
      "राजीव चतुर्वेदी \b, 139909406085104\n",
      "राजीव चतुर्वेदी \b, 139909405886832\n"
     ]
    }
   ],
   "source": [
    "s.val = \"Sachin\"\n",
    "print(s.val,\"\\b,\", id(s.val))\n",
    "print(Static_Test.val, \"\\b,\", id(Static_Test.val))\n",
    "print(s_new.val,\"\\b,\", id(s.val))"
   ]
  },
  {
   "cell_type": "code",
   "execution_count": 100,
   "metadata": {},
   "outputs": [
    {
     "name": "stdout",
     "output_type": "stream",
     "text": [
      "राजीव चतुर्वेदी \b, 139909405886832\n"
     ]
    }
   ],
   "source": [
    "s_new = Static_Test()\n",
    "print(s_new.val,\"\\b,\", id(s.val))"
   ]
  },
  {
   "cell_type": "markdown",
   "metadata": {},
   "source": [
    "Once, instance value has been changed then it remain changed and cannot be reverted by changing `class` variable value as shown in the below code"
   ]
  },
  {
   "cell_type": "code",
   "execution_count": 139,
   "metadata": {},
   "outputs": [
    {
     "name": "stdout",
     "output_type": "stream",
     "text": [
      "Sachin \b, 4381684272\n",
      "Sachin Shah \b, 4381681008\n",
      "Sachin Shah \b, 4381684272\n"
     ]
    }
   ],
   "source": [
    "Static_Test.val = \"Sachin Shah\"\n",
    "print(s.val,\"\\b,\", id(s.val))\n",
    "print(Static_Test.val, \"\\b,\", id(Static_Test.val))\n",
    "s_new = Static_Test()\n",
    "print(s_new.val,\"\\b,\", id(s.val))"
   ]
  },
  {
   "cell_type": "markdown",
   "metadata": {},
   "source": [
    "### Static and Class Methods"
   ]
  },
  {
   "cell_type": "markdown",
   "metadata": {},
   "source": [
    "Python provides decorators `@classmethod` & `@staticmethod` "
   ]
  },
  {
   "cell_type": "markdown",
   "metadata": {},
   "source": [
    "#### `@staticmethod`"
   ]
  },
  {
   "cell_type": "markdown",
   "metadata": {},
   "source": [
    "A `static` method does not receive an implicit first argument (`self` or `cls`). To declare a `static` method decorator `staticmethod` is used as shown in the below example"
   ]
  },
  {
   "cell_type": "code",
   "execution_count": 102,
   "metadata": {},
   "outputs": [
    {
     "name": "stdout",
     "output_type": "stream",
     "text": [
      "314.0\n"
     ]
    }
   ],
   "source": [
    "PI = 3.14\n",
    "\n",
    "class Circle(object):\n",
    "    \n",
    "    @staticmethod\n",
    "    def area_circle(radius):\n",
    "        area = 0\n",
    "        try:\n",
    "            area = PI * radius * radius\n",
    "        except Exception as e:\n",
    "            print(e)\n",
    "        return area\n",
    "\n",
    "c = Circle()\n",
    "print(c.area_circle(10))"
   ]
  },
  {
   "cell_type": "markdown",
   "metadata": {},
   "source": [
    "As shown in the above example, static methods do not have access to any class or instance attributes. We tried to access class attribute `PI` and received error message that variable not defined.\n",
    "\n",
    "Static methods for all intent and purpose act as normal function, but are called from within an `object` or `class`."
   ]
  },
  {
   "cell_type": "markdown",
   "metadata": {},
   "source": [
    "Static methods similar to class methods are bound to a `class` instead of its object, thus do not require a class instance creation and thus are not dependent on the state of the object.\n",
    "\n",
    "Still there are few noticible differences between a static method and a class method, few of them are as follows:\n",
    "\n",
    "- Static method are isolated from its class/object and have access only to the parameters passed to it.\n",
    "- Class method works with the class since its parameter is always the class itself."
   ]
  },
  {
   "cell_type": "markdown",
   "metadata": {},
   "source": [
    "#### When do you use static method"
   ]
  },
  {
   "cell_type": "markdown",
   "metadata": {},
   "source": [
    "So, if they do not have access to the class, then why are they created. We will try to understand the logic of why they should be created."
   ]
  },
  {
   "cell_type": "markdown",
   "metadata": {},
   "source": [
    "#####  Grouping utility function to a class"
   ]
  },
  {
   "cell_type": "markdown",
   "metadata": {},
   "source": [
    "Many times, we have to few function, which are used by an object but are not part of the object and are not used by any other object. "
   ]
  },
  {
   "cell_type": "code",
   "execution_count": 72,
   "metadata": {},
   "outputs": [
    {
     "name": "stdout",
     "output_type": "stream",
     "text": [
      "1.89 72\n",
      "20.16\n"
     ]
    }
   ],
   "source": [
    "class User(object):\n",
    "    def __init__(self, name, age, height, weight, waist_size):\n",
    "        self.name = name\n",
    "        self.age = age\n",
    "        self.height = height\n",
    "        self.weight = weight\n",
    "        self.waist_size = waist_size\n",
    "    \n",
    "    def get_details(self, func):\n",
    "        funcs = {\n",
    "            'bmi': [self._bmi_calculate, self.height, self.weight],\n",
    "            'fat_mass': [self._fat_mass, self.weight, self.waist_size]\n",
    "        }\n",
    "        return funcs[func][0](*funcs[func][1:])\n",
    "        \n",
    "    @staticmethod\n",
    "    def _bmi_calculate(height, weight):\n",
    "        print(height, weight)\n",
    "        return round(weight / (height * height), 2)\n",
    "        \n",
    "    @staticmethod\n",
    "    def _body_fat_estimator(weight, waist_size):\n",
    "        # (-76.76 + (4.15 * Waist) - (.082 * Weight)) / Weight\n",
    "        pass\n",
    "    \n",
    "    @staticmethod\n",
    "    def _fat_mass(weight, waist_size):\n",
    "        # Body Fat % * Weight\n",
    "        pass\n",
    "    \n",
    "    @staticmethod\n",
    "    def _lean_mass(weight, waist_size):\n",
    "        # Weight - Fat Mass\n",
    "        pass\n",
    "    \n",
    "\n",
    "mayank = User(\"Mayank\", 43, 1.89 , 72, 44)\n",
    "\n",
    "print(mayank.get_details('bmi'))"
   ]
  },
  {
   "cell_type": "markdown",
   "metadata": {},
   "source": [
    "#### Isolating object data from functions."
   ]
  },
  {
   "cell_type": "markdown",
   "metadata": {},
   "source": [
    "Although static methods, allows to hide non necessary class/object data from the function as shown in the below example.  "
   ]
  },
  {
   "cell_type": "code",
   "execution_count": 148,
   "metadata": {},
   "outputs": [
    {
     "name": "stdout",
     "output_type": "stream",
     "text": [
      "~^~^~^~^~^~^~^~^~^~^~^~^~^~^~^~^~^~^~^~^~^~^~^~^~^~^~^~^~^~^\n",
      "                       Rakesh Saxena                        \n",
      "~^~^~^~^~^~^~^~^~^~^~^~^~^~^~^~^~^~^~^~^~^~^~^~^~^~^~^~^~^~^\n",
      "Rakesh Saxena\n"
     ]
    }
   ],
   "source": [
    "class User(object):\n",
    "    def __init__(self, marks, name):\n",
    "        self.marks = marks\n",
    "        self.name = name\n",
    "    \n",
    "    @staticmethod\n",
    "    def banner(name):\n",
    "        name = f\"{name:^60}\"\n",
    "        print(\"~^\"*30)\n",
    "        print(name)\n",
    "        print(\"~^\"*30)\n",
    "        \n",
    "    \n",
    "marks = [81, 85, 72, 92]\n",
    "\n",
    "user = User(marks, \"Rakesh Saxena\")\n",
    "user.banner(user.name)\n",
    "print(user.name)"
   ]
  },
  {
   "cell_type": "markdown",
   "metadata": {},
   "source": [
    "But, they can not protect if `mutable` data is passed and updated inside the static function as shown in the below example. "
   ]
  },
  {
   "cell_type": "code",
   "execution_count": null,
   "metadata": {},
   "outputs": [],
   "source": [
    "class User(object):\n",
    "    def __init__(self, marks, name):\n",
    "        self.marks = marks\n",
    "    \n",
    "    @staticmethod\n",
    "    def average(marks):\n",
    "        marks.append(100)\n",
    "        return sum(marks)/len(marks)\n",
    "    \n",
    "marks = [81, 85, 72, 92]\n",
    "\n",
    "user = User(marks, \"Rakesh Saxena\")\n",
    "user.average(user.marks)\n",
    "print(user.marks)"
   ]
  },
  {
   "cell_type": "markdown",
   "metadata": {},
   "source": [
    "In the above example, mutable data `user.marks` was passed, and we were able to update them within the `staticmathod` `average`.  "
   ]
  },
  {
   "cell_type": "markdown",
   "metadata": {},
   "source": [
    "#### `@classmethod`"
   ]
  },
  {
   "cell_type": "code",
   "execution_count": 103,
   "metadata": {},
   "outputs": [],
   "source": [
    "# Here `cls` name used is just a convension. Its not a LAW.\n",
    "\n",
    "class Sample(object):\n",
    "    \n",
    "    @classmethod\n",
    "    def test(cls, x):\n",
    "        cls.welcome = x\n",
    "\n",
    "a = Sample()\n",
    "b = Sample()"
   ]
  },
  {
   "cell_type": "code",
   "execution_count": 104,
   "metadata": {},
   "outputs": [
    {
     "name": "stdout",
     "output_type": "stream",
     "text": [
      "False False\n"
     ]
    }
   ],
   "source": [
    "print('welcome' in dir(a), 'welcome' in dir(b))"
   ]
  },
  {
   "cell_type": "markdown",
   "metadata": {},
   "source": [
    "Now lets run `a.test` to initialize variable `welcome`. "
   ]
  },
  {
   "cell_type": "code",
   "execution_count": 106,
   "metadata": {},
   "outputs": [
    {
     "name": "stdout",
     "output_type": "stream",
     "text": [
      "True True\n"
     ]
    }
   ],
   "source": [
    "a.test(100)  # this will create class variable `welcome`\n",
    "             # which will be accessable from both `a` and `b`\n",
    "    \n",
    "print('welcome' in dir(a), 'welcome' in dir(b))"
   ]
  },
  {
   "cell_type": "code",
   "execution_count": 107,
   "metadata": {},
   "outputs": [
    {
     "name": "stdout",
     "output_type": "stream",
     "text": [
      "['__class__', '__delattr__', '__dict__', '__dir__', '__doc__', '__eq__', '__format__', '__ge__', '__getattribute__', '__gt__', '__hash__', '__init__', '__init_subclass__', '__le__', '__lt__', '__module__', '__ne__', '__new__', '__reduce__', '__reduce_ex__', '__repr__', '__setattr__', '__sizeof__', '__str__', '__subclasshook__', '__weakref__', 'test', 'welcome']\n"
     ]
    }
   ],
   "source": [
    "print(dir(a))"
   ]
  },
  {
   "cell_type": "code",
   "execution_count": 108,
   "metadata": {},
   "outputs": [
    {
     "name": "stdout",
     "output_type": "stream",
     "text": [
      "a.welcome = 100\n",
      "b.welcome = 100\n"
     ]
    }
   ],
   "source": [
    "print(f\"{a.welcome = }\")\n",
    "print(f\"{b.welcome = }\")"
   ]
  },
  {
   "cell_type": "code",
   "execution_count": 11,
   "metadata": {},
   "outputs": [
    {
     "name": "stdout",
     "output_type": "stream",
     "text": [
      "'welcome' in dir(c) = True\n"
     ]
    }
   ],
   "source": [
    "# Even the future objects have access to the `welcome` class attribute.\n",
    "\n",
    "c = Sample()\n",
    "print(f\"{'welcome' in dir(c) = }\")"
   ]
  },
  {
   "cell_type": "code",
   "execution_count": 110,
   "metadata": {},
   "outputs": [
    {
     "name": "stdout",
     "output_type": "stream",
     "text": [
      "Error: e=AttributeError(\"type object 'Sample' has no attribute 'name'\")\n"
     ]
    }
   ],
   "source": [
    "# The Class Method will NOT have access to \n",
    "# instance variables\n",
    "\n",
    "class Sample(object):\n",
    "    \n",
    "    def __init__(self, name):\n",
    "        self.name = name\n",
    "        \n",
    "        \n",
    "    @classmethod\n",
    "    def test(cls, x):\n",
    "        cls.welcome = x\n",
    "        try:\n",
    "            print(cls.name)\n",
    "        except Exception as e:\n",
    "            print(f\"Error: {e=}\")\n",
    "            \n",
    "a = Sample(\"A\")\n",
    "b = Sample(\"B\")\n",
    "\n",
    "a.test(\"A\")"
   ]
  },
  {
   "cell_type": "code",
   "execution_count": 15,
   "metadata": {},
   "outputs": [
    {
     "name": "stdout",
     "output_type": "stream",
     "text": [
      "True True\n"
     ]
    }
   ],
   "source": [
    "print('welcome' in dir(a), 'welcome' in dir(b))"
   ]
  },
  {
   "cell_type": "code",
   "execution_count": 112,
   "metadata": {},
   "outputs": [],
   "source": [
    "# The Class Method will have access to \n",
    "# class variables\n",
    "\n",
    "class Sample(object):\n",
    "    name = \"\"\n",
    "    \n",
    "    def __init__(self, name):\n",
    "        self.name = name\n",
    "        \n",
    "        \n",
    "    @classmethod\n",
    "    def test(cls, x):\n",
    "        cls.welcome = x\n",
    "        try:\n",
    "            # It will still not have access to changes made at the object level\n",
    "            print(f\"{cls.name =}\")  \n",
    "        except Exception as e:\n",
    "            print(e)\n",
    "            \n",
    "a = Sample(\"A\")\n",
    "b = Sample(\"B\")"
   ]
  },
  {
   "cell_type": "code",
   "execution_count": 113,
   "metadata": {},
   "outputs": [
    {
     "name": "stdout",
     "output_type": "stream",
     "text": [
      "cls.name =''\n",
      "cls.name =''\n"
     ]
    }
   ],
   "source": [
    "a.test(\"A\")\n",
    "b.test(\"B\")"
   ]
  },
  {
   "cell_type": "markdown",
   "metadata": {},
   "source": [
    "## Magic Methods"
   ]
  },
  {
   "cell_type": "markdown",
   "metadata": {},
   "source": [
    "### `__str__`"
   ]
  },
  {
   "cell_type": "markdown",
   "metadata": {},
   "source": [
    "The method should be implemented when we wish to provide details "
   ]
  },
  {
   "cell_type": "code",
   "execution_count": 116,
   "metadata": {},
   "outputs": [
    {
     "name": "stdout",
     "output_type": "stream",
     "text": [
      "<__main__.StrExample object at 0x7f3f50194b50>\n",
      "se = <__main__.StrExample object at 0x7f3f50194b50>\n",
      "str(se) = '<__main__.StrExample object at 0x7f3f50194b50>'\n",
      "repr(se) = '<__main__.StrExample object at 0x7f3f50194b50>'\n"
     ]
    }
   ],
   "source": [
    "class StrExample(object):\n",
    "    \"\"\"\n",
    "    This is a sample example for str\n",
    "    \"\"\"\n",
    "    \n",
    "se = StrExample()\n",
    "print(se)\n",
    "print(f\"{se = }\")\n",
    "print(f\"{str(se) = }\")\n",
    "print(f\"{repr(se) = }\")"
   ]
  },
  {
   "cell_type": "code",
   "execution_count": 117,
   "metadata": {},
   "outputs": [
    {
     "name": "stdout",
     "output_type": "stream",
     "text": [
      "\n",
      "    This is a sample example for str\n",
      "    \n",
      "se = <__main__.StrExample object at 0x7f3f501c4f70>\n",
      "str(se) = '\\n    This is a sample example for str\\n    '\n",
      "repr(se) = '<__main__.StrExample object at 0x7f3f501c4f70>'\n"
     ]
    }
   ],
   "source": [
    "class StrExample(object):\n",
    "    \"\"\"\n",
    "    This is a sample example for str\n",
    "    \"\"\"\n",
    "    def __str__(self):\n",
    "        return self.__doc__\n",
    "    \n",
    "se = StrExample()\n",
    "print(se)\n",
    "print(f\"{se = }\")\n",
    "print(f\"{str(se) = }\")\n",
    "print(f\"{repr(se) = }\")"
   ]
  },
  {
   "cell_type": "code",
   "execution_count": null,
   "metadata": {},
   "outputs": [],
   "source": []
  },
  {
   "cell_type": "markdown",
   "metadata": {},
   "source": [
    "### `__repr__`"
   ]
  },
  {
   "cell_type": "code",
   "execution_count": 119,
   "metadata": {},
   "outputs": [
    {
     "name": "stdout",
     "output_type": "stream",
     "text": [
      "\n",
      "    This is a sample example for repr\n",
      "    \n",
      "se = \n",
      "    This is a sample example for repr\n",
      "    \n",
      "str(se) = '\\n    This is a sample example for repr\\n    '\n",
      "repr(se) = '\\n    This is a sample example for repr\\n    '\n"
     ]
    }
   ],
   "source": [
    "class ReprExample(object):\n",
    "    \"\"\"\n",
    "    This is a sample example for repr\n",
    "    \"\"\"\n",
    "    def __repr__(self):\n",
    "        return self.__doc__\n",
    "    \n",
    "se = ReprExample()\n",
    "\n",
    "print(se)\n",
    "print(f\"{se = }\")\n",
    "print(f\"{str(se) = }\")\n",
    "print(f\"{repr(se) = }\")"
   ]
  },
  {
   "cell_type": "markdown",
   "metadata": {},
   "source": [
    "In the above example, we don't have `__str__` method implemented, thus python will fallback to `__repr__` method, which in this case is implemented."
   ]
  },
  {
   "cell_type": "markdown",
   "metadata": {},
   "source": [
    "### `__str__` vs `__repr__`"
   ]
  },
  {
   "cell_type": "markdown",
   "metadata": {},
   "source": [
    "|  Topic  | `__str__`   |   `__repr_`    |\n",
    "|---------|-------------|----------------|\n",
    "| Goal    | Readable    | unambiguous    |\n",
    "| Usecase | Presenting  | Debugging      |\n",
    "| Function | `str`      | `repr`         |\n",
    "| Fallback | `__repr__` | Default `__repr__` | "
   ]
  },
  {
   "cell_type": "markdown",
   "metadata": {},
   "source": [
    "### `__class__`"
   ]
  },
  {
   "cell_type": "markdown",
   "metadata": {},
   "source": [
    "__class__ is a data descriptor object, which returns the `type` of `class` we have as shown in the below example"
   ]
  },
  {
   "cell_type": "code",
   "execution_count": 120,
   "metadata": {},
   "outputs": [
    {
     "name": "stdout",
     "output_type": "stream",
     "text": [
      "\n",
      "<class '__main__.ReprExample'>\n",
      "True\n"
     ]
    }
   ],
   "source": [
    "class ReprExample(object):\n",
    "    \"\"\"\n",
    "    This is a sample example for repr\n",
    "    \"\"\"\n",
    "    def __repr__(self):\n",
    "        return self.__doc__\n",
    "    \n",
    "    @property\n",
    "    def __class__(self):\n",
    "        return str\n",
    "    \n",
    "se = ReprExample()\n",
    "\n",
    "print(se.__class__())\n",
    "print(f\"{type(se)}\")\n",
    "print(f\"{isinstance(se, str)}\")"
   ]
  },
  {
   "cell_type": "markdown",
   "metadata": {},
   "source": [
    "## attributes\n",
    "In Python, attribute is everything, contained inside an object. In Python there is no real distinction between plain data and functions, being both objects.\n",
    "\n",
    "The following example represents a book with a title and an author. It also provides a `get_entry()` method which returns a string representation of the book."
   ]
  },
  {
   "cell_type": "code",
   "execution_count": 24,
   "metadata": {},
   "outputs": [],
   "source": [
    "class Book(object):\n",
    "    def __init__(self, title, author):\n",
    "        self.title = title\n",
    "        self.author = author\n",
    "\n",
    "    def get_entry(self):\n",
    "        return f\"{self.title} by {self.author}\""
   ]
  },
  {
   "cell_type": "markdown",
   "metadata": {},
   "source": [
    "Every instance of this class will contain three attributes, namely `title, author`, and `get_entry`, in addition to the standard attributes provided by the object ancestor."
   ]
  },
  {
   "cell_type": "code",
   "execution_count": 25,
   "metadata": {},
   "outputs": [],
   "source": [
    "b = Book(title=\"Lets Learn Rust\", author=\"Mayank\")"
   ]
  },
  {
   "cell_type": "code",
   "execution_count": 26,
   "metadata": {},
   "outputs": [
    {
     "name": "stdout",
     "output_type": "stream",
     "text": [
      "['__class__', '__delattr__', '__dict__', '__dir__', '__doc__', '__eq__', '__format__', '__ge__', '__getattribute__', '__gt__', '__hash__', '__init__', '__init_subclass__', '__le__', '__lt__', '__module__', '__ne__', '__new__', '__reduce__', '__reduce_ex__', '__repr__', '__setattr__', '__sizeof__', '__str__', '__subclasshook__', '__weakref__', 'author', 'get_entry', 'title']\n"
     ]
    }
   ],
   "source": [
    "print(dir(b))"
   ]
  },
  {
   "cell_type": "code",
   "execution_count": 27,
   "metadata": {},
   "outputs": [
    {
     "name": "stdout",
     "output_type": "stream",
     "text": [
      "{'title': 'Lets Learn Rust', 'author': 'Mayank'}\n"
     ]
    }
   ],
   "source": [
    "print(b.__dict__)"
   ]
  },
  {
   "cell_type": "code",
   "execution_count": 28,
   "metadata": {},
   "outputs": [
    {
     "name": "stdout",
     "output_type": "stream",
     "text": [
      "Lets Learn Rust\n"
     ]
    }
   ],
   "source": [
    "print(b.title)\n",
    "b.title = \"Lets Go\""
   ]
  },
  {
   "cell_type": "code",
   "execution_count": 30,
   "metadata": {},
   "outputs": [
    {
     "name": "stdout",
     "output_type": "stream",
     "text": [
      "Lets Go\n"
     ]
    }
   ],
   "source": [
    "print(b.title)"
   ]
  },
  {
   "cell_type": "code",
   "execution_count": 31,
   "metadata": {},
   "outputs": [
    {
     "name": "stdout",
     "output_type": "stream",
     "text": [
      "Lets Go by Mayank\n"
     ]
    }
   ],
   "source": [
    "print(b.get_entry())"
   ]
  },
  {
   "cell_type": "markdown",
   "metadata": {},
   "source": [
    "Instead of using the normal statements to access attributes, you can also use the following functions −\n",
    "\n",
    "`getattr`\n",
    ": to access the attribute of the object\n",
    "\n",
    "The `getattr(obj, name[, default]) `\n",
    ": to access the attribute of object.\n",
    "    \n",
    "The `hasattr(obj, name) `\n",
    ": to check if an attribute exists or not.\n",
    "\n",
    "The `setattr(obj, name, value) `\n",
    "    : to set an attribute. If attribute does not exist, then it would be created.\n",
    "\n",
    "The `delattr(obj, name)`\n",
    "    : to delete an attribute."
   ]
  },
  {
   "cell_type": "code",
   "execution_count": 121,
   "metadata": {},
   "outputs": [],
   "source": [
    "class Book_Old(object):\n",
    "    def __init__(self, title, author):\n",
    "        self.title = title\n",
    "        self.author = author"
   ]
  },
  {
   "cell_type": "code",
   "execution_count": 122,
   "metadata": {},
   "outputs": [
    {
     "name": "stdout",
     "output_type": "stream",
     "text": [
      "Lets Explore C Mayank Johri\n"
     ]
    }
   ],
   "source": [
    "b1 = Book_Old(\"Lets Explore C\", \"Mayank Johri\")\n",
    "print(b1.title, b1.author)"
   ]
  },
  {
   "cell_type": "code",
   "execution_count": 123,
   "metadata": {},
   "outputs": [
    {
     "name": "stdout",
     "output_type": "stream",
     "text": [
      "Lets Explore C\n"
     ]
    }
   ],
   "source": [
    "print(getattr(b1, 'title'))"
   ]
  },
  {
   "cell_type": "code",
   "execution_count": 35,
   "metadata": {},
   "outputs": [
    {
     "name": "stdout",
     "output_type": "stream",
     "text": [
      "ERROR: 'Book_Old' object has no attribute 'title_not_existing'\n"
     ]
    }
   ],
   "source": [
    "try:\n",
    "    print(getattr(b1, 'title_not_existing'))\n",
    "except Exception as e:\n",
    "    print(f\"ERROR: {e}\")"
   ]
  },
  {
   "cell_type": "code",
   "execution_count": 36,
   "metadata": {},
   "outputs": [
    {
     "name": "stdout",
     "output_type": "stream",
     "text": [
      "None\n"
     ]
    }
   ],
   "source": [
    "# Accessing non existing attribute by providing a \n",
    "# default value `None`. It also avoids the above exception.\n",
    "\n",
    "print(getattr(b1, 'title_not_existing', None))"
   ]
  },
  {
   "cell_type": "code",
   "execution_count": 37,
   "metadata": {},
   "outputs": [
    {
     "name": "stdout",
     "output_type": "stream",
     "text": [
      "True\n"
     ]
    }
   ],
   "source": [
    "# Checking the existence of an object\n",
    "\n",
    "print(hasattr(b1, 'title'))"
   ]
  },
  {
   "cell_type": "code",
   "execution_count": 38,
   "metadata": {},
   "outputs": [
    {
     "name": "stdout",
     "output_type": "stream",
     "text": [
      "False\n"
     ]
    }
   ],
   "source": [
    "print(hasattr(b1, 'title_1'))"
   ]
  },
  {
   "cell_type": "code",
   "execution_count": 125,
   "metadata": {},
   "outputs": [],
   "source": [
    "class Book(object):\n",
    "    def __init__(self, title, author):\n",
    "        self.title = title\n",
    "        self.author = author\n",
    "\n",
    "    def get_entry(self):\n",
    "        return f\"{self.title} by {self.author}\"\n",
    "    \n",
    "    def set_entry(self, val):\n",
    "        self.title, self.author = val.split(\" by \")"
   ]
  },
  {
   "cell_type": "code",
   "execution_count": 126,
   "metadata": {},
   "outputs": [
    {
     "name": "stdout",
     "output_type": "stream",
     "text": [
      "{'title': 'Akme', 'author': 'Mayank'}\n"
     ]
    }
   ],
   "source": [
    "b = Book(title=\"Akme\", author=\"Mayank\")\n",
    "print(b.__dict__)"
   ]
  },
  {
   "cell_type": "code",
   "execution_count": 128,
   "metadata": {},
   "outputs": [
    {
     "name": "stdout",
     "output_type": "stream",
     "text": [
      "{'title': 'Lets Explore python', 'author': 'Mayank Johri'}\n"
     ]
    }
   ],
   "source": [
    "b.set_entry(\"Lets Explore python by Mayank Johri\")\n",
    "print(b.__dict__)"
   ]
  },
  {
   "cell_type": "code",
   "execution_count": 129,
   "metadata": {},
   "outputs": [],
   "source": [
    "class Book(object):\n",
    "    def __init__(self, title, author):\n",
    "        self.title = title\n",
    "        self.author = author"
   ]
  },
  {
   "cell_type": "code",
   "execution_count": 130,
   "metadata": {},
   "outputs": [
    {
     "name": "stdout",
     "output_type": "stream",
     "text": [
      "{'title': 'Akme', 'author': 'Mayank'}\n"
     ]
    }
   ],
   "source": [
    "b = Book(title=\"Akme\", author=\"Mayank\")\n",
    "print(b.__dict__)"
   ]
  },
  {
   "cell_type": "code",
   "execution_count": 132,
   "metadata": {},
   "outputs": [
    {
     "name": "stdout",
     "output_type": "stream",
     "text": [
      "{'title': 'Akme', 'author': 'Mayank', 'page_count': 100}\n"
     ]
    }
   ],
   "source": [
    "setattr(b, \"page_count\", 100)\n",
    "print(b.__dict__)"
   ]
  },
  {
   "cell_type": "code",
   "execution_count": 134,
   "metadata": {},
   "outputs": [
    {
     "name": "stdout",
     "output_type": "stream",
     "text": [
      "['__class__', '__delattr__', '__dict__', '__dir__', '__doc__', '__eq__', '__format__', '__ge__', '__getattribute__', '__gt__', '__hash__', '__init__', '__init_subclass__', '__le__', '__lt__', '__module__', '__ne__', '__new__', '__reduce__', '__reduce_ex__', '__repr__', '__setattr__', '__sizeof__', '__str__', '__subclasshook__', '__weakref__', 'author', 'page_count', 'title']\n"
     ]
    }
   ],
   "source": [
    "print(dir(b))"
   ]
  },
  {
   "cell_type": "code",
   "execution_count": 135,
   "metadata": {},
   "outputs": [
    {
     "name": "stdout",
     "output_type": "stream",
     "text": [
      "{'title': 'Akme', 'author': 'Mayank'}\n"
     ]
    }
   ],
   "source": [
    "delattr(b, \"page_count\")\n",
    "print(b.__dict__)"
   ]
  },
  {
   "cell_type": "markdown",
   "metadata": {},
   "source": [
    "## Properties\n",
    "Sometimes you want to have an attribute whose value comes from other attributes or, in general, which value shall be computed at the moment. The standard way to deal with this situation is to create a method, called getter, just like I did with get_entry().\n",
    "\n",
    "In Python you can \"mask\" the method, aliasing it with a data attribute, which in this case is called __***`property`***__."
   ]
  },
  {
   "cell_type": "code",
   "execution_count": 41,
   "metadata": {},
   "outputs": [
    {
     "name": "stdout",
     "output_type": "stream",
     "text": [
      "Lets Explore Advance Python by Mayank Johri\n"
     ]
    }
   ],
   "source": [
    "class Book(object):\n",
    "    def __init__(self, title, author):\n",
    "        self.title = title\n",
    "        self.author = author\n",
    "\n",
    "    def __get_entry(self):\n",
    "        return \"{title} by {author}\".format(title=self.title, \n",
    "                                            author=self.author)\n",
    "\n",
    "    entry = property(__get_entry)\n",
    "\n",
    "b = Book(title=\"Lets Explore Advance Python\", author=\"Mayank Johri\")\n",
    "print(b.entry)"
   ]
  },
  {
   "cell_type": "markdown",
   "metadata": {},
   "source": [
    "Properties allow to specify also a write method (a setter), that is automatically called when you try to change the value of the property itself."
   ]
  },
  {
   "cell_type": "markdown",
   "metadata": {
    "collapsed": true
   },
   "source": [
    "> **NOTE:** \n",
    ">\n",
    "> Don't Worry to much about properties, we have entire chapter dedicated for it. "
   ]
  },
  {
   "cell_type": "code",
   "execution_count": 44,
   "metadata": {},
   "outputs": [],
   "source": [
    "class User(object):\n",
    "    def __init__(self, name):\n",
    "        self.__name = name\n",
    "    \n",
    "    def __get_name(self):\n",
    "        return \"User's full name is: {0}\".format(self.__name) \n",
    "    \n",
    "    def __set_name(self, name):\n",
    "        self.__name = name\n",
    "\n",
    "    fullname = property(__get_name, __set_name)"
   ]
  },
  {
   "cell_type": "code",
   "execution_count": 45,
   "metadata": {},
   "outputs": [],
   "source": [
    "roshan = User(\"Roshan Musheer\")"
   ]
  },
  {
   "cell_type": "code",
   "execution_count": 46,
   "metadata": {},
   "outputs": [
    {
     "name": "stdout",
     "output_type": "stream",
     "text": [
      "{'_User__name': 'Roshan Musheer'}\n"
     ]
    }
   ],
   "source": [
    "print(roshan.__dict__)"
   ]
  },
  {
   "cell_type": "code",
   "execution_count": 47,
   "metadata": {},
   "outputs": [
    {
     "name": "stdout",
     "output_type": "stream",
     "text": [
      "User's full name is: Roshan Musheer\n"
     ]
    }
   ],
   "source": [
    "print(roshan.fullname)"
   ]
  },
  {
   "cell_type": "code",
   "execution_count": 7,
   "metadata": {},
   "outputs": [
    {
     "name": "stdout",
     "output_type": "stream",
     "text": [
      "User's full name is: Shaeel Parez\n"
     ]
    }
   ],
   "source": [
    "## Setting the value of property\n",
    "roshan.fullname = \"Shaeel Parez\"\n",
    "print(roshan.fullname)"
   ]
  },
  {
   "cell_type": "code",
   "execution_count": 9,
   "metadata": {},
   "outputs": [
    {
     "name": "stdout",
     "output_type": "stream",
     "text": [
      "{'_User__name': 'Shaeel Parez'}\n"
     ]
    }
   ],
   "source": [
    "## fully python guys\n",
    "## '_User__name', '_User__getname', '_User__setname'\n",
    "# Cheating to get the value\n",
    "\n",
    "print(user.__dict__)"
   ]
  },
  {
   "cell_type": "code",
   "execution_count": 11,
   "metadata": {},
   "outputs": [
    {
     "name": "stdout",
     "output_type": "stream",
     "text": [
      "Mayank\n"
     ]
    }
   ],
   "source": [
    "## Only setter property\n",
    "## Something not right.\n",
    "class TestSetter():\n",
    "    def setter(self, name):\n",
    "        self.name = name\n",
    "    myname = property(fset=setter)\n",
    "    \n",
    "ts = TestSetter()\n",
    "\n",
    "ts.myname = \"Mayank\"\n",
    "print(ts.name)"
   ]
  },
  {
   "cell_type": "code",
   "execution_count": 12,
   "metadata": {},
   "outputs": [
    {
     "name": "stdout",
     "output_type": "stream",
     "text": [
      "unreadable attribute\n"
     ]
    }
   ],
   "source": [
    "### !!! Gotcha !!!\n",
    "# Trying to read a property which don't have \n",
    "# getter function set for itself\n",
    "try:\n",
    "    print(ts.myname)\n",
    "except Exception as e:\n",
    "    print(e)"
   ]
  },
  {
   "cell_type": "code",
   "execution_count": 14,
   "metadata": {
    "scrolled": true
   },
   "outputs": [
    {
     "name": "stdout",
     "output_type": "stream",
     "text": [
      "5\n"
     ]
    }
   ],
   "source": [
    "## Only getter property\n",
    "\n",
    "class A:\n",
    "    def get_x(self, neg=False):\n",
    "        return -5 if neg else 5\n",
    "    x = property(get_x)\n",
    "    \n",
    "a = A()\n",
    "print(a.x)"
   ]
  },
  {
   "cell_type": "code",
   "execution_count": 16,
   "metadata": {},
   "outputs": [
    {
     "name": "stdout",
     "output_type": "stream",
     "text": [
      "can't set attribute\n"
     ]
    }
   ],
   "source": [
    "### !!! Gotcha !!!\n",
    "# Trying to set a property which don't have \n",
    "# setter function defined for itself\n",
    "try:\n",
    "    a.x = 100\n",
    "except Exception as e:\n",
    "    print(e)"
   ]
  },
  {
   "cell_type": "code",
   "execution_count": 48,
   "metadata": {},
   "outputs": [],
   "source": [
    "class Book(object):\n",
    "    def __init__(self, title, author):\n",
    "        self.__title = title\n",
    "        self.__author = author\n",
    "\n",
    "    def __get_entry(self):\n",
    "        return \"{0} by {1}\".format(self.__title, self.__author)\n",
    "\n",
    "    def __set_entry(self, value):\n",
    "        if \" by \" not in value:\n",
    "            raise ValueError(\"Entries shall be formatted as '<title> by <author>'\")\n",
    "        self.__title, self.__author = value.split(\" by \")\n",
    "    \n",
    "    entry = property(__get_entry, __set_entry)\n",
    "\n",
    "    def __getattr__(self, attr):\n",
    "        \"\"\"\n",
    "        This function gets called when requested attribute do not exist\n",
    "        \"\"\"\n",
    "        print(\"Sorry attribure do not exist:\", attr)\n",
    "        return None"
   ]
  },
  {
   "cell_type": "code",
   "execution_count": 49,
   "metadata": {},
   "outputs": [
    {
     "name": "stdout",
     "output_type": "stream",
     "text": [
      "Step in C by Mayank Johri\n"
     ]
    }
   ],
   "source": [
    "b = Book(title=\"Step in C\", author=\"Mayank Johri\")\n",
    "print(b.entry)"
   ]
  },
  {
   "cell_type": "code",
   "execution_count": 50,
   "metadata": {},
   "outputs": [
    {
     "name": "stdout",
     "output_type": "stream",
     "text": [
      "Lets learn C by Mayank Johri\n"
     ]
    }
   ],
   "source": [
    "b.entry = \"Lets learn C by Mayank Johri\"\n",
    "print(b.entry)"
   ]
  },
  {
   "cell_type": "code",
   "execution_count": 51,
   "metadata": {},
   "outputs": [
    {
     "name": "stdout",
     "output_type": "stream",
     "text": [
      "Explore Go by Mayank Johri\n"
     ]
    }
   ],
   "source": [
    "b.entry = \"Explore Go by Mayank Johri\"\n",
    "print(b.entry)"
   ]
  },
  {
   "cell_type": "code",
   "execution_count": 52,
   "metadata": {},
   "outputs": [
    {
     "name": "stdout",
     "output_type": "stream",
     "text": [
      "{'_Book__title': 'Explore Go', '_Book__author': 'Mayank Johri'}\n"
     ]
    }
   ],
   "source": [
    "print(b.__dict__)"
   ]
  },
  {
   "cell_type": "markdown",
   "metadata": {},
   "source": [
    "#### Handling non existing attributes"
   ]
  },
  {
   "cell_type": "code",
   "execution_count": 53,
   "metadata": {},
   "outputs": [
    {
     "name": "stdout",
     "output_type": "stream",
     "text": [
      "Sorry attribure do not exist: AuthorName\n",
      "None\n"
     ]
    }
   ],
   "source": [
    "# due to __getattr__, this is similar to dictionary `get` function.\n",
    "\n",
    "print(b.AuthorName)"
   ]
  },
  {
   "cell_type": "markdown",
   "metadata": {},
   "source": [
    "## The constructor `__new__` "
   ]
  },
  {
   "cell_type": "markdown",
   "metadata": {},
   "source": [
    "`__new__` is called for new Class type, "
   ]
  },
  {
   "cell_type": "markdown",
   "metadata": {},
   "source": [
    "### Overriding the __new__ method"
   ]
  },
  {
   "cell_type": "markdown",
   "metadata": {},
   "source": [
    "As per \"https://www.python.org/download/releases/2.2/descrintro/#__new__\"\n",
    "\n",
    "Here are some rules for `__new__`:\n",
    "\n",
    "- `__new__` is a **static method**. When defining it, you don't need to (but may!) use the phrase \"`__new__` = staticmethod(`__new__`)\", because this is implied by its name (it is special-cased by the class constructor).\n",
    "- **The first argument to `__new__` must be a class**; the remaining arguments are the arguments as seen by the constructor call.\n",
    "- A `__new__` method that overrides a base class's `__new__` method may call that base class's `__new__` method. The first argument to the base class's `__new__` method call should be the class argument to the overriding `__new__` method, not the base class; if you were to pass in the base class, you would get an instance of the base class.\n",
    "- Unless you want to play games like those described in the next two bullets, a `__new__` method must call its base class's `__new__` method; that's the only way to create an instance of your object. The subclass `__new__` can do two things to affect the resulting object: pass different arguments to the base class `__new__`, and modify the resulting object after it's been created (for example to initialize essential instance variables).\n",
    "- `__new__` must return an object. There's nothing that requires that it return a new object that is an instance of its class argument, although that is the convention. If you return an existing object, the constructor call will still call its `__init__` method. If you return an object of a different class, its `__init__` method will be called. If you forget to return something, Python will unhelpfully return None, and your caller will probably be very confused.\n",
    "- For immutable classes, your `__new__` may return a cached reference to an existing object with the same value; this is what the int, str and tuple types do for small values. This is one of the reasons why their `__init__` does nothing: cached objects would be re-initialized over and over. (The other reason is that there's nothing left for `__init__` to initialize: `__new__` returns a fully initialized object.)\n",
    "- If you subclass a built-in immutable type and want to add some mutable state (maybe you add a default conversion to a string type), it's best to initialize the mutable state in the `__init__` method and leave `__new__` alone.\n",
    "- If you want to change the constructor's signature, you often have to override both `__new__` and `__init__` to accept the new signature. However, most built-in types ignore the arguments to the method they don't use; in particular, the immutable types (int, long, float, complex, str, unicode, and tuple) have a dummy `__init__`, while the mutable types (dict, list, file, and also super, classmethod, staticmethod, and property) have a dummy `__new__`. The built-in type 'object' has a dummy `__new__` and a dummy `__init__` (which the others inherit). The built-in type 'type' is special in many respects; see the section on metaclasses.\n",
    "- (This has nothing to do to `__new__`, but is handy to know anyway.) If you subclass a built-in type, extra space is automatically added to the instances to accomodate __dict__ and __weakrefs__. (The __dict__ is not initialized until you use it though, so you shouldn't worry about the space occupied by an empty dictionary for each instance you create.) If you don't need this extra space, you can add the phrase \"``__slots__` = []`\" to your class. (See above for more about `__slots__`.)\n",
    "- Factoid: `__new__` is a static method, not a class method. I initially thought it would have to be a class method, and that's why I added the classmethod primitive. Unfortunately, with class methods, upcalls don't work right in this case, so I had to make it a static method with an explicit class as its first argument. Ironically, there are now no known uses for class methods in the Python distribution (other than in the test suite). I might even get rid of classmethod in a future release if no good use for it can be found!\n"
   ]
  },
  {
   "cell_type": "markdown",
   "metadata": {
    "collapsed": true
   },
   "source": [
    "### What is the difference between `__new__` and `__init__`"
   ]
  },
  {
   "cell_type": "markdown",
   "metadata": {},
   "source": [
    "Use `__new__` when you need to control the creation of a new instance. Use `__init__` when you need to control initialization of a new instance.\n",
    "\n",
    "`__new__` is the first step of instance creation. It's called first, and is responsible for returning a new instance of your class. In contrast, `__init__` doesn't return anything; it's only responsible for initializing the instance after it's been created.\n",
    "\n",
    "In general, you shouldn't need to override `__new__` unless you're subclassing an immutable type like str, int, unicode or tuple.\n",
    "\n",
    "From: http://mail.python.org/pipermail/tutor/2008-April/061426.html"
   ]
  },
  {
   "cell_type": "code",
   "execution_count": 137,
   "metadata": {},
   "outputs": [],
   "source": [
    "# Very very very bad example, do not use it in production ever \n",
    "# except when you really want that only. \n",
    "\n",
    "class MyTest(object):\n",
    "    def __new__(cls):\n",
    "        print(\"in new\")\n",
    "        \n",
    "    def __init__(self):\n",
    "        print(f\"in init {self=}\")"
   ]
  },
  {
   "cell_type": "code",
   "execution_count": 138,
   "metadata": {},
   "outputs": [
    {
     "name": "stdout",
     "output_type": "stream",
     "text": [
      "in new\n",
      "<class 'NoneType'>\n"
     ]
    }
   ],
   "source": [
    "# Why not to mess with __new__\n",
    "\n",
    "mnt = MyTest()\n",
    "print(type(mnt))"
   ]
  },
  {
   "cell_type": "markdown",
   "metadata": {},
   "source": [
    "Since the object was never created `__init__` function was never called. "
   ]
  },
  {
   "cell_type": "code",
   "execution_count": 139,
   "metadata": {},
   "outputs": [
    {
     "name": "stdout",
     "output_type": "stream",
     "text": [
      "in new with argument name='Hari Hari'\n",
      "mnt = None\n"
     ]
    }
   ],
   "source": [
    "# We can have multiple constructors \n",
    "# AGain BAD BAD code, do not use in production.\n",
    "\n",
    "class MyNewTest:\n",
    "    def __new__(cls, name):\n",
    "        print(f\"in new with argument {name=}\")\n",
    "        \n",
    "        \n",
    "    def __init__(self, name):\n",
    "        print(\"in init\", name)\n",
    "\n",
    "mnt = MyNewTest(\"Hari Hari\")\n",
    "print(f\"{mnt = }\")"
   ]
  },
  {
   "cell_type": "markdown",
   "metadata": {},
   "source": [
    "Lets look at another example, we have removed the `__new__` method from the above class and created an object. As `__new__` is not returning anything the object was never created."
   ]
  },
  {
   "cell_type": "code",
   "execution_count": 140,
   "metadata": {},
   "outputs": [
    {
     "name": "stdout",
     "output_type": "stream",
     "text": [
      "in init name='Hari Hari'\n",
      "mnt = <__main__.MyNewTest object at 0x7f3f501fceb0>\n"
     ]
    }
   ],
   "source": [
    "class MyNewTest:        \n",
    "    def __init__(self, name):\n",
    "        print(f\"in init {name=}\")\n",
    "\n",
    "mnt = MyNewTest(\"Hari Hari\")\n",
    "print(f\"{mnt = }\")"
   ]
  },
  {
   "cell_type": "code",
   "execution_count": 141,
   "metadata": {},
   "outputs": [
    {
     "name": "stdout",
     "output_type": "stream",
     "text": [
      "<class '__main__.MyNewTest'>\n"
     ]
    }
   ],
   "source": [
    "print(type(mnt))"
   ]
  },
  {
   "cell_type": "markdown",
   "metadata": {},
   "source": [
    "In the above example, we let Python create the object for us and just used the initializer to update the object."
   ]
  },
  {
   "cell_type": "markdown",
   "metadata": {},
   "source": [
    "Now lets check where its goog idea to use `__init__` and where `__new__`. \n",
    "\n",
    "One thumb rule is try to avoid using `__new__` and let python handle it because almost all the things you wish to do in constructor can be done in `__init__`. Still if you wish to do so, below examples will show you how to do it currectly."
   ]
  },
  {
   "cell_type": "markdown",
   "metadata": {},
   "source": [
    "In the first example, we have `__init__` function and are using it. "
   ]
  },
  {
   "cell_type": "code",
   "execution_count": 193,
   "metadata": {},
   "outputs": [
    {
     "name": "stdout",
     "output_type": "stream",
     "text": [
      "in init Hari Hari\n",
      "Hari Hari\n"
     ]
    }
   ],
   "source": [
    "class MyNewTest:        \n",
    "    def __init__(self, name):\n",
    "        print(\"in init\", name)\n",
    "        self.name = name\n",
    "        \n",
    "    def print_name(self):\n",
    "        print(self.name)\n",
    "\n",
    "\n",
    "mnt = MyNewTest(\"Hari Hari\")\n",
    "mnt.print_name()"
   ]
  },
  {
   "cell_type": "markdown",
   "metadata": {},
   "source": [
    "We saw, that everything was working without any issue. Now lets try to replace `__init__` with `__new__`. "
   ]
  },
  {
   "cell_type": "code",
   "execution_count": 51,
   "metadata": {},
   "outputs": [
    {
     "name": "stdout",
     "output_type": "stream",
     "text": [
      "in init Hari Hari\n",
      "'NoneType' object has no attribute 'print_name'\n"
     ]
    }
   ],
   "source": [
    "# -----------------#\n",
    "# Very Bad Example #\n",
    "# -----------------#\n",
    "class MyNewTest:        \n",
    "    def __new__(cls, name):\n",
    "        print(\"in init\", name)\n",
    "        cls.name = name\n",
    "        \n",
    "    def print_name(self):\n",
    "        print(self.name)\n",
    "\n",
    "try:\n",
    "    mnt = MyNewTest(\"Hari Hari\")\n",
    "    mnt.print_name()\n",
    "except Exception as e:\n",
    "    print(e)"
   ]
  },
  {
   "cell_type": "markdown",
   "metadata": {},
   "source": [
    "Now, since we have not returned any thing in `__new__` thus `mnt` is null. We must have `__new__` which returns the object itself. Now to over come this issue, we need to return an instance of our `class`. We can do that using `instance = super(<class>, cls).__new__(cls)` as shown in the below example "
   ]
  },
  {
   "cell_type": "code",
   "execution_count": 147,
   "metadata": {},
   "outputs": [
    {
     "name": "stdout",
     "output_type": "stream",
     "text": [
      "in __new__:\n",
      "\t!!! Hari Om Hari Om !!!\n",
      "print_name:\n",
      "\t!!! Hari Om Hari Om !!!\n",
      "in __new__:\n",
      "\t!!! Ram Ram !!!\n",
      "print_name:\n",
      "\t!!! Ram Ram !!!\n",
      "print_name:\n",
      "\t!!! Hari Om Hari Om !!!\n"
     ]
    }
   ],
   "source": [
    "# First proper constructor, still `__init__` is missing\n",
    "# and using `__new__` for it.\n",
    "\n",
    "class MyNewTest(object):        \n",
    "    def __new__(cls, name):\n",
    "        print(\"in __new__:\\n\\t{0}\".format(name))\n",
    "        instance = super(MyNewTest, cls).__new__(cls)\n",
    "        instance.name = name\n",
    "        return instance\n",
    "\n",
    "    def print_name(self):\n",
    "        print(\"print_name:\\n\\t{0}\".format(self.name))\n",
    "        \n",
    "hari = MyNewTest(\"!!! Hari Om Hari Om !!!\")\n",
    "hari.print_name()\n",
    "\n",
    "ram_ram = MyNewTest(\"!!! Ram Ram !!!\")\n",
    "ram_ram.print_name()\n",
    "hari.print_name()"
   ]
  },
  {
   "cell_type": "code",
   "execution_count": 148,
   "metadata": {},
   "outputs": [
    {
     "name": "stdout",
     "output_type": "stream",
     "text": [
      "in __new__:\n",
      "\t!!! Hari Om Hari Om !!!\n",
      "print_name:\n",
      "\t!!! Hari Om Hari Om !!!\n",
      "in __new__:\n",
      "\t!!! Ram Ram !!!\n",
      "********************\n",
      "print_name:\n",
      "\t!!! Ram Ram !!!\n",
      "print_name:\n",
      "\t!!! Ram Ram !!!\n"
     ]
    }
   ],
   "source": [
    "# First proper constructor, still `__init__` is missing\n",
    "# and using `__new__` for it.\n",
    "\n",
    "class MyNewTest(object):        \n",
    "    def __new__(cls, name):\n",
    "        print(\"in __new__:\\n\\t{0}\".format(name))\n",
    "        instance = super(MyNewTest, cls).__new__(cls)\n",
    "        cls.name = name  # Gotcha 2: updated the value at class level\n",
    "        return instance\n",
    "\n",
    "    def print_name(self):\n",
    "        print(\"print_name:\\n\\t{0}\".format(self.name))\n",
    "        \n",
    "hari = MyNewTest(\"!!! Hari Om Hari Om !!!\")\n",
    "hari.print_name()\n",
    "\n",
    "ram_ram = MyNewTest(\"!!! Ram Ram !!!\")\n",
    "\n",
    "print(\"*\"*20)\n",
    "ram_ram.print_name()\n",
    "hari.print_name()"
   ]
  },
  {
   "cell_type": "markdown",
   "metadata": {},
   "source": [
    "or, we can create the class using the following code, `instance =  object.__new__(cls)`. As object is parent, we are directly calling it instead of using `super`."
   ]
  },
  {
   "cell_type": "code",
   "execution_count": 63,
   "metadata": {},
   "outputs": [],
   "source": [
    "class MyNewTest(object):        \n",
    "    def __new__(cls, name):\n",
    "        print(\"in __new__\", name)\n",
    "        instance =  object.__new__(cls)\n",
    "        print(\"exiting __new__\", name)\n",
    "        return instance\n",
    "    \n",
    "    def __init__(self, name):\n",
    "        print(\"in __init__\", name)\n",
    "        self.name = name\n",
    "    \n",
    "    def print_name(self):\n",
    "        print(self.name)"
   ]
  },
  {
   "cell_type": "code",
   "execution_count": 64,
   "metadata": {},
   "outputs": [
    {
     "name": "stdout",
     "output_type": "stream",
     "text": [
      "in __new__ Hari Hari\n",
      "exiting __new__ Hari Hari\n",
      "in __init__ Hari Hari\n"
     ]
    }
   ],
   "source": [
    "mnt = MyNewTest(\"Hari Hari\")"
   ]
  },
  {
   "cell_type": "code",
   "execution_count": 65,
   "metadata": {},
   "outputs": [
    {
     "name": "stdout",
     "output_type": "stream",
     "text": [
      "Hari Hari\n"
     ]
    }
   ],
   "source": [
    "mnt.print_name()"
   ]
  },
  {
   "cell_type": "code",
   "execution_count": 66,
   "metadata": {},
   "outputs": [
    {
     "name": "stdout",
     "output_type": "stream",
     "text": [
      "in __new__ Ram Ram\n",
      "exiting __new__ Ram Ram\n",
      "in __init__ Ram Ram\n",
      "<__main__.MyNewTest object at 0x7f56d19d7b20>\n"
     ]
    }
   ],
   "source": [
    "ram_ram = MyNewTest(\"Ram Ram\")\n",
    "print(ram_ram)"
   ]
  },
  {
   "cell_type": "markdown",
   "metadata": {},
   "source": [
    "both `super(MyNewTest, cls).__new__(cls)` and `object.__new__(cls)` produce the desired instance as shown in the above examples."
   ]
  },
  {
   "cell_type": "code",
   "execution_count": 152,
   "metadata": {},
   "outputs": [],
   "source": [
    "# Creating instance of another class :)\n",
    "\n",
    "class Dummy(object):\n",
    "    def __init__(self):\n",
    "        print(\"Dummy init\")\n",
    "        \n",
    "    def print_name(self):\n",
    "        print(\"Nothing Here.... Hahaha\")\n",
    "\n",
    "class MyNewTest(object):\n",
    "    def __new__(cls, name):\n",
    "        print(\"in __new__\", name)\n",
    "        instance =  object.__new__(Dummy)\n",
    "        print(\"exiting __new__\")\n",
    "        return instance\n",
    "    \n",
    "    def __init__(self, name): \n",
    "        print(\"in __init__\", name)\n",
    "        # self.name = name\n",
    "    \n",
    "    def print_name(self):\n",
    "        print(self.name)"
   ]
  },
  {
   "cell_type": "code",
   "execution_count": 153,
   "metadata": {},
   "outputs": [
    {
     "name": "stdout",
     "output_type": "stream",
     "text": [
      "in __new__ Hari Hari\n",
      "exiting __new__\n",
      "Nothing Here.... Hahaha\n",
      "<class '__main__.Dummy'>\n"
     ]
    }
   ],
   "source": [
    "mnt = MyNewTest(\"Hari Hari\")\n",
    "mnt.print_name()\n",
    "print(type(mnt))\n",
    "# What happened to __init__ in the above case."
   ]
  },
  {
   "cell_type": "code",
   "execution_count": 154,
   "metadata": {},
   "outputs": [],
   "source": [
    "# Creating instance of another class :)\n",
    "# __init__ needs to be called explicitly in the below example.\n",
    "# which I have not done.\n",
    "\n",
    "class Dummy(object):\n",
    "    def __init__(self, name):\n",
    "        print(\"This is dummy init\")\n",
    "        \n",
    "    def print_name(self):\n",
    "        print(\"Nothing Here.... Hahaha\")\n",
    "        \n",
    "class MyNewTest(object):        \n",
    "    def __new__(cls, name):\n",
    "        print(\"in __new__\", name)\n",
    "        instance =  object.__new__(Dummy)\n",
    "        print(\"exiting __new__\")\n",
    "        return instance\n",
    "\n",
    "    def __init__(self, name): \n",
    "        print(\"in __init__\", name)\n",
    "        # self.name = name\n",
    "    \n",
    "    def print_name(self):\n",
    "        print(self.name)"
   ]
  },
  {
   "cell_type": "code",
   "execution_count": 155,
   "metadata": {},
   "outputs": [
    {
     "name": "stdout",
     "output_type": "stream",
     "text": [
      "in __new__ Hari Hari\n",
      "exiting __new__\n",
      "Nothing Here.... Hahaha\n",
      "<class '__main__.Dummy'>\n"
     ]
    }
   ],
   "source": [
    "mnt = MyNewTest(\"Hari Hari\")\n",
    "mnt.print_name()\n",
    "print(type(mnt))\n",
    "# Still no go for the init"
   ]
  },
  {
   "cell_type": "code",
   "execution_count": 157,
   "metadata": {},
   "outputs": [
    {
     "name": "stdout",
     "output_type": "stream",
     "text": [
      "in __new__ Hari Hari\n",
      "exiting __new__ Hari Hari\n",
      "in __init__ Hari Hari\n",
      "in __new__ Ram Ram\n",
      "exiting __new__ Ram Ram\n",
      "in __init__ Ram Ram\n",
      "Hari Hari\n",
      "Ram Ram\n"
     ]
    }
   ],
   "source": [
    "## First proper constructor and initializer example. \n",
    "\n",
    "class MyNewTest(object):        \n",
    "    def __new__(cls, name):\n",
    "        print(\"in __new__\", name)\n",
    "        instance =  object.__new__(cls)\n",
    "        print(\"exiting __new__\", name)\n",
    "        return instance\n",
    "    \n",
    "    def __init__(self, name):    \n",
    "        print(\"in __init__\", name)\n",
    "        self.name = name\n",
    "    \n",
    "    def print_name(self):\n",
    "        print(self.name)\n",
    "        \n",
    "hari = MyNewTest(\"Hari Hari\")\n",
    "ram_ram = MyNewTest(\"Ram Ram\")\n",
    "hari.print_name()\n",
    "print(ram_ram.name)"
   ]
  },
  {
   "cell_type": "code",
   "execution_count": 217,
   "metadata": {},
   "outputs": [
    {
     "name": "stdout",
     "output_type": "stream",
     "text": [
      "in __new__ Hari Hari\n",
      "exiting __new__ Hari Hari\n",
      "in __init__ Hari Hari\n",
      "in __new__ Ram Ram\n",
      "exiting __new__ Ram Ram\n",
      "in __init__ Ram Ram\n",
      "Hari Hari\n",
      "Ram Ram\n"
     ]
    }
   ],
   "source": [
    "## First proper constructor and initializer example. \n",
    "\n",
    "class MyNewTest(object):   \n",
    "\n",
    "    def __new__(cls, name):\n",
    "        print(\"in __new__\", name)\n",
    "        instance =  object.__new__(cls)\n",
    "        print(\"exiting __new__\", name)\n",
    "        return instance\n",
    "    \n",
    "    def __init__(self, name):    \n",
    "        print(\"in __init__\", name)\n",
    "        self.name = name\n",
    "    \n",
    "    def print_name(self):\n",
    "        print(self.name)\n",
    "        \n",
    "hari = MyNewTest(\"Hari Hari\")\n",
    "ram_ram = MyNewTest(\"Ram Ram\")\n",
    "hari.print_name()\n",
    "print(ram_ram.name)"
   ]
  },
  {
   "cell_type": "markdown",
   "metadata": {},
   "source": [
    "If we were to return anything other than `instance` of object, then `__init__` function will never be called as shown in the below example."
   ]
  },
  {
   "cell_type": "code",
   "execution_count": 158,
   "metadata": {},
   "outputs": [],
   "source": [
    "# Bad ideas of __new__ continued\n",
    "\n",
    "class NewDistance(object):        \n",
    "    def __new__(cls, dist):\n",
    "        if dist != 22:\n",
    "            print(cls)\n",
    "            instance = object.__new__(cls)\n",
    "            return instance\n",
    "        else:\n",
    "            print(\"in __new__\", dist)\n",
    "            return dist*0.0254\n",
    "\n",
    "    def __init__(self, dist):    \n",
    "        print(\"in __init__\", dist)\n",
    "        self.dist = dist\n",
    "\n",
    "    def print_dist(self):\n",
    "        print(self.dist)"
   ]
  },
  {
   "cell_type": "code",
   "execution_count": 159,
   "metadata": {},
   "outputs": [
    {
     "name": "stdout",
     "output_type": "stream",
     "text": [
      "in __new__ 22\n",
      "0.5588 <class 'float'>\n",
      "'float' object has no attribute 'print_dist'\n"
     ]
    }
   ],
   "source": [
    "try:\n",
    "    mnt = NewDistance(22)\n",
    "    print(mnt, type(mnt))\n",
    "    mnt.print_dist()\n",
    "except Exception as e:\n",
    "    print(e)"
   ]
  },
  {
   "cell_type": "code",
   "execution_count": 82,
   "metadata": {},
   "outputs": [
    {
     "name": "stdout",
     "output_type": "stream",
     "text": [
      "<class '__main__.NewDistance'>\n",
      "in __init__ test\n",
      "<__main__.NewDistance object at 0x7f56d19d60b0> <class '__main__.NewDistance'>\n",
      "test\n"
     ]
    }
   ],
   "source": [
    "\n",
    "try:\n",
    "    mnt = NewDistance(\"test\")\n",
    "    print(mnt, type(mnt))\n",
    "    mnt.print_dist()\n",
    "except Exception as e:\n",
    "    print(e)"
   ]
  },
  {
   "cell_type": "code",
   "execution_count": 107,
   "metadata": {},
   "outputs": [
    {
     "name": "stdout",
     "output_type": "stream",
     "text": [
      "in __new__ 22\n",
      "<class '__main__.Distance'>\n",
      "in __init__ 22\n",
      "<__main__.Distance object at 0x10f783950> <class '__main__.Distance'>\n",
      "0.5588\n"
     ]
    }
   ],
   "source": [
    "class Distance(object):\n",
    "    def __new__(cls, dist):\n",
    "        print(\"in __new__\", dist)\n",
    "        instance =  super(Distance, cls).__new__(cls)\n",
    "        print(type(instance))\n",
    "        instance.val = dist*0.0254\n",
    "        return instance\n",
    "    \n",
    "    def __init__(self, dist):    \n",
    "        print(\"in __init__\", dist)\n",
    "    \n",
    "    def print_dist(self):\n",
    "        print(self.val)\n",
    "        \n",
    "\n",
    "if __name__ == \"__main__\":\n",
    "    try:\n",
    "        mnt = Distance(22)\n",
    "        print(mnt, type(mnt))\n",
    "        mnt.print_dist()\n",
    "    except Exception as e:\n",
    "        print(e)"
   ]
  },
  {
   "cell_type": "markdown",
   "metadata": {},
   "source": [
    "### Where can we use `__new__`"
   ]
  },
  {
   "cell_type": "markdown",
   "metadata": {},
   "source": [
    "#### Creating singleton class  "
   ]
  },
  {
   "cell_type": "markdown",
   "metadata": {},
   "source": [
    "In singleton pattern, we create one instance of the class and all subsequent objects of that class points to the first instance.\n",
    "\n",
    "Lets try to create a singleton class using `__new__` constructor.  "
   ]
  },
  {
   "cell_type": "code",
   "execution_count": 162,
   "metadata": {},
   "outputs": [],
   "source": [
    "class Godlike(object):  \n",
    "    \n",
    "    def __new__(cls, name):\n",
    "        # __it__ is my custom attribute which I have creatd\n",
    "        # to get the first instance (object) of the class\n",
    "        if \"__this__\" in cls.__dict__:\n",
    "            print(\"returning the existing object\")\n",
    "            return cls.__this__\n",
    "        \n",
    "        print(\"Creating the object\")\n",
    "        cls.__this__ = object.__new__(cls)\n",
    "        return cls.__this__\n",
    "    \n",
    "    def __init__(self, name):\n",
    "        \"\"\"\n",
    "        init function\n",
    "        \"\"\"\n",
    "        print(\"Running init\")\n",
    "        self.name = name\n",
    "    \n",
    "    def print_name(self):\n",
    "        print(self.name)"
   ]
  },
  {
   "cell_type": "code",
   "execution_count": 163,
   "metadata": {},
   "outputs": [
    {
     "name": "stdout",
     "output_type": "stream",
     "text": [
      "Creating the object\n",
      "Running init\n",
      "********************\n",
      "True\n"
     ]
    }
   ],
   "source": [
    "ohm = Godlike(\"Ohm\")\n",
    "print(\"*\"*20)\n",
    "print( '__this__' in dir(ohm))"
   ]
  },
  {
   "cell_type": "code",
   "execution_count": 165,
   "metadata": {},
   "outputs": [
    {
     "name": "stdout",
     "output_type": "stream",
     "text": [
      "returning the existing object\n",
      "Running init\n",
      "Ram\n",
      "Ram\n"
     ]
    }
   ],
   "source": [
    "ram = Godlike(\"Ram\")\n",
    "ram.print_name()\n",
    "ohm.print_name()"
   ]
  },
  {
   "cell_type": "code",
   "execution_count": 166,
   "metadata": {},
   "outputs": [
    {
     "name": "stdout",
     "output_type": "stream",
     "text": [
      "returning the existing object\n",
      "Running init\n",
      "Hari\n",
      "Hari\n",
      "Hari\n"
     ]
    }
   ],
   "source": [
    "hari = Godlike(\"Hari\")\n",
    "hari.print_name()\n",
    "ram.print_name()\n",
    "ohm.print_name()"
   ]
  },
  {
   "cell_type": "code",
   "execution_count": 93,
   "metadata": {},
   "outputs": [
    {
     "name": "stdout",
     "output_type": "stream",
     "text": [
      "140010860664320 140010860664320 140010860664320\n"
     ]
    }
   ],
   "source": [
    "# All three variables will have the same ID as \n",
    "# they are referencing the same object.\n",
    "\n",
    "print(id(ohm), id(ram), id(hari))"
   ]
  },
  {
   "cell_type": "code",
   "execution_count": 232,
   "metadata": {},
   "outputs": [
    {
     "name": "stdout",
     "output_type": "stream",
     "text": [
      "Ram Ram ji\n",
      "Ram Ram ji\n",
      "Ram Ram ji\n"
     ]
    }
   ],
   "source": [
    "# Since all the three variables (ohm, ram & hari) are pointing\n",
    "# to the same instance, any update in one should be refected \n",
    "# in the other two. \n",
    "ohm.ram = \"Ram Ram ji\"\n",
    "print(ohm.ram)\n",
    "print(ram.ram)\n",
    "print(hari.ram)"
   ]
  },
  {
   "cell_type": "markdown",
   "metadata": {},
   "source": [
    "Also note that at the time of creating of all three objects the init was called, which might effect the existing object attributes. "
   ]
  },
  {
   "cell_type": "code",
   "execution_count": 168,
   "metadata": {},
   "outputs": [],
   "source": [
    "\"\"\"\n",
    "To avoid multiple executions of __init__,\n",
    "we can move the functionality of it to another function (`__init`)\n",
    "\"\"\"\n",
    "class Godlike(object):\n",
    "    def __new__(cls, name):\n",
    "        # __it__ is my custom attribute which I have creatd\n",
    "        # to get the first instance (object) of the class\n",
    "        if \"__it__\" in cls.__dict__:\n",
    "            print(\"returning the existing object\")\n",
    "            return cls.__it__\n",
    "\n",
    "        print(\"Creating the object\")\n",
    "        cls.__it__ = object.__new__(cls)\n",
    "        cls.__it__.__init(name)\n",
    "        return cls.__it__\n",
    "\n",
    "    def __init(self, name):\n",
    "        \"\"\"\n",
    "        custom init which is manually \n",
    "        called in the constructor itself\n",
    "        \"\"\"\n",
    "        print(\"inside init\")\n",
    "        self.name = name\n",
    "\n",
    "    def print_name(self):\n",
    "        print(self.name)"
   ]
  },
  {
   "cell_type": "code",
   "execution_count": 169,
   "metadata": {},
   "outputs": [
    {
     "name": "stdout",
     "output_type": "stream",
     "text": [
      "Creating the object\n",
      "inside init\n",
      "returning the existing object\n",
      "returning the existing object\n"
     ]
    }
   ],
   "source": [
    "ohm = Godlike(\"Ohm\")\n",
    "ram = Godlike(\"Ram\")\n",
    "hari = Godlike(\"Hari\")"
   ]
  },
  {
   "cell_type": "code",
   "execution_count": 170,
   "metadata": {},
   "outputs": [
    {
     "name": "stdout",
     "output_type": "stream",
     "text": [
      "True\n",
      "True\n"
     ]
    }
   ],
   "source": [
    "print(ohm is ram)\n",
    "print(ohm is hari)"
   ]
  },
  {
   "cell_type": "code",
   "execution_count": 171,
   "metadata": {},
   "outputs": [
    {
     "name": "stdout",
     "output_type": "stream",
     "text": [
      "same id's for all 139909903802640 139909903802640 139909903802640\n"
     ]
    }
   ],
   "source": [
    "print(\"same id's for all\", id(ohm), id(ram), id(hari))"
   ]
  },
  {
   "cell_type": "code",
   "execution_count": 172,
   "metadata": {},
   "outputs": [
    {
     "name": "stdout",
     "output_type": "stream",
     "text": [
      "Ohm\n",
      "Ohm\n",
      "Ohm\n"
     ]
    }
   ],
   "source": [
    "ohm.print_name()\n",
    "ram.print_name()\n",
    "hari.print_name()"
   ]
  },
  {
   "cell_type": "markdown",
   "metadata": {},
   "source": [
    "Note, in the above example all three objects are pointing to same object `ohm` meaning all three objects are same. \n",
    "\n",
    "Now, we might have situations where we need to raise exception, if creation of more than one instance is attempted. We can achieve it by raising an exception as shown in below example."
   ]
  },
  {
   "cell_type": "code",
   "execution_count": 174,
   "metadata": {},
   "outputs": [
    {
     "name": "stdout",
     "output_type": "stream",
     "text": [
      "Creating Anshu Mam as Primary School head mistress.\n",
      "Anshu Shrivastava\n",
      "~~~~~~~~~~~~~~~~~~~~\n",
      "Creating Rahim Sir as Primary School headmaster.\n",
      "Error: Could not create new instance for value Rahim Khan\n"
     ]
    }
   ],
   "source": [
    "class SingletonError(Exception):\n",
    "    pass\n",
    "\n",
    "class HeadMaster(object):\n",
    "    \n",
    "    def __new__(cls, name):\n",
    "        it = cls.__dict__.get(\"__it__\", None)\n",
    "        if it:\n",
    "            raise SingletonError(f\"Could not create new instance for value {name}\")\n",
    "            \n",
    "        cls.__it__ = it = object.__new__(cls)\n",
    "        it.__init__(name)\n",
    "        return it\n",
    "    \n",
    "    def __init__(self, name):        \n",
    "        self.name = name\n",
    "    \n",
    "    def print_name(self):\n",
    "        print(self.name)\n",
    "        \n",
    "\n",
    "try:\n",
    "    print(\"Creating Anshu Mam as Primary School head mistress.\")\n",
    "    anshu_mam = HeadMaster(\"Anshu Shrivastava\")\n",
    "    anshu_mam.print_name()\n",
    "    print(\"~\"*20)\n",
    "    \n",
    "    print(\"Creating Rahim Sir as Primary School headmaster.\")\n",
    "    rahim_sir = HeadMaster(\"Rahim Khan\")\n",
    "except Exception as e:\n",
    "    print(f\"Error: {e}\")"
   ]
  },
  {
   "cell_type": "markdown",
   "metadata": {},
   "source": [
    "#### Regulating number of object creation"
   ]
  },
  {
   "cell_type": "markdown",
   "metadata": {},
   "source": [
    "we are going to tweak previous example and convert it to have a finite number of objects created for the class"
   ]
  },
  {
   "cell_type": "code",
   "execution_count": 176,
   "metadata": {},
   "outputs": [],
   "source": [
    "class HeadMaster(object):\n",
    "    __instances = []  # Keep track of instance reference\n",
    "    __limit = 2\n",
    "\n",
    "    def __new__(cls, *args, **kwargs):\n",
    "        if len(cls.__instances) >= cls.__limit:\n",
    "            raise RuntimeError(\"Creation Limit %s reached\" % cls.__limit)\n",
    "        \n",
    "        instance = object.__new__(cls)\n",
    "        cls.__instances.append(instance)\n",
    "        return instance\n",
    "    \n",
    "    def __init__(self, name):\n",
    "        print(\"inside init\")\n",
    "        self.name = name\n",
    "\n",
    "    def __del__(self):\n",
    "        self.__instance.remove(self)"
   ]
  },
  {
   "cell_type": "code",
   "execution_count": 177,
   "metadata": {},
   "outputs": [
    {
     "name": "stdout",
     "output_type": "stream",
     "text": [
      "inside init\n",
      "inside init\n",
      "2 object created \n",
      "<__main__.HeadMaster object at 0x7f3f501e5360> <__main__.HeadMaster object at 0x7f3f501e4ca0>\n",
      "Exception: Creation Limit 2 reached\n"
     ]
    }
   ],
   "source": [
    "try:\n",
    "    li1 = HeadMaster(\"Gupta Sir\")\n",
    "    li2 = HeadMaster(\"Sharma Sir\")\n",
    "    print(\"2 object created \")\n",
    "    print(li1, li2)\n",
    "    li3 = HeadMaster(\"Tiwari Sir\")\n",
    "    print(\"3 object created \")\n",
    "except Exception as e:\n",
    "    print(\"Exception:\", e)"
   ]
  },
  {
   "cell_type": "code",
   "execution_count": 178,
   "metadata": {},
   "outputs": [
    {
     "name": "stdout",
     "output_type": "stream",
     "text": [
      "Gupta Sir and Sharma Sir\n"
     ]
    }
   ],
   "source": [
    "print(li1.name, \"and\", li2.name)"
   ]
  },
  {
   "cell_type": "code",
   "execution_count": 103,
   "metadata": {},
   "outputs": [
    {
     "name": "stdout",
     "output_type": "stream",
     "text": [
      "inside init\n",
      "inside init\n",
      "2 object created \n",
      "<__main__.HeadMaster object at 0x7f56d19d7280> <__main__.HeadMaster object at 0x7f56d19d56f0>\n",
      "Exception: Creation Limit 2 reached\n"
     ]
    }
   ],
   "source": [
    "class HeadMaster(object):\n",
    "    __instances = []  # Keep track of instance reference\n",
    "    __limit = 2\n",
    "\n",
    "    def __new__(cls, *args, **kwargs):\n",
    "        if len(cls.__instances) >= cls.__limit:\n",
    "            raise RuntimeError(\"Creation Limit %s reached\" % cls.__limit)\n",
    "        \n",
    "        instance = object.__new__(cls)\n",
    "        cls.__instances.append(instance)\n",
    "        return instance\n",
    "    \n",
    "    def __init__(self, name):\n",
    "        print(\"inside init\")\n",
    "        self.name = name\n",
    "\n",
    "    def __del__(self):\n",
    "        print(\"in __del__\")\n",
    "        self.__instance.remove(self)\n",
    "\n",
    "try:\n",
    "    li1 = HeadMaster(\"Gupta Sir\")\n",
    "    li2 = HeadMaster(\"Sharma Sir\")\n",
    "    print(\"2 object created \")\n",
    "    print(li1, li2)\n",
    "    del li2\n",
    "    li3 = HeadMaster(\"Tiwari Sir\")\n",
    "    print(\"3 object created \")\n",
    "except Exception as e:\n",
    "    print(\"Exception:\", e)\n",
    "    \n",
    "    \n",
    "    ### Check why __del__ is not working "
   ]
  },
  {
   "cell_type": "code",
   "execution_count": 1,
   "metadata": {},
   "outputs": [
    {
     "name": "stdout",
     "output_type": "stream",
     "text": [
      "inside init\n",
      "inside init\n",
      "2 object created \n",
      "<__main__.HeadMaster object at 0x7efd64ba4bb0> <__main__.HeadMaster object at 0x7efd64ba66e0>\n",
      "in __del__\n",
      "Deleted li2\n",
      "[<__main__.HeadMaster object at 0x7efd64ba4bb0>]\n",
      "inside init\n",
      "third object created \n"
     ]
    }
   ],
   "source": [
    "class HeadMaster(object):\n",
    "    __instances = []  # Keep track of instance reference\n",
    "    __limit = 2\n",
    "\n",
    "    def __new__(cls, *args, **kwargs):\n",
    "        if len(cls.__instances) >= cls.__limit:\n",
    "            raise RuntimeError(\"Creation Limit %s reached\" % cls.__limit)\n",
    "        \n",
    "        instance = object.__new__(cls)\n",
    "        cls.__instances.append(instance)\n",
    "        return instance\n",
    "    \n",
    "    def __init__(self, name):\n",
    "        print(\"inside init\")\n",
    "        self.name = name\n",
    "        \n",
    "    def print_inst(self):\n",
    "        print(self.__instances)\n",
    "    \n",
    "    def __del__(self):\n",
    "        print(\"in __del__\")\n",
    "        self.__instances.remove(self)\n",
    "\n",
    "try:\n",
    "    li1 = HeadMaster(\"Gupta Sir\")\n",
    "    li2 = HeadMaster(\"Sharma Sir\")\n",
    "    print(\"2 object created \")\n",
    "    print(li1, li2)\n",
    "    li2.__del__()\n",
    "    print(\"Deleted li2\")\n",
    "    li1.print_inst()\n",
    "    \n",
    "    li3 = HeadMaster(\"Tiwari Sir\")\n",
    "    print(\"third object created \")\n",
    "except Exception as e:\n",
    "    print(\"Exception:\", e)\n"
   ]
  },
  {
   "cell_type": "code",
   "execution_count": 1,
   "metadata": {},
   "outputs": [],
   "source": [
    "class HeadMaster(object):\n",
    "    __count_of_instances = 0\n",
    "    __limit = 2\n",
    "\n",
    "    def __new__(cls, *args, **kwargs):\n",
    "        if cls.__count_of_instances >= cls.__limit:\n",
    "            raise RuntimeError(\"Creation Limit %s reached\" % cls.__limit)\n",
    "        \n",
    "        instance = object.__new__(cls)\n",
    "        cls.__count_of_instances += 1\n",
    "        return instance\n",
    "    \n",
    "    def __init__(self, name):\n",
    "        print(\"inside init\")\n",
    "        self.name = name"
   ]
  },
  {
   "cell_type": "code",
   "execution_count": 2,
   "metadata": {},
   "outputs": [
    {
     "name": "stdout",
     "output_type": "stream",
     "text": [
      "inside init\n",
      "inside init\n",
      "2 object created \n",
      "<__main__.HeadMaster object at 0x7fecb93cd5d0> <__main__.HeadMaster object at 0x7fecb93cca60>\n",
      "Exception: Creation Limit 2 reached\n"
     ]
    }
   ],
   "source": [
    "try:\n",
    "    li1 = HeadMaster(\"Gupta Sir\")\n",
    "    li2 = HeadMaster(\"Sharma Sir\")\n",
    "    print(\"2 object created \")\n",
    "    print(li1, li2)\n",
    "    li3 = HeadMaster(\"Tiwari Sir\")\n",
    "    print(\"3 object created \")\n",
    "    li4 = HeadMaster()\n",
    "except Exception as e:\n",
    "    print(\"Exception:\", e)"
   ]
  },
  {
   "cell_type": "code",
   "execution_count": 192,
   "metadata": {},
   "outputs": [],
   "source": [
    "# In this case we can have only two instances and any new request \n",
    "# should be handled by deleting oldest instance and creating a new one. \n",
    "\n",
    "class HeadMaster(object):\n",
    "    __instances = []  # Keep track of instance reference\n",
    "    __limit = 2\n",
    "\n",
    "    def __new__(cls, name):\n",
    "        if len(cls.__instances) >= cls.__limit:\n",
    "            print(\"Deleting the oldest instance of the object\")\n",
    "            del cls.__instances[0]\n",
    "        \n",
    "        instance = object.__new__(cls)\n",
    "        cls.__instances.append(instance)\n",
    "        instance.__init(name)\n",
    "        return instance\n",
    "    \n",
    "    def __init(self, name):\n",
    "        print(\"inside init\")\n",
    "        self.name = name\n",
    "    \n",
    "    def list_instances(cls):\n",
    "        return cls.__instances\n",
    "    \n",
    "    def __del__(self):\n",
    "        print(f\"Deleting object: {self.name}\")"
   ]
  },
  {
   "cell_type": "code",
   "execution_count": 193,
   "metadata": {},
   "outputs": [
    {
     "name": "stdout",
     "output_type": "stream",
     "text": [
      "inside init\n",
      "inside init\n",
      "2 object created \n",
      "<__main__.HeadMaster object at 0x7f3f501df940> <__main__.HeadMaster object at 0x7f3f501df0a0>\n",
      "Deleting the oldest instance of the object\n",
      "inside init\n",
      "3 object created \n",
      "[<__main__.HeadMaster object at 0x7f3f501df0a0>, <__main__.HeadMaster object at 0x7f3f501deda0>]\n",
      "Deleting the oldest instance of the object\n",
      "inside init\n",
      "[<__main__.HeadMaster object at 0x7f3f501deda0>, <__main__.HeadMaster object at 0x7f3f501de7d0>]\n"
     ]
    }
   ],
   "source": [
    "try:\n",
    "    li1 = HeadMaster(\"Gupta Sir\")\n",
    "    li2 = HeadMaster(\"Sharma Sir\")\n",
    "    print(\"2 object created \")\n",
    "    print(li1, li2)\n",
    "    li3 = HeadMaster(\"Tiwari Sir\")\n",
    "    print(\"3 object created \")\n",
    "    \n",
    "    print(li3.list_instances())\n",
    "    li4 = HeadMaster(\"Paditji Sir\")\n",
    "    print(li4.list_instances())\n",
    "    \n",
    "except Exception as e:\n",
    "    print(\"Exception:\", e)"
   ]
  },
  {
   "cell_type": "code",
   "execution_count": 190,
   "metadata": {},
   "outputs": [
    {
     "name": "stdout",
     "output_type": "stream",
     "text": [
      "Paditji Sir Tiwari Sir\n"
     ]
    }
   ],
   "source": [
    "print(li4.name, li3.name)"
   ]
  },
  {
   "cell_type": "code",
   "execution_count": 191,
   "metadata": {},
   "outputs": [
    {
     "name": "stdout",
     "output_type": "stream",
     "text": [
      "Gupta Sir\n"
     ]
    }
   ],
   "source": [
    "try:\n",
    "    print(li1.name)\n",
    "except Exception as e:\n",
    "    print(f\"Error: {e=}\")"
   ]
  },
  {
   "cell_type": "markdown",
   "metadata": {},
   "source": [
    "#### Customize instance object"
   ]
  },
  {
   "cell_type": "markdown",
   "metadata": {},
   "source": [
    "We can customize instance object using `__new__`"
   ]
  },
  {
   "cell_type": "markdown",
   "metadata": {},
   "source": [
    "#### Customize Returned Object"
   ]
  },
  {
   "cell_type": "markdown",
   "metadata": {},
   "source": [
    "As shown above, we can also return custom objects instead of instance of requested class as shown in one of the previous example."
   ]
  }
 ],
 "metadata": {
  "anaconda-cloud": {},
  "kernelspec": {
   "display_name": "Python 3 (ipykernel)",
   "language": "python",
   "name": "python3"
  },
  "language_info": {
   "codemirror_mode": {
    "name": "ipython",
    "version": 3
   },
   "file_extension": ".py",
   "mimetype": "text/x-python",
   "name": "python",
   "nbconvert_exporter": "python",
   "pygments_lexer": "ipython3",
   "version": "3.11.0b1"
  }
 },
 "nbformat": 4,
 "nbformat_minor": 1
}
