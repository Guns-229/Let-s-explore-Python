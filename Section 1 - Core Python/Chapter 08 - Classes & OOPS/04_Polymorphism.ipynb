{
 "cells": [
  {
   "cell_type": "markdown",
   "metadata": {},
   "source": [
    "## Polymorphism"
   ]
  },
  {
   "cell_type": "markdown",
   "metadata": {},
   "source": [
    "The polymorphism is the process of using an operator or function in different ways for different data input. In practical terms, polymorphism means that if class B inherits from class A, it doesn’t have to inherit everything about class A; it can do some of the things that class A does differently. (source: wikipedia)\n",
    "\n",
    "Lets create a Class `Animal` which has a function `talk`. `Cat` and `Dog` inherits from class `Animal` "
   ]
  },
  {
   "cell_type": "code",
   "execution_count": 1,
   "metadata": {},
   "outputs": [],
   "source": [
    "class Animal:\n",
    "    def __init__(self, name=''):\n",
    "        self.name = name\n",
    "\n",
    "    def talk(self):\n",
    "        pass\n",
    "    \n",
    "    def getHeadCount(self):\n",
    "        return 1\n",
    "\n",
    "class Cat(Animal):\n",
    "    def talk(self):\n",
    "        print (\"Meow!\")\n",
    "\n",
    "\n",
    "class Dog(Animal):\n",
    "    def talk(self):\n",
    "        print (\"Woof!\")"
   ]
  },
  {
   "cell_type": "code",
   "execution_count": 2,
   "metadata": {},
   "outputs": [
    {
     "name": "stdout",
     "output_type": "stream",
     "text": [
      "Meow!\n",
      "1\n",
      "Woof!\n",
      "1\n"
     ]
    }
   ],
   "source": [
    "a = Animal()\n",
    "a.talk()\n",
    "\n",
    "cat = Cat(\"Missy\")\n",
    "cat.talk()\n",
    "print(cat.getHeadCount())\n",
    "\n",
    "dog = Dog(\"Rocky\")\n",
    "dog.talk()\n",
    "print(dog.getHeadCount())"
   ]
  },
  {
   "cell_type": "code",
   "execution_count": 1,
   "metadata": {},
   "outputs": [
    {
     "name": "stdout",
     "output_type": "stream",
     "text": [
      "1200 cc\n",
      "1000 cc\n"
     ]
    }
   ],
   "source": [
    "class Gaddi(object):\n",
    "    \n",
    "    def engine_capacity(self):\n",
    "        pass\n",
    "    \n",
    "    def get_engine_type(self):\n",
    "        return \"petrol\"\n",
    "\n",
    "\n",
    "class Zen_car(Gaddi):\n",
    "    def engine_capacity(self):\n",
    "        return \"1000 cc\"\n",
    "\n",
    "class I10(Gaddi):\n",
    "    def engine_capacity(self):\n",
    "        return \"1200 cc\"\n",
    "\n",
    "i10 = I10()\n",
    "zen = Zen_car()\n",
    "print(i10.engine_capacity())\n",
    "print(zen.engine_capacity())"
   ]
  },
  {
   "cell_type": "markdown",
   "metadata": {},
   "source": [
    "### Method Overloading"
   ]
  },
  {
   "cell_type": "markdown",
   "metadata": {},
   "source": [
    "Officially **Python do not support method overloading** and trying to achieve will result in errors as shown in below examples."
   ]
  },
  {
   "cell_type": "code",
   "execution_count": 2,
   "metadata": {},
   "outputs": [
    {
     "name": "stdout",
     "output_type": "stream",
     "text": [
      "Error: seats() missing 1 required positional argument: 'count'\n"
     ]
    }
   ],
   "source": [
    "class Cars(object):\n",
    "    def seats(self, seat_type):\n",
    "        print(\"seat_type:\", seat_type)\n",
    "        \n",
    "    def seats(self, seat_type, count):\n",
    "        print(\"seat_type:\", seat_type)\n",
    "        print(\"count:\", count)\n",
    "        \n",
    "car = Cars()\n",
    "try:\n",
    "    car.seats(\"leather\")\n",
    "except Exception as e:\n",
    "    print(\"Error:\", e)"
   ]
  },
  {
   "cell_type": "markdown",
   "metadata": {},
   "source": [
    "In the above example, we had two functions with same name and different numbers of arguments, Python only use the last defined function and previous one is discarded."
   ]
  },
  {
   "cell_type": "code",
   "execution_count": 3,
   "metadata": {},
   "outputs": [
    {
     "name": "stdout",
     "output_type": "stream",
     "text": [
      "Error: seats() missing 1 required positional argument: 'count'\n"
     ]
    }
   ],
   "source": [
    "class Cars(object):\n",
    "    def seats(self, seat_type):\n",
    "        print(\"seat_type:\", seat_type)\n",
    "        \n",
    "class RaceCar(Cars):\n",
    "    def seats(self, seat_type, count):\n",
    "        print(\"seat_type:\", seat_type)\n",
    "        print(\"count:\", count)\n",
    "        \n",
    "car = RaceCar()\n",
    "try:\n",
    "    car.seats(\"leather\")\n",
    "except Exception as e:\n",
    "    print(\"Error:\", e)"
   ]
  },
  {
   "cell_type": "markdown",
   "metadata": {},
   "source": [
    "In the above example, we had two functions with same name and different numbers of arguments one in `RaceCar` and another one in its parent class `Cars`, and when we call the function `seats` from an object of `RaceCar` it rightly calls `seats` from `RaceCar` instead of from `Cars`.\n",
    "\n",
    "Now if you have a scenario like that and then one of the solution which we can do is use the following process. "
   ]
  },
  {
   "cell_type": "code",
   "execution_count": 6,
   "metadata": {},
   "outputs": [
    {
     "name": "stdout",
     "output_type": "stream",
     "text": [
      "seat_type: 10\n",
      "count: leather\n",
      "**********\n",
      "seat_type: 10\n"
     ]
    }
   ],
   "source": [
    "class Cars(object):\n",
    "    def seats(self, seat_type):\n",
    "        print(\"seat_type:\", seat_type)\n",
    "        \n",
    "class RaceCar(Cars):\n",
    "    def seats(self, seat_type, count=None):\n",
    "        if count is None:\n",
    "            super().seats(seat_type)\n",
    "        else:\n",
    "            print(\"seat_type:\", seat_type)\n",
    "            print(\"count:\", count)\n",
    "\n",
    "car = RaceCar()\n",
    "try:\n",
    "    # This will call parent seats \n",
    "    car.seats(10, \"leather\")\n",
    "    # This will call child seats\n",
    "    print(\"*\"*10)\n",
    "    car.seats(10)\n",
    "except Exception as e:\n",
    "    print(\"Error:\", e)"
   ]
  }
 ],
 "metadata": {
  "anaconda-cloud": {},
  "kernelspec": {
   "display_name": "Python 3 (ipykernel)",
   "language": "python",
   "name": "python3"
  },
  "language_info": {
   "codemirror_mode": {
    "name": "ipython",
    "version": 3
   },
   "file_extension": ".py",
   "mimetype": "text/x-python",
   "name": "python",
   "nbconvert_exporter": "python",
   "pygments_lexer": "ipython3",
   "version": "3.9.9"
  }
 },
 "nbformat": 4,
 "nbformat_minor": 1
}
