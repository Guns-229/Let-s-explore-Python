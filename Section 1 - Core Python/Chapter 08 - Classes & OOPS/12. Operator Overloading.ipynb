{
 "cells": [
  {
   "cell_type": "markdown",
   "metadata": {},
   "source": [
    "## Operator Overloading"
   ]
  },
  {
   "cell_type": "code",
   "execution_count": 1,
   "metadata": {},
   "outputs": [
    {
     "name": "stdout",
     "output_type": "stream",
     "text": [
      "unsupported operand type(s) for +: 'A' and 'A'\n"
     ]
    }
   ],
   "source": [
    "class A(object):\n",
    "    def __init__(self, val):\n",
    "        self.val = val\n",
    "        \n",
    "a = A(13)\n",
    "b = A(12)\n",
    "try:\n",
    "    c = a + b\n",
    "except TypeError as te:\n",
    "    print(te)"
   ]
  },
  {
   "cell_type": "markdown",
   "metadata": {},
   "source": [
    "Python allows for `operator overloading` so that we can utilize operators on the custom objects. In order to use them we need to implement the following function\n",
    "\n",
    "| Operator            | Expression   | Overloading function |\n",
    "|---------------------|--------------|----------------------|\n",
    "| Addition            | `a + b`        | `a.__add__(b)`       |\n",
    "| Subtraction         | `a - b`        | `a.__sub__(b)`       |\n",
    "| Multiplication      | `a * b`        | `a.__mul__(b)`       |\n",
    "| Power               | `a ** b `      | `a.__pow__(b)`       |\n",
    "| Division            | `a / b `       | `a.__truediv__(b)`   |\n",
    "| floor Division      | `a // b `      | `a.__mod__(b)`       |\n",
    "| Bitwise left shift  | `a << b`       | `a.__lshift__(b)`    |\n",
    "| Bitwise Right shift | `a >> b`       | `a.__rshift__(b)`    |\n",
    "| Bitwise AND         | `a & b`        | `a.__add__(b)`       |\n",
    "| Bitwise OR          | `a \\| b`        | `a.__or__(b)`        |\n",
    "| Bitwise XOR         | `a ^ b`        | `a.__xor__(b)`       |\n",
    "| Bitwise NOT         | `~a `          | `a.__invert__(b)`    |\n",
    "| Less than           | `a < b`        | `a.__lt__(b)`        |\n",
    "| Less than or equal  | `a <= b`       | `a.__le__(b)`        |\n",
    "| Equal To            | `a == b`       | `a.__eq__(b)`        |\n",
    "| NOT Equal           | `a != b`       | `a.__ne__(b)`        |\n",
    "| Greather than       | `a > b`        | `a.__gt__(b)`        |\n",
    "| Greather than or equal | `a >= b`    | `a.__ge__(b)`        |"
   ]
  },
  {
   "cell_type": "markdown",
   "metadata": {},
   "source": [
    "Basic example of addition module"
   ]
  },
  {
   "cell_type": "code",
   "execution_count": 2,
   "metadata": {},
   "outputs": [
    {
     "name": "stdout",
     "output_type": "stream",
     "text": [
      "33 <class 'int'>\n"
     ]
    }
   ],
   "source": [
    "class MyData(object):\n",
    "    def __init__(self, score=0, percentage=10):\n",
    "        self.score = score\n",
    "        self.percentage = percentage\n",
    "        \n",
    "    def __add__(self, b):\n",
    "        self.score = self.score + b.score\n",
    "        return self.score\n",
    "    \n",
    "a = MyData(10)\n",
    "b = MyData(23)\n",
    "\n",
    "c = a + b\n",
    "print(c, type(c))"
   ]
  },
  {
   "cell_type": "code",
   "execution_count": 3,
   "metadata": {},
   "outputs": [
    {
     "name": "stdout",
     "output_type": "stream",
     "text": [
      "'Dummy' object has no attribute 'score'\n"
     ]
    }
   ],
   "source": [
    "# Gotcha #1\n",
    "# You need to know about the classes whose object\n",
    "# We are trying to operate on.\n",
    "\n",
    "class MyData(object):\n",
    "    def __init__(self, score=0, percentage=10):\n",
    "        self.score = score\n",
    "        self.percentage = percentage\n",
    "        \n",
    "    def __add__(self, b):\n",
    "        self.score = self.score + b.score\n",
    "        return self.score\n",
    "    \n",
    "class Dummy(object):\n",
    "    def __init__(self, score=0):\n",
    "        self.val = score\n",
    "\n",
    "a = MyData(10)\n",
    "b = Dummy(23)\n",
    "\n",
    "try:\n",
    "    c = a + b\n",
    "    print(c, type(c))\n",
    "except AttributeError as ae:\n",
    "    print(ae)"
   ]
  },
  {
   "cell_type": "code",
   "execution_count": 1,
   "metadata": {},
   "outputs": [
    {
     "name": "stdout",
     "output_type": "stream",
     "text": [
      "Error: Not allowed\n"
     ]
    }
   ],
   "source": [
    "class MyData(object):\n",
    "    def __init__(self, score=0, percentage=10):\n",
    "        self.score = score\n",
    "        self.percentage = percentage\n",
    "        \n",
    "    def __add__(self, b):\n",
    "        if isinstance(b, MyData):\n",
    "            self.score = self.score + b.score\n",
    "            return self.score\n",
    "        else:\n",
    "            raise ValueError(\"Not allowed\")\n",
    "\n",
    "class Dummy(object):\n",
    "    def __init__(self, score=0):\n",
    "        self.val = score\n",
    "\n",
    "try:     \n",
    "    a = MyData(10)\n",
    "    b = Dummy(23)\n",
    "    c = a + b\n",
    "    print(c, type(c))\n",
    "except ValueError as ae:\n",
    "    print(\"Error:\", ae)"
   ]
  },
  {
   "cell_type": "markdown",
   "metadata": {},
   "source": [
    "### Which of the comparision function to implement "
   ]
  },
  {
   "cell_type": "markdown",
   "metadata": {},
   "source": [
    "$$TODO$$"
   ]
  }
 ],
 "metadata": {
  "kernelspec": {
   "display_name": "Python 3",
   "language": "python",
   "name": "python3"
  },
  "language_info": {
   "codemirror_mode": {
    "name": "ipython",
    "version": 3
   },
   "file_extension": ".py",
   "mimetype": "text/x-python",
   "name": "python",
   "nbconvert_exporter": "python",
   "pygments_lexer": "ipython3",
   "version": "3.10.0a7"
  }
 },
 "nbformat": 4,
 "nbformat_minor": 2
}
