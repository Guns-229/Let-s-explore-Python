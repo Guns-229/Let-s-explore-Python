{
 "cells": [
  {
   "cell_type": "markdown",
   "metadata": {},
   "source": [
    "# `_`, `__` and `__attr__` in Python"
   ]
  },
  {
   "cell_type": "markdown",
   "metadata": {},
   "source": [
    "Certain classes of identifiers (besides keywords) have special meanings. These classes are identified by the patterns of leading and trailing underscore characters:"
   ]
  },
  {
   "cell_type": "markdown",
   "metadata": {
    "collapsed": true
   },
   "source": [
    "`_*`\n",
    "Not imported by \"from module import *\". The special identifier \"`_`\" is used in the interactive interpreter to store the result of the last evaluation; it is stored in the `__builtin__` module. When not in interactive mode, \"`_`\" has no special meaning and is not defined. See section 6.12, ``The import statement.''\n",
    "Note: The name \"_\" is often used in conjunction with internationalization; refer to the documentation for the gettext module for more information on this convention.\n",
    "\n",
    "`__*__`\n",
    "System-defined names. These names are defined by the interpreter and its implementation (including the standard library); applications should not expect to define additional names using this convention. The set of names of this class defined by Python may be extended in future versions. See section 3.4, ``Special method names.''\n",
    "\n",
    "`__*`\n",
    "Class-private names. Names in this category, when used within the context of a class definition, are re-written to use a mangled form to help avoid name clashes between **private** attributes of **base** and **derived** classes."
   ]
  },
  {
   "cell_type": "code",
   "execution_count": 1,
   "metadata": {},
   "outputs": [
    {
     "name": "stdout",
     "output_type": "stream",
     "text": [
      "1010\n",
      "[10]\n",
      "type object 'SumTotal' has no attribute 'actual'\n",
      "22\n"
     ]
    }
   ],
   "source": [
    "# Static function\n",
    "class SumTotal(object):\n",
    "    init_no = [10]\n",
    "    \n",
    "    def __init__(self):\n",
    "        self.actual = 100\n",
    "        pass\n",
    "    \n",
    "    @staticmethod\n",
    "    def static_method(nums):\n",
    "        # They have no access to object/class attributes\n",
    "        print(nums)\n",
    "    \n",
    "    @classmethod\n",
    "    def cls_method(cls):\n",
    "        print(cls.init_no)\n",
    "        # As class methods do not have access to object attributes\n",
    "        try:\n",
    "            print(cls.actual)\n",
    "        except Exception as e:\n",
    "            print(e)\n",
    "        \n",
    "\n",
    "st = SumTotal()\n",
    "st.static_method(1010)\n",
    "\n",
    "st.cls_method()\n",
    "SumTotal.static_method(22)"
   ]
  },
  {
   "cell_type": "code",
   "execution_count": 1,
   "metadata": {},
   "outputs": [
    {
     "name": "stdout",
     "output_type": "stream",
     "text": [
      "data: testing\n"
     ]
    }
   ],
   "source": [
    "# Explicitly calling parent function\n",
    "\n",
    "class Base(object):\n",
    "    def test(self, data):\n",
    "        print(\"data: {}\".format(data))\n",
    "        \n",
    "class Child(Base):\n",
    "    def test(self, data):\n",
    "        super().test(data)\n",
    "        \n",
    "c = Child()\n",
    "c.test(\"testing\")"
   ]
  },
  {
   "cell_type": "markdown",
   "metadata": {},
   "source": [
    "### `__slots__`"
   ]
  },
  {
   "cell_type": "markdown",
   "metadata": {},
   "source": [
    "Using `__slots__` we can define which attributes can be created for the class."
   ]
  },
  {
   "cell_type": "code",
   "execution_count": 1,
   "metadata": {},
   "outputs": [
    {
     "name": "stdout",
     "output_type": "stream",
     "text": [
      "Roshan\n",
      "e = AttributeError(\"'User' object has no attribute 'impossible'\")\n"
     ]
    }
   ],
   "source": [
    "class User(object):\n",
    "\n",
    "    __slots__ = ['first_name', 'last_name']\n",
    "\n",
    "    def __init__(self, first_name, last_name):\n",
    "        self.first_name = first_name\n",
    "        self.last_name = last_name\n",
    "\n",
    "\n",
    "roshan = User(\"Roshan\", \"Garg\")\n",
    "print(roshan.first_name)\n",
    "\n",
    "try:\n",
    "    roshan.impossible = \"Should Fail\"\n",
    "except Exception as e:\n",
    "    print(f\"{e = }\")\n"
   ]
  },
  {
   "cell_type": "code",
   "execution_count": 11,
   "metadata": {},
   "outputs": [
    {
     "name": "stdout",
     "output_type": "stream",
     "text": [
      "Roshan\n"
     ]
    }
   ],
   "source": [
    "class User(object):\n",
    "\n",
    "    __slots__ = ['first_name', 'last_name']\n",
    "\n",
    "    def __init__(self, first_name, last_name):\n",
    "        self.first_name = first_name\n",
    "        self.last_name = last_name\n",
    "\n",
    "\n",
    "roshan = User(\"Roshan\", \"Garg\")\n",
    "print(roshan.first_name)\n",
    "roshan.last_name = \"Musheer\"\n"
   ]
  },
  {
   "cell_type": "code",
   "execution_count": 3,
   "metadata": {},
   "outputs": [
    {
     "name": "stdout",
     "output_type": "stream",
     "text": [
      "e = AttributeError(\"'User' object has no attribute 'name'\")\n"
     ]
    }
   ],
   "source": [
    "class User(object):\n",
    "    \n",
    "    # All the object attributes should be listed in \n",
    "    # `__slots__`\n",
    "    __slots__ = [ 'first_name', 'last_name']\n",
    "    def __get_name(self):\n",
    "        return f\"{first_name} {last_name}\"\n",
    "    \n",
    "    def __set_name(self, name):\n",
    "        self.first_name, self.last_name = split(name)\n",
    "        \n",
    "    def __init__(self, first_name, last_name):\n",
    "        self.first_name = first_name\n",
    "        self.last_name = last_name\n",
    "        self.name = property(self.__get_name, self.__set_name)\n",
    "    \n",
    "    \n",
    "try:\n",
    "    roshan = User(\"Roshan\", \"Garg\")\n",
    "    \n",
    "#     print(roshan.first_name)\n",
    "#     roshan.last_name = \"Musheer\"\n",
    "#     roshan.impossible = \"Should Fail\"\n",
    "except Exception as e:\n",
    "    print(f\"{e = }\")\n"
   ]
  },
  {
   "cell_type": "markdown",
   "metadata": {},
   "source": [
    "### Monkey Patching of Classes"
   ]
  },
  {
   "cell_type": "markdown",
   "metadata": {},
   "source": [
    "Below is a very simple example of monkey patching of classes in Python. \n",
    "> **Note**\n",
    "> ____\n",
    ">After patching, all the object created will get the updates irrespective of when they were created as shown in the below example. "
   ]
  },
  {
   "cell_type": "code",
   "execution_count": 3,
   "metadata": {},
   "outputs": [
    {
     "name": "stdout",
     "output_type": "stream",
     "text": [
      "False\n",
      "Jai Jai Shri Ram\n",
      "True\n",
      "True\n"
     ]
    }
   ],
   "source": [
    "# mp/01.py\n",
    "class Hanuman(object):\n",
    "    pass\n",
    "\n",
    "def chant(cls):\n",
    "    print(\"Jai Jai Shri Ram\")\n",
    "\n",
    "heman = Hanuman()\n",
    "print('chant' in heman.__dir__())\n",
    "\n",
    "Hanuman.chant = chant\n",
    "\n",
    "hanuman = Hanuman()\n",
    "hanuman.chant()\n",
    "\n",
    "print('chant' in heman.__dir__())\n",
    "print('chant' in hanuman.__dir__())"
   ]
  },
  {
   "cell_type": "code",
   "execution_count": 4,
   "metadata": {},
   "outputs": [
    {
     "name": "stdout",
     "output_type": "stream",
     "text": [
      " __ Jai Jai Shri Ram __\n",
      "Jai Jai Shri Ram\n",
      "Jai Jai Shri Ram\n"
     ]
    }
   ],
   "source": [
    "## Patching a new variable\n",
    "# mp/02.py\n",
    "\n",
    "class Hanuman(object):\n",
    "    def chant(self):\n",
    "        print(\" __ Jai Jai Shri Ram __\")\n",
    "\n",
    "def chant(cls):\n",
    "    print(\"Jai Jai Shri Ram\")\n",
    "\n",
    "heman = Hanuman()\n",
    "heman.chant()\n",
    "\n",
    "Hanuman.chant = chant\n",
    "\n",
    "hanuman = Hanuman()\n",
    "hanuman.chant()\n",
    "heman.chant()"
   ]
  },
  {
   "cell_type": "code",
   "execution_count": 5,
   "metadata": {},
   "outputs": [
    {
     "name": "stdout",
     "output_type": "stream",
     "text": [
      " __ Jai Jai Shri Ram __\n",
      "****\n",
      "False\n",
      "Jai Jai Shri Ram $$$\n",
      "Jai Jai Shri Ram $$$\n",
      "True\n",
      "True\n"
     ]
    }
   ],
   "source": [
    "## Patching existing function\n",
    "# mp/03.py\n",
    "class Hanuman(object):\n",
    "    def chant(self, padding=\"****\"):\n",
    "        print(\" __ Jai Jai Shri Ram __\")\n",
    "        print(padding)\n",
    "\n",
    "def chant(cls):\n",
    "    print(\"Jai Jai Shri Ram\", cls.padding)\n",
    "\n",
    "heman = Hanuman()\n",
    "heman.chant()\n",
    "print('padding' in heman.__dir__())\n",
    "\n",
    "Hanuman.chant = chant\n",
    "hanuman = Hanuman()\n",
    "Hanuman.padding = \"$$$\"\n",
    "\n",
    "hanuman.chant()\n",
    "heman.chant()\n",
    "print('padding' in heman.__dir__())\n",
    "print('padding' in hanuman.__dir__())"
   ]
  },
  {
   "cell_type": "markdown",
   "metadata": {},
   "source": [
    "### Effects of patching Parent Class on child objects"
   ]
  },
  {
   "cell_type": "code",
   "execution_count": 2,
   "metadata": {},
   "outputs": [
    {
     "name": "stdout",
     "output_type": "stream",
     "text": [
      "False\n",
      "... Ohm ...\n",
      "... Ohm ...\n",
      "True\n",
      "True\n"
     ]
    }
   ],
   "source": [
    "# mp/04.py\n",
    "class Ram(object):\n",
    "    pass\n",
    "\n",
    "class Kush(Ram):\n",
    "    pass\n",
    "\n",
    "def chant(cls):\n",
    "    print(\"... Ohm ...\")\n",
    "    \n",
    "kush = Kush()\n",
    "print('chant' in kush.__dir__())\n",
    "\n",
    "Ram.chant = chant\n",
    "love = Kush()\n",
    "\n",
    "love.chant()\n",
    "kush.chant()\n",
    "print('chant' in kush.__dir__())\n",
    "print('chant' in love.__dir__())"
   ]
  },
  {
   "cell_type": "markdown",
   "metadata": {},
   "source": [
    "### `match/case` and Objects"
   ]
  },
  {
   "cell_type": "code",
   "execution_count": 10,
   "metadata": {},
   "outputs": [],
   "source": [
    "from dataclasses import dataclass\n",
    "\n",
    "@dataclass\n",
    "class User:\n",
    "    first_name: str\n",
    "    last_name: str"
   ]
  },
  {
   "cell_type": "code",
   "execution_count": 48,
   "metadata": {},
   "outputs": [
    {
     "ename": "TypeError",
     "evalue": "User.__init__() missing 1 required positional argument: 'title'",
     "output_type": "error",
     "traceback": [
      "\u001b[0;31m---------------------------------------------------------------------------\u001b[0m",
      "\u001b[0;31mTypeError\u001b[0m                                 Traceback (most recent call last)",
      "\u001b[0;32m<ipython-input-48-4a30930c6505>\u001b[0m in \u001b[0;36m<module>\u001b[0;34m\u001b[0m\n\u001b[0;32m----> 1\u001b[0;31m \u001b[0mmayank\u001b[0m \u001b[0;34m=\u001b[0m \u001b[0mUser\u001b[0m\u001b[0;34m(\u001b[0m\u001b[0mfirst_name\u001b[0m\u001b[0;34m=\u001b[0m\u001b[0;34m\"Mayank\"\u001b[0m\u001b[0;34m,\u001b[0m \u001b[0mlast_name\u001b[0m\u001b[0;34m=\u001b[0m\u001b[0;34m\"Johri\"\u001b[0m\u001b[0;34m)\u001b[0m\u001b[0;34m\u001b[0m\u001b[0;34m\u001b[0m\u001b[0m\n\u001b[0m\u001b[1;32m      2\u001b[0m \u001b[0;34m\u001b[0m\u001b[0m\n\u001b[1;32m      3\u001b[0m \u001b[0mmatch\u001b[0m \u001b[0mmayank\u001b[0m\u001b[0;34m:\u001b[0m\u001b[0;34m\u001b[0m\u001b[0;34m\u001b[0m\u001b[0m\n\u001b[1;32m      4\u001b[0m     \u001b[0mcase\u001b[0m \u001b[0mUser\u001b[0m\u001b[0;34m(\u001b[0m\u001b[0mfirst_name\u001b[0m\u001b[0;34m=\u001b[0m\u001b[0;34m\"Mayank\"\u001b[0m\u001b[0;34m,\u001b[0m \u001b[0mlast_name\u001b[0m\u001b[0;34m=\u001b[0m\u001b[0;34m\"Johri\"\u001b[0m\u001b[0;34m)\u001b[0m\u001b[0;34m:\u001b[0m\u001b[0;34m\u001b[0m\u001b[0;34m\u001b[0m\u001b[0m\n\u001b[1;32m      5\u001b[0m         \u001b[0mprint\u001b[0m\u001b[0;34m(\u001b[0m\u001b[0;34mf\"Received: {mayank = }\"\u001b[0m\u001b[0;34m)\u001b[0m\u001b[0;34m\u001b[0m\u001b[0;34m\u001b[0m\u001b[0m\n",
      "\u001b[0;31mTypeError\u001b[0m: User.__init__() missing 1 required positional argument: 'title'"
     ]
    }
   ],
   "source": [
    "mayank = User(first_name=\"Mayank\", last_name=\"Johri\")\n",
    "\n",
    "match mayank:\n",
    "    case User(first_name=\"Mayank\", last_name=\"Johri\"):\n",
    "        print(f\"Received: {mayank = }\")\n",
    "    \n",
    "    case User(first_name=\"mayank\", last_name=\"Johri\"):\n",
    "        print(f\"Good Message Received: {mayank = }\")\n",
    "        \n",
    "    case (False, msg):\n",
    "        print(f\"Bad Message Received: {msg}\")\n",
    "    \n",
    "    case _:\n",
    "        print(f\"{mayank = }\")"
   ]
  },
  {
   "cell_type": "code",
   "execution_count": 36,
   "metadata": {},
   "outputs": [],
   "source": [
    "class User:\n",
    "    first_name: str\n",
    "    last_name: str"
   ]
  },
  {
   "cell_type": "code",
   "execution_count": 37,
   "metadata": {},
   "outputs": [
    {
     "name": "stdout",
     "output_type": "stream",
     "text": [
      "Good Message Received: mayank = <__main__.User object at 0x7fe215db3880>\n"
     ]
    }
   ],
   "source": [
    "mayank = User()\n",
    "mayank.first_name = \"mayank\"\n",
    "mayank.last_name = \"Johri\"\n",
    "\n",
    "match mayank:\n",
    "    case User(first_name=\"Mayank\", last_name=\"Johri\"):\n",
    "        print(\"Default True message received\")\n",
    "    \n",
    "    case User(first_name=\"mayank\", last_name=\"Johri\"):\n",
    "        print(f\"Good Message Received: {mayank = }\")\n",
    "        \n",
    "    case (False, msg):\n",
    "        print(f\"Bad Message Received: {msg}\")\n",
    "    \n",
    "    case _:\n",
    "        print(f\"{mayank = }\")"
   ]
  },
  {
   "cell_type": "code",
   "execution_count": 47,
   "metadata": {},
   "outputs": [
    {
     "ename": "TypeError",
     "evalue": "User.__init__() missing 3 required positional arguments: 'title', 'first_name', and 'last_name'",
     "output_type": "error",
     "traceback": [
      "\u001b[0;31m---------------------------------------------------------------------------\u001b[0m",
      "\u001b[0;31mTypeError\u001b[0m                                 Traceback (most recent call last)",
      "\u001b[0;32m<ipython-input-47-89715bf74237>\u001b[0m in \u001b[0;36m<module>\u001b[0;34m\u001b[0m\n\u001b[0;32m----> 1\u001b[0;31m \u001b[0mmayank\u001b[0m \u001b[0;34m=\u001b[0m \u001b[0mUser\u001b[0m\u001b[0;34m(\u001b[0m\u001b[0;34m)\u001b[0m\u001b[0;34m\u001b[0m\u001b[0;34m\u001b[0m\u001b[0m\n\u001b[0m\u001b[1;32m      2\u001b[0m \u001b[0mmayank\u001b[0m\u001b[0;34m.\u001b[0m\u001b[0mfirst_name\u001b[0m \u001b[0;34m=\u001b[0m \u001b[0;34m\"mayank\"\u001b[0m\u001b[0;34m\u001b[0m\u001b[0;34m\u001b[0m\u001b[0m\n\u001b[1;32m      3\u001b[0m \u001b[0mmayank\u001b[0m\u001b[0;34m.\u001b[0m\u001b[0mlast_name\u001b[0m \u001b[0;34m=\u001b[0m \u001b[0;34m\"Johri\"\u001b[0m\u001b[0;34m\u001b[0m\u001b[0;34m\u001b[0m\u001b[0m\n\u001b[1;32m      4\u001b[0m \u001b[0;34m\u001b[0m\u001b[0m\n\u001b[1;32m      5\u001b[0m \u001b[0mmatch\u001b[0m \u001b[0mmayank\u001b[0m\u001b[0;34m:\u001b[0m\u001b[0;34m\u001b[0m\u001b[0;34m\u001b[0m\u001b[0m\n",
      "\u001b[0;31mTypeError\u001b[0m: User.__init__() missing 3 required positional arguments: 'title', 'first_name', and 'last_name'"
     ]
    }
   ],
   "source": [
    "mayank = User()\n",
    "mayank.first_name = \"mayank\"\n",
    "mayank.last_name = \"Johri\"\n",
    "\n",
    "match mayank:\n",
    "    case User(first_name=\"Mayank\", last_name=\"Johri\"):\n",
    "        print(\"Default True message received\")\n",
    "    \n",
    "    case User(last_name=\"Johri\", first_name=\"mayank\"):\n",
    "        print(f\"Good Message Received 1: {mayank = }\")\n",
    "    \n",
    "    case User(first_name=\"mayank\", last_name=\"Johri\"):\n",
    "        print(f\"Good Message Received 2: {mayank = }\")\n",
    "        \n",
    "    case (False, msg):\n",
    "        print(f\"Bad Message Received: {msg}\")\n",
    "    \n",
    "    case _:\n",
    "        print(f\"{mayank = }\")"
   ]
  },
  {
   "cell_type": "markdown",
   "metadata": {},
   "source": [
    "We can create our own custom order of attributes as shown in the example below"
   ]
  },
  {
   "cell_type": "code",
   "execution_count": 41,
   "metadata": {},
   "outputs": [],
   "source": [
    "class User:\n",
    "    title: str\n",
    "    first_name: str\n",
    "    last_name: str\n",
    "        \n",
    "    __match_args__ = (\"last_name\", \"first_name\")\n",
    "    def __init__(self, title: str, first_name: str, last_name: str):\n",
    "        self.title = title\n",
    "        self.first_name = first_name\n",
    "        self.last_name = last_name\n",
    "    \n",
    "    def __repr__(self):\n",
    "        return f\"{self.title} {self.first_name} {self.last_name}\""
   ]
  },
  {
   "cell_type": "code",
   "execution_count": 46,
   "metadata": {},
   "outputs": [
    {
     "name": "stdout",
     "output_type": "stream",
     "text": [
      "Good Message Received 1: mayank = Mr mayank Johri\n"
     ]
    }
   ],
   "source": [
    "mayank = User(\"Mr\", \"mayank\", \"Johri\")\n",
    "\n",
    "match mayank:\n",
    "    case User(first_name=\"Mayank\", last_name=\"Johri\"):\n",
    "        print(\"Default True message received\")\n",
    "    \n",
    "    case User( last_name=\"Johri\", first_name=\"mayank\"):\n",
    "        print(f\"Good Message Received 1: {mayank = }\")\n",
    "    \n",
    "    case User(first_name=\"mayank\", last_name=\"Johri\"):\n",
    "        print(f\"Good Message Received 2: {mayank = }\")\n",
    "        \n",
    "    case (False, msg):\n",
    "        print(f\"Bad Message Received: {msg}\")\n",
    "    \n",
    "    case _:\n",
    "        print(f\"{mayank = }\")"
   ]
  },
  {
   "cell_type": "code",
   "execution_count": 49,
   "metadata": {},
   "outputs": [
    {
     "name": "stdout",
     "output_type": "stream",
     "text": [
      "Good Message Received 1: mayank = DD mayank Johri\n"
     ]
    }
   ],
   "source": [
    "mayank = User(\"DD\", \"mayank\", \"Johri\")\n",
    "\n",
    "match mayank:\n",
    "    case User(first_name=\"Mayank\", last_name=\"Johri\"):\n",
    "        print(\"Default True message received\")\n",
    "        \n",
    "    case User( last_name=\"Johri\", first_name=\"mayank\"):\n",
    "        print(f\"Good Message Received 1: {mayank = }\")\n",
    "    \n",
    "    case User(first_name=\"mayank\", last_name=\"Johri\"):\n",
    "        print(f\"Good Message Received 2: {mayank = }\")\n",
    "    \n",
    "    case (False, msg):\n",
    "        print(f\"Bad Message Received: {msg}\")\n",
    "    \n",
    "    case _:\n",
    "        print(f\"{mayank = }\")"
   ]
  },
  {
   "cell_type": "markdown",
   "metadata": {},
   "source": [
    "### `Enum` and `match`"
   ]
  },
  {
   "cell_type": "code",
   "execution_count": 53,
   "metadata": {},
   "outputs": [
    {
     "name": "stdout",
     "output_type": "stream",
     "text": [
      "Task is running\n"
     ]
    }
   ],
   "source": [
    "from enum import Enum\n",
    "\n",
    "class Status(Enum):\n",
    "    RUNNING = \"0\"\n",
    "    PENDING = 1\n",
    "    COMPLETED = \"Done\"\n",
    "    \n",
    "data = Status.RUNNING\n",
    "\n",
    "\n",
    "match data:\n",
    "    case Status.RUNNING:\n",
    "        print(\"Task is running\")\n",
    "    case Status.PENDING:\n",
    "        print(\"Task is pending\")\n",
    "    case Status.COMPLETED:\n",
    "        print(\"Task is COMPLETED\")"
   ]
  }
 ],
 "metadata": {
  "kernelspec": {
   "display_name": "Python 3 (ipykernel)",
   "language": "python",
   "name": "python3"
  },
  "language_info": {
   "codemirror_mode": {
    "name": "ipython",
    "version": 3
   },
   "file_extension": ".py",
   "mimetype": "text/x-python",
   "name": "python",
   "nbconvert_exporter": "python",
   "pygments_lexer": "ipython3",
   "version": "3.9.9"
  }
 },
 "nbformat": 4,
 "nbformat_minor": 2
}
