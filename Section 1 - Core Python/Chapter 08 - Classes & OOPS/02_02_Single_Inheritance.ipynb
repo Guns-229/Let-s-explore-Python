{
 "cells": [
  {
   "cell_type": "markdown",
   "metadata": {},
   "source": [
    "## Why Inheritance"
   ]
  },
  {
   "cell_type": "markdown",
   "metadata": {},
   "source": [
    " \n",
    "- Gets rid of Code duplication \n",
    "- Easy to maintain the code etc\n"
   ]
  },
  {
   "cell_type": "markdown",
   "metadata": {},
   "source": [
    "## Single Inheritance"
   ]
  },
  {
   "cell_type": "markdown",
   "metadata": {},
   "source": [
    "In single inheritance, any client class inherits from only one immediate parent class. Lets look at the below example which contains `Pen` as parent and `BallPen` & `InkPen` as clildren of it. "
   ]
  },
  {
   "cell_type": "code",
   "execution_count": 1,
   "metadata": {},
   "outputs": [],
   "source": [
    "class Pen(object):\n",
    "    \"\"\"\n",
    "    Should implement all the common features \n",
    "    \"\"\"\n",
    "    \n",
    "    def __init__(self, size, name):\n",
    "        self.name = name\n",
    "        self.size = size\n",
    "    \n",
    "    def set_name(self, name):\n",
    "        self.name = name\n",
    "\n",
    "    def set_size(self, size):\n",
    "        self.size = size\n",
    "        \n",
    "class BallPen(Pen):\n",
    "    \"\"\"\n",
    "    Only the unique features should be implemented in child classes.\n",
    "    \"\"\"\n",
    "    \n",
    "    def __init__(self, size, name, color):\n",
    "        self.color = color\n",
    "        super().__init__(size, name)\n",
    "    \n",
    "    def set_color(self, color):\n",
    "        self.color = color\n",
    "\n",
    "\n",
    "class InkPen(Pen):\n",
    "    def __init__(self, size, name, cart_type):\n",
    "        self.cart = cart_type\n",
    "        super().__init__(size, name)\n",
    "        "
   ]
  },
  {
   "cell_type": "markdown",
   "metadata": {},
   "source": [
    "`BallPen` & `InkPen` both are initializing the parent class using `super().__init(size, name)` function. Now lets create few objects of both,"
   ]
  },
  {
   "cell_type": "code",
   "execution_count": 2,
   "metadata": {},
   "outputs": [
    {
     "name": "stdout",
     "output_type": "stream",
     "text": [
      "Renolds\n"
     ]
    }
   ],
   "source": [
    "pb = BallPen(10, \"Renolds\", \"Green\")\n",
    "\n",
    "print(pb.name)"
   ]
  },
  {
   "cell_type": "code",
   "execution_count": 3,
   "metadata": {},
   "outputs": [
    {
     "name": "stdout",
     "output_type": "stream",
     "text": [
      "Cello\n",
      "{'color': 'Green', 'name': 'Cello', 'size': 10}\n"
     ]
    }
   ],
   "source": [
    "pb.set_name(\"Cello\")\n",
    "print(pb.name)\n",
    "print(pb.__dict__)"
   ]
  },
  {
   "cell_type": "code",
   "execution_count": 4,
   "metadata": {},
   "outputs": [
    {
     "name": "stdout",
     "output_type": "stream",
     "text": [
      "Renolds\n"
     ]
    }
   ],
   "source": [
    "ip = InkPen(size=\"10 cm\", cart_type=\"2 MM\", name=\"Renolds\")\n",
    "print(ip.name)"
   ]
  },
  {
   "cell_type": "code",
   "execution_count": 5,
   "metadata": {},
   "outputs": [
    {
     "name": "stdout",
     "output_type": "stream",
     "text": [
      "Cello\n",
      "{'cart': '2 MM', 'name': 'Cello', 'size': '10 cm'}\n"
     ]
    }
   ],
   "source": [
    "ip.set_name(\"Cello\")\n",
    "print(ip.name)\n",
    "print(ip.__dict__)"
   ]
  },
  {
   "cell_type": "code",
   "execution_count": 6,
   "metadata": {},
   "outputs": [],
   "source": [
    "class grand_parent(object):\n",
    "    def __init__(self, middle_name):\n",
    "        print(\"grand_parent init\")\n",
    "        self.middle_name = middle_name\n",
    "        \n",
    "    def middle_name(self, middle_name):\n",
    "        self.middle_name = middle_name\n",
    "        return self.middle_name"
   ]
  },
  {
   "cell_type": "markdown",
   "metadata": {},
   "source": [
    "Lets create a `parent` class which inherits `grand_parent` class, note we have used `super().__init__(middle_name)` to set middle name using parents function `middle_name`. "
   ]
  },
  {
   "cell_type": "code",
   "execution_count": 7,
   "metadata": {},
   "outputs": [],
   "source": [
    "class parent(grand_parent):\n",
    "    def __init__(self, middle_name, surname):\n",
    "        print(\"parent init\")\n",
    "        self.surname = surname\n",
    "        super().__init__(middle_name)\n",
    "    \n",
    "    def surname_name(self):\n",
    "        return self.surname"
   ]
  },
  {
   "cell_type": "markdown",
   "metadata": {},
   "source": [
    "Now lets create the `student` which inherits `parent` class. Check its init also. "
   ]
  },
  {
   "cell_type": "code",
   "execution_count": 8,
   "metadata": {},
   "outputs": [],
   "source": [
    "class student(parent):\n",
    "    def __init__(self, name, middle_name, surname):\n",
    "        print(\"student init\")\n",
    "        self.name = name\n",
    "        super().__init__(middle_name, surname)\n",
    "        \n",
    "    def test(self):\n",
    "        # this will also fail use surname_name instead. \n",
    "        return self.surname\n",
    "    \n",
    "    def get_fullname(self):\n",
    "        # Cannot directly access them,\n",
    "        return F\"{self.name} {self.middle_name} {self.surname}\""
   ]
  },
  {
   "cell_type": "code",
   "execution_count": 9,
   "metadata": {},
   "outputs": [
    {
     "name": "stdout",
     "output_type": "stream",
     "text": [
      "student init\n",
      "parent init\n",
      "grand_parent init\n"
     ]
    }
   ],
   "source": [
    "mohan = student(\"Venkat\", \"kumar\", \"Mohan\")"
   ]
  },
  {
   "cell_type": "markdown",
   "metadata": {},
   "source": [
    "Check the order of `init`'s being called. "
   ]
  },
  {
   "cell_type": "code",
   "execution_count": 10,
   "metadata": {},
   "outputs": [
    {
     "name": "stdout",
     "output_type": "stream",
     "text": [
      "kumar\n"
     ]
    }
   ],
   "source": [
    "print(mohan.middle_name)"
   ]
  },
  {
   "cell_type": "code",
   "execution_count": 11,
   "metadata": {},
   "outputs": [
    {
     "name": "stdout",
     "output_type": "stream",
     "text": [
      "KUMAR\n"
     ]
    }
   ],
   "source": [
    "mohan.middle_name = \"KUMAR\"\n",
    "print(mohan.middle_name)"
   ]
  },
  {
   "cell_type": "code",
   "execution_count": 12,
   "metadata": {},
   "outputs": [
    {
     "name": "stdout",
     "output_type": "stream",
     "text": [
      "['__class__', '__delattr__', '__dict__', '__dir__', '__doc__', '__eq__', '__format__', '__ge__', '__getattribute__', '__gt__', '__hash__', '__init__', '__init_subclass__', '__le__', '__lt__', '__module__', '__ne__', '__new__', '__reduce__', '__reduce_ex__', '__repr__', '__setattr__', '__sizeof__', '__str__', '__subclasshook__', '__weakref__', 'get_fullname', 'middle_name', 'name', 'surname', 'surname_name', 'test']\n"
     ]
    }
   ],
   "source": [
    "print(dir(mohan))"
   ]
  },
  {
   "cell_type": "code",
   "execution_count": 13,
   "metadata": {},
   "outputs": [
    {
     "name": "stdout",
     "output_type": "stream",
     "text": [
      "Mohan\n"
     ]
    }
   ],
   "source": [
    "print(mohan.test())"
   ]
  },
  {
   "cell_type": "markdown",
   "metadata": {},
   "source": [
    "Now lets create the same classes without init functions, and see what happens"
   ]
  },
  {
   "cell_type": "code",
   "execution_count": 14,
   "metadata": {},
   "outputs": [],
   "source": [
    "class grand_parent:\n",
    "    def __init__(self, middle_name):\n",
    "        print(\"grand_parent init\")\n",
    "        self.middle_name = middle_name\n",
    "        \n",
    "    def middle_name(self, middle_name):\n",
    "        self.middle_name = middle_name\n",
    "        return self.middle_name\n",
    "\n",
    "class parent(grand_parent):\n",
    "    def __init__(self, middle_name, surname):\n",
    "        print(\"parent init\")\n",
    "        self.surname = surname\n",
    "    \n",
    "    def middle_name(self):\n",
    "        return self.middle_name\n",
    "    \n",
    "    \n",
    "class student(parent):\n",
    "    def __init__(self, name, middle_name, surname):\n",
    "        print(\"student init\")\n",
    "        self.name = name"
   ]
  },
  {
   "cell_type": "code",
   "execution_count": 15,
   "metadata": {},
   "outputs": [
    {
     "name": "stdout",
     "output_type": "stream",
     "text": [
      "student init\n"
     ]
    }
   ],
   "source": [
    "mohan = student(\"Venkat\", \"kumar\", \"Mohan\")"
   ]
  },
  {
   "cell_type": "code",
   "execution_count": 16,
   "metadata": {},
   "outputs": [
    {
     "name": "stdout",
     "output_type": "stream",
     "text": [
      "<bound method parent.middle_name of <__main__.student object at 0x7fc6c757e710>>\n"
     ]
    }
   ],
   "source": [
    "try:\n",
    "    print(mohan.middle_name())\n",
    "except Exception as e:\n",
    "    print(e)"
   ]
  },
  {
   "cell_type": "code",
   "execution_count": 17,
   "metadata": {},
   "outputs": [
    {
     "name": "stdout",
     "output_type": "stream",
     "text": [
      "test Hello\n"
     ]
    }
   ],
   "source": [
    "class A(object):\n",
    "    def test(self, a):\n",
    "        print(\"test\", a)\n",
    "        \n",
    "class B(A):\n",
    "    def testing(self, b):\n",
    "        print(\"testing\", b)\n",
    "    \n",
    "class C(B):\n",
    "    def test_c(self, c):\n",
    "        super().test(c)\n",
    "        \n",
    "c = C()\n",
    "c.test_c(\"Hello\")"
   ]
  },
  {
   "cell_type": "code",
   "execution_count": 18,
   "metadata": {},
   "outputs": [
    {
     "name": "stdout",
     "output_type": "stream",
     "text": [
      "test Hello\n"
     ]
    }
   ],
   "source": [
    "class A(object):\n",
    "    def test(self, a):\n",
    "        print(\"test\", a)\n",
    "        \n",
    "class B(A):\n",
    "    def testing(self, b):\n",
    "        print(\"testing\", b)\n",
    "    \n",
    "class C(B):\n",
    "    def test_c(self, c):\n",
    "        self.test(c)\n",
    "        \n",
    "c = C()\n",
    "c.test_c(\"Hello\")"
   ]
  },
  {
   "cell_type": "markdown",
   "metadata": {},
   "source": [
    "### Why `super` when `self` can also do similar task"
   ]
  },
  {
   "cell_type": "markdown",
   "metadata": {},
   "source": [
    "super can be called to explicitly call functions as shown in the below code. we are directly calling `A.test` and skipping `B.test` "
   ]
  },
  {
   "cell_type": "code",
   "execution_count": 19,
   "metadata": {},
   "outputs": [
    {
     "name": "stdout",
     "output_type": "stream",
     "text": [
      "test A Hello\n"
     ]
    }
   ],
   "source": [
    "class A(object):\n",
    "    def test(self, a):\n",
    "        print(\"test A\", a)\n",
    "        \n",
    "class B(A):\n",
    "    def test(self, b):\n",
    "        print(\"test B\", b)\n",
    "    \n",
    "class C(B):\n",
    "    def test_c(self, c):\n",
    "        # It will search for B's parent and run the `test`\n",
    "        # function from `A`, as `A` is `B`'s parent.\n",
    "        super(B, self).test(c)\n",
    "        \n",
    "c = C()\n",
    "c.test_c(\"Hello\")"
   ]
  },
  {
   "cell_type": "code",
   "execution_count": 20,
   "metadata": {},
   "outputs": [
    {
     "name": "stdout",
     "output_type": "stream",
     "text": [
      "test B Hello\n"
     ]
    }
   ],
   "source": [
    "class A(object):\n",
    "    def test(self, a):\n",
    "        print(\"test A\", a)\n",
    "        \n",
    "class B(A):\n",
    "    def test(self, b):\n",
    "        print(\"test B\", b)\n",
    "    \n",
    "class C(B):\n",
    "    def test_c(self, c):\n",
    "        self.test(c)\n",
    "        \n",
    "c = C()\n",
    "c.test_c(\"Hello\")"
   ]
  },
  {
   "cell_type": "code",
   "execution_count": 21,
   "metadata": {},
   "outputs": [],
   "source": [
    "class A(object):\n",
    "    def test(self, a):\n",
    "        print(\"test A\", a)\n",
    "        \n",
    "class B(A):\n",
    "    def test(self, b):\n",
    "        print(\"test B\", b)\n",
    "    \n",
    "class C(B):\n",
    "    def test(self, c):\n",
    "        print(\"test C\")\n",
    "        # A->test will execute\n",
    "        super(B, self).test(c)\n",
    "        \n",
    "class D(C):\n",
    "    def test(self, txt):\n",
    "        # B -> test will execute\n",
    "        super(C, self).test(txt)\n",
    "\n",
    "    def test_b(self, txt):\n",
    "        # A->test will execute\n",
    "        super(B, self).test(txt)\n",
    "    \n",
    "    def test_c(self, txt):\n",
    "        # C->test will execute\n",
    "        super().test(txt)"
   ]
  },
  {
   "cell_type": "code",
   "execution_count": 22,
   "metadata": {},
   "outputs": [
    {
     "name": "stdout",
     "output_type": "stream",
     "text": [
      "test B Testing\n"
     ]
    }
   ],
   "source": [
    "d = D()\n",
    "d.test(\"Testing\")"
   ]
  },
  {
   "cell_type": "code",
   "execution_count": 23,
   "metadata": {},
   "outputs": [
    {
     "name": "stdout",
     "output_type": "stream",
     "text": [
      "test A Testing b\n"
     ]
    }
   ],
   "source": [
    "d.test_b(\"Testing b\")"
   ]
  },
  {
   "cell_type": "code",
   "execution_count": 24,
   "metadata": {},
   "outputs": [
    {
     "name": "stdout",
     "output_type": "stream",
     "text": [
      "test C\n",
      "test A testing c\n"
     ]
    }
   ],
   "source": [
    "d.test_c(\"testing c\")"
   ]
  },
  {
   "cell_type": "markdown",
   "metadata": {},
   "source": [
    "### Class Private variable and inheritance"
   ]
  },
  {
   "cell_type": "markdown",
   "metadata": {},
   "source": [
    "The PEP 8 Python Style Guide has this to say about private name mangling:\n",
    "\n",
    "> If your class is intended to be subclassed, and you have attributes that you do not want subclasses to use, consider naming them with double leading underscores and no trailing underscores. This invokes Python's name mangling algorithm, where the name of the class is mangled into the attribute name. This helps avoid attribute name collisions should subclasses inadvertently contain attributes with the same name.\n",
    "\n",
    "Note 1: Note that only the simple class name is used in the mangled name, so if a subclass chooses both the same class name and attribute name, you can still get name collisions.\n",
    "\n",
    "Note 2: Name mangling can make certain uses, such as debugging and  __getattr__(), less convenient. However the name mangling algorithm is well documented and easy to perform manually.\n",
    "\n",
    "Note 3: Not everyone likes name mangling. Try to balance the need to avoid accidental name clashes with potential use by advanced callers.\n",
    "\n",
    "Also PEP8 says\n",
    "\n",
    "> Use one leading underscore only for non-public methods and instance variables.\n",
    "\n",
    "> To avoid name clashes with subclasses, use two leading underscores to invoke Python's name mangling rules.\n",
    "\n",
    "> Python mangles these names with the class name: if class Foo has an attribute named `__a`, it cannot be accessed by `Foo.__a`. (An insistent user could still gain access by calling `Foo._Foo__a`.) Generally, double leading underscores should be used only to avoid name conflicts with attributes in classes designed to be subclassed."
   ]
  },
  {
   "cell_type": "code",
   "execution_count": 25,
   "metadata": {},
   "outputs": [],
   "source": [
    "class Parent(object):\n",
    "    \n",
    "    def __init__(self, middle_name, surname):\n",
    "        print(\"parent init\")\n",
    "        self.__surname = surname\n",
    "        self.__middle_name = middle_name\n",
    "    \n",
    "    def surname(self):\n",
    "        return self.__surname\n",
    "\n",
    "\n",
    "class Student(Parent):\n",
    "\n",
    "    def __init__(self, name, middle_name, surname):\n",
    "        super().__init__(middle_name, surname)\n",
    "        print(\"student init\")\n",
    "        self.name = name\n",
    "    \n",
    "    def full_name(self):\n",
    "        print(self.name, self.__middle_name, self.__surname)"
   ]
  },
  {
   "cell_type": "code",
   "execution_count": 26,
   "metadata": {},
   "outputs": [
    {
     "name": "stdout",
     "output_type": "stream",
     "text": [
      "parent init\n",
      "student init\n",
      "Surname: Shah\n",
      "'Student' object has no attribute '_Student__middle_name'\n"
     ]
    }
   ],
   "source": [
    "sachin = Student(\"Sachin\", \"Kumar\", \"Shah\")\n",
    "\n",
    "try:\n",
    "    print(f\"Surname: {sachin.surname()}\")\n",
    "    sachin.full_name()\n",
    "except Exception as e:\n",
    "    print(e)"
   ]
  },
  {
   "cell_type": "code",
   "execution_count": 27,
   "metadata": {},
   "outputs": [
    {
     "name": "stdout",
     "output_type": "stream",
     "text": [
      "['_Parent__middle_name', '_Parent__surname', '__class__', '__delattr__', '__dict__', '__dir__', '__doc__', '__eq__', '__format__', '__ge__', '__getattribute__', '__gt__', '__hash__', '__init__', '__init_subclass__', '__le__', '__lt__', '__module__', '__ne__', '__new__', '__reduce__', '__reduce_ex__', '__repr__', '__setattr__', '__sizeof__', '__str__', '__subclasshook__', '__weakref__', 'full_name', 'name', 'surname']\n"
     ]
    }
   ],
   "source": [
    "print(dir(sachin))"
   ]
  },
  {
   "cell_type": "code",
   "execution_count": 28,
   "metadata": {},
   "outputs": [],
   "source": [
    "class Student(Parent):\n",
    "    def __init__(self, name, middle_name, surname):\n",
    "        super().__init__(middle_name, surname)\n",
    "        print(\"student init\")\n",
    "        self.name = name\n",
    "    \n",
    "    def full_name(self):\n",
    "        print(self.name, super().__middle_name, super().__surname)"
   ]
  },
  {
   "cell_type": "code",
   "execution_count": 29,
   "metadata": {},
   "outputs": [
    {
     "name": "stdout",
     "output_type": "stream",
     "text": [
      "parent init\n",
      "student init\n",
      "Johri\n",
      "'super' object has no attribute '_Student__middle_name'\n"
     ]
    }
   ],
   "source": [
    "sachin = Student(\"Janki\", \"Mohan\", \"Johri\")\n",
    "try:\n",
    "    print(sachin.surname())\n",
    "    sachin.full_name()\n",
    "except Exception as e:\n",
    "    print(e)"
   ]
  },
  {
   "cell_type": "markdown",
   "metadata": {},
   "source": [
    "So, you cannot directly access parents private variables, but only through parent class funcitons such as `surname`."
   ]
  },
  {
   "cell_type": "code",
   "execution_count": 30,
   "metadata": {},
   "outputs": [],
   "source": [
    "# Lets use our hack to read private variables.\n",
    "class Student(Parent):\n",
    "    def __init__(self, name, middle_name, surname):\n",
    "        super().__init__(middle_name, surname)\n",
    "        print(\"student init\")\n",
    "        self.name = name\n",
    "    \n",
    "    def full_name(self):\n",
    "        print(self.name, self._Parent__middle_name, self._Parent__surname)"
   ]
  },
  {
   "cell_type": "code",
   "execution_count": 31,
   "metadata": {},
   "outputs": [
    {
     "name": "stdout",
     "output_type": "stream",
     "text": [
      "parent init\n",
      "student init\n",
      "Johri\n",
      "Janki Mohan Johri\n"
     ]
    }
   ],
   "source": [
    "sachin = Student(\"Janki\", \"Mohan\", \"Johri\")\n",
    "try:\n",
    "    print(sachin.surname())\n",
    "    sachin.full_name()\n",
    "except Exception as e:\n",
    "    print(e)"
   ]
  },
  {
   "cell_type": "markdown",
   "metadata": {},
   "source": [
    "#### Gotcha's 1"
   ]
  },
  {
   "cell_type": "markdown",
   "metadata": {},
   "source": [
    "```python\n",
    ">>> class Sample(object):\n",
    "...     def sample(self, test):\n",
    "...             print(test)\n",
    "... \n",
    ">>> s = Sample()\n",
    ">>> s.sample()\n",
    "Traceback (most recent call last):\n",
    "  File \"<stdin>\", line 1, in <module>\n",
    "TypeError: sample() missing 1 required positional argument: 'test'\n",
    ">>> s.sample(\"test1\", \"test2\")\n",
    "Traceback (most recent call last):\n",
    "  File \"<stdin>\", line 1, in <module>\n",
    "TypeError: sample() takes 2 positional arguments but 3 were given\n",
    "```\n",
    "Since function sample also gets `self` along with `test1` & `test2` arguments, thus the count is 3 instead of 2.\n"
   ]
  },
  {
   "cell_type": "code",
   "execution_count": null,
   "metadata": {},
   "outputs": [],
   "source": []
  }
 ],
 "metadata": {
  "kernelspec": {
   "display_name": "Python 3 (ipykernel)",
   "language": "python",
   "name": "python3"
  },
  "language_info": {
   "codemirror_mode": {
    "name": "ipython",
    "version": 3
   },
   "file_extension": ".py",
   "mimetype": "text/x-python",
   "name": "python",
   "nbconvert_exporter": "python",
   "pygments_lexer": "ipython3",
   "version": "3.9.9"
  }
 },
 "nbformat": 4,
 "nbformat_minor": 1
}
