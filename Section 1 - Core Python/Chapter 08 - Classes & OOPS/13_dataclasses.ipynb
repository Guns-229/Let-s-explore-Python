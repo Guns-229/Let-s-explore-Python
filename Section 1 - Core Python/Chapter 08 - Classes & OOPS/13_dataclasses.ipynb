{
 "cells": [
  {
   "cell_type": "markdown",
   "metadata": {},
   "source": [
    "## `dataclasses` - Work In Progress"
   ]
  },
  {
   "cell_type": "markdown",
   "metadata": {},
   "source": [
    "`dataclasses` provides a way to create classes whose main objective is only or mostly to store data. That is, they will primarily be used to store a set of data in logical group, which should be accessed using its Attributes. \n",
    "\n",
    "Lets take an example, We are in need to mechanism to store a point in space {and not space-time ;)}. For that we need only three data points to be stored, i.e. `x`, `y` and `z` cordinates."
   ]
  },
  {
   "cell_type": "code",
   "execution_count": 1,
   "metadata": {},
   "outputs": [],
   "source": [
    "from dataclasses import dataclass\n",
    "\n",
    "@dataclass\n",
    "class Point:\n",
    "    x: float \n",
    "    y: float = 0.0  # Setting default values\n",
    "    z: float = 0.0  # Setting default values"
   ]
  },
  {
   "cell_type": "code",
   "execution_count": 3,
   "metadata": {},
   "outputs": [
    {
     "name": "stdout",
     "output_type": "stream",
     "text": [
      "pZero = Point(x=0, y=0.0, z=0.0)\n",
      "dir(pZero) = ['__annotations__', '__class__', '__dataclass_fields__', '__dataclass_params__', '__delattr__', '__dict__', '__dir__', '__doc__', '__eq__', '__format__', '__ge__', '__getattribute__', '__gt__', '__hash__', '__init__', '__init_subclass__', '__le__', '__lt__', '__match_args__', '__module__', '__ne__', '__new__', '__reduce__', '__reduce_ex__', '__repr__', '__setattr__', '__sizeof__', '__str__', '__subclasshook__', '__weakref__', 'x', 'y', 'z']\n"
     ]
    }
   ],
   "source": [
    "pZero = Point(0)\n",
    "print(f\"{pZero = }\")\n",
    "print(f\"{dir(pZero) = }\")"
   ]
  },
  {
   "cell_type": "markdown",
   "metadata": {},
   "source": [
    "We can also create dataclass as shown below"
   ]
  },
  {
   "cell_type": "code",
   "execution_count": 4,
   "metadata": {},
   "outputs": [],
   "source": [
    "from dataclasses import make_dataclass\n",
    "\n",
    "DynamicPoint = make_dataclass(\"Point\", (\"x\", \"y\", \"z\"))\n",
    "\n",
    "dp = DynamicPoint(1, 2, 3)"
   ]
  },
  {
   "cell_type": "code",
   "execution_count": 6,
   "metadata": {},
   "outputs": [
    {
     "name": "stdout",
     "output_type": "stream",
     "text": [
      "Point(x=1, y=2, z=3)\n",
      "['__annotations__', '__class__', '__dataclass_fields__', '__dataclass_params__', '__delattr__', '__dict__', '__dir__', '__doc__', '__eq__', '__format__', '__ge__', '__getattribute__', '__gt__', '__hash__', '__init__', '__init_subclass__', '__le__', '__lt__', '__match_args__', '__module__', '__ne__', '__new__', '__reduce__', '__reduce_ex__', '__repr__', '__setattr__', '__sizeof__', '__str__', '__subclasshook__', '__weakref__', 'x', 'y', 'z']\n"
     ]
    }
   ],
   "source": [
    "print(dp)\n",
    "print(dir(dp))"
   ]
  },
  {
   "cell_type": "markdown",
   "metadata": {},
   "source": [
    "as you can see in both the above cases, `__init__` function was automatically created.  "
   ]
  },
  {
   "cell_type": "markdown",
   "metadata": {},
   "source": [
    "Also following attributes are already created `__eq__`,  `__ge__`, `__gt__`, `__le__`, `__lt__`, `__ne__`, `__repr__`, but some of them have not been implemented as shown below"
   ]
  },
  {
   "cell_type": "code",
   "execution_count": 7,
   "metadata": {},
   "outputs": [
    {
     "name": "stdout",
     "output_type": "stream",
     "text": [
      "NotImplemented\n"
     ]
    }
   ],
   "source": [
    "print(dp.__ge__(pZero))"
   ]
  },
  {
   "cell_type": "markdown",
   "metadata": {},
   "source": [
    "thus when we try to use them we get "
   ]
  },
  {
   "cell_type": "code",
   "execution_count": 8,
   "metadata": {},
   "outputs": [
    {
     "name": "stdout",
     "output_type": "stream",
     "text": [
      "'>=' not supported between instances of 'Point' and 'Point'\n"
     ]
    }
   ],
   "source": [
    "try:\n",
    "    print(dp >= pZero)\n",
    "except TypeError as te:\n",
    "    print(te)"
   ]
  },
  {
   "cell_type": "markdown",
   "metadata": {},
   "source": [
    "and only `__eq__`, `__ne__` and `__repr__` have been implemented by default as shown below"
   ]
  },
  {
   "cell_type": "code",
   "execution_count": 10,
   "metadata": {},
   "outputs": [
    {
     "name": "stdout",
     "output_type": "stream",
     "text": [
      "Point(x=1, y=2, z=3)\n",
      "Point(x=1, y=2, z=3)\n"
     ]
    }
   ],
   "source": [
    "print(dp.__repr__())\n",
    "print(dp)"
   ]
  },
  {
   "cell_type": "code",
   "execution_count": 13,
   "metadata": {},
   "outputs": [
    {
     "data": {
      "text/plain": [
       "False"
      ]
     },
     "execution_count": 13,
     "metadata": {},
     "output_type": "execute_result"
    }
   ],
   "source": [
    "dp == pZero"
   ]
  },
  {
   "cell_type": "code",
   "execution_count": 15,
   "metadata": {},
   "outputs": [
    {
     "data": {
      "text/plain": [
       "True"
      ]
     },
     "execution_count": 15,
     "metadata": {},
     "output_type": "execute_result"
    }
   ],
   "source": [
    "dp != pZero"
   ]
  },
  {
   "cell_type": "code",
   "execution_count": 19,
   "metadata": {},
   "outputs": [
    {
     "data": {
      "text/plain": [
       "True"
      ]
     },
     "execution_count": 19,
     "metadata": {},
     "output_type": "execute_result"
    }
   ],
   "source": [
    "dp2 = DynamicPoint(1, 2, 3)\n",
    "\n",
    "# In normal objects as __eq__ is not implemented this would return `False`\n",
    "dp == dp2  "
   ]
  },
  {
   "cell_type": "markdown",
   "metadata": {},
   "source": [
    "Above code failed because we have not implemented any of the functions. `@dataclass(init=True, repr=True, eq=True, order=False, unsafe_hash=False, frozen=False)`"
   ]
  },
  {
   "cell_type": "markdown",
   "metadata": {},
   "source": [
    "## dataclass decorator options"
   ]
  },
  {
   "cell_type": "markdown",
   "metadata": {},
   "source": [
    "`dataclass` decorator provides few options as shown below with their default values. In this section we are going to see the effects of them on the resultant data."
   ]
  },
  {
   "cell_type": "code",
   "execution_count": 21,
   "metadata": {},
   "outputs": [],
   "source": [
    "@dataclass(init=True, repr=True, eq=True, order=False, unsafe_hash=False, frozen=False)\n",
    "class Point:\n",
    "    x: float \n",
    "    y: float = 0.0  # Setting default values\n",
    "    z: float = 0.0  # Setting default values"
   ]
  },
  {
   "cell_type": "markdown",
   "metadata": {},
   "source": [
    "#### Effects of `Order=True`"
   ]
  },
  {
   "cell_type": "markdown",
   "metadata": {},
   "source": [
    "`Order=True` options is responsible of automatically implementing the `__ge__`, `__gt__`, `__le__`, `__lt__` functions as shown in the below example."
   ]
  },
  {
   "cell_type": "code",
   "execution_count": 11,
   "metadata": {},
   "outputs": [],
   "source": [
    "@dataclass(order=True)\n",
    "class Point:\n",
    "    x: float \n",
    "    y: float = 0.0  # Setting default values\n",
    "    z: float = 0.0  # Setting default values"
   ]
  },
  {
   "cell_type": "code",
   "execution_count": 22,
   "metadata": {},
   "outputs": [
    {
     "name": "stdout",
     "output_type": "stream",
     "text": [
      "pOne=Point(x=1, y=2, z=1)\n",
      "pTwo=Point(x=1, y=5, z=1)\n"
     ]
    }
   ],
   "source": [
    "pOne = Point(1, 2, 1)\n",
    "print(f\"{pOne=}\")\n",
    "\n",
    "pTwo = Point(1, 5, 1)\n",
    "print(f\"{pTwo=}\")"
   ]
  },
  {
   "cell_type": "code",
   "execution_count": 13,
   "metadata": {},
   "outputs": [
    {
     "name": "stdout",
     "output_type": "stream",
     "text": [
      "pOne > pTwo=False\n",
      "pOne < pTwo=True\n",
      "pOne >= pTwo=False\n",
      "pOne <= pTwo=True\n",
      "pOne == pTwo=False\n"
     ]
    }
   ],
   "source": [
    "print(f\"{pOne > pTwo=}\")\n",
    "print(f\"{pOne < pTwo=}\")\n",
    "print(f\"{pOne >= pTwo=}\")\n",
    "print(f\"{pOne <= pTwo=}\")\n",
    "print(f\"{pOne == pTwo=}\")"
   ]
  },
  {
   "cell_type": "markdown",
   "metadata": {},
   "source": [
    "#### Effects of `unsafe_hash=False`"
   ]
  },
  {
   "cell_type": "markdown",
   "metadata": {},
   "source": [
    "Effect of `unsafe_hash=False` depends on the values of `eq` and `frozen`"
   ]
  },
  {
   "cell_type": "markdown",
   "metadata": {},
   "source": [
    "|   unsafe_hash  |  eq   | frozen |  Effect                       |\n",
    "|----------------|-------|--------|-------------------------------|\n",
    "| `False`        |`False`|`False` |                               |\n",
    "| `False`        |`False`|`True`  |                               |\n",
    "| `False`        |`True` |`False` | `__hash__()` will be set to None|\n",
    "| `False`        |`True` |`True`  | `__hash__()` will generate    |\n",
    "| `True`         |`False`|`False` |                               |\n",
    "| `True`         |`False`|`True`  |                               |\n",
    "| `True`         |`True` |`False` |                               |\n",
    "| `True`         |`True` |`True`  | `__hash__()` will generate    |"
   ]
  },
  {
   "cell_type": "code",
   "execution_count": 15,
   "metadata": {},
   "outputs": [
    {
     "name": "stdout",
     "output_type": "stream",
     "text": [
      "Point(x=1, y=0.0, z=0.0)\n",
      "['__annotations__', '__class__', '__dataclass_fields__', '__dataclass_params__', '__delattr__', '__dict__', '__dir__', '__doc__', '__eq__', '__format__', '__ge__', '__getattribute__', '__gt__', '__hash__', '__init__', '__init_subclass__', '__le__', '__lt__', '__module__', '__ne__', '__new__', '__reduce__', '__reduce_ex__', '__repr__', '__setattr__', '__sizeof__', '__str__', '__subclasshook__', '__weakref__', 'x', 'y', 'z']\n"
     ]
    },
    {
     "data": {
      "text/plain": [
       "8761049966686"
      ]
     },
     "execution_count": 15,
     "metadata": {},
     "output_type": "execute_result"
    }
   ],
   "source": [
    "@dataclass(eq=False, unsafe_hash=False, frozen=False)\n",
    "class Point:\n",
    "    x: float \n",
    "    y: float = 0.0  # Setting default values\n",
    "    z: float = 0.0  # Setting default values\n",
    "        \n",
    "p = Point(1)\n",
    "print(p)\n",
    "print(dir(p))\n",
    "p.__hash__()"
   ]
  },
  {
   "cell_type": "code",
   "execution_count": 16,
   "metadata": {},
   "outputs": [
    {
     "name": "stdout",
     "output_type": "stream",
     "text": [
      "Point(x=1, y=0.0, z=0.0)\n",
      "['__annotations__', '__class__', '__dataclass_fields__', '__dataclass_params__', '__delattr__', '__dict__', '__dir__', '__doc__', '__eq__', '__format__', '__ge__', '__getattribute__', '__gt__', '__hash__', '__init__', '__init_subclass__', '__le__', '__lt__', '__module__', '__ne__', '__new__', '__reduce__', '__reduce_ex__', '__repr__', '__setattr__', '__sizeof__', '__str__', '__subclasshook__', '__weakref__', 'x', 'y', 'z']\n",
      "False\n"
     ]
    }
   ],
   "source": [
    "@dataclass(unsafe_hash=True, eq=True, frozen=False)\n",
    "class Point:\n",
    "    x: float \n",
    "    y: float = 0.0  # Setting default values\n",
    "    z: float = 0.0  # Setting default values\n",
    "        \n",
    "p = Point(1)\n",
    "print(p)\n",
    "print(dir(p))\n",
    "print(p.__hash__() == None)\n",
    "# p.x = 12\n",
    "# print(p)"
   ]
  },
  {
   "cell_type": "markdown",
   "metadata": {},
   "source": [
    "### Field objects"
   ]
  },
  {
   "cell_type": "markdown",
   "metadata": {},
   "source": [
    "\n",
    "`name`: The name of the field.\n",
    "`type`: The type of the field.\n",
    "\n",
    "`default`, `default_factory`, `init`, `repr`, `hash`, `compare`, and `metadata` have the identical meaning and values as they do in the `field()` declaration.\n"
   ]
  },
  {
   "cell_type": "markdown",
   "metadata": {},
   "source": [
    "## `dataclasses` vs `namedtuple` "
   ]
  },
  {
   "cell_type": "markdown",
   "metadata": {},
   "source": [
    "|  Property  |  dataclasses  | namedtupe   |\n",
    "|:-----------:|:------------:|:-----------:|\n",
    "| Immutable  |  No           | yes         |\n",
    "| Data Access | attributes   | attributes  |\n",
    "| Functions   | Yes          | No          |\n",
    "| Initializer | SortOf       | No          |"
   ]
  },
  {
   "cell_type": "markdown",
   "metadata": {},
   "source": [
    "## Summary"
   ]
  },
  {
   "cell_type": "markdown",
   "metadata": {},
   "source": [
    "|  Feature       | Keyword       | Example                         | Implement in a Class       |\n",
    "|----------------|---------------|---------------------------------|----------------------------|\n",
    "| Attributes     |  `init`       |  `Color().r -> 0`               |  `__init__`                |\n",
    "| Representation |  `repr`       |`Color() -> Color(r=0, g=0, b=0)`|  `__repr__`                |\n",
    "| Comparision*   |  `eq`         |`Color() == Color(0, 0, 0) -> True` |  `__eq__`                                                  |\n",
    "| Order                |  order               |  `sorted([Color(0, 50, 0), Color()]) -> ...`         | `__lt__`, `__le__`, `__gt__`, `__ge__`         |\n",
    "| Hashable             |  `unsafe_hash`/`frozen`  |  `{Color(), {Color()}} -> {Color(r=0, g=0, b=0)}`    |  `__hash__`                               |\n",
    "| Immutable            |  `frozen + eq`         |  `Color().r = 10 -> TypeError`                       |  `__setattr__`, `__delattr__`               |\n",
    "|                      |                      |                                                    |                                         |\n",
    "| Unpacking+           | `-`                   |  `r, g, b = Color()`                                 |   `__iter__`                              |\n",
    "| Optimization+        |  -                   |  `sys.getsizeof(SlottedColor) -> 888`                |  `__slots__ `                             |\n"
   ]
  }
 ],
 "metadata": {
  "kernelspec": {
   "display_name": "Python 3 (ipykernel)",
   "language": "python",
   "name": "python3"
  },
  "language_info": {
   "codemirror_mode": {
    "name": "ipython",
    "version": 3
   },
   "file_extension": ".py",
   "mimetype": "text/x-python",
   "name": "python",
   "nbconvert_exporter": "python",
   "pygments_lexer": "ipython3",
   "version": "3.9.9"
  }
 },
 "nbformat": 4,
 "nbformat_minor": 2
}
