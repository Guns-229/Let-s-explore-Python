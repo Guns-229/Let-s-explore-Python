{
 "cells": [
  {
   "cell_type": "markdown",
   "metadata": {},
   "source": [
    "## Operators"
   ]
  },
  {
   "cell_type": "markdown",
   "metadata": {},
   "source": [
    "We are now going to explore **_Operators_**. They are single or bi character symbols represent a specific type of operation, say addition, multiplication or comparision. \n",
    "\n",
    "Python provides many types of **operators**. We will explore them based on their functionality namely. \n",
    "\n",
    "- Arithmetic Operators\n",
    "- Assignment Operators\n",
    "- Relational Operators\n",
    "- Logical/Boolean Operators\n",
    "- Bitwise Operators\n",
    "- Union Operator"
   ]
  },
  {
   "cell_type": "markdown",
   "metadata": {},
   "source": [
    "### Arithmetic Operators"
   ]
  },
  {
   "cell_type": "markdown",
   "metadata": {},
   "source": [
    "Python supports all most common maths operations as shown in the below table"
   ]
  },
  {
   "cell_type": "markdown",
   "metadata": {},
   "source": [
    "| Syntax \t| Math \t| Operation Name \t|\n",
    "|--------------\t|-------------------------------------------\t|------------------------------------------------------------------\t|\n",
    "| `a + b` \t| a + b \t| addition \t|\n",
    "| `a - b` \t| a - b \t| subtraction \t|\n",
    "| `a * b` \t|  a \\* b   | multiplication \t|\n",
    "| `a / b`\t|  a \\div b  | division (see note below) \t|\n",
    "| `a // b` \t|  a//b \t| floor division (e.g. 5//2=2) \t|\n",
    "| `a % b` \t|  a % b \t| modulo \t| \n",
    "| `-a` \t| -a | negation \t| \n",
    "| abs(a)| <code>&#124; a &#124;</code>\t| absolute value \t|\n",
    "| a**b \t| a**b \t| exponent \t|\n",
    "| math.sqrt(a) \t|  sqrt a  \t| square root \t|\n",
    "\n",
    "> **<center>Note</center>**\n",
    "> In order to use `math.sqrt()` function, you must explicitly load the math module by adding ```import math``` at the top of your file, where all the other modules import's are defined."
   ]
  },
  {
   "cell_type": "markdown",
   "metadata": {},
   "source": [
    "We will explore the below operators with various primary data types  "
   ]
  },
  {
   "cell_type": "markdown",
   "metadata": {},
   "source": [
    "#### Numeric Vs Numeric"
   ]
  },
  {
   "cell_type": "markdown",
   "metadata": {},
   "source": [
    "Following mathemetical operations are supported in python between numeric data"
   ]
  },
  {
   "cell_type": "code",
   "execution_count": 3,
   "metadata": {},
   "outputs": [
    {
     "name": "stdout",
     "output_type": "stream",
     "text": [
      "a = 21.8 , b = 10\n",
      "~~~~~~~~~~~~~~~~~\n",
      "a + b:\t 31.8\n",
      "a - b:\t 11.8\n",
      "a * b:\t 218.0\n",
      "a / b:\t 2.18\n"
     ]
    }
   ],
   "source": [
    "a = 21.8\n",
    "b = 10\n",
    "\n",
    "print(\"a =\", a, \", b =\", b)\n",
    "print(\"~~~~~~~~~~~~~~~~~\")\n",
    "print(\"a + b:\\t\", a + b)\n",
    "print(\"a - b:\\t\", a - b)\n",
    "print(\"a * b:\\t\", a * b)\n",
    "print(\"a / b:\\t\", a / b)"
   ]
  },
  {
   "cell_type": "code",
   "execution_count": 4,
   "metadata": {},
   "outputs": [
    {
     "name": "stdout",
     "output_type": "stream",
     "text": [
      "a//b:\t 2.0\n",
      "a % b:\t 1.8000000000000007\n",
      "a**b:\t 24241804027823.29\n",
      "-a:\t -21.8\n"
     ]
    }
   ],
   "source": [
    "print(\"a//b:\\t\", a//b)\n",
    "print(\"a % b:\\t\", a % b)\n",
    "print(\"a**b:\\t\", a**b)\n",
    "print(\"-a:\\t\", -a)"
   ]
  },
  {
   "cell_type": "code",
   "execution_count": 5,
   "metadata": {},
   "outputs": [
    {
     "name": "stdout",
     "output_type": "stream",
     "text": [
      "abs(x):\t 10\n",
      "sqrt(a): 4.669047011971501\n"
     ]
    }
   ],
   "source": [
    "x = -10\n",
    "print(\"abs(x):\\t\", abs(x))\n",
    "import math\n",
    "print(\"sqrt(a):\", math.sqrt(a))"
   ]
  },
  {
   "cell_type": "markdown",
   "metadata": {},
   "source": [
    "##### Relational Operators"
   ]
  },
  {
   "cell_type": "code",
   "execution_count": 3,
   "metadata": {},
   "outputs": [
    {
     "name": "stdout",
     "output_type": "stream",
     "text": [
      "a < b:\t True\n",
      "a > b:\t False\n",
      "a <= b:\t True\n",
      "a >= b:\t False\n"
     ]
    }
   ],
   "source": [
    "a = 10.26\n",
    "b = 22\n",
    "\n",
    "print(\"a < b:\\t\", a < b)\n",
    "print(\"a > b:\\t\", a > b)\n",
    "print(\"a <= b:\\t\", a <= b)\n",
    "print(\"a >= b:\\t\", a >= b)"
   ]
  },
  {
   "cell_type": "markdown",
   "metadata": {},
   "source": [
    "#### Numeric Vs String"
   ]
  },
  {
   "cell_type": "code",
   "execution_count": 4,
   "metadata": {},
   "outputs": [
    {
     "name": "stdout",
     "output_type": "stream",
     "text": [
      "a = ~ , b = 22\n",
      "~~~~~~~~~~~~~~\n"
     ]
    }
   ],
   "source": [
    "a = \"~\"\n",
    "b = 22\n",
    "print(\"a =\", a, \", b =\", b)\n",
    "print(a * 14)"
   ]
  },
  {
   "cell_type": "code",
   "execution_count": 6,
   "metadata": {},
   "outputs": [
    {
     "name": "stdout",
     "output_type": "stream",
     "text": [
      "a + b:\t 31.8\n",
      "a - b:\t 11.8\n"
     ]
    }
   ],
   "source": [
    "try:\n",
    "    print(\"a + b:\\t\", a + b)\n",
    "except TypeError as te:\n",
    "    print(te)\n",
    "try:\n",
    "    print(\"a - b:\\t\", a - b)\n",
    "except TypeError as te:\n",
    "    print(te)"
   ]
  },
  {
   "cell_type": "code",
   "execution_count": 7,
   "metadata": {},
   "outputs": [
    {
     "name": "stdout",
     "output_type": "stream",
     "text": [
      "a * b:\t ~~~~~~~~~~~~~~~~~~~~~~ 22\n"
     ]
    }
   ],
   "source": [
    "c = a * b\n",
    "print(\"a * b:\\t\", c, len(c))"
   ]
  },
  {
   "cell_type": "code",
   "execution_count": 9,
   "metadata": {},
   "outputs": [
    {
     "name": "stdout",
     "output_type": "stream",
     "text": [
      "Rama Rama Rama Rama Rama Rama Rama Rama Rama Rama \n",
      "50\n"
     ]
    }
   ],
   "source": [
    "# String VS Int\n",
    "\n",
    "a = \"Rama \"\n",
    "bla = a * 10\n",
    "\n",
    "print(bla)\n",
    "print(len(bla))"
   ]
  },
  {
   "cell_type": "markdown",
   "metadata": {},
   "source": [
    "As shown above only `*` multiplication is possible between string & real numeric value"
   ]
  },
  {
   "cell_type": "code",
   "execution_count": 5,
   "metadata": {},
   "outputs": [
    {
     "name": "stdout",
     "output_type": "stream",
     "text": [
      "['Gyanendra Prohit', 'Manish Saxena', 'Gyanendra Prohit', 'Manish Saxena', 'Gyanendra Prohit', 'Manish Saxena'] 6\n",
      "['Gyanendra Prohit', 'Manish Saxena'] 2\n"
     ]
    }
   ],
   "source": [
    "# List VS Int\n",
    "\n",
    "students = [\"Gyanendra Prohit\", \"Manish Saxena\"]\n",
    "new_students = students * 3\n",
    "\n",
    "print(new_students, len(new_students))\n",
    "print(students, len(students))"
   ]
  },
  {
   "cell_type": "code",
   "execution_count": 7,
   "metadata": {
    "scrolled": false
   },
   "outputs": [
    {
     "name": "stdout",
     "output_type": "stream",
     "text": [
      "('Ramesh', 'Manish Gupta', 'Ramesh', 'Manish Gupta', 'Ramesh', 'Manish Gupta')\n"
     ]
    }
   ],
   "source": [
    "# Tuple\n",
    "students = (\"Ramesh\", \"Manish Gupta\")\n",
    "students = students * 3\n",
    "print(students)"
   ]
  },
  {
   "cell_type": "markdown",
   "metadata": {},
   "source": [
    "Please note in the above two examples, we are getting a new `list/tupple` and existing collect ion remains the same."
   ]
  },
  {
   "cell_type": "code",
   "execution_count": 8,
   "metadata": {},
   "outputs": [
    {
     "name": "stdout",
     "output_type": "stream",
     "text": [
      "unsupported operand type(s) for *: 'dict' and 'int'\n"
     ]
    }
   ],
   "source": [
    "# Dictionary VS Int\n",
    "\n",
    "d = {\n",
    "    \"test\": \"testing\"\n",
    "}\n",
    "\n",
    "try:\n",
    "    print(d * 2)\n",
    "except Exception as e:\n",
    "    print(e)"
   ]
  },
  {
   "cell_type": "code",
   "execution_count": 9,
   "metadata": {},
   "outputs": [
    {
     "name": "stdout",
     "output_type": "stream",
     "text": [
      "unsupported operand type(s) for *: 'set' and 'int'\n"
     ]
    }
   ],
   "source": [
    "# Set VS Int\n",
    "\n",
    "students = {\"Mayank\", \"Manish Gupta\"}\n",
    "try:\n",
    "    students = students * 3\n",
    "    print(students)\n",
    "except Exception as e:\n",
    "    print(e)"
   ]
  },
  {
   "cell_type": "markdown",
   "metadata": {},
   "source": [
    "##### Relational Operators"
   ]
  },
  {
   "cell_type": "code",
   "execution_count": 18,
   "metadata": {},
   "outputs": [
    {
     "name": "stdout",
     "output_type": "stream",
     "text": [
      "Error '<' not supported between instances of 'str' and 'int'\n"
     ]
    }
   ],
   "source": [
    "a = \"~\"\n",
    "b = 22\n",
    "try:\n",
    "    print(\"a < b:\\t\", a < b)\n",
    "    print(\"a > b:\\t\", a > b)\n",
    "    print(\"a <= b:\\t\", a <= b)\n",
    "    print(\"a >= b:\\t\", a >= b)\n",
    "except TypeError as te:\n",
    "    print(\"Error\", te)"
   ]
  },
  {
   "cell_type": "code",
   "execution_count": 10,
   "metadata": {},
   "outputs": [
    {
     "name": "stdout",
     "output_type": "stream",
     "text": [
      "True\n",
      "False\n"
     ]
    }
   ],
   "source": [
    "# this will work between all data types.\n",
    "print(a != b)\n",
    "print(a == b)"
   ]
  },
  {
   "cell_type": "markdown",
   "metadata": {},
   "source": [
    "#### Complex Vs String"
   ]
  },
  {
   "cell_type": "code",
   "execution_count": 19,
   "metadata": {},
   "outputs": [
    {
     "name": "stdout",
     "output_type": "stream",
     "text": [
      "a = 10 , b = (22+4j)\n",
      "~~~~~~~~~~~~~~~~~\n",
      "can't multiply sequence by non-int of type 'complex'\n"
     ]
    }
   ],
   "source": [
    "a = \"10\"\n",
    "b = 22 + 4j\n",
    "print(\"a =\", a, \", b =\", b)\n",
    "print(\"~~~~~~~~~~~~~~~~~\")\n",
    "try:\n",
    "    print(\"a * b:\\t\", a * b)\n",
    "except Exception as e:\n",
    "    print(e)"
   ]
  },
  {
   "cell_type": "markdown",
   "metadata": {},
   "source": [
    "#### Complex Vs Numeric"
   ]
  },
  {
   "cell_type": "code",
   "execution_count": 10,
   "metadata": {},
   "outputs": [
    {
     "name": "stdout",
     "output_type": "stream",
     "text": [
      "a = (10+4j) , b = 10\n",
      "~~~~~~~~~~~~~~~~~\n",
      "a + b:\t (20+4j)\n",
      "a - b:\t 4j\n",
      "a * b:\t (100+40j)\n",
      "a / b:\t (1+0.4j)\n",
      "-a:\t (-10-4j)\n"
     ]
    }
   ],
   "source": [
    "a = 10 + 4j\n",
    "b = 10\n",
    "print(\"a =\", a, \", b =\", b)\n",
    "print(\"~~~~~~~~~~~~~~~~~\")\n",
    "print(\"a + b:\\t\", a + b)\n",
    "print(\"a - b:\\t\", a - b)\n",
    "print(\"a * b:\\t\", a * b)\n",
    "print(\"a / b:\\t\", a / b)\n",
    "# print(\"a//b:\\t\", a//b)\n",
    "# print(\"a % b:\\t\", a % b)\n",
    "print(\"-a:\\t\", -a)"
   ]
  },
  {
   "cell_type": "code",
   "execution_count": 15,
   "metadata": {},
   "outputs": [
    {
     "name": "stdout",
     "output_type": "stream",
     "text": [
      "'<' not supported between instances of 'complex' and 'int'\n"
     ]
    }
   ],
   "source": [
    "# Comparision will fail.\n",
    "try:\n",
    "    print(\"a < b:\\t\", a < b)\n",
    "    print(\"a > b:\\t\", a > b)\n",
    "    print(\"a <= b:\\t\", a <= b)\n",
    "    print(\"a >= b:\\t\", a >= b)\n",
    "except TypeError as  te:\n",
    "    print(te)"
   ]
  },
  {
   "cell_type": "code",
   "execution_count": 14,
   "metadata": {},
   "outputs": [
    {
     "name": "stdout",
     "output_type": "stream",
     "text": [
      "abs(a):\t 10.770329614269007\n"
     ]
    }
   ],
   "source": [
    "try:\n",
    "    print(\"abs(a):\\t\", abs(a))\n",
    "except TypeError as  te:\n",
    "    print(te)"
   ]
  },
  {
   "cell_type": "code",
   "execution_count": 15,
   "metadata": {},
   "outputs": [
    {
     "name": "stdout",
     "output_type": "stream",
     "text": [
      "can't convert complex to float\n"
     ]
    }
   ],
   "source": [
    "import math\n",
    "try:\n",
    "    a = 10 + 4j\n",
    "    print(\"sqrt(a):\", math.sqrt(a))\n",
    "except TypeError as  te:\n",
    "    print(te)"
   ]
  },
  {
   "cell_type": "markdown",
   "metadata": {},
   "source": [
    "#### Complex Vs Complex"
   ]
  },
  {
   "cell_type": "code",
   "execution_count": 16,
   "metadata": {},
   "outputs": [
    {
     "name": "stdout",
     "output_type": "stream",
     "text": [
      "a = (10+4j) , b = (20-6j)\n",
      "~~~~~~~~~~~~~~~~~\n",
      "a + b:\t (30-2j)\n",
      "a - b:\t (-10+10j)\n",
      "a * b:\t (224+20j)\n",
      "a / b:\t (0.4036697247706422+0.3211009174311926j)\n",
      "-a:\t (-10-4j)\n"
     ]
    }
   ],
   "source": [
    "a = 10 + 4j\n",
    "b = 20 - 6j\n",
    "print(\"a =\", a, \", b =\", b)\n",
    "print(\"~~~~~~~~~~~~~~~~~\")\n",
    "print(\"a + b:\\t\", a + b)\n",
    "print(\"a - b:\\t\", a - b)\n",
    "print(\"a * b:\\t\", a * b)\n",
    "print(\"a / b:\\t\", a / b)\n",
    "# print(\"a//b:\\t\", a//b)\n",
    "# print(\"a % b:\\t\", a % b)\n",
    "\n",
    "print(\"-a:\\t\", -a)\n"
   ]
  },
  {
   "cell_type": "code",
   "execution_count": 17,
   "metadata": {},
   "outputs": [
    {
     "name": "stdout",
     "output_type": "stream",
     "text": [
      "'<' not supported between instances of 'complex' and 'complex'\n"
     ]
    }
   ],
   "source": [
    "try:\n",
    "    print(\"a < b:\\t\", a < b)\n",
    "    print(\"a > b:\\t\", a > b)\n",
    "    print(\"a <= b:\\t\", a <= b)\n",
    "    print(\"a >= b:\\t\", a >= b)\n",
    "except TypeError as  te:\n",
    "    print(te)\n"
   ]
  },
  {
   "cell_type": "code",
   "execution_count": 11,
   "metadata": {},
   "outputs": [
    {
     "name": "stdout",
     "output_type": "stream",
     "text": [
      "False\n",
      "True\n"
     ]
    }
   ],
   "source": [
    "a = 10 + 4j\n",
    "b = 10 - 6j\n",
    "print(a == b)\n",
    "print(a != b)"
   ]
  },
  {
   "cell_type": "markdown",
   "metadata": {},
   "source": [
    "Thus we can see that following operations are not possible with complex data type  floor (//), mod (%), compare (<, >, >=, <=)."
   ]
  },
  {
   "cell_type": "markdown",
   "metadata": {},
   "source": [
    "### Assignment Operators"
   ]
  },
  {
   "cell_type": "markdown",
   "metadata": {},
   "source": [
    "| Syntax \t| Math \t| Example |Operation Name |\n",
    "|--------------\t|---------------------------|----------------|------------------------------------------------------------------\t|\n",
    "| `+=` \t| a = a + b  | a += b\t| addition \t|\n",
    "| `-=` \t| a = a - b  | a -= b\t| subtraction \t|\n",
    "| `*=` \t|  a = a \\* b | a *= b  | multiplication \t|\n",
    "| `/=`\t|  a = a \\div b  | a /= b | division (see note below) \t|\n",
    "| `//=` |  a = a//b  | a //= b\t| floor division (e.g. 5//2=2) \t|\n",
    "| `%=` \t|  a = a % b  | a %= b\t| modulo \t| \n",
    "| `**=` | a = a\\**b   | a**= b   | exp | \n",
    "| `\\|=` | a = a \\| b   | `a \\|= b`   | Union operator |"
   ]
  },
  {
   "cell_type": "markdown",
   "metadata": {},
   "source": [
    "#### Numeric"
   ]
  },
  {
   "cell_type": "markdown",
   "metadata": {},
   "source": [
    "##### Int"
   ]
  },
  {
   "cell_type": "code",
   "execution_count": 17,
   "metadata": {},
   "outputs": [],
   "source": [
    "a = 10\n",
    "b = 200 \n",
    "c = 100"
   ]
  },
  {
   "cell_type": "code",
   "execution_count": 18,
   "metadata": {},
   "outputs": [
    {
     "name": "stdout",
     "output_type": "stream",
     "text": [
      "c = 110\n"
     ]
    }
   ],
   "source": [
    "c += a   # =>   c = c + a\n",
    "print(\"c =\", c)"
   ]
  },
  {
   "cell_type": "code",
   "execution_count": 19,
   "metadata": {},
   "outputs": [
    {
     "name": "stdout",
     "output_type": "stream",
     "text": [
      "c = 105.0\n"
     ]
    }
   ],
   "source": [
    "c -= a/2       # c = c - a/2 -> c = 110 - 5.0 (float returned)\n",
    "print(\"c =\", c)"
   ]
  },
  {
   "cell_type": "code",
   "execution_count": 20,
   "metadata": {},
   "outputs": [
    {
     "name": "stdout",
     "output_type": "stream",
     "text": [
      "c = 1050.0\n"
     ]
    }
   ],
   "source": [
    "c *= a  #   c = c * a\n",
    "print(\"c =\", c)"
   ]
  },
  {
   "cell_type": "code",
   "execution_count": 21,
   "metadata": {},
   "outputs": [
    {
     "name": "stdout",
     "output_type": "stream",
     "text": [
      "c = 105.0\n"
     ]
    }
   ],
   "source": [
    "c /= a  # c = c / a # -> c = 1050.0/10 \n",
    "print(\"c =\", c)"
   ]
  },
  {
   "cell_type": "code",
   "execution_count": 22,
   "metadata": {},
   "outputs": [
    {
     "name": "stdout",
     "output_type": "stream",
     "text": [
      "c = 100\n"
     ]
    }
   ],
   "source": [
    "c = 10 \n",
    "a = 2\n",
    "c **= a  # c = c**a\n",
    "print(\"c =\", c)"
   ]
  },
  {
   "cell_type": "code",
   "execution_count": 23,
   "metadata": {},
   "outputs": [
    {
     "name": "stdout",
     "output_type": "stream",
     "text": [
      "c = 0\n"
     ]
    }
   ],
   "source": [
    "c %= a      # c = c % a\n",
    "print(\"c =\", c)"
   ]
  },
  {
   "cell_type": "markdown",
   "metadata": {},
   "source": [
    "#### Real Number"
   ]
  },
  {
   "cell_type": "code",
   "execution_count": 7,
   "metadata": {},
   "outputs": [
    {
     "name": "stdout",
     "output_type": "stream",
     "text": [
      "c = 30.2\n",
      "c = 25.1\n",
      "c = 256.02\n",
      "c = 25.1\n",
      "c = 189091479159143.34\n",
      "c = 18538380309719.0\n",
      "c = 7.4012914030844925\n"
     ]
    }
   ],
   "source": [
    "a = 10.20\n",
    "c = 20 \n",
    "c += a\n",
    "print(\"c =\", c)\n",
    "c -= a/2\n",
    "print(\"c =\", c)\n",
    "c *= a\n",
    "print(\"c =\", c)\n",
    "c /= a\n",
    "print(\"c =\", c)\n",
    "c **= a\n",
    "print(\"c =\", c)\n",
    "c //= a\n",
    "print(\"c =\", c)\n",
    "c %= a\n",
    "print(\"c =\", c)"
   ]
  },
  {
   "cell_type": "markdown",
   "metadata": {},
   "source": [
    "#### Complex Number"
   ]
  },
  {
   "cell_type": "code",
   "execution_count": 8,
   "metadata": {},
   "outputs": [
    {
     "name": "stdout",
     "output_type": "stream",
     "text": [
      "c = (10+20j)\n",
      "c = (5+10j)\n",
      "c = (-150+200j)\n",
      "c = (5+10j)\n",
      "c = (-6.966954518433685+2.4303120039373587j)\n"
     ]
    }
   ],
   "source": [
    "a = 10 + 20j\n",
    "c = 0 \n",
    "c += a\n",
    "print(\"c =\", c)\n",
    "c -= a/2\n",
    "print(\"c =\", c)\n",
    "c *= a\n",
    "print(\"c =\", c)\n",
    "c /= a\n",
    "print(\"c =\", c)\n",
    "c **= a\n",
    "print(\"c =\", c)\n",
    "# c //= a\n",
    "# print(\"c =\", c)\n",
    "# c %= a\n",
    "# print(\"c =\", c)"
   ]
  },
  {
   "cell_type": "markdown",
   "metadata": {},
   "source": [
    "#### Boolean Number"
   ]
  },
  {
   "cell_type": "code",
   "execution_count": 24,
   "metadata": {},
   "outputs": [
    {
     "name": "stdout",
     "output_type": "stream",
     "text": [
      "c = 2\n",
      "c = 1.5\n",
      "c = 1.5\n",
      "c = 1.5\n",
      "c = 1.5\n",
      "c = 1.0\n",
      "c = 0.0\n"
     ]
    }
   ],
   "source": [
    "a = True  # It will be treated as 1\n",
    "c = 1 \n",
    "\n",
    "c += a\n",
    "print(\"c =\", c)\n",
    "c -= a/2\n",
    "print(\"c =\", c)\n",
    "c *= a\n",
    "print(\"c =\", c)\n",
    "c /= a\n",
    "print(\"c =\", c)\n",
    "c **= a\n",
    "print(\"c =\", c)\n",
    "c //= a\n",
    "print(\"c =\", c)\n",
    "c %= a\n",
    "print(\"c =\", c)"
   ]
  },
  {
   "cell_type": "code",
   "execution_count": 26,
   "metadata": {},
   "outputs": [
    {
     "name": "stdout",
     "output_type": "stream",
     "text": [
      "c = 0\n",
      "c = 0.0\n",
      "c = 0.0\n",
      "c = 1.0\n"
     ]
    }
   ],
   "source": [
    "a = False  # False will be treated as 0\n",
    "c = 0 \n",
    "\n",
    "c += a\n",
    "print(\"c =\", c)\n",
    "c -= a/2\n",
    "print(\"c =\", c)\n",
    "c *= a\n",
    "print(\"c =\", c)\n",
    "# c /= a\n",
    "# print(\"c =\", c)\n",
    "c **= a\n",
    "print(\"c =\", c)\n",
    "\n",
    "# Anything by Zero is infinity, thus will result in error\n",
    "# c //= a\n",
    "# print(\"c =\", c)\n",
    "# c %= a\n",
    "# print(\"c =\", c)"
   ]
  },
  {
   "cell_type": "code",
   "execution_count": 1,
   "metadata": {},
   "outputs": [
    {
     "name": "stdout",
     "output_type": "stream",
     "text": [
      "c = 1\n",
      "c = 0.5\n",
      "c = 0.5\n",
      "c = 0.5\n",
      "c = 0.5\n",
      "c = 0.0\n",
      "c = 0.0\n"
     ]
    }
   ],
   "source": [
    "a = True   # equals to 1\n",
    "c = False  # equals to 0\n",
    "c += a\n",
    "print(\"c =\", c)\n",
    "c -= a/2\n",
    "print(\"c =\", c)\n",
    "c *= a\n",
    "print(\"c =\", c)\n",
    "c /= a\n",
    "print(\"c =\", c)\n",
    "c **= a\n",
    "print(\"c =\", c)\n",
    "c //= a\n",
    "print(\"c =\", c)\n",
    "c %= a\n",
    "print(\"c =\", c)"
   ]
  },
  {
   "cell_type": "markdown",
   "metadata": {},
   "source": [
    "#### Assignment expressions aka “the walrus operator\""
   ]
  },
  {
   "cell_type": "markdown",
   "metadata": {},
   "source": [
    "Assignment expressions (`:=`) assigns values to variables as part of a larger expression so that it can be used later as shown in the below example`"
   ]
  },
  {
   "cell_type": "code",
   "execution_count": 27,
   "metadata": {},
   "outputs": [
    {
     "name": "stdout",
     "output_type": "stream",
     "text": [
      "(3, 4, 5)\n"
     ]
    }
   ],
   "source": [
    "cal = (num := 1 + 2), num + 1, num + 2\n",
    "print(cal)"
   ]
  },
  {
   "cell_type": "code",
   "execution_count": 28,
   "metadata": {},
   "outputs": [
    {
     "name": "stdout",
     "output_type": "stream",
     "text": [
      "(3, 4, 5)\n"
     ]
    }
   ],
   "source": [
    "# Equivalent code\n",
    "num = 1 + 2\n",
    "cal = num, num + 1, num + 2\n",
    "print(cal)"
   ]
  },
  {
   "cell_type": "markdown",
   "metadata": {},
   "source": [
    "In the above example, `num := 1 + 2` expression calculates value of `num` and use it later in the remaining code of the same expression.\n",
    "\n",
    "thus value of cal became `3, 4, 5`.\n",
    "\n",
    "This operator can be used in various other places also, we will cover those cases in appropriate scenarios. \n"
   ]
  },
  {
   "cell_type": "markdown",
   "metadata": {},
   "source": [
    "##### Exceptions in the walrus operator"
   ]
  },
  {
   "cell_type": "markdown",
   "metadata": {},
   "source": [
    "Following conditions are not allowed for walrus operator to be used \n",
    "\n",
    "- Unparenthesized assignment expressions at the top level of \n",
    "    - An expression statement\n",
    "\n",
    "        ```python\n",
    "        def expo(x):\n",
    "            return x**2\n",
    "\n",
    "        y := expo(x)\n",
    "        ```\n",
    "\n",
    "        **Output**:\n",
    "        ```python\n",
    "        File \"<ipython-input-5-9ef3589455e2>\", line 4\n",
    "            y := expo(x)\n",
    "                     ^\n",
    "        SyntaxError: invalid syntax\n",
    "        ```\n",
    "\n",
    "    - The right hand side of an assignment statement\n",
    "        ```python\n",
    "        y0 = y1 := f(x) \n",
    "        ```\n",
    "\n",
    "        **Output**:\n",
    "        ```python\n",
    "        File \"<ipython-input-6-deb014fde1dc>\", line 1\n",
    "        def expo(val = req := 3):\n",
    "                           ^\n",
    "        SyntaxError: invalid syntax\n",
    "        ```\n",
    "        \n",
    "    - A function default value.\n",
    "\n",
    "        ```python\n",
    "        def expo(val = req := 3): \n",
    "        ```\n",
    "\n",
    "        **Output**:\n",
    "        ```python\n",
    "        File \"<ipython-input-6-deb014fde1dc>\", line 1\n",
    "        def expo(val = req := 3):\n",
    "                           ^\n",
    "        SyntaxError: invalid syntax\n",
    "        ```\n",
    "- Unparenthesized assignment expressions \n",
    "    - in lambda functions\n",
    "        ```python\n",
    "        (lambda: x := 1)\n",
    "        ```\n",
    "        **Output**\n",
    "        ```python\n",
    "        File \"<ipython-input-1-875aa004ae8d>\", line 1\n",
    "            (lambda: x := 1)\n",
    "             ^\n",
    "        SyntaxError: cannot use assignment expressions with lambda\n",
    "        ```\n",
    "     -  inside of f-strings\n",
    "        ```python\n",
    "        a = 10\n",
    "        d = f\"data : {b:=a}, {b}\"\n",
    "        print(d)\n",
    "        ``` \n",
    "        Instead use the following code\n",
    "        ```python\n",
    "        a = 10\n",
    "        d = f\"data : {(b:= a)}, {b}\"\n",
    "        print(d)\n",
    "        ```\n",
    "        \n",
    "    \n",
    "\n"
   ]
  },
  {
   "cell_type": "code",
   "execution_count": 29,
   "metadata": {},
   "outputs": [
    {
     "name": "stdout",
     "output_type": "stream",
     "text": [
      "data : 10, 10\n"
     ]
    }
   ],
   "source": [
    "a = 10\n",
    "d = f\"data : {(b:= a)}, {b}\"\n",
    "print(d)"
   ]
  },
  {
   "cell_type": "code",
   "execution_count": 31,
   "metadata": {},
   "outputs": [
    {
     "name": "stdout",
     "output_type": "stream",
     "text": [
      "Error: Unknown format code 'a' for object of type 'int'\n"
     ]
    }
   ],
   "source": [
    "a = 10\n",
    "try:\n",
    "    d = f\"data : {b:=a}, {b}\"\n",
    "    print(d)\n",
    "except ValueError as ve:\n",
    "    print(f\"Error: {ve}\")"
   ]
  },
  {
   "cell_type": "markdown",
   "metadata": {},
   "source": [
    "### Relational Operators"
   ]
  },
  {
   "cell_type": "markdown",
   "metadata": {},
   "source": [
    "There are following relational operators supported by Python language"
   ]
  },
  {
   "cell_type": "markdown",
   "metadata": {},
   "source": [
    "| Syntax \t| Math \t | Operation Name \t    |\n",
    "|----------\t|--------|----------------------|\n",
    "| <         | a < b  | Less- than           | \n",
    "| >         | a > b  | Greater- than        |\n",
    "| <=        | a <= b | Less- than- equal    |\n",
    "| >=        | a >= b | Greater- than- equal |\n",
    "| ==        | a == b | Equal to             | \n",
    "| !=        | a != b | not equal to         |"
   ]
  },
  {
   "cell_type": "markdown",
   "metadata": {},
   "source": [
    "#### Numeric Vs Numeric"
   ]
  },
  {
   "cell_type": "code",
   "execution_count": 26,
   "metadata": {},
   "outputs": [
    {
     "name": "stdout",
     "output_type": "stream",
     "text": [
      "True\n",
      "False\n",
      "True\n",
      "False\n",
      "False\n",
      "True\n"
     ]
    }
   ],
   "source": [
    "a = 10\n",
    "b = 21.22\n",
    "\n",
    "print(a < b)\n",
    "print(a > b)\n",
    "print(a <= b)\n",
    "print(a >= b)\n",
    "print(a == b)\n",
    "print(a != b)"
   ]
  },
  {
   "cell_type": "code",
   "execution_count": 31,
   "metadata": {},
   "outputs": [
    {
     "name": "stdout",
     "output_type": "stream",
     "text": [
      "False\n",
      "False\n",
      "True\n",
      "True\n",
      "True\n",
      "False\n"
     ]
    }
   ],
   "source": [
    "a = 10\n",
    "b = 10.0\n",
    "\n",
    "print(a < b)\n",
    "print(a > b)\n",
    "print(a <= b)\n",
    "print(a >= b)\n",
    "print(a == b)\n",
    "print(a != b)"
   ]
  },
  {
   "cell_type": "markdown",
   "metadata": {},
   "source": [
    "#### Numeric Vs String"
   ]
  },
  {
   "cell_type": "code",
   "execution_count": 32,
   "metadata": {},
   "outputs": [
    {
     "name": "stdout",
     "output_type": "stream",
     "text": [
      "False\n",
      "True\n"
     ]
    }
   ],
   "source": [
    "a = 10\n",
    "b = \"Mayank Shrivastava\"\n",
    "\n",
    "# print(a < b)\n",
    "# print(a > b)\n",
    "# print(a <= b)\n",
    "# print(a >= b)\n",
    "print(a == b)\n",
    "print(a != b)"
   ]
  },
  {
   "cell_type": "markdown",
   "metadata": {},
   "source": [
    "#### Numeric Vs Complex "
   ]
  },
  {
   "cell_type": "code",
   "execution_count": 33,
   "metadata": {},
   "outputs": [
    {
     "name": "stdout",
     "output_type": "stream",
     "text": [
      "False\n",
      "True\n"
     ]
    }
   ],
   "source": [
    "a = 10\n",
    "b = 10 + 21j\n",
    "\n",
    "# print(a < b)\n",
    "# print(a > b)\n",
    "# print(a <= b)\n",
    "# print(a >= b)\n",
    "print(a == b)\n",
    "print(a != b)"
   ]
  },
  {
   "cell_type": "markdown",
   "metadata": {},
   "source": [
    "#### Complex Vs Complex"
   ]
  },
  {
   "cell_type": "code",
   "execution_count": 34,
   "metadata": {},
   "outputs": [
    {
     "name": "stdout",
     "output_type": "stream",
     "text": [
      "False\n",
      "True\n"
     ]
    }
   ],
   "source": [
    "a = 10 + 20j\n",
    "b = 10 + 21j\n",
    "\n",
    "# print(a < b)\n",
    "# print(a > b)\n",
    "# print(a <= b)\n",
    "# print(a >= b)\n",
    "print(a == b)\n",
    "print(a != b)"
   ]
  },
  {
   "cell_type": "code",
   "execution_count": 35,
   "metadata": {},
   "outputs": [
    {
     "name": "stdout",
     "output_type": "stream",
     "text": [
      "Error: '<' not supported between instances of 'complex' and 'complex'\n"
     ]
    }
   ],
   "source": [
    "try:\n",
    "    print(a < b)\n",
    "except TypeError as te:\n",
    "    print(f\"Error: {te}\")"
   ]
  },
  {
   "cell_type": "markdown",
   "metadata": {},
   "source": [
    "#### Complex Vs String"
   ]
  },
  {
   "cell_type": "code",
   "execution_count": 36,
   "metadata": {},
   "outputs": [
    {
     "name": "stdout",
     "output_type": "stream",
     "text": [
      "False\n",
      "True\n"
     ]
    }
   ],
   "source": [
    "a = 10 + 20j\n",
    "b = \"Rishi Rai\"\n",
    "\n",
    "# print(a < b)\n",
    "# print(a > b)\n",
    "# print(a <= b)\n",
    "# print(a >= b)\n",
    "print(a == b)\n",
    "print(a != b)"
   ]
  },
  {
   "cell_type": "markdown",
   "metadata": {},
   "source": [
    "#### String  Vs String"
   ]
  },
  {
   "cell_type": "code",
   "execution_count": 37,
   "metadata": {},
   "outputs": [
    {
     "name": "stdout",
     "output_type": "stream",
     "text": [
      "True\n",
      "False\n",
      "True\n",
      "False\n",
      "False\n",
      "True\n"
     ]
    }
   ],
   "source": [
    "a = \"Manish Nandle\"\n",
    "b = \"manish nandle\"\n",
    "\n",
    "print(a < b)\n",
    "print(a > b)\n",
    "print(a <= b)\n",
    "print(a >= b)\n",
    "print(a == b)\n",
    "print(a != b)"
   ]
  },
  {
   "cell_type": "markdown",
   "metadata": {},
   "source": [
    "### Logical/Boolean Operators"
   ]
  },
  {
   "cell_type": "markdown",
   "metadata": {},
   "source": [
    "| Syntax \t| example        | Operation Name  | Meaning                                                   |\n",
    "|----------\t|----------------|---------------- |-----------------------------------------------------------|\n",
    "| `and`     | `a and b`      | Logical AND     | returns true if and only if both expressions are true     |\n",
    "| `or`      | `a or b`       | Logical OR      | returns true if and only if even an expressions are true  |\n",
    "| `not`     | `not(a and b)` | Logical NOT     | returns reverse of the expression                         |\n",
    "| `is`      | `a is b`       | Logical IS      | returns true both references are same object else false   |\n",
    "| `in`      | `in`           | Logical IN      | returns true if first is found in second else false       |"
   ]
  },
  {
   "cell_type": "markdown",
   "metadata": {},
   "source": [
    "**Example:**"
   ]
  },
  {
   "cell_type": "markdown",
   "metadata": {},
   "source": [
    "#### `and`"
   ]
  },
  {
   "cell_type": "markdown",
   "metadata": {},
   "source": [
    "##### Boolean"
   ]
  },
  {
   "cell_type": "markdown",
   "metadata": {},
   "source": [
    "##### Boolean AND Table\n",
    "\n",
    "| A | B | Result\n",
    "|---|---|-------|\n",
    "| 0 | 0 | 0     |\n",
    "| 0 | 1 | 0     |\n",
    "| 1 | 0 | 0     |\n",
    "| 1 | 1 | 1     |"
   ]
  },
  {
   "cell_type": "markdown",
   "metadata": {},
   "source": [
    "Thus it will return `true` only if both the values are `true`, that means if `A` & `B` are expression and if `A` is not `False`, they both will be processed before we gets the result"
   ]
  },
  {
   "cell_type": "code",
   "execution_count": 28,
   "metadata": {},
   "outputs": [
    {
     "name": "stdout",
     "output_type": "stream",
     "text": [
      "False and False=False\n",
      "True and False=False\n",
      "False and True=False\n"
     ]
    }
   ],
   "source": [
    "print(f\"{False and False=}\")\n",
    "print(f\"{True and False=}\")\n",
    "print(f\"{False and True=}\")"
   ]
  },
  {
   "cell_type": "code",
   "execution_count": 29,
   "metadata": {},
   "outputs": [
    {
     "name": "stdout",
     "output_type": "stream",
     "text": [
      "True and True=True\n"
     ]
    }
   ],
   "source": [
    "print(f\"{True and True=}\")"
   ]
  },
  {
   "cell_type": "markdown",
   "metadata": {},
   "source": [
    "so, what I can say is, till I know the last value I can not predict the outcome of the statement. Because if its `False` then entire output will be `False` and only when all the values are `True` the final output will be `True`.\n",
    "\n",
    "In other way I can say that if I get even one `False` then output will be `False`. So, after first False, I dont have to process the remaining statement. "
   ]
  },
  {
   "cell_type": "markdown",
   "metadata": {},
   "source": [
    "##### Integers"
   ]
  },
  {
   "cell_type": "markdown",
   "metadata": {},
   "source": [
    "If any element is zero, then we will get zero. Else in all the other we will get the last value"
   ]
  },
  {
   "cell_type": "code",
   "execution_count": 32,
   "metadata": {},
   "outputs": [
    {
     "name": "stdout",
     "output_type": "stream",
     "text": [
      "3 and -3: -3\n",
      "-2 and 3: 3\n",
      "0 and 3 : 0\n",
      "3 and 0 : 0\n",
      "2 and 3 : 3\n",
      "3 and 2 : 2\n"
     ]
    }
   ],
   "source": [
    "print (\"3 and -3:\", 3 and -3) # Shows -3\n",
    "print (\"-2 and 3:\", -2 and 3) # Shows 3\n",
    "print (\"0 and 3 :\", 0 and 3)  # Shows 0\n",
    "print (\"3 and 0 :\", 3 and 0)  # Shows 0\n",
    "print (\"2 and 3 :\", 2 and 3)  # Shows 3\n",
    "print (\"3 and 2 :\", 3 and 2)  # Shows 2"
   ]
  },
  {
   "cell_type": "code",
   "execution_count": 33,
   "metadata": {},
   "outputs": [
    {
     "name": "stdout",
     "output_type": "stream",
     "text": [
      "20\n"
     ]
    }
   ],
   "source": [
    "a = 10\n",
    "b = 20\n",
    "\n",
    "# If both the values are Truish than last value will be returned.\n",
    "x = a and b\n",
    "print(x)"
   ]
  },
  {
   "cell_type": "code",
   "execution_count": 34,
   "metadata": {},
   "outputs": [
    {
     "name": "stdout",
     "output_type": "stream",
     "text": [
      "0\n"
     ]
    }
   ],
   "source": [
    "a = 10\n",
    "b = 0\n",
    "\n",
    "# If any of them are falseish than first Falseish value is returned.\n",
    "x = a and b\n",
    "print(x)"
   ]
  },
  {
   "cell_type": "code",
   "execution_count": 35,
   "metadata": {},
   "outputs": [
    {
     "name": "stdout",
     "output_type": "stream",
     "text": [
      "False\n"
     ]
    }
   ],
   "source": [
    "a = False\n",
    "b = 10\n",
    "\n",
    "# If any of them are falseish than first Falseish value is returned.\n",
    "x = a and b\n",
    "print(x)\n"
   ]
  },
  {
   "cell_type": "code",
   "execution_count": 37,
   "metadata": {},
   "outputs": [
    {
     "name": "stdout",
     "output_type": "stream",
     "text": [
      "0\n"
     ]
    }
   ],
   "source": [
    "a = 10\n",
    "b = 0\n",
    "c = False\n",
    "\n",
    "# If any of them are falseish than first Falseish value is returned.\n",
    "x = a and b and c\n",
    "print(x)"
   ]
  },
  {
   "cell_type": "code",
   "execution_count": 39,
   "metadata": {},
   "outputs": [
    {
     "name": "stdout",
     "output_type": "stream",
     "text": [
      "False\n"
     ]
    }
   ],
   "source": [
    "a = 10\n",
    "b = 0\n",
    "c = False\n",
    "\n",
    "# If any of them are falseish than first Falseish value is returned.\n",
    "x = a and c and  b\n",
    "print(x)"
   ]
  },
  {
   "cell_type": "code",
   "execution_count": 38,
   "metadata": {},
   "outputs": [
    {
     "name": "stdout",
     "output_type": "stream",
     "text": [
      "[]\n"
     ]
    }
   ],
   "source": [
    "a = 10\n",
    "b = 0\n",
    "c = []\n",
    "\n",
    "# If any of them are falseish than first Falseish value is returned.\n",
    "x = a and c and  b\n",
    "print(x)"
   ]
  },
  {
   "cell_type": "code",
   "execution_count": 39,
   "metadata": {},
   "outputs": [
    {
     "name": "stdout",
     "output_type": "stream",
     "text": [
      "Ja\n"
     ]
    }
   ],
   "source": [
    "a = \"Yes\"\n",
    "b = \"Ja\"\n",
    "\n",
    "print(a and b)"
   ]
  },
  {
   "cell_type": "code",
   "execution_count": 41,
   "metadata": {},
   "outputs": [
    {
     "name": "stdout",
     "output_type": "stream",
     "text": [
      "12 is divisible by 2\n"
     ]
    }
   ],
   "source": [
    "a = 12\n",
    "\n",
    "print( (a%2)==0  and f\"{a} is divisible by 2\")"
   ]
  },
  {
   "cell_type": "code",
   "execution_count": 42,
   "metadata": {},
   "outputs": [
    {
     "name": "stdout",
     "output_type": "stream",
     "text": [
      "False\n"
     ]
    }
   ],
   "source": [
    "a = 123\n",
    "\n",
    "print( (a%2)==0 and f\"{a} is divisible by 2\")"
   ]
  },
  {
   "cell_type": "markdown",
   "metadata": {},
   "source": [
    "#### `or`"
   ]
  },
  {
   "cell_type": "markdown",
   "metadata": {},
   "source": [
    "##### Boolean OR Table"
   ]
  },
  {
   "cell_type": "markdown",
   "metadata": {},
   "source": [
    "| A | B | Result\n",
    "|---|---|-------|\n",
    "| 0 | 0 | 0     |\n",
    "| 0 | 1 | 1     |\n",
    "| 1 | 0 | 1     |\n",
    "| 1 | 1 | 1     |"
   ]
  },
  {
   "cell_type": "markdown",
   "metadata": {},
   "source": [
    "##### Boolean"
   ]
  },
  {
   "cell_type": "code",
   "execution_count": 43,
   "metadata": {},
   "outputs": [
    {
     "name": "stdout",
     "output_type": "stream",
     "text": [
      "(A or B)=True,\n",
      "(A or A)=True,\n",
      "(B or B)=False\n"
     ]
    }
   ],
   "source": [
    "A = True \n",
    "B = False\n",
    "\n",
    "print(f\"{(A or B)=},\\n{(A or A)=},\\n{(B or B)=}\")"
   ]
  },
  {
   "cell_type": "markdown",
   "metadata": {},
   "source": [
    "We will stop processing on the first non `False` value. "
   ]
  },
  {
   "cell_type": "code",
   "execution_count": 44,
   "metadata": {},
   "outputs": [
    {
     "name": "stdout",
     "output_type": "stream",
     "text": [
      "True\n"
     ]
    }
   ],
   "source": [
    "a = \"K.V. Pauly\"\n",
    "b = \"Aalok\"\n",
    "c = \"\"\n",
    "\n",
    "print(c == \"Roshan\" or a == \"K.V. Pauly\" or b == \"Aalok\")\n",
    "# False or True or True -> True"
   ]
  },
  {
   "cell_type": "markdown",
   "metadata": {},
   "source": [
    "##### On Strings"
   ]
  },
  {
   "cell_type": "code",
   "execution_count": 35,
   "metadata": {},
   "outputs": [
    {
     "name": "stdout",
     "output_type": "stream",
     "text": [
      "K.V. Pauly\n"
     ]
    }
   ],
   "source": [
    "print(a or c)\n",
    "# K.V.Pauly or \"\""
   ]
  },
  {
   "cell_type": "code",
   "execution_count": 36,
   "metadata": {},
   "outputs": [
    {
     "name": "stdout",
     "output_type": "stream",
     "text": [
      "K.V. Pauly\n"
     ]
    }
   ],
   "source": [
    "print(a or b or c)"
   ]
  },
  {
   "cell_type": "code",
   "execution_count": 37,
   "metadata": {},
   "outputs": [
    {
     "name": "stdout",
     "output_type": "stream",
     "text": [
      "Aalok\n"
     ]
    }
   ],
   "source": [
    "print(b or c or a)\n",
    "# Aalok or \"\" or K.V.Pauly -> Aalok"
   ]
  },
  {
   "cell_type": "code",
   "execution_count": 38,
   "metadata": {},
   "outputs": [
    {
     "name": "stdout",
     "output_type": "stream",
     "text": [
      "Aalok\n"
     ]
    }
   ],
   "source": [
    "print(c or b or a)\n",
    "# \"\" or Aalok or K.V.Pauly"
   ]
  },
  {
   "cell_type": "markdown",
   "metadata": {},
   "source": [
    "##### Numeric"
   ]
  },
  {
   "cell_type": "markdown",
   "metadata": {},
   "source": [
    "It returns first **truish** value"
   ]
  },
  {
   "cell_type": "code",
   "execution_count": 47,
   "metadata": {},
   "outputs": [
    {
     "name": "stdout",
     "output_type": "stream",
     "text": [
      "3\n",
      "0\n",
      "3\n",
      "2\n"
     ]
    }
   ],
   "source": [
    "print(3 or 0) # Shows 3\n",
    "print(0 or 0) # Shows 0\n",
    "print(0 or 3) # Shows 3\n",
    "print(2 or 3) # Shows 2"
   ]
  },
  {
   "cell_type": "code",
   "execution_count": 45,
   "metadata": {},
   "outputs": [
    {
     "name": "stdout",
     "output_type": "stream",
     "text": [
      "2\n"
     ]
    }
   ],
   "source": [
    "print(0 or 2 or 4)  # Will return the first truish value."
   ]
  },
  {
   "cell_type": "code",
   "execution_count": 47,
   "metadata": {},
   "outputs": [
    {
     "name": "stdout",
     "output_type": "stream",
     "text": [
      "[]\n"
     ]
    }
   ],
   "source": [
    "print(0 or False or [])  # Will return the last falish value "
   ]
  },
  {
   "cell_type": "markdown",
   "metadata": {},
   "source": [
    "#### Precidence"
   ]
  },
  {
   "cell_type": "markdown",
   "metadata": {},
   "source": [
    "`and` is evaluated before `or`"
   ]
  },
  {
   "cell_type": "code",
   "execution_count": 45,
   "metadata": {},
   "outputs": [
    {
     "name": "stdout",
     "output_type": "stream",
     "text": [
      "10\n"
     ]
    }
   ],
   "source": [
    "# Cascade effect: Which ever is first true\n",
    "\n",
    "print(10 or 2 or 3)"
   ]
  },
  {
   "cell_type": "code",
   "execution_count": 46,
   "metadata": {},
   "outputs": [
    {
     "name": "stdout",
     "output_type": "stream",
     "text": [
      "10\n"
     ]
    }
   ],
   "source": [
    "print(10 or 2 and False)"
   ]
  },
  {
   "cell_type": "code",
   "execution_count": 51,
   "metadata": {},
   "outputs": [
    {
     "name": "stdout",
     "output_type": "stream",
     "text": [
      "3\n"
     ]
    }
   ],
   "source": [
    "print(10 and 2 and 3)"
   ]
  },
  {
   "cell_type": "code",
   "execution_count": 23,
   "metadata": {},
   "outputs": [
    {
     "name": "stdout",
     "output_type": "stream",
     "text": [
      "3\n"
     ]
    }
   ],
   "source": [
    "print(0 or 2 and 3)\n",
    "# 0 or (2 and 3)\n",
    "# 0 or 3\n",
    "# 3"
   ]
  },
  {
   "cell_type": "code",
   "execution_count": 51,
   "metadata": {},
   "outputs": [
    {
     "name": "stdout",
     "output_type": "stream",
     "text": [
      "10\n"
     ]
    }
   ],
   "source": [
    "a = 10 or 2 or 0\n",
    "print(a)"
   ]
  },
  {
   "cell_type": "code",
   "execution_count": 34,
   "metadata": {},
   "outputs": [
    {
     "name": "stdout",
     "output_type": "stream",
     "text": [
      "3\n"
     ]
    }
   ],
   "source": [
    "a = 0 and 2 or 3\n",
    "print(a)"
   ]
  },
  {
   "cell_type": "code",
   "execution_count": 25,
   "metadata": {},
   "outputs": [
    {
     "name": "stdout",
     "output_type": "stream",
     "text": [
      "10\n"
     ]
    }
   ],
   "source": [
    "a = 10 or 2 and 3 or 200\n",
    "print(a)"
   ]
  },
  {
   "cell_type": "code",
   "execution_count": 39,
   "metadata": {},
   "outputs": [
    {
     "name": "stdout",
     "output_type": "stream",
     "text": [
      "KV Pauly\n",
      "KV Pauly\n"
     ]
    }
   ],
   "source": [
    "a = \"KV Pauly\"\n",
    "b = \"Aalok\"\n",
    "c = \"TEST\"\n",
    "\n",
    "d = a or b\n",
    "print(d)\n",
    "d = None\n",
    "\n",
    "print(d or a)"
   ]
  },
  {
   "cell_type": "code",
   "execution_count": 47,
   "metadata": {},
   "outputs": [
    {
     "name": "stdout",
     "output_type": "stream",
     "text": [
      "22\n",
      "22\n",
      "Error: name 'f' is not defined\n"
     ]
    }
   ],
   "source": [
    "# code `f := a+b+c` was never executed.\n",
    "\n",
    "a = 10\n",
    "b = 12\n",
    "c = 0\n",
    "\n",
    "d = a and (e:=a+b) or c and (f:=e+c)\n",
    "    \n",
    "try:\n",
    "    print(d)\n",
    "    print(e)\n",
    "    print(f)  # as the portion of code was not executed\n",
    "              # thus it is not avaiable.\n",
    "except Exception as e:\n",
    "    print(f\"Error: {e}\")"
   ]
  },
  {
   "cell_type": "markdown",
   "metadata": {},
   "source": [
    "### `not`"
   ]
  },
  {
   "cell_type": "code",
   "execution_count": 49,
   "metadata": {},
   "outputs": [
    {
     "name": "stdout",
     "output_type": "stream",
     "text": [
      "True\n",
      "False\n"
     ]
    }
   ],
   "source": [
    "print(not 0) # Shows True\n",
    "print(not 2) # Shows False"
   ]
  },
  {
   "cell_type": "code",
   "execution_count": 50,
   "metadata": {},
   "outputs": [
    {
     "name": "stdout",
     "output_type": "stream",
     "text": [
      "False\n",
      "True\n"
     ]
    }
   ],
   "source": [
    "print(not [10])\n",
    "print(not [])"
   ]
  },
  {
   "cell_type": "markdown",
   "metadata": {},
   "source": [
    "### `in`"
   ]
  },
  {
   "cell_type": "markdown",
   "metadata": {},
   "source": [
    "`in` keyword find if the value is present in the collection or not. "
   ]
  },
  {
   "cell_type": "code",
   "execution_count": 56,
   "metadata": {},
   "outputs": [
    {
     "name": "stdout",
     "output_type": "stream",
     "text": [
      "True\n",
      "True\n",
      "False\n"
     ]
    }
   ],
   "source": [
    "# with String \n",
    "\n",
    "india = \"India\"\n",
    "print(\"i\" in india)\n",
    "print(\"I\" in india)\n",
    "print(\"N\" in india)"
   ]
  },
  {
   "cell_type": "code",
   "execution_count": 51,
   "metadata": {},
   "outputs": [
    {
     "name": "stdout",
     "output_type": "stream",
     "text": [
      "True\n"
     ]
    }
   ],
   "source": [
    "# with tuple\n",
    "\n",
    "print(2 in (2, 3)) # Shows True"
   ]
  },
  {
   "cell_type": "code",
   "execution_count": 52,
   "metadata": {},
   "outputs": [
    {
     "name": "stdout",
     "output_type": "stream",
     "text": [
      "True\n"
     ]
    }
   ],
   "source": [
    "# with list\n",
    "\n",
    "print(2 in [2, 3]) # Shows True"
   ]
  },
  {
   "cell_type": "code",
   "execution_count": 53,
   "metadata": {},
   "outputs": [
    {
     "name": "stdout",
     "output_type": "stream",
     "text": [
      "True\n"
     ]
    }
   ],
   "source": [
    "# with generators\n",
    "\n",
    "print(10 in range(20))"
   ]
  },
  {
   "cell_type": "code",
   "execution_count": 54,
   "metadata": {},
   "outputs": [
    {
     "name": "stdout",
     "output_type": "stream",
     "text": [
      "True\n",
      "False\n"
     ]
    }
   ],
   "source": [
    "# with dictionary\n",
    "# It will NOT check the values, just the keys\n",
    "d = {\n",
    "    \"a\": \"Bangalore\",\n",
    "    \"b\": \"Chennai\"\n",
    "}\n",
    "\n",
    "print(\"a\" in d)\n",
    "print(\"c\" in d)"
   ]
  },
  {
   "cell_type": "code",
   "execution_count": 31,
   "metadata": {},
   "outputs": [
    {
     "name": "stdout",
     "output_type": "stream",
     "text": [
      "True\n",
      "False\n"
     ]
    }
   ],
   "source": [
    "# Checking values in the dictionary. \n",
    "print(\"Chennai\" in d.values())\n",
    "print(\"Mumbai\" in d.values())"
   ]
  },
  {
   "cell_type": "markdown",
   "metadata": {},
   "source": [
    "### `is`"
   ]
  },
  {
   "cell_type": "markdown",
   "metadata": {},
   "source": [
    "It validates if the objects are same or not. It does not check the value but the object itself. It check if both the variables are pointing to the same object or not. "
   ]
  },
  {
   "cell_type": "code",
   "execution_count": 32,
   "metadata": {},
   "outputs": [
    {
     "name": "stdout",
     "output_type": "stream",
     "text": [
      "True\n",
      "4556848048 4556848048\n"
     ]
    }
   ],
   "source": [
    "# for all values between -5 to 256, python only create one instance. \n",
    "# but this is not a rule, its just optimization of compiler\n",
    "\n",
    "a = 10\n",
    "b = 10\n",
    "print (a is b) # Shows True\n",
    "print(id(a), id(b))"
   ]
  },
  {
   "cell_type": "code",
   "execution_count": 33,
   "metadata": {},
   "outputs": [
    {
     "name": "stdout",
     "output_type": "stream",
     "text": [
      "False\n",
      "4593227760 4593226736\n"
     ]
    }
   ],
   "source": [
    "a = 10_000\n",
    "b = 10_000\n",
    "print (a is b) # Shows False\n",
    "print(id(a), id(b))"
   ]
  },
  {
   "cell_type": "code",
   "execution_count": 34,
   "metadata": {},
   "outputs": [
    {
     "name": "stdout",
     "output_type": "stream",
     "text": [
      "True\n"
     ]
    }
   ],
   "source": [
    "# Same value Strings without space will have only one instance. \n",
    "\n",
    "name_1 = \"Rama_Raju\"\n",
    "name_2 = \"Rama_Raju\"\n",
    "\n",
    "print(name_1 is name_2)"
   ]
  },
  {
   "cell_type": "code",
   "execution_count": 35,
   "metadata": {},
   "outputs": [
    {
     "name": "stdout",
     "output_type": "stream",
     "text": [
      "False\n"
     ]
    }
   ],
   "source": [
    "name_1 = \"Rama Raju\"\n",
    "name_2 = \"Rama Raju\"\n",
    "\n",
    "print(name_1 is name_2)"
   ]
  },
  {
   "cell_type": "markdown",
   "metadata": {},
   "source": [
    "Besides boolean operators, there are the functions `all()`, which returns true when all of the items in the sequence passed as parameters are true, and `any()`, which returns true if any item is true. We will cover them in functional programming."
   ]
  },
  {
   "cell_type": "markdown",
   "metadata": {},
   "source": [
    "### Bitwise Operators"
   ]
  },
  {
   "cell_type": "markdown",
   "metadata": {},
   "source": [
    "+ Left Shift (`<<`)\n",
    "+ Right Shift (`>>`)\n",
    "+ And (`&`)\n",
    "+ Or (`|`)\n",
    "+ Exclusive Or (`^`)\n",
    "+ Inversion (`~`)"
   ]
  },
  {
   "cell_type": "code",
   "execution_count": 65,
   "metadata": {},
   "outputs": [],
   "source": [
    "x = 10 #-> 1010 \n",
    "y = 11 #-> 1011\n",
    "\n",
    "# Binary -> Decimal\n",
    "# 01 -> 1\n",
    "# 10 -> 2\n",
    "# 11 -> 3"
   ]
  },
  {
   "cell_type": "code",
   "execution_count": 51,
   "metadata": {},
   "outputs": [
    {
     "name": "stdout",
     "output_type": "stream",
     "text": [
      "x << 2 =  40\n",
      "x = 10\n",
      "x >> 2 =  2\n"
     ]
    }
   ],
   "source": [
    "x = 10 #-> 1010 \n",
    "y = 11 #-> 1011\n",
    "\n",
    "y =  x << 2   \n",
    "print(\"x << 2 = \", y)  # 101000\n",
    "print(\"x =\", x)  # as numbers are immutables, new number `y` was created. \n",
    "print(\"x >> 2 = \", x >> 2) # 10"
   ]
  },
  {
   "cell_type": "code",
   "execution_count": 53,
   "metadata": {},
   "outputs": [
    {
     "name": "stdout",
     "output_type": "stream",
     "text": [
      "x = 10  and y = 11\n",
      "x & y  =  10\n"
     ]
    }
   ],
   "source": [
    "## AND operation\n",
    "\n",
    "x = 10  # 1010\n",
    "y = 11  # 1011\n",
    "print(\"x =\", x, \" and y =\", y)\n",
    "print(\"x & y  = \", x & y)"
   ]
  },
  {
   "cell_type": "markdown",
   "metadata": {},
   "source": [
    "\n",
    "```\n",
    "1011\n",
    "\"\"\"\n",
    "OR\n",
    "0 0 | 0 \n",
    "0 1 | 1\n",
    "1 0 | 1\n",
    "1 1 | 1\n",
    "AND\n",
    "0 0 | 0\n",
    "0 1 | 0\n",
    "1 0 | 0\n",
    "1 1 | 1\n",
    "\"\"\"\n",
    "```"
   ]
  },
  {
   "cell_type": "markdown",
   "metadata": {},
   "source": [
    "```python\n",
    "1010\n",
    "1011\n",
    "------- AND\n",
    "1010\n",
    "```"
   ]
  },
  {
   "cell_type": "code",
   "execution_count": 55,
   "metadata": {},
   "outputs": [
    {
     "name": "stdout",
     "output_type": "stream",
     "text": [
      "x = 10  and y = 11\n",
      "x | y  =  11\n"
     ]
    }
   ],
   "source": [
    "## Or Operator\n",
    "\n",
    "x = 10  # 1010\n",
    "y = 11  # 1011\n",
    "print(\"x =\", x, \" and y =\", y)\n",
    "print(\"x | y  = \", x|y)"
   ]
  },
  {
   "cell_type": "markdown",
   "metadata": {},
   "source": [
    "```python\n",
    "1010\n",
    "1011\n",
    "------- OR\n",
    "1011\n",
    "```"
   ]
  },
  {
   "cell_type": "markdown",
   "metadata": {},
   "source": [
    "```python\n",
    "# XOR\n",
    "0 0 | 0\n",
    "0 1 | 1\n",
    "1 0 | 1\n",
    "1 1 | 0\n",
    "```"
   ]
  },
  {
   "cell_type": "code",
   "execution_count": 56,
   "metadata": {},
   "outputs": [
    {
     "name": "stdout",
     "output_type": "stream",
     "text": [
      "x = 10  and y = 11\n",
      "x^y =  1\n"
     ]
    }
   ],
   "source": [
    "x = 10  # 1010\n",
    "y = 11  # 1011\n",
    "print(\"x =\", x, \" and y =\", y)\n",
    "print(\"x^y = \", x^y)"
   ]
  },
  {
   "cell_type": "markdown",
   "metadata": {},
   "source": [
    "```python\n",
    "1010\n",
    "1011\n",
    "------- XOR\n",
    "0001\n",
    "```"
   ]
  },
  {
   "cell_type": "code",
   "execution_count": 70,
   "metadata": {},
   "outputs": [
    {
     "name": "stdout",
     "output_type": "stream",
     "text": [
      "~x =  -11\n"
     ]
    }
   ],
   "source": [
    "## Inversion \n",
    "\n",
    "print(\"~x = \", ~x)"
   ]
  },
  {
   "cell_type": "code",
   "execution_count": 71,
   "metadata": {},
   "outputs": [
    {
     "name": "stdout",
     "output_type": "stream",
     "text": [
      "~y =  -12\n"
     ]
    }
   ],
   "source": [
    "print(\"~y = \", ~y)"
   ]
  },
  {
   "cell_type": "markdown",
   "metadata": {},
   "source": [
    "## Order of Operations"
   ]
  },
  {
   "cell_type": "markdown",
   "metadata": {},
   "source": [
    "Python uses the standard order of operations as taught in Algebra and Geometry classes. That, mathematical expressions are evaluated in the following order (memorized by many as PEMDAS or BODMAS {Brackets, Orders or pOwers, Division, Multiplication, Addition, Subtraction}) .\n",
    "\n",
    "(Note that operations which share a table row are performed from left to right. That is, a division to the left of a multiplication, with no parentheses between them, is performed before the multiplication simply because it is to the left.)\n",
    "\n",
    "\n",
    "| Name \t| Syntax \t| Description \t| PEMDAS Mnemonic \t|\n",
    "|----------------------------\t|----------\t|----------------------------------------------------------------------------------------------------------------------------------------\t|-----------------\t|\n",
    "| Parentheses \t| ( ... ) \t| Before operating on anything else, Python must evaluate all parentheticals starting at the innermost level. (This includes functions.) \t| Please \t|\n",
    "| Exponents \t| \\** \t| As an exponent is simply short multiplication or division, it should be evaluated before them. \t| Excuse \t|\n",
    "| Multiplication and Division \t| * / // % \t| Again, multiplication is rapid addition and must, therefore, happen first. \t| My Dear \t|\n",
    "| Addition and Subtraction \t| + - \t| They should happen independent to one another and finally operated among eachother \t| Aunt Sally \t|"
   ]
  },
  {
   "cell_type": "markdown",
   "metadata": {},
   "source": [
    "| operators                | descriptions                           |\n",
    "|--------------------------|----------------------------------------|\n",
    "| (), [], {}, ‘’           | tuple, list, dictionnary, string       |\n",
    "| x.attr, x[], x[i:j], f() | attribute, index, slide, function call |\n",
    "| +x, -x, ~x               | unary negation, bitwise invert         |\n",
    "| **                       | exponent                               |\n",
    "| *, /, %                  | multiplication, division, modulo       |\n",
    "| +, -                     | addition, substraction                 |\n",
    "| <<, >>                   | bitwise shifts                         |\n",
    "| &                        | bitwise and                            |\n",
    "| ^                        | bitwise xor                            |\n",
    "|                          | bitwise or                             |\n",
    "| <, <=, >=, >             | comparison operators                   |\n",
    "| ==, !=, is, is not, in,  | comparison operators (continue)        |\n",
    "| not in                   | comparison operators (continue)        |\n",
    "| not                      | boolean NOT                            |\n",
    "| and                      | boolean AND                            |\n",
    "| or                       | boolean OR                             |\n",
    "| lambda                   | lamnda expression                      |"
   ]
  },
  {
   "cell_type": "markdown",
   "metadata": {},
   "source": [
    "## Formatting output"
   ]
  },
  {
   "cell_type": "markdown",
   "metadata": {},
   "source": [
    "### `round()`"
   ]
  },
  {
   "cell_type": "code",
   "execution_count": 38,
   "metadata": {},
   "outputs": [
    {
     "name": "stdout",
     "output_type": "stream",
     "text": [
      "3.14\n",
      "3.142\n",
      "3.1416\n"
     ]
    }
   ],
   "source": [
    "print(round(3.14159265, 2))\n",
    "print(round(3.14159265, 3))\n",
    "print(round(3.14159265, 4))"
   ]
  },
  {
   "cell_type": "code",
   "execution_count": 57,
   "metadata": {},
   "outputs": [
    {
     "name": "stdout",
     "output_type": "stream",
     "text": [
      "134400.0\n"
     ]
    }
   ],
   "source": [
    "print(round(134365.14159265, -2))"
   ]
  },
  {
   "cell_type": "markdown",
   "metadata": {},
   "source": [
    "During the operations, numbers are converted appropriately (eg. `(1.5 + 4j) + 3` gives `4.5 + 4j`).\n",
    "\n",
    "Besides operators, there are also some *builtin* features to handle numeric types: `abs()`, which returns the absolute value of the number, `oct()`, which converts to octal, `hex()`, which converts for hexadecimal, `pow()`, which raises a number by another and `round()`, which returns a real number with the specified rounding."
   ]
  },
  {
   "cell_type": "markdown",
   "metadata": {},
   "source": [
    "### Gotcha's"
   ]
  },
  {
   "cell_type": "code",
   "execution_count": 49,
   "metadata": {},
   "outputs": [
    {
     "name": "stdout",
     "output_type": "stream",
     "text": [
      "False\n"
     ]
    }
   ],
   "source": [
    "print(0.1 + 0.11 == 0.21)"
   ]
  },
  {
   "cell_type": "markdown",
   "metadata": {},
   "source": [
    "Why ??????"
   ]
  },
  {
   "cell_type": "code",
   "execution_count": 50,
   "metadata": {},
   "outputs": [
    {
     "name": "stdout",
     "output_type": "stream",
     "text": [
      "0.21000000000000002\n"
     ]
    }
   ],
   "source": [
    "val = 0.1 + 0.11\n",
    "print(val)"
   ]
  },
  {
   "cell_type": "code",
   "execution_count": 51,
   "metadata": {},
   "outputs": [
    {
     "name": "stdout",
     "output_type": "stream",
     "text": [
      "False\n"
     ]
    }
   ],
   "source": [
    "print(0.1 + 0.2 == 0.3)"
   ]
  },
  {
   "cell_type": "code",
   "execution_count": 77,
   "metadata": {},
   "outputs": [
    {
     "data": {
      "text/plain": [
       "0.22"
      ]
     },
     "execution_count": 77,
     "metadata": {},
     "output_type": "execute_result"
    }
   ],
   "source": [
    "0.1 + 0.12"
   ]
  },
  {
   "cell_type": "code",
   "execution_count": 78,
   "metadata": {},
   "outputs": [
    {
     "data": {
      "text/plain": [
       "0.30000000000000004"
      ]
     },
     "execution_count": 78,
     "metadata": {},
     "output_type": "execute_result"
    }
   ],
   "source": [
    "0.1 + 0.2"
   ]
  },
  {
   "cell_type": "markdown",
   "metadata": {},
   "source": [
    "**`math.isclose` to the rescue.** "
   ]
  },
  {
   "cell_type": "code",
   "execution_count": 46,
   "metadata": {},
   "outputs": [
    {
     "name": "stdout",
     "output_type": "stream",
     "text": [
      "True\n",
      "False\n",
      "True\n",
      "True\n",
      "True\n"
     ]
    }
   ],
   "source": [
    "import math\n",
    "\n",
    "print(math.isclose(0.1 + 0.2, 0.3))\n",
    "print(math.isclose(0.1 + 0.2, 0.300000004))  # False\n",
    "print(math.isclose(0.1 + 0.11, 0.21))\n",
    "print(math.isclose(0.1 + 0.2, 0.3000000001)) # True\n",
    "print(math.isclose(0.1 + 0.2, 0.30000000000000004)) # True"
   ]
  },
  {
   "cell_type": "code",
   "execution_count": 60,
   "metadata": {},
   "outputs": [
    {
     "name": "stdout",
     "output_type": "stream",
     "text": [
      "20 10\n"
     ]
    }
   ],
   "source": [
    "# Swapping the values of two variables \n",
    "\n",
    "a = 10\n",
    "b = 20\n",
    "\n",
    "a = a + b  # 10 + 20 = 30\n",
    "b = a - b  # 30 - 20 = 10 \n",
    "a = a - b  # 30 - 10 = 20\n",
    "\n",
    "print(a, b)"
   ]
  },
  {
   "cell_type": "code",
   "execution_count": 58,
   "metadata": {},
   "outputs": [
    {
     "name": "stdout",
     "output_type": "stream",
     "text": [
      "20 10\n"
     ]
    }
   ],
   "source": [
    "a = 10\n",
    "b = 20\n",
    "\n",
    "a, b = b, a\n",
    "print(a, b)"
   ]
  },
  {
   "cell_type": "markdown",
   "metadata": {},
   "source": [
    "### Q & A "
   ]
  },
  {
   "cell_type": "markdown",
   "metadata": {},
   "source": [
    "#### what is the output of the followings:"
   ]
  },
  {
   "cell_type": "markdown",
   "metadata": {},
   "source": [
    "- \n",
    "```python\n",
    "print(0.1 + 0.11 == 0.12)\n",
    "```"
   ]
  },
  {
   "cell_type": "markdown",
   "metadata": {},
   "source": [
    "**Ans:** False"
   ]
  },
  {
   "cell_type": "markdown",
   "metadata": {},
   "source": [
    "- \n",
    "```python\n",
    "print(0.11 + 0.2 == 0.31)\n",
    "```"
   ]
  },
  {
   "cell_type": "markdown",
   "metadata": {},
   "source": [
    "**Ans:** True"
   ]
  },
  {
   "cell_type": "markdown",
   "metadata": {},
   "source": [
    "- \n",
    "```python\n",
    "print(~1011)\n",
    "```"
   ]
  },
  {
   "cell_type": "markdown",
   "metadata": {},
   "source": [
    "**Ans:** -1012"
   ]
  },
  {
   "cell_type": "markdown",
   "metadata": {},
   "source": [
    "- \n",
    "```python\n",
    "b = 0x1000\n",
    "a = 10\n",
    "a = b\n",
    "print(a, b)\n",
    "```"
   ]
  },
  {
   "cell_type": "markdown",
   "metadata": {},
   "source": [
    "**Ans:** 4096 4096"
   ]
  },
  {
   "cell_type": "markdown",
   "metadata": {},
   "source": [
    "- \n",
    "```python\n",
    "5 + 2 // 4\n",
    "```"
   ]
  },
  {
   "cell_type": "markdown",
   "metadata": {},
   "source": [
    "**Ans:** 5"
   ]
  },
  {
   "cell_type": "markdown",
   "metadata": {},
   "source": [
    "- \n",
    "```python\n",
    "(5 + 2)%(1 + 4/2)\n",
    "```"
   ]
  },
  {
   "cell_type": "markdown",
   "metadata": {},
   "source": [
    "**Ans:** 1.0"
   ]
  },
  {
   "cell_type": "markdown",
   "metadata": {},
   "source": [
    "- \n",
    "```python\n",
    "5 + 2%4\n",
    "```"
   ]
  },
  {
   "cell_type": "markdown",
   "metadata": {},
   "source": [
    "**Ans:** 7"
   ]
  },
  {
   "cell_type": "markdown",
   "metadata": {},
   "source": [
    "- \n",
    "```python\n",
    "5 + 2*4\n",
    "```"
   ]
  },
  {
   "cell_type": "markdown",
   "metadata": {},
   "source": [
    "**Ans:** 13"
   ]
  },
  {
   "cell_type": "markdown",
   "metadata": {},
   "source": [
    "- \n",
    "```python\n",
    "5 % 2*4 // 2\n",
    "```"
   ]
  },
  {
   "cell_type": "markdown",
   "metadata": {},
   "source": [
    "**Ans:** 2"
   ]
  },
  {
   "cell_type": "markdown",
   "metadata": {},
   "source": [
    "- \n",
    "```python\n",
    "int(5.55 % 2+3/3)\n",
    "```"
   ]
  },
  {
   "cell_type": "markdown",
   "metadata": {},
   "source": [
    "**Ans:** 2"
   ]
  },
  {
   "cell_type": "markdown",
   "metadata": {},
   "source": [
    "- \n",
    "```python\n",
    "round(5.55 % 2+3/3)\n",
    "```"
   ]
  },
  {
   "cell_type": "markdown",
   "metadata": {},
   "source": [
    "**Ans:** 3"
   ]
  },
  {
   "cell_type": "markdown",
   "metadata": {},
   "source": [
    "- \n",
    "```python\n",
    "~~~~15\n",
    "```"
   ]
  },
  {
   "cell_type": "markdown",
   "metadata": {},
   "source": [
    "**Ans:** 15"
   ]
  },
  {
   "cell_type": "markdown",
   "metadata": {},
   "source": [
    "- \n",
    "```python\n",
    "2**(3**2)\n",
    "```"
   ]
  },
  {
   "cell_type": "markdown",
   "metadata": {},
   "source": [
    "**Ans:** 512"
   ]
  },
  {
   "cell_type": "markdown",
   "metadata": {},
   "source": [
    "- \n",
    "```python\n",
    "(2**3)**2\n",
    "``` "
   ]
  },
  {
   "cell_type": "markdown",
   "metadata": {},
   "source": [
    "**Ans:** 64"
   ]
  },
  {
   "cell_type": "markdown",
   "metadata": {},
   "source": [
    "- \n",
    "```python\n",
    "2**3**2\n",
    "```"
   ]
  },
  {
   "cell_type": "markdown",
   "metadata": {},
   "source": [
    "**Ans:** 512"
   ]
  },
  {
   "cell_type": "markdown",
   "metadata": {},
   "source": [
    "- \n",
    "```python\n",
    "a = 1\n",
    "a, b = a+1, a+1\n",
    "print(a)\n",
    "print(b)\n",
    "```"
   ]
  },
  {
   "cell_type": "markdown",
   "metadata": {},
   "source": [
    "**Ans:**\n",
    "```\n",
    "2\n",
    "2\n",
    "```"
   ]
  },
  {
   "cell_type": "markdown",
   "metadata": {},
   "source": [
    "- \n",
    "```python\n",
    "i + = 1\n",
    "```"
   ]
  },
  {
   "cell_type": "markdown",
   "metadata": {},
   "source": [
    "**Ans:** `SyntaxError: invalid syntax`"
   ]
  },
  {
   "cell_type": "markdown",
   "metadata": {},
   "source": [
    "## Reference, Recommendation, Remarks & Thanks \n",
    "\n",
    "- https://en.wikibooks.org/wiki/Python_Programming/Operators\n",
    "- https://www.python.org/dev/peps/pep-0572/#syntax-and-semantics"
   ]
  }
 ],
 "metadata": {
  "anaconda-cloud": {},
  "kernelspec": {
   "display_name": "Python 3 (ipykernel)",
   "language": "python",
   "name": "python3"
  },
  "language_info": {
   "codemirror_mode": {
    "name": "ipython",
    "version": 3
   },
   "file_extension": ".py",
   "mimetype": "text/x-python",
   "name": "python",
   "nbconvert_exporter": "python",
   "pygments_lexer": "ipython3",
   "version": "3.10.4"
  }
 },
 "nbformat": 4,
 "nbformat_minor": 1
}
