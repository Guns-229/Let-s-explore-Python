{
 "cells": [
  {
   "cell_type": "markdown",
   "metadata": {},
   "source": [
    "## Lists"
   ]
  },
  {
   "cell_type": "markdown",
   "metadata": {},
   "source": [
    "Lists are **ordered collections** of **heterogeneous objects**, which can be of any type, including lists.\n",
    "\n",
    "Lists in the Python are mutable and thus can be elements added, removed and updated. Lists can be sliced similar to *strings*.\n",
    "\n",
    "Syntax of list creation is as follows \n",
    "\n",
    "**Syntax**:\n",
    "\n",
    "```python\n",
    "list_name = [a, b, ..., z]\n",
    "\n",
    "empty_list = []\n",
    "```"
   ]
  },
  {
   "cell_type": "markdown",
   "metadata": {},
   "source": [
    "**Example:**"
   ]
  },
  {
   "cell_type": "code",
   "execution_count": 1,
   "metadata": {},
   "outputs": [
    {
     "name": "stdout",
     "output_type": "stream",
     "text": [
      "['Apple', 'Linux', ['admin', ['Roshan', 'rm@india.com']], 20]\n"
     ]
    }
   ],
   "source": [
    "fruits = ['Apple', 'Linux',  [\"admin\", [\"Roshan\", \"rm@india.com\"]], 20]\n",
    "print(fruits)"
   ]
  },
  {
   "cell_type": "markdown",
   "metadata": {},
   "source": [
    "In the above example, we have multiple strings as elements, you will also observe that multiple instances of duplicate data such as `Apple` & `Grapes` are present in the list. \n",
    "\n",
    "Lets cover few most common operations which can be performed on the list elements or list. "
   ]
  },
  {
   "cell_type": "markdown",
   "metadata": {},
   "source": [
    "- Heterogeneous elements\n",
    "- Order of elements is maintained\n",
    "- Mutable Data Type\n",
    "- Indexing starts from `ZERO` `0`."
   ]
  },
  {
   "cell_type": "markdown",
   "metadata": {},
   "source": [
    "### Creating lists"
   ]
  },
  {
   "cell_type": "markdown",
   "metadata": {},
   "source": [
    "- by using `[]`"
   ]
  },
  {
   "cell_type": "code",
   "execution_count": 1,
   "metadata": {},
   "outputs": [],
   "source": [
    "fruits = ['Apple', 'Mango', 'Green Grapes', 'Jackfruit']\n",
    "empty_list = []"
   ]
  },
  {
   "cell_type": "markdown",
   "metadata": {},
   "source": [
    "- by using `list`"
   ]
  },
  {
   "cell_type": "markdown",
   "metadata": {},
   "source": [
    "It can convert other collection data type to a list. "
   ]
  },
  {
   "cell_type": "code",
   "execution_count": 2,
   "metadata": {},
   "outputs": [
    {
     "name": "stdout",
     "output_type": "stream",
     "text": [
      "[1, 2, 3, 4]\n"
     ]
    }
   ],
   "source": [
    "lst = list((1, 2, 3, 4))\n",
    "print(lst)"
   ]
  },
  {
   "cell_type": "code",
   "execution_count": 4,
   "metadata": {},
   "outputs": [
    {
     "name": "stdout",
     "output_type": "stream",
     "text": [
      "['M', 'a', 'y', 'a', '[', 'n', 'k', ']']\n"
     ]
    }
   ],
   "source": [
    "lst = list(\"Maya[nk]\")\n",
    "print(lst)"
   ]
  },
  {
   "cell_type": "code",
   "execution_count": 5,
   "metadata": {},
   "outputs": [
    {
     "name": "stdout",
     "output_type": "stream",
     "text": [
      "list expected at most 1 argument, got 4\n"
     ]
    }
   ],
   "source": [
    "# sorry we cannot pass multiple arguments to it.\n",
    "try:\n",
    "    lst = list(1, 2, 3, 4)\n",
    "    print(lst)\n",
    "except TypeError as te:\n",
    "    print(te)"
   ]
  },
  {
   "cell_type": "code",
   "execution_count": 16,
   "metadata": {},
   "outputs": [
    {
     "name": "stdout",
     "output_type": "stream",
     "text": [
      "[]\n"
     ]
    }
   ],
   "source": [
    "lst = list()\n",
    "print(lst)"
   ]
  },
  {
   "cell_type": "markdown",
   "metadata": {},
   "source": [
    "### Accessing individual elements"
   ]
  },
  {
   "cell_type": "markdown",
   "metadata": {},
   "source": [
    "Individual elements can be accessed using their index as shown below"
   ]
  },
  {
   "cell_type": "code",
   "execution_count": 3,
   "metadata": {},
   "outputs": [
    {
     "name": "stdout",
     "output_type": "stream",
     "text": [
      "Lets eat fruits[2]='Apple' & fruits[-3]='Mango'\n"
     ]
    }
   ],
   "source": [
    "fruits = ['Apple', 'Mango', 'Apple', 'Jackfruit']\n",
    "\n",
    "print(f\"Lets eat {fruits[2]=} & {fruits[-3]=}\")"
   ]
  },
  {
   "cell_type": "code",
   "execution_count": 1,
   "metadata": {},
   "outputs": [],
   "source": [
    "# List of lists.\n",
    "marks = [[1, [2, 3]],  # 0 Index\n",
    "         [1, [1, 12, [2, 4]]],  # 1 Index\n",
    "         [21, 1, \n",
    "          134],  # 2 Index\n",
    "         [100, 3, 2]]   # 3 Index"
   ]
  },
  {
   "cell_type": "code",
   "execution_count": 9,
   "metadata": {},
   "outputs": [
    {
     "name": "stdout",
     "output_type": "stream",
     "text": [
      "[1, [1, 12, [2, 4]]]\n"
     ]
    }
   ],
   "source": [
    "print(marks[1])"
   ]
  },
  {
   "cell_type": "code",
   "execution_count": 10,
   "metadata": {},
   "outputs": [
    {
     "name": "stdout",
     "output_type": "stream",
     "text": [
      "[1, 12, [2, 4]]\n"
     ]
    }
   ],
   "source": [
    "print(marks[1][1])"
   ]
  },
  {
   "cell_type": "code",
   "execution_count": 11,
   "metadata": {},
   "outputs": [
    {
     "name": "stdout",
     "output_type": "stream",
     "text": [
      "1\n"
     ]
    }
   ],
   "source": [
    "print(marks[1][1][0])"
   ]
  },
  {
   "cell_type": "code",
   "execution_count": 4,
   "metadata": {},
   "outputs": [
    {
     "name": "stdout",
     "output_type": "stream",
     "text": [
      "list index out of range\n"
     ]
    }
   ],
   "source": [
    "# Trying to access non existing elements will always result in error\n",
    "\n",
    "try:\n",
    "    operating_systems = ['RedHat', 'FreeBSD', 'Funtoo']\n",
    "    c = operating_systems[12]  # We don't have 12th index element,\n",
    "                               # thus it will fail.\n",
    "    print(c)\n",
    "except Exception as e:\n",
    "    print(e)"
   ]
  },
  {
   "cell_type": "code",
   "execution_count": 5,
   "metadata": {},
   "outputs": [
    {
     "name": "stdout",
     "output_type": "stream",
     "text": [
      "Camel\n"
     ]
    }
   ],
   "source": [
    "animals = ['peacock', 'tiger', 'Camel']\n",
    "c = animals[2]\n",
    "print(c)"
   ]
  },
  {
   "cell_type": "code",
   "execution_count": 15,
   "metadata": {},
   "outputs": [
    {
     "name": "stdout",
     "output_type": "stream",
     "text": [
      "['/home/ramesh', 'userlist.txt']\n",
      "userlist.txt\n",
      "userlist.txt\n"
     ]
    }
   ],
   "source": [
    "file_path = \"/home/ramesh/userlist.txt\".rsplit(\"/\", 1)\n",
    "\n",
    "print(file_path)\n",
    "print(file_path[1])  # If I am sure\n",
    "print(file_path[-1]) # If I am not sure if the split will work\n",
    "# If the split has not happened, then we will have \n",
    "# `file_path` = [\"/home/ramesh/userlist.txt\"]"
   ]
  },
  {
   "cell_type": "code",
   "execution_count": 13,
   "metadata": {},
   "outputs": [
    {
     "name": "stdout",
     "output_type": "stream",
     "text": [
      "['/home/ramesh/abc/']\n",
      "Error: list index out of range\n",
      "/home/ramesh/abc/\n"
     ]
    }
   ],
   "source": [
    "file_path = \"/home/ramesh/abc/\".rsplit(\"\\\\\", 1)\n",
    "\n",
    "print(file_path)\n",
    "try:\n",
    "    print(file_path[1])  # If I am sure\n",
    "except Exception as e:\n",
    "    print(f\"Error: {e}\")\n",
    "print(file_path[-1]) # If I am not sure if the split will work\n",
    "# If the split has not happened, then we will have \n",
    "# `file_path` = [\"/home/ramesh/userlist.txt\"]\n"
   ]
  },
  {
   "cell_type": "markdown",
   "metadata": {},
   "source": [
    "### Update the existing element"
   ]
  },
  {
   "cell_type": "code",
   "execution_count": 6,
   "metadata": {},
   "outputs": [
    {
     "name": "stdout",
     "output_type": "stream",
     "text": [
      "['', 'home', 'ramesh', 'abc', 'userlist.txt']\n"
     ]
    }
   ],
   "source": [
    "file_path = \"/home/ramesh/abc/userlist.txt\".split(\"/\")\n",
    "\n",
    "print(file_path)"
   ]
  },
  {
   "cell_type": "code",
   "execution_count": 7,
   "metadata": {},
   "outputs": [
    {
     "name": "stdout",
     "output_type": "stream",
     "text": [
      "5\n"
     ]
    }
   ],
   "source": [
    "print(len(file_path))"
   ]
  },
  {
   "cell_type": "code",
   "execution_count": 8,
   "metadata": {},
   "outputs": [
    {
     "name": "stdout",
     "output_type": "stream",
     "text": [
      "['C:', 'home', 'ramesh', 'abc', 'userlist.txt']\n"
     ]
    }
   ],
   "source": [
    "# Lets convert it for ReactOS\n",
    "\n",
    "file_path[0] = \"C:\"\n",
    "print(file_path)"
   ]
  },
  {
   "cell_type": "code",
   "execution_count": 9,
   "metadata": {},
   "outputs": [
    {
     "name": "stdout",
     "output_type": "stream",
     "text": [
      "C:\\home\\ramesh\\abc\\userlist.txt\n"
     ]
    }
   ],
   "source": [
    "print(\"\\\\\".join(file_path))"
   ]
  },
  {
   "cell_type": "code",
   "execution_count": 10,
   "metadata": {},
   "outputs": [
    {
     "name": "stdout",
     "output_type": "stream",
     "text": [
      "list assignment index out of range\n"
     ]
    }
   ],
   "source": [
    "# Trying to update a non existing elements will always result in error\n",
    "try:\n",
    "    # Lets convert it for Windows\n",
    "    \n",
    "    file_path[10] = \"C:\"\n",
    "    print(file_path)\n",
    "except Exception as e:\n",
    "    print(e)"
   ]
  },
  {
   "cell_type": "markdown",
   "metadata": {},
   "source": [
    "### Inserting Element"
   ]
  },
  {
   "cell_type": "markdown",
   "metadata": {},
   "source": [
    "`insert` allows us to add **an element** at requested location in the list. "
   ]
  },
  {
   "cell_type": "code",
   "execution_count": 13,
   "metadata": {},
   "outputs": [
    {
     "name": "stdout",
     "output_type": "stream",
     "text": [
      "['Apple', 'Mango', 'Green Apple', 'Banana', 'Jackfruit']\n"
     ]
    }
   ],
   "source": [
    "# insert always treats the inserting element as single element.\n",
    "fruits = ['Apple', 'Mango', 'Green Apple', 'Jackfruit']\n",
    "fruits.insert(3, \"Banana\")\n",
    "print(fruits)"
   ]
  },
  {
   "cell_type": "code",
   "execution_count": 14,
   "metadata": {},
   "outputs": [
    {
     "name": "stdout",
     "output_type": "stream",
     "text": [
      "Number of elements in fruits: len(fruits)=5\n"
     ]
    }
   ],
   "source": [
    "# we can use `len` to get the number of elements in any collection,\n",
    "print(f\"Number of elements in fruits: {len(fruits)=}\")"
   ]
  },
  {
   "cell_type": "markdown",
   "metadata": {},
   "source": [
    "If the index is more than the list max index, the element will be added at the end of the list."
   ]
  },
  {
   "cell_type": "code",
   "execution_count": 15,
   "metadata": {},
   "outputs": [
    {
     "name": "stdout",
     "output_type": "stream",
     "text": [
      "['Apple', 'Mango', 'Green Apple', 'Banana', 'Jackfruit', ['Water Melon', 'Grapes']]\n"
     ]
    }
   ],
   "source": [
    "fruits.insert(10, [\"Water Melon\", \"Grapes\"])\n",
    "print(fruits)"
   ]
  },
  {
   "cell_type": "markdown",
   "metadata": {},
   "source": [
    "and if the index is less than the list min index, the element will be added at the start of the list else at the listed location as shown below."
   ]
  },
  {
   "cell_type": "code",
   "execution_count": 26,
   "metadata": {},
   "outputs": [
    {
     "name": "stdout",
     "output_type": "stream",
     "text": [
      "['Apple', 'Mango', ['Water Melon', 'Banana'], 'Green Apple', 'Jackfruit']\n"
     ]
    }
   ],
   "source": [
    "fruits = ['Apple', 'Mango', 'Green Apple', 'Jackfruit']\n",
    "fruits.insert(-2, [\"Water Melon\", \"Banana\"])\n",
    "print(fruits)"
   ]
  },
  {
   "cell_type": "code",
   "execution_count": 21,
   "metadata": {},
   "outputs": [
    {
     "name": "stdout",
     "output_type": "stream",
     "text": [
      "['Banana', 'Apple', 'Mango', 'Green Apple', 'Jackfruit']\n"
     ]
    }
   ],
   "source": [
    "fruits = ['Apple', 'Mango', 'Green Apple', 'Jackfruit']\n",
    "\n",
    "fruits.insert(-12,  \"Banana\")\n",
    "\n",
    "print(fruits)"
   ]
  },
  {
   "cell_type": "code",
   "execution_count": 18,
   "metadata": {},
   "outputs": [
    {
     "name": "stdout",
     "output_type": "stream",
     "text": [
      "fruits=['Apple', 'Mango', 'Green Apple', ['Green Apple', 'Jackfruit'], 'Jackfruit']\n"
     ]
    }
   ],
   "source": [
    "fruits = ['Apple', 'Mango', 'Green Apple', 'Jackfruit']\n",
    "\n",
    "fruits.insert(3, fruits[2:10])\n",
    "\n",
    "print(f\"{fruits=}\")"
   ]
  },
  {
   "cell_type": "code",
   "execution_count": 19,
   "metadata": {},
   "outputs": [
    {
     "name": "stdout",
     "output_type": "stream",
     "text": [
      "id(fruits[2]): 140138752957488, fruits[2]: Green Apple\n"
     ]
    }
   ],
   "source": [
    "print(f\"id(fruits[2]): {id(fruits[2])}, fruits[2]: {fruits[2]}\")"
   ]
  },
  {
   "cell_type": "code",
   "execution_count": 20,
   "metadata": {},
   "outputs": [
    {
     "name": "stdout",
     "output_type": "stream",
     "text": [
      "id(fruits[3][1]): 140138752957488, fruits[3][0]: Green Apple\n"
     ]
    }
   ],
   "source": [
    "print(f\"id(fruits[3][1]): {id(fruits[3][0])}, fruits[3][0]: {fruits[3][0]}\")"
   ]
  },
  {
   "cell_type": "code",
   "execution_count": 21,
   "metadata": {},
   "outputs": [
    {
     "name": "stdout",
     "output_type": "stream",
     "text": [
      "['Apple', 'Mango', 'Green Grapes', [...], 'Jackfruit']\n"
     ]
    }
   ],
   "source": [
    "# Inserting list in itself.\n",
    "\n",
    "fruits = ['Apple', 'Mango', 'Green Grapes', 'Jackfruit']\n",
    "\n",
    "fruits.insert(-1, fruits)\n",
    "\n",
    "print(fruits)"
   ]
  },
  {
   "cell_type": "code",
   "execution_count": 28,
   "metadata": {},
   "outputs": [
    {
     "name": "stdout",
     "output_type": "stream",
     "text": [
      "['Apple', 'Mango', 'Kiwi', [...], 'Jackfruit']\n"
     ]
    }
   ],
   "source": [
    "# just for fun, infinite looped list :)\n",
    "\n",
    "print(fruits[3][3][3])"
   ]
  },
  {
   "cell_type": "code",
   "execution_count": 27,
   "metadata": {},
   "outputs": [
    {
     "name": "stdout",
     "output_type": "stream",
     "text": [
      "['Apple', 'Mango', 'Kiwi', [...], 'Jackfruit']\n",
      "['Apple', 'Mango', 'Kiwi', [...], 'Jackfruit']\n"
     ]
    }
   ],
   "source": [
    "fruits[2] = \"Kiwi\"\n",
    "print(fruits)\n",
    "print(fruits[3][3][3])"
   ]
  },
  {
   "cell_type": "markdown",
   "metadata": {},
   "source": [
    "### Appending Element"
   ]
  },
  {
   "cell_type": "markdown",
   "metadata": {},
   "source": [
    "`append` adds  **an element** at the end of the list"
   ]
  },
  {
   "cell_type": "code",
   "execution_count": 30,
   "metadata": {},
   "outputs": [
    {
     "name": "stdout",
     "output_type": "stream",
     "text": [
      "['Apple', 'Mango', 'Grapes', 'kiwi']\n"
     ]
    }
   ],
   "source": [
    "fruits = ['Apple', 'Mango', 'Grapes']\n",
    "\n",
    "fruits.append('kiwi') \n",
    "\n",
    "print(fruits)"
   ]
  },
  {
   "cell_type": "code",
   "execution_count": 32,
   "metadata": {},
   "outputs": [
    {
     "name": "stdout",
     "output_type": "stream",
     "text": [
      "['Apple', 'Mango', 'Grapes', ['kiwi', 'Apple']]\n"
     ]
    }
   ],
   "source": [
    "# Appending a lists\n",
    "# -----------------\n",
    "# it treats the eppend element as single elment, \n",
    "# thus if collection is provided, then its added as as single element. \n",
    "fruits = ['Apple', 'Mango', 'Grapes']\n",
    "\n",
    "fruits.append(['kiwi', 'Apple'])\n",
    "\n",
    "print(fruits)"
   ]
  },
  {
   "cell_type": "code",
   "execution_count": 33,
   "metadata": {},
   "outputs": [
    {
     "name": "stdout",
     "output_type": "stream",
     "text": [
      "['Apple', 'Mango', 'Grapes', ['kiwi', 'Apple'], ('kiwi', 'Apple')]\n"
     ]
    }
   ],
   "source": [
    "fruits.append(('kiwi', 'Apple'))\n",
    "print(fruits)"
   ]
  },
  {
   "cell_type": "code",
   "execution_count": 34,
   "metadata": {},
   "outputs": [
    {
     "name": "stdout",
     "output_type": "stream",
     "text": [
      "['Apple', 'Mango', 'Grapes', ['kiwi', 'Apple'], ('kiwi', 'Apple'), {10, 11}]\n"
     ]
    }
   ],
   "source": [
    "fruits.append({10, 11})\n",
    "print(fruits)"
   ]
  },
  {
   "cell_type": "code",
   "execution_count": 35,
   "metadata": {},
   "outputs": [
    {
     "name": "stdout",
     "output_type": "stream",
     "text": [
      "['Apple', 'Mango', 'Grapes', ['kiwi', 'Apple'], ('kiwi', 'Apple'), {10, 11}, {10: 1}]\n"
     ]
    }
   ],
   "source": [
    "fruits.append({10: 1})\n",
    "print(fruits)"
   ]
  },
  {
   "cell_type": "markdown",
   "metadata": {},
   "source": [
    "### Extending Elements"
   ]
  },
  {
   "cell_type": "markdown",
   "metadata": {},
   "source": [
    "Extends treat the appending collection as seperate elements and adds them to the list as individual elements."
   ]
  },
  {
   "cell_type": "code",
   "execution_count": 37,
   "metadata": {},
   "outputs": [],
   "source": [
    "# Adding newly joined admins to existing admin_users list.\n",
    "# In the below code, `admin_users` gets updated with `new_admins`\n",
    "# but `new_admins` still remain the same.\n",
    "\n",
    "admin_users = ['root', 'rakesh', 'manoj']\n",
    "new_admins = ['rohit', 'manish']\n"
   ]
  },
  {
   "cell_type": "code",
   "execution_count": 38,
   "metadata": {},
   "outputs": [
    {
     "name": "stdout",
     "output_type": "stream",
     "text": [
      "admin_users=['root', 'rakesh', 'manoj', 'rohit', 'manish'] \n",
      "new_admins=['rohit', 'manish']\n"
     ]
    }
   ],
   "source": [
    "\n",
    "admin_users.extend(new_admins)\n",
    "print(f\"{admin_users=} \\n{new_admins=}\")"
   ]
  },
  {
   "cell_type": "code",
   "execution_count": 40,
   "metadata": {},
   "outputs": [
    {
     "name": "stdout",
     "output_type": "stream",
     "text": [
      "['Apple', 'Mango', 'Peach', 'jackfruit', ['Mango', 'Langda']]\n"
     ]
    }
   ],
   "source": [
    "fruits = ['Apple', 'Mango', 'Peach']\n",
    "\n",
    "new_fruits = ['jackfruit', [\"Mango\", \"Langda\"]]\n",
    "\n",
    "fruits.extend(new_fruits)\n",
    "print(fruits)"
   ]
  },
  {
   "cell_type": "markdown",
   "metadata": {},
   "source": [
    "> **NOTE**\n",
    "> ***\n",
    "> Only one level of extending happens, \"Mango\", \"langda\" are still in sub-list"
   ]
  },
  {
   "cell_type": "code",
   "execution_count": 41,
   "metadata": {},
   "outputs": [
    {
     "name": "stdout",
     "output_type": "stream",
     "text": [
      "['Apple', 'Mango', 'Peach', 'jackfruit', ['Mango', 'Langda'], 'kiwi', ('Apple',)]\n"
     ]
    }
   ],
   "source": [
    "fruits.extend(('kiwi', ('Apple', )))\n",
    "\n",
    "print(fruits)"
   ]
  },
  {
   "cell_type": "code",
   "execution_count": 42,
   "metadata": {},
   "outputs": [
    {
     "name": "stdout",
     "output_type": "stream",
     "text": [
      "Error: 'int' object is not iterable\n"
     ]
    }
   ],
   "source": [
    "# Please try not to send arguments which are not a collection\n",
    "# or iterable.\n",
    "\n",
    "try:\n",
    "    fruits.extend(10)\n",
    "    print(fruits)\n",
    "except Exception as e:\n",
    "    print(\"Error:\", e)"
   ]
  },
  {
   "cell_type": "code",
   "execution_count": 43,
   "metadata": {},
   "outputs": [
    {
     "name": "stdout",
     "output_type": "stream",
     "text": [
      "['Apple', 'Mango', 'Grapes', 'M', 'a', 'n', 'g', 'o']\n"
     ]
    }
   ],
   "source": [
    "# but as sting is a collection of charactes, it will still work.\n",
    "fruits = ['Apple', 'Mango', 'Grapes']\n",
    "\n",
    "fruits.extend('Mango')\n",
    "print(fruits)"
   ]
  },
  {
   "cell_type": "code",
   "execution_count": 45,
   "metadata": {},
   "outputs": [
    {
     "name": "stdout",
     "output_type": "stream",
     "text": [
      "['Apple', 'Mango', 'Grapes', 'test', 'Apple']\n"
     ]
    }
   ],
   "source": [
    "# Dictionary also works, but only keys gets added.\n",
    "\n",
    "fruits = ['Apple', 'Mango', 'Grapes']\n",
    "new_dict = {\"test\": 10, 'Apple': 'Mango'}\n",
    "\n",
    "fruits.extend(new_dict)\n",
    "print(fruits)"
   ]
  },
  {
   "cell_type": "markdown",
   "metadata": {},
   "source": [
    "## Removing"
   ]
  },
  {
   "cell_type": "markdown",
   "metadata": {},
   "source": [
    "### `del`"
   ]
  },
  {
   "cell_type": "markdown",
   "metadata": {},
   "source": [
    "`del` do not return anything. \n",
    "\n",
    "**When to use**: If we know the index of the element which we want to del. "
   ]
  },
  {
   "cell_type": "code",
   "execution_count": 46,
   "metadata": {},
   "outputs": [
    {
     "name": "stdout",
     "output_type": "stream",
     "text": [
      "Before del: fruits=['Apple', 'Mango', 'Grapes', 'Jackfruit', 'Peach']\n",
      "After del: fruits=['Apple', 'Mango', 'Grapes', 'Peach']\n"
     ]
    }
   ],
   "source": [
    "fruits = ['Apple', 'Mango', 'Grapes', 'Jackfruit', 'Peach']\n",
    "print(f\"Before del: {fruits=}\" )\n",
    "\n",
    "# This will remove `Jackfruit` as its the 3rd index element.\n",
    "del fruits[3]  \n",
    "    \n",
    "print(f\"After del: {fruits=}\" )"
   ]
  },
  {
   "cell_type": "code",
   "execution_count": 47,
   "metadata": {},
   "outputs": [
    {
     "name": "stdout",
     "output_type": "stream",
     "text": [
      "['Mango', 'Peach']\n"
     ]
    }
   ],
   "source": [
    "# Even Sliceing is supported.\n",
    "# Removing Even indexed elements\n",
    "\n",
    "del fruits[::2]\n",
    "print(fruits)"
   ]
  },
  {
   "cell_type": "code",
   "execution_count": 49,
   "metadata": {},
   "outputs": [
    {
     "name": "stdout",
     "output_type": "stream",
     "text": [
      "['Apple', 'Grapes', 'Peach']\n"
     ]
    }
   ],
   "source": [
    "# Deleting odd index elements\n",
    "fruits = ['Apple', 'Mango', 'Grapes', 'Jackfruit', 'Peach']\n",
    "\n",
    "del fruits[1::2]\n",
    "print(fruits)"
   ]
  },
  {
   "cell_type": "code",
   "execution_count": 50,
   "metadata": {},
   "outputs": [
    {
     "name": "stdout",
     "output_type": "stream",
     "text": [
      "numbers=[1, 2, 3, 4]\n",
      "name 'l' is not defined\n"
     ]
    }
   ],
   "source": [
    "# Gotcha\n",
    "\n",
    "numbers = [1, 2, 3, 4]\n",
    "l = numbers[2]\n",
    "\n",
    "# Instead of delete the 2nd index element, \n",
    "# it will delete the `l` variable itself.\n",
    "del l\n",
    "\n",
    "print(f\"{numbers=}\")  # Still the same old lst\n",
    "try:\n",
    "    print(l)\n",
    "except Exception as e:\n",
    "    print(e)"
   ]
  },
  {
   "cell_type": "markdown",
   "metadata": {},
   "source": [
    "In the above example, `del l` removed the reference of `l`, i.e. it delete the variable `l` and not the data."
   ]
  },
  {
   "cell_type": "markdown",
   "metadata": {},
   "source": [
    "When we try to delete using index larger than the list max index, we will get an error message as shown below."
   ]
  },
  {
   "cell_type": "code",
   "execution_count": 51,
   "metadata": {},
   "outputs": [
    {
     "name": "stdout",
     "output_type": "stream",
     "text": [
      "list assignment index out of range\n"
     ]
    }
   ],
   "source": [
    "lst = [1, 2, 3]\n",
    "\n",
    "try:\n",
    "    del lst[5]\n",
    "    print(lst)\n",
    "except Exception as e:\n",
    "    print(e)"
   ]
  },
  {
   "cell_type": "code",
   "execution_count": 53,
   "metadata": {},
   "outputs": [
    {
     "name": "stdout",
     "output_type": "stream",
     "text": [
      "3\n"
     ]
    }
   ],
   "source": [
    "try:\n",
    "    inx = 3\n",
    "    print(len(lst))\n",
    "    if inx <= len(lst)-1:\n",
    "        print(\"Deleting the list element\")\n",
    "        del lst[inx]\n",
    "        print(lst)\n",
    "except Exception as e:\n",
    "    print(e)"
   ]
  },
  {
   "cell_type": "code",
   "execution_count": 31,
   "metadata": {},
   "outputs": [
    {
     "name": "stdout",
     "output_type": "stream",
     "text": [
      "Deleting the list element\n",
      "['Apple', 'Mango', 'Green Grapes']\n"
     ]
    }
   ],
   "source": [
    "try:\n",
    "    inx = 3\n",
    "    lst = ['Apple', 'Mango', 'Green Grapes', 'kiwi']\n",
    "    if inx <= len(lst)-1:\n",
    "        print(\"Deleting the list element\")\n",
    "        del lst[inx]\n",
    "        print(lst)\n",
    "except Exception as e:\n",
    "    print(e)"
   ]
  },
  {
   "cell_type": "markdown",
   "metadata": {},
   "source": [
    "### `pop(index=-1)`"
   ]
  },
  {
   "cell_type": "markdown",
   "metadata": {},
   "source": [
    "`pop` deletes the indexed element and returns it. If index is not provided, it removed the last element.  "
   ]
  },
  {
   "cell_type": "code",
   "execution_count": 32,
   "metadata": {},
   "outputs": [
    {
     "name": "stdout",
     "output_type": "stream",
     "text": [
      "deleted_element=['kiwi', 'Apple']\n",
      "Updated list: ['Apple', 'Mango', 'Grapes', 'kiwi', 'Grapes']\n"
     ]
    }
   ],
   "source": [
    "fruits = ['Apple', 'Mango', 'Grapes', 'kiwi', ['kiwi', 'Apple'], \"Grapes\"]\n",
    "\n",
    "index = 4\n",
    "deleted_element = fruits.pop(index)\n",
    "\n",
    "print(f\"{deleted_element=}\")\n",
    "print(f\"Updated list: {fruits}\")"
   ]
  },
  {
   "cell_type": "code",
   "execution_count": 54,
   "metadata": {},
   "outputs": [
    {
     "name": "stdout",
     "output_type": "stream",
     "text": [
      "Peach\n",
      "['Apple', 'Grapes']\n"
     ]
    }
   ],
   "source": [
    "# If index is not provided, it removed the last element.\n",
    "\n",
    "print(fruits.pop())\n",
    "print(fruits)"
   ]
  },
  {
   "cell_type": "markdown",
   "metadata": {},
   "source": [
    "```python\n",
    "a = []\n",
    "a.pop()\n",
    "```\n",
    "**Output:**\n",
    "\n",
    "```python\n",
    "---------------------------------------------------------------------------\n",
    "IndexError                                Traceback (most recent call last)\n",
    "<ipython-input-51-df1912a2291f> in <module>\n",
    "      1 # If index is not provided, it removed the last element.\n",
    "      2 \n",
    "----> 3 print(fruits.pop())\n",
    "      4 print(fruits)\n",
    "\n",
    "IndexError: pop from empty list\n",
    "```"
   ]
  },
  {
   "cell_type": "code",
   "execution_count": 39,
   "metadata": {},
   "outputs": [
    {
     "name": "stdout",
     "output_type": "stream",
     "text": [
      "Grapes\n",
      "['Apple', 'Mango', 'Grapes', 'kiwi', ['kiwi', 'Apple'], 'Grapes']\n"
     ]
    }
   ],
   "source": [
    "# Bad Coding practive. \n",
    "# for indexing enumerate function should be used \n",
    "# as y might get update by mistake in your code which will result in wrong index.\n",
    "\n",
    "y = -2\n",
    "fruits = ['Apple', 'Mango', 'Grapes', 'kiwi', ['kiwi', 'Apple'], \"Grapes\", \"Grapes\"]\n",
    "\n",
    "fr = fruits.pop(y)\n",
    "print(fr)    \n",
    "print(fruits)   "
   ]
  },
  {
   "cell_type": "code",
   "execution_count": 39,
   "metadata": {},
   "outputs": [],
   "source": [
    "# ## Removing the second instance of Grapes\n",
    "# # Bad Coding practive. \n",
    "\n",
    "# x = 0\n",
    "# fruits = ['Apple', 'Mango', 'Grapes', 'kiwi', ['kiwi', 'Apple'], \"Grapes\", \"Jack Fruit\", \"Grapes\"]\n",
    "\n",
    "# for index, fruit in enumerate(fruits):\n",
    "#     print(index, fruit, x)\n",
    "#     if x == 1 and fruit == 'Grapes':\n",
    "#         fr = fruits.pop(index)\n",
    "#         print(\"Removing : \", fr)\n",
    "#         x += 1\n",
    "#     elif fruit == 'Grapes':\n",
    "#         x += 1\n",
    "\n",
    "# print(fruits)   "
   ]
  },
  {
   "cell_type": "code",
   "execution_count": 56,
   "metadata": {},
   "outputs": [
    {
     "name": "stdout",
     "output_type": "stream",
     "text": [
      "Error: pop index out of range\n"
     ]
    }
   ],
   "source": [
    "# Gotha - `pop` #2\n",
    "# Trying to delete non existing indexed elements\n",
    "\n",
    "fruits = ['Apple', 'Mango', \"Grapes\", \"Grapes\"]\n",
    "try: \n",
    "    print(fruits.pop(-10))  # Equivalent -> del fruits[-10]\n",
    "except Exception as e:\n",
    "    print(\"Error:\", e)"
   ]
  },
  {
   "cell_type": "code",
   "execution_count": 55,
   "metadata": {},
   "outputs": [
    {
     "name": "stdout",
     "output_type": "stream",
     "text": [
      "Error: pop index out of range\n"
     ]
    }
   ],
   "source": [
    "fruits = ['Apple', 'Mango', \"Grapes\", \"Grapes\"]\n",
    "try:  \n",
    "    print(fruits.pop(10)) # Equivalent -> del fruits[10]\n",
    "except Exception as e:\n",
    "    print(\"Error:\", e)"
   ]
  },
  {
   "cell_type": "markdown",
   "metadata": {},
   "source": [
    "### `remove`"
   ]
  },
  {
   "cell_type": "markdown",
   "metadata": {},
   "source": [
    "`remove` do the following:\n",
    "- Removes only the **first instance of the requested item** from the list.\n",
    "- It raises a **`ValueError`** if there is no such item.\n",
    "\n",
    "Similar to `del`\n",
    "- It will also not return any value"
   ]
  },
  {
   "cell_type": "code",
   "execution_count": 58,
   "metadata": {},
   "outputs": [
    {
     "name": "stdout",
     "output_type": "stream",
     "text": [
      "fruits.remove('Grapes')=None\n",
      "fruits=['Apple', 'Mango', 'Grapes', 'Apple', 'Mango', 'Grapes', 'kiwi']\n"
     ]
    }
   ],
   "source": [
    "fruits = ['Apple', 'Grapes', 'Mango', 'Grapes', 'Apple', 'Mango', 'Grapes', 'kiwi']\n",
    "\n",
    "print(f\"{fruits.remove('Grapes')=}\")\n",
    "print(f\"{fruits=}\")"
   ]
  },
  {
   "cell_type": "code",
   "execution_count": 59,
   "metadata": {},
   "outputs": [
    {
     "name": "stdout",
     "output_type": "stream",
     "text": [
      "Error: list.remove(x): x not in list\n"
     ]
    }
   ],
   "source": [
    "# Gotcha's `remove` #1\n",
    "# Trying to remove non existing element.\n",
    "\n",
    "try:\n",
    "    fruits.remove(\"JackFruits\")\n",
    "except ValueError as e:\n",
    "    print(\"Error:\", e)"
   ]
  },
  {
   "cell_type": "markdown",
   "metadata": {},
   "source": [
    "### Copying Lists"
   ]
  },
  {
   "cell_type": "code",
   "execution_count": 7,
   "metadata": {},
   "outputs": [
    {
     "name": "stdout",
     "output_type": "stream",
     "text": [
      "140233003561664 140232359078144\n"
     ]
    }
   ],
   "source": [
    "# Shallow copy: using `list` to create a shallow copy \n",
    "fruits = ['Assam Apple', 'Pune Grapes', 'Mango Langda']\n",
    "\n",
    "# Creating new list `new_fruits` from existing list `fruits`\n",
    "# using `list` function.\n",
    "new_fruits = list(fruits)\n",
    "\n",
    "# Both have different memory locations.\n",
    "print(id(new_fruits), id(fruits))"
   ]
  },
  {
   "cell_type": "code",
   "execution_count": 8,
   "metadata": {},
   "outputs": [
    {
     "name": "stdout",
     "output_type": "stream",
     "text": [
      "id(new_fruits[2])=140233003559024, new_fruits[2]='Mango Langda'\n",
      "id(fruits[2])=140233003559024, fruits[2]='Mango Langda'\n"
     ]
    }
   ],
   "source": [
    "#  ID's of individual elements are still the same\n",
    "\n",
    "print(f\"{id(new_fruits[2])=}, {new_fruits[2]=}\")\n",
    "print(f\"{id(fruits[2])=}, {fruits[2]=}\")"
   ]
  },
  {
   "cell_type": "code",
   "execution_count": 54,
   "metadata": {},
   "outputs": [
    {
     "name": "stdout",
     "output_type": "stream",
     "text": [
      "i=0, id(fruits[i])=140181697373104, id(new_fruits[i])=140181697373104,\n",
      "fruits[i]='Assam Apple', new_fruits[i]='Assam Apple'\n",
      "i=1, id(fruits[i])=140181697648496, id(new_fruits[i])=140181697648496,\n",
      "fruits[i]='Pune Grapes', new_fruits[i]='Pune Grapes'\n",
      "i=2, id(fruits[i])=140181697374960, id(new_fruits[i])=140181697374960,\n",
      "fruits[i]='Mango Langda', new_fruits[i]='Mango Langda'\n"
     ]
    }
   ],
   "source": [
    "for i in range(3):\n",
    "    print(f\"{i=}, {id(fruits[i])=}, {id(new_fruits[i])=},\\n{fruits[i]=}, {new_fruits[i]=}\")"
   ]
  },
  {
   "cell_type": "code",
   "execution_count": 9,
   "metadata": {},
   "outputs": [
    {
     "name": "stdout",
     "output_type": "stream",
     "text": [
      "True\n"
     ]
    }
   ],
   "source": [
    "# Another proof\n",
    "print(new_fruits[2] is fruits[2])"
   ]
  },
  {
   "cell_type": "code",
   "execution_count": 10,
   "metadata": {},
   "outputs": [
    {
     "name": "stdout",
     "output_type": "stream",
     "text": [
      "140232359122944 140232359078144\n",
      "140233003559024 Mango Langda\n",
      "140233003559024 Mango Langda\n"
     ]
    }
   ],
   "source": [
    "# Another shallow copy using slicing\n",
    "\n",
    "ft1 = fruits[:]\n",
    "\n",
    "print(id(ft1), id(fruits))   # Different lists\n",
    "print(id(ft1[2]), ft1[2])    # But still same existing elements. \n",
    "print(id(fruits[2]), fruits[2])"
   ]
  },
  {
   "cell_type": "markdown",
   "metadata": {},
   "source": [
    "![ShallowCopyList.png](files/ShallowCopyList.png)"
   ]
  },
  {
   "cell_type": "code",
   "execution_count": 17,
   "metadata": {
    "scrolled": true
   },
   "outputs": [
    {
     "name": "stdout",
     "output_type": "stream",
     "text": [
      "['Apple', 'Grapes', 'Peas', 'Mango Langda']\n",
      "['Apple', 'Grapes', 'Mango Langda']\n"
     ]
    }
   ],
   "source": [
    "# Since they are still two  list adding an element will only effect  \n",
    "# the updated list\n",
    "ft1 = fruits[:] \n",
    "\n",
    "ft1.insert(2, \"Peas\")\n",
    "print(ft1)\n",
    "print(fruits)"
   ]
  },
  {
   "cell_type": "code",
   "execution_count": 18,
   "metadata": {},
   "outputs": [
    {
     "name": "stdout",
     "output_type": "stream",
     "text": [
      "['Apple', 'Grapes', 'Buddha fingers', 'Mango Langda']\n",
      "['Apple', 'Grapes', 'Mango Langda']\n"
     ]
    }
   ],
   "source": [
    "ft1[2] = \"Buddha fingers\"\n",
    "print(ft1)\n",
    "print(fruits)"
   ]
  },
  {
   "cell_type": "code",
   "execution_count": 19,
   "metadata": {},
   "outputs": [
    {
     "name": "stdout",
     "output_type": "stream",
     "text": [
      "True\n"
     ]
    }
   ],
   "source": [
    "# !! Gotcha's !!, this is not a copy, they both are pointing to the same memory location.\n",
    "fruits = ['Apple', 'Grapes', 'Mango Langda']\n",
    "\n",
    "fr = fruits\n",
    "print(fr is fruits)"
   ]
  },
  {
   "cell_type": "code",
   "execution_count": 20,
   "metadata": {},
   "outputs": [
    {
     "name": "stdout",
     "output_type": "stream",
     "text": [
      "['Assam Apple', 'Pune Grapes', 'Mango Langda']\n",
      "['Apple', 'Grapes', 'Mango Langda', 'Keemu Orange']\n"
     ]
    }
   ],
   "source": [
    "# !! Gotcha's 2 !!\n",
    "# It will not effect the other list\n",
    "\n",
    "fruits.append(\"Keemu Orange\")\n",
    "print(new_fruits)\n",
    "print(fruits)"
   ]
  },
  {
   "cell_type": "code",
   "execution_count": 21,
   "metadata": {},
   "outputs": [
    {
     "name": "stdout",
     "output_type": "stream",
     "text": [
      "['Assam Apple', 'Pune Grapes', 'Mango']\n",
      "['Apple', 'Grapes', 'Mango Langda', 'Keemu Orange']\n"
     ]
    }
   ],
   "source": [
    "new_fruits[2] = \"Mango\"\n",
    "print(new_fruits)\n",
    "print(fruits)"
   ]
  },
  {
   "cell_type": "markdown",
   "metadata": {},
   "source": [
    "#### Major Gotcha's depending on element type"
   ]
  },
  {
   "cell_type": "code",
   "execution_count": 25,
   "metadata": {},
   "outputs": [
    {
     "name": "stdout",
     "output_type": "stream",
     "text": [
      "140233003347968 140232358972800\n"
     ]
    }
   ],
   "source": [
    "# Creating Shallow copy using Slicing.\n",
    "lst = ['Apple', 'Mango', ['Green Grapes'], 'Jackfruit']\n",
    "\n",
    "fruits = lst[:]  # Shallow Copy using Slicing\n",
    "print(id(fruits), id(lst))"
   ]
  },
  {
   "cell_type": "code",
   "execution_count": 26,
   "metadata": {},
   "outputs": [
    {
     "name": "stdout",
     "output_type": "stream",
     "text": [
      "lst=['Apple', 'Mango', ['Green Grapes', 'Black Grapes'], 'Jackfruit']\n",
      "fruits=['Apple', 'Mango', ['Green Grapes', 'Black Grapes'], 'Jackfruit']\n"
     ]
    }
   ],
   "source": [
    "# Any operation on the mutable data element will \n",
    "# have effect on both the lists\n",
    "\n",
    "lst[2].append(\"Black Grapes\")\n",
    "print(f\"{lst=}\")\n",
    "print(f\"{fruits=}\")"
   ]
  },
  {
   "cell_type": "code",
   "execution_count": 28,
   "metadata": {
    "scrolled": true
   },
   "outputs": [
    {
     "name": "stdout",
     "output_type": "stream",
     "text": [
      "['Apple', 'Mango', ['Black Grapes'], 'Jackfruit']\n",
      "['Apple', 'Mango', ['Green Grapes', 'Black Grapes'], 'Jackfruit']\n"
     ]
    }
   ],
   "source": [
    "# This is assignation, thus new element\n",
    "\n",
    "lst[2] = [\"Black Grapes\"]\n",
    "print(lst)\n",
    "print(fruits)"
   ]
  },
  {
   "cell_type": "markdown",
   "metadata": {},
   "source": [
    "## Ordering"
   ]
  },
  {
   "cell_type": "markdown",
   "metadata": {},
   "source": [
    "### using `sort`"
   ]
  },
  {
   "cell_type": "code",
   "execution_count": 57,
   "metadata": {},
   "outputs": [
    {
     "name": "stdout",
     "output_type": "stream",
     "text": [
      "Help on method_descriptor:\n",
      "\n",
      "sort(self, /, *, key=None, reverse=False)\n",
      "    Sort the list in ascending order and return None.\n",
      "    \n",
      "    The sort is in-place (i.e. the list itself is modified) and stable (i.e. the\n",
      "    order of two equal elements is maintained).\n",
      "    \n",
      "    If a key function is given, apply it once to each list item and sort them,\n",
      "    ascending or descending, according to their function values.\n",
      "    \n",
      "    The reverse flag can be set to sort in descending order.\n",
      "\n"
     ]
    }
   ],
   "source": [
    "help(list.sort)"
   ]
  },
  {
   "cell_type": "markdown",
   "metadata": {},
   "source": [
    "- It will sort the list **inline**.\n",
    "- When dealing with string, characters are compared based on its ASCII value. So, `A` will come first then `a`, becuase its ascii value in 65 and `a`'s ascii value in 97"
   ]
  },
  {
   "cell_type": "code",
   "execution_count": 60,
   "metadata": {},
   "outputs": [
    {
     "name": "stdout",
     "output_type": "stream",
     "text": [
      "fruits=['Apple', 'Apple', 'Banana', 'Grapes', 'Mango', 'apple', 'grapes']\n"
     ]
    }
   ],
   "source": [
    "fruits = ['Apple', 'Mango', 'apple', 'Grapes', 'Apple', 'Banana', 'grapes']\n",
    "\n",
    "fruits.sort()\n",
    "print(f\"{fruits=}\")"
   ]
  },
  {
   "cell_type": "code",
   "execution_count": 62,
   "metadata": {},
   "outputs": [
    {
     "name": "stdout",
     "output_type": "stream",
     "text": [
      "ret_val=None, fruits=['Apple', 'Apple', 'Banana', 'Grapes', 'Grapes', 'Jackfruit', 'Mango', 'apple']\n"
     ]
    }
   ],
   "source": [
    "# List.sort never returns anything but sort the list inline.\n",
    "\n",
    "fruits = ['Apple', 'Mango', 'apple', 'Grapes', 'Jackfruit', 'Apple', 'Banana', 'Grapes']\n",
    "\n",
    "ret_val = fruits.sort()\n",
    "print(f\"{ret_val=}, {fruits=}\")\n"
   ]
  },
  {
   "cell_type": "code",
   "execution_count": 73,
   "metadata": {},
   "outputs": [
    {
     "name": "stdout",
     "output_type": "stream",
     "text": [
      "id(fruits[0])=140138188461168 - id(fruits[4])=140138177049072\n",
      "fruits=['Apple ', 'Mango', 'apple', 'Grapes', 'Apple ', 'Banana', 'grapes']\n"
     ]
    }
   ],
   "source": [
    "apple = \"Apple \"\n",
    "fruits = [apple, 'Mango', 'apple', 'Grapes', \"Apple \", 'Banana', 'grapes']\n",
    "\n",
    "print(f\"{id(fruits[0])=} - {id(fruits[4])=}\")\n",
    "\n",
    "print(f\"{fruits=}\")"
   ]
  },
  {
   "cell_type": "code",
   "execution_count": 75,
   "metadata": {},
   "outputs": [
    {
     "name": "stdout",
     "output_type": "stream",
     "text": [
      "fruits=['Apple ', 'Apple ', 'Banana', 'Grapes', 'Mango', 'apple', 'grapes']\n",
      "id(fruits[0])=140138188461168 - id(fruits[1])=140138177049072\n"
     ]
    }
   ],
   "source": [
    "fruits.sort()\n",
    "print(f\"{fruits=}\")\n",
    "\n",
    "print(f\"{id(fruits[0])=} - {id(fruits[1])=}\")"
   ]
  },
  {
   "cell_type": "code",
   "execution_count": 76,
   "metadata": {},
   "outputs": [
    {
     "name": "stdout",
     "output_type": "stream",
     "text": [
      "'<' not supported between instances of 'list' and 'str'\n"
     ]
    }
   ],
   "source": [
    "## !!! Gotcha !!!\n",
    "# Default Sorting will always fail for heterogeneous elements which cannot be compared.\n",
    "\n",
    "try:\n",
    "    fruits = ['Apple', 'Mango', 'kiwi', ['kiwi', 'Apple'], (1, 2, 3)]\n",
    "    fruits.sort()\n",
    "    print(fruits)\n",
    "except Exception as e:\n",
    "    print(e)"
   ]
  },
  {
   "cell_type": "code",
   "execution_count": 59,
   "metadata": {},
   "outputs": [
    {
     "name": "stdout",
     "output_type": "stream",
     "text": [
      "'<' not supported between instances of 'int' and 'str'\n"
     ]
    }
   ],
   "source": [
    "try:\n",
    "    fruits = ['Apple', 'Mango', 'kiwi', 1, 2, 3, ['kiwi', 'Apple']]\n",
    "    fruits.sort()\n",
    "    print(fruits)\n",
    "except Exception as e:\n",
    "    print(e)"
   ]
  },
  {
   "cell_type": "code",
   "execution_count": 60,
   "metadata": {},
   "outputs": [
    {
     "name": "stdout",
     "output_type": "stream",
     "text": [
      "'<' not supported between instances of 'complex' and 'int'\n"
     ]
    }
   ],
   "source": [
    "try:\n",
    "    numbers = [2, (2 + 3j)]\n",
    "    numbers.sort()\n",
    "    print(numbers)\n",
    "except Exception as e:\n",
    "    print(e)"
   ]
  },
  {
   "cell_type": "code",
   "execution_count": 61,
   "metadata": {
    "scrolled": true
   },
   "outputs": [
    {
     "name": "stdout",
     "output_type": "stream",
     "text": [
      "'<' not supported between instances of 'tuple' and 'list'\n"
     ]
    }
   ],
   "source": [
    "try:\n",
    "    numbers = [[2, 3], (2, 3)]\n",
    "    numbers.sort()\n",
    "    print(numbers)\n",
    "except Exception as e:\n",
    "    print(e)"
   ]
  },
  {
   "cell_type": "code",
   "execution_count": 62,
   "metadata": {},
   "outputs": [
    {
     "name": "stdout",
     "output_type": "stream",
     "text": [
      "'<' not supported between instances of 'complex' and 'complex'\n"
     ]
    }
   ],
   "source": [
    "# Even homogenious elements can fail to sport as shown in below example: \n",
    "# List with complex numbers.\n",
    "\n",
    "complx_numbers = [1+ 2j , 2 + 2j]\n",
    "try:\n",
    "    complx_numbers.sort()\n",
    "except Exception as e:\n",
    "    print(e)\n"
   ]
  },
  {
   "cell_type": "markdown",
   "metadata": {},
   "source": [
    "#### Reverse sort"
   ]
  },
  {
   "cell_type": "code",
   "execution_count": 77,
   "metadata": {},
   "outputs": [
    {
     "name": "stdout",
     "output_type": "stream",
     "text": [
      "['ApPle', 'Apple', 'Banana', 'Grapes', 'Jackfruit', 'Mango', 'grapes']\n"
     ]
    }
   ],
   "source": [
    "fruits = ['Apple', 'Mango', 'grapes', 'Jackfruit', 'ApPle', 'Banana', 'Grapes']\n",
    "fruits.sort()\n",
    "print(fruits)"
   ]
  },
  {
   "cell_type": "code",
   "execution_count": 78,
   "metadata": {},
   "outputs": [
    {
     "name": "stdout",
     "output_type": "stream",
     "text": [
      "['grapes', 'Mango', 'Jackfruit', 'Grapes', 'Banana', 'Apple', 'ApPle']\n"
     ]
    }
   ],
   "source": [
    "fruits.sort(reverse=True)\n",
    "print(fruits)"
   ]
  },
  {
   "cell_type": "markdown",
   "metadata": {},
   "source": [
    "When we have multiple sub elements in a list as shown below"
   ]
  },
  {
   "cell_type": "code",
   "execution_count": 80,
   "metadata": {},
   "outputs": [
    {
     "name": "stdout",
     "output_type": "stream",
     "text": [
      "[[1, 22, 33], [22, 3, 2], [1, 12, 3], [21, 1, 134]]\n"
     ]
    }
   ],
   "source": [
    "lst = [[1, 22, 33], [22, 3, 2], \n",
    "       [1, 12, 3], [21, 1, 134]]\n",
    "\n",
    "print(lst)"
   ]
  },
  {
   "cell_type": "markdown",
   "metadata": {},
   "source": [
    "Then sorting happens based on the values of sub list elements. If the first element is differnet, then it will be used to compare, else first non equal element will be used. "
   ]
  },
  {
   "cell_type": "code",
   "execution_count": 81,
   "metadata": {},
   "outputs": [
    {
     "name": "stdout",
     "output_type": "stream",
     "text": [
      "[[1, 12, 3], [1, 22, 33], [21, 1, 134], [22, 3, 2]]\n"
     ]
    }
   ],
   "source": [
    "lst.sort()\n",
    "print(lst)"
   ]
  },
  {
   "cell_type": "code",
   "execution_count": 82,
   "metadata": {},
   "outputs": [
    {
     "name": "stdout",
     "output_type": "stream",
     "text": [
      "[['1', '2', 3], ['21', ['1'], 138], ['121', '1', 234], ['100', '3', 2]]\n"
     ]
    }
   ],
   "source": [
    "# Gotcha': String behave differently when compared.\n",
    "\n",
    "lst = [[\"1\", \"2\", 3], [\"21\", [\"1\"], 138], \n",
    "       [\"121\", \"1\", 234], [\"100\", \"3\", 2]]\n",
    "print(lst)"
   ]
  },
  {
   "cell_type": "code",
   "execution_count": 83,
   "metadata": {},
   "outputs": [
    {
     "name": "stdout",
     "output_type": "stream",
     "text": [
      "[['1', '2', 3], ['100', '3', 2], ['121', '1', 234], ['21', ['1'], 138]]\n"
     ]
    }
   ],
   "source": [
    "# String is a collection of char's\n",
    "\n",
    "lst.sort()\n",
    "print(lst)"
   ]
  },
  {
   "cell_type": "code",
   "execution_count": 84,
   "metadata": {},
   "outputs": [
    {
     "name": "stdout",
     "output_type": "stream",
     "text": [
      "[[1, '2', 3], [21, ['1'], 138], [121, '1', 234], [100, '3', 2]]\n"
     ]
    }
   ],
   "source": [
    "lst = [[1, \"2\", 3], [21, [\"1\"], 138], \n",
    "       [121, \"1\", 234], [100, \"3\", 2]]\n",
    "print(lst)"
   ]
  },
  {
   "cell_type": "code",
   "execution_count": 105,
   "metadata": {},
   "outputs": [
    {
     "name": "stdout",
     "output_type": "stream",
     "text": [
      "[[1, '2', 3], [21, ['1'], 138], [100, '3', 2], [121, '1', 234]]\n"
     ]
    }
   ],
   "source": [
    "lst.sort()\n",
    "print(lst)"
   ]
  },
  {
   "cell_type": "code",
   "execution_count": 106,
   "metadata": {},
   "outputs": [
    {
     "name": "stdout",
     "output_type": "stream",
     "text": [
      "[[1, '2', 3], [1, ['1'], 138], [1, '1', 234], [1, '3', 2]]\n",
      "Lets try to sort the values in the list `lst`\n",
      "'<' not supported between instances of 'list' and 'str'\n"
     ]
    }
   ],
   "source": [
    "# In this case Python will try to compare second elements\n",
    "# in the inner lists for sorting.\n",
    "\n",
    "lst = [[1, \"2\", 3], [1, [\"1\"], 138], \n",
    "       [1, \"1\", 234], [1, \"3\", 2]]\n",
    "print(lst)\n",
    "print(\"Lets try to sort the values in the list `lst`\")\n",
    "try:\n",
    "    lst.sort()\n",
    "    print(lst)\n",
    "except Exception as e:\n",
    "    print(e)"
   ]
  },
  {
   "cell_type": "code",
   "execution_count": 92,
   "metadata": {},
   "outputs": [
    {
     "name": "stdout",
     "output_type": "stream",
     "text": [
      "[[1, 2, 3], [2, [21], 2], [21, [1], 134], [100, 3, 2]]\n"
     ]
    }
   ],
   "source": [
    "# Using default sorting on list of lists.\n",
    "lst = [[1, 2, 3], \n",
    "       [2, [21], 2],\n",
    "       [21, [1], 134],\n",
    "       [100, 3, 2]]\n",
    "\n",
    "lst.sort()\n",
    "print(lst)"
   ]
  },
  {
   "cell_type": "code",
   "execution_count": 91,
   "metadata": {},
   "outputs": [
    {
     "name": "stdout",
     "output_type": "stream",
     "text": [
      "'<' not supported between instances of 'list' and 'int'\n",
      "[[1, 2, 3], [1, [21], 2], [21, [1], 134], [100, 3, 2]]\n"
     ]
    }
   ],
   "source": [
    "# Using default sorting on list of lists.\n",
    "lst = [[1, 2, 3], \n",
    "       [1, [21], 2],\n",
    "       [21, [1], 134],\n",
    "       [100, 3, 2]]\n",
    "try:\n",
    "    lst.sort()\n",
    "except Exception as e:\n",
    "    print(e)\n",
    "print(lst)"
   ]
  },
  {
   "cell_type": "markdown",
   "metadata": {},
   "source": [
    "#### using `key` argument"
   ]
  },
  {
   "cell_type": "markdown",
   "metadata": {},
   "source": [
    "In this we need to create a function which will return the value using which we want python to sort the list"
   ]
  },
  {
   "cell_type": "code",
   "execution_count": 93,
   "metadata": {},
   "outputs": [
    {
     "name": "stdout",
     "output_type": "stream",
     "text": [
      "lst=[[1, 2, 3], [1, 1, 2], [21, 1, 134], [100, 3, 1]]\n"
     ]
    }
   ],
   "source": [
    "# Create a callable and using it to sort the list\n",
    "# In this example we are sorting based on second \n",
    "# element of inner list \n",
    "\n",
    "def get_key(elements):\n",
    "    return elements[-1]\n",
    "\n",
    "lst = [[1, 2, 3], \n",
    "       [1, 1, 2],\n",
    "       [21, 1, 134],\n",
    "       [100, 3, 1]]\n",
    "\n",
    "print(f\"{lst=}\")"
   ]
  },
  {
   "cell_type": "code",
   "execution_count": 95,
   "metadata": {},
   "outputs": [
    {
     "name": "stdout",
     "output_type": "stream",
     "text": [
      "Sorted List: [[100, 3, 1], [1, 1, 2], [1, 2, 3], [21, 1, 134]]\n"
     ]
    }
   ],
   "source": [
    "lst.sort(key=get_key)\n",
    "\n",
    "print(\"Sorted List:\", lst)"
   ]
  },
  {
   "cell_type": "code",
   "execution_count": 96,
   "metadata": {},
   "outputs": [
    {
     "name": "stdout",
     "output_type": "stream",
     "text": [
      "Initial List: [[100, 3, 2], [1, 2, 3], [21, 1, 134]]\n",
      "Sorted list: [[1, 2, 3], [100, 3, 2], [21, 1, 134]]\n"
     ]
    }
   ],
   "source": [
    "# Create a callable.\n",
    "\n",
    "def get_key(element):\n",
    "    \"\"\"Returns the sum of the elements in the list\"\"\"\n",
    "    return sum(element)\n",
    "\n",
    "lst = [[100, 3, 2],\n",
    "       [1, 2, 3], \n",
    "       [21, 1, 134]]\n",
    "print(\"Initial List:\", lst)\n",
    "\n",
    "lst.sort(key=get_key)\n",
    "print(\"Sorted list:\", lst)"
   ]
  },
  {
   "cell_type": "code",
   "execution_count": 97,
   "metadata": {},
   "outputs": [
    {
     "name": "stdout",
     "output_type": "stream",
     "text": [
      "[[1, 2, 3], [21, 1, 134], [100, 3, 2]]\n"
     ]
    }
   ],
   "source": [
    "def get_key(lst):\n",
    "    \"\"\"returns the sum of first and sencond element in the list\"\"\"\n",
    "    return sum(lst[:2])\n",
    "\n",
    "lst.sort(key=get_key)\n",
    "print(lst)"
   ]
  },
  {
   "cell_type": "code",
   "execution_count": 98,
   "metadata": {},
   "outputs": [
    {
     "name": "stdout",
     "output_type": "stream",
     "text": [
      "Apple 498\n",
      "Mango 498\n",
      "Grapes 610\n",
      "Jackfruit 931\n",
      "Apple 498\n",
      "Banana 577\n",
      "Grapes 610\n",
      "['Apple', 'Mango', 'Apple', 'Banana', 'Grapes', 'Grapes', 'Jackfruit']\n"
     ]
    }
   ],
   "source": [
    "def my_sort(element):\n",
    "    sum  = 0\n",
    "    for a in element:\n",
    "        sum += ord(a)\n",
    "    print(element, sum)\n",
    "    return sum\n",
    "\n",
    "lst =  ['Apple', 'Mango', 'Grapes', 'Jackfruit', 'Apple', 'Banana', 'Grapes']\n",
    "lst.sort(key=my_sort)\n",
    "print(lst)"
   ]
  },
  {
   "cell_type": "markdown",
   "metadata": {},
   "source": [
    "When we use the key function for sorting, sky is the limit, only thing which needs to be checked is that all the values returned by the `key` function should be comparable else sorting will return an exception as shown below"
   ]
  },
  {
   "cell_type": "code",
   "execution_count": 99,
   "metadata": {},
   "outputs": [
    {
     "name": "stdout",
     "output_type": "stream",
     "text": [
      "'<' not supported between instances of 'complex' and 'int'\n"
     ]
    }
   ],
   "source": [
    "def custom_compare(element):\n",
    "    total = sum(element)\n",
    "    if total == 10:\n",
    "        return 1+2j\n",
    "    else:\n",
    "        return total\n",
    "\n",
    "lst = [(1, 2, 3), (20, 1, 2), (5, 3, 2)]\n",
    "try:\n",
    "    lst.sort(key=custom_compare)\n",
    "except Exception as e:\n",
    "    print(e)"
   ]
  },
  {
   "cell_type": "code",
   "execution_count": 100,
   "metadata": {},
   "outputs": [
    {
     "name": "stdout",
     "output_type": "stream",
     "text": [
      "[1, 2, 0, 23, -253, -34]\n"
     ]
    }
   ],
   "source": [
    "marks = [1, 2, -253, 0, 23, -34]\n",
    "\n",
    "def custom_sort(num):\n",
    "    if num >= 0:\n",
    "        return 0\n",
    "    else:\n",
    "        return 1\n",
    "    \n",
    "marks.sort(key=custom_sort)\n",
    "print(marks)"
   ]
  },
  {
   "cell_type": "code",
   "execution_count": 126,
   "metadata": {},
   "outputs": [
    {
     "name": "stdout",
     "output_type": "stream",
     "text": [
      "[1, 2, 0, 23, -2, -34]\n"
     ]
    }
   ],
   "source": [
    "marks = [1, 2, -2, 0, 23, -34]\n",
    "\n",
    "def custom_sort(num):\n",
    "    if num >= 0:\n",
    "        return 0\n",
    "    else:\n",
    "        return 1\n",
    "\n",
    "marks.sort(key=custom_sort)\n",
    "print(marks)"
   ]
  },
  {
   "cell_type": "code",
   "execution_count": 101,
   "metadata": {},
   "outputs": [
    {
     "name": "stdout",
     "output_type": "stream",
     "text": [
      "[(22, 3), [42, 3]]\n"
     ]
    }
   ],
   "source": [
    "def get_vals(val):\n",
    "    return sum(val)\n",
    "\n",
    "try:\n",
    "    numbers = [[42, 3], (22, 3)]\n",
    "    numbers.sort(key=get_vals)\n",
    "    print(numbers)\n",
    "except Exception as e:\n",
    "    print(e)"
   ]
  },
  {
   "cell_type": "markdown",
   "metadata": {},
   "source": [
    "### Using `sorted` keyword"
   ]
  },
  {
   "cell_type": "markdown",
   "metadata": {},
   "source": [
    "It will create a **new list** with sorted elements."
   ]
  },
  {
   "cell_type": "code",
   "execution_count": 128,
   "metadata": {},
   "outputs": [
    {
     "name": "stdout",
     "output_type": "stream",
     "text": [
      "new list: ['Apple', 'Apple', 'Banana', 'Grapes', 'Grapes', 'Jackfruit', 'Mango'] \n",
      "old list: ['Apple', 'Mango', 'Grapes', 'Jackfruit', 'Apple', 'Banana', 'Grapes']\n"
     ]
    }
   ],
   "source": [
    "fruits = ['Apple', 'Mango', 'Grapes', 'Jackfruit', 'Apple', 'Banana', 'Grapes']\n",
    "f = sorted(fruits)\n",
    "print(\"new list:\", f, \"\\nold list:\", fruits)"
   ]
  },
  {
   "cell_type": "code",
   "execution_count": 129,
   "metadata": {},
   "outputs": [
    {
     "name": "stdout",
     "output_type": "stream",
     "text": [
      "[[1, 2], [2, 3], [3, 2], [3, 4], [4, 10]]\n"
     ]
    }
   ],
   "source": [
    "lst = [[1, 2], [2, 3], [3, 4], [4, 10], [3, 2]]\n",
    "print(sorted(lst))"
   ]
  },
  {
   "cell_type": "code",
   "execution_count": 130,
   "metadata": {},
   "outputs": [
    {
     "name": "stdout",
     "output_type": "stream",
     "text": [
      "Help on built-in function sorted in module builtins:\n",
      "\n",
      "sorted(iterable, /, *, key=None, reverse=False)\n",
      "    Return a new list containing all items from the iterable in ascending order.\n",
      "    \n",
      "    A custom key function can be supplied to customize the sort order, and the\n",
      "    reverse flag can be set to request the result in descending order.\n",
      "\n"
     ]
    }
   ],
   "source": [
    "help(sorted)"
   ]
  },
  {
   "cell_type": "markdown",
   "metadata": {},
   "source": [
    "**NOTE**: All the key callables which we created for `sort` can also be used for `sorted`"
   ]
  },
  {
   "cell_type": "markdown",
   "metadata": {},
   "source": [
    "### Inverting"
   ]
  },
  {
   "cell_type": "markdown",
   "metadata": {},
   "source": [
    "#### `list.reverse`"
   ]
  },
  {
   "cell_type": "markdown",
   "metadata": {},
   "source": [
    "Its inline, that is the list itself will update."
   ]
  },
  {
   "cell_type": "code",
   "execution_count": 101,
   "metadata": {},
   "outputs": [
    {
     "name": "stdout",
     "output_type": "stream",
     "text": [
      "['Apple', 'Mango', 'Grapes', 'Jackfruit', 'Apple', 'Banana', 'Grapes']\n",
      "['Grapes', 'Banana', 'Apple', 'Jackfruit', 'Grapes', 'Mango', 'Apple']\n"
     ]
    }
   ],
   "source": [
    "fruits = ['Apple', 'Mango', 'Grapes', 'Jackfruit', 'Apple', 'Banana', 'Grapes']\n",
    "print(fruits)\n",
    "fruits.reverse()\n",
    "print(fruits)"
   ]
  },
  {
   "cell_type": "markdown",
   "metadata": {},
   "source": [
    "#### slicing"
   ]
  },
  {
   "cell_type": "markdown",
   "metadata": {},
   "source": [
    "This function will return a new list"
   ]
  },
  {
   "cell_type": "code",
   "execution_count": 25,
   "metadata": {},
   "outputs": [
    {
     "name": "stdout",
     "output_type": "stream",
     "text": [
      "['kiwi', 'Green Apple', 'Camel'] 4482622464\n",
      "['Camel', 'Green Apple', 'kiwi'] 4482733504\n"
     ]
    }
   ],
   "source": [
    "# returns a new list, similar to partial shallow copy.\n",
    "\n",
    "fruits = ['kiwi', 'Green Apple', 'Camel']\n",
    "new_list = fruits[::-1]\n",
    "print(fruits, id(fruits))\n",
    "print(new_list, id(new_list))"
   ]
  },
  {
   "cell_type": "markdown",
   "metadata": {},
   "source": [
    "So, we saw that two lists are present now. lets check their elements also. "
   ]
  },
  {
   "cell_type": "code",
   "execution_count": 26,
   "metadata": {},
   "outputs": [
    {
     "name": "stdout",
     "output_type": "stream",
     "text": [
      "Green Apple 4483289520\n",
      "Green Apple 4483289520\n"
     ]
    }
   ],
   "source": [
    "print(fruits[1], id(fruits[1]))\n",
    "print(new_list[1], id(new_list[1]))"
   ]
  },
  {
   "cell_type": "markdown",
   "metadata": {},
   "source": [
    "#### `reversed`"
   ]
  },
  {
   "cell_type": "code",
   "execution_count": 69,
   "metadata": {},
   "outputs": [
    {
     "name": "stdout",
     "output_type": "stream",
     "text": [
      "['Banana', 'Apple', 'kiwi']\n"
     ]
    }
   ],
   "source": [
    "# NOTE: returns a new list and not change original list.\n",
    "\n",
    "fruits = ['kiwi', 'Apple', 'Banana']\n",
    "print(list(reversed(fruits)))"
   ]
  },
  {
   "cell_type": "markdown",
   "metadata": {},
   "source": [
    "### `enumerate`"
   ]
  },
  {
   "cell_type": "markdown",
   "metadata": {},
   "source": [
    "It returns a collection _sort of_ of index and value from the collection"
   ]
  },
  {
   "cell_type": "code",
   "execution_count": 70,
   "metadata": {},
   "outputs": [
    {
     "name": "stdout",
     "output_type": "stream",
     "text": [
      "[(0, 'kiwi'), (1, 'Apple'), (2, 'Banana')]\n"
     ]
    }
   ],
   "source": [
    "l = list(enumerate(fruits))\n",
    "print(l)"
   ]
  },
  {
   "cell_type": "code",
   "execution_count": 131,
   "metadata": {},
   "outputs": [
    {
     "name": "stdout",
     "output_type": "stream",
     "text": [
      "1. Apple\n",
      "2. Mango\n",
      "3. Grapes\n",
      "4. Jackfruit\n",
      "5. Apple\n",
      "6. Banana\n",
      "7. Grapes\n"
     ]
    }
   ],
   "source": [
    "## problem statement, \n",
    "# Case where we need both element and its index in the list. \n",
    "i = 1\n",
    "for fruit in fruits:\n",
    "    print(f\"{i}. {fruit}\")\n",
    "    i += 1"
   ]
  },
  {
   "cell_type": "code",
   "execution_count": 61,
   "metadata": {},
   "outputs": [
    {
     "name": "stdout",
     "output_type": "stream",
     "text": [
      "1 => Apple\n",
      "2 => Mango\n",
      "3 => Grapes\n",
      "4 => Jackfruit\n",
      "5 => Banana\n"
     ]
    }
   ],
   "source": [
    "# solution\n",
    "# prints with number order\n",
    "fruits = ['Apple', 'Mango', 'Grapes', 'Jackfruit', 'Banana']\n",
    "for i, fruit in enumerate(fruits):\n",
    "    print( i + 1, '=>', fruit)"
   ]
  },
  {
   "cell_type": "code",
   "execution_count": 31,
   "metadata": {
    "scrolled": true
   },
   "outputs": [
    {
     "name": "stdout",
     "output_type": "stream",
     "text": [
      "1 => Apple\n",
      "2 => Mango\n",
      "3 => Grapes\n",
      "4 => Jackfruit\n",
      "5 => Banana\n"
     ]
    }
   ],
   "source": [
    "# A bit optimized code.\n",
    "fruits = ['Apple', 'Mango', 'Grapes', 'Jackfruit', 'Banana']\n",
    "for i, fruit in enumerate(fruits, start=1):\n",
    "    print( i, '=>', fruit)"
   ]
  },
  {
   "cell_type": "markdown",
   "metadata": {},
   "source": [
    "The function `enumerate()` returns a tuple of two elements in each iteration: a sequence number and an item from the corresponding sequence.\n",
    "\n",
    "The list has a `pop()` method that helps the implementation of queues and stacks:"
   ]
  },
  {
   "cell_type": "code",
   "execution_count": 71,
   "metadata": {},
   "outputs": [
    {
     "name": "stdout",
     "output_type": "stream",
     "text": [
      "0 A\n",
      "1 B\n",
      "2 C\n"
     ]
    }
   ],
   "source": [
    "my_list = ['A', 'B', 'C']\n",
    "for a, b in enumerate(my_list):\n",
    "    print(a, b)"
   ]
  },
  {
   "cell_type": "code",
   "execution_count": 72,
   "metadata": {},
   "outputs": [
    {
     "name": "stdout",
     "output_type": "stream",
     "text": [
      "list: ['A', 'B', 'C']\n",
      "Removing A , remain 2 ['B', 'C']\n",
      "Removing B , remain 1 ['C']\n",
      "Removing C , remain 0 []\n"
     ]
    }
   ],
   "source": [
    "my_list = ['A', 'B', 'C']\n",
    "print ('list:', my_list)\n",
    "\n",
    "# # The empty list is evaluated as false\n",
    "while my_list:\n",
    "    # In queues, the first item is the first to go out\n",
    "    # pop(0) removes and returns the first item \n",
    "    print ('Removing', my_list.pop(0), ', remain', len(my_list), my_list)"
   ]
  },
  {
   "cell_type": "code",
   "execution_count": 73,
   "metadata": {},
   "outputs": [
    {
     "name": "stdout",
     "output_type": "stream",
     "text": [
      "list: ['G', 'D', 'E', 'F']\n"
     ]
    }
   ],
   "source": [
    "my_list.append(\"G\")\n",
    "# # More items on the list\n",
    "my_list += ['D', 'E', 'F']\n",
    "print ('list:', my_list)"
   ]
  },
  {
   "cell_type": "markdown",
   "metadata": {},
   "source": [
    "The sort (*sort*) and reversal (*reverse*) operations are performed in the list and do not create new lists."
   ]
  },
  {
   "cell_type": "markdown",
   "metadata": {},
   "source": [
    "## `Tuples`"
   ]
  },
  {
   "cell_type": "markdown",
   "metadata": {},
   "source": [
    "Similar to lists, but immutable: it's not possible to append, delete or make assignments to the items.\n",
    "\n",
    "**Syntax:**\n",
    "    \n",
    "```python\n",
    "my_tuple = (a, b, ..., z)\n",
    "```\n",
    "    or\n",
    "```python\n",
    "my_tuple = a, b, ...., z\n",
    "```\n",
    "The parentheses are **optional**.\n",
    "\n",
    "Feature: a tuple with only one element is represented as:\n",
    "```python\n",
    "t1 = (1,)\n",
    "```\n",
    "The tuple elements can be referenced the same way as the elements of a list:\n",
    "\n",
    "```python\n",
    "first_element = tuple[0]\n",
    "```\n",
    "\n",
    "Lists can be converted into tuples:\n",
    "\n",
    "```python\n",
    "my_tuple = tuple(my_list)\n",
    "```\n",
    "\n",
    "And tuples can be converted into lists:\n",
    "```python\n",
    "my_list = list(my_tuple)\n",
    "```\n",
    "While tuple can contain mutable elements, these elements can not undergo assignment, as this would change the reference to the object.\n",
    "\n",
    "Example :"
   ]
  },
  {
   "cell_type": "code",
   "execution_count": 132,
   "metadata": {},
   "outputs": [
    {
     "name": "stdout",
     "output_type": "stream",
     "text": [
      "<class 'int'> 1\n"
     ]
    }
   ],
   "source": [
    "# Example of trying to create a single element tuple \n",
    "t = (1)\n",
    "print(type(t), t)"
   ]
  },
  {
   "cell_type": "code",
   "execution_count": 133,
   "metadata": {},
   "outputs": [
    {
     "name": "stdout",
     "output_type": "stream",
     "text": [
      "<class 'tuple'>\n"
     ]
    }
   ],
   "source": [
    "# if you really really want it, then use the following way.\n",
    "t = (1,)\n",
    "print(type(t))"
   ]
  },
  {
   "cell_type": "code",
   "execution_count": 134,
   "metadata": {},
   "outputs": [
    {
     "name": "stdout",
     "output_type": "stream",
     "text": [
      "<class 'tuple'> (1,)\n"
     ]
    }
   ],
   "source": [
    "# Converting single element list to a single element tuple\n",
    "t = tuple([1])\n",
    "print(type(t), t)"
   ]
  },
  {
   "cell_type": "code",
   "execution_count": 136,
   "metadata": {},
   "outputs": [
    {
     "name": "stdout",
     "output_type": "stream",
     "text": [
      "<class 'tuple'> (1, 2, 3, 4)\n"
     ]
    }
   ],
   "source": [
    "# optional `(` `)`\n",
    "\n",
    "t = 1, 2, 3, 4\n",
    "print(type(t), t)"
   ]
  },
  {
   "cell_type": "code",
   "execution_count": 137,
   "metadata": {},
   "outputs": [
    {
     "name": "stdout",
     "output_type": "stream",
     "text": [
      "([1, 2], 4)\n"
     ]
    }
   ],
   "source": [
    "# Tuple with list as an elememt.\n",
    "\n",
    "t = ([1, 2], 4)\n",
    "print(t)"
   ]
  },
  {
   "cell_type": "code",
   "execution_count": 111,
   "metadata": {},
   "outputs": [
    {
     "name": "stdout",
     "output_type": "stream",
     "text": [
      " :: Error :: \n",
      "'tuple' object does not support item assignment\n"
     ]
    }
   ],
   "source": [
    "print(\" :: Error :: \")\n",
    "try:\n",
    "    t[0] = 3\n",
    "    print(t)\n",
    "except Exception as e:\n",
    "    print(e)"
   ]
  },
  {
   "cell_type": "code",
   "execution_count": 113,
   "metadata": {},
   "outputs": [
    {
     "name": "stdout",
     "output_type": "stream",
     "text": [
      " :: Error :: \n",
      "'tuple' object does not support item assignment\n"
     ]
    }
   ],
   "source": [
    "print(\" :: Error :: \")\n",
    "try:\n",
    "    t[0] = [1, 2, 3]\n",
    "    print(t)\n",
    "except Exception as e:\n",
    "    print(e)"
   ]
  },
  {
   "cell_type": "code",
   "execution_count": 138,
   "metadata": {},
   "outputs": [
    {
     "name": "stdout",
     "output_type": "stream",
     "text": [
      "([1, 2, 1], 4)\n"
     ]
    }
   ],
   "source": [
    "# But tuple do not restrict the attributes of its element, \n",
    "# so for the first element which is a list, we can perform \n",
    "# all the operations available to us for list on it. \n",
    "t = ([1, 2], 4)\n",
    "\n",
    "t[0].append(1)\n",
    "print(t)"
   ]
  },
  {
   "cell_type": "code",
   "execution_count": 140,
   "metadata": {},
   "outputs": [
    {
     "name": "stdout",
     "output_type": "stream",
     "text": [
      "([[1, 2, 3], 2, 1], 4)\n"
     ]
    }
   ],
   "source": [
    "t[0][0] = [1, 2, 3]\n",
    "print(t)"
   ]
  },
  {
   "cell_type": "markdown",
   "metadata": {},
   "source": [
    "### Size comparision of `list` and `tuple`"
   ]
  },
  {
   "cell_type": "code",
   "execution_count": 1,
   "metadata": {},
   "outputs": [
    {
     "name": "stdout",
     "output_type": "stream",
     "text": [
      "Tuple Size: 80 List Size: 120\n"
     ]
    }
   ],
   "source": [
    "import sys\n",
    "\n",
    "lst = [1, 2, 3, 4, 5]\n",
    "ta = 1, 2, 3, 4, 5\n",
    "\n",
    "print(\"Tuple Size:\", sys.getsizeof(ta), \"List Size:\", sys.getsizeof(lst))"
   ]
  },
  {
   "cell_type": "code",
   "execution_count": 5,
   "metadata": {},
   "outputs": [
    {
     "name": "stdout",
     "output_type": "stream",
     "text": [
      "Help on built-in function getsizeof in module sys:\n",
      "\n",
      "getsizeof(...)\n",
      "    getsizeof(object [, default]) -> int\n",
      "    \n",
      "    Return the size of object in bytes.\n",
      "\n"
     ]
    }
   ],
   "source": [
    "help(sys.getsizeof)"
   ]
  },
  {
   "cell_type": "code",
   "execution_count": 5,
   "metadata": {},
   "outputs": [
    {
     "name": "stdout",
     "output_type": "stream",
     "text": [
      "Error: unhashable type: 'list'\n"
     ]
    }
   ],
   "source": [
    "lst = [1, 2, 3, 4, 5]\n",
    "try:\n",
    "    hash(lst)\n",
    "except Exception as e:\n",
    "    print(f\"Error: {e}\")"
   ]
  },
  {
   "cell_type": "markdown",
   "metadata": {},
   "source": [
    "**NOTE**: Tuples are more efficient than conventional lists, as they consume less computing resources (memory) because they are simpler structures the same way *immutable* strings are in relation to *mutable* strings."
   ]
  },
  {
   "cell_type": "markdown",
   "metadata": {},
   "source": [
    "### Lists Versus Tuples\n",
    "\n",
    "Tuples are used to collect an immutable ordered list of elements. This means that to a tuple (**limitation**):\n",
    "\n",
    "- elements can't be added, thus There’s no append() or extend() method for tuples,\n",
    "- elements can't be removed, thus Tuples have no remove() or pop() method,\n",
    "\n",
    "So, if we have a constant set of values and only we will iterate through it than use a tuple instead of a list as It is faster & safer than working with lists, as the tuples contain “write-protect” data."
   ]
  }
 ],
 "metadata": {
  "kernelspec": {
   "display_name": "Python 3 (ipykernel)",
   "language": "python",
   "name": "python3"
  },
  "language_info": {
   "codemirror_mode": {
    "name": "ipython",
    "version": 3
   },
   "file_extension": ".py",
   "mimetype": "text/x-python",
   "name": "python",
   "nbconvert_exporter": "python",
   "pygments_lexer": "ipython3",
   "version": "3.10.2"
  }
 },
 "nbformat": 4,
 "nbformat_minor": 2
}
