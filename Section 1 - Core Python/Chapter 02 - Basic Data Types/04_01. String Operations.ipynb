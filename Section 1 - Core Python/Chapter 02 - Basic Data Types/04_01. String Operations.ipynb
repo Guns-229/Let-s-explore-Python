{
 "cells": [
  {
   "cell_type": "markdown",
   "metadata": {},
   "source": [
    "### String Operations"
   ]
  },
  {
   "cell_type": "markdown",
   "metadata": {},
   "source": [
    "String data type provide multiple `methods`/`functions` for performing various operations. \n",
    "\n",
    "Lets find, all the string attributes using `dir` function."
   ]
  },
  {
   "cell_type": "code",
   "execution_count": 1,
   "metadata": {
    "scrolled": true
   },
   "outputs": [
    {
     "name": "stdout",
     "output_type": "stream",
     "text": [
      "['__add__', '__class__', '__contains__', '__delattr__', '__dir__', '__doc__', '__eq__', '__format__', '__ge__', '__getattribute__', '__getitem__', '__getnewargs__', '__gt__', '__hash__', '__init__', '__init_subclass__', '__iter__', '__le__', '__len__', '__lt__', '__mod__', '__mul__', '__ne__', '__new__', '__reduce__', '__reduce_ex__', '__repr__', '__rmod__', '__rmul__', '__setattr__', '__sizeof__', '__str__', '__subclasshook__', 'capitalize', 'casefold', 'center', 'count', 'encode', 'endswith', 'expandtabs', 'find', 'format', 'format_map', 'index', 'isalnum', 'isalpha', 'isascii', 'isdecimal', 'isdigit', 'isidentifier', 'islower', 'isnumeric', 'isprintable', 'isspace', 'istitle', 'isupper', 'join', 'ljust', 'lower', 'lstrip', 'maketrans', 'partition', 'removeprefix', 'removesuffix', 'replace', 'rfind', 'rindex', 'rjust', 'rpartition', 'rsplit', 'rstrip', 'split', 'splitlines', 'startswith', 'strip', 'swapcase', 'title', 'translate', 'upper', 'zfill']\n"
     ]
    }
   ],
   "source": [
    "print(dir(\"Ram Ram\"))"
   ]
  },
  {
   "cell_type": "markdown",
   "metadata": {},
   "source": [
    "Since it provide so many attributes, we are only going to cover few of the important ones in this section"
   ]
  },
  {
   "cell_type": "markdown",
   "metadata": {},
   "source": [
    "#### Creation / Assignation"
   ]
  },
  {
   "cell_type": "markdown",
   "metadata": {},
   "source": [
    "We can create new string using assignation operator."
   ]
  },
  {
   "cell_type": "code",
   "execution_count": 1,
   "metadata": {},
   "outputs": [
    {
     "name": "stdout",
     "output_type": "stream",
     "text": [
      "Linux hclpc1 5.7.10-artix1-1 #1 SMP PREEMPT Thu, 23 Jul 2020 15:41:52 +0000 x86_64 GNU/Linux 140198806656608\n"
     ]
    }
   ],
   "source": [
    "uname = 'Linux hclpc1 5.7.10-artix1-1 #1 SMP PREEMPT Thu, 23 Jul 2020 15:41:52 +0000 x86_64 GNU/Linux'\n",
    "print(uname, id(uname))"
   ]
  },
  {
   "cell_type": "code",
   "execution_count": 2,
   "metadata": {},
   "outputs": [
    {
     "name": "stdout",
     "output_type": "stream",
     "text": [
      "Roshan\tMusheer 140198807050736\n"
     ]
    }
   ],
   "source": [
    "name = \"Roshan\\tMusheer\"\n",
    "print(name, id(name))"
   ]
  },
  {
   "cell_type": "markdown",
   "metadata": {},
   "source": [
    "In the above example, we have created two new strings with data `Tajes` and `Roshan\\tMusheer`. "
   ]
  },
  {
   "cell_type": "markdown",
   "metadata": {},
   "source": [
    "#### Single / Double quote in Double / Single  quote string"
   ]
  },
  {
   "cell_type": "markdown",
   "metadata": {},
   "source": [
    "We might have a situation, were we need to have single quote or double quote character with-in the string. The easiest way to achieve it by using escape character `\\`."
   ]
  },
  {
   "cell_type": "code",
   "execution_count": 5,
   "metadata": {},
   "outputs": [
    {
     "name": "stdout",
     "output_type": "stream",
     "text": [
      "Roshan\tMusheer's car\n"
     ]
    }
   ],
   "source": [
    "a = 'Roshan\\tMusheer\\'s car'\n",
    "print(a)"
   ]
  },
  {
   "cell_type": "code",
   "execution_count": 7,
   "metadata": {},
   "outputs": [
    {
     "name": "stdout",
     "output_type": "stream",
     "text": [
      "Roshan\tMusheer: \"One of the best Manager\"\n"
     ]
    }
   ],
   "source": [
    "a = \"Roshan\\tMusheer: \\\"One of the best Manager\\\"\"\n",
    "print(a)"
   ]
  },
  {
   "cell_type": "code",
   "execution_count": 9,
   "metadata": {},
   "outputs": [
    {
     "name": "stdout",
     "output_type": "stream",
     "text": [
      "Roshan Musheer said: \"Good Work\"\n"
     ]
    }
   ],
   "source": [
    "# overkill, but no harm\n",
    "a = 'Roshan Musheer said: \"Good Work\\\"'\n",
    "print(a)"
   ]
  },
  {
   "cell_type": "code",
   "execution_count": 21,
   "metadata": {},
   "outputs": [
    {
     "name": "stdout",
     "output_type": "stream",
     "text": [
      "Camel 'Are\n",
      "good in '''\"\"deserts'''.\n",
      "'\n"
     ]
    }
   ],
   "source": [
    "animal = \"\"\"Camel 'Are\n",
    "good in '''\"\"deserts'''.\n",
    "'\"\"\"\n",
    "print(animal)"
   ]
  },
  {
   "cell_type": "markdown",
   "metadata": {},
   "source": [
    "We can also use something like following, were we have used different quote to denote the string."
   ]
  },
  {
   "cell_type": "code",
   "execution_count": 7,
   "metadata": {},
   "outputs": [
    {
     "name": "stdout",
     "output_type": "stream",
     "text": [
      "Camel \"Are good in deserts.\" 4466600736\n",
      "Roshan\tMusheer's car is always too small for him. ;)\n"
     ]
    }
   ],
   "source": [
    "animal = 'Camel \"Are good in deserts.\"'\n",
    "print(animal, id(animal))\n",
    "a = \"Roshan\\tMusheer's car is always too small for him. ;)\"\n",
    "print(a)"
   ]
  },
  {
   "cell_type": "markdown",
   "metadata": {},
   "source": [
    "#### Concatenation"
   ]
  },
  {
   "cell_type": "markdown",
   "metadata": {},
   "source": [
    "String concatenation is a process of joining two or more strings into a **new single string**. As we have already discussed that string is an immutable datatype thus we have to create a new string for concatenation, what that means is the original strings will still remain the same and new one will be created using the texts from the originals. "
   ]
  },
  {
   "cell_type": "markdown",
   "metadata": {},
   "source": [
    "There are multiple ways in which we can achive the concatenation. The most common method of achiving the concatenation, is to use `+` operator. \n",
    "\n",
    "Lets take an example, where we have three string's and lets try to concatenate them using it."
   ]
  },
  {
   "cell_type": "code",
   "execution_count": 3,
   "metadata": {},
   "outputs": [
    {
     "name": "stdout",
     "output_type": "stream",
     "text": [
      "C: 140198806773232\n",
      "\\ 140198930759216\n",
      "data 140198931190256\n",
      "comp_list.csv 140198806772016\n"
     ]
    }
   ],
   "source": [
    "drive = \"C:\"\n",
    "sep = \"\\\\\"  # / -> *nux , \\ -> Windows, DOS, .. \n",
    "folder_name = \"data\"\n",
    "file_name = \"comp_list.csv\"\n",
    "\n",
    "print(drive, id(drive))\n",
    "print(sep, id(sep))\n",
    "print(folder_name, id(folder_name))\n",
    "print(file_name, id(file_name))"
   ]
  },
  {
   "cell_type": "code",
   "execution_count": 4,
   "metadata": {},
   "outputs": [
    {
     "name": "stdout",
     "output_type": "stream",
     "text": [
      "String: C:\\data\\comp_list.csv,\n",
      "ID: 140198806852272\n"
     ]
    }
   ],
   "source": [
    "# DO NOT USE IT IN PRODUCTION, due to sep is different in different OS'es\n",
    "\n",
    "# All the smaller strings will create a **NEW** string and they themself\n",
    "# are not effected.\n",
    "\n",
    "file_path = drive + sep + folder_name + sep + file_name\n",
    "\n",
    "print(f\"String: {file_path},\\nID: {id(file_path)}\")"
   ]
  },
  {
   "cell_type": "code",
   "execution_count": 5,
   "metadata": {},
   "outputs": [
    {
     "name": "stdout",
     "output_type": "stream",
     "text": [
      "C: 140198806773232\n",
      "\\ 140198930759216\n",
      "data 140198931190256\n",
      "comp_list.csv 140198806772016\n"
     ]
    }
   ],
   "source": [
    "# The strings used to create `file_path` still remains the same. \n",
    "\n",
    "print(drive, id(drive))\n",
    "print(sep, id(sep))\n",
    "print(folder_name, id(folder_name))\n",
    "print(file_name, id(file_name))"
   ]
  },
  {
   "cell_type": "code",
   "execution_count": 8,
   "metadata": {},
   "outputs": [
    {
     "name": "stdout",
     "output_type": "stream",
     "text": [
      "mon, tues, wed\n"
     ]
    }
   ],
   "source": [
    "partial_week = \"mon, \" + \"tues, \" + \"wed\"\n",
    "\n",
    "print(partial_week)"
   ]
  },
  {
   "cell_type": "code",
   "execution_count": 9,
   "metadata": {},
   "outputs": [
    {
     "name": "stdout",
     "output_type": "stream",
     "text": [
      "mon, tues, wed\n"
     ]
    }
   ],
   "source": [
    "# NOTE: Even without `+` they will get concatenated.\n",
    "\n",
    "partial_week = \"mon, \" \"tues, \" \"wed\"\n",
    "print(partial_week)"
   ]
  },
  {
   "cell_type": "markdown",
   "metadata": {},
   "source": [
    "```python\n",
    "# But if we are using variables for concatination, then \n",
    "# we need + operator. \n",
    "try:\n",
    "    st = st_the   space   animal   space   st_action\n",
    "\n",
    "    print(st, id(st))\n",
    "except SyntaxError as e:\n",
    "    print(e)\n",
    "```\n",
    "**Error Output:**\n",
    "\n",
    "```\n",
    " File \"<ipython-input-37-0c03d336a616>\", line 4\n",
    "    st = st_the   space   animal   space   st_action\n",
    "                  ^\n",
    "SyntaxError: invalid syntax\n",
    "\n",
    "```"
   ]
  },
  {
   "cell_type": "markdown",
   "metadata": {},
   "source": [
    "### Interpolation"
   ]
  },
  {
   "cell_type": "markdown",
   "metadata": {},
   "source": [
    "string interpolation (or variable interpolation, variable substitution, or variable expansion) is the process of evaluating a string literal containing one or more placeholders, yielding a result in which the placeholders are replaced with their corresponding values.\n",
    "\n",
    "**This will also create a NEW String and not replace the place holder with data in existing string(s).**"
   ]
  },
  {
   "cell_type": "code",
   "execution_count": 10,
   "metadata": {},
   "outputs": [
    {
     "name": "stdout",
     "output_type": "stream",
     "text": [
      "Size of `Ja, Ich bin ein Kind` => 20\n"
     ]
    }
   ],
   "source": [
    "statement = \"Ja, Ich bin ein Kind\"\n",
    "\n",
    "# String where the placeholder(s) are present \n",
    "# and we want to use interpolation to create \n",
    "# new string with data. \n",
    "template = 'Size of `%s` => %d'\n",
    "\n",
    "# Data needs to follow the order.\n",
    "print(template % (statement, len(statement)))"
   ]
  },
  {
   "cell_type": "code",
   "execution_count": 12,
   "metadata": {},
   "outputs": [
    {
     "name": "stdout",
     "output_type": "stream",
     "text": [
      "Size of `Ja, Ich bin ein Kind` => 20\n"
     ]
    }
   ],
   "source": [
    "# Lets reuse the `template` to show the it was never chagned  \n",
    "# but a new string were created both the times it was used  \n",
    "# for interpolation\n",
    "\n",
    "td = template % (statement, statement.__len__())\n",
    "print(td)"
   ]
  },
  {
   "cell_type": "code",
   "execution_count": 14,
   "metadata": {},
   "outputs": [
    {
     "name": "stdout",
     "output_type": "stream",
     "text": [
      "ERROR: not enough arguments for format string\n"
     ]
    }
   ],
   "source": [
    "# Please make sure that number of placeholders are equal \n",
    "# to the number of data provided to it. \n",
    "# Example with less data\n",
    "\n",
    "try:\n",
    "    td = template % (statement)\n",
    "    print(td)\n",
    "except Exception as e:\n",
    "    print(\"ERROR:\", e)"
   ]
  },
  {
   "cell_type": "code",
   "execution_count": 15,
   "metadata": {},
   "outputs": [
    {
     "name": "stdout",
     "output_type": "stream",
     "text": [
      "ERROR: not all arguments converted during string formatting\n"
     ]
    }
   ],
   "source": [
    "# Example with more data \n",
    "try:\n",
    "    td = template % (statement, len(statement), \"Dummy text\")\n",
    "    print(td)\n",
    "except Exception as e:\n",
    "    print(\"ERROR:\", e)"
   ]
  },
  {
   "cell_type": "code",
   "execution_count": 16,
   "metadata": {},
   "outputs": [
    {
     "name": "stdout",
     "output_type": "stream",
     "text": [
      "Size of `Ja, Ich bin ein Mann` => 20\n",
      "Size of `Ja, Ich bin ein Mann` => 20.000000\n",
      "Size of `Ja, Ich bin ein Mann` => 20.000000 10.2\n",
      "Error: must be real number, not str\n"
     ]
    }
   ],
   "source": [
    "s = \"Ja, Ich bin ein Mann\"\n",
    "\n",
    "# Int to string is OK.\n",
    "print('Size of `%s` => %s' % (s, len(s)))\n",
    "# int to float is also OK\n",
    "print('Size of `%s` => %f' % (s, s.__len__()))\n",
    "# int to float & str are OK.\n",
    "print('Size of `%s` => %f %s' % (s, s.__len__(), 10.2))\n",
    "try:\n",
    "    # str to float is NOT Ok\n",
    "    print('Size of `%f` => %f' % (s, s.__len__()))\n",
    "except Exception as e:\n",
    "    print(\"Error:\", e)"
   ]
  },
  {
   "cell_type": "code",
   "execution_count": 17,
   "metadata": {},
   "outputs": [
    {
     "name": "stdout",
     "output_type": "stream",
     "text": [
      "Error: must be real number, not str\n"
     ]
    }
   ],
   "source": [
    "try:\n",
    "    # str to float is NOT Ok\n",
    "    print('Size of `%f` => %f' % (\"110\", s.__len__()))\n",
    "except Exception as e:\n",
    "    print(\"Error:\", e)"
   ]
  },
  {
   "cell_type": "code",
   "execution_count": 23,
   "metadata": {},
   "outputs": [
    {
     "name": "stdout",
     "output_type": "stream",
     "text": [
      "Error: must be real number, not str\n"
     ]
    }
   ],
   "source": [
    "try:\n",
    "    my_balance = \"100\"\n",
    "    print('Size of `%f` => %f' % (my_balance, my_balance.__len__()))\n",
    "except Exception as e:\n",
    "    print(\"Error:\", e)"
   ]
  },
  {
   "cell_type": "code",
   "execution_count": 30,
   "metadata": {},
   "outputs": [
    {
     "name": "stdout",
     "output_type": "stream",
     "text": [
      "Size of `Ja, Ich bin ein Mann` => 20\n"
     ]
    }
   ],
   "source": [
    "# we can even store the results in a variable\n",
    "result = 'Size of `%s` => %d' % (s, s.__len__())\n",
    "print(result)"
   ]
  },
  {
   "cell_type": "markdown",
   "metadata": {},
   "source": [
    "**Issue 1:**\n",
    "    - We need to know the data in advance else we might have error as show above."
   ]
  },
  {
   "cell_type": "markdown",
   "metadata": {},
   "source": [
    "- Might Get error as shown below"
   ]
  },
  {
   "cell_type": "code",
   "execution_count": 19,
   "metadata": {},
   "outputs": [
    {
     "name": "stdout",
     "output_type": "stream",
     "text": [
      "Size of `Ja, Ich bin eine Frau` => 21.000000 10.2\n",
      "must be real number, not str\n"
     ]
    }
   ],
   "source": [
    "statement = \"Ja, Ich bin eine Frau\"\n",
    "try:\n",
    "    print('Size of `%s` => %f %s' % (statement, statement.__len__(), 10.2))\n",
    "    print('Size of `%f` => %f' % (statement, statement.__len__()))\n",
    "except Exception as e:\n",
    "    print(e)"
   ]
  },
  {
   "cell_type": "markdown",
   "metadata": {},
   "source": [
    "- Or might not get an error as shown below,"
   ]
  },
  {
   "cell_type": "code",
   "execution_count": 22,
   "metadata": {},
   "outputs": [
    {
     "name": "stdout",
     "output_type": "stream",
     "text": [
      "Size of `203` => 3.000000 10.2\n",
      "Size of `203` => 3.000000\n"
     ]
    }
   ],
   "source": [
    "statement = \"203\"\n",
    "try:\n",
    "    print('Size of `%s` => %f %s' % (statement, statement.__len__(), 10.2))\n",
    "    print('Size of `%s` => %f' % (statement, statement.__len__()))\n",
    "except Exception as e:\n",
    "    print(e)"
   ]
  },
  {
   "cell_type": "markdown",
   "metadata": {},
   "source": [
    "In the second case, although the statement was a string, but the data it hold was a int, so auto conversion was sucessful"
   ]
  },
  {
   "cell_type": "code",
   "execution_count": 34,
   "metadata": {
    "scrolled": true
   },
   "outputs": [
    {
     "name": "stdout",
     "output_type": "stream",
     "text": [
      "Days in years are  356, dummy value 007.\n",
      "Percent: 5.3%, Exponencial:3.1403e-07\n",
      "Decimal: 10, Octal: 12, Hexadecimal: a\n"
     ]
    }
   ],
   "source": [
    "# Zeros left\n",
    "print ('Days in years are %4d, dummy value %03d.' % (356, 7))\n",
    "\n",
    "# Real (The number after the decimal point specifies how many decimal digits )\n",
    "print ('Percent: %.1f%%, Exponencial:%.4e' % (5.333, 0.00000031403030))\n",
    "\n",
    "# Octal and hexadecimal\n",
    "print ('Decimal: %d, Octal: %o, Hexadecimal: %x' % (10, 10, 10))"
   ]
  },
  {
   "cell_type": "code",
   "execution_count": 35,
   "metadata": {},
   "outputs": [
    {
     "name": "stdout",
     "output_type": "stream",
     "text": [
      "Error: must be real number, not str\n"
     ]
    }
   ],
   "source": [
    "# We need to know the data type before hand otherwise \n",
    "# we might get errors while processing the string\n",
    "try:\n",
    "    print ('Percent: %.1f%%, Exponencial:%.2e' % (\"5.333\", 0.00000031403030))\n",
    "except Exception as e:\n",
    "    print(\"Error:\", e)"
   ]
  },
  {
   "cell_type": "markdown",
   "metadata": {},
   "source": [
    "### `format`"
   ]
  },
  {
   "cell_type": "markdown",
   "metadata": {},
   "source": [
    "In addition to interpolation operator `%`, the string method and function `format()` is available.\n",
    "\n",
    "> The function `format()` can be used only to format one piece of data each time.\n",
    "\n",
    "*Examples*:"
   ]
  },
  {
   "cell_type": "code",
   "execution_count": 20,
   "metadata": {},
   "outputs": [
    {
     "name": "stdout",
     "output_type": "stream",
     "text": [
      "Mayank was reportee of Mr. Roshan Musheer\n"
     ]
    }
   ],
   "source": [
    "# Parameters are identified by order\n",
    "msg = '{} was {} of {}'\n",
    "\n",
    "# When we call <str>.format(<data>), a new string is created with the data populated.\n",
    "print(msg.format('Mayank', 'reportee', 'Mr. Roshan Musheer'))"
   ]
  },
  {
   "cell_type": "code",
   "execution_count": 21,
   "metadata": {},
   "outputs": [
    {
     "name": "stdout",
     "output_type": "stream",
     "text": [
      "Mayank was reportee of Mr. K.V. Pauly\n"
     ]
    }
   ],
   "source": [
    "print(msg.format('Mayank', 'reportee', 'Mr. K.V. Pauly'))"
   ]
  },
  {
   "cell_type": "code",
   "execution_count": 23,
   "metadata": {},
   "outputs": [
    {
     "name": "stdout",
     "output_type": "stream",
     "text": [
      "Report Dated: 10-02-2020 for HDD Partition: R:\n"
     ]
    }
   ],
   "source": [
    "# Parameters are identified by order\n",
    "msg = 'Report Dated: {} for HDD Partition: {}'\n",
    "\n",
    "print(msg.format('10-02-2020', 'R:'))"
   ]
  },
  {
   "cell_type": "code",
   "execution_count": 24,
   "metadata": {},
   "outputs": [
    {
     "name": "stdout",
     "output_type": "stream",
     "text": [
      "Report Dated: 10-03-2020 for HDD Partition: X:\n"
     ]
    }
   ],
   "source": [
    "print(msg.format('10-03-2020', 'X:'))"
   ]
  },
  {
   "cell_type": "markdown",
   "metadata": {},
   "source": [
    "**Note:**\n",
    "    -  If you have more numbers of \"{}\" (placeholders) than the number of variables/data then following error will be observed."
   ]
  },
  {
   "cell_type": "code",
   "execution_count": 20,
   "metadata": {
    "scrolled": true
   },
   "outputs": [
    {
     "name": "stdout",
     "output_type": "stream",
     "text": [
      "Replacement index 3 out of range for positional args tuple\n"
     ]
    }
   ],
   "source": [
    "# !!! Gotcha !!!\n",
    "# If number of placeholders are more than the data\n",
    "# then `format` will raise an exception as shown below\n",
    "\n",
    "try:\n",
    "    msg = '{} was {} of {}. Testing {}'\n",
    "    print(msg.format('Mayank', 'reportee', 'Roshan Musheer'))\n",
    "except Exception as e:\n",
    "    print(e)"
   ]
  },
  {
   "cell_type": "code",
   "execution_count": 25,
   "metadata": {},
   "outputs": [
    {
     "name": "stdout",
     "output_type": "stream",
     "text": [
      "ERror: 'is_good'\n"
     ]
    }
   ],
   "source": [
    "# !!! Gotcha !!!\n",
    "# I really want to have `{}` in my string with some text\n",
    "\n",
    "try:\n",
    "    msg = '{} was {} of {}.\\nTesting {is_good}'\n",
    "    print(msg.format('Mayank', 'reportee', 'Roshan Musheer'))\n",
    "except Exception as e:\n",
    "    print(\"ERror:\", e)\n"
   ]
  },
  {
   "cell_type": "code",
   "execution_count": 26,
   "metadata": {},
   "outputs": [
    {
     "name": "stdout",
     "output_type": "stream",
     "text": [
      "Mayank was reportee of Roshan Musheer.\n",
      "Testing {is good}\n"
     ]
    }
   ],
   "source": [
    "# Sol 1: If we really want to have `{}` in string,\n",
    "# please use extra `{}` as escape characters as \n",
    "# shown in the below example.\n",
    "\n",
    "try:\n",
    "    msg = '{} was {} of {}.\\nTesting {{is good}}'\n",
    "    print(msg.format('Mayank', 'reportee', 'Roshan Musheer'))\n",
    "except Exception as e:\n",
    "    print(\"Error:\", e)"
   ]
  },
  {
   "cell_type": "code",
   "execution_count": 30,
   "metadata": {},
   "outputs": [
    {
     "name": "stdout",
     "output_type": "stream",
     "text": [
      "Error: 'is good\\\\'\n"
     ]
    }
   ],
   "source": [
    "# Non Sol 1: Normal escape character `\\` will not work :(\n",
    "\n",
    "try:\n",
    "    msg = '{} was {} of {}.\\nTesting \\{is good\\}'\n",
    "    print(msg.format('Mayank', 'reportee', 'Roshan Musheer'))\n",
    "except Exception as e:\n",
    "    print(\"Error:\", e)"
   ]
  },
  {
   "cell_type": "markdown",
   "metadata": {},
   "source": [
    "But, if we by mistake, forgot to have the same number of data then please fix the code itself.\n",
    "\n",
    "Also Note that if the number of placeholder are less then the data, `format` will not raise an error for it and will silently ignore the extra data as shown in below example.  "
   ]
  },
  {
   "cell_type": "code",
   "execution_count": 32,
   "metadata": {},
   "outputs": [
    {
     "name": "stdout",
     "output_type": "stream",
     "text": [
      "Mayank was reportee\n"
     ]
    }
   ],
   "source": [
    "# `format` can handle less number of placeholder and more data.\n",
    "msg = '{} was {}'\n",
    "print(msg.format('Mayank', 'reportee', 'Roshan Musheer'))"
   ]
  },
  {
   "cell_type": "markdown",
   "metadata": {},
   "source": [
    "> **NOTE**\n",
    "> <hr>\n",
    "> Number of `{ }` in string should be less than or equal to the number of data we are providing as parameter to `format` attribute. "
   ]
  },
  {
   "cell_type": "code",
   "execution_count": 24,
   "metadata": {},
   "outputs": [
    {
     "name": "stdout",
     "output_type": "stream",
     "text": [
      "Welcome to Pune. Pune is a great place\n"
     ]
    }
   ],
   "source": [
    "# Pune is to be used twice, so we have to place \n",
    "# twice in format section. \n",
    "st = \"Welcome to {}. {} is a great place\"\n",
    "\n",
    "print(st.format(\"Pune\", \"Pune\"))"
   ]
  },
  {
   "cell_type": "markdown",
   "metadata": {},
   "source": [
    "#### Issues with `{}`"
   ]
  },
  {
   "cell_type": "markdown",
   "metadata": {},
   "source": [
    "- Order needs to be maintained\n",
    "- Not very intutive or friendly. \n",
    "- If a value is to be reprinted, it needs to be duplicated."
   ]
  },
  {
   "cell_type": "markdown",
   "metadata": {},
   "source": [
    "##### Parameters are identified by order"
   ]
  },
  {
   "cell_type": "markdown",
   "metadata": {},
   "source": [
    "> NOTE:\n",
    "> <hr />\n",
    "> The placeholder order indexing starts from `0`"
   ]
  },
  {
   "cell_type": "code",
   "execution_count": 25,
   "metadata": {
    "scrolled": true
   },
   "outputs": [
    {
     "name": "stdout",
     "output_type": "stream",
     "text": [
      "Mayank was reportee of Shri. K.V. Pauly\n"
     ]
    }
   ],
   "source": [
    "# Parameters are identified by order\n",
    "msg = '{1} was {2} of {0}'\n",
    "\n",
    "print(msg.format('Shri. K.V. Pauly', 'Mayank', 'reportee'))"
   ]
  },
  {
   "cell_type": "code",
   "execution_count": 32,
   "metadata": {},
   "outputs": [
    {
     "name": "stdout",
     "output_type": "stream",
     "text": [
      "Replacement index 3 out of range for positional args tuple\n"
     ]
    }
   ],
   "source": [
    "# Gotcha, Index starts from `0` and not from `1`\n",
    "\n",
    "try:\n",
    "    msg = '{1} was {3} of {2}'\n",
    "    print(msg.format('Mr. K.V. Pauly', 'Mayank', \"Manager\"))\n",
    "except Exception as e:\n",
    "    print(e)"
   ]
  },
  {
   "cell_type": "code",
   "execution_count": 33,
   "metadata": {
    "scrolled": true
   },
   "outputs": [
    {
     "name": "stdout",
     "output_type": "stream",
     "text": [
      "Indiana is not in India.\n"
     ]
    }
   ],
   "source": [
    "# We can have same value being used multiple times. \n",
    "\n",
    "msg = \"{0}na is not in {0}.\"\n",
    "\n",
    "print(msg.format(\"India\"))"
   ]
  },
  {
   "cell_type": "code",
   "execution_count": 34,
   "metadata": {},
   "outputs": [
    {
     "name": "stdout",
     "output_type": "stream",
     "text": [
      "Welcome to Budd Lake. Budd Lake is a Great City...\n"
     ]
    }
   ],
   "source": [
    "st = \"Welcome to {0}. {0} is a Great City...\"\n",
    "\n",
    "print(st.format(\"Budd Lake\"))"
   ]
  },
  {
   "cell_type": "markdown",
   "metadata": {},
   "source": [
    "#### Issues with `{<index>}`"
   ]
  },
  {
   "cell_type": "markdown",
   "metadata": {},
   "source": [
    "- Not very intutive or friendly. "
   ]
  },
  {
   "cell_type": "markdown",
   "metadata": {},
   "source": [
    "##### Parameters are identified by name"
   ]
  },
  {
   "cell_type": "code",
   "execution_count": 35,
   "metadata": {},
   "outputs": [
    {
     "name": "stdout",
     "output_type": "stream",
     "text": [
      "Report 15-Aug-1947-12:00 on HDD Partition: D:\n"
     ]
    }
   ],
   "source": [
    "# Parameters are identified by name\n",
    "\n",
    "msg = 'Report {date}-{time} on HDD Partition: {drive}'\n",
    "\n",
    "print(msg.format(time=\"12:00\", drive='D:', date='15-Aug-1947'))"
   ]
  },
  {
   "cell_type": "code",
   "execution_count": 41,
   "metadata": {},
   "outputs": [
    {
     "name": "stdout",
     "output_type": "stream",
     "text": [
      "Error: 'date'\n"
     ]
    }
   ],
   "source": [
    "# Do not try it at home\n",
    "\n",
    "msg = 'Report {date}-{time} on HDD Partition: {drive}'\n",
    "try:\n",
    "    print(msg.format(\"12:00\", 'D:', '15-Aug-1947'))\n",
    "except Exception as e:\n",
    "    print(\"Error:\", e)"
   ]
  },
  {
   "cell_type": "markdown",
   "metadata": {},
   "source": [
    "#### Formatting the data"
   ]
  },
  {
   "cell_type": "code",
   "execution_count": 32,
   "metadata": {},
   "outputs": [
    {
     "name": "stdout",
     "output_type": "stream",
     "text": [
      "Good Morning, it is 09:05 AM.\n"
     ]
    }
   ],
   "source": [
    "msg = '{greeting}, it is {hour:02d}:{minute:02d} AM.'\n",
    "\n",
    "try:\n",
    "    print(msg.format(greeting='Good Morning', minute=5, hour=9))\n",
    "except Exception as e:\n",
    "    print(e)"
   ]
  },
  {
   "cell_type": "code",
   "execution_count": 42,
   "metadata": {},
   "outputs": [
    {
     "name": "stdout",
     "output_type": "stream",
     "text": [
      "Error: 'hour'\n"
     ]
    }
   ],
   "source": [
    "# Python is not forgiving type ;). \n",
    "\n",
    "msg = '{greeting}, it is {hour:02d}:{minute:02d} AM.'\n",
    "\n",
    "try:\n",
    "    print(msg.format(greeting='Good Morning', minute=2))\n",
    "except Exception as e:\n",
    "    print(\"Error:\", e)"
   ]
  },
  {
   "cell_type": "code",
   "execution_count": 44,
   "metadata": {},
   "outputs": [
    {
     "name": "stdout",
     "output_type": "stream",
     "text": [
      "Unknown format code 'd' for object of type 'str'\n"
     ]
    }
   ],
   "source": [
    "# Parameters are identified by name\n",
    "# But know your Data\n",
    "\n",
    "msg = '{greeting}, it is {hour:02d}:{minute:02d} AM.'\n",
    "try:\n",
    "    print(msg.format(greeting='Good Morning', \n",
    "                     minute=\"Two\", \n",
    "                     hour=10))\n",
    "except Exception as e:\n",
    "    print(e)"
   ]
  },
  {
   "cell_type": "code",
   "execution_count": 45,
   "metadata": {},
   "outputs": [
    {
     "name": "stdout",
     "output_type": "stream",
     "text": [
      "Good Morning, it is 09:Two AM.\n"
     ]
    }
   ],
   "source": [
    "# Parameters are identified by name\n",
    "# But know your Data\n",
    "\n",
    "msg = '{greeting}, it is {hour:02}:{minute} AM.'\n",
    "try:\n",
    "    print(msg.format(greeting='Good Morning', \n",
    "                     minute=\"Two\", \n",
    "                     hour=9))\n",
    "except Exception as e:\n",
    "    print(e)"
   ]
  },
  {
   "cell_type": "markdown",
   "metadata": {},
   "source": [
    "it treats `msg` string as a template and generates a new string everytime we use `format` function."
   ]
  },
  {
   "cell_type": "code",
   "execution_count": 39,
   "metadata": {},
   "outputs": [
    {
     "name": "stdout",
     "output_type": "stream",
     "text": [
      "Pi = 3.142e+00\n",
      "Pi = 1.1e+04\n"
     ]
    }
   ],
   "source": [
    "# Builtin function format()\n",
    "print ('Pi =', format(3.14159, '.3e'))\n",
    "print ('Pi =', format(11111.14159, '.1e'))"
   ]
  },
  {
   "cell_type": "markdown",
   "metadata": {},
   "source": [
    "#### Formatting in details"
   ]
  },
  {
   "cell_type": "markdown",
   "metadata": {},
   "source": [
    "`format` provides many options which can be used to process the data interpolation "
   ]
  },
  {
   "cell_type": "markdown",
   "metadata": {},
   "source": [
    "##### Basic formatting "
   ]
  },
  {
   "cell_type": "code",
   "execution_count": 55,
   "metadata": {},
   "outputs": [
    {
     "data": {
      "text/plain": [
       "'सूर्य नमस्कार'"
      ]
     },
     "execution_count": 55,
     "metadata": {},
     "output_type": "execute_result"
    }
   ],
   "source": [
    "'{} {}'.format('सूर्य', 'नमस्कार')"
   ]
  },
  {
   "cell_type": "code",
   "execution_count": 56,
   "metadata": {},
   "outputs": [
    {
     "data": {
      "text/plain": [
       "'नमस्कार सूर्य'"
      ]
     },
     "execution_count": 56,
     "metadata": {},
     "output_type": "execute_result"
    }
   ],
   "source": [
    "'{1} {0}'.format('सूर्य', 'नमस्कार')"
   ]
  },
  {
   "cell_type": "code",
   "execution_count": 41,
   "metadata": {},
   "outputs": [
    {
     "data": {
      "text/plain": [
       "'सूर्य नमस्कार'"
      ]
     },
     "execution_count": 41,
     "metadata": {},
     "output_type": "execute_result"
    }
   ],
   "source": [
    "'{sun} {hello}'.format(sun='सूर्य', hello='नमस्कार')"
   ]
  },
  {
   "cell_type": "code",
   "execution_count": 40,
   "metadata": {},
   "outputs": [
    {
     "data": {
      "text/plain": [
       "'सूर्य नमस्कार'"
      ]
     },
     "execution_count": 40,
     "metadata": {},
     "output_type": "execute_result"
    }
   ],
   "source": [
    "# It supports unicode also. Just dont use them ;)\n",
    "'{सूर्य} {hello}'.format(सूर्य='सूर्य', hello='नमस्कार')"
   ]
  },
  {
   "cell_type": "markdown",
   "metadata": {},
   "source": [
    "##### Padding"
   ]
  },
  {
   "cell_type": "markdown",
   "metadata": {},
   "source": [
    "We can add padding or align the text using it. We can define **minimum numbers of characters** in the string using padding as shown below. "
   ]
  },
  {
   "cell_type": "code",
   "execution_count": 42,
   "metadata": {},
   "outputs": [
    {
     "name": "stdout",
     "output_type": "stream",
     "text": [
      "सूर्य नमस्कार        is good for health.\n"
     ]
    }
   ],
   "source": [
    "# {hello_sun:20} will take minimum size of 20 characters.\n",
    "\n",
    "print('{hello_sun:20} is good for health.'.format(\n",
    "    hello_sun='सूर्य नमस्कार'))"
   ]
  },
  {
   "cell_type": "code",
   "execution_count": 33,
   "metadata": {
    "scrolled": true
   },
   "outputs": [
    {
     "data": {
      "text/plain": [
       "'.Bonjour.'"
      ]
     },
     "execution_count": 33,
     "metadata": {},
     "output_type": "execute_result"
    }
   ],
   "source": [
    "# If the padding is less then the length of data\n",
    "# then padding is ignored and entire string data \n",
    "# is used\n",
    "\n",
    "'.{:4}.'.format('Bonjour')"
   ]
  },
  {
   "cell_type": "code",
   "execution_count": 34,
   "metadata": {},
   "outputs": [
    {
     "data": {
      "text/plain": [
       "'.Bonjour       .'"
      ]
     },
     "execution_count": 34,
     "metadata": {},
     "output_type": "execute_result"
    }
   ],
   "source": [
    "'.{:14}.'.format('Bonjour')"
   ]
  },
  {
   "cell_type": "markdown",
   "metadata": {},
   "source": [
    "##### Right Align {`>`}"
   ]
  },
  {
   "cell_type": "code",
   "execution_count": 35,
   "metadata": {},
   "outputs": [
    {
     "name": "stdout",
     "output_type": "stream",
     "text": [
      "-                 सूर्य नमस्कार-\n",
      "32\n"
     ]
    }
   ],
   "source": [
    "# right align with padding of 30 characters\n",
    "\n",
    "s = '-{good_morning:>30}-'.format(good_morning='सूर्य नमस्कार')\n",
    "print(s)\n",
    "print(len(s))  # 2 + 30 = 32 "
   ]
  },
  {
   "cell_type": "code",
   "execution_count": 43,
   "metadata": {},
   "outputs": [
    {
     "name": "stdout",
     "output_type": "stream",
     "text": [
      "tea                                   10\n",
      "coffee                                20\n",
      "discount                              -5\n",
      "****************************************\n",
      "Total                                 25\n"
     ]
    }
   ],
   "source": [
    "# In printing checks/bill.\n",
    "\n",
    "s = '{item:<10}{:>30}'.format(10, item=\"tea\")\n",
    "print(s)\n",
    "s = '{item:<10}{:>30}'.format(20, item=\"coffee\")\n",
    "print(s)\n",
    "s = '{item:<10}{:>30}'.format(-5, item=\"discount\")\n",
    "print(s)\n",
    "print(\"*\"*40)\n",
    "print('Total{:>35}'.format(25))"
   ]
  },
  {
   "cell_type": "markdown",
   "metadata": {},
   "source": [
    "If the length of string is more than specified length than it print entire string"
   ]
  },
  {
   "cell_type": "code",
   "execution_count": 49,
   "metadata": {},
   "outputs": [
    {
     "name": "stdout",
     "output_type": "stream",
     "text": [
      "सूर्य नमस्कार < end\n",
      "13\n"
     ]
    }
   ],
   "source": [
    "s = '{:>2}'.format('सूर्य नमस्कार')\n",
    "print(s, \"< end\")\n",
    "print(len(s))"
   ]
  },
  {
   "cell_type": "code",
   "execution_count": 39,
   "metadata": {},
   "outputs": [
    {
     "name": "stdout",
     "output_type": "stream",
     "text": [
      "Pay Rs:***************************100/-\n"
     ]
    }
   ],
   "source": [
    "# custom buffer text\n",
    "# Useful in printing checks/bills\n",
    "\n",
    "s = 'Pay Rs:{:*>30}/-'.format('100')\n",
    "print(s)"
   ]
  },
  {
   "cell_type": "markdown",
   "metadata": {},
   "source": [
    "##### Left Align {`<`}"
   ]
  },
  {
   "cell_type": "code",
   "execution_count": 40,
   "metadata": {},
   "outputs": [
    {
     "name": "stdout",
     "output_type": "stream",
     "text": [
      "सूर्य नमस्कार                  < end\n",
      "30\n"
     ]
    }
   ],
   "source": [
    "s = '{:<30}'.format('सूर्य नमस्कार')\n",
    "print(s, \"< end\")\n",
    "print(len(s))"
   ]
  },
  {
   "cell_type": "markdown",
   "metadata": {},
   "source": [
    "If the length of string is more than specified length than it print entire string"
   ]
  },
  {
   "cell_type": "code",
   "execution_count": 42,
   "metadata": {},
   "outputs": [
    {
     "name": "stdout",
     "output_type": "stream",
     "text": [
      "सूर्य नमस्कार\n",
      "13\n"
     ]
    }
   ],
   "source": [
    "s = '{:<2}'.format('सूर्य नमस्कार')\n",
    "print(s)\n",
    "print(len(s))"
   ]
  },
  {
   "cell_type": "markdown",
   "metadata": {},
   "source": [
    "If you wish to add padding with custom character then it can be done using the following method"
   ]
  },
  {
   "cell_type": "code",
   "execution_count": 36,
   "metadata": {
    "scrolled": true
   },
   "outputs": [
    {
     "name": "stdout",
     "output_type": "stream",
     "text": [
      "सूर्य नमस्कार_________________\n"
     ]
    }
   ],
   "source": [
    "# Custom Padding of _\n",
    "\n",
    "s = '{:_<30}'.format('सूर्य नमस्कार')\n",
    "print(s)"
   ]
  },
  {
   "cell_type": "code",
   "execution_count": 37,
   "metadata": {},
   "outputs": [
    {
     "name": "stdout",
     "output_type": "stream",
     "text": [
      "Pay Rs:100/-*************************\n"
     ]
    }
   ],
   "source": [
    "# Custom Padding of *\n",
    "\n",
    "s = 'Pay Rs:{:*<30}'.format('100/-')\n",
    "print(s)"
   ]
  },
  {
   "cell_type": "code",
   "execution_count": 41,
   "metadata": {},
   "outputs": [
    {
     "name": "stdout",
     "output_type": "stream",
     "text": [
      "Error Invalid format specifier\n"
     ]
    }
   ],
   "source": [
    "# Padding character should be only one character, else \n",
    "# error is raied as shown below.\n",
    "\n",
    "try: \n",
    "    s = '{:*~<30}'.format('Pay Rs: 100')\n",
    "    print(s)\n",
    "except Exception as e:\n",
    "    print(\"Error\", e)"
   ]
  },
  {
   "cell_type": "markdown",
   "metadata": {},
   "source": [
    "##### Center Align {`^`}"
   ]
  },
  {
   "cell_type": "code",
   "execution_count": 42,
   "metadata": {
    "scrolled": true
   },
   "outputs": [
    {
     "data": {
      "text/plain": [
       "'      Bonjour       , Mr. K.V.Pauly'"
      ]
     },
     "execution_count": 42,
     "metadata": {},
     "output_type": "execute_result"
    }
   ],
   "source": [
    "'{:^20}, Mr. K.V.Pauly'.format('Bonjour')"
   ]
  },
  {
   "cell_type": "code",
   "execution_count": 43,
   "metadata": {
    "scrolled": true
   },
   "outputs": [
    {
     "data": {
      "text/plain": [
       "'---こんにちは----'"
      ]
     },
     "execution_count": 43,
     "metadata": {},
     "output_type": "execute_result"
    }
   ],
   "source": [
    "'{:-^12}'.format('こんにちは')"
   ]
  },
  {
   "cell_type": "markdown",
   "metadata": {},
   "source": [
    "We can have even programmatically define the alignment as shown in below example."
   ]
  },
  {
   "cell_type": "code",
   "execution_count": 44,
   "metadata": {
    "scrolled": true
   },
   "outputs": [
    {
     "name": "stdout",
     "output_type": "stream",
     "text": [
      ">Bonjour             <\n",
      ">             Bonjour<\n",
      ">      Bonjour       <\n"
     ]
    }
   ],
   "source": [
    "lst = [\"<\", \">\", \"^\"]\n",
    "\n",
    "for align in lst:\n",
    "    print('>{:{align}{width}}<'.format('Bonjour', align=align, width='20'))"
   ]
  },
  {
   "cell_type": "markdown",
   "metadata": {},
   "source": [
    "##### Truncate"
   ]
  },
  {
   "cell_type": "markdown",
   "metadata": {},
   "source": [
    "Truncate allows to trim long string to specified length, the syntax is as follows"
   ]
  },
  {
   "cell_type": "markdown",
   "metadata": {},
   "source": [
    "```python\n",
    "{<Padding>.<Text Length>}\n",
    "```"
   ]
  },
  {
   "cell_type": "markdown",
   "metadata": {},
   "source": [
    "- String_length: It is the final string length\n",
    "- text_length: It is the length of truncated text which will be present in final string"
   ]
  },
  {
   "cell_type": "code",
   "execution_count": 1,
   "metadata": {
    "scrolled": true
   },
   "outputs": [
    {
     "name": "stdout",
     "output_type": "stream",
     "text": [
      "8\n",
      "2.3.1523\n"
     ]
    }
   ],
   "source": [
    "s = '{major_ver}.{minor_ver}.{commit_id:.4}'.format(major_ver=2, minor_ver=3, commit_id='152356585')\n",
    "\n",
    "print(len(s))\n",
    "print(s)"
   ]
  },
  {
   "cell_type": "code",
   "execution_count": 7,
   "metadata": {},
   "outputs": [
    {
     "name": "stdout",
     "output_type": "stream",
     "text": [
      "17\n",
      "~testing नमस्कार~\n"
     ]
    }
   ],
   "source": [
    "# If text is less than truncate number then it will just \n",
    "# print the text and ignore the truncation value. \n",
    "\n",
    "s = '~{:.17}~'.format('testing नमस्कार')\n",
    "\n",
    "print(len(s))\n",
    "print(s)"
   ]
  },
  {
   "cell_type": "code",
   "execution_count": 9,
   "metadata": {},
   "outputs": [
    {
     "name": "stdout",
     "output_type": "stream",
     "text": [
      "6\n",
      "~test~\n"
     ]
    }
   ],
   "source": [
    "s = '~{:.4}~'.format('testdd नमस्कार')\n",
    "\n",
    "print(len(s))\n",
    "print(s)"
   ]
  },
  {
   "cell_type": "code",
   "execution_count": 48,
   "metadata": {},
   "outputs": [
    {
     "name": "stdout",
     "output_type": "stream",
     "text": [
      "Error: Precision not allowed in integer format specifier\n"
     ]
    }
   ],
   "source": [
    "# this will not work on int.\n",
    "try:\n",
    "    s = '>{:.4}<'.format(3102039)\n",
    "    print(len(s))\n",
    "    print(s)\n",
    "except Exception as e:\n",
    "    print(\"Error:\", e)"
   ]
  },
  {
   "cell_type": "code",
   "execution_count": 13,
   "metadata": {},
   "outputs": [
    {
     "name": "stdout",
     "output_type": "stream",
     "text": [
      "7\n",
      ">310.3<\n"
     ]
    }
   ],
   "source": [
    "# but will work on float by rounding of the value. \n",
    "# dot is not included in the count.\n",
    "try:\n",
    "    s = '>{:.4}<'.format(310.3332739)\n",
    "    print(len(s))\n",
    "    print(s)\n",
    "except Exception as e:\n",
    "    print(\"Error:\", e)"
   ]
  },
  {
   "cell_type": "code",
   "execution_count": 14,
   "metadata": {},
   "outputs": [
    {
     "name": "stdout",
     "output_type": "stream",
     "text": [
      "9\n",
      ">3.1e+02<\n"
     ]
    }
   ],
   "source": [
    "# but will work on float by rounding of the value. \n",
    "s = '>{:.2}<'.format(310.2739)\n",
    "print(len(s))\n",
    "print(s)"
   ]
  },
  {
   "cell_type": "markdown",
   "metadata": {},
   "source": [
    "In the above example, although the string size is 101 only 4 characters are present in the final string."
   ]
  },
  {
   "cell_type": "code",
   "execution_count": 17,
   "metadata": {
    "scrolled": true
   },
   "outputs": [
    {
     "name": "stdout",
     "output_type": "stream",
     "text": [
      ".~~Ich bin~~~.\n"
     ]
    }
   ],
   "source": [
    "print('.{:~^12.7}.'.format('Ich bin ein Mann'))\n",
    "# ~ -> Padding text\n",
    "# ^ -> Center Align\n",
    "# 10 -> Padding\n",
    "# 7 -> Truncate "
   ]
  },
  {
   "cell_type": "markdown",
   "metadata": {},
   "source": [
    "another example, with different data types"
   ]
  },
  {
   "cell_type": "code",
   "execution_count": 51,
   "metadata": {
    "scrolled": false
   },
   "outputs": [
    {
     "data": {
      "text/plain": [
       "'Ich bin, 2.2200000'"
      ]
     },
     "execution_count": 51,
     "metadata": {},
     "output_type": "execute_result"
    }
   ],
   "source": [
    "'{:.{prec}}, {:.{prec}f}'.format('Ich bin ein Mann', 2.22, prec=7)"
   ]
  },
  {
   "cell_type": "markdown",
   "metadata": {},
   "source": [
    "#### Numbers "
   ]
  },
  {
   "cell_type": "markdown",
   "metadata": {},
   "source": [
    "**Decimals**"
   ]
  },
  {
   "cell_type": "code",
   "execution_count": 52,
   "metadata": {},
   "outputs": [
    {
     "data": {
      "text/plain": [
       "'1980'"
      ]
     },
     "execution_count": 52,
     "metadata": {},
     "output_type": "execute_result"
    }
   ],
   "source": [
    "'{:d}'.format(1980)"
   ]
  },
  {
   "cell_type": "code",
   "execution_count": 53,
   "metadata": {},
   "outputs": [
    {
     "name": "stdout",
     "output_type": "stream",
     "text": [
      "Unknown format code 'd' for object of type 'float'\n"
     ]
    }
   ],
   "source": [
    "try:\n",
    "    '{:d}'.format(119.2)\n",
    "except ValueError as ve:\n",
    "    print(ve)"
   ]
  },
  {
   "cell_type": "code",
   "execution_count": 54,
   "metadata": {},
   "outputs": [
    {
     "data": {
      "text/plain": [
       "'00019'"
      ]
     },
     "execution_count": 54,
     "metadata": {},
     "output_type": "execute_result"
    }
   ],
   "source": [
    "'{:05d}'.format(19)"
   ]
  },
  {
   "cell_type": "markdown",
   "metadata": {},
   "source": [
    "**Float**"
   ]
  },
  {
   "cell_type": "code",
   "execution_count": 55,
   "metadata": {},
   "outputs": [
    {
     "data": {
      "text/plain": [
       "'3.141593'"
      ]
     },
     "execution_count": 55,
     "metadata": {},
     "output_type": "execute_result"
    }
   ],
   "source": [
    "'{:f}'.format(3.141592653589793)"
   ]
  },
  {
   "cell_type": "code",
   "execution_count": 36,
   "metadata": {},
   "outputs": [
    {
     "data": {
      "text/plain": [
       "'    3.141593'"
      ]
     },
     "execution_count": 36,
     "metadata": {},
     "output_type": "execute_result"
    }
   ],
   "source": [
    "'{:12f}'.format(3.141592653589793)"
   ]
  },
  {
   "cell_type": "code",
   "execution_count": 37,
   "metadata": {},
   "outputs": [
    {
     "data": {
      "text/plain": [
       "'       1.900'"
      ]
     },
     "execution_count": 37,
     "metadata": {},
     "output_type": "execute_result"
    }
   ],
   "source": [
    "'{:12.3f}'.format(1.9)"
   ]
  },
  {
   "cell_type": "code",
   "execution_count": 58,
   "metadata": {},
   "outputs": [
    {
     "data": {
      "text/plain": [
       "'03.10'"
      ]
     },
     "execution_count": 58,
     "metadata": {},
     "output_type": "execute_result"
    }
   ],
   "source": [
    "# both side padding in float number\n",
    "\n",
    "'{:05.2f}'.format(3.1)"
   ]
  },
  {
   "cell_type": "code",
   "execution_count": 59,
   "metadata": {},
   "outputs": [],
   "source": [
    "### Need to find for complex & boolean numbers\n",
    "## '{:+d+d}'.format(-3 + 2j)"
   ]
  },
  {
   "cell_type": "markdown",
   "metadata": {},
   "source": [
    "##### Signs on numbers"
   ]
  },
  {
   "cell_type": "markdown",
   "metadata": {},
   "source": [
    "We can add `+` and `-` signs before the numbers as shown in the examples below"
   ]
  },
  {
   "cell_type": "code",
   "execution_count": 60,
   "metadata": {},
   "outputs": [
    {
     "data": {
      "text/plain": [
       "'  +11.0'"
      ]
     },
     "execution_count": 60,
     "metadata": {},
     "output_type": "execute_result"
    }
   ],
   "source": [
    "'{:+7.1f}'.format(11)"
   ]
  },
  {
   "cell_type": "code",
   "execution_count": 61,
   "metadata": {},
   "outputs": [
    {
     "data": {
      "text/plain": [
       "'+119291'"
      ]
     },
     "execution_count": 61,
     "metadata": {},
     "output_type": "execute_result"
    }
   ],
   "source": [
    "'{:+5d}'.format(119291)"
   ]
  },
  {
   "cell_type": "code",
   "execution_count": 62,
   "metadata": {},
   "outputs": [
    {
     "data": {
      "text/plain": [
       "'   11'"
      ]
     },
     "execution_count": 62,
     "metadata": {},
     "output_type": "execute_result"
    }
   ],
   "source": [
    "'{:5d}'.format(+11)"
   ]
  },
  {
   "cell_type": "code",
   "execution_count": 63,
   "metadata": {},
   "outputs": [
    {
     "data": {
      "text/plain": [
       "'  -11'"
      ]
     },
     "execution_count": 63,
     "metadata": {},
     "output_type": "execute_result"
    }
   ],
   "source": [
    "'{:+5d}'.format(-11)"
   ]
  },
  {
   "cell_type": "code",
   "execution_count": 64,
   "metadata": {},
   "outputs": [
    {
     "data": {
      "text/plain": [
       "'   11'"
      ]
     },
     "execution_count": 64,
     "metadata": {},
     "output_type": "execute_result"
    }
   ],
   "source": [
    "'{:-5d}'.format(+11)"
   ]
  },
  {
   "cell_type": "code",
   "execution_count": 65,
   "metadata": {},
   "outputs": [
    {
     "data": {
      "text/plain": [
       "'  -11'"
      ]
     },
     "execution_count": 65,
     "metadata": {},
     "output_type": "execute_result"
    }
   ],
   "source": [
    "'{:-5d}'.format(-11)"
   ]
  },
  {
   "cell_type": "code",
   "execution_count": 66,
   "metadata": {},
   "outputs": [
    {
     "data": {
      "text/plain": [
       "'  -11'"
      ]
     },
     "execution_count": 66,
     "metadata": {},
     "output_type": "execute_result"
    }
   ],
   "source": [
    "# Hmm, adding -ve is actually useless\n",
    "'{:5d}'.format(-11)"
   ]
  },
  {
   "cell_type": "markdown",
   "metadata": {},
   "source": [
    "##### Dictionary "
   ]
  },
  {
   "cell_type": "code",
   "execution_count": 67,
   "metadata": {},
   "outputs": [
    {
     "name": "stdout",
     "output_type": "stream",
     "text": [
      "{'name': 'Mayank', 'surname': 'Johri'}\n"
     ]
    },
    {
     "data": {
      "text/plain": [
       "'Mayank Johri'"
      ]
     },
     "execution_count": 67,
     "metadata": {},
     "output_type": "execute_result"
    }
   ],
   "source": [
    "user = {'name': 'Mayank', 'surname': 'Johri'}\n",
    "print(user)\n",
    "'{u[name]} {u[surname]}'.format(u=user)"
   ]
  },
  {
   "cell_type": "markdown",
   "metadata": {},
   "source": [
    "lets try similar with a list of dictionaries"
   ]
  },
  {
   "cell_type": "code",
   "execution_count": 68,
   "metadata": {},
   "outputs": [
    {
     "name": "stdout",
     "output_type": "stream",
     "text": [
      "Mayank Johri\n",
      "Roshan Musheer\n",
      "Mohan Shah\n",
      "Sachin Shah\n",
      "Rajeev Jain\n"
     ]
    }
   ],
   "source": [
    "users = [\n",
    "    {'name': 'Mayank', 'surname': 'Johri'},\n",
    "    {'name': 'Roshan', 'surname': 'Musheer'},\n",
    "    {'name': 'Mohan', 'surname': 'Shah'},\n",
    "    {'name': 'Sachin', 'surname': 'Shah'},\n",
    "    {'name': 'Rajeev', 'surname': 'Jain'}\n",
    "]\n",
    "\n",
    "for user in users:\n",
    "    print('{u[name]} {u[surname]}'.format(u=user))"
   ]
  },
  {
   "cell_type": "markdown",
   "metadata": {},
   "source": [
    "##### List "
   ]
  },
  {
   "cell_type": "markdown",
   "metadata": {},
   "source": [
    "List items can also be selected as shown below"
   ]
  },
  {
   "cell_type": "code",
   "execution_count": 69,
   "metadata": {},
   "outputs": [
    {
     "data": {
      "text/plain": [
       "'2 7'"
      ]
     },
     "execution_count": 69,
     "metadata": {},
     "output_type": "execute_result"
    }
   ],
   "source": [
    "lst = list(range(10))\n",
    "'{l[2]} {l[7]}'.format(l=lst)"
   ]
  },
  {
   "cell_type": "markdown",
   "metadata": {},
   "source": [
    "##### Date & Time "
   ]
  },
  {
   "cell_type": "code",
   "execution_count": 70,
   "metadata": {
    "scrolled": false
   },
   "outputs": [
    {
     "data": {
      "text/plain": [
       "'2017-12-23 14:15:00'"
      ]
     },
     "execution_count": 70,
     "metadata": {},
     "output_type": "execute_result"
    }
   ],
   "source": [
    "from datetime import datetime\n",
    "'{:%Y-%m-%d %H:%M:%S}'.format(datetime(2017, 12, 23, 14, 15))"
   ]
  },
  {
   "cell_type": "markdown",
   "metadata": {},
   "source": [
    "##### Class"
   ]
  },
  {
   "cell_type": "code",
   "execution_count": 71,
   "metadata": {},
   "outputs": [
    {
     "data": {
      "text/plain": [
       "'सूर्य नमस्कार <-> \\\\u0938\\\\u0942\\\\u0930\\\\u094d\\\\u092f \\\\u0928\\\\u092e\\\\u0938\\\\u094d\\\\u0915\\\\u093e\\\\u0930'"
      ]
     },
     "execution_count": 71,
     "metadata": {},
     "output_type": "execute_result"
    }
   ],
   "source": [
    "class Yoga(object):\n",
    "\n",
    "    def __repr__(self):\n",
    "        return 'सूर्य नमस्कार'\n",
    "    \n",
    "    \n",
    "'{0!r} <-> {0!a}'.format(Yoga())"
   ]
  },
  {
   "cell_type": "markdown",
   "metadata": {},
   "source": [
    "#### Using as Templates"
   ]
  },
  {
   "cell_type": "code",
   "execution_count": 90,
   "metadata": {},
   "outputs": [
    {
     "name": "stdout",
     "output_type": "stream",
     "text": [
      "Hello Raja      ! This is Rahim\n",
      "Hello Mayank    ! This is Nim Lang\n"
     ]
    }
   ],
   "source": [
    "hw = 'Hello {name:10}! This is {program}'\n",
    "\n",
    "for name, program in [('Raja', 'Rahim'), (\"Mayank\", \"Nim Lang\")]:\n",
    "    print(hw.format(name=name, program=program))"
   ]
  },
  {
   "cell_type": "code",
   "execution_count": 92,
   "metadata": {},
   "outputs": [
    {
     "name": "stdout",
     "output_type": "stream",
     "text": [
      "Hello Mayank! This is Nim Lang\n"
     ]
    }
   ],
   "source": [
    "name ='Mayank'\n",
    "program = \"Nim Lang\"\n",
    "\n",
    "msg = 'Hello {name}! This is {program}'\n",
    "print(msg.format(name=name, program=program))"
   ]
  },
  {
   "cell_type": "markdown",
   "metadata": {},
   "source": [
    "#### Literal String / Formatted string"
   ]
  },
  {
   "cell_type": "markdown",
   "metadata": {},
   "source": [
    "It is the new Interpolation method as it is implemented in `Python 3.6`. It is similar to `format` except we cannot use it as template, because values are pre-populated. "
   ]
  },
  {
   "cell_type": "code",
   "execution_count": 52,
   "metadata": {},
   "outputs": [
    {
     "name": "stdout",
     "output_type": "stream",
     "text": [
      "Hello World     ! This is Python\n",
      "140571653415152\n"
     ]
    }
   ],
   "source": [
    "name = 'World'\n",
    "program = 'Python'\n",
    "\n",
    "hw = f'Hello {name:10}! This is {program}'\n",
    "\n",
    "print(hw)\n",
    "print(id(hw))"
   ]
  },
  {
   "cell_type": "code",
   "execution_count": 19,
   "metadata": {},
   "outputs": [
    {
     "name": "stdout",
     "output_type": "stream",
     "text": [
      "Hello Mayank    ! This is NimLang\n",
      "Hello Mayank    ! This is NimLang\n",
      "Welcome\n"
     ]
    }
   ],
   "source": [
    "# As shown in this example, we cannot use it as template. \n",
    "try:\n",
    "    hw = f'Hello {user_name:10}! This is {user_program}'\n",
    "    for user_name, user_program in [('Raja', 'Rahim'), (\"Mayank\", \"NimLang\")]:\n",
    "        print(hw)\n",
    "except Exception as e:\n",
    "    print(e)\n",
    "print(\"Welcome\")"
   ]
  },
  {
   "cell_type": "code",
   "execution_count": 18,
   "metadata": {},
   "outputs": [
    {
     "name": "stdout",
     "output_type": "stream",
     "text": [
      "Hello Raja      ! This is Rahim\n",
      "Hello Mayank    ! This is NimLang\n"
     ]
    }
   ],
   "source": [
    "# we need to use the following to achieve it. \n",
    "for user_name, user_program in [('Raja', 'Rahim'), (\"Mayank\", \"NimLang\")]:\n",
    "    print(f'Hello {user_name:10}! This is {user_program}')"
   ]
  },
  {
   "cell_type": "code",
   "execution_count": 21,
   "metadata": {},
   "outputs": [
    {
     "name": "stdout",
     "output_type": "stream",
     "text": [
      "G.V.\n",
      "Hello G.V.! This is Packaging\n",
      "Hello G.V.! This is Packaging\n",
      "140428258400016\n"
     ]
    }
   ],
   "source": [
    "# Lets update the varibles and see if it changes the literal string\n",
    "\n",
    "name = 'G.V.'\n",
    "program = 'Packaging'\n",
    "# will not update the hw string\n",
    "print(name)\n",
    "print(hw)\n",
    "# We are creating a new string literal\n",
    "hw = F'Hello {name}! This is {program}'\n",
    "print(hw)\n",
    "print(id(hw))"
   ]
  },
  {
   "cell_type": "markdown",
   "metadata": {},
   "source": [
    "So, the strng was not updated after the variables (name, program) were updated. "
   ]
  },
  {
   "cell_type": "code",
   "execution_count": 22,
   "metadata": {},
   "outputs": [
    {
     "name": "stdout",
     "output_type": "stream",
     "text": [
      "Hello G.V.! This is Packaging\n"
     ]
    }
   ],
   "source": [
    "name = 'Ravi'\n",
    "program = 'Ruby'\n",
    "hw1 = hw\n",
    "print(hw1)"
   ]
  },
  {
   "cell_type": "code",
   "execution_count": 30,
   "metadata": {},
   "outputs": [
    {
     "name": "stdout",
     "output_type": "stream",
     "text": [
      "146 ns ± 5.45 ns per loop (mean ± std. dev. of 7 runs, 10,000,000 loops each)\n"
     ]
    }
   ],
   "source": [
    "%%timeit\n",
    "name = 'G.V.'\n",
    "program = 'Packaging'\n",
    "\n",
    "hw = F'Hello {name}! This is {program}'"
   ]
  },
  {
   "cell_type": "code",
   "execution_count": 28,
   "metadata": {},
   "outputs": [
    {
     "name": "stdout",
     "output_type": "stream",
     "text": [
      "1.15 µs ± 64.3 ns per loop (mean ± std. dev. of 7 runs, 1,000,000 loops each)\n"
     ]
    }
   ],
   "source": [
    "%%timeit\n",
    "\n",
    "hw = 'Hello {name:10}! This is {program}'.format(name=name, program=program)"
   ]
  },
  {
   "cell_type": "code",
   "execution_count": 27,
   "metadata": {},
   "outputs": [
    {
     "name": "stdout",
     "output_type": "stream",
     "text": [
      "372 ns ± 45.8 ns per loop (mean ± std. dev. of 7 runs, 1,000,000 loops each)\n"
     ]
    }
   ],
   "source": [
    "%%timeit\n",
    "hw = 'Hello %s This is %s' % (name, program)"
   ]
  },
  {
   "cell_type": "markdown",
   "metadata": {},
   "source": [
    "### `format_map`"
   ]
  },
  {
   "cell_type": "code",
   "execution_count": 9,
   "metadata": {},
   "outputs": [
    {
     "name": "stdout",
     "output_type": "stream",
     "text": [
      "Hello Mayank! This is Nim Lang\n"
     ]
    }
   ],
   "source": [
    "# for Python >= 3.2 \n",
    "# Instead of above code we can do something as shown below\n",
    "\n",
    "name = {'name': 'Mayank', \"program\": \"Nim Lang\"}\n",
    "\n",
    "msg = 'Hello {name}! This is {program}'\n",
    "print(msg.format_map(name))"
   ]
  },
  {
   "cell_type": "code",
   "execution_count": 11,
   "metadata": {
    "scrolled": true
   },
   "outputs": [
    {
     "name": "stdout",
     "output_type": "stream",
     "text": [
      "Hello Mayank! This is Nim Lang\n"
     ]
    }
   ],
   "source": [
    "#### for Python 2\n",
    "\n",
    "name = {'name': 'Mayank', \"program\": \"Nim Lang\"}\n",
    "\n",
    "msg = 'Hello {name}! This is {program}'\n",
    "print(msg.format(**name))"
   ]
  },
  {
   "cell_type": "markdown",
   "metadata": {},
   "source": [
    "#### `startswith` & `endswith`"
   ]
  },
  {
   "cell_type": "markdown",
   "metadata": {},
   "source": [
    "Check if the string starts / ends with the given substring."
   ]
  },
  {
   "cell_type": "code",
   "execution_count": 53,
   "metadata": {},
   "outputs": [
    {
     "name": "stdout",
     "output_type": "stream",
     "text": [
      "True\n"
     ]
    }
   ],
   "source": [
    "username = \"Murthy \"\n",
    "\n",
    "# Strings are objects\n",
    "print(username.startswith('Mur'))"
   ]
  },
  {
   "cell_type": "code",
   "execution_count": 32,
   "metadata": {},
   "outputs": [
    {
     "name": "stdout",
     "output_type": "stream",
     "text": [
      "False\n"
     ]
    }
   ],
   "source": [
    "# Since the string do not start with `Raj` it will return \n",
    "# `False`\n",
    "\n",
    "username = \"Murthy \"\n",
    "\n",
    "print(username.startswith('Raj'))"
   ]
  },
  {
   "cell_type": "code",
   "execution_count": 33,
   "metadata": {},
   "outputs": [
    {
     "name": "stdout",
     "output_type": "stream",
     "text": [
      "Murthy  False\n"
     ]
    }
   ],
   "source": [
    "# This will check if any of the keywork listed in designation is \n",
    "# present in the username. \n",
    "# What that means is you can check more than one substring in \n",
    "# single command \n",
    "\n",
    "designation = \"Dr.\", \"Mr.\", \"Miss\", \"Mrs\"\n",
    "\n",
    "print(username, username.startswith(designation))"
   ]
  },
  {
   "cell_type": "code",
   "execution_count": 34,
   "metadata": {
    "scrolled": true
   },
   "outputs": [
    {
     "name": "stdout",
     "output_type": "stream",
     "text": [
      "True\n"
     ]
    }
   ],
   "source": [
    "username = \"Mr. K.V Pauly\"\n",
    "\n",
    "print(username.startswith(designation))"
   ]
  },
  {
   "cell_type": "markdown",
   "metadata": {},
   "source": [
    "`endswith` is similar to `startswith` except it checks in the end."
   ]
  },
  {
   "cell_type": "code",
   "execution_count": 56,
   "metadata": {},
   "outputs": [
    {
     "name": "stdout",
     "output_type": "stream",
     "text": [
      "False\n",
      "True\n"
     ]
    }
   ],
   "source": [
    "print(username.endswith('thy'))  # Will return `False`\n",
    "print(username.endswith('ly'))  # Will return `True`"
   ]
  },
  {
   "cell_type": "code",
   "execution_count": 35,
   "metadata": {},
   "outputs": [
    {
     "name": "stdout",
     "output_type": "stream",
     "text": [
      "True\n"
     ]
    }
   ],
   "source": [
    "# Even collections work\n",
    "ends = \"thy\", \"ly\"\n",
    "print(username.endswith(ends))"
   ]
  },
  {
   "cell_type": "code",
   "execution_count": 72,
   "metadata": {},
   "outputs": [
    {
     "name": "stdout",
     "output_type": "stream",
     "text": [
      "tuple for endswith must only contain str, not int\n"
     ]
    }
   ],
   "source": [
    "# Even collections work\n",
    "# The collection should only contain string and not any other data type\n",
    "try:\n",
    "    ends = 4, \"thy\", \"ly\"\n",
    "    print(username.endswith(ends))\n",
    "except Exception as e:\n",
    "    print(e)"
   ]
  },
  {
   "cell_type": "markdown",
   "metadata": {},
   "source": [
    "#### `strip()`, `lstrip()` and `rstrip()`"
   ]
  },
  {
   "cell_type": "markdown",
   "metadata": {},
   "source": [
    "This function removes the spaces and few other special characters from both side of the printable characters from the string."
   ]
  },
  {
   "cell_type": "code",
   "execution_count": 36,
   "metadata": {},
   "outputs": [
    {
     "name": "stdout",
     "output_type": "stream",
     "text": [
      "s >    \n",
      "\tMurthy\tSwamy\n",
      "\r",
      "   < 21\n"
     ]
    }
   ],
   "source": [
    "# Original String\n",
    "s = \"   \\n\\tMurthy\\tSwamy\\n\\r  \"\n",
    "\n",
    "print(\"s >\", s, \"<\", len(s))"
   ]
  },
  {
   "cell_type": "code",
   "execution_count": 40,
   "metadata": {},
   "outputs": [
    {
     "name": "stdout",
     "output_type": "stream",
     "text": [
      "start > Murthy\tSwamy < end 12\n",
      "start >Murthy\tSwamy< end12\n"
     ]
    }
   ],
   "source": [
    "# Stripped string\n",
    "# It will not strip special characters from the\n",
    "# middle of the string. \n",
    "\n",
    "stripped = s.strip()\n",
    "print(\"start >\", stripped, \"< end\", len(stripped))\n",
    "print(\"start >\", stripped, \"< end\", len(stripped), sep=\"\")"
   ]
  },
  {
   "cell_type": "code",
   "execution_count": 38,
   "metadata": {},
   "outputs": [
    {
     "name": "stdout",
     "output_type": "stream",
     "text": [
      "s >    \n",
      "\tMurthy\tSwamy\n",
      "\r",
      "   < 21\n"
     ]
    }
   ],
   "source": [
    "# Original String still remains the same.\n",
    "print(\"s >\", s, \"<\", len(s))"
   ]
  },
  {
   "cell_type": "code",
   "execution_count": 39,
   "metadata": {},
   "outputs": [
    {
     "name": "stdout",
     "output_type": "stream",
     "text": [
      ">     \n",
      "\tAmit\tJohri <\n",
      "> Amit\tJohri\t\n",
      "     <\n"
     ]
    }
   ],
   "source": [
    "st = \"    \\n\\tAmit\\tJohri\\t\\n    \"\n",
    "\n",
    "print(\">\", st.rstrip(), \"<\")  # Right Strip\n",
    "print(\">\", st.lstrip(), \"<\")  # Left Strip"
   ]
  },
  {
   "cell_type": "markdown",
   "metadata": {},
   "source": [
    "#### `join()`"
   ]
  },
  {
   "cell_type": "markdown",
   "metadata": {},
   "source": [
    "It allows to join elements of second using the first or in other words, first is used to join the elements of second and a string is created. "
   ]
  },
  {
   "cell_type": "code",
   "execution_count": 41,
   "metadata": {},
   "outputs": [],
   "source": [
    "week_days = \"mon\", \"tues\", \"wed\", \"thus\", \"fri\"\n",
    "comma = \", \""
   ]
  },
  {
   "cell_type": "code",
   "execution_count": 42,
   "metadata": {},
   "outputs": [
    {
     "name": "stdout",
     "output_type": "stream",
     "text": [
      "mon, tues, wed, thus, fri\n"
     ]
    }
   ],
   "source": [
    "\n",
    "# comma-> Joins the string elements of week_days\n",
    "# `comma` is joining the string elements of `week_days`\n",
    "print(comma.join(week_days)) # -> mon, tues, wed, thus, fri"
   ]
  },
  {
   "cell_type": "code",
   "execution_count": 43,
   "metadata": {},
   "outputs": [
    {
     "name": "stdout",
     "output_type": "stream",
     "text": [
      "mon, tues, wed, thus, fri\n",
      "<class 'str'>\n"
     ]
    }
   ],
   "source": [
    "\n",
    "# comma-> Joins the string elements of week_days\n",
    "# `comma` is joining the string elements of `week_days`\n",
    "joined_week_days = comma.join(week_days)\n",
    "\n",
    "print(joined_week_days) # -> mon, tues, wed, thus, fri\n",
    "print(type(joined_week_days))"
   ]
  },
  {
   "cell_type": "code",
   "execution_count": 51,
   "metadata": {},
   "outputs": [
    {
     "name": "stdout",
     "output_type": "stream",
     "text": [
      "Welcome to the City of Lakes\n"
     ]
    }
   ],
   "source": [
    "# Creating a string from the collection of words. \n",
    "\n",
    "welcome_words = \"Welcome\", \"to\", \"the\", \"City\", \"of\", \"Lakes\"\n",
    "space = \" \"\n",
    "\n",
    "welcome_statement = space.join(welcome_words)\n",
    "\n",
    "print(welcome_statement) "
   ]
  },
  {
   "cell_type": "code",
   "execution_count": 52,
   "metadata": {},
   "outputs": [],
   "source": [
    "m = \"Mohan Shah\""
   ]
  },
  {
   "cell_type": "code",
   "execution_count": 53,
   "metadata": {},
   "outputs": [
    {
     "name": "stdout",
     "output_type": "stream",
     "text": [
      "M o h a n   S h a h\n"
     ]
    }
   ],
   "source": [
    "print(space.join(m))"
   ]
  },
  {
   "cell_type": "code",
   "execution_count": 56,
   "metadata": {},
   "outputs": [
    {
     "name": "stdout",
     "output_type": "stream",
     "text": [
      "M,o,h,a,n, ,S,h,a,h\n"
     ]
    }
   ],
   "source": [
    "print(\",\".join(m))"
   ]
  },
  {
   "cell_type": "code",
   "execution_count": 48,
   "metadata": {},
   "outputs": [
    {
     "name": "stdout",
     "output_type": "stream",
     "text": [
      "Wasser Brot\n"
     ]
    }
   ],
   "source": [
    "# Since `a` has only one element, thus it will return \n",
    "# it without joining substring (`comma`), but we still \n",
    "# get a new string with that single element. \n",
    "\n",
    "a = [\"Wasser Brot\"]\n",
    "print(comma.join(a))"
   ]
  },
  {
   "cell_type": "code",
   "execution_count": 75,
   "metadata": {},
   "outputs": [
    {
     "name": "stdout",
     "output_type": "stream",
     "text": [
      "A\n"
     ]
    }
   ],
   "source": [
    "a = \"A\"\n",
    "print(m.join(a))  # The string `A` will be return as it is."
   ]
  },
  {
   "cell_type": "markdown",
   "metadata": {},
   "source": [
    "> Create a string from a collection of string items"
   ]
  },
  {
   "cell_type": "code",
   "execution_count": 76,
   "metadata": {},
   "outputs": [
    {
     "data": {
      "text/plain": [
       "'M o h a n   S h a h'"
      ]
     },
     "execution_count": 76,
     "metadata": {},
     "output_type": "execute_result"
    }
   ],
   "source": [
    "\" \".join(m)"
   ]
  },
  {
   "cell_type": "code",
   "execution_count": 77,
   "metadata": {},
   "outputs": [
    {
     "data": {
      "text/plain": [
       "'M, o, h, a, n,  , S, h, a, h'"
      ]
     },
     "execution_count": 77,
     "metadata": {},
     "output_type": "execute_result"
    }
   ],
   "source": [
    "\", \".join(m)"
   ]
  },
  {
   "cell_type": "code",
   "execution_count": 75,
   "metadata": {},
   "outputs": [
    {
     "name": "stdout",
     "output_type": "stream",
     "text": [
      "Mohan Shah\n"
     ]
    }
   ],
   "source": [
    "# Concating string using null string\n",
    "null_string = \"\"\n",
    "char_str = \"M\", \"o\", \"h\", \"a\", \"n\",\" \", \"S\", \"h\", \"a\", \"h\"\n",
    "print(null_string.join(char_str))"
   ]
  },
  {
   "cell_type": "code",
   "execution_count": 76,
   "metadata": {},
   "outputs": [
    {
     "data": {
      "text/plain": [
       "'This book is good'"
      ]
     },
     "execution_count": 76,
     "metadata": {},
     "output_type": "execute_result"
    }
   ],
   "source": [
    "book_desc = \"This\", \"book\", \"is good\"\n",
    "\" \".join(book_desc)"
   ]
  },
  {
   "cell_type": "code",
   "execution_count": 166,
   "metadata": {},
   "outputs": [
    {
     "name": "stdout",
     "output_type": "stream",
     "text": [
      "215 ns ± 18.3 ns per loop (mean ± std. dev. of 7 runs, 10000000 loops each)\n"
     ]
    }
   ],
   "source": [
    "%%timeit\n",
    "st = \", \".join(book_desc)"
   ]
  },
  {
   "cell_type": "code",
   "execution_count": 168,
   "metadata": {},
   "outputs": [
    {
     "name": "stdout",
     "output_type": "stream",
     "text": [
      "18.3 ns ± 4.57 ns per loop (mean ± std. dev. of 7 runs, 10000000 loops each)\n"
     ]
    }
   ],
   "source": [
    "%%timeit\n",
    "st = \"This\" + \", \" + \"book\" + \", \" + \"is good\""
   ]
  },
  {
   "cell_type": "markdown",
   "metadata": {},
   "source": [
    "> Note: For smaller dataset the `+` operator will be better but for larger dataset `join` will be better "
   ]
  },
  {
   "cell_type": "code",
   "execution_count": 77,
   "metadata": {},
   "outputs": [
    {
     "data": {
      "text/plain": [
       "\"('This', 'book', 'is good')\""
      ]
     },
     "execution_count": 77,
     "metadata": {},
     "output_type": "execute_result"
    }
   ],
   "source": [
    "str(book_desc)"
   ]
  },
  {
   "cell_type": "markdown",
   "metadata": {},
   "source": [
    "Your list should only have string elements, else you will get error message as follows"
   ]
  },
  {
   "cell_type": "code",
   "execution_count": 47,
   "metadata": {},
   "outputs": [
    {
     "name": "stdout",
     "output_type": "stream",
     "text": [
      "ERROR: sequence item 3: expected str instance, int found\n"
     ]
    }
   ],
   "source": [
    "# !!! Gotchas !!!\n",
    "# The collection should have only string elements, if\n",
    "# they have even one element of other data type then \n",
    "# `join` will raise an exception. \n",
    "\n",
    "try:\n",
    "    book_desc = \"This\", \"book\", \"is good\", 1010\n",
    "    \n",
    "    txt = \", \".join(book_desc)\n",
    "except Exception as e:\n",
    "    print(\"error:\".upper(), e)"
   ]
  },
  {
   "cell_type": "code",
   "execution_count": 46,
   "metadata": {},
   "outputs": [
    {
     "name": "stdout",
     "output_type": "stream",
     "text": [
      "ERROR: sequence item 0: expected str instance, int found\n"
     ]
    }
   ],
   "source": [
    "\n",
    "try:\n",
    "    book_desc = 1000, 1005, 1010\n",
    "    txt = \", \".join(book_desc)\n",
    "except Exception as e:\n",
    "    print(\"error:\".upper(), e)"
   ]
  },
  {
   "cell_type": "markdown",
   "metadata": {},
   "source": [
    "#### `capitalize`"
   ]
  },
  {
   "cell_type": "markdown",
   "metadata": {},
   "source": [
    "`capitalize` creates a new string with first character as upper case and remaining as lower case."
   ]
  },
  {
   "cell_type": "code",
   "execution_count": 57,
   "metadata": {},
   "outputs": [
    {
     "name": "stdout",
     "output_type": "stream",
     "text": [
      "Maya deploy, version: 0.0.3\n"
     ]
    }
   ],
   "source": [
    "myStr = \"maya Deploy, Version: 0.0.3\"\n",
    "\n",
    "# m -> M and D -> d & V -> v\n",
    "print(myStr.capitalize()) "
   ]
  },
  {
   "cell_type": "code",
   "execution_count": 58,
   "metadata": {
    "scrolled": true
   },
   "outputs": [
    {
     "name": "stdout",
     "output_type": "stream",
     "text": [
      "Maya deploy.\n",
      " version: 0.0.3\n"
     ]
    }
   ],
   "source": [
    "myStr = \"\"\"maya Deploy.\n",
    " Version: 0.0.3\"\"\"\n",
    "\n",
    "print(myStr.capitalize())"
   ]
  },
  {
   "cell_type": "code",
   "execution_count": 60,
   "metadata": {
    "scrolled": true
   },
   "outputs": [
    {
     "name": "stdout",
     "output_type": "stream",
     "text": [
      "Ss testing ß ss\n"
     ]
    }
   ],
   "source": [
    "# Unicode characters are also handled.\n",
    "\n",
    "my_str = \"ß Testing ß Ss\"\n",
    "print(my_str.capitalize())"
   ]
  },
  {
   "cell_type": "markdown",
   "metadata": {},
   "source": [
    "#### `center`"
   ]
  },
  {
   "cell_type": "markdown",
   "metadata": {},
   "source": [
    "It acts similar to center padding, which we saw in format, except it acts on the entire string."
   ]
  },
  {
   "cell_type": "code",
   "execution_count": 61,
   "metadata": {
    "scrolled": true
   },
   "outputs": [
    {
     "name": "stdout",
     "output_type": "stream",
     "text": [
      "                 maya Deploy Version: 0.0.3                 \n",
      "-----------------maya Deploy Version: 0.0.3-----------------\n",
      "^^^^^^^^^^^^^^^^^maya Deploy Version: 0.0.3^^^^^^^^^^^^^^^^^\n"
     ]
    }
   ],
   "source": [
    "myStr = \"maya Deploy Version: 0.0.3\"\n",
    "print(myStr.center(60))\n",
    "\n",
    "# Custom padding\n",
    "print(myStr.center(60, \"-\"))\n",
    "print(myStr.center(60, \"^\"))"
   ]
  },
  {
   "cell_type": "code",
   "execution_count": 62,
   "metadata": {},
   "outputs": [
    {
     "name": "stdout",
     "output_type": "stream",
     "text": [
      "Error: The fill character must be exactly one character long\n"
     ]
    }
   ],
   "source": [
    "### Rare Gotcha\n",
    "# We can only have one character as padding and not more. \n",
    "\n",
    "try:\n",
    "    print(myStr.center(60, \"*~\"))\n",
    "except Exception as e:\n",
    "    print(\"Error:\", e)"
   ]
  },
  {
   "cell_type": "code",
   "execution_count": 63,
   "metadata": {},
   "outputs": [
    {
     "name": "stdout",
     "output_type": "stream",
     "text": [
      "maya Deploy Version: 0.0.3\n"
     ]
    }
   ],
   "source": [
    "# My string is larger than the number, nothing will happen\n",
    "\n",
    "print(myStr.center(12, \"*\"))"
   ]
  },
  {
   "cell_type": "code",
   "execution_count": 64,
   "metadata": {},
   "outputs": [
    {
     "name": "stdout",
     "output_type": "stream",
     "text": [
      "> ~~~~~~~~~~~~Ashoka the great~~~~~~~~~~~~ <\n"
     ]
    }
   ],
   "source": [
    "# We can cascade multiple string methods as shown below\n",
    "\n",
    "aalok = \"ashoka tHe Great\"\n",
    "print(\">\", aalok.capitalize().center(40, \"~\"), \"<\")"
   ]
  },
  {
   "cell_type": "markdown",
   "metadata": {},
   "source": [
    "#### `count`, `find`"
   ]
  },
  {
   "cell_type": "markdown",
   "metadata": {},
   "source": [
    "`count` returns the number of time the substring is present in the give string. It do not find the substring using recursion."
   ]
  },
  {
   "cell_type": "code",
   "execution_count": 65,
   "metadata": {
    "scrolled": true
   },
   "outputs": [
    {
     "name": "stdout",
     "output_type": "stream",
     "text": [
      "maya Deploy Version: 0.0.3\n"
     ]
    }
   ],
   "source": [
    "title = \"maya Deploy Version: 0.0.3\"\n",
    "print(title)"
   ]
  },
  {
   "cell_type": "code",
   "execution_count": 66,
   "metadata": {},
   "outputs": [
    {
     "name": "stdout",
     "output_type": "stream",
     "text": [
      "title.count('a')=2\n",
      "title.count('i')=1\n"
     ]
    }
   ],
   "source": [
    "print(f\"{title.count('a')=}\")\n",
    "print(f\"{title.count('i')=}\")"
   ]
  },
  {
   "cell_type": "code",
   "execution_count": 67,
   "metadata": {},
   "outputs": [
    {
     "name": "stdout",
     "output_type": "stream",
     "text": [
      "title.count('Z')=0\n"
     ]
    }
   ],
   "source": [
    "# This will return zero as `Z` is not present in the string\n",
    "print(f\"{title.count('Z')=}\")  "
   ]
  },
  {
   "cell_type": "code",
   "execution_count": 68,
   "metadata": {},
   "outputs": [
    {
     "name": "stdout",
     "output_type": "stream",
     "text": [
      "2\n"
     ]
    }
   ],
   "source": [
    "# no recursion, once searched it will not go back to \n",
    "# search for other permutations on the searched substring \n",
    "# for substring under search. \n",
    "\n",
    "kiddo = \"babababa\"\n",
    "print(kiddo.count(\"baba\"))"
   ]
  },
  {
   "cell_type": "code",
   "execution_count": 26,
   "metadata": {
    "scrolled": false
   },
   "outputs": [
    {
     "name": "stdout",
     "output_type": "stream",
     "text": [
      "title.find('e')=6\n"
     ]
    }
   ],
   "source": [
    "# Find returns the index of first occurence of the \n",
    "# substring in the string else returns -1\n",
    "print(f\"{title.find('e')=}\") "
   ]
  },
  {
   "cell_type": "code",
   "execution_count": 27,
   "metadata": {},
   "outputs": [
    {
     "name": "stdout",
     "output_type": "stream",
     "text": [
      "title.find(\"g\")=-1\n"
     ]
    }
   ],
   "source": [
    "# Since `g` is not preset. It will return -1\n",
    "print(f'{title.find(\"g\")=}') "
   ]
  },
  {
   "cell_type": "code",
   "execution_count": 28,
   "metadata": {},
   "outputs": [
    {
     "name": "stdout",
     "output_type": "stream",
     "text": [
      "0\n"
     ]
    }
   ],
   "source": [
    "# Why -1 and not Zero if the sub-string is not \n",
    "# present. \n",
    "my_txt = \"dadadada\"\n",
    "print(my_txt.find(\"dada\"))"
   ]
  },
  {
   "cell_type": "code",
   "execution_count": 29,
   "metadata": {},
   "outputs": [
    {
     "name": "stdout",
     "output_type": "stream",
     "text": [
      "0\n"
     ]
    }
   ],
   "source": [
    "# this is the reason it do not return \"False\" if sub=string \n",
    "# is not present.\n",
    "print(my_txt.find(\"da\"))"
   ]
  },
  {
   "cell_type": "code",
   "execution_count": 39,
   "metadata": {},
   "outputs": [
    {
     "name": "stdout",
     "output_type": "stream",
     "text": [
      "my_txt.find('a', 1)=1\n",
      "my_txt.find('a', 2)=3\n",
      "my_txt.find('a', 3)=3\n",
      "my_txt.find('a', 4)=6\n"
     ]
    }
   ],
   "source": [
    "# Search only portion of the string\n",
    "# In this example, we are asking to search from nth index character onwards.\n",
    "\n",
    "my_txt = \"dada dada\"\n",
    "print(f\"{my_txt.find('a', 1)=}\")\n",
    "print(f\"{my_txt.find('a', 2)=}\")\n",
    "print(f\"{my_txt.find('a', 3)=}\")\n",
    "print(f\"{my_txt.find('a', 4)=}\")"
   ]
  },
  {
   "cell_type": "code",
   "execution_count": 40,
   "metadata": {},
   "outputs": [
    {
     "name": "stdout",
     "output_type": "stream",
     "text": [
      "my_txt.find(\"Great\", 5, 10)=-1\n"
     ]
    }
   ],
   "source": [
    "# since its outside the range thus will not be \n",
    "# able to find the substring `Great`.\n",
    "my_txt = \"Daddy is Great\"\n",
    "print(f'{my_txt.find(\"Great\", 5, 10)=}')"
   ]
  },
  {
   "cell_type": "code",
   "execution_count": 41,
   "metadata": {},
   "outputs": [
    {
     "name": "stdout",
     "output_type": "stream",
     "text": [
      "my_txt.find(\"is\", 5, 10)=6\n"
     ]
    }
   ],
   "source": [
    "my_txt = \"Daddy is Great\"\n",
    "print(f'{my_txt.find(\"is\", 5, 10)=}')"
   ]
  },
  {
   "cell_type": "code",
   "execution_count": 231,
   "metadata": {},
   "outputs": [
    {
     "name": "stdout",
     "output_type": "stream",
     "text": [
      "6\n"
     ]
    }
   ],
   "source": [
    "# 6 -> Start index\n",
    "# 7 -> (End + 1) index\n",
    "print(my_txt.find(\"i\", 6, 7))"
   ]
  },
  {
   "cell_type": "code",
   "execution_count": 233,
   "metadata": {},
   "outputs": [
    {
     "name": "stdout",
     "output_type": "stream",
     "text": [
      "-1\n"
     ]
    }
   ],
   "source": [
    "# so, if both the values are same, it will always return -1\n",
    "print(my_txt.find(\"i\", 6, 6))"
   ]
  },
  {
   "cell_type": "code",
   "execution_count": 43,
   "metadata": {},
   "outputs": [
    {
     "name": "stdout",
     "output_type": "stream",
     "text": [
      "-1\n"
     ]
    }
   ],
   "source": [
    "# Also, if end value is less then start value then also \n",
    "# it will return -1\n",
    "print(my_txt.find(\"i\", 6, 2))"
   ]
  },
  {
   "cell_type": "code",
   "execution_count": 79,
   "metadata": {},
   "outputs": [
    {
     "name": "stdout",
     "output_type": "stream",
     "text": [
      "2\n"
     ]
    }
   ],
   "source": [
    "my_txt = \"dada is good\"\n",
    "print(my_txt.find(\"da\", 1, 5))"
   ]
  },
  {
   "cell_type": "code",
   "execution_count": 87,
   "metadata": {},
   "outputs": [
    {
     "name": "stdout",
     "output_type": "stream",
     "text": [
      "-1\n"
     ]
    }
   ],
   "source": [
    "my_txt = \"dada is good\"\n",
    "print(my_txt.find(\"is\", 5, 2))"
   ]
  },
  {
   "cell_type": "markdown",
   "metadata": {},
   "source": [
    "> **Note**: The `find()` method should be used only if you need to know the position of sub. To check if sub is a substring or not, use the `in` operator:"
   ]
  },
  {
   "cell_type": "markdown",
   "metadata": {},
   "source": [
    "checking: substring in main_string : returns true or false"
   ]
  },
  {
   "cell_type": "code",
   "execution_count": 69,
   "metadata": {},
   "outputs": [
    {
     "name": "stdout",
     "output_type": "stream",
     "text": [
      "\"ma\" in title=True\n"
     ]
    }
   ],
   "source": [
    "print(f'{\"ma\" in title=}')"
   ]
  },
  {
   "cell_type": "code",
   "execution_count": 71,
   "metadata": {},
   "outputs": [
    {
     "name": "stdout",
     "output_type": "stream",
     "text": [
      "\"Ma\" in title=False\n"
     ]
    }
   ],
   "source": [
    "print(f'{\"Ma\" in title=}')"
   ]
  },
  {
   "cell_type": "markdown",
   "metadata": {},
   "source": [
    "### `upper` and `lower`"
   ]
  },
  {
   "cell_type": "code",
   "execution_count": 74,
   "metadata": {},
   "outputs": [
    {
     "name": "stdout",
     "output_type": "stream",
     "text": [
      "TWELVE THOUSAND THREE HUNDRED SIX, FOR SS TESTING SS\n",
      "twelve thousand three hundred six, for ß testing ss\n"
     ]
    }
   ],
   "source": [
    "# Now, they also supports unicode\n",
    "\n",
    "c = \"Twelve Thousand Three Hundred Six, for ß Testing SS\"\n",
    "print(c.upper())\n",
    "print(c.lower())"
   ]
  },
  {
   "cell_type": "code",
   "execution_count": 72,
   "metadata": {},
   "outputs": [
    {
     "name": "stdout",
     "output_type": "stream",
     "text": [
      "अभिवादन\n",
      "अभिवादन\n"
     ]
    }
   ],
   "source": [
    "# Devnagari lipi do not have upper case or lower case,\n",
    "# this they will return the same string. \n",
    "\n",
    "swagat = \"अभिवादन\"\n",
    "print(swagat.upper())\n",
    "print(swagat.lower())"
   ]
  },
  {
   "cell_type": "code",
   "execution_count": 75,
   "metadata": {},
   "outputs": [
    {
     "name": "stdout",
     "output_type": "stream",
     "text": [
      "ஆகுதி செய்யும்போது\n",
      "ஆகுதி செய்யும்போது\n"
     ]
    }
   ],
   "source": [
    "swagat = \"ஆகுதி செய்யும்போது\"\n",
    "print(swagat.upper())\n",
    "print(swagat.lower())"
   ]
  },
  {
   "cell_type": "markdown",
   "metadata": {},
   "source": [
    "### Alpha/Numeric validation"
   ]
  },
  {
   "cell_type": "markdown",
   "metadata": {},
   "source": [
    "Strings implement all of the common sequence operations, along with the additional methods described below."
   ]
  },
  {
   "cell_type": "code",
   "execution_count": 8,
   "metadata": {},
   "outputs": [
    {
     "name": "stdout",
     "output_type": "stream",
     "text": [
      "True\n"
     ]
    }
   ],
   "source": [
    "c = \"one\"\n",
    "print(c.isalpha())"
   ]
  },
  {
   "cell_type": "code",
   "execution_count": 13,
   "metadata": {},
   "outputs": [
    {
     "name": "stdout",
     "output_type": "stream",
     "text": [
      "True\n"
     ]
    }
   ],
   "source": [
    "c = \"welcome\"\n",
    "print(c.isalpha())"
   ]
  },
  {
   "cell_type": "code",
   "execution_count": 14,
   "metadata": {},
   "outputs": [
    {
     "name": "stdout",
     "output_type": "stream",
     "text": [
      "False\n"
     ]
    }
   ],
   "source": [
    "# Space is not alpha character, thus it will return false.\n",
    "\n",
    "c = \"twelve thousand three hundred six\"\n",
    "print(c.isalpha())"
   ]
  },
  {
   "cell_type": "code",
   "execution_count": 15,
   "metadata": {},
   "outputs": [
    {
     "name": "stdout",
     "output_type": "stream",
     "text": [
      "True\n"
     ]
    }
   ],
   "source": [
    "c = \"twelvethousandthreehundredsix\"\n",
    "print(c.isalpha())"
   ]
  },
  {
   "cell_type": "code",
   "execution_count": 17,
   "metadata": {},
   "outputs": [
    {
     "name": "stdout",
     "output_type": "stream",
     "text": [
      "False\n"
     ]
    }
   ],
   "source": [
    "# 1 & 2 are not alpha char's\n",
    "\n",
    "c = \"twelvethousandthreehundredsix12\"\n",
    "print(c.isalpha())"
   ]
  },
  {
   "cell_type": "code",
   "execution_count": 18,
   "metadata": {},
   "outputs": [
    {
     "name": "stdout",
     "output_type": "stream",
     "text": [
      "True\n",
      "True\n"
     ]
    }
   ],
   "source": [
    "# It even works on unicode alphas\n",
    "one = \"એક\"  # One in kannada\n",
    "print(one.isalpha())\n",
    "\n",
    "print(\"ذات\".isalpha())"
   ]
  },
  {
   "cell_type": "code",
   "execution_count": 19,
   "metadata": {},
   "outputs": [
    {
     "name": "stdout",
     "output_type": "stream",
     "text": [
      "False\n"
     ]
    }
   ],
   "source": [
    "# Anything other than alpha will return false as shown below\n",
    "c = \"1\"  # This is not a alpha, thus will fail\n",
    "print(c.isalpha())"
   ]
  },
  {
   "cell_type": "code",
   "execution_count": 20,
   "metadata": {},
   "outputs": [
    {
     "name": "stdout",
     "output_type": "stream",
     "text": [
      "False\n"
     ]
    }
   ],
   "source": [
    "c = \"one two\"  # Since it has a space, it will fail. \n",
    "print(c.isalpha())"
   ]
  },
  {
   "cell_type": "code",
   "execution_count": 23,
   "metadata": {},
   "outputs": [
    {
     "name": "stdout",
     "output_type": "stream",
     "text": [
      "Twelve thousand three hundred and six/- False\n",
      "Twelvethousandthreehundredandsix True\n"
     ]
    }
   ],
   "source": [
    "# Solving the space issue.\n",
    "c = \"Twelve thousand three hundred and six/-\"\n",
    "print(c, c.isalpha())\n",
    "num = c.replace(\" \", \"\").replace(\"-\",\"\").replace(\"/\",\"\")\n",
    "\n",
    "print(num, num.isalpha())"
   ]
  },
  {
   "cell_type": "code",
   "execution_count": 26,
   "metadata": {},
   "outputs": [],
   "source": [
    "superscripts = \"\\u00B2\"\n",
    "five = \"\\u0A6B\"\n",
    "five_punjabi = \"੫\"\n",
    "ten_hindi = \"१०\"\n",
    "num_one = \"1\"\n",
    "tendotfive = \"10.5\"\n",
    "one = \"one\"\n",
    "tamil_one = \"ஒன்று\"\n",
    "fractions = \"\\u00BC\""
   ]
  },
  {
   "cell_type": "code",
   "execution_count": 27,
   "metadata": {},
   "outputs": [
    {
     "name": "stdout",
     "output_type": "stream",
     "text": [
      "1 ²\n",
      "੫\n",
      "੫\n",
      "१०\n",
      "1\n",
      "ஒன்று\n",
      "one\n",
      "¼\n"
     ]
    }
   ],
   "source": [
    "print(1,superscripts)\n",
    "print(five)\n",
    "print(five_punjabi)\n",
    "print(ten_hindi)\n",
    "print(num_one)\n",
    "print(tamil_one)\n",
    "print(one)\n",
    "print(fractions)"
   ]
  },
  {
   "cell_type": "markdown",
   "metadata": {},
   "source": [
    "#### `isdecimal()`"
   ]
  },
  {
   "cell_type": "code",
   "execution_count": 28,
   "metadata": {
    "scrolled": true
   },
   "outputs": [
    {
     "name": "stdout",
     "output_type": "stream",
     "text": [
      "² \t False\n",
      "੫ \t True\n",
      "੫ \t True\n",
      "१० \t True\n",
      "1 \t True\n",
      "10.5 \t False\n",
      "ஒன்று \t False\n",
      "one \t False\n",
      "¼ \t False\n"
     ]
    }
   ],
   "source": [
    "print(superscripts, \"\\t\", superscripts.isdecimal())\n",
    "print(five, \"\\t\", five.isdecimal())\n",
    "print(five_punjabi, \"\\t\", five_punjabi.isdecimal())\n",
    "print(ten_hindi, \"\\t\", ten_hindi.isdecimal())\n",
    "print(num_one, \"\\t\", num_one.isdecimal())\n",
    "print(tendotfive, \"\\t\", tendotfive.isdecimal())\n",
    "print(tamil_one, \"\\t\", tamil_one.isdecimal())\n",
    "print(one, \"\\t\", one.isdecimal())\n",
    "print(fractions, \"\\t\", fractions.isdecimal())"
   ]
  },
  {
   "cell_type": "code",
   "execution_count": 29,
   "metadata": {},
   "outputs": [
    {
     "name": "stdout",
     "output_type": "stream",
     "text": [
      "False\n"
     ]
    }
   ],
   "source": [
    "# Any text other than numbers will result in False\n",
    "str = \"this 2009\";  \n",
    "print(str.isdecimal())"
   ]
  },
  {
   "cell_type": "markdown",
   "metadata": {},
   "source": [
    "#### `isdigit`"
   ]
  },
  {
   "cell_type": "code",
   "execution_count": 31,
   "metadata": {},
   "outputs": [
    {
     "name": "stdout",
     "output_type": "stream",
     "text": [
      "² \t True\n",
      "੫ \t True\n",
      "੫ \t True\n",
      "१० \t True\n",
      "1 \t True\n",
      "10.5 \t False\n",
      "ஒன்று \t False\n",
      "one \t False\n",
      "¼ \t False\n"
     ]
    }
   ],
   "source": [
    "# str.isdigit() -> \n",
    "#     - Decimals, \n",
    "#     - Subscripts,\n",
    "#     - Superscripts\n",
    "\n",
    "print(superscripts, \"\\t\", superscripts.isdigit())\n",
    "print(five, \"\\t\" , five.isdigit())\n",
    "print(five_punjabi, \"\\t\" , five_punjabi.isdigit())\n",
    "print(ten_hindi, \"\\t\" , ten_hindi.isdigit())\n",
    "print(num_one, \"\\t\" , num_one.isdigit())\n",
    "print(tendotfive, \"\\t\", tendotfive.isdigit())\n",
    "print(tamil_one, \"\\t\", tamil_one.isdigit())\n",
    "print(one, \"\\t\" , one.isdigit())\n",
    "print(fractions, \"\\t\" , fractions.isdigit())"
   ]
  },
  {
   "cell_type": "markdown",
   "metadata": {},
   "source": [
    "#### `str.isnumeric`"
   ]
  },
  {
   "cell_type": "markdown",
   "metadata": {},
   "source": [
    "- Digits, \n",
    "- Fractions, \n",
    "- Subscripts, \n",
    "- Superscripts"
   ]
  },
  {
   "cell_type": "code",
   "execution_count": 32,
   "metadata": {},
   "outputs": [
    {
     "name": "stdout",
     "output_type": "stream",
     "text": [
      "² \t True\n",
      "੫ \t True\n",
      "੫ \t True\n",
      "१० \t True\n",
      "1 \t True\n",
      "10.5 \t False\n",
      "ஒன்று \t False\n",
      "one \t False\n",
      "¼ \t True\n"
     ]
    }
   ],
   "source": [
    "print(superscripts, \"\\t\", superscripts.isnumeric())\n",
    "print(five, \"\\t\", five.isnumeric())\n",
    "print(five_punjabi, \"\\t\", five_punjabi.isnumeric())\n",
    "print(ten_hindi, \"\\t\", ten_hindi.isnumeric())\n",
    "print(num_one, \"\\t\", num_one.isnumeric())\n",
    "\n",
    "print(tendotfive, \"\\t\", tendotfive.isnumeric())\n",
    "print(tamil_one, \"\\t\", \"ذات\".isnumeric())\n",
    "print(one, \"\\t\", one.isnumeric())\n",
    "print(fractions, \"\\t\", fractions.isnumeric())"
   ]
  },
  {
   "cell_type": "markdown",
   "metadata": {},
   "source": [
    "#### `isalnum`"
   ]
  },
  {
   "cell_type": "markdown",
   "metadata": {},
   "source": [
    "Any kind of number: be it alpha or numeric."
   ]
  },
  {
   "cell_type": "code",
   "execution_count": 34,
   "metadata": {},
   "outputs": [
    {
     "name": "stdout",
     "output_type": "stream",
     "text": [
      "² \t True\n",
      "੫ \t True\n",
      "੫ \t True\n",
      "१० \t True\n",
      "1 \t True\n",
      "10.5 \t False\n",
      "one \t True\n",
      "¼ \t True\n",
      "Welcome \t True\n"
     ]
    }
   ],
   "source": [
    "print(superscripts, \"\\t\", superscripts.isalnum())\n",
    "print(five, \"\\t\", five.isalnum())\n",
    "print(five_punjabi, \"\\t\", five_punjabi.isalnum())\n",
    "print(ten_hindi, \"\\t\", ten_hindi.isalnum())\n",
    "print(num_one, \"\\t\", num_one.isalnum())\n",
    "print(tendotfive, \"\\t\", tendotfive.isnumeric())\n",
    "print(one, \"\\t\", one.isalnum())\n",
    "print(fractions, \"\\t\", fractions.isalnum())\n",
    "welcome = \"Welcome\"\n",
    "print(welcome, \"\\t\", welcome.isalnum())"
   ]
  },
  {
   "cell_type": "code",
   "execution_count": 35,
   "metadata": {},
   "outputs": [
    {
     "name": "stdout",
     "output_type": "stream",
     "text": [
      "True\n",
      "True\n",
      "True\n",
      "False\n"
     ]
    }
   ],
   "source": [
    "print(\"one\".isalnum())\n",
    "print(\"thirteen\".isalnum())\n",
    "tenOne = \"10One\"\n",
    "print(tenOne.isalnum())\n",
    "ten_One = \"10.10\"\n",
    "print(ten_One.isalnum())"
   ]
  },
  {
   "cell_type": "markdown",
   "metadata": {},
   "source": [
    "### Reverse String"
   ]
  },
  {
   "cell_type": "markdown",
   "metadata": {},
   "source": [
    "Creates a new list with elements in reverse order"
   ]
  },
  {
   "cell_type": "markdown",
   "metadata": {},
   "source": [
    "- **Method 1** Sliceing"
   ]
  },
  {
   "cell_type": "code",
   "execution_count": 77,
   "metadata": {},
   "outputs": [
    {
     "name": "stdout",
     "output_type": "stream",
     "text": [
      "सुबह सुबह का सूरज\n"
     ]
    }
   ],
   "source": [
    "s = \"जरूस ाक हबुस हबुस\"\n",
    "print(s[::-1])"
   ]
  },
  {
   "cell_type": "markdown",
   "metadata": {},
   "source": [
    "- **Method 2:** Using `reversed` function "
   ]
  },
  {
   "cell_type": "code",
   "execution_count": 56,
   "metadata": {},
   "outputs": [
    {
     "name": "stdout",
     "output_type": "stream",
     "text": [
      "सुबह सुबह का सूरज\n"
     ]
    }
   ],
   "source": [
    "s = \"जरूस ाक हबुस हबुस\"\n",
    "print(''.join(reversed(s)))"
   ]
  },
  {
   "cell_type": "code",
   "execution_count": 36,
   "metadata": {},
   "outputs": [
    {
     "name": "stdout",
     "output_type": "stream",
     "text": [
      "Morning Sun\n"
     ]
    }
   ],
   "source": [
    "s = \"nuS gninroM\"\n",
    "print(''.join(reversed(s)))"
   ]
  },
  {
   "cell_type": "code",
   "execution_count": 37,
   "metadata": {},
   "outputs": [
    {
     "name": "stdout",
     "output_type": "stream",
     "text": [
      "<reversed object at 0x7f38f9bf8af0>\n",
      "('M', 'o', 'r', 'n', 'i', 'n', 'g', ' ', 'S', 'u', 'n')\n",
      "Morning Sun\n"
     ]
    }
   ],
   "source": [
    "# inner working of method 2\n",
    "print(reversed(s))\n",
    "print(tuple(reversed(s)))\n",
    "print(\"\".join(reversed(s)))"
   ]
  },
  {
   "cell_type": "code",
   "execution_count": 72,
   "metadata": {},
   "outputs": [
    {
     "name": "stdout",
     "output_type": "stream",
     "text": [
      "सुबह सुबह 01 का सूरज\n",
      "Morning Sun\n"
     ]
    }
   ],
   "source": [
    "s = \"जरूस ाक 10 हबुस हबुस\"\n",
    "print(''.join(reversed(s)))\n",
    "s = \"nuS gninroM\"\n",
    "print(''.join(reversed(s)))"
   ]
  },
  {
   "cell_type": "markdown",
   "metadata": {},
   "source": [
    "### case-insensitive string comparison"
   ]
  },
  {
   "cell_type": "markdown",
   "metadata": {},
   "source": [
    "##### for ASCII strings"
   ]
  },
  {
   "cell_type": "code",
   "execution_count": 111,
   "metadata": {},
   "outputs": [
    {
     "name": "stdout",
     "output_type": "stream",
     "text": [
      "The strings are the same (case insensitive)\n"
     ]
    }
   ],
   "source": [
    "string1 = 'Hello'\n",
    "string2 = 'helLo'\n",
    "\n",
    "if string1.lower() == string2.lower():\n",
    "    print(\"The strings are the same (case insensitive)\")\n",
    "else:\n",
    "    print(\"The strings are not the same (case insensitive)\")"
   ]
  },
  {
   "cell_type": "markdown",
   "metadata": {},
   "source": [
    "##### for unicode strings"
   ]
  },
  {
   "cell_type": "code",
   "execution_count": 8,
   "metadata": {},
   "outputs": [
    {
     "name": "stdout",
     "output_type": "stream",
     "text": [
      "The strings are the same (case insensitive)\n"
     ]
    }
   ],
   "source": [
    "str_lower = \"Σίσυφος\"\n",
    "str_upper = \"ΣΊΣΥΦΟΣ\"\n",
    "\n",
    "if str_upper.lower() == str_lower.lower():\n",
    "    print(\"The strings are the same (case insensitive)\")\n",
    "else:\n",
    "    print(\"The strings are not the same (case insensitive)\")"
   ]
  },
  {
   "cell_type": "markdown",
   "metadata": {},
   "source": [
    "but fails in some cases"
   ]
  },
  {
   "cell_type": "code",
   "execution_count": 40,
   "metadata": {},
   "outputs": [
    {
     "name": "stdout",
     "output_type": "stream",
     "text": [
      "The strings are not the same (case insensitive)\n"
     ]
    }
   ],
   "source": [
    "str_lower = \"ß test\"\n",
    "str_upper = \"SS test\"\n",
    "\n",
    "if str_upper.lower() == str_lower.lower():\n",
    "    print(\"The strings are the same (case insensitive)\")\n",
    "else:\n",
    "    print(\"The strings are not the same (case insensitive)\")"
   ]
  },
  {
   "cell_type": "code",
   "execution_count": 39,
   "metadata": {},
   "outputs": [
    {
     "name": "stdout",
     "output_type": "stream",
     "text": [
      "The strings are the same (case insensitive)\n"
     ]
    }
   ],
   "source": [
    "str_lower = \"ß test\"\n",
    "str_upper = \"SS test\"\n",
    "\n",
    "if str_upper.upper() == str_lower.upper():\n",
    "    print(\"The strings are the same (case insensitive)\")\n",
    "else:\n",
    "    print(\"The strings are not the same (case insensitive)\")"
   ]
  },
  {
   "cell_type": "code",
   "execution_count": 131,
   "metadata": {},
   "outputs": [
    {
     "name": "stdout",
     "output_type": "stream",
     "text": [
      "ss test ß test\n",
      "SS TEST SS TEST\n"
     ]
    }
   ],
   "source": [
    "print(str_upper.lower(), str_lower.lower())\n",
    "print(str_upper.upper(), str_lower.upper())"
   ]
  },
  {
   "cell_type": "markdown",
   "metadata": {},
   "source": [
    "So the best bet is using `casefold`. Lets replace `lower` to `casefold` in the above example "
   ]
  },
  {
   "cell_type": "code",
   "execution_count": 43,
   "metadata": {},
   "outputs": [
    {
     "name": "stdout",
     "output_type": "stream",
     "text": [
      "The strings are the same (case insensitive)\n"
     ]
    }
   ],
   "source": [
    "str_lower = \"ß test\"\n",
    "str_upper = \"SS test\"\n",
    "\n",
    "if str_upper.casefold() == str_lower.casefold():\n",
    "    print(\"The strings are the same (case insensitive)\")\n",
    "else:\n",
    "    print(\"The strings are not the same (case insensitive)\")"
   ]
  },
  {
   "cell_type": "code",
   "execution_count": 133,
   "metadata": {},
   "outputs": [
    {
     "name": "stdout",
     "output_type": "stream",
     "text": [
      "ss  :  ss\n",
      "SS\n"
     ]
    }
   ],
   "source": [
    "print(str_lower.casefold(), \" : \", str_upper.casefold())\n",
    "print(str_lower.upper())"
   ]
  },
  {
   "cell_type": "markdown",
   "metadata": {},
   "source": [
    "### Interning Strings"
   ]
  },
  {
   "cell_type": "markdown",
   "metadata": {},
   "source": [
    "It is a method of storing only one copy of each distinct string value, which must be immutable. Interning strings makes some string processing tasks more time- or space-efficient at the cost of requiring more time when the string is created or interned."
   ]
  },
  {
   "cell_type": "code",
   "execution_count": 58,
   "metadata": {},
   "outputs": [
    {
     "name": "stdout",
     "output_type": "stream",
     "text": [
      "Mayank_Johri 139849659368176\n",
      "Mayank_Johri 139849659368176\n",
      "True\n"
     ]
    }
   ],
   "source": [
    "s1 = \"Mayank_Johri\"\n",
    "s2 = \"Mayank_Johri\"\n",
    "\n",
    "print(s1, id(s1))\n",
    "print(s2, id(s2))\n",
    "print(s1 is s2)"
   ]
  },
  {
   "cell_type": "code",
   "execution_count": 77,
   "metadata": {},
   "outputs": [
    {
     "name": "stdout",
     "output_type": "stream",
     "text": [
      "Abhishek Kumar 139882685195952\n",
      "Abhishek Kumar 139882685131312\n",
      "False\n"
     ]
    }
   ],
   "source": [
    "s1 = \"Abhishek Kumar\"\n",
    "s2 = \"Abhishek Kumar\"\n",
    "\n",
    "print(s1, id(s1))\n",
    "print(s2, id(s2))\n",
    "print(s1 is s2)"
   ]
  },
  {
   "cell_type": "code",
   "execution_count": 45,
   "metadata": {},
   "outputs": [
    {
     "name": "stdout",
     "output_type": "stream",
     "text": [
      "aaaaaaaaaaaaaaaaaaaaa 139882685260832\n",
      "aaaaaaaaaaaaaaaaaaaaa 139882685260832\n",
      "True\n",
      "True\n"
     ]
    }
   ],
   "source": [
    "s1 = \"a\"*21\n",
    "s2 = \"aaaaaaaaaaaaaaaaaaaaa\"\n",
    "\n",
    "print(s1, id(s1))\n",
    "print(s2, id(s2))\n",
    "print(s1 is s2)\n",
    "print(s1 == s2)"
   ]
  },
  {
   "cell_type": "code",
   "execution_count": 48,
   "metadata": {},
   "outputs": [
    {
     "name": "stdout",
     "output_type": "stream",
     "text": [
      "aaaaaaaaaaaaaaaaaaaaaaaaaaaaaaaaaaaaaaaaaaaaaaaaaaaaaaaaaaaaaaaaaaaaaaaaaaaaaaaaaaaaaaaaaaaaaaaaaaaa 139882686047664 100\n",
      "aaaaaaaaaaaaaaaaaaaaaaaaaaaaaaaaaaaaaaaaaaaaaaaaaaaaaaaaaaaaaaaaaaaaaaaaaaaaaaaaaaaaaaaaaaaaaaaaaaaa 139882686047664 100\n",
      "True\n",
      "True\n"
     ]
    }
   ],
   "source": [
    "s1 = \"a\"*100\n",
    "s2 = \"aaaaaaaaaaaaaaaaaaaaaaaaaaaaaaaaaaaaaaaaaaaaaaaaaaaaaaaaaaaaaaaaaaaaaaaaaaaaaaaaaaaaaaaaaaaaaaaaaaaa\"\n",
    "\n",
    "print(s1, id(s1), len(s1))\n",
    "print(s2, id(s2), len(s2))\n",
    "print(s1 is s2) # Same \n",
    "print(s1 == s2) # Equal"
   ]
  },
  {
   "cell_type": "code",
   "execution_count": 63,
   "metadata": {},
   "outputs": [
    {
     "name": "stdout",
     "output_type": "stream",
     "text": [
      "aaaaaaaaaaaaaaaaaaaaaaaaaaaaaaaaaaaaaaaa aaaaaaaaaaaaaaaaaaaaaaaaaaaaaaaaaaaaaaaaaaaaaaaaaaaaaaaaaaaa 139849641304112 101\n",
      "aaaaaaaaaaaaaaaaaaaaaaaaaaaaaaaaaaaaaaaa aaaaaaaaaaaaaaaaaaaaaaaaaaaaaaaaaaaaaaaaaaaaaaaaaaaaaaaaaaaa 139849641305712 101\n",
      "Same: False\n",
      "Equal: True\n"
     ]
    }
   ],
   "source": [
    "s1 = \"aaaaaaaaaaaaaaaaaaaaaaaaaaaaaaaaaaaaaaaa aaaaaaaaaaaaaaaaaaaaaaaaaaaaaaaaaaaaaaaaaaaaaaaaaaaaaaaaaaaa\"\n",
    "s2 = \"aaaaaaaaaaaaaaaaaaaaaaaaaaaaaaaaaaaaaaaa aaaaaaaaaaaaaaaaaaaaaaaaaaaaaaaaaaaaaaaaaaaaaaaaaaaaaaaaaaaa\"\n",
    "\n",
    "print(s1, id(s1), len(s1))\n",
    "print(s2, id(s2), len(s2))\n",
    "print(\"Same:\", s1 is s2) # Same \n",
    "print(\"Equal:\", s1 == s2) # Equal"
   ]
  },
  {
   "cell_type": "markdown",
   "metadata": {},
   "source": [
    "By default only strings with single word are stored in intern memory "
   ]
  },
  {
   "cell_type": "code",
   "execution_count": 64,
   "metadata": {},
   "outputs": [
    {
     "name": "stdout",
     "output_type": "stream",
     "text": [
      "R  139849641311472\n",
      "R  139849641309168\n",
      "False\n",
      "True\n"
     ]
    }
   ],
   "source": [
    "s1 = \"R \"\n",
    "s2 = \"R \"\n",
    "\n",
    "print(s1, id(s1))\n",
    "print(s2, id(s2))\n",
    "print(s1 is s2)\n",
    "print(s1 == s2)"
   ]
  },
  {
   "cell_type": "markdown",
   "metadata": {},
   "source": [
    "But if you run the above code through a file, then it might not be true. "
   ]
  },
  {
   "cell_type": "code",
   "execution_count": 65,
   "metadata": {},
   "outputs": [
    {
     "name": "stdout",
     "output_type": "stream",
     "text": [
      "  139849722330352\n",
      "  139849722330352\n",
      "True\n",
      "True\n"
     ]
    }
   ],
   "source": [
    "s1 = \" \"\n",
    "s2 = \" \"\n",
    "\n",
    "print(s1, id(s1))\n",
    "print(s2, id(s2))\n",
    "print(s1 is s2)\n",
    "print(s1 == s2)"
   ]
  },
  {
   "cell_type": "markdown",
   "metadata": {},
   "source": [
    "NOTE: Special Chac's matter and not the size"
   ]
  },
  {
   "cell_type": "markdown",
   "metadata": {},
   "source": [
    "Forcefully using same instance"
   ]
  },
  {
   "cell_type": "code",
   "execution_count": 78,
   "metadata": {},
   "outputs": [
    {
     "name": "stdout",
     "output_type": "stream",
     "text": [
      "Mayank  Johri 139882685192688\n",
      "Mayank_Johri 139882658087856\n",
      "Mayank  Johri 139882685192688 True\n"
     ]
    }
   ],
   "source": [
    "from sys import intern\n",
    "\n",
    "s1 = intern(\"Mayank  Johri\")\n",
    "s2 = intern(\"Mayank_Johri\")\n",
    "s3 = intern(\"Mayank  Johri\")\n",
    "\n",
    "print(s1, id(s1))\n",
    "print(s2, id(s2))\n",
    "print(s3, id(s3), s1 is s3)"
   ]
  },
  {
   "cell_type": "code",
   "execution_count": 79,
   "metadata": {},
   "outputs": [
    {
     "name": "stdout",
     "output_type": "stream",
     "text": [
      "Mayank_Johri 139882658087856\n"
     ]
    }
   ],
   "source": [
    "s4 = intern(\"Mayank_Johri\")\n",
    "print(s4, id(s4))"
   ]
  },
  {
   "cell_type": "code",
   "execution_count": 80,
   "metadata": {},
   "outputs": [
    {
     "name": "stdout",
     "output_type": "stream",
     "text": [
      "Rahul Johri 139882685131312\n",
      "Rahul Johri 139882685131312 True\n",
      "Mayank  Johri 139882685192688\n"
     ]
    }
   ],
   "source": [
    "j = intern(\"Rahul Johri\")\n",
    "j1 = intern(\"Rahul Johri\")\n",
    "print(j, id(j))\n",
    "print(j1, id(j1), j is j1)\n",
    "print(s1, id(s1))"
   ]
  },
  {
   "cell_type": "markdown",
   "metadata": {},
   "source": [
    "#### Misc "
   ]
  },
  {
   "cell_type": "code",
   "execution_count": 91,
   "metadata": {},
   "outputs": [
    {
     "name": "stdout",
     "output_type": "stream",
     "text": [
      "['', 'Bus 002 Device 001: ID 1d6b:0003 Linux Foundation 3.0 root hub', 'Bus 001 Device 006: ID 138a:003f Validity Sensors, Inc. VFS495 Fingerprint Reader', 'Bus 001 Device 005: ID 8087:0a2b Intel Corp. ', 'Bus 001 Device 004: ID 0408:5371 Quanta Computer, Inc. HP HD Camera', 'Bus 001 Device 003: ID 0461:4d51 Primax Electronics, Ltd 0Y357C PMX-MMOCZUL (B) [Dell Laser Mouse]', 'Bus 001 Device 007: ID 0b0e:0342 GN Netcom Jabra UC VOICE 150a MS', 'Bus 001 Device 001: ID 1d6b:0002 Linux Foundation 2.0 root hub', '']\n"
     ]
    }
   ],
   "source": [
    "# Split works on multi line strings also \n",
    "\n",
    "s = \"\"\"\n",
    "Bus 002 Device 001: ID 1d6b:0003 Linux Foundation 3.0 root hub\n",
    "Bus 001 Device 006: ID 138a:003f Validity Sensors, Inc. VFS495 Fingerprint Reader\n",
    "Bus 001 Device 005: ID 8087:0a2b Intel Corp. \n",
    "Bus 001 Device 004: ID 0408:5371 Quanta Computer, Inc. HP HD Camera\n",
    "Bus 001 Device 003: ID 0461:4d51 Primax Electronics, Ltd 0Y357C PMX-MMOCZUL (B) [Dell Laser Mouse]\n",
    "Bus 001 Device 007: ID 0b0e:0342 GN Netcom Jabra UC VOICE 150a MS\n",
    "Bus 001 Device 001: ID 1d6b:0002 Linux Foundation 2.0 root hub\n",
    "\"\"\"\n",
    "\n",
    "d = s.split('\\n')\n",
    "print(d)\n",
    "lst = []"
   ]
  },
  {
   "cell_type": "code",
   "execution_count": 92,
   "metadata": {},
   "outputs": [
    {
     "name": "stdout",
     "output_type": "stream",
     "text": [
      "9\n"
     ]
    }
   ],
   "source": [
    "# We can use `len` to find the number of strings created by split in this case\n",
    "print(len(d))"
   ]
  },
  {
   "cell_type": "code",
   "execution_count": 81,
   "metadata": {},
   "outputs": [
    {
     "name": "stdout",
     "output_type": "stream",
     "text": [
      "['', 'Bus 002 Device 001: ID 1d6b:0003 Linux Foundation 3.0 root hub\\nBus 001 Device 006: ID 138a:003f Validity Sensors, Inc. VFS495 Fingerprint Reader\\nBus 001 Device 005: ID 8087:0a2b Intel Corp. \\nBus 001 Device 004: ID 0408:5371 Quanta Computer, Inc. HP HD Camera\\nBus 001 Device 003: ID 0461:4d51 Primax Electronics, Ltd 0Y357C PMX-MMOCZUL (B) [Dell Laser Mouse]\\nBus 001 Device 007: ID 0b0e:0342 GN Netcom Jabra UC VOICE 150a MS\\nBus 001 Device 001: ID 1d6b:0002 Linux Foundation 2.0 root hub\\n']\n"
     ]
    }
   ],
   "source": [
    "# Split works on multi line strings also \n",
    "\n",
    "s = \"\"\"\n",
    "Bus 002 Device 001: ID 1d6b:0003 Linux Foundation 3.0 root hub\n",
    "Bus 001 Device 006: ID 138a:003f Validity Sensors, Inc. VFS495 Fingerprint Reader\n",
    "Bus 001 Device 005: ID 8087:0a2b Intel Corp. \n",
    "Bus 001 Device 004: ID 0408:5371 Quanta Computer, Inc. HP HD Camera\n",
    "Bus 001 Device 003: ID 0461:4d51 Primax Electronics, Ltd 0Y357C PMX-MMOCZUL (B) [Dell Laser Mouse]\n",
    "Bus 001 Device 007: ID 0b0e:0342 GN Netcom Jabra UC VOICE 150a MS\n",
    "Bus 001 Device 001: ID 1d6b:0002 Linux Foundation 2.0 root hub\n",
    "\"\"\"\n",
    "\n",
    "d = s.split('\\n', 1)\n",
    "print(d)\n",
    "lst = []"
   ]
  },
  {
   "cell_type": "code",
   "execution_count": 82,
   "metadata": {},
   "outputs": [
    {
     "name": "stdout",
     "output_type": "stream",
     "text": [
      "['', 'Bus 002 Device 001: ID 1d6b:0003 Linux Foundation 3.0 root hub', 'Bus 001 Device 006: ID 138a:003f Validity Sensors, Inc. VFS495 Fingerprint Reader\\nBus 001 Device 005: ID 8087:0a2b Intel Corp. \\nBus 001 Device 004: ID 0408:5371 Quanta Computer, Inc. HP HD Camera\\nBus 001 Device 003: ID 0461:4d51 Primax Electronics, Ltd 0Y357C PMX-MMOCZUL (B) [Dell Laser Mouse]\\nBus 001 Device 007: ID 0b0e:0342 GN Netcom Jabra UC VOICE 150a MS\\nBus 001 Device 001: ID 1d6b:0002 Linux Foundation 2.0 root hub\\n']\n"
     ]
    }
   ],
   "source": [
    "# Split works on multi line strings also \n",
    "\n",
    "s = \"\"\"\n",
    "Bus 002 Device 001: ID 1d6b:0003 Linux Foundation 3.0 root hub\n",
    "Bus 001 Device 006: ID 138a:003f Validity Sensors, Inc. VFS495 Fingerprint Reader\n",
    "Bus 001 Device 005: ID 8087:0a2b Intel Corp. \n",
    "Bus 001 Device 004: ID 0408:5371 Quanta Computer, Inc. HP HD Camera\n",
    "Bus 001 Device 003: ID 0461:4d51 Primax Electronics, Ltd 0Y357C PMX-MMOCZUL (B) [Dell Laser Mouse]\n",
    "Bus 001 Device 007: ID 0b0e:0342 GN Netcom Jabra UC VOICE 150a MS\n",
    "Bus 001 Device 001: ID 1d6b:0002 Linux Foundation 2.0 root hub\n",
    "\"\"\"\n",
    "\n",
    "d = s.split('\\n', 2)\n",
    "print(d)\n",
    "lst = []"
   ]
  },
  {
   "cell_type": "code",
   "execution_count": 83,
   "metadata": {},
   "outputs": [
    {
     "name": "stdout",
     "output_type": "stream",
     "text": [
      "['\\nBus 002 Device 001: ID 1d6b:0003 Linux Foundation 3.0 root hub\\nBus 001 Device 006: ID 138a:003f Validity Sensors, Inc. VFS495 Fingerprint Reader\\nBus 001 Device 005: ID 8087:0a2b Intel Corp. \\nBus 001 Device 004: ID 0408:5371 Quanta Computer, Inc. HP HD Camera\\nBus 001 Device 003: ID 0461:4d51 Primax Electronics, Ltd 0Y357C PMX-MMOCZUL (B) [Dell Laser Mouse]\\nBus 001 Device 007: ID 0b0e:0342 GN Netcom Jabra UC VOICE 150a MS\\nBus 001 Device 001: ID 1d6b:0002 Linux Foundation 2.0 root hub\\n']\n"
     ]
    }
   ],
   "source": [
    "# since `Noida` is not present in the string. \n",
    "# `d` will have single element as the entire string\n",
    "d = s.split(\"Noida\")\n",
    "print(d)"
   ]
  },
  {
   "cell_type": "code",
   "execution_count": 84,
   "metadata": {},
   "outputs": [
    {
     "name": "stdout",
     "output_type": "stream",
     "text": [
      "1\n"
     ]
    }
   ],
   "source": [
    "# We can use `len` to find the number of strings created by split in this case\n",
    "print(len(d))"
   ]
  },
  {
   "cell_type": "markdown",
   "metadata": {},
   "source": [
    "### `removeprefix` & `removesuffix` (PEP 616)"
   ]
  },
  {
   "cell_type": "code",
   "execution_count": 85,
   "metadata": {},
   "outputs": [
    {
     "name": "stdout",
     "output_type": "stream",
     "text": [
      "<BODY>This is body of the message</BODY>\n"
     ]
    }
   ],
   "source": [
    "message = \"<HEAD>Welcome<BODY>This is body of the message</BODY></HEAD>\"\n",
    "\n",
    "body = message.removeprefix(\"<HEAD>Welcome\").removesuffix(\"</HEAD>\")\n",
    "print(body)"
   ]
  },
  {
   "cell_type": "markdown",
   "metadata": {},
   "source": [
    "#### Difference betweek `removeprefix/removesuffix` and `lstrip/rstrip`"
   ]
  },
  {
   "cell_type": "markdown",
   "metadata": {},
   "source": [
    "\n",
    "    (l/r)strip:\n",
    "        The argument is interpreted as a character set.\n",
    "        The characters are repeatedly removed from the appropriate end of the string.\n",
    "        \n",
    "    remove(prefix/suffix):\n",
    "        The argument is interpreted as an unbroken substring.\n",
    "        Only at most one copy of the prefix/suffix is removed.\n"
   ]
  },
  {
   "cell_type": "code",
   "execution_count": 42,
   "metadata": {},
   "outputs": [
    {
     "name": "stdout",
     "output_type": "stream",
     "text": [
      "BODY>This is body of the message</BODY></HEAD>\n"
     ]
    }
   ],
   "source": [
    "message = \"<HEAD>Welcome<BODY>This is body of the message</BODY></HEAD>\"\n",
    "# Note `lstrip` removed the extra `<`. That happened because `<` character\n",
    "# was present in elements to be removed from the front of the string\n",
    "# `message`.\n",
    "body = message.lstrip(\"<HEAD>Welcome\")\n",
    "print(body)"
   ]
  },
  {
   "cell_type": "code",
   "execution_count": 44,
   "metadata": {},
   "outputs": [
    {
     "name": "stdout",
     "output_type": "stream",
     "text": [
      "BODY>This is body of the message</BODY></\n"
     ]
    }
   ],
   "source": [
    "message = \"<HEAD>Welcome<BODY>This is body of the message</BODY></HEAD>\"\n",
    "\n",
    "body = message.strip(\"<HEAD>Welcome\")\n",
    "print(body)"
   ]
  },
  {
   "cell_type": "markdown",
   "metadata": {},
   "source": [
    "### References"
   ]
  },
  {
   "cell_type": "markdown",
   "metadata": {},
   "source": [
    "- https://www.python.org/dev/peps/pep-3101/\n",
    "- https://en.wikipedia.org/wiki/String_interning\n",
    "- https://en.wikipedia.org/wiki/Escape_character\n",
    "- https://en.wikipedia.org/wiki/Escape_sequences_in_C"
   ]
  }
 ],
 "metadata": {
  "kernelspec": {
   "display_name": "Python 3 (ipykernel)",
   "language": "python",
   "name": "python3"
  },
  "language_info": {
   "codemirror_mode": {
    "name": "ipython",
    "version": 3
   },
   "file_extension": ".py",
   "mimetype": "text/x-python",
   "name": "python",
   "nbconvert_exporter": "python",
   "pygments_lexer": "ipython3",
   "version": "3.10.4"
  }
 },
 "nbformat": 4,
 "nbformat_minor": 2
}
