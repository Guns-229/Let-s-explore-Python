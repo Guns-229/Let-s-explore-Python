{
 "cells": [
  {
   "cell_type": "markdown",
   "metadata": {},
   "source": [
    "## String"
   ]
  },
  {
   "cell_type": "markdown",
   "metadata": {},
   "source": [
    "> String is a sequence of `characters`. "
   ]
  },
  {
   "cell_type": "markdown",
   "metadata": {},
   "source": [
    "*Strings* are Python *builtins* datatype for handling text. They are **immutable** datatype, thus we cannot add, remove or update character(s) in the *string*. If you wish to perform these operations than you need to create a new *string* and assign the existing/new variable name to it. "
   ]
  },
  {
   "cell_type": "markdown",
   "metadata": {},
   "source": [
    "### Characters"
   ]
  },
  {
   "cell_type": "markdown",
   "metadata": {},
   "source": [
    "Character is a unit of information that roughly corresponds to a grapheme (the smallest meaningful contrastive unit in a writing system), or symbol, such as in an alphabet in the written form of a natural language.\n",
    "\n",
    "Each character can be defined by a simple code (ascii/unicode) depending on the encoding type.\n",
    "\n",
    "Common examples of characters are `a`, `,`, `â`,`ॐ`, `ༀ`, `ੴ `, `}`. \n",
    "\n",
    "You can read more about unicode at http://unicode.org/charts/ and https://docs.python.org/3.3/howto/unicode.html"
   ]
  },
  {
   "cell_type": "markdown",
   "metadata": {},
   "source": [
    "We can print the unicode characters by appending `\\u` to the hex number or directly as shown below. Below are two most auspicious characters from Indian culture (Swastika (https://en.wikipedia.org/wiki/Swastika) and Om (https://en.wikipedia.org/wiki/Om ))."
   ]
  },
  {
   "cell_type": "code",
   "execution_count": 2,
   "metadata": {
    "scrolled": true
   },
   "outputs": [
    {
     "name": "stdout",
     "output_type": "stream",
     "text": [
      "ॐ 卐 ॐ ড\n"
     ]
    }
   ],
   "source": [
    "print('\\u0950 \\u5350', \"ॐ\", \"\\u09A1\")"
   ]
  },
  {
   "cell_type": "code",
   "execution_count": 1,
   "metadata": {},
   "outputs": [
    {
     "name": "stdout",
     "output_type": "stream",
     "text": [
      "௷ ௷\n"
     ]
    }
   ],
   "source": [
    "print('\\u0BF7', '௷')  # Tamil Credit Sign"
   ]
  },
  {
   "cell_type": "markdown",
   "metadata": {},
   "source": [
    "We can also do the following to get the bunch of unicode chars"
   ]
  },
  {
   "cell_type": "code",
   "execution_count": 4,
   "metadata": {},
   "outputs": [
    {
     "name": "stdout",
     "output_type": "stream",
     "text": [
      "ऀ  ँ  ं  ः  ऄ  अ  आ  इ  ई  उ  ऊ  ऋ  ऌ  ऍ  ऎ  ए  ऐ  ऑ  ऒ  ओ  औ  क  ख  ग  घ  ङ  च  छ  ज  झ  ञ  ट  ठ  ड  ढ  ण  त  थ  द  ध  न  ऩ  प  फ  ब  भ  म  य  र  ऱ  ल  ळ  ऴ  व  श  ष  स  ह  ऺ  ऻ  ़  ऽ  ा  ि  ी  ु  ू  ृ  ॄ  ॅ  ॆ  े  ै  ॉ  ॊ  ो  ौ  ्  ॎ  ॏ  ॐ  ॑  ॒  ॓  ॔  ॕ  ॖ  ॗ  क़  ख़  ग़  ज़  ड़  ढ़  फ़  य़  ॠ  ॡ  ॢ  ॣ  ।  ॥  ०  १  २  ३  ४  ५  ६  ७  ८  ९  ॰  ॱ  ॲ  ॳ  ॴ  ॵ  ॶ  ॷ  ॸ  ॹ  ॺ  ॻ  ॼ  ॽ  ॾ  "
     ]
    }
   ],
   "source": [
    "# Printing devanagari unicode characters from their corresponding int code.\n",
    "for code in range(0x0900, 0x097F):\n",
    "    print(\"{a}\".format(a=chr(code)), end=\"  \")"
   ]
  },
  {
   "cell_type": "markdown",
   "metadata": {},
   "source": [
    "### Escape Characters "
   ]
  },
  {
   "cell_type": "markdown",
   "metadata": {},
   "source": [
    "an escape character is a character which invokes an alternative interpretation on subsequent characters in a character sequence. An escape character is a particular case of metacharacters."
   ]
  },
  {
   "cell_type": "markdown",
   "metadata": {},
   "source": [
    "##### Table: Escape Characters"
   ]
  },
  {
   "cell_type": "markdown",
   "metadata": {},
   "source": [
    "| Escape sequence  | Hex value in ASCII | Character represented                                                              |\n",
    "|------------------|--------------------|------------------------------------------------------------------------------------|\n",
    "| \\a               | 07                 | Alert (Beep, Bell) (added in C89)[1]                                               |\n",
    "| \\b               | 08                 | Backspace                                                                          |\n",
    "| \\f               | 0C                 | Formfeed                                                                           |\n",
    "| \\n               | 0A                 | Newline (Line Feed); see notes below                                               |\n",
    "| \\r               | 0D                 | Carriage Return                                                                    |\n",
    "| \\t               | 09                 | Horizontal Tab                                                                     |\n",
    "| \\v               | 0B                 | Vertical Tab                                                                       |\n",
    "| \\\\               | 5C                 | Backslash                                                                          |\n",
    "| \\'               | 27                 | Single quotation mark                                                              |\n",
    "| \\\"               | 22                 | Double quotation mark                                                              |\n",
    "| \\?               | 3F                 | Question mark (used to avoid trigraphs)                                            |\n",
    "| \\nnnnote 1       | any                | The byte whose numerical value is given by nnn interpreted as an octal number      |\n",
    "| \\xhh…            | any                | The byte whose numerical value is given by hh… interpreted as a hexadecimal number |\n",
    "| \\enote 2         | 1B                 | escape character (some character sets)                                             |\n",
    "| \\Uhhhhhhhhnote 3 | none               | Unicode code point where h is a hexadecimal digit                                  |\n",
    "| \\uhhhhnote 4     | none               | Unicode code point below 10000 hexadecimal                                         |"
   ]
  },
  {
   "cell_type": "markdown",
   "metadata": {},
   "source": [
    "### String Types"
   ]
  },
  {
   "cell_type": "markdown",
   "metadata": {},
   "source": [
    "Strings can be classified in 3 categories.\n",
    "- **Standard String**: Standard string is one which executed the escape characters\n",
    "\n",
    "- **Raw String**: Raw Strings on the other hand handle escape characters as normal characters and do not process them. The raw string should be prefixed by either `r` or `R`.\n",
    "\n",
    "- **formatted string literal** or **f-string**: Is a string literal that is prefixed with `f` or `F`. These strings may contain _replacement fields_, which are expressions delimited by curly braces `{}`. While other string literals always have a constant value, formatted strings are really expressions evaluated at run time.  _**{New in 3.6}**_"
   ]
  },
  {
   "cell_type": "markdown",
   "metadata": {},
   "source": [
    "String can be initialized using:\n",
    "\n",
    "+ With single or double quotes (`''`, `\"\"`).\n",
    "+ On several consecutive lines, provided that it's between three single or double quotes (''' ''', \"\"\" \"\"\").\n",
    "+ Without expansion characters (example: `s = r'\\ n'`, where `s` will contain the characters `\\` and `n`).\n"
   ]
  },
  {
   "cell_type": "markdown",
   "metadata": {},
   "source": [
    "#### Standard String"
   ]
  },
  {
   "cell_type": "markdown",
   "metadata": {},
   "source": [
    "Standard string is one in which the escape characters are processed and executed. They are by default unicode strings. "
   ]
  },
  {
   "cell_type": "markdown",
   "metadata": {},
   "source": [
    "> Note\n",
    "> <hr>\n",
    "> Since Python 3, strings are by default unicode encoded strings"
   ]
  },
  {
   "cell_type": "code",
   "execution_count": 3,
   "metadata": {
    "scrolled": true
   },
   "outputs": [
    {
     "name": "stdout",
     "output_type": "stream",
     "text": [
      "Chandu.\b\n",
      "\tNalluri\n"
     ]
    }
   ],
   "source": [
    "#### Standard String Examples: \n",
    "\n",
    "friend = 'Chandu.\\b\\n\\tNalluri' \n",
    "print(friend)"
   ]
  },
  {
   "cell_type": "code",
   "execution_count": 4,
   "metadata": {},
   "outputs": [
    {
     "name": "stdout",
     "output_type": "stream",
     "text": [
      "|| ओ३म् ||\n"
     ]
    }
   ],
   "source": [
    "# Unicode is by default\n",
    "\n",
    "oum = \"|| ओ३म् ||\"\n",
    "print(oum)"
   ]
  },
  {
   "cell_type": "code",
   "execution_count": 5,
   "metadata": {},
   "outputs": [
    {
     "name": "stdout",
     "output_type": "stream",
     "text": [
      "|| ओ३म् ||\n"
     ]
    }
   ],
   "source": [
    "print(\"|| \\u0913\\u0969\\u092E\\u094D ||\")"
   ]
  },
  {
   "cell_type": "markdown",
   "metadata": {},
   "source": [
    "```Python\n",
    "# Benefit of `\\` escape character\n",
    "try:\n",
    "    user_comment = \"Mr. K.V. Pauly was a \"very good\" General Manager\"\n",
    "    print(user_comment)\n",
    "except Exception as e:\n",
    "    print(e)\n",
    "```\n",
    "```\n",
    "  File \"<ipython-input-8-35c598554b7a>\", line 3\n",
    "    user_comment = \"Mr. K.V. Pauly was a \"very good\" General Manager\"\n",
    "                                          ^\n",
    "SyntaxError: invalid syntax\n",
    "    ```"
   ]
  },
  {
   "cell_type": "code",
   "execution_count": 6,
   "metadata": {},
   "outputs": [
    {
     "name": "stdout",
     "output_type": "stream",
     "text": [
      "Mr. K.V. Pauly was a \"very good\" General Manager\n"
     ]
    }
   ],
   "source": [
    "# Benefit of `\\` escape character\n",
    "user_comment = \"Mr. K.V. Pauly was a \\\"very good\\\" General Manager\"\n",
    "print(user_comment)"
   ]
  },
  {
   "cell_type": "code",
   "execution_count": 7,
   "metadata": {},
   "outputs": [
    {
     "name": "stdout",
     "output_type": "stream",
     "text": [
      "Mr. K.V. Pauly was a \"Very Good\" Manager\n"
     ]
    }
   ],
   "source": [
    "user_comment = 'Mr. K.V. Pauly was a \"Very Good\" Manager'\n",
    "print(user_comment)"
   ]
  },
  {
   "cell_type": "code",
   "execution_count": 8,
   "metadata": {},
   "outputs": [
    {
     "name": "stdout",
     "output_type": "stream",
     "text": [
      "Mr. Roshan Musheer was a 'very good' Manager.\n"
     ]
    }
   ],
   "source": [
    "user_comment = 'Mr. Roshan Musheer was a \\'very good\\' Manager.'\n",
    "print(user_comment)"
   ]
  },
  {
   "cell_type": "code",
   "execution_count": 9,
   "metadata": {},
   "outputs": [
    {
     "name": "stdout",
     "output_type": "stream",
     "text": [
      "Mr. Roshan Musheer was a very good manager\team Leader.\n"
     ]
    }
   ],
   "source": [
    "# Opps Moment\n",
    "\n",
    "user_comment = 'Mr. Roshan Musheer was a very good manager\\team Leader.'\n",
    "print(user_comment)"
   ]
  },
  {
   "cell_type": "code",
   "execution_count": 6,
   "metadata": {},
   "outputs": [
    {
     "name": "stdout",
     "output_type": "stream",
     "text": [
      "Mr. Roshan Musheer was a very good manager\\team Leader.\n"
     ]
    }
   ],
   "source": [
    "# How to have `\\` in my string \n",
    "\n",
    "user_comment = 'Mr. Roshan Musheer was a very good manager\\\\team Leader.'\n",
    "print(user_comment)"
   ]
  },
  {
   "cell_type": "code",
   "execution_count": 11,
   "metadata": {},
   "outputs": [
    {
     "name": "stdout",
     "output_type": "stream",
     "text": [
      "# Roshan Musheer:\n",
      "\tExcellent Manager and human being.\n"
     ]
    }
   ],
   "source": [
    "manager_details = \"# Roshan Musheer:\\n\\tExcellent Manager and human being.\"\n",
    "print(manager_details)"
   ]
  },
  {
   "cell_type": "code",
   "execution_count": 13,
   "metadata": {},
   "outputs": [
    {
     "name": "stdout",
     "output_type": "stream",
     "text": [
      "C:\n",
      "ew_data\technical_jargons\n"
     ]
    }
   ],
   "source": [
    "# Real World Example: Opps Moment with `\\` in strings\n",
    "\n",
    "path = \"C:\\new_data\\technical_jargons\"\n",
    "print(path)"
   ]
  },
  {
   "cell_type": "code",
   "execution_count": 15,
   "metadata": {},
   "outputs": [
    {
     "name": "stdout",
     "output_type": "stream",
     "text": [
      "C:\\new_data\\technical_jargons\n"
     ]
    }
   ],
   "source": [
    "\n",
    "# Using \\\\ as escape character to print \\\n",
    "# C:\\\\temp\\\\ -> c:\\temp\\\n",
    "\n",
    "path = \"C:\\\\new_data\\\\technical_jargons\"\n",
    "print(path)"
   ]
  },
  {
   "cell_type": "code",
   "execution_count": 16,
   "metadata": {},
   "outputs": [
    {
     "name": "stdout",
     "output_type": "stream",
     "text": [
      "C:/new_data/technical_jargons\n"
     ]
    }
   ],
   "source": [
    "\n",
    "# Using \\\\ as escape character to print \\\n",
    "# C:\\\\temp\\\\ -> c:\\temp\\\n",
    "\n",
    "path = \"C:/new_data/technical_jargons\"\n",
    "print(path)"
   ]
  },
  {
   "cell_type": "markdown",
   "metadata": {},
   "source": [
    "#### Raw String"
   ]
  },
  {
   "cell_type": "markdown",
   "metadata": {},
   "source": [
    "Raw Strings on the other hand handle escape characters as normal characters and do not process them"
   ]
  },
  {
   "cell_type": "code",
   "execution_count": 17,
   "metadata": {
    "scrolled": false
   },
   "outputs": [
    {
     "name": "stdout",
     "output_type": "stream",
     "text": [
      "C:\\new_data\\technical_jargons\n"
     ]
    }
   ],
   "source": [
    "a = r'C:\\new_data\\technical_jargons'\n",
    "print(a)"
   ]
  },
  {
   "cell_type": "code",
   "execution_count": 19,
   "metadata": {},
   "outputs": [
    {
     "name": "stdout",
     "output_type": "stream",
     "text": [
      "|| ओ३म् ||.\\b\\n.\n",
      "|| ओ३म् ||.\b\n",
      ".\n"
     ]
    }
   ],
   "source": [
    "# In raw string case do not matter for `R`. \n",
    "ohm = R\"|| ओ३म् ||.\\b\\n.\"\n",
    "print(ohm)\n",
    "\n",
    "# standard string\n",
    "ohm = \"|| ओ३म् ||.\\b\\n.\"\n",
    "print(ohm)"
   ]
  },
  {
   "cell_type": "markdown",
   "metadata": {},
   "source": [
    "> **NOTE**: both `r` and `R` work the same way"
   ]
  },
  {
   "cell_type": "markdown",
   "metadata": {},
   "source": [
    "### `Formatted String Literal` or `F-String`"
   ]
  },
  {
   "cell_type": "markdown",
   "metadata": {},
   "source": [
    "`F-String` are prefixed with `f` or `F`. These strings may contain _replacement fields_, which are expressions delimited by curly braces `{}`. While other string literals always have a constant value, formatted strings are really expressions evaluated at run time. _**{New in 3.6}**_"
   ]
  },
  {
   "cell_type": "code",
   "execution_count": 20,
   "metadata": {},
   "outputs": [
    {
     "name": "stdout",
     "output_type": "stream",
     "text": [
      "Price of 2 oranges is Rs 20/- each\n"
     ]
    }
   ],
   "source": [
    "price = 20\n",
    "count = 2\n",
    "\n",
    "print(f\"Price of {count} oranges is Rs {price}/- each\")"
   ]
  },
  {
   "cell_type": "code",
   "execution_count": 24,
   "metadata": {},
   "outputs": [
    {
     "name": "stdout",
     "output_type": "stream",
     "text": [
      "Price of {count} oranges is Rs {price}/- each\n"
     ]
    }
   ],
   "source": [
    "price = 13\n",
    "count = 12\n",
    "\n",
    "# Standard String\n",
    "print(\"Price of {count} oranges is Rs {price}/- each\")"
   ]
  },
  {
   "cell_type": "code",
   "execution_count": 25,
   "metadata": {},
   "outputs": [
    {
     "name": "stdout",
     "output_type": "stream",
     "text": [
      "Price of 12 oranges is Rs 13/- each\n"
     ]
    }
   ],
   "source": [
    "# Formatted String\n",
    "print(f\"Price of {count} oranges is Rs {price}/- each\")"
   ]
  },
  {
   "cell_type": "code",
   "execution_count": 29,
   "metadata": {},
   "outputs": [
    {
     "name": "stdout",
     "output_type": "stream",
     "text": [
      "1:- Price of 12 oranges is Rs 13/- each\n"
     ]
    }
   ],
   "source": [
    "price = 13\n",
    "count = 12\n",
    "\n",
    "result = f\"1:- Price of {count} oranges is Rs {price}/- each\"\n",
    "print(result)"
   ]
  },
  {
   "cell_type": "code",
   "execution_count": 33,
   "metadata": {},
   "outputs": [
    {
     "name": "stdout",
     "output_type": "stream",
     "text": [
      "1:- Price of 12 oranges is Rs 13/- each\n"
     ]
    }
   ],
   "source": [
    "price = 10\n",
    "count = 30\n",
    "\n",
    "print(result)"
   ]
  },
  {
   "cell_type": "code",
   "execution_count": 36,
   "metadata": {},
   "outputs": [
    {
     "name": "stdout",
     "output_type": "stream",
     "text": [
      "1:- Price of 12 oranges is Rs 13/- each \n",
      " 2:- Price of 30 oranges is Rs 3/- each\n",
      "129639094917712  :  129639094918384\n"
     ]
    }
   ],
   "source": [
    "\n",
    "new_result = f\"2:- Price of {count} oranges is Rs {price}/- each\"\n",
    "print(result,\"\\n\", new_result)\n",
    "print(id(result),\" : \", id(new_result))"
   ]
  },
  {
   "cell_type": "code",
   "execution_count": 41,
   "metadata": {},
   "outputs": [
    {
     "name": "stdout",
     "output_type": "stream",
     "text": [
      "Price of oranges  = 10 is Rs price=3/- each\n"
     ]
    }
   ],
   "source": [
    "## Providing more data and is good for debugging\n",
    "# Spaces matter\n",
    "oranges = 10\n",
    "price = 3\n",
    "print(f\"Price of {oranges  = } is Rs {price=}/- each\")"
   ]
  },
  {
   "cell_type": "markdown",
   "metadata": {},
   "source": [
    "##### Notes on f-String"
   ]
  },
  {
   "cell_type": "markdown",
   "metadata": {},
   "source": [
    " Formatted string literals \n",
    " - cannot be used as docstrings, even if they do not include expressions.\n",
    " - cannot consume `\\` directly, instead be used through a variable data."
   ]
  },
  {
   "cell_type": "code",
   "execution_count": 18,
   "metadata": {},
   "outputs": [
    {
     "name": "stdout",
     "output_type": "stream",
     "text": [
      "add_me.__doc__ = None\n",
      "add_me.__doc__ is None = True\n"
     ]
    }
   ],
   "source": [
    "def add_me(first, second):\n",
    "    f\"\"\"Returns the sum of {first} and {second}\"\"\"\n",
    "    return first + second\n",
    "\n",
    "print(f\"{add_me.__doc__ = }\")\n",
    "print(f\"{add_me.__doc__ is None = }\")"
   ]
  },
  {
   "cell_type": "markdown",
   "metadata": {},
   "source": [
    "```python\n",
    "# Gotcha's -  f-string expression part cannot include a backslash\n",
    "\n",
    "a = \"test\n",
    "print(f\"{\\n}\")\n",
    "```\n",
    "**Output:**\n",
    "```python\n",
    "  File \"<ipython-input-11-0fde8cc0c309>\", line 3\n",
    "    print(f\"{\\n}\")\n",
    "                 ^\n",
    "SyntaxError: f-string expression part cannot include a backslash\n",
    "```"
   ]
  },
  {
   "cell_type": "code",
   "execution_count": 7,
   "metadata": {},
   "outputs": [
    {
     "name": "stdout",
     "output_type": "stream",
     "text": [
      "Amit\t Sharma 10\n",
      "age=10name='Amit\\t'surname='Sharma'age=10\n",
      "age = 10name = 'Amit\\t'testsurname = 'Sharma'age = 10\n"
     ]
    }
   ],
   "source": [
    "name = \"Amit\\t\"\n",
    "surname=\"Sharma\"\n",
    "age = 10\n",
    "print(f\"{name} {surname} {age}\")\n",
    "\n",
    "# Below ones are usually used for debugging\n",
    "print(f\"{age=}{name=}{surname=}{age=}\") # preserves whitespace and not process the escape characters\n",
    "print(f\"{age = }{name = }{surname = }{age = }\") # preserves whitespace and not process the escape characters\n",
    "# print(f\"{name = !r}\")"
   ]
  },
  {
   "cell_type": "markdown",
   "metadata": {},
   "source": [
    "### Multi line String or DocString or MultiLine Comment ;)"
   ]
  },
  {
   "cell_type": "markdown",
   "metadata": {},
   "source": [
    "Ok, following is not multi line string, its just a single line written in two line."
   ]
  },
  {
   "cell_type": "code",
   "execution_count": 8,
   "metadata": {},
   "outputs": [
    {
     "name": "stdout",
     "output_type": "stream",
     "text": [
      "String concatenation 'is\" a process' of joining two or more strings into a single sring. As we have already discussed\" 'that string.\n"
     ]
    }
   ],
   "source": [
    "concatenation = \"String concatenation 'is\\\" a process' of joining \" \\\n",
    "                \"two or more strings into a single sring. As we \" \\\n",
    "                'have already discussed\" \\'that string.'\n",
    "print(concatenation)"
   ]
  },
  {
   "cell_type": "code",
   "execution_count": 1,
   "metadata": {},
   "outputs": [
    {
     "name": "stdout",
     "output_type": "stream",
     "text": [
      "String concatenation 'is\" a process of joining two or more strings into a single string. As we have already discussed that string \n"
     ]
    }
   ],
   "source": [
    "# or use brakets `()`\n",
    "animal = (\"String concatenation 'is\\\" a process of joining \" \n",
    "         \"two or more strings into a single string. As we \" \n",
    "         'have already discussed that string ')\n",
    "print(animal)"
   ]
  },
  {
   "cell_type": "code",
   "execution_count": 5,
   "metadata": {},
   "outputs": [
    {
     "name": "stdout",
     "output_type": "stream",
     "text": [
      "String concatenation 'is\" a process of joining two or more strings into a single string. As we have already discussed that string \n"
     ]
    }
   ],
   "source": [
    "animal = \"String concatenation 'is\\\" a process of joining \" + \\\n",
    "         \"two or more strings into a single string. As we \" + \\\n",
    "         'have already discussed that string '\n",
    "print(animal)"
   ]
  },
  {
   "cell_type": "code",
   "execution_count": 6,
   "metadata": {},
   "outputs": [
    {
     "name": "stdout",
     "output_type": "stream",
     "text": [
      "String concatenation 'is\" a process of joining two or more strings into a single string. As we have already discussed that string \n"
     ]
    }
   ],
   "source": [
    "animal = (\"String concatenation 'is\\\" a process of joining \" + \n",
    "         \"two or more strings into a single string. As we \" + \n",
    "         'have already discussed that string ')\n",
    "print(animal)"
   ]
  },
  {
   "cell_type": "markdown",
   "metadata": {},
   "source": [
    "For multi line string, we need to use triple single ( ' ) or double ( \" ) quote characters."
   ]
  },
  {
   "cell_type": "code",
   "execution_count": 10,
   "metadata": {},
   "outputs": [
    {
     "name": "stdout",
     "output_type": "stream",
     "text": [
      "This 'is'''\n",
      "    multi line\" strings\n"
     ]
    }
   ],
   "source": [
    "# MultiLine String with tab :)\n",
    "docs = '''This 'is\\'''\n",
    "    multi line\" strings'''\n",
    "\n",
    "print(docs)"
   ]
  },
  {
   "cell_type": "code",
   "execution_count": 12,
   "metadata": {},
   "outputs": [
    {
     "name": "stdout",
     "output_type": "stream",
     "text": [
      "This 'is'''\n",
      "    multi line\" strings\n"
     ]
    }
   ],
   "source": [
    "# MultiLine String with tab :)\n",
    "docs = '''This 'is\\'''\n",
    "    multi line\" strings'''\n",
    "\n",
    "print(docs)"
   ]
  },
  {
   "cell_type": "code",
   "execution_count": 13,
   "metadata": {},
   "outputs": [
    {
     "name": "stdout",
     "output_type": "stream",
     "text": [
      "String Concatenation:\n",
      "\n",
      "    String concatenation 'is a process of joining two or more strings \n",
      "    into a single string. As we have already discussed that string \n",
      "    is an immutable datatype \"thus we have to create a new string \n",
      "    for concatenation\", what that means is the original strings\n",
      "    will still remain the same and new one will be created \n",
      "    using the texts from the originals.\n",
      "\n"
     ]
    }
   ],
   "source": [
    "docs = \"\"\"String Concatenation:\n",
    "\n",
    "    String concatenation 'is a process of joining two or more strings \n",
    "    into a single string. As we have already discussed that string \n",
    "    is an immutable datatype \"thus we have to create a new string \n",
    "    for concatenation\", what that means is the original strings\n",
    "    will still remain the same and new one will be created \n",
    "    using the texts from the originals.\n",
    "\"\"\"\n",
    "print(docs)"
   ]
  },
  {
   "cell_type": "code",
   "execution_count": 19,
   "metadata": {},
   "outputs": [
    {
     "name": "stdout",
     "output_type": "stream",
     "text": [
      "Lets do it.\n",
      "\n",
      "String Concatenation:\n",
      "\n",
      "    String concatenation 'is a process of joining two or more strings \n",
      "    into a single string. As we have already discussed that string \n",
      "    is an immutable datatype \"thus we have to create a new string \n",
      "    for concatenation\", what that means is the original strings\n",
      "    will still remain the same and new one will be created \n",
      "    using the texts from the originals.\n",
      "\n"
     ]
    }
   ],
   "source": [
    "# At the cost of new line at the start, the code is a bit more \n",
    "# readable\n",
    "\n",
    "docs = \"\"\"\n",
    "String Concatenation:\n",
    "\n",
    "    String concatenation 'is a process of joining two or more strings \n",
    "    into a single string. As we have already discussed that string \n",
    "    is an immutable datatype \"thus we have to create a new string \n",
    "    for concatenation\", what that means is the original strings\n",
    "    will still remain the same and new one will be created \n",
    "    using the texts from the originals.\n",
    "\"\"\"\n",
    "print(\"Lets do it.\")\n",
    "print(docs)"
   ]
  },
  {
   "cell_type": "markdown",
   "metadata": {},
   "source": [
    "#### Multiline string with no variable (comment)"
   ]
  },
  {
   "cell_type": "code",
   "execution_count": 20,
   "metadata": {
    "scrolled": true
   },
   "outputs": [
    {
     "name": "stdout",
     "output_type": "stream",
     "text": [
      "100\n"
     ]
    }
   ],
   "source": [
    "x = 100\n",
    "\"\"\"\n",
    "This is multi line\n",
    "comment\n",
    "\"\"\"\n",
    "print(x)"
   ]
  },
  {
   "cell_type": "markdown",
   "metadata": {},
   "source": [
    "#### DocString"
   ]
  },
  {
   "cell_type": "code",
   "execution_count": 21,
   "metadata": {},
   "outputs": [],
   "source": [
    "def sample():\n",
    "    \"\"\"\n",
    "    This is a sample\n",
    "    for doc string\n",
    "    \"\"\""
   ]
  }
 ],
 "metadata": {
  "kernelspec": {
   "display_name": "Python 3 (ipykernel)",
   "language": "python",
   "name": "python3"
  },
  "language_info": {
   "codemirror_mode": {
    "name": "ipython",
    "version": 3
   },
   "file_extension": ".py",
   "mimetype": "text/x-python",
   "name": "python",
   "nbconvert_exporter": "python",
   "pygments_lexer": "ipython3",
   "version": "3.10.4"
  }
 },
 "nbformat": 4,
 "nbformat_minor": 2
}
