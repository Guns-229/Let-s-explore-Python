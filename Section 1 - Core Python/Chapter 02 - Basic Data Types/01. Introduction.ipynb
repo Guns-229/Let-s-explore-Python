{
 "cells": [
  {
   "cell_type": "markdown",
   "metadata": {},
   "source": [
    "# Data Types"
   ]
  },
  {
   "cell_type": "markdown",
   "metadata": {},
   "source": [
    "## Introduction"
   ]
  },
  {
   "cell_type": "markdown",
   "metadata": {},
   "source": [
    "Data types can be divided into multiple groups based on its properties. In our training, we usually divide them two ways, one is \n",
    "- based on their complexity and\n",
    "- based on their behaviour"
   ]
  },
  {
   "cell_type": "markdown",
   "metadata": {},
   "source": [
    "Data types can be divided into two different groups based on complexity.\n",
    "\n",
    "- **Basic Data Types**:\n",
    "    - Numbers (integer, complex, boolean ... )\n",
    "    - Strings\n",
    "\n",
    "- **Complex data types** such as collections:\n",
    "    - List\n",
    "    - Tuple\n",
    "    - Dictionary\n",
    "\n",
    "Data types can be divided based on its behaviour as mutable & immutable:\n",
    "\n",
    "- **Immutable**: Which do not allow the contents of variables to be changed, examples: \n",
    "    - numbers: int(), float(), complex()\n",
    "    - immutable sequences: str(), tuple(), frozenset(), bytes()   \n",
    "    \n",
    "- **Mutable**: Which allows the content of the variable to be changed, example: \n",
    "    - mutable sequences: list(), bytearray()\n",
    "    - set type: set()\n",
    "    - mapping type: dict()\n",
    "    - classes, class instances"
   ]
  },
  {
   "cell_type": "markdown",
   "metadata": {},
   "source": [
    "A general explanation from the \"Data Model\" chapter(http://docs.python.org/reference/datamodel.html#objects-values-and-types) in the Python Language Reference\":\n",
    "\n",
    "> \"The value of some objects can change. Objects whose value can change are said to be **mutable**; objects whose value is unchangeable once they are created are called **immutable**.\n",
    "\n",
    "> (The value of an immutable container object that contains a reference to a mutable object can change when the latter’s value is changed; however the container is still considered immutable, because the collection of objects it contains cannot be changed. So, immutability is not strictly the same as having an unchangeable value, it is more subtle.)\n",
    "\n",
    "An object’s mutability is determined by its type; for instance, numbers, strings and tuples are immutable, while dictionaries and lists are mutable."
   ]
  },
  {
   "cell_type": "markdown",
   "metadata": {},
   "source": [
    "> **<center>!!! Note !!!</center>**\n",
    "> <hr>\n",
    "> Although, immutable elements can not be updated, but mutable elements inside immutables can update themself as shown in the example below."
   ]
  },
  {
   "cell_type": "markdown",
   "metadata": {},
   "source": [
    "## Basic Data Types"
   ]
  },
  {
   "cell_type": "markdown",
   "metadata": {},
   "source": [
    "We are going to cover basic data types in this section, and will learn about few complex data types such as list and dictionary.\n",
    "\n",
    "Few of the more complicated data types will be covered in later chapters."
   ]
  }
 ],
 "metadata": {
  "anaconda-cloud": {},
  "kernelspec": {
   "display_name": "Python 3 (ipykernel)",
   "language": "python",
   "name": "python3"
  },
  "language_info": {
   "codemirror_mode": {
    "name": "ipython",
    "version": 3
   },
   "file_extension": ".py",
   "mimetype": "text/x-python",
   "name": "python",
   "nbconvert_exporter": "python",
   "pygments_lexer": "ipython3",
   "version": "3.9.12"
  }
 },
 "nbformat": 4,
 "nbformat_minor": 1
}
