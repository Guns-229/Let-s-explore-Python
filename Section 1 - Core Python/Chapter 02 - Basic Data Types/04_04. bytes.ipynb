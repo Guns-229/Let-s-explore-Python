{
 "cells": [
  {
   "cell_type": "markdown",
   "metadata": {},
   "source": [
    "## bytes"
   ]
  },
  {
   "cell_type": "markdown",
   "metadata": {},
   "source": [
    "The Syntax of `bytes` are same as that for `string`, except its `b` prefix in `bytes` as shown in the below examples"
   ]
  },
  {
   "cell_type": "code",
   "execution_count": 1,
   "metadata": {},
   "outputs": [
    {
     "name": "stdout",
     "output_type": "stream",
     "text": [
      "b'This is good' b'This is \"good\"' b'This is, \\t\\nreally good'\n"
     ]
    }
   ],
   "source": [
    "s1 = b'This is good'\n",
    "s2 = b'This is \"good\"'\n",
    "s3 = b'''This is, \\t\n",
    "really good'''\n",
    "print(s1, s2, s3)"
   ]
  },
  {
   "cell_type": "markdown",
   "metadata": {},
   "source": [
    "> <img src=\"../../imgs/notes.svg\" style=\"align:left\"></img>Only ASCII characters are permitted in bytes literals and any binary values over 127 must be entered into bytes literals using the appropriate escape sequence.\n",
    ">\n",
    "> **Example:**\n",
    ">```python\n",
    "    s_hindi = b'हल'\n",
    "```\n",
    "**Output:**\n",
    "```python\n",
    "  File \"<ipython-input-9-ddcc7b258ee9>\", line 2\n",
    "    s_hindi = b'हल'\n",
    "             ^\n",
    "SyntaxError: bytes can only contain ASCII literal characters.\n",
    "```"
   ]
  },
  {
   "cell_type": "markdown",
   "metadata": {},
   "source": [
    "### Converting string to byte and vice versa"
   ]
  },
  {
   "cell_type": "markdown",
   "metadata": {},
   "source": [
    "`encode` method of string converts the string in byte as shown below, and `decode` converts byte in string."
   ]
  },
  {
   "cell_type": "code",
   "execution_count": 2,
   "metadata": {},
   "outputs": [
    {
     "name": "stdout",
     "output_type": "stream",
     "text": [
      "b'Welcome to Hindustan'\n",
      "b'\\xe0\\xa4\\xb9\\xe0\\xa4\\xb2'\n"
     ]
    }
   ],
   "source": [
    "print('Welcome to Hindustan'.encode())\n",
    "print('हल'.encode())"
   ]
  },
  {
   "cell_type": "code",
   "execution_count": 3,
   "metadata": {},
   "outputs": [
    {
     "name": "stdout",
     "output_type": "stream",
     "text": [
      "Welcome to Hindustan\n"
     ]
    }
   ],
   "source": [
    "print(b'Welcome to Hindustan'.decode())"
   ]
  },
  {
   "cell_type": "code",
   "execution_count": 4,
   "metadata": {},
   "outputs": [
    {
     "name": "stdout",
     "output_type": "stream",
     "text": [
      "हल\n",
      "हल\n"
     ]
    }
   ],
   "source": [
    "print(b'\\xe0\\xa4\\xb9\\xe0\\xa4\\xb2'.decode())\n",
    "print(b'\\xe0\\xa4\\xb9\\xe0\\xa4\\xb2'.decode('utf-8'))"
   ]
  },
  {
   "cell_type": "code",
   "execution_count": 5,
   "metadata": {},
   "outputs": [
    {
     "name": "stdout",
     "output_type": "stream",
     "text": [
      "ꓠ늤\n"
     ]
    }
   ],
   "source": [
    "# We need to know the encoding else something similar as below can happen\n",
    "print(b'\\xe0\\xa4\\xb9\\xe0\\xa4\\xb2'.decode('utf-16'))"
   ]
  },
  {
   "cell_type": "code",
   "execution_count": 6,
   "metadata": {},
   "outputs": [
    {
     "name": "stdout",
     "output_type": "stream",
     "text": [
      "योगिराज श्री कृष्ण\n"
     ]
    }
   ],
   "source": [
    "print('योगिराज श्री कृष्ण'.encode('utf-16').decode('utf-16'))"
   ]
  },
  {
   "cell_type": "markdown",
   "metadata": {},
   "source": [
    "Also, similar to `strings` `bytes` can also use `r` prefix, which disables processing of escape sequences."
   ]
  },
  {
   "cell_type": "code",
   "execution_count": 7,
   "metadata": {},
   "outputs": [
    {
     "name": "stdout",
     "output_type": "stream",
     "text": [
      "b'This is, \\\\t\\nreally good'\n"
     ]
    }
   ],
   "source": [
    "s3 = br'''This is, \\t\n",
    "really good'''\n",
    "\n",
    "print(s3)"
   ]
  },
  {
   "cell_type": "markdown",
   "metadata": {},
   "source": [
    "`bytes` objects behave similarly to immutable sequences of integers with values between `0 <= x < 256`, as shown in the below example."
   ]
  },
  {
   "cell_type": "code",
   "execution_count": 8,
   "metadata": {},
   "outputs": [
    {
     "name": "stdout",
     "output_type": "stream",
     "text": [
      "97, 98, 99, 100, 101, "
     ]
    }
   ],
   "source": [
    "for a in b\"abcde\":\n",
    "    print(a, end=\", \")"
   ]
  },
  {
   "cell_type": "markdown",
   "metadata": {},
   "source": [
    "`bytes` can also be created using one of the following methods"
   ]
  },
  {
   "cell_type": "code",
   "execution_count": 9,
   "metadata": {},
   "outputs": [
    {
     "name": "stdout",
     "output_type": "stream",
     "text": [
      "b'\\x00\\x00\\x00\\x00\\x00'\n",
      "b'\\x00\\x01\\x02\\x03\\x04\\x05\\x06\\x07\\x08\\t'\n",
      "b'{\\x83oy'\n"
     ]
    }
   ],
   "source": [
    "# A zero-filled bytes object of a specified length\n",
    "print(bytes(5))\n",
    "\n",
    "# From an iterable of integers\n",
    "print(bytes(range(10)))\n",
    "\n",
    "# copying existing binary data\n",
    "b = [123, 131, 111, 121]\n",
    "print(bytes(b))"
   ]
  },
  {
   "cell_type": "markdown",
   "metadata": {},
   "source": [
    "### Size of byte and its relationship with various string encoding"
   ]
  },
  {
   "cell_type": "code",
   "execution_count": 10,
   "metadata": {},
   "outputs": [
    {
     "name": "stdout",
     "output_type": "stream",
     "text": [
      "b'N', b'a', b'r', b'm', b'a', b'd', b'a', "
     ]
    }
   ],
   "source": [
    "for a in \"Narmada\":\n",
    "    print(a.encode('utf-8'), end=\", \")"
   ]
  },
  {
   "cell_type": "code",
   "execution_count": 11,
   "metadata": {},
   "outputs": [
    {
     "name": "stdout",
     "output_type": "stream",
     "text": [
      "b'\\xd7\\x91', b'\\xd7\\xa8', b'\\xd7\\x95', b'\\xd7\\x9b', b'\\xd7\\x99', b'\\xd7\\x9d', b' ', b'\\xd7\\x94', b'\\xd7\\x91', b'\\xd7\\x90', b'\\xd7\\x99', b'\\xd7\\x9d', "
     ]
    }
   ],
   "source": [
    "# Welcome in Hebrew\n",
    "for a in 'ברוכים הבאים':\n",
    "    print(a.encode('utf-8'), end=\", \")"
   ]
  },
  {
   "cell_type": "code",
   "execution_count": 12,
   "metadata": {},
   "outputs": [
    {
     "name": "stdout",
     "output_type": "stream",
     "text": [
      "b'\\xe0\\xa4\\xaf', b'\\xe0\\xa5\\x8b', b'\\xe0\\xa4\\x97', b'\\xe0\\xa4\\xbf', b'\\xe0\\xa4\\xb0', b'\\xe0\\xa4\\xbe', b'\\xe0\\xa4\\x9c', b' ', b'\\xe0\\xa4\\xb6', b'\\xe0\\xa5\\x8d', b'\\xe0\\xa4\\xb0', b'\\xe0\\xa5\\x80', b' ', b'\\xe0\\xa4\\x95', b'\\xe0\\xa5\\x83', b'\\xe0\\xa4\\xb7', b'\\xe0\\xa5\\x8d', b'\\xe0\\xa4\\xa3', "
     ]
    }
   ],
   "source": [
    "# Vogiraj Shri Krishna - \n",
    "for a in \"योगिराज श्री कृष्ण\":\n",
    "    print(a.encode(), end=\", \")"
   ]
  },
  {
   "cell_type": "code",
   "execution_count": 13,
   "metadata": {},
   "outputs": [
    {
     "name": "stdout",
     "output_type": "stream",
     "text": [
      "ભારતમાં તમારું સ્વાગત છે\n",
      "b'\\xe0\\xaa\\xad\\xe0\\xaa\\xbe\\xe0\\xaa\\xb0\\xe0\\xaa\\xa4\\xe0\\xaa\\xae\\xe0\\xaa\\xbe\\xe0\\xaa\\x82 \\xe0\\xaa\\xa4\\xe0\\xaa\\xae\\xe0\\xaa\\xbe\\xe0\\xaa\\xb0\\xe0\\xab\\x81\\xe0\\xaa\\x82 \\xe0\\xaa\\xb8\\xe0\\xab\\x8d\\xe0\\xaa\\xb5\\xe0\\xaa\\xbe\\xe0\\xaa\\x97\\xe0\\xaa\\xa4 \\xe0\\xaa\\x9b\\xe0\\xab\\x87'\n",
      "24 66\n"
     ]
    }
   ],
   "source": [
    "# \"Welcome to India\" in Gujarati\n",
    "\n",
    "swagat = 'ભારતમાં તમારું સ્વાગત છે'\n",
    "x = swagat.encode()\n",
    "print(swagat)\n",
    "print(x)\n",
    "print(len(swagat), len(x))"
   ]
  },
  {
   "cell_type": "markdown",
   "metadata": {},
   "source": [
    "As you can see that for different types of string the number of bytes are different. It all depends on how OS translates them in bytes. Read more on 'unicode' for details."
   ]
  },
  {
   "cell_type": "markdown",
   "metadata": {},
   "source": [
    "### Creating byte from hex value"
   ]
  },
  {
   "cell_type": "code",
   "execution_count": 14,
   "metadata": {},
   "outputs": [
    {
     "name": "stdout",
     "output_type": "stream",
     "text": [
      "57656c636f6d65 b'Welcome'\n"
     ]
    }
   ],
   "source": [
    "welcome = \"57656c636f6d65\"\n",
    "byte_welcome = bytes.fromhex(welcome)\n",
    "print(welcome, byte_welcome)"
   ]
  },
  {
   "cell_type": "markdown",
   "metadata": {},
   "source": [
    "### Difference between `string` and `byte`"
   ]
  },
  {
   "cell_type": "markdown",
   "metadata": {},
   "source": [
    "Both are immutable and store data, this is where their similarity ends. \n",
    "\n",
    "| Category                 | Strings                 | Byte                   |\n",
    "|--------------------------|-------------------------|------------------------|\n",
    "| Data                     | Sequence of characters  | Sequence of Byte       |\n",
    "| Readability              | Human                   | Machine                |\n",
    "| Size of one unit         | Depends on the char     | 1 Byte or 8 bits       |\n"
   ]
  },
  {
   "cell_type": "markdown",
   "metadata": {},
   "source": [
    "### Quests"
   ]
  },
  {
   "cell_type": "markdown",
   "metadata": {},
   "source": [
    "#### What is the largest number single byte can handle."
   ]
  },
  {
   "cell_type": "markdown",
   "metadata": {},
   "source": [
    "#### What is the smallest number single byte can handle."
   ]
  },
  {
   "cell_type": "markdown",
   "metadata": {},
   "source": [
    "#### How are unicode characters handled in bytes."
   ]
  },
  {
   "cell_type": "markdown",
   "metadata": {},
   "source": [
    "#### `bytes` are a `_______________` collection of values ranging from` ____` and `______`"
   ]
  },
  {
   "cell_type": "markdown",
   "metadata": {},
   "source": [
    "#### convert `\"Jungee\"` string to bytes "
   ]
  },
  {
   "cell_type": "markdown",
   "metadata": {},
   "source": [
    "#### Convert a byte to string"
   ]
  }
 ],
 "metadata": {
  "kernelspec": {
   "display_name": "Python 3 (ipykernel)",
   "language": "python",
   "name": "python3"
  },
  "language_info": {
   "codemirror_mode": {
    "name": "ipython",
    "version": 3
   },
   "file_extension": ".py",
   "mimetype": "text/x-python",
   "name": "python",
   "nbconvert_exporter": "python",
   "pygments_lexer": "ipython3",
   "version": "3.10.4"
  }
 },
 "nbformat": 4,
 "nbformat_minor": 2
}
