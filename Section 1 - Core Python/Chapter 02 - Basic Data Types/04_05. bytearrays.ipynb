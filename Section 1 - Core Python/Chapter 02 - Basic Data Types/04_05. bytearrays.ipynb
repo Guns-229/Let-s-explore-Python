{
 "cells": [
  {
   "cell_type": "markdown",
   "metadata": {},
   "source": [
    "## `bytearrays`"
   ]
  },
  {
   "cell_type": "markdown",
   "metadata": {},
   "source": [
    "From the last section, we know that `bytes` are **`immutable`**. Similarly `bytearray` are `mutable` version of `bytes`, similar to `list` and `tuple`. \n",
    "\n",
    "Also, just like `bytes` `bytearray` type is a `mutable` sequence of `integers` in the range `0 <= x < 256`. `bytearray` can be created using keyword `bytearray` with following syntax"
   ]
  },
  {
   "cell_type": "markdown",
   "metadata": {},
   "source": [
    "**Syntax**\n",
    "\n",
    "```python\n",
    "bytearray([source[, encoding[, errors]]])\n",
    "```\n",
    "\n",
    "**arguments**\n",
    "- `source`: source to initialize the array of bytes.\n",
    "\n",
    "- `encoding`: the encoding of the string\n",
    "\n",
    "- `errors`:"
   ]
  },
  {
   "cell_type": "markdown",
   "metadata": {},
   "source": [
    "### Creating `bytearray`"
   ]
  },
  {
   "cell_type": "markdown",
   "metadata": {},
   "source": [
    "#### Creating empty `bytearray`"
   ]
  },
  {
   "cell_type": "markdown",
   "metadata": {},
   "source": [
    "we can use `bytearray` to create empty bytearray as shown in below example"
   ]
  },
  {
   "cell_type": "code",
   "execution_count": 1,
   "metadata": {},
   "outputs": [
    {
     "name": "stdout",
     "output_type": "stream",
     "text": [
      "bytearray(b'')\n"
     ]
    }
   ],
   "source": [
    "mutable_bytes = bytearray()\n",
    "print(mutable_bytes)"
   ]
  },
  {
   "cell_type": "markdown",
   "metadata": {},
   "source": [
    "#### Creating `bytearray` using `bytes` "
   ]
  },
  {
   "cell_type": "code",
   "execution_count": 15,
   "metadata": {},
   "outputs": [
    {
     "name": "stdout",
     "output_type": "stream",
     "text": [
      "bytearray(b'om')\n"
     ]
    }
   ],
   "source": [
    "mutable_bytes = bytearray(b'\\x6F\\x6d')\n",
    "print(mutable_bytes)"
   ]
  },
  {
   "cell_type": "markdown",
   "metadata": {},
   "source": [
    "#### Creating `bytearray` using `ascii strings`"
   ]
  },
  {
   "cell_type": "code",
   "execution_count": 16,
   "metadata": {
    "scrolled": true
   },
   "outputs": [
    {
     "name": "stdout",
     "output_type": "stream",
     "text": [
      "bytearray(b'this is \\ntesting')\n"
     ]
    }
   ],
   "source": [
    "mutable_bytes = bytearray('this is \\ntesting', 'ascii')\n",
    "print(mutable_bytes)"
   ]
  },
  {
   "cell_type": "markdown",
   "metadata": {},
   "source": [
    "#### Creating `bytearray` using `raw ascii strings`"
   ]
  },
  {
   "cell_type": "code",
   "execution_count": 17,
   "metadata": {},
   "outputs": [
    {
     "name": "stdout",
     "output_type": "stream",
     "text": [
      "bytearray(b'Welcome to\\\\nAustralia')\n"
     ]
    }
   ],
   "source": [
    "mutable_bytes = bytearray(r'Welcome to\\nAustralia', 'ascii')\n",
    "print(mutable_bytes)"
   ]
  },
  {
   "cell_type": "markdown",
   "metadata": {},
   "source": [
    "#### Creating `bytearray` using `unicode strings`"
   ]
  },
  {
   "cell_type": "code",
   "execution_count": 5,
   "metadata": {},
   "outputs": [
    {
     "name": "stdout",
     "output_type": "stream",
     "text": [
      "bytearray(b'\\xd0\\x94\\xd0\\xbe\\xd0\\xb1\\xd1\\x80\\xd0\\xbe \\xd0\\xbf\\xd0\\xbe\\xd0\\xb6\\xd0\\xb0\\xd0\\xbb\\xd0\\xbe\\xd0\\xb2\\xd0\\xb0\\xd1\\x82\\xd1\\x8c \\xd0\\xb2 \\xd0\\xa0\\xd0\\xbe\\xd1\\x81\\xd1\\x81\\xd0\\xb8\\xd1\\x8e')\n"
     ]
    }
   ],
   "source": [
    "mutable_bytes = bytearray('Добро пожаловать в Россию', 'utf-8')\n",
    "print(mutable_bytes)"
   ]
  },
  {
   "cell_type": "markdown",
   "metadata": {},
   "source": [
    "#### Creating `bytearray` from list with `int` elements"
   ]
  },
  {
   "cell_type": "code",
   "execution_count": 6,
   "metadata": {},
   "outputs": [
    {
     "name": "stdout",
     "output_type": "stream",
     "text": [
      "bytearray(b'\\n\\x14 >?C')\n"
     ]
    }
   ],
   "source": [
    "int_list = [10, 20, 32, 62, 63, 67]\n",
    "mutable_bytes = bytearray(int_list)\n",
    "print(mutable_bytes)"
   ]
  },
  {
   "cell_type": "markdown",
   "metadata": {},
   "source": [
    "#### Creating zero valued `bytearray` of requested size"
   ]
  },
  {
   "cell_type": "code",
   "execution_count": 7,
   "metadata": {},
   "outputs": [
    {
     "name": "stdout",
     "output_type": "stream",
     "text": [
      "bytearray(b'\\x00\\x00\\x00\\x00\\x00\\x00\\x00\\x00\\x00\\x00')\n"
     ]
    }
   ],
   "source": [
    "mutable_bytes = bytearray(10)\n",
    "print(mutable_bytes)"
   ]
  },
  {
   "cell_type": "markdown",
   "metadata": {},
   "source": [
    "The above code created bytearray of 10 elements with zero value."
   ]
  },
  {
   "cell_type": "code",
   "execution_count": 8,
   "metadata": {},
   "outputs": [
    {
     "name": "stdout",
     "output_type": "stream",
     "text": [
      "bytearray(b'\\x05\\n\\x0f\\x14') 4\n",
      "bytearray(b'd\\x00\\x00e\\x16\\x0f\\x14') 7\n"
     ]
    }
   ],
   "source": [
    "values = [5, 10, 15, 20]\n",
    "arr = bytearray(values)\n",
    "\n",
    "print(arr, len(arr))\n",
    "# Assign first two elements to new list.\n",
    "arr[0:2] = [100, 0, 0, 101, 22]\n",
    "\n",
    "# The array is now modified.\n",
    "print(arr, len(arr))\n"
   ]
  },
  {
   "cell_type": "code",
   "execution_count": 18,
   "metadata": {},
   "outputs": [
    {
     "name": "stdout",
     "output_type": "stream",
     "text": [
      "[100, 0, 0, 101, 22, 15, 20]\n"
     ]
    }
   ],
   "source": [
    "values = [5, 10, 15, 20]\n",
    "values[0:2] = [100, 0, 0, 101, 22]\n",
    "print(values)"
   ]
  },
  {
   "cell_type": "markdown",
   "metadata": {},
   "source": [
    "### Summary"
   ]
  },
  {
   "cell_type": "code",
   "execution_count": null,
   "metadata": {},
   "outputs": [],
   "source": []
  }
 ],
 "metadata": {
  "kernelspec": {
   "display_name": "Python 3 (ipykernel)",
   "language": "python",
   "name": "python3"
  },
  "language_info": {
   "codemirror_mode": {
    "name": "ipython",
    "version": 3
   },
   "file_extension": ".py",
   "mimetype": "text/x-python",
   "name": "python",
   "nbconvert_exporter": "python",
   "pygments_lexer": "ipython3",
   "version": "3.10.4"
  }
 },
 "nbformat": 4,
 "nbformat_minor": 2
}
