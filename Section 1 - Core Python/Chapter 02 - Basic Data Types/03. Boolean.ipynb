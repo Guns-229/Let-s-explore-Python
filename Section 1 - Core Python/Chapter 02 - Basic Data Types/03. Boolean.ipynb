{
 "cells": [
  {
   "cell_type": "markdown",
   "metadata": {},
   "source": [
    "## Boolean"
   ]
  },
  {
   "cell_type": "markdown",
   "metadata": {},
   "source": [
    "### True, False and None"
   ]
  },
  {
   "cell_type": "markdown",
   "metadata": {},
   "source": [
    "In Python, the boolean type (*bool*) is special integer type (*int*) which can only have one of the two values, i.e. *True* (value equal to 1) or *False* (value equal to 0).\n",
    "\n",
    "- `False`\n",
    "    + `False`.\n",
    "\n",
    "    The following values can also considered **like** **false**:\n",
    "\n",
    "    + `None` (null).\n",
    "    + `0` (zero).\n",
    "    + `''` (empty string).\n",
    "    + `[]` (empty list).\n",
    "    + `()` (empty tuple).\n",
    "    + `{}` (emtpy dicionary).\n",
    "    + Other structures/collections with size equal zero.\n",
    "\n",
    "All other objects out of that list are considered **like** **True**.\n",
    "\n",
    "The object `None`, which is of type `NoneType`, in Python represents the `None` and is evaluated as false by the interpreter."
   ]
  },
  {
   "cell_type": "code",
   "execution_count": 1,
   "metadata": {
    "scrolled": true
   },
   "outputs": [],
   "source": [
    "a = True\n",
    "b = False"
   ]
  },
  {
   "cell_type": "code",
   "execution_count": 2,
   "metadata": {},
   "outputs": [
    {
     "name": "stdout",
     "output_type": "stream",
     "text": [
      "True\n"
     ]
    }
   ],
   "source": [
    "print(a == True)"
   ]
  },
  {
   "cell_type": "code",
   "execution_count": 3,
   "metadata": {},
   "outputs": [
    {
     "name": "stdout",
     "output_type": "stream",
     "text": [
      "True\n"
     ]
    }
   ],
   "source": [
    "print(b == False)"
   ]
  },
  {
   "cell_type": "code",
   "execution_count": 4,
   "metadata": {},
   "outputs": [
    {
     "name": "stdout",
     "output_type": "stream",
     "text": [
      "True\n"
     ]
    }
   ],
   "source": [
    "# `is` checks both variables use same memory location.\n",
    "\n",
    "print(b is False)"
   ]
  },
  {
   "cell_type": "code",
   "execution_count": 6,
   "metadata": {
    "scrolled": true
   },
   "outputs": [
    {
     "name": "stdout",
     "output_type": "stream",
     "text": [
      "139990727744080 139990727744080\n",
      "(b == c)=True, (b is c)=True\n"
     ]
    }
   ],
   "source": [
    "b = 10\n",
    "c = 10\n",
    "\n",
    "print(id(b), id(c))\n",
    "print(f\"{(b == c)=}, {(b is c)=}\")"
   ]
  },
  {
   "cell_type": "code",
   "execution_count": 8,
   "metadata": {},
   "outputs": [
    {
     "name": "stdout",
     "output_type": "stream",
     "text": [
      "139990574469520 139990574469296\n",
      "(b == c)=True, (b is c)=False\n"
     ]
    }
   ],
   "source": [
    "b = 257\n",
    "c = 257\n",
    "\n",
    "print(id(b), id(c))\n",
    "print(f\"{(b == c)=}, {(b is c)=}\")"
   ]
  },
  {
   "cell_type": "code",
   "execution_count": 9,
   "metadata": {},
   "outputs": [],
   "source": [
    "c = 0\n",
    "d = []\n",
    "e = None"
   ]
  },
  {
   "cell_type": "code",
   "execution_count": 10,
   "metadata": {},
   "outputs": [
    {
     "name": "stdout",
     "output_type": "stream",
     "text": [
      "True\n",
      "False\n",
      "False\n"
     ]
    }
   ],
   "source": [
    "print(c == False)  # Because False is represented by 0 and True is represented by 1\n",
    "print(d == False)  # They behave like False but are not False, In controls chapter we will discuss it in details\n",
    "print(e == False)  # They behave like False but are not False, In controls chapter we will discuss it in details"
   ]
  },
  {
   "cell_type": "markdown",
   "metadata": {},
   "source": [
    "Please note, that `0` or other values which acts like `False` are not `False` but only behaves like `False` as shown in the below example"
   ]
  },
  {
   "cell_type": "code",
   "execution_count": 16,
   "metadata": {},
   "outputs": [
    {
     "name": "stdout",
     "output_type": "stream",
     "text": [
      "False\n"
     ]
    }
   ],
   "source": [
    "print(c is False)"
   ]
  },
  {
   "cell_type": "code",
   "execution_count": 15,
   "metadata": {},
   "outputs": [
    {
     "name": "stdout",
     "output_type": "stream",
     "text": [
      "139990727743760 139990739299648\n"
     ]
    }
   ],
   "source": [
    "print(id(c), id(False))"
   ]
  },
  {
   "cell_type": "code",
   "execution_count": 13,
   "metadata": {},
   "outputs": [
    {
     "name": "stdout",
     "output_type": "stream",
     "text": [
      "True\n"
     ]
    }
   ],
   "source": [
    "d = 0\n",
    "print(c is d)"
   ]
  },
  {
   "cell_type": "code",
   "execution_count": 14,
   "metadata": {},
   "outputs": [
    {
     "name": "stdout",
     "output_type": "stream",
     "text": [
      "True\n",
      "False\n"
     ]
    }
   ],
   "source": [
    "x = 0\n",
    "\n",
    "print(x == False)\n",
    "print(x is False)"
   ]
  },
  {
   "cell_type": "code",
   "execution_count": 17,
   "metadata": {},
   "outputs": [
    {
     "name": "stdout",
     "output_type": "stream",
     "text": [
      "True\n",
      "False\n"
     ]
    }
   ],
   "source": [
    "x = 1\n",
    "b = True\n",
    "\n",
    "print(x == b)\n",
    "print(x is b)"
   ]
  },
  {
   "cell_type": "code",
   "execution_count": 11,
   "metadata": {},
   "outputs": [
    {
     "name": "stdout",
     "output_type": "stream",
     "text": [
      "False\n"
     ]
    }
   ],
   "source": [
    "x = 10\n",
    "print(x == True)  # They behave like True but are not True, In controls chapter we will discuss it in details"
   ]
  }
 ],
 "metadata": {
  "kernelspec": {
   "display_name": "Python 3 (ipykernel)",
   "language": "python",
   "name": "python3"
  },
  "language_info": {
   "codemirror_mode": {
    "name": "ipython",
    "version": 3
   },
   "file_extension": ".py",
   "mimetype": "text/x-python",
   "name": "python",
   "nbconvert_exporter": "python",
   "pygments_lexer": "ipython3",
   "version": "3.9.12"
  }
 },
 "nbformat": 4,
 "nbformat_minor": 2
}
