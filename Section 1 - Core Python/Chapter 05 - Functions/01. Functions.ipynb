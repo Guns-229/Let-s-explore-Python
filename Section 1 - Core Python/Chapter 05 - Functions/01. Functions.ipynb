{
 "cells": [
  {
   "cell_type": "markdown",
   "metadata": {},
   "source": [
    "# Functions"
   ]
  },
  {
   "cell_type": "markdown",
   "metadata": {},
   "source": [
    "Functions are blocks of code identified by a name, which can receive **predetermined** parameters or **not** ;) and they might return value(s) or not.\n",
    "\n",
    "In Python, functions:\n",
    "\n",
    "+ return objects or not.\n",
    "+ can provide documentation using **Doc Strings**.\n",
    "+ Can have their properties changed (**usually** by decorators).\n",
    "+ Have their own namespace (local scope), and therefore may obscure definitions of global scope.\n",
    "+ Allows parameters to be passed by name. In this case, the parameters can be passed in any order.\n",
    "+ Allows optional parameters (with pre-defined *defaults*), thus if no parameter are provided then,  pre-defined *default* will be used."
   ]
  },
  {
   "cell_type": "markdown",
   "metadata": {},
   "source": [
    "**Syntax**:\n",
    "\n",
    "```python\n",
    "def func_name(parameter_one, parameter_two=default_value):\n",
    "    \"\"\"\n",
    "    Doc String\n",
    "    \"\"\"\n",
    "    <code block>\n",
    "    return value/values\n",
    "```"
   ]
  },
  {
   "cell_type": "markdown",
   "metadata": {},
   "source": [
    "> NOTE: The parameters with *default* value must be declared after the ones without *default* value."
   ]
  },
  {
   "cell_type": "code",
   "execution_count": 1,
   "metadata": {},
   "outputs": [],
   "source": [
    "def double(val):\n",
    "    \"\"\"\n",
    "    The double function\n",
    "    \n",
    "    What it is doing in summary.\n",
    "    \n",
    "    -> now in details\n",
    "    It doubles the provided value and returns it.\n",
    "    \n",
    "    Steps:\n",
    "    1. Prints the value provide\n",
    "    2. Returns the value multiplied by 2.\n",
    "    \n",
    "    Unit Tests:\n",
    "    -----------\n",
    "    double(2)\n",
    "    >>> 4\n",
    "    double(\"Ram \")\n",
    "    >>> Ram Ram \n",
    "    \n",
    "    **Args**:\n",
    "        val (any):   Any type of data is ok\n",
    "    \n",
    "    **Return**:\n",
    "        (any):  The retuned value is (val * 2)\n",
    "    \"\"\"\n",
    "    # Step: 1\n",
    "    print(f\"{val=}\")\n",
    "    # Step: 2\n",
    "    return val * 2"
   ]
  },
  {
   "cell_type": "code",
   "execution_count": 5,
   "metadata": {},
   "outputs": [
    {
     "name": "stdout",
     "output_type": "stream",
     "text": [
      "val='Ram '\n",
      "Output='Ram Ram '\n"
     ]
    }
   ],
   "source": [
    "Output = double(\"Ram \")\n",
    "\n",
    "print(f\"{Output=}\")"
   ]
  },
  {
   "cell_type": "code",
   "execution_count": 6,
   "metadata": {},
   "outputs": [
    {
     "name": "stdout",
     "output_type": "stream",
     "text": [
      "val=1010\n",
      "Output=2020\n"
     ]
    }
   ],
   "source": [
    "Output = double(1010)\n",
    "\n",
    "print(f\"{Output=}\")"
   ]
  },
  {
   "cell_type": "code",
   "execution_count": 4,
   "metadata": {},
   "outputs": [
    {
     "name": "stdout",
     "output_type": "stream",
     "text": [
      "val=[10, 100]\n",
      "input: lst=[10, 100]\n",
      "output=[10, 100, 10, 100]:\n"
     ]
    }
   ],
   "source": [
    "lst = [10, 100]\n",
    "output = double(lst)\n",
    "\n",
    "print(f\"input: {lst=}\")\n",
    "print(f\"{output=}:\")"
   ]
  },
  {
   "cell_type": "code",
   "execution_count": 8,
   "metadata": {},
   "outputs": [
    {
     "name": "stdout",
     "output_type": "stream",
     "text": [
      "val={10: 10}\n",
      "ERROR: unsupported operand type(s) for *: 'dict' and 'int'\n"
     ]
    }
   ],
   "source": [
    "lst = {10: 10}\n",
    "\n",
    "try:\n",
    "    output = double(lst)\n",
    "    print(f\"input: {lst=}\")\n",
    "    print(f\"{output=}:\")\n",
    "except Exception as e:\n",
    "    print(f\"ERROR: {e}\")"
   ]
  },
  {
   "cell_type": "code",
   "execution_count": 9,
   "metadata": {},
   "outputs": [
    {
     "name": "stdout",
     "output_type": "stream",
     "text": [
      "val={10, 11}\n",
      "ERROR: unsupported operand type(s) for *: 'set' and 'int'\n"
     ]
    }
   ],
   "source": [
    "lst = {10, 11}\n",
    "\n",
    "try:\n",
    "    a = double(lst)\n",
    "    print(f\"input: {lst}\")\n",
    "    print(\"Output:\", a)\n",
    "except Exception as e:\n",
    "    print(f\"ERROR: {e}\")"
   ]
  },
  {
   "cell_type": "code",
   "execution_count": 6,
   "metadata": {},
   "outputs": [
    {
     "name": "stdout",
     "output_type": "stream",
     "text": [
      "ret_val=None\n"
     ]
    }
   ],
   "source": [
    "\"\"\"\n",
    "Function always return a value, if our code is not returning any\n",
    "value then \"None\" is returned by the function as shown in the \n",
    "bellow example. \n",
    "\"\"\"\n",
    "\n",
    "def dummy_function():\n",
    "    pass\n",
    "\n",
    "ret_val = dummy_function()\n",
    "print(f\"{ret_val=}\")"
   ]
  },
  {
   "cell_type": "markdown",
   "metadata": {},
   "source": [
    "### uses of docstring"
   ]
  },
  {
   "cell_type": "code",
   "execution_count": 7,
   "metadata": {},
   "outputs": [
    {
     "name": "stdout",
     "output_type": "stream",
     "text": [
      "\n",
      "    The double function\n",
      "    \n",
      "    What it is doing in summary.\n",
      "    \n",
      "    -> now in details\n",
      "    It doubles the provided value and returns it.\n",
      "    \n",
      "    Steps:\n",
      "    1. Prints the value provide\n",
      "    2. Returns the value multiplied by 2.\n",
      "    \n",
      "    Unit Tests:\n",
      "    -----------\n",
      "    double(2)\n",
      "    >>> 4\n",
      "    double(\"Ram \")\n",
      "    >>> Ram Ram \n",
      "    \n",
      "    **Args**:\n",
      "        val (any):   Any type of data is ok\n",
      "    \n",
      "    **Return**:\n",
      "        (any):  The retuned value is (val * 2)\n",
      "    \n"
     ]
    }
   ],
   "source": [
    "print(double.__doc__)"
   ]
  },
  {
   "cell_type": "code",
   "execution_count": 8,
   "metadata": {},
   "outputs": [
    {
     "name": "stdout",
     "output_type": "stream",
     "text": [
      "Help on function double in module __main__:\n",
      "\n",
      "double(val)\n",
      "    The double function\n",
      "    \n",
      "    What it is doing in summary.\n",
      "    \n",
      "    -> now in details\n",
      "    It doubles the provided value and returns it.\n",
      "    \n",
      "    Steps:\n",
      "    1. Prints the value provide\n",
      "    2. Returns the value multiplied by 2.\n",
      "    \n",
      "    Unit Tests:\n",
      "    -----------\n",
      "    double(2)\n",
      "    >>> 4\n",
      "    double(\"Ram \")\n",
      "    >>> Ram Ram \n",
      "    \n",
      "    **Args**:\n",
      "        val (any):   Any type of data is ok\n",
      "    \n",
      "    **Return**:\n",
      "        (any):  The retuned value is (val * 2)\n",
      "\n"
     ]
    }
   ],
   "source": [
    "help(double)"
   ]
  },
  {
   "cell_type": "code",
   "execution_count": 9,
   "metadata": {},
   "outputs": [
    {
     "name": "stdout",
     "output_type": "stream",
     "text": [
      "print(value, ..., sep=' ', end='\\n', file=sys.stdout, flush=False)\n",
      "\n",
      "Prints the values to a stream, or to sys.stdout by default.\n",
      "Optional keyword arguments:\n",
      "file:  a file-like object (stream); defaults to the current sys.stdout.\n",
      "sep:   string inserted between values, default a space.\n",
      "end:   string appended after the last value, default a newline.\n",
      "flush: whether to forcibly flush the stream.\n"
     ]
    }
   ],
   "source": [
    "print(print.__doc__)"
   ]
  },
  {
   "cell_type": "code",
   "execution_count": 10,
   "metadata": {},
   "outputs": [
    {
     "name": "stdout",
     "output_type": "stream",
     "text": [
      "Help on built-in function print in module builtins:\n",
      "\n",
      "print(...)\n",
      "    print(value, ..., sep=' ', end='\\n', file=sys.stdout, flush=False)\n",
      "    \n",
      "    Prints the values to a stream, or to sys.stdout by default.\n",
      "    Optional keyword arguments:\n",
      "    file:  a file-like object (stream); defaults to the current sys.stdout.\n",
      "    sep:   string inserted between values, default a space.\n",
      "    end:   string appended after the last value, default a newline.\n",
      "    flush: whether to forcibly flush the stream.\n",
      "\n"
     ]
    }
   ],
   "source": [
    "help(print)"
   ]
  },
  {
   "cell_type": "code",
   "execution_count": 18,
   "metadata": {
    "scrolled": true
   },
   "outputs": [
    {
     "name": "stdout",
     "output_type": "stream",
     "text": [
      "['__annotations__', '__builtins__', '__call__', '__class__', '__closure__', '__code__', '__defaults__', '__delattr__', '__dict__', '__dir__', '__doc__', '__eq__', '__format__', '__ge__', '__get__', '__getattribute__', '__globals__', '__gt__', '__hash__', '__init__', '__init_subclass__', '__kwdefaults__', '__le__', '__lt__', '__module__', '__name__', '__ne__', '__new__', '__qualname__', '__reduce__', '__reduce_ex__', '__repr__', '__setattr__', '__sizeof__', '__str__', '__subclasshook__']\n"
     ]
    }
   ],
   "source": [
    "# Function is an Object \n",
    "\n",
    "print(dir(double))"
   ]
  },
  {
   "cell_type": "markdown",
   "metadata": {},
   "source": [
    "In the above example, we have `double` as function, which takes `val` as argument and returns `val * 2`. "
   ]
  },
  {
   "cell_type": "code",
   "execution_count": 19,
   "metadata": {},
   "outputs": [
    {
     "name": "stdout",
     "output_type": "stream",
     "text": [
      "val=1234\n",
      "2468\n"
     ]
    }
   ],
   "source": [
    "a = double(1234)\n",
    "print(a)"
   ]
  },
  {
   "cell_type": "markdown",
   "metadata": {},
   "source": [
    "Functions can return any data type, next example returns a boolean value."
   ]
  },
  {
   "cell_type": "code",
   "execution_count": 11,
   "metadata": {},
   "outputs": [],
   "source": [
    "# Non optimized code. \n",
    "\n",
    "# This code is to show that functions can have more\n",
    "# than ONE return statements and depending on the logic\n",
    "# and condition one of them is called as shown in below\n",
    "# example\n",
    "\n",
    "def is_valid(val, data):\n",
    "    if val in data:\n",
    "        return True\n",
    "        print(\"Hello Ji\")   # This will never run, \n",
    "                            # thus should not even exist.\n",
    "    return False"
   ]
  },
  {
   "cell_type": "code",
   "execution_count": 12,
   "metadata": {},
   "outputs": [
    {
     "name": "stdout",
     "output_type": "stream",
     "text": [
      "True\n"
     ]
    }
   ],
   "source": [
    "a = is_valid(10, [10, 200, 33, \"asf\"])\n",
    "\n",
    "print(a)"
   ]
  },
  {
   "cell_type": "code",
   "execution_count": 13,
   "metadata": {},
   "outputs": [
    {
     "name": "stdout",
     "output_type": "stream",
     "text": [
      "False\n"
     ]
    }
   ],
   "source": [
    "a = is_valid(1110, [10, 200, 33, \"asf\"])\n",
    "\n",
    "print(a)"
   ]
  },
  {
   "cell_type": "code",
   "execution_count": 23,
   "metadata": {},
   "outputs": [],
   "source": [
    "# optimized code. \n",
    "def is_valid(val, data):\n",
    "    return val in data"
   ]
  },
  {
   "cell_type": "markdown",
   "metadata": {},
   "source": [
    "Also note that Python do not check the data type of value for arguments, if your requirement demands then you can have same argument with different data type"
   ]
  },
  {
   "cell_type": "code",
   "execution_count": 20,
   "metadata": {},
   "outputs": [
    {
     "name": "stdout",
     "output_type": "stream",
     "text": [
      "True\n"
     ]
    }
   ],
   "source": [
    "# With list\n",
    "a = is_valid(10, [10, 200, 33, \"asf\"])\n",
    "print(a)"
   ]
  },
  {
   "cell_type": "code",
   "execution_count": 21,
   "metadata": {},
   "outputs": [
    {
     "name": "stdout",
     "output_type": "stream",
     "text": [
      "True\n"
     ]
    }
   ],
   "source": [
    "# with Tuple\n",
    "a = is_valid(200, (10, 20, 200))\n",
    "print(a)"
   ]
  },
  {
   "cell_type": "code",
   "execution_count": 22,
   "metadata": {},
   "outputs": [
    {
     "name": "stdout",
     "output_type": "stream",
     "text": [
      "False\n"
     ]
    }
   ],
   "source": [
    "a = is_valid(-10, (10, 20, 200))\n",
    "print(a)"
   ]
  },
  {
   "cell_type": "code",
   "execution_count": 23,
   "metadata": {},
   "outputs": [
    {
     "name": "stdout",
     "output_type": "stream",
     "text": [
      "True\n"
     ]
    }
   ],
   "source": [
    "a = is_valid(\"a\", \"Ja, Ich bin ein Mann\")\n",
    "print(a)"
   ]
  },
  {
   "cell_type": "code",
   "execution_count": 24,
   "metadata": {},
   "outputs": [
    {
     "name": "stdout",
     "output_type": "stream",
     "text": [
      "True\n"
     ]
    }
   ],
   "source": [
    "# With Dictionary\n",
    "k = {\n",
    "    10: \"Ten\",\n",
    "    20: \"Bees\"\n",
    "}\n",
    "\n",
    "a = is_valid(10, k)\n",
    "print(a)"
   ]
  },
  {
   "cell_type": "code",
   "execution_count": 22,
   "metadata": {},
   "outputs": [
    {
     "name": "stdout",
     "output_type": "stream",
     "text": [
      "True\n"
     ]
    }
   ],
   "source": [
    "# This will always return True, anything after\n",
    "# `return True` is not even executed.\n",
    "# Function will return after first execution of \n",
    "# `return` statement and remaining code is not executed.\n",
    "\n",
    "\n",
    "def is_valid(val, data):\n",
    "    a = True\n",
    "    if a:\n",
    "        return a\n",
    "    print(\"I will never print...\")\n",
    "    return not a\n",
    "\n",
    "a = is_valid(10, k)\n",
    "print(a)"
   ]
  },
  {
   "cell_type": "markdown",
   "metadata": {},
   "source": [
    "### Single line function"
   ]
  },
  {
   "cell_type": "code",
   "execution_count": 24,
   "metadata": {},
   "outputs": [
    {
     "name": "stdout",
     "output_type": "stream",
     "text": [
      "True\n"
     ]
    }
   ],
   "source": [
    "def is_valid_new(val, data): return val in data\n",
    "\n",
    "print(is_valid_new(10, [10, 200, 33, \"asf\"]))"
   ]
  },
  {
   "cell_type": "code",
   "execution_count": 25,
   "metadata": {},
   "outputs": [
    {
     "name": "stdout",
     "output_type": "stream",
     "text": [
      "True\n"
     ]
    }
   ],
   "source": [
    "def is_valid_new(val, data): print(val in data)\n",
    "\n",
    "is_valid_new(10, [10, 200, 33, \"asf\"])"
   ]
  },
  {
   "cell_type": "markdown",
   "metadata": {},
   "source": [
    "**Example (factorial without recursion):**"
   ]
  },
  {
   "cell_type": "code",
   "execution_count": 26,
   "metadata": {},
   "outputs": [
    {
     "name": "stdout",
     "output_type": "stream",
     "text": [
      "1 -> 1\n",
      "2 -> 2\n",
      "3 -> 6\n",
      "4 -> 24\n",
      "5 -> 120\n"
     ]
    }
   ],
   "source": [
    "def factorial(n):\n",
    "    \"\"\"\n",
    "    fact => n * (n -1) * ... * 1\n",
    "    Note: not optimized version of code.\n",
    "    \"\"\"\n",
    "    n = n if n > 1 else 1\n",
    "    \n",
    "    fact_value = 1\n",
    "    \n",
    "    for i in range(1, n + 1):\n",
    "        fact_value = fact_value * i\n",
    "\n",
    "    return fact_value\n",
    "\n",
    "# Testing...\n",
    "for i in range(1, 6):\n",
    "    print (i, '->', factorial(i))"
   ]
  },
  {
   "cell_type": "code",
   "execution_count": 27,
   "metadata": {},
   "outputs": [
    {
     "name": "stdout",
     "output_type": "stream",
     "text": [
      "1 -> 1\n",
      "2 -> 2\n",
      "3 -> 6\n",
      "4 -> 24\n",
      "5 -> 120\n"
     ]
    }
   ],
   "source": [
    "def factorial(n):\n",
    "    \"\"\"\n",
    "    fact => n * (n -1) * ... * 1\n",
    "    Note: Bit optimized. but can do better.\n",
    "    \"\"\"\n",
    "    j = 1\n",
    "    \n",
    "    for i in range(1, (n if n > 1 else 1) + 1):\n",
    "        j *= i\n",
    "    return j\n",
    "\n",
    "# Testing...\n",
    "for i in range(1, 6):\n",
    "    print (i, '->', factorial(i))"
   ]
  },
  {
   "cell_type": "code",
   "execution_count": 28,
   "metadata": {},
   "outputs": [
    {
     "name": "stdout",
     "output_type": "stream",
     "text": [
      "factorial=<function factorial at 0x7f6f5ef9d630>\n"
     ]
    }
   ],
   "source": [
    "# To call or execute any function, you need to have `()` after the function name\n",
    "print(f\"{factorial=}\")"
   ]
  },
  {
   "cell_type": "code",
   "execution_count": 29,
   "metadata": {},
   "outputs": [
    {
     "name": "stdout",
     "output_type": "stream",
     "text": [
      "fact_four=24\n"
     ]
    }
   ],
   "source": [
    "\n",
    "# To call it you need to have `()` after the function name\n",
    "# as shown below\n",
    "\n",
    "fact_four = factorial(4)\n",
    "\n",
    "print(f\"{fact_four=}\")"
   ]
  },
  {
   "cell_type": "markdown",
   "metadata": {},
   "source": [
    "**Example (factorial with recursion)**:"
   ]
  },
  {
   "cell_type": "code",
   "execution_count": 15,
   "metadata": {},
   "outputs": [
    {
     "name": "stdout",
     "output_type": "stream",
     "text": [
      "120\n"
     ]
    }
   ],
   "source": [
    "def factorial(num):\n",
    "    \"\"\"Fatorial implemented with recursion.\"\"\"\n",
    "    if num <= 1:\n",
    "        return 1\n",
    "    else:\n",
    "        return(num * factorial(num - 1))\n",
    "\n",
    "# Testing factorial()\n",
    "print(factorial(5))\n",
    "\n",
    "# 5 * (4 * (3 * (2 * (1))"
   ]
  },
  {
   "cell_type": "markdown",
   "metadata": {},
   "source": [
    "> **NOTE**\n",
    "> <hr>\n",
    "> **VERY BAD IDEA** to use recursion for large iterables"
   ]
  },
  {
   "cell_type": "code",
   "execution_count": 39,
   "metadata": {},
   "outputs": [
    {
     "name": "stdout",
     "output_type": "stream",
     "text": [
      "maximum recursion depth exceeded in comparison\n"
     ]
    }
   ],
   "source": [
    "try:\n",
    "    print(factorial(2973) ) # Hard Break in Python.\n",
    "except RecursionError as re:\n",
    "    print(re)"
   ]
  },
  {
   "cell_type": "markdown",
   "metadata": {},
   "source": [
    "Example (Fibonacci series with recursion):"
   ]
  },
  {
   "cell_type": "code",
   "execution_count": 38,
   "metadata": {},
   "outputs": [
    {
     "name": "stdout",
     "output_type": "stream",
     "text": [
      "1 => 1\n",
      "2 => 2\n",
      "3 => 3\n",
      "4 => 5\n",
      "5 => 8\n"
     ]
    }
   ],
   "source": [
    "# Another Bad Example. \n",
    "\n",
    "def fib(n):\n",
    "    \"\"\"Fibonacci:\n",
    "    fib(n) = fib(n - 1) + fib(n - 2) se n > 1\n",
    "    fib(n) = 1 se n <= 1\n",
    "    \"\"\"\n",
    "    if n > 1:\n",
    "        return fib(n - 1) + fib(n - 2)\n",
    "    else:\n",
    "        return 1\n",
    "\n",
    "# Show Fibonacci from 1 to 5\n",
    "for i in range(1, 6):\n",
    "    print (i, '=>', fib(i))"
   ]
  },
  {
   "cell_type": "markdown",
   "metadata": {},
   "source": [
    "Example (Fibonacci series without recursion):"
   ]
  },
  {
   "cell_type": "code",
   "execution_count": 39,
   "metadata": {},
   "outputs": [
    {
     "name": "stdout",
     "output_type": "stream",
     "text": [
      "1 => [1, 1]\n",
      "2 => [1, 1, 2]\n",
      "3 => [1, 1, 2, 3]\n",
      "4 => [1, 1, 2, 3, 5]\n",
      "5 => [1, 1, 2, 3, 5, 8]\n"
     ]
    }
   ],
   "source": [
    "def fib(n):    \n",
    "    # the first two values\n",
    "    l = [1, 1]\n",
    "    \n",
    "    # Calculating the others\n",
    "    for i in range(2, n + 1):\n",
    "        l.append(l[i -1] + l[i - 2])\n",
    "        \n",
    "    return l\n",
    "\n",
    "# Show Fibonacci from 1 to 5\n",
    "for i in [1, 2, 3, 4, 5]:\n",
    "    print (i, '=>', fib(i))"
   ]
  },
  {
   "cell_type": "code",
   "execution_count": 24,
   "metadata": {},
   "outputs": [
    {
     "name": "stdout",
     "output_type": "stream",
     "text": [
      "1 => [1, 1]\n",
      "2 => [1, 1, 2]\n",
      "3 => [1, 1, 2, 3]\n",
      "4 => [1, 1, 2, 3, 5]\n",
      "5 => [1, 1, 2, 3, 5, 8]\n"
     ]
    }
   ],
   "source": [
    "def fib(n):    \n",
    "    # the first two values\n",
    "    l = [1, 1]\n",
    "\n",
    "    # Calculating the others\n",
    "    for i in range(2, n + 1):\n",
    "        l.append(l[i - 1] + l[i - 2])\n",
    "    return l\n",
    "\n",
    "# Show Fibonacci from 1 to 5\n",
    "for i in range(1, 6):\n",
    "    print (i, '=>', fib(i))"
   ]
  },
  {
   "cell_type": "markdown",
   "metadata": {},
   "source": [
    "### Positional Arguments"
   ]
  },
  {
   "cell_type": "markdown",
   "metadata": {},
   "source": [
    "By default, python uses positional arguments. Meaning that position decides which provided value will be assigned to which parameter."
   ]
  },
  {
   "cell_type": "code",
   "execution_count": 40,
   "metadata": {},
   "outputs": [
    {
     "name": "stdout",
     "output_type": "stream",
     "text": [
      "a=1, b=2, => 3\n",
      "a=2, b=3, => 5\n",
      "a=3, b=4, => 7\n",
      "a=4, b=5, => 9\n",
      "a=5, b=6, => 11\n"
     ]
    }
   ],
   "source": [
    "# It depends on how you are calling the function \n",
    "# or function call is made or more importantly \n",
    "# how the arguments are provided their respective\n",
    "# values.\n",
    "def sum(a, b):\n",
    "    print(f\"{a=}, {b=}\", end=\", \")\n",
    "    return a + b\n",
    "\n",
    "\n",
    "for i in range(1, 6):\n",
    "    print ( f'=> {sum(i, i + 1)}')"
   ]
  },
  {
   "cell_type": "markdown",
   "metadata": {},
   "source": [
    "In the above example, `a` will get the value of `i` and `b` will get the value of `i + 1` due to their respective positioning"
   ]
  },
  {
   "cell_type": "markdown",
   "metadata": {},
   "source": [
    "### Named Arguments"
   ]
  },
  {
   "cell_type": "code",
   "execution_count": 41,
   "metadata": {},
   "outputs": [],
   "source": [
    "def addition(green, red):\n",
    "    print(f\"{green=}, {red=}\", end=\", \")\n",
    "    return green + red"
   ]
  },
  {
   "cell_type": "code",
   "execution_count": 42,
   "metadata": {},
   "outputs": [
    {
     "name": "stdout",
     "output_type": "stream",
     "text": [
      "green=1, red=2, 3\n"
     ]
    }
   ],
   "source": [
    "# It depends on how you are calling the function \n",
    "# or function call is made or more importantly \n",
    "# how the arguments are provided their respective\n",
    "# values.\n",
    "# Example of Positional Arguemnts\n",
    "\n",
    "print(addition(1, 2))"
   ]
  },
  {
   "cell_type": "code",
   "execution_count": 44,
   "metadata": {},
   "outputs": [
    {
     "name": "stdout",
     "output_type": "stream",
     "text": [
      "green=2, red=1, 2 + 1 = 3\n"
     ]
    }
   ],
   "source": [
    "# Example of Named Arguemnts\n",
    "print(\"2 + 1 =\", addition(red=1, green=2))"
   ]
  },
  {
   "cell_type": "markdown",
   "metadata": {},
   "source": [
    "### Why named arguments ? "
   ]
  },
  {
   "cell_type": "markdown",
   "metadata": {},
   "source": [
    "- because you might wish to provide value for one selected arguments \n",
    "ex. \n",
    "```python\n",
    "print(value, ..., sep=' ', end='\\n', file=sys.stdout, flush=False)\n",
    "```\n",
    "Now, I want to provide value to just `end` and not for other keyword argument.\n",
    "```python\n",
    "print(\"a:\", a, \"\\tb:\", b, end=\"\\t\")\n",
    "```"
   ]
  },
  {
   "cell_type": "code",
   "execution_count": 45,
   "metadata": {},
   "outputs": [],
   "source": [
    "def addition_abc(a, b, c):\n",
    "    print(\"a =\", a, \"b =\", b, \"c =\", c)\n",
    "    return a + b + c"
   ]
  },
  {
   "cell_type": "markdown",
   "metadata": {},
   "source": [
    "- order of variable can be changed"
   ]
  },
  {
   "cell_type": "code",
   "execution_count": 46,
   "metadata": {},
   "outputs": [
    {
     "name": "stdout",
     "output_type": "stream",
     "text": [
      "a = 10 b = 14 c = 20\n"
     ]
    },
    {
     "data": {
      "text/plain": [
       "44"
      ]
     },
     "execution_count": 46,
     "metadata": {},
     "output_type": "execute_result"
    }
   ],
   "source": [
    "addition_abc(b=14, c=20, a=10)"
   ]
  },
  {
   "cell_type": "markdown",
   "metadata": {},
   "source": [
    "#### Gotcha #1"
   ]
  },
  {
   "cell_type": "markdown",
   "metadata": {},
   "source": [
    "```python\n",
    "## Gotcha #1\n",
    "addition_abc(b=1, a=2, 3)\n",
    "```\n",
    "**Output**:\n",
    "```python\n",
    "  File \"<ipython-input-10-e66702cbcb27>\", line 2\n",
    "    addition_abc(b=1, a=2, 3)\n",
    "                            ^\n",
    "SyntaxError: positional argument follows keyword argument\n",
    "```    "
   ]
  },
  {
   "cell_type": "markdown",
   "metadata": {},
   "source": [
    "> **NOTE**: We cannot have **non-keyword/positional** arguments after **keyword/named** arguments"
   ]
  },
  {
   "cell_type": "code",
   "execution_count": 48,
   "metadata": {},
   "outputs": [
    {
     "name": "stdout",
     "output_type": "stream",
     "text": [
      "a = 2 b = 4 c = 3\n"
     ]
    },
    {
     "data": {
      "text/plain": [
       "9"
      ]
     },
     "execution_count": 48,
     "metadata": {},
     "output_type": "execute_result"
    }
   ],
   "source": [
    "addition_abc(2, c=3, b=4)"
   ]
  },
  {
   "cell_type": "code",
   "execution_count": 49,
   "metadata": {},
   "outputs": [
    {
     "name": "stdout",
     "output_type": "stream",
     "text": [
      "a = 2 b = 2 c = 3\n"
     ]
    },
    {
     "data": {
      "text/plain": [
       "7"
      ]
     },
     "execution_count": 49,
     "metadata": {},
     "output_type": "execute_result"
    }
   ],
   "source": [
    "addition_abc(2, b=2, c=3)"
   ]
  },
  {
   "cell_type": "markdown",
   "metadata": {},
   "source": [
    "#### Gotcha #2"
   ]
  },
  {
   "cell_type": "code",
   "execution_count": 51,
   "metadata": {},
   "outputs": [
    {
     "name": "stdout",
     "output_type": "stream",
     "text": [
      "addition_abc() got multiple values for argument 'a'\n"
     ]
    }
   ],
   "source": [
    "try:\n",
    "    addition_abc(2, a=12, c=3)\n",
    "except Exception as e:\n",
    "    print(e)"
   ]
  },
  {
   "cell_type": "markdown",
   "metadata": {},
   "source": [
    "#### Gotcha #3"
   ]
  },
  {
   "cell_type": "markdown",
   "metadata": {},
   "source": [
    "```python\n",
    "# !!! Gotcha !!!\n",
    "try:\n",
    "    addition_abc(2, b=12, c=3, c=2)\n",
    "except Exception as e:\n",
    "    print(e)\n",
    "```\n",
    "\n",
    "**Output:**\n",
    "```python\n",
    "  File \"<ipython-input-2-6556eb21103d>\", line 2\n",
    "    addition_abc(2, b=12, c=3, c=2)\n",
    "                              ^\n",
    "SyntaxError: keyword argument repeated\n",
    "```"
   ]
  },
  {
   "cell_type": "markdown",
   "metadata": {},
   "source": [
    "Functions can also not return anything like in the below example"
   ]
  },
  {
   "cell_type": "code",
   "execution_count": 52,
   "metadata": {},
   "outputs": [],
   "source": [
    "def test_new(a, b, c):\n",
    "    pass"
   ]
  },
  {
   "cell_type": "markdown",
   "metadata": {},
   "source": [
    "Functions can also return multiple values, usually in form of tuple as shown in the below example."
   ]
  },
  {
   "cell_type": "markdown",
   "metadata": {},
   "source": [
    "### Handling the functions which returns more than one value"
   ]
  },
  {
   "cell_type": "markdown",
   "metadata": {},
   "source": [
    "#### Method 1: Using single variable"
   ]
  },
  {
   "cell_type": "code",
   "execution_count": 56,
   "metadata": {},
   "outputs": [
    {
     "name": "stdout",
     "output_type": "stream",
     "text": [
      "x=(4, 25, 14)\n",
      "type(x)=<class 'tuple'>\n",
      "len(x)=3\n"
     ]
    }
   ],
   "source": [
    "# The function `math_mixer` will return a tuple of 4 elements\n",
    "\n",
    "def math_mixer(a, b):\n",
    "    return a*a, b*b, 2*(a+b)\n",
    "\n",
    "# equivalent code: x = 4, 25, 10, 7\n",
    "x = math_mixer(2, 5)\n",
    "\n",
    "# Data Type of `x` will always be a tuple in this case\n",
    "print(f\"{x=}\\n{type(x)=}\\n{len(x)=}\")"
   ]
  },
  {
   "cell_type": "markdown",
   "metadata": {},
   "source": [
    "#### Method 2: Using multiple variables"
   ]
  },
  {
   "cell_type": "markdown",
   "metadata": {},
   "source": [
    "We can handle them multiple ways, we are going to discuss about them in this chapter"
   ]
  },
  {
   "cell_type": "code",
   "execution_count": 60,
   "metadata": {
    "scrolled": true
   },
   "outputs": [
    {
     "name": "stdout",
     "output_type": "stream",
     "text": [
      "first = 4, type(first) = <class 'int'>\n",
      "second = 25, type(second) = <class 'int'>\n"
     ]
    }
   ],
   "source": [
    "# using unpacking to populate the `aa` & `bb` variables\n",
    "\n",
    "def math_mixer(a, b):\n",
    "    return a*a, b*b\n",
    "\n",
    "# Unpacking.\n",
    "first, second = math_mixer(2, 5)  # first, second = 4, 25\n",
    "\n",
    "print(f\"{first = }, {type(first) = }\")\n",
    "print(f\"{second = }, {type(second) = }\")"
   ]
  },
  {
   "cell_type": "code",
   "execution_count": 73,
   "metadata": {},
   "outputs": [
    {
     "name": "stdout",
     "output_type": "stream",
     "text": [
      "first=4, type(first)=<class 'int'>\n",
      "second=25, type(second)=<class 'int'>\n"
     ]
    }
   ],
   "source": [
    "# Equivalent of the following\n",
    "\n",
    "first, second = (4, 25)\n",
    "print(f\"{first=}, {type(first)=}\")\n",
    "print(f\"{second=}, {type(second)=}\")"
   ]
  },
  {
   "cell_type": "code",
   "execution_count": 74,
   "metadata": {},
   "outputs": [],
   "source": [
    "def math_mixer(a, b):\n",
    "    print(a, b)\n",
    "    return a*a, b*b, a*b"
   ]
  },
  {
   "cell_type": "code",
   "execution_count": 76,
   "metadata": {},
   "outputs": [
    {
     "name": "stdout",
     "output_type": "stream",
     "text": [
      "2 5\n",
      "(4, 25, 10)\n",
      "<class 'tuple'>\n"
     ]
    }
   ],
   "source": [
    "x = math_mixer(2 , 5)\n",
    "print(x)\n",
    "print(type(x))"
   ]
  },
  {
   "cell_type": "code",
   "execution_count": 77,
   "metadata": {},
   "outputs": [
    {
     "name": "stdout",
     "output_type": "stream",
     "text": [
      "2 5\n",
      "(4, (2, 5), [7, -3], {2: 5})\n",
      "<class 'tuple'>\n"
     ]
    }
   ],
   "source": [
    "# Different data types can also be returned at the same time\n",
    "\n",
    "def math_mixer(a, b):\n",
    "    print(a, b)\n",
    "    return a * a, (a, b), [a + b, a - b], {a: b}\n",
    "\n",
    "x = math_mixer(2, 5)\n",
    "print(x)\n",
    "print(type(x))"
   ]
  },
  {
   "cell_type": "code",
   "execution_count": 78,
   "metadata": {},
   "outputs": [
    {
     "name": "stdout",
     "output_type": "stream",
     "text": [
      "0: 4 is of data type <class 'int'>\n",
      "1: (2, 5) is of data type <class 'tuple'>\n",
      "2: [7, -3] is of data type <class 'list'>\n",
      "3: {2: 5} is of data type <class 'dict'>\n"
     ]
    }
   ],
   "source": [
    "for index, val in enumerate(x):\n",
    "    print(f\"{index}: {val} is of data type {type(val)}\")"
   ]
  },
  {
   "cell_type": "code",
   "execution_count": 63,
   "metadata": {},
   "outputs": [
    {
     "name": "stdout",
     "output_type": "stream",
     "text": [
      "a_square=4, b_square=25\n",
      "type(a_square)=<class 'int'>, type(b_square)=<class 'int'>\n"
     ]
    }
   ],
   "source": [
    "# ### Bad Design \n",
    "# --------------\n",
    "# Please try to avoid any usecase like below\n",
    "# Where in different case the number of return \n",
    "# data is different.\n",
    "\n",
    "def math_mixer(a, b):\n",
    "    if a > b:\n",
    "        return a*a, b*b, [a + b, a - b]\n",
    "    else:\n",
    "        return a*a, b*b\n",
    "\n",
    "a_square, b_square = math_mixer(2, 5)\n",
    "print(f\"{a_square=}, {b_square=}\")\n",
    "print(f\"{type(a_square)=}, {type(b_square)=}\")"
   ]
  },
  {
   "cell_type": "code",
   "execution_count": 65,
   "metadata": {},
   "outputs": [
    {
     "name": "stdout",
     "output_type": "stream",
     "text": [
      "too many values to unpack (expected 2)\n"
     ]
    }
   ],
   "source": [
    "\n",
    "try:\n",
    "    # This will fail, as it will get three values instead \n",
    "    # of expected two\n",
    "    a_square, b_square = math_mixer(22, 5)\n",
    "    print(f\"{a_square=}, {b_square=}\")\n",
    "    print(f\"{type(a_square)=}, {type(b_square)=}\")\n",
    "except Exception as e:\n",
    "    print(e)"
   ]
  },
  {
   "cell_type": "code",
   "execution_count": 66,
   "metadata": {},
   "outputs": [
    {
     "name": "stdout",
     "output_type": "stream",
     "text": [
      "not enough values to unpack (expected 3, got 2)\n"
     ]
    }
   ],
   "source": [
    "try:\n",
    "    # This will fail, as it will get three values instead \n",
    "    # of expected two\n",
    "    a_square, b_square, addition = math_mixer(3, 5)\n",
    "    print(f\"{a_square=}, {b_square=}\")\n",
    "    print(f\"{type(a_square)=}, {type(b_square)=}\")\n",
    "except Exception as e:\n",
    "    print(e)"
   ]
  },
  {
   "cell_type": "markdown",
   "metadata": {},
   "source": [
    "### Default/Optional Parameters"
   ]
  },
  {
   "cell_type": "code",
   "execution_count": 1,
   "metadata": {},
   "outputs": [],
   "source": [
    "def interest_calculator(down_payment, total_cost, interest):\n",
    "    print(down_payment, total_cost, interest)\n",
    "    return (total_cost-down_payment) * interest/100, (total_cost-down_payment) "
   ]
  },
  {
   "cell_type": "markdown",
   "metadata": {},
   "source": [
    "if I forgot to provide `interest` then the below code will not run"
   ]
  },
  {
   "cell_type": "code",
   "execution_count": 2,
   "metadata": {},
   "outputs": [
    {
     "name": "stdout",
     "output_type": "stream",
     "text": [
      "interest_calculator() missing 1 required positional argument: 'interest'\n"
     ]
    }
   ],
   "source": [
    "try:\n",
    "    interest_calculator(100, 1000)\n",
    "except Exception as e:\n",
    "    print(e)"
   ]
  },
  {
   "cell_type": "markdown",
   "metadata": {},
   "source": [
    "Now, if you provide default values in the function itself, then you can skip them at the function call. \n",
    "\n",
    "In the below example, as `a` and `b` have default values assigned to them, they becomes optional parameters."
   ]
  },
  {
   "cell_type": "code",
   "execution_count": 6,
   "metadata": {},
   "outputs": [],
   "source": [
    "def interest_calculator(down_payment, total_cost, interest=4):\n",
    "    print(f\"{down_payment = } , {total_cost = }, {interest = }\")\n",
    "    return (total_cost-down_payment) * interest/100, (total_cost-down_payment) "
   ]
  },
  {
   "cell_type": "code",
   "execution_count": 7,
   "metadata": {},
   "outputs": [
    {
     "name": "stdout",
     "output_type": "stream",
     "text": [
      "down_payment = 100 , total_cost = 1000, interest = 4\n",
      "vals=(36.0, 900)\n"
     ]
    }
   ],
   "source": [
    "try:\n",
    "    vals = interest_calculator(100, 1000)\n",
    "    print(f\"{vals=}\")\n",
    "except Exception as e:\n",
    "    print(e)"
   ]
  },
  {
   "cell_type": "code",
   "execution_count": 9,
   "metadata": {},
   "outputs": [
    {
     "name": "stdout",
     "output_type": "stream",
     "text": [
      "down_payment = 100 , total_cost = 1000, interest = 10\n",
      "vals=(90.0, 900)\n"
     ]
    }
   ],
   "source": [
    "vals = interest_calculator(100, 1000, interest=10)\n",
    "print(f\"{vals=}\")"
   ]
  },
  {
   "cell_type": "code",
   "execution_count": 15,
   "metadata": {},
   "outputs": [],
   "source": [
    "def math_mixer(d, c, a=100, b=1000): # Two required and two optional arguments\n",
    "    print(f\"{d = }, {c = }, { a = }, {b = }\")\n",
    "    return d*c, c*b, b*a, a*d"
   ]
  },
  {
   "cell_type": "code",
   "execution_count": 16,
   "metadata": {},
   "outputs": [
    {
     "name": "stdout",
     "output_type": "stream",
     "text": [
      "d = 1, c = 2,  a = 3, b = 4\n",
      "(2, 8, 12, 3)\n"
     ]
    }
   ],
   "source": [
    "x = math_mixer(1, 2, 3, 4)\n",
    "print(x)"
   ]
  },
  {
   "cell_type": "code",
   "execution_count": 17,
   "metadata": {},
   "outputs": [
    {
     "name": "stdout",
     "output_type": "stream",
     "text": [
      "d = 10, c = 2,  a = 100, b = 1000\n",
      "(20, 2000, 100000, 1000)\n"
     ]
    }
   ],
   "source": [
    "print(math_mixer(10, 2))"
   ]
  },
  {
   "cell_type": "code",
   "execution_count": 18,
   "metadata": {},
   "outputs": [
    {
     "name": "stdout",
     "output_type": "stream",
     "text": [
      "Error: math_mixer() missing 1 required positional argument: 'c'\n"
     ]
    }
   ],
   "source": [
    "try:\n",
    "    print(math_mixer(10))\n",
    "except Exception as e:\n",
    "    print(\"Error:\", e)"
   ]
  },
  {
   "cell_type": "markdown",
   "metadata": {},
   "source": [
    "> <center>Note:</center>\n",
    "> <hr>\n",
    "> We can also do make sure that all the keyword arguments values are provided when function is called using the following trick"
   ]
  },
  {
   "cell_type": "code",
   "execution_count": 20,
   "metadata": {},
   "outputs": [
    {
     "name": "stdout",
     "output_type": "stream",
     "text": [
      "d = 10, c = 2,  a = 100, b = 5\n",
      "(20, 10, 500, 1000)\n"
     ]
    }
   ],
   "source": [
    "x = math_mixer(c=2, d=10, b=5) # All named arguments\n",
    "print(x)"
   ]
  },
  {
   "cell_type": "markdown",
   "metadata": {},
   "source": [
    "#### Gotcha #1: default argument cannot preceed the positional arguements."
   ]
  },
  {
   "cell_type": "markdown",
   "metadata": {},
   "source": [
    "\n",
    "```python\n",
    "def interest_calculator(down_payment=10, total_cost, interest=4):\n",
    "    print(down_payment, total_cost, interest)\n",
    "    return (total_cost-down_payment) * interest/100, (total_cost-down_payment) \n",
    "```\n",
    "\n",
    "**Output**:\n",
    "\n",
    "```\n",
    "  File \"<ipython-input-36-a22d526ca069>\", line 1\n",
    "    def interest_calculator(down_payment=10, total_cost, interest=4):\n",
    "                                                         ^\n",
    "SyntaxError: non-default argument follows default argument\n",
    "```"
   ]
  },
  {
   "cell_type": "code",
   "execution_count": 89,
   "metadata": {},
   "outputs": [
    {
     "name": "stdout",
     "output_type": "stream",
     "text": [
      "Help on built-in function print in module builtins:\n",
      "\n",
      "print(...)\n",
      "    print(value, ..., sep=' ', end='\\n', file=sys.stdout, flush=False)\n",
      "    \n",
      "    Prints the values to a stream, or to sys.stdout by default.\n",
      "    Optional keyword arguments:\n",
      "    file:  a file-like object (stream); defaults to the current sys.stdout.\n",
      "    sep:   string inserted between values, default a space.\n",
      "    end:   string appended after the last value, default a newline.\n",
      "    flush: whether to forcibly flush the stream.\n",
      "\n"
     ]
    }
   ],
   "source": [
    "help(print)"
   ]
  },
  {
   "cell_type": "markdown",
   "metadata": {},
   "source": [
    "`...` means that number of items are not defined."
   ]
  },
  {
   "cell_type": "code",
   "execution_count": 32,
   "metadata": {},
   "outputs": [
    {
     "name": "stdout",
     "output_type": "stream",
     "text": [
      "TEST_1 TEST_2 TEST_3 TEST_4.\b"
     ]
    }
   ],
   "source": [
    "print(\"TEST_1\", \"TEST_2\", \"TEST_3\", \"TEST_4\", end=\".\\b\")"
   ]
  },
  {
   "cell_type": "code",
   "execution_count": 34,
   "metadata": {},
   "outputs": [],
   "source": [
    "# Can handle all the positional arguments passed.\n",
    "\n",
    "def math_magic(*a):\n",
    "    n = 0\n",
    "    print(f\"{a=}, {type(a)=}\")\n",
    "    for x in a:\n",
    "        n += x\n",
    "        \n",
    "    return n"
   ]
  },
  {
   "cell_type": "code",
   "execution_count": 28,
   "metadata": {},
   "outputs": [
    {
     "name": "stdout",
     "output_type": "stream",
     "text": [
      "a=(10, 20, 30, 40), type(a)=<class 'tuple'>\n",
      "100\n"
     ]
    }
   ],
   "source": [
    "print(math_magic(10, 20, 30, 40))"
   ]
  },
  {
   "cell_type": "markdown",
   "metadata": {},
   "source": [
    "Example of how to get all parameters:"
   ]
  },
  {
   "cell_type": "code",
   "execution_count": 29,
   "metadata": {},
   "outputs": [
    {
     "name": "stdout",
     "output_type": "stream",
     "text": [
      "a=(10,), type(a)=<class 'tuple'>\n",
      "10\n"
     ]
    }
   ],
   "source": [
    "# Even with single element it works. \n",
    "# And this is a natural use of single element tuple.\n",
    "\n",
    "print(math_magic(10))"
   ]
  },
  {
   "cell_type": "code",
   "execution_count": 33,
   "metadata": {},
   "outputs": [
    {
     "name": "stdout",
     "output_type": "stream",
     "text": [
      "Error: math_magic() got an unexpected keyword argument 'a'\n"
     ]
    }
   ],
   "source": [
    "# Gotcha #1\n",
    "# We cannot use named arguments in the abeve function.\n",
    "\n",
    "try:\n",
    "    print(math_magic(a=40))\n",
    "except Exception as e:\n",
    "    print(f\"Error: {e}\")"
   ]
  },
  {
   "cell_type": "markdown",
   "metadata": {},
   "source": [
    "Example (RGB conversion):"
   ]
  },
  {
   "cell_type": "code",
   "execution_count": 12,
   "metadata": {},
   "outputs": [
    {
     "name": "stdout",
     "output_type": "stream",
     "text": [
      "#c8c8ff\n",
      "#ffc8c8\n",
      "(200, 200, 255)\n"
     ]
    }
   ],
   "source": [
    "def rgb_html(r=0, g=0, b=0):\n",
    "    \"\"\"Converts R, G, B to #RRGGBB\"\"\"\n",
    "\n",
    "    return '#%02x%02x%02x' % (r, g, b)\n",
    "\n",
    "def html_rgb(color='#000000'):\n",
    "    \"\"\"Converts #RRGGBB em R, G, B\"\"\"\n",
    "\n",
    "    if color.startswith('#'): color = color[1:]\n",
    "\n",
    "    r = int(color[:2], 16)\n",
    "    g = int(color[2:4], 16)\n",
    "    b = int(color[4:], 16)\n",
    "\n",
    "    return r, g, b\n",
    "\n",
    "\n",
    "print (rgb_html(200, 200, 255))\n",
    "\n",
    "print (rgb_html(b=200, g=200, r=255)) # Example of keyword/named argument\n",
    "print (html_rgb('#c8c8ff'))"
   ]
  },
  {
   "cell_type": "markdown",
   "metadata": {},
   "source": [
    "> **Note**: non-default argument's should always follow default argument"
   ]
  },
  {
   "cell_type": "markdown",
   "metadata": {},
   "source": [
    "**Example**:  \n",
    "```python\n",
    "def test(d, a=100, c, b=1000):\n",
    "        print(d, c, a, b)\n",
    "        return d, c, a, b\n",
    "\n",
    "x = test(c=2, d=10, b=5)\n",
    "print(x)\n",
    "x = test(1, 2, 3, 4)\n",
    "print(x)\n",
    "print(test(10, 2))\n",
    "```\n",
    "\n",
    "**Output**:\n",
    "```python\n",
    "  File \"<ipython-input-6-3d33b3561563>\", line 1\n",
    "    def test(d, a=100, c, b=1000):\n",
    "            ^\n",
    "SyntaxError: non-default argument follows default argument\n",
    "```"
   ]
  },
  {
   "cell_type": "code",
   "execution_count": 61,
   "metadata": {},
   "outputs": [
    {
     "name": "stdout",
     "output_type": "stream",
     "text": [
      "10 2 100 5\n",
      "(10, 2, 100, 5)\n",
      "2 1 3 4\n",
      "(2, 1, 3, 4)\n",
      "2 10 100 1000\n",
      "(2, 10, 100, 1000)\n"
     ]
    }
   ],
   "source": [
    "def test(c, d, a=100, b=1000):\n",
    "    print(d, c, a, b)\n",
    "    return d, c, a, b\n",
    "\n",
    "x = test(c=2, d=10, b=5)\n",
    "print(x)\n",
    "x = test(1, 2, 3, 4)\n",
    "print(x)\n",
    "print(test(10, 2))"
   ]
  },
  {
   "cell_type": "code",
   "execution_count": 36,
   "metadata": {},
   "outputs": [],
   "source": [
    "# Handles all the keyword arguments passed.\n",
    "\n",
    "def math_magic(**a):\n",
    "    n = 0\n",
    "    print(f\"{a=}, {type(a)=}\")\n",
    "    for key, val in a.items():\n",
    "        print(f\"{key=} : {val=}\")\n",
    "        n += val\n",
    "    return n"
   ]
  },
  {
   "cell_type": "code",
   "execution_count": 37,
   "metadata": {
    "scrolled": true
   },
   "outputs": [
    {
     "name": "stdout",
     "output_type": "stream",
     "text": [
      "a={'a': 10, 'b': 20, 'c': 30, 'd': 40}, type(a)=<class 'dict'>\n",
      "key='a' : val=10\n",
      "key='b' : val=20\n",
      "key='c' : val=30\n",
      "key='d' : val=40\n",
      "100\n"
     ]
    }
   ],
   "source": [
    "print(math_magic(a=10, b=20, c=30, d=40))"
   ]
  },
  {
   "cell_type": "code",
   "execution_count": 38,
   "metadata": {
    "scrolled": true
   },
   "outputs": [],
   "source": [
    "# *args - arguments without name (tuple)\n",
    "# **kargs - arguments with name (dict)\n",
    "\n",
    "def my_print(*args, **kargs):\n",
    "    print(f\"{args=}, {type(args)=}\")\n",
    "    print(f\"{kargs=}, {type(kargs)=}\")"
   ]
  },
  {
   "cell_type": "code",
   "execution_count": 40,
   "metadata": {
    "scrolled": true
   },
   "outputs": [
    {
     "name": "stdout",
     "output_type": "stream",
     "text": [
      "args=('weight', 10), type(args)=<class 'tuple'>\n",
      "kargs={'unit': 'k', 'name': 'temprature'}, type(kargs)=<class 'dict'>\n"
     ]
    }
   ],
   "source": [
    "my_print('weight', 10, unit='k', name=\"temprature\")"
   ]
  },
  {
   "cell_type": "code",
   "execution_count": 23,
   "metadata": {},
   "outputs": [
    {
     "name": "stdout",
     "output_type": "stream",
     "text": [
      "args=('weight', 10, 112, {2324, 23}, {2: 3}), type(args)=<class 'tuple'>\n",
      "kargs={'unit': 'k', 'name': 'temprature', 'task': 'test'}, type(kargs)=<class 'dict'>\n"
     ]
    }
   ],
   "source": [
    "my_print('weight', 10, 112, {2324,23}, {2:3}, \n",
    "         unit='k', name=\"temprature\", task=\"test\")"
   ]
  },
  {
   "cell_type": "markdown",
   "metadata": {},
   "source": [
    "names `args` and `kargs` are not a rule but a coding convension to keep them same with programming practices of other languages."
   ]
  },
  {
   "cell_type": "code",
   "execution_count": 42,
   "metadata": {
    "scrolled": true
   },
   "outputs": [
    {
     "name": "stdout",
     "output_type": "stream",
     "text": [
      "('Mann', 10) <class 'tuple'>\n",
      "{'unit': 'Kind'} <class 'dict'>\n"
     ]
    }
   ],
   "source": [
    "def my_print(*monkey, **tiger):\n",
    "    print(monkey, type(monkey))\n",
    "    print(tiger, type(tiger))\n",
    "\n",
    "my_print('Mann', 10, unit='Kind')"
   ]
  },
  {
   "cell_type": "markdown",
   "metadata": {},
   "source": [
    "In the example, `kargs` will receive the named arguments and `args` will receive the others.\n",
    "\n",
    "The interpreter has some *builtin* functions defined, including `sorted()`, which orders sequences, and `cmp()`, which makes comparisons between two arguments and returns -1 if the first element is greater, 0 (zero) if they are equal, or 1 if the latter is higher. This function is used by the routine of ordering, a behavior that can be modified.\n",
    "\n",
    "Example:"
   ]
  },
  {
   "cell_type": "code",
   "execution_count": 44,
   "metadata": {},
   "outputs": [
    {
     "name": "stdout",
     "output_type": "stream",
     "text": [
      "('weigh', 10)\n",
      "{'unit': 'k', 'val': {'name': 'Mohan kumar Shah', 'age': 46}}\n"
     ]
    }
   ],
   "source": [
    "def func(*args , **kargs):\n",
    "    print(args)\n",
    "    print(kargs)\n",
    "\n",
    "    \n",
    "a = {\n",
    "    \"name\": \"Mohan kumar Shah\",\n",
    "    \"age\": 45 + 1\n",
    "}\n",
    "\n",
    "func('weigh', 10, unit='k', val=a)"
   ]
  },
  {
   "cell_type": "code",
   "execution_count": 73,
   "metadata": {},
   "outputs": [
    {
     "name": "stdout",
     "output_type": "stream",
     "text": [
      "weigh 10 \n",
      "\n",
      "{'unit': 'k', 'val': False}\n"
     ]
    }
   ],
   "source": [
    "def my_print(*args, **kargs):\n",
    "    for a in args:\n",
    "        print(a, end=\" \")\n",
    "    print(\"\\n\")\n",
    "    print (kargs)\n",
    "\n",
    "my_print('weigh', 10, unit='k', val=a)"
   ]
  },
  {
   "cell_type": "code",
   "execution_count": 74,
   "metadata": {},
   "outputs": [
    {
     "name": "stdout",
     "output_type": "stream",
     "text": [
      "weigh 10 101 \n",
      "\n",
      "k {'name': 'Mohan kumar Shah', 'age': 25} \n"
     ]
    }
   ],
   "source": [
    "def my_print(*args, **kargs):\n",
    "    for a in args:\n",
    "        print(a, end=\" \")\n",
    "    print(\"\\n\")\n",
    "    for val in kargs.values():\n",
    "        print(val, end=\" \")\n",
    "    print()\n",
    "\n",
    "a = {\n",
    "    \"name\": \"Mohan kumar Shah\",\n",
    "    \"age\": 24 + 1\n",
    "}\n",
    "\n",
    "my_print('weigh', 10, 101, unit='k', val=a)"
   ]
  },
  {
   "cell_type": "code",
   "execution_count": 75,
   "metadata": {},
   "outputs": [
    {
     "name": "stdout",
     "output_type": "stream",
     "text": [
      "('weigh', 10, 'test')\n"
     ]
    }
   ],
   "source": [
    "def func(*args):\n",
    "    print(args)\n",
    "\n",
    "func('weigh', 10, \"test\")"
   ]
  },
  {
   "cell_type": "code",
   "execution_count": 74,
   "metadata": {},
   "outputs": [
    {
     "name": "stdout",
     "output_type": "stream",
     "text": [
      "func() got an unexpected keyword argument 'unit'\n"
     ]
    }
   ],
   "source": [
    "### Gotcha, The below function will not accept any keyword argument.\n",
    "\n",
    "def func(*args):\n",
    "    print(args)\n",
    "\n",
    "try:\n",
    "    func('weigh', 10, \"test\", unit='k')\n",
    "except Exception as e:\n",
    "    print(e)"
   ]
  },
  {
   "cell_type": "code",
   "execution_count": 45,
   "metadata": {},
   "outputs": [
    {
     "name": "stdout",
     "output_type": "stream",
     "text": [
      "func() takes 0 positional arguments but 3 were given\n"
     ]
    }
   ],
   "source": [
    "### Gotcha, The below function will only accept keyword argument.\n",
    "\n",
    "def func(**kargs):\n",
    "    print(args)\n",
    "\n",
    "try:\n",
    "    func('weigh', 10, \"test\", unit='k')\n",
    "except Exception as e:\n",
    "    print(e)"
   ]
  },
  {
   "cell_type": "code",
   "execution_count": 46,
   "metadata": {},
   "outputs": [
    {
     "name": "stdout",
     "output_type": "stream",
     "text": [
      "List: [(4, 3), (5, 1), (4, 4), (9, 0)]\n",
      "False\n",
      "False\n",
      "True\n",
      "False\n"
     ]
    }
   ],
   "source": [
    "data = [(4, 3), (5, 1), (4, 4), (9, 0)]\n",
    "\n",
    "# Comparing by the last element\n",
    "def _cmp(x, y):\n",
    "    return x == y\n",
    "\n",
    "print ('List:', data)\n",
    "\n",
    "for x, y in data:\n",
    "    print(_cmp(x, y))"
   ]
  },
  {
   "cell_type": "markdown",
   "metadata": {},
   "source": [
    "Python also has a *builtin* function `eval()`, which evaluates code (source or object) and returns the value.\n",
    "\n",
    "> Note: Don't use if you are not sure about the data string\n",
    "\n",
    "Example:"
   ]
  },
  {
   "cell_type": "code",
   "execution_count": 115,
   "metadata": {},
   "outputs": [
    {
     "name": "stdout",
     "output_type": "stream",
     "text": [
      "9.3\n"
     ]
    }
   ],
   "source": [
    "print(eval('12. / 2 + 3.3'))"
   ]
  },
  {
   "cell_type": "code",
   "execution_count": 47,
   "metadata": {},
   "outputs": [],
   "source": [
    "#  Similar to `print` function\n",
    "\n",
    "def cities(a, b, *, c=\"Pune\", d=\"Hyderabad\"):\n",
    "    print(a, b, c, d)"
   ]
  },
  {
   "cell_type": "markdown",
   "metadata": {},
   "source": [
    "If we provide keyword arguments with keywords then everything works fine as shown in the below examples."
   ]
  },
  {
   "cell_type": "code",
   "execution_count": 48,
   "metadata": {},
   "outputs": [
    {
     "name": "stdout",
     "output_type": "stream",
     "text": [
      "LA NJ Budd Lake Chennai\n"
     ]
    }
   ],
   "source": [
    "cities(\"LA\", \"NJ\", c=\"Budd Lake\", d=\"Chennai\")"
   ]
  },
  {
   "cell_type": "code",
   "execution_count": 49,
   "metadata": {},
   "outputs": [
    {
     "name": "stdout",
     "output_type": "stream",
     "text": [
      "Error: cities() takes 2 positional arguments but 3 positional arguments (and 1 keyword-only argument) were given\n"
     ]
    }
   ],
   "source": [
    "try:\n",
    "    cities(\"Delaware\", \"NY\", \"Budd Lake\", d=\"Chennai\")\n",
    "except Exception as e:\n",
    "    print(\"Error:\", e)"
   ]
  },
  {
   "cell_type": "code",
   "execution_count": 51,
   "metadata": {},
   "outputs": [
    {
     "name": "stdout",
     "output_type": "stream",
     "text": [
      "Delaware NY Budd Lake Hyderabad\n"
     ]
    }
   ],
   "source": [
    "# Default arguments can be ommited by not provided by their position\n",
    "\n",
    "cities(\"Delaware\", \"NY\", c=\"Budd Lake\")"
   ]
  },
  {
   "cell_type": "code",
   "execution_count": 52,
   "metadata": {},
   "outputs": [
    {
     "name": "stdout",
     "output_type": "stream",
     "text": [
      "10 20 Pune Hyderabad\n"
     ]
    }
   ],
   "source": [
    "cities(10, 20)"
   ]
  },
  {
   "cell_type": "markdown",
   "metadata": {},
   "source": [
    "but if we try to use keyword argument as positional argument its then we start getting error message."
   ]
  },
  {
   "cell_type": "markdown",
   "metadata": {},
   "source": [
    "```python \n",
    "cities(10, 20, 30, 40, 50)\n",
    "```\n",
    "\n",
    "Output\n",
    "```python\n",
    "---------------------------------------------------------------------------\n",
    "TypeError                                 Traceback (most recent call last)\n",
    "<ipython-input-8-e92865ac2d63> in <module>()\n",
    "----> 1 cities(10, 20, 30, 40, 50)\n",
    "\n",
    "TypeError: cities() takes 2 positional arguments but 5 were given\n",
    "```\n",
    "\n",
    "    "
   ]
  },
  {
   "cell_type": "markdown",
   "metadata": {},
   "source": [
    "```python \n",
    "cities(10, 20, 40, 50)\n",
    "```\n",
    "\n",
    "Output\n",
    "```python\n",
    "---------------------------------------------------------------------------\n",
    "TypeError                                 Traceback (most recent call last)\n",
    "<ipython-input-8-e92865ac2d63> in <module>()\n",
    "----> 1 cities(10, 20, 40, 50)\n",
    "\n",
    "TypeError: cities() takes 2 positional arguments but 5 were given\n",
    "```\n",
    "\n",
    "    "
   ]
  },
  {
   "cell_type": "code",
   "execution_count": 53,
   "metadata": {},
   "outputs": [],
   "source": [
    "# All the arguments after `*` needs to be provided\n",
    "# as keyword argument\n",
    "\n",
    "def cities(a, b, *, c, d=\"Hyderabad\"):\n",
    "    print(a, b, c, d)"
   ]
  },
  {
   "cell_type": "code",
   "execution_count": 54,
   "metadata": {},
   "outputs": [
    {
     "name": "stdout",
     "output_type": "stream",
     "text": [
      "10 20 40 50\n"
     ]
    }
   ],
   "source": [
    "cities(10, 20, c=40, d=50)"
   ]
  },
  {
   "cell_type": "code",
   "execution_count": 55,
   "metadata": {},
   "outputs": [
    {
     "name": "stdout",
     "output_type": "stream",
     "text": [
      "cities() takes 2 positional arguments but 3 positional arguments (and 1 keyword-only argument) were given\n"
     ]
    }
   ],
   "source": [
    "# I can not use `c` as positional argument.\n",
    "try:\n",
    "    cities(10, 20, 40, d=50)\n",
    "except Exception as e:\n",
    "    print(e)"
   ]
  },
  {
   "cell_type": "code",
   "execution_count": 56,
   "metadata": {},
   "outputs": [
    {
     "name": "stdout",
     "output_type": "stream",
     "text": [
      "Mayank Johri\n",
      "Janki Mohan Johri\n"
     ]
    }
   ],
   "source": [
    "def listing(lst):\n",
    "    for l in lst:\n",
    "        print(l)\n",
    "\n",
    "\n",
    "lst = {\"Mayank Johri\": 40, \"Janki Mohan Johri\": 68}\n",
    "listing(lst)"
   ]
  },
  {
   "cell_type": "code",
   "execution_count": 61,
   "metadata": {},
   "outputs": [],
   "source": [
    "# !!! Nice understanding example. !!!\n",
    "\n",
    "default_user = {\n",
    "    \"name\": \"Mohan kumar Shah\",\n",
    "    \"age\": 24 + 1\n",
    "}\n",
    "\n",
    "def process_dict(user=default_user):\n",
    "    print(\"Inside func:\", user)\n",
    "    return user"
   ]
  },
  {
   "cell_type": "code",
   "execution_count": 62,
   "metadata": {},
   "outputs": [
    {
     "name": "stdout",
     "output_type": "stream",
     "text": [
      "Inside func: {'name': 'Sachin Shah', 'age': 44}\n",
      "{'name': 'Sachin Shah', 'age': 44}\n"
     ]
    }
   ],
   "source": [
    "# Lets provide user_details to the function while calling it. \n",
    "user_details = {\n",
    "    \"name\": \"Sachin Shah\",\n",
    "    \"age\": 44\n",
    "}\n",
    "\n",
    "print(process_dict(user_details))"
   ]
  },
  {
   "cell_type": "code",
   "execution_count": 63,
   "metadata": {},
   "outputs": [
    {
     "name": "stdout",
     "output_type": "stream",
     "text": [
      "Inside func: {'name': 'Mohan kumar Shah', 'age': 25}\n",
      "user_details:  {'name': 'Mohan kumar Shah', 'age': 25}\n"
     ]
    }
   ],
   "source": [
    "user_details = process_dict()\n",
    "print(\"user_details: \", user_details)"
   ]
  },
  {
   "cell_type": "markdown",
   "metadata": {},
   "source": [
    "now, lets update the value of `default_user` ,"
   ]
  },
  {
   "cell_type": "code",
   "execution_count": 64,
   "metadata": {},
   "outputs": [],
   "source": [
    "# Adding new Key/Value pair\n",
    "\n",
    "default_user[\"hobby\"] = \"Reading `Sir Arthur C Clarks` books\""
   ]
  },
  {
   "cell_type": "code",
   "execution_count": 66,
   "metadata": {},
   "outputs": [
    {
     "name": "stdout",
     "output_type": "stream",
     "text": [
      "Inside func: {'name': 'Mohan kumar Shah', 'age': 25, 'hobby': 'Reading `Sir Arthur C Clarks` books'}\n",
      "user_details:  {'name': 'Mohan kumar Shah', 'age': 25, 'hobby': 'Reading `Sir Arthur C Clarks` books'}\n"
     ]
    }
   ],
   "source": [
    "user_details = process_dict()\n",
    "print(\"user_details: \", user_details)"
   ]
  },
  {
   "cell_type": "code",
   "execution_count": 67,
   "metadata": {},
   "outputs": [
    {
     "name": "stdout",
     "output_type": "stream",
     "text": [
      "user_details: {'name': 'Mohan kumar Shah', 'age': 25, 'hobby': 'Reading `Sir Arthur C Clarks` books'} 139854290144000\n"
     ]
    }
   ],
   "source": [
    "print(\"user_details:\", user_details, id(user_details))"
   ]
  },
  {
   "cell_type": "code",
   "execution_count": 68,
   "metadata": {},
   "outputs": [
    {
     "name": "stdout",
     "output_type": "stream",
     "text": [
      "Inside func: {'name': 'Mohan kumar Shah', 'age': 25, 'hobby': 'Reading `Sir Arthur C Clarks` books'}\n",
      "{'name': 'Mohan kumar Shah', 'age': 25, 'hobby': 'Reading `Sir Arthur C Clarks` books'}\n"
     ]
    }
   ],
   "source": [
    "## !!! *** Gotcha *** !!! \n",
    "\n",
    "# Assignation means the variable is now pointing to different \n",
    "# memory location.\n",
    "default_user = \"Reading `Arthur C Clarks` books\"\n",
    "\n",
    "a = process_dict()\n",
    "print(a)"
   ]
  },
  {
   "cell_type": "code",
   "execution_count": 45,
   "metadata": {},
   "outputs": [
    {
     "name": "stdout",
     "output_type": "stream",
     "text": [
      "Inside func: {'name': 'Mohan kumar Shah', 'age': 25, 'hobby': 'Reading `Sir Arthur C Clarks` books'}\n"
     ]
    },
    {
     "data": {
      "text/plain": [
       "{'name': 'Mohan kumar Shah',\n",
       " 'age': 25,\n",
       " 'hobby': 'Reading `Sir Arthur C Clarks` books'}"
      ]
     },
     "execution_count": 45,
     "metadata": {},
     "output_type": "execute_result"
    }
   ],
   "source": [
    "process_dict(a)"
   ]
  },
  {
   "cell_type": "code",
   "execution_count": 46,
   "metadata": {},
   "outputs": [
    {
     "name": "stdout",
     "output_type": "stream",
     "text": [
      "Inside func: {'name': 'Mohan kumar Shah', 'age': 25, 'hobby': 'Playing `doom`'}\n",
      "{'name': 'Mohan kumar Shah', 'age': 25, 'hobby': 'Playing `doom`'}\n"
     ]
    }
   ],
   "source": [
    "a['hobby'] = \"Playing `doom`\"\n",
    "print(process_dict())"
   ]
  },
  {
   "cell_type": "code",
   "execution_count": 69,
   "metadata": {},
   "outputs": [
    {
     "name": "stdout",
     "output_type": "stream",
     "text": [
      "name 'du' is not defined\n"
     ]
    }
   ],
   "source": [
    "# !!! Nice understanding example. !!!\n",
    "\n",
    "# `du` is initialized after the its usage, thus will raise an error\n",
    "\n",
    "try:\n",
    "    def process_dict(d=du):\n",
    "        print(d)\n",
    "\n",
    "    du = {\n",
    "        \"name\": \"Mohan kumar Shah\",\n",
    "        \"age\": 24 + 1\n",
    "    }\n",
    "\n",
    "    user_details = {\n",
    "        \"name\": \"Sachin Shah\",\n",
    "        \"age\": 42\n",
    "    }\n",
    "\n",
    "    process_dict(user_details)\n",
    "    process_dict()\n",
    "except Exception as e:\n",
    "    print(e)"
   ]
  },
  {
   "cell_type": "code",
   "execution_count": 120,
   "metadata": {},
   "outputs": [
    {
     "name": "stdout",
     "output_type": "stream",
     "text": [
      "name 'du' is not defined\n"
     ]
    }
   ],
   "source": [
    "# !!! Nice understanding example. !!!\n",
    "# `du` is initialized after the its usage, thus will raise an error\n",
    "\n",
    "try:\n",
    "    def process_dict(d=du):\n",
    "        print(d)\n",
    "\n",
    "    du = 10\n",
    "    user_details = 20\n",
    "\n",
    "    process_dict(user_details)\n",
    "    process_dict()\n",
    "except Exception as e:\n",
    "    print(e)"
   ]
  },
  {
   "cell_type": "code",
   "execution_count": 71,
   "metadata": {},
   "outputs": [
    {
     "name": "stdout",
     "output_type": "stream",
     "text": [
      "{'name': 'Sachin Shah', 'age': 42}\n",
      "{'name': 'Mohan kumar Shah', 'age': 25}\n"
     ]
    }
   ],
   "source": [
    "# !!! Nice understanding example. !!!\n",
    "# 1. If we are using variables as default vaules, then they should already be existing or \n",
    "#    error is returned by Python. \n",
    "\n",
    "try:\n",
    "    du = {\n",
    "        \"name\": \"Mohan kumar Shah\",\n",
    "        \"age\": 24 + 1\n",
    "    }\n",
    "    \n",
    "    def process_dict(d=du):\n",
    "        print(d)\n",
    "\n",
    "    user_details = {\n",
    "        \"name\": \"Sachin Shah\",\n",
    "        \"age\": 42\n",
    "    }\n",
    "\n",
    "    process_dict(user_details)\n",
    "    process_dict()\n",
    "except Exception as e:\n",
    "    print(e)"
   ]
  },
  {
   "cell_type": "code",
   "execution_count": 74,
   "metadata": {},
   "outputs": [
    {
     "name": "stdout",
     "output_type": "stream",
     "text": [
      "[13223]\n",
      "[13223, 13223]\n",
      "[13223, 13223, 13223]\n"
     ]
    }
   ],
   "source": [
    "def sample(data=[]):\n",
    "    data.append(13223)\n",
    "    print(data)\n",
    "\n",
    "sample()\n",
    "sample()\n",
    "sample()\n"
   ]
  },
  {
   "cell_type": "markdown",
   "metadata": {},
   "source": [
    "**What happened** \n",
    "\n",
    "Whe we defined the function, `d` and `a` were pointing to the memory which contains the dictionary. \n",
    "\n",
    "- later we updated the value of the dictionary, thus in next execution we got the updated values, as the list was still the same.  \n",
    "- later we chagned the value to `a` to a string, but that did not changed the value of `d` as it is still pointing to the dictionary. "
   ]
  },
  {
   "cell_type": "markdown",
   "metadata": {},
   "source": [
    "> **Observations**:\n",
    "\n",
    "> + The  arguments with default/keyword arguments must come last, after the positional arguments.\n",
    "> + _**The default value for a parameter is calculated when the function is defined.**_\n",
    "> + The arguments passed without an identifier are received by the function in the form of a **typle**.\n",
    "> + The arguments passed to the function with an identifier are received in the form of a **dictionary**.\n",
    "> + The parameters passed to the function with an identifier should come at the end of the parameter list."
   ]
  },
  {
   "cell_type": "markdown",
   "metadata": {},
   "source": [
    "### Default arguments with hashable values "
   ]
  },
  {
   "cell_type": "code",
   "execution_count": 53,
   "metadata": {},
   "outputs": [],
   "source": [
    "a = 20_000\n",
    "\n",
    "def process_val(d=a):\n",
    "    print()\n",
    "    print(f\"d: {d}, id(d): {id(d)}\")"
   ]
  },
  {
   "cell_type": "code",
   "execution_count": 54,
   "metadata": {},
   "outputs": [
    {
     "name": "stdout",
     "output_type": "stream",
     "text": [
      "\n",
      "d: 10, id(d): 111261161167440\n"
     ]
    }
   ],
   "source": [
    "process_val(10)"
   ]
  },
  {
   "cell_type": "code",
   "execution_count": 55,
   "metadata": {},
   "outputs": [
    {
     "name": "stdout",
     "output_type": "stream",
     "text": [
      "\n",
      "d: 20000, id(d): 111260860088752\n"
     ]
    }
   ],
   "source": [
    "process_val()"
   ]
  },
  {
   "cell_type": "markdown",
   "metadata": {},
   "source": [
    "Lets update the value of a with 200, "
   ]
  },
  {
   "cell_type": "code",
   "execution_count": 56,
   "metadata": {},
   "outputs": [
    {
     "name": "stdout",
     "output_type": "stream",
     "text": [
      "\n",
      "d: 20000, id(d): 111260860088752\n",
      "200\n"
     ]
    }
   ],
   "source": [
    "a = 200\n",
    "process_val()\n",
    "print(a)"
   ]
  },
  {
   "cell_type": "code",
   "execution_count": 35,
   "metadata": {},
   "outputs": [
    {
     "name": "stdout",
     "output_type": "stream",
     "text": [
      "\n",
      "d: 200, id(d): 4372194304\n"
     ]
    }
   ],
   "source": [
    "process_val(200)"
   ]
  },
  {
   "cell_type": "code",
   "execution_count": 36,
   "metadata": {},
   "outputs": [
    {
     "name": "stdout",
     "output_type": "stream",
     "text": [
      "\n",
      "d: 20000, id(d): 4413918672\n"
     ]
    }
   ],
   "source": [
    "process_val()"
   ]
  },
  {
   "cell_type": "markdown",
   "metadata": {},
   "source": [
    "since at the time of function declaration, the `a` was pointing to a memory with value 20000. Thus `d` was also pointing to the same memory location, \n",
    "\n",
    "When later we changed that `a` started pointing to memory with data `200`, `d` continued to point to the memory with value `20000`"
   ]
  },
  {
   "cell_type": "markdown",
   "metadata": {},
   "source": [
    "### with list"
   ]
  },
  {
   "cell_type": "code",
   "execution_count": 79,
   "metadata": {},
   "outputs": [],
   "source": [
    "x = []\n",
    "\n",
    "def sample_list(val_y=10, val_x=x):\n",
    "    val_x.append(val_y)\n",
    "    return val_x"
   ]
  },
  {
   "cell_type": "code",
   "execution_count": 80,
   "metadata": {},
   "outputs": [
    {
     "data": {
      "text/plain": [
       "[10]"
      ]
     },
     "execution_count": 80,
     "metadata": {},
     "output_type": "execute_result"
    }
   ],
   "source": [
    "sample_list()"
   ]
  },
  {
   "cell_type": "code",
   "execution_count": 77,
   "metadata": {},
   "outputs": [
    {
     "name": "stdout",
     "output_type": "stream",
     "text": [
      "[13223]\n",
      "[13223]\n",
      "[13223]\n"
     ]
    }
   ],
   "source": [
    "def sample(data=None):\n",
    "    data = [] if not data else data\n",
    "        \n",
    "    data.append(13223)\n",
    "    print(data)\n",
    "\n",
    "sample()\n",
    "sample()\n",
    "sample()\n"
   ]
  },
  {
   "cell_type": "code",
   "execution_count": 78,
   "metadata": {},
   "outputs": [
    {
     "name": "stdout",
     "output_type": "stream",
     "text": [
      "[13223]\n",
      "[13223]\n",
      "[13223]\n"
     ]
    }
   ],
   "source": [
    "def sample(data=None):\n",
    "    data = data or []\n",
    "        \n",
    "    data.append(13223)\n",
    "    print(data)\n",
    "\n",
    "sample()\n",
    "sample()\n",
    "sample()\n"
   ]
  },
  {
   "cell_type": "code",
   "execution_count": 81,
   "metadata": {},
   "outputs": [
    {
     "data": {
      "text/plain": [
       "[10, 10]"
      ]
     },
     "execution_count": 81,
     "metadata": {},
     "output_type": "execute_result"
    }
   ],
   "source": [
    "sample_list()"
   ]
  },
  {
   "cell_type": "code",
   "execution_count": 151,
   "metadata": {},
   "outputs": [
    {
     "data": {
      "text/plain": [
       "[10, 10, 10]"
      ]
     },
     "execution_count": 151,
     "metadata": {},
     "output_type": "execute_result"
    }
   ],
   "source": [
    "sample_list()"
   ]
  },
  {
   "cell_type": "code",
   "execution_count": 83,
   "metadata": {},
   "outputs": [],
   "source": [
    "# Very Bad Idea, \n",
    "\n",
    "x = []\n",
    "\n",
    "def adding_lists(vals, lst=x):\n",
    "    for val in vals:\n",
    "        lst.append(val)\n",
    "    print(f\"lst: {lst}, id(lst): {id(lst)}\")\n",
    "    return lst"
   ]
  },
  {
   "cell_type": "code",
   "execution_count": 157,
   "metadata": {},
   "outputs": [
    {
     "data": {
      "text/plain": [
       "139685831570944"
      ]
     },
     "execution_count": 157,
     "metadata": {},
     "output_type": "execute_result"
    }
   ],
   "source": [
    "id(x)"
   ]
  },
  {
   "cell_type": "code",
   "execution_count": 158,
   "metadata": {},
   "outputs": [
    {
     "name": "stdout",
     "output_type": "stream",
     "text": [
      "lst: [1, 2], id(lst): 139685831570944\n",
      "lst: [1, 2, 1], id(lst): 139685831570944\n"
     ]
    },
    {
     "data": {
      "text/plain": [
       "[1, 2, 1]"
      ]
     },
     "execution_count": 158,
     "metadata": {},
     "output_type": "execute_result"
    }
   ],
   "source": [
    "adding_lists([1, 2])\n",
    "adding_lists([1])"
   ]
  },
  {
   "cell_type": "markdown",
   "metadata": {},
   "source": [
    "it was appending the `x` "
   ]
  },
  {
   "cell_type": "code",
   "execution_count": 159,
   "metadata": {},
   "outputs": [
    {
     "name": "stdout",
     "output_type": "stream",
     "text": [
      "[1, 2, 1]\n"
     ]
    }
   ],
   "source": [
    "print(x)"
   ]
  },
  {
   "cell_type": "code",
   "execution_count": 84,
   "metadata": {},
   "outputs": [
    {
     "name": "stdout",
     "output_type": "stream",
     "text": [
      "lst: [2, 'this is', 'just', 'a', 'test'], id(lst): 139854288899264\n",
      "lst: [33, 12], id(lst): 139854288904896\n"
     ]
    },
    {
     "data": {
      "text/plain": [
       "[33, 12]"
      ]
     },
     "execution_count": 84,
     "metadata": {},
     "output_type": "execute_result"
    }
   ],
   "source": [
    "# When we provide the values and not use default value it works as expected.\n",
    "\n",
    "adding_lists([\"this is\", \"just\", \"a\", \"test\"], [2])\n",
    "adding_lists([12], [33])"
   ]
  },
  {
   "cell_type": "code",
   "execution_count": 1,
   "metadata": {},
   "outputs": [
    {
     "name": "stdout",
     "output_type": "stream",
     "text": [
      "[1] 140416074151616\n",
      "[1, 1] 140416074151616\n"
     ]
    }
   ],
   "source": [
    "# Very Bad Idea, and a good example of issue\n",
    "\n",
    "def test(a=[]):\n",
    "    a.append(1)\n",
    "    print(a, id(a))\n",
    "\n",
    "test()\n",
    "test()"
   ]
  },
  {
   "cell_type": "code",
   "execution_count": 162,
   "metadata": {},
   "outputs": [
    {
     "name": "stdout",
     "output_type": "stream",
     "text": [
      "['this is', 'just', 'a', 'test', 1] 139685833349824\n",
      "[1, 1, 1] 139685833089664\n"
     ]
    }
   ],
   "source": [
    "test([\"this is\", \"just\", \"a\", \"test\"])\n",
    "test()"
   ]
  },
  {
   "cell_type": "markdown",
   "metadata": {},
   "source": [
    "#### Why"
   ]
  },
  {
   "cell_type": "markdown",
   "metadata": {},
   "source": [
    "as `a` got initialized at the time of function `test` declaration, thus any append  to the defaultly defined `a` will point to the same list. "
   ]
  },
  {
   "cell_type": "markdown",
   "metadata": {},
   "source": [
    "#### solution to the problem"
   ]
  },
  {
   "cell_type": "code",
   "execution_count": 3,
   "metadata": {},
   "outputs": [
    {
     "name": "stdout",
     "output_type": "stream",
     "text": [
      "a=[1], id(a)=140416074153856\n",
      "a=[1], id(a)=140416074154112\n",
      "a=[1], id(a)=140416074151616\n",
      "a=[2, 3, 1], id(a)=140416074025024\n"
     ]
    }
   ],
   "source": [
    "# Provide a immutable value as default value and in your \n",
    "# function have a way to update the value to mutable data as \n",
    "# shown in the below example\n",
    "\n",
    "def test(a = None):\n",
    "    a = [] if a == None else a\n",
    "        \n",
    "    a.append(1)\n",
    "    print(f\"{a=}, {id(a)=}\")\n",
    "\n",
    "test()\n",
    "test()\n",
    "test()\n",
    "x = test([2, 3])"
   ]
  },
  {
   "cell_type": "markdown",
   "metadata": {},
   "source": [
    "### returning multiple values"
   ]
  },
  {
   "cell_type": "code",
   "execution_count": 87,
   "metadata": {},
   "outputs": [],
   "source": [
    "def multi_func():\n",
    "    return 10, 20, 30, 40"
   ]
  },
  {
   "cell_type": "code",
   "execution_count": 171,
   "metadata": {},
   "outputs": [
    {
     "name": "stdout",
     "output_type": "stream",
     "text": [
      "10 [20, 30] 40\n",
      "<class 'int'> <class 'list'> <class 'int'>\n"
     ]
    }
   ],
   "source": [
    "# Apart from first and last all the other returned values \n",
    "# will be handled by `b`\n",
    "\n",
    "a, *b, c = multi_func()\n",
    "print(a, b, c)\n",
    "print(type(a), type(b), type(c))"
   ]
  },
  {
   "cell_type": "code",
   "execution_count": 91,
   "metadata": {},
   "outputs": [
    {
     "name": "stdout",
     "output_type": "stream",
     "text": [
      "10 [20, 30, 40]\n"
     ]
    }
   ],
   "source": [
    "# Apart from first all the returned values will \n",
    "# be handled by `b`\n",
    "a, *b = multi_func()\n",
    "print(a, b)"
   ]
  },
  {
   "cell_type": "code",
   "execution_count": 96,
   "metadata": {},
   "outputs": [
    {
     "name": "stdout",
     "output_type": "stream",
     "text": [
      "10 ['test']\n"
     ]
    }
   ],
   "source": [
    "#$ just for fun\n",
    "def mutli_func_with_list():\n",
    "    return 10, \"test\"\n",
    "\n",
    "a, *b = mutli_func_with_list()\n",
    "print(a, b)"
   ]
  },
  {
   "cell_type": "code",
   "execution_count": 97,
   "metadata": {},
   "outputs": [
    {
     "name": "stdout",
     "output_type": "stream",
     "text": [
      "10 [(20, 30, 40)]\n"
     ]
    }
   ],
   "source": [
    "#$ just for fun\n",
    "\n",
    "def mutli_func_with_list():\n",
    "    return 10, (20, 30, 40)\n",
    "\n",
    "a, *b = mutli_func_with_list()\n",
    "print(a, b)"
   ]
  },
  {
   "cell_type": "code",
   "execution_count": 117,
   "metadata": {},
   "outputs": [
    {
     "name": "stdout",
     "output_type": "stream",
     "text": [
      "[10, 20, 30] 40\n"
     ]
    }
   ],
   "source": [
    "# `a` will get all values except last\n",
    "\n",
    "*a, b = multi_func()\n",
    "print(a, b)"
   ]
  },
  {
   "cell_type": "code",
   "execution_count": 118,
   "metadata": {},
   "outputs": [
    {
     "name": "stdout",
     "output_type": "stream",
     "text": [
      "cannot unpack non-iterable int object\n"
     ]
    }
   ],
   "source": [
    "# Gotcha !!!\n",
    "# It needs min of two values to return\n",
    "\n",
    "def func1():\n",
    "    return 1\n",
    "\n",
    "try:\n",
    "    *a, b = func1()\n",
    "    print(a, b)\n",
    "except Exception as e:\n",
    "    print(e)"
   ]
  },
  {
   "cell_type": "code",
   "execution_count": 101,
   "metadata": {},
   "outputs": [
    {
     "name": "stdout",
     "output_type": "stream",
     "text": [
      "cannot unpack non-iterable NoneType object\n"
     ]
    }
   ],
   "source": [
    "# Gotcha !!!\n",
    "def func1():\n",
    "    return None\n",
    "\n",
    "try:\n",
    "    *a, b = func1()\n",
    "    print(a, b)\n",
    "except Exception as e:\n",
    "    print(e)"
   ]
  },
  {
   "cell_type": "code",
   "execution_count": 107,
   "metadata": {},
   "outputs": [
    {
     "name": "stdout",
     "output_type": "stream",
     "text": [
      "cannot unpack non-iterable NoneType object\n"
     ]
    }
   ],
   "source": [
    "# Gotcha !!!\n",
    "def func1():\n",
    "    pass\n",
    "\n",
    "try:\n",
    "    *a, b = func1()\n",
    "    print(a, b)\n",
    "except Exception as e:\n",
    "    print(e)\n",
    "    \n",
    "    "
   ]
  },
  {
   "cell_type": "code",
   "execution_count": 108,
   "metadata": {},
   "outputs": [
    {
     "name": "stdout",
     "output_type": "stream",
     "text": [
      "[] Z\n"
     ]
    }
   ],
   "source": [
    "def func1():\n",
    "    return \"Z\"\n",
    "\n",
    "try:\n",
    "    *a, b = func1()\n",
    "    print(a, b)\n",
    "except Exception as e:\n",
    "    print(e)"
   ]
  },
  {
   "cell_type": "code",
   "execution_count": 119,
   "metadata": {},
   "outputs": [
    {
     "name": "stdout",
     "output_type": "stream",
     "text": [
      "['Z', 'o', 'n'] e\n"
     ]
    }
   ],
   "source": [
    "def func1():\n",
    "    return \"Zone\"\n",
    "\n",
    "try:\n",
    "    *a, b = func1()\n",
    "    print(a, b)\n",
    "except Exception as e:\n",
    "    print(e)"
   ]
  },
  {
   "cell_type": "code",
   "execution_count": 121,
   "metadata": {},
   "outputs": [
    {
     "name": "stdout",
     "output_type": "stream",
     "text": [
      "[1, 2] 3\n"
     ]
    }
   ],
   "source": [
    "def func1():\n",
    "    return [1,2,3]\n",
    "\n",
    "\n",
    "try:\n",
    "    *a, b = func1()\n",
    "    print(a, b)\n",
    "except Exception as e:\n",
    "    print(e)"
   ]
  },
  {
   "cell_type": "code",
   "execution_count": 134,
   "metadata": {},
   "outputs": [
    {
     "name": "stdout",
     "output_type": "stream",
     "text": [
      "[1, 2] 3\n"
     ]
    }
   ],
   "source": [
    "def func1():\n",
    "    return 1, 2, 3\n",
    "\n",
    "\n",
    "try:\n",
    "    *a, b = func1()\n",
    "    print(a, b)\n",
    "except Exception as e:\n",
    "    print(e)"
   ]
  },
  {
   "cell_type": "code",
   "execution_count": 140,
   "metadata": {},
   "outputs": [
    {
     "name": "stdout",
     "output_type": "stream",
     "text": [
      "1 2 3\n"
     ]
    }
   ],
   "source": [
    "lst = [1, 2, 3]\n",
    "\n",
    "print(*lst)\n"
   ]
  },
  {
   "cell_type": "code",
   "execution_count": 139,
   "metadata": {},
   "outputs": [
    {
     "name": "stdout",
     "output_type": "stream",
     "text": [
      "1 2 3\n"
     ]
    }
   ],
   "source": [
    "lst = 1, 2, 3\n",
    "\n",
    "print(*lst)"
   ]
  },
  {
   "cell_type": "markdown",
   "metadata": {},
   "source": [
    "### Using `/` in functions"
   ]
  },
  {
   "cell_type": "markdown",
   "metadata": {},
   "source": [
    "We can use `/` as parameter if we wish to have Positional-only parameters. When we use it, in argument, then all the argument before it becomes positional only argument as shown in the below eample "
   ]
  },
  {
   "cell_type": "code",
   "execution_count": 126,
   "metadata": {},
   "outputs": [],
   "source": [
    "def example_one(a1, a2, /, a3):\n",
    "    print(f\"{a1 = }, {a2 = }, {a3 = }\")"
   ]
  },
  {
   "cell_type": "code",
   "execution_count": 127,
   "metadata": {},
   "outputs": [
    {
     "name": "stdout",
     "output_type": "stream",
     "text": [
      "a1 = 1, a2 = 2, a3 = 4\n",
      "a1 = 1, a2 = 2, a3 = 4\n"
     ]
    }
   ],
   "source": [
    "example_one(1, 2, 4)\n",
    "example_one(1, 2, a3 = 4)"
   ]
  },
  {
   "cell_type": "code",
   "execution_count": 128,
   "metadata": {},
   "outputs": [
    {
     "name": "stdout",
     "output_type": "stream",
     "text": [
      "Error: e = TypeError(\"example_one() got some positional-only arguments passed as keyword arguments: 'a2'\")\n"
     ]
    }
   ],
   "source": [
    "try:\n",
    "    example_one(1, a2 = 2, a3=4)\n",
    "except Exception as e:\n",
    "    print(f\"Error: {e = }\")"
   ]
  },
  {
   "cell_type": "markdown",
   "metadata": {},
   "source": [
    "We can even have both `\\` positional only arguments and `*` keyword only arguements in the same function as shown below"
   ]
  },
  {
   "cell_type": "code",
   "execution_count": 129,
   "metadata": {},
   "outputs": [],
   "source": [
    "def joined_one(a1, a2, /, a3, *, a4):\n",
    "    print(f\"{a1 = }, {a2 = }, {a3 = }, {a4 = }\")"
   ]
  },
  {
   "cell_type": "code",
   "execution_count": 131,
   "metadata": {},
   "outputs": [
    {
     "name": "stdout",
     "output_type": "stream",
     "text": [
      "a1 = 1, a2 = 2, a3 = 3, a4 = 4\n"
     ]
    }
   ],
   "source": [
    "joined_one(1, 2, 3, a4=4)"
   ]
  },
  {
   "cell_type": "code",
   "execution_count": 132,
   "metadata": {},
   "outputs": [
    {
     "name": "stdout",
     "output_type": "stream",
     "text": [
      "a1 = 1, a2 = 2, a3 = 3, a4 = 4\n"
     ]
    }
   ],
   "source": [
    "joined_one(1, 2, a3=3, a4=4)"
   ]
  },
  {
   "cell_type": "code",
   "execution_count": 133,
   "metadata": {},
   "outputs": [
    {
     "name": "stdout",
     "output_type": "stream",
     "text": [
      "Error: e = TypeError(\"example_one() got some positional-only arguments passed as keyword arguments: 'a2'\")\n"
     ]
    }
   ],
   "source": [
    "try:\n",
    "    example_one(1, a2 = 2, a3=4, a4=4)\n",
    "except Exception as e:\n",
    "    print(f\"Error: {e = }\")"
   ]
  },
  {
   "cell_type": "markdown",
   "metadata": {},
   "source": [
    "#### guidance"
   ]
  },
  {
   "cell_type": "markdown",
   "metadata": {},
   "source": [
    "[https://docs.python.org/3.8/whatsnew/3.8.html#positional-only-parameters]\n",
    "\n",
    "- Use positional-only if you want the name of the parameters to not be available to the user. This is useful when parameter names have no real meaning, if you want to enforce the order of the arguments when the function is called or if you need to take some positional parameters and arbitrary keywords.\n",
    "\n",
    "- Use keyword-only when names have meaning and the function definition is more understandable by being explicit with names or you want to prevent users relying on the position of the argument being passed.\n",
    "\n",
    "- For an API, use positional-only to prevent breaking API changes if the parameter’s name is modified in the future.\n"
   ]
  }
 ],
 "metadata": {
  "kernelspec": {
   "display_name": "Python 3 (ipykernel)",
   "language": "python",
   "name": "python3"
  },
  "language_info": {
   "codemirror_mode": {
    "name": "ipython",
    "version": 3
   },
   "file_extension": ".py",
   "mimetype": "text/x-python",
   "name": "python",
   "nbconvert_exporter": "python",
   "pygments_lexer": "ipython3",
   "version": "3.11.0b1"
  }
 },
 "nbformat": 4,
 "nbformat_minor": 1
}
