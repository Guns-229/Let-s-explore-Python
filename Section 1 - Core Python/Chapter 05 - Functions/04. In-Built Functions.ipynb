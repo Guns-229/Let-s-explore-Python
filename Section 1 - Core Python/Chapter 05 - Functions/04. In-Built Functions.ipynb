{
 "cells": [
  {
   "cell_type": "markdown",
   "id": "df950d18",
   "metadata": {},
   "source": [
    "## In-Built Functions"
   ]
  },
  {
   "cell_type": "markdown",
   "id": "933e72c6",
   "metadata": {},
   "source": [
    "Python provides multile "
   ]
  },
  {
   "cell_type": "markdown",
   "id": "5f7f142c",
   "metadata": {},
   "source": [
    "|  |  |  |  |  |\n",
    "| ------- | ----------- | -------- | -------------- | ------- |\n",
    "| `abs()` | `delattr()` | `hash()` | `memoryview()` | `set()` |\n",
    "| `all()` | `dict()` | `help()` | `min()`| `setattr()` |\n",
    "| `any()` | `dir()` | `hex()`| `next()`| `slice()` |\n",
    "| `ascii()` | `divmod()` | `id()` | `object()` | `sorted()` |\n",
    "| `bin()` | `enumerate()` | `input()` | `oct()` | `staticmethod()` |\n",
    "| `bool()` | `eval()` | `int()` | `open()` | `str()` |\n",
    "| `breakpoint()` | `exec()` | `isinstance()` | `ord()` | `sum()` |\n",
    "| `bytearray()` | `filter()` | `issubclass()`| `pow()` | `super()` |\n",
    "| `bytes()` | `float()` | `iter()` | `print()`| `tuple()` |\n",
    "| `callable()` | `format()` | `len()`| `property()` | `type()` |\n",
    "| `chr()` | `frozenset()` | `list()` | `range()` | `vars()` |\n",
    "| `classmethod()` | `getattr()` | `locals()` | `repr()` | `zip()` |\n",
    "| `compile()` | `globals()` | `map()`| `reversed()` | `__import__()` |\n",
    "| `complex()` | `hasattr()` | `max()` | `round()` |     |\n"
   ]
  }
 ],
 "metadata": {
  "kernelspec": {
   "display_name": "Python 3 (ipykernel)",
   "language": "python",
   "name": "python3"
  },
  "language_info": {
   "codemirror_mode": {
    "name": "ipython",
    "version": 3
   },
   "file_extension": ".py",
   "mimetype": "text/x-python",
   "name": "python",
   "nbconvert_exporter": "python",
   "pygments_lexer": "ipython3",
   "version": "3.10.2"
  }
 },
 "nbformat": 4,
 "nbformat_minor": 5
}
