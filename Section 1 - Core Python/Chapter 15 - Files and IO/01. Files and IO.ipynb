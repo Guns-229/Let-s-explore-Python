{
 "cells": [
  {
   "cell_type": "markdown",
   "metadata": {},
   "source": [
    "# Files and I/O"
   ]
  },
  {
   "cell_type": "markdown",
   "metadata": {},
   "source": [
    "## Files"
   ]
  },
  {
   "cell_type": "markdown",
   "metadata": {},
   "source": [
    "Python provides many modules to handle files, depending upon it's property. We are going to cover few of them in this section. \n"
   ]
  },
  {
   "cell_type": "code",
   "execution_count": 1,
   "metadata": {},
   "outputs": [
    {
     "name": "stdout",
     "output_type": "stream",
     "text": [
      "x = 000\n",
      "x = 001\n",
      "x = 002\n",
      "x = 003\n",
      "x = 004\n",
      "x = 005\n",
      "x = 006\n"
     ]
    }
   ],
   "source": [
    "# The old way .... \n",
    "# The C, C++ etc way\n",
    "# Please do not use it in Production code.\n",
    "\n",
    "import sys\n",
    "\n",
    "# Create an object of type file\n",
    "# 'r' -> Read Mode\n",
    "# 'w' -> Write Mode\n",
    "# 'a' -> Append Mode\n",
    "\n",
    "temp = open('temp.txt', 'w')\n",
    "\n",
    "# Write output\n",
    "for i in range(7):\n",
    "    temp.write('%03d\\n' % i)\n",
    "\n",
    "temp.close()\n",
    "\n",
    "# default mode is read only. \n",
    "temp = open('temp.txt')\n",
    "# temp1 opening in write mode \n",
    "temp1 = open('temp1.txt', \"w\")\n",
    "\n",
    "# Write in terminal\n",
    "# Reading a line at a time from temp.txt file\n",
    "# and writing it in temp1.txt file\n",
    "for x in temp:\n",
    "    print(\"x = {x}\".format(x=x), end=\"\")\n",
    "    temp1.write(x)\n",
    "\n",
    "temp.close()\n",
    "temp1.close()"
   ]
  },
  {
   "cell_type": "code",
   "execution_count": 2,
   "metadata": {},
   "outputs": [
    {
     "name": "stdout",
     "output_type": "stream",
     "text": [
      "0000, 0001, 0002, 0003, 0004, \b\b\n"
     ]
    }
   ],
   "source": [
    "# New Way, The Python way\n",
    "# Using context manager `with`\n",
    "\n",
    "# Create an object of type file\n",
    "# equivalent: temp = open(...)\n",
    "with open('temp.txt', 'w') as temp:\n",
    "    # Write output\n",
    "    for i in range(5):\n",
    "        temp.write('%04d\\n' % i)\n",
    "\n",
    "with open('temp.txt') as temp:\n",
    "    # lets read the file\n",
    "    for x in temp:\n",
    "        x = x.strip()   # Stripping the newline at the end of the string\n",
    "        print(x, end=\", \")  # Write in terminal\n",
    "print(\"\\b\\b\")"
   ]
  },
  {
   "cell_type": "code",
   "execution_count": 6,
   "metadata": {},
   "outputs": [],
   "source": [
    "# replace content of the file without temp file. \n",
    "# on the fly content changes\n",
    "# NEVER EVER DO THIS\n",
    "txt = []\n",
    "temp = open('temp.txt', 'r')\n",
    "for t in temp.readlines():\n",
    "#     print(\"d\")\n",
    "    txt.append(t.replace('0','11'))\n",
    "\n",
    "temp.close()\n",
    "with open('temp.txt', 'w') as tfile:\n",
    "    tfile.writelines(txt)"
   ]
  },
  {
   "cell_type": "code",
   "execution_count": 5,
   "metadata": {},
   "outputs": [],
   "source": [
    "# copying content from temp.txt to temp2.txt,\n",
    "# Bad for large files \n",
    "\n",
    "with open('temp.txt', 'r') as temp:\n",
    "    with open('temp2.txt', 'w') as tfile:\n",
    "        tfile.writelines(temp.readlines())"
   ]
  },
  {
   "cell_type": "code",
   "execution_count": 7,
   "metadata": {},
   "outputs": [
    {
     "name": "stdout",
     "output_type": "stream",
     "text": [
      "0000\n",
      "0001\n",
      "0002\n",
      "0003\n",
      "0004\n"
     ]
    }
   ],
   "source": [
    "# copying content from temp.txt to temp2.txt,\n",
    "# Dont try on big files\n",
    "\n",
    "with open('temp.txt') as temp:\n",
    "    with open('temp3.txt', 'w') as tfile:\n",
    "        for content in temp.readlines():\n",
    "            print(content, end=\"\")\n",
    "            tfile.write(content)"
   ]
  },
  {
   "cell_type": "markdown",
   "metadata": {},
   "source": [
    "We can club both the context managers `with` as shown in the below example"
   ]
  },
  {
   "cell_type": "code",
   "execution_count": 8,
   "metadata": {},
   "outputs": [
    {
     "name": "stdout",
     "output_type": "stream",
     "text": [
      "0000\n",
      "0001\n",
      "0002\n",
      "0003\n",
      "0004\n"
     ]
    }
   ],
   "source": [
    "# copying content from temp.txt to temp2.txt\n",
    "# Dont try on big files \n",
    "\n",
    "with open('temp.txt') as temp, \\\n",
    "     open('temp4.txt', 'w')  as tfile:\n",
    "    for content in temp.readlines():\n",
    "        print(content, end=\"\")\n",
    "        tfile.write(content)"
   ]
  },
  {
   "cell_type": "markdown",
   "metadata": {},
   "source": [
    "If we have to copy only few top lines from file, than something similar to below example can be used. In it we are using optional parameter `size` to tell how much data needs to be copied. \n",
    "\n",
    "> Note\n",
    "> <hr>\n",
    "> If `size` is provided, then it will be increased to accomodate full line as shown in below example."
   ]
  },
  {
   "cell_type": "code",
   "execution_count": 9,
   "metadata": {},
   "outputs": [
    {
     "name": "stdout",
     "output_type": "stream",
     "text": [
      "content='0000\\n'content='0001\\n'"
     ]
    }
   ],
   "source": [
    "with open('temp.txt') as temp, open('temp4.txt', 'w')  as tfile:\n",
    "    for content in temp.readlines(8):\n",
    "        print(f\"{content=}\", end=\"\")\n",
    "        tfile.write(content)"
   ]
  },
  {
   "cell_type": "markdown",
   "metadata": {},
   "source": [
    "We have returned 12 charactes instead of 10,"
   ]
  },
  {
   "cell_type": "code",
   "execution_count": 3,
   "metadata": {},
   "outputs": [
    {
     "name": "stdout",
     "output_type": "stream",
     "text": [
      "~~~~~~~~~~~~~~~~~~~~ size is: 8\n",
      "0000\n",
      "0001\n",
      "~~~~~~~~~~~~~~~~~~~~ size is: 9\n",
      "0000\n",
      "0001\n",
      "~~~~~~~~~~~~~~~~~~~~ size is: 10\n",
      "0000\n",
      "0001\n",
      "0002\n",
      "~~~~~~~~~~~~~~~~~~~~ size is: 11\n",
      "0000\n",
      "0001\n",
      "0002\n",
      "~~~~~~~~~~~~~~~~~~~~ size is: 12\n",
      "0000\n",
      "0001\n",
      "0002\n"
     ]
    }
   ],
   "source": [
    "for s in range(8, 13):\n",
    "    print(\"~\" * 20, \"size is:\", s)\n",
    "    with open('temp.txt') as temp, \\\n",
    "         open('temp4.txt', 'w')  as tfile:\n",
    "        for content in temp.readlines(s):\n",
    "            print(content, end=\"\")\n",
    "            tfile.write(content)"
   ]
  },
  {
   "cell_type": "markdown",
   "metadata": {},
   "source": [
    "We should not use `readlines` when processing large files, but code similar to below."
   ]
  },
  {
   "cell_type": "code",
   "execution_count": 9,
   "metadata": {},
   "outputs": [
    {
     "name": "stdout",
     "output_type": "stream",
     "text": [
      "111111\n",
      "11111\n",
      "11112\n",
      "11113\n",
      "11114\n"
     ]
    }
   ],
   "source": [
    "import os \n",
    "os.remove('temp4.txt')\n",
    "\n",
    "with open('temp.txt') as temp, open('temp4.txt', 'w')  as tfile:\n",
    "    for content in temp:\n",
    "        print(content, end=\"\")\n",
    "        tfile.writelines(content)"
   ]
  },
  {
   "cell_type": "code",
   "execution_count": 4,
   "metadata": {},
   "outputs": [
    {
     "name": "stdout",
     "output_type": "stream",
     "text": [
      "['0000\\n', '0001\\n', '0002\\n']\n"
     ]
    }
   ],
   "source": [
    "# Prints a list with all the lines from a file\n",
    "print (open('temp4.txt').readlines())"
   ]
  },
  {
   "cell_type": "code",
   "execution_count": 8,
   "metadata": {},
   "outputs": [
    {
     "name": "stdout",
     "output_type": "stream",
     "text": [
      "1 0000\n",
      "2 0001\n",
      "3 0002\n",
      "4 0003\n",
      "5 0004\n"
     ]
    }
   ],
   "source": [
    "import sys\n",
    "import os.path\n",
    "\n",
    "fn = 'temp.txt'\n",
    "\n",
    "if os.path.exists(fn):\n",
    "    # Numbering lines\n",
    "    for i, s in enumerate(open(fn), start=1):\n",
    "        print (i, s, end=\"\")\n",
    "else:\n",
    "    print(\"Sorry, I was not able to locate the file.\")"
   ]
  },
  {
   "cell_type": "markdown",
   "metadata": {},
   "source": [
    "It is possible to read all the lines with the method `readlines()`:"
   ]
  },
  {
   "cell_type": "code",
   "execution_count": 11,
   "metadata": {},
   "outputs": [
    {
     "name": "stdout",
     "output_type": "stream",
     "text": [
      "5\n",
      "25\n"
     ]
    }
   ],
   "source": [
    "print(len(open('temp.txt').readlines())) # 20\n",
    "print(len(open('temp.txt').read())) # 4x20"
   ]
  },
  {
   "cell_type": "markdown",
   "metadata": {},
   "source": [
    "File Systems\n",
    "-------------------\n",
    "Modern operating systems store files in hierarchical structures called *file systems*.\n",
    "\n",
    "Several features related to file systems are implemented in the module *os.path*, such as: \n",
    "\n",
    "+ `os.path.basename()`: returns the final component of a path.\n",
    "+ `os.path.dirname()`: returns a path without the final component.\n",
    "+ `os.path.exists()`: returns *True* if the path exists or *False* otherwise.\n",
    "+ `os.path.getsize()`: returns the size of the file in *bytes*.\n",
    "- `os.path.join()`: joins the files, directory\n",
    "\n",
    "*glob* is another module related to the file system:"
   ]
  },
  {
   "cell_type": "code",
   "execution_count": 5,
   "metadata": {
    "scrolled": false
   },
   "outputs": [
    {
     "name": "stdout",
     "output_type": "stream",
     "text": [
      "/home/mayank/apps/appvhelper/conf/myprogram.conf\n"
     ]
    }
   ],
   "source": [
    "# Bad code example\n",
    "\n",
    "import os.path \n",
    "\n",
    "a = r\"/home/mayank/apps/appvhelper\"\n",
    "b = r\"conf/myprogram.conf\"\n",
    "c = os.path.join(a, b)\n",
    "print(c)"
   ]
  },
  {
   "cell_type": "markdown",
   "metadata": {},
   "source": [
    "Based on the OS the \"\\\\\" or \"/\" is used to join the directories."
   ]
  },
  {
   "cell_type": "code",
   "execution_count": 13,
   "metadata": {},
   "outputs": [
    {
     "name": "stdout",
     "output_type": "stream",
     "text": [
      "/home/mayank/apps/ls/warzone/user.conf\n",
      "C:\\Users\\God\\mayaappvhelper\\conf/user.conf\n"
     ]
    }
   ],
   "source": [
    "# Gotcha's\n",
    "import os.path \n",
    "\n",
    "conf_files = [r\"/home/mayank/apps/ls/warzone\",\n",
    "              r\"C:\\Users\\God\\mayaappvhelper\\conf\"\n",
    "             ]\n",
    "file_name = \"user.conf\"\n",
    "for conf in conf_files:\n",
    "    print(os.path.join(conf, file_name))"
   ]
  },
  {
   "cell_type": "code",
   "execution_count": 11,
   "metadata": {},
   "outputs": [
    {
     "name": "stdout",
     "output_type": "stream",
     "text": [
      "/home/user/database/db.sqlite\n"
     ]
    }
   ],
   "source": [
    "# Better code.\n",
    "# For *inx and macOS\n",
    "\n",
    "db_file = os.path.join(\"/\", \"home\", \"user\",\"database\", \"db.sqlite\")\n",
    "print(db_file)"
   ]
  },
  {
   "cell_type": "markdown",
   "metadata": {},
   "source": [
    "\n"
   ]
  },
  {
   "cell_type": "code",
   "execution_count": 10,
   "metadata": {},
   "outputs": [
    {
     "name": "stdout",
     "output_type": "stream",
     "text": [
      "c:/home/user/database/db.sqlite\n"
     ]
    }
   ],
   "source": [
    "# For ReactOS or Windows\n",
    "\n",
    "db_file = os.path.join(\"c:\", \"home\", \"user\",\"database\",\"db.sqlite\")\n",
    "print(db_file)"
   ]
  },
  {
   "cell_type": "code",
   "execution_count": 18,
   "metadata": {},
   "outputs": [
    {
     "name": "stdout",
     "output_type": "stream",
     "text": [
      "/home/user/database/db.sqlite\n"
     ]
    }
   ],
   "source": [
    "base_folder = \"/\"\n",
    "# base_folder = \"c:\\\\\"\n",
    "\n",
    "db_file = os.path.join(base_folder, \"home\", \"user\",\"database\",\"db.sqlite\")\n",
    "print(db_file)"
   ]
  },
  {
   "cell_type": "code",
   "execution_count": 19,
   "metadata": {},
   "outputs": [
    {
     "name": "stdout",
     "output_type": "stream",
     "text": [
      "('/home/mayank/apps/ls/warzone', 'myprogram.conf')\n",
      "('', 'C:\\\\Users\\\\God\\\\mayaappvhelper\\\\conf\\\\user.conf')\n"
     ]
    }
   ],
   "source": [
    "# Gotcha's\n",
    "import os.path \n",
    "\n",
    "conf_files = [r\"/home/mayank/apps/ls/warzone/myprogram.conf\",\n",
    "              r\"C:\\Users\\God\\mayaappvhelper\\conf\\user.conf\"\n",
    "             ]\n",
    "\n",
    "for conf in conf_files:\n",
    "    print(os.path.split(conf))"
   ]
  },
  {
   "cell_type": "markdown",
   "metadata": {},
   "source": [
    "Since the above code was exected on \"Linux\", thus the second conf_file was not properly split. we might use `ntpath` instead as shown below to forcefully use windows specific changes. "
   ]
  },
  {
   "cell_type": "code",
   "execution_count": 12,
   "metadata": {},
   "outputs": [
    {
     "name": "stdout",
     "output_type": "stream",
     "text": [
      "('C:\\\\Users\\\\God\\\\mayaappvhelper\\\\conf', 'user.conf')\n"
     ]
    }
   ],
   "source": [
    "# Forcing to use Windows File seperators.\n",
    "\n",
    "import ntpath\n",
    "\n",
    "cp = r\"C:\\Users\\God\\mayaappvhelper\\conf\\user.conf\"\n",
    "print(ntpath.split(cp))"
   ]
  },
  {
   "cell_type": "code",
   "execution_count": 13,
   "metadata": {},
   "outputs": [
    {
     "name": "stdout",
     "output_type": "stream",
     "text": [
      "c:appfolder\\config\\database\\db.sqlite\n"
     ]
    }
   ],
   "source": [
    "# The seperator is not added to drive letter\n",
    "\n",
    "db_file = ntpath.join(\"c:\", \"appfolder\", \"config\",\"database\",\"db.sqlite\")\n",
    "print(db_file)"
   ]
  },
  {
   "cell_type": "code",
   "execution_count": 14,
   "metadata": {},
   "outputs": [
    {
     "name": "stdout",
     "output_type": "stream",
     "text": [
      "c:\\appfolder\\config\\database\\db.sqlite\n"
     ]
    }
   ],
   "source": [
    "db_file = ntpath.join(\"c:\\\\\", \"appfolder\", \"config\",\"database\",\"db.sqlite\")\n",
    "print(db_file)"
   ]
  },
  {
   "cell_type": "code",
   "execution_count": 17,
   "metadata": {},
   "outputs": [
    {
     "name": "stdout",
     "output_type": "stream",
     "text": [
      "home/mayank/app/myprogram.conf\n",
      "C:/Users/God/user.conf\n"
     ]
    }
   ],
   "source": [
    "# A better approch\n",
    "import os.path \n",
    "\n",
    "conf_files = [\n",
    "    (\"home\", \"mayank\", \"app\", \"myprogram.conf\"),\n",
    "    (\"C:\", \"Users\", \"God\", \"user.conf\")\n",
    "]\n",
    "\n",
    "for conf in conf_files:\n",
    "    print(os.path.join(*conf))"
   ]
  },
  {
   "cell_type": "code",
   "execution_count": 18,
   "metadata": {},
   "outputs": [
    {
     "name": "stdout",
     "output_type": "stream",
     "text": [
      "('', '')\n"
     ]
    }
   ],
   "source": [
    "conf_file = \"appfolder\\config\\database\\db.sqlite\"\n",
    "print(os.path.split(os.path.split(conf_file)[0]))"
   ]
  },
  {
   "cell_type": "code",
   "execution_count": 19,
   "metadata": {},
   "outputs": [
    {
     "name": "stdout",
     "output_type": "stream",
     "text": [
      "('', 'appfolder\\\\config\\\\database\\\\db.sqlite')\n"
     ]
    }
   ],
   "source": [
    "print(os.path.split(conf_file))"
   ]
  },
  {
   "cell_type": "code",
   "execution_count": 30,
   "metadata": {},
   "outputs": [
    {
     "name": "stdout",
     "output_type": "stream",
     "text": [
      "('appfolder\\\\config\\\\database\\\\db', '.sqlite')\n"
     ]
    }
   ],
   "source": [
    "print(os.path.splitext(conf_file))"
   ]
  },
  {
   "cell_type": "code",
   "execution_count": 21,
   "metadata": {},
   "outputs": [
    {
     "name": "stdout",
     "output_type": "stream",
     "text": [
      "appfolder\\config\\database\\db.json\n"
     ]
    }
   ],
   "source": [
    "print(os.path.splitext(conf_file)[0] + \".json\")"
   ]
  },
  {
   "cell_type": "markdown",
   "metadata": {},
   "source": [
    "Please, dont use splitext to find the file ext, you can use the following code."
   ]
  },
  {
   "cell_type": "code",
   "execution_count": 23,
   "metadata": {},
   "outputs": [
    {
     "name": "stdout",
     "output_type": "stream",
     "text": [
      "False\n"
     ]
    }
   ],
   "source": [
    "print(os.path.splitext(conf_file)[1].endswith(\".conf\"))"
   ]
  },
  {
   "cell_type": "code",
   "execution_count": 22,
   "metadata": {},
   "outputs": [
    {
     "name": "stdout",
     "output_type": "stream",
     "text": [
      "False\n"
     ]
    }
   ],
   "source": [
    "print(os.path.splitext(conf_file)[1].endswith(\".json\"))"
   ]
  },
  {
   "cell_type": "code",
   "execution_count": 24,
   "metadata": {},
   "outputs": [
    {
     "name": "stdout",
     "output_type": "stream",
     "text": [
      "False\n"
     ]
    }
   ],
   "source": [
    "print(conf_file.endswith(\".conf\"))"
   ]
  },
  {
   "cell_type": "code",
   "execution_count": 25,
   "metadata": {},
   "outputs": [
    {
     "name": "stdout",
     "output_type": "stream",
     "text": [
      "('', 'C:\\\\apps\\\\MLCA\\test.txt')\n"
     ]
    }
   ],
   "source": [
    "conf_file_win = \"C:\\\\apps\\MLCA\\test.txt\"\n",
    "print(os.path.splitdrive(conf_file_win))"
   ]
  },
  {
   "cell_type": "markdown",
   "metadata": {},
   "source": [
    "> **NOTE**:\n",
    "> \n",
    "> splitdrive, is good for windows based os only as other OSes dont have drivers. "
   ]
  },
  {
   "cell_type": "code",
   "execution_count": 27,
   "metadata": {
    "scrolled": true
   },
   "outputs": [
    {
     "name": "stdout",
     "output_type": "stream",
     "text": [
      "('C:', '\\\\windows\\\\system32\\reg.exe')\n"
     ]
    }
   ],
   "source": [
    "conf_file = \"C:\\\\windows\\system32\\reg.exe\"\n",
    "print(ntpath.splitdrive(conf_file))"
   ]
  },
  {
   "cell_type": "code",
   "execution_count": 29,
   "metadata": {},
   "outputs": [
    {
     "name": "stdout",
     "output_type": "stream",
     "text": [
      "arq='01. Files and IO.ipynb', os.path.getsize(arq)=34150\n",
      "arq='01. Files and IO.md', os.path.getsize(arq)=17067\n",
      "arq='dummy.txt', os.path.getsize(arq)=0\n",
      "arq='eggs.csv', os.path.getsize(arq)=81\n",
      "arq='list.csv', os.path.getsize(arq)=33\n",
      "arq='march18_myspeed.csv', os.path.getsize(arq)=48115174\n",
      "arq='new_zip.zip', os.path.getsize(arq)=625\n",
      "arq='temp.txt', os.path.getsize(arq)=25\n",
      "arq='temp1.txt', os.path.getsize(arq)=28\n",
      "arq='temp2.txt', os.path.getsize(arq)=25\n",
      "arq='temp3.txt', os.path.getsize(arq)=25\n",
      "arq='temp4.txt', os.path.getsize(arq)=15\n"
     ]
    }
   ],
   "source": [
    "import os.path\n",
    "import glob\n",
    "\n",
    "# Shows a list of file names\n",
    "# and their respective sizes \n",
    "for arq in sorted(glob.glob('*.*')):\n",
    "    print (f\"{arq=}, {os.path.getsize(arq)=}\")"
   ]
  },
  {
   "cell_type": "markdown",
   "metadata": {},
   "source": [
    "The *glob.glob()* function returns a list of filenames that meet the criteria passed as a parameter in a similar way to the `ls` command available on UNIX systems.\n",
    "\n",
    "Temporary files\n",
    "--------------------\n",
    "The module *os* implements some functions to facilitate the creation of temporary files, freeing the developer from some concerns, such as:\n",
    "\n",
    "+ Avoiding collisions with names of files that are in use.\n",
    "+ Identifying the appropriate area of the file system for temporary files (which varies by operating system).\n",
    "+ Not exposing the implementation risks (temporary area is used by other processes).\n",
    "\n",
    "Example:"
   ]
  },
  {
   "cell_type": "code",
   "execution_count": 42,
   "metadata": {},
   "outputs": [
    {
     "data": {
      "text/plain": [
       "b'Hello world!'"
      ]
     },
     "execution_count": 42,
     "metadata": {},
     "output_type": "execute_result"
    }
   ],
   "source": [
    "import tempfile\n",
    "\n",
    "# create a temporary file and write some data to it\n",
    "fp = tempfile.TemporaryFile()\n",
    "fp.write(b'Hello world!')\n",
    "# read data from file\n",
    "fp.seek(0)\n",
    "fp.read()"
   ]
  },
  {
   "cell_type": "code",
   "execution_count": 43,
   "metadata": {},
   "outputs": [
    {
     "name": "stdout",
     "output_type": "stream",
     "text": [
      "57\n"
     ]
    }
   ],
   "source": [
    "print(fp.name)"
   ]
  },
  {
   "cell_type": "code",
   "execution_count": 45,
   "metadata": {},
   "outputs": [],
   "source": [
    "# close the file, it will be removed, but if you forget to \n",
    "# Close then python might not remove the temp file. \n",
    "# In *nix, the file is not created at all.\n",
    "\n",
    "fp.close()"
   ]
  },
  {
   "cell_type": "code",
   "execution_count": 44,
   "metadata": {},
   "outputs": [
    {
     "name": "stdout",
     "output_type": "stream",
     "text": [
      "58\n",
      "b'Hello world!'\n"
     ]
    }
   ],
   "source": [
    "# create a temporary file using a context manager\n",
    "with tempfile.TemporaryFile() as fp:\n",
    "    print(fp.name)\n",
    "    fp.write(b'Hello world!')\n",
    "    fp.seek(0)\n",
    "    print(fp.read())\n",
    "\n",
    "# file is now closed and removed"
   ]
  },
  {
   "cell_type": "code",
   "execution_count": 47,
   "metadata": {},
   "outputs": [
    {
     "name": "stdout",
     "output_type": "stream",
     "text": [
      "created temporary directory /tmp/tmplye352nd\n",
      "/tmp/tmplye352nd/myfile.txt\n",
      "timeout, delete the temp folder along with files\n"
     ]
    }
   ],
   "source": [
    "# create a temporary directory using the context manager\n",
    "with tempfile.TemporaryDirectory() as tmpdirname:\n",
    "    print('created temporary directory', tmpdirname)\n",
    "    file_name = os.path.join(tmpdirname, \"myfile.txt\")\n",
    "    print(file_name)\n",
    "    with open(file_name, \"w\") as fp:\n",
    "        fp.write(\"Hello world\")\n",
    "    from time import sleep\n",
    "    sleep(20)\n",
    "    print(\"timeout, delete the temp folder along with files\")\n",
    "    \n",
    "# directory and contents have been removed"
   ]
  },
  {
   "cell_type": "code",
   "execution_count": 50,
   "metadata": {},
   "outputs": [
    {
     "name": "stdout",
     "output_type": "stream",
     "text": [
      "created temporary directory /tmp/tmppzpipi7h\n",
      "/tmp/tmppzpipi7h/myfile.txt\n",
      "Error: dummy Exception\n"
     ]
    }
   ],
   "source": [
    "from time import sleep\n",
    "    \n",
    "try:\n",
    "    with tempfile.TemporaryDirectory() as tmpdirname:\n",
    "        print('created temporary directory', tmpdirname)\n",
    "        file_name = os.path.join(tmpdirname, \"myfile.txt\")\n",
    "        print(file_name)\n",
    "        with open(file_name, \"w\") as fp:\n",
    "            fp.write(\"Hello world\")\n",
    "        sleep(20)\n",
    "        raise Exception(\"dummy Exception\")\n",
    "        print(\"This should never ever get executed.\")\n",
    "        sleep(20)\n",
    "        print(\"timeout \")\n",
    "except Exception as e:\n",
    "    print(\"Error:\", e)"
   ]
  },
  {
   "cell_type": "markdown",
   "metadata": {},
   "source": [
    "The objects of type file also have the method `seek()`, which allow going to any position in the file."
   ]
  },
  {
   "cell_type": "markdown",
   "metadata": {},
   "source": [
    "There is also the `tempnam()` function, which returns a valid name for temporary file, including a path that respects the conventions of the operating system. However, it is up to the developer to ensure that the routine is used so as not to compromise the security of the application."
   ]
  },
  {
   "cell_type": "code",
   "execution_count": 52,
   "metadata": {},
   "outputs": [
    {
     "ename": "AttributeError",
     "evalue": "module 'tempfile' has no attribute 'tempname'",
     "output_type": "error",
     "traceback": [
      "\u001b[0;31m---------------------------------------------------------------------------\u001b[0m",
      "\u001b[0;31mAttributeError\u001b[0m                            Traceback (most recent call last)",
      "Input \u001b[0;32mIn [52]\u001b[0m, in \u001b[0;36m<cell line: 1>\u001b[0;34m()\u001b[0m\n\u001b[0;32m----> 1\u001b[0m \u001b[38;5;28mprint\u001b[39m(\u001b[43mtempfile\u001b[49m\u001b[38;5;241;43m.\u001b[39;49m\u001b[43mtempname\u001b[49m())\n",
      "\u001b[0;31mAttributeError\u001b[0m: module 'tempfile' has no attribute 'tempname'"
     ]
    }
   ],
   "source": [
    "print(tempfile.tempname())"
   ]
  },
  {
   "cell_type": "markdown",
   "metadata": {},
   "source": [
    "## Compressed files"
   ]
  },
  {
   "cell_type": "markdown",
   "metadata": {},
   "source": [
    "Python has modules to work with multiple formats of compressed files.\n",
    "\n",
    "Example of writing a \".zip\" file:"
   ]
  },
  {
   "cell_type": "code",
   "execution_count": 54,
   "metadata": {},
   "outputs": [],
   "source": [
    "\"\"\"\n",
    "Writing text in a compressed file\n",
    "There is always a better way and this it is not.\n",
    "\"\"\"\n",
    "\n",
    "import zipfile\n",
    "\n",
    "text = \"\"\"\n",
    "**************************************\n",
    "This text will be compressed and ...\n",
    "... stored inside a zip file.\n",
    "***************************************\n",
    "\"\"\"\n",
    "\n",
    "# Creates a new zip\n",
    "zip = zipfile.ZipFile('new_zip.zip', 'w',\n",
    "    zipfile.ZIP_DEFLATED)\n",
    "\n",
    "# Writes a string in zip as if it were a file\n",
    "zip.writestr('text.txt', text)\n",
    "zip.writestr('text1.txt', text)\n",
    "zip.writestr('text2.txt', text)\n",
    "# closes the zip\n",
    "zip.close()"
   ]
  },
  {
   "cell_type": "code",
   "execution_count": 55,
   "metadata": {},
   "outputs": [],
   "source": [
    "\"\"\"\n",
    "Writing text in a compressed file\n",
    "\"\"\"\n",
    "\n",
    "import zipfile\n",
    "\n",
    "text = \"\"\"\n",
    "**************************************\n",
    "This text will be compressed and ...\n",
    "... stored inside a zip file using \n",
    "... Context Manager on Zipfile module .\n",
    "***************************************\n",
    "\"\"\"\n",
    "\n",
    "# Writes a string in zip as if it were a file\n",
    "with zipfile.ZipFile('new_zip.zip', 'w', \n",
    "                     zipfile.ZIP_DEFLATED) as zipfile:\n",
    "    zipfile.writestr('text11.txt', text)\n",
    "    zipfile.writestr('text12.txt', text)\n",
    "    zipfile.writestr('text23.txt', text)"
   ]
  },
  {
   "cell_type": "markdown",
   "metadata": {},
   "source": [
    "**Reading example:**"
   ]
  },
  {
   "cell_type": "code",
   "execution_count": 58,
   "metadata": {},
   "outputs": [
    {
     "name": "stdout",
     "output_type": "stream",
     "text": [
      "Files:  ['text11.txt', 'text12.txt', 'text23.txt']\n",
      "File: text11.txt\n",
      "Original size: 193\n",
      "Compressed size: 105\n",
      "b'\\n**************************************\\nThis text will be compressed and ...\\n... stored inside a zip file using \\n... Context Manager on Zipfile module .\\n***************************************\\n'\n",
      "File: text12.txt\n",
      "Original size: 193\n",
      "Compressed size: 105\n",
      "b'\\n**************************************\\nThis text will be compressed and ...\\n... stored inside a zip file using \\n... Context Manager on Zipfile module .\\n***************************************\\n'\n",
      "File: text23.txt\n",
      "Original size: 193\n",
      "Compressed size: 105\n",
      "b'\\n**************************************\\nThis text will be compressed and ...\\n... stored inside a zip file using \\n... Context Manager on Zipfile module .\\n***************************************\\n'\n"
     ]
    }
   ],
   "source": [
    "\"\"\"\n",
    "Reading a compressed file\n",
    "\"\"\"\n",
    "import zipfile\n",
    "\n",
    "# Open the zip file for reading \n",
    "with zipfile.ZipFile('new_zip.zip') as zip:\n",
    "    # Gets a list of compressed files\n",
    "    file_list = zip.namelist()\n",
    "    print(\"Files: \", file_list)\n",
    "    for arq in file_list:\n",
    "        # Shows the file name\n",
    "        print(f'File: {arq}')\n",
    "        # get file info\n",
    "        zipinfo = zip.getinfo(arq)\n",
    "        print('Original size:', zipinfo.file_size)\n",
    "        print('Compressed size:', zipinfo.compress_size)\n",
    "    #     print(dir(zipinfo))\n",
    "\n",
    "        # Shows file content\n",
    "        print(zip.read(arq))"
   ]
  },
  {
   "cell_type": "markdown",
   "metadata": {},
   "source": [
    "Python also provides modules for gzip, bzip2 and tar formats that are widely used in UNIX environments.\n",
    "\n",
    "Data file\n",
    "----------------\n",
    "In the standard library, Python also provides a module to simplify the processing of files in CSV (*Comma Separated Values*) format.\n",
    "\n",
    "In CSV format, the data is stored in text form, separated by commas, one record per line.\n",
    "\n",
    "Writing example:"
   ]
  },
  {
   "cell_type": "code",
   "execution_count": 47,
   "metadata": {},
   "outputs": [],
   "source": [
    "import csv\n",
    "\n",
    "with open('eggs.csv', 'w', newline='') as csvfile:\n",
    "    csv_writer = csv.writer(csvfile, delimiter=',',\n",
    "                            quotechar='\"', quoting=csv.QUOTE_MINIMAL)\n",
    "    csv_writer.writerow(['Spam'] * 5 + ['Baked Beans'])\n",
    "    csv_writer.writerow(['Spam', None ,'Lovely \"Spam\"', 'Wonderful, Spam'])"
   ]
  },
  {
   "cell_type": "code",
   "execution_count": 55,
   "metadata": {},
   "outputs": [],
   "source": [
    "import csv\n",
    "\n",
    "with open('eggs.csv', 'w', newline='') as csvfile:\n",
    "    csv_writer = csv.writer(csvfile)\n",
    "    csv_writer.writerow(['Spam'] * 5 + ['Baked Beans'])\n",
    "    csv_writer.writerow(['Spam', None ,'Lovely \"Spam\"', 'Wonderful, Spam'])"
   ]
  },
  {
   "cell_type": "code",
   "execution_count": 49,
   "metadata": {},
   "outputs": [],
   "source": [
    "lst = [[\"a\", \"a1\"], [\"b\", \"b1\"], [\"d\", \"d1 ,2,one\"], \"c\", \"f\" ]\n",
    "with open('list.csv', 'w', newline='') as csvfile:\n",
    "    listWriter = csv.writer(csvfile)\n",
    "    for l in lst:\n",
    "        listWriter.writerow(l)"
   ]
  },
  {
   "cell_type": "markdown",
   "metadata": {},
   "source": [
    "Reading example:"
   ]
  },
  {
   "cell_type": "code",
   "execution_count": 54,
   "metadata": {
    "scrolled": true
   },
   "outputs": [
    {
     "name": "stdout",
     "output_type": "stream",
     "text": [
      "a,a1\n",
      "b,b1\n",
      "d,\"d1,   ,2,one\"\n",
      "c\n",
      "f\n"
     ]
    }
   ],
   "source": [
    "import csv\n",
    "\n",
    "with open(\"list.csv\", newline='') as csvfile:\n",
    "    for row in csv.reader(csvfile, delimiter=' ', quotechar='|'):\n",
    "        print(',   '.join(row))"
   ]
  },
  {
   "cell_type": "code",
   "execution_count": 53,
   "metadata": {},
   "outputs": [
    {
     "name": "stdout",
     "output_type": "stream",
     "text": [
      "Spam,Spam,Spam,Spam,Spam,Baked,   Beans\n",
      "Spam,,\"Lovely,   \"\"Spam\"\"\",\"Wonderful,,   Spam\"\n"
     ]
    }
   ],
   "source": [
    "import csv\n",
    "\n",
    "with open(\"eggs.csv\", newline='') as csvfile:\n",
    "    for row in csv.reader(csvfile, delimiter=' ', quotechar='|'):\n",
    "        print(',   '.join(row))"
   ]
  },
  {
   "cell_type": "markdown",
   "metadata": {},
   "source": [
    "The CSV format is supported by most spreadsheet and databases for data import and export."
   ]
  },
  {
   "cell_type": "markdown",
   "metadata": {},
   "source": [
    "## IO"
   ]
  },
  {
   "cell_type": "markdown",
   "metadata": {},
   "source": [
    "In Python:\n",
    "\n",
    "+ *sys.stdin* is the standard input.\n",
    "+ *sys.stdout* is the standard output.\n",
    "+ *sys.stderr* is the standard error output.\n",
    "\n",
    "The standard `input`, `output` and `error` are handled by Python as `open` files. \n",
    "\n",
    "Example of using std*'s:"
   ]
  },
  {
   "cell_type": "markdown",
   "metadata": {},
   "source": [
    "### `sys.stdout`"
   ]
  },
  {
   "cell_type": "markdown",
   "metadata": {},
   "source": [
    "#### `sys.stdout.write`"
   ]
  },
  {
   "cell_type": "code",
   "execution_count": 59,
   "metadata": {},
   "outputs": [
    {
     "name": "stdout",
     "output_type": "stream",
     "text": [
      "Hello WorldHello WorldHello World"
     ]
    },
    {
     "data": {
      "text/plain": [
       "11"
      ]
     },
     "execution_count": 59,
     "metadata": {},
     "output_type": "execute_result"
    }
   ],
   "source": [
    "from sys import stdout\n",
    "\n",
    "stdout.write(\"Hello World\")\n",
    "stdout.write(\"Hello World\")\n",
    "stdout.write(\"Hello World\")"
   ]
  },
  {
   "cell_type": "markdown",
   "metadata": {},
   "source": [
    "### `print`"
   ]
  },
  {
   "cell_type": "code",
   "execution_count": 62,
   "metadata": {},
   "outputs": [],
   "source": [
    "data = [\"Welcome\", \"Ja\", \"Nein\", \"Kind\"]\n",
    "\n",
    "with open(\"ja.txt\", \"w\") as fp:\n",
    "    print(f\"{data}\", file=fp)"
   ]
  },
  {
   "cell_type": "code",
   "execution_count": 65,
   "metadata": {},
   "outputs": [],
   "source": [
    "data = [\"Welcome\", \"Ja\", \"Nein\", \"Kind\"]\n",
    "\n",
    "with open(\"ja.txt\", \"w\") as fp:\n",
    "    for d in data:\n",
    "        print(f\"{d}\", file=fp)"
   ]
  },
  {
   "cell_type": "code",
   "execution_count": 66,
   "metadata": {},
   "outputs": [],
   "source": [
    "data = [\"Welcome\", \"Ja\", \"Nein\", \"Kind\"]\n",
    "\n",
    "with open(\"ja.txt\", \"w\") as fp:\n",
    "    print(data, file=fp)"
   ]
  },
  {
   "cell_type": "markdown",
   "metadata": {},
   "source": [
    "## Excersise - Files I/O"
   ]
  },
  {
   "cell_type": "markdown",
   "metadata": {},
   "source": [
    "\n",
    "\n",
    "1. Write a Python program to read an entire text file.     \n",
    "\n",
    "2. Write a Python program to read first n lines of a file.     \n",
    "\n",
    "3. Write a Python program to append text to a file and display the text.     \n",
    "\n",
    "4. Write a Python program to read last n lines of a file.     \n",
    "\n",
    "5. Write a Python program to read a file line by line and store it into a list.     \n",
    "\n",
    "6. Write a Python program to read a file line by line store it into a variable.     \n",
    "\n",
    "7. Write a Python program to read a file line by line store it into an array.     \n",
    "\n",
    "8. Write a python program to find the longest words.     \n",
    "\n",
    "9. Write a Python program to count the number of lines in a text file.     \n",
    "\n",
    "10. Write a Python program to count the frequency of words in a file.     \n",
    "\n",
    "11. Write a Python program to get the file size of a plain file.     \n",
    "\n",
    "12. Write a Python program to write a list to a file.     \n",
    "\n",
    "13. Write a Python program to copy the contents of a file to another file .     \n",
    "\n",
    "14. Write a Python program to combine each line from first file with the corresponding line in second file.     \n",
    "\n",
    "15. Write a Python program to read a random line from a file.     \n",
    "\n",
    "16. Write a Python program to assess if a file is closed or not.     \n",
    "\n",
    "17. Write a Python program to remove newline characters from a file.     "
   ]
  }
 ],
 "metadata": {
  "kernelspec": {
   "display_name": "Python 3 (ipykernel)",
   "language": "python",
   "name": "python3"
  },
  "language_info": {
   "codemirror_mode": {
    "name": "ipython",
    "version": 3
   },
   "file_extension": ".py",
   "mimetype": "text/x-python",
   "name": "python",
   "nbconvert_exporter": "python",
   "pygments_lexer": "ipython3",
   "version": "3.9.9"
  }
 },
 "nbformat": 4,
 "nbformat_minor": 2
}
