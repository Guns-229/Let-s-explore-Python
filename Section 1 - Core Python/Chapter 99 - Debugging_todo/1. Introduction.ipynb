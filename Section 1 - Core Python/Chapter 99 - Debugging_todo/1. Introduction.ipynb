{
 "cells": [
  {
   "cell_type": "markdown",
   "metadata": {},
   "source": [
    "# Basics of debugging"
   ]
  },
  {
   "cell_type": "markdown",
   "metadata": {},
   "source": [
    "> Programming today is a race between software engineers striving to build bigger and better idiot-proof programs, and the Universe trying to produce bigger and better idiots. So far, the Universe is winning. \n",
    "> <hr style=\"height: 0.06em\" />\n",
    "> <i class=\"fa fa-comment\" aria-hidden=\"true\"></i><b> Rick Cook</b>      "
   ]
  },
  {
   "cell_type": "markdown",
   "metadata": {},
   "source": [
    "> Everyone knows that debugging is twice as hard as writing a program in the first place. So if you’re as clever as you can be when you write it, how will you ever debug it?\n",
    "> <hr style=\"height: 0.05em\"/>\n",
    "><i class=\"fa fa-comment\" aria-hidden=\"true\"></i> <b>Brian Kernighan</b>"
   ]
  },
  {
   "cell_type": "markdown",
   "metadata": {},
   "source": [
    "> If debugging is the process of removing software bugs, then programming must be the process of putting them in.\n",
    "> <hr style=\"height: 0.05em\"/>\n",
    "> <i class=\"fa fa-comment\" aria-hidden=\"true\"></i>   <b>Edsger Dijkstra</b>"
   ]
  },
  {
   "cell_type": "markdown",
   "metadata": {},
   "source": [
    "> \"I realized that a large part of my life from then on was going to be spent in finding mistakes in my own programs.\"\n",
    "> <hr style=\"height: 0.05em\"/>\n",
    "> <i class=\"fa fa-comment\" aria-hidden=\"true\"></i> <b>Maurice Wilkes</b>"
   ]
  },
  {
   "cell_type": "markdown",
   "metadata": {},
   "source": [
    "## Avoiding bugs"
   ]
  },
  {
   "cell_type": "markdown",
   "metadata": {},
   "source": [
    "> Always code as if the guy who ends up maintaining your code will be a violent psychopath who knows where you live\n",
    "> <hr style=\"height: 0.05em\"/>\n",
    "> <i class=\"fa fa-comment\" aria-hidden=\"true\"></i> <b>Martin Golding</b>"
   ]
  },
  {
   "cell_type": "markdown",
   "metadata": {},
   "source": [
    "Best advice in debugging is to avoid having bugs in the first place. In this section, we will discuss few tips to do just that. "
   ]
  },
  {
   "cell_type": "markdown",
   "metadata": {},
   "source": [
    "### Write your code with testing and debugging in mind"
   ]
  },
  {
   "cell_type": "markdown",
   "metadata": {},
   "source": [
    "- `TDD` and `BDD` are nice way of coding because if you know what is expected, its easier to develop and validate at the same time. \n",
    "- Logging is your friend, always have it. It helps really. \n",
    "- Good logging is God send gift, lets do it more offen."
   ]
  },
  {
   "cell_type": "markdown",
   "metadata": {},
   "source": [
    "<p class=\"fa fa-info-circle\" style=\"font-size: 1.3em; color: green;\" aria-hidden=\"true\">&nbsp;&nbsp;&nbsp;<b>Thumbrule</b>:&nbsp;&nbsp;&nbsp;</p><i>Better you know the requirements, better will your code</i>"
   ]
  },
  {
   "cell_type": "markdown",
   "metadata": {},
   "source": [
    "### We all write buggy code. Accept it. Deal with it."
   ]
  },
  {
   "cell_type": "markdown",
   "metadata": {},
   "source": [
    "> To <b>err</b> is <b>human</b>\n",
    "\n",
    "Accept the fact, that their might be errors or mistakes in the code. We cannot predict all scenarios and should not be defensive with confronted with errors/bugs in our code."
   ]
  },
  {
   "cell_type": "markdown",
   "metadata": {},
   "source": [
    "### Keep It Simple, Stupid (KISS)."
   ]
  },
  {
   "cell_type": "markdown",
   "metadata": {},
   "source": [
    "Try to keep the solution simple, as simpler code tends to have less bugs and are easier to debug. \n",
    "\n",
    "Try to find the simplest solution to the problem and use it to solve the problem. One mistake lot of new developers do is try to achieve everything in single block of code, which leads to complication and which might lead of bugs.\n",
    "\n",
    "Another mistake they do is by trying to solve the program using some exotic solution which no one in the team can understand. \n",
    "\n",
    "> <p class=\"fa fa-sticky-note\" style=\"font-size: 1.3em; color: #084B8A;\" aria-hidden=\"true\">&nbsp;<b>Note</b>:</p>\n",
    "> <hr style=\"height: 0.05em\"/>\n",
    "> <i style=\"font-size: 1.12em;\">Please do not use exotic/obscure solutions where simpler solution is available, <b>We are not in Show Business, but in solving client problems.</b></i>"
   ]
  },
  {
   "cell_type": "markdown",
   "metadata": {},
   "source": [
    "### Don’t Repeat Yourself (DRY)"
   ]
  },
  {
   "cell_type": "markdown",
   "metadata": {},
   "source": [
    "Writing a logic once is better than writing it multiple times. Functions/Classes are your friend."
   ]
  },
  {
   "cell_type": "markdown",
   "metadata": {},
   "source": [
    "### Every knowledge must only have unique, unambiguous and authoritative representation"
   ]
  },
  {
   "cell_type": "markdown",
   "metadata": {},
   "source": [
    "Client requirements **must**\n",
    "- be uniquely defined\n",
    "- independently defined\n",
    "- not contradict with other requirement\n",
    "- be approved by client through proper method\n",
    "\n",
    "Its a good idea to atomize the client requirements to its smallest unit and define its cornor cases along with it."
   ]
  },
  {
   "cell_type": "markdown",
   "metadata": {},
   "source": [
    "### Try to limit interdependencies of your code. (Loose Coupling)"
   ]
  },
  {
   "cell_type": "markdown",
   "metadata": {},
   "source": [
    "> In computing and systems design a loosely coupled system is one in which components are weakly associated with each other, and so, changes in one component least affect existence or performance of another component. \n",
    "> \n",
    "> `- Wikipedia`"
   ]
  },
  {
   "cell_type": "markdown",
   "metadata": {},
   "source": [
    "### Give your variables, functions and modules meaningful names (not mathematics names)"
   ]
  },
  {
   "cell_type": "markdown",
   "metadata": {},
   "source": [
    "Variable, function, modules and classes should have meaningful names and easy to understand and pronounce. After all we are not in business of naming plants and animals ;).\n",
    "\n",
    "They should not be too small that they loose the meaning and too big that even I do not want to type them again. The nameing is an art, they should be big enough that they convey the meaning and short enough that they are not a burden that typing them is a pain."
   ]
  }
 ],
 "metadata": {
  "kernelspec": {
   "display_name": "Python 3 (ipykernel)",
   "language": "python",
   "name": "python3"
  },
  "language_info": {
   "codemirror_mode": {
    "name": "ipython",
    "version": 3
   },
   "file_extension": ".py",
   "mimetype": "text/x-python",
   "name": "python",
   "nbconvert_exporter": "python",
   "pygments_lexer": "ipython3",
   "version": "3.9.9"
  }
 },
 "nbformat": 4,
 "nbformat_minor": 2
}
