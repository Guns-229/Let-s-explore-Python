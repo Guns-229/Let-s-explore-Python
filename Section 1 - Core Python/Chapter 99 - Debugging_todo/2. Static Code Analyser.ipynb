{
 "cells": [
  {
   "cell_type": "markdown",
   "metadata": {},
   "source": [
    "# Static Code Analyser's"
   ]
  },
  {
   "cell_type": "markdown",
   "metadata": {},
   "source": [
    "One of the major tool in producing error free code, is static code analyser. And python provides many of them such as \n",
    "\n",
    "- pylint\n",
    "- pychecker\n",
    "- pyflakes\n",
    "- flake8\n",
    "- black\n",
    "\n",
    "Most of them can be integrated with your IDE/Editor such as PyCharm, Atom, VIM, Emacs etc using plugins. We have coverted a bit of that in Python Introduction.\n",
    "\n",
    "In this section, we will learn how they can be used to help us and before we begin lets learn about what they are, what they can do and how they can be used."
   ]
  },
  {
   "cell_type": "markdown",
   "metadata": {},
   "source": [
    "##  What is static code analysis"
   ]
  },
  {
   "cell_type": "markdown",
   "metadata": {},
   "source": [
    "As the name suggest, they analyse code without actually executing it and are usually \n",
    "- very fast, \n",
    "- extreamly easy to add to DevOps workflow,\n",
    "- used to uncover common mistakes.\n",
    "\n",
    "Before we go in details, lets look at few keywords which will be used in this section."
   ]
  },
  {
   "cell_type": "markdown",
   "metadata": {},
   "source": [
    "### Types of static analysis"
   ]
  },
  {
   "cell_type": "markdown",
   "metadata": {},
   "source": [
    "- Code Complexity analysis\n",
    "- Code styling analysis\n",
    "- Error detection\n",
    "- Unused code detection\n",
    "- Duplicate code detection\n",
    "- Comment styling analysis\n",
    "- UML diagram creation\n",
    "- Security linting"
   ]
  },
  {
   "cell_type": "markdown",
   "metadata": {},
   "source": [
    "### Code Complexity"
   ]
  },
  {
   "cell_type": "markdown",
   "metadata": {},
   "source": [
    "It is measure to find how complex is your code. As statied in previous chapter, the lower the complexity, better is the code.\n",
    "\n",
    "Most of the time, `Cyclomatic complexity` which was defined by **Thomas J. McCabe, Sr**. in 1976 and is computed using the control-flow graph of the program: the nodes of the graph correspond to indivisible groups of commands of a program, and a directed edge connects two nodes if the second command might be executed immediately after the first command. Cyclomatic complexity may also be applied to individual functions, modules, methods or classes within a program.\n",
    "\n",
    "The commonly used formula is:\n",
    "```\n",
    "M = E − N + 2P\n",
    "```\n",
    "where\n",
    "```\n",
    "E = the number of edges of the graph.\n",
    "N = the number of nodes of the graph.\n",
    "P = the number of connected components.\n",
    "```\n",
    "\n",
    "In Tom McCabe's presentation 'Software Quality Metrics to Identify Risk' for the Department of Homeland Security, he introduces the following categorisation to interpret cyclomatic complexity:\n",
    "\n",
    "- `1 - 10` Simple procedure, little risk\n",
    "- `11 - 20` More complex, moderate risk\n",
    "- `21 - 50` Complex, high risk\n",
    "- `> 50` Untestable code, very high risk\n",
    "\n",
    "We can use https://pypi.org/project/radon/ program to obtain this value.\n",
    "```bash\n",
    "$:> radon cc example.py -a -nc\n",
    "```\n",
    "\n",
    "**Explanation:**\n",
    "\n",
    "- cc is the radon command to compute Cyclomatic Complexity\n",
    "- `-a` tells radon to calculate the average complexity at the end. Note that the average is computed among the shown blocks. If you want the total average, among all the blocks, regardless of what is being shown, you should use --total-average.\n",
    "- `-nc` tells radon to print only results with a complexity rank of C or worse. Other examples: -na (from A to F), or -nd (from D to F).\n",
    "- The letter in front of the line numbers represents the type of the block (F means function, M method and C class)."
   ]
  },
  {
   "cell_type": "markdown",
   "metadata": {},
   "source": [
    "### Code styling analysis"
   ]
  },
  {
   "cell_type": "markdown",
   "metadata": {},
   "source": [
    "Python provide style guide in form of `PEP-8`, which can be viewed at https://peps.python.org/pep-0008/. Following tools can be used to validate or fix style guides\n",
    "- AutoPEP8 (https://pypi.org/project/autopep8/)\n",
    "- pep8radius (https://pypi.org/project/pep8radius/)\n",
    "- Black (https://pypi.org/project/black/)\n",
    "\n",
    "The major difference between autopep8 and pep8radius is, autopep8 is applied on entire file where as pep8radius is applied on lines which were changed since last commit.\n",
    "\n",
    "Black is maintained by and Blackened code looks the same regardless of the project you're reading. Formatting becomes transparent after a while and you can focus on the content instead."
   ]
  },
  {
   "cell_type": "markdown",
   "metadata": {},
   "source": [
    "### Security linting"
   ]
  },
  {
   "cell_type": "markdown",
   "metadata": {},
   "source": [
    "One of the most commonly used tool for security linting is `Bandit` which can be installed using \n",
    "\n",
    "```bash\n",
    "$:> pip install bandit\n",
    "```\n",
    "and can be executed using the following command \n",
    "```bash\n",
    "$:> bandit -r path/to/your/code\n",
    "```\n",
    "\n",
    "and its documentation can be viewed at https://bandit.readthedocs.io/en/latest/. \n",
    "\n",
    "Bandit can also be used by `flake-8` using `Flake8-Bandit` plugin. It can be installed using following command \n",
    "```bash \n",
    "$:> pip install flake8-bandit\n",
    "```"
   ]
  },
  {
   "cell_type": "markdown",
   "metadata": {},
   "source": [
    "### Misc"
   ]
  },
  {
   "cell_type": "markdown",
   "metadata": {},
   "source": [
    "| Task                    | Name                    | URL | \n",
    "|-------------------------|-------------------------|-------------------------------------|\n",
    "| Naming Convension       | `pep8-naming`           | https://github.com/PyCQA/pep8-naming |\n",
    "| Imports ordering        | `flake8-import-order`   | https://github.com/PyCQA/flake8-import-order | \n",
    "|  |  | |\n",
    "|  |  | |\n",
    "\n",
    "\n",
    "Naming convention can be validated using  and details can be found at "
   ]
  },
  {
   "cell_type": "markdown",
   "metadata": {},
   "source": [
    "Circular imports:\n"
   ]
  },
  {
   "cell_type": "code",
   "execution_count": 4,
   "metadata": {},
   "outputs": [],
   "source": [
    "c = 10e12"
   ]
  }
 ],
 "metadata": {
  "kernelspec": {
   "display_name": "Python 3 (ipykernel)",
   "language": "python",
   "name": "python3"
  },
  "language_info": {
   "codemirror_mode": {
    "name": "ipython",
    "version": 3
   },
   "file_extension": ".py",
   "mimetype": "text/x-python",
   "name": "python",
   "nbconvert_exporter": "python",
   "pygments_lexer": "ipython3",
   "version": "3.9.9"
  }
 },
 "nbformat": 4,
 "nbformat_minor": 2
}
