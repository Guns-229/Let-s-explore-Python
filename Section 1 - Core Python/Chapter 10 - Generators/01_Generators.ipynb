{
 "cells": [
  {
   "cell_type": "markdown",
   "metadata": {},
   "source": [
    "# Generators"
   ]
  },
  {
   "cell_type": "markdown",
   "metadata": {},
   "source": [
    "The functions generally follow the conventional process flow, return values ​​and quit. Generators work similarly, but remember the state of the processing between calls, staying in memory and returning the next item expected when activated.\n",
    "\n",
    "The generators have several advantages over conventional functions:\n",
    "\n",
    "+ *Lazy Evaluation*: generators are only processed when it is really needed, saving processing resources. \n",
    "+ They reduce the need to create lists.\n",
    "+ They allow to work with unlimited sequences of elements.\n",
    "\n",
    "Generators are usually called through a *for* loop. The  syntax is similar to the traditional function, just the *yield* instruction substitutes *return*. In each new iteraction, *yield* returns the next value.\n",
    "\n",
    "**Example:**"
   ]
  },
  {
   "cell_type": "code",
   "execution_count": 10,
   "metadata": {},
   "outputs": [],
   "source": [
    "from time import sleep\n",
    "def list_pares():\n",
    "    \"\"\"\n",
    "    Function equivalient of the previous generator \n",
    "    Generate even numbers from 0 to 10\n",
    "    \"\"\"\n",
    "    i = 0\n",
    "    lst = []\n",
    "    while i <= 5:\n",
    "        #  print(\"in while loop\")\n",
    "        lst.append(i)\n",
    "        sleep(1)\n",
    "        i += 2\n",
    "    print(f\"returning the list: {lst = }\")\n",
    "    return lst"
   ]
  },
  {
   "cell_type": "code",
   "execution_count": 11,
   "metadata": {},
   "outputs": [
    {
     "name": "stdout",
     "output_type": "stream",
     "text": [
      "returning the list: lst = [0, 2, 4]\n",
      "[0, 2, 4]\n"
     ]
    }
   ],
   "source": [
    "print(list_pares())"
   ]
  },
  {
   "cell_type": "code",
   "execution_count": 25,
   "metadata": {},
   "outputs": [
    {
     "name": "stdout",
     "output_type": "stream",
     "text": [
      "returning the list: lst = [0, 2, 4]\n",
      "In For loop >  0\n",
      "In For loop >  2\n",
      "In For loop >  4\n"
     ]
    }
   ],
   "source": [
    "# using function to get the list\n",
    "\n",
    "for n in list_pares():\n",
    "    print (\"In For loop > \", n)"
   ]
  },
  {
   "cell_type": "code",
   "execution_count": 6,
   "metadata": {},
   "outputs": [],
   "source": [
    "from time import sleep\n",
    "\n",
    "def gen_pares():\n",
    "    \"\"\"\n",
    "    Generates even numbers from 0 to 10\n",
    "    \"\"\"\n",
    "    i = 0\n",
    "    while i <= 5:\n",
    "        print(f\"before yield i: {i = }\")\n",
    "        sleep(1)\n",
    "        yield i\n",
    "        print(f\"after yield i: {i = }\")\n",
    "        i += 2"
   ]
  },
  {
   "cell_type": "code",
   "execution_count": 40,
   "metadata": {},
   "outputs": [
    {
     "name": "stdout",
     "output_type": "stream",
     "text": [
      "<generator object gen_pares at 0x77771c7eadd0>\n"
     ]
    }
   ],
   "source": [
    "print(gen_pares())"
   ]
  },
  {
   "cell_type": "code",
   "execution_count": 42,
   "metadata": {},
   "outputs": [
    {
     "name": "stdout",
     "output_type": "stream",
     "text": [
      "['__class__', '__del__', '__delattr__', '__dir__', '__doc__', '__eq__', '__format__', '__ge__', '__getattribute__', '__gt__', '__hash__', '__init__', '__init_subclass__', '__iter__', '__le__', '__lt__', '__name__', '__ne__', '__new__', '__next__', '__qualname__', '__reduce__', '__reduce_ex__', '__repr__', '__setattr__', '__sizeof__', '__str__', '__subclasshook__', 'close', 'gi_code', 'gi_frame', 'gi_running', 'gi_yieldfrom', 'send', 'throw']\n"
     ]
    }
   ],
   "source": [
    "print(dir(gen_pares()))"
   ]
  },
  {
   "cell_type": "code",
   "execution_count": 23,
   "metadata": {},
   "outputs": [],
   "source": [
    "# Bad Idea: as generator loses its benefit. \n",
    "\n",
    "# print(tuple(gen_pares()), end=\", \")\n",
    "# print(list(gen_pares()), end=\", \")"
   ]
  },
  {
   "cell_type": "code",
   "execution_count": 12,
   "metadata": {},
   "outputs": [
    {
     "name": "stdout",
     "output_type": "stream",
     "text": [
      "before yield i: i = 0\n",
      "In For loop >  0\n",
      "after yield i: i = 0\n",
      "before yield i: i = 2\n",
      "In For loop >  2\n",
      "after yield i: i = 2\n",
      "before yield i: i = 4\n",
      "In For loop >  4\n",
      "after yield i: i = 4\n"
     ]
    }
   ],
   "source": [
    "# Shows each number and goes to the next\n",
    "\n",
    "for n in gen_pares():\n",
    "    print (\"In For loop > \", n)"
   ]
  },
  {
   "cell_type": "code",
   "execution_count": 14,
   "metadata": {},
   "outputs": [],
   "source": [
    "# TO find : Generators and while\n",
    "# Dont use it.\n",
    "\n",
    "# while x:= gen_pares():\n",
    "#     print(f\"Hello {x=}\")"
   ]
  },
  {
   "cell_type": "code",
   "execution_count": 16,
   "metadata": {},
   "outputs": [
    {
     "name": "stdout",
     "output_type": "stream",
     "text": [
      "yielding: x - 0\n",
      ">  0\n",
      "yielding: i - 2\n",
      ">  2\n",
      "yielding: x - 1\n",
      ">  1\n",
      "yielding: i - 3\n",
      ">  3\n",
      "yielding: x - 2\n",
      ">  2\n",
      "yielding: i - 4\n",
      ">  4\n",
      "yielding: x - 3\n",
      ">  3\n",
      "yielding: i - 5\n",
      ">  5\n",
      "yielding: x - 4\n",
      ">  4\n",
      "yielding: i - 6\n",
      ">  6\n"
     ]
    }
   ],
   "source": [
    "from time import sleep\n",
    "\n",
    "def gen_pares():\n",
    "    \"\"\"\n",
    "    Generator with multiple yields:\n",
    "    Generator remembers its execution position \n",
    "    even after yield.\n",
    "    \"\"\"\n",
    "    for x in range(5):\n",
    "        print(f\"yielding: x - {x}\")\n",
    "        yield x\n",
    "        i = x + 2\n",
    "        sleep(0.5)\n",
    "        print(f\"yielding: i - {i}\")\n",
    "        yield i\n",
    "\n",
    "# Shows each number and goes to the next\n",
    "for n in gen_pares():\n",
    "    print(\"> \", n)"
   ]
  },
  {
   "cell_type": "code",
   "execution_count": 22,
   "metadata": {},
   "outputs": [
    {
     "name": "stdout",
     "output_type": "stream",
     "text": [
      "yielding: x=0\n",
      ">  0\n",
      "yielding: i=2\n",
      ">  2\n",
      "yielding: x=1\n",
      ">  1\n",
      "yielding: i=3\n",
      ">  3\n",
      "yielding: x=2\n",
      ">  2\n",
      "Return x=2\n"
     ]
    }
   ],
   "source": [
    "from time import sleep\n",
    "\n",
    "def gen_pares():\n",
    "    \"\"\"\n",
    "    Generator with multiple yields and a return:\n",
    "    Generator remembers its execution position \n",
    "    even after yield.\n",
    "    \"\"\"\n",
    "    for x in range(5):\n",
    "        print(f\"yielding: {x=}\")\n",
    "        yield x\n",
    "        i = x + 2\n",
    "        if x > 1:\n",
    "            print(f\"Return {x=}\")\n",
    "            return x\n",
    "        sleep(0.5)\n",
    "        print(f\"yielding: {i=}\")\n",
    "        yield i\n",
    "\n",
    "# Shows each number and goes to the next\n",
    "for n in gen_pares():\n",
    "    print(\"> \", n)"
   ]
  },
  {
   "cell_type": "code",
   "execution_count": 37,
   "metadata": {},
   "outputs": [
    {
     "name": "stdout",
     "output_type": "stream",
     "text": [
      "<generator object gen_pares at 0x7f3f586b3990>\n",
      "yielding: x - 0\n",
      "next(my_gen_data) = 0\n",
      "yielding: i - 2\n",
      "next(my_gen_data) = 2\n",
      "---\n",
      "yielding: x - 1\n",
      "next(my_gen_data) = 1\n",
      "yielding: i - 3\n",
      "next(my_gen_data) = 3\n"
     ]
    }
   ],
   "source": [
    "# `next` function can return the next value\n",
    "# which the generator should return\n",
    "\n",
    "my_gen_data = gen_pares()\n",
    "print(my_gen_data)\n",
    "print(f\"{next(my_gen_data) = }\")\n",
    "print(f\"{next(my_gen_data) = }\")\n",
    "print(\"---\")\n",
    "print(f\"{next(my_gen_data) = }\")\n",
    "print(f\"{next(my_gen_data) = }\")"
   ]
  },
  {
   "cell_type": "markdown",
   "metadata": {},
   "source": [
    "Another example:"
   ]
  },
  {
   "cell_type": "code",
   "execution_count": 30,
   "metadata": {},
   "outputs": [
    {
     "name": "stdout",
     "output_type": "stream",
     "text": [
      "Error: [Errno 13] Permission denied: '/var/log/everything'\n",
      "Error: [Errno 13] Permission denied: '/var/log/kernel'\n",
      "Error: [Errno 13] Permission denied: '/var/log/news'\n",
      "Error: [Errno 13] Permission denied: '/var/log/telnet'\n",
      "Error: [Errno 13] Permission denied: '/var/log/cron'\n",
      "Error: [Errno 13] Permission denied: '/var/log/pwdfail'\n",
      "/var/log/dmesg, /var/log/emerge.log, /var/log/lastlog, /var/log/slim.log, /var/log/wtmp, /var/log/emerge-fetch.log, /var/log/portage/elog/summary.log, /var/log/samba/.keep_net-fs_samba-0, /var/log/Xorg.0.log.old, /var/log/Xorg.0.log, "
     ]
    }
   ],
   "source": [
    "import os\n",
    "\n",
    "# Finds files recursively\n",
    "def find_files(path='.'):\n",
    "    try:\n",
    "        lst = []\n",
    "        for item in os.listdir(path):\n",
    "            fn = os.path.normpath(os.path.join(path, item))\n",
    "\n",
    "            if os.path.isdir(fn):\n",
    "                for f in find_files(fn):\n",
    "                    lst.append(f)\n",
    "            else:\n",
    "                lst.append(fn)\n",
    "        return lst\n",
    "    except Exception as e:\n",
    "        print(\"Error:\", e)\n",
    "        return lst\n",
    "        \n",
    "\n",
    "# At each interaction, the generator yeld a new file name\n",
    "# for fn in find_files(r\"/etc/periodic/daily/\"):\n",
    "for fn in find_files(r\"/var/log\"):\n",
    "    print(fn, end=\", \")"
   ]
  },
  {
   "cell_type": "code",
   "execution_count": 29,
   "metadata": {},
   "outputs": [
    {
     "name": "stdout",
     "output_type": "stream",
     "text": [
      "/var/log/dmesg, /var/log/emerge.log, /var/log/lastlog, /var/log/slim.log, /var/log/wtmp, /var/log/emerge-fetch.log, /var/log/portage/elog/summary.log, /var/log/samba/.keep_net-fs_samba-0, /var/log/Xorg.0.log.old, /var/log/Xorg.0.log, "
     ]
    }
   ],
   "source": [
    "import os\n",
    "\n",
    "# Finds files recursively\n",
    "def find_files(path='.'):\n",
    "    try:\n",
    "        for item in os.listdir(path):\n",
    "            fn = os.path.normpath(os.path.join(path, item))\n",
    "\n",
    "            if os.path.isdir(fn):\n",
    "                for f in find_files(fn):\n",
    "                    yield f\n",
    "            else:\n",
    "                yield fn\n",
    "    except Exception as e:\n",
    "        pass\n",
    "\n",
    "# At each interaction, the generator yeld a new file name\n",
    "for fn in find_files(r\"/var/log\"):\n",
    "    print(fn, end=\", \")"
   ]
  },
  {
   "cell_type": "code",
   "execution_count": 32,
   "metadata": {},
   "outputs": [
    {
     "name": "stdout",
     "output_type": "stream",
     "text": [
      "1 1 2 3 5 8 13 ...Done...\n"
     ]
    }
   ],
   "source": [
    "from time import sleep\n",
    "import sys\n",
    "\n",
    "def fib():\n",
    "    a, b = 0, 1\n",
    "    while True:\n",
    "        sleep(0.5)\n",
    "        yield b\n",
    "        d = a + b\n",
    "        if d > 20:\n",
    "            break\n",
    "        a, b = b, d \n",
    "\n",
    "iter_fib = fib()\n",
    "\n",
    "try:\n",
    "    for i in iter_fib:\n",
    "        print(i, end=\" \")\n",
    "        sys.stdout.flush()\n",
    "    else:\n",
    "        print(\"...Done...\")\n",
    "except KeyboardInterrupt: \n",
    "    print( \"Calculation stopped\")"
   ]
  },
  {
   "cell_type": "code",
   "execution_count": 33,
   "metadata": {},
   "outputs": [
    {
     "name": "stdout",
     "output_type": "stream",
     "text": [
      "['__class__', '__del__', '__delattr__', '__dir__', '__doc__', '__eq__', '__format__', '__ge__', '__getattribute__', '__gt__', '__hash__', '__init__', '__init_subclass__', '__iter__', '__le__', '__lt__', '__name__', '__ne__', '__new__', '__next__', '__qualname__', '__reduce__', '__reduce_ex__', '__repr__', '__setattr__', '__sizeof__', '__str__', '__subclasshook__', 'close', 'gi_code', 'gi_frame', 'gi_running', 'gi_yieldfrom', 'send', 'throw']\n"
     ]
    }
   ],
   "source": [
    "iter_fib = fib()\n",
    "print(dir(iter_fib))"
   ]
  },
  {
   "cell_type": "code",
   "execution_count": 34,
   "metadata": {},
   "outputs": [
    {
     "name": "stdout",
     "output_type": "stream",
     "text": [
      "1\n",
      "1\n",
      "2\n",
      "3\n",
      "5\n",
      "8\n",
      "13\n",
      "Error: e = StopIteration()\n"
     ]
    }
   ],
   "source": [
    "# We can use `__next__` function also instead of next\n",
    "try:\n",
    "    print(iter_fib.__next__())\n",
    "    print(iter_fib.__next__())\n",
    "    print(iter_fib.__next__())\n",
    "    print(iter_fib.__next__())\n",
    "    print(iter_fib.__next__())\n",
    "    print(iter_fib.__next__())\n",
    "    print(iter_fib.__next__())\n",
    "    # At this point the exception is raised\n",
    "    print(iter_fib.__next__())\n",
    "except StopIteration as e:  \n",
    "    # StopIteration is raised when generate \n",
    "    # have returned all the required data \n",
    "    print(f\"Error: {e = }\")"
   ]
  },
  {
   "cell_type": "code",
   "execution_count": 37,
   "metadata": {},
   "outputs": [
    {
     "name": "stdout",
     "output_type": "stream",
     "text": [
      "Error: e=StopIteration()\n"
     ]
    }
   ],
   "source": [
    "# Sorry no luck :)\n",
    "try:\n",
    "    for a in range(10):\n",
    "        raise(StopIteration)\n",
    "    else:\n",
    "        print(\"Done\")\n",
    "except Exception as e:\n",
    "    print(f\"Error: {e=}\")"
   ]
  },
  {
   "cell_type": "markdown",
   "metadata": {},
   "source": [
    "### While loop and generators"
   ]
  },
  {
   "cell_type": "markdown",
   "metadata": {},
   "source": [
    "Not a good combination, as `while` loop is not able to handle the `StopIteration` exception. As the `while` loop checks for the condition."
   ]
  },
  {
   "cell_type": "code",
   "execution_count": 38,
   "metadata": {},
   "outputs": [
    {
     "name": "stdout",
     "output_type": "stream",
     "text": [
      "Ja, Ich bin ein Kind\n",
      "Ja, Ich bin ein Kind\n",
      "Ja, Ich bin ein Kind\n",
      "Ja, Ich bin ein Kind\n",
      "Ja, Ich bin ein Kind\n",
      "Ja, Ich bin ein Kind\n",
      "Ja, Ich bin ein Kind\n",
      "Error:  e = StopIteration()\n"
     ]
    }
   ],
   "source": [
    "iter_fib = fib()\n",
    "\n",
    "try:\n",
    "    while (iter_fib.__next__()):\n",
    "        print(\"Ja, Ich bin ein Kind\")\n",
    "except StopIteration as e:\n",
    "    print(f\"Error: { e = }\")"
   ]
  },
  {
   "cell_type": "code",
   "execution_count": 39,
   "metadata": {},
   "outputs": [
    {
     "name": "stdout",
     "output_type": "stream",
     "text": [
      "next_val = 1\n",
      "next_val = 1\n",
      "next_val = 2\n",
      "next_val = 3\n",
      "next_val = 5\n",
      "next_val = 8\n",
      "next_val = 13\n",
      "Error:  e = StopIteration()\n"
     ]
    }
   ],
   "source": [
    "\n",
    "iter_fib = fib()\n",
    "\n",
    "try:\n",
    "    while (next_val := iter_fib.__next__()):\n",
    "        print(f\"{next_val = }\")\n",
    "except StopIteration as e:\n",
    "    print(f\"Error: { e = }\")"
   ]
  }
 ],
 "metadata": {
  "kernelspec": {
   "display_name": "Python 3 (ipykernel)",
   "language": "python",
   "name": "python3"
  },
  "language_info": {
   "codemirror_mode": {
    "name": "ipython",
    "version": 3
   },
   "file_extension": ".py",
   "mimetype": "text/x-python",
   "name": "python",
   "nbconvert_exporter": "python",
   "pygments_lexer": "ipython3",
   "version": "3.9.9"
  }
 },
 "nbformat": 4,
 "nbformat_minor": 2
}
