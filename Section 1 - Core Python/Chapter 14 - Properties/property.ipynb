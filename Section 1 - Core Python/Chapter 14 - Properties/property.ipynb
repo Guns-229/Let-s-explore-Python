{
 "cells": [
  {
   "cell_type": "markdown",
   "metadata": {},
   "source": [
    "# property \n",
    "-----\n",
    "Python has a great concept called property, which makes the life of an object oriented programmer much simpler. Before defining and going into details of what a property in Python is, let us first build an intuition on why it would be needed in the first place."
   ]
  },
  {
   "cell_type": "code",
   "execution_count": 1,
   "metadata": {},
   "outputs": [
    {
     "name": "stdout",
     "output_type": "stream",
     "text": [
      "251.6\n"
     ]
    }
   ],
   "source": [
    "CONST = 9/5 # some constant\n",
    "\n",
    "class Weather_balloon(object):\n",
    "    def __init__(self, temp):\n",
    "        self.temp = temp\n",
    "    \n",
    "    def convert_temp_to_f(self):\n",
    "        return self.temp * CONST + 32\n",
    "    \n",
    "\n",
    "w = Weather_balloon(122)\n",
    "print(w.convert_temp_to_f())"
   ]
  },
  {
   "cell_type": "code",
   "execution_count": null,
   "metadata": {},
   "outputs": [],
   "source": [
    "class Circle(object):\n",
    "    def __init__(self, radius):\n",
    "        self.radius = radius\n",
    "        self.area = 3.14*radius*radius"
   ]
  },
  {
   "cell_type": "code",
   "execution_count": null,
   "metadata": {},
   "outputs": [
    {
     "name": "stdout",
     "output_type": "stream",
     "text": [
      "10\n"
     ]
    }
   ],
   "source": [
    "c = Circle(10)\n",
    "print(c.radius)"
   ]
  },
  {
   "cell_type": "code",
   "execution_count": null,
   "metadata": {},
   "outputs": [
    {
     "name": "stdout",
     "output_type": "stream",
     "text": [
      "314.0\n"
     ]
    }
   ],
   "source": [
    "print(c.area)"
   ]
  },
  {
   "cell_type": "code",
   "execution_count": 7,
   "metadata": {},
   "outputs": [
    {
     "name": "stdout",
     "output_type": "stream",
     "text": [
      "c.radius: 10\n",
      "c.area: 222\n"
     ]
    }
   ],
   "source": [
    "# Oppppp's !!!!\n",
    "\n",
    "# Lets change the area and see its effect on radius.\n",
    "c.area = 222\n",
    "\n",
    "# In this case it will be zero change. \n",
    "print(f\"c.radius: {c.radius}\")\n",
    "print(f\"c.area: {c.area}\")"
   ]
  },
  {
   "cell_type": "markdown",
   "metadata": {},
   "source": [
    "#### Getters and Setters to the recue ?"
   ]
  },
  {
   "cell_type": "code",
   "execution_count": null,
   "metadata": {},
   "outputs": [],
   "source": [
    "class Circle(object):\n",
    "    def __init__(self, radius):\n",
    "        self.radius = radius\n",
    "        self.area = 3.14*radius*radius\n",
    "        \n",
    "    def set_radius(self, radius):\n",
    "        self.radius = radius \n",
    "        self.area = 3.14*radius*radius\n",
    "        \n",
    "    def get_radius(self):\n",
    "        return self.radius"
   ]
  },
  {
   "cell_type": "code",
   "execution_count": 16,
   "metadata": {},
   "outputs": [
    {
     "name": "stdout",
     "output_type": "stream",
     "text": [
      "c.radius: 10\n",
      "c.area: 222\n"
     ]
    }
   ],
   "source": [
    "red_circle = Circle(10)\n",
    "\n",
    "\n",
    "print(f\"c.radius: {red_circle.radius}\")\n",
    "print(f\"c.area: {red_circle.area}\")"
   ]
  },
  {
   "cell_type": "code",
   "execution_count": 19,
   "metadata": {},
   "outputs": [
    {
     "name": "stdout",
     "output_type": "stream",
     "text": [
      "200\n",
      "c.radius: 200\n",
      "c.area: 125600.0\n"
     ]
    }
   ],
   "source": [
    "\n",
    "\n",
    "red_circle.set_radius(200)\n",
    "print(red_circle.get_radius())\n",
    "\n",
    "print(f\"c.radius: {red_circle.radius}\")\n",
    "print(f\"c.area: {red_circle.area}\")"
   ]
  },
  {
   "cell_type": "markdown",
   "metadata": {},
   "source": [
    "I still have problem, that now I have to remeber function names twice the number of attributes. "
   ]
  },
  {
   "cell_type": "markdown",
   "metadata": {},
   "source": [
    "### Issue? \n",
    "\n",
    "Since they are interdependent attributes, changes one invalidates the other, thus we need to update both at the same time. Properties allows me to achieve it without any issue. "
   ]
  },
  {
   "cell_type": "code",
   "execution_count": 22,
   "metadata": {},
   "outputs": [],
   "source": [
    "# Interdepended attributes area & radius\n",
    "\n",
    "class Circle(object):\n",
    "    \n",
    "    def __init__(self, radius):\n",
    "        self.__set_radius(radius)\n",
    "        \n",
    "    def get_area(self):\n",
    "        return self._area\n",
    "    \n",
    "    def __get_radius(self):\n",
    "        print(\"__get_radius\")\n",
    "        return self.__radius\n",
    "    \n",
    "    def __set_radius(self, radius):\n",
    "        print(\"__set_radius\")\n",
    "        self.__radius = radius\n",
    "        self._area = 3.14*radius*radius\n",
    "\n",
    "    radius = property(__get_radius, __set_radius)"
   ]
  },
  {
   "cell_type": "code",
   "execution_count": 23,
   "metadata": {},
   "outputs": [
    {
     "name": "stdout",
     "output_type": "stream",
     "text": [
      "__set_radius\n"
     ]
    }
   ],
   "source": [
    "c = Circle(10)"
   ]
  },
  {
   "cell_type": "code",
   "execution_count": 26,
   "metadata": {},
   "outputs": [
    {
     "name": "stdout",
     "output_type": "stream",
     "text": [
      "__get_radius\n",
      "c.radius = 10\n",
      "c._area = 314.0\n"
     ]
    }
   ],
   "source": [
    "print(f\"{c.radius = }\")  # This will intern call `__get_radius` function\n",
    "print(f\"{c._area = }\")"
   ]
  },
  {
   "cell_type": "code",
   "execution_count": 27,
   "metadata": {},
   "outputs": [
    {
     "name": "stdout",
     "output_type": "stream",
     "text": [
      "__set_radius\n"
     ]
    }
   ],
   "source": [
    "# Lets change the radius and see its impact on area.\n",
    "\n",
    "c.radius = 100  # This will intern call `__set_radius` function"
   ]
  },
  {
   "cell_type": "code",
   "execution_count": 28,
   "metadata": {},
   "outputs": [
    {
     "name": "stdout",
     "output_type": "stream",
     "text": [
      "__get_radius\n",
      "c.radius = 100\n",
      "c._area = 31400.0\n"
     ]
    }
   ],
   "source": [
    "print(f\"{c.radius = }\")  # This will intern call `__get_radius` function\n",
    "print(f\"{c._area = }\")"
   ]
  },
  {
   "cell_type": "code",
   "execution_count": 21,
   "metadata": {},
   "outputs": [],
   "source": [
    "import math\n",
    "\n",
    "class Circle(object):\n",
    "\n",
    "    def __init__(self, radius):\n",
    "        self.__set_radius(radius)\n",
    "#         self.radius = property(self.__get_radius, \n",
    "#                                self.__set_radius)\n",
    "\n",
    "    def __get_radius(self):\n",
    "        return self.__radius\n",
    "    \n",
    "    def __set_radius(self, radius):\n",
    "        self.__radius = radius\n",
    "        self.__area = 3.14*radius*radius\n",
    "    \n",
    "    radius = property(__get_radius, \n",
    "                      __set_radius)\n",
    "    \n",
    "    @property\n",
    "    def area(self):\n",
    "        return self.__area\n",
    "    \n",
    "    @area.setter\n",
    "    def area(self, area):\n",
    "        self.__area = area\n",
    "        self.__radius = math.sqrt(self.__area)/3.14"
   ]
  },
  {
   "cell_type": "code",
   "execution_count": 19,
   "metadata": {},
   "outputs": [
    {
     "name": "stdout",
     "output_type": "stream",
     "text": [
      "c.radius = 1\n",
      "c.area = 3.14\n"
     ]
    }
   ],
   "source": [
    "c = Circle(1)\n",
    "print(f\"{c.radius = }\")  # difference in the way they were created as property\n",
    "print(f\"{c.area = }\")"
   ]
  },
  {
   "cell_type": "code",
   "execution_count": 22,
   "metadata": {},
   "outputs": [
    {
     "name": "stdout",
     "output_type": "stream",
     "text": [
      "c.radius = 101\n",
      "c.area = 32031.14\n"
     ]
    }
   ],
   "source": [
    "c.radius = 101\n",
    "\n",
    "print(f\"{c.radius = }\")\n",
    "print(f\"{c.area = }\")"
   ]
  },
  {
   "cell_type": "code",
   "execution_count": 23,
   "metadata": {},
   "outputs": [
    {
     "name": "stdout",
     "output_type": "stream",
     "text": [
      "c.radius = 10.070947962319678\n",
      "c.area = 1000\n"
     ]
    }
   ],
   "source": [
    "c.area = 1000\n",
    "\n",
    "print(f\"{c.radius = }\")\n",
    "print(f\"{c.area = }\")"
   ]
  },
  {
   "cell_type": "code",
   "execution_count": 10,
   "metadata": {},
   "outputs": [],
   "source": [
    "class Celsius:\n",
    "    def __init__(self, temperature = 0):\n",
    "        self.temperature = temperature\n",
    "\n",
    "    def to_fahrenheit(self):\n",
    "        return (self.temperature * 1.8) + 32"
   ]
  },
  {
   "cell_type": "code",
   "execution_count": 12,
   "metadata": {},
   "outputs": [
    {
     "name": "stdout",
     "output_type": "stream",
     "text": [
      "37\n",
      "98.60000000000001\n"
     ]
    }
   ],
   "source": [
    "man = Celsius()\n",
    "# set temperature\n",
    "man.temperature = 37\n",
    "\n",
    "# get temperature\n",
    "print(man.temperature)\n",
    "\n",
    "\n",
    "# get degrees Fahrenheit\n",
    "print(man.to_fahrenheit())\n",
    "##### print(Celsius.temperature)"
   ]
  },
  {
   "cell_type": "code",
   "execution_count": 13,
   "metadata": {},
   "outputs": [
    {
     "name": "stdout",
     "output_type": "stream",
     "text": [
      "4450346896 4450346896\n",
      "4450343760 4450343696\n",
      "0\n",
      "2\n",
      "4\n",
      "2\n",
      "7\n",
      "~~~~~~\n",
      "100\n"
     ]
    }
   ],
   "source": [
    "##############\n",
    "### Riddle ###\n",
    "##############\n",
    "class MyClass(): \n",
    "    x = 0\n",
    "    y = 100\n",
    "\n",
    "a = MyClass()\n",
    "b = MyClass()\n",
    "\n",
    "a.x = 2\n",
    "print(id(a.y), id(b.y))\n",
    "print(id(a.x), id(b.x))\n",
    "print(b.x)\n",
    "\n",
    "MyClass.x = 4\n",
    "print(a.x)\n",
    "print(b.x)\n",
    "\n",
    "MyClass.x = 7\n",
    "print(a.x)\n",
    "print(b.x)\n",
    "print(\"~~~~~~\")\n",
    "b.x = MyClass.y\n",
    "MyClass.x = 4\n",
    "print(b.x)"
   ]
  },
  {
   "cell_type": "markdown",
   "metadata": {},
   "source": [
    "## Class with Getter and Setter"
   ]
  },
  {
   "cell_type": "code",
   "execution_count": 14,
   "metadata": {},
   "outputs": [],
   "source": [
    "class Celsius:\n",
    "    def __init__(self, temperature = 0):\n",
    "        self.set_temperature(temperature)\n",
    "\n",
    "    def to_fahrenheit(self):\n",
    "        return (self.get_temperature() * 1.8) + 32\n",
    "\n",
    "    # new update\n",
    "    def get_temperature(self):\n",
    "        return self._temperature\n",
    "\n",
    "    def set_temperature(self, value):\n",
    "        if value < -273:\n",
    "            raise ValueError(\"Temperature below -273 is not possible\")\n",
    "        self._temperature = value"
   ]
  },
  {
   "cell_type": "markdown",
   "metadata": {},
   "source": [
    "We can see above that new methods get_temperature() and set_temperature() were defined and furthermore, temperature was replaced with \\_temperature. An underscore (\\_) at the beginning is used to denote private variables in Python."
   ]
  },
  {
   "cell_type": "markdown",
   "metadata": {},
   "source": [
    "## Python Way - Property\n",
    "----\n",
    "The pythonic way to deal with the above problem is to use property. Here is how we could have achieved it."
   ]
  },
  {
   "cell_type": "code",
   "execution_count": 24,
   "metadata": {},
   "outputs": [],
   "source": [
    "class Celsius:\n",
    "    def __init__(self, temperature = 0):\n",
    "        self.temperature = temperature\n",
    "\n",
    "    def to_fahrenheit(self):\n",
    "        return (self.temperature * 1.8) + 32\n",
    "\n",
    "    def get_temperature(self):\n",
    "        print(\"Getting value\")\n",
    "        return self._temperature\n",
    "\n",
    "    def set_temperature(self, value):\n",
    "        if value < -273:\n",
    "            raise ValueError(\"Temperature below -273 is not possible\")\n",
    "        print(\"Setting value\")\n",
    "        self._temperature = value\n",
    "\n",
    "    temperature = property(get_temperature, set_temperature)"
   ]
  },
  {
   "cell_type": "code",
   "execution_count": 30,
   "metadata": {},
   "outputs": [
    {
     "name": "stdout",
     "output_type": "stream",
     "text": [
      "Setting value\n",
      "Setting value\n",
      "Getting value\n",
      "-10\n",
      "Getting value\n",
      "14.0\n"
     ]
    }
   ],
   "source": [
    "man = Celsius()\n",
    "# set temperature\n",
    "man.temperature = -10\n",
    "\n",
    "# get temperature\n",
    "print(man.temperature)\n",
    "\n",
    "# get degrees Fahrenheit\n",
    "print(man.to_fahrenheit())\n",
    "##### print(Celsius.temperature)"
   ]
  },
  {
   "cell_type": "code",
   "execution_count": 29,
   "metadata": {},
   "outputs": [
    {
     "name": "stdout",
     "output_type": "stream",
     "text": [
      "Setting value\n",
      "Setting value\n",
      "Getting value\n",
      "-40\n",
      "Getting value\n",
      "-40.0\n"
     ]
    }
   ],
   "source": [
    "man = Celsius()\n",
    "# set temperature\n",
    "man.temperature = -40\n",
    "\n",
    "# get temperature\n",
    "print(man.temperature)\n",
    "\n",
    "# get degrees Fahrenheit\n",
    "print(man.to_fahrenheit())\n",
    "##### print(Celsius.temperature)"
   ]
  },
  {
   "cell_type": "markdown",
   "metadata": {},
   "source": [
    "## Deep in Property"
   ]
  },
  {
   "cell_type": "markdown",
   "metadata": {},
   "source": [
    "- Method 1\n",
    "```python\n",
    "temperature = property(get_temperature, set_temperature)\n",
    "```"
   ]
  },
  {
   "cell_type": "markdown",
   "metadata": {},
   "source": [
    "-  Method 2\n",
    "```python\n",
    "# make empty property\n",
    "temprature = property()\n",
    "# assign getter\n",
    "temprature = temprature.getter(get_temperature)\n",
    "# assign setter\n",
    "temprature = temprature.setter(set_temperature)\n",
    "```"
   ]
  },
  {
   "cell_type": "markdown",
   "metadata": {},
   "source": [
    "- Method 3\n",
    "\n",
    "```python\n",
    "class Celsius:\n",
    "    def __init__(self, temperature = 0):\n",
    "        self._temperature = temperature\n",
    "\n",
    "    def to_fahrenheit(self):\n",
    "        return (self._temperature * 1.8) + 32\n",
    "\n",
    "    @property\n",
    "    def temperature(self):\n",
    "        print(\"Getting value\")\n",
    "        return self._temperature\n",
    "\n",
    "    @temperature.setter\n",
    "    def temperature(self, value):\n",
    "        if value < -273:\n",
    "            raise ValueError(\"Temperature below -273 is not possible\")\n",
    "        print(\"Setting value\")\n",
    "        self._temperature = value\n",
    "\n",
    "\n",
    "celc = Celsius()\n",
    "celc.temperature = 100\n",
    "print(celc.temperature)\n",
    "# del(celc.temperature) # Need to explicitly define a deleter\n",
    "# print(celc.temperature)\n",
    "```"
   ]
  },
  {
   "cell_type": "markdown",
   "metadata": {},
   "source": [
    "Another example to "
   ]
  },
  {
   "cell_type": "code",
   "execution_count": 15,
   "metadata": {},
   "outputs": [],
   "source": [
    "### Method 3\n",
    "class Celsius:\n",
    "    def __init__(self, temperature = 0):\n",
    "        self._temperature = temperature\n",
    "\n",
    "    def to_fahrenheit(self):\n",
    "        return (self._temperature * 1.8) + 32\n",
    "\n",
    "    @property\n",
    "    def temperature(self):\n",
    "        print(\"Getting value\")\n",
    "        return self._temperature\n",
    "\n",
    "    @temperature.setter\n",
    "    def temperature(self, value):\n",
    "        if value < -273:\n",
    "            raise ValueError(\"Temperature below -273 is not possible\")\n",
    "        print(\"Setting value\")\n",
    "        self._temperature = value\n",
    "        \n",
    "    @temperature.deleter\n",
    "    def temperature(self):\n",
    "        print(\"deleting the property\")\n",
    "        del(self._temperature)"
   ]
  },
  {
   "cell_type": "code",
   "execution_count": 17,
   "metadata": {},
   "outputs": [
    {
     "name": "stdout",
     "output_type": "stream",
     "text": [
      "Setting value\n",
      "Getting value\n",
      "100\n",
      "deleting the property\n",
      "Getting value\n",
      "'Celsius' object has no attribute '_temperature'\n"
     ]
    }
   ],
   "source": [
    "celc = Celsius()\n",
    "celc.temperature = 100\n",
    "print(celc.temperature)\n",
    "del(celc.temperature)\n",
    "try:\n",
    "    print(celc.temperature) # This property is no longer valid thus will error out\n",
    "except Exception as e:\n",
    "    print(e)"
   ]
  }
 ],
 "metadata": {
  "kernelspec": {
   "display_name": "Python 3 (ipykernel)",
   "language": "python",
   "name": "python3"
  },
  "language_info": {
   "codemirror_mode": {
    "name": "ipython",
    "version": 3
   },
   "file_extension": ".py",
   "mimetype": "text/x-python",
   "name": "python",
   "nbconvert_exporter": "python",
   "pygments_lexer": "ipython3",
   "version": "3.10.2"
  }
 },
 "nbformat": 4,
 "nbformat_minor": 1
}
