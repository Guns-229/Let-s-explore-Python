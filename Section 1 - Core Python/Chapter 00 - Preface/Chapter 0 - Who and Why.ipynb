{
 "cells": [
  {
   "cell_type": "markdown",
   "metadata": {},
   "source": [
    "# Chapter 0 - Who & Why\n",
    "---"
   ]
  },
  {
   "cell_type": "markdown",
   "metadata": {},
   "source": [
    "This tutorial is created for the sole purpose for provide a base document for my training programs. I am releasing it on the net in hope of people find it useful. \n",
    "\n"
   ]
  },
  {
   "cell_type": "markdown",
   "metadata": {},
   "source": [
    "## Who \n",
    "---\n"
   ]
  },
  {
   "cell_type": "markdown",
   "metadata": {},
   "source": [
    "I am Mayank Johri and since 2000 I have been working in IT domain. In this time I was able to release few opensource projects and books on it. \n",
    "\n",
    "Projects can be found at \n",
    "\n",
    "- https://sourceforge.net/projects/softgridhelper/\n",
    "- https://gitlab.com/mayankjohri\n",
    "\n",
    "and books at Amazon. "
   ]
  },
  {
   "cell_type": "markdown",
   "metadata": {},
   "source": [
    "> **NOTE:**\n",
    "> This version has few topics as placeholder which will be completed in future version only such as \n",
    ">\n",
    "> - Chapter 16 - Standard library,\n",
    "> - Chapter 20 - Basic Design Patterns,\n",
    "> - Chapter 21 - Type Hinting,\n",
    "> - Chapter 99 - Debugging_todo\n",
    ">\n",
    "> Also, many newly added topics might look partially completed. "
   ]
  },
  {
   "cell_type": "markdown",
   "metadata": {},
   "source": [
    "### My history with Python"
   ]
  },
  {
   "cell_type": "markdown",
   "metadata": {},
   "source": [
    "Till 2005, Freebasic, VB, VB.NET & C were my primary programming languages. In early 2005, due to certain personal & political (read M$) reasons, I started searching for my next primary language. My requirement for it were few as listed below:\n",
    "- Opensource language (so I don't have to pay, no licensing issues, no change in language without some workaround for changes)\n",
    "- Easy to learn (Never had too much time)\n",
    "- can be compiled to executables\n",
    "- GUI programming should be possible (wx)\n",
    "- Relatively decent execution speed\n",
    "- Decent support, documentation & forum\n",
    "\n",
    "After about six months, and trying almost most the programming languages from (https://en.wikipedia.org/wiki/List_of_programming_languages)[https://en.wikipedia.org/wiki/List_of_programming_languages], I found that python language suite most of my requirements and thus it became my first choice of programming language.\n",
    "\n",
    "Other langauges which came very near were: \"Ruby\", \"FreeBasic\", \"C\" & \"lua\". I liked \"FreeBasic\" and also migrated one crutial utility of `SoftGridHelper` to it from Python/.Net, since, that utility was to always running on user machines and was to be installed on nearly every machine on the client infrastructure (excluding servers) and \"FreeBasic\" provided me an exeuctable with in few \"kb's\" and without horrible dependency issues of `.NET` versions and it was used in few corporates without any issue."
   ]
  },
  {
   "cell_type": "code",
   "execution_count": 1,
   "metadata": {},
   "outputs": [
    {
     "name": "stdout",
     "output_type": "stream",
     "text": [
      "Python Version Used: 3.10.4 (main, May 23 2022, 13:35:17) [GCC 9.2.0]\n",
      "sys.version_info(major=3, minor=10, micro=4, releaselevel='final', serial=0)\n"
     ]
    }
   ],
   "source": [
    "# This documented has been created using jupyter\n",
    "## Python version used: \n",
    "import sys\n",
    "print(\"Python Version Used:\", sys.version)\n",
    "print(sys.version_info)"
   ]
  }
 ],
 "metadata": {
  "kernelspec": {
   "display_name": "Python 3 (ipykernel)",
   "language": "python",
   "name": "python3"
  },
  "language_info": {
   "codemirror_mode": {
    "name": "ipython",
    "version": 3
   },
   "file_extension": ".py",
   "mimetype": "text/x-python",
   "name": "python",
   "nbconvert_exporter": "python",
   "pygments_lexer": "ipython3",
   "version": "3.10.4"
  }
 },
 "nbformat": 4,
 "nbformat_minor": 2
}
