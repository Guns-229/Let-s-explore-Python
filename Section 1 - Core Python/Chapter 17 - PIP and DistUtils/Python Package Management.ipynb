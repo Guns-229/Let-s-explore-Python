{
 "cells": [
  {
   "cell_type": "markdown",
   "metadata": {},
   "source": [
    "# Python Package Management"
   ]
  },
  {
   "cell_type": "markdown",
   "metadata": {},
   "source": [
    "The Python libraries are distributed using following methods:\n",
    "\n",
    "- `distutils` packages\n",
    "    - python `setup.py`\n",
    "    - Python `Eggs`\n",
    "    - Python Wheel files `whl`\n",
    "- Package managers such as dpkg, rpm, msi, etc"
   ]
  },
  {
   "cell_type": "markdown",
   "metadata": {},
   "source": [
    "## distutils"
   ]
  },
  {
   "cell_type": "markdown",
   "metadata": {},
   "source": [
    "One of the most popular method to distribute the python packages is using `distutils`.\n",
    "The package is distributed in compressed format (such as `tar.gz`, `tar.bz2` and `.zip`).\n",
    "\n",
    "End users extract the compressed files and run the following command to install the package. \n",
    "\n",
    "```\n",
    "python setup.py install\n",
    "```\n",
    "which results in package getting installed in \"site-packages\" folder of Python installation."
   ]
  },
  {
   "cell_type": "markdown",
   "metadata": {},
   "source": [
    "### Creating distribution"
   ]
  },
  {
   "cell_type": "markdown",
   "metadata": {},
   "source": [
    "We are going to use dummy python app and call it `mayadiff`. Steps to create the distribution package for the app are as follows:"
   ]
  },
  {
   "cell_type": "markdown",
   "metadata": {},
   "source": [
    "#### Step 1: Create Folder Structure"
   ]
  },
  {
   "cell_type": "markdown",
   "metadata": {},
   "source": [
    "Lets create the following folders. Just replace <`mayadiff`> to your app name. \n",
    "\n",
    "```\n",
    "/mayadiff/\n",
    "    /mayadiff\n",
    "```"
   ]
  },
  {
   "cell_type": "markdown",
   "metadata": {},
   "source": [
    "#### Step 2: Create `__init__.py` file"
   ]
  },
  {
   "cell_type": "markdown",
   "metadata": {},
   "source": [
    "create `__init__.py` file as shown below\n",
    "```\n",
    "/mayadiff/\n",
    "    /mayadiff\n",
    "    __init__.py\n",
    "```\n",
    "Also, add the following code to the file\n",
    "```python\n",
    "name = \"mayadiff\"\n",
    "```"
   ]
  },
  {
   "cell_type": "markdown",
   "metadata": {},
   "source": [
    "#### Step 3: Creating package files"
   ]
  },
  {
   "cell_type": "markdown",
   "metadata": {},
   "source": [
    "The following three files, provides all the information needed for the application to be packaged. \n",
    "\n",
    "- `setup.py`\n",
    "- `LICENSE`\n",
    "- `README.md`\n",
    "\n",
    "If you have files other than python scripts, then you might wish to create `MANIFEST.in` file and populate is as shown below\n",
    "```\n",
    "include mayadiff/doc/*.*\n",
    "include mayadiff/opt.conf\n",
    "include mayadiff/report_files/*\n",
    "include mayadiff/report_files/css/*.*\n",
    "include mayadiff/report_files/images/*.*\n",
    "include mayadiff/report_files/js/*.*\n",
    "```\n",
    "Also add `include_package_data=True` option in `setup.py` file "
   ]
  },
  {
   "cell_type": "markdown",
   "metadata": {},
   "source": [
    "`setup.py` is the `build` script, which cotains all the logic and details to compile (if needed) and deploy the app on the machine. \n",
    "\n",
    "The sample `setup.py` is shown below. You can update it as per your requirement.\n",
    "\n",
    "```python\n",
    "import setuptools\n",
    "\n",
    "\n",
    "with open(\"README.md\", \"r\") as fh:\n",
    "    long_description = fh.read()\n",
    "\n",
    "setuptools.setup(\n",
    "    name=\"mayadiff\",\n",
    "    version=\"0.0.2\",  # check PEP: 440\n",
    "    author=\"Mayank Johri\",\n",
    "    author_email=\"mayankjohri@gmail.com\",\n",
    "    description=\"An Application to create a diff between two folders/files.\",\n",
    "    long_description=long_description,\n",
    "    long_description_content_type=\"text/markdown\",\n",
    "    url=\"https://sourceforge.net/projects/pyfoldercompare\",\n",
    "    include_package_data=True,\n",
    "    packages=setuptools.find_packages(),\n",
    "    scripts=[\"mayadiff/cmpfiles.py\", \"mayadiff/img_cmp.py\", \"mayadiff/slate.py\"],\n",
    "    package_data={\n",
    "        \"doc\": [\"mayadiff/doc/*\"],\n",
    "        },\n",
    "    classifiers=[\n",
    "        \"Programming Language :: Python :: 3\",\n",
    "        \"License :: OSI Approved :: GNU 3 License\",\n",
    "        \"Operating System :: OS Independent\",\n",
    "    ],\n",
    ")\n",
    "\n",
    "```"
   ]
  },
  {
   "cell_type": "markdown",
   "metadata": {},
   "source": [
    "`LICENSE` file should contain the license under which the application is to be distributed. For open source applications/libraries, check https://choosealicense.com/ link for help picking a license.\n",
    "\n",
    "I normally use either `AGNU` or `GNU3.0`, but you can choose one which suits your requirement."
   ]
  },
  {
   "cell_type": "markdown",
   "metadata": {},
   "source": [
    "#### Copy application/library files "
   ]
  },
  {
   "cell_type": "markdown",
   "metadata": {},
   "source": [
    "copy the required files in inner `mayadiff` folder."
   ]
  },
  {
   "cell_type": "markdown",
   "metadata": {},
   "source": [
    "#### Create distribution package"
   ]
  },
  {
   "cell_type": "markdown",
   "metadata": {},
   "source": [
    "Before creating the distribution package, we need to make sure we have latest version of `setuptools` and `wheel` installed\n",
    "```\n",
    "python3 -m pip install --user --upgrade setuptools wheel\n",
    "```\n",
    "Now lets run the following command to create the package. (_Please run the below command where setup.py file is located._)\n",
    "```\n",
    "python3 setup.py sdist bdist_wheel\n",
    "```\n",
    "The above command will create two files `.whl` and `tar.gz` in `dist` folder. \n",
    "```\n",
    "$:\\> ls dist\n",
    "mayadiff-0.0.2-py3-none-any.whl  mayadiff-0.0.2.tar.gz\n",
    "```"
   ]
  },
  {
   "cell_type": "markdown",
   "metadata": {},
   "source": [
    "#### Testing and Distribution"
   ]
  },
  {
   "cell_type": "markdown",
   "metadata": {},
   "source": [
    "Now, the created `.whl` file can be tested by using `pip` to install and later uploaded to pypi.org website."
   ]
  },
  {
   "cell_type": "markdown",
   "metadata": {},
   "source": [
    "## Package managers such as dpkg, rpm, msi"
   ]
  },
  {
   "cell_type": "markdown",
   "metadata": {},
   "source": [
    "Package managers from operating System usually work with their own packet formats, like \".deb\" (Debian Linux) or \".rpm\" (RedHat Linux). How to install the packages depends on the manager. The big advantage is that the package manager takes care of dependencies and updates.\n",
    "\n",
    "Installer programs are nothing more than executables that install the library. They are generally used in Windows environments and can be uninstalled from the Control Panel."
   ]
  }
 ],
 "metadata": {
  "anaconda-cloud": {},
  "kernelspec": {
   "display_name": "Python 3",
   "language": "python",
   "name": "python3"
  },
  "language_info": {
   "codemirror_mode": {
    "name": "ipython",
    "version": 3
   },
   "file_extension": ".py",
   "mimetype": "text/x-python",
   "name": "python",
   "nbconvert_exporter": "python",
   "pygments_lexer": "ipython3",
   "version": "3.10.0a7"
  }
 },
 "nbformat": 4,
 "nbformat_minor": 1
}
