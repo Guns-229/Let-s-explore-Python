{
 "cells": [
  {
   "cell_type": "markdown",
   "metadata": {},
   "source": [
    "## Maths\n"
   ]
  },
  {
   "cell_type": "markdown",
   "metadata": {},
   "source": [
    "In addition to the *builtin* numeric types in the Python standard library, there are several modules devoted to implementing other types and mathematical operations.\n",
    "\n",
    "The *math* module defines logarithmic, exponentiation, trigonometric, and hyperbolic functions, as well as angular conversions and more. The *cmath* module implements similar functions, but can handle complex numbers.\n",
    "\n",
    "Example:"
   ]
  },
  {
   "cell_type": "code",
   "execution_count": 1,
   "metadata": {},
   "outputs": [
    {
     "name": "stdout",
     "output_type": "stream",
     "text": [
      "Complex: 3j\n",
      "Polar: (3.0, 1.5707963267948966) (in radians)\n",
      "Amplitude: 3.0\n",
      "Angle: 90.0 (grades)\n",
      "Complex: (1.5+1j)\n",
      "Polar: (1.8027756377319946, 0.5880026035475675) (in radians)\n",
      "Amplitude: 1.8027756377319946\n",
      "Angle: 33.690067525979785 (grades)\n",
      "Complex: (-2-2j)\n",
      "Polar: (2.8284271247461903, -2.356194490192345) (in radians)\n",
      "Amplitude: 2.8284271247461903\n",
      "Angle: -135.0 (grades)\n"
     ]
    }
   ],
   "source": [
    "import math\n",
    "import cmath\n",
    "\n",
    "# Complex\n",
    "for cpx in [3j, 1.5 + 1j, -2 - 2j]:\n",
    "\n",
    "    # Polar coordinate conversion\n",
    "    plr = cmath.polar(cpx)\n",
    "    print ('Complex:', cpx)\n",
    "    print ('Polar:', plr, '(in radians)')\n",
    "    print ('Amplitude:', abs(cpx))\n",
    "    print ('Angle:', math.degrees(plr[1]), '(grades)')"
   ]
  },
  {
   "cell_type": "markdown",
   "metadata": {},
   "source": [
    "## `decimal`"
   ]
  },
  {
   "cell_type": "markdown",
   "metadata": {},
   "source": [
    "In the standard library there is the decimal module that defines operations with real numbers with fixed precision.\n",
    "\n",
    "Example:"
   ]
  },
  {
   "cell_type": "code",
   "execution_count": 2,
   "metadata": {},
   "outputs": [
    {
     "name": "stdout",
     "output_type": "stream",
     "text": [
      "Float: 1.0269562977782698e-15\n",
      "Decimal: 0.0\n"
     ]
    }
   ],
   "source": [
    "from decimal import Decimal\n",
    "\n",
    "t = 5.\n",
    "for i in range(50):\n",
    "    t = t - 0.1\n",
    "\n",
    "print ('Float:', t)\n",
    "\n",
    "t = Decimal('5.')\n",
    "for i in range(50):\n",
    "    t = t - Decimal('0.1')\n",
    "\n",
    "print ('Decimal:', t)"
   ]
  },
  {
   "cell_type": "markdown",
   "metadata": {},
   "source": [
    "With this module, it is possible to reduce the introduction of rounding errors arising from floating point arithmetic.\n",
    "\n",
    "In version 2.6, the module *fractions*, which deals with rational numbers,  is also available.\n",
    "\n",
    "Example:"
   ]
  },
  {
   "cell_type": "code",
   "execution_count": 3,
   "metadata": {},
   "outputs": [
    {
     "name": "stdout",
     "output_type": "stream",
     "text": [
      "Fraction('-2/3') = -2/3\n",
      "Fraction('3, 4') = 3/4\n",
      "Fraction('.25') = 1/4\n"
     ]
    }
   ],
   "source": [
    "from fractions import Fraction\n",
    "\n",
    "# Three fractions\n",
    "f1 = Fraction('-2/3')\n",
    "f2 = Fraction(3, 4)\n",
    "f3 = Fraction('.25')\n",
    "\n",
    "print (\"Fraction('-2/3') =\", f1)\n",
    "print (\"Fraction('3, 4') =\", f2)\n",
    "print (\"Fraction('.25') =\", f3)"
   ]
  },
  {
   "cell_type": "code",
   "execution_count": 4,
   "metadata": {},
   "outputs": [
    {
     "name": "stdout",
     "output_type": "stream",
     "text": [
      "-2/3 + 3/4 = 1/12\n",
      "3/4 + 1/4 = 1\n"
     ]
    }
   ],
   "source": [
    "# Sum\n",
    "print (f1, '+', f2, '=', f1 + f2)\n",
    "print (f2, '+', f3, '=', f2 + f3)"
   ]
  },
  {
   "cell_type": "code",
   "execution_count": 5,
   "metadata": {},
   "outputs": [
    {
     "name": "stdout",
     "output_type": "stream",
     "text": [
      "-2/3 * 3/4 = -1/2\n",
      "3/4 * 1/4 = 3/16\n"
     ]
    }
   ],
   "source": [
    "# Multiply\n",
    "\n",
    "print (f1, '*', f2, '=', f1 * f2)\n",
    "print (f2, '*', f3, '=', f2 * f3)"
   ]
  },
  {
   "cell_type": "code",
   "execution_count": 6,
   "metadata": {},
   "outputs": [
    {
     "name": "stdout",
     "output_type": "stream",
     "text": [
      "-2/3 * 2 = -4/3\n",
      "3/4 * 2.3 = 1.7249999999999999\n"
     ]
    }
   ],
   "source": [
    "# Multiply\n",
    "\n",
    "print (f1, '*', \"2\" , '=', f1 * 2)\n",
    "print (f2, '*', \"2.3\", '=', f2 * 2.3)"
   ]
  },
  {
   "cell_type": "markdown",
   "metadata": {},
   "source": [
    "Fractions can be initialized in several ways: as a *string*, as a pair of integers, or as a real number. The module also has a function called `gcd()` which calculates the greatest common divisor (gcd) of two integers."
   ]
  },
  {
   "cell_type": "code",
   "execution_count": null,
   "metadata": {},
   "outputs": [],
   "source": []
  }
 ],
 "metadata": {
  "kernelspec": {
   "display_name": "Python 3",
   "language": "python",
   "name": "python3"
  },
  "language_info": {
   "codemirror_mode": {
    "name": "ipython",
    "version": 3
   },
   "file_extension": ".py",
   "mimetype": "text/x-python",
   "name": "python",
   "nbconvert_exporter": "python",
   "pygments_lexer": "ipython3",
   "version": "3.10.0a7"
  }
 },
 "nbformat": 4,
 "nbformat_minor": 2
}
