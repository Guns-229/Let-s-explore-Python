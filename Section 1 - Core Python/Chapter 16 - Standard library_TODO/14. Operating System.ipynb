{
 "cells": [
  {
   "cell_type": "markdown",
   "metadata": {},
   "source": [
    "### Operating System"
   ]
  },
  {
   "cell_type": "markdown",
   "metadata": {},
   "source": [
    "### `platform.system`"
   ]
  },
  {
   "cell_type": "code",
   "execution_count": 1,
   "metadata": {},
   "outputs": [
    {
     "name": "stdout",
     "output_type": "stream",
     "text": [
      "Darwin\n"
     ]
    }
   ],
   "source": [
    "import platform\n",
    "\n",
    "print(platform.system())"
   ]
  },
  {
   "cell_type": "markdown",
   "metadata": {},
   "source": [
    "### `os.environ`"
   ]
  },
  {
   "cell_type": "markdown",
   "metadata": {},
   "source": [
    "we can use `os.environ` to read environment variables"
   ]
  },
  {
   "cell_type": "code",
   "execution_count": 2,
   "metadata": {},
   "outputs": [
    {
     "name": "stdout",
     "output_type": "stream",
     "text": [
      "None\n"
     ]
    }
   ],
   "source": [
    "from os import environ\n",
    "\n",
    "username = environ.get(\"USERNAME\")\n",
    "print(username)"
   ]
  },
  {
   "cell_type": "code",
   "execution_count": 3,
   "metadata": {},
   "outputs": [
    {
     "name": "stdout",
     "output_type": "stream",
     "text": [
      "Not Found\n"
     ]
    }
   ],
   "source": [
    "OS = environ.get(\"OS\", default=\"Not Found\")\n",
    "print(OS)"
   ]
  },
  {
   "cell_type": "code",
   "execution_count": 4,
   "metadata": {},
   "outputs": [
    {
     "name": "stdout",
     "output_type": "stream",
     "text": [
      "/Users/mayank.johri/Library/Python/3.7/bin:/Library/Frameworks/Python.framework/Versions/3.7/bin:/Library/Frameworks/Python.framework/Versions/3.8/bin:~/.nimble/bin:~/homebrew/opt/sphinx-doc/bin:/Users/mayank.johri/.cargo/bin:~/Library/Python/2.7/bin:~/homebrew/bin/:~/Library/Python/3.7/bin:/Library/Frameworks/Python.framework/Versions/3.7/bin:/usr/local/bin:/usr/bin:/bin:/usr/sbin:/sbin:/usr/local/go/bin:/opt/salt/bin:/usr/local/sbin:/usr/local/munki:/opt/X11/bin:~/Library/Android/sdk/platform-tools:~/Library/Android/sdk/tools/bin:/Users/mayank.johri/go/bin:~/apps/nvim-osx64/bin:~/Library/Python/3.7/bin:~/apps/scripts\n"
     ]
    }
   ],
   "source": [
    "path = environ.get(\"PATH\", default=\"\")\n",
    "print(path)"
   ]
  },
  {
   "cell_type": "markdown",
   "metadata": {},
   "source": [
    "Apart from the file system, the modules of the standard library also provides access to other services provided by the operating system.\n",
    "\n",
    "Example:"
   ]
  },
  {
   "cell_type": "code",
   "execution_count": 5,
   "metadata": {},
   "outputs": [
    {
     "name": "stdout",
     "output_type": "stream",
     "text": [
      "User: mayank.johri\n",
      "plataform: Darwin-17.7.0-x86_64-i386-64bit\n",
      "Current dir: /books/mj/books/lep/Section 1 - Core Python/Chapter 16 - Standard library\n",
      "Executable: python3.7\n",
      "Executable dir: /Library/Frameworks/Python.framework/Versions/3.7/bin\n"
     ]
    }
   ],
   "source": [
    "import os\n",
    "import sys\n",
    "import platform\n",
    "\n",
    "def uid():\n",
    "    \"\"\"\n",
    "    uid() -> returns the current user identification\n",
    "    or None if not possible to identify\n",
    "    \"\"\"\n",
    "\n",
    "    # Ambient variables for each operating system\n",
    "    us = {'Windows': 'USERNAME',\n",
    "          'Linux': 'USER',\n",
    "          'Darwin': 'USER'}\n",
    "\n",
    "    u = us.get(platform.system())\n",
    "    return os.environ.get(u)\n",
    "\n",
    "print ('User:', uid())\n",
    "print ('plataform:', platform.platform())\n",
    "print ('Current dir:', os.path.abspath(os.curdir))\n",
    "exep, exef = os.path.split(sys.executable)\n",
    "print ('Executable:', exef)\n",
    "print ('Executable dir:', exep)"
   ]
  },
  {
   "cell_type": "code",
   "execution_count": 6,
   "metadata": {},
   "outputs": [],
   "source": [
    "## `os.path`"
   ]
  },
  {
   "cell_type": "code",
   "execution_count": 7,
   "metadata": {},
   "outputs": [
    {
     "name": "stdout",
     "output_type": "stream",
     "text": [
      "['__all__', '__builtins__', '__cached__', '__doc__', '__file__', '__loader__', '__name__', '__package__', '__spec__', '_get_sep', '_joinrealpath', '_varprog', '_varprogb', 'abspath', 'altsep', 'basename', 'commonpath', 'commonprefix', 'curdir', 'defpath', 'devnull', 'dirname', 'exists', 'expanduser', 'expandvars', 'extsep', 'genericpath', 'getatime', 'getctime', 'getmtime', 'getsize', 'isabs', 'isdir', 'isfile', 'islink', 'ismount', 'join', 'lexists', 'normcase', 'normpath', 'os', 'pardir', 'pathsep', 'realpath', 'relpath', 'samefile', 'sameopenfile', 'samestat', 'sep', 'split', 'splitdrive', 'splitext', 'stat', 'supports_unicode_filenames', 'sys']\n"
     ]
    }
   ],
   "source": [
    "print(dir(os.path))"
   ]
  },
  {
   "cell_type": "markdown",
   "metadata": {},
   "source": [
    "### `os.path.join`"
   ]
  },
  {
   "cell_type": "code",
   "execution_count": 8,
   "metadata": {},
   "outputs": [
    {
     "name": "stdout",
     "output_type": "stream",
     "text": [
      "home/gv/music\n"
     ]
    }
   ],
   "source": [
    "ls  = ()\n",
    "print(os.path.join(\"home\", \"gv\", \"music\"))"
   ]
  },
  {
   "cell_type": "code",
   "execution_count": 9,
   "metadata": {},
   "outputs": [
    {
     "data": {
      "text/plain": [
       "'/'"
      ]
     },
     "execution_count": 9,
     "metadata": {},
     "output_type": "execute_result"
    }
   ],
   "source": [
    "# Returns the seperation string based on OS we are running the python string \n",
    "os.path.sep"
   ]
  },
  {
   "cell_type": "markdown",
   "metadata": {},
   "source": [
    "### `abspath`"
   ]
  },
  {
   "cell_type": "code",
   "execution_count": 10,
   "metadata": {},
   "outputs": [
    {
     "data": {
      "text/plain": [
       "'/books/mj/books/lep/Section 1 - Core Python/test'"
      ]
     },
     "execution_count": 10,
     "metadata": {},
     "output_type": "execute_result"
    }
   ],
   "source": [
    "from os.path import abspath\n",
    "abspath(os.path.join(\"..\", \"test\"))"
   ]
  },
  {
   "cell_type": "markdown",
   "metadata": {},
   "source": [
    "Process execution example:"
   ]
  },
  {
   "cell_type": "code",
   "execution_count": 11,
   "metadata": {},
   "outputs": [],
   "source": [
    "###################################\n",
    "### TODO ##########################\n",
    "###################################\n",
    "###################################\n",
    "###################################\n",
    "\n",
    "# import sys\n",
    "# from subprocess import Popen, PIPE\n",
    "\n",
    "# # ping\n",
    "# cmd = 'ping -c 1 '\n",
    "# # No Windows\n",
    "# if sys.platform == 'win32':\n",
    "#     cmd = 'ping -n 1 '\n",
    "\n",
    "# # Local just for testing\n",
    "# host = '127.0.0.1'\n",
    "\n",
    "# # Comunicates with another process\n",
    "# # a pipe with the command stdout\n",
    "# py = Popen(cmd + host, stdout=PIPE)\n",
    "\n",
    "# # Shows command output\n",
    "# print (py.stdout.read())"
   ]
  },
  {
   "cell_type": "markdown",
   "metadata": {},
   "source": [
    "The *subprocess* module provides a generic way of running processes with Popen() function which allows communication with the process through operating system pipes."
   ]
  },
  {
   "cell_type": "code",
   "execution_count": 12,
   "metadata": {},
   "outputs": [
    {
     "data": {
      "text/plain": [
       "'Darwin'"
      ]
     },
     "execution_count": 12,
     "metadata": {},
     "output_type": "execute_result"
    }
   ],
   "source": [
    "platform.system()"
   ]
  }
 ],
 "metadata": {
  "kernelspec": {
   "display_name": "Python 3",
   "language": "python",
   "name": "python3"
  },
  "language_info": {
   "codemirror_mode": {
    "name": "ipython",
    "version": 3
   },
   "file_extension": ".py",
   "mimetype": "text/x-python",
   "name": "python",
   "nbconvert_exporter": "python",
   "pygments_lexer": "ipython3",
   "version": "3.10.0a7"
  }
 },
 "nbformat": 4,
 "nbformat_minor": 2
}
