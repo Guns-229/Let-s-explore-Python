{
 "cells": [
  {
   "cell_type": "markdown",
   "id": "f1ddfff8",
   "metadata": {},
   "source": [
    "## Ellipsis"
   ]
  },
  {
   "cell_type": "markdown",
   "id": "97593ef9",
   "metadata": {},
   "source": [
    "The same as the ellipsis literal `...`. Special value used mostly in conjunction with extended slicing syntax for user-defined container data types. -- `Python Docs`\n",
    "\n",
    "In this section we will cover where it can be used."
   ]
  },
  {
   "cell_type": "markdown",
   "id": "effe99d7",
   "metadata": {},
   "source": [
    "### Ellipsis As a Placeholder"
   ]
  },
  {
   "cell_type": "markdown",
   "id": "8d907c34",
   "metadata": {},
   "source": [
    "Similar to `pass` we can use `Ellipsis` also as a placeholder as shown in the below code."
   ]
  },
  {
   "cell_type": "code",
   "execution_count": 3,
   "id": "bb71c1d2",
   "metadata": {},
   "outputs": [],
   "source": [
    "def dummy_function():\n",
    "    Ellipsis"
   ]
  },
  {
   "cell_type": "markdown",
   "id": "b09af94c",
   "metadata": {},
   "source": [
    "or, we can use `...` format as shown below"
   ]
  },
  {
   "cell_type": "code",
   "execution_count": 119,
   "id": "2c7a79f0",
   "metadata": {},
   "outputs": [],
   "source": [
    "def dummy_function():\n",
    "    ...\n",
    "    \n",
    "class C:\n",
    "    def meth(self): \n",
    "        ..."
   ]
  },
  {
   "cell_type": "code",
   "execution_count": 137,
   "id": "06fa9ad3",
   "metadata": {},
   "outputs": [],
   "source": [
    "# Another example with placeholder data \n",
    "\n",
    "class User(object):\n",
    "    name = ...\n",
    "    def __init__(self, name =...) : ..."
   ]
  },
  {
   "cell_type": "code",
   "execution_count": 139,
   "id": "b60a4ca2",
   "metadata": {},
   "outputs": [
    {
     "name": "stdout",
     "output_type": "stream",
     "text": [
      "user.name = Ellipsis\n"
     ]
    }
   ],
   "source": [
    "user = User()\n",
    "print(f\"{user.name = }\")"
   ]
  },
  {
   "cell_type": "code",
   "execution_count": 140,
   "id": "9fe59d01",
   "metadata": {},
   "outputs": [
    {
     "data": {
      "text/plain": [
       "True"
      ]
     },
     "execution_count": 140,
     "metadata": {},
     "output_type": "execute_result"
    }
   ],
   "source": [
    "# Proving that `...` is actually Ellipsis \n",
    "\n",
    "... == Ellipsis"
   ]
  },
  {
   "cell_type": "markdown",
   "id": "0dc37c01",
   "metadata": {},
   "source": [
    "### Ellipsis in List and other data types - Circular references"
   ]
  },
  {
   "cell_type": "markdown",
   "id": "333f23a5",
   "metadata": {},
   "source": [
    "`...` is also used to hide the dimensions in data as shown be below examples."
   ]
  },
  {
   "cell_type": "code",
   "execution_count": 114,
   "id": "8c7f6134",
   "metadata": {},
   "outputs": [
    {
     "name": "stdout",
     "output_type": "stream",
     "text": [
      "[1, [...]]\n"
     ]
    }
   ],
   "source": [
    "# In List\n",
    "lst = [1]\n",
    "lst.append(lst)\n",
    "print(lst)"
   ]
  },
  {
   "cell_type": "code",
   "execution_count": 115,
   "id": "ebac13fb",
   "metadata": {},
   "outputs": [
    {
     "name": "stdout",
     "output_type": "stream",
     "text": [
      "x = [[[[...]]], [[[...]]]], y = [[[...]]] and z = [[[...]]]\n"
     ]
    }
   ],
   "source": [
    "y, z = [], []\n",
    "x = [y, z]\n",
    "y.append(z)\n",
    "z.append(y)\n",
    "\n",
    "print(f\"{x = }, {y = } and {z = }\")"
   ]
  },
  {
   "cell_type": "code",
   "execution_count": 116,
   "id": "4c1e9dfc",
   "metadata": {},
   "outputs": [
    {
     "name": "stdout",
     "output_type": "stream",
     "text": [
      "d = {0: {...}}\n"
     ]
    }
   ],
   "source": [
    "# In dictionary\n",
    "d = {}\n",
    "d[0] = d\n",
    "print(f\"{d = }\")"
   ]
  },
  {
   "cell_type": "code",
   "execution_count": 146,
   "id": "e46d3a07",
   "metadata": {},
   "outputs": [
    {
     "name": "stdout",
     "output_type": "stream",
     "text": [
      "5 items returned\n",
      "Everything returned\n"
     ]
    }
   ],
   "source": [
    "# Another Example for using Ellipsis \n",
    "# Removed most of the code for range except relevant code\n",
    "# for understanding the use of `Ellipsis`\n",
    "\n",
    "class myRange(object):\n",
    "    def __getitem__(self, item):\n",
    "        if item is Ellipsis:\n",
    "            return \"Everything returned\"\n",
    "        else:\n",
    "            return f\"{item} items returned\"\n",
    "        \n",
    "x = myRange()\n",
    "print (x[5])\n",
    "print (x[...] )"
   ]
  },
  {
   "cell_type": "markdown",
   "id": "be6f8ab4",
   "metadata": {},
   "source": [
    "### Ellipsis for Type Hinting"
   ]
  },
  {
   "cell_type": "markdown",
   "id": "e6afdf84",
   "metadata": {},
   "source": [
    "`Ellipsis` can be used in type hints as shown in the below examples"
   ]
  },
  {
   "cell_type": "markdown",
   "id": "0776e19f",
   "metadata": {},
   "source": [
    "#### To denote variable-length homogeneous data in data collection"
   ]
  },
  {
   "cell_type": "code",
   "execution_count": 156,
   "id": "95385751",
   "metadata": {},
   "outputs": [],
   "source": [
    "from typing import Tuple, List\n",
    "\n",
    "def UserCount( users: List[str, ...]): ...\n",
    "    \n",
    "def UserCount( users: List[str, ...]) -> Tuple(int, ...) : ..."
   ]
  },
  {
   "cell_type": "markdown",
   "id": "e0a0c951",
   "metadata": {},
   "source": [
    "### Funny Situations"
   ]
  },
  {
   "cell_type": "code",
   "execution_count": 33,
   "id": "aaf72e88",
   "metadata": {},
   "outputs": [
    {
     "name": "stdout",
     "output_type": "stream",
     "text": [
      "ellipsis\n"
     ]
    }
   ],
   "source": [
    " print(....__class__.__name__)"
   ]
  },
  {
   "cell_type": "markdown",
   "id": "e8c94944",
   "metadata": {},
   "source": [
    "### Gotcha's"
   ]
  },
  {
   "cell_type": "markdown",
   "id": "536e2b01",
   "metadata": {},
   "source": [
    "##### It can't be subclassed"
   ]
  },
  {
   "cell_type": "markdown",
   "id": "c2706032",
   "metadata": {},
   "source": [
    "We can't create subclasses using `Ellipsis`, trying it will always results in error as shown below"
   ]
  },
  {
   "cell_type": "code",
   "execution_count": 145,
   "id": "2d16eeed",
   "metadata": {},
   "outputs": [
    {
     "name": "stdout",
     "output_type": "stream",
     "text": [
      "Error: EllipsisType takes no arguments\n"
     ]
    }
   ],
   "source": [
    "# 1\n",
    "\n",
    "try:\n",
    "    class Spam(...): pass\n",
    "except Exception as e:\n",
    "    print(f\"Error: {e}\")"
   ]
  },
  {
   "cell_type": "code",
   "execution_count": 148,
   "id": "cb81640c",
   "metadata": {},
   "outputs": [
    {
     "name": "stdout",
     "output_type": "stream",
     "text": [
      "Error: type 'ellipsis' is not an acceptable base type\n"
     ]
    }
   ],
   "source": [
    "# 2\n",
    "\n",
    "try:\n",
    "    class Spam(type(...)): pass\n",
    "except Exception as e:\n",
    "    print(f\"Error: {e}\")"
   ]
  },
  {
   "cell_type": "markdown",
   "id": "f41fd027",
   "metadata": {},
   "source": [
    "##### Objects cannot be created using `Ellipsis`"
   ]
  },
  {
   "cell_type": "code",
   "execution_count": 144,
   "id": "524701e2",
   "metadata": {},
   "outputs": [
    {
     "name": "stdout",
     "output_type": "stream",
     "text": [
      "Error: 'ellipsis' object is not callable\n"
     ]
    }
   ],
   "source": [
    "# 3\n",
    "\n",
    "try:\n",
    "    d = Ellipsis()\n",
    "except Exception as e:\n",
    "    print(f\"Error: {e}\") "
   ]
  },
  {
   "cell_type": "markdown",
   "id": "d9d22bd6",
   "metadata": {},
   "source": [
    "### References"
   ]
  },
  {
   "cell_type": "markdown",
   "id": "0c71c002",
   "metadata": {},
   "source": [
    "- https://mail.python.org/pipermail/python-3000/2008-January/011792.html\n",
    "- https://www.python.org/dev/peps/pep-0484/"
   ]
  }
 ],
 "metadata": {
  "kernelspec": {
   "display_name": "Python 3",
   "language": "python",
   "name": "python3"
  },
  "language_info": {
   "codemirror_mode": {
    "name": "ipython",
    "version": 3
   },
   "file_extension": ".py",
   "mimetype": "text/x-python",
   "name": "python",
   "nbconvert_exporter": "python",
   "pygments_lexer": "ipython3",
   "version": "3.10.0a7"
  }
 },
 "nbformat": 4,
 "nbformat_minor": 5
}
