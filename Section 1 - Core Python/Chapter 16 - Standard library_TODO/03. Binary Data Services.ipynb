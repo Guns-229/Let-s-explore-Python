{
 "cells": [
  {
   "cell_type": "markdown",
   "metadata": {},
   "source": [
    "## Binary Data Services"
   ]
  },
  {
   "cell_type": "markdown",
   "metadata": {},
   "source": [
    "### `struct` - Interpret bytes as packed binary data"
   ]
  },
  {
   "cell_type": "markdown",
   "metadata": {},
   "source": [
    "Python provides `struct` module to convert native python data types into string of byes and vice versa. It can be used to communicate between `C` structs and `Python` data types and is usually used to handle binary data files. \n",
    "\n",
    "We need to import the `struct` module before using it."
   ]
  },
  {
   "cell_type": "code",
   "execution_count": 50,
   "metadata": {},
   "outputs": [],
   "source": [
    "import struct"
   ]
  },
  {
   "cell_type": "markdown",
   "metadata": {},
   "source": [
    "#### `struct.pack`"
   ]
  },
  {
   "cell_type": "markdown",
   "metadata": {},
   "source": [
    "`struct.pack` can be used to pack the hashable datasets into binary data as shown in the below examples"
   ]
  },
  {
   "cell_type": "code",
   "execution_count": 16,
   "metadata": {},
   "outputs": [
    {
     "name": "stdout",
     "output_type": "stream",
     "text": [
      "data = b'm\\x00\\x00\\x00-\\x00\\x00\\x00A'\n"
     ]
    }
   ],
   "source": [
    "data = struct.pack('s i s', b'mayank', 45, b'Author')\n",
    "print(f\"{data = }\")"
   ]
  },
  {
   "cell_type": "markdown",
   "metadata": {},
   "source": [
    "In the above example, first string which is provided informs us about the data types of the remaining data. We can use the following format table to define the data types\n",
    "\n",
    "| Format | C Type               | Python type       | Standard size |\n",
    "| ------ | -------------------- | ----------------- | ------------- |\n",
    "| `x`    | `pad byte`           | no value          |               |\n",
    "| `c`    | `char`               | bytes of length 1 | 1             |\n",
    "| `b`    | `signed char`        | integer           | 1             |\n",
    "| `B`    | `unsigned char`      | integer           | 1             |\n",
    "| `?`    | `_Bool`              | bool              | 1             |\n",
    "| `h`    | `short`              | integer           | 2             |\n",
    "| `H`    | `unsigned short`     | integer           | 2             |\n",
    "| `i`    | `int`                | integer           | 4             |\n",
    "| `I`    | `unsigned int`       | integer           | 4             |\n",
    "| `l`    | `long`               | integer           | 4             |\n",
    "| `L`    | `unsigned long`      | integer           | 4             |\n",
    "| `q`    | `long long`          | integer           | 8             |\n",
    "| `Q`    | `unsigned long long` | integer           | 8             |\n",
    "| `n`    | `ssize_t`            | integer           |               |\n",
    "| `N`    | `size_t`             | integer           |               |\n",
    "| `e`    | -6                   | float             | 2             |\n",
    "| `f`    | `float`              | float             | 4             |\n",
    "| `d`    | `double`             | float             | 8             |\n",
    "| `s`    | `char[]`             | bytes             |               |\n",
    "| `p`    | `char[]`             | bytes             |               |\n",
    "| `P`    | `void *`             | integer           |               |\n",
    "\n",
    "\n",
    "\n"
   ]
  },
  {
   "cell_type": "code",
   "execution_count": 24,
   "metadata": {},
   "outputs": [
    {
     "name": "stdout",
     "output_type": "stream",
     "text": [
      "data = b'm\\x00\\x00\\x00-\\x00\\x00\\x00A'\n"
     ]
    }
   ],
   "source": [
    "data = struct.pack('s i s', b'mayank', 45, b'Author')\n",
    "print(f\"{data = }\")"
   ]
  },
  {
   "cell_type": "markdown",
   "metadata": {},
   "source": [
    "#### `struct.unpack`"
   ]
  },
  {
   "cell_type": "markdown",
   "metadata": {},
   "source": [
    "`struct.pack` can be used to unpack the hashable datasets from the binary data as shown in the below examples. Also note that it always return a tuple with unpacked data in it."
   ]
  },
  {
   "cell_type": "code",
   "execution_count": 23,
   "metadata": {},
   "outputs": [
    {
     "name": "stdout",
     "output_type": "stream",
     "text": [
      "py_data = (b'm', 45, b'A')\n"
     ]
    }
   ],
   "source": [
    "py_data = struct.unpack(\"s i s\", data)\n",
    "print(f\"{py_data = }\")"
   ]
  },
  {
   "cell_type": "markdown",
   "metadata": {},
   "source": [
    "#### `struct.calcsize()`"
   ]
  },
  {
   "cell_type": "markdown",
   "metadata": {},
   "source": [
    "when the string representation of struct is provided to `struct.calcsize()`, returns its calculated size as shown in the below examples"
   ]
  },
  {
   "cell_type": "code",
   "execution_count": 25,
   "metadata": {},
   "outputs": [
    {
     "name": "stdout",
     "output_type": "stream",
     "text": [
      "str_size = 9\n"
     ]
    }
   ],
   "source": [
    "str_size = struct.calcsize(\"s i s\")\n",
    "print(f\"{str_size = }\")"
   ]
  },
  {
   "cell_type": "code",
   "execution_count": 26,
   "metadata": {},
   "outputs": [
    {
     "name": "stdout",
     "output_type": "stream",
     "text": [
      "str_size = 21\n"
     ]
    }
   ],
   "source": [
    "str_size = struct.calcsize(\"4f i s\")\n",
    "print(f\"{str_size = }\")"
   ]
  },
  {
   "cell_type": "code",
   "execution_count": 29,
   "metadata": {},
   "outputs": [
    {
     "name": "stdout",
     "output_type": "stream",
     "text": [
      "str_size = 24\n"
     ]
    }
   ],
   "source": [
    "str_size = struct.calcsize(\"4f d\")\n",
    "print(f\"{str_size = }\")"
   ]
  },
  {
   "cell_type": "markdown",
   "metadata": {},
   "source": [
    "#### `struct.iter_unpack(format, buffer)`"
   ]
  },
  {
   "cell_type": "markdown",
   "metadata": {},
   "source": [
    "Iteratively unpack from the `buffer` buffer according to the `format` string format. It returns an iterator which will read equally-sized chunks from the `buffer` until all its contents have been consumed. The buffer’s size in bytes must be a multiple of the size required by the format, as reflected by `calcsize()`.\n",
    "\n",
    "Each iteration yields a tuple as specified by the format string."
   ]
  },
  {
   "cell_type": "code",
   "execution_count": 47,
   "metadata": {},
   "outputs": [
    {
     "name": "stdout",
     "output_type": "stream",
     "text": [
      "(b'maya', 10)\n",
      "(b'john', 30)\n"
     ]
    }
   ],
   "source": [
    "data = struct.pack(\"4s i 4s i\", b\"maya\", 10, b\"john\", 30)\n",
    "\n",
    "for x in struct.iter_unpack(\"4s i\",data):\n",
    "    print(f\"{x}\")"
   ]
  },
  {
   "cell_type": "code",
   "execution_count": 49,
   "metadata": {},
   "outputs": [
    {
     "name": "stdout",
     "output_type": "stream",
     "text": [
      "x = (10,)\n",
      "x = (20,)\n",
      "x = (30,)\n",
      "x = (40,)\n"
     ]
    }
   ],
   "source": [
    "data = struct.pack(\"i i i i\", 10, 20, 30, 40)\n",
    "\n",
    "for x in struct.iter_unpack(\"i\",data):\n",
    "    print(f\"{x = }\")"
   ]
  },
  {
   "cell_type": "code",
   "execution_count": 42,
   "metadata": {},
   "outputs": [
    {
     "name": "stdout",
     "output_type": "stream",
     "text": [
      "(b'ma\\x00', 10)\n",
      "(b'jo\\x00', 30)\n"
     ]
    }
   ],
   "source": [
    "data = struct.pack(\"2s i 2s i\", b\"maya\", 10, b\"john\", 30)\n",
    "\n",
    "for x in struct.iter_unpack(\"3s i\",data):\n",
    "    print(f\"{x}\")"
   ]
  },
  {
   "cell_type": "code",
   "execution_count": 44,
   "metadata": {},
   "outputs": [
    {
     "name": "stdout",
     "output_type": "stream",
     "text": [
      "(b'may', 10)\n",
      "(b'jo\\x00', 30)\n"
     ]
    }
   ],
   "source": [
    "data = struct.pack(\"4s i 2s i\", b\"maya\", 10, b\"john\", 30)\n",
    "\n",
    "for x in struct.iter_unpack(\"3s i\",data):\n",
    "    print(f\"{x}\")"
   ]
  },
  {
   "cell_type": "code",
   "execution_count": 46,
   "metadata": {},
   "outputs": [
    {
     "name": "stdout",
     "output_type": "stream",
     "text": [
      "(b'ma\\x00\\x00', 10)\n",
      "(b'john', 30)\n"
     ]
    }
   ],
   "source": [
    "data = struct.pack(\"2s i 4s i\", b\"maya\", 10, b\"john\", 30)\n",
    "\n",
    "for x in struct.iter_unpack(\"4s i\",data):\n",
    "    print(f\"{x}\")"
   ]
  },
  {
   "cell_type": "markdown",
   "metadata": {},
   "source": [
    "#### `struct.pack_into`"
   ]
  },
  {
   "cell_type": "markdown",
   "metadata": {},
   "source": [
    "Identical to the pack_into() function, using the compiled format."
   ]
  },
  {
   "cell_type": "markdown",
   "metadata": {},
   "source": [
    "#### `struct.unpack_from`"
   ]
  },
  {
   "cell_type": "markdown",
   "metadata": {},
   "source": [
    "Identical to the unpack_from() function, using the compiled format."
   ]
  },
  {
   "cell_type": "code",
   "execution_count": null,
   "metadata": {},
   "outputs": [],
   "source": []
  },
  {
   "cell_type": "markdown",
   "metadata": {},
   "source": [
    "codecs — Codec registry and base classes\n",
    "𝑇𝑂𝐷𝑂"
   ]
  },
  {
   "cell_type": "code",
   "execution_count": null,
   "metadata": {},
   "outputs": [],
   "source": []
  }
 ],
 "metadata": {
  "kernelspec": {
   "display_name": "Python 3",
   "language": "python",
   "name": "python3"
  },
  "language_info": {
   "codemirror_mode": {
    "name": "ipython",
    "version": 3
   },
   "file_extension": ".py",
   "mimetype": "text/x-python",
   "name": "python",
   "nbconvert_exporter": "python",
   "pygments_lexer": "ipython3",
   "version": "3.10.0a7"
  }
 },
 "nbformat": 4,
 "nbformat_minor": 2
}
