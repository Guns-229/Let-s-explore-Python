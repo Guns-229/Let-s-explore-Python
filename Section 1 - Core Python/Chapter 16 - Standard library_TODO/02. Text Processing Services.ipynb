{
 "cells": [
  {
   "cell_type": "markdown",
   "metadata": {},
   "source": [
    "## Text Processing Services"
   ]
  },
  {
   "cell_type": "markdown",
   "metadata": {},
   "source": [
    "### textwrap — Text wrapping and filling\n",
    "\n",
    "The `textwrap` module provides some convenience functions, as well as `TextWrapper`, the class that does all the work. If you’re just wrapping or filling one or two text strings, the convenience functions should be good enough; otherwise, you should use an instance of `TextWrapper` for efficiency"
   ]
  },
  {
   "cell_type": "markdown",
   "metadata": {},
   "source": [
    "* **textwrap.wrap** - Wraps the single paragraph in text (a string) so every line is at most width characters long. Returns a list of output lines, without final newlines. Optional keyword arguments correspond to the instance attributes of TextWrapper, documented below. width defaults to 70."
   ]
  },
  {
   "cell_type": "code",
   "execution_count": 2,
   "metadata": {},
   "outputs": [
    {
     "name": "stdout",
     "output_type": "stream",
     "text": [
      "    The   `textwrap` module provides some convenience functions, as well as `TextWrapper`, the class that does all the work. If you’re just wrapping or filling one or two text strings, the convenience functions should be good enough; otherwise, you should use an instance of `TextWrapper` for efficiency\n"
     ]
    }
   ],
   "source": [
    "txt = \"    The   `textwrap` module provides some convenience functions, as well as `TextWrapper`, the class that does all the work. If you’re just wrapping or filling one or two text strings, the convenience functions should be good enough; otherwise, you should use an instance of `TextWrapper` for efficiency\"\n",
    "print(txt)"
   ]
  },
  {
   "cell_type": "code",
   "execution_count": 3,
   "metadata": {},
   "outputs": [
    {
     "name": "stdout",
     "output_type": "stream",
     "text": [
      "['    The   `textwrap` module provides some convenience functions, as', 'well as `TextWrapper`, the class that does all the work. If you’re', 'just wrapping or filling one or two text strings, the convenience', 'functions should be good enough; otherwise, you should use an instance', 'of `TextWrapper` for efficiency']\n"
     ]
    }
   ],
   "source": [
    "import textwrap\n",
    "print(textwrap.wrap(txt))"
   ]
  },
  {
   "cell_type": "code",
   "execution_count": 4,
   "metadata": {},
   "outputs": [
    {
     "name": "stdout",
     "output_type": "stream",
     "text": [
      "    The   `textwrap` module provides some convenience functions, as\n",
      "well as `TextWrapper`, the class that does all the work. If you’re\n",
      "just wrapping or filling one or two text strings, the convenience\n",
      "functions should be good enough; otherwise, you should use an instance\n",
      "of `TextWrapper` for efficiency\n"
     ]
    }
   ],
   "source": [
    "# Default max width is 70 characters\n",
    "\n",
    "for t in textwrap.wrap(txt):\n",
    "    print(t)"
   ]
  },
  {
   "cell_type": "code",
   "execution_count": 5,
   "metadata": {},
   "outputs": [
    {
     "name": "stdout",
     "output_type": "stream",
     "text": [
      "    The   `textwrap` module provides some convenience functions, as well as `TextWrapper`, the class\n",
      "that does all the work. If you’re just wrapping or filling one or two text strings, the convenience\n",
      "functions should be good enough; otherwise, you should use an instance of `TextWrapper` for\n",
      "efficiency\n"
     ]
    }
   ],
   "source": [
    "for t in textwrap.wrap(txt, width=100):\n",
    "    print(t)"
   ]
  },
  {
   "cell_type": "code",
   "execution_count": 6,
   "metadata": {},
   "outputs": [
    {
     "name": "stdout",
     "output_type": "stream",
     "text": [
      "****** License ******   \n",
      "The   `textwrap` module provides\n",
      "some convenience functions, as well as `TextWrapper`, the\n",
      "class that does all the work. If you’re just wrapping or\n",
      "filling one or two text strings, the convenience functions\n",
      "should be good enough; otherwise, you should use an instance\n",
      "of `TextWrapper` for efficiency\n"
     ]
    }
   ],
   "source": [
    "for t in textwrap.wrap(txt.strip(), width=60, initial_indent=\"****** License ******   \\n\"):\n",
    "    print(t)"
   ]
  },
  {
   "cell_type": "markdown",
   "metadata": {},
   "source": [
    "* **`textwrap.fill`** - Wraps the single paragraph in text, and returns a single string containing the wrapped paragraph. fill() is shorthand for"
   ]
  },
  {
   "cell_type": "code",
   "execution_count": 7,
   "metadata": {},
   "outputs": [
    {
     "name": "stdout",
     "output_type": "stream",
     "text": [
      "<class 'str'>\n",
      "****** License ******   \n",
      "The   `textwrap` module provides\n",
      "some convenience functions, as well as `TextWrapper`, the\n",
      "class that does all the work. If you’re just wrapping or\n",
      "filling one or two text strings, the convenience functions\n",
      "should be good enough; otherwise, you should use an instance\n",
      "of `TextWrapper` for efficiency\n"
     ]
    }
   ],
   "source": [
    "x = textwrap.fill(txt.strip(), width=60, initial_indent=\"****** License ******   \\n\")\n",
    "print(type(x))\n",
    "print(x)"
   ]
  },
  {
   "cell_type": "markdown",
   "metadata": {},
   "source": [
    "* **`textwrap.shorten`** - Collapse and truncate the given text to fit in the given width. First the whitespace in text is collapsed (all whitespace is replaced by single spaces). If the result fits in the width, it is returned. Otherwise, enough words are dropped from the end so that the remaining words plus the placeholder fit within width"
   ]
  },
  {
   "cell_type": "code",
   "execution_count": 10,
   "metadata": {},
   "outputs": [
    {
     "name": "stdout",
     "output_type": "stream",
     "text": [
      "The `textwrap` module provides some convenience [...]\n",
      "The `textwrap` module provides some [...]\n",
      "The `textwrap` module ...\n",
      "25\n",
      "The `textwrap` ->\n",
      "17\n"
     ]
    }
   ],
   "source": [
    "print(textwrap.shorten(txt, width=60))\n",
    "print(textwrap.shorten(txt, width=50))\n",
    "s = textwrap.shorten(txt, width=25, placeholder=\" ...\")\n",
    "print(s)\n",
    "print(len(s))\n",
    "s = textwrap.shorten(txt, width=20, placeholder=\" ->\")\n",
    "print(s)\n",
    "print(len(s))"
   ]
  },
  {
   "cell_type": "markdown",
   "metadata": {},
   "source": [
    "* **textwrap.dedent** - Remove any common leading whitespace from every line in text, while taking in account the relative spaces between individual lines."
   ]
  },
  {
   "cell_type": "code",
   "execution_count": 11,
   "metadata": {},
   "outputs": [
    {
     "name": "stdout",
     "output_type": "stream",
     "text": [
      "   \n",
      "   This is a text \n",
      "    This is good \n",
      "  but not better.... \t \n",
      "\n"
     ]
    }
   ],
   "source": [
    "txt = \"\"\"   \n",
    "   This is a text \n",
    "    This is good \n",
    "  but not better.... \\t \n",
    "\"\"\"\n",
    "print(txt)"
   ]
  },
  {
   "cell_type": "code",
   "execution_count": 9,
   "metadata": {},
   "outputs": [
    {
     "name": "stdout",
     "output_type": "stream",
     "text": [
      "\n",
      " This is a text \n",
      "  This is good \n",
      "but not better.... \t \n",
      "\n"
     ]
    }
   ],
   "source": [
    "print(textwrap.dedent(txt))"
   ]
  },
  {
   "cell_type": "markdown",
   "metadata": {},
   "source": [
    "* **textwrap.indent** - Add prefix to the beginning of selected lines in text."
   ]
  },
  {
   "cell_type": "code",
   "execution_count": 13,
   "metadata": {},
   "outputs": [
    {
     "name": "stdout",
     "output_type": "stream",
     "text": [
      "$ This is a text \n",
      "$     This is good \n",
      "$   but not better....\n"
     ]
    }
   ],
   "source": [
    "print(textwrap.indent(txt.strip().replace(\",\", '\\n'), '$ '))"
   ]
  },
  {
   "cell_type": "markdown",
   "metadata": {},
   "source": [
    "### unicodedata"
   ]
  },
  {
   "cell_type": "markdown",
   "metadata": {},
   "source": [
    "Get more details from unicode characters using `unicodedata` as shown in the example below"
   ]
  },
  {
   "cell_type": "code",
   "execution_count": 14,
   "metadata": {
    "scrolled": true
   },
   "outputs": [
    {
     "name": "stdout",
     "output_type": "stream",
     "text": [
      "0 0958 Lo : क़ DEVANAGARI LETTER QA\n",
      "1 0959 Lo : ख़ DEVANAGARI LETTER KHHA\n",
      "2 095a Lo : ग़ DEVANAGARI LETTER GHHA\n",
      "3 095b Lo : ज़ DEVANAGARI LETTER ZA\n",
      "4 095c Lo : ड़ DEVANAGARI LETTER DDDHA\n",
      "5 095d Lo : ढ़ DEVANAGARI LETTER RHA\n",
      "6 095e Lo : फ़ DEVANAGARI LETTER FA\n",
      "7 095f Lo : य़ DEVANAGARI LETTER YYA\n",
      "8 0960 Lo : ॠ DEVANAGARI LETTER VOCALIC RR\n",
      "9 0961 Lo : ॡ DEVANAGARI LETTER VOCALIC LL\n",
      "10 0962 Mn : ॢ DEVANAGARI VOWEL SIGN VOCALIC L\n",
      "11 0963 Mn : ॣ DEVANAGARI VOWEL SIGN VOCALIC LL\n",
      "12 0964 Po : । DEVANAGARI DANDA\n",
      "13 0965 Po : ॥ DEVANAGARI DOUBLE DANDA\n",
      "14 0966 Nd : ० DEVANAGARI DIGIT ZERO\n",
      "15 0967 Nd : १ DEVANAGARI DIGIT ONE\n"
     ]
    }
   ],
   "source": [
    "import unicodedata\n",
    "\n",
    "for i, c in enumerate(range(0x0958, 0x0968)):\n",
    "    c = chr(c)\n",
    "    print(i, '%04x' % ord(c), unicodedata.category(c), end=\" : \")\n",
    "    print(c, unicodedata.name(c))"
   ]
  },
  {
   "cell_type": "markdown",
   "metadata": {},
   "source": [
    "### print"
   ]
  },
  {
   "cell_type": "code",
   "execution_count": 15,
   "metadata": {},
   "outputs": [
    {
     "name": "stdout",
     "output_type": "stream",
     "text": [
      "\u001b[0;30;40m 0;30;40 \u001b[0m\u001b[0;30;41m 0;30;41 \u001b[0m\u001b[0;30;42m 0;30;42 \u001b[0m\u001b[0;30;43m 0;30;43 \u001b[0m\u001b[0;30;44m 0;30;44 \u001b[0m\u001b[0;30;45m 0;30;45 \u001b[0m\u001b[0;30;46m 0;30;46 \u001b[0m\u001b[0;30;47m 0;30;47 \u001b[0m\n",
      "\u001b[0;31;40m 0;31;40 \u001b[0m\u001b[0;31;41m 0;31;41 \u001b[0m\u001b[0;31;42m 0;31;42 \u001b[0m\u001b[0;31;43m 0;31;43 \u001b[0m\u001b[0;31;44m 0;31;44 \u001b[0m\u001b[0;31;45m 0;31;45 \u001b[0m\u001b[0;31;46m 0;31;46 \u001b[0m\u001b[0;31;47m 0;31;47 \u001b[0m\n",
      "\u001b[0;32;40m 0;32;40 \u001b[0m\u001b[0;32;41m 0;32;41 \u001b[0m\u001b[0;32;42m 0;32;42 \u001b[0m\u001b[0;32;43m 0;32;43 \u001b[0m\u001b[0;32;44m 0;32;44 \u001b[0m\u001b[0;32;45m 0;32;45 \u001b[0m\u001b[0;32;46m 0;32;46 \u001b[0m\u001b[0;32;47m 0;32;47 \u001b[0m\n",
      "\u001b[0;33;40m 0;33;40 \u001b[0m\u001b[0;33;41m 0;33;41 \u001b[0m\u001b[0;33;42m 0;33;42 \u001b[0m\u001b[0;33;43m 0;33;43 \u001b[0m\u001b[0;33;44m 0;33;44 \u001b[0m\u001b[0;33;45m 0;33;45 \u001b[0m\u001b[0;33;46m 0;33;46 \u001b[0m\u001b[0;33;47m 0;33;47 \u001b[0m\n",
      "\u001b[0;34;40m 0;34;40 \u001b[0m\u001b[0;34;41m 0;34;41 \u001b[0m\u001b[0;34;42m 0;34;42 \u001b[0m\u001b[0;34;43m 0;34;43 \u001b[0m\u001b[0;34;44m 0;34;44 \u001b[0m\u001b[0;34;45m 0;34;45 \u001b[0m\u001b[0;34;46m 0;34;46 \u001b[0m\u001b[0;34;47m 0;34;47 \u001b[0m\n",
      "\u001b[0;35;40m 0;35;40 \u001b[0m\u001b[0;35;41m 0;35;41 \u001b[0m\u001b[0;35;42m 0;35;42 \u001b[0m\u001b[0;35;43m 0;35;43 \u001b[0m\u001b[0;35;44m 0;35;44 \u001b[0m\u001b[0;35;45m 0;35;45 \u001b[0m\u001b[0;35;46m 0;35;46 \u001b[0m\u001b[0;35;47m 0;35;47 \u001b[0m\n",
      "\u001b[0;36;40m 0;36;40 \u001b[0m\u001b[0;36;41m 0;36;41 \u001b[0m\u001b[0;36;42m 0;36;42 \u001b[0m\u001b[0;36;43m 0;36;43 \u001b[0m\u001b[0;36;44m 0;36;44 \u001b[0m\u001b[0;36;45m 0;36;45 \u001b[0m\u001b[0;36;46m 0;36;46 \u001b[0m\u001b[0;36;47m 0;36;47 \u001b[0m\n",
      "\u001b[0;37;40m 0;37;40 \u001b[0m\u001b[0;37;41m 0;37;41 \u001b[0m\u001b[0;37;42m 0;37;42 \u001b[0m\u001b[0;37;43m 0;37;43 \u001b[0m\u001b[0;37;44m 0;37;44 \u001b[0m\u001b[0;37;45m 0;37;45 \u001b[0m\u001b[0;37;46m 0;37;46 \u001b[0m\u001b[0;37;47m 0;37;47 \u001b[0m\n",
      "\n",
      "\n",
      "\u001b[1;30;40m 1;30;40 \u001b[0m\u001b[1;30;41m 1;30;41 \u001b[0m\u001b[1;30;42m 1;30;42 \u001b[0m\u001b[1;30;43m 1;30;43 \u001b[0m\u001b[1;30;44m 1;30;44 \u001b[0m\u001b[1;30;45m 1;30;45 \u001b[0m\u001b[1;30;46m 1;30;46 \u001b[0m\u001b[1;30;47m 1;30;47 \u001b[0m\n",
      "\u001b[1;31;40m 1;31;40 \u001b[0m\u001b[1;31;41m 1;31;41 \u001b[0m\u001b[1;31;42m 1;31;42 \u001b[0m\u001b[1;31;43m 1;31;43 \u001b[0m\u001b[1;31;44m 1;31;44 \u001b[0m\u001b[1;31;45m 1;31;45 \u001b[0m\u001b[1;31;46m 1;31;46 \u001b[0m\u001b[1;31;47m 1;31;47 \u001b[0m\n",
      "\u001b[1;32;40m 1;32;40 \u001b[0m\u001b[1;32;41m 1;32;41 \u001b[0m\u001b[1;32;42m 1;32;42 \u001b[0m\u001b[1;32;43m 1;32;43 \u001b[0m\u001b[1;32;44m 1;32;44 \u001b[0m\u001b[1;32;45m 1;32;45 \u001b[0m\u001b[1;32;46m 1;32;46 \u001b[0m\u001b[1;32;47m 1;32;47 \u001b[0m\n",
      "\u001b[1;33;40m 1;33;40 \u001b[0m\u001b[1;33;41m 1;33;41 \u001b[0m\u001b[1;33;42m 1;33;42 \u001b[0m\u001b[1;33;43m 1;33;43 \u001b[0m\u001b[1;33;44m 1;33;44 \u001b[0m\u001b[1;33;45m 1;33;45 \u001b[0m\u001b[1;33;46m 1;33;46 \u001b[0m\u001b[1;33;47m 1;33;47 \u001b[0m\n",
      "\u001b[1;34;40m 1;34;40 \u001b[0m\u001b[1;34;41m 1;34;41 \u001b[0m\u001b[1;34;42m 1;34;42 \u001b[0m\u001b[1;34;43m 1;34;43 \u001b[0m\u001b[1;34;44m 1;34;44 \u001b[0m\u001b[1;34;45m 1;34;45 \u001b[0m\u001b[1;34;46m 1;34;46 \u001b[0m\u001b[1;34;47m 1;34;47 \u001b[0m\n",
      "\u001b[1;35;40m 1;35;40 \u001b[0m\u001b[1;35;41m 1;35;41 \u001b[0m\u001b[1;35;42m 1;35;42 \u001b[0m\u001b[1;35;43m 1;35;43 \u001b[0m\u001b[1;35;44m 1;35;44 \u001b[0m\u001b[1;35;45m 1;35;45 \u001b[0m\u001b[1;35;46m 1;35;46 \u001b[0m\u001b[1;35;47m 1;35;47 \u001b[0m\n",
      "\u001b[1;36;40m 1;36;40 \u001b[0m\u001b[1;36;41m 1;36;41 \u001b[0m\u001b[1;36;42m 1;36;42 \u001b[0m\u001b[1;36;43m 1;36;43 \u001b[0m\u001b[1;36;44m 1;36;44 \u001b[0m\u001b[1;36;45m 1;36;45 \u001b[0m\u001b[1;36;46m 1;36;46 \u001b[0m\u001b[1;36;47m 1;36;47 \u001b[0m\n",
      "\u001b[1;37;40m 1;37;40 \u001b[0m\u001b[1;37;41m 1;37;41 \u001b[0m\u001b[1;37;42m 1;37;42 \u001b[0m\u001b[1;37;43m 1;37;43 \u001b[0m\u001b[1;37;44m 1;37;44 \u001b[0m\u001b[1;37;45m 1;37;45 \u001b[0m\u001b[1;37;46m 1;37;46 \u001b[0m\u001b[1;37;47m 1;37;47 \u001b[0m\n",
      "\n",
      "\n",
      "\u001b[2;30;40m 2;30;40 \u001b[0m\u001b[2;30;41m 2;30;41 \u001b[0m\u001b[2;30;42m 2;30;42 \u001b[0m\u001b[2;30;43m 2;30;43 \u001b[0m\u001b[2;30;44m 2;30;44 \u001b[0m\u001b[2;30;45m 2;30;45 \u001b[0m\u001b[2;30;46m 2;30;46 \u001b[0m\u001b[2;30;47m 2;30;47 \u001b[0m\n",
      "\u001b[2;31;40m 2;31;40 \u001b[0m\u001b[2;31;41m 2;31;41 \u001b[0m\u001b[2;31;42m 2;31;42 \u001b[0m\u001b[2;31;43m 2;31;43 \u001b[0m\u001b[2;31;44m 2;31;44 \u001b[0m\u001b[2;31;45m 2;31;45 \u001b[0m\u001b[2;31;46m 2;31;46 \u001b[0m\u001b[2;31;47m 2;31;47 \u001b[0m\n",
      "\u001b[2;32;40m 2;32;40 \u001b[0m\u001b[2;32;41m 2;32;41 \u001b[0m\u001b[2;32;42m 2;32;42 \u001b[0m\u001b[2;32;43m 2;32;43 \u001b[0m\u001b[2;32;44m 2;32;44 \u001b[0m\u001b[2;32;45m 2;32;45 \u001b[0m\u001b[2;32;46m 2;32;46 \u001b[0m\u001b[2;32;47m 2;32;47 \u001b[0m\n",
      "\u001b[2;33;40m 2;33;40 \u001b[0m\u001b[2;33;41m 2;33;41 \u001b[0m\u001b[2;33;42m 2;33;42 \u001b[0m\u001b[2;33;43m 2;33;43 \u001b[0m\u001b[2;33;44m 2;33;44 \u001b[0m\u001b[2;33;45m 2;33;45 \u001b[0m\u001b[2;33;46m 2;33;46 \u001b[0m\u001b[2;33;47m 2;33;47 \u001b[0m\n",
      "\u001b[2;34;40m 2;34;40 \u001b[0m\u001b[2;34;41m 2;34;41 \u001b[0m\u001b[2;34;42m 2;34;42 \u001b[0m\u001b[2;34;43m 2;34;43 \u001b[0m\u001b[2;34;44m 2;34;44 \u001b[0m\u001b[2;34;45m 2;34;45 \u001b[0m\u001b[2;34;46m 2;34;46 \u001b[0m\u001b[2;34;47m 2;34;47 \u001b[0m\n",
      "\u001b[2;35;40m 2;35;40 \u001b[0m\u001b[2;35;41m 2;35;41 \u001b[0m\u001b[2;35;42m 2;35;42 \u001b[0m\u001b[2;35;43m 2;35;43 \u001b[0m\u001b[2;35;44m 2;35;44 \u001b[0m\u001b[2;35;45m 2;35;45 \u001b[0m\u001b[2;35;46m 2;35;46 \u001b[0m\u001b[2;35;47m 2;35;47 \u001b[0m\n",
      "\u001b[2;36;40m 2;36;40 \u001b[0m\u001b[2;36;41m 2;36;41 \u001b[0m\u001b[2;36;42m 2;36;42 \u001b[0m\u001b[2;36;43m 2;36;43 \u001b[0m\u001b[2;36;44m 2;36;44 \u001b[0m\u001b[2;36;45m 2;36;45 \u001b[0m\u001b[2;36;46m 2;36;46 \u001b[0m\u001b[2;36;47m 2;36;47 \u001b[0m\n",
      "\u001b[2;37;40m 2;37;40 \u001b[0m\u001b[2;37;41m 2;37;41 \u001b[0m\u001b[2;37;42m 2;37;42 \u001b[0m\u001b[2;37;43m 2;37;43 \u001b[0m\u001b[2;37;44m 2;37;44 \u001b[0m\u001b[2;37;45m 2;37;45 \u001b[0m\u001b[2;37;46m 2;37;46 \u001b[0m\u001b[2;37;47m 2;37;47 \u001b[0m\n",
      "\n",
      "\n",
      "\u001b[3;30;40m 3;30;40 \u001b[0m\u001b[3;30;41m 3;30;41 \u001b[0m\u001b[3;30;42m 3;30;42 \u001b[0m\u001b[3;30;43m 3;30;43 \u001b[0m\u001b[3;30;44m 3;30;44 \u001b[0m\u001b[3;30;45m 3;30;45 \u001b[0m\u001b[3;30;46m 3;30;46 \u001b[0m\u001b[3;30;47m 3;30;47 \u001b[0m\n",
      "\u001b[3;31;40m 3;31;40 \u001b[0m\u001b[3;31;41m 3;31;41 \u001b[0m\u001b[3;31;42m 3;31;42 \u001b[0m\u001b[3;31;43m 3;31;43 \u001b[0m\u001b[3;31;44m 3;31;44 \u001b[0m\u001b[3;31;45m 3;31;45 \u001b[0m\u001b[3;31;46m 3;31;46 \u001b[0m\u001b[3;31;47m 3;31;47 \u001b[0m\n",
      "\u001b[3;32;40m 3;32;40 \u001b[0m\u001b[3;32;41m 3;32;41 \u001b[0m\u001b[3;32;42m 3;32;42 \u001b[0m\u001b[3;32;43m 3;32;43 \u001b[0m\u001b[3;32;44m 3;32;44 \u001b[0m\u001b[3;32;45m 3;32;45 \u001b[0m\u001b[3;32;46m 3;32;46 \u001b[0m\u001b[3;32;47m 3;32;47 \u001b[0m\n",
      "\u001b[3;33;40m 3;33;40 \u001b[0m\u001b[3;33;41m 3;33;41 \u001b[0m\u001b[3;33;42m 3;33;42 \u001b[0m\u001b[3;33;43m 3;33;43 \u001b[0m\u001b[3;33;44m 3;33;44 \u001b[0m\u001b[3;33;45m 3;33;45 \u001b[0m\u001b[3;33;46m 3;33;46 \u001b[0m\u001b[3;33;47m 3;33;47 \u001b[0m\n",
      "\u001b[3;34;40m 3;34;40 \u001b[0m\u001b[3;34;41m 3;34;41 \u001b[0m\u001b[3;34;42m 3;34;42 \u001b[0m\u001b[3;34;43m 3;34;43 \u001b[0m\u001b[3;34;44m 3;34;44 \u001b[0m\u001b[3;34;45m 3;34;45 \u001b[0m\u001b[3;34;46m 3;34;46 \u001b[0m\u001b[3;34;47m 3;34;47 \u001b[0m\n",
      "\u001b[3;35;40m 3;35;40 \u001b[0m\u001b[3;35;41m 3;35;41 \u001b[0m\u001b[3;35;42m 3;35;42 \u001b[0m\u001b[3;35;43m 3;35;43 \u001b[0m\u001b[3;35;44m 3;35;44 \u001b[0m\u001b[3;35;45m 3;35;45 \u001b[0m\u001b[3;35;46m 3;35;46 \u001b[0m\u001b[3;35;47m 3;35;47 \u001b[0m\n",
      "\u001b[3;36;40m 3;36;40 \u001b[0m\u001b[3;36;41m 3;36;41 \u001b[0m\u001b[3;36;42m 3;36;42 \u001b[0m\u001b[3;36;43m 3;36;43 \u001b[0m\u001b[3;36;44m 3;36;44 \u001b[0m\u001b[3;36;45m 3;36;45 \u001b[0m\u001b[3;36;46m 3;36;46 \u001b[0m\u001b[3;36;47m 3;36;47 \u001b[0m\n",
      "\u001b[3;37;40m 3;37;40 \u001b[0m\u001b[3;37;41m 3;37;41 \u001b[0m\u001b[3;37;42m 3;37;42 \u001b[0m\u001b[3;37;43m 3;37;43 \u001b[0m\u001b[3;37;44m 3;37;44 \u001b[0m\u001b[3;37;45m 3;37;45 \u001b[0m\u001b[3;37;46m 3;37;46 \u001b[0m\u001b[3;37;47m 3;37;47 \u001b[0m\n",
      "\n",
      "\n",
      "\u001b[4;30;40m 4;30;40 \u001b[0m\u001b[4;30;41m 4;30;41 \u001b[0m\u001b[4;30;42m 4;30;42 \u001b[0m\u001b[4;30;43m 4;30;43 \u001b[0m\u001b[4;30;44m 4;30;44 \u001b[0m\u001b[4;30;45m 4;30;45 \u001b[0m\u001b[4;30;46m 4;30;46 \u001b[0m\u001b[4;30;47m 4;30;47 \u001b[0m\n",
      "\u001b[4;31;40m 4;31;40 \u001b[0m\u001b[4;31;41m 4;31;41 \u001b[0m\u001b[4;31;42m 4;31;42 \u001b[0m\u001b[4;31;43m 4;31;43 \u001b[0m\u001b[4;31;44m 4;31;44 \u001b[0m\u001b[4;31;45m 4;31;45 \u001b[0m\u001b[4;31;46m 4;31;46 \u001b[0m\u001b[4;31;47m 4;31;47 \u001b[0m\n",
      "\u001b[4;32;40m 4;32;40 \u001b[0m\u001b[4;32;41m 4;32;41 \u001b[0m\u001b[4;32;42m 4;32;42 \u001b[0m\u001b[4;32;43m 4;32;43 \u001b[0m\u001b[4;32;44m 4;32;44 \u001b[0m\u001b[4;32;45m 4;32;45 \u001b[0m\u001b[4;32;46m 4;32;46 \u001b[0m\u001b[4;32;47m 4;32;47 \u001b[0m\n",
      "\u001b[4;33;40m 4;33;40 \u001b[0m\u001b[4;33;41m 4;33;41 \u001b[0m\u001b[4;33;42m 4;33;42 \u001b[0m\u001b[4;33;43m 4;33;43 \u001b[0m\u001b[4;33;44m 4;33;44 \u001b[0m\u001b[4;33;45m 4;33;45 \u001b[0m\u001b[4;33;46m 4;33;46 \u001b[0m\u001b[4;33;47m 4;33;47 \u001b[0m\n",
      "\u001b[4;34;40m 4;34;40 \u001b[0m\u001b[4;34;41m 4;34;41 \u001b[0m\u001b[4;34;42m 4;34;42 \u001b[0m\u001b[4;34;43m 4;34;43 \u001b[0m\u001b[4;34;44m 4;34;44 \u001b[0m\u001b[4;34;45m 4;34;45 \u001b[0m\u001b[4;34;46m 4;34;46 \u001b[0m\u001b[4;34;47m 4;34;47 \u001b[0m\n",
      "\u001b[4;35;40m 4;35;40 \u001b[0m\u001b[4;35;41m 4;35;41 \u001b[0m\u001b[4;35;42m 4;35;42 \u001b[0m\u001b[4;35;43m 4;35;43 \u001b[0m\u001b[4;35;44m 4;35;44 \u001b[0m\u001b[4;35;45m 4;35;45 \u001b[0m\u001b[4;35;46m 4;35;46 \u001b[0m\u001b[4;35;47m 4;35;47 \u001b[0m\n",
      "\u001b[4;36;40m 4;36;40 \u001b[0m\u001b[4;36;41m 4;36;41 \u001b[0m\u001b[4;36;42m 4;36;42 \u001b[0m\u001b[4;36;43m 4;36;43 \u001b[0m\u001b[4;36;44m 4;36;44 \u001b[0m\u001b[4;36;45m 4;36;45 \u001b[0m\u001b[4;36;46m 4;36;46 \u001b[0m\u001b[4;36;47m 4;36;47 \u001b[0m\n",
      "\u001b[4;37;40m 4;37;40 \u001b[0m\u001b[4;37;41m 4;37;41 \u001b[0m\u001b[4;37;42m 4;37;42 \u001b[0m\u001b[4;37;43m 4;37;43 \u001b[0m\u001b[4;37;44m 4;37;44 \u001b[0m\u001b[4;37;45m 4;37;45 \u001b[0m\u001b[4;37;46m 4;37;46 \u001b[0m\u001b[4;37;47m 4;37;47 \u001b[0m\n",
      "\n",
      "\n",
      "\u001b[5;30;40m 5;30;40 \u001b[0m\u001b[5;30;41m 5;30;41 \u001b[0m\u001b[5;30;42m 5;30;42 \u001b[0m\u001b[5;30;43m 5;30;43 \u001b[0m\u001b[5;30;44m 5;30;44 \u001b[0m\u001b[5;30;45m 5;30;45 \u001b[0m\u001b[5;30;46m 5;30;46 \u001b[0m\u001b[5;30;47m 5;30;47 \u001b[0m\n",
      "\u001b[5;31;40m 5;31;40 \u001b[0m\u001b[5;31;41m 5;31;41 \u001b[0m\u001b[5;31;42m 5;31;42 \u001b[0m\u001b[5;31;43m 5;31;43 \u001b[0m\u001b[5;31;44m 5;31;44 \u001b[0m\u001b[5;31;45m 5;31;45 \u001b[0m\u001b[5;31;46m 5;31;46 \u001b[0m\u001b[5;31;47m 5;31;47 \u001b[0m\n",
      "\u001b[5;32;40m 5;32;40 \u001b[0m\u001b[5;32;41m 5;32;41 \u001b[0m\u001b[5;32;42m 5;32;42 \u001b[0m\u001b[5;32;43m 5;32;43 \u001b[0m\u001b[5;32;44m 5;32;44 \u001b[0m\u001b[5;32;45m 5;32;45 \u001b[0m\u001b[5;32;46m 5;32;46 \u001b[0m\u001b[5;32;47m 5;32;47 \u001b[0m\n",
      "\u001b[5;33;40m 5;33;40 \u001b[0m\u001b[5;33;41m 5;33;41 \u001b[0m\u001b[5;33;42m 5;33;42 \u001b[0m\u001b[5;33;43m 5;33;43 \u001b[0m\u001b[5;33;44m 5;33;44 \u001b[0m\u001b[5;33;45m 5;33;45 \u001b[0m\u001b[5;33;46m 5;33;46 \u001b[0m\u001b[5;33;47m 5;33;47 \u001b[0m\n",
      "\u001b[5;34;40m 5;34;40 \u001b[0m\u001b[5;34;41m 5;34;41 \u001b[0m\u001b[5;34;42m 5;34;42 \u001b[0m\u001b[5;34;43m 5;34;43 \u001b[0m\u001b[5;34;44m 5;34;44 \u001b[0m\u001b[5;34;45m 5;34;45 \u001b[0m\u001b[5;34;46m 5;34;46 \u001b[0m\u001b[5;34;47m 5;34;47 \u001b[0m\n",
      "\u001b[5;35;40m 5;35;40 \u001b[0m\u001b[5;35;41m 5;35;41 \u001b[0m\u001b[5;35;42m 5;35;42 \u001b[0m\u001b[5;35;43m 5;35;43 \u001b[0m\u001b[5;35;44m 5;35;44 \u001b[0m\u001b[5;35;45m 5;35;45 \u001b[0m\u001b[5;35;46m 5;35;46 \u001b[0m\u001b[5;35;47m 5;35;47 \u001b[0m\n",
      "\u001b[5;36;40m 5;36;40 \u001b[0m\u001b[5;36;41m 5;36;41 \u001b[0m\u001b[5;36;42m 5;36;42 \u001b[0m\u001b[5;36;43m 5;36;43 \u001b[0m\u001b[5;36;44m 5;36;44 \u001b[0m\u001b[5;36;45m 5;36;45 \u001b[0m\u001b[5;36;46m 5;36;46 \u001b[0m\u001b[5;36;47m 5;36;47 \u001b[0m\n",
      "\u001b[5;37;40m 5;37;40 \u001b[0m\u001b[5;37;41m 5;37;41 \u001b[0m\u001b[5;37;42m 5;37;42 \u001b[0m\u001b[5;37;43m 5;37;43 \u001b[0m\u001b[5;37;44m 5;37;44 \u001b[0m\u001b[5;37;45m 5;37;45 \u001b[0m\u001b[5;37;46m 5;37;46 \u001b[0m\u001b[5;37;47m 5;37;47 \u001b[0m\n",
      "\n",
      "\n",
      "\u001b[6;30;40m 6;30;40 \u001b[0m\u001b[6;30;41m 6;30;41 \u001b[0m\u001b[6;30;42m 6;30;42 \u001b[0m\u001b[6;30;43m 6;30;43 \u001b[0m\u001b[6;30;44m 6;30;44 \u001b[0m\u001b[6;30;45m 6;30;45 \u001b[0m\u001b[6;30;46m 6;30;46 \u001b[0m\u001b[6;30;47m 6;30;47 \u001b[0m\n",
      "\u001b[6;31;40m 6;31;40 \u001b[0m\u001b[6;31;41m 6;31;41 \u001b[0m\u001b[6;31;42m 6;31;42 \u001b[0m\u001b[6;31;43m 6;31;43 \u001b[0m\u001b[6;31;44m 6;31;44 \u001b[0m\u001b[6;31;45m 6;31;45 \u001b[0m\u001b[6;31;46m 6;31;46 \u001b[0m\u001b[6;31;47m 6;31;47 \u001b[0m\n",
      "\u001b[6;32;40m 6;32;40 \u001b[0m\u001b[6;32;41m 6;32;41 \u001b[0m\u001b[6;32;42m 6;32;42 \u001b[0m\u001b[6;32;43m 6;32;43 \u001b[0m\u001b[6;32;44m 6;32;44 \u001b[0m\u001b[6;32;45m 6;32;45 \u001b[0m\u001b[6;32;46m 6;32;46 \u001b[0m\u001b[6;32;47m 6;32;47 \u001b[0m\n",
      "\u001b[6;33;40m 6;33;40 \u001b[0m\u001b[6;33;41m 6;33;41 \u001b[0m\u001b[6;33;42m 6;33;42 \u001b[0m\u001b[6;33;43m 6;33;43 \u001b[0m\u001b[6;33;44m 6;33;44 \u001b[0m\u001b[6;33;45m 6;33;45 \u001b[0m\u001b[6;33;46m 6;33;46 \u001b[0m\u001b[6;33;47m 6;33;47 \u001b[0m\n",
      "\u001b[6;34;40m 6;34;40 \u001b[0m\u001b[6;34;41m 6;34;41 \u001b[0m\u001b[6;34;42m 6;34;42 \u001b[0m\u001b[6;34;43m 6;34;43 \u001b[0m\u001b[6;34;44m 6;34;44 \u001b[0m\u001b[6;34;45m 6;34;45 \u001b[0m\u001b[6;34;46m 6;34;46 \u001b[0m\u001b[6;34;47m 6;34;47 \u001b[0m\n",
      "\u001b[6;35;40m 6;35;40 \u001b[0m\u001b[6;35;41m 6;35;41 \u001b[0m\u001b[6;35;42m 6;35;42 \u001b[0m\u001b[6;35;43m 6;35;43 \u001b[0m\u001b[6;35;44m 6;35;44 \u001b[0m\u001b[6;35;45m 6;35;45 \u001b[0m\u001b[6;35;46m 6;35;46 \u001b[0m\u001b[6;35;47m 6;35;47 \u001b[0m\n",
      "\u001b[6;36;40m 6;36;40 \u001b[0m\u001b[6;36;41m 6;36;41 \u001b[0m\u001b[6;36;42m 6;36;42 \u001b[0m\u001b[6;36;43m 6;36;43 \u001b[0m\u001b[6;36;44m 6;36;44 \u001b[0m\u001b[6;36;45m 6;36;45 \u001b[0m\u001b[6;36;46m 6;36;46 \u001b[0m\u001b[6;36;47m 6;36;47 \u001b[0m\n",
      "\u001b[6;37;40m 6;37;40 \u001b[0m\u001b[6;37;41m 6;37;41 \u001b[0m\u001b[6;37;42m 6;37;42 \u001b[0m\u001b[6;37;43m 6;37;43 \u001b[0m\u001b[6;37;44m 6;37;44 \u001b[0m\u001b[6;37;45m 6;37;45 \u001b[0m\u001b[6;37;46m 6;37;46 \u001b[0m\u001b[6;37;47m 6;37;47 \u001b[0m\n",
      "\n",
      "\n",
      "\u001b[7;30;40m 7;30;40 \u001b[0m\u001b[7;30;41m 7;30;41 \u001b[0m\u001b[7;30;42m 7;30;42 \u001b[0m\u001b[7;30;43m 7;30;43 \u001b[0m\u001b[7;30;44m 7;30;44 \u001b[0m\u001b[7;30;45m 7;30;45 \u001b[0m\u001b[7;30;46m 7;30;46 \u001b[0m\u001b[7;30;47m 7;30;47 \u001b[0m\n",
      "\u001b[7;31;40m 7;31;40 \u001b[0m\u001b[7;31;41m 7;31;41 \u001b[0m\u001b[7;31;42m 7;31;42 \u001b[0m\u001b[7;31;43m 7;31;43 \u001b[0m\u001b[7;31;44m 7;31;44 \u001b[0m\u001b[7;31;45m 7;31;45 \u001b[0m\u001b[7;31;46m 7;31;46 \u001b[0m\u001b[7;31;47m 7;31;47 \u001b[0m\n",
      "\u001b[7;32;40m 7;32;40 \u001b[0m\u001b[7;32;41m 7;32;41 \u001b[0m\u001b[7;32;42m 7;32;42 \u001b[0m\u001b[7;32;43m 7;32;43 \u001b[0m\u001b[7;32;44m 7;32;44 \u001b[0m\u001b[7;32;45m 7;32;45 \u001b[0m\u001b[7;32;46m 7;32;46 \u001b[0m\u001b[7;32;47m 7;32;47 \u001b[0m\n",
      "\u001b[7;33;40m 7;33;40 \u001b[0m\u001b[7;33;41m 7;33;41 \u001b[0m\u001b[7;33;42m 7;33;42 \u001b[0m\u001b[7;33;43m 7;33;43 \u001b[0m\u001b[7;33;44m 7;33;44 \u001b[0m\u001b[7;33;45m 7;33;45 \u001b[0m\u001b[7;33;46m 7;33;46 \u001b[0m\u001b[7;33;47m 7;33;47 \u001b[0m\n",
      "\u001b[7;34;40m 7;34;40 \u001b[0m\u001b[7;34;41m 7;34;41 \u001b[0m\u001b[7;34;42m 7;34;42 \u001b[0m\u001b[7;34;43m 7;34;43 \u001b[0m\u001b[7;34;44m 7;34;44 \u001b[0m\u001b[7;34;45m 7;34;45 \u001b[0m\u001b[7;34;46m 7;34;46 \u001b[0m\u001b[7;34;47m 7;34;47 \u001b[0m\n",
      "\u001b[7;35;40m 7;35;40 \u001b[0m\u001b[7;35;41m 7;35;41 \u001b[0m\u001b[7;35;42m 7;35;42 \u001b[0m\u001b[7;35;43m 7;35;43 \u001b[0m\u001b[7;35;44m 7;35;44 \u001b[0m\u001b[7;35;45m 7;35;45 \u001b[0m\u001b[7;35;46m 7;35;46 \u001b[0m\u001b[7;35;47m 7;35;47 \u001b[0m\n",
      "\u001b[7;36;40m 7;36;40 \u001b[0m\u001b[7;36;41m 7;36;41 \u001b[0m\u001b[7;36;42m 7;36;42 \u001b[0m\u001b[7;36;43m 7;36;43 \u001b[0m\u001b[7;36;44m 7;36;44 \u001b[0m\u001b[7;36;45m 7;36;45 \u001b[0m\u001b[7;36;46m 7;36;46 \u001b[0m\u001b[7;36;47m 7;36;47 \u001b[0m\n",
      "\u001b[7;37;40m 7;37;40 \u001b[0m\u001b[7;37;41m 7;37;41 \u001b[0m\u001b[7;37;42m 7;37;42 \u001b[0m\u001b[7;37;43m 7;37;43 \u001b[0m\u001b[7;37;44m 7;37;44 \u001b[0m\u001b[7;37;45m 7;37;45 \u001b[0m\u001b[7;37;46m 7;37;46 \u001b[0m\u001b[7;37;47m 7;37;47 \u001b[0m\n",
      "\n",
      "\n"
     ]
    }
   ],
   "source": [
    "def print_format_table():\n",
    "    \"\"\"\n",
    "    prints table of formatted text format options\n",
    "    \"\"\"\n",
    "    for style in range(8):\n",
    "        for fg in range(30,38):\n",
    "            s1 = ''\n",
    "            for bg in range(40,48):\n",
    "                format = ';'.join([str(style), str(fg), str(bg)])\n",
    "                s1 += '\\x1b[%sm %s \\x1b[0m' % (format, format)\n",
    "            print(s1)\n",
    "        print('\\n')\n",
    "\n",
    "print_format_table()"
   ]
  },
  {
   "cell_type": "code",
   "execution_count": 18,
   "metadata": {},
   "outputs": [
    {
     "name": "stdout",
     "output_type": "stream",
     "text": [
      "The   `textwrap` module provides some convenience functions, as well as `TextWrapper`, the class that does all the work. If you’re just wrapping or\n",
      "filling one or two text strings, the convenience functions should be good enough; otherwise, you should use an instance of `TextWrapper` for efficiency\n",
      "The   `textwrap` module provides some convenience functions, as well as `TextWrapper`, the class that does all the work. If you’re just wrapping or\n",
      "filling one or two text strings, the convenience functions should be good enough; otherwise, you should use an instance of `TextWrapper` for efficiency\n"
     ]
    }
   ],
   "source": [
    "mystr = \"\"\"The   `textwrap` module provides some convenience functions, as well as `TextWrapper`, the class that does all the work. If you’re just wrapping or\n",
    "filling one or two text strings, the convenience functions should be good enough; otherwise, you should use an instance of `TextWrapper` for efficiency\"\"\"\n",
    "\n",
    "print(mystr.ljust(100, \".\"))\n",
    "print(mystr.rjust(140, \"~\"))"
   ]
  }
 ],
 "metadata": {
  "kernelspec": {
   "display_name": "Python 3 (ipykernel)",
   "language": "python",
   "name": "python3"
  },
  "language_info": {
   "codemirror_mode": {
    "name": "ipython",
    "version": 3
   },
   "file_extension": ".py",
   "mimetype": "text/x-python",
   "name": "python",
   "nbconvert_exporter": "python",
   "pygments_lexer": "ipython3",
   "version": "3.9.9"
  }
 },
 "nbformat": 4,
 "nbformat_minor": 2
}
