{
 "cells": [
  {
   "cell_type": "markdown",
   "metadata": {},
   "source": [
    "## Random"
   ]
  },
  {
   "cell_type": "markdown",
   "metadata": {},
   "source": [
    "The *random* module brings functions for random number generation.\n",
    "\n",
    "Examples:"
   ]
  },
  {
   "cell_type": "markdown",
   "metadata": {},
   "source": [
    "### Choice"
   ]
  },
  {
   "cell_type": "code",
   "execution_count": 1,
   "metadata": {},
   "outputs": [
    {
     "name": "stdout",
     "output_type": "stream",
     "text": [
      "C\n",
      "399\n"
     ]
    }
   ],
   "source": [
    "import string\n",
    "\n",
    "from random import choice\n",
    "\n",
    "# Choice returns one value from the list\n",
    "print(choice(string.ascii_uppercase))\n",
    "print(choice([10, 200, 399, \"Hello\", \"God\", \"Python\", [222]]))"
   ]
  },
  {
   "cell_type": "code",
   "execution_count": 2,
   "metadata": {},
   "outputs": [
    {
     "name": "stdout",
     "output_type": "stream",
     "text": [
      "GV\n"
     ]
    }
   ],
   "source": [
    "d = {\"manoj\": \"kumar\", \n",
    "    \"GV\": \"ibm\",\n",
    "    \"Roshan\": \"Musheer\",\n",
    "    \"Pavan\": \"Hota\"}\n",
    "print(choice(list(d.keys())))"
   ]
  },
  {
   "cell_type": "markdown",
   "metadata": {},
   "source": [
    "### `random.random`"
   ]
  },
  {
   "cell_type": "markdown",
   "metadata": {},
   "source": [
    "it returns a random float between 0 to 1"
   ]
  },
  {
   "cell_type": "code",
   "execution_count": 3,
   "metadata": {},
   "outputs": [
    {
     "name": "stdout",
     "output_type": "stream",
     "text": [
      "0.6696613062046993\n",
      "0.0913942708176998\n",
      "0.3069248988336153\n"
     ]
    }
   ],
   "source": [
    "from random import random\n",
    "# Choose a float from 0 to 1\n",
    "for _ in range(3): print(random())"
   ]
  },
  {
   "cell_type": "code",
   "execution_count": 4,
   "metadata": {},
   "outputs": [
    {
     "name": "stdout",
     "output_type": "stream",
     "text": [
      "0.06234865648623111 6.234865648623112 6\n"
     ]
    }
   ],
   "source": [
    "a = random()\n",
    "x = a*100\n",
    "print (a, x, int(x))"
   ]
  },
  {
   "cell_type": "markdown",
   "metadata": {},
   "source": [
    "### `random.randrange`"
   ]
  },
  {
   "cell_type": "code",
   "execution_count": 5,
   "metadata": {},
   "outputs": [
    {
     "name": "stdout",
     "output_type": "stream",
     "text": [
      "97   95   76   62   83   86   57   1   95   24   "
     ]
    }
   ],
   "source": [
    "from random import randrange\n",
    "# Choose a number from 1 to 10\n",
    "for x in range(10):\n",
    "    x = randrange(0, 100)\n",
    "    print (x, end=\"   \")"
   ]
  },
  {
   "cell_type": "code",
   "execution_count": 6,
   "metadata": {},
   "outputs": [
    {
     "name": "stdout",
     "output_type": "stream",
     "text": [
      "{'a': 70, 'b': 65, 'c': 89, 'e': 79}\n"
     ]
    }
   ],
   "source": [
    "import random\n",
    "lst = [\"a\", \"b\", \"c\", \"e\"]\n",
    "dirs ={}\n",
    "\n",
    "for  l in lst:\n",
    "    dirs[l] = random.randrange(1, 100)\n",
    "\n",
    "print(dirs)"
   ]
  },
  {
   "cell_type": "markdown",
   "metadata": {},
   "source": [
    "### `choices`: A weighted version of random\n",
    "> Python >= 3.6"
   ]
  },
  {
   "cell_type": "code",
   "execution_count": 7,
   "metadata": {},
   "outputs": [
    {
     "name": "stdout",
     "output_type": "stream",
     "text": [
      "['Manish Nandle', 'Preeti Saraswat', 'Jyoti Pancholi', 'Mukesh Bansal', 'Jyoti Pancholi', 'Jyoti Pancholi', 'Mukesh Bansal', 'Mukesh Bansal', 'Mukesh Bansal', 'Mukesh Bansal']\n",
      "~^~^~^~^~^~^~^~^~^~^\n",
      "Jyoti Pancholi 3\n",
      "Amit Shrivastava 0\n",
      "Mukesh Bansal 5\n",
      "Preeti Saraswat 1\n",
      "Manish Nandle 1\n"
     ]
    }
   ],
   "source": [
    "from random import choices\n",
    "\n",
    "lnct_few_friends = [\"Jyoti Pancholi\", \n",
    "                    \"Amit Shrivastava\", \n",
    "                    \"Mukesh Bansal\", \n",
    "                    \"Preeti Saraswat\", \n",
    "                    \"Manish Nandle\"]\n",
    "list_of_prob = [0.2, 0.1, 0.3, 0.2, 0.2]\n",
    "prob = choices(lnct_few_friends, \n",
    "               weights=list_of_prob, \n",
    "               k=10)\n",
    "\n",
    "print(prob)\n",
    "print(\"~^\"*10)\n",
    "for name in lnct_few_friends:\n",
    "    print(name, prob.count(name))"
   ]
  },
  {
   "cell_type": "markdown",
   "metadata": {},
   "source": [
    "Lets try some graphs on them"
   ]
  },
  {
   "cell_type": "code",
   "execution_count": 8,
   "metadata": {},
   "outputs": [],
   "source": [
    "from random import choices\n",
    "\n",
    "\n",
    "lnct_few_friends = [\"X\", \"Jyoti Pancholi\", \n",
    "                    \"Amit Shrivastava\", \n",
    "                    \"Mukesh Bansal\", \n",
    "                    \"Preeti Saraswat\", \n",
    "                    \"Manish Nandle\"]\n",
    "list_of_prob = [0.05, 0.15, 0.1, 0.3, 0.1, 0.3]\n",
    "d = {}\n",
    "for i in range(10):\n",
    "    a = {}\n",
    "    lst = choices(lnct_few_friends, weights=list_of_prob, k=10)\n",
    "    for name in set(lnct_few_friends):\n",
    "        a[name] = lst.count(name)\n",
    "    d[i] = a\n",
    "    \n",
    "\n",
    "# Lets print the results\n",
    "import matplotlib.pyplot as plt\n",
    "\n",
    "from  matplotlib import ticker\n",
    "import math\n",
    "plt.xticks(rotation=90)\n",
    "for key, val in d.items():\n",
    "    plt.plot(tuple(val.keys()), tuple(val.values()), marker=\"x\")"
   ]
  },
  {
   "cell_type": "markdown",
   "metadata": {},
   "source": [
    "In the above graph, you can see that everytime, \"X\" were the lowest and \"Mukesh\" & \"Manish\" were the highests names in the created list and more I increase the value of `k` more prominent the graph becomes as shown in the below code and graph"
   ]
  },
  {
   "cell_type": "code",
   "execution_count": 9,
   "metadata": {},
   "outputs": [
    {
     "data": {
      "image/png": "[encoded data removed]",
      "text/plain": [
       "<Figure size 432x288 with 1 Axes>"
      ]
     },
     "metadata": {
      "needs_background": "light"
     },
     "output_type": "display_data"
    }
   ],
   "source": [
    "from random import choices\n",
    "import matplotlib.pyplot as plt\n",
    "\n",
    "k = 900\n",
    "\n",
    "lnct_few_friends = [\"X\", \"Jyoti Pancholi\", \"Amit Shrivastava\", \"Mukesh Bansal\", \"Preeti Saraswat\", \"Manish Nandle\"]\n",
    "list_of_prob = [0.05, 0.15, 0.1, 0.3, 0.1, 0.3]\n",
    "d = {}\n",
    "for i in range(10):\n",
    "    a = {}\n",
    "    lst = choices(lnct_few_friends, weights=list_of_prob, k=k)\n",
    "    for name in set(lnct_few_friends):\n",
    "        a[name] = lst.count(name)\n",
    "    d[i] = a\n",
    "\n",
    "import matplotlib.pyplot as plt\n",
    "from  matplotlib import ticker\n",
    "import math\n",
    "plt.xticks(rotation=90)\n",
    "for key, val in d.items():\n",
    "    plt.plot(tuple(val.keys()), tuple(val.values()), marker=\"o\")"
   ]
  }
 ],
 "metadata": {
  "kernelspec": {
   "display_name": "Python 3",
   "language": "python",
   "name": "python3"
  },
  "language_info": {
   "codemirror_mode": {
    "name": "ipython",
    "version": 3
   },
   "file_extension": ".py",
   "mimetype": "text/x-python",
   "name": "python",
   "nbconvert_exporter": "python",
   "pygments_lexer": "ipython3",
   "version": "3.10.0a7"
  }
 },
 "nbformat": 4,
 "nbformat_minor": 2
}
