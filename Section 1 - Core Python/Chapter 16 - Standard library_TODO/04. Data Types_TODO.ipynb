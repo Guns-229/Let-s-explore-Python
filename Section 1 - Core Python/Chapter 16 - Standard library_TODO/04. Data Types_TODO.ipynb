{
 "cells": [
  {
   "cell_type": "markdown",
   "metadata": {},
   "source": [
    "## Data Types"
   ]
  },
  {
   "cell_type": "markdown",
   "metadata": {},
   "source": [
    "calendar — General calendar-related functions\n",
    "𝑇𝑂𝐷𝑂\n",
    "\n",
    "collections.abc — Abstract Base Classes for Containers\n",
    "heapq — Heap queue algorithm\n",
    "𝑇𝑂𝐷𝑂\n",
    " \n",
    "bisect — Array bisection algorithm\n",
    "𝑇𝑂𝐷𝑂\n",
    " \n",
    "array — Efficient arrays of numeric values\n",
    "𝑇𝑂𝐷𝑂\n",
    " \n",
    "weakref — Weak references\n",
    "\n",
    "reprlib — Alternate repr() implementation\n",
    "𝑇𝑂𝐷𝑂"
   ]
  }
 ],
 "metadata": {
  "kernelspec": {
   "display_name": "Python 3",
   "language": "python",
   "name": "python3"
  },
  "language_info": {
   "codemirror_mode": {
    "name": "ipython",
    "version": 3
   },
   "file_extension": ".py",
   "mimetype": "text/x-python",
   "name": "python",
   "nbconvert_exporter": "python",
   "pygments_lexer": "ipython3",
   "version": "3.10.0a7"
  }
 },
 "nbformat": 4,
 "nbformat_minor": 2
}
