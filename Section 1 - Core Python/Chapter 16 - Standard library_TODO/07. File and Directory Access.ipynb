{
 "cells": [
  {
   "cell_type": "markdown",
   "metadata": {},
   "source": [
    "## File and Directory Access"
   ]
  },
  {
   "cell_type": "markdown",
   "metadata": {},
   "source": [
    "### pathlib — Object-oriented filesystem paths\n",
    "$$𝑇𝑂𝐷𝑂$$\n",
    " \n",
    "### os.path — Common pathname manipulations\n",
    "$$𝑇𝑂𝐷𝑂$$\n",
    " \n",
    "### fileinput — Iterate over lines from multiple input streams\n",
    "$$𝑇𝑂𝐷𝑂$$\n",
    " \n",
    "### stat — Interpreting stat() results\n",
    "$$𝑇𝑂𝐷𝑂$$\n",
    " \n",
    "### filecmp — File and Directory Comparisons\n",
    "$$𝑇𝑂𝐷𝑂$$\n",
    " \n",
    "### tempfile — Generate temporary files and directories\n",
    "$$𝑇𝑂𝐷𝑂$$\n",
    " \n",
    "### glob — Unix style pathname pattern expansion\n",
    "$$𝑇𝑂𝐷𝑂$$\n",
    " \n",
    "### fnmatch — Unix filename pattern matching\n",
    "$$𝑇𝑂𝐷𝑂$$\n",
    " \n",
    "### linecache — Random access to text lines\n",
    "$$𝑇𝑂𝐷𝑂$$\n",
    " \n",
    "### shutil — High-level file operations\n",
    "$$𝑇𝑂𝐷𝑂$$\n",
    " \n",
    "### macpath — Mac OS 9 path manipulation functions\n",
    "$$𝑇𝑂𝐷𝑂$$"
   ]
  }
 ],
 "metadata": {
  "kernelspec": {
   "display_name": "Python 3",
   "language": "python",
   "name": "python3"
  },
  "language_info": {
   "codemirror_mode": {
    "name": "ipython",
    "version": 3
   },
   "file_extension": ".py",
   "mimetype": "text/x-python",
   "name": "python",
   "nbconvert_exporter": "python",
   "pygments_lexer": "ipython3",
   "version": "3.10.0a7"
  }
 },
 "nbformat": 4,
 "nbformat_minor": 2
}
