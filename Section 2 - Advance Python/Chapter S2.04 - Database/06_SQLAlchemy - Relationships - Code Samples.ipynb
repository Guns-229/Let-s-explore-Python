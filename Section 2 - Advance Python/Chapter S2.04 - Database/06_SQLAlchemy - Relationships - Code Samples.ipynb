{
 "cells": [
  {
   "cell_type": "markdown",
   "metadata": {},
   "source": [
    "# SQLAlchemy - Relationships - Code Samples"
   ]
  },
  {
   "cell_type": "markdown",
   "metadata": {},
   "source": [
    "## One to many relationships"
   ]
  },
  {
   "cell_type": "markdown",
   "metadata": {},
   "source": [
    "```python\n",
    "class Book(Base):\n",
    "    __tablename__  = \"books\"    # matches the name of the actual database table\n",
    "    id             = Column(Integer, primary_key=True) \n",
    "    name           = Column(String(50))                                    \n",
    "    author_id      = Column(Integer,ForeignKey('authors.id'))   # Why ???? Ask question\n",
    "    # The backref will create references on both tables. \n",
    "    author = relationship(\"Author\",backref=\"books\")             # <-----------------------\n",
    "    \n",
    "class Author(Base):\n",
    "    __tablename__  = \"books\"    # matches the name of the actual database table\n",
    "    id             = Column(Integer, primary_key=True) \n",
    "    name           = Column(String(50))\n",
    "```"
   ]
  },
  {
   "cell_type": "markdown",
   "metadata": {},
   "source": [
    "## One to one relationships"
   ]
  },
  {
   "cell_type": "markdown",
   "metadata": {
    "collapsed": true
   },
   "source": [
    "```python\n",
    "class Parent(Base):\n",
    "    __tablename__ = 'parent'\n",
    "    id = ColumnColumn(Integer,Sequence('p_seq'),primary_key=True) \n",
    "    child_id = Column(Integer, ForeignKey('child.id'))\n",
    "    # uselist comes to your help\n",
    "    child = relationship(\"Child\", backref=backref(\"parent\", uselist=False)) \n",
    "\n",
    "class Child(Base):\n",
    "    __tablename__ = 'child'\n",
    "    id = Column(Integer,Sequence('c_seq'),primary_key=True) \n",
    "```"
   ]
  },
  {
   "cell_type": "markdown",
   "metadata": {},
   "source": [
    "## Many to many relationships"
   ]
  },
  {
   "cell_type": "markdown",
   "metadata": {},
   "source": [
    "```python\n",
    "class Category(Base):\n",
    "    __tablename__ = 'categories'\n",
    "    id = Column(Integer,Sequence('cat_seq'),primary_key=True) \n",
    "    name = Column(String(20))\n",
    "\n",
    "class Product(Base):\n",
    "    __tablename__ = 'products'\n",
    "    id = Column(Integer,Sequence('prod_seq'),primary_key=True) \n",
    "    name = Column(String(20))\n",
    "    \n",
    "class Map(Base):\n",
    "    __tablename__ = 'map'\n",
    "    id = Column(Integer,Sequence('map_seq'),primary_key=True) \n",
    "    cat_id = Column(Integer,ForeignKey('categories.id'))\n",
    "    prod_id = Column(Integer,ForeignKey('products.id'))\n",
    "```"
   ]
  },
  {
   "cell_type": "markdown",
   "metadata": {},
   "source": [
    "### arguments"
   ]
  },
  {
   "cell_type": "markdown",
   "metadata": {},
   "source": [
    "- `userlist`:\n",
    "\n",
    "    `userlist` argument in `relationsip` api can be used to define whether the property has singular or list type value.\n",
    "Using the type and direction of relationship (one -> one, one -> many, many -> one or many -> many) at mapper configuration time, `relationship` automatically determines `userlist` value.\n",
    "\n",
    "| Value | Meaning |\n",
    "|-------|---------|\n",
    "| True  | List    |\n",
    "| False | Scalar  |\n",
    "\n",
    "\n",
    "- `backref`:\n",
    "\n",
    "    It provides the property name which will be created on its corresponding object using which it can be referenced.\n",
    "\n",
    "\n",
    "- `back_populates`:\n",
    "\n",
    "    It is similar to `backref`, except it must be configured programmatically on its corresponding mapper. It should also populate `back_populates` to ensure proper functioning. \n",
    "\n",
    "- `cascade`:\n",
    "\n",
    "    It is used to define comma-separated rules which session operation should cascade from parent to child. Its default value is `save-update, merge`.\n",
    "    \n",
    "    * Options availables are \n",
    "        - `save-update, merge, expunge, delete, delete-orphan`, and `refresh-expire`.\n",
    "    \n",
    "    * Additional Option (`all`):\n",
    "        - `all` is a shortcut for the following rules `save-update`, `merge`, `refresh-expire`, `expunge`, `delete`\n",
    "        \n"
   ]
  },
  {
   "cell_type": "markdown",
   "metadata": {},
   "source": [
    ">**<center>Note</center>**\n",
    "><hr>\n",
    "> Many other obtions are also available in `relationship` API and details of them can be found at https://docs.sqlalchemy.org/en/13/orm/relationship_api.html"
   ]
  }
 ],
 "metadata": {
  "kernelspec": {
   "display_name": "Python 3",
   "language": "python",
   "name": "python3"
  },
  "language_info": {
   "codemirror_mode": {
    "name": "ipython",
    "version": 3
   },
   "file_extension": ".py",
   "mimetype": "text/x-python",
   "name": "python",
   "nbconvert_exporter": "python",
   "pygments_lexer": "ipython3",
   "version": "3.7.0"
  }
 },
 "nbformat": 4,
 "nbformat_minor": 2
}
