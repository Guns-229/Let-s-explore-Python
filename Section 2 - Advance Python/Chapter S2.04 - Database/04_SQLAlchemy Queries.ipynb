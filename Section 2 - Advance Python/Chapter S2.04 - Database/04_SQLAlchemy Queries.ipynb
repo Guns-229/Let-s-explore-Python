{
 "cells": [
  {
   "cell_type": "markdown",
   "metadata": {},
   "source": [
    "## SQLAlchemy Queries"
   ]
  },
  {
   "cell_type": "markdown",
   "metadata": {},
   "source": [
    "In this section, we will cover all major aspects of using SQLAlchemy to query required information from the database. In SQLAlchemy we use `query` method to achieve it as shown below.\n",
    "\n",
    "```python\n",
    "query = session.query(MappedClass)\n",
    "```\n",
    "Lets take a previous example and will use it to show the power of `query` method."
   ]
  },
  {
   "cell_type": "code",
   "execution_count": 159,
   "metadata": {},
   "outputs": [
    {
     "name": "stdout",
     "output_type": "stream",
     "text": [
      "2019-05-21 07:43:01,783 INFO sqlalchemy.engine.base.Engine SELECT CAST('test plain returns' AS VARCHAR(60)) AS anon_1\n",
      "2019-05-21 07:43:01,793 INFO sqlalchemy.engine.base.Engine ()\n",
      "2019-05-21 07:43:01,795 INFO sqlalchemy.engine.base.Engine SELECT CAST('test unicode returns' AS VARCHAR(60)) AS anon_1\n",
      "2019-05-21 07:43:01,796 INFO sqlalchemy.engine.base.Engine ()\n",
      "2019-05-21 07:43:01,798 INFO sqlalchemy.engine.base.Engine PRAGMA table_info(\"students\")\n",
      "2019-05-21 07:43:01,800 INFO sqlalchemy.engine.base.Engine ()\n",
      "2019-05-21 07:43:01,803 INFO sqlalchemy.engine.base.Engine PRAGMA table_info(\"school\")\n",
      "2019-05-21 07:43:01,805 INFO sqlalchemy.engine.base.Engine ()\n",
      "2019-05-21 07:43:01,808 INFO sqlalchemy.engine.base.Engine \n",
      "CREATE TABLE school (\n",
      "\tid INTEGER NOT NULL, \n",
      "\tname VARCHAR, \n",
      "\tPRIMARY KEY (id)\n",
      ")\n",
      "\n",
      "\n",
      "2019-05-21 07:43:01,809 INFO sqlalchemy.engine.base.Engine ()\n",
      "2019-05-21 07:43:01,813 INFO sqlalchemy.engine.base.Engine COMMIT\n",
      "2019-05-21 07:43:01,815 INFO sqlalchemy.engine.base.Engine \n",
      "CREATE TABLE students (\n",
      "\tid INTEGER NOT NULL, \n",
      "\tname VARCHAR, \n",
      "\tschool_id INTEGER, \n",
      "\tPRIMARY KEY (id), \n",
      "\tFOREIGN KEY(school_id) REFERENCES school (id)\n",
      ")\n",
      "\n",
      "\n",
      "2019-05-21 07:43:01,818 INFO sqlalchemy.engine.base.Engine ()\n",
      "2019-05-21 07:43:01,822 INFO sqlalchemy.engine.base.Engine COMMIT\n",
      "2019-05-21 07:43:01,847 INFO sqlalchemy.engine.base.Engine BEGIN (implicit)\n",
      "2019-05-21 07:43:01,850 INFO sqlalchemy.engine.base.Engine INSERT INTO school (name) VALUES (?)\n",
      "2019-05-21 07:43:01,852 INFO sqlalchemy.engine.base.Engine ('Demonstration Multipurpose Higher Secondary School',)\n",
      "2019-05-21 07:43:01,855 INFO sqlalchemy.engine.base.Engine COMMIT\n",
      "2019-05-21 07:43:01,866 INFO sqlalchemy.engine.base.Engine BEGIN (implicit)\n",
      "2019-05-21 07:43:01,868 INFO sqlalchemy.engine.base.Engine INSERT INTO school (name) VALUES (?)\n",
      "2019-05-21 07:43:01,870 INFO sqlalchemy.engine.base.Engine ('CDAC, Hyderabad',)\n",
      "2019-05-21 07:43:01,874 INFO sqlalchemy.engine.base.Engine SELECT school.id AS school_id, school.name AS school_name \n",
      "FROM school \n",
      "WHERE school.id = ?\n",
      "2019-05-21 07:43:01,876 INFO sqlalchemy.engine.base.Engine (1,)\n",
      "2019-05-21 07:43:01,880 INFO sqlalchemy.engine.base.Engine INSERT INTO students (name, school_id) VALUES (?, ?)\n",
      "2019-05-21 07:43:01,881 INFO sqlalchemy.engine.base.Engine ('Sachin Shah', 1)\n",
      "2019-05-21 07:43:01,888 INFO sqlalchemy.engine.base.Engine INSERT INTO students (name, school_id) VALUES (?, ?)\n",
      "2019-05-21 07:43:01,890 INFO sqlalchemy.engine.base.Engine ('Satendra', 1)\n",
      "2019-05-21 07:43:01,891 INFO sqlalchemy.engine.base.Engine INSERT INTO students (name, school_id) VALUES (?, ?)\n",
      "2019-05-21 07:43:01,892 INFO sqlalchemy.engine.base.Engine ('Rajeev Chaturvedi', 1)\n",
      "2019-05-21 07:43:01,894 INFO sqlalchemy.engine.base.Engine COMMIT\n",
      "2019-05-21 07:43:01,903 INFO sqlalchemy.engine.base.Engine BEGIN (implicit)\n",
      "2019-05-21 07:43:01,905 INFO sqlalchemy.engine.base.Engine SELECT school.id AS school_id, school.name AS school_name \n",
      "FROM school \n",
      "WHERE school.id = ?\n",
      "2019-05-21 07:43:01,907 INFO sqlalchemy.engine.base.Engine (2,)\n",
      "2019-05-21 07:43:01,911 INFO sqlalchemy.engine.base.Engine INSERT INTO students (name, school_id) VALUES (?, ?)\n",
      "2019-05-21 07:43:01,912 INFO sqlalchemy.engine.base.Engine ('Manish Gupta', 2)\n",
      "2019-05-21 07:43:01,917 INFO sqlalchemy.engine.base.Engine INSERT INTO students (name, school_id) VALUES (?, ?)\n",
      "2019-05-21 07:43:01,918 INFO sqlalchemy.engine.base.Engine ('Viral Kamdar', 2)\n",
      "2019-05-21 07:43:01,921 INFO sqlalchemy.engine.base.Engine INSERT INTO students (name, school_id) VALUES (?, ?)\n",
      "2019-05-21 07:43:01,922 INFO sqlalchemy.engine.base.Engine ('Pinakin Purohit', 2)\n",
      "2019-05-21 07:43:01,924 INFO sqlalchemy.engine.base.Engine INSERT INTO students (name, school_id) VALUES (?, ?)\n",
      "2019-05-21 07:43:01,926 INFO sqlalchemy.engine.base.Engine ('Nitin Srivastava', 2)\n",
      "2019-05-21 07:43:01,929 INFO sqlalchemy.engine.base.Engine COMMIT\n"
     ]
    }
   ],
   "source": [
    "# Common code starts(1)\n",
    "import os\n",
    "from sqlalchemy import create_engine\n",
    "from sqlalchemy.ext.declarative import declarative_base\n",
    "from sqlalchemy import Column, Integer, String, ForeignKey\n",
    "from sqlalchemy.orm import sessionmaker, relationship\n",
    "\n",
    "\n",
    "Base = declarative_base()\n",
    "# Common code ends (1)\n",
    "\n",
    "\n",
    "class Students(Base):\n",
    "    __tablename__ = \"students\"\n",
    "    id = Column(Integer, primary_key=True)\n",
    "    name = Column(String)\n",
    "    school_id = Column(Integer, ForeignKey('school.id'))\n",
    "    # school = relationship(\"School\", backref=\"students\")\n",
    "\n",
    "\n",
    "class School(Base):\n",
    "    __tablename__ = 'school'\n",
    "    id = Column(Integer, primary_key=True)\n",
    "    name = Column(String)\n",
    "    students = relationship(\"Students\", backref=\"school\",\n",
    "                            cascade=\"all,delete,delete-orphan\")\n",
    "\n",
    "    \n",
    "DB_FILE = os.path.join(\"db\", \"many2one_3_3.sqlite3\")\n",
    "\n",
    "try:\n",
    "    os.remove(DB_FILE)\n",
    "except Exception as e:\n",
    "    print(e)\n",
    "\n",
    "# echo=False for prod code\n",
    "engine = create_engine('sqlite:///' + DB_FILE, echo=True)\n",
    "Base.metadata.create_all(engine)\n",
    "\n",
    "Session = sessionmaker(bind=engine)\n",
    "session = Session()\n",
    "dms = School()\n",
    "dms.name = \"Demonstration Multipurpose Higher Secondary School\"\n",
    "session.add(dms)\n",
    "\n",
    "session.commit()\n",
    "\n",
    "students = [\n",
    "    \"Sachin Shah\",\n",
    "    \"Satendra\",\n",
    "    \"Rajeev Chaturvedi\"]\n",
    "\n",
    "session.add_all([Students(name=student, school=dms) for student in students])\n",
    "cdac = School(name=\"CDAC, Hyderabad\")\n",
    "session.add(cdac)\n",
    "session.flush()\n",
    "session.commit()\n",
    "\n",
    "# --------------------------------------------------\n",
    "cdac_students = [\n",
    "    \"Manish Gupta\",\n",
    "    \"Viral Kamdar\",\n",
    "    \"Pinakin Purohit\",\n",
    "    \"Nitin Srivastava\"]\n",
    "\n",
    "session.add_all([Students(name=student, school=cdac)\n",
    "                 for student in cdac_students])\n",
    "session.flush()\n",
    "session.commit()"
   ]
  },
  {
   "cell_type": "markdown",
   "metadata": {},
   "source": [
    "The below query will return all the students present in the database"
   ]
  },
  {
   "cell_type": "code",
   "execution_count": 146,
   "metadata": {},
   "outputs": [
    {
     "name": "stdout",
     "output_type": "stream",
     "text": [
      "<__main__.Students object at 0x111978940>\n",
      "<__main__.Students object at 0x111978828>\n",
      "<__main__.Students object at 0x111978438>\n",
      "<__main__.Students object at 0x111978d30>\n",
      "<__main__.Students object at 0x111978fd0>\n",
      "<__main__.Students object at 0x1119782b0>\n",
      "<__main__.Students object at 0x111978668>\n"
     ]
    }
   ],
   "source": [
    "for student in session.query(Students):\n",
    "    print(student)"
   ]
  },
  {
   "cell_type": "code",
   "execution_count": 148,
   "metadata": {},
   "outputs": [
    {
     "name": "stdout",
     "output_type": "stream",
     "text": [
      "Sachin Shah\n",
      "Satendra\n",
      "Rajeev Chaturvedi\n",
      "Manish Gupta\n",
      "Viral Kamdar\n",
      "Pinakin Purohit\n",
      "Nitin Srivastava\n"
     ]
    }
   ],
   "source": [
    "# Lets get the attributes of student object\n",
    "for student in session.query(Students):\n",
    "    print(student.name)"
   ]
  },
  {
   "cell_type": "markdown",
   "metadata": {},
   "source": [
    "If we wish to only get user name then we can use the following query"
   ]
  },
  {
   "cell_type": "code",
   "execution_count": 155,
   "metadata": {},
   "outputs": [
    {
     "name": "stdout",
     "output_type": "stream",
     "text": [
      "('Sachin Shah',) Sachin Shah\n",
      "('Satendra',) Satendra\n",
      "('Rajeev Chaturvedi',) Rajeev Chaturvedi\n",
      "('Manish Gupta',) Manish Gupta\n",
      "('Viral Kamdar',) Viral Kamdar\n",
      "('Pinakin Purohit',) Pinakin Purohit\n",
      "('Nitin Srivastava',) Nitin Srivastava\n"
     ]
    }
   ],
   "source": [
    "# The result set will only have name \n",
    "# ('Sachin Shah',) is not a tuple but resutlset object\n",
    "for student in session.query(Students.name):\n",
    "    print(student, student.name)"
   ]
  },
  {
   "cell_type": "code",
   "execution_count": 156,
   "metadata": {},
   "outputs": [
    {
     "name": "stdout",
     "output_type": "stream",
     "text": [
      "Sachin Shah is studying in Demonstration Multipurpose Higher Secondary School\n",
      "Satendra is studying in Demonstration Multipurpose Higher Secondary School\n",
      "Rajeev Chaturvedi is studying in Demonstration Multipurpose Higher Secondary School\n",
      "Manish Gupta is studying in CDAC, Hyderabad\n",
      "Viral Kamdar is studying in CDAC, Hyderabad\n",
      "Pinakin Purohit is studying in CDAC, Hyderabad\n",
      "Nitin Srivastava is studying in CDAC, Hyderabad\n"
     ]
    }
   ],
   "source": [
    "for student in session.query(Students):\n",
    "    print(student.name, \"is studying in\", student.school.name)"
   ]
  },
  {
   "cell_type": "markdown",
   "metadata": {},
   "source": [
    "Say we wants to rename the `name` of student in result to `StudentName` than we can use `label` method as shown"
   ]
  },
  {
   "cell_type": "code",
   "execution_count": 170,
   "metadata": {},
   "outputs": [
    {
     "name": "stdout",
     "output_type": "stream",
     "text": [
      "2019-05-21 07:47:35,716 INFO sqlalchemy.engine.base.Engine SELECT students.name AS \"StudentName\" \n",
      "FROM students\n",
      "2019-05-21 07:47:35,717 INFO sqlalchemy.engine.base.Engine ()\n",
      "Sachin Shah\n",
      "Satendra\n",
      "Rajeev Chaturvedi\n",
      "Manish Gupta\n",
      "Viral Kamdar\n",
      "Pinakin Purohit\n",
      "Nitin Srivastava\n"
     ]
    }
   ],
   "source": [
    "for student in session.query(Students.name.label(\"StudentName\")):\n",
    "    print(student.StudentName)"
   ]
  },
  {
   "cell_type": "code",
   "execution_count": 171,
   "metadata": {},
   "outputs": [
    {
     "name": "stdout",
     "output_type": "stream",
     "text": [
      "2019-05-21 07:47:57,286 INFO sqlalchemy.engine.base.Engine SELECT students.name AS \"StudentName\" \n",
      "FROM students\n",
      "2019-05-21 07:47:57,291 INFO sqlalchemy.engine.base.Engine ()\n",
      "Sachin Shah\n",
      "Satendra\n",
      "Rajeev Chaturvedi\n",
      "Manish Gupta\n",
      "Viral Kamdar\n",
      "Pinakin Purohit\n",
      "Nitin Srivastava\n"
     ]
    }
   ],
   "source": [
    "# This will also work\n",
    "name = Students.name.label(\"StudentName\")\n",
    "\n",
    "for student in session.query(name):\n",
    "    print(student.StudentName)"
   ]
  },
  {
   "cell_type": "code",
   "execution_count": 165,
   "metadata": {},
   "outputs": [],
   "source": [
    "# $$TODO$$\n",
    "# for student in session.query(Students.name.label(\"Student Name\")):\n",
    "#    print(student.get(\"Student Name\"))"
   ]
  },
  {
   "cell_type": "markdown",
   "metadata": {},
   "source": [
    "We can provide similar name to entire entity also using `aliased` method as shown in below example"
   ]
  },
  {
   "cell_type": "code",
   "execution_count": 169,
   "metadata": {},
   "outputs": [
    {
     "name": "stdout",
     "output_type": "stream",
     "text": [
      "2019-05-21 07:45:22,921 INFO sqlalchemy.engine.base.Engine SELECT \"StudentObject\".id AS \"StudentObject_id\", \"StudentObject\".name AS \"StudentObject_name\", \"StudentObject\".school_id AS \"StudentObject_school_id\" \n",
      "FROM students AS \"StudentObject\"\n",
      "2019-05-21 07:45:22,924 INFO sqlalchemy.engine.base.Engine ()\n",
      "Sachin Shah \t= <__main__.Students object at 0x111d2f908>\n",
      "Satendra \t= <__main__.Students object at 0x111d38d68>\n",
      "Rajeev Chaturvedi \t= <__main__.Students object at 0x111d38dd8>\n",
      "Manish Gupta \t= <__main__.Students object at 0x111d38cf8>\n",
      "Viral Kamdar \t= <__main__.Students object at 0x111d38cc0>\n",
      "Pinakin Purohit \t= <__main__.Students object at 0x111d38908>\n",
      "Nitin Srivastava \t= <__main__.Students object at 0x111d38f60>\n"
     ]
    }
   ],
   "source": [
    "from sqlalchemy.orm import aliased\n",
    "a_students = aliased(Students, name='StudentObject')\n",
    "\n",
    "for row in session.query(a_students, a_students.name).all():\n",
    "    print(row.StudentObject.name, \"\\t=\", row.StudentObject)"
   ]
  },
  {
   "cell_type": "markdown",
   "metadata": {},
   "source": [
    "We can also use slicing on the query."
   ]
  },
  {
   "cell_type": "code",
   "execution_count": 113,
   "metadata": {},
   "outputs": [
    {
     "name": "stdout",
     "output_type": "stream",
     "text": [
      "2019-05-21 05:57:47,282 INFO sqlalchemy.engine.base.Engine SELECT students.id AS students_id, students.name AS students_name, students.school_id AS students_school_id \n",
      "FROM students\n",
      " LIMIT ? OFFSET ?\n",
      "2019-05-21 05:57:47,283 INFO sqlalchemy.engine.base.Engine (2, 0)\n",
      "Sachin Shah is studying in Demonstration Multipurpose Higher Secondary School\n",
      "Satendra is studying in Demonstration Multipurpose Higher Secondary School\n"
     ]
    }
   ],
   "source": [
    "for student in session.query(Students)[:2]:\n",
    "    print(student.name, \"is studying in\", student.school.name)"
   ]
  },
  {
   "cell_type": "markdown",
   "metadata": {},
   "source": [
    "### Ordering the query."
   ]
  },
  {
   "cell_type": "markdown",
   "metadata": {},
   "source": [
    "we can use `order_by` to achieve order in the query results as shown in the below example."
   ]
  },
  {
   "cell_type": "code",
   "execution_count": 173,
   "metadata": {},
   "outputs": [
    {
     "name": "stdout",
     "output_type": "stream",
     "text": [
      "2019-05-21 07:49:45,225 INFO sqlalchemy.engine.base.Engine SELECT students.name AS students_name \n",
      "FROM students ORDER BY students.name\n",
      "2019-05-21 07:49:45,228 INFO sqlalchemy.engine.base.Engine ()\n",
      "Manish Gupta\n",
      "Nitin Srivastava\n",
      "Pinakin Purohit\n",
      "Rajeev Chaturvedi\n",
      "Sachin Shah\n",
      "Satendra\n",
      "Viral Kamdar\n"
     ]
    }
   ],
   "source": [
    "for student in session.query(Students.name).order_by(Students.name):\n",
    "    print(student.name)"
   ]
  },
  {
   "cell_type": "code",
   "execution_count": 178,
   "metadata": {},
   "outputs": [
    {
     "name": "stdout",
     "output_type": "stream",
     "text": [
      "2019-05-21 07:53:19,009 INFO sqlalchemy.engine.base.Engine SELECT students.name AS students_name \n",
      "FROM students ORDER BY students.school_id\n",
      "2019-05-21 07:53:19,012 INFO sqlalchemy.engine.base.Engine ()\n",
      "Sachin Shah\n",
      "Satendra\n",
      "Rajeev Chaturvedi\n",
      "Manish Gupta\n",
      "Viral Kamdar\n",
      "Pinakin Purohit\n",
      "Nitin Srivastava\n"
     ]
    }
   ],
   "source": [
    "for student in session.query(Students.name).order_by(Students.school_id):\n",
    "    print(student.name)"
   ]
  },
  {
   "cell_type": "markdown",
   "metadata": {},
   "source": [
    "##### Cascaded `order_by`"
   ]
  },
  {
   "cell_type": "code",
   "execution_count": 180,
   "metadata": {},
   "outputs": [
    {
     "name": "stdout",
     "output_type": "stream",
     "text": [
      "2019-05-21 07:53:32,960 INFO sqlalchemy.engine.base.Engine SELECT students.name AS students_name \n",
      "FROM students ORDER BY students.school_id, students.name\n",
      "2019-05-21 07:53:32,962 INFO sqlalchemy.engine.base.Engine ()\n",
      "Rajeev Chaturvedi\n",
      "Sachin Shah\n",
      "Satendra\n",
      "Manish Gupta\n",
      "Nitin Srivastava\n",
      "Pinakin Purohit\n",
      "Viral Kamdar\n"
     ]
    }
   ],
   "source": [
    "for student in session.query(Students.name).order_by(Students.school_id).order_by(Students.name):\n",
    "    print(student.name)"
   ]
  },
  {
   "cell_type": "markdown",
   "metadata": {},
   "source": [
    "### Filtering the Query"
   ]
  },
  {
   "cell_type": "markdown",
   "metadata": {},
   "source": [
    "We can use `filter_by` method to apply filtering in the query"
   ]
  },
  {
   "cell_type": "code",
   "execution_count": 181,
   "metadata": {},
   "outputs": [
    {
     "name": "stdout",
     "output_type": "stream",
     "text": [
      "2019-05-21 07:54:05,936 INFO sqlalchemy.engine.base.Engine SELECT school.id AS school_id, school.name AS school_name \n",
      "FROM school \n",
      "WHERE school.name = ?\n",
      " LIMIT ? OFFSET ?\n",
      "2019-05-21 07:54:05,943 INFO sqlalchemy.engine.base.Engine ('CDAC, Hyderabad', 1, 0)\n",
      "CDAC, Hyderabad\n"
     ]
    }
   ],
   "source": [
    "cdac = session.query(School).filter_by(name=\"CDAC, Hyderabad\").first()\n",
    "print(cdac.name)"
   ]
  },
  {
   "cell_type": "markdown",
   "metadata": {},
   "source": [
    "#### Common Filter Operators"
   ]
  },
  {
   "cell_type": "markdown",
   "metadata": {},
   "source": [
    "##### equals:"
   ]
  },
  {
   "cell_type": "code",
   "execution_count": 182,
   "metadata": {},
   "outputs": [
    {
     "name": "stdout",
     "output_type": "stream",
     "text": [
      "2019-05-21 07:55:15,743 INFO sqlalchemy.engine.base.Engine SELECT school.id AS school_id, school.name AS school_name \n",
      "FROM school \n",
      "WHERE school.name = ?\n",
      " LIMIT ? OFFSET ?\n",
      "2019-05-21 07:55:15,746 INFO sqlalchemy.engine.base.Engine ('CDAC, Hyderabad', 1, 0)\n",
      "CDAC, Hyderabad\n"
     ]
    }
   ],
   "source": [
    "cdac = session.query(School).filter(School.name == \"CDAC, Hyderabad\").first()\n",
    "print(cdac.name)"
   ]
  },
  {
   "cell_type": "code",
   "execution_count": 184,
   "metadata": {},
   "outputs": [
    {
     "name": "stdout",
     "output_type": "stream",
     "text": [
      "2019-05-21 07:55:37,007 INFO sqlalchemy.engine.base.Engine SELECT students.id AS students_id, students.name AS students_name, students.school_id AS students_school_id \n",
      "FROM students \n",
      "WHERE students.school_id = ?\n",
      "2019-05-21 07:55:37,009 INFO sqlalchemy.engine.base.Engine (1,)\n",
      "Sachin Shah\n",
      "Satendra\n",
      "Rajeev Chaturvedi\n"
     ]
    }
   ],
   "source": [
    "for student in session.query(Students).filter(Students.school_id == 1):\n",
    "    print(student.name)"
   ]
  },
  {
   "cell_type": "code",
   "execution_count": 186,
   "metadata": {},
   "outputs": [
    {
     "name": "stdout",
     "output_type": "stream",
     "text": [
      "2019-05-21 07:56:40,800 INFO sqlalchemy.engine.base.Engine SELECT students.id AS students_id, students.name AS students_name, students.school_id AS students_school_id \n",
      "FROM students \n",
      "WHERE students.name = ?\n",
      "2019-05-21 07:56:40,803 INFO sqlalchemy.engine.base.Engine ('Satendra',)\n",
      "Satendra\n"
     ]
    }
   ],
   "source": [
    "for student in session.query(Students).filter(Students.name==\"Satendra\"):\n",
    "    print(student.name)"
   ]
  },
  {
   "cell_type": "markdown",
   "metadata": {},
   "source": [
    "##### not equals:"
   ]
  },
  {
   "cell_type": "code",
   "execution_count": 187,
   "metadata": {},
   "outputs": [
    {
     "name": "stdout",
     "output_type": "stream",
     "text": [
      "2019-05-21 07:57:04,036 INFO sqlalchemy.engine.base.Engine SELECT students.id AS students_id, students.name AS students_name, students.school_id AS students_school_id \n",
      "FROM students \n",
      "WHERE students.name != ?\n",
      "2019-05-21 07:57:04,040 INFO sqlalchemy.engine.base.Engine ('Satendra',)\n",
      "Sachin Shah\n",
      "Rajeev Chaturvedi\n",
      "Manish Gupta\n",
      "Viral Kamdar\n",
      "Pinakin Purohit\n",
      "Nitin Srivastava\n"
     ]
    }
   ],
   "source": [
    "for student in session.query(Students).filter(Students.name!=\"Satendra\"):\n",
    "    print(student.name)"
   ]
  },
  {
   "cell_type": "markdown",
   "metadata": {},
   "source": [
    "LIKE:"
   ]
  },
  {
   "cell_type": "code",
   "execution_count": 190,
   "metadata": {},
   "outputs": [
    {
     "name": "stdout",
     "output_type": "stream",
     "text": [
      "2019-05-21 07:58:29,719 INFO sqlalchemy.engine.base.Engine SELECT students.id AS students_id, students.name AS students_name, students.school_id AS students_school_id \n",
      "FROM students \n",
      "WHERE students.name LIKE ?\n",
      "2019-05-21 07:58:29,722 INFO sqlalchemy.engine.base.Engine ('%S%',)\n",
      "Sachin Shah\n",
      "Satendra\n",
      "Manish Gupta\n",
      "Nitin Srivastava\n"
     ]
    }
   ],
   "source": [
    "for student in session.query(Students).filter(Students.name.like(\"%S%\")):\n",
    "    print(student.name)"
   ]
  },
  {
   "cell_type": "code",
   "execution_count": 194,
   "metadata": {},
   "outputs": [
    {
     "name": "stdout",
     "output_type": "stream",
     "text": [
      "2019-05-21 08:00:05,370 INFO sqlalchemy.engine.base.Engine SELECT students.id AS students_id, students.name AS students_name, students.school_id AS students_school_id \n",
      "FROM students \n",
      "WHERE students.name LIKE ?\n",
      "2019-05-21 08:00:05,372 INFO sqlalchemy.engine.base.Engine ('S%',)\n",
      "Sachin Shah\n",
      "Satendra\n"
     ]
    }
   ],
   "source": [
    "for student in session.query(Students).filter(Students.name.like(\"S%\")):\n",
    "    print(student.name)"
   ]
  },
  {
   "cell_type": "markdown",
   "metadata": {},
   "source": [
    "ILIKE (case-insensitive LIKE):"
   ]
  },
  {
   "cell_type": "code",
   "execution_count": 195,
   "metadata": {},
   "outputs": [
    {
     "name": "stdout",
     "output_type": "stream",
     "text": [
      "2019-05-21 08:00:19,772 INFO sqlalchemy.engine.base.Engine SELECT students.id AS students_id, students.name AS students_name, students.school_id AS students_school_id \n",
      "FROM students \n",
      "WHERE lower(students.name) LIKE lower(?)\n",
      "2019-05-21 08:00:19,774 INFO sqlalchemy.engine.base.Engine ('%S%',)\n",
      "Sachin Shah\n",
      "Satendra\n",
      "Manish Gupta\n",
      "Nitin Srivastava\n"
     ]
    }
   ],
   "source": [
    "for student in session.query(Students).filter(Students.name.ilike(\"%S%\")):\n",
    "    print(student.name)"
   ]
  },
  {
   "cell_type": "markdown",
   "metadata": {},
   "source": [
    "##### IN (`in_`):"
   ]
  },
  {
   "cell_type": "code",
   "execution_count": 204,
   "metadata": {},
   "outputs": [
    {
     "name": "stdout",
     "output_type": "stream",
     "text": [
      "2019-05-21 08:04:01,630 INFO sqlalchemy.engine.base.Engine SELECT students.id AS students_id, students.name AS students_name, students.school_id AS students_school_id \n",
      "FROM students \n",
      "WHERE students.name IN (?, ?)\n",
      "2019-05-21 08:04:01,632 INFO sqlalchemy.engine.base.Engine ('Sachin Shah', 'Manish Gupta')\n",
      "<__main__.Students object at 0x111a2ca20> Sachin Shah\n",
      "<__main__.Students object at 0x111a2e8d0> Manish Gupta\n"
     ]
    }
   ],
   "source": [
    "for student in session.query(Students).filter(Students.name.in_(['Sachin Shah', 'Manish Gupta'])):\n",
    "    print(student, student.name)"
   ]
  },
  {
   "cell_type": "markdown",
   "metadata": {},
   "source": [
    "##### NOT IN (`~`): "
   ]
  },
  {
   "cell_type": "code",
   "execution_count": 205,
   "metadata": {},
   "outputs": [
    {
     "name": "stdout",
     "output_type": "stream",
     "text": [
      "2019-05-21 08:04:26,830 INFO sqlalchemy.engine.base.Engine SELECT students.id AS students_id, students.name AS students_name, students.school_id AS students_school_id \n",
      "FROM students \n",
      "WHERE students.name NOT IN (?, ?)\n",
      "2019-05-21 08:04:26,833 INFO sqlalchemy.engine.base.Engine ('Sachin Shah', 'Manish Gupta')\n",
      "<__main__.Students object at 0x111a2c198> Satendra\n",
      "<__main__.Students object at 0x111a2c2b0> Rajeev Chaturvedi\n",
      "<__main__.Students object at 0x111a2c550> Viral Kamdar\n",
      "<__main__.Students object at 0x111a2c5c0> Pinakin Purohit\n",
      "<__main__.Students object at 0x111d38f60> Nitin Srivastava\n"
     ]
    }
   ],
   "source": [
    "for student in session.query(Students).filter(~Students.name.in_(['Sachin Shah', 'Manish Gupta'])):\n",
    "    print(student, student.name)"
   ]
  },
  {
   "cell_type": "markdown",
   "metadata": {},
   "source": [
    "##### IS NULL:"
   ]
  },
  {
   "cell_type": "code",
   "execution_count": 206,
   "metadata": {},
   "outputs": [
    {
     "name": "stdout",
     "output_type": "stream",
     "text": [
      "2019-05-21 08:05:50,804 INFO sqlalchemy.engine.base.Engine SELECT students.id AS students_id, students.name AS students_name, students.school_id AS students_school_id \n",
      "FROM students \n",
      "WHERE students.name IS NULL\n",
      "2019-05-21 08:05:50,805 INFO sqlalchemy.engine.base.Engine ()\n"
     ]
    }
   ],
   "source": [
    "for student in session.query(Students).filter(Students.name == None):\n",
    "    print(student, student.name)"
   ]
  },
  {
   "cell_type": "markdown",
   "metadata": {},
   "source": [
    "##### NOT NULL"
   ]
  },
  {
   "cell_type": "code",
   "execution_count": 210,
   "metadata": {},
   "outputs": [
    {
     "name": "stdout",
     "output_type": "stream",
     "text": [
      "2019-05-21 08:08:18,239 INFO sqlalchemy.engine.base.Engine SELECT students.id AS students_id, students.name AS students_name, students.school_id AS students_school_id \n",
      "FROM students \n",
      "WHERE students.name IS NOT NULL\n",
      "2019-05-21 08:08:18,242 INFO sqlalchemy.engine.base.Engine ()\n",
      "<__main__.Students object at 0x111d3a518> Sachin Shah 1\n",
      "<__main__.Students object at 0x111d3add8> Satendra 1\n",
      "<__main__.Students object at 0x111d3ae80> Rajeev Chaturvedi 1\n",
      "<__main__.Students object at 0x111a2e0f0> Manish Gupta 2\n",
      "<__main__.Students object at 0x111a2ee80> Viral Kamdar 2\n",
      "<__main__.Students object at 0x111a2ef28> Pinakin Purohit 2\n",
      "<__main__.Students object at 0x111d38f60> Nitin Srivastava 2\n"
     ]
    }
   ],
   "source": [
    "for student in session.query(Students).filter(Students.name != None):\n",
    "    print(student, student.name, student.school.id)"
   ]
  },
  {
   "cell_type": "markdown",
   "metadata": {},
   "source": [
    "##### AND (`and_`):"
   ]
  },
  {
   "cell_type": "code",
   "execution_count": 217,
   "metadata": {},
   "outputs": [
    {
     "name": "stdout",
     "output_type": "stream",
     "text": [
      "2019-05-21 08:10:59,512 INFO sqlalchemy.engine.base.Engine SELECT students.id AS students_id, students.name AS students_name, students.school_id AS students_school_id \n",
      "FROM students \n",
      "WHERE students.name LIKE ? AND students.school_id = ?\n",
      "2019-05-21 08:10:59,514 INFO sqlalchemy.engine.base.Engine ('S%', 1)\n",
      "<__main__.Students object at 0x111a2ceb8> Sachin Shah\n",
      "<__main__.Students object at 0x111a2c198> Satendra\n"
     ]
    }
   ],
   "source": [
    "from sqlalchemy import and_\n",
    "\n",
    "for student in session.query(Students).filter(and_(Students.name.like(\"S%\"), Students.school_id==1)):\n",
    "    print(student, student.name)"
   ]
  },
  {
   "cell_type": "markdown",
   "metadata": {},
   "source": [
    "##### OR (or_):"
   ]
  },
  {
   "cell_type": "code",
   "execution_count": 220,
   "metadata": {},
   "outputs": [
    {
     "name": "stdout",
     "output_type": "stream",
     "text": [
      "2019-05-21 08:12:00,820 INFO sqlalchemy.engine.base.Engine SELECT students.id AS students_id, students.name AS students_name, students.school_id AS students_school_id \n",
      "FROM students \n",
      "WHERE students.name LIKE ? OR students.school_id = ?\n",
      "2019-05-21 08:12:00,822 INFO sqlalchemy.engine.base.Engine ('%s%', 1)\n",
      "<__main__.Students object at 0x111a2eb00> Sachin Shah\n",
      "<__main__.Students object at 0x111a2e048> Satendra\n",
      "<__main__.Students object at 0x111a2eeb8> Rajeev Chaturvedi\n",
      "<__main__.Students object at 0x111a2eb70> Manish Gupta\n",
      "<__main__.Students object at 0x111d38f60> Nitin Srivastava\n"
     ]
    }
   ],
   "source": [
    "from sqlalchemy import or_\n",
    "\n",
    "for student in session.query(Students).filter(or_(Students.name.like(\"%s%\"), Students.school_id==1)):\n",
    "    print(student, student.name)"
   ]
  },
  {
   "cell_type": "markdown",
   "metadata": {},
   "source": [
    "##### MATCH:"
   ]
  },
  {
   "cell_type": "code",
   "execution_count": 225,
   "metadata": {},
   "outputs": [
    {
     "name": "stdout",
     "output_type": "stream",
     "text": [
      "2019-05-21 08:16:19,831 INFO sqlalchemy.engine.base.Engine SELECT students.id AS students_id, students.name AS students_name, students.school_id AS students_school_id \n",
      "FROM students \n",
      "WHERE students.name MATCH ?\n",
      "2019-05-21 08:16:19,835 INFO sqlalchemy.engine.base.Engine ('Sachin%',)\n"
     ]
    },
    {
     "ename": "OperationalError",
     "evalue": "(sqlite3.OperationalError) unable to use function MATCH in the requested context\n[SQL: SELECT students.id AS students_id, students.name AS students_name, students.school_id AS students_school_id \nFROM students \nWHERE students.name MATCH ?]\n[parameters: ('Sachin%',)]\n(Background on this error at: http://sqlalche.me/e/e3q8)",
     "output_type": "error",
     "traceback": [
      "\u001b[0;31m---------------------------------------------------------------------------\u001b[0m",
      "\u001b[0;31mOperationalError\u001b[0m                          Traceback (most recent call last)",
      "\u001b[0;32m~/code/mj/lep/venv/lib/python3.7/site-packages/sqlalchemy/engine/base.py\u001b[0m in \u001b[0;36m_execute_context\u001b[0;34m(self, dialect, constructor, statement, parameters, *args)\u001b[0m\n\u001b[1;32m   1243\u001b[0m                     self.dialect.do_execute(\n\u001b[0;32m-> 1244\u001b[0;31m                         \u001b[0mcursor\u001b[0m\u001b[0;34m,\u001b[0m \u001b[0mstatement\u001b[0m\u001b[0;34m,\u001b[0m \u001b[0mparameters\u001b[0m\u001b[0;34m,\u001b[0m \u001b[0mcontext\u001b[0m\u001b[0;34m\u001b[0m\u001b[0m\n\u001b[0m\u001b[1;32m   1245\u001b[0m                     )\n",
      "\u001b[0;32m~/code/mj/lep/venv/lib/python3.7/site-packages/sqlalchemy/engine/default.py\u001b[0m in \u001b[0;36mdo_execute\u001b[0;34m(self, cursor, statement, parameters, context)\u001b[0m\n\u001b[1;32m    551\u001b[0m     \u001b[0;32mdef\u001b[0m \u001b[0mdo_execute\u001b[0m\u001b[0;34m(\u001b[0m\u001b[0mself\u001b[0m\u001b[0;34m,\u001b[0m \u001b[0mcursor\u001b[0m\u001b[0;34m,\u001b[0m \u001b[0mstatement\u001b[0m\u001b[0;34m,\u001b[0m \u001b[0mparameters\u001b[0m\u001b[0;34m,\u001b[0m \u001b[0mcontext\u001b[0m\u001b[0;34m=\u001b[0m\u001b[0;32mNone\u001b[0m\u001b[0;34m)\u001b[0m\u001b[0;34m:\u001b[0m\u001b[0;34m\u001b[0m\u001b[0m\n\u001b[0;32m--> 552\u001b[0;31m         \u001b[0mcursor\u001b[0m\u001b[0;34m.\u001b[0m\u001b[0mexecute\u001b[0m\u001b[0;34m(\u001b[0m\u001b[0mstatement\u001b[0m\u001b[0;34m,\u001b[0m \u001b[0mparameters\u001b[0m\u001b[0;34m)\u001b[0m\u001b[0;34m\u001b[0m\u001b[0m\n\u001b[0m\u001b[1;32m    553\u001b[0m \u001b[0;34m\u001b[0m\u001b[0m\n",
      "\u001b[0;31mOperationalError\u001b[0m: unable to use function MATCH in the requested context",
      "\nThe above exception was the direct cause of the following exception:\n",
      "\u001b[0;31mOperationalError\u001b[0m                          Traceback (most recent call last)",
      "\u001b[0;32m<ipython-input-225-ef8121d79e53>\u001b[0m in \u001b[0;36m<module>\u001b[0;34m\u001b[0m\n\u001b[1;32m      1\u001b[0m \u001b[0;31m## TODO\u001b[0m\u001b[0;34m\u001b[0m\u001b[0;34m\u001b[0m\u001b[0m\n\u001b[0;32m----> 2\u001b[0;31m \u001b[0;32mfor\u001b[0m \u001b[0mstudent\u001b[0m \u001b[0;32min\u001b[0m \u001b[0msession\u001b[0m\u001b[0;34m.\u001b[0m\u001b[0mquery\u001b[0m\u001b[0;34m(\u001b[0m\u001b[0mStudents\u001b[0m\u001b[0;34m)\u001b[0m\u001b[0;34m.\u001b[0m\u001b[0mfilter\u001b[0m\u001b[0;34m(\u001b[0m\u001b[0mStudents\u001b[0m\u001b[0;34m.\u001b[0m\u001b[0mname\u001b[0m\u001b[0;34m.\u001b[0m\u001b[0mmatch\u001b[0m\u001b[0;34m(\u001b[0m\u001b[0;34m'Sachin%'\u001b[0m\u001b[0;34m)\u001b[0m\u001b[0;34m)\u001b[0m\u001b[0;34m:\u001b[0m\u001b[0;34m\u001b[0m\u001b[0m\n\u001b[0m\u001b[1;32m      3\u001b[0m     \u001b[0mprint\u001b[0m\u001b[0;34m(\u001b[0m\u001b[0mstudent\u001b[0m\u001b[0;34m)\u001b[0m\u001b[0;34m\u001b[0m\u001b[0m\n",
      "\u001b[0;32m~/code/mj/lep/venv/lib/python3.7/site-packages/sqlalchemy/orm/query.py\u001b[0m in \u001b[0;36m__iter__\u001b[0;34m(self)\u001b[0m\n\u001b[1;32m   3315\u001b[0m         \u001b[0;32mif\u001b[0m \u001b[0mself\u001b[0m\u001b[0;34m.\u001b[0m\u001b[0m_autoflush\u001b[0m \u001b[0;32mand\u001b[0m \u001b[0;32mnot\u001b[0m \u001b[0mself\u001b[0m\u001b[0;34m.\u001b[0m\u001b[0m_populate_existing\u001b[0m\u001b[0;34m:\u001b[0m\u001b[0;34m\u001b[0m\u001b[0m\n\u001b[1;32m   3316\u001b[0m             \u001b[0mself\u001b[0m\u001b[0;34m.\u001b[0m\u001b[0msession\u001b[0m\u001b[0;34m.\u001b[0m\u001b[0m_autoflush\u001b[0m\u001b[0;34m(\u001b[0m\u001b[0;34m)\u001b[0m\u001b[0;34m\u001b[0m\u001b[0m\n\u001b[0;32m-> 3317\u001b[0;31m         \u001b[0;32mreturn\u001b[0m \u001b[0mself\u001b[0m\u001b[0;34m.\u001b[0m\u001b[0m_execute_and_instances\u001b[0m\u001b[0;34m(\u001b[0m\u001b[0mcontext\u001b[0m\u001b[0;34m)\u001b[0m\u001b[0;34m\u001b[0m\u001b[0m\n\u001b[0m\u001b[1;32m   3318\u001b[0m \u001b[0;34m\u001b[0m\u001b[0m\n\u001b[1;32m   3319\u001b[0m     \u001b[0;32mdef\u001b[0m \u001b[0m__str__\u001b[0m\u001b[0;34m(\u001b[0m\u001b[0mself\u001b[0m\u001b[0;34m)\u001b[0m\u001b[0;34m:\u001b[0m\u001b[0;34m\u001b[0m\u001b[0m\n",
      "\u001b[0;32m~/code/mj/lep/venv/lib/python3.7/site-packages/sqlalchemy/orm/query.py\u001b[0m in \u001b[0;36m_execute_and_instances\u001b[0;34m(self, querycontext)\u001b[0m\n\u001b[1;32m   3340\u001b[0m         )\n\u001b[1;32m   3341\u001b[0m \u001b[0;34m\u001b[0m\u001b[0m\n\u001b[0;32m-> 3342\u001b[0;31m         \u001b[0mresult\u001b[0m \u001b[0;34m=\u001b[0m \u001b[0mconn\u001b[0m\u001b[0;34m.\u001b[0m\u001b[0mexecute\u001b[0m\u001b[0;34m(\u001b[0m\u001b[0mquerycontext\u001b[0m\u001b[0;34m.\u001b[0m\u001b[0mstatement\u001b[0m\u001b[0;34m,\u001b[0m \u001b[0mself\u001b[0m\u001b[0;34m.\u001b[0m\u001b[0m_params\u001b[0m\u001b[0;34m)\u001b[0m\u001b[0;34m\u001b[0m\u001b[0m\n\u001b[0m\u001b[1;32m   3343\u001b[0m         \u001b[0;32mreturn\u001b[0m \u001b[0mloading\u001b[0m\u001b[0;34m.\u001b[0m\u001b[0minstances\u001b[0m\u001b[0;34m(\u001b[0m\u001b[0mquerycontext\u001b[0m\u001b[0;34m.\u001b[0m\u001b[0mquery\u001b[0m\u001b[0;34m,\u001b[0m \u001b[0mresult\u001b[0m\u001b[0;34m,\u001b[0m \u001b[0mquerycontext\u001b[0m\u001b[0;34m)\u001b[0m\u001b[0;34m\u001b[0m\u001b[0m\n\u001b[1;32m   3344\u001b[0m \u001b[0;34m\u001b[0m\u001b[0m\n",
      "\u001b[0;32m~/code/mj/lep/venv/lib/python3.7/site-packages/sqlalchemy/engine/base.py\u001b[0m in \u001b[0;36mexecute\u001b[0;34m(self, object_, *multiparams, **params)\u001b[0m\n\u001b[1;32m    986\u001b[0m             \u001b[0;32mraise\u001b[0m \u001b[0mexc\u001b[0m\u001b[0;34m.\u001b[0m\u001b[0mObjectNotExecutableError\u001b[0m\u001b[0;34m(\u001b[0m\u001b[0mobject_\u001b[0m\u001b[0;34m)\u001b[0m\u001b[0;34m\u001b[0m\u001b[0m\n\u001b[1;32m    987\u001b[0m         \u001b[0;32melse\u001b[0m\u001b[0;34m:\u001b[0m\u001b[0;34m\u001b[0m\u001b[0m\n\u001b[0;32m--> 988\u001b[0;31m             \u001b[0;32mreturn\u001b[0m \u001b[0mmeth\u001b[0m\u001b[0;34m(\u001b[0m\u001b[0mself\u001b[0m\u001b[0;34m,\u001b[0m \u001b[0mmultiparams\u001b[0m\u001b[0;34m,\u001b[0m \u001b[0mparams\u001b[0m\u001b[0;34m)\u001b[0m\u001b[0;34m\u001b[0m\u001b[0m\n\u001b[0m\u001b[1;32m    989\u001b[0m \u001b[0;34m\u001b[0m\u001b[0m\n\u001b[1;32m    990\u001b[0m     \u001b[0;32mdef\u001b[0m \u001b[0m_execute_function\u001b[0m\u001b[0;34m(\u001b[0m\u001b[0mself\u001b[0m\u001b[0;34m,\u001b[0m \u001b[0mfunc\u001b[0m\u001b[0;34m,\u001b[0m \u001b[0mmultiparams\u001b[0m\u001b[0;34m,\u001b[0m \u001b[0mparams\u001b[0m\u001b[0;34m)\u001b[0m\u001b[0;34m:\u001b[0m\u001b[0;34m\u001b[0m\u001b[0m\n",
      "\u001b[0;32m~/code/mj/lep/venv/lib/python3.7/site-packages/sqlalchemy/sql/elements.py\u001b[0m in \u001b[0;36m_execute_on_connection\u001b[0;34m(self, connection, multiparams, params)\u001b[0m\n\u001b[1;32m    285\u001b[0m     \u001b[0;32mdef\u001b[0m \u001b[0m_execute_on_connection\u001b[0m\u001b[0;34m(\u001b[0m\u001b[0mself\u001b[0m\u001b[0;34m,\u001b[0m \u001b[0mconnection\u001b[0m\u001b[0;34m,\u001b[0m \u001b[0mmultiparams\u001b[0m\u001b[0;34m,\u001b[0m \u001b[0mparams\u001b[0m\u001b[0;34m)\u001b[0m\u001b[0;34m:\u001b[0m\u001b[0;34m\u001b[0m\u001b[0m\n\u001b[1;32m    286\u001b[0m         \u001b[0;32mif\u001b[0m \u001b[0mself\u001b[0m\u001b[0;34m.\u001b[0m\u001b[0msupports_execution\u001b[0m\u001b[0;34m:\u001b[0m\u001b[0;34m\u001b[0m\u001b[0m\n\u001b[0;32m--> 287\u001b[0;31m             \u001b[0;32mreturn\u001b[0m \u001b[0mconnection\u001b[0m\u001b[0;34m.\u001b[0m\u001b[0m_execute_clauseelement\u001b[0m\u001b[0;34m(\u001b[0m\u001b[0mself\u001b[0m\u001b[0;34m,\u001b[0m \u001b[0mmultiparams\u001b[0m\u001b[0;34m,\u001b[0m \u001b[0mparams\u001b[0m\u001b[0;34m)\u001b[0m\u001b[0;34m\u001b[0m\u001b[0m\n\u001b[0m\u001b[1;32m    288\u001b[0m         \u001b[0;32melse\u001b[0m\u001b[0;34m:\u001b[0m\u001b[0;34m\u001b[0m\u001b[0m\n\u001b[1;32m    289\u001b[0m             \u001b[0;32mraise\u001b[0m \u001b[0mexc\u001b[0m\u001b[0;34m.\u001b[0m\u001b[0mObjectNotExecutableError\u001b[0m\u001b[0;34m(\u001b[0m\u001b[0mself\u001b[0m\u001b[0;34m)\u001b[0m\u001b[0;34m\u001b[0m\u001b[0m\n",
      "\u001b[0;32m~/code/mj/lep/venv/lib/python3.7/site-packages/sqlalchemy/engine/base.py\u001b[0m in \u001b[0;36m_execute_clauseelement\u001b[0;34m(self, elem, multiparams, params)\u001b[0m\n\u001b[1;32m   1105\u001b[0m             \u001b[0mdistilled_params\u001b[0m\u001b[0;34m,\u001b[0m\u001b[0;34m\u001b[0m\u001b[0m\n\u001b[1;32m   1106\u001b[0m             \u001b[0mcompiled_sql\u001b[0m\u001b[0;34m,\u001b[0m\u001b[0;34m\u001b[0m\u001b[0m\n\u001b[0;32m-> 1107\u001b[0;31m             \u001b[0mdistilled_params\u001b[0m\u001b[0;34m,\u001b[0m\u001b[0;34m\u001b[0m\u001b[0m\n\u001b[0m\u001b[1;32m   1108\u001b[0m         )\n\u001b[1;32m   1109\u001b[0m         \u001b[0;32mif\u001b[0m \u001b[0mself\u001b[0m\u001b[0;34m.\u001b[0m\u001b[0m_has_events\u001b[0m \u001b[0;32mor\u001b[0m \u001b[0mself\u001b[0m\u001b[0;34m.\u001b[0m\u001b[0mengine\u001b[0m\u001b[0;34m.\u001b[0m\u001b[0m_has_events\u001b[0m\u001b[0;34m:\u001b[0m\u001b[0;34m\u001b[0m\u001b[0m\n",
      "\u001b[0;32m~/code/mj/lep/venv/lib/python3.7/site-packages/sqlalchemy/engine/base.py\u001b[0m in \u001b[0;36m_execute_context\u001b[0;34m(self, dialect, constructor, statement, parameters, *args)\u001b[0m\n\u001b[1;32m   1246\u001b[0m         \u001b[0;32mexcept\u001b[0m \u001b[0mBaseException\u001b[0m \u001b[0;32mas\u001b[0m \u001b[0me\u001b[0m\u001b[0;34m:\u001b[0m\u001b[0;34m\u001b[0m\u001b[0m\n\u001b[1;32m   1247\u001b[0m             self._handle_dbapi_exception(\n\u001b[0;32m-> 1248\u001b[0;31m                 \u001b[0me\u001b[0m\u001b[0;34m,\u001b[0m \u001b[0mstatement\u001b[0m\u001b[0;34m,\u001b[0m \u001b[0mparameters\u001b[0m\u001b[0;34m,\u001b[0m \u001b[0mcursor\u001b[0m\u001b[0;34m,\u001b[0m \u001b[0mcontext\u001b[0m\u001b[0;34m\u001b[0m\u001b[0m\n\u001b[0m\u001b[1;32m   1249\u001b[0m             )\n\u001b[1;32m   1250\u001b[0m \u001b[0;34m\u001b[0m\u001b[0m\n",
      "\u001b[0;32m~/code/mj/lep/venv/lib/python3.7/site-packages/sqlalchemy/engine/base.py\u001b[0m in \u001b[0;36m_handle_dbapi_exception\u001b[0;34m(self, e, statement, parameters, cursor, context)\u001b[0m\n\u001b[1;32m   1464\u001b[0m                 \u001b[0mutil\u001b[0m\u001b[0;34m.\u001b[0m\u001b[0mraise_from_cause\u001b[0m\u001b[0;34m(\u001b[0m\u001b[0mnewraise\u001b[0m\u001b[0;34m,\u001b[0m \u001b[0mexc_info\u001b[0m\u001b[0;34m)\u001b[0m\u001b[0;34m\u001b[0m\u001b[0m\n\u001b[1;32m   1465\u001b[0m             \u001b[0;32melif\u001b[0m \u001b[0mshould_wrap\u001b[0m\u001b[0;34m:\u001b[0m\u001b[0;34m\u001b[0m\u001b[0m\n\u001b[0;32m-> 1466\u001b[0;31m                 \u001b[0mutil\u001b[0m\u001b[0;34m.\u001b[0m\u001b[0mraise_from_cause\u001b[0m\u001b[0;34m(\u001b[0m\u001b[0msqlalchemy_exception\u001b[0m\u001b[0;34m,\u001b[0m \u001b[0mexc_info\u001b[0m\u001b[0;34m)\u001b[0m\u001b[0;34m\u001b[0m\u001b[0m\n\u001b[0m\u001b[1;32m   1467\u001b[0m             \u001b[0;32melse\u001b[0m\u001b[0;34m:\u001b[0m\u001b[0;34m\u001b[0m\u001b[0m\n\u001b[1;32m   1468\u001b[0m                 \u001b[0mutil\u001b[0m\u001b[0;34m.\u001b[0m\u001b[0mreraise\u001b[0m\u001b[0;34m(\u001b[0m\u001b[0;34m*\u001b[0m\u001b[0mexc_info\u001b[0m\u001b[0;34m)\u001b[0m\u001b[0;34m\u001b[0m\u001b[0m\n",
      "\u001b[0;32m~/code/mj/lep/venv/lib/python3.7/site-packages/sqlalchemy/util/compat.py\u001b[0m in \u001b[0;36mraise_from_cause\u001b[0;34m(exception, exc_info)\u001b[0m\n\u001b[1;32m    381\u001b[0m     \u001b[0mexc_type\u001b[0m\u001b[0;34m,\u001b[0m \u001b[0mexc_value\u001b[0m\u001b[0;34m,\u001b[0m \u001b[0mexc_tb\u001b[0m \u001b[0;34m=\u001b[0m \u001b[0mexc_info\u001b[0m\u001b[0;34m\u001b[0m\u001b[0m\n\u001b[1;32m    382\u001b[0m     \u001b[0mcause\u001b[0m \u001b[0;34m=\u001b[0m \u001b[0mexc_value\u001b[0m \u001b[0;32mif\u001b[0m \u001b[0mexc_value\u001b[0m \u001b[0;32mis\u001b[0m \u001b[0;32mnot\u001b[0m \u001b[0mexception\u001b[0m \u001b[0;32melse\u001b[0m \u001b[0;32mNone\u001b[0m\u001b[0;34m\u001b[0m\u001b[0m\n\u001b[0;32m--> 383\u001b[0;31m     \u001b[0mreraise\u001b[0m\u001b[0;34m(\u001b[0m\u001b[0mtype\u001b[0m\u001b[0;34m(\u001b[0m\u001b[0mexception\u001b[0m\u001b[0;34m)\u001b[0m\u001b[0;34m,\u001b[0m \u001b[0mexception\u001b[0m\u001b[0;34m,\u001b[0m \u001b[0mtb\u001b[0m\u001b[0;34m=\u001b[0m\u001b[0mexc_tb\u001b[0m\u001b[0;34m,\u001b[0m \u001b[0mcause\u001b[0m\u001b[0;34m=\u001b[0m\u001b[0mcause\u001b[0m\u001b[0;34m)\u001b[0m\u001b[0;34m\u001b[0m\u001b[0m\n\u001b[0m\u001b[1;32m    384\u001b[0m \u001b[0;34m\u001b[0m\u001b[0m\n\u001b[1;32m    385\u001b[0m \u001b[0;34m\u001b[0m\u001b[0m\n",
      "\u001b[0;32m~/code/mj/lep/venv/lib/python3.7/site-packages/sqlalchemy/util/compat.py\u001b[0m in \u001b[0;36mreraise\u001b[0;34m(tp, value, tb, cause)\u001b[0m\n\u001b[1;32m    126\u001b[0m             \u001b[0mvalue\u001b[0m\u001b[0;34m.\u001b[0m\u001b[0m__cause__\u001b[0m \u001b[0;34m=\u001b[0m \u001b[0mcause\u001b[0m\u001b[0;34m\u001b[0m\u001b[0m\n\u001b[1;32m    127\u001b[0m         \u001b[0;32mif\u001b[0m \u001b[0mvalue\u001b[0m\u001b[0;34m.\u001b[0m\u001b[0m__traceback__\u001b[0m \u001b[0;32mis\u001b[0m \u001b[0;32mnot\u001b[0m \u001b[0mtb\u001b[0m\u001b[0;34m:\u001b[0m\u001b[0;34m\u001b[0m\u001b[0m\n\u001b[0;32m--> 128\u001b[0;31m             \u001b[0;32mraise\u001b[0m \u001b[0mvalue\u001b[0m\u001b[0;34m.\u001b[0m\u001b[0mwith_traceback\u001b[0m\u001b[0;34m(\u001b[0m\u001b[0mtb\u001b[0m\u001b[0;34m)\u001b[0m\u001b[0;34m\u001b[0m\u001b[0m\n\u001b[0m\u001b[1;32m    129\u001b[0m         \u001b[0;32mraise\u001b[0m \u001b[0mvalue\u001b[0m\u001b[0;34m\u001b[0m\u001b[0m\n\u001b[1;32m    130\u001b[0m \u001b[0;34m\u001b[0m\u001b[0m\n",
      "\u001b[0;32m~/code/mj/lep/venv/lib/python3.7/site-packages/sqlalchemy/engine/base.py\u001b[0m in \u001b[0;36m_execute_context\u001b[0;34m(self, dialect, constructor, statement, parameters, *args)\u001b[0m\n\u001b[1;32m   1242\u001b[0m                 \u001b[0;32mif\u001b[0m \u001b[0;32mnot\u001b[0m \u001b[0mevt_handled\u001b[0m\u001b[0;34m:\u001b[0m\u001b[0;34m\u001b[0m\u001b[0m\n\u001b[1;32m   1243\u001b[0m                     self.dialect.do_execute(\n\u001b[0;32m-> 1244\u001b[0;31m                         \u001b[0mcursor\u001b[0m\u001b[0;34m,\u001b[0m \u001b[0mstatement\u001b[0m\u001b[0;34m,\u001b[0m \u001b[0mparameters\u001b[0m\u001b[0;34m,\u001b[0m \u001b[0mcontext\u001b[0m\u001b[0;34m\u001b[0m\u001b[0m\n\u001b[0m\u001b[1;32m   1245\u001b[0m                     )\n\u001b[1;32m   1246\u001b[0m         \u001b[0;32mexcept\u001b[0m \u001b[0mBaseException\u001b[0m \u001b[0;32mas\u001b[0m \u001b[0me\u001b[0m\u001b[0;34m:\u001b[0m\u001b[0;34m\u001b[0m\u001b[0m\n",
      "\u001b[0;32m~/code/mj/lep/venv/lib/python3.7/site-packages/sqlalchemy/engine/default.py\u001b[0m in \u001b[0;36mdo_execute\u001b[0;34m(self, cursor, statement, parameters, context)\u001b[0m\n\u001b[1;32m    550\u001b[0m \u001b[0;34m\u001b[0m\u001b[0m\n\u001b[1;32m    551\u001b[0m     \u001b[0;32mdef\u001b[0m \u001b[0mdo_execute\u001b[0m\u001b[0;34m(\u001b[0m\u001b[0mself\u001b[0m\u001b[0;34m,\u001b[0m \u001b[0mcursor\u001b[0m\u001b[0;34m,\u001b[0m \u001b[0mstatement\u001b[0m\u001b[0;34m,\u001b[0m \u001b[0mparameters\u001b[0m\u001b[0;34m,\u001b[0m \u001b[0mcontext\u001b[0m\u001b[0;34m=\u001b[0m\u001b[0;32mNone\u001b[0m\u001b[0;34m)\u001b[0m\u001b[0;34m:\u001b[0m\u001b[0;34m\u001b[0m\u001b[0m\n\u001b[0;32m--> 552\u001b[0;31m         \u001b[0mcursor\u001b[0m\u001b[0;34m.\u001b[0m\u001b[0mexecute\u001b[0m\u001b[0;34m(\u001b[0m\u001b[0mstatement\u001b[0m\u001b[0;34m,\u001b[0m \u001b[0mparameters\u001b[0m\u001b[0;34m)\u001b[0m\u001b[0;34m\u001b[0m\u001b[0m\n\u001b[0m\u001b[1;32m    553\u001b[0m \u001b[0;34m\u001b[0m\u001b[0m\n\u001b[1;32m    554\u001b[0m     \u001b[0;32mdef\u001b[0m \u001b[0mdo_execute_no_params\u001b[0m\u001b[0;34m(\u001b[0m\u001b[0mself\u001b[0m\u001b[0;34m,\u001b[0m \u001b[0mcursor\u001b[0m\u001b[0;34m,\u001b[0m \u001b[0mstatement\u001b[0m\u001b[0;34m,\u001b[0m \u001b[0mcontext\u001b[0m\u001b[0;34m=\u001b[0m\u001b[0;32mNone\u001b[0m\u001b[0;34m)\u001b[0m\u001b[0;34m:\u001b[0m\u001b[0;34m\u001b[0m\u001b[0m\n",
      "\u001b[0;31mOperationalError\u001b[0m: (sqlite3.OperationalError) unable to use function MATCH in the requested context\n[SQL: SELECT students.id AS students_id, students.name AS students_name, students.school_id AS students_school_id \nFROM students \nWHERE students.name MATCH ?]\n[parameters: ('Sachin%',)]\n(Background on this error at: http://sqlalche.me/e/e3q8)"
     ]
    }
   ],
   "source": [
    "## TODO\n",
    "for student in session.query(Students).filter(Students.name.match('Sachin%')):\n",
    "    print(student)"
   ]
  },
  {
   "cell_type": "markdown",
   "metadata": {},
   "source": [
    "#### `count`"
   ]
  },
  {
   "cell_type": "code",
   "execution_count": 229,
   "metadata": {},
   "outputs": [
    {
     "name": "stdout",
     "output_type": "stream",
     "text": [
      "2019-05-21 08:20:31,134 INFO sqlalchemy.engine.base.Engine SELECT count(*) AS count_1 \n",
      "FROM (SELECT students.id AS students_id, students.name AS students_name, students.school_id AS students_school_id \n",
      "FROM students \n",
      "WHERE students.name LIKE ?) AS anon_1\n",
      "2019-05-21 08:20:31,136 INFO sqlalchemy.engine.base.Engine ('%S%',)\n",
      "4\n"
     ]
    }
   ],
   "source": [
    "nos = session.query(Students).filter(Students.name.like(\"%S%\")).count()\n",
    "print(nos)"
   ]
  },
  {
   "cell_type": "code",
   "execution_count": 231,
   "metadata": {},
   "outputs": [
    {
     "name": "stdout",
     "output_type": "stream",
     "text": [
      "2019-05-21 08:21:10,489 INFO sqlalchemy.engine.base.Engine SELECT count(*) AS count_1 \n",
      "FROM (SELECT students.id AS students_id, students.name AS students_name, students.school_id AS students_school_id \n",
      "FROM students \n",
      "WHERE students.name LIKE ? AND students.school_id = ?) AS anon_1\n",
      "2019-05-21 08:21:10,491 INFO sqlalchemy.engine.base.Engine ('S%', 1)\n",
      "2\n"
     ]
    }
   ],
   "source": [
    "from sqlalchemy import and_\n",
    "\n",
    "nos = session.query(Students).filter(and_(Students.name.like(\"S%\"), Students.school_id==1)).count()\n",
    "print(nos)"
   ]
  },
  {
   "cell_type": "code",
   "execution_count": 233,
   "metadata": {},
   "outputs": [
    {
     "name": "stdout",
     "output_type": "stream",
     "text": [
      "2019-05-21 08:21:42,448 INFO sqlalchemy.engine.base.Engine SELECT count(*) AS count_1 \n",
      "FROM (SELECT students.id AS students_id, students.name AS students_name, students.school_id AS students_school_id \n",
      "FROM students \n",
      "WHERE students.name LIKE ? AND students.school_id = ?) AS anon_1\n",
      "2019-05-21 08:21:42,450 INFO sqlalchemy.engine.base.Engine ('S%', 1)\n",
      "2\n"
     ]
    }
   ],
   "source": [
    "# shotcut for query\n",
    "student_query = session.query(Students)\n",
    "nos = student_query.filter(and_(Students.name.like(\"S%\"), Students.school_id==1)).count()\n",
    "print(nos)"
   ]
  }
 ],
 "metadata": {
  "kernelspec": {
   "display_name": "Python 3",
   "language": "python",
   "name": "python3"
  },
  "language_info": {
   "codemirror_mode": {
    "name": "ipython",
    "version": 3
   },
   "file_extension": ".py",
   "mimetype": "text/x-python",
   "name": "python",
   "nbconvert_exporter": "python",
   "pygments_lexer": "ipython3",
   "version": "3.7.4"
  }
 },
 "nbformat": 4,
 "nbformat_minor": 2
}
