{
 "cells": [
  {
   "cell_type": "markdown",
   "metadata": {},
   "source": [
    "# Unittest"
   ]
  },
  {
   "cell_type": "markdown",
   "metadata": {},
   "source": [
    "`unittest` is the \"batteries-included\" testing module available in the Python standard library. Its API calls are similar  to `JUnit/nUnit/CppUnit` series of tools, thus makes it familiar to use. It's documentation is available at http://docs.python.org/3/library/unittest.html."
   ]
  },
  {
   "cell_type": "markdown",
   "metadata": {},
   "source": [
    "One of the most import aspects of `unittest` is to evaluate certain test conditions, based on which tests can bet set to pass or fail. In python various `assert` helps us in achieving it."
   ]
  },
  {
   "cell_type": "markdown",
   "metadata": {},
   "source": [
    "## What is assert ?"
   ]
  },
  {
   "cell_type": "markdown",
   "metadata": {},
   "source": [
    "`assert*`'s can be treated as condition validators which allows automation engineers an easy way to validate certain test conditions and pass/fail test cases in a single line of code. \n",
    "\n",
    "Basic example of it is shown below."
   ]
  },
  {
   "cell_type": "code",
   "execution_count": 1,
   "metadata": {},
   "outputs": [],
   "source": [
    "# Run Examples from command line \n",
    "from unittest import TestCase\n",
    "\n",
    "\n",
    "def multiply(a, b):\n",
    "    \"\"\"\n",
    "    >>> multiply(4, 3)\n",
    "    12\n",
    "    >>> multiply('a', 3)\n",
    "    'aaa'\n",
    "    \"\"\"\n",
    "    return a * b\n",
    "\n",
    "\n",
    "class TestUM(TestCase):\n",
    "\n",
    "    def setUp(self):\n",
    "        print(\"setUp\")\n",
    "\n",
    "    def tearDown(self):\n",
    "        print(\"tearDown\")\n",
    "\n",
    "    def test_numbers_3_4(self):\n",
    "        self.assertEqual(multiply(3, 4), 12)\n",
    " \n",
    "    def test_strings_a_3(self):\n",
    "        self.assertEqual(multiply('a', 3), 'aaa')\n",
    "        \n",
    "    def test_string_a_b(self):\n",
    "        self.assertFalse(multiply('a', 'b'))"
   ]
  },
  {
   "cell_type": "markdown",
   "metadata": {},
   "source": [
    "Python provides a bunch of asserts to help automation engineers cover most of the common validation conditions. Below is the table of asserts with meanings."
   ]
  },
  {
   "cell_type": "markdown",
   "metadata": {},
   "source": [
    "| Method                    | Checks that          |    meaning            |\n",
    "|---------------------------|----------------------|-----------------------|\n",
    "| `assertEqual(a, b) `        | a == b               | Test that first and second evaluate to same value                |\n",
    "| `assertNotEqual(a, b)`      | a != b               | Test that first and second evaluate to different value           |\n",
    "| `assertTrue(x)`             | bool(x) is True      | Test that first evaluates to True                                |\n",
    "| `assertFalse(x) `           | bool(x) is False     | Test that first evaluates to False                               |\n",
    "| `assertIs(a, b)`            | a is b               | Test that first and second evaluate to the same object.          |\n",
    "| `assertIsNot(a, b)`         | a is not b           | Test that first and second or don’t evaluate to the same object. |\n",
    "| `assertIsNotNone(x) `       | x is not None        | Test that first do not evaluates to None                         |\n",
    "| `assertIsNone(x) `          | x is None            | Test that first evaluates to None                                |\n",
    "| `assertIn(a, b)`            | a in b               | Test that first evaluates to be present in second collection     |\n",
    "| `assertNotIn(a, b)`         | a not in b           | Test that first evaluates to be not present in second collection |\n",
    "| `assertIsInstance(a, b)`    | `isinstance(a, b)`   | Test that first evaluates to be instance of second               |\n",
    "| `assertNotIsInstance(a, b)` | not `isinstance(a, b)` | Test that first evaluates to be not instance of second         |\n",
    "| `assertAlmostEqual(a, b)`   | a is almost equal b  | Test that first is nearly equal to second                        |\n",
    "| `assertNotAlmostEqual(a, b)`| a is not almost equal b  | Test that first is not nearly equal to second                |\n",
    "| `assertGreater(a, b) `      | a > b                | Test that first is greater than second                           |\n",
    "| `assertGreaterEqual(a, b) ` | a >= b               | Test that first is greater or equal to second                    |\n",
    "| `assertLess(a, b) `         | a < b                | Test that first is less than second                              |\n",
    "| `assertLessEqual(a, b) `    | a <= b               | Test that first is less or equal to second                       |"
   ]
  },
  {
   "cell_type": "markdown",
   "metadata": {},
   "source": [
    "When any `assert` fails, then it raises `AssertionError` which is than captured by unittest and it fails the testcase."
   ]
  },
  {
   "cell_type": "markdown",
   "metadata": {},
   "source": [
    "Lets look at how we can use the above mentioned `asserts` to validate with the following conditions. Although we will not use them as shown in below examples in the actual world. "
   ]
  },
  {
   "cell_type": "code",
   "execution_count": 2,
   "metadata": {},
   "outputs": [],
   "source": [
    "import unittest\n",
    "a = d = 10\n",
    "aa = 1111\n",
    "bb = 1111\n",
    "b = [12]\n",
    "c = [10]\n",
    "\n",
    "from unittest import TestCase\n",
    "tc = unittest.TestCase('__init__')"
   ]
  },
  {
   "cell_type": "markdown",
   "metadata": {},
   "source": [
    "### `assertEqual`"
   ]
  },
  {
   "cell_type": "markdown",
   "metadata": {},
   "source": [
    "`assertEquat` validates weather value of first and second variables is same. It **DO NOT** check if items are **same**, but just the value.  "
   ]
  },
  {
   "cell_type": "code",
   "execution_count": 3,
   "metadata": {},
   "outputs": [],
   "source": [
    "tc.assertEqual(aa, bb)"
   ]
  },
  {
   "cell_type": "markdown",
   "metadata": {},
   "source": [
    "When the values are same, than it do not return any value, but if the values are not same, `AssertionError` is raised as shown in the below example, which is usually captured by `unittest` which in turns fails the test."
   ]
  },
  {
   "cell_type": "code",
   "execution_count": 4,
   "metadata": {},
   "outputs": [
    {
     "name": "stdout",
     "output_type": "stream",
     "text": [
      "AssertionError:  10 != [12]\n"
     ]
    }
   ],
   "source": [
    "try:\n",
    "    print(tc.assertEqual(a, b))\n",
    "except AssertionError as a:\n",
    "    print(\"AssertionError: \", a)"
   ]
  },
  {
   "cell_type": "code",
   "execution_count": 5,
   "metadata": {},
   "outputs": [
    {
     "name": "stdout",
     "output_type": "stream",
     "text": [
      "AssertionError:  10 != [10]\n"
     ]
    }
   ],
   "source": [
    "a = d = 10\n",
    "b = [12]\n",
    "c = [10]\n",
    "try:\n",
    "    print(tc.assertEqual(a, c))\n",
    "except AssertionError as a:\n",
    "    print(\"AssertionError: \", a)"
   ]
  },
  {
   "cell_type": "code",
   "execution_count": 6,
   "metadata": {
    "scrolled": true
   },
   "outputs": [],
   "source": [
    "a = d = 10\n",
    "b = [12]\n",
    "c = [10]\n",
    "tc.assertEqual(a, d)"
   ]
  },
  {
   "cell_type": "markdown",
   "metadata": {},
   "source": [
    "### `assertNotEqual`"
   ]
  },
  {
   "cell_type": "markdown",
   "metadata": {},
   "source": [
    "`assertNotEquat` validates whether value of first and second variables are not same. Again it also **DO NOT** check if items are not **same**, but just the value are different. Although common sense dictates us that if the items have different values they are can not be same :)"
   ]
  },
  {
   "cell_type": "code",
   "execution_count": 7,
   "metadata": {},
   "outputs": [],
   "source": [
    "tc.assertNotEqual(a, aa)"
   ]
  },
  {
   "cell_type": "markdown",
   "metadata": {},
   "source": [
    "### `assertTrue`"
   ]
  },
  {
   "cell_type": "markdown",
   "metadata": {},
   "source": [
    "`assertTrue` validates whether the value of item is `True`.  "
   ]
  },
  {
   "cell_type": "code",
   "execution_count": 15,
   "metadata": {
    "scrolled": true
   },
   "outputs": [],
   "source": [
    "tc.assertTrue(a == a)"
   ]
  },
  {
   "cell_type": "code",
   "execution_count": 16,
   "metadata": {},
   "outputs": [
    {
     "name": "stdout",
     "output_type": "stream",
     "text": [
      "'<' not supported between instances of 'int' and 'list'\n"
     ]
    }
   ],
   "source": [
    "try:\n",
    "    tc.assertTrue(a < b)\n",
    "except TypeError as e:\n",
    "    print(e)"
   ]
  },
  {
   "cell_type": "code",
   "execution_count": 9,
   "metadata": {},
   "outputs": [
    {
     "name": "stdout",
     "output_type": "stream",
     "text": [
      "False is not true\n"
     ]
    }
   ],
   "source": [
    "try:\n",
    "    print(tc.assertTrue(a == c))\n",
    "except AssertionError as e:\n",
    "    print(e)"
   ]
  },
  {
   "cell_type": "code",
   "execution_count": 8,
   "metadata": {},
   "outputs": [
    {
     "name": "stdout",
     "output_type": "stream",
     "text": [
      "None\n"
     ]
    }
   ],
   "source": [
    "try:\n",
    "    print(tc.assertTrue(a, d))\n",
    "except Exception as e:\n",
    "    print(e)"
   ]
  },
  {
   "cell_type": "markdown",
   "metadata": {},
   "source": [
    "### `assertFalse`"
   ]
  },
  {
   "cell_type": "markdown",
   "metadata": {},
   "source": [
    "`assertTrue` validates whether the value of item is `False`.  "
   ]
  },
  {
   "cell_type": "code",
   "execution_count": 24,
   "metadata": {
    "scrolled": true
   },
   "outputs": [
    {
     "name": "stdout",
     "output_type": "stream",
     "text": [
      "True is not false\n"
     ]
    }
   ],
   "source": [
    "try:\n",
    "    tc.assertFalse(a == a)\n",
    "except AssertionError as e:\n",
    "    print(e)"
   ]
  },
  {
   "cell_type": "markdown",
   "metadata": {},
   "source": [
    "When using conditions, make sure that they are valid, otherwise asserts will fail, as shown in the below example. "
   ]
  },
  {
   "cell_type": "code",
   "execution_count": 12,
   "metadata": {},
   "outputs": [
    {
     "name": "stdout",
     "output_type": "stream",
     "text": [
      "'>' not supported between instances of 'int' and 'list'\n"
     ]
    }
   ],
   "source": [
    "try:\n",
    "    tc.assertFalse(a > b)\n",
    "except TypeError as e:\n",
    "    print(e)"
   ]
  },
  {
   "cell_type": "markdown",
   "metadata": {},
   "source": [
    "When the validating condition results in `False` than, `assertFalse` do not raise any exception."
   ]
  },
  {
   "cell_type": "code",
   "execution_count": 13,
   "metadata": {},
   "outputs": [],
   "source": [
    "try:\n",
    "    tc.assertFalse(a == c)\n",
    "    tc.assertFalse(a < d)\n",
    "except AssertionError as e:\n",
    "    print(e)"
   ]
  },
  {
   "cell_type": "markdown",
   "metadata": {},
   "source": [
    "### `assertIs`"
   ]
  },
  {
   "cell_type": "markdown",
   "metadata": {},
   "source": [
    "It asserts if first and second element are same. "
   ]
  },
  {
   "cell_type": "code",
   "execution_count": 15,
   "metadata": {},
   "outputs": [
    {
     "name": "stdout",
     "output_type": "stream",
     "text": [
      "None\n"
     ]
    }
   ],
   "source": [
    "print(tc.assertIs(a, a))"
   ]
  },
  {
   "cell_type": "code",
   "execution_count": 16,
   "metadata": {},
   "outputs": [
    {
     "name": "stdout",
     "output_type": "stream",
     "text": [
      "10 is not [12]\n"
     ]
    }
   ],
   "source": [
    "try:\n",
    "    print(tc.assertIs(a,b))\n",
    "except AssertionError as e:\n",
    "    print(e)"
   ]
  },
  {
   "cell_type": "code",
   "execution_count": 17,
   "metadata": {},
   "outputs": [
    {
     "name": "stdout",
     "output_type": "stream",
     "text": [
      "10 is not [10]\n"
     ]
    }
   ],
   "source": [
    "try:\n",
    "    print(tc.assertIs(a,c))\n",
    "except AssertionError as e:\n",
    "    print(e)"
   ]
  },
  {
   "cell_type": "code",
   "execution_count": 18,
   "metadata": {
    "scrolled": true
   },
   "outputs": [
    {
     "name": "stdout",
     "output_type": "stream",
     "text": [
      "None\n"
     ]
    }
   ],
   "source": [
    "try:\n",
    "    print(tc.assertIs(a,d))\n",
    "except AssertionError as e:\n",
    "    print(e)"
   ]
  },
  {
   "cell_type": "markdown",
   "metadata": {},
   "source": [
    "### `assertIsNot`"
   ]
  },
  {
   "cell_type": "markdown",
   "metadata": {},
   "source": [
    "It asserts if first and second element are not same. "
   ]
  },
  {
   "cell_type": "code",
   "execution_count": 19,
   "metadata": {},
   "outputs": [
    {
     "name": "stdout",
     "output_type": "stream",
     "text": [
      "unexpectedly identical: 10\n"
     ]
    }
   ],
   "source": [
    "try:\n",
    "    print(tc.assertIsNot(a, a))\n",
    "except Exception as e:\n",
    "    print(e)"
   ]
  },
  {
   "cell_type": "code",
   "execution_count": 20,
   "metadata": {},
   "outputs": [
    {
     "name": "stdout",
     "output_type": "stream",
     "text": [
      "None\n"
     ]
    }
   ],
   "source": [
    "print(tc.assertIsNot(a,b))"
   ]
  },
  {
   "cell_type": "code",
   "execution_count": 21,
   "metadata": {},
   "outputs": [
    {
     "name": "stdout",
     "output_type": "stream",
     "text": [
      "None\n"
     ]
    }
   ],
   "source": [
    "print(tc.assertIsNot(a,c))"
   ]
  },
  {
   "cell_type": "code",
   "execution_count": 22,
   "metadata": {
    "scrolled": true
   },
   "outputs": [
    {
     "name": "stdout",
     "output_type": "stream",
     "text": [
      "unexpectedly identical: 10\n"
     ]
    }
   ],
   "source": [
    "try:\n",
    "    print(tc.assertIsNot(a,d))\n",
    "except Exception as e:\n",
    "    print(e)"
   ]
  },
  {
   "cell_type": "markdown",
   "metadata": {},
   "source": [
    "### `assertIsNone`"
   ]
  },
  {
   "cell_type": "markdown",
   "metadata": {},
   "source": [
    "`assertIsNone` asserts that the value of element is `None`"
   ]
  },
  {
   "cell_type": "code",
   "execution_count": 14,
   "metadata": {},
   "outputs": [
    {
     "name": "stdout",
     "output_type": "stream",
     "text": [
      "1.0 is not None\n"
     ]
    }
   ],
   "source": [
    "try:\n",
    "    tc.assertIsNone(a/a)\n",
    "except Exception as e:\n",
    "    print(e)"
   ]
  },
  {
   "cell_type": "markdown",
   "metadata": {},
   "source": [
    "### `assertIsNotNone`"
   ]
  },
  {
   "cell_type": "markdown",
   "metadata": {},
   "source": [
    "`assertIsNone` asserts that the value of element is not`None`"
   ]
  },
  {
   "cell_type": "code",
   "execution_count": 10,
   "metadata": {},
   "outputs": [],
   "source": [
    "tc.assertIsNotNone(a)"
   ]
  },
  {
   "cell_type": "markdown",
   "metadata": {},
   "source": [
    "### assertIn"
   ]
  },
  {
   "cell_type": "markdown",
   "metadata": {},
   "source": [
    "`assertIn` asserts that element is present in the collection."
   ]
  },
  {
   "cell_type": "code",
   "execution_count": 8,
   "metadata": {},
   "outputs": [
    {
     "name": "stdout",
     "output_type": "stream",
     "text": [
      "None\n"
     ]
    }
   ],
   "source": [
    "tc.assertIn(a, [a])"
   ]
  },
  {
   "cell_type": "code",
   "execution_count": 16,
   "metadata": {},
   "outputs": [],
   "source": [
    "# Checking list\n",
    "x = [1, 2, 3, 4]\n",
    "tc.assertIn(1, x)"
   ]
  },
  {
   "cell_type": "code",
   "execution_count": 18,
   "metadata": {},
   "outputs": [],
   "source": [
    "# Asserting dictionary keys \n",
    "x = {1: 2, 2: 3}\n",
    "tc.assertIn(1, x)"
   ]
  },
  {
   "cell_type": "markdown",
   "metadata": {},
   "source": [
    "### assertNotIn"
   ]
  },
  {
   "cell_type": "markdown",
   "metadata": {},
   "source": [
    "`assertNotIn` asserts that element is not present in the collection."
   ]
  },
  {
   "cell_type": "code",
   "execution_count": 19,
   "metadata": {},
   "outputs": [
    {
     "name": "stdout",
     "output_type": "stream",
     "text": [
      "10 unexpectedly found in [10]\n"
     ]
    }
   ],
   "source": [
    "try:\n",
    "    tc.assertNotIn(a, [a])\n",
    "except Exception as e:\n",
    "    print(e)"
   ]
  },
  {
   "cell_type": "markdown",
   "metadata": {},
   "source": [
    "### assertIsInstance"
   ]
  },
  {
   "cell_type": "code",
   "execution_count": 20,
   "metadata": {},
   "outputs": [],
   "source": [
    "tc.assertIsInstance(tc, object)"
   ]
  },
  {
   "cell_type": "code",
   "execution_count": 28,
   "metadata": {},
   "outputs": [
    {
     "name": "stdout",
     "output_type": "stream",
     "text": [
      "isinstance() arg 2 must be a type or tuple of types\n"
     ]
    }
   ],
   "source": [
    "try:\n",
    "    print(tc.assertIsInstance(a,b))\n",
    "except Exception as e:\n",
    "    print(e)"
   ]
  },
  {
   "cell_type": "code",
   "execution_count": 29,
   "metadata": {},
   "outputs": [
    {
     "name": "stdout",
     "output_type": "stream",
     "text": [
      "isinstance() arg 2 must be a type or tuple of types\n"
     ]
    }
   ],
   "source": [
    "try:\n",
    "    print(tc.assertIsInstance(a,c))\n",
    "except Exception as e:\n",
    "    print(e)"
   ]
  },
  {
   "cell_type": "code",
   "execution_count": 30,
   "metadata": {
    "scrolled": true
   },
   "outputs": [
    {
     "name": "stdout",
     "output_type": "stream",
     "text": [
      "isinstance() arg 2 must be a type or tuple of types\n"
     ]
    }
   ],
   "source": [
    "try:\n",
    "    print(tc.assertIsInstance(a,d))\n",
    "except Exception as e:\n",
    "    print(e)"
   ]
  },
  {
   "cell_type": "markdown",
   "metadata": {},
   "source": [
    "### assertNotIsInstance"
   ]
  },
  {
   "cell_type": "code",
   "execution_count": 31,
   "metadata": {},
   "outputs": [
    {
     "name": "stdout",
     "output_type": "stream",
     "text": [
      "<unittest.case.TestCase testMethod=__init__> is an instance of <class 'object'>\n"
     ]
    }
   ],
   "source": [
    "try:\n",
    "    print(tc.assertNotIsInstance(tc, object))\n",
    "except Exception as e:\n",
    "    print(e)"
   ]
  },
  {
   "cell_type": "code",
   "execution_count": 32,
   "metadata": {},
   "outputs": [],
   "source": [
    "class A:\n",
    "    pass\n",
    "class B:\n",
    "    pass\n",
    "class C(A):\n",
    "    pass"
   ]
  },
  {
   "cell_type": "code",
   "execution_count": 33,
   "metadata": {},
   "outputs": [],
   "source": [
    "a = A\n",
    "b = B\n",
    "c = C"
   ]
  },
  {
   "cell_type": "code",
   "execution_count": 34,
   "metadata": {},
   "outputs": [
    {
     "name": "stdout",
     "output_type": "stream",
     "text": [
      "None\n"
     ]
    }
   ],
   "source": [
    "print(tc.assertNotIsInstance(a, A))"
   ]
  },
  {
   "cell_type": "code",
   "execution_count": 35,
   "metadata": {},
   "outputs": [
    {
     "name": "stdout",
     "output_type": "stream",
     "text": [
      "None\n",
      "<class 'type'> <class 'type'>\n"
     ]
    }
   ],
   "source": [
    "print(tc.assertNotIsInstance(a,B))\n",
    "print(type(b), type(a))"
   ]
  },
  {
   "cell_type": "markdown",
   "metadata": {},
   "source": [
    "### `expectedFailure`"
   ]
  },
  {
   "cell_type": "markdown",
   "metadata": {},
   "source": [
    "If we know that a test case will fail and that condition should be treated as success, then `expectedFailure` decorator option can used as shown in the below example. "
   ]
  },
  {
   "cell_type": "code",
   "execution_count": 9,
   "metadata": {},
   "outputs": [],
   "source": [
    "class TestUM(unittest.TestCase):\n",
    " \n",
    "    def setUp(self):\n",
    "        pass\n",
    " \n",
    "    def test_numbers_3_4(self):\n",
    "        self.assertEqual( multiply(3,4), 12)\n",
    " \n",
    "    def test_strings_a_3(self):\n",
    "        self.assertEqual( multiply('a',3), 'aaa')\n",
    "        \n",
    "    def test_string_a_b(self):\n",
    "        try:\n",
    "            self.assertFalse(multiply('a', 'b'))\n",
    "        except Exception as e:\n",
    "            return False\n",
    "        \n",
    "    @unittest.expectedFailure\n",
    "    def test_fail(self):\n",
    "        self.assertEqual(1, 0, \"broken\")\n",
    "        \n",
    "    def skipUnlessHasattr(obj, attr):\n",
    "        if hasattr(obj, attr):\n",
    "            return lambda func: func\n",
    "        return unittest.skip(\"{!r} doesn't have {!r}\".format(obj, attr))"
   ]
  },
  {
   "cell_type": "code",
   "execution_count": 10,
   "metadata": {
    "scrolled": true
   },
   "outputs": [
    {
     "name": "stderr",
     "output_type": "stream",
     "text": [
      "x...x..."
     ]
    },
    {
     "name": "stdout",
     "output_type": "stream",
     "text": [
      "['__call__', '__class__', '__delattr__', '__dict__', '__dir__', '__doc__', '__eq__', '__format__', '__ge__', '__getattribute__', '__gt__', '__hash__', '__init__', '__init_subclass__', '__iter__', '__le__', '__lt__', '__module__', '__ne__', '__new__', '__reduce__', '__reduce_ex__', '__repr__', '__setattr__', '__sizeof__', '__str__', '__subclasshook__', '__weakref__', '_addClassOrModuleLevelException', '_cleanup', '_createClassOrModuleLevelException', '_get_previous_module', '_handleClassSetUp', '_handleModuleFixture', '_handleModuleTearDown', '_removeTestAtIndex', '_removed_tests', '_tearDownPreviousClass', '_tests', 'addTest', 'addTests', 'countTestCases', 'debug', 'run']\n"
     ]
    },
    {
     "name": "stderr",
     "output_type": "stream",
     "text": [
      "\n",
      "----------------------------------------------------------------------\n",
      "Ran 8 tests in 0.029s\n",
      "\n",
      "OK (expected failures=2)\n"
     ]
    },
    {
     "data": {
      "text/plain": [
       "<unittest.runner.TextTestResult run=8 errors=0 failures=0>"
      ]
     },
     "execution_count": 10,
     "metadata": {},
     "output_type": "execute_result"
    }
   ],
   "source": [
    "suite = unittest.TestLoader().loadTestsFromModule(TestUM())\n",
    "print(dir(suite))\n",
    "suite.addTest(unittest.TestLoader().loadTestsFromTestCase(TestUM))\n",
    "unittest.TextTestRunner().run(suite)"
   ]
  },
  {
   "cell_type": "markdown",
   "metadata": {},
   "source": [
    "### Testing for Exceptions"
   ]
  },
  {
   "cell_type": "markdown",
   "metadata": {},
   "source": [
    "#### `failUnlessRaises`"
   ]
  },
  {
   "cell_type": "code",
   "execution_count": 19,
   "metadata": {},
   "outputs": [
    {
     "name": "stderr",
     "output_type": "stream",
     "text": [
      "E\n",
      "======================================================================\n",
      "ERROR: /Users/mayank (unittest.loader._FailedTest)\n",
      "----------------------------------------------------------------------\n",
      "AttributeError: module '__main__' has no attribute '/Users/mayank'\n",
      "\n",
      "----------------------------------------------------------------------\n",
      "Ran 1 test in 0.002s\n",
      "\n",
      "FAILED (errors=1)\n"
     ]
    },
    {
     "ename": "SystemExit",
     "evalue": "True",
     "output_type": "error",
     "traceback": [
      "An exception has occurred, use %tb to see the full traceback.\n",
      "\u001b[0;31mSystemExit\u001b[0m\u001b[0;31m:\u001b[0m True\n"
     ]
    },
    {
     "name": "stderr",
     "output_type": "stream",
     "text": [
      "/Users/mayank.johri/code/mj/lep/venv/lib/python3.7/site-packages/IPython/core/interactiveshell.py:3304: UserWarning: To exit: use 'exit', 'quit', or Ctrl-D.\n",
      "  warn(\"To exit: use 'exit', 'quit', or Ctrl-D.\", stacklevel=1)\n"
     ]
    }
   ],
   "source": [
    "import unittest as ut\n",
    "\n",
    "\n",
    "def raise_error():\n",
    "    x = 0\n",
    "    y = 1\n",
    "    return y/x\n",
    "\n",
    "\n",
    "class TestUM(ut.TestCase):\n",
    "\n",
    "    def test_numbers_3_4(self):\n",
    "        self.failUnlessRaises(ArithmeticError, raise_error)\n",
    "        \n",
    "if __name__ == '__main__':\n",
    "    ut.main()"
   ]
  },
  {
   "cell_type": "markdown",
   "metadata": {
    "collapsed": true
   },
   "source": [
    "## Test execution from command line"
   ]
  },
  {
   "cell_type": "markdown",
   "metadata": {},
   "source": [
    "The unittest module can be called from command line to run tests from `modules`, `classes` or even individual `test methods` as shown below"
   ]
  },
  {
   "cell_type": "markdown",
   "metadata": {
    "collapsed": true
   },
   "source": [
    "```\n",
    "python -m unittest test_module1 test_module2\n",
    "python -m unittest test_module.TestClass\n",
    "python -m unittest test_module.TestClass.test_method\n",
    "```"
   ]
  },
  {
   "cell_type": "markdown",
   "metadata": {},
   "source": [
    "## Programatically select the test cases"
   ]
  },
  {
   "cell_type": "markdown",
   "metadata": {},
   "source": [
    "```python\n",
    "suite = unittest.TestLoader().loadTestsFromModule(TestUM())\n",
    "print(dir(suite))\n",
    "suite.addTest(unittest.TestLoader().loadTestsFromTestCase(TestUMSubtraction))\n",
    "unittest.TextTestRunner().run(suite)\n",
    "```"
   ]
  },
  {
   "cell_type": "markdown",
   "metadata": {},
   "source": [
    "or, use the following method"
   ]
  },
  {
   "cell_type": "code",
   "execution_count": 36,
   "metadata": {},
   "outputs": [],
   "source": [
    "def suite():\n",
    "    tests = ['TestUM', 'TestUMSubtraction']\n",
    "\n",
    "    return unittest.TestSuite(map(WidgetTestCase, tests))"
   ]
  },
  {
   "cell_type": "markdown",
   "metadata": {},
   "source": [
    "## Skipping test cases"
   ]
  },
  {
   "cell_type": "markdown",
   "metadata": {},
   "source": [
    "We can use decorator `unittest` options `skip`, `skipif` or `skipUnless` to skip the testcases as shown in the below example. \n",
    "\n",
    "- `skip`: Skips the testcase irrespective of condition. \n",
    "- `skipif`: Skips the testcase if the condition is valid. \n",
    "- `skipUnless`: Skips the testcase if the condition is not valid. "
   ]
  },
  {
   "cell_type": "markdown",
   "metadata": {},
   "source": [
    "```python\n",
    "class MyTestCase(unittest.TestCase):\n",
    "\n",
    "    @unittest.skip(\"demonstrating skipping\")\n",
    "    def test_nothing(self):\n",
    "        self.fail(\"shouldn't happen\")\n",
    "\n",
    "    @unittest.skipIf(mylib.__version__ < (1, 3),\n",
    "                     \"not supported in this library version\")\n",
    "    def test_format(self):\n",
    "        # Tests that work for only a certain version of the library.\n",
    "        pass\n",
    "\n",
    "    @unittest.skipUnless(sys.platform.startswith(\"win\"), \"requires Windows\")\n",
    "    def test_windows_support(self):\n",
    "        # windows specific testing code\n",
    "        pass\n",
    "```"
   ]
  },
  {
   "cell_type": "markdown",
   "metadata": {},
   "source": [
    "we can also apply these decorators on classes also as shown below."
   ]
  },
  {
   "cell_type": "code",
   "execution_count": 5,
   "metadata": {},
   "outputs": [],
   "source": [
    "import unittest\n",
    "\n",
    "@unittest.skip\n",
    "class MyTestCase(unittest.TestCase):\n",
    "\n",
    "    def test_nothing(self):\n",
    "        self.fail(\"shouldn't happen\")\n",
    "\n",
    "    def test_format(self):\n",
    "        pass\n",
    "\n",
    "    def test_windows_support(self):\n",
    "        pass"
   ]
  },
  {
   "cell_type": "markdown",
   "metadata": {},
   "source": [
    "> **<center>!! NOTE: !!</center>**\n",
    "> - `setUp()` or `tearDown()` will not run for skipped test cases. \n",
    "> - `setUpClass()` or `tearDownClass()` will not run for Skipped classes.\n",
    "> - `setUpModule()` or `tearDownModule()` will not run for Skipped modules."
   ]
  },
  {
   "cell_type": "markdown",
   "metadata": {},
   "source": [
    "### Skipping tests within `setUp()`"
   ]
  },
  {
   "cell_type": "markdown",
   "metadata": {},
   "source": [
    "We can add the following code in setUp() to skip the test. \n",
    "\n",
    "```python\n",
    "if cond: self.skipTest('reason')\n",
    "```"
   ]
  },
  {
   "cell_type": "markdown",
   "metadata": {},
   "source": [
    "## Basic Test Structure"
   ]
  },
  {
   "cell_type": "markdown",
   "metadata": {},
   "source": [
    "Unit test provide the following \n",
    "- **Test fixture**: \n",
    "- Test case Class:\n",
    "    the individual unit of testing.\n",
    "- Test suite:\n",
    "    collection of test cases, test suites, or both.\n",
    "- TestLoader class: This class loads test cases and suites defined locally or from an external file. It emits a testsuite objects that possess those suites and cases\n",
    "- Test runner:\n",
    "    component for organizing the execution of tests and for delivering the outcome to the user.\n",
    "- TextTestRunner class:\n",
    "- The TestResults class: It offers a standard container for the test results"
   ]
  },
  {
   "cell_type": "markdown",
   "metadata": {},
   "source": [
    "### fixture"
   ]
  },
  {
   "cell_type": "markdown",
   "metadata": {},
   "source": [
    "$$TODO$$"
   ]
  },
  {
   "cell_type": "markdown",
   "metadata": {},
   "source": [
    "Test fixtures are `methods` and `functions` which execute before and/or after test case execution. `unittest` provide "
   ]
  },
  {
   "cell_type": "markdown",
   "metadata": {},
   "source": [
    "### Test cases"
   ]
  },
  {
   "cell_type": "markdown",
   "metadata": {},
   "source": [
    "$$TODO$$"
   ]
  },
  {
   "cell_type": "markdown",
   "metadata": {},
   "source": [
    "### subtests"
   ]
  },
  {
   "cell_type": "markdown",
   "metadata": {},
   "source": [
    "$$TODO$$"
   ]
  },
  {
   "cell_type": "markdown",
   "metadata": {},
   "source": [
    "## Test Discovery"
   ]
  },
  {
   "cell_type": "markdown",
   "metadata": {},
   "source": [
    "Test discovery is implemented in `TestLoader.discover()`, but can also be used from the command line. The basic command-line usage is:\n",
    "```\n",
    "$:\\\\> python -m unittest discover\n",
    "```\n",
    "\n",
    "The discover sub-command has the following options:\n",
    "```\n",
    "-v, --verbose:\n",
    "    Verbose output\n",
    "\n",
    "-s, --start-directory directory\n",
    "    Directory to start discovery (. default)\n",
    "\n",
    "-p, --pattern pattern\n",
    "    Pattern to match test files (test*.py default)\n",
    "\n",
    "-t, --top-level-directory directory\n",
    "    Top level directory of project (defaults to start directory)\n",
    "```"
   ]
  },
  {
   "cell_type": "code",
   "execution_count": null,
   "metadata": {},
   "outputs": [],
   "source": []
  },
  {
   "cell_type": "markdown",
   "metadata": {},
   "source": [
    "## parametrized test cases "
   ]
  },
  {
   "cell_type": "markdown",
   "metadata": {},
   "source": [
    "There are multiple ways we can create parametrized testcases using `unittest` but non of them are easy or straight forward.\n",
    "\n"
   ]
  },
  {
   "cell_type": "markdown",
   "metadata": {},
   "source": [
    "$$TODO$$"
   ]
  },
  {
   "cell_type": "markdown",
   "metadata": {},
   "source": [
    "## Creating a Unit Test"
   ]
  },
  {
   "cell_type": "markdown",
   "metadata": {},
   "source": [
    "**Step 1** − Import the unittest module in your program.\n",
    "\n",
    "**Step 2** − Define a function to be tested.\n",
    "\n",
    "**Step 3** − Create a testcase by subclassing unittest.TestCase.\n",
    "\n",
    "**Step 4** − Define a test as a method inside the class. Name of method must start with 'test'.\n",
    "\n",
    "**Step 5** − Each test calls assert function of TestCase class. There are many types of asserts. Following example calls assertEquals() function.\n",
    "\n",
    "**Step 6** − assertEquals() function compares result of add() function with arg2 argument and throws assertionError if comparison fails.\n",
    "\n",
    "**Step 7** − Finally, call main() method from the unittest module.\n",
    "\n",
    "**Step 8** − "
   ]
  }
 ],
 "metadata": {
  "kernelspec": {
   "display_name": "Python 3",
   "language": "python",
   "name": "python3"
  },
  "language_info": {
   "codemirror_mode": {
    "name": "ipython",
    "version": 3
   },
   "file_extension": ".py",
   "mimetype": "text/x-python",
   "name": "python",
   "nbconvert_exporter": "python",
   "pygments_lexer": "ipython3",
   "version": "3.9.0b5"
  }
 },
 "nbformat": 4,
 "nbformat_minor": 2
}
