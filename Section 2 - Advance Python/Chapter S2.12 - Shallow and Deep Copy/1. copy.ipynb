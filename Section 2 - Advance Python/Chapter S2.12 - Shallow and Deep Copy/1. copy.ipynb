{
 "cells": [
  {
   "cell_type": "markdown",
   "metadata": {},
   "source": [
    "# Copy"
   ]
  },
  {
   "cell_type": "markdown",
   "metadata": {},
   "source": [
    "## Assignation"
   ]
  },
  {
   "cell_type": "code",
   "execution_count": 2,
   "metadata": {},
   "outputs": [
    {
     "name": "stdout",
     "output_type": "stream",
     "text": [
      "4359088368 4359088368\n"
     ]
    }
   ],
   "source": [
    "a = 100002\n",
    "b = a\n",
    "print(id(a), id(b))"
   ]
  },
  {
   "cell_type": "markdown",
   "metadata": {},
   "source": [
    "As the id of both a, b are same, thus we can say that they are pointing to same memory location where the data `100002` is located. \n",
    "\n",
    "Thus its not a copy. "
   ]
  },
  {
   "cell_type": "markdown",
   "metadata": {},
   "source": [
    "## Shallow Copies"
   ]
  },
  {
   "cell_type": "markdown",
   "metadata": {},
   "source": [
    "The shallow copy created by copy() is a new container populated with references to the contents of the original object. When making a shallow copy of a list object, a new list is constructed and the elements of the original object are appended to it."
   ]
  },
  {
   "cell_type": "code",
   "execution_count": 1,
   "metadata": {},
   "outputs": [
    {
     "name": "stdout",
     "output_type": "stream",
     "text": [
      "140557540570368 140557540570816\n"
     ]
    }
   ],
   "source": [
    "import copy\n",
    "\n",
    "lst1 = [10001, 10002, 2223, 33434, 5545]\n",
    "lst2 = copy.copy(lst1)\n",
    "print(id(lst1), id(lst2))"
   ]
  },
  {
   "cell_type": "code",
   "execution_count": 2,
   "metadata": {},
   "outputs": [
    {
     "name": "stdout",
     "output_type": "stream",
     "text": [
      "140557540025552 140557540025552\n"
     ]
    }
   ],
   "source": [
    "# Both the list still points to the same data. \n",
    "print(id(lst1[2]), id(lst2[2]))"
   ]
  },
  {
   "cell_type": "code",
   "execution_count": 13,
   "metadata": {},
   "outputs": [
    {
     "name": "stdout",
     "output_type": "stream",
     "text": [
      "[1, 2, 3, 4, 5, 10, 10] [1, 2, 3, 4, 5]\n"
     ]
    }
   ],
   "source": [
    "lst1.append(10)\n",
    "print(lst1, lst2)"
   ]
  },
  {
   "cell_type": "code",
   "execution_count": 21,
   "metadata": {},
   "outputs": [
    {
     "name": "stdout",
     "output_type": "stream",
     "text": [
      "[10001, 10002, 2223, 33434, 5545] [10001, 10002, 2223, 33434, 5545]\n",
      "4359449960 4359449568\n"
     ]
    }
   ],
   "source": [
    "# What changed in this example. \n",
    "\n",
    "import copy\n",
    "\n",
    "class MyTry:\n",
    "    def __init__(self):\n",
    "        self.lst = [10001, 10002, 2223, 33434, 5545]\n",
    "\n",
    "a = MyTry()\n",
    "dup = copy.copy(a)\n",
    "print(a.lst, dup.lst)\n",
    "print(id(a), id(dup))"
   ]
  },
  {
   "cell_type": "code",
   "execution_count": 22,
   "metadata": {},
   "outputs": [
    {
     "name": "stdout",
     "output_type": "stream",
     "text": [
      "[10001, 10002, 2223, 33434, 5545, 6] [10001, 10002, 2223, 33434, 5545, 6]\n"
     ]
    }
   ],
   "source": [
    "a.lst.append(6)\n",
    "print(a.lst, dup.lst)"
   ]
  },
  {
   "cell_type": "code",
   "execution_count": 25,
   "metadata": {},
   "outputs": [
    {
     "name": "stdout",
     "output_type": "stream",
     "text": [
      "[10001, 10002, 2223, 33434, 5545, 6] [10001, 10002, 2223, 33434, 5545, 6]\n",
      "4359460288 4359459672\n",
      "4359243464 4359243464\n"
     ]
    }
   ],
   "source": [
    "import copy\n",
    "\n",
    "class MyTry:\n",
    "    def __init__(self):\n",
    "        self.lst = [10001, 10002, 2223, 33434, 5545]\n",
    "\n",
    "a = MyTry()\n",
    "dup = copy.copy(a) \n",
    "a.lst.append(6)\n",
    "print(a.lst, dup.lst)\n",
    "print(id(a), id(dup))\n",
    "print(id(a.lst), id(dup.lst))\n"
   ]
  },
  {
   "cell_type": "code",
   "execution_count": 28,
   "metadata": {},
   "outputs": [
    {
     "name": "stdout",
     "output_type": "stream",
     "text": [
      "4358094536 4358487624\n"
     ]
    }
   ],
   "source": [
    "# This is what happend in the above examples. \n",
    "import copy\n",
    "\n",
    "lst1 = [10001,[ 10002, 2223], 33434, 5545]\n",
    "lst2 = copy.copy(lst1)\n",
    "print(id(lst1), id(lst2))"
   ]
  },
  {
   "cell_type": "code",
   "execution_count": 29,
   "metadata": {},
   "outputs": [
    {
     "name": "stdout",
     "output_type": "stream",
     "text": [
      "[10001, [10002, 2223, 10101], 33434, 5545] [10001, [10002, 2223, 10101], 33434, 5545]\n"
     ]
    }
   ],
   "source": [
    "lst1[1].append(10101)\n",
    "print(lst1, lst2)"
   ]
  },
  {
   "cell_type": "markdown",
   "metadata": {},
   "source": [
    "## Deep Copies"
   ]
  },
  {
   "cell_type": "markdown",
   "metadata": {},
   "source": [
    "The deep copy created by deepcopy() is a new container populated with copies of the contents of the original object. To make a deep copy of a list, a new list is constructed, the elements of the original list are copied, and then those copies are appended to the new list.\n",
    "\n",
    "Replacing the call to copy() with deepcopy() makes the difference in the output apparent."
   ]
  },
  {
   "cell_type": "code",
   "execution_count": 30,
   "metadata": {},
   "outputs": [
    {
     "name": "stdout",
     "output_type": "stream",
     "text": [
      "[10001, [10002, 2223, 10101], 33434, 5545, 6] [10001, [10002, 2223, 10101], 33434, 5545]\n",
      "4359460848 4359460792\n",
      "4358111816 4358504392\n"
     ]
    }
   ],
   "source": [
    "import copy\n",
    "\n",
    "class MyTry:\n",
    "    def __init__(self):\n",
    "        self.lst =  [10001, [10002, 2223, 10101], 33434, 5545]\n",
    "\n",
    "a = MyTry()\n",
    "dup = copy.deepcopy(a) \n",
    "a.lst.append(6)\n",
    "print(a.lst, dup.lst)\n",
    "print(id(a), id(dup))\n",
    "print(id(a.lst), id(dup.lst))"
   ]
  },
  {
   "cell_type": "code",
   "execution_count": 2,
   "metadata": {},
   "outputs": [
    {
     "name": "stdout",
     "output_type": "stream",
     "text": [
      "91687432 91687112\n"
     ]
    }
   ],
   "source": [
    "lst = [1,2,3,4,5]\n",
    "dup_lst = copy.deepcopy(lst)\n",
    "print(id(lst), id(dup_lst))"
   ]
  },
  {
   "cell_type": "code",
   "execution_count": 32,
   "metadata": {},
   "outputs": [
    {
     "name": "stdout",
     "output_type": "stream",
     "text": [
      "[10001, [10002, 2223, 10101, 6], 33434, 5545] [10001, [10002, 2223, 10101], 33434, 5545]\n",
      "4359461352 4359461464\n",
      "4358533960 4359244488\n"
     ]
    }
   ],
   "source": [
    "import copy\n",
    "\n",
    "class MyTry:\n",
    "    def __init__(self):\n",
    "        self.lst = [10001, [10002, 2223, 10101], 33434, 5545]\n",
    "\n",
    "a = MyTry()\n",
    "dup = copy.deepcopy(a) \n",
    "a.lst[1].append(6)\n",
    "print(a.lst, dup.lst)\n",
    "print(id(a), id(dup))\n",
    "print(id(a.lst), id(dup.lst))"
   ]
  },
  {
   "cell_type": "code",
   "execution_count": 33,
   "metadata": {},
   "outputs": [
    {
     "name": "stdout",
     "output_type": "stream",
     "text": [
      "4358504392 4358533576\n"
     ]
    }
   ],
   "source": [
    "print(id(a.lst[1]), id(dup.lst[1]))"
   ]
  },
  {
   "cell_type": "markdown",
   "metadata": {},
   "source": [
    "## Customizing Copy Behavior"
   ]
  },
  {
   "cell_type": "markdown",
   "metadata": {},
   "source": [
    "It is possible to control how copies are made using the `__copy__()` and `__deepcopy__()` special methods.\n",
    "\n",
    "- `__copy__()` is called without any arguments and should return a shallow copy of the object.\n",
    "- `__deepcopy__()` is called with a memo dictionary and should return a deep copy of the object. Any member attributes that need to be deep-copied should be passed to copy.deepcopy(), along with the memo dictionary, to control for recursion."
   ]
  }
 ],
 "metadata": {
  "kernelspec": {
   "display_name": "Python 3 (ipykernel)",
   "language": "python",
   "name": "python3"
  },
  "language_info": {
   "codemirror_mode": {
    "name": "ipython",
    "version": 3
   },
   "file_extension": ".py",
   "mimetype": "text/x-python",
   "name": "python",
   "nbconvert_exporter": "python",
   "pygments_lexer": "ipython3",
   "version": "3.9.10"
  }
 },
 "nbformat": 4,
 "nbformat_minor": 2
}
