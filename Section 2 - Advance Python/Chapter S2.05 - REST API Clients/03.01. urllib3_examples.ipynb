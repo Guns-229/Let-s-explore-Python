{
 "cells": [
  {
   "cell_type": "markdown",
   "metadata": {},
   "source": [
    "## `URLLIB3` Examples"
   ]
  },
  {
   "cell_type": "code",
   "execution_count": 6,
   "metadata": {},
   "outputs": [
    {
     "name": "stdout",
     "output_type": "stream",
     "text": [
      "b'<!DOCTYPE html>\\n<html>\\n  <head>\\n    <title>Me\\'s app</title>\\n    <style>\\n        \"#time\": {\\n            background-color: azure;\\n            color: cadetblue;\\n            font-size: 2em;\\n            border: 1em;\\n            border-color: chocolate;\\n            width: 100px;\\n                \\n        }\\n    </style>\\n  </head>\\n  <body>\\n    <h2>Hello You!</h2>\\n      <button>Click Me to get time</button>\\n      <span id=\"time\"></span>\\n  </body>\\n</html>'\n"
     ]
    }
   ],
   "source": [
    "# Get Example with urllib3\n",
    "\n",
    "import urllib3\n",
    "import json\n",
    "\n",
    "http_client = urllib3.PoolManager()\n",
    "\n",
    "res = http_client.request('GET', \"http://127.0.0.1:5000/\")\n",
    "print(res.data)"
   ]
  },
  {
   "cell_type": "code",
   "execution_count": 10,
   "metadata": {},
   "outputs": [
    {
     "name": "stdout",
     "output_type": "stream",
     "text": [
      "{'quarks': [{'charge': '+2/3', 'name': 'up'}, {'charge': '-1/3', 'name': 'down'}, {'charge': '+2/3', 'name': 'charm'}, {'charge': '-1/3', 'name': 'strange'}]}\n"
     ]
    }
   ],
   "source": [
    "import urllib3\n",
    "import json\n",
    "\n",
    "http_client = urllib3.PoolManager()\n",
    "\n",
    "res = http_client.request('GET', \"http://127.0.0.1:5000/quarks\")\n",
    "print(json.loads(res.data.decode('utf-8')))"
   ]
  },
  {
   "cell_type": "code",
   "execution_count": null,
   "metadata": {},
   "outputs": [],
   "source": []
  },
  {
   "cell_type": "code",
   "execution_count": null,
   "metadata": {},
   "outputs": [],
   "source": []
  },
  {
   "cell_type": "code",
   "execution_count": null,
   "metadata": {},
   "outputs": [],
   "source": []
  }
 ],
 "metadata": {
  "kernelspec": {
   "display_name": "Python 3",
   "language": "python",
   "name": "python3"
  },
  "language_info": {
   "codemirror_mode": {
    "name": "ipython",
    "version": 3
   },
   "file_extension": ".py",
   "mimetype": "text/x-python",
   "name": "python",
   "nbconvert_exporter": "python",
   "pygments_lexer": "ipython3",
   "version": "3.7.0"
  }
 },
 "nbformat": 4,
 "nbformat_minor": 2
}
