{
 "cells": [
  {
   "cell_type": "markdown",
   "metadata": {
    "collapsed": true
   },
   "source": [
    "# REST Clients "
   ]
  },
  {
   "cell_type": "markdown",
   "metadata": {},
   "source": [
    "There are few pre-installed and many third party `REST API` Clients available such as \n",
    "- `requests`\n",
    "- `httplib` (pre-installed)\n",
    "- `urllib`  (pre-installed)\n",
    "- `urllib3`\n",
    "- [unirest.io](unirest.io)\n",
    "\n",
    "We are going to cover the most common REST Client `requests`."
   ]
  },
  {
   "cell_type": "markdown",
   "metadata": {},
   "source": [
    "## Requests"
   ]
  },
  {
   "cell_type": "markdown",
   "metadata": {},
   "source": [
    "Requests is one of the most popular HTTP Client library for Python."
   ]
  },
  {
   "cell_type": "markdown",
   "metadata": {},
   "source": [
    "### Supported Features"
   ]
  },
  {
   "cell_type": "markdown",
   "metadata": {},
   "source": [
    "The main features of `requests` are as follows\n",
    "\n",
    "* International Domains and URLs\n",
    "* Keep-Alive & Connection Pooling\n",
    "* Sessions with Cookie Persistence\n",
    "* Browser-style SSL Verification\n",
    "* Basic/Digest Authentication\n",
    "* Elegant Key/Value Cookies\n",
    "* Automatic Decompression\n",
    "* Automatic Content Decoding\n",
    "* Unicode Response Bodies\n",
    "* Multipart File Uploads\n",
    "* HTTP(S) Proxy Support\n",
    "* Connection Timeouts\n",
    "* Streaming Downloads\n",
    "* .netrc Support\n",
    "* Chunked Requests\n",
    "* Thread-safety"
   ]
  },
  {
   "cell_type": "markdown",
   "metadata": {},
   "source": [
    "### Installation"
   ]
  },
  {
   "cell_type": "markdown",
   "metadata": {},
   "source": [
    "`pip install requests`"
   ]
  },
  {
   "cell_type": "markdown",
   "metadata": {},
   "source": [
    "### GET Client Request"
   ]
  },
  {
   "cell_type": "markdown",
   "metadata": {},
   "source": [
    "We will use `get` attribute of `requests` module to request `GET` API , in the below example."
   ]
  },
  {
   "cell_type": "code",
   "execution_count": 41,
   "metadata": {},
   "outputs": [
    {
     "name": "stdout",
     "output_type": "stream",
     "text": [
      "<Response [200]>\n",
      "200\n",
      "{\"tamil\":\"\\u0ba8\\u0bb2\\u0bcd\\u0bb5\\u0bb0\\u0bb5\\u0bc1\"}\n",
      "\n",
      "{'tamil': 'நல்வரவு'}\n"
     ]
    }
   ],
   "source": [
    "# file: 100_restSample.py\n",
    "# Run Chapter S2.06 - Web Development & REST API Servers/code/flask/swagatham_2.py\n",
    "# for server\n",
    "\n",
    "import requests\n",
    "\n",
    "try:\n",
    "    r = requests.get(\"http://localhost:5000/tamil\")\n",
    "    print(r)\n",
    "    print(r.status_code)\n",
    "    print(r.text)\n",
    "    print(r.json())\n",
    "except Exception as e:\n",
    "    print(e)"
   ]
  },
  {
   "cell_type": "markdown",
   "metadata": {},
   "source": [
    "In the above example, first we have to run `swagatham_2.py` as the server and then run the above code. `requests.get` returns a response object.\n",
    "\n",
    "Response Objects have following attributes\n",
    "`'apparent_encoding', 'close', 'connection', 'content', 'cookies', 'elapsed', 'encoding', 'headers', 'history', 'is_permanent_redirect', 'is_redirect', 'iter_content', 'iter_lines', 'json', 'links', 'next', 'ok', 'raise_for_status', 'raw', 'reason', 'request', 'status_code', 'text', 'url'`\n",
    "\n",
    "Lets check what the response attributes means by getting the values of them.\n"
   ]
  },
  {
   "cell_type": "code",
   "execution_count": 31,
   "metadata": {},
   "outputs": [
    {
     "name": "stdout",
     "output_type": "stream",
     "text": [
      "<Response [200]>\n",
      "***\n",
      "apparent_encoding == ascii\n",
      "connection == <requests.adapters.HTTPAdapter object at 0x10ed858d0>\n",
      "content == b'{\"tamil\":\"\\\\u0ba8\\\\u0bb2\\\\u0bcd\\\\u0bb5\\\\u0bb0\\\\u0bb5\\\\u0bc1\"}\\n'\n",
      "cookies == <RequestsCookieJar[]>\n",
      "elapsed == 0:00:00.014106\n",
      "encoding == None\n",
      "headers == {'Content-Type': 'application/json', 'Content-Length': '55', 'Server': 'Werkzeug/0.15.4 Python/3.7.0', 'Date': 'Wed, 19 Jun 2019 08:30:25 GMT'}\n",
      "history == []\n",
      "is_permanent_redirect == False\n",
      "is_redirect == False\n",
      "links == {}\n",
      "next == None\n",
      "ok == True\n",
      "raw == <urllib3.response.HTTPResponse object at 0x10f0037f0>\n",
      "reason == OK\n",
      "request == <PreparedRequest [GET]>\n",
      "status_code == 200\n",
      "text == {\"tamil\":\"\\u0ba8\\u0bb2\\u0bcd\\u0bb5\\u0bb0\\u0bb5\\u0bc1\"}\n",
      "url == http://localhost:5000/tamil\n"
     ]
    }
   ],
   "source": [
    "# file: 101_restSample.py\n",
    "# Run Chapter S2.06 - Web Development & REST API Servers/code/flask/swagatham_2.py\n",
    "# for server\n",
    "\n",
    "import requests\n",
    "import inspect \n",
    "\n",
    "try:\n",
    "    r = requests.get(\"http://localhost:5000/tamil\")\n",
    "    print(r)\n",
    "    public_property_names = [method for method in dir(r) \n",
    "                               if not callable(getattr(r, method)) \n",
    "                                   if not method.startswith('_')]\n",
    "    public_method_names = [method for method in dir(r) \n",
    "                               if inspect.ismethod(method)\n",
    "                                   if not method.startswith('_')]\n",
    "    for method in public_method_names:\n",
    "        getattr(r, method)()\n",
    "    print(\"***\")\n",
    "    for prop in public_property_names:\n",
    "        print(prop, \"==\", str(getattr(r, prop)).strip())\n",
    "except Exception as e:\n",
    "    print(e)"
   ]
  },
  {
   "cell_type": "markdown",
   "metadata": {},
   "source": [
    "'apparent_encoding', 'close', 'connection', 'content', 'cookies', 'elapsed', 'encoding', 'headers', 'history', 'is_permanent_redirect', 'is_redirect', 'iter_content', 'iter_lines', 'json', 'links', 'next', 'ok', 'raise_for_status', 'raw', 'reason', 'request', 'status_code', 'text', 'url'"
   ]
  },
  {
   "cell_type": "markdown",
   "metadata": {},
   "source": [
    "#### `apparent_encoding`"
   ]
  },
  {
   "cell_type": "markdown",
   "metadata": {},
   "source": [
    "encoding detected by `chardet` library (https://pypi.org/project/chardet/)"
   ]
  },
  {
   "cell_type": "markdown",
   "metadata": {},
   "source": [
    "#### `connection`"
   ]
  },
  {
   "cell_type": "code",
   "execution_count": null,
   "metadata": {},
   "outputs": [],
   "source": []
  },
  {
   "cell_type": "markdown",
   "metadata": {},
   "source": [
    "#### `content`"
   ]
  },
  {
   "cell_type": "markdown",
   "metadata": {},
   "source": [
    "Content of the response, in bytes"
   ]
  },
  {
   "cell_type": "markdown",
   "metadata": {},
   "source": [
    "#### `cookies`"
   ]
  },
  {
   "cell_type": "markdown",
   "metadata": {},
   "source": [
    "A CookieJar of Cookies which is send by Server."
   ]
  },
  {
   "cell_type": "markdown",
   "metadata": {},
   "source": [
    "#### `elapsed`"
   ]
  },
  {
   "cell_type": "markdown",
   "metadata": {},
   "source": [
    "It is the time difference between the response received and request made by the client."
   ]
  },
  {
   "cell_type": "markdown",
   "metadata": {},
   "source": [
    "#### `encoding`"
   ]
  },
  {
   "cell_type": "markdown",
   "metadata": {},
   "source": [
    "Encoding of text `resp.text`"
   ]
  },
  {
   "cell_type": "markdown",
   "metadata": {},
   "source": [
    "#### `headers`"
   ]
  },
  {
   "cell_type": "markdown",
   "metadata": {},
   "source": [
    "It is **Case-insensitive Dictionary** of Response Headers. "
   ]
  },
  {
   "cell_type": "markdown",
   "metadata": {},
   "source": [
    "#### `history`"
   ]
  },
  {
   "cell_type": "markdown",
   "metadata": {},
   "source": [
    "It contains a list of Response objects from the history, from oldest to latest. Redirections are also reported here."
   ]
  },
  {
   "cell_type": "markdown",
   "metadata": {},
   "source": [
    "#### `is_permanent_redirect`"
   ]
  },
  {
   "cell_type": "markdown",
   "metadata": {},
   "source": [
    "`True` if its permanent versions of redirect"
   ]
  },
  {
   "cell_type": "markdown",
   "metadata": {},
   "source": [
    "#### `is_redirect`"
   ]
  },
  {
   "cell_type": "markdown",
   "metadata": {},
   "source": [
    "`True` if response is well-formed HTTP redirect that could have been processed automatically "
   ]
  },
  {
   "cell_type": "markdown",
   "metadata": {},
   "source": [
    "#### `iter_content(chunk_size=1, decode_unicode=False)`"
   ]
  },
  {
   "cell_type": "markdown",
   "metadata": {},
   "source": [
    "Iterates over the response data. When `stream=True` is set on the request, this avoids reading the content at once into memory for large responses. The chunk size is the number of bytes it should read into memory. This is not necessarily the length of each item returned as decoding can take place.\n",
    "\n",
    "`chunk_size` must be of type int or None. A value of `None` will function differently depending on the value of stream. stream=True will read data as it arrives in whatever size the chunks are received. If `stream=False`, data is returned as a single chunk.\n",
    "\n",
    "If `decode_unicode` is `True`, content will be decoded using the best available encoding based on the response.\n"
   ]
  },
  {
   "cell_type": "code",
   "execution_count": 1,
   "metadata": {},
   "outputs": [
    {
     "ename": "ModuleNotFoundError",
     "evalue": "No module named 'requests'",
     "output_type": "error",
     "traceback": [
      "\u001b[0;31m---------------------------------------------------------------------------\u001b[0m",
      "\u001b[0;31mModuleNotFoundError\u001b[0m                       Traceback (most recent call last)",
      "\u001b[0;32m<ipython-input-1-e517753f8c1c>\u001b[0m in \u001b[0;36m<module>\u001b[0;34m\u001b[0m\n\u001b[1;32m      3\u001b[0m \u001b[0;31m# for server\u001b[0m\u001b[0;34m\u001b[0m\u001b[0;34m\u001b[0m\u001b[0;34m\u001b[0m\u001b[0m\n\u001b[1;32m      4\u001b[0m \u001b[0;34m\u001b[0m\u001b[0m\n\u001b[0;32m----> 5\u001b[0;31m \u001b[0;32mimport\u001b[0m \u001b[0mrequests\u001b[0m\u001b[0;34m\u001b[0m\u001b[0;34m\u001b[0m\u001b[0m\n\u001b[0m\u001b[1;32m      6\u001b[0m \u001b[0;34m\u001b[0m\u001b[0m\n\u001b[1;32m      7\u001b[0m \u001b[0;32mtry\u001b[0m\u001b[0;34m:\u001b[0m\u001b[0;34m\u001b[0m\u001b[0;34m\u001b[0m\u001b[0m\n",
      "\u001b[0;31mModuleNotFoundError\u001b[0m: No module named 'requests'"
     ]
    }
   ],
   "source": [
    "# file: 102_resp_iter_content.py\n",
    "# Run Chapter S2.06 - Web Development & REST API Servers/code/flask/swagatham_2.py\n",
    "# for server\n",
    "\n",
    "import requests\n",
    "\n",
    "try:\n",
    "    r = requests.get(\"http://localhost:5000/gita\")\n",
    "    print(r)\n",
    "    print(r.status_code)\n",
    "    print(r.text)\n",
    "    content = \"\"\n",
    "    for d in r.iter_content(decode_unicode=True):\n",
    "        content += \"\".join(d)\n",
    "    print(\"content:\", content)\n",
    "except Exception as e:\n",
    "    print(e)"
   ]
  },
  {
   "cell_type": "markdown",
   "metadata": {},
   "source": [
    "#### `iter_lines`"
   ]
  },
  {
   "cell_type": "markdown",
   "metadata": {},
   "source": [
    "`iter_lines` reads one line at a time from the response as shown in the below example"
   ]
  },
  {
   "cell_type": "code",
   "execution_count": 51,
   "metadata": {},
   "outputs": [
    {
     "name": "stdout",
     "output_type": "stream",
     "text": [
      "<Response [200]>\n",
      "200\n",
      "शान्ताकारं भुजगशयनं पद्मनाभं सुरेशं\n",
      "विश्वाधारं गगनसदृशं मेघवर्णं शुभाङ्गम्।\n",
      "लक्ष्मीकान्तं कमलनयनं योगिभिर्ध्यानगम्यं\n",
      "वन्दे विष्णु भवभयहरं सर्वलोकैकनाथम्।।\n",
      "line: शान्ताकारं भुजगशयनं पद्मनाभं सुरेशं\n",
      "line: विश्वाधारं गगनसदृशं मेघवर्णं शुभाङ्गम्।\n",
      "line: लक्ष्मीकान्तं कमलनयनं योगिभिर्ध्यानगम्यं\n",
      "line: वन्दे विष्णु भवभयहरं सर्वलोकैकनाथम्।।\n"
     ]
    }
   ],
   "source": [
    "import requests\n",
    "\n",
    "try:\n",
    "    r = requests.get(\"http://localhost:5000/gita\")\n",
    "    print(r)\n",
    "    print(r.status_code)\n",
    "    print(r.text)\n",
    "    content = \"\"\n",
    "    for d in r.iter_lines(decode_unicode=True):\n",
    "        print(\"line:\", d)\n",
    "except Exception as e:\n",
    "    print(e)"
   ]
  },
  {
   "cell_type": "markdown",
   "metadata": {},
   "source": [
    "#### `json`"
   ]
  },
  {
   "cell_type": "markdown",
   "metadata": {},
   "source": [
    "`json` returns the json formatted response "
   ]
  },
  {
   "cell_type": "code",
   "execution_count": null,
   "metadata": {},
   "outputs": [],
   "source": []
  },
  {
   "cell_type": "code",
   "execution_count": null,
   "metadata": {},
   "outputs": [],
   "source": []
  },
  {
   "cell_type": "code",
   "execution_count": 1,
   "metadata": {},
   "outputs": [
    {
     "name": "stdout",
     "output_type": "stream",
     "text": [
      "401\n",
      "application/json; charset=utf-8\n",
      "utf-8\n",
      "{\"message\":\"Bad credentials\",\"documentation_url\":\"https://developer.github.com/v3\"}\n",
      "{'message': 'Bad credentials', 'documentation_url': 'https://developer.github.com/v3'}\n"
     ]
    }
   ],
   "source": [
    "import requests\n",
    "r = requests.get('https://api.github.com/user', auth=('use1r', 'pass'))\n",
    "print(r.status_code)\n",
    "print(r.headers['content-type'])\n",
    "\n",
    "print(r.encoding)\n",
    "print(r.text)\n",
    "print(r.json())"
   ]
  },
  {
   "cell_type": "code",
   "execution_count": 14,
   "metadata": {},
   "outputs": [
    {
     "name": "stdout",
     "output_type": "stream",
     "text": [
      "<Response [200]> Status Code: 200\n",
      "{\n",
      "  \"quarks\": [\n",
      "    {\n",
      "      \"charge\": \"+2/3\", \n",
      "      \"name\": \"up\"\n",
      "    }, \n",
      "    {\n",
      "      \"charge\": \"-1/3\", \n",
      "      \"name\": \"down\"\n",
      "    }, \n",
      "    {\n",
      "      \"charge\": \"+2/3\", \n",
      "      \"name\": \"charm\"\n",
      "    }, \n",
      "    {\n",
      "      \"charge\": \"-1/3\", \n",
      "      \"name\": \"strange\"\n",
      "    }\n",
      "  ]\n",
      "}\n",
      "\n",
      "{'quarks': [{'charge': '+2/3', 'name': 'up'}, {'charge': '-1/3', 'name': 'down'}, {'charge': '+2/3', 'name': 'charm'}, {'charge': '-1/3', 'name': 'strange'}]}\n"
     ]
    }
   ],
   "source": [
    "import requests\n",
    "\n",
    "r = requests.get(\"http://localhost:5000/quarks\")\n",
    "print(r, \"Status Code:\", r.status_code)\n",
    "print(r.text)\n",
    "print(r.json())"
   ]
  },
  {
   "cell_type": "code",
   "execution_count": 11,
   "metadata": {
    "scrolled": true
   },
   "outputs": [
    {
     "name": "stdout",
     "output_type": "stream",
     "text": [
      "<Response [404]> Status Code: 404\n",
      "text/html\n",
      "<!DOCTYPE HTML PUBLIC \"-//W3C//DTD HTML 3.2 Final//EN\">\n",
      "<title>404 Not Found</title>\n",
      "<h1>Not Found</h1>\n",
      "<p>The requested URL was not found on the server. If you entered the URL manually please check your spelling and try again.</p>\n",
      "\n"
     ]
    }
   ],
   "source": [
    "# Bad URL\n",
    "import requests\n",
    "\n",
    "r = requests.get(\"http://localhost:5000/quarks1\")\n",
    "print(r, \"Status Code:\", r.status_code)\n",
    "print(r.headers['content-type'])\n",
    "print(r.text)\n",
    "if r.headers['content-type'] == \"application/json;\":\n",
    "    print(r.json())"
   ]
  },
  {
   "cell_type": "code",
   "execution_count": 26,
   "metadata": {},
   "outputs": [
    {
     "name": "stdout",
     "output_type": "stream",
     "text": [
      "<Response [200]> Status Code: 200\n",
      "application/json\n",
      "{\n",
      "  \"quarks\": [\n",
      "    {\n",
      "      \"charge\": \"+2/3\", \n",
      "      \"name\": \"up\"\n",
      "    }, \n",
      "    {\n",
      "      \"charge\": \"-1/3\", \n",
      "      \"name\": \"down\"\n",
      "    }, \n",
      "    {\n",
      "      \"charge\": \"+2/3\", \n",
      "      \"name\": \"charm\"\n",
      "    }, \n",
      "    {\n",
      "      \"charge\": \"-1/3\", \n",
      "      \"name\": \"strange\"\n",
      "    }, \n",
      "    {\n",
      "      \"charge\": \"-2/3\", \n",
      "      \"name\": \"PostData\"\n",
      "    }, \n",
      "    {\n",
      "      \"charge\": \"-2/3\", \n",
      "      \"name\": \"PostData\"\n",
      "    }, \n",
      "    {\n",
      "      \"charge\": \"1112/3\", \n",
      "      \"name\": \"PostData\"\n",
      "    }, \n",
      "    {\n",
      "      \"charge\": \"1112/3\", \n",
      "      \"name\": \"PostData\"\n",
      "    }, \n",
      "    {\n",
      "      \"charge\": \"1112/3\", \n",
      "      \"name\": \"PostData\"\n",
      "    }, \n",
      "    {\n",
      "      \"charge\": \"1112/3\", \n",
      "      \"name\": \"PostData\"\n",
      "    }\n",
      "  ]\n",
      "}\n",
      "\n"
     ]
    }
   ],
   "source": [
    "# POST\n",
    "import requests\n",
    "\n",
    "data = {\"charge\": \"1112/3\", \"name\": \"PostData\"}\n",
    "url = \"http://127.0.0.1:5000/quarks\"\n",
    "r = requests.post(url, json=data)\n",
    "print(r, \"Status Code:\", r.status_code)\n",
    "print(r.headers['content-type'])\n",
    "print(r.text)"
   ]
  },
  {
   "cell_type": "code",
   "execution_count": 29,
   "metadata": {},
   "outputs": [
    {
     "name": "stdout",
     "output_type": "stream",
     "text": [
      "{'quarks': [{'charge': '+2/3', 'name': 'up'}, {'charge': '-1/3', 'name': 'down'}, {'charge': '+2/3', 'name': 'charm'}, {'charge': '-1/3', 'name': 'strange'}, {'charge': '-2/3', 'name': 'PostData'}, {'charge': '-2/3', 'name': 'PostData'}, {'charge': '1112/3', 'name': 'PostData'}, {'charge': '1112/3', 'name': 'PostData'}, {'charge': '1112/3', 'name': 'PostData'}, {'charge': '1112/3', 'name': 'PostData'}]}\n"
     ]
    }
   ],
   "source": [
    "if r.headers['content-type'].startswith(\"application/json\"):\n",
    "    obj = r.json()\n",
    "    print(obj)"
   ]
  },
  {
   "cell_type": "markdown",
   "metadata": {},
   "source": [
    "### Reference\n",
    "\n",
    "- https://2.python-requests.org/en/v3.0.0/"
   ]
  }
 ],
 "metadata": {
  "kernelspec": {
   "display_name": "Python 3",
   "language": "python",
   "name": "python3"
  },
  "language_info": {
   "codemirror_mode": {
    "name": "ipython",
    "version": 3
   },
   "file_extension": ".py",
   "mimetype": "text/x-python",
   "name": "python",
   "nbconvert_exporter": "python",
   "pygments_lexer": "ipython3",
   "version": "3.8.2"
  }
 },
 "nbformat": 4,
 "nbformat_minor": 1
}
