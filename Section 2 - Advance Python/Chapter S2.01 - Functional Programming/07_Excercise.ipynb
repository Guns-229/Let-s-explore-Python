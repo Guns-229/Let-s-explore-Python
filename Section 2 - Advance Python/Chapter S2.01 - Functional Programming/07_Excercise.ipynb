{
 "cells": [
  {
   "cell_type": "markdown",
   "metadata": {},
   "source": [
    "# Excercise - Functional Programming"
   ]
  },
  {
   "cell_type": "markdown",
   "metadata": {},
   "source": [
    "**Question:** Try rewriting the code below as a map. It takes a list of real names and replaces them with code names produced using a more robust strategy."
   ]
  },
  {
   "cell_type": "code",
   "execution_count": 2,
   "metadata": {},
   "outputs": [
    {
     "name": "stdout",
     "output_type": "stream",
     "text": [
      "[-1135171357809488405, -1790883959603457342, 3683177568567181174, 9139458138781451256, 1522009505412412537]\n"
     ]
    }
   ],
   "source": [
    "names = [\"Aalok\", \"Chandu\", \"Roshan\", \"Prashant\", \"Saurabh\"]\n",
    "\n",
    "for i in range(len(names)):\n",
    "    names[i] = hash(names[i])\n",
    "print(names)"
   ]
  },
  {
   "cell_type": "markdown",
   "metadata": {},
   "source": [
    "**Ans**: "
   ]
  },
  {
   "cell_type": "code",
   "execution_count": 4,
   "metadata": {},
   "outputs": [
    {
     "name": "stdout",
     "output_type": "stream",
     "text": [
      "<map object at 0x7f6e454c82e0>\n"
     ]
    }
   ],
   "source": [
    "secret_names = map(hash, names)\n",
    "print(secret_names)"
   ]
  },
  {
   "cell_type": "markdown",
   "metadata": {},
   "source": [
    "#### Question: Create a list by adding individual elements of two lists of integers. "
   ]
  },
  {
   "cell_type": "markdown",
   "metadata": {},
   "source": [
    "**Ans**: "
   ]
  },
  {
   "cell_type": "code",
   "execution_count": 9,
   "metadata": {},
   "outputs": [
    {
     "name": "stdout",
     "output_type": "stream",
     "text": [
      "[4, 7, 10, 10]\n"
     ]
    }
   ],
   "source": [
    "a = [1, 2, 3, 4]\n",
    "b = [3, 5, 7, 6]\n",
    "expected = [4, 7, 10, 10]\n",
    "\n",
    "\n",
    "\n",
    "\n",
    "d = list(map(lambda x: x[0] +x[1], zip(a,b)))\n",
    "print(d)"
   ]
  },
  {
   "cell_type": "code",
   "execution_count": 13,
   "metadata": {},
   "outputs": [
    {
     "name": "stdout",
     "output_type": "stream",
     "text": [
      "[4, 7, 10, 10]\n"
     ]
    }
   ],
   "source": [
    "from operator import add\n",
    "\n",
    "a = [1, 2, 3 ,4 ]\n",
    "b = [3, 5, 7, 6]\n",
    "\n",
    "d = list(map(add,a,b))\n",
    "print(d)"
   ]
  },
  {
   "cell_type": "markdown",
   "metadata": {},
   "source": [
    "#### Write functions to do the follows\n",
    "\n",
    "- `generate_matrix` which takes two arguments `m` and `n` and a `keyword` argument `default` which specifies the value for each position. It should use a nested list comprehension to generate a list of lists with the given dimensions. If default is provided, each position should have the given value, otherwise the matrix should be populated with zeroes.\n",
    "\n",
    "- `initcap` that replicates the functionality of the `string.title` method, except better. Given a `string`, it should split the string on `whitespace`, `capitalize` each element of the resulting `list` and `join` them back into a string. Your implementation should use a list comprehension.\n",
    "\n",
    "- `make_mapping` that takes two lists of equal length and returns a dictionary that maps the values in the first list to the values in the second. The function should also take an optional keyword argument called exclude, which expects a list. Values in the list passed as exclude should be omitted as keys in the resulting dictionary.\n",
    "\n",
    "- `compress_keys` that takes a dictionary with string keys and returns a new dictionary with the vowels removed from the keys. For instance, the dictionary `{\"foo\": 1, \"bar\": 2}` should be transformed into `{\"f\": 1, \"br\": 2}`. The function should use a list comprehension nested inside a dict comprehension.\n",
    "\n",
    "- `toUpper` that takes a list of names and returns a set of  with the case normalized to uppercase. For instance, the list `[\"mayank\", \"JohrI\", \"Tagore\", \"Arjun\"]` should be transformed into the set `{\"MAYANK\", \"JOHRI\", \"TAGORE\", \"ARJUN\"}`."
   ]
  }
 ],
 "metadata": {
  "kernelspec": {
   "display_name": "Python 3 (ipykernel)",
   "language": "python",
   "name": "python3"
  },
  "language_info": {
   "codemirror_mode": {
    "name": "ipython",
    "version": 3
   },
   "file_extension": ".py",
   "mimetype": "text/x-python",
   "name": "python",
   "nbconvert_exporter": "python",
   "pygments_lexer": "ipython3",
   "version": "3.11.0b1"
  }
 },
 "nbformat": 4,
 "nbformat_minor": 2
}
