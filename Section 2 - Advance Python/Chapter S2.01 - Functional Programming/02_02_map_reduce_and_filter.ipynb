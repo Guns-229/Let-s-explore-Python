{
 "cells": [
  {
   "cell_type": "markdown",
   "metadata": {},
   "source": [
    "## map, reduce and filter"
   ]
  },
  {
   "cell_type": "markdown",
   "metadata": {},
   "source": [
    "These are three functions which facilitate a functional approach to programming. `map`, `reduce` and `filter` are three higher-order functions that appear in all pure functional languages including Python. They are often are used in functional code to make it more elegant."
   ]
  },
  {
   "cell_type": "markdown",
   "metadata": {},
   "source": [
    "### Map"
   ]
  },
  {
   "cell_type": "markdown",
   "metadata": {},
   "source": [
    "It basically provides kind of parallelism by calling the requested function over all elements in a list/array or in other words, \n",
    "Map applies a function to all the items in the given list and returns a new list.\n",
    "\n",
    "It takes a function and a collection of items as parameters and makes a new, empty collection, runs the function on each item in the original collection and inserts each return value into the new collection. It then returns the updated collection.\n",
    "\n",
    "This is a simple map that takes a list of names and returns a list of the lengths of those names:"
   ]
  },
  {
   "cell_type": "code",
   "execution_count": 2,
   "metadata": {},
   "outputs": [
    {
     "name": "stdout",
     "output_type": "stream",
     "text": [
      "[12, 5, 5, 12]\n"
     ]
    }
   ],
   "source": [
    "names = [\"Manish Gupta\", \"Aalok\", \"Vivek\",\"Durga Prasad\"]\n",
    "lst = []\n",
    "\n",
    "for name in names:\n",
    "    lst.append(len(name))\n",
    "    \n",
    "print(lst)"
   ]
  },
  {
   "cell_type": "code",
   "execution_count": 13,
   "metadata": {},
   "outputs": [
    {
     "name": "stdout",
     "output_type": "stream",
     "text": [
      "<map object at 0x7f9485c9af50> [12, 5, 6, 12]\n"
     ]
    }
   ],
   "source": [
    "names =  (\"Manish Gupta\", \"Aalok\", \"Vibhor\",\"Durga Prasad\")\n",
    "\n",
    "lst = map(len, names)\n",
    "print(lst, list(lst))"
   ]
  },
  {
   "cell_type": "code",
   "execution_count": 17,
   "metadata": {},
   "outputs": [
    {
     "name": "stdout",
     "output_type": "stream",
     "text": [
      "12\n",
      "5\n",
      "6\n",
      "12\n"
     ]
    }
   ],
   "source": [
    "for data in map(len, names):\n",
    "    print(data)"
   ]
  },
  {
   "cell_type": "code",
   "execution_count": 19,
   "metadata": {},
   "outputs": [
    {
     "name": "stdout",
     "output_type": "stream",
     "text": [
      "MANISH GUPTA\n",
      "AALOK\n",
      "VIBHOR\n",
      "DURGA PRASAD\n"
     ]
    }
   ],
   "source": [
    "for data in map(str.upper, names):\n",
    "    print(data)"
   ]
  },
  {
   "cell_type": "code",
   "execution_count": null,
   "metadata": {},
   "outputs": [],
   "source": []
  },
  {
   "cell_type": "code",
   "execution_count": 22,
   "metadata": {},
   "outputs": [
    {
     "name": "stdout",
     "output_type": "stream",
     "text": [
      "<map object at 0x7f9485c9a7d0>\n"
     ]
    }
   ],
   "source": [
    "# This is a map that squares every number in the passed collection:\n",
    "power = map(lambda x: x * x,  lst)\n",
    "print(power)"
   ]
  },
  {
   "cell_type": "markdown",
   "metadata": {},
   "source": [
    "Lets perform the similar operations on large collection"
   ]
  },
  {
   "cell_type": "code",
   "execution_count": 31,
   "metadata": {},
   "outputs": [],
   "source": [
    "import random\n",
    "\n",
    "student_count = 999\n",
    "max_marks = 100\n",
    "min_marks = 0\n",
    "semester = 8\n",
    "marks = [[random.randint(min_marks, max_marks) for _ in range(semester)] for _ in range(student_count)]"
   ]
  },
  {
   "cell_type": "code",
   "execution_count": 32,
   "metadata": {},
   "outputs": [
    {
     "name": "stdout",
     "output_type": "stream",
     "text": [
      "[[49, 0, 95, 1, 23, 6, 83, 33], [93, 18, 84, 27, 74, 77, 68, 11], [94, 82, 84, 48, 96, 88, 74, 94]]\n"
     ]
    }
   ],
   "source": [
    "print(marks[:3])"
   ]
  },
  {
   "cell_type": "code",
   "execution_count": 34,
   "metadata": {},
   "outputs": [
    {
     "name": "stdout",
     "output_type": "stream",
     "text": [
      "535 µs ± 12.3 µs per loop (mean ± std. dev. of 7 runs, 1,000 loops each)\n"
     ]
    }
   ],
   "source": [
    "%%timeit\n",
    "\n",
    "results = []\n",
    "for a in marks:\n",
    "    results.append(sum(a[:6]) * 0.1 + sum(a[6:]))"
   ]
  },
  {
   "cell_type": "markdown",
   "metadata": {},
   "source": [
    "Lets use `map` to get the same result"
   ]
  },
  {
   "cell_type": "code",
   "execution_count": 38,
   "metadata": {},
   "outputs": [
    {
     "name": "stdout",
     "output_type": "stream",
     "text": [
      "634 µs ± 35.6 µs per loop (mean ± std. dev. of 7 runs, 1,000 loops each)\n"
     ]
    }
   ],
   "source": [
    "%%timeit\n",
    "results = tuple(map(lambda a: sum(a[:6]) * 0.1 + sum(a[6:]), marks))"
   ]
  },
  {
   "cell_type": "code",
   "execution_count": 40,
   "metadata": {},
   "outputs": [
    {
     "name": "stdout",
     "output_type": "stream",
     "text": [
      "227 ns ± 21.8 ns per loop (mean ± std. dev. of 7 runs, 1,000,000 loops each)\n"
     ]
    }
   ],
   "source": [
    "%%timeit\n",
    "results = map(lambda a: sum(a[:6]) * 0.1 + sum(a[6:]), marks)"
   ]
  },
  {
   "cell_type": "code",
   "execution_count": 41,
   "metadata": {},
   "outputs": [
    {
     "name": "stdout",
     "output_type": "stream",
     "text": [
      "651 µs ± 31.2 µs per loop (mean ± std. dev. of 7 runs, 1,000 loops each)\n"
     ]
    }
   ],
   "source": [
    "%%timeit\n",
    "\n",
    "lst = []\n",
    "for data in map(lambda a: sum(a[:6]) * 0.1 + sum(a[6:]), marks):\n",
    "    lst.append(data)"
   ]
  },
  {
   "cell_type": "code",
   "execution_count": 43,
   "metadata": {},
   "outputs": [
    {
     "name": "stdout",
     "output_type": "stream",
     "text": [
      "(133.4, 116.30000000000001, 217.2, 154.8, 76.5, 112.4, 97.7, 169.6, 147.4, 206.7)\n"
     ]
    }
   ],
   "source": [
    "results = tuple(map(lambda a: sum(a[:6]) * 0.1 + sum(a[6:]), marks))\n",
    "\n",
    "print(results[:10])"
   ]
  },
  {
   "cell_type": "code",
   "execution_count": 46,
   "metadata": {},
   "outputs": [],
   "source": [
    "user_details = {\n",
    "    1: {\n",
    "    \"name\": \"Mayank Johri\",\n",
    "    \"age\":44\n",
    "    },\n",
    "    2: {\n",
    "    \"name\": \"Rahul Saxena\",\n",
    "    \"age\":48\n",
    "    },\n",
    "    3: {\n",
    "    \"name\": \"Sachin\",\n",
    "    \"age\": 42\n",
    "    },\n",
    "    4: {\n",
    "    \"name\": \"Rajeev Chaturvedi\",\n",
    "    \"age\": 43\n",
    "    }\n",
    "}"
   ]
  },
  {
   "cell_type": "markdown",
   "metadata": {},
   "source": [
    "The objective is to find all users with age 44 or above."
   ]
  },
  {
   "cell_type": "code",
   "execution_count": 47,
   "metadata": {},
   "outputs": [],
   "source": [
    "def _isvalid(user):\n",
    "    flg = True if user['age'] >= 44 else False\n",
    "    return user['name'], flg"
   ]
  },
  {
   "cell_type": "code",
   "execution_count": 48,
   "metadata": {},
   "outputs": [
    {
     "name": "stdout",
     "output_type": "stream",
     "text": [
      "('Mayank Johri', True)\n",
      "('Rahul Saxena', True)\n",
      "('Sachin', False)\n",
      "('Rajeev Chaturvedi', False)\n"
     ]
    }
   ],
   "source": [
    "for user in user_details.values():\n",
    "    print(_isvalid(user))"
   ]
  },
  {
   "cell_type": "code",
   "execution_count": 49,
   "metadata": {},
   "outputs": [
    {
     "name": "stdout",
     "output_type": "stream",
     "text": [
      "(('Mayank Johri', True), ('Rahul Saxena', True), ('Sachin', False), ('Rajeev Chaturvedi', False))\n"
     ]
    }
   ],
   "source": [
    "valid_users = tuple(map(_isvalid, user_details.values()))\n",
    "print(valid_users)"
   ]
  },
  {
   "cell_type": "code",
   "execution_count": 15,
   "metadata": {},
   "outputs": [
    {
     "name": "stdout",
     "output_type": "stream",
     "text": [
      "{'Manish': 'The Big Boss', 'Aalok': 'Mr. Cool', 'Roshan Musheer': 'Mr. God', 'Mayank': 'Mr. Normal'}\n"
     ]
    }
   ],
   "source": [
    "import random\n",
    "\n",
    "names_dict = {}\n",
    "names = [\"Mayank\", \"Manish\", \"Aalok\", \"Roshan Musheer\"]\n",
    "code_names = ['Mr. Normal', 'Mr. God', 'Mr. Cool', 'The Big Boss']\n",
    "\n",
    "for i in range(len(names)):\n",
    "#     name = random.choice(code_names)\n",
    "    while name in names_dict.values():\n",
    "        name = random.choice(code_names)\n",
    "    names_dict[names[i]] = name \n",
    "        \n",
    "print(names_dict)"
   ]
  },
  {
   "cell_type": "markdown",
   "metadata": {},
   "source": [
    "This can be rewritten as a lamba:"
   ]
  },
  {
   "cell_type": "code",
   "execution_count": 8,
   "metadata": {},
   "outputs": [
    {
     "name": "stdout",
     "output_type": "stream",
     "text": [
      "{'Mayank': 'Mr. Cool', 'Roshan Musheer': 'Mr. Normal', 'Aalok': 'The Big Boss', 'Manish': 'Mr. God'}\n"
     ]
    }
   ],
   "source": [
    "import random\n",
    "\n",
    "names = [\"Mayank\", \"Manish\", \"Aalok\", \"Roshan Musheer\"]\n",
    "code_names = ['Mr. Normal', 'Mr. God', 'Mr. Cool', 'The Big Boss']\n",
    "random.shuffle(code_names)\n",
    "\n",
    "a_dict = lambda: {k: v for k, v in zip(names, code_names)}\n",
    "print(a_dict())"
   ]
  },
  {
   "cell_type": "code",
   "execution_count": 50,
   "metadata": {},
   "outputs": [],
   "source": [
    "# TODO -> Try the above one using map, if possible"
   ]
  },
  {
   "cell_type": "code",
   "execution_count": 56,
   "metadata": {},
   "outputs": [],
   "source": [
    "# WHY? \n",
    "# def dictMap(f, xs) :\n",
    "#     return dict((f(i), i) for i in xs)"
   ]
  },
  {
   "cell_type": "markdown",
   "metadata": {},
   "source": [
    "We can also have function which take more than one parameters"
   ]
  },
  {
   "cell_type": "code",
   "execution_count": 57,
   "metadata": {},
   "outputs": [
    {
     "name": "stdout",
     "output_type": "stream",
     "text": [
      "[1, 8, 81, 1024]\n"
     ]
    }
   ],
   "source": [
    "lst = [1, 2, 3, 4]\n",
    "lst2 = [2, 3, 4, 5]\n",
    "print(list(map(pow, lst, lst2)))"
   ]
  },
  {
   "cell_type": "code",
   "execution_count": 58,
   "metadata": {},
   "outputs": [
    {
     "name": "stdout",
     "output_type": "stream",
     "text": [
      "[97.7, 98.60000000000001, 99.5, 102.2]\n"
     ]
    }
   ],
   "source": [
    "def fahrenheit(T):\n",
    "    return ((float(9)/5)*T + 32)\n",
    "\n",
    "temp = (36.5, 37, 37.5, 39)\n",
    "\n",
    "F = map(fahrenheit, temp)\n",
    "print(list(F))"
   ]
  },
  {
   "cell_type": "markdown",
   "metadata": {},
   "source": [
    "### Reduce"
   ]
  },
  {
   "cell_type": "markdown",
   "metadata": {},
   "source": [
    "Reduce takes a function and a collection of items. It returns a value that is created by combining the items. This is a simple reduce. It returns a multiplication of all the items in the collection."
   ]
  },
  {
   "cell_type": "code",
   "execution_count": 10,
   "metadata": {},
   "outputs": [
    {
     "name": "stdout",
     "output_type": "stream",
     "text": [
      "120\n"
     ]
    }
   ],
   "source": [
    "# Original Code\n",
    "val = 1\n",
    "\n",
    "for item in range(1, 6):\n",
    "    val *=  item\n",
    "    \n",
    "print(val)"
   ]
  },
  {
   "cell_type": "code",
   "execution_count": 51,
   "metadata": {
    "scrolled": true
   },
   "outputs": [
    {
     "name": "stdout",
     "output_type": "stream",
     "text": [
      "120\n"
     ]
    }
   ],
   "source": [
    "# Converted Code\n",
    "\n",
    "from functools import reduce\n",
    "\n",
    "product = reduce(lambda total, num: total * num, range(1, 6))\n",
    "print(product) # (((1 * 2 )* 3 )* 4) * 5"
   ]
  },
  {
   "cell_type": "code",
   "execution_count": 53,
   "metadata": {},
   "outputs": [
    {
     "name": "stdout",
     "output_type": "stream",
     "text": [
      "25\n"
     ]
    }
   ],
   "source": [
    "# Adding the elements of the list\n",
    "# Adding some inital value to the logic, \n",
    "# In the below example, `10` is the initial value.\n",
    "\n",
    "print(reduce(lambda total, num: total + num, range(1, 6), 10)) \n",
    "#-> 10 + 1 + 2 + 3 + 4 + 5"
   ]
  },
  {
   "cell_type": "markdown",
   "metadata": {},
   "source": [
    "check the last argument of the above example, `10` is the initail value so the result is `25` instead of `15`."
   ]
  },
  {
   "cell_type": "markdown",
   "metadata": {},
   "source": [
    "In the above example, `num` is the current iterated item and `total` is the accumulator. \n",
    "It is the value returned by the execution of the lambda on the previous item. reduce() walks through the items. For each one, it runs the lambda on the current a and x and returns the result as the a of the next iteration.\n",
    "\n",
    "What is a in the first iteration? There is no previous iteration result for it to pass along. reduce() uses the first item in the collection for a in the first iteration and starts iterating at the second item. That is, the first x is the second item.\n",
    "\n",
    "This code counts how often the word 'the' appears in a list of strings:"
   ]
  },
  {
   "cell_type": "code",
   "execution_count": 55,
   "metadata": {},
   "outputs": [
    {
     "name": "stdout",
     "output_type": "stream",
     "text": [
      "6\n"
     ]
    }
   ],
   "source": [
    "sentences = ['Copy the variable assignment for our new empty list ',\n",
    "             'Copy the expression that we’ve been append-ing into this new list ',\n",
    "             'Copy the for loop line, excluding the final ',\n",
    "             'Copy the if statement line, also without the ']\n",
    "\n",
    "count = 0\n",
    "for sentence in sentences:\n",
    "    count += sentence.count('the')\n",
    "\n",
    "print(count)"
   ]
  },
  {
   "cell_type": "code",
   "execution_count": 56,
   "metadata": {
    "collapsed": true
   },
   "outputs": [
    {
     "name": "stdout",
     "output_type": "stream",
     "text": [
      "Copy the variable assignment for our new empty list  Copy the expression that we’ve been append-ing into this new list \n",
      "2 Copy the for loop line, excluding the final \n",
      "4 Copy the if statement line, also without the \n",
      "6\n"
     ]
    }
   ],
   "source": [
    "def add(a, b):\n",
    "    \"\"\"\n",
    "    In the first iteration, `a` is the first element, and `b` is the second element.\n",
    "    In next iteration, now we have value for `a` which is the returned value from the first iteration and \n",
    "    value of `b` is third element.  and so on for the reminaing iterations.\n",
    "    \"\"\"\n",
    "    print(a, b)\n",
    "    if isinstance(a, int):  # Second iteration onwards\n",
    "        result = a + b.count('the')\n",
    "    else:  # First iteration\n",
    "        result =  a.count('the') + b.count('the')\n",
    "    return result\n",
    "\n",
    "\n",
    "print(reduce(add, sentences))"
   ]
  },
  {
   "cell_type": "code",
   "execution_count": 57,
   "metadata": {},
   "outputs": [
    {
     "name": "stdout",
     "output_type": "stream",
     "text": [
      "0 Copy the variable assignment for our new empty list \n",
      "1 Copy the expression that we’ve been append-ing into this new list \n",
      "2 Copy the for loop line, excluding the final \n",
      "4 Copy the if statement line, also without the \n",
      "6\n"
     ]
    }
   ],
   "source": [
    "def add(a, b):\n",
    "    \"\"\"\n",
    "    By providing an initial value of `0`, I avoided all the logic of previous example.\n",
    "    \"\"\"\n",
    "    print(a, b)\n",
    "    result = a + b.count('the')\n",
    "    return result\n",
    "\n",
    "\n",
    "print(reduce(add, sentences, 0))"
   ]
  },
  {
   "cell_type": "markdown",
   "metadata": {},
   "source": [
    "#### Joining String using `reduce` "
   ]
  },
  {
   "cell_type": "markdown",
   "metadata": {},
   "source": [
    "- **Method 1**"
   ]
  },
  {
   "cell_type": "code",
   "execution_count": 58,
   "metadata": {},
   "outputs": [
    {
     "name": "stdout",
     "output_type": "stream",
     "text": [
      "pinkpurpleblackyellowpurpleindegowhitepeach\n"
     ]
    }
   ],
   "source": [
    "colors = [\"pink\", \"purple\", \"black\", \"yellow\", \"purple\", \"indego\", \"white\", \"peach\"]\n",
    "cols = \"\".join(colors)\n",
    "print(cols)"
   ]
  },
  {
   "cell_type": "code",
   "execution_count": 59,
   "metadata": {},
   "outputs": [
    {
     "name": "stdout",
     "output_type": "stream",
     "text": [
      "215 ns ± 16.8 ns per loop (mean ± std. dev. of 7 runs, 1,000,000 loops each)\n"
     ]
    }
   ],
   "source": [
    "%%timeit\n",
    "\n",
    "colors = [\"pink\", \"purple\", \"black\", \"yellow\", \"purple\", \"indego\", \"white\", \"peach\"]\n",
    "cols = \"\".join(colors)"
   ]
  },
  {
   "cell_type": "markdown",
   "metadata": {},
   "source": [
    "- **Method 2**"
   ]
  },
  {
   "cell_type": "code",
   "execution_count": 61,
   "metadata": {},
   "outputs": [
    {
     "data": {
      "text/plain": [
       "'pinkpurpleblackyellowpurpleindegowhitepeach'"
      ]
     },
     "execution_count": 61,
     "metadata": {},
     "output_type": "execute_result"
    }
   ],
   "source": [
    "import operator\n",
    "from functools import reduce\n",
    "\n",
    "colors = [\"pink\", \"purple\", \"black\", \"yellow\", \"purple\", \"indego\", \"white\", \"peach\"]\n",
    "reduce(operator.add, colors)"
   ]
  },
  {
   "cell_type": "code",
   "execution_count": 53,
   "metadata": {},
   "outputs": [
    {
     "name": "stdout",
     "output_type": "stream",
     "text": [
      "1.47 µs ± 65.5 ns per loop (mean ± std. dev. of 7 runs, 1000000 loops each)\n"
     ]
    }
   ],
   "source": [
    "%%timeit\n",
    "import operator\n",
    "from functools import reduce\n",
    "\n",
    "colors = [\"pink\", \"purple\", \"black\", \"yellow\", \"purple\", \"indego\", \"white\", \"peach\"]\n",
    "d = reduce(operator.add, colors)"
   ]
  },
  {
   "cell_type": "code",
   "execution_count": 62,
   "metadata": {},
   "outputs": [],
   "source": [
    "import operator\n",
    "from functools import reduce\n",
    "\n",
    "colors = [\"pink\", \"purple\", \"black\", \"yellow\", \"purple\", \"indego\", \"white\", \"peach\"]\n"
   ]
  },
  {
   "cell_type": "markdown",
   "metadata": {},
   "source": [
    "Lets take another example, We can also use `reduce` to "
   ]
  },
  {
   "cell_type": "code",
   "execution_count": 63,
   "metadata": {},
   "outputs": [
    {
     "name": "stdout",
     "output_type": "stream",
     "text": [
      "{'yellow': 1259, 'black': 1263, 'peach': 1244, 'white': 1249, 'indego': 1259, 'green': 1234, 'purple': 1203, 'pink': 1289}\n"
     ]
    }
   ],
   "source": [
    "# Logic without `reduce`\n",
    "import random\n",
    "\n",
    "colors = [\"pink\", \"purple\", \"black\", \"yellow\", \"green\", \"indego\", \"white\", \"peach\"]\n",
    "pre_val = {}\n",
    "\n",
    "for _ in range(10000):\n",
    "    colour = random.choice(colors)\n",
    "    if colour in pre_val:\n",
    "        pre_val[colour] += 1\n",
    "    else:\n",
    "        pre_val[colour] = 1\n",
    "        \n",
    "print(pre_val)"
   ]
  },
  {
   "cell_type": "code",
   "execution_count": 79,
   "metadata": {},
   "outputs": [
    {
     "name": "stdout",
     "output_type": "stream",
     "text": [
      "{'purple': 1295, 'black': 1294, 'indego': 1193, 'white': 1212, 'peach': 1230, 'pink': 1243, 'green': 1232, 'yellow': 1301}\n"
     ]
    }
   ],
   "source": [
    "import random\n",
    "\n",
    "colors = [\"pink\", \"purple\", \"black\", \"yellow\", \"green\", \"indego\", \"white\", \"peach\"]\n",
    "\n",
    "def random_finder(pre_val, _):\n",
    "    \"\"\"\n",
    "    Trying to find random.choice randomness. \n",
    "    \"\"\"\n",
    "    colour = random.choice(colors)\n",
    "    if colour in pre_val:\n",
    "        pre_val[colour] += 1\n",
    "    else:\n",
    "        pre_val[colour] = 1\n",
    "    return pre_val\n",
    "\n",
    "counts = reduce(random_finder, range(10000), {})\n",
    "print(counts)"
   ]
  },
  {
   "cell_type": "code",
   "execution_count": 52,
   "metadata": {},
   "outputs": [
    {
     "name": "stdout",
     "output_type": "stream",
     "text": [
      "[31.16943295000965, 2.3592574509966653, 2.3848689590085996]\n"
     ]
    }
   ],
   "source": [
    "vals = [[10.592503862004378, 10.381575625004189, 10.195353463001084],\n",
    "        [0.7834748989989748, 0.7892336399963824, 0.786548912001308],\n",
    "        [0.82304873400426, 0.7867131360035273, 0.7751070890008123]]\n",
    "\n",
    "def my_sum(val, a):\n",
    "    val.append(sum(a))\n",
    "    return val\n",
    "\n",
    "sum_val = reduce(my_sum, vals, [])\n",
    "print(sum_val)"
   ]
  },
  {
   "cell_type": "code",
   "execution_count": 119,
   "metadata": {
    "scrolled": true
   },
   "outputs": [
    {
     "name": "stdout",
     "output_type": "stream",
     "text": [
      "Help on built-in function reduce in module _functools:\n",
      "\n",
      "reduce(...)\n",
      "    reduce(function, sequence[, initial]) -> value\n",
      "    \n",
      "    Apply a function of two arguments cumulatively to the items of a sequence,\n",
      "    from left to right, so as to reduce the sequence to a single value.\n",
      "    For example, reduce(lambda x, y: x+y, [1, 2, 3, 4, 5]) calculates\n",
      "    ((((1+2)+3)+4)+5).  If initial is present, it is placed before the items\n",
      "    of the sequence in the calculation, and serves as a default when the\n",
      "    sequence is empty.\n",
      "\n"
     ]
    }
   ],
   "source": [
    "help(reduce)"
   ]
  },
  {
   "cell_type": "code",
   "execution_count": 122,
   "metadata": {},
   "outputs": [
    {
     "name": "stdout",
     "output_type": "stream",
     "text": [
      "val: [10.592503862004378, 10.381575625004189, 10.195353463001084],\n",
      " a: [0.7834748989989748, 0.7892336399963824, 0.786548912001308]\n",
      "val: [10.592503862004378, 10.381575625004189, 10.195353463001084, 2.3592574509966653],\n",
      " a: [0.82304873400426, 0.7867131360035273, 0.7751070890008123]\n",
      "[10.592503862004378, 10.381575625004189, 10.195353463001084, 2.3592574509966653, 2.3848689590085996]\n"
     ]
    }
   ],
   "source": [
    "vals = [[10.592503862004378, 10.381575625004189, 10.195353463001084],\n",
    "        [0.7834748989989748, 0.7892336399963824, 0.786548912001308],\n",
    "        [0.82304873400426, 0.7867131360035273, 0.7751070890008123]]\n",
    "\n",
    "def my_sum(val, a):\n",
    "    print(f\"val: {val},\\n a: {a}\")\n",
    "    val.append(sum(a))\n",
    "    return val\n",
    "\n",
    "sum_val = reduce(my_sum, vals)\n",
    "print(sum_val)"
   ]
  },
  {
   "cell_type": "markdown",
   "metadata": {},
   "source": [
    "**NOTE:**\n",
    "\n",
    "How does this code come up with its initial a? The starting point for the number of incidences of 'Sam' cannot be 'Mary read a story to Sam and Isla.' The initial accumulator is specified with the third argument to reduce(). This allows the use of a value of a different type from the items in the collection."
   ]
  },
  {
   "cell_type": "code",
   "execution_count": 101,
   "metadata": {},
   "outputs": [
    {
     "ename": "SyntaxError",
     "evalue": "Generator expression must be parenthesized (<ipython-input-101-5e33fbad83da>, line 4)",
     "output_type": "error",
     "traceback": [
      "\u001b[0;36m  File \u001b[0;32m\"<ipython-input-101-5e33fbad83da>\"\u001b[0;36m, line \u001b[0;32m4\u001b[0m\n\u001b[0;31m    return array('B', map(ord, chr(ord(a) ^ b) for a, b in zip(s, t))).tostring()\u001b[0m\n\u001b[0m                              ^\u001b[0m\n\u001b[0;31mSyntaxError\u001b[0m\u001b[0;31m:\u001b[0m Generator expression must be parenthesized\n"
     ]
    }
   ],
   "source": [
    "import os\n",
    "\n",
    "def xor(txt, key):\n",
    "    return array('B', map(ord, chr(ord(a) ^ b) for a, b in zip(s, t))).tostring()\n",
    "with open(os.path.join('code', 'data', \"pg7864.txt\")) as fp:\n",
    "    txt = fp.read()\n",
    "    "
   ]
  },
  {
   "cell_type": "code",
   "execution_count": 35,
   "metadata": {},
   "outputs": [
    {
     "name": "stdout",
     "output_type": "stream",
     "text": [
      "array('B', [102, 114, 111, 109, 32, 97, 114, 114, 97, 121, 32, 105, 109, 112, 111, 114, 116, 32, 97, 114, 114, 97, 121, 59, 97, 32, 61, 32, 116, 117, 112, 108, 101, 40, 39, 97, 108, 108, 32, 116, 104, 101, 32, 119, 111, 114, 108, 100, 32, 105, 115, 32, 97, 32, 115, 116, 97, 103, 101, 32, 97, 110, 100, 32, 97, 108, 108, 32, 116, 104, 101, 32, 109, 101, 110, 32, 97, 110, 100, 32, 119, 111, 109, 101, 110, 32, 109, 101, 114, 101, 108, 121, 32, 112, 108, 97, 121, 101, 114, 115, 39, 41])\n"
     ]
    }
   ],
   "source": [
    "import array\n",
    "a1 = array.array('B', map(ord,\"from array import array;a = tuple('all the world is a stage and all the men and women merely players')\"))\n",
    "print(a1)"
   ]
  },
  {
   "cell_type": "code",
   "execution_count": 34,
   "metadata": {},
   "outputs": [
    {
     "name": "stdout",
     "output_type": "stream",
     "text": [
      "[102, 114, 111, 109, 32, 97, 114, 114, 97, 121, 32, 105, 109, 112, 111, 114, 116, 32, 97, 114, 114, 97, 121, 59, 97, 32, 61, 32, 116, 117, 112, 108, 101, 40, 39, 97, 108, 108, 32, 116, 104, 101, 32, 119, 111, 114, 108, 100, 32, 105, 115, 32, 97, 32, 115, 116, 97, 103, 101, 32, 97, 110, 100, 32, 97, 108, 108, 32, 116, 104, 101, 32, 109, 101, 110, 32, 97, 110, 100, 32, 119, 111, 109, 101, 110, 32, 109, 101, 114, 101, 108, 121, 32, 112, 108, 97, 121, 101, 114, 115, 39, 41]\n"
     ]
    }
   ],
   "source": [
    "# %%timeit\n",
    "s = \"from array import array;a = tuple('all the world is a stage and all the men and women merely players')\"\n",
    "d = [ord(a) for a in s]\n",
    "print(d)"
   ]
  },
  {
   "cell_type": "code",
   "execution_count": 6,
   "metadata": {},
   "outputs": [
    {
     "name": "stdout",
     "output_type": "stream",
     "text": [
      "[10.592503862004378, 10.381575625004189, 10.195353463001084]\n",
      "[0.7834748989989748, 0.7892336399963824, 0.786548912001308]\n",
      "[0.82304873400426, 0.7867131360035273, 0.7751070890008123]\n"
     ]
    }
   ],
   "source": [
    "import timeit\n",
    " \n",
    "print(timeit.repeat(\"array('B', map(ord, a)).tostring()\",setup=\"from array import array;a = tuple('all the world is a stage and all the men and women merely players')\"))\n",
    "print(timeit.repeat(\"''.join(a)\",setup=\"from array import array;a = list('all the world is a stage and all the men and women merely players')\"))\n",
    "print(timeit.repeat(\"''.join(a)\",setup=\"from array import array;a = tuple('all the world is a stage and all the men and women merely players')\"))"
   ]
  },
  {
   "cell_type": "markdown",
   "metadata": {},
   "source": [
    "#### Benefits `map` and `reduce `"
   ]
  },
  {
   "cell_type": "markdown",
   "metadata": {},
   "source": [
    "\n",
    "* they are often one-liners.\n",
    "* the important parts of the iteration - the collection, the operation and the return value - are always in the same places in every map and reduce.\n",
    "* the code in a loop may affect variables defined before it or code that runs after it. By convention, maps and reduces are functional.\n",
    "* map and reduce are elemental operations. Every time a person reads a for loop, they have to work through the logic line by line. There are few structural regularities they can use to create a scaffolding on which to hang their understanding of the code. In contrast, map and reduce are at once building blocks that can be combined into complex algorithms, and elements that the code reader can instantly understand and abstract in their mind. “Ah, this code is transforming each item in this collection. It’s throwing some of the transformations away. It’s combining the remainder into a single output.”\n",
    "* `map` and `reduce` have many friends that provide useful, tweaked versions of their basic behaviour. For example: `filter`, `all`, `any` and `find`."
   ]
  },
  {
   "cell_type": "markdown",
   "metadata": {},
   "source": [
    "### Filtering\n",
    "\n",
    "The function `filter(function, list)` offers an elegant way to filter out all the elements of a list, for which the function returns True.\n",
    "\n",
    "The function `filter(f,l`) needs a function `f` as its first argument. `f` returns a Boolean value, i.e. either True or False. This function will be applied to every element of the list `l`. Only if f returns True will the element of the list be included in the result list. "
   ]
  },
  {
   "cell_type": "code",
   "execution_count": 85,
   "metadata": {},
   "outputs": [
    {
     "name": "stdout",
     "output_type": "stream",
     "text": [
      "988 ns ± 51.6 ns per loop (mean ± std. dev. of 7 runs, 1000000 loops each)\n"
     ]
    }
   ],
   "source": [
    "%%timeit\n",
    "# Original Code\n",
    "fib = [0, 1, 1, 2, 3, 5, 8, 13, 21, 34, 55]\n",
    "\n",
    "result = []\n",
    "for element in fib:\n",
    "    if element % 2 != 0:  # That means its an odd number\n",
    "        result.append(element)\n",
    "# print(result)"
   ]
  },
  {
   "cell_type": "code",
   "execution_count": 64,
   "metadata": {},
   "outputs": [
    {
     "name": "stdout",
     "output_type": "stream",
     "text": [
      "(1, 1, 3, 5, 13, 21, 55)\n"
     ]
    }
   ],
   "source": [
    "# %%timeit\n",
    "# Using Filter\n",
    "\n",
    "fib = [0, 1, 1, 2, 3, 5, 8, 13, 21, 34, 55]\n",
    "\n",
    "# Odd Elements\n",
    "# if the lambda return `False` that value is dropped \n",
    "# and if it returns `True` than its value is added to the \n",
    "# new collection\n",
    "\n",
    "result = tuple(filter(lambda x: x % 2 != 0, fib))\n",
    "print(result)"
   ]
  },
  {
   "cell_type": "code",
   "execution_count": 66,
   "metadata": {},
   "outputs": [
    {
     "name": "stdout",
     "output_type": "stream",
     "text": [
      "[0, 2, 8, 34]\n"
     ]
    }
   ],
   "source": [
    "# Even Elements\n",
    "result = list(filter(lambda x: x % 2 == 0, fib))\n",
    "print(list(result))"
   ]
  },
  {
   "cell_type": "code",
   "execution_count": 68,
   "metadata": {},
   "outputs": [],
   "source": [
    "apis = [\n",
    "    {'name': 'UpdateUser', 'type': 'POST', \"body\": \"{'name': '$name'}\"},\n",
    "    {'name': 'addUser', 'type': 'POST', \"body\": \"{name : '$name'}\"},\n",
    "    {'name': 'listUsers', 'type': 'GET'}\n",
    "]"
   ]
  },
  {
   "cell_type": "code",
   "execution_count": 70,
   "metadata": {},
   "outputs": [
    {
     "name": "stdout",
     "output_type": "stream",
     "text": [
      "2\n"
     ]
    }
   ],
   "source": [
    "posts = 0\n",
    "for api in apis:\n",
    "    if 'type' in api and api['type'] == 'POST':\n",
    "        posts += 1\n",
    "\n",
    "print(posts)"
   ]
  },
  {
   "cell_type": "code",
   "execution_count": 71,
   "metadata": {},
   "outputs": [
    {
     "name": "stdout",
     "output_type": "stream",
     "text": [
      "2\n"
     ]
    }
   ],
   "source": [
    "posts = 0\n",
    "for api in apis:\n",
    "    if api.get('type', \"\") == 'POST':\n",
    "        posts += 1\n",
    "\n",
    "print(posts)"
   ]
  },
  {
   "cell_type": "code",
   "execution_count": 73,
   "metadata": {},
   "outputs": [
    {
     "name": "stdout",
     "output_type": "stream",
     "text": [
      "<filter object at 0x7f94843bc490>\n",
      "({'name': 'UpdateUser', 'type': 'POST', 'body': \"{'name': '$name'}\"}, {'name': 'addUser', 'type': 'POST', 'body': \"{name : '$name'}\"})\n",
      "<filter object at 0x7f94843bc490>\n",
      "[]\n"
     ]
    }
   ],
   "source": [
    "# !! Gotcha !!\n",
    "# It will not return the count but all the elements which have `type` = `POST`\n",
    "posts = 0\n",
    "c = []\n",
    "\n",
    "c = filter(lambda x:'type' in x and x['type'] == 'POST', apis)\n",
    "print(c)\n",
    "print(tuple(c))\n",
    "\n",
    "# Once consumed, they will not return it again. \n",
    "print(c)\n",
    "print(list(c))"
   ]
  },
  {
   "cell_type": "code",
   "execution_count": 74,
   "metadata": {},
   "outputs": [
    {
     "name": "stdout",
     "output_type": "stream",
     "text": [
      "({'name': 'UpdateUser', 'type': 'POST', 'body': \"{'name': '$name'}\"}, {'name': 'addUser', 'type': 'POST', 'body': \"{name : '$name'}\"})\n",
      "2\n"
     ]
    }
   ],
   "source": [
    "posts = 0\n",
    "c = []\n",
    "\n",
    "c = filter(lambda x:'type' in x and x['type'] == 'POST', apis)\n",
    "posts = tuple(c)\n",
    "\n",
    "print(posts)\n",
    "print(len(posts))"
   ]
  },
  {
   "cell_type": "code",
   "execution_count": 76,
   "metadata": {},
   "outputs": [
    {
     "name": "stdout",
     "output_type": "stream",
     "text": [
      "({'name': 'UpdateUser', 'type': 'POST', 'body': \"{'name': '$name'}\"}, {'name': 'addUser', 'type': 'POST', 'body': \"{name : '$name'}\"})\n",
      "2\n"
     ]
    }
   ],
   "source": [
    "posts = 0\n",
    "c = []\n",
    "\n",
    "c = filter(lambda x: x.get('type', \"\") == 'POST', apis)\n",
    "posts = tuple(c)\n",
    "\n",
    "print(posts)\n",
    "print(len(posts))"
   ]
  },
  {
   "cell_type": "code",
   "execution_count": 77,
   "metadata": {
    "scrolled": true
   },
   "outputs": [
    {
     "name": "stdout",
     "output_type": "stream",
     "text": [
      "(160, 80)\n",
      "average_height: 120.0\n"
     ]
    }
   ],
   "source": [
    "# The Case is that we  need value of heights from the collection which have \n",
    "# provided its value. \n",
    "\n",
    "people = [{'name': 'Mary', 'height': 160},\n",
    "          {'name': 'Isla', 'height': 80},\n",
    "          {'name': 'Sam'}]\n",
    "\n",
    "# Using filter we removed all the elements which do not have `height` \n",
    "# and then used `map` to provide its value.\n",
    "\n",
    "heights = tuple(map(lambda x: x['height'],\n",
    "              filter(lambda x: 'height' in x, people)))\n",
    "print(heights)\n",
    "\n",
    "# Now lets find the average height of the collection.\n",
    "if len(heights) > 0:\n",
    "    from operator import add\n",
    "    average_height = reduce(add, heights) / len(heights)\n",
    "    print(f'average_height: {average_height}')"
   ]
  }
 ],
 "metadata": {
  "kernelspec": {
   "display_name": "Python 3 (ipykernel)",
   "language": "python",
   "name": "python3"
  },
  "language_info": {
   "codemirror_mode": {
    "name": "ipython",
    "version": 3
   },
   "file_extension": ".py",
   "mimetype": "text/x-python",
   "name": "python",
   "nbconvert_exporter": "python",
   "pygments_lexer": "ipython3",
   "version": "3.11.0b1"
  }
 },
 "nbformat": 4,
 "nbformat_minor": 2
}
