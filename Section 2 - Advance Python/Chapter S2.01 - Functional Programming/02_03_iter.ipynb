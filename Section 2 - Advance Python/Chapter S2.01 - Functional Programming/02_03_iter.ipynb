{
 "cells": [
  {
   "cell_type": "markdown",
   "metadata": {},
   "source": [
    "## Python Iterators"
   ]
  },
  {
   "cell_type": "markdown",
   "metadata": {},
   "source": [
    "As the common sense suggests, `Iterators` are `objects` which can be iterated upon such as `list`, `dictionary`, `string` etc. In `Python` they are literally everywhere. \n",
    "\n",
    "They are `objects` which when iterated retuns one element at a time. We have already seen most of the inbuilt iterators, such as list, tuple, dictionary, string, etc. In this chapter we are going to create our own custom iterators."
   ]
  },
  {
   "cell_type": "markdown",
   "metadata": {},
   "source": [
    "There are few ways in which we can create a custom iterators."
   ]
  },
  {
   "cell_type": "markdown",
   "metadata": {},
   "source": [
    "### Class Methods"
   ]
  },
  {
   "cell_type": "markdown",
   "metadata": {},
   "source": [
    "To create custom iterator class, it must implement two special methods, `__iter__()` and `__next__()` and are called `iterator protocol`"
   ]
  },
  {
   "cell_type": "code",
   "execution_count": 6,
   "metadata": {},
   "outputs": [
    {
     "name": "stdout",
     "output_type": "stream",
     "text": [
      "['_MyIter__len', '_MyIter__lst', '_MyIter__next_index', '__class__', '__delattr__', '__dict__', '__dir__', '__doc__', '__eq__', '__format__', '__ge__', '__getattribute__', '__gt__', '__hash__', '__init__', '__init_subclass__', '__iter__', '__le__', '__lt__', '__module__', '__ne__', '__new__', '__next__', '__reduce__', '__reduce_ex__', '__repr__', '__setattr__', '__sizeof__', '__str__', '__subclasshook__', '__weakref__']\n"
     ]
    }
   ],
   "source": [
    "class MyIter(object):\n",
    "    def __init__(self, lst):\n",
    "        self.__lst = lst\n",
    "        self.__len = len(lst)\n",
    "        self.__next_index = 0\n",
    "    \n",
    "    def __iter__(self):\n",
    "        return self\n",
    "    \n",
    "    def __next__(self):\n",
    "        if self.__next_index < self.__len:\n",
    "            # getting the element to return\n",
    "            nxt = self.__lst[self.__next_index]  \n",
    "            # Incrementing the next_index\n",
    "            self.__next_index +=1  \n",
    "            return nxt\n",
    "        else:\n",
    "            raise StopIteration\n",
    "\n",
    "m = MyIter([1, 2, 3, 4, 5, 6])\n",
    "print(dir(m))"
   ]
  },
  {
   "cell_type": "code",
   "execution_count": 7,
   "metadata": {},
   "outputs": [
    {
     "name": "stdout",
     "output_type": "stream",
     "text": [
      "1\n",
      "2\n",
      "3\n",
      "4\n",
      "5\n",
      "6\n"
     ]
    }
   ],
   "source": [
    "\n",
    "for a in m:\n",
    "    print(a)"
   ]
  },
  {
   "cell_type": "code",
   "execution_count": 8,
   "metadata": {},
   "outputs": [],
   "source": [
    "# The previous imlementation was created in such a way \n",
    "# That we cannot itterate over again\n",
    "\n",
    "for a in m:\n",
    "    print(a)"
   ]
  },
  {
   "cell_type": "code",
   "execution_count": 14,
   "metadata": {},
   "outputs": [
    {
     "name": "stdout",
     "output_type": "stream",
     "text": [
      "1, 2, 3, 4, 5, 6, ~~~~~~\n",
      "1, 2, ~~~\n",
      "4, 5, 6, "
     ]
    }
   ],
   "source": [
    "# updated version of it. \n",
    "class MyIter(object):\n",
    "    def __init__(self, lst):\n",
    "        self.__lst = lst\n",
    "        self.__next_index = 0\n",
    "    \n",
    "    def __iter__(self):\n",
    "        return self\n",
    "    \n",
    "    def __next__(self):\n",
    "        if self.__next_index < len(self.__lst):\n",
    "            nxt = self.__lst[self.__next_index]\n",
    "            self.__next_index +=1\n",
    "            return nxt\n",
    "        else:\n",
    "            # resetting the next_index to 0.\n",
    "            # so that we can re-itterate the collection\n",
    "            self.__next_index = 0\n",
    "            raise StopIteration\n",
    "\n",
    "m = MyIter([1, 2, 3, 4, 5, 6])\n",
    "\n",
    "\n",
    "for a in m:\n",
    "    print(a, end=\", \")\n",
    "\n",
    "print(\"~\"*a)\n",
    "\n",
    "for a in m:\n",
    "    if a == 3:\n",
    "        break\n",
    "    print(a,  end=\", \")\n",
    "\n",
    "# TODO, fix the __next_index \n",
    "print(\"~\"*a)\n",
    "for a in m:\n",
    "    print(a, end=\", \")"
   ]
  },
  {
   "cell_type": "markdown",
   "metadata": {},
   "source": [
    "### Callables"
   ]
  },
  {
   "cell_type": "code",
   "execution_count": 58,
   "metadata": {},
   "outputs": [
    {
     "name": "stdout",
     "output_type": "stream",
     "text": [
      "Welcome\n"
     ]
    }
   ],
   "source": [
    "def test():\n",
    "    print(\"Welcome\")\n",
    "    \n",
    "test()"
   ]
  },
  {
   "cell_type": "code",
   "execution_count": null,
   "metadata": {},
   "outputs": [],
   "source": [
    "# `callable` will return true if argument is callable as shown in the below example"
   ]
  },
  {
   "cell_type": "code",
   "execution_count": 59,
   "metadata": {},
   "outputs": [
    {
     "data": {
      "text/plain": [
       "True"
      ]
     },
     "execution_count": 59,
     "metadata": {},
     "output_type": "execute_result"
    }
   ],
   "source": [
    "callable(test)"
   ]
  },
  {
   "cell_type": "code",
   "execution_count": 66,
   "metadata": {},
   "outputs": [
    {
     "name": "stdout",
     "output_type": "stream",
     "text": [
      "Is the class callable: True\n",
      "Is the class object is callable: False\n"
     ]
    }
   ],
   "source": [
    "class MyIter(object):\n",
    "    def __init__(self, lst):\n",
    "        self.__lst = lst\n",
    "        self.__i = 0\n",
    "    \n",
    "    def __iter__(self):\n",
    "        return self\n",
    "    \n",
    "    def __next__(self):\n",
    "        if self.__i < len(self.__lst):\n",
    "            nxt = self.__lst[self.__i]\n",
    "            self.__i +=1\n",
    "            return nxt\n",
    "        else:\n",
    "            raise StopIteration\n",
    "\n",
    "mtr = MyIter([1,2,3])\n",
    "print(\"Is the class callable:\", callable(MyIter))\n",
    "print(\"Is the class object is callable:\", callable(mtr))"
   ]
  },
  {
   "cell_type": "code",
   "execution_count": 15,
   "metadata": {},
   "outputs": [
    {
     "name": "stdout",
     "output_type": "stream",
     "text": [
      "Is the class callable: True\n",
      "Is the class object is callable: False\n"
     ]
    }
   ],
   "source": [
    "class MySampleClass(object):\n",
    "    def __init__(self, lst):\n",
    "        self.__lst = lst\n",
    "        self.__i = 0\n",
    "\n",
    "p = MySampleClass([101])\n",
    "print(\"Is the class callable:\", callable(MySampleClass))\n",
    "print(\"Is the class object is callable:\", callable(p))"
   ]
  },
  {
   "cell_type": "code",
   "execution_count": 16,
   "metadata": {},
   "outputs": [
    {
     "name": "stdout",
     "output_type": "stream",
     "text": [
      "'MySampleClass' object is not callable\n"
     ]
    }
   ],
   "source": [
    "try:\n",
    "    p()\n",
    "except Exception as e:\n",
    "    print(e)"
   ]
  },
  {
   "cell_type": "code",
   "execution_count": 80,
   "metadata": {},
   "outputs": [
    {
     "name": "stdout",
     "output_type": "stream",
     "text": [
      "Is the class callable: True\n",
      "Is the class object is callable: True\n"
     ]
    }
   ],
   "source": [
    "class MySampleClass(object):\n",
    "    def __init__(self, lst):\n",
    "        self.__lst = lst\n",
    "        self.__i = 0\n",
    "\n",
    "    def __call__(self):\n",
    "        print(self.__i, self.__lst)\n",
    "    \n",
    "    def get_lst(self):\n",
    "        return self.__lst\n",
    "\n",
    "p = MySampleClass([101])\n",
    "print(\"Is the class callable:\", callable(MySampleClass))\n",
    "print(\"Is the class object is callable:\", callable(p))"
   ]
  },
  {
   "cell_type": "code",
   "execution_count": 76,
   "metadata": {},
   "outputs": [
    {
     "name": "stdout",
     "output_type": "stream",
     "text": [
      "0 [101]\n"
     ]
    }
   ],
   "source": [
    "p()"
   ]
  },
  {
   "cell_type": "code",
   "execution_count": 82,
   "metadata": {},
   "outputs": [
    {
     "data": {
      "text/plain": [
       "[101]"
      ]
     },
     "execution_count": 82,
     "metadata": {},
     "output_type": "execute_result"
    }
   ],
   "source": [
    "p.get_lst()"
   ]
  },
  {
   "cell_type": "markdown",
   "metadata": {},
   "source": [
    "#### uses of callable objects\n",
    "$$TODO$$\n"
   ]
  },
  {
   "cell_type": "markdown",
   "metadata": {},
   "source": [
    "### `iter()`"
   ]
  },
  {
   "cell_type": "markdown",
   "metadata": {},
   "source": [
    "The `iter()` method returns an `iterator` for the given object (ususally an `iterable`)."
   ]
  },
  {
   "cell_type": "markdown",
   "metadata": {},
   "source": [
    "**Syntax**:\n",
    "\n",
    "```python\n",
    "iter(object[, sentinel])\n",
    "```\n",
    "\n",
    "Where `object` is an object based on which the iterator needs to be constructed. The behavior of iterator is dependent on the value of `sentinel`, if `sentinel` is not provided then `object` should be an interator and the construct will behave as such, where as if `sentinel` is provided then `object` should be callable, and value returned will be treated as `next` call. Iteration ends when the value retuned equals to value in `sentinel`"
   ]
  },
  {
   "cell_type": "code",
   "execution_count": 45,
   "metadata": {},
   "outputs": [
    {
     "name": "stdout",
     "output_type": "stream",
     "text": [
      "W*e*l*c*o*m*e* *t*o* *t*h*e* *c*i*t*y* *o*f* *L*a*k*e*s*,* *B*h*o*p*a*l*\n",
      "W*e*l*c*o*m*e* *t*o* *t*h*e* *c*i*t*y* *o*f* *L*a*k*e*s*,* *B*h*o*p*a*l*"
     ]
    }
   ],
   "source": [
    "# Lets work on iterable\n",
    "welcome = \"Welcome to the city of Lakes, Bhopal\"\n",
    "\n",
    "for a in welcome:\n",
    "    print(a, end=\"*\")\n",
    "print()\n",
    "for a in welcome:\n",
    "    print(a, end=\"*\")"
   ]
  },
  {
   "cell_type": "code",
   "execution_count": 20,
   "metadata": {},
   "outputs": [],
   "source": [
    "class MyDummy(object):\n",
    "    def __init__(self):\n",
    "        self.lst = [1, 2, 3, 4, 5, 6]\n",
    "        self.i = 0\n",
    "        \n",
    "    def __call__(self):\n",
    "        ret = self.lst[self.i]\n",
    "        self.i += 1\n",
    "        return ret"
   ]
  },
  {
   "cell_type": "code",
   "execution_count": 21,
   "metadata": {},
   "outputs": [
    {
     "name": "stdout",
     "output_type": "stream",
     "text": [
      "1 2 "
     ]
    }
   ],
   "source": [
    "d = MyDummy()\n",
    "\n",
    "for a in iter(d, 3):\n",
    "    print(a, end=\" \")"
   ]
  },
  {
   "cell_type": "code",
   "execution_count": 86,
   "metadata": {},
   "outputs": [
    {
     "name": "stdout",
     "output_type": "stream",
     "text": [
      "1 2 3 4 5 6 list index out of range\n"
     ]
    }
   ],
   "source": [
    "# if sentinel is more than the elements present \n",
    "\n",
    "d = MyDummy()\n",
    "try:\n",
    "    for a in iter(d, 10):\n",
    "        print(a, end=\" \")\n",
    "except Exception as e:\n",
    "    print(e)"
   ]
  },
  {
   "cell_type": "code",
   "execution_count": 88,
   "metadata": {},
   "outputs": [
    {
     "name": "stdout",
     "output_type": "stream",
     "text": [
      "'MyDummy' object is not iterable\n"
     ]
    }
   ],
   "source": [
    "# without sentinel value\n",
    "\n",
    "d = MyDummy()\n",
    "try:\n",
    "    for a in iter(d):\n",
    "        print(a, end=\" \")\n",
    "except Exception as e:\n",
    "    print(e)"
   ]
  },
  {
   "cell_type": "code",
   "execution_count": 89,
   "metadata": {},
   "outputs": [],
   "source": [
    "class MyDummy_v2(object):\n",
    "    def __init__(self):\n",
    "        self.lst = [1, 2, 3, 4, 5, 6]\n",
    "        self.i = 0\n",
    "        \n",
    "    def __call__(self):\n",
    "        if self.i >=len(self.lst):\n",
    "            raise StopIteration\n",
    "        ret = self.lst[self.i]\n",
    "        self.i += 1\n",
    "        return ret"
   ]
  },
  {
   "cell_type": "code",
   "execution_count": 93,
   "metadata": {},
   "outputs": [
    {
     "name": "stdout",
     "output_type": "stream",
     "text": [
      "1 2 3 4 5 6 "
     ]
    }
   ],
   "source": [
    "# if sentinel is more than the elements present \n",
    "# The error has been resolved as we have used\n",
    "# StopIteration exception\n",
    "\n",
    "d = MyDummy_v2()\n",
    "try:\n",
    "    for a in iter(d, 10):\n",
    "        print(a, end=\" \")\n",
    "except Exception as e:\n",
    "    print(e)"
   ]
  },
  {
   "cell_type": "code",
   "execution_count": 49,
   "metadata": {},
   "outputs": [
    {
     "name": "stdout",
     "output_type": "stream",
     "text": [
      "1 2 3 4 5 6 "
     ]
    }
   ],
   "source": [
    "m = MyIter([1, 2, 3, 4, 5, 6])\n",
    "for a in iter(m):\n",
    "    print(a, end=\" \")"
   ]
  },
  {
   "cell_type": "markdown",
   "metadata": {},
   "source": [
    "lets try another example, this time lets take a string"
   ]
  },
  {
   "cell_type": "code",
   "execution_count": 95,
   "metadata": {},
   "outputs": [
    {
     "name": "stdout",
     "output_type": "stream",
     "text": [
      "W^e^l^c^o^m^e^ ^t^o^ ^t^h^e^ ^c^i^t^y^ ^o^f^ ^L^a^k^e^s^,^ ^B^h^o^p^a^l^\n",
      "Nothing will print now :), as iterator can only traverse once.\n"
     ]
    }
   ],
   "source": [
    "welcome = \"Welcome to the city of Lakes, Bhopal\"\n",
    "\n",
    "# lets make an iterator out of it. \n",
    "wel_iter = iter(welcome)\n",
    "for a in wel_iter:\n",
    "    print(a, end=\"^\")\n",
    "\n",
    "print(\"\\nNothing will print now :), as iterator can only traverse once.\")\n",
    "\n",
    "for a in wel_iter:\n",
    "    print(a, end=\"^\")"
   ]
  },
  {
   "cell_type": "markdown",
   "metadata": {},
   "source": [
    "### Infinite Iterators"
   ]
  },
  {
   "cell_type": "markdown",
   "metadata": {},
   "source": [
    "We can also create a infinite iterators, but needed to be used with care."
   ]
  },
  {
   "cell_type": "code",
   "execution_count": 25,
   "metadata": {},
   "outputs": [
    {
     "name": "stdout",
     "output_type": "stream",
     "text": [
      "1, 1, 2, 3, 5, 8, 13, 21, 34, 55, 89, 144, 233, 377, 610, 987, 1597, 2584, 4181, 6765, 10946, 17711, 28657, 46368, 75025, 121393, 196418, 317811, 514229, 832040, 1346269, \n",
      "\n",
      "It should continue were we stopped previously.\n"
     ]
    }
   ],
   "source": [
    "class Fibs(object):\n",
    "    def __init__(self):\n",
    "        self.__num, self.__next = 0, 1\n",
    "    \n",
    "    def __iter__(self):\n",
    "        return self\n",
    "    \n",
    "    def __next__(self):\n",
    "        self.__num, self.__next = self.__next, self.__num + self.__next\n",
    "        return self.__num\n",
    "\n",
    "fb = Fibs()\n",
    "for a in fb:\n",
    "    print(a, end=\", \")\n",
    "    if a > 999999:\n",
    "        break\n",
    "print(\"\\n\\nIt should continue were we stopped previously.\")"
   ]
  },
  {
   "cell_type": "code",
   "execution_count": null,
   "metadata": {},
   "outputs": [],
   "source": []
  },
  {
   "cell_type": "markdown",
   "metadata": {},
   "source": [
    "### Use Cases for iterators\n",
    "$$TODO$$"
   ]
  }
 ],
 "metadata": {
  "kernelspec": {
   "display_name": "Python 3 (ipykernel)",
   "language": "python",
   "name": "python3"
  },
  "language_info": {
   "codemirror_mode": {
    "name": "ipython",
    "version": 3
   },
   "file_extension": ".py",
   "mimetype": "text/x-python",
   "name": "python",
   "nbconvert_exporter": "python",
   "pygments_lexer": "ipython3",
   "version": "3.11.0b1"
  }
 },
 "nbformat": 4,
 "nbformat_minor": 2
}
