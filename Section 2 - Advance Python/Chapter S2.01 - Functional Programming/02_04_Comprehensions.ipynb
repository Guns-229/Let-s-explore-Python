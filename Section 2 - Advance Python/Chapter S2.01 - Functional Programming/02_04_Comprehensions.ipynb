{
 "cells": [
  {
   "cell_type": "markdown",
   "metadata": {},
   "source": [
    "## Comprehensions"
   ]
  },
  {
   "cell_type": "markdown",
   "metadata": {},
   "source": [
    "Using comprehensions is often a way both to make code more compact and to shift our focus from the \"how\" to the \"what\". It is an expression that uses the same keywords as loop and conditional blocks, but inverts their order to focus on the data rather than on the procedure. \n",
    "\n",
    "Simply changing the form of expression can often make a surprisingly large difference in how we reason about code and how easy it is to understand. The ternary operator also performs a similar restructuring of our focus, using the same keywords in a different order."
   ]
  },
  {
   "cell_type": "markdown",
   "metadata": {},
   "source": [
    "###  List Comprehensions\n",
    "\n",
    "A way to create a new list from existing list based on defined logic"
   ]
  },
  {
   "cell_type": "markdown",
   "metadata": {},
   "source": [
    "#### Unconditional Compreshensions "
   ]
  },
  {
   "cell_type": "code",
   "execution_count": 4,
   "metadata": {},
   "outputs": [
    {
     "name": "stdout",
     "output_type": "stream",
     "text": [
      "doubled_numbers = [2, 6, 10, 14, 18, 22]\n"
     ]
    }
   ],
   "source": [
    "doubled_numbers = []\n",
    "\n",
    "for n in range(1, 12, 2):\n",
    "    doubled_numbers.append(n * 2)\n",
    "\n",
    "print(f\"{doubled_numbers = }\")"
   ]
  },
  {
   "cell_type": "code",
   "execution_count": 15,
   "metadata": {},
   "outputs": [
    {
     "name": "stdout",
     "output_type": "stream",
     "text": [
      "308 ms ± 9.2 ms per loop (mean ± std. dev. of 7 runs, 1 loop each)\n"
     ]
    }
   ],
   "source": [
    "%%timeit\n",
    "\n",
    "# Original\n",
    "doubled_numbers = []\n",
    "for n in range(1, 99_99_999, 2):\n",
    "    doubled_numbers.append(n * 2)"
   ]
  },
  {
   "cell_type": "code",
   "execution_count": 6,
   "metadata": {},
   "outputs": [
    {
     "name": "stdout",
     "output_type": "stream",
     "text": [
      "[402, 406, 410, 414, 418]\n"
     ]
    }
   ],
   "source": [
    "doubled_numbers = [n * 2 for n in range(1, 99_99_999, 2)]\n",
    "print(doubled_numbers[100:105])"
   ]
  },
  {
   "cell_type": "code",
   "execution_count": 10,
   "metadata": {},
   "outputs": [
    {
     "name": "stdout",
     "output_type": "stream",
     "text": [
      "[6, 10, 14, 18]\n"
     ]
    }
   ],
   "source": [
    "# To avoid confusion we can use similar style as below\n",
    "doubled_numbers = [n * 2 \n",
    "                       for n in range(1, 99, 2)]\n",
    "print(doubled_numbers[1:5])"
   ]
  },
  {
   "cell_type": "code",
   "execution_count": 16,
   "metadata": {},
   "outputs": [
    {
     "name": "stdout",
     "output_type": "stream",
     "text": [
      "291 ms ± 13.1 ms per loop (mean ± std. dev. of 7 runs, 1 loop each)\n"
     ]
    }
   ],
   "source": [
    "%%timeit\n",
    "\n",
    "# list compreshensions\n",
    "doubled_numbers = [n * 2 for n in range(1, 99_99_999, 2)] # 1 ,3, 5, 7, 9, 11"
   ]
  },
  {
   "cell_type": "markdown",
   "metadata": {},
   "source": [
    "#### Conditional Compreshensions "
   ]
  },
  {
   "cell_type": "code",
   "execution_count": 14,
   "metadata": {},
   "outputs": [
    {
     "name": "stdout",
     "output_type": "stream",
     "text": [
      "[2, 6, 10, 14, 18, 22]\n"
     ]
    }
   ],
   "source": [
    "doubled_odds = []\n",
    "\n",
    "for n in range(1, 12):\n",
    "    if n % 2 == 1:\n",
    "        doubled_odds.append(n * 2)\n",
    "        \n",
    "print(doubled_odds)"
   ]
  },
  {
   "cell_type": "code",
   "execution_count": 15,
   "metadata": {
    "scrolled": true
   },
   "outputs": [
    {
     "name": "stdout",
     "output_type": "stream",
     "text": [
      "[2, 6, 10, 14, 18, 22]\n"
     ]
    }
   ],
   "source": [
    "doubled_odds = [n * 2 for n in range(1,12) if n% 2 == 1]\n",
    "print(doubled_odds)"
   ]
  },
  {
   "cell_type": "code",
   "execution_count": 2,
   "metadata": {},
   "outputs": [
    {
     "name": "stdout",
     "output_type": "stream",
     "text": [
      "[2, 6, 10, 14, 18, 22]\n"
     ]
    }
   ],
   "source": [
    "doubled_odds = [n * 2 \n",
    "                    for n in range(1,12) \n",
    "                        if n% 2 == 1]\n",
    "print(doubled_odds)"
   ]
  },
  {
   "cell_type": "markdown",
   "metadata": {},
   "source": [
    "**!!!! Tip !!!!** \n",
    "\n",
    "* Copy the variable assignment for our new empty list (line 3)\n",
    "    `doubled_odds = [`\n",
    "* Copy the expression that we’ve been append-ing into this new list (line 6)\n",
    "    `n * 2`\n",
    "* Copy the for loop line, excluding the final `:` (line 4)\n",
    "    `for n in numbers` \n",
    "* Copy the if statement line, also without the `:` (line 5)\n",
    "    `if n % 2 == 1`\n",
    "* Close the list comprehension"
   ]
  },
  {
   "cell_type": "code",
   "execution_count": 17,
   "metadata": {},
   "outputs": [
    {
     "name": "stdout",
     "output_type": "stream",
     "text": [
      "901 ms ± 23 ms per loop (mean ± std. dev. of 7 runs, 1 loop each)\n"
     ]
    }
   ],
   "source": [
    "%%timeit\n",
    "# FROM\n",
    "numbers = range(9999999)\n",
    "\n",
    "doubled_odds = []\n",
    "for n in numbers:\n",
    "    if n % 2 == 1:\n",
    "        doubled_odds.append(n * 2)"
   ]
  },
  {
   "cell_type": "code",
   "execution_count": 18,
   "metadata": {},
   "outputs": [
    {
     "name": "stdout",
     "output_type": "stream",
     "text": [
      "751 ms ± 11.1 ms per loop (mean ± std. dev. of 7 runs, 1 loop each)\n"
     ]
    }
   ],
   "source": [
    "%%timeit\n",
    "# TO\n",
    "numbers = range(9999999)\n",
    "\n",
    "doubled_odds = [n * 2 for n in numbers if n % 2 == 1]"
   ]
  },
  {
   "cell_type": "markdown",
   "metadata": {},
   "source": [
    "#### Nested `if` statements in `for` loop"
   ]
  },
  {
   "cell_type": "markdown",
   "metadata": {},
   "source": [
    "When we have a nested `if-else` conditions, then its better we convert it into single line expression as discussed in `if` section."
   ]
  },
  {
   "cell_type": "code",
   "execution_count": 19,
   "metadata": {},
   "outputs": [
    {
     "name": "stdout",
     "output_type": "stream",
     "text": [
      "['odd', 'even', 'odd', 'even', 'odd', 'even', 'odd', 'even', 'odd', 'even', 'Zero']\n"
     ]
    }
   ],
   "source": [
    "l = [1, 2, 3, 4, 5, 6, 7, 8, 9, 10, 0]\n",
    "\n",
    "lst = []\n",
    "for v in l:\n",
    "    if v == 0 :\n",
    "        lst.append('Zero')\n",
    "    else:\n",
    "        if v % 2 == 0:\n",
    "            lst.append('even')\n",
    "        else:\n",
    "            lst.append('odd')\n",
    "\n",
    "print(lst)"
   ]
  },
  {
   "cell_type": "markdown",
   "metadata": {},
   "source": [
    "```python\n",
    "# Converting the nested `if-else` block into single line expression. \n",
    "if v == 0 :\n",
    "    lst.append('Zero')\n",
    "else:\n",
    "    if v % 2 == 0:\n",
    "        lst.append('even')\n",
    "    else:\n",
    "        lst.append('odd')\n",
    "\n",
    "# can be treated as \n",
    "if v == 0 :\n",
    "    lst.append('Zero')\n",
    "else:\n",
    "    # For us its a single value.\n",
    "    (if v % 2 == 0:\n",
    "        lst.append('even')\n",
    "    else:\n",
    "        lst.append('odd'))\n",
    "    \n",
    "# So this can be converted to following\n",
    "if v == 0 :\n",
    "    lst.append('Zero')\n",
    "else:\n",
    "    # For us its a single value.\n",
    "    lst.append('even' if v % 2 == 0 else 'odd')   # idea:  x = a if b>10 else c\n",
    "\n",
    "# Now its a simple if-else statement\n",
    "lst.append('Zero' if v == 0 else 'even' if v % 2 == 0 else 'odd')\n",
    "\n",
    "\n",
    "```\n",
    "so the final solution is shown below."
   ]
  },
  {
   "cell_type": "code",
   "execution_count": 20,
   "metadata": {},
   "outputs": [
    {
     "name": "stdout",
     "output_type": "stream",
     "text": [
      "['odd', 'even', 'odd', 'even', 'odd', 'even', 'odd', 'even', 'odd', 'even', 'Zero']\n"
     ]
    }
   ],
   "source": [
    "# we can convert the if statements into\n",
    "# a single line if statement as shown below\n",
    "\n",
    "l = [1, 2, 3, 4, 5, 6, 7, 8, 9, 10, 0]\n",
    "\n",
    "lst = []\n",
    "for v in l:\n",
    "    lst.append('Zero' if v == 0 else 'even' if v % 2 == 0 else 'odd')\n",
    "\n",
    "print(lst)"
   ]
  },
  {
   "cell_type": "markdown",
   "metadata": {},
   "source": [
    "We can treat `\"zero\" if v == 0 else \"even\" if v%2 == 0 else \"odd\"` as a single value (refer to section (Chapter 03 - Control Flow))"
   ]
  },
  {
   "cell_type": "code",
   "execution_count": 20,
   "metadata": {},
   "outputs": [
    {
     "name": "stdout",
     "output_type": "stream",
     "text": [
      "['odd', 'even', 'odd', 'even', 'odd', 'even', 'odd', 'even', 'odd', 'even', 'zero']\n"
     ]
    }
   ],
   "source": [
    "lst = [\"zero\" if v == 0 else \"even\" if v % 2 == 0 else \"odd\" for v in l]\n",
    "print(lst)"
   ]
  },
  {
   "cell_type": "code",
   "execution_count": 13,
   "metadata": {},
   "outputs": [
    {
     "name": "stdout",
     "output_type": "stream",
     "text": [
      "['yes', 'no', 'idle', 'idle', 'idle', 'idle', 'idle', 'idle', 'idle', 'idle', 'idle']\n"
     ]
    }
   ],
   "source": [
    "print(['yes' if v == 1 else 'no' if v == 2 else 'idle' for v in l])"
   ]
  },
  {
   "cell_type": "code",
   "execution_count": 3,
   "metadata": {},
   "outputs": [
    {
     "name": "stdout",
     "output_type": "stream",
     "text": [
      "[1, 2, 3, 4, [...], [...], [...], 5, 6, [...], 7]\n"
     ]
    }
   ],
   "source": [
    "def flatten_list_new(lst, result=None):\n",
    "    \"\"\"Flattens a nested list\n",
    "        >>> flatten_list([[1, 2, [3, 4] ], [5, 6], 7])\n",
    "        [1, 2, 3, 4, 5, 6, 7]\n",
    "    \"\"\"\n",
    "    if result is None:\n",
    "        result = []\n",
    "\n",
    "    for x in lst:\n",
    "        if isinstance(x, list):\n",
    "            result.append(flatten_list_new(x, result))\n",
    "        else:\n",
    "            result.append(x)\n",
    "\n",
    "    return result\n",
    "lst = [[1, 2, [3, [4]] ], [5, 6], 7]\n",
    "  \n",
    "print(flatten_list_new(lst))"
   ]
  },
  {
   "cell_type": "code",
   "execution_count": 4,
   "metadata": {},
   "outputs": [
    {
     "name": "stdout",
     "output_type": "stream",
     "text": [
      "[[1, 2, [3, [4]]], [5, 6], 7]\n"
     ]
    }
   ],
   "source": [
    "# !!! Still not working !!!\n",
    "def flatten_list_new(lst, result=None):\n",
    "    \"\"\"Flattens a nested list\n",
    "        >>> flatten_list([[1, 2, [3, 4] ], [5, 6], 7])\n",
    "        [1, 2, 3, 4, 5, 6, 7]\n",
    "    \"\"\"\n",
    "    if result is None:\n",
    "        result = []\n",
    "\n",
    "    result = [flatten_list_new(x, result) if isinstance(x, list) else x  for x in lst]\n",
    "\n",
    "    return result\n",
    "lst = [[1, 2, [3, [4]] ], [5, 6], 7]\n",
    "  \n",
    "print(flatten_list_new(lst))"
   ]
  },
  {
   "cell_type": "code",
   "execution_count": 5,
   "metadata": {},
   "outputs": [
    {
     "name": "stdout",
     "output_type": "stream",
     "text": [
      "[1, 2, 2, 3, 3, 3, 4, 5]\n"
     ]
    }
   ],
   "source": [
    "newlist = []\n",
    "input_list = [1,2, [2,[3]],3,[3,[[4],5]]]\n",
    "\n",
    "def convertHetrogenousList(hetroList):\n",
    "    newlist = []\n",
    "    if type(hetroList) is int:\n",
    "        newlist.append(hetroList)\n",
    "    elif type(hetroList) is list:\n",
    "        for items in hetroList:\n",
    "            newlist.extend(convertHetrogenousList(items))\n",
    "    return newlist\n",
    "\n",
    "newlist = convertHetrogenousList(input_list)\n",
    "print(newlist)"
   ]
  },
  {
   "cell_type": "code",
   "execution_count": 6,
   "metadata": {},
   "outputs": [
    {
     "name": "stdout",
     "output_type": "stream",
     "text": [
      "[1, 2, [2, [3]], 3, [3, [[4], 5]]]\n"
     ]
    }
   ],
   "source": [
    "from collections.abc import Iterable\n",
    "\n",
    "newlist = []\n",
    "input_list = [1, 2, [2, [3]], 3, [3, [[4], 5]]]\n",
    "\n",
    "def convertHetrogenousList(hetroList):\n",
    "    newlist = []\n",
    "    if isinstance(hetroList, Iterable):\n",
    "        for items in hetroList:\n",
    "            if isinstance(items, Iterable):\n",
    "                newlist.append(convertHetrogenousList(items))\n",
    "            else:\n",
    "                newlist.append(items)\n",
    "    else:\n",
    "        return hetroList\n",
    "    return newlist\n",
    "\n",
    "newlist = convertHetrogenousList(input_list)\n",
    "print(newlist)"
   ]
  },
  {
   "cell_type": "code",
   "execution_count": 108,
   "metadata": {},
   "outputs": [
    {
     "data": {
      "text/plain": [
       "False"
      ]
     },
     "execution_count": 108,
     "metadata": {},
     "output_type": "execute_result"
    }
   ],
   "source": [
    "isinstance(1, Iterable)"
   ]
  },
  {
   "cell_type": "code",
   "execution_count": 1,
   "metadata": {},
   "outputs": [
    {
     "name": "stdout",
     "output_type": "stream",
     "text": [
      "[1, 2, 2, 3, 3, 3, 4, 5]\n"
     ]
    }
   ],
   "source": [
    "newlist = []\n",
    "input_list = [1,2, [2,[3]],3,[3,[[4],5]]]\n",
    "\n",
    "def convertHetrogenousList(hetroList):\n",
    "    newlist = []\n",
    "    if type(hetroList) is int:\n",
    "        newlist.append(hetroList)\n",
    "    elif type(hetroList) is list:\n",
    "        for items in hetroList:\n",
    "            newlist.extend(convertHetrogenousList(items))\n",
    "    return newlist\n",
    "\n",
    "newlist = convertHetrogenousList(input_list)\n",
    "print(newlist)"
   ]
  },
  {
   "cell_type": "code",
   "execution_count": 20,
   "metadata": {},
   "outputs": [],
   "source": [
    "### TODO Can we redirect the stdio.out to a list"
   ]
  },
  {
   "cell_type": "code",
   "execution_count": 9,
   "metadata": {},
   "outputs": [
    {
     "name": "stdout",
     "output_type": "stream",
     "text": [
      "[0, 1, 2, 3, 4, 2, 3, 4, 4]\n"
     ]
    }
   ],
   "source": [
    "# Original code\n",
    "\n",
    "lst = []\n",
    "n = 10\n",
    "b = 5\n",
    "\n",
    "for a in range(n):\n",
    "    if a % 2==0:\n",
    "        for x in range(a, b):\n",
    "            lst.append(x)\n",
    "\n",
    "print(lst[])"
   ]
  },
  {
   "cell_type": "code",
   "execution_count": 15,
   "metadata": {},
   "outputs": [
    {
     "name": "stdout",
     "output_type": "stream",
     "text": [
      "[0, 1, 2, 3, 4, 2, 3, 4, 4]\n"
     ]
    }
   ],
   "source": [
    "lst = [x for a in range(n) if a % 2 == 0 for x in range(a, b)]\n",
    "print(lst)"
   ]
  },
  {
   "cell_type": "code",
   "execution_count": 21,
   "metadata": {},
   "outputs": [
    {
     "name": "stdout",
     "output_type": "stream",
     "text": [
      "[0, 1, 2, 3, 4, 2, 3, 4, 4]\n"
     ]
    }
   ],
   "source": [
    "# solution\n",
    "\n",
    "n = 10\n",
    "b = 5\n",
    "lst = [x for a in range(n) if a % 2 == 0 for x in range(a, b)]\n",
    "\n",
    "print(lst)"
   ]
  },
  {
   "cell_type": "code",
   "execution_count": 7,
   "metadata": {},
   "outputs": [
    {
     "name": "stdout",
     "output_type": "stream",
     "text": [
      "CPU times: user 10.9 ms, sys: 16.9 ms, total: 27.8 ms\n",
      "Wall time: 106 ms\n"
     ]
    }
   ],
   "source": [
    "%%time\n",
    "\n",
    "import os\n",
    "\n",
    "file_list = []\n",
    "\n",
    "for path, _, files in os.walk(\"..\"):\n",
    "    for f in files:\n",
    "        if f.endswith(\".py\"):\n",
    "            file_list.append(os.path.join(path, f))\n",
    "\n",
    "# print(len(file_list))\n",
    "# Folder: C:\\temp\\test   File: dummy.py\n",
    "# Windows: os.path.join -> c:\\temp\\test\\dummy.py (Windows & ReactOS)\n",
    "# Linux: C:\\temp\\test/dummy.py (*inx Linux/macOS or *BSD)"
   ]
  },
  {
   "cell_type": "code",
   "execution_count": 11,
   "metadata": {},
   "outputs": [
    {
     "name": "stdout",
     "output_type": "stream",
     "text": [
      "CPU times: user 9.68 ms, sys: 3.62 ms, total: 13.3 ms\n",
      "Wall time: 13 ms\n"
     ]
    }
   ],
   "source": [
    "%%time\n",
    "\n",
    "import os\n",
    "\n",
    "file_list = []\n",
    "\n",
    "for path, _, files in os.walk(\"..\"):\n",
    "    file_list = [os.path.join(path, f) for f in files if f.endswith(\".py\")]\n",
    "\n",
    "# print(len(file_list))\n",
    "# Folder: C:\\temp\\test   File: dummy.py\n",
    "# Windows: os.path.join -> c:\\temp\\test\\dummy.py (Windows & ReactOS)\n",
    "# Linux: C:\\temp\\test/dummy.py (*inx Linux/macOS or *BSD)"
   ]
  },
  {
   "cell_type": "code",
   "execution_count": 25,
   "metadata": {},
   "outputs": [
    {
     "name": "stdout",
     "output_type": "stream",
     "text": [
      "3936\n"
     ]
    }
   ],
   "source": [
    "import os\n",
    "\n",
    "file_list = [os.path.join(path, f)\n",
    "                 for path, _, files in os.walk(\"..\")\n",
    "                     for f in files if f.endswith(\".py\")]\n",
    "\n",
    "print(len(file_list))"
   ]
  },
  {
   "cell_type": "code",
   "execution_count": 7,
   "metadata": {},
   "outputs": [
    {
     "name": "stdout",
     "output_type": "stream",
     "text": [
      "CPU times: user 19.9 ms, sys: 12.9 ms, total: 32.8 ms\n",
      "Wall time: 32.4 ms\n"
     ]
    }
   ],
   "source": [
    "%%time\n",
    "\n",
    "import os\n",
    "\n",
    "folder = \"..\"\n",
    "file_list = [os.path.join(path, f) \n",
    "             for path, _, files in os.walk(folder) \n",
    "                 for f in files if f.endswith(\".py\")]"
   ]
  },
  {
   "cell_type": "code",
   "execution_count": 8,
   "metadata": {},
   "outputs": [
    {
     "name": "stdout",
     "output_type": "stream",
     "text": [
      "1525\n",
      "CPU times: user 26.6 ms, sys: 24.4 ms, total: 51 ms\n",
      "Wall time: 56.1 ms\n"
     ]
    }
   ],
   "source": [
    "%%time\n",
    "restFiles = []\n",
    "\n",
    "for path, _, files in os.walk(r\"..\"):\n",
    "    if \"code\" in path:\n",
    "        for f in files:\n",
    "            if f.endswith(\".py\"):\n",
    "                restFiles.append(os.path.join(path, f))\n",
    "print(len(restFiles))"
   ]
  },
  {
   "cell_type": "code",
   "execution_count": 9,
   "metadata": {},
   "outputs": [
    {
     "name": "stdout",
     "output_type": "stream",
     "text": [
      "1525\n",
      "CPU times: user 17.7 ms, sys: 0 ns, total: 17.7 ms\n",
      "Wall time: 18.5 ms\n"
     ]
    }
   ],
   "source": [
    "%%time\n",
    "restFiles = [os.path.join(path, f) \n",
    "                 for path, _, files in os.walk(\"..\") \n",
    "                     if \"code\" in path\n",
    "                         for f in files \n",
    "                             if f.endswith(\".py\")]\n",
    "print(len(restFiles))"
   ]
  },
  {
   "cell_type": "code",
   "execution_count": 30,
   "metadata": {},
   "outputs": [],
   "source": [
    "lst = [1, 2, [2, 3], 3, [3, [[4], 5]]]\n",
    "lst = [1, 2, 2, 3, 3, 3, 4, 5]"
   ]
  },
  {
   "cell_type": "code",
   "execution_count": 12,
   "metadata": {},
   "outputs": [
    {
     "name": "stdout",
     "output_type": "stream",
     "text": [
      "[[1, 0, 0], [0, 1, 0], [0, 0, 1]]\n"
     ]
    }
   ],
   "source": [
    "matrix = []\n",
    "\n",
    "for row_idx in range(0, 3):\n",
    "    itmList = []\n",
    "    for item_idx in range(0, 3):\n",
    "        if item_idx == row_idx:\n",
    "            itmList.append(1)\n",
    "        else:\n",
    "            itmList.append(0)\n",
    "    matrix.append(itmList)\n",
    "    \n",
    "print(matrix)"
   ]
  },
  {
   "cell_type": "code",
   "execution_count": 33,
   "metadata": {},
   "outputs": [
    {
     "name": "stdout",
     "output_type": "stream",
     "text": [
      "CPU times: user 12 µs, sys: 1 µs, total: 13 µs\n",
      "Wall time: 14.1 µs\n"
     ]
    }
   ],
   "source": [
    "%%time\n",
    "\n",
    "matrix = []\n",
    "for row_idx in range(0, 3):\n",
    "    itmList = []\n",
    "    for item_idx in range(0, 3):\n",
    "        if item_idx == row_idx:\n",
    "            itmList.append(1)\n",
    "        else:\n",
    "            itmList.append(0)\n",
    "    matrix.append(itmList)\n"
   ]
  },
  {
   "cell_type": "code",
   "execution_count": 29,
   "metadata": {},
   "outputs": [
    {
     "name": "stdout",
     "output_type": "stream",
     "text": [
      "[[1, 0, 0], [0, 1, 0], [0, 0, 1]]\n"
     ]
    }
   ],
   "source": [
    "# Optimization One: Simplifying the inner loop.\n",
    "\n",
    "matrix = []\n",
    "for row_idx in range(0, 3):\n",
    "    itmList = []\n",
    "    for item_idx in range(0, 3):\n",
    "        itmList.append(1 if item_idx == row_idx else 0)\n",
    "    matrix.append(itmList)\n",
    "\n",
    "print(matrix)"
   ]
  },
  {
   "cell_type": "code",
   "execution_count": 31,
   "metadata": {},
   "outputs": [
    {
     "name": "stdout",
     "output_type": "stream",
     "text": [
      "[[1, 0, 0], [0, 1, 0], [0, 0, 1]]\n"
     ]
    }
   ],
   "source": [
    "# Opti: 2\n",
    "\n",
    "matrix = []\n",
    "for row_idx in range(0, 3):\n",
    "    itmList = [1 if item_idx == row_idx else 0 for item_idx in range(0, 3)]\n",
    "    matrix.append(itmList)\n",
    "\n",
    "print(matrix)"
   ]
  },
  {
   "cell_type": "code",
   "execution_count": 34,
   "metadata": {},
   "outputs": [
    {
     "name": "stdout",
     "output_type": "stream",
     "text": [
      "[[1, 0, 0], [0, 1, 0], [0, 0, 1]]\n"
     ]
    }
   ],
   "source": [
    "# Opti: 3\n",
    "\n",
    "matrix = []\n",
    "\n",
    "for row_idx in range(0, 3):\n",
    "    matrix.append([1 if item_idx == row_idx else 0 for item_idx in range(0, 3)])\n",
    "\n",
    "print(matrix)"
   ]
  },
  {
   "cell_type": "code",
   "execution_count": 33,
   "metadata": {},
   "outputs": [
    {
     "name": "stdout",
     "output_type": "stream",
     "text": [
      "[[1, 0, 0], [0, 1, 0], [0, 0, 1]]\n"
     ]
    }
   ],
   "source": [
    "# Final Optimization\n",
    "\n",
    "matrix = [[1 if item_idx == row_idx \n",
    "               else 0 for item_idx in range(0, 3)] \n",
    "                  for row_idx in range(0, 3)]\n",
    "print(matrix)"
   ]
  },
  {
   "cell_type": "code",
   "execution_count": 38,
   "metadata": {},
   "outputs": [
    {
     "name": "stdout",
     "output_type": "stream",
     "text": [
      "[1, 2, 34, 4, 5]\n",
      "[1, 2, 34, 4, 5, 2, 2, 3, 4, 5, 1]\n"
     ]
    }
   ],
   "source": [
    "# Review of `set`\n",
    "lst = [1, 2, 34, 4, 5]\n",
    "print(lst)\n",
    "lst.append(2)\n",
    "lst.extend((2, 3, 4, 5, 1))\n",
    "print(lst)"
   ]
  },
  {
   "cell_type": "code",
   "execution_count": 40,
   "metadata": {},
   "outputs": [
    {
     "name": "stdout",
     "output_type": "stream",
     "text": [
      "{1, 2, 34, 4, 5, 3}\n"
     ]
    }
   ],
   "source": [
    "# Set is a collection of unique elements.\n",
    "\n",
    "l = set(lst)\n",
    "print(l)"
   ]
  },
  {
   "cell_type": "markdown",
   "metadata": {},
   "source": [
    "### Set Comprehensions\n",
    "\n",
    "Set comprehensions allow sets to be constructed using the same principles as list comprehensions, the only difference is that resulting sequence is a set and **\"{ }\"** are used instead of **\"[ ]\"**."
   ]
  },
  {
   "cell_type": "code",
   "execution_count": 12,
   "metadata": {},
   "outputs": [
    {
     "name": "stdout",
     "output_type": "stream",
     "text": [
      "List: ['Aalok', 'Manish', 'Aalok', 'Manish', 'Gupta', 'Johri', 'Rahul']\n",
      "Set: {'Gupta', 'Rahul', 'Johri', 'Manish', 'Aalok'}\n"
     ]
    }
   ],
   "source": [
    "names = ['aaLok', 'Manish', 'AalOK', 'Manish', 'Gupta', 'Johri', 'Rahul']\n",
    "\n",
    "names_using_list_comprehension = [name[0].upper() + name[1:].lower() for name in names if len(name) > 1 ]\n",
    "\n",
    "names_using_set_comprehension = {name[0].upper() + name[1:].lower() for name in names if len(name) > 1 }\n",
    "print(\"List:\", names_using_list_comprehension)\n",
    "print(\"Set:\", names_using_set_comprehension)"
   ]
  },
  {
   "cell_type": "markdown",
   "metadata": {},
   "source": [
    "### Dictionary Comprehensions"
   ]
  },
  {
   "cell_type": "markdown",
   "metadata": {},
   "source": [
    "Now, lets consolidate the above dictionary in such a way that resultant dictionary will have only lower case keys and if both lower and upper case keys are found in the original dictionary than values of both the keys should be added.  "
   ]
  },
  {
   "cell_type": "code",
   "execution_count": 22,
   "metadata": {},
   "outputs": [
    {
     "name": "stdout",
     "output_type": "stream",
     "text": [
      "{10: 'c', 34: 'b', 7: 'A', 3: 'Z', 199: 'z'}\n"
     ]
    }
   ],
   "source": [
    "original = {'a':10, 'b': 34, 'A': 7, 'Z':3, \"z\": 199, 'c': 10}\n",
    "# Origianl example in which swap key value.\n",
    "# Original Code, which need to be optimized using dictionary comprehension.\n",
    "\n",
    "flipped = {}\n",
    "for key, value in original.items():\n",
    "    flipped[value] = key\n",
    "    \n",
    "print(flipped)"
   ]
  },
  {
   "cell_type": "code",
   "execution_count": 21,
   "metadata": {},
   "outputs": [
    {
     "name": "stdout",
     "output_type": "stream",
     "text": [
      "{10: 'c', 34: 'b', 7: 'A', 3: 'Z', 199: 'z'}\n"
     ]
    }
   ],
   "source": [
    "original = {'a':10, 'b': 34, 'A': 7, 'Z':3, \"z\": 199, 'c': 10}\n",
    "\n",
    "# variable = { `key` : `val` `for loop`}\n",
    "flipped = {value : key for key, value in original.items()}\n",
    "\n",
    "print(flipped)"
   ]
  },
  {
   "cell_type": "code",
   "execution_count": 16,
   "metadata": {},
   "outputs": [
    {
     "name": "stdout",
     "output_type": "stream",
     "text": [
      "{10: 'c', 34: 'b', 7: 'A', 3: 'Z', 199: 'z'}\n"
     ]
    }
   ],
   "source": [
    "original = {'a':10, 'b': 34, 'A': 7, 'Z':3, \"z\": 199, 'c': 10}\n",
    "# Origianl example in which swap key value.\n",
    "# Original Code, which need to be optimized using dictionary comprehension.\n",
    "\n",
    "flipped = {}\n",
    "for key in original:\n",
    "    flipped[original[key]] = key\n",
    "    \n",
    "print(flipped)"
   ]
  },
  {
   "cell_type": "code",
   "execution_count": 17,
   "metadata": {},
   "outputs": [
    {
     "name": "stdout",
     "output_type": "stream",
     "text": [
      "{10: 'c', 34: 'b', 7: 'A', 3: 'Z', 199: 'z'}\n"
     ]
    }
   ],
   "source": [
    "flipped = {original[key]: key for key in original}\n",
    "print(flipped)"
   ]
  },
  {
   "cell_type": "code",
   "execution_count": 18,
   "metadata": {},
   "outputs": [],
   "source": [
    "original = {'a': 10, 'b': 34, 'A': 7, 'Z': 3, 'z': 199}"
   ]
  },
  {
   "cell_type": "code",
   "execution_count": 21,
   "metadata": {},
   "outputs": [
    {
     "name": "stdout",
     "output_type": "stream",
     "text": [
      "\n",
      " {'a': 17, 'b': 34, 'z': 202}\n"
     ]
    }
   ],
   "source": [
    "# In this example, we are creating a dict with key from `original` and value is sum of all\n",
    "# Values with same key (ignoring the case (upper or lower))\n",
    "# So the new_dict will be {'a': 17, 'b': ....}\n",
    "mcase_freq = {}\n",
    "\n",
    "for k in original:\n",
    "    # Due to `get` with default value `0` if the key is not present it will return `0` \n",
    "    # which is not effect the output but avoid an key not found exception.\n",
    "    mcase_freq[k.lower()] = original.get(k.lower(), 0) + original.get(k.upper(), 0)\n",
    "\n",
    "print(\"\\n\", mcase_freq)"
   ]
  },
  {
   "cell_type": "code",
   "execution_count": 23,
   "metadata": {},
   "outputs": [
    {
     "name": "stdout",
     "output_type": "stream",
     "text": [
      "{'a': 17, 'b': 34, 'z': 202}\n"
     ]
    }
   ],
   "source": [
    "# variable = { `key` : `val` `for loop`}\n",
    "# This is not an optimized code, because we are calculating again for other case key also,\n",
    "# Say we have two key/ value pairs as `a:10` and `A:7`,\n",
    "# our current logic will process both `a` and `A` keys, which is redundent action.\n",
    "\n",
    "mcase_frequency = {k.lower() : original.get(k.lower(), 0) + original.get(k.upper(), 0) for k in original}\n",
    "\n",
    "print(mcase_frequency)"
   ]
  },
  {
   "cell_type": "code",
   "execution_count": 24,
   "metadata": {},
   "outputs": [
    {
     "name": "stdout",
     "output_type": "stream",
     "text": [
      "{'a': 17, 'b': 34, 'z': 202, 'c': 10}\n"
     ]
    }
   ],
   "source": [
    "original = {'a':10, 'b': 34, 'A': 7, 'Z':3, \"z\": 199, 'c': 10}\n",
    "\n",
    "# A bit optimized solution\n",
    "\n",
    "mcase_freq = {}\n",
    "\n",
    "for k in original:\n",
    "    if k.lower() not in mcase_freq:\n",
    "        mcase_freq[k.lower()] = original.get(k.lower(), 0) + original.get(k.upper(), 0)\n",
    "    \n",
    "print(mcase_freq)"
   ]
  },
  {
   "cell_type": "markdown",
   "metadata": {},
   "source": [
    "```python\n",
    "# When not to use single line if statement. \n",
    "original = {'a':10, 'b': 34, 'A': 7, 'Z':3, \"z\": 199, 'c': 10}\n",
    "mcase_freq = {}\n",
    "try:\n",
    "    for k in original:\n",
    "        mcase_freq[k.lower()] = original.get(k.lower(), 0) + original.get(k.upper(), 0) if k.lower() not in mcase_freq\n",
    "\n",
    "    print(mcase_freq)\n",
    "except Exception as e:\n",
    "    print(e)\n",
    "```"
   ]
  },
  {
   "cell_type": "markdown",
   "metadata": {},
   "source": [
    "**Output:**\n",
    "\n",
    "```python\n",
    " Input In [25]\n",
    "    mcase_freq[k.lower()] = original.get(k.lower(), 0) + original.get(k.upper(), 0) if k.lower() not in mcase_freq\n",
    "                            ^\n",
    "SyntaxError: expected 'else' after 'if' expression\n",
    "```\n"
   ]
  },
  {
   "cell_type": "code",
   "execution_count": 54,
   "metadata": {},
   "outputs": [
    {
     "name": "stdout",
     "output_type": "stream",
     "text": [
      "{'a': 17, 'b': 34, 'z': 202, 'c': 10}\n"
     ]
    }
   ],
   "source": [
    "# Just like list comprehension.\n",
    "mcase_freq = {}\n",
    "\n",
    "mcase_freq = {k.lower(): original.get(k.lower(), 0) + original.get(k.upper(), 0) \n",
    "                  for k in original\n",
    "                      if k.lower() not in mcase_freq}\n",
    "print(mcase_freq)"
   ]
  },
  {
   "cell_type": "markdown",
   "metadata": {},
   "source": [
    "$$TODO$$\n",
    "This map doesn’t take a named function. It takes an anonymous, inlined function defined with lambda. The parameters of the lambda are defined to the left of the colon. The function body is defined to the right of the colon. The result of running the function body is (implicitly) returned.\n",
    "\n",
    "The unfunctional code below takes a list of real names and appends them with randomly assigned code names."
   ]
  },
  {
   "cell_type": "code",
   "execution_count": 45,
   "metadata": {},
   "outputs": [
    {
     "name": "stdout",
     "output_type": "stream",
     "text": [
      "{'Mr. K.V. Pauly': 'Mr. Normal', 'Manish': 'Mr. Cool', 'Aalok': 'Mr. God', 'Roshan Musheer': 'The Big Boss'}\n"
     ]
    }
   ],
   "source": [
    "# Bad Implementation, copied from Java/C++/C\n",
    "# Creating a dictionary from two lists one for key and another for values.\n",
    "# the values are randomized usign `random.shuffle`\n",
    "\n",
    "import random\n",
    "\n",
    "names_dict = {}\n",
    "\n",
    "names = [\"Mr. K.V. Pauly\", \"Manish\", \"Aalok\", \"Roshan Musheer\"]  # Keys\n",
    "code_names = ['Mr. Normal', 'Mr. God', 'Mr. Cool', 'The Big Boss']  # Values\n",
    "\n",
    "random.shuffle(code_names)\n",
    "\n",
    "# NEVER EVER USE THIS LOGIC  `range(len(names))` is a bad idea.\n",
    "for i in range(len(names)):\n",
    "    names_dict[names[i]] = code_names[i] \n",
    "\n",
    "print(names_dict)"
   ]
  },
  {
   "cell_type": "code",
   "execution_count": 46,
   "metadata": {},
   "outputs": [
    {
     "name": "stdout",
     "output_type": "stream",
     "text": [
      "{'Mr. K.V. Pauly': 'Mr. Normal', 'Manish': 'Mr. Cool', 'Aalok': 'Mr. God', 'Roshan Musheer': 'The Big Boss'}\n"
     ]
    }
   ],
   "source": [
    "named_dict = {names[i] : code_names[i] for i in range(len(names))}\n",
    "print(named_dict)"
   ]
  },
  {
   "cell_type": "code",
   "execution_count": 34,
   "metadata": {},
   "outputs": [
    {
     "name": "stdout",
     "output_type": "stream",
     "text": [
      "{'Mayank': 'The Big Boss', 'Manish': 'Mr. Cool', 'Aalok': 'Mr. God', 'Roshan Musheer': 'Mr. Normal'}\n"
     ]
    }
   ],
   "source": [
    "# Better implementation, Note that both the lists are of same size.\n",
    "import random\n",
    "\n",
    "names_dict = {}\n",
    "names = [\"Mayank\", \"Manish\", \"Aalok\", \"Roshan Musheer\"]\n",
    "code_names = ['Mr. Normal', 'Mr. God', 'Mr. Cool', 'The Big Boss']\n",
    "\n",
    "random.shuffle(code_names)\n",
    "\n",
    "for index, name in enumerate(names):\n",
    "    names_dict[name] = code_names[index] \n",
    "        \n",
    "print(names_dict)"
   ]
  },
  {
   "cell_type": "code",
   "execution_count": 35,
   "metadata": {},
   "outputs": [
    {
     "name": "stdout",
     "output_type": "stream",
     "text": [
      "{'Mayank': 'The Big Boss', 'Manish': 'Mr. Normal', 'Aalok': 'Mr. Cool', 'Roshan Musheer': 'Mr. God'}\n"
     ]
    }
   ],
   "source": [
    "# Better implementation using Dictionary Comprehension\n",
    "# First thing to find is what is the key and what is the value.\n",
    "\n",
    "import random\n",
    "\n",
    "names_dict = {}\n",
    "names = [\"Mayank\", \"Manish\", \"Aalok\", \"Roshan Musheer\"]\n",
    "code_names = ['Mr. Normal', 'Mr. God', 'Mr. Cool', 'The Big Boss']\n",
    "\n",
    "random.shuffle(code_names)\n",
    "\n",
    "names_dict = {name : code_names[i]  for i, name in enumerate(names)}\n",
    "print(names_dict)"
   ]
  },
  {
   "cell_type": "code",
   "execution_count": 36,
   "metadata": {},
   "outputs": [
    {
     "name": "stdout",
     "output_type": "stream",
     "text": [
      "{'Mayank': 'Mr. God', 'Manish': 'The Big Boss', 'Aalok': 'Mr. Cool', 'Roshan Musheer': 'Mr. Normal'}\n"
     ]
    }
   ],
   "source": [
    "# best implementation\n",
    "\n",
    "import random\n",
    "\n",
    "names_dict = {}\n",
    "names = [\"Mayank\", \"Manish\", \"Aalok\", \"Roshan Musheer\"]\n",
    "code_names = ['Mr. Normal', 'Mr. God', 'Mr. Cool', 'The Big Boss']\n",
    "\n",
    "random.shuffle(code_names)\n",
    "\n",
    "names_dict = dict(zip(names, code_names))\n",
    "\n",
    "print(names_dict)"
   ]
  },
  {
   "cell_type": "code",
   "execution_count": 37,
   "metadata": {},
   "outputs": [],
   "source": [
    "names = list(range(10000))\n",
    "code_names = list(range(10000))\n",
    "random.shuffle(code_names)"
   ]
  },
  {
   "cell_type": "code",
   "execution_count": 38,
   "metadata": {},
   "outputs": [
    {
     "name": "stdout",
     "output_type": "stream",
     "text": [
      "1.54 ms ± 400 µs per loop (mean ± std. dev. of 7 runs, 100 loops each)\n"
     ]
    }
   ],
   "source": [
    "%%timeit\n",
    "\n",
    "import random\n",
    "\n",
    "names_dict = {}\n",
    "\n",
    "for index, name in enumerate(names):\n",
    "    names_dict[name] = code_names[index] "
   ]
  },
  {
   "cell_type": "code",
   "execution_count": 40,
   "metadata": {},
   "outputs": [
    {
     "name": "stdout",
     "output_type": "stream",
     "text": [
      "1.37 ms ± 149 µs per loop (mean ± std. dev. of 7 runs, 1,000 loops each)\n"
     ]
    }
   ],
   "source": [
    "%%timeit\n",
    "\n",
    "import random\n",
    "\n",
    "names_dict = {name : code_names[i]  for i, name in enumerate(names)}"
   ]
  },
  {
   "cell_type": "code",
   "execution_count": 41,
   "metadata": {},
   "outputs": [
    {
     "name": "stdout",
     "output_type": "stream",
     "text": [
      "905 µs ± 89.3 µs per loop (mean ± std. dev. of 7 runs, 1,000 loops each)\n"
     ]
    }
   ],
   "source": [
    "%%timeit\n",
    "import random\n",
    "\n",
    "names_dict = dict(zip(names, code_names))"
   ]
  },
  {
   "cell_type": "code",
   "execution_count": null,
   "metadata": {},
   "outputs": [],
   "source": [
    "ld = [{'a': 10, 'b': 20}, {'p': 10, 'u': 100}]\n",
    "dict([kv for d in ld for kv in d.items()])"
   ]
  },
  {
   "cell_type": "markdown",
   "metadata": {},
   "source": [
    "### Generator Comprehension\n",
    "\n",
    "They are simply a generator expression with a parenthesis \"( )\" around it. Otherwise, the syntax and the way of working is like list comprehension, but a generator comprehension returns a generator instead of a list. "
   ]
  },
  {
   "cell_type": "code",
   "execution_count": 49,
   "metadata": {},
   "outputs": [
    {
     "name": "stdout",
     "output_type": "stream",
     "text": [
      "754 ns ± 23.7 ns per loop (mean ± std. dev. of 7 runs, 1,000,000 loops each)\n"
     ]
    }
   ],
   "source": [
    "%%timeit\n",
    "# Generator Comprehension\n",
    "\n",
    "x = (x**2 for x in range(20000))"
   ]
  },
  {
   "cell_type": "code",
   "execution_count": 50,
   "metadata": {},
   "outputs": [
    {
     "name": "stdout",
     "output_type": "stream",
     "text": [
      "1.47 ms ± 108 µs per loop (mean ± std. dev. of 7 runs, 1,000 loops each)\n"
     ]
    }
   ],
   "source": [
    "%%timeit\n",
    "# List comprehension\n",
    "\n",
    "x = [x**2 for x in range(20000)]"
   ]
  },
  {
   "cell_type": "code",
   "execution_count": 51,
   "metadata": {},
   "outputs": [
    {
     "name": "stdout",
     "output_type": "stream",
     "text": [
      "945 ns ± 78.6 ns per loop (mean ± std. dev. of 7 runs, 1,000,000 loops each)\n"
     ]
    }
   ],
   "source": [
    "%%timeit\n",
    "x = (x**2 for x in range(999999999999999999999))\n",
    "# print(x)"
   ]
  },
  {
   "cell_type": "code",
   "execution_count": 53,
   "metadata": {},
   "outputs": [
    {
     "name": "stdout",
     "output_type": "stream",
     "text": [
      "1.96 ms ± 172 µs per loop (mean ± std. dev. of 7 runs, 100 loops each)\n"
     ]
    }
   ],
   "source": [
    "%%timeit\n",
    "\n",
    "x = (x**2 for x in range(20000))\n",
    "\n",
    "for a in x:\n",
    "    pass"
   ]
  },
  {
   "cell_type": "code",
   "execution_count": 54,
   "metadata": {},
   "outputs": [
    {
     "name": "stdout",
     "output_type": "stream",
     "text": [
      "1.55 ms ± 91.4 µs per loop (mean ± std. dev. of 7 runs, 1,000 loops each)\n"
     ]
    }
   ],
   "source": [
    "%%timeit\n",
    "# This will take a little less over all time then generator equivalent.\n",
    "# but responsiveness of generator is better \n",
    "\n",
    "x = [x**2 for x in range(20000)]\n",
    "\n",
    "for a in x:\n",
    "    pass"
   ]
  },
  {
   "cell_type": "code",
   "execution_count": null,
   "metadata": {},
   "outputs": [],
   "source": [
    "itm = 10\n",
    "print(itm / 2)"
   ]
  },
  {
   "cell_type": "markdown",
   "metadata": {},
   "source": [
    "#### Summary\n",
    "When struggling to write a comprehension, `don’t panic`. Start with a `for` loop first and copy-paste your way into a comprehension. Also try to convert the `if-else` structure to a single line statement.\n",
    "\n",
    "Any for loop that looks like this:"
   ]
  },
  {
   "cell_type": "code",
   "execution_count": 23,
   "metadata": {},
   "outputs": [
    {
     "name": "stdout",
     "output_type": "stream",
     "text": [
      "[2, 8, 14]\n"
     ]
    }
   ],
   "source": [
    "def condition_based_on(itm):\n",
    "    return itm % 2 == 0\n",
    "\n",
    "old_things = range(2,20, 3)\n",
    "new_things = []\n",
    "for ITEM in old_things:\n",
    "    if condition_based_on(ITEM):\n",
    "        new_things.append(ITEM)\n",
    "print(new_things)"
   ]
  },
  {
   "cell_type": "markdown",
   "metadata": {},
   "source": [
    "Can be rewritten into a list comprehension like this:"
   ]
  },
  {
   "cell_type": "code",
   "execution_count": 24,
   "metadata": {},
   "outputs": [
    {
     "name": "stdout",
     "output_type": "stream",
     "text": [
      "[2, 8, 14]\n"
     ]
    }
   ],
   "source": [
    "new_things = [ITEM for ITEM in old_things if condition_based_on(ITEM)]\n",
    "print(new_things)"
   ]
  },
  {
   "cell_type": "markdown",
   "metadata": {},
   "source": [
    "**NOTE**\n",
    "\n",
    "If you can nudge a for loop until it looks like the ones above, you can rewrite it as a list comprehension."
   ]
  }
 ],
 "metadata": {
  "kernelspec": {
   "display_name": "Python 3 (ipykernel)",
   "language": "python",
   "name": "python3"
  },
  "language_info": {
   "codemirror_mode": {
    "name": "ipython",
    "version": 3
   },
   "file_extension": ".py",
   "mimetype": "text/x-python",
   "name": "python",
   "nbconvert_exporter": "python",
   "pygments_lexer": "ipython3",
   "version": "3.11.0b1"
  }
 },
 "nbformat": 4,
 "nbformat_minor": 2
}
