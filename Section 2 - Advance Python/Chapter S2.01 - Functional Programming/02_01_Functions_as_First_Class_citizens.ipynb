{
 "cells": [
  {
   "cell_type": "markdown",
   "metadata": {},
   "source": [
    "# Functions as First-Class citizens"
   ]
  },
  {
   "cell_type": "markdown",
   "metadata": {},
   "source": [
    "In functional programming, functions can be treated as objects. That is, they can be\n",
    "- Assigned to a variable\n",
    "- Passed as arguments to a function\n",
    "- Returned from a functions\n",
    "\n",
    "Lets look at few example to understand what that means."
   ]
  },
  {
   "cell_type": "markdown",
   "metadata": {},
   "source": [
    "Before we can play with functions, lets check how python handles the variables and data. For that we have taken a variable `a` and assigned it value 10. "
   ]
  },
  {
   "cell_type": "code",
   "execution_count": 1,
   "metadata": {},
   "outputs": [
    {
     "name": "stdout",
     "output_type": "stream",
     "text": [
      "a = 10\n"
     ]
    }
   ],
   "source": [
    "a = 10\n",
    "print(f\"{a = }\")"
   ]
  },
  {
   "cell_type": "markdown",
   "metadata": {},
   "source": [
    "Now, lets check what happens if we pass it to functions `id` and `dir` in order to know more about them"
   ]
  },
  {
   "cell_type": "code",
   "execution_count": 4,
   "metadata": {},
   "outputs": [
    {
     "name": "stdout",
     "output_type": "stream",
     "text": [
      "id(a) = 94879656226856, type(10) = <class 'int'>\n"
     ]
    }
   ],
   "source": [
    "print(f\"{id(a) = }, {type(10) = }\")"
   ]
  },
  {
   "cell_type": "code",
   "execution_count": 5,
   "metadata": {},
   "outputs": [
    {
     "name": "stdout",
     "output_type": "stream",
     "text": [
      "dir(10) = ['__abs__', '__add__', '__and__', '__bool__', '__ceil__', '__class__', '__delattr__', '__dir__', '__divmod__', '__doc__', '__eq__', '__float__', '__floor__', '__floordiv__', '__format__', '__ge__', '__getattribute__', '__getnewargs__', '__getstate__', '__gt__', '__hash__', '__index__', '__init__', '__init_subclass__', '__int__', '__invert__', '__le__', '__lshift__', '__lt__', '__mod__', '__mul__', '__ne__', '__neg__', '__new__', '__or__', '__pos__', '__pow__', '__radd__', '__rand__', '__rdivmod__', '__reduce__', '__reduce_ex__', '__repr__', '__rfloordiv__', '__rlshift__', '__rmod__', '__rmul__', '__ror__', '__round__', '__rpow__', '__rrshift__', '__rshift__', '__rsub__', '__rtruediv__', '__rxor__', '__setattr__', '__sizeof__', '__str__', '__sub__', '__subclasshook__', '__truediv__', '__trunc__', '__xor__', 'as_integer_ratio', 'bit_count', 'bit_length', 'conjugate', 'denominator', 'from_bytes', 'imag', 'numerator', 'real', 'to_bytes']\n"
     ]
    }
   ],
   "source": [
    "print(f\"{dir(10) = }\")"
   ]
  },
  {
   "cell_type": "markdown",
   "metadata": {},
   "source": [
    "In the above example, value `10` is behaving like an object, with multiple attributes exposed to the world."
   ]
  },
  {
   "cell_type": "markdown",
   "metadata": {},
   "source": [
    "Now lets do the same to a function and validate if that also behaves the same.\n",
    "\n",
    "In the below example, we are creating a function `test_function` and then passed it to functions `id` and `dir` similar to what we did with the variable `a`."
   ]
  },
  {
   "cell_type": "code",
   "execution_count": 6,
   "metadata": {},
   "outputs": [],
   "source": [
    "def test_function():\n",
    "    \"\"\"Test Function.\n",
    "    \n",
    "    This is just a test function.\n",
    "    \"\"\"\n",
    "    pass\n"
   ]
  },
  {
   "cell_type": "code",
   "execution_count": 9,
   "metadata": {},
   "outputs": [
    {
     "name": "stdout",
     "output_type": "stream",
     "text": [
      "140628692846688 140628692846688 True\n"
     ]
    }
   ],
   "source": [
    "tf = test_function\n",
    "\n",
    "print(id(test_function), id(tf), test_function is tf)"
   ]
  },
  {
   "cell_type": "code",
   "execution_count": 11,
   "metadata": {},
   "outputs": [
    {
     "name": "stdout",
     "output_type": "stream",
     "text": [
      "['__annotations__', '__builtins__', '__call__', '__class__', '__closure__', '__code__', '__defaults__', '__delattr__', '__dict__', '__dir__', '__doc__', '__eq__', '__format__', '__ge__', '__get__', '__getattribute__', '__globals__', '__gt__', '__hash__', '__init__', '__init_subclass__', '__kwdefaults__', '__le__', '__lt__', '__module__', '__name__', '__ne__', '__new__', '__qualname__', '__reduce__', '__reduce_ex__', '__repr__', '__setattr__', '__sizeof__', '__str__', '__subclasshook__']\n"
     ]
    }
   ],
   "source": [
    "print(dir(test_function))"
   ]
  },
  {
   "cell_type": "code",
   "execution_count": 11,
   "metadata": {},
   "outputs": [
    {
     "name": "stdout",
     "output_type": "stream",
     "text": [
      "<class 'function'>\n"
     ]
    }
   ],
   "source": [
    "print(type(tf))"
   ]
  },
  {
   "cell_type": "markdown",
   "metadata": {},
   "source": [
    "We saw, that function also behaved the same way as an data, It also had a memory location identified for it and exposes various attributes to the world. Lets check few of them "
   ]
  },
  {
   "cell_type": "code",
   "execution_count": 13,
   "metadata": {},
   "outputs": [
    {
     "name": "stdout",
     "output_type": "stream",
     "text": [
      "['__new__', '__repr__', '__call__', '__get__', '__closure__', '__doc__', '__globals__', '__module__', '__builtins__', '__code__', '__defaults__', '__kwdefaults__', '__annotations__', '__dict__', '__name__', '__qualname__', '__hash__', '__str__', '__getattribute__', '__setattr__', '__delattr__', '__lt__', '__le__', '__eq__', '__ne__', '__gt__', '__ge__', '__init__', '__reduce_ex__', '__reduce__', '__getstate__', '__subclasshook__', '__init_subclass__', '__format__', '__sizeof__', '__dir__', '__class__']\n"
     ]
    }
   ],
   "source": [
    "print(test_function.__dir__())"
   ]
  },
  {
   "cell_type": "code",
   "execution_count": 14,
   "metadata": {},
   "outputs": [
    {
     "name": "stdout",
     "output_type": "stream",
     "text": [
      "Test Function.\n",
      "    \n",
      "    This is just a test function.\n",
      "    \n"
     ]
    }
   ],
   "source": [
    "\n",
    "print(test_function.__doc__)"
   ]
  },
  {
   "cell_type": "code",
   "execution_count": 19,
   "metadata": {},
   "outputs": [
    {
     "name": "stdout",
     "output_type": "stream",
     "text": [
      "test_function\n"
     ]
    }
   ],
   "source": [
    "print(test_function.__qualname__)"
   ]
  },
  {
   "cell_type": "code",
   "execution_count": 16,
   "metadata": {},
   "outputs": [
    {
     "name": "stdout",
     "output_type": "stream",
     "text": [
      "<class 'function'>\n"
     ]
    }
   ],
   "source": [
    "\n",
    "print(test_function.__class__)"
   ]
  },
  {
   "cell_type": "code",
   "execution_count": null,
   "metadata": {},
   "outputs": [],
   "source": []
  },
  {
   "cell_type": "markdown",
   "metadata": {},
   "source": [
    "## Pure function"
   ]
  },
  {
   "cell_type": "markdown",
   "metadata": {},
   "source": [
    "One of the main feature of functional programming is `pure functions`. Lets find out what is `pure function`.\n",
    "\n",
    "As per definition, pure function is a function which has no side effects and for the same input returns same output every time and is not dependent on any other information. As we have already discussed about them in previous chapter, we are going to skip it."
   ]
  },
  {
   "cell_type": "markdown",
   "metadata": {},
   "source": [
    "## higher-order function"
   ]
  },
  {
   "cell_type": "markdown",
   "metadata": {},
   "source": [
    "Python also supports higher-order functions, meaning that functions can \n",
    "- accept other functions as arguments and \n",
    "- return functions to the caller"
   ]
  },
  {
   "cell_type": "markdown",
   "metadata": {},
   "source": [
    "What that means is we can construct complex functions from existing functions and customize existing functions as per our needs. "
   ]
  },
  {
   "cell_type": "markdown",
   "metadata": {},
   "source": [
    "### Functions accept other functions as argument"
   ]
  },
  {
   "cell_type": "markdown",
   "metadata": {},
   "source": [
    "Lets take example of simple example, In the below function, we have requirement of processing the value with unique logic and then pass the resultant value to different functions based on requirement."
   ]
  },
  {
   "cell_type": "code",
   "execution_count": 22,
   "metadata": {
    "scrolled": true
   },
   "outputs": [],
   "source": [
    "def done(val, func):\n",
    "    val *= 2\n",
    "    return func(val)"
   ]
  },
  {
   "cell_type": "code",
   "execution_count": 23,
   "metadata": {},
   "outputs": [],
   "source": [
    "def square(val):\n",
    "    return val**2\n",
    "\n",
    "def increment(val):\n",
    "    return val + 1"
   ]
  },
  {
   "cell_type": "markdown",
   "metadata": {},
   "source": [
    "In the above example, we have three functions, `done`, `square` and `increment`. \n",
    "- `done` takes two argument, `val` and `func`\n",
    "- `square` & `increment` takes one val argument each\n",
    "\n",
    "Since, both `square` & `increment` take one argument, they both can be passed to `done` and in both the cases the behaviour of `done` will change depending upon the `behaviour` of passed function.\n",
    "\n",
    "Lets try it out."
   ]
  },
  {
   "cell_type": "code",
   "execution_count": 24,
   "metadata": {},
   "outputs": [
    {
     "name": "stdout",
     "output_type": "stream",
     "text": [
      "400\n"
     ]
    }
   ],
   "source": [
    "print(done(10, square))  # square(10 * 2)"
   ]
  },
  {
   "cell_type": "markdown",
   "metadata": {},
   "source": [
    "the reason we got `400` is due to the fact that square returns `square` of the number passed to it. In our case we passed `10` to done, which increased it to `20` before passing it to `square` function and inturn received square of `20` which equals to `400`."
   ]
  },
  {
   "cell_type": "code",
   "execution_count": 25,
   "metadata": {},
   "outputs": [
    {
     "name": "stdout",
     "output_type": "stream",
     "text": [
      "21\n"
     ]
    }
   ],
   "source": [
    "print(done(10, increment))  #  10 * 2 + 1"
   ]
  },
  {
   "cell_type": "markdown",
   "metadata": {},
   "source": [
    "the reason we got `21` is due to the fact that `increment` returns one move value than the number passed to it. In our case we passed `10` to `done`, which increased it to `20` before passing it to `increment` function and inturn received `21` from `increment`."
   ]
  },
  {
   "cell_type": "markdown",
   "metadata": {},
   "source": [
    "### Nested Functions"
   ]
  },
  {
   "cell_type": "markdown",
   "metadata": {},
   "source": [
    "Python allows function(s) to be defined within the scope of another function. In this type of setting the inner function is only in scope inside the outer function, thus inner functions are returned (without executing) or passed into another function for more processing.\n",
    "\n",
    "In the below example, a new instance of the function `inner()` is created on each call to `outer()`. That is because it is defined during the execution of `outer()`. The creation of the second instance has no impact on the first."
   ]
  },
  {
   "cell_type": "markdown",
   "metadata": {},
   "source": [
    "So, we have two functions, `outer` and `inner`. `outer` function returns the instance of `inner` function and inner function performs some operations on the values provided and returns them."
   ]
  },
  {
   "cell_type": "code",
   "execution_count": 26,
   "metadata": {},
   "outputs": [],
   "source": [
    "def outer(a):\n",
    "    \"\"\"\n",
    "    Outer function \n",
    "    \"\"\"\n",
    "    y = 20\n",
    "    \n",
    "    def inner(x):\n",
    "        \"\"\"\n",
    "        inner function\n",
    "        \"\"\"\n",
    "        z = y + x * a\n",
    "        return(z)\n",
    "    \n",
    "    print(a)\n",
    "    return inner"
   ]
  },
  {
   "cell_type": "code",
   "execution_count": 28,
   "metadata": {},
   "outputs": [
    {
     "name": "stdout",
     "output_type": "stream",
     "text": [
      "10\n",
      "20\n"
     ]
    }
   ],
   "source": [
    "my_out = outer(10)  # a->10, y = 20, my_out -> inner\n",
    "\n",
    "my_out_2 = outer(20) # a->20, y = 20, my_out -> inner"
   ]
  },
  {
   "cell_type": "code",
   "execution_count": 30,
   "metadata": {},
   "outputs": [
    {
     "name": "stdout",
     "output_type": "stream",
     "text": [
      "my_out: <function outer.<locals>.inner at 0x7fe6ab484d60>\n",
      "my_out_2: <function outer.<locals>.inner at 0x7fe6ab427e20>\n"
     ]
    }
   ],
   "source": [
    "print(\"my_out:\", my_out)\n",
    "print(\"my_out_2:\", my_out_2)"
   ]
  },
  {
   "cell_type": "code",
   "execution_count": 31,
   "metadata": {},
   "outputs": [
    {
     "name": "stdout",
     "output_type": "stream",
     "text": [
      "False\n",
      "False\n"
     ]
    }
   ],
   "source": [
    "# They are not same or have same value\n",
    "print(my_out == my_out_2)\n",
    "\n",
    "print(my_out is my_out_2)"
   ]
  },
  {
   "cell_type": "markdown",
   "metadata": {},
   "source": [
    "In the above example, `my_out` contains the address of the instance of `inner` function when value of `a` is `102`. Lets check that out by just printing `my_out`"
   ]
  },
  {
   "cell_type": "code",
   "execution_count": 32,
   "metadata": {},
   "outputs": [
    {
     "data": {
      "text/plain": [
       "70"
      ]
     },
     "execution_count": 32,
     "metadata": {},
     "output_type": "execute_result"
    }
   ],
   "source": [
    "my_out(5)  \n",
    "# = 20 + (5 * 10) -> 20 + 50 -> 70"
   ]
  },
  {
   "cell_type": "code",
   "execution_count": 39,
   "metadata": {
    "scrolled": true
   },
   "outputs": [
    {
     "data": {
      "text/plain": [
       "220"
      ]
     },
     "execution_count": 39,
     "metadata": {},
     "output_type": "execute_result"
    }
   ],
   "source": [
    "my_out_2(10)\n",
    "# = 20 + (10 * 20) -> 20 + 200 -> 220"
   ]
  },
  {
   "cell_type": "markdown",
   "metadata": {},
   "source": [
    "Now, lets perform some operations on it by passing values to `my_out`."
   ]
  },
  {
   "cell_type": "code",
   "execution_count": 34,
   "metadata": {},
   "outputs": [
    {
     "name": "stdout",
     "output_type": "stream",
     "text": [
      "i = 0 my_out returns:  20\n",
      "i = 1 my_out returns:  30\n",
      "i = 2 my_out returns:  40\n",
      "i = 3 my_out returns:  50\n",
      "i = 4 my_out returns:  60\n"
     ]
    }
   ],
   "source": [
    "for i in range(5):\n",
    "    print(\"i =\", i, \"my_out returns: \", my_out(i))"
   ]
  },
  {
   "cell_type": "markdown",
   "metadata": {},
   "source": [
    "In above for `loop` execution, value of `a` has remained constant and value of `x` has changed as shown in the below calculations. "
   ]
  },
  {
   "cell_type": "code",
   "execution_count": 14,
   "metadata": {},
   "outputs": [
    {
     "data": {
      "text/plain": [
       "True"
      ]
     },
     "execution_count": 14,
     "metadata": {},
     "output_type": "execute_result"
    }
   ],
   "source": [
    "20 + 0 * 10 == 20"
   ]
  },
  {
   "cell_type": "code",
   "execution_count": 15,
   "metadata": {},
   "outputs": [
    {
     "data": {
      "text/plain": [
       "True"
      ]
     },
     "execution_count": 15,
     "metadata": {},
     "output_type": "execute_result"
    }
   ],
   "source": [
    "20 + 1 * 10 == 30"
   ]
  },
  {
   "cell_type": "code",
   "execution_count": 13,
   "metadata": {},
   "outputs": [
    {
     "data": {
      "text/plain": [
       "True"
      ]
     },
     "execution_count": 13,
     "metadata": {},
     "output_type": "execute_result"
    }
   ],
   "source": [
    "20 + 2 * 10 == 40"
   ]
  },
  {
   "cell_type": "code",
   "execution_count": 14,
   "metadata": {},
   "outputs": [
    {
     "data": {
      "text/plain": [
       "True"
      ]
     },
     "execution_count": 14,
     "metadata": {},
     "output_type": "execute_result"
    }
   ],
   "source": [
    "20 +  3 * 10 == 50"
   ]
  },
  {
   "cell_type": "code",
   "execution_count": 13,
   "metadata": {},
   "outputs": [
    {
     "data": {
      "text/plain": [
       "False"
      ]
     },
     "execution_count": 13,
     "metadata": {},
     "output_type": "execute_result"
    }
   ],
   "source": [
    "20 +  4 * 10 == 60"
   ]
  },
  {
   "cell_type": "markdown",
   "metadata": {},
   "source": [
    "**Note** in all the above exeuction, we have used the same instance of outer. Now lets create another instance of outer and try the above code. \n",
    "\n",
    "Also note, that we have returned the address of inner functions instance and not executed the inner function while returning. The returned inner function gets executed later in the code."
   ]
  },
  {
   "cell_type": "code",
   "execution_count": 35,
   "metadata": {},
   "outputs": [
    {
     "name": "stdout",
     "output_type": "stream",
     "text": [
      "2\n"
     ]
    }
   ],
   "source": [
    "my_out_2 = outer(2)"
   ]
  },
  {
   "cell_type": "code",
   "execution_count": 36,
   "metadata": {
    "scrolled": true
   },
   "outputs": [
    {
     "name": "stdout",
     "output_type": "stream",
     "text": [
      "20\n",
      "22\n",
      "24\n",
      "26\n",
      "28\n"
     ]
    }
   ],
   "source": [
    "for i in range(5):\n",
    "    print(my_out_2(i))"
   ]
  },
  {
   "cell_type": "markdown",
   "metadata": {},
   "source": [
    "Now, we have two instances of `outer` with different values of `a` thus returns they both return different values for same set of code (except where we updated the value of `a`)."
   ]
  },
  {
   "cell_type": "code",
   "execution_count": 25,
   "metadata": {},
   "outputs": [],
   "source": [
    "def outer(a):\n",
    "    \"\"\"\n",
    "    Outer function \n",
    "    \"\"\"\n",
    "    y = 0\n",
    "    \n",
    "    def inner(x, *, y=y, a=a):\n",
    "        \"\"\"\n",
    "        inner function\n",
    "        \"\"\"\n",
    "        a = a * a\n",
    "        y = x * a\n",
    "        return(y)\n",
    "    \n",
    "    print(a)\n",
    "    return inner"
   ]
  },
  {
   "cell_type": "code",
   "execution_count": 27,
   "metadata": {},
   "outputs": [
    {
     "name": "stdout",
     "output_type": "stream",
     "text": [
      "2\n",
      "4538623312 0\n",
      "4538623312 4\n",
      "4538623312 8\n",
      "4538623312 12\n",
      "4538623312 16\n"
     ]
    }
   ],
   "source": [
    "# `my_out_2` is a partially pre poluated function\n",
    "\n",
    "my_out_2 = outer(2)\n",
    "try:\n",
    "    for i in range(5):\n",
    "        print(id(my_out_2), my_out_2(i))\n",
    "except UnboundLocalError as ule:\n",
    "    print(ule)"
   ]
  },
  {
   "cell_type": "markdown",
   "metadata": {},
   "source": [
    "as soon as, assination operator is applied to the variable which is in different scope, it no longer able to access it as shown in the example above."
   ]
  },
  {
   "cell_type": "markdown",
   "metadata": {},
   "source": [
    "Lets take another example, and see what happens when we have identifiers with same name in differnet scopes"
   ]
  },
  {
   "cell_type": "code",
   "execution_count": 45,
   "metadata": {},
   "outputs": [
    {
     "name": "stdout",
     "output_type": "stream",
     "text": [
      "inner: 2\n",
      "outer: 1\n",
      "inner: 2\n",
      "global: 0\n"
     ]
    }
   ],
   "source": [
    "x = 0\n",
    "\n",
    "def outer():\n",
    "    x = 1\n",
    "    def inner():\n",
    "        x = 2\n",
    "        print(\"inner:\", x)\n",
    "\n",
    "    inner()\n",
    "    print(\"outer:\", x)\n",
    "    inner()\n",
    "\n",
    "outer()\n",
    "print(\"global:\", x)"
   ]
  },
  {
   "cell_type": "markdown",
   "metadata": {},
   "source": [
    "### Effects of Inner function and Global Variables."
   ]
  },
  {
   "cell_type": "code",
   "execution_count": 20,
   "metadata": {},
   "outputs": [
    {
     "name": "stdout",
     "output_type": "stream",
     "text": [
      "inner: 2 139894577924432\n",
      "outer: 1 139894577924400\n",
      "global: 2 139894577924432\n"
     ]
    }
   ],
   "source": [
    "# global var\n",
    "x = 0\n",
    "\n",
    "def outer():\n",
    "    # Here `x` is a local variable to `outer` function\n",
    "    x = 1\n",
    "    def inner():\n",
    "        # global allows me to access global variable `x`\n",
    "        global x\n",
    "        x = 2\n",
    "        print(\"inner:\", x, id(x))\n",
    "\n",
    "    inner()\n",
    "    print(\"outer:\", x, id(x))\n",
    "\n",
    "outer()\n",
    "print(\"global:\", x, id(x))\n"
   ]
  },
  {
   "cell_type": "code",
   "execution_count": 22,
   "metadata": {},
   "outputs": [
    {
     "name": "stdout",
     "output_type": "stream",
     "text": [
      "Welcome a=10\n"
     ]
    }
   ],
   "source": [
    "# Funny Stuff: Accessing global variables without using \n",
    "# `global` keyword\n",
    "\n",
    "a = 10\n",
    "\n",
    "def welcome():\n",
    "    print(f\"Welcome {a=}\")\n",
    "\n",
    "welcome()"
   ]
  },
  {
   "cell_type": "code",
   "execution_count": 50,
   "metadata": {},
   "outputs": [
    {
     "name": "stdout",
     "output_type": "stream",
     "text": [
      "local variable 'a' referenced before assignment\n"
     ]
    }
   ],
   "source": [
    "a = 10\n",
    "\n",
    "def welcome():\n",
    "    try:\n",
    "        a = a + 10\n",
    "        print(f\"Welcome {a}\")\n",
    "    except Exception as e:\n",
    "        print(e)\n",
    "welcome()"
   ]
  },
  {
   "cell_type": "markdown",
   "metadata": {},
   "source": [
    "now we have following scenarious, "
   ]
  },
  {
   "cell_type": "markdown",
   "metadata": {},
   "source": [
    "- Where we want outer.x is independent of global `x` but `inner.x` points to global `x` "
   ]
  },
  {
   "cell_type": "code",
   "execution_count": 19,
   "metadata": {},
   "outputs": [
    {
     "name": "stdout",
     "output_type": "stream",
     "text": [
      "inner: 2\n",
      "outer: 1\n",
      "global: 2\n"
     ]
    }
   ],
   "source": [
    "# Here `global` keyword will come to our rescue.\n",
    "\n",
    "# global var\n",
    "x = 0\n",
    "\n",
    "def outer():\n",
    "    x = 1\n",
    "    def inner():\n",
    "        # global allows me to access global variable `x`\n",
    "        global x\n",
    "        x = 2\n",
    "        print(\"inner:\", x)\n",
    "\n",
    "    inner()\n",
    "    print(\"outer:\", x)\n",
    "\n",
    "outer()\n",
    "print(\"global:\", x)\n"
   ]
  },
  {
   "cell_type": "markdown",
   "metadata": {},
   "source": [
    "- Where we want outer.x is also to point to global `x` "
   ]
  },
  {
   "cell_type": "code",
   "execution_count": 37,
   "metadata": {},
   "outputs": [
    {
     "name": "stdout",
     "output_type": "stream",
     "text": [
      "inner x: 1\n",
      "inner: 2\n",
      "outer: 2\n",
      "global: 2\n"
     ]
    }
   ],
   "source": [
    "# global var\n",
    "x = 0\n",
    "\n",
    "def outer():\n",
    "    global x\n",
    "    x = 1\n",
    "    print(\"inner x:\", x)\n",
    "    \n",
    "    def inner():\n",
    "        # global allows me to access global variable `x`\n",
    "        global x\n",
    "        x = 2\n",
    "        print(\"inner:\", x)\n",
    "\n",
    "    inner()\n",
    "    print(\"outer:\", x)\n",
    "\n",
    "outer()\n",
    "print(\"global:\", x)\n"
   ]
  },
  {
   "cell_type": "markdown",
   "metadata": {},
   "source": [
    "- Where we want `inner.x` should be pointing to `outer.x` "
   ]
  },
  {
   "cell_type": "code",
   "execution_count": 30,
   "metadata": {},
   "outputs": [
    {
     "name": "stdout",
     "output_type": "stream",
     "text": [
      "3\n"
     ]
    }
   ],
   "source": [
    "g_no = 10\n",
    "\n",
    "def Sample():\n",
    "    g_no = 12\n",
    "    def sample2():\n",
    "        g_no = 3\n",
    "        print(g_no)\n",
    "    \n",
    "    return sample2()\n",
    "d = Sample()"
   ]
  },
  {
   "cell_type": "code",
   "execution_count": 36,
   "metadata": {},
   "outputs": [
    {
     "name": "stdout",
     "output_type": "stream",
     "text": [
      "12\n",
      "3\n"
     ]
    }
   ],
   "source": [
    "g_no = 10\n",
    "\n",
    "def Sample():\n",
    "    g_no = 12\n",
    "    def sample2():\n",
    "        nonlocal g_no\n",
    "        g_no = 3\n",
    "        print(g_no)\n",
    "    print(g_no)\n",
    "    return sample2()\n",
    "    \n",
    "d = Sample()"
   ]
  },
  {
   "cell_type": "markdown",
   "metadata": {},
   "source": [
    "#### Problem with `local` and `global`"
   ]
  },
  {
   "cell_type": "markdown",
   "metadata": {},
   "source": [
    "Lets take the above example, we have two functions, `outer` & `inner`. We also have `x` variable which is present as `global` and also present in both the functions.\n",
    "\n",
    "If we want to access `x` of `outer` function from `inner` function than `global` keyword not help. Fortunately, Python provides a keyword `nonlocal` which allows `inner` functions to access variables to `outer` functions as shown in below example. \n",
    "\n",
    "The details of nonlocal are details in https://www.python.org/dev/peps/pep-3104/"
   ]
  },
  {
   "cell_type": "code",
   "execution_count": 3,
   "metadata": {},
   "outputs": [
    {
     "name": "stdout",
     "output_type": "stream",
     "text": [
      "outer before inner: 1, id 115903482308912\n",
      "inner: 2, id 115903482308944\n",
      "outer after inner: 2, id 115903482308944\n",
      "Global: 0, id 115903482308880\n"
     ]
    }
   ],
   "source": [
    "# global variable\n",
    "x = 0\n",
    "\n",
    "def outer():\n",
    "    # nonlocal variable\n",
    "    x = 1\n",
    "    print(f\"outer before inner: {x}, id {id(x)}\")\n",
    "    \n",
    "    def inner():\n",
    "        nonlocal x\n",
    "        x = 2\n",
    "        print(f\"inner: {x}, id {id(x)}\")\n",
    "\n",
    "    inner()\n",
    "    print(f\"outer after inner: {x}, id {id(x)}\")\n",
    "\n",
    "outer()\n",
    "print(f\"Global: {x}, id {id(x)}\")"
   ]
  },
  {
   "cell_type": "code",
   "execution_count": 32,
   "metadata": {},
   "outputs": [
    {
     "name": "stdout",
     "output_type": "stream",
     "text": [
      "1: super_outer: 1, id 139894577924400\n",
      "2: outer: 1, id 139894577924400\n",
      "3: inner: 2, id 139894577924432\n",
      "2.1: outer: 2, id 139894577924432\n",
      "1.1: super_outer: 2, id 139894577924432\n",
      "global: 0 id: 139894577924368\n"
     ]
    }
   ],
   "source": [
    "# global variable\n",
    "x = 0\n",
    "\n",
    "def super_outer():\n",
    "    # Local Variable which will be used by `inner` \n",
    "    # due to the nonlocal keyword used in `inner` \n",
    "    # with variable `x`\n",
    "    x = 1\n",
    "    print(f\"1: super_outer: {x}, id {id(x)}\")\n",
    "    \n",
    "    def outer():\n",
    "        # As we do not have any assignation statement in `outer` \n",
    "        # with respect to `x` so it will get the details from `x`\n",
    "        # of `super_outer`. READ ONLY `x`\n",
    "        \n",
    "        print(f\"2: outer: {x}, id {id(x)}\")\n",
    "        \n",
    "        def inner():\n",
    "            \n",
    "            nonlocal x\n",
    "            x = 2\n",
    "            print(f\"3: inner: {x}, id {id(x)}\")\n",
    "\n",
    "        inner()\n",
    "        print(f\"2.1: outer: {x}, id {id(x)}\")\n",
    "    \n",
    "    outer()\n",
    "    print(f\"1.1: super_outer: {x}, id {id(x)}\")\n",
    "    \n",
    "super_outer()\n",
    "print(\"global:\",x, \"id:\", id(x))\n"
   ]
  },
  {
   "cell_type": "markdown",
   "metadata": {},
   "source": [
    "We need to assign a non global variable `x` in outer functions, before we can consume it. Otherwise it will result in `SyntaxError` as shown in the example below\n",
    "\n",
    "```python\n",
    "# global variable\n",
    "x = 0\n",
    "\n",
    "def super_outer():\n",
    "    print(\"1: super_outer:\", x, \"id:\", id(x))\n",
    "    def outer():\n",
    "        print(\"nonlocal:\", x, \"id:\", id(x))\n",
    "        \n",
    "        def inner():\n",
    "            try:\n",
    "                nonlocal x\n",
    "                x = 2\n",
    "                print(\"inner:\", x, \"id:\", id(x))\n",
    "            except Exception as e:\n",
    "                print(e)\n",
    "\n",
    "        inner()\n",
    "        print(\"outer:\", x, \"id:\", id(x))\n",
    "    \n",
    "    outer()\n",
    "    print(\"2: super_outer:\", x, \"id:\", id(x))\n",
    "\n",
    "try:\n",
    "    super_outer()\n",
    "    print(\"global:\",x, \"id:\", id(x))\n",
    "except Exception as e:\n",
    "    print(e)\n",
    "```\n",
    "**Output**\n",
    "```\n",
    "  File \"<ipython-input-36-6e6458a0211e>\", line 11\n",
    "    nonlocal x\n",
    "    ^\n",
    "SyntaxError: no binding for nonlocal 'x' found\n",
    "```"
   ]
  },
  {
   "cell_type": "code",
   "execution_count": 9,
   "metadata": {},
   "outputs": [
    {
     "name": "stdout",
     "output_type": "stream",
     "text": [
      "local variable 'x' referenced before assignment\n"
     ]
    }
   ],
   "source": [
    "# Assignation of the nonlocal variable x in outer functions, \n",
    "# should be before we can consume it inner function. \n",
    "# Otherwise it will result in \n",
    "# ```local variable 'x' referenced before assignment```\n",
    "# as shown in the example below\n",
    "\n",
    "# global variable\n",
    "x = 0\n",
    "\n",
    "def super_outer():\n",
    "    print(\"1: super_outer:\", x, \"id:\", id(x))\n",
    "    def outer():\n",
    "        print(\"nonlocal:\", x, \"id:\", id(x))\n",
    "\n",
    "        def inner():\n",
    "            try:\n",
    "                nonlocal x\n",
    "                x = 2\n",
    "                print(\"inner:\", x, \"id:\", id(x))\n",
    "            except Exception as e:\n",
    "                print(e)\n",
    "\n",
    "        inner()\n",
    "        print(\"outer:\", x, \"id:\", id(x))\n",
    "\n",
    "    outer()\n",
    "    x = 200\n",
    "    print(\"2: super_outer:\", x, \"id:\", id(x))\n",
    "\n",
    "try:\n",
    "    super_outer()\n",
    "    print(\"global:\",x, \"id:\", id(x))\n",
    "except Exception as e:\n",
    "    print(e)"
   ]
  },
  {
   "cell_type": "code",
   "execution_count": 32,
   "metadata": {
    "scrolled": true
   },
   "outputs": [],
   "source": [
    "def outer(a):\n",
    "    \"\"\"\n",
    "    Outer function \n",
    "    \"\"\"\n",
    "    PI = 3.1415\n",
    "    \n",
    "    def inner(x):\n",
    "        \"\"\"\n",
    "        inner function\n",
    "        \"\"\"\n",
    "        nonlocal PI\n",
    "        print(PI)\n",
    "        y = x * PI * a \n",
    "        return(\"y =\" + str(y))\n",
    "    \n",
    "    print(a)\n",
    "    return inner"
   ]
  },
  {
   "cell_type": "code",
   "execution_count": 21,
   "metadata": {
    "scrolled": true
   },
   "outputs": [
    {
     "name": "stdout",
     "output_type": "stream",
     "text": [
      "10\n",
      "20\n",
      "********************\n",
      "<function outer.<locals>.inner at 0x7fb18867a598>\n",
      "3.1415\n",
      "y =314.15000000000003\n",
      "********************\n",
      "<function outer.<locals>.inner at 0x7fb188621d90>\n",
      "3.1415\n",
      "y =628.3000000000001\n"
     ]
    }
   ],
   "source": [
    "ten = outer(10)\n",
    "second = outer(20)\n",
    "print(\"*\"*20)\n",
    "print(ten)\n",
    "print(ten(10))\n",
    "print(\"*\"*20)\n",
    "print(second)\n",
    "print(second(10))"
   ]
  },
  {
   "cell_type": "markdown",
   "metadata": {},
   "source": [
    "## Inner / Nested Functions - When to use "
   ]
  },
  {
   "cell_type": "markdown",
   "metadata": {},
   "source": [
    "### Encapsulation"
   ]
  },
  {
   "cell_type": "markdown",
   "metadata": {},
   "source": [
    "You use inner functions to protect them from anything happening outside of the function, meaning that they are hidden from the global scope."
   ]
  },
  {
   "cell_type": "code",
   "execution_count": 46,
   "metadata": {},
   "outputs": [
    {
     "name": "stdout",
     "output_type": "stream",
     "text": [
      "([1, 4, 7, 6, 6, 9], [1, 5, 9, 9, 10, 14])\n"
     ]
    }
   ],
   "source": [
    "def check_odd(val):\n",
    "    lst = []\n",
    "    \n",
    "    for i, a in enumerate(val):\n",
    "        lst.append(a + i)\n",
    "        \n",
    "    lst2 = []\n",
    "    for i, a in enumerate(lst):\n",
    "        lst2.append(a + i)\n",
    "        \n",
    "    return lst, lst2\n",
    "\n",
    "print(check_odd([1, 3, 5, 3, 2, 4]))"
   ]
  },
  {
   "cell_type": "code",
   "execution_count": 37,
   "metadata": {},
   "outputs": [
    {
     "name": "stdout",
     "output_type": "stream",
     "text": [
      "([1, 4, 7, 6, 6, 9], [1, 5, 9, 9, 10, 14])\n"
     ]
    }
   ],
   "source": [
    "# Optimized code using encapsulation\n",
    "\n",
    "def check_odd(val):\n",
    "    lst = []\n",
    "\n",
    "    def add_with_index(lst):\n",
    "        lst2 = []\n",
    "\n",
    "        for i, a in enumerate(lst):\n",
    "            lst2.append(a + i)\n",
    "        return lst2\n",
    "    \n",
    "    lst = add_with_index(val)\n",
    "    lst2 = add_with_index(lst)\n",
    "        \n",
    "    return lst, lst2\n",
    "\n",
    "print(check_odd([1, 3, 5, 3, 2, 4]))"
   ]
  },
  {
   "cell_type": "code",
   "execution_count": 39,
   "metadata": {},
   "outputs": [
    {
     "name": "stdout",
     "output_type": "stream",
     "text": [
      "[10, 11]\n"
     ]
    }
   ],
   "source": [
    "# Encapsulation\n",
    "\n",
    "def increment(current):\n",
    "    \n",
    "    def inner_increment(x):  # hidden from outer code\n",
    "        return x + 1\n",
    "    \n",
    "    next_number = inner_increment(current)\n",
    "    return [current, next_number]\n",
    "\n",
    "print(increment(10))"
   ]
  },
  {
   "cell_type": "markdown",
   "metadata": {},
   "source": [
    "> NOTE: \n",
    "> <hr/>\n",
    "> We cannot access directly the inner function as shown below"
   ]
  },
  {
   "cell_type": "code",
   "execution_count": 50,
   "metadata": {},
   "outputs": [
    {
     "name": "stdout",
     "output_type": "stream",
     "text": [
      "['__annotations__', '__call__', '__class__', '__closure__', '__code__', '__defaults__', '__delattr__', '__dict__', '__dir__', '__doc__', '__eq__', '__format__', '__ge__', '__get__', '__getattribute__', '__globals__', '__gt__', '__hash__', '__init__', '__init_subclass__', '__kwdefaults__', '__le__', '__lt__', '__module__', '__name__', '__ne__', '__new__', '__qualname__', '__reduce__', '__reduce_ex__', '__repr__', '__setattr__', '__sizeof__', '__str__', '__subclasshook__']\n",
      "'function' object has no attribute 'inner_increment'\n"
     ]
    }
   ],
   "source": [
    "try:\n",
    "    print(dir(increment))\n",
    "    increment.inner_increment(109)\n",
    "except Exception  as e:\n",
    "    print(e)"
   ]
  },
  {
   "cell_type": "markdown",
   "metadata": {},
   "source": [
    "### Following DRY (Don't Repeat Yourself)\n",
    "\n",
    "This type can be used if you have a section of code base in function is repeated in numerous places. For example, you might write a function which processes a file, and you want to accept either an open file object or a file name:"
   ]
  },
  {
   "cell_type": "code",
   "execution_count": 51,
   "metadata": {},
   "outputs": [
    {
     "name": "stdout",
     "output_type": "stream",
     "text": [
      "test\n",
      "test3\n",
      "t33\n",
      "Hello\n",
      "\n",
      "Guten Tag\n",
      "\n",
      "Junge\n",
      "\n",
      "\n",
      "\n"
     ]
    }
   ],
   "source": [
    "# Keepin’ it DRY\n",
    "import os\n",
    "\n",
    "def process(file_name):\n",
    "    if isinstance(file_name, str):\n",
    "        with open(file_name, 'r') as f:\n",
    "            for line in f.readlines():\n",
    "                print(line)\n",
    "    else:\n",
    "        for line in file_name:\n",
    "            print(line)\n",
    "        \n",
    "process([\"test\", \"test3\", \"t33\"])\n",
    "process(os.path.join(\"files\", \"process_me.txt\"))"
   ]
  },
  {
   "cell_type": "code",
   "execution_count": 40,
   "metadata": {},
   "outputs": [
    {
     "name": "stdout",
     "output_type": "stream",
     "text": [
      "test\n",
      "test3\n",
      "t33\n",
      "Hello\n",
      "\n",
      "Guten Tag\n",
      "\n",
      "Junge\n",
      "\n",
      "\n",
      "\n"
     ]
    }
   ],
   "source": [
    "# Keepin’ it DRY\n",
    "import os\n",
    "\n",
    "def process(data):\n",
    "    def do_stuff(file_process):\n",
    "        for line in file_process:\n",
    "            print(line)\n",
    "\n",
    "    if isinstance(data, str):\n",
    "        with open(data, 'r') as f:\n",
    "            do_stuff(f)\n",
    "    else:\n",
    "        do_stuff(data)\n",
    "        \n",
    "process([\"test\", \"test3\", \"t33\"])\n",
    "process(os.path.join(\"files\", \"process_me.txt\"))"
   ]
  },
  {
   "cell_type": "markdown",
   "metadata": {
    "collapsed": true
   },
   "source": [
    "or have similar logic which can be replaced by a function, such as mathematical functions, or code base which can be clubed by using some parameters.  "
   ]
  },
  {
   "cell_type": "code",
   "execution_count": 41,
   "metadata": {},
   "outputs": [
    {
     "name": "stdout",
     "output_type": "stream",
     "text": [
      "4\n"
     ]
    }
   ],
   "source": [
    "def square(n):\n",
    "    return n**2\n",
    "\n",
    "def cube(n):\n",
    "    return n**3\n",
    "\n",
    "print(square(2))"
   ]
  },
  {
   "cell_type": "code",
   "execution_count": 43,
   "metadata": {},
   "outputs": [
    {
     "name": "stdout",
     "output_type": "stream",
     "text": [
      "sqr(10, 2)=100\n",
      "sqr(10, 3)=1000\n"
     ]
    }
   ],
   "source": [
    "# still leaves something to be remembers as now I have to remember the use of `a` & `b`\n",
    "def sqr(num, exp):\n",
    "    return num**exp\n",
    "\n",
    "print(f\"{sqr(10, 2)=}\")\n",
    "print(f\"{sqr(10, 3)=}\")"
   ]
  },
  {
   "cell_type": "code",
   "execution_count": 45,
   "metadata": {},
   "outputs": [],
   "source": [
    "def power(exp):\n",
    "    def inner(num):\n",
    "        return num**exp\n",
    "    \n",
    "    return inner"
   ]
  },
  {
   "cell_type": "code",
   "execution_count": 46,
   "metadata": {},
   "outputs": [],
   "source": [
    "# Lets create the usable functions\n",
    "# here `square`, `hexa` & `cube` are partially populated \n",
    "# functions. \n",
    "\n",
    "square = power(2)\n",
    "hexa = power(6)\n",
    "cube = power(3)"
   ]
  },
  {
   "cell_type": "code",
   "execution_count": 12,
   "metadata": {},
   "outputs": [
    {
     "name": "stdout",
     "output_type": "stream",
     "text": [
      "<function power.<locals>.inner at 0x7f46bde423a0>\n",
      "<function power.<locals>.inner at 0x7f46bde424c0>\n"
     ]
    }
   ],
   "source": [
    "print(square)\n",
    "print(hexa)"
   ]
  },
  {
   "cell_type": "code",
   "execution_count": 49,
   "metadata": {},
   "outputs": [
    {
     "name": "stdout",
     "output_type": "stream",
     "text": [
      "25\n",
      "729\n"
     ]
    }
   ],
   "source": [
    "print(square(5))  # 5**2\n",
    "print(hexa(3))  # 3**6"
   ]
  },
  {
   "cell_type": "code",
   "execution_count": 52,
   "metadata": {},
   "outputs": [
    {
     "name": "stdout",
     "output_type": "stream",
     "text": [
      "729\n"
     ]
    }
   ],
   "source": [
    "# NOTE: Not recommended, due to readability.\n",
    "\n",
    "print(power(6)(3))  # print(hexa(3))  # 3**6"
   ]
  },
  {
   "cell_type": "code",
   "execution_count": 16,
   "metadata": {},
   "outputs": [
    {
     "name": "stdout",
     "output_type": "stream",
     "text": [
      "<function power.<locals>.inner at 0x7f46bde42790>\n"
     ]
    }
   ],
   "source": [
    "print(power(6))"
   ]
  },
  {
   "cell_type": "markdown",
   "metadata": {},
   "source": [
    "> ??? why code"
   ]
  },
  {
   "cell_type": "code",
   "execution_count": 62,
   "metadata": {},
   "outputs": [],
   "source": [
    "def test():\n",
    "    print(\"TEST TEST TEST\") \n",
    "    \n",
    "    def yes(name):\n",
    "        print(f\"Ja, {name}\")\n",
    "        return True\n",
    "    \n",
    "    return yes"
   ]
  },
  {
   "cell_type": "code",
   "execution_count": 64,
   "metadata": {},
   "outputs": [
    {
     "name": "stdout",
     "output_type": "stream",
     "text": [
      "TEST TEST TEST\n",
      "**************\n",
      "Ja, Murthy\n",
      "**************\n",
      "True\n"
     ]
    }
   ],
   "source": [
    "d = test()\n",
    "print(\"*\" * 14)\n",
    "a = d(\"Murthy\")\n",
    "print(\"*\" * 14)\n",
    "print(a)"
   ]
  },
  {
   "cell_type": "code",
   "execution_count": 65,
   "metadata": {},
   "outputs": [
    {
     "name": "stdout",
     "output_type": "stream",
     "text": [
      "4 2 3\n",
      "7\n",
      "4 2 10\n",
      "13\n"
     ]
    }
   ],
   "source": [
    "def a1(m):\n",
    "    x = m * 2\n",
    "\n",
    "    def b(v, t=None):\n",
    "        if t:\n",
    "            print(x, m, t)\n",
    "            return v + t\n",
    "        else:\n",
    "            print(x, m, v)\n",
    "            return v + x\n",
    "    return b\n",
    "n = a1(2)\n",
    "print(n(3))\n",
    "print(n(3, 10))"
   ]
  },
  {
   "cell_type": "markdown",
   "metadata": {},
   "source": [
    "Below code will not work as `f1` is not returning anything :). This is to show what can happen with one silly tab. Also it is one of the most common mistake. "
   ]
  },
  {
   "cell_type": "code",
   "execution_count": 67,
   "metadata": {},
   "outputs": [
    {
     "name": "stdout",
     "output_type": "stream",
     "text": [
      "'NoneType' object is not callable\n"
     ]
    }
   ],
   "source": [
    "def f1(a):\n",
    "    def f2(b):\n",
    "        return f2\n",
    "        def f3(c):\n",
    "            return f3\n",
    "            def f4(d):\n",
    "                return f4\n",
    "                def f5(e):\n",
    "                    return f5\n",
    "try:\n",
    "    print(f1(1)(2)(3)(4)(5)) \n",
    "except Exception as e:\n",
    "    print(e)"
   ]
  },
  {
   "cell_type": "markdown",
   "metadata": {},
   "source": [
    "The correct code is below"
   ]
  },
  {
   "cell_type": "code",
   "execution_count": 68,
   "metadata": {},
   "outputs": [
    {
     "name": "stdout",
     "output_type": "stream",
     "text": [
      "15\n"
     ]
    }
   ],
   "source": [
    "def f1(a):\n",
    "    def f2(b):\n",
    "        def f3(c):\n",
    "            def f4(d):\n",
    "                def f5(e):\n",
    "                    print(a + b + c + d + e)\n",
    "                return f5\n",
    "            return f4\n",
    "        return f3\n",
    "    return f2\n",
    "        \n",
    "f1(1)(2)(3)(4)(5)\n",
    "# f1 (1) -> f2 (1,2) -> f3 (1, 2, 3) -> f4 ( 1,2,3,4) -> f5  (1+2+3+4+5)=15 "
   ]
  },
  {
   "cell_type": "markdown",
   "metadata": {},
   "source": [
    "#### Closures & Factory Functions <sup>1</sup>\n",
    "\n",
    "They are techniques for implementing lexically scoped name binding with first-class functions. It is a record, storing a function together with an environment. a mapping associating each free variable of the function (variables that are used locally, but defined in an enclosing scope) with the value or reference to which the name was bound when the closure was created.\n",
    "\n",
    "A closure—unlike a plain function—allows the function to access those captured variables through the closure's copies of their values or references, even when the function is invoked outside their scope."
   ]
  },
  {
   "cell_type": "code",
   "execution_count": 14,
   "metadata": {},
   "outputs": [
    {
     "name": "stdout",
     "output_type": "stream",
     "text": [
      "<function f.<locals>.g at 0x10485c310> <function h.<locals>.<lambda> at 0x10485c1f0>\n"
     ]
    }
   ],
   "source": [
    "def f(x):\n",
    "    def g(y):\n",
    "        return x + y\n",
    "    return g\n",
    "\n",
    "def h(x):\n",
    "    return lambda y: x + y\n",
    "\n",
    "a = f(1)\n",
    "# a -> function g with values of x provided \n",
    "\n",
    "b = h(1)\n",
    "# b -> function lamda with values for x provided. \n",
    "\n",
    "print(a, b)"
   ]
  },
  {
   "cell_type": "code",
   "execution_count": 16,
   "metadata": {},
   "outputs": [
    {
     "name": "stdout",
     "output_type": "stream",
     "text": [
      "6 6\n",
      "6 6\n"
     ]
    }
   ],
   "source": [
    "\n",
    "print(a(5), b(5))\n",
    "\n",
    "print(f(1)(5), h(1)(5))"
   ]
  },
  {
   "cell_type": "markdown",
   "metadata": {},
   "source": [
    "both a and b are closures—or rather, variables with a closure as value—in both cases produced by returning a nested function with a free variable from an enclosing function, so that the free variable binds to the parameter x of the enclosing function. However, in the first case the nested function has a name, g, while in the second case the nested function is anonymous. The closures need not be assigned to a variable, and can be used directly, as in the last lines—the original name (if any) used in defining them is irrelevant. This usage may be deemed an \"anonymous closure\".\n",
    "\n",
    "**1: Copied from** : \"https://en.wikipedia.org/wiki/Closure_(computer_programming)\""
   ]
  },
  {
   "cell_type": "code",
   "execution_count": 34,
   "metadata": {},
   "outputs": [
    {
     "name": "stdout",
     "output_type": "stream",
     "text": [
      "22\n",
      "22\n"
     ]
    }
   ],
   "source": [
    "def make_adder(x):\n",
    "    def add(y):\n",
    "        return x + y\n",
    "    return add\n",
    "\n",
    "plus10 = make_adder(10)\n",
    "print(plus10(12))  # make_adder(10).add(12)\n",
    "print(make_adder(10)(12))"
   ]
  },
  {
   "cell_type": "markdown",
   "metadata": {},
   "source": [
    "Closures can avoid the use of global values and provides some form of data hiding. It can also provide an object oriented solution to the problem.\n",
    "\n",
    "When there are few methods (one method in most cases) to be implemented in a class, closures can provide an alternate and more elegant solutions. But when the number of attributes and methods get larger, better implement a class."
   ]
  },
  {
   "cell_type": "markdown",
   "metadata": {},
   "source": [
    "\n",
    "In functional programming, functions can be treated as objects. That is, they can assigned to a variable, can be passed as arguments or even returned from other functions."
   ]
  },
  {
   "cell_type": "code",
   "execution_count": 35,
   "metadata": {
    "scrolled": true
   },
   "outputs": [
    {
     "name": "stdout",
     "output_type": "stream",
     "text": [
      "140400728229376 ['__abs__', '__add__', '__and__', '__bool__', '__ceil__', '__class__', '__delattr__', '__dir__', '__divmod__', '__doc__', '__eq__', '__float__', '__floor__', '__floordiv__', '__format__', '__ge__', '__getattribute__', '__getnewargs__', '__gt__', '__hash__', '__index__', '__init__', '__init_subclass__', '__int__', '__invert__', '__le__', '__lshift__', '__lt__', '__mod__', '__mul__', '__ne__', '__neg__', '__new__', '__or__', '__pos__', '__pow__', '__radd__', '__rand__', '__rdivmod__', '__reduce__', '__reduce_ex__', '__repr__', '__rfloordiv__', '__rlshift__', '__rmod__', '__rmul__', '__ror__', '__round__', '__rpow__', '__rrshift__', '__rshift__', '__rsub__', '__rtruediv__', '__rxor__', '__setattr__', '__sizeof__', '__str__', '__sub__', '__subclasshook__', '__truediv__', '__trunc__', '__xor__', 'bit_length', 'conjugate', 'denominator', 'from_bytes', 'imag', 'numerator', 'real', 'to_bytes']\n",
      "140400474504864 ['__annotations__', '__call__', '__class__', '__closure__', '__code__', '__defaults__', '__delattr__', '__dict__', '__dir__', '__doc__', '__eq__', '__format__', '__ge__', '__get__', '__getattribute__', '__globals__', '__gt__', '__hash__', '__init__', '__init_subclass__', '__kwdefaults__', '__le__', '__lt__', '__module__', '__name__', '__ne__', '__new__', '__qualname__', '__reduce__', '__reduce_ex__', '__repr__', '__setattr__', '__sizeof__', '__str__', '__subclasshook__']\n"
     ]
    }
   ],
   "source": [
    "a = 10\n",
    "def test_function():\n",
    "    pass\n",
    "print(id(a), dir(a))\n",
    "print(id(test_function), dir(test_function))"
   ]
  },
  {
   "cell_type": "markdown",
   "metadata": {},
   "source": [
    "### The lambda"
   ]
  },
  {
   "cell_type": "markdown",
   "metadata": {},
   "source": [
    "The lambda operator or lambda function is a way to create small anonymous functions, i.e. functions without a name. These functions are throw-away functions, i.e. they are just needed where they have been created. Lambda functions are mainly used in combination with the functions `filter()`, `map()` and `reduce()`. The lambda feature was added to Python due to the demand from Lisp programmers.\n",
    "\n",
    "The general syntax of a lambda function is quite simple:\n",
    "\n",
    "`lambda argument_list: expression`\n",
    "\n",
    "The argument list consists of a comma separated list of arguments and the expression is an arithmetic expression using these arguments. You can assign the function to a variable to give it a name.\n",
    "The following example of a lambda function returns the sum of its two arguments: "
   ]
  },
  {
   "cell_type": "markdown",
   "metadata": {},
   "source": [
    "The simplest way to initialize a pure function in python is by using `lambda` keyword. It helps in defining an one-line function. \n",
    "\n",
    "Functions initialized with lambda are also called **anonymous functions**."
   ]
  },
  {
   "cell_type": "code",
   "execution_count": 20,
   "metadata": {},
   "outputs": [
    {
     "name": "stdout",
     "output_type": "stream",
     "text": [
      "200\n",
      "240\n",
      "<function <lambda> at 0x7f46bde42c10>\n",
      "<function <lambda> at 0x7f46bde428b0>\n"
     ]
    }
   ],
   "source": [
    "# Example lambda keyword\n",
    "multiply = lambda x, y: x * y\n",
    "\n",
    "print(multiply(10, 20))\n",
    "print(multiply(120, 2))\n",
    "print(lambda x, y: x * y)\n",
    "print(multiply)"
   ]
  },
  {
   "cell_type": "code",
   "execution_count": 21,
   "metadata": {},
   "outputs": [
    {
     "name": "stdout",
     "output_type": "stream",
     "text": [
      "['__annotations__', '__call__', '__class__', '__closure__', '__code__', '__defaults__', '__delattr__', '__dict__', '__dir__', '__doc__', '__eq__', '__format__', '__ge__', '__get__', '__getattribute__', '__globals__', '__gt__', '__hash__', '__init__', '__init_subclass__', '__kwdefaults__', '__le__', '__lt__', '__module__', '__name__', '__ne__', '__new__', '__qualname__', '__reduce__', '__reduce_ex__', '__repr__', '__setattr__', '__sizeof__', '__str__', '__subclasshook__']\n"
     ]
    }
   ],
   "source": [
    "print(dir(multiply))"
   ]
  },
  {
   "cell_type": "markdown",
   "metadata": {},
   "source": [
    "In the above example higher-order function that takes two inputs- A function `F(x)` and a multiplier `m`."
   ]
  },
  {
   "cell_type": "code",
   "execution_count": 22,
   "metadata": {
    "scrolled": true
   },
   "outputs": [
    {
     "name": "stdout",
     "output_type": "stream",
     "text": [
      "[[1, 2, 3], 4]\n"
     ]
    }
   ],
   "source": [
    "create_list = lambda x, y: [x, y]\n",
    "\n",
    "print(create_list([1, 2, 3], 4))"
   ]
  },
  {
   "cell_type": "code",
   "execution_count": 23,
   "metadata": {},
   "outputs": [
    {
     "name": "stdout",
     "output_type": "stream",
     "text": [
      "[{}, (2, 4)]\n"
     ]
    }
   ],
   "source": [
    "print(create_list({}, (2, 4)))"
   ]
  },
  {
   "cell_type": "code",
   "execution_count": 24,
   "metadata": {},
   "outputs": [],
   "source": [
    "multiply = lambda x, y: x * y\n",
    "\n",
    "sum_func = lambda F, m: lambda x, y: F(x, y) + m"
   ]
  },
  {
   "cell_type": "code",
   "execution_count": 29,
   "metadata": {},
   "outputs": [
    {
     "name": "stdout",
     "output_type": "stream",
     "text": [
      "14\n"
     ]
    }
   ],
   "source": [
    "print(sum_func(multiply, 6)(2, 4))"
   ]
  },
  {
   "cell_type": "markdown",
   "metadata": {},
   "source": [
    "```python\n",
    "14 = 2 * 4 + 6\n",
    "F -> product_func\n",
    "m => 6\n",
    "x -> 2\n",
    "y -> 4\n",
    "2 * 4 + 6 = 8 + 6 = 14\n",
    "```"
   ]
  },
  {
   "cell_type": "code",
   "execution_count": 27,
   "metadata": {},
   "outputs": [
    {
     "name": "stdout",
     "output_type": "stream",
     "text": [
      "<function <lambda> at 0x10c1ac790>\n"
     ]
    }
   ],
   "source": [
    "print(sum_func)"
   ]
  },
  {
   "cell_type": "code",
   "execution_count": 28,
   "metadata": {},
   "outputs": [
    {
     "name": "stdout",
     "output_type": "stream",
     "text": [
      "<function <lambda>.<locals>.<lambda> at 0x10c1acca0>\n"
     ]
    }
   ],
   "source": [
    "print(sum_func(multiply, 5))"
   ]
  },
  {
   "cell_type": "code",
   "execution_count": 77,
   "metadata": {
    "scrolled": true
   },
   "outputs": [
    {
     "name": "stdout",
     "output_type": "stream",
     "text": [
      "20\n"
     ]
    }
   ],
   "source": [
    "print(sum_func(multiply, 5)(3, 5))"
   ]
  },
  {
   "cell_type": "markdown",
   "metadata": {},
   "source": [
    "#### Use of Lambda Function"
   ]
  },
  {
   "cell_type": "markdown",
   "metadata": {},
   "source": [
    "We use lambda functions when we require a nameless function for a short period of time.\n",
    "\n",
    "In Python, we generally use it as an argument to a higher-order function (a function that takes in other functions as arguments). Lambda functions are used along with built-in functions like filter(), map() etc."
   ]
  },
  {
   "cell_type": "markdown",
   "metadata": {},
   "source": [
    "### Functions as Objects"
   ]
  },
  {
   "cell_type": "markdown",
   "metadata": {},
   "source": [
    "Functions are first-class objects in Python, meaning they have attributes and can be referenced and assigned to variables."
   ]
  },
  {
   "cell_type": "code",
   "execution_count": 69,
   "metadata": {},
   "outputs": [
    {
     "name": "stdout",
     "output_type": "stream",
     "text": [
      "100\n",
      "10000\n"
     ]
    }
   ],
   "source": [
    "def square(x):\n",
    "    \"\"\"\n",
    "    This returns the square of the requested number `x`\n",
    "    \"\"\"\n",
    "    return x**2\n",
    "\n",
    "\n",
    "print(square(10))\n",
    "print(square(100))"
   ]
  },
  {
   "cell_type": "markdown",
   "metadata": {},
   "source": [
    "In the above example, we created a function `square` and tested it against two values `10` and `100`. Now lets assign a variable to the above function and play with it."
   ]
  },
  {
   "cell_type": "code",
   "execution_count": 29,
   "metadata": {},
   "outputs": [
    {
     "name": "stdout",
     "output_type": "stream",
     "text": [
      "10000\n",
      "<function square at 0x104d02940>\n",
      "<function square at 0x104d02940>\n",
      "4375718208\n",
      "4375718208\n"
     ]
    }
   ],
   "source": [
    "# Assignation to another variable\n",
    "power = square\n",
    "print(power(100))\n",
    "print(square)\n",
    "print(power)\n",
    "print(id(square))\n",
    "print(id(power))"
   ]
  },
  {
   "cell_type": "markdown",
   "metadata": {},
   "source": [
    "In the above execution, we can see that both `power` and `square` are pointing to same function `square`.  "
   ]
  },
  {
   "cell_type": "code",
   "execution_count": 70,
   "metadata": {},
   "outputs": [
    {
     "name": "stdout",
     "output_type": "stream",
     "text": [
      "******************************\n",
      "power\n",
      "******************************\n",
      "__main__\n",
      "******************************\n",
      "\n",
      "    This returns the square of the requested number `x`\n",
      "    \n"
     ]
    }
   ],
   "source": [
    "# attributes present\n",
    "print(\"*\"*30)\n",
    "print(power.__name__)\n",
    "print(\"*\"*30)\n",
    "print(square.__module__)\n",
    "print(\"*\"*30)\n",
    "print(square.__doc__)"
   ]
  },
  {
   "cell_type": "markdown",
   "metadata": {},
   "source": [
    "we can see that functions also have attributes, we can see the list of attributes exposed by using the code with syntax `dir(<func_name>)`."
   ]
  },
  {
   "cell_type": "code",
   "execution_count": 71,
   "metadata": {},
   "outputs": [
    {
     "name": "stdout",
     "output_type": "stream",
     "text": [
      "['__annotations__', '__builtins__', '__call__', '__class__', '__closure__', '__code__', '__defaults__', '__delattr__', '__dict__', '__dir__', '__doc__', '__eq__', '__format__', '__ge__', '__get__', '__getattribute__', '__getstate__', '__globals__', '__gt__', '__hash__', '__init__', '__init_subclass__', '__kwdefaults__', '__le__', '__lt__', '__module__', '__name__', '__ne__', '__new__', '__qualname__', '__reduce__', '__reduce_ex__', '__repr__', '__setattr__', '__sizeof__', '__str__', '__subclasshook__']\n"
     ]
    }
   ],
   "source": [
    "print(dir(square))"
   ]
  },
  {
   "cell_type": "markdown",
   "metadata": {},
   "source": [
    "### Adding attributes to a function"
   ]
  },
  {
   "cell_type": "markdown",
   "metadata": {},
   "source": [
    "We can also add attributes to a function. In the below example we are addting attribute `d` to the function"
   ]
  },
  {
   "cell_type": "code",
   "execution_count": 73,
   "metadata": {},
   "outputs": [],
   "source": [
    "def square(x):\n",
    "    \"\"\"\n",
    "    This returns the square of the requested number `x`\n",
    "    \"\"\"\n",
    "    if('d' in square.__dict__):\n",
    "        return square.d * x\n",
    "    \n",
    "    return x**2"
   ]
  },
  {
   "cell_type": "code",
   "execution_count": 74,
   "metadata": {},
   "outputs": [
    {
     "name": "stdout",
     "output_type": "stream",
     "text": [
      "['__annotations__', '__builtins__', '__call__', '__class__', '__closure__', '__code__', '__defaults__', '__delattr__', '__dict__', '__dir__', '__doc__', '__eq__', '__format__', '__ge__', '__get__', '__getattribute__', '__getstate__', '__globals__', '__gt__', '__hash__', '__init__', '__init_subclass__', '__kwdefaults__', '__le__', '__lt__', '__module__', '__name__', '__ne__', '__new__', '__qualname__', '__reduce__', '__reduce_ex__', '__repr__', '__setattr__', '__sizeof__', '__str__', '__subclasshook__']\n"
     ]
    }
   ],
   "source": [
    "# No `d` attribure in the `square` function\n",
    "print(dir(square))"
   ]
  },
  {
   "cell_type": "code",
   "execution_count": 75,
   "metadata": {},
   "outputs": [
    {
     "name": "stdout",
     "output_type": "stream",
     "text": [
      "{}\n"
     ]
    }
   ],
   "source": [
    "print(square.__dict__)"
   ]
  },
  {
   "cell_type": "code",
   "execution_count": 76,
   "metadata": {},
   "outputs": [
    {
     "name": "stdout",
     "output_type": "stream",
     "text": [
      "400\n"
     ]
    }
   ],
   "source": [
    "print(square(20))"
   ]
  },
  {
   "cell_type": "code",
   "execution_count": 78,
   "metadata": {},
   "outputs": [
    {
     "name": "stdout",
     "output_type": "stream",
     "text": [
      "10\n"
     ]
    }
   ],
   "source": [
    "# Lets add `d` attribute\n",
    "\n",
    "square.d = 10\n",
    "\n",
    "print(square.d)"
   ]
  },
  {
   "cell_type": "code",
   "execution_count": 79,
   "metadata": {},
   "outputs": [
    {
     "name": "stdout",
     "output_type": "stream",
     "text": [
      "{'d': 10}\n"
     ]
    }
   ],
   "source": [
    "# `d` attribure in the `square` function\n",
    "print(square.__dict__)"
   ]
  },
  {
   "cell_type": "markdown",
   "metadata": {},
   "source": [
    "In the above example higher-order function that takes two inputs- A function `F(x)` and a multiplier `m`."
   ]
  },
  {
   "cell_type": "code",
   "execution_count": 82,
   "metadata": {},
   "outputs": [
    {
     "name": "stdout",
     "output_type": "stream",
     "text": [
      "200\n"
     ]
    }
   ],
   "source": [
    "print(square(20))"
   ]
  },
  {
   "cell_type": "code",
   "execution_count": 84,
   "metadata": {},
   "outputs": [],
   "source": [
    "def square(x, y = 0):\n",
    "    \"\"\"\n",
    "    This returns the square of the requested number `x`\n",
    "    \"\"\"\n",
    "    square.y = y\n",
    "    if('d' in square.__dict__):\n",
    "        return square.d * x\n",
    "    \n",
    "    return x**square.y"
   ]
  },
  {
   "cell_type": "code",
   "execution_count": 86,
   "metadata": {},
   "outputs": [
    {
     "name": "stdout",
     "output_type": "stream",
     "text": [
      "1\n"
     ]
    }
   ],
   "source": [
    "print(square(20))"
   ]
  },
  {
   "cell_type": "code",
   "execution_count": 88,
   "metadata": {},
   "outputs": [
    {
     "name": "stdout",
     "output_type": "stream",
     "text": [
      "400\n"
     ]
    }
   ],
   "source": [
    "print(square(20, 2))"
   ]
  },
  {
   "cell_type": "code",
   "execution_count": 95,
   "metadata": {},
   "outputs": [
    {
     "name": "stdout",
     "output_type": "stream",
     "text": [
      "460\n"
     ]
    }
   ],
   "source": [
    "square.d = 23\n",
    "print(square(20))"
   ]
  },
  {
   "cell_type": "code",
   "execution_count": 96,
   "metadata": {},
   "outputs": [
    {
     "name": "stdout",
     "output_type": "stream",
     "text": [
      "460\n"
     ]
    }
   ],
   "source": [
    "\n",
    "print(square(20))"
   ]
  },
  {
   "cell_type": "code",
   "execution_count": 97,
   "metadata": {},
   "outputs": [
    {
     "name": "stdout",
     "output_type": "stream",
     "text": [
      "1\n"
     ]
    }
   ],
   "source": [
    "# Removing the `square.d` attribute\n",
    "del square.d\n",
    "print(square(20))"
   ]
  },
  {
   "cell_type": "markdown",
   "metadata": {},
   "source": [
    "### In-built Higher Order Functions"
   ]
  },
  {
   "cell_type": "markdown",
   "metadata": {},
   "source": [
    "Python provides many functions which can also act as higher order functions. We are going to cover few of them in this section."
   ]
  },
  {
   "cell_type": "markdown",
   "metadata": {},
   "source": [
    "#### `max()`"
   ]
  },
  {
   "cell_type": "markdown",
   "metadata": {},
   "source": [
    "Max returns the largest item in an iterable or the largest of two or more arguments.\n",
    "\n",
    "If one positional argument is provided, iterable must be a non-empty iterable (such as a non-empty string, tuple or list). The largest item in the iterable is returned. If two or more positional arguments are provided, the largest of the positional arguments is returned.\n",
    "\n",
    "The optional key argument specifies a one-argument ordering function like that used for `list.sort()`. The key argument, if supplied, must be in keyword form (for example, `max(a, b, c,..., key=func)`)."
   ]
  },
  {
   "cell_type": "markdown",
   "metadata": {},
   "source": [
    "**Example**: Basic Example"
   ]
  },
  {
   "cell_type": "code",
   "execution_count": 98,
   "metadata": {},
   "outputs": [
    {
     "name": "stdout",
     "output_type": "stream",
     "text": [
      "max(marks)=10\n"
     ]
    }
   ],
   "source": [
    "marks = [1, 2, 10, 2, 5]\n",
    "\n",
    "print(f\"{max(marks)=}\")"
   ]
  },
  {
   "cell_type": "markdown",
   "metadata": {},
   "source": [
    "Another basic example with lists"
   ]
  },
  {
   "cell_type": "code",
   "execution_count": 99,
   "metadata": {},
   "outputs": [
    {
     "name": "stdout",
     "output_type": "stream",
     "text": [
      "max(marks)=[4, 0]\n"
     ]
    }
   ],
   "source": [
    "marks = [[1, 2222], [2, 100], [1, 4], [3, 0], [3, 4], [4, 0]]\n",
    "\n",
    "print(f\"{max(marks)=}\")\n",
    "\n",
    "# The reason `[4,0]` is returned is due to the fact when we compare lists, it using its \n",
    "# elements to compare, and first element is compared first, and since `4` is the highest \n",
    "# number so its list is returned as largest value"
   ]
  },
  {
   "cell_type": "code",
   "execution_count": 39,
   "metadata": {},
   "outputs": [
    {
     "data": {
      "text/plain": [
       "True"
      ]
     },
     "execution_count": 39,
     "metadata": {},
     "output_type": "execute_result"
    }
   ],
   "source": [
    "[1, 2222] < [2, 100]"
   ]
  },
  {
   "cell_type": "code",
   "execution_count": 101,
   "metadata": {},
   "outputs": [
    {
     "data": {
      "text/plain": [
       "True"
      ]
     },
     "execution_count": 101,
     "metadata": {},
     "output_type": "execute_result"
    }
   ],
   "source": [
    "# So [4,0] is the largets element in the above list `marks`\n",
    "[2, 100] < [4, 0]"
   ]
  },
  {
   "cell_type": "code",
   "execution_count": 102,
   "metadata": {},
   "outputs": [
    {
     "data": {
      "text/plain": [
       "True"
      ]
     },
     "execution_count": 102,
     "metadata": {},
     "output_type": "execute_result"
    }
   ],
   "source": [
    "# If first element is same, then next indexed elements are compared.\n",
    "# So, [3, 4] is bigger than [3, 0]\n",
    "[3, 0] < [3, 4]"
   ]
  },
  {
   "cell_type": "code",
   "execution_count": 42,
   "metadata": {},
   "outputs": [
    {
     "name": "stdout",
     "output_type": "stream",
     "text": [
      "'>' not supported between instances of 'tuple' and 'int'\n"
     ]
    }
   ],
   "source": [
    "try:\n",
    "    marks = [1, 2, 4, 2, (5, 1)]\n",
    "    max(marks)\n",
    "except Exception as e:\n",
    "    print(e)"
   ]
  },
  {
   "cell_type": "code",
   "execution_count": 45,
   "metadata": {},
   "outputs": [
    {
     "name": "stdout",
     "output_type": "stream",
     "text": [
      "'>' not supported between instances of 'list' and 'int'\n"
     ]
    }
   ],
   "source": [
    "try:\n",
    "    marks = [1, 2, 4, 2, [5]]\n",
    "    max(marks)\n",
    "except Exception as e:\n",
    "    print(e)"
   ]
  },
  {
   "cell_type": "code",
   "execution_count": 46,
   "metadata": {},
   "outputs": [
    {
     "name": "stdout",
     "output_type": "stream",
     "text": [
      "'>' not supported between instances of 'tuple' and 'list'\n"
     ]
    }
   ],
   "source": [
    "try:\n",
    "    marks = [[1], [2], (4,), [5]]\n",
    "    max(marks)\n",
    "except Exception as e:\n",
    "    print(e)"
   ]
  },
  {
   "cell_type": "markdown",
   "metadata": {},
   "source": [
    "Now lets take an excercise, below are the marks for students for 8 semesters, and we need to find what is the highest marks in 3rd semester."
   ]
  },
  {
   "cell_type": "code",
   "execution_count": 106,
   "metadata": {},
   "outputs": [],
   "source": [
    "import random\n",
    "\n",
    "student_count = 99\n",
    "max_marks = 1000\n",
    "min_marks = 0\n",
    "semester = 8\n",
    "\n",
    "# Don't worry about the below code, we will cover them later\n",
    "marks = [[random.randint(min_marks, max_marks) \n",
    "              for _ in range(semester)] \n",
    "                 for _ in range(student_count)]"
   ]
  },
  {
   "cell_type": "code",
   "execution_count": 107,
   "metadata": {},
   "outputs": [
    {
     "name": "stdout",
     "output_type": "stream",
     "text": [
      "99\n",
      "[193, 387, 989, 553, 76, 337, 210, 737]\n",
      "[103, 7, 461, 284, 403, 430, 649, 465]\n",
      "[110, 770, 598, 887, 56, 806, 540, 108]\n",
      "[212, 304, 652, 91, 92, 813, 347, 760]\n",
      "[646, 541, 320, 153, 562, 507, 72, 18]\n",
      "[829, 1000, 244, 720, 979, 997, 940, 146]\n",
      "[50, 173, 1, 446, 754, 840, 755, 922]\n",
      "[899, 149, 595, 478, 797, 141, 74, 434]\n",
      "[261, 41, 668, 452, 362, 181, 885, 187]\n",
      "[930, 486, 277, 974, 707, 768, 621, 446]\n"
     ]
    }
   ],
   "source": [
    "print(len(marks))\n",
    "\n",
    "for a in marks[:10]:\n",
    "    print(a)"
   ]
  },
  {
   "cell_type": "markdown",
   "metadata": {},
   "source": [
    "we can achive it by using `itemgetter` from `operator` modules, which we have used in the past."
   ]
  },
  {
   "cell_type": "code",
   "execution_count": 108,
   "metadata": {},
   "outputs": [
    {
     "name": "stdout",
     "output_type": "stream",
     "text": [
      "Max number is each semester are as follows:\n",
      "\t 976\n",
      "\t 1000\n",
      "\t 997\n",
      "\t 986\n",
      "\t 996\n",
      "\t 998\n",
      "\t 990\n",
      "\t 981\n"
     ]
    }
   ],
   "source": [
    "import operator\n",
    "\n",
    "print(\"Max number is each semester are as follows:\")\n",
    "for a in range(semester):\n",
    "    print('\\t', max(marks, key=operator.itemgetter(a))[a])"
   ]
  },
  {
   "cell_type": "markdown",
   "metadata": {},
   "source": [
    "As we have passed `operator.itemgetter` function as key, we can pass some custom function as well.\n",
    "\n",
    "Now lets assume a situation, were we have to calculate total marks, which are calculated as sum of 10% of first 6 semesters and 100% of 7th & 8th semester and we wants to find the highest mark obtained for the year 1994 batch."
   ]
  },
  {
   "cell_type": "code",
   "execution_count": 115,
   "metadata": {},
   "outputs": [],
   "source": [
    "def marks_sum_v1(marks_list):\n",
    "    total = 0\n",
    "    for a in range(6):\n",
    "        total += marks_list[a] \n",
    "    total *= 0.1\n",
    "    for a in range(6, 8):\n",
    "        total += marks_list[a]\n",
    "    return total"
   ]
  },
  {
   "cell_type": "code",
   "execution_count": 116,
   "metadata": {},
   "outputs": [
    {
     "name": "stdout",
     "output_type": "stream",
     "text": [
      "95.9 µs ± 4.13 µs per loop (mean ± std. dev. of 7 runs, 10,000 loops each)\n"
     ]
    }
   ],
   "source": [
    "%%timeit\n",
    "\n",
    "student_marks=max(marks, key=marks_sum_v1)\n",
    "# print(f\"Max Marks list: {student_marks}\", end=\", \")"
   ]
  },
  {
   "cell_type": "code",
   "execution_count": 117,
   "metadata": {},
   "outputs": [
    {
     "name": "stdout",
     "output_type": "stream",
     "text": [
      "with total of: 2105.7\n"
     ]
    }
   ],
   "source": [
    "max_marks_obtained = marks_sum_v1(student_marks)\n",
    "print(f\"with total of: {max_marks_obtained}\")"
   ]
  },
  {
   "cell_type": "code",
   "execution_count": 49,
   "metadata": {},
   "outputs": [
    {
     "name": "stdout",
     "output_type": "stream",
     "text": [
      "18.1 ms ± 488 µs per loop (mean ± std. dev. of 7 runs, 100 loops each)\n"
     ]
    }
   ],
   "source": [
    "%%timeit\n",
    "\n",
    "def marks_sum_v2(marks_list):\n",
    "    total = 0\n",
    "    \n",
    "    total = sum(marks_list[a] * 0.1 for a in range(6))\n",
    "    total +=  sum([marks_list[a] for a in range(6, 8)])\n",
    "    return total\n",
    "\n",
    "a = max(marks, key=marks_sum_v2)\n",
    "x = marks_sum_v2(a)\n",
    "# print(a, x)"
   ]
  },
  {
   "cell_type": "code",
   "execution_count": 67,
   "metadata": {
    "scrolled": true
   },
   "outputs": [
    {
     "name": "stdout",
     "output_type": "stream",
     "text": [
      "218 µs ± 11.8 µs per loop (mean ± std. dev. of 7 runs, 1000 loops each)\n"
     ]
    }
   ],
   "source": [
    "%%timeit\n",
    "\n",
    "def marks_sum_v2(marks_list):\n",
    "    total = sum((sum(marks_list[a] for a in range(6, 8)), \n",
    "                 sum(marks_list[a] * 0.1 for a in range(6))))\n",
    "    return total\n",
    "\n",
    "x = marks_sum_v2(max(marks, key=marks_sum_v2))"
   ]
  },
  {
   "cell_type": "code",
   "execution_count": 68,
   "metadata": {},
   "outputs": [
    {
     "name": "stdout",
     "output_type": "stream",
     "text": [
      "64 µs ± 4.36 µs per loop (mean ± std. dev. of 7 runs, 10000 loops each)\n"
     ]
    }
   ],
   "source": [
    "%%timeit\n",
    "# Small changes matter ;), if used logically.  \n",
    "\n",
    "def marks_sum_v2(marks_list):\n",
    "    total = 0\n",
    "    \n",
    "    total = sum(marks_list[:6]) * 0.1\n",
    "    total +=  sum(marks_list[6:])\n",
    "    return total\n",
    "\n",
    "a = max(marks, key=marks_sum_v2)\n",
    "x = marks_sum_v2(a)"
   ]
  },
  {
   "cell_type": "markdown",
   "metadata": {},
   "source": [
    "Similarly we can also use lambda in key variable."
   ]
  },
  {
   "cell_type": "code",
   "execution_count": 119,
   "metadata": {},
   "outputs": [
    {
     "name": "stdout",
     "output_type": "stream",
     "text": [
      "60.6 µs ± 2 µs per loop (mean ± std. dev. of 7 runs, 10,000 loops each)\n"
     ]
    }
   ],
   "source": [
    "%%timeit\n",
    "max_num_lst = max(marks, key=lambda x: sum(x[:6])* 0.1 + sum(x[6:]))\n",
    "# print(f\"List: {max_num_lst} with total: {max_num}\")"
   ]
  },
  {
   "cell_type": "markdown",
   "metadata": {},
   "source": [
    "Lets, take another example, we are conducting games, where teams have to perform few tasks and after each task they are provided some points. The team with highest score wins. \n",
    "\n",
    "Its our job to write an script which will take the scores (which are stored as list of lists) and provided what is the maximum score. "
   ]
  },
  {
   "cell_type": "markdown",
   "metadata": {},
   "source": [
    "In our solution, we will use `lambda` function to get the total of scores"
   ]
  },
  {
   "cell_type": "code",
   "execution_count": 8,
   "metadata": {},
   "outputs": [],
   "source": [
    "marks = [\n",
    "          [14, 19, 96, 91, 32, 65, 87, 27], [11, 37, 22, 93, 75, 11, 95, 95],\n",
    "          [14, 54, 92, 72, 13, 17, 44, 73], [17, 31, 82, 80, 40, 4, 11, 8],\n",
    "          [86, 83, 85, 93, 85, 42, 22, 87], [44, 61, 17, 87, 21, 35, 90, 10],\n",
    "          [75, 27, 67, 88, 22, 84, 4, 51], [28, 25, 66, 22, 46, 56, 76, 47],\n",
    "          [24, 98, 16, 20, 92, 5, 40, 12]\n",
    "         ]"
   ]
  },
  {
   "cell_type": "code",
   "execution_count": 120,
   "metadata": {},
   "outputs": [
    {
     "name": "stdout",
     "output_type": "stream",
     "text": [
      "List: [518, 809, 787, 891, 914, 827, 650, 819] with total: 6215\n"
     ]
    }
   ],
   "source": [
    "max_num_lst = max(marks, key=lambda x: sum(x))\n",
    "print(f\"List: {max_num_lst} with total: {sum(max_num_lst)}\")"
   ]
  },
  {
   "cell_type": "markdown",
   "metadata": {},
   "source": [
    "#### min()"
   ]
  },
  {
   "cell_type": "markdown",
   "metadata": {},
   "source": [
    "Similer to `max`, `min` also provide the same functionality. thus is not covering in it in details except one example"
   ]
  },
  {
   "cell_type": "code",
   "execution_count": 121,
   "metadata": {},
   "outputs": [],
   "source": [
    "import random\n",
    "student_count = 10000\n",
    "max_marks = 100\n",
    "min_marks = 0\n",
    "semester = 8\n",
    "\n",
    "marks = [[random.randint(min_marks, max_marks) for _ in range(semester)] for _ in range(student_count)]"
   ]
  },
  {
   "cell_type": "code",
   "execution_count": 122,
   "metadata": {},
   "outputs": [
    {
     "name": "stdout",
     "output_type": "stream",
     "text": [
      "13.8\n"
     ]
    }
   ],
   "source": [
    "def marks_sum_v1(marks_list):\n",
    "    total = 0\n",
    "    for a in range(5):\n",
    "        total += marks_list[a] \n",
    "    total *= 0.1\n",
    "    for a in range(6, 8):\n",
    "        total += marks_list[a] * 1\n",
    "    return total\n",
    "\n",
    "d = round(marks_sum_v1(min(marks, key = marks_sum_v1)), 2)\n",
    "print(d)"
   ]
  }
 ],
 "metadata": {
  "kernelspec": {
   "display_name": "Python 3 (ipykernel)",
   "language": "python",
   "name": "python3"
  },
  "language_info": {
   "codemirror_mode": {
    "name": "ipython",
    "version": 3
   },
   "file_extension": ".py",
   "mimetype": "text/x-python",
   "name": "python",
   "nbconvert_exporter": "python",
   "pygments_lexer": "ipython3",
   "version": "3.11.0b1"
  }
 },
 "nbformat": 4,
 "nbformat_minor": 2
}
