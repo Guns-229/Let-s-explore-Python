{
 "cells": [
  {
   "cell_type": "markdown",
   "metadata": {},
   "source": [
    "## Operator"
   ]
  },
  {
   "cell_type": "markdown",
   "metadata": {},
   "source": [
    "`operator` module exports a set of efficient functions corresponding to the intrinsic operators of Python, such as `add`, `subtraction` etc.\n",
    "\n",
    "Few of the `operator`'s attributes also have \"in-place\" version. In them, for mutable data, along with creating a new data, first data is also updated. Also most of the \"ip-place\" operators are prefixed with `i`, such as `iadd`, `iand` etc."
   ]
  },
  {
   "cell_type": "markdown",
   "metadata": {},
   "source": [
    "Lets create a class which has implemented various operators, so that we can use it in this chapter for example."
   ]
  },
  {
   "cell_type": "code",
   "execution_count": 46,
   "metadata": {},
   "outputs": [],
   "source": [
    "from operator import iadd, iand, ifloordiv, ilshift, imod, imul, ior, ipow, irshift, isub, itruediv, ixor\n",
    "\n",
    "class MyList(object):\n",
    "    def __init__(self, lst):\n",
    "        self._lst = lst\n",
    "        \n",
    "    def _func_work(self, func, other):\n",
    "        lst = []\n",
    "        for a in self._lst:\n",
    "            lst.append(idiff(a, other))\n",
    "        return lst\n",
    "        \n",
    "    def __iadd__(self, other): \n",
    "        return self._lst.append(other)\n",
    "    \n",
    "    def __iand__(self, other):\n",
    "        lst = []\n",
    "        for a in self._lst:\n",
    "            lst.append(q and other)\n",
    "        return lst\n",
    "    \n",
    "    def __div__(self, other): \n",
    "        return _func_work(div, other)\n",
    "    \n",
    "    \n",
    "    def __floordiv__(self, other): \n",
    "        return _func_work(floordiv, other)\n",
    "    \n",
    "    \n",
    "    def __ifloordiv__(self, other): \n",
    "        return _func_work(ifloordiv, other)\n",
    "    \n",
    "    \n",
    "    def __lshift__(self, other): \n",
    "        return _func_work(lshift, other)\n",
    "    \n",
    "    \n",
    "    def __ilshift__(self, other): \n",
    "        return _func_work(ilshift, other)\n",
    "    \n",
    "    def __ilshift__(self, other): \n",
    "        return _func_work(ilshift, other)'\n",
    "'\n",
    "#     def __imod__     (self, other): return \"imod\"\n",
    "    def __imul__     (self, other): return \"imul\"\n",
    "    def __ior__      (self, other): return \"ior\"\n",
    "    def __ipow__     (self, other): return \"ipow\"\n",
    "    def __irshift__  (self, other): return \"irshift\"\n",
    "    def __isub__     (self, other): return \"isub\"\n",
    "    def __itruediv__ (self, other): return \"itruediv\"\n",
    "    def __ixor__     (self, other): return \"ixor\"\n",
    "    def __getitem__(self, other): return 5"
   ]
  },
  {
   "cell_type": "markdown",
   "metadata": {},
   "source": [
    "### `add` & `iadd`"
   ]
  },
  {
   "cell_type": "code",
   "execution_count": 23,
   "metadata": {},
   "outputs": [
    {
     "name": "stdout",
     "output_type": "stream",
     "text": [
      "7\n"
     ]
    }
   ],
   "source": [
    "from operator import add\n",
    "\n",
    "a = 4\n",
    "b = 3\n",
    "\n",
    "print(add(a, b))"
   ]
  },
  {
   "cell_type": "code",
   "execution_count": 24,
   "metadata": {},
   "outputs": [
    {
     "name": "stdout",
     "output_type": "stream",
     "text": [
      "[1, 2, 4, 6, 7]\n",
      "[1, 2, 4] [6, 7]\n"
     ]
    }
   ],
   "source": [
    "a = [1, 2, 4]\n",
    "b = [6, 7]\n",
    "\n",
    "print(add(a, b))\n",
    "print(a, b)"
   ]
  },
  {
   "cell_type": "code",
   "execution_count": 26,
   "metadata": {},
   "outputs": [
    {
     "name": "stdout",
     "output_type": "stream",
     "text": [
      "7\n",
      "4 3\n"
     ]
    }
   ],
   "source": [
    "from operator import iadd\n",
    "\n",
    "a = 4\n",
    "b = 3\n",
    "\n",
    "print(iadd(a, b))\n",
    "print(a, b)"
   ]
  },
  {
   "cell_type": "code",
   "execution_count": 25,
   "metadata": {},
   "outputs": [
    {
     "name": "stdout",
     "output_type": "stream",
     "text": [
      "[1, 2, 4, 6, 7]\n",
      "[1, 2, 4, 6, 7] [6, 7]\n"
     ]
    }
   ],
   "source": [
    "a = [1, 2, 4]\n",
    "b = [6, 7]\n",
    "\n",
    "print(iadd(a, b))\n",
    "print(a, b)"
   ]
  },
  {
   "cell_type": "markdown",
   "metadata": {},
   "source": [
    "### `sub`"
   ]
  },
  {
   "cell_type": "code",
   "execution_count": 5,
   "metadata": {},
   "outputs": [
    {
     "name": "stdout",
     "output_type": "stream",
     "text": [
      "1\n"
     ]
    }
   ],
   "source": [
    "from operator import sub\n",
    "\n",
    "a = 4\n",
    "b = 3\n",
    "\n",
    "print(sub(a, b))"
   ]
  },
  {
   "cell_type": "markdown",
   "metadata": {},
   "source": [
    "### `mul`"
   ]
  },
  {
   "cell_type": "code",
   "execution_count": 7,
   "metadata": {},
   "outputs": [
    {
     "name": "stdout",
     "output_type": "stream",
     "text": [
      "12\n"
     ]
    }
   ],
   "source": [
    "from operator import mul\n",
    "\n",
    "a = 4\n",
    "b = 3\n",
    "\n",
    "print(mul(a, b))"
   ]
  },
  {
   "cell_type": "markdown",
   "metadata": {},
   "source": [
    "### `truediv`"
   ]
  },
  {
   "cell_type": "code",
   "execution_count": 16,
   "metadata": {},
   "outputs": [
    {
     "name": "stdout",
     "output_type": "stream",
     "text": [
      "8.333333333333334\n"
     ]
    }
   ],
   "source": [
    "from operator import truediv\n",
    "\n",
    "a = 25\n",
    "b = 3\n",
    "\n",
    "print(truediv(a, b))"
   ]
  },
  {
   "cell_type": "markdown",
   "metadata": {},
   "source": [
    "### `floordiv`"
   ]
  },
  {
   "cell_type": "code",
   "execution_count": 15,
   "metadata": {},
   "outputs": [
    {
     "name": "stdout",
     "output_type": "stream",
     "text": [
      "8\n"
     ]
    }
   ],
   "source": [
    "from operator import floordiv\n",
    "\n",
    "a = 25\n",
    "b = 3\n",
    "\n",
    "print(floordiv(a, b))"
   ]
  },
  {
   "cell_type": "markdown",
   "metadata": {},
   "source": [
    "### `pow`"
   ]
  },
  {
   "cell_type": "code",
   "execution_count": 18,
   "metadata": {},
   "outputs": [
    {
     "name": "stdout",
     "output_type": "stream",
     "text": [
      "1000\n"
     ]
    }
   ],
   "source": [
    "from operator import pow\n",
    "\n",
    "a = 10\n",
    "b = 3\n",
    "\n",
    "print(pow(a, b))"
   ]
  },
  {
   "cell_type": "markdown",
   "metadata": {},
   "source": [
    "### `mod`"
   ]
  },
  {
   "cell_type": "code",
   "execution_count": 29,
   "metadata": {},
   "outputs": [
    {
     "name": "stdout",
     "output_type": "stream",
     "text": [
      "2\n"
     ]
    }
   ],
   "source": [
    "from operator import mod\n",
    "\n",
    "a = 101\n",
    "b = 3\n",
    "\n",
    "print(mod(a, b))"
   ]
  },
  {
   "cell_type": "code",
   "execution_count": 47,
   "metadata": {},
   "outputs": [
    {
     "ename": "TypeError",
     "evalue": "unsupported operand type(s) for %=: 'MyList' and 'int'",
     "output_type": "error",
     "traceback": [
      "\u001b[0;31m---------------------------------------------------------------------------\u001b[0m",
      "\u001b[0;31mTypeError\u001b[0m                                 Traceback (most recent call last)",
      "\u001b[0;32m<ipython-input-47-b4c19e1a03ce>\u001b[0m in \u001b[0;36m<module>\u001b[0;34m\u001b[0m\n\u001b[1;32m      4\u001b[0m \u001b[0mb\u001b[0m \u001b[0;34m=\u001b[0m \u001b[0;36m3\u001b[0m\u001b[0;34m\u001b[0m\u001b[0m\n\u001b[1;32m      5\u001b[0m \u001b[0;34m\u001b[0m\u001b[0m\n\u001b[0;32m----> 6\u001b[0;31m \u001b[0mprint\u001b[0m\u001b[0;34m(\u001b[0m\u001b[0mimod\u001b[0m\u001b[0;34m(\u001b[0m\u001b[0ma\u001b[0m\u001b[0;34m,\u001b[0m \u001b[0mb\u001b[0m\u001b[0;34m)\u001b[0m\u001b[0;34m)\u001b[0m\u001b[0;34m\u001b[0m\u001b[0m\n\u001b[0m\u001b[1;32m      7\u001b[0m \u001b[0mprint\u001b[0m\u001b[0;34m(\u001b[0m\u001b[0ma\u001b[0m\u001b[0;34m,\u001b[0m \u001b[0mb\u001b[0m\u001b[0;34m)\u001b[0m\u001b[0;34m\u001b[0m\u001b[0m\n",
      "\u001b[0;31mTypeError\u001b[0m: unsupported operand type(s) for %=: 'MyList' and 'int'"
     ]
    }
   ],
   "source": [
    "from operator import imod\n",
    "\n",
    "a = MyList([101])\n",
    "b = 3\n",
    "\n",
    "print(imod(a, b))\n",
    "print(a, b)"
   ]
  },
  {
   "cell_type": "code",
   "execution_count": null,
   "metadata": {},
   "outputs": [],
   "source": []
  },
  {
   "cell_type": "code",
   "execution_count": null,
   "metadata": {},
   "outputs": [],
   "source": []
  },
  {
   "cell_type": "code",
   "execution_count": null,
   "metadata": {},
   "outputs": [],
   "source": []
  },
  {
   "cell_type": "code",
   "execution_count": null,
   "metadata": {},
   "outputs": [],
   "source": []
  },
  {
   "cell_type": "markdown",
   "metadata": {},
   "source": [
    "### Summary of opreation atributes\n",
    "\n",
    "| Operation | Syntax | Function |\n",
    "|----------|-----------|-----------|\n",
    "| Addition | a + b | add(a, b) |\n",
    "| Concatenation | seq1 + seq2 | concat(seq1, seq2) |\n",
    "| Containment Test | obj in seq | contains(seq, obj) |\n",
    "| Division | a / b | truediv(a, b) |\n",
    "| Division | a // b | floordiv(a, b) |\n",
    "| Bitwise And | a & b | and_(a, b) |\n",
    "| Bitwise Exclusive Or | a ^ b | xor(a, b) |\n",
    "| Bitwise Inversion | ~ a | invert(a) |\n",
    "| Bitwise Or | a | b | or_(a, b) |\n",
    "| Exponentiation | a ** b | pow(a, b) |\n",
    "| Identity | a is b | is_(a, b) |\n",
    "| Identity | a is not b | is_not(a, b) |\n",
    "| Indexed Assignment | obj[k] = v | setitem(obj, k, v) |\n",
    "| Indexed Deletion | del obj[k] | delitem(obj, k) |\n",
    "| Indexing | obj[k] | getitem(obj, k) |\n",
    "| Left Shift | a << b | lshift(a, b) |\n",
    "| Modulo | a % b | mod(a, b) |\n",
    "| Multiplication | a * b | mul(a, b) |\n",
    "| Matrix Multiplication | a @ b | matmul(a, b) |\n",
    "| Negation (Arithmetic) | - a | neg(a) |\n",
    "| Negation (Logical) | not a | not_(a) |\n",
    "| Positive | + a | pos(a) |\n",
    "| Right Shift | a >> b | rshift(a, b) |\n",
    "| Slice Assignment | seq[i:j] = values | setitem(seq, slice(i, j), values) |\n",
    "| Slice Deletion | del seq[i:j] | delitem(seq, slice(i, j)) |\n",
    "| Slicing | seq[i:j] | getitem(seq, slice(i, j)) |\n",
    "| String Formatting | s % obj | mod(s, obj) |\n",
    "| Subtraction | a - b | sub(a, b) |\n",
    "| Truth Test | obj | truth(obj) |\n",
    "| Ordering | a < b | lt(a, b) |\n",
    "| Ordering | a <= b | le(a, b) |\n",
    "| Equality | a == b | eq(a, b) |\n",
    "| Difference | a != b | ne(a, b) |\n",
    "| Ordering | a >= b | ge(a, b) |\n",
    "| Ordering | a > b | gt(a, b) |"
   ]
  },
  {
   "cell_type": "code",
   "execution_count": null,
   "metadata": {},
   "outputs": [],
   "source": []
  }
 ],
 "metadata": {
  "kernelspec": {
   "display_name": "Python 3",
   "language": "python",
   "name": "python3"
  },
  "language_info": {
   "codemirror_mode": {
    "name": "ipython",
    "version": 3
   },
   "file_extension": ".py",
   "mimetype": "text/x-python",
   "name": "python",
   "nbconvert_exporter": "python",
   "pygments_lexer": "ipython3",
   "version": "3.10.0a7"
  }
 },
 "nbformat": 4,
 "nbformat_minor": 2
}
