{
 "cells": [
  {
   "cell_type": "markdown",
   "metadata": {},
   "source": [
    "# Tips on functional progrmaming"
   ]
  },
  {
   "cell_type": "markdown",
   "metadata": {},
   "source": [
    "This section contains tips on functional programming and **ZERO theory**. :). \n",
    "\n",
    "**!!! So enjoy !!!**"
   ]
  },
  {
   "cell_type": "code",
   "execution_count": 2,
   "metadata": {},
   "outputs": [
    {
     "name": "stdout",
     "output_type": "stream",
     "text": [
      "True: x=20\n",
      "True: x=20\n"
     ]
    }
   ],
   "source": [
    "# eleminating if\n",
    "\n",
    "# Original \n",
    "x = 20\n",
    "if(x > 1):\n",
    "    a = f\"True: {x=}\"\n",
    "print(a)\n",
    "\n",
    "\n",
    "# optimized\n",
    "x  = 20\n",
    "a = ((x > 1) and (f\"True: {x=}\"))\n",
    "print(a)"
   ]
  },
  {
   "cell_type": "code",
   "execution_count": 7,
   "metadata": {},
   "outputs": [
    {
     "name": "stdout",
     "output_type": "stream",
     "text": [
      "158 ns ± 12.9 ns per loop (mean ± std. dev. of 7 runs, 10000000 loops each)\n"
     ]
    }
   ],
   "source": [
    "%%timeit\n",
    "\n",
    "x = 20\n",
    "if(x > 1):\n",
    "    a = f\"True: {x=}\""
   ]
  },
  {
   "cell_type": "code",
   "execution_count": 6,
   "metadata": {},
   "outputs": [
    {
     "name": "stdout",
     "output_type": "stream",
     "text": [
      "158 ns ± 5.34 ns per loop (mean ± std. dev. of 7 runs, 10000000 loops each)\n"
     ]
    }
   ],
   "source": [
    "%%timeit\n",
    "x  = 20\n",
    "a = ((x > 1) and (f\"True: {x=}\"))"
   ]
  },
  {
   "cell_type": "code",
   "execution_count": 5,
   "metadata": {},
   "outputs": [
    {
     "name": "stdout",
     "output_type": "stream",
     "text": [
      "False\n",
      "False\n"
     ]
    }
   ],
   "source": [
    "# Original \n",
    "# Now it should \n",
    "x = 0\n",
    "a = False\n",
    "\n",
    "if(x > 1):\n",
    "    a = f\"True: {x}\"\n",
    "\n",
    "print(a)\n",
    "\n",
    "    \n",
    "# eleminating if    \n",
    "x  = 0\n",
    "a = ((x > 1) and (\"True: \" + str(x)))\n",
    "print(a)"
   ]
  },
  {
   "cell_type": "code",
   "execution_count": 8,
   "metadata": {},
   "outputs": [
    {
     "name": "stdout",
     "output_type": "stream",
     "text": [
      "True: 10\n"
     ]
    }
   ],
   "source": [
    "# Eleminating if else\n",
    "# Original\n",
    "\n",
    "x = 10\n",
    "if (x > 1):\n",
    "    print(\"True:\", x)\n",
    "else:\n",
    "    print(\"False:\", x)"
   ]
  },
  {
   "cell_type": "code",
   "execution_count": 14,
   "metadata": {},
   "outputs": [
    {
     "name": "stdout",
     "output_type": "stream",
     "text": [
      "164 ns ± 8.66 ns per loop (mean ± std. dev. of 7 runs, 10000000 loops each)\n"
     ]
    }
   ],
   "source": [
    "%%timeit\n",
    "\n",
    "\n",
    "x = 10\n",
    "if (x > 1):\n",
    "    a = f\"True: {x=}\"\n",
    "else:\n",
    "    a = f\"False: {x=}\""
   ]
  },
  {
   "cell_type": "code",
   "execution_count": 10,
   "metadata": {},
   "outputs": [
    {
     "name": "stdout",
     "output_type": "stream",
     "text": [
      "True: 10\n"
     ]
    }
   ],
   "source": [
    "x  = 10\n",
    "\n",
    "a = (x > 1) and (f\"True: {x}\") or (f\"False: {x}\")\n",
    "print(a)"
   ]
  },
  {
   "cell_type": "code",
   "execution_count": 13,
   "metadata": {},
   "outputs": [
    {
     "name": "stdout",
     "output_type": "stream",
     "text": [
      "200 ns ± 35 ns per loop (mean ± std. dev. of 7 runs, 1000000 loops each)\n"
     ]
    }
   ],
   "source": [
    "%%timeit\n",
    "\n",
    "x  = 10\n",
    "\n",
    "a = (x > 1) and (f\"True: {x}\") or (f\"False: {x}\")"
   ]
  },
  {
   "cell_type": "code",
   "execution_count": 12,
   "metadata": {},
   "outputs": [
    {
     "name": "stdout",
     "output_type": "stream",
     "text": [
      "True: 20\n"
     ]
    }
   ],
   "source": [
    "x  = 20\n",
    "a = (x > 1) and (f\"True: {x}\") or (f\"False: {x}\")\n",
    "print(a)"
   ]
  },
  {
   "cell_type": "code",
   "execution_count": 13,
   "metadata": {},
   "outputs": [
    {
     "name": "stdout",
     "output_type": "stream",
     "text": [
      "False: -20\n"
     ]
    }
   ],
   "source": [
    "x  = -20\n",
    "\n",
    "a = (x > 1) and (f\"True: {x}\") or (f\"False: {x}\")\n",
    "print(a)"
   ]
  },
  {
   "cell_type": "code",
   "execution_count": 19,
   "metadata": {},
   "outputs": [
    {
     "name": "stdout",
     "output_type": "stream",
     "text": [
      "400\n",
      "400\n"
     ]
    }
   ],
   "source": [
    "# Original\n",
    "\n",
    "x  = -20\n",
    "if x > 1:\n",
    "    a = x\n",
    "else:\n",
    "    a = x * x\n",
    "print(a)\n",
    "\n",
    "\n",
    "# functional equivalent.\n",
    "\n",
    "a = x > 1 and x or x*x\n",
    "print(a)"
   ]
  },
  {
   "cell_type": "code",
   "execution_count": null,
   "metadata": {
    "collapsed": true
   },
   "outputs": [],
   "source": [
    "AND\n",
    "0 0 0 \n",
    "0 1 0\n",
    "1 0 0\n",
    "1 1 1 \n",
    "\n",
    "or\n",
    "0 0 0 \n",
    "0 1 1 \n",
    "1 0 1\n",
    "1 1 1"
   ]
  },
  {
   "cell_type": "code",
   "execution_count": 15,
   "metadata": {},
   "outputs": [
    {
     "name": "stdout",
     "output_type": "stream",
     "text": [
      "False\n",
      "***********\n",
      "False\n"
     ]
    }
   ],
   "source": [
    "x = 0\n",
    "if (x == 0):\n",
    "    print(\"False\")\n",
    "elif (x == 1):\n",
    "    print(\"True\")\n",
    "else:\n",
    "    print(\"Not boolean\")\n",
    "    \n",
    "print(\"*\"*11)\n",
    "\n",
    "a = (x == 0 and \"False\") or ((x == 1 and \"True\") or \"Not Boolean\") \n",
    "print(a)"
   ]
  },
  {
   "cell_type": "code",
   "execution_count": 18,
   "metadata": {},
   "outputs": [
    {
     "name": "stdout",
     "output_type": "stream",
     "text": [
      "True\n",
      "***********\n",
      "True\n"
     ]
    }
   ],
   "source": [
    "# Eleminating if elif else\n",
    "x = 1\n",
    "if (x == 0):\n",
    "    print(\"False\")\n",
    "elif (x == 1):\n",
    "    print(\"True\")\n",
    "else:\n",
    "    print(\"Not boolean\")\n",
    "    \n",
    "print(\"*\"*11)\n",
    "\n",
    "a = (x == 0 and \"False\") or ((x == 1 and \"True\") or \"Not Boolean\") \n",
    "print(a)"
   ]
  },
  {
   "cell_type": "code",
   "execution_count": 21,
   "metadata": {},
   "outputs": [
    {
     "name": "stdout",
     "output_type": "stream",
     "text": [
      "Not boolean\n",
      "***********\n",
      "Not Boolean\n"
     ]
    }
   ],
   "source": [
    "x = 12\n",
    "if (x == 0):\n",
    "    print(\"False\")\n",
    "elif (x == 1):\n",
    "    print(\"True\")\n",
    "else:\n",
    "    print(\"Not boolean\")\n",
    "    \n",
    "print(\"*\"*11)\n",
    "\n",
    "a = (x == 0 and \"False\") or ((x == 1 and \"True\") or \"Not Boolean\") \n",
    "print(a)"
   ]
  },
  {
   "cell_type": "code",
   "execution_count": 63,
   "metadata": {},
   "outputs": [
    {
     "name": "stdout",
     "output_type": "stream",
     "text": [
      "[0, 2, 4, 6, 8, 10, 12, 14, 16, 18, 20, 22, 24, 26, 28, 30, 32, 34, 36, 38]\n",
      "***************************************************************************\n",
      "[0, 2, 4, 6, 8, 10, 12, 14, 16, 18, 20, 22, 24, 26, 28, 30, 32, 34, 36, 38]\n",
      "[0, 2, 4, 6, 8, 10, 12, 14, 16, 18, 20, 22, 24, 26, 28, 30, 32, 34, 36, 38]\n",
      "0, 2, 4, 6, 8, 10, 12, 14, 16, 18, 20, 22, 24, 26, 28, 30, 32, 34, 36, 38, "
     ]
    }
   ],
   "source": [
    "# Eliminating Sequential Statement\n",
    "def double(x):\n",
    "    return(x+x)\n",
    "\n",
    "d = []\n",
    "for x in range(20):\n",
    "    d.append(double(x))\n",
    "print(d)\n",
    "    \n",
    "# Using import map\n",
    "print(\"*\"*75)\n",
    "d = list(map(double, range(20)))\n",
    "print(d)\n",
    "\n",
    "# Using List Comprehension\n",
    "d = [double(x) for x in range(20)]\n",
    "print(d)\n",
    "\n",
    "# Using tuple\n",
    "d = (double(x) for x in range(20))\n",
    "for a in d:\n",
    "    print(a, end=\", \")"
   ]
  },
  {
   "cell_type": "code",
   "execution_count": 46,
   "metadata": {},
   "outputs": [
    {
     "name": "stdout",
     "output_type": "stream",
     "text": [
      "469 ns ± 21.9 ns per loop (mean ± std. dev. of 7 runs, 1000000 loops each)\n"
     ]
    }
   ],
   "source": [
    "%%timeit\n",
    "# Tuple wins hands down.\n",
    "d = (double(x) for x in range(20))"
   ]
  },
  {
   "cell_type": "code",
   "execution_count": 42,
   "metadata": {},
   "outputs": [
    {
     "name": "stdout",
     "output_type": "stream",
     "text": [
      "2.39 µs ± 222 ns per loop (mean ± std. dev. of 7 runs, 100000 loops each)\n"
     ]
    }
   ],
   "source": [
    "%%timeit\n",
    "\n",
    "d = [double(x) for x in range(20)]"
   ]
  },
  {
   "cell_type": "code",
   "execution_count": 35,
   "metadata": {},
   "outputs": [
    {
     "name": "stdout",
     "output_type": "stream",
     "text": [
      "1.84 µs ± 351 ns per loop (mean ± std. dev. of 7 runs, 100000 loops each)\n"
     ]
    }
   ],
   "source": [
    "%%timeit\n",
    "\n",
    "d = []\n",
    "for x in range(10):\n",
    "    d.append(double(x))"
   ]
  },
  {
   "cell_type": "code",
   "execution_count": 44,
   "metadata": {},
   "outputs": [
    {
     "name": "stdout",
     "output_type": "stream",
     "text": [
      "1.04 µs ± 15.1 ns per loop (mean ± std. dev. of 7 runs, 1000000 loops each)\n"
     ]
    }
   ],
   "source": [
    "%%timeit\n",
    "\n",
    "d = tuple(map(double, range(10)))"
   ]
  },
  {
   "cell_type": "code",
   "execution_count": 47,
   "metadata": {},
   "outputs": [
    {
     "name": "stdout",
     "output_type": "stream",
     "text": [
      "1.17 µs ± 128 ns per loop (mean ± std. dev. of 7 runs, 1000000 loops each)\n"
     ]
    }
   ],
   "source": [
    "%%timeit\n",
    "\n",
    "d = list(map(double, range(10)))"
   ]
  },
  {
   "cell_type": "code",
   "execution_count": 55,
   "metadata": {},
   "outputs": [],
   "source": [
    "# Eliminating Sequential Statement\n",
    "def double(x):\n",
    "    yield(x+x)"
   ]
  },
  {
   "cell_type": "code",
   "execution_count": 56,
   "metadata": {},
   "outputs": [
    {
     "name": "stdout",
     "output_type": "stream",
     "text": [
      "624 ns ± 130 ns per loop (mean ± std. dev. of 7 runs, 1000000 loops each)\n"
     ]
    }
   ],
   "source": [
    "%%timeit\n",
    "\n",
    "# Tuple wins hands down.\n",
    "d = (double(x) for x in range(20))"
   ]
  },
  {
   "cell_type": "code",
   "execution_count": 57,
   "metadata": {},
   "outputs": [
    {
     "name": "stdout",
     "output_type": "stream",
     "text": [
      "6.1 µs ± 886 ns per loop (mean ± std. dev. of 7 runs, 100000 loops each)\n"
     ]
    }
   ],
   "source": [
    "%%timeit\n",
    "\n",
    "d = [double(x) for x in range(20)]"
   ]
  },
  {
   "cell_type": "code",
   "execution_count": 58,
   "metadata": {},
   "outputs": [
    {
     "name": "stdout",
     "output_type": "stream",
     "text": [
      "3.56 µs ± 518 ns per loop (mean ± std. dev. of 7 runs, 100000 loops each)\n"
     ]
    }
   ],
   "source": [
    "%%timeit\n",
    "\n",
    "d = []\n",
    "for x in range(10):\n",
    "    d.append(double(x))"
   ]
  },
  {
   "cell_type": "code",
   "execution_count": 60,
   "metadata": {},
   "outputs": [
    {
     "name": "stdout",
     "output_type": "stream",
     "text": [
      "2.71 µs ± 84.2 ns per loop (mean ± std. dev. of 7 runs, 100000 loops each)\n"
     ]
    }
   ],
   "source": [
    "%%timeit\n",
    "\n",
    "d = tuple(map(double, range(10)))"
   ]
  },
  {
   "cell_type": "code",
   "execution_count": 61,
   "metadata": {},
   "outputs": [
    {
     "name": "stdout",
     "output_type": "stream",
     "text": [
      "3.16 µs ± 629 ns per loop (mean ± std. dev. of 7 runs, 100000 loops each)\n"
     ]
    }
   ],
   "source": [
    "%%timeit\n",
    "\n",
    "d = list(map(double, range(10)))"
   ]
  },
  {
   "cell_type": "code",
   "execution_count": null,
   "metadata": {},
   "outputs": [],
   "source": []
  },
  {
   "cell_type": "code",
   "execution_count": 31,
   "metadata": {},
   "outputs": [
    {
     "ename": "IndentationError",
     "evalue": "unexpected indent (<ipython-input-31-73d917cf605b>, line 14)",
     "output_type": "error",
     "traceback": [
      "\u001b[0;36m  File \u001b[0;32m\"<ipython-input-31-73d917cf605b>\"\u001b[0;36m, line \u001b[0;32m14\u001b[0m\n\u001b[0;31m    while_FP = lambda: (<cond> and while_block()) or while_FP()\u001b[0m\n\u001b[0m    ^\u001b[0m\n\u001b[0;31mIndentationError\u001b[0m\u001b[0;31m:\u001b[0m unexpected indent\n"
     ]
    }
   ],
   "source": [
    "# Eliminating While Statement\n",
    "def double(x):\n",
    "    return(x+x)\n",
    "x = 1\n",
    "d = []\n",
    "\n",
    "while x < 20:\n",
    "    d.append(double(x))\n",
    "    x = x + 1\n",
    "    \n",
    "print(d)\n",
    "\n",
    "### !!! TODO !!!\n",
    "#  while_FP = lambda: (<cond> and while_block()) or while_FP()"
   ]
  }
 ],
 "metadata": {
  "kernelspec": {
   "display_name": "Python 3",
   "language": "python",
   "name": "python3"
  },
  "language_info": {
   "codemirror_mode": {
    "name": "ipython",
    "version": 3
   },
   "file_extension": ".py",
   "mimetype": "text/x-python",
   "name": "python",
   "nbconvert_exporter": "python",
   "pygments_lexer": "ipython3",
   "version": "3.9.0rc1"
  }
 },
 "nbformat": 4,
 "nbformat_minor": 2
}
