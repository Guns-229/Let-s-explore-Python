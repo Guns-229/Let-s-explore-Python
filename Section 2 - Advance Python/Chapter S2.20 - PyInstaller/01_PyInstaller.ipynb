{
 "cells": [
  {
   "cell_type": "markdown",
   "metadata": {},
   "source": [
    "# PyInstaller"
   ]
  },
  {
   "cell_type": "markdown",
   "metadata": {},
   "source": [
    "PyInstaller is a third party module, which can be used to create binary files from its corresponding python scripts.\n",
    "\n",
    "It can be installed using \n",
    "\n",
    "```python\n",
    "$:> pip install pyinstaller --user\n",
    "```"
   ]
  },
  {
   "cell_type": "markdown",
   "metadata": {},
   "source": [
    "## Project Structure"
   ]
  },
  {
   "cell_type": "markdown",
   "metadata": {},
   "source": [
    "In order for `pyinstaller` be able to work, we need to have "
   ]
  },
  {
   "cell_type": "markdown",
   "metadata": {},
   "source": [
    "###  entry-point script"
   ]
  },
  {
   "cell_type": "code",
   "execution_count": null,
   "metadata": {},
   "outputs": [],
   "source": []
  },
  {
   "cell_type": "code",
   "execution_count": null,
   "metadata": {},
   "outputs": [],
   "source": []
  },
  {
   "cell_type": "markdown",
   "metadata": {},
   "source": [
    "Preparing Your Project\n",
    "Using PyInstaller\n",
    "Digging Into PyInstaller Artifacts\n",
    "Spec File\n",
    "Build Folder\n",
    "Dist Folder\n",
    "Customizing Your Builds\n",
    "Testing Your New Executable\n",
    "Debugging PyInstaller Executables\n",
    "Use the Terminal\n",
    "Debug Files\n",
    "Single Directory Builds\n",
    "Additional CLI Options\n",
    "Additional PyInstaller Docs\n",
    "Assisting in Dependency Detection\n",
    "Limitations\n",
    "Conclusion"
   ]
  },
  {
   "cell_type": "code",
   "execution_count": null,
   "metadata": {},
   "outputs": [],
   "source": []
  },
  {
   "cell_type": "code",
   "execution_count": null,
   "metadata": {},
   "outputs": [],
   "source": []
  }
 ],
 "metadata": {
  "kernelspec": {
   "display_name": "Python 3",
   "language": "python",
   "name": "python3"
  },
  "language_info": {
   "codemirror_mode": {
    "name": "ipython",
    "version": 3
   },
   "file_extension": ".py",
   "mimetype": "text/x-python",
   "name": "python",
   "nbconvert_exporter": "python",
   "pygments_lexer": "ipython3",
   "version": "3.7.0"
  }
 },
 "nbformat": 4,
 "nbformat_minor": 2
}
