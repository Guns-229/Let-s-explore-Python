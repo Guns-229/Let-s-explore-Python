{
 "cells": [
  {
   "cell_type": "markdown",
   "metadata": {},
   "source": [
    "## Flask Framework"
   ]
  },
  {
   "cell_type": "markdown",
   "metadata": {},
   "source": [
    "Flask is a web application framework written in Python. It is developed by `Armin Ronacher`, who leads an international group of Python enthusiasts named `Pocco`. Flask is based on the `Werkzeug` a `WSGI` toolkit and `Jinja2` template engine. Both are `Pocco` projects."
   ]
  },
  {
   "cell_type": "markdown",
   "metadata": {},
   "source": [
    "### Installation"
   ]
  },
  {
   "cell_type": "markdown",
   "metadata": {},
   "source": [
    "We will be installing flask in an `virtualenv`, So lets first create a virtualenv. With Python 3 we dont have to install virtualenv as it comes a custom version of it. But you can still install it if you wish to do so.   "
   ]
  },
  {
   "cell_type": "markdown",
   "metadata": {},
   "source": [
    "#### Installing virtualenv"
   ]
  },
  {
   "cell_type": "markdown",
   "metadata": {},
   "source": [
    "```\n",
    "$ pip install virtualenv\n",
    "```"
   ]
  },
  {
   "cell_type": "markdown",
   "metadata": {},
   "source": [
    "#### Creating virtualenv"
   ]
  },
  {
   "cell_type": "markdown",
   "metadata": {},
   "source": [
    "If you have installed virtualenv then use the following command to creating virtual environment to use in your project. \n",
    "\n",
    "```\n",
    "$:> cd <project_folder>\n",
    "$:> virtualenv venv\n",
    "```\n",
    "but if you wish the use python's own virtualenv then use the following command \n",
    "\n",
    "```\n",
    "$:> cd <project_folder>\n",
    "$:> python -m venv venv\n",
    "```\n",
    "The above commands will create a venv folder which will contain our virtual environment to use. Before using the it we need to activate it and it will start our virtual environment for us.  "
   ]
  },
  {
   "cell_type": "markdown",
   "metadata": {},
   "source": [
    "#### Activating virtualenv"
   ]
  },
  {
   "cell_type": "markdown",
   "metadata": {},
   "source": [
    "We need to activate virtualenv before we can use it. "
   ]
  },
  {
   "cell_type": "markdown",
   "metadata": {},
   "source": [
    "```\n",
    "$:> source venv/bin/activate\n",
    "```\n",
    "On Windows OS, please run the following command \n",
    "```\n",
    "C:> venv\\Scripts\\activate\n",
    "```"
   ]
  },
  {
   "cell_type": "markdown",
   "metadata": {},
   "source": [
    "#### Installing flask"
   ]
  },
  {
   "cell_type": "markdown",
   "metadata": {},
   "source": [
    "Now, lets install flask module using `pip` command.\n",
    "```\n",
    "$ pip install Flask\n",
    "```\n",
    "The above command will install `flask` module for us. We will still need internet connection for it to run ;) as `pip` commands not only install `Flask` but also its dependencies such as \n",
    "- `Werkzeug` implements WSGI, the standard Python interface between applications and servers.\n",
    "- `Jinja` is a template language that renders the pages your application serves.\n",
    "- `MarkupSafe` comes with Jinja. It escapes untrusted input when rendering templates to avoid injection attacks.\n",
    "- `ItsDangerous` securely signs data to ensure its integrity. This is used to protect Flask’s session cookie.\n",
    "- `Click` is a framework for writing command line applications. It provides the flask command and allows adding custom management commands."
   ]
  },
  {
   "cell_type": "markdown",
   "metadata": {},
   "source": [
    "### Application"
   ]
  },
  {
   "cell_type": "markdown",
   "metadata": {},
   "source": [
    "Lets create a basic application in flask. Showcasing function name in `telugu` language."
   ]
  },
  {
   "cell_type": "markdown",
   "metadata": {},
   "source": [
    "```python\n",
    "\"\"\"file_name: 01_min.py\"\"\"\n",
    "from flask import Flask\n",
    "\n",
    "\n",
    "app = Flask(__name__)\n",
    "\n",
    "\n",
    "@app.route('/', methods=['GET'])\n",
    "def రేమకు_స్వాగతం():\n",
    "    \"\"\"swagatham in telugu language.\"\"\"\n",
    "    return \"<h1>రేమకు స్వాగతం</h1>\"\n",
    "\n",
    "\n",
    "if __name__ == '__main__':\n",
    "    app.run()\n",
    "```"
   ]
  },
  {
   "cell_type": "markdown",
   "metadata": {},
   "source": [
    "Lets discuss its various sections, \n",
    "\n",
    "First we import `Flask` from `flask` application, then we create an `app` from `Flask`, next we create some `routes`, and finally we execute the created flask `app`."
   ]
  },
  {
   "cell_type": "markdown",
   "metadata": {},
   "source": [
    "#### Application in `debug` mode"
   ]
  },
  {
   "cell_type": "markdown",
   "metadata": {},
   "source": [
    "```python\n",
    "\"\"\"file_name: 01_01_minapp_debug_mode.py\"\"\"\n",
    "from flask import Flask\n",
    "\n",
    "\n",
    "app = Flask(__name__)\n",
    "\n",
    "\n",
    "@app.route('/', methods=['GET'])\n",
    "def రేమకు_స్వాగతం():\n",
    "    \"\"\"swagatham in telugu language.\"\"\"\n",
    "    return \"<h1>రేమకు స్వాగతం</h1>\"\n",
    "\n",
    "\n",
    "if __name__ == '__main__':\n",
    "    app.run(debug=True)\n",
    "```"
   ]
  },
  {
   "cell_type": "markdown",
   "metadata": {},
   "source": [
    "#### Running the applicataion"
   ]
  },
  {
   "cell_type": "markdown",
   "metadata": {},
   "source": [
    "```\n",
    "python <flask_app.py>\n",
    "```"
   ]
  },
  {
   "cell_type": "markdown",
   "metadata": {},
   "source": [
    "##### Externally Visible Server"
   ]
  },
  {
   "cell_type": "markdown",
   "metadata": {},
   "source": [
    "The following command will run the flask application run on all the available ipaddresses "
   ]
  },
  {
   "cell_type": "markdown",
   "metadata": {},
   "source": [
    "```\n",
    "flask run --host=0.0.0.0\n",
    "```"
   ]
  },
  {
   "cell_type": "markdown",
   "metadata": {},
   "source": [
    "or, we can provide the same in the code as shown below "
   ]
  },
  {
   "cell_type": "markdown",
   "metadata": {},
   "source": [
    "```python\n",
    "\"\"\" 03_externally_visible.py\"\"\"\n",
    "from flask import Flask\n",
    "\n",
    "\n",
    "app = Flask(__name__)\n",
    "\n",
    "\n",
    "@app.route('/', methods=['GET'])\n",
    "def రేమకు_స్వాగతం():\n",
    "    \"\"\"swagatham in telugu language.\"\"\"\n",
    "    return \"రేమకు స్వాగతం\"\n",
    "\n",
    "\n",
    "if __name__ == '__main__':\n",
    "    app.run(debug=True, port=20202, host=\"0.0.0.0\")\n",
    "```"
   ]
  },
  {
   "cell_type": "markdown",
   "metadata": {},
   "source": [
    "```\n",
    "python <flask_app.py>\n",
    "```"
   ]
  },
  {
   "cell_type": "markdown",
   "metadata": {},
   "source": [
    "### Routing"
   ]
  },
  {
   "cell_type": "markdown",
   "metadata": {},
   "source": [
    "`route()` decorator of the `Flask` class tells the application which URL/request type should be mapped to the below function. Its syntax is as follows"
   ]
  },
  {
   "cell_type": "markdown",
   "metadata": {},
   "source": [
    "> `app.route(rule, options)`"
   ]
  },
  {
   "cell_type": "markdown",
   "metadata": {},
   "source": [
    "- `rule`: It binds a URL with its function, such as `/login`, `/register` etc. The URL's here are relative in nature. \n",
    "\n",
    "- `options`: It contains a parameter `methods` which should be a list of methods which this `rule` should route  (`GET`, `POST` etc.).  By default a rule just listens for `GET` (and implicitly `HEAD`)"
   ]
  },
  {
   "cell_type": "markdown",
   "metadata": {},
   "source": [
    "Most `modern web frameworks` employ `routing` technique in mapping application `URLs` to `functions`."
   ]
  },
  {
   "cell_type": "markdown",
   "metadata": {},
   "source": [
    "```python\n",
    "\"\"\"02_route_example.py\"\"\"\n",
    "from flask import Flask\n",
    "\n",
    "\n",
    "app = Flask(__name__)\n",
    "\n",
    "\n",
    "@app.route('/telugu')\n",
    "def రేమకు_స్వాగతం():\n",
    "    \"\"\"swagatham in telugu language.\"\"\"\n",
    "    return \"రేమకు స్వాగతం\"\n",
    "\n",
    "\n",
    "@app.route('/tamil')\n",
    "def நல்வரவு():\n",
    "    \"\"\"swagatham in tamil language.\"\"\"\n",
    "    return \"நல்வரவு\"\n",
    "\n",
    "\n",
    "@app.route('/kannada')\n",
    "def ಸುಸ್ವಾಗತ():\n",
    "    \"\"\"swagatham in kannada language.\"\"\"\n",
    "    return \"ಸುಸ್ವಾಗತ\"\n",
    "\n",
    "\n",
    "@app.route('/german')\n",
    "def Willkommen():\n",
    "    \"\"\"swagatham in german language.\"\"\"\n",
    "    return \"Willkommen\"\n",
    "\n",
    "\n",
    "@app.route('/Hebrew')\n",
    "def Shalom():\n",
    "    \"\"\"swagatham in Hebrew language.\"\"\"\n",
    "    return \"Shalom\"\n",
    "\n",
    "\n",
    "if __name__ == '__main__':\n",
    "    app.run()\n",
    "```"
   ]
  },
  {
   "cell_type": "markdown",
   "metadata": {},
   "source": [
    "We can also bind the urls with functions using `add_url_rule()` as shown below"
   ]
  },
  {
   "cell_type": "markdown",
   "metadata": {},
   "source": [
    " ```python\n",
    "\"\"\"\n",
    "04_add_url_rule.py: Example using add_url_rule.\n",
    "\n",
    "- We are adding tamil, telugu using code before the app is run.\n",
    "- We are adding kannada at runtime after the server has started.\n",
    "\"\"\"\n",
    "from flask import Flask\n",
    "\n",
    "\n",
    "def telugu():\n",
    "    \"\"\"swagatham in telugu language.\"\"\"\n",
    "    return \"రేమకు స్వాగతం\"\n",
    "\n",
    "\n",
    "def tamil():\n",
    "    \"\"\"swagatham in tamil language.\"\"\"\n",
    "    app.add_url_rule(\"/kannada\", None, kannada)\n",
    "    return \"நல்வரவு\"\n",
    "\n",
    "\n",
    "def kannada():\n",
    "    \"\"\"swagatham in kannada language.\"\"\"\n",
    "    return \"ಸುಸ್ವಾಗತ\"\n",
    "\n",
    "\n",
    "if __name__ == '__main__':\n",
    "    rules = {\n",
    "        'telugu': telugu,\n",
    "        'tamil': tamil,\n",
    "    }\n",
    "\n",
    "    app = Flask(__name__)\n",
    "    for rule, func in rules.items():\n",
    "        app.add_url_rule(f'/{rule}', None, func)\n",
    "    app.run()\n",
    "\n",
    "```"
   ]
  },
  {
   "cell_type": "markdown",
   "metadata": {},
   "source": [
    "### Variable Rules"
   ]
  },
  {
   "cell_type": "markdown",
   "metadata": {},
   "source": [
    "Flask can process the variable parts to a URL by marking these special sections as <variable_name> which are then passed as a keyword argument to the function. Also a converter can be used by specifying a rule with <converter:variable_name> as shown in the examples below"
   ]
  },
  {
   "cell_type": "markdown",
   "metadata": {},
   "source": [
    "```python\n",
    "\"\"\" 05_swagatham_with_dynamic_rules_2.py\n",
    "Example using add_url_rule.\"\"\"\n",
    "from flask import Flask\n",
    "\n",
    "\n",
    "app = Flask(__name__)\n",
    "\n",
    "\n",
    "@app.route('/welcome:<language>')\n",
    "def select_welcome(language):\n",
    "    rules = {\n",
    "        'telugu': రేమకు_స్వాగతం,\n",
    "        'tamil': நல்வரவு,\n",
    "        'kannada': ಸುಸ್ವಾಗತ\n",
    "    }\n",
    "    print(language)\n",
    "    return rules[language]()\n",
    "\n",
    "\n",
    "def రేమకు_స్వాగతం():\n",
    "    \"\"\"swagatham in telugu language.\"\"\"\n",
    "    return \"రేమకు స్వాగతం\"\n",
    "\n",
    "\n",
    "def நல்வரவு():\n",
    "    \"\"\"swagatham in tamil language.\"\"\"\n",
    "    return \"நல்வரவு\"\n",
    "\n",
    "\n",
    "def ಸುಸ್ವಾಗತ():\n",
    "    \"\"\"swagatham in kannada language.\"\"\"\n",
    "    return \"ಸುಸ್ವಾಗತ\"\n",
    "\n",
    "\n",
    "if __name__ == '__main__':\n",
    "    app.run()\n",
    "```"
   ]
  },
  {
   "cell_type": "markdown",
   "metadata": {},
   "source": [
    "We can also define the datatype of the parameter using the following table"
   ]
  },
  {
   "cell_type": "markdown",
   "metadata": {},
   "source": [
    "| string | accepts any text without a slash (the default) |\n",
    "|--------|------------------------------------------------|\n",
    "| int    | integers                                       |\n",
    "| float  | floating point values                          |\n",
    "| path   | similar to default but also accepts slashes    |\n",
    "| any    | matches one of the items provided              |\n",
    "| uuid   | accepts UUID strings                           |"
   ]
  },
  {
   "cell_type": "markdown",
   "metadata": {},
   "source": [
    "```python\n",
    "\"\"\"Example for variable rules.\"\"\"\n",
    "# 05.01_swagatham_with_variables.py\n",
    "\n",
    "from flask import Flask\n",
    "from random import randint, uniform\n",
    "\n",
    "app = Flask(__name__)\n",
    "\n",
    "\n",
    "@app.route('/get_rand:<int:num>')\n",
    "def get_random_int(num):\n",
    "    print(\"get_random_int\", num)\n",
    "    return str(randint(1, int(num)))\n",
    "\n",
    "\n",
    "@app.route('/get_rand:<float:num>')\n",
    "def get_random_float(num):\n",
    "    print(num)\n",
    "    return str(uniform(0, float(num)))\n",
    "\n",
    "\n",
    "@app.route(\"/get_rand:<num>\")\n",
    "def get_any_rand(num):\n",
    "    \"\"\"Every <num> except of data type int & float are handled here\"\"\"\n",
    "    return \"not found\"\n",
    "\n",
    "\n",
    "if __name__ == '__main__':\n",
    "    app.run()\n",
    "\n",
    "```"
   ]
  },
  {
   "cell_type": "markdown",
   "metadata": {},
   "source": [
    "### URL Building"
   ]
  },
  {
   "cell_type": "markdown",
   "metadata": {},
   "source": [
    "To build a URL to a specific function you can use the `url_for()` function. It accepts the `name` of the `function` as `first argument` and a number of keyword arguments, each corresponding to the variable part of the URL rule. Unknown variable parts are appended to the URL as query parameters."
   ]
  },
  {
   "cell_type": "markdown",
   "metadata": {},
   "source": [
    "```python\n",
    "\"\"\"url_for.py\"\"\"\n",
    "from flask import Flask\n",
    "from flask import abort, redirect, url_for\n",
    "\n",
    "app = Flask(__name__)\n",
    "\n",
    "\n",
    "@app.route('/telugu')\n",
    "def telugu():\n",
    "    \"\"\"swagatham in telugu language.\"\"\"\n",
    "    return \"రేమకు స్వాగతం\"\n",
    "\n",
    "\n",
    "@app.route('/tamil')\n",
    "def tamil():\n",
    "    \"\"\"swagatham in tamil language.\"\"\"\n",
    "    return \"நல்வரவு\"\n",
    "\n",
    "\n",
    "@app.route('/kannada')\n",
    "def kannada():\n",
    "    \"\"\"swagatham in kannada language.\"\"\"\n",
    "    return \"ಸುಸ್ವಾಗತ\"\n",
    "\n",
    "\n",
    "@app.route('/english')\n",
    "def english():\n",
    "    \"\"\"swagatham in english language, but it will abort.\"\"\"\n",
    "    abort(404)\n",
    "\n",
    "@app.route('/welcome:<language>')\n",
    "def welcome(language):\n",
    "    return redirect(url_for(language.lower()))\n",
    "\n",
    "\n",
    "@app.route('/wel:<language>')\n",
    "def wel(language):\n",
    "    return redirect(\"/\" + language.lower())\n",
    "\n",
    "\n",
    "if __name__ == '__main__':\n",
    "    app.run()\n",
    "\n",
    "```"
   ]
  },
  {
   "cell_type": "markdown",
   "metadata": {},
   "source": [
    "### HTTP methods"
   ]
  },
  {
   "cell_type": "markdown",
   "metadata": {},
   "source": [
    "`HTTP` protocol supports multiple methods for accessing URLs. By default, `GET` requests are handled for any requests, using `methods` argument to the route() decorator other methods can also be served as shown in the examples below"
   ]
  },
  {
   "cell_type": "markdown",
   "metadata": {},
   "source": [
    "```python\n",
    "from flask import request\n",
    "\n",
    "@app.route('/logmein', methods=['GET', 'POST'])\n",
    "def logmein():\n",
    "    if request.method == 'POST':\n",
    "        validate_login(request.data)\n",
    "    else:\n",
    "        show_login()\n",
    "```         "
   ]
  },
  {
   "cell_type": "markdown",
   "metadata": {},
   "source": [
    "#### Methods"
   ]
  },
  {
   "cell_type": "markdown",
   "metadata": {},
   "source": [
    "- **GET**: The browser tells the server to just get the information stored on that page and send it. This is probably the most common method.\n",
    "\n",
    "\n",
    "- **HEAD**: The browser tells the server to get the information, but it is only interested in the headers, not the content of the page. An application is supposed to handle that as if a GET request was received but to not deliver the actual content. In Flask you don’t have to deal with that at all, the underlying Werkzeug library handles that for you.\n",
    "\n",
    "\n",
    "- **POST**: The browser tells the server that it wants to post some new information to that URL and that the server must ensure the data is stored and only stored once. This is how HTML forms usually transmit data to the server.\n",
    "\n",
    "\n",
    "- **PUT**: Similar to POST but the server might trigger the store procedure multiple times by overwriting the old values more than once. Now you might be asking why this is useful, but there are some good reasons to do it this way. Consider that the connection is lost during transmission: in this situation a system between the browser and the server might receive the request safely a second time without breaking things. With POST that would not be possible because it must only be triggered once.\n",
    "\n",
    "\n",
    "- **DELETE**: Remove the information at the given location."
   ]
  },
  {
   "cell_type": "markdown",
   "metadata": {},
   "source": [
    "```python\n",
    "\"\"\"\n",
    "Echo Implementation in flask.\n",
    "# 07_methods.py\n",
    "\"\"\"\n",
    "from flask import Flask, request\n",
    "\n",
    "\n",
    "app = Flask(__name__)\n",
    "\n",
    "\n",
    "@app.route('/echo', methods=['GET', 'POST'])\n",
    "def echo():\n",
    "    if request.method == 'POST':\n",
    "        print(request.form)\n",
    "        return request.form['echo']\n",
    "    else:\n",
    "        return \"\"\"<html>\n",
    "        <body>\n",
    "           <form action=\"/echo\" method=\"post\">\n",
    "              Text to echo: <input type=\"text\" name=\"echo\"><br>\n",
    "              <input type=\"submit\" value=\"Submit\">\n",
    "            </form>\n",
    "        </body></html>\n",
    "        \"\"\"\n",
    "\n",
    "\n",
    "if __name__ == '__main__':\n",
    "    app.run(debug=True)\n",
    "```"
   ]
  },
  {
   "cell_type": "markdown",
   "metadata": {},
   "source": [
    "### Rendering Templates"
   ]
  },
  {
   "cell_type": "markdown",
   "metadata": {},
   "source": [
    "Details in `jinja2` chapter"
   ]
  },
  {
   "cell_type": "markdown",
   "metadata": {},
   "source": [
    "### Static Files"
   ]
  },
  {
   "cell_type": "markdown",
   "metadata": {},
   "source": [
    "Web server also host many static files like `css`, `js`, `png`, `jpg`, `mov`, `avi`, `swf` etc. Flask provide a way to handle these types of files. A folder named `static` can be created under project structure where all these types of files can be stored. \n",
    "\n",
    "These files can be accessed using the following code. "
   ]
  },
  {
   "cell_type": "markdown",
   "metadata": {},
   "source": [
    "```python\n",
    "url_for('static', filename='myfonts.ttf')\n",
    "```"
   ]
  },
  {
   "cell_type": "markdown",
   "metadata": {},
   "source": [
    "### Request Object"
   ]
  },
  {
   "cell_type": "markdown",
   "metadata": {},
   "source": [
    "Flask provides \"request object\" to access the incoming data for any request. It holds all incoming data from the request, includeing the `headers` details (`mimetype`, `referrer`, `IP address`, `HTTP method`, etc), request data such as cookies, forms, args & files etc.\n",
    "\n",
    "Most common attributes of it are \n",
    "- `args`: Query string (string after question mark in URL) in dictionary format\n",
    "- `method`: current request method\n",
    "- `Cookies`: dictionary object holding Cookie names and values\n",
    "- `files`:  data pertaining to uploaded file\n",
    "- `form`: The form data contained in dictionary format"
   ]
  },
  {
   "cell_type": "markdown",
   "metadata": {},
   "source": [
    "### Query Arguments"
   ]
  },
  {
   "cell_type": "markdown",
   "metadata": {},
   "source": [
    "They are URL argument which are added to a query string, is the simpliest way to pass small non secure data to a web app. \n",
    "They look something like this"
   ]
  },
  {
   "cell_type": "markdown",
   "metadata": {},
   "source": [
    "`search?q=arya%20samaj&sourceid=chrome&ie=UTF-8`\n",
    "\n",
    "where it is passing three values:\n",
    "\n",
    "- q = \"arya samaj\",\n",
    "- sourceid = \"chrome\"\n",
    "- ie = \"UTF8"
   ]
  },
  {
   "cell_type": "markdown",
   "metadata": {},
   "source": [
    "The query string begins after the question mark (?) in URL and is a list of key-value pairs separated by an ampersand (&). Key and values are seperated by an equals sign (=) like in the above example.\n",
    "\n",
    "| Key      | value       |\n",
    "|----------|-------------|\n",
    "| q        | arya samaj  |\n",
    "| sourceid | chrome      |\n",
    "| ie       | UTF8        |"
   ]
  },
  {
   "cell_type": "markdown",
   "metadata": {},
   "source": [
    "#### How to read them in Flask"
   ]
  },
  {
   "cell_type": "markdown",
   "metadata": {},
   "source": [
    "Lets take a simple example, we have an assessment application on various topics. Candidates are provided one question at a time and on clicking on \"next\" button they are taken to next question. All the questions are stored in a SQLite DB and by providing the question id we extract the question. So the request url will be something like this:\n",
    "\n",
    "> \"assessment?question=10&topic=2\"\n",
    "\n",
    "We can use request object object to read it as we read a dictionary. \n",
    "\n",
    "```python\n",
    "request.args.get('question') \n",
    "# or use the following with default value as ''\n",
    "request.args.get('question', '') \n",
    "# or \n",
    "request.args['question']\n",
    "```\n"
   ]
  },
  {
   "cell_type": "markdown",
   "metadata": {},
   "source": [
    "```python\n",
    "\"\"\"\n",
    "08.01_url_args.py\n",
    "\"\"\"\n",
    "from flask import Flask\n",
    "from flask import abort, request, redirect, url_for\n",
    "\n",
    "app = Flask(__name__)\n",
    "\n",
    "\n",
    "@app.route('/telugu')\n",
    "def telugu():\n",
    "    \"\"\"swagatham in telugu language.\"\"\"\n",
    "    return \"రేమకు స్వాగతం\"\n",
    "\n",
    "\n",
    "@app.route('/tamil')\n",
    "def tamil():\n",
    "    \"\"\"swagatham in tamil language.\"\"\"\n",
    "    return \"நல்வரவு\"\n",
    "\n",
    "\n",
    "@app.route('/kannada')\n",
    "def kannada():\n",
    "    \"\"\"swagatham in kannada language.\"\"\"\n",
    "    return \"ಸುಸ್ವಾಗತ\"\n",
    "\n",
    "\n",
    "@app.route('/english')\n",
    "def english():\n",
    "    \"\"\"swagatham in english language, but it will abort.\"\"\"\n",
    "    abort(404)\n",
    "\n",
    "\n",
    "@app.route('/welcome')\n",
    "def welcome():\n",
    "    language = request.args.get(\"language\", \"english\")\n",
    "    name = request.args.get(\"name\", \"not found\")\n",
    "    print(name)\n",
    "    return redirect(url_for(language.lower()))\n",
    "\n",
    "\n",
    "if __name__ == '__main__':\n",
    "    app.run(debug=True)\n",
    "```"
   ]
  },
  {
   "cell_type": "markdown",
   "metadata": {},
   "source": [
    "Below is another example, of how we can use the arguments. This code is taken from the file `app.py` of `pareekshan` sample web application, which can be found at https://gitlab.com/mayankjohri/LetsExplorePython/tree/master/Section%202%20-%20Advance%20Python/Chapter%20S2.06%20-%20Web%20Development%20&%20REST%20API%20Servers/code/pareekshan/001."
   ]
  },
  {
   "cell_type": "markdown",
   "metadata": {},
   "source": [
    "```python\n",
    "@app.route(\"/start_quiz\", methods=['GET'])\n",
    "def start_quiz():\n",
    "    no = 5\n",
    "    topic_id = request.args.get('topic', 0)\n",
    "    questions = Questions.query.order_by(\n",
    "        func.random()).with_entities(Questions.id).filter(\n",
    "        Questions.topics_id == topic_id).limit(no)\n",
    "    quest = []\n",
    "    # still need to find better method to extract the values.\n",
    "    quest = [q[0] for q in questions]\n",
    "    return render_template(\"start_quiz.html\", questions=quest)\n",
    "```"
   ]
  },
  {
   "cell_type": "markdown",
   "metadata": {},
   "source": [
    "In the above example, the url with which we call this API is `http://<server>/start_quiz?topic=2`, and we use\n",
    "\n",
    "```python\n",
    "topic_id = request.args.get('topic')\n",
    "```\n",
    "   "
   ]
  },
  {
   "cell_type": "markdown",
   "metadata": {},
   "source": [
    "### Sending Form Data to Template"
   ]
  },
  {
   "cell_type": "markdown",
   "metadata": {},
   "source": [
    "Form data is passed to flask in the dictionary format, thus we can pass entire form as is to the required template as shown below.\n",
    "\n",
    "The most common usecase if it is while registering, where we need user to cross verify the filled in details. We have taken the same as an example.    \n",
    "\n",
    "For this to work we need three files, \n",
    "- `app.py`: Which contains the python code\n",
    "- `register.html`: which contains html page where user provides his details\n",
    "- `validate.html`: which is populated with the provided detail "
   ]
  },
  {
   "cell_type": "markdown",
   "metadata": {},
   "source": [
    "##### app.py"
   ]
  },
  {
   "cell_type": "markdown",
   "metadata": {},
   "source": [
    "```python\n",
    "#!/usr/bin/env python\n",
    "# coding=utf-8\n",
    "from flask import Flask, render_template, request, redirect, url_for\n",
    "from flask import jsonify\n",
    "from flask_sqlalchemy import SQLAlchemy\n",
    "from sqlalchemy import ForeignKey\n",
    "from sqlalchemy.orm import relationship\n",
    "from sqlalchemy.sql.expression import func\n",
    "\n",
    "\n",
    "app = Flask(__name__)\n",
    "app.config['SQLALCHEMY_DATABASE_URI'] = 'sqlite:///../db/users.sqlite'\n",
    "\n",
    "db = SQLAlchemy(app)\n",
    "\n",
    "\n",
    "class User(db.Model):\n",
    "    __tablename__ = \"user\"\n",
    "    id = db.Column(db.Integer, primary_key=True)\n",
    "    username = db.Column(db.String)\n",
    "    first_name = db.Column(db.String)\n",
    "    last_name = db.Column(db.String)\n",
    "\n",
    "    questions = relationship(\"Questions\", back_populates=\"topics\")\n",
    "\n",
    "\n",
    "@app.route(\"/regval\", methods=['GET', 'POST'])\n",
    "def register():\n",
    "    \"\"\"\n",
    "    It requests for user details and then validate them,\n",
    "    once validated, new valid user is added to db.\n",
    "    \"\"\"\n",
    "    if request.method == 'POST':\n",
    "        return render_template(\"validate.html\", result=request.form)\n",
    "    else:\n",
    "        return render_template(\"register.html\")\n",
    "\n",
    "\n",
    "if __name__ == \"__main__\":\n",
    "    app.run(debug=True)\n",
    "```"
   ]
  },
  {
   "cell_type": "markdown",
   "metadata": {},
   "source": [
    "##### register.html"
   ]
  },
  {
   "cell_type": "markdown",
   "metadata": {},
   "source": [
    "```html\n",
    "<!doctype html>\n",
    "<html>\n",
    "   <body>\n",
    "        <div>Please enter the user details:</div>\n",
    "        <form action = \"/regval\" method = \"POST\">\n",
    "            <p>username <input type = \"text\" name = \"username\" /></p>\n",
    "            <p>First Name <input type = \"text\" name = \"first_name\" /></p>\n",
    "            <p>Last Name <input type = \"text\" name = \"last_name\" /></p>\n",
    "            <p><input type = \"submit\" value = \"submit\" /></p>\n",
    "        </form>\n",
    "   </body>\n",
    "</html>\n",
    "```"
   ]
  },
  {
   "cell_type": "markdown",
   "metadata": {},
   "source": [
    "##### validate.html"
   ]
  },
  {
   "cell_type": "markdown",
   "metadata": {},
   "source": [
    "```html\n",
    "<!doctype html>\n",
    "<html>\n",
    "   <body>\n",
    "      <table border = 1>\n",
    "         {% for key, value in result.items() %}\n",
    "\n",
    "            <tr>\n",
    "               <th> {{ key }} </th>\n",
    "               <td> {{ value }} </td>\n",
    "            </tr>\n",
    "\n",
    "         {% endfor %}\n",
    "      </table>\n",
    "      <button onclick=\"goBack()\">Go Back</button>\n",
    "      <button id='submit'>Submit</button>\n",
    "    <script>\n",
    "    function goBack() {\n",
    "        window.history.back();\n",
    "    }\n",
    "    </script>\n",
    "   </body>\n",
    "</html>\n",
    "```"
   ]
  },
  {
   "cell_type": "markdown",
   "metadata": {},
   "source": [
    "### Cookies"
   ]
  },
  {
   "cell_type": "markdown",
   "metadata": {},
   "source": [
    "An `HTTP cookie` (also known as `web cookie`, `Internet cookie`, `browser cookie`, or simply `cookie`) is a specific dataset sent from a website and stored on the user's computer by the user's web browser while the user is browsing. Cookies were designed to be a reliable mechanism for websites to remember stateful information (such as items added in the shopping cart in an online store) or to record the user's browsing activity (including clicking particular buttons, logging in, or recording which pages were visited in the past). They can also be used to remember arbitrary pieces of information that the user previously entered into form fields such as names, addresses, passwords, and credit card numbers.\n",
    "\n",
    "Almost every request/response contains a cookie’s attribute which is a dictionary object of all the cookie variables and their corresponding values. It can also stores its expiry time, path and domain name of the site.\n",
    "\n",
    "We can store almost any type of data in it. "
   ]
  },
  {
   "cell_type": "markdown",
   "metadata": {},
   "source": [
    "Flask allows us to read and write cookies using `set_cookie` and `request.cookies.get`"
   ]
  },
  {
   "cell_type": "markdown",
   "metadata": {},
   "source": [
    "#### `set_cookie`"
   ]
  },
  {
   "cell_type": "markdown",
   "metadata": {},
   "source": [
    "Lets send the unique `uuid` as cookie to the browser "
   ]
  },
  {
   "cell_type": "markdown",
   "metadata": {},
   "source": [
    "##### app.py"
   ]
  },
  {
   "cell_type": "markdown",
   "metadata": {},
   "source": [
    "```python\n",
    "# code from app.py, its not full app.py\n",
    "from uuid import uuid4\n",
    "resp = make_response(render_template('register.html'))\n",
    "# print(type(uuid4()))\n",
    "resp.set_cookie('uuid', str(uuid4()))\n",
    "return resp\n",
    "```"
   ]
  },
  {
   "cell_type": "markdown",
   "metadata": {},
   "source": [
    "##### register.html"
   ]
  },
  {
   "cell_type": "markdown",
   "metadata": {},
   "source": [
    "```html\n",
    "<!doctype html>\n",
    "<html>\n",
    "   <body onload=\"display_uuid()\">\n",
    "        <div>Please enter the user details:</div>\n",
    "        <form action = \"/regval\" method = \"POST\">\n",
    "            <p>username <input type = \"text\" name = \"username\" /></p>\n",
    "            <p>First Name <input type = \"text\" name = \"first_name\" /></p>\n",
    "            <p>Last Name <input type = \"text\" name = \"last_name\" /></p>\n",
    "            <p><input type = \"submit\" value = \"submit\" /></p>\n",
    "        </form>\n",
    "        <div><label id=\"uuid\"></label></div>\n",
    "        <script>\n",
    "            function getCookie(cname) {\n",
    "                var name = cname + \"=\";\n",
    "                var decodedCookie = decodeURIComponent(document.cookie);\n",
    "                var ca = decodedCookie.split(';');\n",
    "                for(var i = 0; i <ca.length; i++) {\n",
    "                    var c = ca[i];\n",
    "                    while (c.charAt(0) == ' ') {\n",
    "                        c = c.substring(1);\n",
    "                    }\n",
    "                    if (c.indexOf(name) == 0) {\n",
    "                        return c.substring(name.length, c.length);\n",
    "                    }\n",
    "                }\n",
    "                return \"\";\n",
    "            };\n",
    "\n",
    "            function display_uuid(){\n",
    "                var uuid = getCookie(\"uuid\");\n",
    "                console.info(uuid);\n",
    "                document.getElementById(\"uuid\").innerHTML = uuid;\n",
    "            };\n",
    "        </script>\n",
    "   </body>\n",
    "</html>\n",
    "```"
   ]
  },
  {
   "cell_type": "markdown",
   "metadata": {},
   "source": [
    "#### Read Cookie from response"
   ]
  },
  {
   "cell_type": "markdown",
   "metadata": {},
   "source": [
    "##### app.py"
   ]
  },
  {
   "cell_type": "markdown",
   "metadata": {},
   "source": [
    "```python\n",
    "# code from app.py, its not full app.py\n",
    "if request.method == 'POST':\n",
    "    random_num = request.cookies.get(\"random_num\", \"\")\n",
    "    print(random_num)\n",
    "    return render_template(\"validate.html\",\n",
    "                           result=request.form,\n",
    "                           cookie=random_num)\n",
    "```"
   ]
  },
  {
   "cell_type": "markdown",
   "metadata": {},
   "source": [
    "##### validate.html"
   ]
  },
  {
   "cell_type": "markdown",
   "metadata": {},
   "source": [
    "```html\n",
    "<!doctype html>\n",
    "<html>\n",
    "   <body>\n",
    "\n",
    "      <table border = 1>\n",
    "         {% for key, value in result.items() %}\n",
    "\n",
    "            <tr>\n",
    "               <th> {{ key }} </th>\n",
    "               <td> {{ value }} </td>\n",
    "            </tr>\n",
    "\n",
    "         {% endfor %}\n",
    "            <tr>\n",
    "               <th> cookie</th>\n",
    "               <td> {{cookie}}</td>\n",
    "      </table>\n",
    "      <button onclick=\"goBack()\">Go Back</button>\n",
    "      <button id='submit'>Submit</button>\n",
    "<script>\n",
    "function goBack() {\n",
    "    window.history.back();\n",
    "}\n",
    "</script>\n",
    "   </body>\n",
    "</html>\n",
    "```"
   ]
  },
  {
   "cell_type": "markdown",
   "metadata": {},
   "source": [
    "### Sessions"
   ]
  },
  {
   "cell_type": "markdown",
   "metadata": {},
   "source": [
    "It allows server to store information specific to a user between his various requests to server.It is implemented on top of `cookies` and for security reasons resultant cookies are encrypted / signed cryptographically. Which results in read only cookies for the Browser for all practical purpose.\n",
    "\n",
    "\n",
    "Flask provide `session` module to help us in this regards. Lets update out previous example with session, In this we are going to ask users to provide their name along with the subject of the test which they wish to take. "
   ]
  },
  {
   "cell_type": "markdown",
   "metadata": {},
   "source": [
    "**Updated `app.py`** "
   ]
  },
  {
   "cell_type": "code",
   "execution_count": null,
   "metadata": {},
   "outputs": [],
   "source": [
    "#!/usr/bin/env python\n",
    "# coding=utf-8\n",
    "from flask import Flask, render_template, request, url_for, redirect\n",
    "from flask import session\n",
    "from flask_sqlalchemy import SQLAlchemy\n",
    "from sqlalchemy import ForeignKey\n",
    "from sqlalchemy.orm import relationship\n",
    "from sqlalchemy.sql.expression import func\n",
    "\n",
    "from utils import get_rand_string\n",
    "\n",
    "\n",
    "app = Flask(__name__)\n",
    "app.secret_key = get_rand_string(15, 20)\n",
    "app.config['SQLALCHEMY_DATABASE_URI'] = 'sqlite:///../db/questions.sqlite'\n",
    "db = SQLAlchemy(app)\n",
    "\n",
    "\n",
    "class Topics(db.Model):\n",
    "    __tablename__ = \"topics\"\n",
    "    id = db.Column(db.Integer, primary_key=True)\n",
    "    name = db.Column(db.String)\n",
    "    questions = relationship(\"Questions\", back_populates=\"topics\")\n",
    "\n",
    "\n",
    "class Questions(db.Model):\n",
    "    __tablename__ = \"questions\"\n",
    "    id = db.Column(db.Integer, primary_key=True)\n",
    "    question = db.Column(db.String)\n",
    "    topics_id = db.Column(db.Integer, ForeignKey('topics.id'))\n",
    "    topics = relationship(\"Topics\", back_populates=\"questions\")\n",
    "    choices = relationship(\"Choice\", back_populates=\"questions\")\n",
    "\n",
    "\n",
    "class Choice(db.Model):\n",
    "    __tablename__ = \"choice\"\n",
    "    id = db.Column(db.Integer, primary_key=True)\n",
    "    question_id = db.Column(db.Integer, ForeignKey('questions.id'))\n",
    "    questions = relationship(\"Questions\", back_populates=\"choices\")\n",
    "    choice = db.Column(db.String)\n",
    "    correct = db.Column(db.Boolean)\n",
    "\n",
    "\n",
    "def get_topics():\n",
    "    result = Topics.query.with_entities(Topics.name).all()\n",
    "    result = [r for r, in result]\n",
    "    print(result, flush=True)\n",
    "    return result\n",
    "\n",
    "\n",
    "@app.route(\"/\")\n",
    "def home():\n",
    "    topics = Topics.query.with_entities(Topics.id, Topics.name).all()\n",
    "    topic_details = [r for r in topics]\n",
    "    return render_template(\"index.html\",\n",
    "                           topics=topic_details)\n",
    "\n",
    "\n",
    "@app.route(\"/check_user\", methods=[\"POST\"])\n",
    "def check_user():\n",
    "    if \"username\" not in session:\n",
    "        topic = request.form.get(\"topic\")\n",
    "        username = request.form.get(\"username\")\n",
    "        session['username'] = username\n",
    "        print(username, topic)\n",
    "        return redirect('/start_quiz?topic={topic}'.format(\n",
    "                        topic=topic))\n",
    "\n",
    "\n",
    "@app.route(\"/moolyaankan\", methods=[\"POST\"])\n",
    "def moolyaankan():\n",
    "    print(\"moolyaankan\")\n",
    "    result = {\n",
    "        \"correct\": 0,\n",
    "        \"wrong\": 0\n",
    "    }\n",
    "    for quest, sel in request.form.items():\n",
    "        # !!! Bad coding practice, will fix in later versions !!!\n",
    "        # Lets validate if the selected answers are correct or not.\n",
    "        question = Questions.query.filter(\n",
    "            Questions.id == quest).first()\n",
    "        print(question)\n",
    "        got_it = False\n",
    "        for ch in question.choices:\n",
    "            # print(ch.correct, ch.id, sel, ch.correct and ch.id == int(sel))\n",
    "            if ch.correct and ch.id == int(sel):\n",
    "                print(\"!!! Hurrey !!!\")\n",
    "                got_it = True\n",
    "        if got_it:\n",
    "            result[\"correct\"] += 1\n",
    "        else:\n",
    "            result[\"wrong\"] += 1\n",
    "    return render_template(\"result.html\", correct=result[\"correct\"],\n",
    "                           wrong=result[\"wrong\"])\n",
    "\n",
    "\n",
    "@app.route(\"/one_q\", methods=['GET'])\n",
    "def one_q():\n",
    "    print(request.args)\n",
    "    q_id = request.args.get(\"q_id\")\n",
    "    question = Questions.query.filter(Questions.id == q_id).first()\n",
    "    return render_template(\"one_q.html\", question=question)\n",
    "\n",
    "\n",
    "@app.route(\"/start_quiz\", methods=['GET'])\n",
    "def start_quiz():\n",
    "    no = 5\n",
    "    topic_id = request.args.get('topic')\n",
    "    username = session['username']\n",
    "    questions = Questions.query.order_by(\n",
    "        func.random()).with_entities(Questions.id).filter(\n",
    "        Questions.topics_id == topic_id).limit(no)\n",
    "\n",
    "    quest = [q[0] for q in questions]\n",
    "\n",
    "    return render_template(\"start_quiz.html\", questions=quest,\n",
    "                           username=username)\n",
    "\n",
    "\n",
    "@app.route(\"/show_result\", methods=['POST'])\n",
    "def show_result():\n",
    "    selections = request.form\n",
    "    correct_answers = 0\n",
    "    for k, v in selections.items():\n",
    "        if k.startswith(\"choice_\"):\n",
    "            print(Choice.query.filter(Choice.id == v).first().id)\n",
    "            if Choice.query.filter(Choice.id == v).first().correct == 1:\n",
    "                correct_answers += 1\n",
    "            print(k, v)\n",
    "    return \"Thanks a lot:<br>Total correct Answers= \" + str(correct_answers)\n",
    "\n",
    "\n",
    "if __name__ == \"__main__\":\n",
    "    app.run(debug=True)\n"
   ]
  },
  {
   "cell_type": "markdown",
   "metadata": {},
   "source": [
    "We have updated few methods to accomodate the session, `check_user` was added and `index.html` and `start_quiz.html` were updated as shown below"
   ]
  },
  {
   "cell_type": "markdown",
   "metadata": {},
   "source": [
    "**`index.html`**"
   ]
  },
  {
   "cell_type": "markdown",
   "metadata": {},
   "source": [
    "```html\n",
    "{% extends \"base.html\" %}\n",
    "\n",
    "{% block content %}\n",
    "<h1>Please select a topic to evaluation</h1>\n",
    "<form id=\"select_topic\" action=\"/check_user\" method=\"POST\" >\n",
    "     <select name=\"topic\">\n",
    "        {% for topic in topics %}\n",
    "            <option value=\"{{ topic[0] }}\">{{topic[1]}}</option>\n",
    "        {% endfor %}\n",
    "    </select>\n",
    "    <label>Username: </label><input type=\"input\" name=\"username\"/>\n",
    "    <input type=\"submit\"/>\n",
    "</form>\n",
    "{% endblock %}\n",
    "```"
   ]
  },
  {
   "cell_type": "markdown",
   "metadata": {},
   "source": [
    "**`start_quiz.html`**"
   ]
  },
  {
   "cell_type": "markdown",
   "metadata": {},
   "source": [
    "```html\n",
    "{% extends \"base.html\" %}\n",
    "{% block header%}\n",
    "<style>\n",
    "#question{\n",
    "    background-color: #cefff0;\n",
    "    border: solid #ceefe4 2px;\n",
    "    font-size: 1.1em;\n",
    "    color: #31101b;\n",
    "    font-family: Tahoma, Geneva, sans-serif;\n",
    "    margin-top: 2em;\n",
    "    padding: 0.2em;\n",
    "}\n",
    "#choices{\n",
    "    border: 1px solid  #ceefe4;\n",
    "    background-color: white;\n",
    "    font-family: Tahoma, Geneva, sans-serif;\n",
    "    padding: 0.5em;\n",
    "    padding-left: 2em;\n",
    "}\n",
    "#code {\n",
    "    font-family: \"Lucida Console\", Monaco, monospace;\n",
    "    padding: 0.2em;\n",
    "    font-size: 0.9em;\n",
    "    white-space: pre;\n",
    "    display: block;\n",
    "}\n",
    "</style>\n",
    "\n",
    "{% endblock %}\n",
    "\n",
    "{% block content %}\n",
    "<h1>Welcome to Pareekshan</h1>\n",
    "<div>\n",
    "    <p>Hello {{ session['username'] }},</p>\n",
    "    We are going to have 10 questions. we have two buttons, \"next\" and \"Lets Evaluate\".\n",
    "    You can go to the next question by clicking \"next\" and end the session by clicking \"Lets Evaluate\".\n",
    "</div>\n",
    "\n",
    "    <a type=\"button\" id=\"start\" value=\"Lets Start the Test\" >Lets Start the Test</a>\n",
    "<script>\n",
    "    $().ready(function(){\n",
    "        var sols = {};\n",
    "\n",
    "        var questions = {{questions}};\n",
    "        for (a in questions){\n",
    "            console.info(questions[a]);\n",
    "            sols[questions[a]] = \"\";\n",
    "        }\n",
    "        sols = JSON.stringify(sols);\n",
    "        console.log(sols);\n",
    "        sessionStorage.setItem(\"sols\",sols);\n",
    "        var meta1 = JSON.parse(window.sessionStorage.getItem(\"sols\"));\n",
    "        console.log(\"meta 1\", meta1);\n",
    "        sessionStorage.setItem(\"quest\", JSON.stringify(questions));\n",
    "\n",
    "        var quest = JSON.parse(sessionStorage.quest);\n",
    "        console.log(\"Quest\", quest);\n",
    "        $(\"#start\").attr('href', '/one_q?q_id=' + quest[0]);\n",
    "\n",
    "    });\n",
    "\n",
    "</script>\n",
    "{% endblock %}\n",
    "```"
   ]
  },
  {
   "cell_type": "markdown",
   "metadata": {},
   "source": [
    "### Redirect"
   ]
  },
  {
   "cell_type": "markdown",
   "metadata": {},
   "source": [
    "Many a times, we need to redirect the users to another url after processing is completed,  Flask provides us `redirect` method to achieve just that, its syntax is as follows"
   ]
  },
  {
   "cell_type": "markdown",
   "metadata": {},
   "source": [
    "```python\n",
    "Flask.redirect(location, statuscode, response)\n",
    "\n",
    "```\n",
    "Where\n",
    "- location: URL where response should be redirected\n",
    "\n",
    "- statuscode: Status code which should be sent to browser, defaults is `302`.\n",
    "\n",
    "- response: parameter is used to instantiate response.\n",
    "\n",
    "We have already used it in previous `app.py` in the following funciton\n",
    "\n",
    "```python\n",
    "@app.route(\"/check_user\", methods=[\"POST\"])\n",
    "def check_user():\n",
    "    if \"username\" in session:\n",
    "        pass\n",
    "\n",
    "    topic = request.form.get(\"topic\")\n",
    "    username = request.form.get(\"username\")\n",
    "    session.clear()\n",
    "    session['username'] = username\n",
    "    print(username, topic)\n",
    "    return redirect('/start_quiz?topic={topic}'.format(\n",
    "                    topic=topic))\n",
    "```"
   ]
  },
  {
   "cell_type": "markdown",
   "metadata": {},
   "source": [
    "### Message Flashing"
   ]
  },
  {
   "cell_type": "markdown",
   "metadata": {},
   "source": [
    "Flask uses `flash` function to provide feedback to the user. It can be used to inform users about task status, or login status etc without reloading the current page. In our example we are going to create a login page and use the `flash` to convey the messages.\n",
    "\n",
    "We had to change few things to achieve it. "
   ]
  },
  {
   "cell_type": "markdown",
   "metadata": {},
   "source": [
    "**`base.html`**\n",
    "\n",
    "Following code has been addded to base.html, were we want the messages to display."
   ]
  },
  {
   "cell_type": "markdown",
   "metadata": {},
   "source": [
    "```html\n",
    "{% with messages = get_flashed_messages() %}\n",
    "  {% if messages %}\n",
    "    <ul class=flashes>\n",
    "    {% for message in messages %}\n",
    "      <li>{{ message }}</li>\n",
    "    {% endfor %}\n",
    "    </ul>\n",
    "  {% endif %}\n",
    "{% endwith %}\n",
    "        \n",
    "```"
   ]
  },
  {
   "cell_type": "markdown",
   "metadata": {},
   "source": [
    "**`app.py`**"
   ]
  },
  {
   "cell_type": "markdown",
   "metadata": {},
   "source": [
    "```python\n",
    "@app.route('/login', methods=['GET', 'POST'])\n",
    "def login():\n",
    "    error = None\n",
    "    if request.method == 'POST':\n",
    "        if request.form['username'] != 'nirankari' or \\\n",
    "                request.form['password'] != 'ajar_amar':\n",
    "            error = 'Invalid credentials'\n",
    "            flash(error)\n",
    "        else:\n",
    "            flash('Successfully logged in.')\n",
    "            return redirect(url_for('home'))\n",
    "    return render_template('login.html')\n",
    "```"
   ]
  },
  {
   "cell_type": "markdown",
   "metadata": {},
   "source": [
    "Now, what will happen, if user credentials are invalid than \"Invalid credentials\" message is displayed at top of login screen and if successfully logged in then message \"Successfully logged in\" message is displayed."
   ]
  },
  {
   "cell_type": "markdown",
   "metadata": {},
   "source": [
    "One issue we can see is that in current implementation, we do not have method to distinguish between error, info and other messages. Let implement it in version \"003\""
   ]
  },
  {
   "cell_type": "markdown",
   "metadata": {},
   "source": [
    "Good thing is that developers at \"Flash\" have already taken care of this scenario. We will be updating same files again to accomodate it."
   ]
  },
  {
   "cell_type": "markdown",
   "metadata": {},
   "source": [
    "```python\n",
    "flash('Invalid credentials', 'error')\n",
    "```"
   ]
  },
  {
   "cell_type": "markdown",
   "metadata": {},
   "source": [
    "**`base.html`**\n",
    "\n",
    "Following code has been addded to base.html, were we want the messages to display."
   ]
  },
  {
   "cell_type": "markdown",
   "metadata": {},
   "source": [
    "```html\n",
    "{% with messages = get_flashed_messages(with_categories=true) %}\n",
    "  {% if messages %}\n",
    "    <ul class=flashes>\n",
    "    {% for category, message in messages %}\n",
    "      <li class=\"{{ category }}\">{{ message }}</li>\n",
    "    {% endfor %}\n",
    "    </ul>\n",
    "  {% endif %}\n",
    "{% endwith %}        \n",
    "```"
   ]
  },
  {
   "cell_type": "markdown",
   "metadata": {},
   "source": [
    "**`app.py`**"
   ]
  },
  {
   "cell_type": "markdown",
   "metadata": {},
   "source": [
    "```python\n",
    "@app.route('/login', methods=['GET', 'POST'])\n",
    "def login():\n",
    "    if request.method == 'POST':\n",
    "        if request.form['username'] != 'nirankari' or \\\n",
    "                request.form['password'] != 'ajar_amar':\n",
    "            flash('Invalid credentials', 'error')\n",
    "        else:\n",
    "            flash('Successfully logged in.', 'info')\n",
    "            return redirect(url_for('home'))\n",
    "    return render_template('login.html')\n",
    "```"
   ]
  },
  {
   "cell_type": "markdown",
   "metadata": {},
   "source": [
    "We may wish to update `css` files to color code various types of messages in the base.html file. Another scenario, which can happen is one might wish to have only errors displayed, we can achieve it as shown below"
   ]
  },
  {
   "cell_type": "markdown",
   "metadata": {},
   "source": [
    "**`base.html`**\n",
    "\n",
    "```python\n",
    "{% with errors = get_flashed_messages(category_filter=[\"error\"]) %}\n",
    "{% if errors %}\n",
    "<div class=\"alert-message block-message error\">\n",
    "  <a class=\"close\" href=\"#\">×</a>\n",
    "  <ul>\n",
    "    {%- for msg in errors %}\n",
    "    <li>{{ msg }}</li>\n",
    "    {% endfor -%}\n",
    "  </ul>\n",
    "</div>\n",
    "{% endif %}\n",
    "{% endwith %}\n",
    "```"
   ]
  },
  {
   "cell_type": "markdown",
   "metadata": {},
   "source": [
    "### File Uploading"
   ]
  },
  {
   "cell_type": "markdown",
   "metadata": {},
   "source": [
    "The basic principle of file uploads works as follows:\n",
    "\n",
    "- A `<form>` tag is marked with `enctype=multipart/form-data` and an `<input type=file>` is added to the form.\n",
    "- The application accesses the file from the files dictionary on the request object.\n",
    "- Use the `save()` method of the file to save the file permanently somewhere on the filesystem."
   ]
  },
  {
   "cell_type": "markdown",
   "metadata": {},
   "source": [
    "Lets create a form which allows us to register users and let them save their photo's. We need to create a new page with a from which contains input file type `<input type=\"file\" name=\"user_photo\">` and the form should have attribute `enctype=\"multipart/form-data\"` as shown below"
   ]
  },
  {
   "cell_type": "markdown",
   "metadata": {},
   "source": [
    "**register.html**\n",
    "```html\n",
    "{% extends \"base.html\" %}\n",
    "\n",
    "{% block content %}\n",
    "\n",
    "      <h1>!!!Welcome to Pareeksha !!!</h1>\n",
    "      <h2>Please login to proceed ...</h2>\n",
    "\n",
    "      <form action=\"\" method=\"post\"  enctype=\"multipart/form-data\">\n",
    "         <dl>\n",
    "            <dt>Username:</dt>\n",
    "\n",
    "            <dd>\n",
    "               <input type=\"text\" name=\"username\"\n",
    "                  value=\"{{request.form.username }}\">\n",
    "            </dd>\n",
    "\n",
    "            <dt>Password:</dt>\n",
    "            <dd><input type=\"password\" name=\"password\"></dd>\n",
    "            <dt>Photo:</dt>\n",
    "            <dd><input type=\"file\" name=\"user_photo\"></dd>\n",
    "         </dl>\n",
    "         <p><input type=\"submit\" value=\"upload\"></p>\n",
    "      </form>\n",
    "{% endblock %}\n",
    "```"
   ]
  },
  {
   "cell_type": "markdown",
   "metadata": {},
   "source": [
    "Also we need to add the `app.py` with user registration code, I have added the following function to achieve it. "
   ]
  },
  {
   "cell_type": "code",
   "execution_count": null,
   "metadata": {},
   "outputs": [],
   "source": [
    "@app.route('/register', methods=['GET', 'POST'])\n",
    "def register():\n",
    "    if request.method == 'POST':\n",
    "        try:\n",
    "            username = request.form.get(\"username\", None)\n",
    "            password = request.form.get(\"password\", None)\n",
    "            photo = request.files.get('user_photo', None)\n",
    "            if None in [username, password, photo]:\n",
    "                flash(\"Something is missing\", \"error\")\n",
    "                return render_template('register.html')\n",
    "            ext = os.path.splitext(photo.filename)[1]\n",
    "            new_filename = secure_filename(uuid.uuid4().hex + ext)\n",
    "            photo.save(os.path.join(\"static/uploads/\",\n",
    "                                    new_filename))\n",
    "            user = Users.query.filter(\n",
    "                Users.name == username).all()\n",
    "            if user:\n",
    "                flash(\"User already found\", \"error\")\n",
    "                return render_template('register.html')\n",
    "            user = Users(username, password, new_filename)\n",
    "            db.session.add(user)\n",
    "            db.session.commit()\n",
    "            flash('user registered successfully', \"info\")\n",
    "            return redirect(url_for('login'))\n",
    "        except Exception as e:\n",
    "            flash(\"Error: {err}\".format(e), \"error\")\n",
    "    else:\n",
    "        return render_template('register.html')"
   ]
  },
  {
   "cell_type": "code",
   "execution_count": null,
   "metadata": {},
   "outputs": [],
   "source": []
  },
  {
   "cell_type": "markdown",
   "metadata": {},
   "source": [
    "### Authentication and Authorization"
   ]
  },
  {
   "cell_type": "markdown",
   "metadata": {},
   "source": [
    "- **Authentication** is the process of verifying who you are. When you log on to a PC with a user name and password you are authenticating.\n",
    "    - Authentication is used by a server when the server needs to know exactly who is accessing their information or site.\n",
    "    - Authentication is used by a client when the client needs to know that the server is system it claims to be.\n",
    "    - In authentication, the user or computer has to prove its identity to the server or client.\n",
    "    - Usually, authentication by a server entails the use of a user name and password. Other ways to authenticate can be through cards, retina scans, voice recognition, and fingerprints.\n",
    "    - Authentication by a client usually involves the server giving a certificate to the client in which a trusted third party such as Verisign or Thawte states that the server belongs to the entity (such as a bank) that the client expects it to.\n",
    "    - Authentication does not determine what tasks the individual can do or what files the individual can see. Authentication merely identifies and verifies who the person or system is.\n",
    "\n",
    "\n",
    "- **Authorization** is the process of verifying that you have access to something. Gaining access to a resource (e.g. directory on a hard disk) because the permissions configured on it allow you access is authorization.\n",
    "    - Authorization is a process by which a server determines if the client has permission to use a resource or access a file.\n",
    "    - Authorization is usually coupled with authentication so that the server has some concept of who the client is that is requesting access.\n",
    "    - The type of authentication required for authorization may vary; passwords may be required in some cases but not in others.\n",
    "    - In some cases, there is no authorization; any user may be use a resource or access a file simply by asking for it. Most of the web pages on the Internet require no authentication or authorization."
   ]
  },
  {
   "cell_type": "markdown",
   "metadata": {},
   "source": [
    "We can either build our own authentication or use third party authentication tool."
   ]
  },
  {
   "cell_type": "markdown",
   "metadata": {},
   "source": [
    "#### Inhouse authentication"
   ]
  },
  {
   "cell_type": "markdown",
   "metadata": {},
   "source": [
    "We have created a new decorator `login_required` in the below code, which takes care of our authentication, what is does not cater is `Authorization`. We can either create our own "
   ]
  },
  {
   "cell_type": "code",
   "execution_count": null,
   "metadata": {},
   "outputs": [],
   "source": [
    "#!/usr/bin/env python\n",
    "# coding=utf-8\n",
    "from flask import Flask, render_template, request, url_for, redirect\n",
    "from flask import session, flash, make_response\n",
    "from flask_sqlalchemy import SQLAlchemy\n",
    "from sqlalchemy import ForeignKey\n",
    "from sqlalchemy.orm import relationship\n",
    "from sqlalchemy.sql.expression import func\n",
    "from werkzeug import secure_filename\n",
    "import uuid\n",
    "import os\n",
    "from werkzeug.security import generate_password_hash, check_password_hash\n",
    "from functools import wraps\n",
    "from utils import get_rand_string\n",
    "\n",
    "\n",
    "app = Flask(__name__)\n",
    "app.secret_key = get_rand_string(15, 20)\n",
    "app.config['SQLALCHEMY_DATABASE_URI'] = 'sqlite:///db/questions.sqlite'\n",
    "db = SQLAlchemy(app)\n",
    "\n",
    "\n",
    "class Users(db.Model):\n",
    "    __tablename__ = \"users\"\n",
    "    id = db.Column(db.Integer, primary_key=True)\n",
    "    name = db.Column(db.String)\n",
    "    password_hash = db.Column(db.String)\n",
    "    filename = db.Column(db.String)\n",
    "\n",
    "    def __init__(self, name=None, password=None, filename=None):\n",
    "        if None not in [name, password, filename]:\n",
    "            self.name = name\n",
    "            self.password = password\n",
    "            self.filename = filename\n",
    "\n",
    "    def validate_password(self, _password):\n",
    "        return check_password_hash(self.password_hash, _password)\n",
    "\n",
    "    @property\n",
    "    def password(self):\n",
    "        return self.password_hash\n",
    "\n",
    "    @password.setter\n",
    "    def password(self, password):\n",
    "        self.password_hash = generate_password_hash(password)\n",
    "\n",
    "\n",
    "class Topics(db.Model):\n",
    "    __tablename__ = \"topics\"\n",
    "    id = db.Column(db.Integer, primary_key=True)\n",
    "    name = db.Column(db.String)\n",
    "    questions = relationship(\"Questions\", back_populates=\"topics\")\n",
    "\n",
    "\n",
    "class Questions(db.Model):\n",
    "    __tablename__ = \"questions\"\n",
    "    id = db.Column(db.Integer, primary_key=True)\n",
    "    question = db.Column(db.String)\n",
    "    topics_id = db.Column(db.Integer, ForeignKey('topics.id'))\n",
    "    topics = relationship(\"Topics\", back_populates=\"questions\")\n",
    "    choices = relationship(\"Choice\", back_populates=\"questions\")\n",
    "\n",
    "\n",
    "class Choice(db.Model):\n",
    "    __tablename__ = \"choice\"\n",
    "    id = db.Column(db.Integer, primary_key=True)\n",
    "    question_id = db.Column(db.Integer, ForeignKey('questions.id'))\n",
    "    questions = relationship(\"Questions\", back_populates=\"choices\")\n",
    "    choice = db.Column(db.String)\n",
    "    correct = db.Column(db.Boolean)\n",
    "\n",
    "\n",
    "def get_topics():\n",
    "    result = Topics.query.with_entities(Topics.name).all()\n",
    "    result = [r for r, in result]\n",
    "    print(result)\n",
    "    return result\n",
    "\n",
    "\n",
    "def login_required(f):\n",
    "    @wraps(f)\n",
    "    def wrap(*args, **kwargs):\n",
    "        if not session.get('loggedIn', False):\n",
    "            print(\"redirecting to login\")\n",
    "            return redirect(url_for(\"login\"))\n",
    "        print(session.get('loggedIn', False))\n",
    "        return f(*args, **kwargs)\n",
    "    return wrap\n",
    "\n",
    "\n",
    "@app.route('/register', methods=['GET', 'POST'])\n",
    "def register():\n",
    "    if request.method == 'POST':\n",
    "        username = request.form.get(\"username\", None)\n",
    "        password = request.form.get(\"password\", None)\n",
    "        photo = request.files.get('user_photo', None)\n",
    "        if None in [username, password, photo]:\n",
    "            flash(\"Something is missing\", \"error\")\n",
    "            return render_template('register.html')\n",
    "        ext = os.path.splitext(photo.filename)[1]\n",
    "        new_filename = secure_filename(uuid.uuid4().hex + ext)\n",
    "        photo.save(os.path.join(\"static/uploads/\",\n",
    "                                new_filename))\n",
    "        user = Users.query.filter(\n",
    "            Users.name == username).first()\n",
    "        if user:\n",
    "            flash(\"User already found\", \"error\")\n",
    "            return render_template('register.html')\n",
    "        user = Users(username, password, new_filename)\n",
    "        db.session.add(user)\n",
    "        db.session.commit()\n",
    "        flash('user registered successfully', \"info\")\n",
    "        return redirect(url_for('login'))\n",
    "    else:\n",
    "        return render_template('register.html')\n",
    "\n",
    "\n",
    "@app.route(\"/logout\")\n",
    "def logout():\n",
    "    session['loggedIn'] = False\n",
    "    return redirect(url_for('login'))\n",
    "\n",
    "\n",
    "@app.route('/login', methods=['GET', 'POST'])\n",
    "def login():\n",
    "    if request.method == 'POST':\n",
    "        username = request.form.get('username', None)\n",
    "        passwd = request.form.get('password', None)\n",
    "        user = Users.query.filter(\n",
    "            Users.name == username).first()\n",
    "        if None in (username, passwd, user):\n",
    "            flash('Invalid credentials !!!', 'error')\n",
    "        elif not user.validate_password(passwd):\n",
    "            flash('Invalid credentials', 'error')\n",
    "        else:\n",
    "            session.clear()\n",
    "            print(\"Finally in else of login\")\n",
    "            session['loggedIn'] = True\n",
    "            session['username'] = user.name\n",
    "            response = make_response(redirect(url_for('home')))\n",
    "            response.headers[\"authorization\"] = user.name\n",
    "            response.set_cookie('user', user.name)\n",
    "            flash('Successfully logged in.', 'info')\n",
    "            return response\n",
    "    return render_template('login.html')\n",
    "\n",
    "\n",
    "@login_required\n",
    "@app.route(\"/\")\n",
    "def home():\n",
    "    topics = Topics.query.with_entities(Topics.id, Topics.name).all()\n",
    "    topic_details = [r for r in topics]\n",
    "    return render_template(\"index.html\",\n",
    "                           topics=topic_details,\n",
    "                           username=session['username'])\n",
    "\n",
    "\n",
    "@app.route(\"/check_user\", methods=[\"POST\"])\n",
    "def check_user():\n",
    "    topic = request.form.get(\"topic\")\n",
    "    return redirect('/start_quiz?topic={topic}'.format(\n",
    "                    topic=topic))\n",
    "\n",
    "\n",
    "@app.route(\"/moolyaankan\", methods=[\"POST\"])\n",
    "@login_required\n",
    "def moolyaankan():\n",
    "    print(\"moolyaankan\")\n",
    "    result = {\n",
    "        \"correct\": 0,\n",
    "        \"wrong\": 0\n",
    "    }\n",
    "    for quest, sel in request.form.items():\n",
    "        # !!! Bad coding practice, will fix in later versions !!!\n",
    "        # Lets validate if the selected answers are correct or not.\n",
    "        question = Questions.query.filter(\n",
    "            Questions.id == quest).first()\n",
    "        print(question)\n",
    "        got_it = False\n",
    "        for ch in question.choices:\n",
    "            if ch.correct and ch.id == int(sel):\n",
    "                print(\"!!! Hurrey !!!\")\n",
    "                got_it = True\n",
    "        if got_it:\n",
    "            result[\"correct\"] += 1\n",
    "        else:\n",
    "            result[\"wrong\"] += 1\n",
    "    return render_template(\"result.html\", correct=result[\"correct\"],\n",
    "                           wrong=result[\"wrong\"])\n",
    "\n",
    "\n",
    "@app.route(\"/one_q\", methods=['GET'])\n",
    "@login_required\n",
    "def one_q():\n",
    "    print(request.args)\n",
    "    q_id = request.args.get(\"q_id\")\n",
    "    question = Questions.query.filter(Questions.id == q_id).first()\n",
    "    return render_template(\"one_q.html\", question=question)\n",
    "\n",
    "\n",
    "@app.route(\"/start_quiz\", methods=['GET'])\n",
    "@login_required\n",
    "def start_quiz():\n",
    "    no = 5\n",
    "    topic_id = request.args.get('topic')\n",
    "    questions = Questions.query.order_by(\n",
    "        func.random()).with_entities(Questions.id).filter(\n",
    "        Questions.topics_id == topic_id).limit(no)\n",
    "\n",
    "    quest = [q[0] for q in questions]\n",
    "\n",
    "    return render_template(\"start_quiz.html\", questions=quest,\n",
    "                           username=session['username'])\n",
    "\n",
    "\n",
    "@login_required\n",
    "@app.route(\"/show_result\", methods=['POST'])\n",
    "def show_result():\n",
    "    selections = request.form\n",
    "    correct_answers = 0\n",
    "    for k, v in selections.items():\n",
    "        if k.startswith(\"choice_\"):\n",
    "            print(Choice.query.filter(Choice.id == v).first().id)\n",
    "            if Choice.query.filter(Choice.id == v).first().correct == 1:\n",
    "                correct_answers += 1\n",
    "            print(k, v)\n",
    "    return \"Thanks a lot:<br>Total correct Answers= \" + str(correct_answers)\n",
    "\n",
    "\n",
    "if __name__ == \"__main__\":\n",
    "    app.run(debug=True)\n"
   ]
  },
  {
   "cell_type": "markdown",
   "metadata": {},
   "source": [
    "#### Best practices for authentication and authorization:"
   ]
  },
  {
   "cell_type": "markdown",
   "metadata": {},
   "source": [
    "- Hash your database passwords. Don’t store them in plain text.\n",
    "- Use both autherization and authentication\n",
    "- Secure the connection, use HTTPS.\n",
    "- Log the failed login attempts.\n",
    "- Use captcha to prevent brute force of logins.\n",
    "- We can also use `OpenID` for Authentication using extension `flask-openid`"
   ]
  },
  {
   "cell_type": "markdown",
   "metadata": {},
   "source": [
    "### Reference"
   ]
  },
  {
   "cell_type": "markdown",
   "metadata": {},
   "source": [
    "- http://flask.pocoo.org/docs/\n",
    "- https://en.wikipedia.org/wiki/HTTP_cookie\n",
    "- https://www.bu.edu/tech/about/security-resources/bestpractice/auth/"
   ]
  }
 ],
 "metadata": {
  "kernelspec": {
   "display_name": "Python 3",
   "language": "python",
   "name": "python3"
  },
  "language_info": {
   "codemirror_mode": {
    "name": "ipython",
    "version": 3
   },
   "file_extension": ".py",
   "mimetype": "text/x-python",
   "name": "python",
   "nbconvert_exporter": "python",
   "pygments_lexer": "ipython3",
   "version": "3.8.2"
  }
 },
 "nbformat": 4,
 "nbformat_minor": 1
}
