{
 "cells": [
  {
   "cell_type": "markdown",
   "metadata": {},
   "source": [
    "# ^^TODO^^ Introduction to HTML & JQuery"
   ]
  },
  {
   "cell_type": "markdown",
   "metadata": {},
   "source": [
    "**HTML (Hypertext Markup Language)** is a _markup language_ using which developers can use to define the structure & the content of the document/content of the webpage. It is usually processed by Web browsers to display the web pages.\n",
    "\n",
    "HTML document contains single Parent element and many decendent elements of various types, although it looks like XML, but its not XML as it contains few element types who do not have any closing element pair. Using various types of elements available in HTML, developers can define the structure and content of their document.\n",
    "\n",
    "Basic example of HTML text is as shown\n",
    "```html\n",
    "<html>\n",
    "    <head>\n",
    "    </head>\n",
    "    <body>\n",
    "        <H1>स्वागतम्</H1>\n",
    "        <div>আদৰণি, आईं ना, आवा, স্বাগতম, സ്വാഗതം, ကြိုဆိုပါတယ်, ସ୍ବାଗତ, तुमचं स्वागत असो, </div>\n",
    "        <div>Velkommen, Welcome, Willkommen, ברוכים הבאים, ようこそ, </div>\n",
    "    </body>\n",
    "</html>\n",
    "```"
   ]
  },
  {
   "cell_type": "markdown",
   "metadata": {},
   "source": [
    "## Tags / Element Tags"
   ]
  },
  {
   "cell_type": "markdown",
   "metadata": {},
   "source": [
    "In `HTML` elements are marked using `tags`, thus most elements will have two tags (opening tag & ending tag) as shown in the below example.\n",
    "```html\n",
    "<H1>स्वागतम्</H1>\n",
    "```\n",
    "In the above example, `H1` element is starting with tag `<H1>` and ending with `</H1>`. The `name` of the element is denoted by the tag.\n",
    "\n",
    "> **Note**\n",
    "> - All ending tag will have `\\` before the name as `</H1>` in above example\n",
    "> - Tags in HTML are case-insensitive"
   ]
  },
  {
   "cell_type": "markdown",
   "metadata": {},
   "source": [
    "#### Sections of Element"
   ]
  },
  {
   "cell_type": "markdown",
   "metadata": {},
   "source": [
    "- Opening Tag: This consists of the name of the element (in this case, p), wrapped in opening and closing angle brackets. This states where the element begins or starts to take effect — in this case where the start of the paragraph is.\n",
    "- The closing tag: This is the same as the opening tag, except that it includes a forward slash before the element name. This states where the element ends — in this case where the end of the paragraph is. Failing to include a closing tag is a common beginner error and can lead to strange results.\n",
    "- The content: This is the content of the element, which in this case is just text.\n",
    "- The element: The opening tag plus the closing tag plus the content equals the element."
   ]
  },
  {
   "cell_type": "code",
   "execution_count": null,
   "metadata": {},
   "outputs": [],
   "source": []
  },
  {
   "cell_type": "code",
   "execution_count": null,
   "metadata": {},
   "outputs": [],
   "source": []
  },
  {
   "cell_type": "markdown",
   "metadata": {},
   "source": [
    "### Reference"
   ]
  },
  {
   "cell_type": "code",
   "execution_count": null,
   "metadata": {},
   "outputs": [],
   "source": []
  },
  {
   "cell_type": "markdown",
   "metadata": {},
   "source": [
    "- https://developer.mozilla.org/en-US/docs/Learn/HTML/Introduction_to_HTML"
   ]
  }
 ],
 "metadata": {
  "kernelspec": {
   "display_name": "Python 3",
   "language": "python",
   "name": "python3"
  },
  "language_info": {
   "codemirror_mode": {
    "name": "ipython",
    "version": 3
   },
   "file_extension": ".py",
   "mimetype": "text/x-python",
   "name": "python",
   "nbconvert_exporter": "python",
   "pygments_lexer": "ipython3",
   "version": "3.8.2"
  }
 },
 "nbformat": 4,
 "nbformat_minor": 2
}
