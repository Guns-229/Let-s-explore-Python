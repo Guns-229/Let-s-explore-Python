{
 "cells": [
  {
   "cell_type": "markdown",
   "metadata": {},
   "source": [
    "## Review Checklist"
   ]
  },
  {
   "cell_type": "markdown",
   "metadata": {},
   "source": [
    "In this section we are going to have basic coding review checklist based on generic good coding practices. It is advisable for developers to review their code based on it before code `check-in`. \n",
    "\n",
    "It can also act as a guide for new tech leads, who have recently started the manual code review. "
   ]
  },
  {
   "cell_type": "markdown",
   "metadata": {},
   "source": [
    "### General"
   ]
  },
  {
   "cell_type": "markdown",
   "metadata": {},
   "source": [
    "#### Does the updated code work as intended"
   ]
  },
  {
   "cell_type": "markdown",
   "metadata": {},
   "source": [
    "#### Is the code easy to understand"
   ]
  },
  {
   "cell_type": "markdown",
   "metadata": {},
   "source": [
    "#### All agreed coding standards and convensions are followed"
   ]
  },
  {
   "cell_type": "markdown",
   "metadata": {},
   "source": [
    "#### Is there any dedundant code"
   ]
  },
  {
   "cell_type": "markdown",
   "metadata": {},
   "source": [
    "#### Is the code modular and reused code in proper place (common utils, classes etc)"
   ]
  },
  {
   "cell_type": "markdown",
   "metadata": {},
   "source": [
    "#### Global variables are not present"
   ]
  },
  {
   "cell_type": "markdown",
   "metadata": {},
   "source": [
    "#### Are there any commented out code and if present is the reason present why"
   ]
  },
  {
   "cell_type": "markdown",
   "metadata": {},
   "source": [
    "#### Are function, classes, logic has been properly commented and existing comments updated to reflect the changes at relevant places"
   ]
  },
  {
   "cell_type": "code",
   "execution_count": null,
   "metadata": {},
   "outputs": [],
   "source": [
    "#### "
   ]
  },
  {
   "cell_type": "code",
   "execution_count": null,
   "metadata": {},
   "outputs": [],
   "source": []
  },
  {
   "cell_type": "code",
   "execution_count": null,
   "metadata": {},
   "outputs": [],
   "source": []
  },
  {
   "cell_type": "markdown",
   "metadata": {},
   "source": [
    "\n",
    "Does it conform to your agreed coding conventions? These will usually cover location of braces, variable and function names, line length, indentations, formatting, and comments.\n",
    "Is there any redundant or duplicate code?\n",
    "Is the code as modular as possible?\n",
    "\n",
    "Can any global variables be replaced?\n",
    "Is there any commented out code?\n",
    "Do loops have a set length and correct termination conditions?\n",
    "Do the names used in the program convey intent?\n",
    "\n",
    "Performance\n",
    "\n",
    "Are there any obvious optimizations that will improve performance?\n",
    "Can any of the code be replaced with library or built-in functions?\n",
    "Can any logging or debugging code be removed?\n",
    "Security\n",
    "Are all data inputs checked (for the correct type, length, format, and range) and encoded?\n",
    "Where third-party utilities are used, are returning errors being caught?\n",
    "Are output values checked and encoded?\n",
    "Are invalid parameter values handled?\n",
    "Documentation\n",
    "Do comments exist and describe the intent of the code?\n",
    "Are all functions commented?\n",
    "Is any unusual behavior or edge-case handling described?\n",
    "Is the use and function of third-party libraries documented?\n",
    "Are data structures and units of measurement explained?\n",
    "Is there any incomplete code? If so, should it be removed or flagged with a suitable marker like ‘TODO’?\n",
    "Testing\n",
    "Is the code testable? The code should be structured so that it doesn’t add too many or hide dependencies, is unable to initialize objects, test frameworks can use methods etc.\n",
    "Do tests exist, and are they comprehensive?\n",
    "Do unit tests actually test that the code is performing the intended functionality?\n",
    "Could any test code be replaced with the use of an existing API?\n",
    "Key Points\n",
    "\n",
    "There are about 15-20 common mistakes made by programmers.\n",
    "A checklist is a useful means of ensuring that common mistakes are identified."
   ]
  },
  {
   "cell_type": "markdown",
   "metadata": {},
   "source": [
    "Code\n",
    "\n",
    "Does it compile? Look for obvious errors, most IDEs will spot them for you. Baffling that these kind of issues slip into code completes, but we are all humans and mistakes happen. Most common reasons: last minute untested change that surely won’t break anything or forgot to push the fix.\n",
    "\n",
    "Can you spot any runtime errors just by looking at code? Try to reproduce the exception.\n",
    "\n",
    "Is the feature/bugfix complete? Does it tick off all the requirements? Is there anything missing or misbehaving?\n",
    "\n",
    "Is this a good solution? Is this the best solution out of all those that have been considered? This is mostly related to system design and general approach to problem solving. The definition of good and best is context dependent.\n",
    "\n",
    "Does it introduce any security holes? Definitely not something to be disregarded.\n",
    "\n",
    "Is the code efficient in whatever metrics matter for your case?\n",
    "\n",
    "Is it logically correct? Does it solve the problem? This is usually central to the code review, hence obvious, but I don’t want to skip obvious steps.\n",
    "\n",
    "How does it affect the rest of the system? We review code diffs with no or minimum context regarding the rest of the codebase. With diffs you can only see that much, thus how about start looking in other places? Think about all the other components that might depend on this change. Where any of the APIs violated?\n",
    "\n",
    "Is it within the scope? Does the ticket touch any unrelated parts of the codebase or does side fixes? The more it gets cluttered, the more complicated it becomes to review, test and release. Stay on topic.\n",
    "\n",
    "Are there any code style issues? Conventions are important for the sake of codebase sanity. I know we all have strong opinions about all the things, but for your team and code well-being, please disagree and commit.\n",
    "\n",
    "Is the code readable? Can someone else understand it? How long did it take you to figure it out? Do all namings make sense?\n",
    "\n",
    "Does it have good and enough documentation? Not to be ignored or considered of least importance.\n",
    "\n",
    "Automated testing\n",
    "\n",
    "Does it need tests? Sometimes a favicon update will do just fine without tests.\n",
    "\n",
    "Does it have tests? Seriously, write tests.\n",
    "\n",
    "Are tests logically correct? Tests can have bugs too. Review tests thoroughly.\n",
    "\n",
    "Are tests simple, easy to read and debug? Forget about DRY, don’t build a whole infrastructure to test your code (unless you are writing an isolated testing framework with a clear API that everyone else on the team is more or less familiar with), KISS (keep it simple, stupid). If something fails, it should be apparent what broke.\n",
    "\n",
    "Are tests testing the right thing? Tests are not a checkbox to be ticked off, they are your safety net. Just the existence of tests or higher test coverage doesn’t guarantee a bug-free life. Make sure to get a good insurance with a solid testbase.\n",
    "\n",
    "Are tests testing the edge cases? Best case scenarios suck!\n",
    "\n",
    "Manual testing\n",
    "\n",
    "Can you run the code? Don’t skip that. Automated tests look good on paper (ehhhm, computer screen?), but running the project is still a good idea. Automated tests reduce manual testing to the minimum, but don’t exclude it completely.\n",
    "\n",
    "Can you follow through several test scenarios? Pick obvious and non-obvious ones: do they succeed?\n",
    "\n",
    "Is the rest of the system looking/working fine? Links to How does it affect the rest of the system? from Code section. Similar, but more straight-forward. Have a click-around and make sure things are fine.\n",
    "\n",
    "Can you break it? Try to think of ways it might fail: feed it large sets of data, consider third-party systems downtime and how it can affect you, use an unusual email address (did you know email address can have comments in-between tokens?). Don’t worry, your users will still find ways to break it for you."
   ]
  },
  {
   "cell_type": "markdown",
   "metadata": {},
   "source": [
    "Code Is Easy To Debug\n",
    "\n",
    "A peer code reviewer need to ensure the code is easy to debug in non developer environment. This may relate to few things \n",
    "There needs to be enough logging in the code. Code needs provide enough logging to work in debugging mode for application.\n",
    "There needs to be enough comments in the code.\n",
    "There needs to be enough monitoring related code.\n",
    "\n",
    "Code Documentation\n",
    "\n",
    "Writing code comments is helpful however not always necessary. Sometimes the code is not self explanatory, or does something un-usual. It needs to be well documented.\n",
    "\n",
    "\n",
    "Code Indentation And Readability\n",
    "\n",
    "All developers in a team needs to use common formatting tool with same formatting styles to avoid version control conflicts and difficulty in reading file changes. There is no right or wrong way to format code, however make sure the team uses the same formatting.\n",
    "\n",
    "\n",
    "Exception Handling\n",
    "\n",
    "Exception handling code is often ignored in critical timelines. A code reviewer must ensure that sufficient exception handling is done in code. Unit test cases should also be addd to check for all exception scenarios. Some common exception scenarios are\n",
    "Null objects\n",
    "Empty objects\n",
    "Invalid format values\n",
    "Boundary conditions\n",
    "\n",
    "Logging Key Attributes For Debugging\n",
    "\n",
    "Debugging information is important to support and maintain applications. Logging required key attributes makes the job of dev ops and support team easy. Developer and Code reviewer needs to ensure that all key attributes are being logged.\n",
    "\n",
    "\n",
    "\n",
    "Eliminate Unwanted Code And Libraries If Not Used\n",
    "\n",
    "Its common habit of developers to not remove unused code from a file. This is mainly since they think it may be required in future. Some developers tend to comment it so it can be used later. This makes the code unreadable. The code reviewer must make sure that all such code is removed. Developers can always go back to a previous version of code in version control. However, in my observation, a commented code is almost always not reused.\n",
    "\n",
    "\n",
    "Handling NULL And Empty Object Scenarios\n",
    "\n",
    "Not handling NULL and Empty objects causes many production related problems. A code reviewer must be explicitly watching for these issues.  Unit test cases should also be addd to check for all NULL and Empty object scenarios.\n",
    "\n",
    "\n",
    "Sticking To Coding Standards\n",
    "\n",
    "A software needs to follow consistent coding practices. There are coding standards available in almost any programming language. Stick to the standard coding practices to ensure everyone speaks the same language. It makes it easier for a new developer to start understanding the code faster.\n",
    "\n",
    "\n",
    "Avoid Hard Coding - Prefer Configuration\n",
    "\n",
    "Many configurations are often hard coded by developers inside the compiled code and makes it difficult to change the behavior of software. For example an optional feature should have a configuration that can enable or disable a feature. I code reviewer my look for such opportunities to ensure configuration is preferred over hard coding.\n",
    "\n",
    "\n",
    "Code Performance\n",
    "\n",
    "Performance of the code is important, however difficult to measure depending on type of software. Its important that a code reviewer looks at the performance of a code in various aspects. \n",
    "Time to do the task - How much time it take to finish the task. Is it acceptable?\n",
    "Memory or Number of objects used to do the task.  Is it acceptable?\n",
    "Number of threads or processes to do the task.  Is it acceptable?\n",
    "Concurrency limits of the task. How many tasks can be performed by the program concurrently\n",
    ".\n",
    "\n",
    "Scalability\n",
    "\n",
    "\n",
    "Scalability of the code may be a important concern, depending on your requirements.  Its important that a code reviewer looks at the scalability of a code in various aspects. \n",
    "Will the current software scale with new changes.\n",
    "Will there be any impact on scalability in future.\n",
    "\n",
    "Code Security Review\n",
    "\n",
    "This is most difficult step in code review since not many people know how to write secure code. Some common guidelines are listed below for a secure code\n",
    "Encrypt sensitive user information (e.g. SSN, passwords, credit card numbers etc)\n",
    "Never log sensitive information on log files, it can be dangerous and make hacking easy.\n",
    "Disable Weak Ciphers on your app/web servers.\n",
    "Use trusted libraries for cryptography and encryption instead of inventing your own.\n",
    "Watch for OWASP top 10 issues are addressed in a web facing application.\n",
    "\n",
    "Releasing Resources\n",
    "\n",
    "Releasing resources in a busy application is really important step that is often missed out by hasty developers. Ensure all important and shared resources are being released by each code block. Following scenario must be covered\n",
    "\n",
    "Releasing of resources after the task is completed successfully.\n",
    "Releasing resources after the task has failed.\n",
    "Release resources after there is exception in processing task.\n",
    "\n",
    "Encourage Code Reusability\n",
    "\n",
    "Copy/Paste is developers best friend.  Many lines of code is duplicated by simply doing a copy paste. This seems to solve problem in short term however creates maintenance issues in long run. Any copy/paste candidate in code must be refactored to be re-usable. It needs to be done carefully since many other code blocks may be calling it already.\n",
    "\n",
    "\n",
    "Concurrency, Thread Safety And Deadlock Related Issues Are Considered\n",
    "\n",
    "Most of the developers are not writing multi threading code and concurrent applications. Therefore these aspects are often ignored by developers. You must pay careful attention to your code block and understand its behavior when multiple thread will try to access it at same time. Ensure all shared variables are minimized and handling concurrency of multiple threads is not leading to a potential deadlock situation.\n",
    "\n",
    "\n",
    "Use Of Design Patterns When Required\n",
    "\n",
    "It is not easy to spot a design pattern in a bad code, however an experience programmer can easily suggest a better approach provided enough knowledge of the software. \n",
    "Try to spot common design pattern application on existing code and see how you can improve it. Use of design pattern improves maintainability of source code."
   ]
  }
 ],
 "metadata": {
  "kernelspec": {
   "display_name": "Python 3",
   "language": "python",
   "name": "python3"
  },
  "language_info": {
   "codemirror_mode": {
    "name": "ipython",
    "version": 2
   },
   "file_extension": ".py",
   "mimetype": "text/x-python",
   "name": "python",
   "nbconvert_exporter": "python",
   "pygments_lexer": "ipython2",
   "version": "2.7.14"
  }
 },
 "nbformat": 4,
 "nbformat_minor": 2
}
