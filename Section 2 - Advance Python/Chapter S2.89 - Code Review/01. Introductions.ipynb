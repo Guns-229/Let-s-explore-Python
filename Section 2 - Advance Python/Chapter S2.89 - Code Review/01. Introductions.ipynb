{
 "cells": [
  {
   "cell_type": "markdown",
   "metadata": {},
   "source": [
    "## Introduction"
   ]
  },
  {
   "cell_type": "markdown",
   "metadata": {},
   "source": [
    "One of the most important aspect of today's Software engineering is code review. It serves multiple purposes and few of them are listed as below. \n",
    "\n",
    "1. Coders are able to enhance their skill faster, by getting proper and better guidance from the reviewer.\n",
    "2. Most of the **`Bugs`** can be detected in proper code review, thus it can help in decreasing TOC.\n",
    "3. "
   ]
  }
 ],
 "metadata": {
  "kernelspec": {
   "display_name": "Python 3",
   "language": "python",
   "name": "python3"
  },
  "language_info": {
   "codemirror_mode": {
    "name": "ipython",
    "version": 3
   },
   "file_extension": ".py",
   "mimetype": "text/x-python",
   "name": "python",
   "nbconvert_exporter": "python",
   "pygments_lexer": "ipython3",
   "version": "3.7.0"
  }
 },
 "nbformat": 4,
 "nbformat_minor": 2
}
