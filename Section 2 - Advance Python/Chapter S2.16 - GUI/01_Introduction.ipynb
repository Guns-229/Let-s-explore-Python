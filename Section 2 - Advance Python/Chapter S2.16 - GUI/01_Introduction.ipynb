{
 "cells": [
  {
   "cell_type": "markdown",
   "metadata": {},
   "source": [
    "## Introduction"
   ]
  },
  {
   "cell_type": "markdown",
   "metadata": {},
   "source": [
    "Python has a huge collection of GUI frameworks/toolkits available, all except `tkinter` are third party libraries. They can be used cross-platform or be platform-specific. \n",
    "\n",
    "Following is the brief list of GUI frameworks available:\n",
    "\n",
    "- PyQt\n",
    "- PyGUI\n",
    "- PyGTK\n",
    "- pyFLTK\n",
    "- Pygame\n",
    "- Pyglet\n",
    "- PySide\n",
    "- Tkinter\n",
    "- wxPython\n",
    "- PythonCard\n",
    "- PySimpleGUI"
   ]
  },
  {
   "cell_type": "markdown",
   "metadata": {},
   "source": [
    "#### Reference"
   ]
  },
  {
   "cell_type": "markdown",
   "metadata": {},
   "source": [
    "- https://wiki.python.org/moin/GuiProgramming"
   ]
  }
 ],
 "metadata": {
  "kernelspec": {
   "display_name": "Python 3",
   "language": "python",
   "name": "python3"
  },
  "language_info": {
   "codemirror_mode": {
    "name": "ipython",
    "version": 3
   },
   "file_extension": ".py",
   "mimetype": "text/x-python",
   "name": "python",
   "nbconvert_exporter": "python",
   "pygments_lexer": "ipython3",
   "version": "3.7.0"
  }
 },
 "nbformat": 4,
 "nbformat_minor": 2
}
