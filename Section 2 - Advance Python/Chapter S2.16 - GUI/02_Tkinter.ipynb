{
 "cells": [
  {
   "cell_type": "markdown",
   "metadata": {},
   "source": [
    "## Tkinter"
   ]
  },
  {
   "cell_type": "markdown",
   "metadata": {},
   "source": [
    "### Basic concepts"
   ]
  },
  {
   "cell_type": "markdown",
   "metadata": {},
   "source": [
    "The `Tkinter` is the GUI library which comes pre-installed with python and it supports a collection of Tk widgets. It is the Python interface to `Tk`, the GUI toolkit for `Tcl/Tk`."
   ]
  },
  {
   "cell_type": "markdown",
   "metadata": {},
   "source": [
    "### Features"
   ]
  },
  {
   "cell_type": "markdown",
   "metadata": {},
   "source": [
    "- Tkinter adds object-oriented interfaces to Tk.\n",
    "- Supports various flavors of UNIX, Win32 and Macintosh. \n",
    "- Light weigth GUI Framework"
   ]
  },
  {
   "cell_type": "markdown",
   "metadata": {},
   "source": [
    "### Basic Example"
   ]
  },
  {
   "cell_type": "markdown",
   "metadata": {},
   "source": [
    "```python\n",
    "import tkinter as tk\n",
    "\n",
    "root = tk.Tk()  \n",
    "w = tk.Label(root, text=\"सु-स्वागतम्\") \n",
    "w.pack() \n",
    "root.mainloop() \n",
    "```"
   ]
  },
  {
   "cell_type": "markdown",
   "metadata": {},
   "source": [
    "The above example when executed creates a small window with \"सु-स्वागतम्\" text written on it.\n",
    "\n",
    "`Line 4:` `root = tk.Tk()` - It create the parent window. All applications should have a `root` window as it will be `parent` of all other widgets. \n",
    "\n",
    "`Line 5:` `w = tk.Label(root, text=\"सु-स्वागतम्\")` - It creates a text `label` with content \"सु-स्वागतम्\".\n",
    "\n",
    "`Line 6` `w.pack()` - It places & display the above label widget, without it the widget is not displayed.\n",
    "\n",
    "`Line 7:` `root.mainloop()` - It places the window into an `event loop`, where it waits till the application is closed."
   ]
  },
  {
   "cell_type": "markdown",
   "metadata": {},
   "source": [
    "### Tkinter widgets"
   ]
  },
  {
   "cell_type": "code",
   "execution_count": null,
   "metadata": {},
   "outputs": [],
   "source": [
    "Tk provides the following widgets:\n",
    "\n",
    "- `button`\n",
    "- `canvas`\n",
    "- combo-box\n",
    "- frame\n",
    "- label\n",
    "- check-button\n",
    "- `entry`\n",
    "- `level-frame`\n",
    "- `menu`\n",
    "- `list - box`\n",
    "- `menu button`\n",
    "- `message`\n",
    "    tk_optoinMenu\n",
    "    progress-bar\n",
    "    radio button\n",
    "    scroll bar\n",
    "    separator\n",
    "    tree-view and many more..."
   ]
  },
  {
   "cell_type": "markdown",
   "metadata": {},
   "source": [
    "$$ TODO $$\n",
    "- 2.5_image"
   ]
  },
  {
   "cell_type": "markdown",
   "metadata": {},
   "source": [
    "### Layout management"
   ]
  },
  {
   "cell_type": "markdown",
   "metadata": {},
   "source": [
    "In all the above examples we have seen till now, when we pack widgets, they always go below the previous widget. And this might not be the best scenario for us.\n",
    "\n",
    "`tkinter` provides three layout managers \n",
    "- `pack`: Relative Positioning\n",
    "- `grid`: Grid Positioning\n",
    "- `place`: Absolute positioning"
   ]
  },
  {
   "cell_type": "markdown",
   "metadata": {},
   "source": [
    "#### `pack`"
   ]
  },
  {
   "cell_type": "markdown",
   "metadata": {},
   "source": [
    "It is the oldest and most used layout manaer in `tkinter` package. It automatically places t he widgets based upon the free space in the window. We can pack the widgets in a group either horizontally or vertically. \n",
    "\n",
    "`pack` provides three options to manage the location of the widgets.\n",
    "\n",
    "- `side`\n",
    "- `fill` \n",
    "- `expand` \n"
   ]
  },
  {
   "cell_type": "markdown",
   "metadata": {},
   "source": [
    "##### `side`"
   ]
  },
  {
   "cell_type": "markdown",
   "metadata": {},
   "source": [
    "It provides which side the widgets to be attached. It has four options ('top', 'bottom', 'left', 'right'). Depending on its value the widgets get attached to the side of windows as shown in the below code.\n",
    "\n",
    "```python\n",
    "# 1_side.py\n",
    "import tkinter as tk\n",
    "\n",
    "app = tk.Tk()\n",
    "\n",
    "app.geometry('300x200')\n",
    "label_top = tk.Button(app, text=\"Top Side\")\n",
    "label_top.pack(side=\"top\")\n",
    "label_bottom = tk.Button(app, text=\"bottom side\")\n",
    "label_bottom.pack(side=\"bottom\")\n",
    "label_left = tk.Button(app, text=\"Left side\")\n",
    "label_left.pack(side=\"left\")\n",
    "label_right = tk.Button(app, text=\"Right side\")\n",
    "label_right.pack(side=\"right\")\n",
    "app.mainloop()\n",
    "```\n",
    "\n",
    "**Output:**\n",
    "![images/tk/1_side.png](images/tk/1_side.png)\n",
    "\n",
    "Now if more than widgets have same side, than all of the widgets with same side will cascade as shown in the below code\n",
    "\n",
    "```python\n",
    "import tkinter as tk\n",
    "\n",
    "app = tk.Tk()\n",
    "\n",
    "app.geometry('400x400')\n",
    "tk.Button(app, text=\"Top Side 1\").pack(side=\"top\")\n",
    "tk.Button(app, text=\"Top Side 1\").pack(side=\"top\")\n",
    "tk.Button(app, text=\"right Side 1\").pack(side=\"right\")\n",
    "tk.Button(app, text=\"right Side 2\").pack(side=\"right\")\n",
    "tk.Button(app, text=\"bottom Side 1\").pack(side=\"bottom\")\n",
    "tk.Button(app, text=\"bottom Side 2\").pack(side=\"bottom\")\n",
    "tk.Button(app, text=\"left side 1\").pack(side=\"left\")\n",
    "tk.Button(app, text=\"left Side 2\").pack(side=\"left\")\n",
    "app.mainloop()\n",
    "```\n",
    "\n",
    "**Output:**\n",
    "![images/tk/1.1_side.png](images/tk/1.1_side.png)"
   ]
  },
  {
   "cell_type": "markdown",
   "metadata": {},
   "source": [
    "##### `fill`"
   ]
  },
  {
   "cell_type": "markdown",
   "metadata": {},
   "source": [
    "`fill` have three options, `X`, `Y` and `both`. "
   ]
  },
  {
   "cell_type": "markdown",
   "metadata": {},
   "source": [
    "```python\n",
    "import tkinter as tk\n",
    "\n",
    "app = tk.Tk()\n",
    "app.geometry('200x200')\n",
    "\n",
    "tk.Button(app, text=\"Fills X\").pack(fill=tk.X)\n",
    "\n",
    "# tk.Button(app, text=\"Fills Y\").pack(side=tk.LEFT, fill='y')\n",
    "# tk.LEFT and 'left' both are same.\n",
    "tk.Button(app, text=\"Fills Y\").pack(side='left', fill='y')\n",
    "\n",
    "app.mainloop()\n",
    "```\n",
    "**Output:**\n",
    "![images/tk/2_fill.png](images/tk/2_fill.png)\n",
    "\n",
    "\n",
    "```python\n",
    "import tkinter as tk\n",
    "\n",
    "root = tk.Tk()\n",
    "\n",
    "tk.Button(root, text=\"Hello 1\").pack(fill=tk.X)\n",
    "tk.Button(root, text=\"Hello 2\").pack(fill=tk.X)\n",
    "tk.Button(root, text=\"Hello L 1\" ).pack(side=tk.LEFT,\n",
    "                                        fill=tk.X)\n",
    "tk.Button(root, text=\"Hello R 1\").pack(side=tk.RIGHT,\n",
    "                                       fill=tk.X)\n",
    "tk.Button(root, text=\"Hello Special\").pack(side=tk.LEFT, padx=5, pady=10,\n",
    "                                           expand=tk.YES, fill=tk.X)\n",
    "tk.Button(root, text=\"Hello R 2\").pack(side=tk.RIGHT, fill=tk.X)\n",
    "\n",
    "tk.mainloop()\n",
    "```\n",
    "\n",
    "**Output:**\n",
    "![images/tk/pack_sample1.png](images/tk/pack_sample1.png)"
   ]
  },
  {
   "cell_type": "markdown",
   "metadata": {},
   "source": [
    "##### `expand`"
   ]
  },
  {
   "cell_type": "markdown",
   "metadata": {},
   "source": [
    "`expand` attribute sets if the widget should be expanded or not by setting its boolean value."
   ]
  },
  {
   "cell_type": "markdown",
   "metadata": {},
   "source": [
    "### `place`"
   ]
  },
  {
   "cell_type": "markdown",
   "metadata": {},
   "source": [
    "When we need to place the widgets a absolute places we use the `place` as shown in the below example.\n",
    "\n",
    "```python\n",
    "import tkinter as tk\n",
    "\n",
    "app = tk.Tk()\n",
    "\n",
    "app.geometry('300x200')\n",
    "label_top = tk.Button(app, text=\"Top Side\")\n",
    "label_top.place(x=100, y=10)\n",
    "label_bottom = tk.Button(app, text=\"bottom side\")\n",
    "label_bottom.place(x=100, y=150)\n",
    "label_left = tk.Button(app, text=\"Left side\")\n",
    "label_left.place(x=10, y=100)\n",
    "label_right = tk.Button(app, text=\"Right side\")\n",
    "label_right.place(x=100, y=100)\n",
    "app.mainloop()\n",
    "```"
   ]
  },
  {
   "cell_type": "code",
   "execution_count": null,
   "metadata": {},
   "outputs": [],
   "source": []
  },
  {
   "cell_type": "code",
   "execution_count": null,
   "metadata": {},
   "outputs": [],
   "source": []
  },
  {
   "cell_type": "code",
   "execution_count": null,
   "metadata": {},
   "outputs": [],
   "source": []
  },
  {
   "cell_type": "code",
   "execution_count": null,
   "metadata": {},
   "outputs": [],
   "source": []
  },
  {
   "cell_type": "code",
   "execution_count": null,
   "metadata": {},
   "outputs": [],
   "source": []
  },
  {
   "cell_type": "code",
   "execution_count": null,
   "metadata": {},
   "outputs": [],
   "source": []
  },
  {
   "cell_type": "code",
   "execution_count": null,
   "metadata": {},
   "outputs": [],
   "source": []
  },
  {
   "cell_type": "code",
   "execution_count": null,
   "metadata": {},
   "outputs": [],
   "source": []
  },
  {
   "cell_type": "code",
   "execution_count": null,
   "metadata": {},
   "outputs": [],
   "source": []
  },
  {
   "cell_type": "code",
   "execution_count": null,
   "metadata": {},
   "outputs": [],
   "source": []
  },
  {
   "cell_type": "code",
   "execution_count": null,
   "metadata": {},
   "outputs": [],
   "source": []
  },
  {
   "cell_type": "markdown",
   "metadata": {},
   "source": [
    "#### References:"
   ]
  },
  {
   "cell_type": "markdown",
   "metadata": {},
   "source": [
    "- https://cs.gmu.edu/~dfleck/classes/cs112/spring08/slides/tkinter.pdf"
   ]
  }
 ],
 "metadata": {
  "kernelspec": {
   "display_name": "Python 3",
   "language": "python",
   "name": "python3"
  },
  "language_info": {
   "codemirror_mode": {
    "name": "ipython",
    "version": 3
   },
   "file_extension": ".py",
   "mimetype": "text/x-python",
   "name": "python",
   "nbconvert_exporter": "python",
   "pygments_lexer": "ipython3",
   "version": "3.7.0"
  }
 },
 "nbformat": 4,
 "nbformat_minor": 2
}
