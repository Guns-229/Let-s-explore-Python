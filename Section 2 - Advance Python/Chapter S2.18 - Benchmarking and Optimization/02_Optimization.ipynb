{
 "cells": [
  {
   "cell_type": "markdown",
   "metadata": {},
   "source": [
    "## Optimization"
   ]
  },
  {
   "cell_type": "markdown",
   "metadata": {},
   "source": [
    "> “Any improvements made anywhere besides the bottleneck are an illusion. Astonishing, but true! Any improvement made after the bottleneck is useless because it will always remain starved, waiting for the work from the bottleneck. And any improvements made before the bottleneck merely results in more inventory piling up at the bottleneck.  ”\n",
    ">\n",
    "> ― Gene Kim, The Phoenix Project: A Novel About IT, DevOps, and Helping Your Business Win"
   ]
  },
  {
   "cell_type": "markdown",
   "metadata": {},
   "source": [
    "Just like any programming language, Python code can also be optimized using few simple tricks. We are going to cover few of them in this section."
   ]
  },
  {
   "cell_type": "markdown",
   "metadata": {},
   "source": [
    "### Common Sense"
   ]
  },
  {
   "cell_type": "markdown",
   "metadata": {},
   "source": [
    "Common Sense, is on of the most commonly used optimization method. But, since we can't contify it, I have tried to segregate them if groups which we can try to implement.\n",
    "\n",
    "1. Get it right.\n",
    "2. Test it's right.\n",
    "3. Profile if slow.\n",
    "4. Optimise.\n",
    "5. Repeat from 2."
   ]
  },
  {
   "cell_type": "markdown",
   "metadata": {},
   "source": [
    "Some basic tips before doing any coding, \n",
    "- take a step back and try to look at the whole picture\n",
    "- Try to write as little code as possible for the same requirement\n",
    "    - because smaller the code less need for optimization\n",
    "    - less maintainance\n",
    "    - mostly faster execution, but not always.\n",
    "- try to find what your program actual goal is\n",
    "- always question every assumption.\n",
    "- always try to find a better solution than the current you already have.\n",
    "- You dont have to do all the optimization is single day"
   ]
  },
  {
   "cell_type": "markdown",
   "metadata": {},
   "source": [
    "Follow the below advices, only after you have first version of working code and not before it. Learn that getting your requirement fullfilled is the most important thing. **Once your code start has fullfilled the requirement, only than you should start thinking about optimizing it**.\n",
    "\n",
    "That does not mean you can't start implementing the optimization techniques in your day to day coding, What it means is you should not start experimenting till you have a working code which fulfills all the requirements. Code the first verison with knowledge which you are comfortable with and only then start the optimization.\n",
    "\n",
    "Once you gain experience, the below techniques will become part of your thought process and they will come naturally to you.  "
   ]
  },
  {
   "cell_type": "markdown",
   "metadata": {},
   "source": [
    "### Profiling"
   ]
  },
  {
   "cell_type": "markdown",
   "metadata": {},
   "source": [
    "> \"Bottlenecks occur ins surprising places, so don't try to second guess and put in a speed hack until you have proven that's where the bottleneck is.\"\n",
    "> <hr>- Rob Pike\n",
    "\n"
   ]
  },
  {
   "cell_type": "markdown",
   "metadata": {},
   "source": [
    "Profiling helps us in answering the following key parameters in Optimization, \n",
    "\n",
    "- Function Execution Time\n",
    "- Time spent on statements\n",
    "- Memory Consumption"
   ]
  },
  {
   "cell_type": "markdown",
   "metadata": {},
   "source": [
    "We might have to take in account multiple types of optimizations, we will start with CPU optimization"
   ]
  },
  {
   "cell_type": "markdown",
   "metadata": {},
   "source": [
    "#### Profile your Code."
   ]
  },
  {
   "cell_type": "markdown",
   "metadata": {},
   "source": [
    "Once, you have completed the functionality for your program, you can start the optimization by profiling you code. There are many ways to profile your code. We are going to discuss two most common and used profiling technique."
   ]
  },
  {
   "cell_type": "markdown",
   "metadata": {},
   "source": [
    "##### Use Stopwatch Profiling with `timeit`."
   ]
  },
  {
   "cell_type": "markdown",
   "metadata": {},
   "source": [
    "Its the traditional way and it works by printing the executing timing of segments of code as shown below. It measures the time elapsed in milliseconds.\n",
    "\n",
    "For `timeit` to work, we need to import it and call `timeit.timeit` function on the code segment we wish to profile. "
   ]
  },
  {
   "cell_type": "code",
   "execution_count": 1,
   "metadata": {},
   "outputs": [
    {
     "name": "stdout",
     "output_type": "stream",
     "text": [
      "4950\n",
      "4950\n",
      "fun_sum_it: 1.024900307002099\n",
      "fun_sum_it: 5.962275912999758\n",
      "fun_sum_it_updated: 0.7882430019999447\n",
      "fun_sum_it_updated: 1.8819230640001479\n"
     ]
    }
   ],
   "source": [
    "import os\n",
    "from timeit import timeit\n",
    "from functools import reduce\n",
    "\n",
    "def fun_sum_it(num):\n",
    "    total = 0\n",
    "    for a in range(num):\n",
    "        total +=a\n",
    "    return total\n",
    "\n",
    "def fun_sum_it_updated(num):\n",
    "    return sum(range(num))\n",
    "\n",
    "print(fun_sum_it(100))\n",
    "print(fun_sum_it_updated(100))\n",
    "\n",
    "print(\"fun_sum_it:\", timeit('fun_sum_it(10)', setup='from __main__ import fun_sum_it'))\n",
    "print(\"fun_sum_it:\", timeit('fun_sum_it(100)', setup='from __main__ import fun_sum_it'))\n",
    "\n",
    "print(\"fun_sum_it_updated:\", timeit('fun_sum_it_updated(10)', setup='from __main__ import fun_sum_it_updated'))\n",
    "print(\"fun_sum_it_updated:\", timeit('fun_sum_it_updated(100)', setup='from __main__ import fun_sum_it_updated'))"
   ]
  },
  {
   "cell_type": "markdown",
   "metadata": {},
   "source": [
    "The problem with timeit is that although it tells how much time is taken by the code, if we need to find other aspects of optimization, namly memory consumption, it can't be used for it. \n",
    "\n",
    "Fortunatly for us, `cprofile` comes to our help. "
   ]
  },
  {
   "cell_type": "markdown",
   "metadata": {},
   "source": [
    "### Use Advanced Profiling with `cProfile`."
   ]
  },
  {
   "cell_type": "markdown",
   "metadata": {},
   "source": [
    "> \"Bottlenecks occur ins surprising places, so don't try to second guess and put in a speed hack until you have proven that's where the bottleneck is.\"\n",
    "> <hr>- Rob Pike\n",
    "\n"
   ]
  },
  {
   "cell_type": "markdown",
   "metadata": {},
   "source": [
    "Profiling provides information about key parameters need for Optimization, including\n",
    "\n",
    "- Function Execution Time\n",
    "- Time spent on statements\n",
    "- Memory Consumption"
   ]
  },
  {
   "cell_type": "markdown",
   "metadata": {},
   "source": [
    "**Syntax**\n",
    "```bash\n",
    "python -m cProfile -s cumtime test_profile.py\n",
    "```"
   ]
  },
  {
   "cell_type": "code",
   "execution_count": 2,
   "metadata": {},
   "outputs": [
    {
     "name": "stdout",
     "output_type": "stream",
     "text": [
      "         4 function calls in 0.000 seconds\n",
      "\n",
      "   Ordered by: standard name\n",
      "\n",
      "   ncalls  tottime  percall  cumtime  percall filename:lineno(function)\n",
      "        1    0.000    0.000    0.000    0.000 <ipython-input-1-088b3af2eebb>:5(fun_sum_it)\n",
      "        1    0.000    0.000    0.000    0.000 <string>:1(<module>)\n",
      "        1    0.000    0.000    0.000    0.000 {built-in method builtins.exec}\n",
      "        1    0.000    0.000    0.000    0.000 {method 'disable' of '_lsprof.Profiler' objects}\n",
      "\n",
      "\n"
     ]
    }
   ],
   "source": [
    "import cProfile\n",
    "cProfile.run('fun_sum_it(10)')"
   ]
  },
  {
   "cell_type": "markdown",
   "metadata": {},
   "source": [
    "Although `cprofile` can be attached as part of the code, but its mostly used from command prompt, which provides us details while running the whole script.\n",
    "> python -m cProfile -s cumtime test_sum.py"
   ]
  },
  {
   "cell_type": "code",
   "execution_count": 3,
   "metadata": {},
   "outputs": [
    {
     "name": "stdout",
     "output_type": "stream",
     "text": [
      "4950\n",
      "4950\n"
     ]
    }
   ],
   "source": [
    "\"\"\" test_sum.\n",
    "\n",
    "\"\"\"\n",
    "import os\n",
    "from timeit import timeit\n",
    "from functools import reduce\n",
    "\n",
    "def fun_sum_it(num):\n",
    "    total = 0\n",
    "    for a in range(num):\n",
    "        total +=a\n",
    "    return total\n",
    "\n",
    "def fun_sum_it_updated(num):\n",
    "    return sum(range(num))\n",
    "\n",
    "print(fun_sum_it(100))\n",
    "print(fun_sum_it_updated(100))"
   ]
  },
  {
   "cell_type": "markdown",
   "metadata": {},
   "source": [
    "```\n",
    "$:>python -m cProfile -s cumtime  test_sum.py \n",
    "4950\n",
    "4950\n",
    "         306 function calls (300 primitive calls) in 0.003 seconds\n",
    "\n",
    "   Ordered by: cumulative time\n",
    "\n",
    "   ncalls  tottime  percall  cumtime  percall filename:lineno(function)\n",
    "      2/1    0.000    0.000    0.003    0.003 {built-in method builtins.exec}\n",
    "        1    0.000    0.000    0.003    0.003 test_sum.py:1(<module>)\n",
    "      2/1    0.000    0.000    0.003    0.003 <frozen importlib._bootstrap>:958(_find_and_load)\n",
    "      2/1    0.000    0.000    0.003    0.003 <frozen importlib._bootstrap>:931(_find_and_load_unlocked)\n",
    "      2/1    0.000    0.000    0.002    0.002 <frozen importlib._bootstrap>:641(_load_unlocked)\n",
    "        1    0.000    0.000    0.001    0.001 <frozen importlib._bootstrap_external>:672(exec_module)\n",
    "        2    0.000    0.000    0.001    0.000 <frozen importlib._bootstrap>:861(_find_spec)\n",
    "        1    0.000    0.000    0.001    0.001 <frozen importlib._bootstrap_external>:1149(find_spec)\n",
    "        1    0.000    0.000    0.001    0.001 <frozen importlib._bootstrap_external>:1117(_get_spec)\n",
    "        1    0.000    0.000    0.001    0.001 <frozen importlib._bootstrap_external>:743(get_code)\n",
    "      3/1    0.000    0.000    0.001    0.001 <frozen importlib._bootstrap>:197(_call_with_frames_removed)\n",
    "        1    0.000    0.000    0.001    0.001 timeit.py:51(<module>)\n",
    "        3    0.000    0.000    0.001    0.000 <frozen importlib._bootstrap_external>:1233(find_spec)\n",
    "        1    0.000    0.000    0.000    0.000 <frozen importlib._bootstrap_external>:485(_compile_bytecode)\n",
    "        2    0.000    0.000    0.000    0.000 <frozen importlib._bootstrap>:553(module_from_spec)\n",
    "        1    0.000    0.000    0.000    0.000 {built-in method marshal.loads}\n",
    "        2    0.000    0.000    0.000    0.000 <frozen importlib._bootstrap>:493(_init_module_attrs)\n",
    "        2    0.000    0.000    0.000    0.000 <frozen importlib._bootstrap>:146(__enter__)\n",
    "       16    0.000    0.000    0.000    0.000 <frozen importlib._bootstrap_external>:57(_path_join)\n",
    "        5    0.000    0.000    0.000    0.000 <frozen importlib._bootstrap_external>:75(_path_stat)\n",
    "        5    0.000    0.000    0.000    0.000 {built-in method posix.stat}\n",
    "        2    0.000    0.000    0.000    0.000 {built-in method builtins.print}\n",
    "        1    0.000    0.000    0.000    0.000 {built-in method builtins.__build_class__}\n",
    "        1    0.000    0.000    0.000    0.000 <frozen importlib._bootstrap>:719(create_module)\n",
    "        2    0.000    0.000    0.000    0.000 <frozen importlib._bootstrap_external>:263(cache_from_source)\n",
    "        1    0.000    0.000    0.000    0.000 <frozen importlib._bootstrap_external>:830(get_data)\n",
    "        2    0.000    0.000    0.000    0.000 <frozen importlib._bootstrap>:389(cached)\n",
    "        2    0.000    0.000    0.000    0.000 <frozen importlib._bootstrap>:159(_get_module_lock)\n",
    "        1    0.000    0.000    0.000    0.000 <frozen importlib._bootstrap_external>:361(_get_cached)\n",
    "        1    0.000    0.000    0.000    0.000 {built-in method _imp.create_builtin}\n",
    "       16    0.000    0.000    0.000    0.000 <frozen importlib._bootstrap_external>:59(<listcomp>)\n",
    "        4    0.000    0.000    0.000    0.000 <frozen importlib._bootstrap_external>:1080(_path_importer_cache)\n",
    "        1    0.000    0.000    0.000    0.000 <frozen importlib._bootstrap_external>:1228(_get_spec)\n",
    "        1    0.000    0.000    0.000    0.000 <frozen importlib._bootstrap_external>:430(_validate_bytecode_header)\n",
    "        2    0.000    0.000    0.000    0.000 <frozen importlib._bootstrap>:698(find_spec)\n",
    "        2    0.000    0.000    0.000    0.000 <frozen importlib._bootstrap>:77(acquire)\n",
    "       18    0.000    0.000    0.000    0.000 <frozen importlib._bootstrap>:208(_verbose_message)\n",
    "        2    0.000    0.000    0.000    0.000 <frozen importlib._bootstrap>:304(__exit__)\n",
    "        1    0.000    0.000    0.000    0.000 <frozen importlib._bootstrap_external>:524(spec_from_file_location)\n",
    "        2    0.000    0.000    0.000    0.000 <frozen importlib._bootstrap>:153(__exit__)\n",
    "        1    0.000    0.000    0.000    0.000 <frozen importlib._bootstrap>:419(spec_from_loader)\n",
    "        2    0.000    0.000    0.000    0.000 <frozen importlib._bootstrap>:57(__init__)\n",
    "        2    0.000    0.000    0.000    0.000 {built-in method posix.getcwd}\n",
    "        1    0.000    0.000    0.000    0.000 <frozen importlib._bootstrap_external>:840(path_stats)\n",
    "       11    0.000    0.000    0.000    0.000 {built-in method builtins.hasattr}\n",
    "        1    0.000    0.000    0.000    0.000 <frozen importlib._bootstrap_external>:94(_path_isfile)\n",
    "        2    0.000    0.000    0.000    0.000 <frozen importlib._bootstrap>:102(release)\n",
    "        1    0.000    0.000    0.000    0.000 {method 'read' of '_io.FileIO' objects}\n",
    "        1    0.000    0.000    0.000    0.000 <frozen importlib._bootstrap_external>:85(_path_is_mode_type)\n",
    "       10    0.000    0.000    0.000    0.000 {built-in method builtins.getattr}\n",
    "       34    0.000    0.000    0.000    0.000 {method 'rstrip' of 'str' objects}\n",
    "        1    0.000    0.000    0.000    0.000 test_sum.py:5(fun_sum_it)\n",
    "        2    0.000    0.000    0.000    0.000 <frozen importlib._bootstrap_external>:63(_path_split)\n",
    "        1    0.000    0.000    0.000    0.000 test_sum.py:11(fun_sum_it_updated)\n",
    "        4    0.000    0.000    0.000    0.000 <frozen importlib._bootstrap>:834(__enter__)\n",
    "        2    0.000    0.000    0.000    0.000 <frozen importlib._bootstrap_external>:52(_r_long)\n",
    "        2    0.000    0.000    0.000    0.000 <frozen importlib._bootstrap>:989(_handle_fromlist)\n",
    "       18    0.000    0.000    0.000    0.000 {method 'join' of 'str' objects}\n",
    "        2    0.000    0.000    0.000    0.000 <frozen importlib._bootstrap>:355(__init__)\n",
    "        1    0.000    0.000    0.000    0.000 <frozen importlib._bootstrap>:727(exec_module)\n",
    "        4    0.000    0.000    0.000    0.000 <frozen importlib._bootstrap>:838(__exit__)\n",
    "       11    0.000    0.000    0.000    0.000 {method 'rpartition' of 'str' objects}\n",
    "        2    0.000    0.000    0.000    0.000 <frozen importlib._bootstrap>:402(parent)\n",
    "        1    0.000    0.000    0.000    0.000 <frozen importlib._bootstrap_external>:393(_check_name_wrapper)\n",
    "        2    0.000    0.000    0.000    0.000 {built-in method builtins.any}\n",
    "        2    0.000    0.000    0.000    0.000 {built-in method _imp.is_builtin}\n",
    "        1    0.000    0.000    0.000    0.000 <frozen importlib._bootstrap>:218(_requires_builtin_wrapper)\n",
    "        1    0.000    0.000    0.000    0.000 timeit.py:84(Timer)\n",
    "        1    0.000    0.000    0.000    0.000 <frozen importlib._bootstrap>:771(find_spec)\n",
    "        6    0.000    0.000    0.000    0.000 {built-in method _imp.release_lock}\n",
    "        2    0.000    0.000    0.000    0.000 <frozen importlib._bootstrap>:142(__init__)\n",
    "        1    0.000    0.000    0.000    0.000 <frozen importlib._bootstrap_external>:800(__init__)\n",
    "        2    0.000    0.000    0.000    0.000 <frozen importlib._bootstrap>:297(__enter__)\n",
    "        1    0.000    0.000    0.000    0.000 <frozen importlib._bootstrap>:35(_new_module)\n",
    "        2    0.000    0.000    0.000    0.000 <frozen importlib._bootstrap>:293(__init__)\n",
    "        1    0.000    0.000    0.000    0.000 {built-in method builtins.sum}\n",
    "        4    0.000    0.000    0.000    0.000 {built-in method _thread.allocate_lock}\n",
    "        5    0.000    0.000    0.000    0.000 {built-in method builtins.isinstance}\n",
    "        4    0.000    0.000    0.000    0.000 {built-in method _thread.get_ident}\n",
    "        3    0.000    0.000    0.000    0.000 {built-in method posix.fspath}\n",
    "        2    0.000    0.000    0.000    0.000 {built-in method from_bytes}\n",
    "        4    0.000    0.000    0.000    0.000 {built-in method _imp.acquire_lock}\n",
    "        1    0.000    0.000    0.000    0.000 {built-in method _imp._fix_co_filename}\n",
    "        2    0.000    0.000    0.000    0.000 <frozen importlib._bootstrap>:173(cb)\n",
    "        1    0.000    0.000    0.000    0.000 {method 'endswith' of 'str' objects}\n",
    "        8    0.000    0.000    0.000    0.000 <frozen importlib._bootstrap>:307(<genexpr>)\n",
    "        2    0.000    0.000    0.000    0.000 <frozen importlib._bootstrap>:410(has_location)\n",
    "        4    0.000    0.000    0.000    0.000 {built-in method builtins.len}\n",
    "        1    0.000    0.000    0.000    0.000 {built-in method _imp.is_frozen}\n",
    "        1    0.000    0.000    0.000    0.000 {built-in method _imp.exec_builtin}\n",
    "        1    0.000    0.000    0.000    0.000 <frozen importlib._bootstrap_external>:669(create_module)\n",
    "        1    0.000    0.000    0.000    0.000 <frozen importlib._bootstrap_external>:825(get_filename)\n",
    "        3    0.000    0.000    0.000    0.000 <frozen importlib._bootstrap_external>:41(_relax_case)\n",
    "        1    0.000    0.000    0.000    0.000 {method 'disable' of '_lsprof.Profiler' objects}\n",
    "        1    0.000    0.000    0.000    0.000 <frozen importlib._bootstrap>:744(is_package)\n",
    "```\n"
   ]
  },
  {
   "cell_type": "markdown",
   "metadata": {},
   "source": [
    "#### Interpret CProfile results"
   ]
  },
  {
   "cell_type": "markdown",
   "metadata": {},
   "source": [
    "It’s even more important to find the culprit from the profiling output. You can make a decision only if you know the key elements constituting the cProfile report.\n",
    "\n",
    "1. `<ncalls>`: It is the number of calls made.\n",
    "2. `<tottime>`: It is the aggregate time spent in the given function.\n",
    "3. `<percall>`: Represents the quotient of `<tottime>` divided by `<ncalls>`\n",
    "4. `<cumtime>`: The cumulative time in executing functions and its subfunctions.\n",
    "5. `<percall>`: Signifies the quotient of `<cumtime>` divided by primitive calls.\n",
    "6. `<filename_lineno(function)>`: Point of action in a program. It could be a line no. or a function at some place in a file.\n",
    "\n",
    "Now, you have all elements of profiling report under check. So you can go on hunting the possible sections of your program creating bottlenecks in code.\n",
    "\n",
    "First of all, start checking the <tottime> and <cumtime> which matters the most. The <ncalls> could also be relevant at times. For rest of the items, you need to practice it yourself."
   ]
  },
  {
   "cell_type": "markdown",
   "metadata": {},
   "source": [
    "For your practice, we have two code samples, `original_encrypt.py` and `updated_encrypt.py`.\n",
    "\n",
    "Lets run the profiler on the `original_encrypt.py`. We can see that `{built-in method builtins.ord}` function has been called the max number of time, now "
   ]
  },
  {
   "cell_type": "markdown",
   "metadata": {},
   "source": [
    "```cmd\n",
    "$ python -m cProfile -s cumtime  original_encrypt.py \n",
    "         10928558 function calls in 2.818 seconds\n",
    "\n",
    "   Ordered by: cumulative time\n",
    "\n",
    "   ncalls  tottime  percall  cumtime  percall filename:lineno(function)\n",
    "        1    0.000    0.000    2.818    2.818 {built-in method builtins.exec}\n",
    "        1    0.000    0.000    2.818    2.818 original_encrypt.py:2(<module>)\n",
    "        2    0.000    0.000    2.808    1.404 original_encrypt.py:32(xor_strings)\n",
    "        2    0.350    0.175    2.808    1.404 {method 'join' of 'str' objects}\n",
    "  2732134    1.662    0.000    2.458    0.000 original_encrypt.py:38(<genexpr>)\n",
    "  5464264    0.412    0.000    0.412    0.000 {built-in method builtins.ord}\n",
    "  2732132    0.384    0.000    0.384    0.000 {built-in method builtins.chr}\n",
    "        1    0.006    0.006    0.008    0.008 {method 'read' of '_io.TextIOWrapper' objects}\n",
    "        1    0.000    0.000    0.002    0.002 codecs.py:318(decode)\n",
    "        1    0.002    0.002    0.002    0.002 {built-in method _codecs.utf_8_decode}\n",
    "        1    0.001    0.001    0.001    0.001 original_encrypt.py:43(update_key)\n",
    "        1    0.000    0.000    0.000    0.000 {built-in method io.open}\n",
    "        1    0.000    0.000    0.000    0.000 posixpath.py:73(join)\n",
    "        1    0.000    0.000    0.000    0.000 _bootlocale.py:23(getpreferredencoding)\n",
    "        1    0.000    0.000    0.000    0.000 codecs.py:308(__init__)\n",
    "        3    0.000    0.000    0.000    0.000 {built-in method builtins.isinstance}\n",
    "        1    0.000    0.000    0.000    0.000 {built-in method _locale.nl_langinfo}\n",
    "        1    0.000    0.000    0.000    0.000 posixpath.py:39(_get_sep)\n",
    "        1    0.000    0.000    0.000    0.000 codecs.py:259(__init__)\n",
    "        1    0.000    0.000    0.000    0.000 {method 'disable' of '_lsprof.Profiler' objects}\n",
    "        1    0.000    0.000    0.000    0.000 {method 'startswith' of 'str' objects}\n",
    "        1    0.000    0.000    0.000    0.000 {method 'endswith' of 'str' objects}\n",
    "        4    0.000    0.000    0.000    0.000 {built-in method builtins.len}\n",
    "        1    0.000    0.000    0.000    0.000 {built-in method posix.fspath}\n",
    "\n",
    "```"
   ]
  },
  {
   "cell_type": "markdown",
   "metadata": {},
   "source": [
    "```cmd\n",
    "$ python -m cProfile -s cumtime  updated_encrypt.py \n",
    "         8196426 function calls in 2.084 seconds\n",
    "\n",
    "   Ordered by: cumulative time\n",
    "\n",
    "   ncalls  tottime  percall  cumtime  percall filename:lineno(function)\n",
    "        1    0.000    0.000    2.084    2.084 {built-in method builtins.exec}\n",
    "        1    0.000    0.000    2.084    2.084 updated_encrypt.py:1(<module>)\n",
    "        2    0.000    0.000    2.065    1.032 updated_encrypt.py:13(xor_strings_new)\n",
    "        2    0.314    0.157    2.065    1.032 {method 'join' of 'str' objects}\n",
    "  2732134    1.187    0.000    1.751    0.000 updated_encrypt.py:19(<genexpr>)\n",
    "  2732132    0.344    0.000    0.344    0.000 {built-in method builtins.chr}\n",
    "  2732132    0.220    0.000    0.220    0.000 {built-in method builtins.ord}\n",
    "        1    0.012    0.012    0.012    0.012 updated_encrypt.py:24(update_key)\n",
    "        1    0.006    0.006    0.007    0.007 {method 'read' of '_io.TextIOWrapper' objects}\n",
    "        1    0.000    0.000    0.002    0.002 codecs.py:318(decode)\n",
    "        1    0.002    0.002    0.002    0.002 {built-in method _codecs.utf_8_decode}\n",
    "        1    0.000    0.000    0.000    0.000 {built-in method io.open}\n",
    "        1    0.000    0.000    0.000    0.000 posixpath.py:73(join)\n",
    "        1    0.000    0.000    0.000    0.000 _bootlocale.py:23(getpreferredencoding)\n",
    "        1    0.000    0.000    0.000    0.000 codecs.py:308(__init__)\n",
    "        3    0.000    0.000    0.000    0.000 {built-in method builtins.isinstance}\n",
    "        1    0.000    0.000    0.000    0.000 {built-in method _locale.nl_langinfo}\n",
    "        1    0.000    0.000    0.000    0.000 posixpath.py:39(_get_sep)\n",
    "        4    0.000    0.000    0.000    0.000 {built-in method builtins.len}\n",
    "        1    0.000    0.000    0.000    0.000 codecs.py:259(__init__)\n",
    "        1    0.000    0.000    0.000    0.000 {method 'startswith' of 'str' objects}\n",
    "        1    0.000    0.000    0.000    0.000 {method 'endswith' of 'str' objects}\n",
    "        1    0.000    0.000    0.000    0.000 {method 'disable' of '_lsprof.Profiler' objects}\n",
    "        1    0.000    0.000    0.000    0.000 {built-in method posix.fspath}\n",
    "```"
   ]
  },
  {
   "cell_type": "markdown",
   "metadata": {},
   "source": [
    "### callgraph"
   ]
  },
  {
   "cell_type": "code",
   "execution_count": null,
   "metadata": {},
   "outputs": [],
   "source": []
  },
  {
   "cell_type": "markdown",
   "metadata": {},
   "source": [
    "### line_profiler"
   ]
  },
  {
   "cell_type": "markdown",
   "metadata": {},
   "source": [
    "URL: https://github.com/rkern/line_profiler\n",
    "`line_profiler` is a module for doing line-by-line profiling of functions. ``kernprof is a convenient script for running either `line_profiler` or the Python standard library's `cProfile` or `profile` modules, depending on what is available.\n",
    "\n",
    "It can be installed using the following command \n",
    "\n",
    "```\n",
    "$:> git clone https://github.com/rkern/line_profiler.git\n",
    "find line_profiler -name '*.pyx' -exec cython {} \\;\n",
    "cd line_profiler\n",
    "pip install . --user\n",
    "```\n",
    "**Usage:**\n",
    "\n",
    "The easiest way to get started is to use the kernprof script.\n",
    "\n",
    "```\n",
    "kernprof -l v4_updated_encrypt.py\n",
    "```\n",
    "\n",
    "Now a v3_updated_encrypt.py.lprof is created, which can be later viewed for details, Please note that functions which you wish to profile should be marked using `@profile` decorator. We can also add -v to view the profile details on screen.\n",
    "\n",
    "```\n",
    "$:> kernprof -v -l v4_update_encrypt.py\n",
    "Wrote profile results to v4_update_encrypt.py.lprof\n",
    "Timer unit: 1e-06 s\n",
    "\n",
    "Total time: 1.65193 s\n",
    "File: v4_update_encrypt.py\n",
    "Function: xor_strings at line 13\n",
    "\n",
    "Line #      Hits         Time  Per Hit   % Time  Line Contents\n",
    "==============================================================\n",
    "    13                                           @profile\n",
    "    14                                           def xor_strings(txt, key):\n",
    "    15         2    1651933.0 825966.5    100.0      return \"\".join(chr(ord(a) ^ b) for a, b in zip(txt, key))\n",
    "\n",
    "Total time: 1.7e-05 s\n",
    "File: v4_update_encrypt.py\n",
    "Function: update_key at line 18\n",
    "\n",
    "Line #      Hits         Time  Per Hit   % Time  Line Contents\n",
    "==============================================================\n",
    "    18                                           @profile\n",
    "    19                                           def update_key(key, length):\n",
    "    20         2         12.0      6.0     70.6      if len(txt) > len(key):\n",
    "    21         2          5.0      2.5     29.4          return cycle(key)\n",
    "    22                                               else:\n",
    "    23                                                   return key[len(txt)]\n",
    "```"
   ]
  },
  {
   "cell_type": "markdown",
   "metadata": {},
   "source": [
    "### memory_profiler"
   ]
  },
  {
   "cell_type": "markdown",
   "metadata": {},
   "source": [
    "URL: https://github.com/pythonprofilers/memory_profiler\n",
    "\n",
    "This is a python module for monitoring memory consumption of a process as well as line-by-line analysis of memory consumption for python programs. It is a pure python module which depends on the psutil module.\n",
    "\n",
    "**Installation:**\n",
    "```\n",
    "pip install -U memory_profiler\n",
    "```"
   ]
  },
  {
   "cell_type": "markdown",
   "metadata": {},
   "source": [
    "#### Usage"
   ]
  },
  {
   "cell_type": "markdown",
   "metadata": {},
   "source": [
    "##### line-by-line memory usage"
   ]
  },
  {
   "cell_type": "markdown",
   "metadata": {},
   "source": [
    "The line-by-line memory usage mode is used much in the same way of the line_profiler: first decorate the function you would like to profile with @profile and then run the script with a special script (in this case with specific arguments to the Python interpreter)."
   ]
  },
  {
   "cell_type": "markdown",
   "metadata": {},
   "source": [
    "##### Decorator"
   ]
  },
  {
   "cell_type": "markdown",
   "metadata": {},
   "source": [
    "We can add the following code in the code itself and just run the program normally without any need of `-m memory_profile` on command line as shown below.\n",
    "```\n",
    "from memory_profiler import profile\n",
    "```\n",
    "- _Output_\n",
    "\n",
    "```\n",
    "$:> python v5_update_encrypt.py\n",
    "Filename: v5_update_encrypt.py\n",
    "\n",
    "Line #    Mem usage    Increment   Line Contents\n",
    "================================================\n",
    "    18     52.9 MiB     52.9 MiB   @profile\n",
    "    19                             def update_key(key, length):\n",
    "    20     52.9 MiB      0.0 MiB       if len(txt) > len(key):\n",
    "    21     52.9 MiB      0.0 MiB           return cycle(key)\n",
    "    22                                 else:\n",
    "    23                                     return key[len(txt)]\n",
    "\n",
    "\n",
    "Filename: v5_update_encrypt.py\n",
    "\n",
    "Line #    Mem usage    Increment   Line Contents\n",
    "================================================\n",
    "    13     52.9 MiB     52.9 MiB   @profile\n",
    "    14                             def xor_strings(txt, key):\n",
    "    15     63.1 MiB      0.0 MiB       return \"\".join(chr(ord(a) ^ b) for a, b in zip(txt, key))\n",
    "\n",
    "\n",
    "Filename: v5_update_encrypt.py\n",
    "\n",
    "Line #    Mem usage    Increment   Line Contents\n",
    "================================================\n",
    "    18     52.9 MiB     52.9 MiB   @profile\n",
    "    19                             def update_key(key, length):\n",
    "    20     52.9 MiB      0.0 MiB       if len(txt) > len(key):\n",
    "    21     52.9 MiB      0.0 MiB           return cycle(key)\n",
    "    22                                 else:\n",
    "    23                                     return key[len(txt)]\n",
    "\n",
    "\n",
    "Filename: v5_update_encrypt.py\n",
    "\n",
    "Line #    Mem usage    Increment   Line Contents\n",
    "================================================\n",
    "    13     52.9 MiB     52.9 MiB   @profile\n",
    "    14                             def xor_strings(txt, key):\n",
    "    15     63.4 MiB      0.1 MiB       return \"\".join(chr(ord(a) ^ b) for a, b in zip(txt, key))\n",
    "```\n",
    "\n",
    "> **Note**\n",
    "> <hr/>\n",
    "> It will take some time to complete the execution, so please have some patience\n",
    "\n"
   ]
  },
  {
   "cell_type": "markdown",
   "metadata": {},
   "source": [
    "##### Time-based memory usage"
   ]
  },
  {
   "cell_type": "markdown",
   "metadata": {},
   "source": [
    "Sometimes it is useful to have full memory usage reports as a function of time (not line-by-line) of external processes (be it Python scripts or not). In this case the executable mprof might be useful. Use it like:\n",
    "```\n",
    "$:> mprof run v5_update_encrypt.py \n",
    "....\n",
    "$:> mprof plot\n",
    "```\n",
    "- **_Example_**\n",
    "\n",
    "```\n",
    "mprof run v5_update_encrypt.py \n",
    "mprof: Sampling memory every 0.1s\n",
    "running as a Python program...\n",
    "Filename: v5_update_encrypt.py\n",
    "\n",
    "Line #    Mem usage    Increment   Line Contents\n",
    "================================================\n",
    "    18     53.2 MiB     53.2 MiB   @profile\n",
    "    19                             def update_key(key, length):\n",
    "    20     53.2 MiB      0.0 MiB       if len(txt) > len(key):\n",
    "    21     53.2 MiB      0.0 MiB           return cycle(key)\n",
    "    22                                 else:\n",
    "    23                                     return key[len(txt)]\n",
    "\n",
    "\n",
    "Filename: v5_update_encrypt.py\n",
    "\n",
    "Line #    Mem usage    Increment   Line Contents\n",
    "================================================\n",
    "    13     53.3 MiB     53.3 MiB   @profile\n",
    "    14                             def xor_strings(txt, key):\n",
    "    15     63.4 MiB      0.0 MiB       return \"\".join(chr(ord(a) ^ b) for a, b in zip(txt, key))\n",
    "\n",
    "\n",
    "Filename: v5_update_encrypt.py\n",
    "\n",
    "Line #    Mem usage    Increment   Line Contents\n",
    "================================================\n",
    "    18     53.1 MiB     53.1 MiB   @profile\n",
    "    19                             def update_key(key, length):\n",
    "    20     53.1 MiB      0.0 MiB       if len(txt) > len(key):\n",
    "    21     53.1 MiB      0.0 MiB           return cycle(key)\n",
    "    22                                 else:\n",
    "    23                                     return key[len(txt)]\n",
    "\n",
    "\n",
    "Filename: v5_update_encrypt.py\n",
    "\n",
    "Line #    Mem usage    Increment   Line Contents\n",
    "================================================\n",
    "    13     53.1 MiB     53.1 MiB   @profile\n",
    "    14                             def xor_strings(txt, key):\n",
    "    15     63.8 MiB      0.1 MiB       return \"\".join(chr(ord(a) ^ b) for a, b in zip(txt, key))\n",
    "```\n",
    "![v5_update_encrypt_profile.png](images\\v5_update_encrypt_profile.png)\n",
    "\n",
    "The available commands for mprof are:\n",
    "\n",
    "- `mprof run`: running an executable, recording memory usage\n",
    "- `mprof plot`: plotting one the recorded memory usage (by default, the last one)\n",
    "- `mprof list`: listing all recorded memory usage files in a user-friendly way.\n",
    "- `mprof rm`: removing specific recorded memory usage files\n",
    "- `mprof clean`: removing all recorded memory usage files."
   ]
  },
  {
   "cell_type": "markdown",
   "metadata": {},
   "source": [
    "### Algorithms and Data structures"
   ]
  },
  {
   "cell_type": "markdown",
   "metadata": {},
   "source": [
    "One of the most important things that we need to have, before we start our coding is to think what we need to implement and based on that think about the data-structure (list/tuple etc) which might do the trik.\n",
    "Also check the time complexity for the basic python data-structures and use them based on the operation that is most used in your code. The below time complexity tables are taken from Python wiki (https://wiki.python.org/moin/TimeComplexity)"
   ]
  },
  {
   "cell_type": "markdown",
   "metadata": {},
   "source": [
    "#### `list`"
   ]
  },
  {
   "cell_type": "markdown",
   "metadata": {},
   "source": [
    "| Operation        | Average Case | Amortized Worst Case |\n",
    "|------------------|--------------|----------------------|\n",
    "| Copy             | O(n)         | O(n)                 |\n",
    "| Append           | O(1)         | O(1)                 |\n",
    "| Pop last         | O(1)         | O(1)                 |\n",
    "| Pop intermediate | O(k)         | O(k)                 |\n",
    "| Insert           | O(n)         | O(n)                 |\n",
    "| Get Item         | O(1)         | O(1)                 |\n",
    "| Set Item         | O(1)         | O(1)                 |\n",
    "| Delete Item      | O(n)         | O(n)                 |\n",
    "| Iteration        | O(n)         | O(n)                 |\n",
    "| Get Slice        | O(k)         | O(k)                 |\n",
    "| Del Slice        | O(n)         | O(n)                 |\n",
    "| Set Slice        | O(k+n)       | O(k+n)               |\n",
    "| Extend           | O(k)         | O(k)                 |\n",
    "| Sort             | O(n log n)   | O(n log n)           |\n",
    "| Multiply         | O(nk)        | O(nk)                |\n",
    "| x in s           | O(n)         |                      |\n",
    "| min(s), max(s)   | O(n)         |                      |\n",
    "| Get Length       | O(1)         | O(1)                 |"
   ]
  },
  {
   "cell_type": "markdown",
   "metadata": {},
   "source": [
    "#### `collections.deque`"
   ]
  },
  {
   "cell_type": "markdown",
   "metadata": {},
   "source": [
    "| Operation  | Average Case | Amortized Worst Case |\n",
    "|------------|--------------|----------------------|\n",
    "| Copy       | O(n)         | O(n)                 |\n",
    "| append     | O(1)         | O(1)                 |\n",
    "| appendleft | O(1)         | O(1)                 |\n",
    "| pop        | O(1)         | O(1)                 |\n",
    "| popleft    | O(1)         | O(1)                 |\n",
    "| extend     | O(k)         | O(k)                 |\n",
    "| extendleft | O(k)         | O(k)                 |\n",
    "| rotate     | O(k)         | O(k)                 |\n",
    "| remove     | O(n)         | O(n)                 |"
   ]
  },
  {
   "cell_type": "markdown",
   "metadata": {},
   "source": [
    "| Operation                         | Average case          | Worst Case                                    | notes |\n",
    "|-----------------------------------|-----------------------|-----------------------------------------------|-------|\n",
    "| x in s                            | O(1)                  | O(n)                                          |       |\n",
    "| Union s|t                         | O(len(s)+len(t))      |                                               |       |\n",
    "| Intersection s&t                  | O(min(len(s), len(t)) | O(len(s) * len(t))                            |replace \"min\" with \"max\" if t is not a set       |\n",
    "| Multiple intersection s1&s2&..&sn |                       | (n-1)*O(l) where l is max(len(s1),..,len(sn)) |       |\n",
    "| Difference s-t                    | O(len(s))             |                                               |       |"
   ]
  },
  {
   "cell_type": "markdown",
   "metadata": {},
   "source": [
    "#### `dict`"
   ]
  },
  {
   "cell_type": "markdown",
   "metadata": {},
   "source": [
    "| Operation    | Average Case | Amortized Worst Case |\n",
    "|--------------|--------------|----------------------|\n",
    "| Copy         | O(n)         | O(n)                 |\n",
    "| Get Item     | O(1)         | O(n)                 |\n",
    "| Set Item     | O(1)         | O(n)                 |\n",
    "| Delete Item  | O(1)         | O(n)                 |\n",
    "| Iteration    | O(n)         | O(n)                 |"
   ]
  },
  {
   "cell_type": "markdown",
   "metadata": {},
   "source": [
    "### General Advices"
   ]
  },
  {
   "cell_type": "markdown",
   "metadata": {},
   "source": [
    "#### Use builtin functions and libraries"
   ]
  },
  {
   "cell_type": "markdown",
   "metadata": {},
   "source": [
    "Don't try to recreate the functionality of existing functions, just use the builtin function and libraries, they are already optimized as most of them are written in `C` and provide best performance. "
   ]
  },
  {
   "cell_type": "markdown",
   "metadata": {},
   "source": [
    "Lets take an example, we have a need to perform a simple operation (say square) on all the elements of the list. The most common way to perform is as shown below. "
   ]
  },
  {
   "cell_type": "code",
   "execution_count": 9,
   "metadata": {},
   "outputs": [
    {
     "name": "stdout",
     "output_type": "stream",
     "text": [
      "[0, 1, 4, 9, 16, 25, 36, 49, 64, 81, 100, 121, 144, 169, 196, 225, 256, 289, 324, 361, 400, 441, 484, 529, 576, 625, 676, 729, 784, 841, 900, 961, 1024, 1089, 1156, 1225, 1296, 1369, 1444, 1521, 1600, 1681, 1764, 1849, 1936, 2025, 2116, 2209, 2304, 2401, 2500, 2601, 2704, 2809, 2916, 3025, 3136, 3249, 3364, 3481, 3600, 3721, 3844, 3969, 4096, 4225, 4356, 4489, 4624, 4761, 4900, 5041, 5184, 5329, 5476, 5625, 5776, 5929, 6084, 6241, 6400, 6561, 6724, 6889, 7056, 7225, 7396, 7569, 7744, 7921, 8100, 8281, 8464, 8649, 8836, 9025, 9216, 9409, 9604, 9801]\n"
     ]
    }
   ],
   "source": [
    "def square(x):\n",
    "    return x*x\n",
    "\n",
    "x = []\n",
    "for a in range(100):\n",
    "    x.append(square(a))\n",
    "print(x)"
   ]
  },
  {
   "cell_type": "markdown",
   "metadata": {},
   "source": [
    "But, you will notice, we are doing lot of work for it, creating a for loop, and appending the value of `square(a)` in the list `x`, wereas we could have achieved it using the following one liner."
   ]
  },
  {
   "cell_type": "code",
   "execution_count": 10,
   "metadata": {},
   "outputs": [
    {
     "name": "stdout",
     "output_type": "stream",
     "text": [
      "[0, 1, 4, 9, 16, 25, 36, 49, 64, 81, 100, 121, 144, 169, 196, 225, 256, 289, 324, 361, 400, 441, 484, 529, 576, 625, 676, 729, 784, 841, 900, 961, 1024, 1089, 1156, 1225, 1296, 1369, 1444, 1521, 1600, 1681, 1764, 1849, 1936, 2025, 2116, 2209, 2304, 2401, 2500, 2601, 2704, 2809, 2916, 3025, 3136, 3249, 3364, 3481, 3600, 3721, 3844, 3969, 4096, 4225, 4356, 4489, 4624, 4761, 4900, 5041, 5184, 5329, 5476, 5625, 5776, 5929, 6084, 6241, 6400, 6561, 6724, 6889, 7056, 7225, 7396, 7569, 7744, 7921, 8100, 8281, 8464, 8649, 8836, 9025, 9216, 9409, 9604, 9801]\n"
     ]
    }
   ],
   "source": [
    "x = list(map(square, range(100)))\n",
    "print(x)"
   ]
  },
  {
   "cell_type": "markdown",
   "metadata": {},
   "source": [
    "Also note, that I do not need `list` function until later or not at all, thus I will remove it also.\n",
    "\n",
    "Now, lets how much the second way of doing it is saving our time. "
   ]
  },
  {
   "cell_type": "markdown",
   "metadata": {},
   "source": [
    "and without `list`"
   ]
  },
  {
   "cell_type": "code",
   "execution_count": 14,
   "metadata": {
    "scrolled": true
   },
   "outputs": [
    {
     "name": "stdout",
     "output_type": "stream",
     "text": [
      "531 ns ± 29.1 ns per loop (mean ± std. dev. of 7 runs, 1000000 loops each)\n"
     ]
    }
   ],
   "source": [
    "%%timeit\n",
    "x = map(square, range(100))"
   ]
  },
  {
   "cell_type": "markdown",
   "metadata": {},
   "source": [
    "On my machine it took ~ 580 ns. Now lets find out how much time the first code sample will take."
   ]
  },
  {
   "cell_type": "markdown",
   "metadata": {},
   "source": [
    "We can also try to use list comprehension to solve the issue"
   ]
  },
  {
   "cell_type": "code",
   "execution_count": 11,
   "metadata": {},
   "outputs": [
    {
     "name": "stdout",
     "output_type": "stream",
     "text": [
      "19.7 µs ± 1.84 µs per loop (mean ± std. dev. of 7 runs, 10000 loops each)\n"
     ]
    }
   ],
   "source": [
    "%%timeit\n",
    "x = [square(a) for a in range(100)]"
   ]
  },
  {
   "cell_type": "code",
   "execution_count": 18,
   "metadata": {},
   "outputs": [
    {
     "name": "stdout",
     "output_type": "stream",
     "text": [
      "16.3 µs ± 3.94 µs per loop (mean ± std. dev. of 7 runs, 100000 loops each)\n"
     ]
    }
   ],
   "source": [
    "%%timeit\n",
    "x = list(map(square, range(100)))"
   ]
  },
  {
   "cell_type": "code",
   "execution_count": 19,
   "metadata": {},
   "outputs": [
    {
     "name": "stdout",
     "output_type": "stream",
     "text": [
      "14.7 µs ± 980 ns per loop (mean ± std. dev. of 7 runs, 100000 loops each)\n"
     ]
    }
   ],
   "source": [
    "%%timeit\n",
    "x = tuple(map(square, range(100)))"
   ]
  },
  {
   "cell_type": "code",
   "execution_count": 13,
   "metadata": {},
   "outputs": [
    {
     "name": "stdout",
     "output_type": "stream",
     "text": [
      "26.3 µs ± 2.3 µs per loop (mean ± std. dev. of 7 runs, 10000 loops each)\n"
     ]
    }
   ],
   "source": [
    "%%timeit\n",
    "x = []\n",
    "for a in range(100):\n",
    "    x.append(square(a))"
   ]
  },
  {
   "cell_type": "markdown",
   "metadata": {},
   "source": [
    "Also, note many newcommers do the following mistake, they create an empty list as shown in below code. See now much simple mistake like this can cost us."
   ]
  },
  {
   "cell_type": "code",
   "execution_count": 20,
   "metadata": {},
   "outputs": [
    {
     "name": "stdout",
     "output_type": "stream",
     "text": [
      "608 ns ± 39.5 ns per loop (mean ± std. dev. of 7 runs, 1000000 loops each)\n"
     ]
    }
   ],
   "source": [
    "%%timeit\n",
    "x = []\n",
    "x = map(square, range(100))"
   ]
  },
  {
   "cell_type": "markdown",
   "metadata": {},
   "source": [
    "Just by adding one unnecessary line, our time shot from 578 ns to 627 ns. So try to avoid such initialization."
   ]
  },
  {
   "cell_type": "code",
   "execution_count": 11,
   "metadata": {},
   "outputs": [
    {
     "name": "stdout",
     "output_type": "stream",
     "text": [
      "20 µs ± 304 ns per loop (mean ± std. dev. of 7 runs, 100000 loops each)\n"
     ]
    }
   ],
   "source": [
    "%%timeit\n",
    "x = [square(a) for a in range(100)]"
   ]
  },
  {
   "cell_type": "markdown",
   "metadata": {},
   "source": [
    "#### Use External Libraries/Packages"
   ]
  },
  {
   "cell_type": "markdown",
   "metadata": {},
   "source": [
    "If something is already available, use it instead of recreating it. "
   ]
  },
  {
   "cell_type": "markdown",
   "metadata": {},
   "source": [
    "#### Use Local Variable & Avoid Using Globals"
   ]
  },
  {
   "cell_type": "markdown",
   "metadata": {},
   "source": [
    "Try to avoid using global variables, instead pass the values as parameter and let the function return the results to you instead as shown in the below examples."
   ]
  },
  {
   "cell_type": "code",
   "execution_count": 6,
   "metadata": {},
   "outputs": [],
   "source": [
    "# Bad Example\n",
    "from math import pow\n",
    "\n",
    "PI = 22/7\n",
    "radius = 10\n",
    "\n",
    "def area_circle(radius):\n",
    "    area = (PI)*pow(radius, 2)\n",
    "    \n",
    "area_circle(1991)"
   ]
  },
  {
   "cell_type": "code",
   "execution_count": 5,
   "metadata": {},
   "outputs": [
    {
     "name": "stdout",
     "output_type": "stream",
     "text": [
      "314.2857142857143\n"
     ]
    }
   ],
   "source": [
    "# Better example\n",
    "\n",
    "from math import pow\n",
    "\n",
    "def area_circle_v1(radius):\n",
    "    return (22/7)*pow(radius, 2)\n",
    "\n",
    "print(area_circle_v1(10))"
   ]
  },
  {
   "cell_type": "code",
   "execution_count": 4,
   "metadata": {},
   "outputs": [
    {
     "name": "stdout",
     "output_type": "stream",
     "text": [
      "314.285\n"
     ]
    }
   ],
   "source": [
    "## Even better example\n",
    "\n",
    "from math import pow\n",
    "\n",
    "def area_circle_v2(radius):\n",
    "    return (3.14285)*pow(radius, 2)\n",
    "\n",
    "print(area_circle_v2(10))"
   ]
  },
  {
   "cell_type": "code",
   "execution_count": 15,
   "metadata": {},
   "outputs": [
    {
     "name": "stdout",
     "output_type": "stream",
     "text": [
      "2199.9950000000003\n"
     ]
    }
   ],
   "source": [
    "# Another better example\n",
    "from math import pow\n",
    "\n",
    "def area_circle(radius):\n",
    "    return (3.14285)*pow(radius, 2)\n",
    "\n",
    "def vol_of_cylinder(radius, height):\n",
    "    return area_circle(radius) * height\n",
    "\n",
    "print(vol_of_cylinder(10, 7))"
   ]
  },
  {
   "cell_type": "markdown",
   "metadata": {},
   "source": [
    "#### Smart Compute before hand"
   ]
  },
  {
   "cell_type": "markdown",
   "metadata": {},
   "source": [
    "Lets find the difference between the three examples, \n",
    "\n",
    "In the first example, we are using a constant `PI` and calling it in `area_circle`, \n",
    "In the second example, we are using `22/7` inside the function `area_circle_v1`, \n",
    "In the third example, we have computed `22/7` to the nearest decimal we are comfortable with and used it inside the function `area_circle_v1`, "
   ]
  },
  {
   "cell_type": "code",
   "execution_count": 16,
   "metadata": {},
   "outputs": [
    {
     "name": "stdout",
     "output_type": "stream",
     "text": [
      "549 ns ± 6.84 ns per loop (mean ± std. dev. of 7 runs, 1000000 loops each)\n"
     ]
    }
   ],
   "source": [
    "%%timeit\n",
    "# Bad Example\n",
    "\n",
    "PI = 22/7\n",
    "radius = 10\n",
    "\n",
    "def area_circle(radius):\n",
    "    area = (PI)*pow(radius, 2)\n",
    "    \n",
    "area_circle(98989)"
   ]
  },
  {
   "cell_type": "code",
   "execution_count": 23,
   "metadata": {},
   "outputs": [
    {
     "name": "stdout",
     "output_type": "stream",
     "text": [
      "468 ns ± 36.8 ns per loop (mean ± std. dev. of 7 runs, 1000000 loops each)\n"
     ]
    }
   ],
   "source": [
    "%%timeit\n",
    "\n",
    "def area_circle_v1(radius):\n",
    "    return (22/7)*pow(radius, 2)\n",
    "\n",
    "area_circle_v1(98989)"
   ]
  },
  {
   "cell_type": "code",
   "execution_count": 24,
   "metadata": {},
   "outputs": [
    {
     "name": "stdout",
     "output_type": "stream",
     "text": [
      "410 ns ± 6.69 ns per loop (mean ± std. dev. of 7 runs, 1000000 loops each)\n"
     ]
    }
   ],
   "source": [
    "%%timeit\n",
    "\n",
    "def area_circle_v2(radius):\n",
    "    return (3.14285)*pow(radius, 2)\n",
    "\n",
    "area_circle_v2(98989)"
   ]
  },
  {
   "cell_type": "markdown",
   "metadata": {},
   "source": [
    "Lets take another example, which I had experienced myself a long long time ago, in my first company. I was asked to create a ISAPI filter in C, which will encrypt entire HTML code which leaves the IIS Web Server. \n",
    "\n",
    "I created the function which has 100 predifined keys of encryption and will `XOR` one character from key to one character from the data and create a new html page which stores this new character. The technique worked flowlessly but it used to take about a min to process entire page of about 400KB and sent it to client browser. I have simulated the same in python to show the issue.\n"
   ]
  },
  {
   "cell_type": "code",
   "execution_count": 25,
   "metadata": {},
   "outputs": [
    {
     "name": "stdout",
     "output_type": "stream",
     "text": [
      "~~~~~~~~~~~~~~~~~~~~~~~~~~~~~~~~~~ encrypted ~~~~~~~~~~~~~~~~~~~~~~~~~~~~~~~~~~~\n",
      "\u0017\u0006\u0007\u000e\u0001D\r",
      "\u0001GN\u001bOA\u0018\u0004\n",
      "Wv\u000e\r",
      "\r",
      "\u001fEN\u0013H\n",
      "FS\u000e\u001b\u0015\u0000\u001e",
      "\f",
      "\u0005\f",
      "D\u0000\u001d",
      "T\u0000\u001aY&\r",
      "\u001d",
      "\u0012\u001aC\u0005\u0003\u0000\f",
      "\u0000D\u0018BL.\u0011T\u000e\u001bL\b\f",
      "\u000f\u0013HCF*\u0015\u0006\u001c",
      "\u0000\u001f\u0006\u0003\t\u0000\u0002\u0001\u0011\u001aT\u00108\u0011\u000b",
      "A\u0012N\u000b",
      "\u001bH\u000b",
      "\u001d",
      "\u0000\u0003\u0003\b\u0016WA\b\n",
      "\u0003\u001e",
      "\r",
      "\u0007\tGO\u0012OA\u0007\r",
      "\u0000\b\f",
      "\u0013\u0001SIN\u0017\b\u0018\u00153\u0001D\n",
      "\u0012R\t\u000eSN\u0000FA\u0018\u0004\n",
      "WP\n",
      "\u001a\u0018Lc\u0002\u000eV\n",
      "\u0015\u000eA/\u001aC\u0003\u001b\u0012\f",
      "N\u0002N\u0000\u0006T\r",
      ">\u0000D7\u0016D\u0005\u001c",
      "\f",
      "N\u0002I\u000f\bL\u0006\u0004\u0000\u000f\u0000\n",
      "\n",
      "\f",
      "\u001c",
      "\u0002N\u001bFF\u0013\u0001\u0014\u0000\u001f\u0006\u0003\t\u000eE9\u001c",
      "\u0000\u0018\u001c",
      "v\u0016\u000b",
      "\u0014\u001f\u0000\r",
      "\u001c",
      "\u0000\u000fO*\u0002\u0003\u0002\u001c",
      "\u0014I\u0004\u001c",
      "\u001fL\f",
      "\u0000\u0013I\u001b\u001f\f",
      "A\u0003\u0010N\bI\u001f\u0016\u0000\u0015\u0006\r",
      "\u001a\u001d",
      "\u001a7\tD\u0004\u001fE\t\n",
      "N\u001aA\u0000(\u0018L\u000e\u0007P\u000e\b\u001e",
      "\u001fI\u001a\b\u0000\r",
      "\u0003\u0000\u0002\u0001\u0017S\u000f\u0000\u0019\u0010SE\f",
      "\u0001\u001d",
      "T\r",
      ">\u0004\u0010AyC\u000b",
      "\u0001S\r",
      "\u0006O\u0014\u001f\u0002\n",
      "\u0004SK\u0000\u0018L\r",
      "\u001c",
      "\u000eV\n",
      "\u0015\u0000\u0007\u001c",
      "\u0016ML\u001a\u0019\u0010LE\u000f\u0007I\u0010\u00163\u0016D\f",
      "\u001c",
      "O\n",
      "OI\u001a\u001c",
      "\u0000\r",
      "\u0019\u0001\u0006\u0019O\u0018\u0000\u0018\u0015I\b\u0015O\u0002FT\t\u000b",
      "YS\u0019\u0007XEs\n",
      "\u001b\u0018ETs>\n",
      "\u0013\u0004\u0005E\u0016C\u0000\u000f\f",
      "T\u0012L\u0018\u0007\u0005O\u001e",
      "\u000e\u0004L\u001d",
      "\u0006\u0002\u0000\u000e\u0001E\u000f\r",
      "\u0000\u0000\u0003\u000fV\bI\u000b",
      "\n",
      "ZI \u00113E\u0007\u0000\u001fLD\u0000FN\u001bH\u0004L:\n",
      "\u0013A\u0018I\u0005\u001fId⁻l\u0006\u0015T\u0004\u0000U\u0000#I\u0006\u0000O\u0015\u0002\u0011I\u001b\u001fv\u0011\f",
      "\u0004SW\u000b",
      "\u001d",
      "L\n",
      "OY\u000e\u0019L\u000e\u0005EK\u001d",
      "\u0004\tI\u001d",
      "\bN\u001c",
      "FO\u0007N>O\b⁴Vo*1\u0006\u0011\u0010T\u0018$\u0000D\u000f\u001c",
      "TD\u001bON\u001fR\u0004\r",
      "\u000f\u0007WA\u0005\u0010L\u001c",
      "\b\u001c",
      "\u0013I\f",
      "\u0013L\u0000\u001c",
      "YR\t\u0005\u001f\u0002I\n",
      "\u0000T\u000b",
      "\u0001\r",
      "v\u0016\u0014\b\u0001I\u0010\u001aA\u0002OO\u0014\u0018\u0000\u0000\u0018KK\u0000\u0002L\u0005\u0007\u0001EAF*5\u0006\u001c",
      "YL\n",
      "\u0017\tLE\u001b\u0004\u0006\u001aY#\u0016D⁽>A\n",
      "\u001aR\f",
      "\u0007A\u0017ⁱLe}b\u000eI\u0004\u0019\u0004\u000f\t\f",
      "O\u0005O\u000f\n",
      "\f",
      "C\u0018I\u000f\n",
      "U\u0017N\u0007\f",
      "\u0018\u001fv\u0004\u0017A\u0012\u0000\f",
      "\u001aM\u000f\u0001\u0000\u0003\t\u0005\u0001\u0010\f",
      "K\u0007\u0003\u0018I\u0002\u000eK\n",
      "FA\u000fN\u0018N\u0005\u0004\u0017\t\u000eEd~=\u001c",
      "\u001c",
      "v3\u0001\u0005\u0012SD\u001bE\u000f\f",
      "HA\u0019\u001fO\u0003H\n",
      "\u001d",
      "L\u0001\b\u0000GI\u001c",
      "FE\u0012\u001d",
      "\u001c",
      "N\u0018\u0000\u0017\tL\u001c",
      "N\u0010\u0000\u0002\u00108\u0000D\u0013\u0016A\b\u0006Z\u0007\u0001GA\u0018\u0004\u000e\u0003\u0000\u000f\u0000\u001a\u0005\u0007\u0007\u0013YO\u000fNA\u001b\n",
      "\u0000f\u0000\u0005ET\r",
      "\u000b",
      "T\u0019\u0001\u000b",
      "&\n",
      "\u0017\u0004SO\u0002OL\u0007\tEA\r",
      "\u000b",
      "\u000e\u001e",
      "NK\u001d",
      "\u0004\tI\u0000\bV\n",
      "\n",
      "T\u0018N\u0018N\bI\u0003\u000b",
      "I\u0014\u001b\u0011\u0007\u0011\n",
      "%E\u000b",
      "\u0007ST\f",
      "\n",
      "\u00008\n",
      "D\u0000\u001fL\u0006\u0004\u0000\u001f\u0001\r",
      "\u0018Id1E\u000b",
      "\u0007\u0000\u0006\u0007\u000fE\u001fI\u001b\n",
      "R\u0000N\u001d",
      "\u0004\u0004\u0016$\u0011\u0005\u000f\u0010ED\u001bON\u001bH\u0004L\u000f\u0000\u001bL\u000e\n",
      "\u0018\u0005\u001f\u0007\u0013YCFT\t\u000b",
      "YS\u0003\n",
      "\u001f\u0000T\u001c",
      "N\u0015\u0007\u0010Y7\u0016\u0017\u0004\u001e",
      "B\b\u0016\u0000\u0001\t\u0000\u0015\u0004\tO}P\u000e\u0006\u001c",
      "\u0000\f",
      "N\u0013H\u000e\b\u0000\u0007\u0001\u000b",
      "\u0000\r",
      "\u0007\u000fEI\u000b",
      "\n",
      "\u001d",
      "\u001f\u001d",
      "\u001d",
      "#\u0004\b\n",
      "~~~~~~~~~~~~~~~~~~~~~~~~~~~~~~~~~~ decrypted ~~~~~~~~~~~~~~~~~~~~~~~~~~~~~~~~~~~\n",
      "According to the Vedas, the soul resides in physical body. After death, \n",
      "the soul goes into another body according to it deeds, called karmas of the past \n",
      "lives. According to the Vedas, mind is different from soul. While soul is a \n",
      "conscious entity, mind is physical element. It appears to be conscious but that \n",
      "consciousness it drives from soul as does moon its luminosity from the sun. Soul, \n",
      "however, acts through the agency of mind. The call of the Vedas is \n",
      "“Listen, O people of the world you are the sons of God” \n",
      "\n",
      "They are not to preach any particular religion but spiritual outlook in life. \n",
      "They call upon us “Manurbhav” \n",
      "\n",
      "Be human, conduct your self as a human being, not like an animal. \n",
      "\n",
      "The Vedas teach us that man is essentially divine realizing that divinity in us \n",
      "is the purpose of life again the novelty and uniqueness of the Vedas is that \n",
      "Veda gives more importance to the collectivity, the society and assembly of the \n",
      "people than for any individual\n"
     ]
    }
   ],
   "source": [
    "txt = \"\"\"According to the Vedas, the soul resides in physical body. After death, \n",
    "the soul goes into another body according to it deeds, called karmas of the past \n",
    "lives. According to the Vedas, mind is different from soul. While soul is a \n",
    "conscious entity, mind is physical element. It appears to be conscious but that \n",
    "consciousness it drives from soul as does moon its luminosity from the sun. Soul, \n",
    "however, acts through the agency of mind. The call of the Vedas is \n",
    "“Listen, O people of the world you are the sons of God” \n",
    "\n",
    "They are not to preach any particular religion but spiritual outlook in life. \n",
    "They call upon us “Manurbhav” \n",
    "\n",
    "Be human, conduct your self as a human being, not like an animal. \n",
    "\n",
    "The Vedas teach us that man is essentially divine realizing that divinity in us \n",
    "is the purpose of life again the novelty and uniqueness of the Vedas is that \n",
    "Veda gives more importance to the collectivity, the society and assembly of the \n",
    "people than for any individual\"\"\"\n",
    "\n",
    "key = \"Vedas do no allow killing of any live entity\"\n",
    "\n",
    "def xor_strings(s, t):\n",
    "    \"\"\"xor two strings together.\n",
    "    \n",
    "    URL: https://en.wikipedia.org/wiki/XOR_cipher.\n",
    "    \"\"\"\n",
    "    if isinstance(s, str):\n",
    "        return \"\".join(chr(ord(a) ^ ord(b)) for a, b in zip(s, t))\n",
    "    else:\n",
    "        return bytes([a ^ b for a, b in zip(s, t)])\n",
    "    \n",
    "def update_key(key, length):\n",
    "    return (key * (int(length/len(key))+1))[:length]  \n",
    "\n",
    "\n",
    "if len(txt) > len(key):\n",
    "    key_new = update_key(key, len(txt))\n",
    "else:\n",
    "    key_new = key[len(txt)]\n",
    "\n",
    "enc_txt = xor_strings(txt, key_new) \n",
    "print(\" encrypted \".center(80, \"~\"))\n",
    "print(enc_txt)\n",
    "print(\" decrypted \".center(80, \"~\"))\n",
    "dec_txt =  xor_strings(enc_txt, key_new) \n",
    "print(dec_txt)"
   ]
  },
  {
   "cell_type": "markdown",
   "metadata": {},
   "source": [
    "Now, the question is what is wrong with the above way of coding. Its working without issue except its slow.  "
   ]
  },
  {
   "cell_type": "code",
   "execution_count": 30,
   "metadata": {},
   "outputs": [
    {
     "name": "stdout",
     "output_type": "stream",
     "text": [
      "908 µs ± 69 µs per loop (mean ± std. dev. of 7 runs, 1000 loops each)\n"
     ]
    }
   ],
   "source": [
    "%%timeit\n",
    "txt = \"\"\"According to the Vedas, the soul resides in physical body. After death, \n",
    "the soul goes into another body according to it deeds, called karmas of the past \n",
    "lives. According to the Vedas, mind is different from soul. While soul is a \n",
    "conscious entity, mind is physical element. It appears to be conscious but that \n",
    "consciousness it drives from soul as does moon its luminosity from the sun. Soul, \n",
    "however, acts through the agency of mind. The call of the Vedas is \n",
    "“Listen, O people of the world you are the sons of God” \n",
    "\n",
    "They are not to preach any particular religion but spiritual outlook in life. \n",
    "\n",
    "They call upon us “Manurbhav” \n",
    "\n",
    "Be human, conduct your self as a human being, not like an animal. \n",
    "The Vedas teach us that man is essentially divine realizing that divinity in us \n",
    "is the purpose of life again the novelty and uniqueness of the Vedas is that \n",
    "Veda gives more importance to the collectivity, the society and assembly of the \n",
    "people than for any individual\"\"\"\n",
    "\n",
    "key = \"Vedas do no allow killing of any live entity\"\n",
    "\n",
    "def xor_strings(s, t):\n",
    "    \"\"\"xor two strings together.\n",
    "    \n",
    "    URL: https://en.wikipedia.org/wiki/XOR_cipher.\n",
    "    \"\"\"\n",
    "    if isinstance(s, str):\n",
    "        return \"\".join(chr(ord(a) ^ ord(b)) for a, b in zip(s, t))\n",
    "    else:\n",
    "        return bytes([a ^ b for a, b in zip(s, t)])\n",
    "    \n",
    "def update_key(key, length):\n",
    "    return (key * (int(length/len(key))+1))[:length]  \n",
    "\n",
    "\n",
    "if len(txt) > len(key):\n",
    "    key_new = update_key(key, len(txt))\n",
    "else:\n",
    "    key_new = key[len(txt)]\n",
    "\n",
    "enc_txt = xor_strings(txt, key_new) \n",
    "dec_txt =  xor_strings(enc_txt, key_new)"
   ]
  },
  {
   "cell_type": "markdown",
   "metadata": {},
   "source": [
    "So, it takes about `~ 912 µs` to encrypt small text. One obvious place we can optimize is the key, note that we are converting key elements to its `oct` equivalent everytime, we use it, which is clearly a case of common sense. \n",
    "\n",
    "Lets convert it before hand and use it. This will have two benefits, \n",
    "\n",
    "- Less calculation at the time of encoding\n",
    "- Only once we have to convert the key to its `oct` equivalent.\n",
    "\n",
    "Below is the code where we have already update the key to its oct equivalent."
   ]
  },
  {
   "cell_type": "code",
   "execution_count": 28,
   "metadata": {},
   "outputs": [
    {
     "name": "stdout",
     "output_type": "stream",
     "text": [
      "~~~~~~~~~~~~~~~~~~~~~~~~~~~~~~~~~~ encrypted ~~~~~~~~~~~~~~~~~~~~~~~~~~~~~~~~~~~\n",
      "\u0017\u0006\u0007\u000e\u0001D\r",
      "\u0001GN\u001bOA\u0018\u0004\n",
      "Wv\u000e\r",
      "\r",
      "\u001fEN\u0013H\n",
      "FS\u000e\u001b\u0015\u0000\u001e",
      "\f",
      "\u0005\f",
      "D\u0000\u001d",
      "T\u0000\u001aY&\r",
      "\u001d",
      "\u0012\u001aC\u0005\u0003\u0000\f",
      "\u0000D\u0018BL.\u0011T\u000e\u001bL\b\f",
      "\u000f\u0013HCF*\u0015\u0006\u001c",
      "\u0000\u001f\u0006\u0003\t\u0000\u0002\u0001\u0011\u001aT\u00108\u0011\u000b",
      "A\u0012N\u000b",
      "\u001bH\u000b",
      "\u001d",
      "\u0000\u0003\u0003\b\u0016WA\b\n",
      "\u0003\u001e",
      "\r",
      "\u0007\tGO\u0012OA\u0007\r",
      "\u0000\b\f",
      "\u0013\u0001SIN\u0017\b\u0018\u00153\u0001D\n",
      "\u0012R\t\u000eSN\u0000FA\u0018\u0004\n",
      "WP\n",
      "\u001a\u0018Lc\u0002\u000eV\n",
      "\u0015\u000eA/\u001aC\u0003\u001b\u0012\f",
      "N\u0002N\u0000\u0006T\r",
      ">\u0000D7\u0016D\u0005\u001c",
      "\f",
      "N\u0002I\u000f\bL\u0006\u0004\u0000\u000f\u0000\n",
      "\n",
      "\f",
      "\u001c",
      "\u0002N\u001bFF\u0013\u0001\u0014\u0000\u001f\u0006\u0003\t\u000eE9\u001c",
      "\u0000\u0018\u001c",
      "v\u0016\u000b",
      "\u0014\u001f\u0000\r",
      "\u001c",
      "\u0000\u000fO*\u0002\u0003\u0002\u001c",
      "\u0014I\u0004\u001c",
      "\u001fL\f",
      "\u0000\u0013I\u001b\u001f\f",
      "A\u0003\u0010N\bI\u001f\u0016\u0000\u0015\u0006\r",
      "\u001a\u001d",
      "\u001a7\tD\u0004\u001fE\t\n",
      "N\u001aA\u0000(\u0018L\u000e\u0007P\u000e\b\u001e",
      "\u001fI\u001a\b\u0000\r",
      "\u0003\u0000\u0002\u0001\u0017S\u000f\u0000\u0019\u0010SE\f",
      "\u0001\u001d",
      "T\r",
      ">\u0004\u0010AyC\u000b",
      "\u0001S\r",
      "\u0006O\u0014\u001f\u0002\n",
      "\u0004SK\u0000\u0018L\r",
      "\u001c",
      "\u000eV\n",
      "\u0015\u0000\u0007\u001c",
      "\u0016ML\u001a\u0019\u0010LE\u000f\u0007I\u0010\u00163\u0016D\f",
      "\u001c",
      "O\n",
      "OI\u001a\u001c",
      "\u0000\r",
      "\u0019\u0001\u0006\u0019O\u0018\u0000\u0018\u0015I\b\u0015O\u0002FT\t\u000b",
      "YS\u0019\u0007XEs\n",
      "\u001b\u0018ETs>\n",
      "\u0013\u0004\u0005E\u0016C\u0000\u000f\f",
      "T\u0012L\u0018\u0007\u0005O\u001e",
      "\u000e\u0004L\u001d",
      "\u0006\u0002\u0000\u000e\u0001E\u000f\r",
      "\u0000\u0000\u0003\u000fV\bI\u000b",
      "\n",
      "ZI \u00113E\u0007\u0000\u001fLD\u0000FN\u001bH\u0004L:\n",
      "\u0013A\u0018I\u0005\u001fId⁻l\u0006\u0015T\u0004\u0000U\u0000#I\u0006\u0000O\u0015\u0002\u0011I\u001b\u001fv\u0011\f",
      "\u0004SW\u000b",
      "\u001d",
      "L\n",
      "OY\u000e\u0019L\u000e\u0005EK\u001d",
      "\u0004\tI\u001d",
      "\bN\u001c",
      "FO\u0007N>O\b⁴Vo*1\u0006\u0011\u0010T\u0018$\u0000D\u000f\u001c",
      "TD\u001bON\u001fR\u0004\r",
      "\u000f\u0007WA\u0005\u0010L\u001c",
      "\b\u001c",
      "\u0013I\f",
      "\u0013L\u0000\u001c",
      "YR\t\u0005\u001f\u0002I\n",
      "\u0000T\u000b",
      "\u0001\r",
      "v\u0016\u0014\b\u0001I\u0010\u001aA\u0002OO\u0014\u0018\u0000\u0000\u0018KK\u0000\u0002L\u0005\u0007\u0001EAF*k:\u0011E\u0015I\u0015\u0004L\tN\u0001\u0019\u001b\u0017v\u0010\u0017A⁯m\u0005\u0001U\u001c",
      "\r",
      "H\u0000\u001aⁱO}*)\f",
      "L\u0004\u001c",
      "\u0003\u0006NCFC\u000e\u0000\u001d",
      "U\u000f\u001d",
      "V\u001c",
      "O\u0010\u001c",
      "T\u001a\u0011\u00150E\u0005\u0012SAD\u0007U\u0003\u000eNA\u000e\t\u0006\u0019GGI\u0002\u0003\u001d",
      "N\u000b",
      "I\u0004\u0003\u0000\u0000\u0000YA\u0002\u0000\u001b\u0004LKN~=\u001c",
      "\u001c",
      "v3\u0001\u0005\u0012SD\u001bE\u000f\f",
      "HA\u0019\u001fO\u0003H\n",
      "\u001d",
      "L\u0001\b\u0000GI\u001c",
      "FE\u0012\u001d",
      "\u001c",
      "N\u0018\u0000\u0017\tL\u001c",
      "N\u0010\u0000\u0002\u00108\u0000D\u0013\u0016A\b\u0006Z\u0007\u0001GA\u0018\u0004\u000e\u0003\u0000\u000f\u0000\u001a\u0005\u0007\u0007\u0013YO\u000fNA\u001b\n",
      "\u0000f\u0000\u0005ET\r",
      "\u000b",
      "T\u0019\u0001\u000b",
      "&\n",
      "\u0017\u0004SO\u0002OL\u0007\tEA\r",
      "\u000b",
      "\u000e\u001e",
      "NK\u001d",
      "\u0004\tI\u0000\bV\n",
      "\n",
      "T\u0018N\u0018N\bI\u0003\u000b",
      "I\u0014\u001b\u0011\u0007\u0011\n",
      "%E\u000b",
      "\u0007ST\f",
      "\n",
      "\u00008\n",
      "D\u0000\u001fL\u0006\u0004\u0000\u001f\u0001\r",
      "\u0018Id1E\u000b",
      "\u0007\u0000\u0006\u0007\u000fE\u001fI\u001b\n",
      "R\u0000N\u001d",
      "\u0004\u0004\u0016$\u0011\u0005\u000f\u0010ED\u001bON\u001bH\u0004L\u000f\u0000\u001bL\u000e\n",
      "\u0018\u0005\u001f\u0007\u0013YCFT\t\u000b",
      "YS\u0003\n",
      "\u001f\u0000T\u001c",
      "N\u0015\u0007\u0010Y7\u0016\u0017\u0004\u001e",
      "B\b\u0016\u0000\u0001\t\u0000\u0015\u0004\tO}P\u000e\u0006\u001c",
      "\u0000\f",
      "N\u0013H\u000e\b\u0000\u0007\u0001\u000b",
      "\u0000\r",
      "\u0007\u000fEI\u000b",
      "\n",
      "\u001d",
      "\u001f\u001d",
      "\u001d",
      "#\u0004\b\n",
      "~~~~~~~~~~~~~~~~~~~~~~~~~~~~~~~~~~ decrypted ~~~~~~~~~~~~~~~~~~~~~~~~~~~~~~~~~~~\n",
      "According to the Vedas, the soul resides in physical body. After death, \n",
      "the soul goes into another body according to it deeds, called karmas of the past \n",
      "lives. According to the Vedas, mind is different from soul. While soul is a \n",
      "conscious entity, mind is physical element. It appears to be conscious but that \n",
      "consciousness it drives from soul as does moon its luminosity from the sun. Soul, \n",
      "however, acts through the agency of mind. The call of the Vedas is \n",
      "“Listen, O people of the world you are the sons of God” \n",
      "\n",
      "They are not to preach any particular religion but spiritual outlook in life. \n",
      "\n",
      "They call upon us “Manurbhav” \n",
      "\n",
      "Be human, conduct your self as a human being, not like an animal. \n",
      "The Vedas teach us that man is essentially divine realizing that divinity in us \n",
      "is the purpose of life again the novelty and uniqueness of the Vedas is that \n",
      "Veda gives more importance to the collectivity, the society and assembly of the \n",
      "people than for any individual\n"
     ]
    }
   ],
   "source": [
    "txt = \"\"\"According to the Vedas, the soul resides in physical body. After death, \n",
    "the soul goes into another body according to it deeds, called karmas of the past \n",
    "lives. According to the Vedas, mind is different from soul. While soul is a \n",
    "conscious entity, mind is physical element. It appears to be conscious but that \n",
    "consciousness it drives from soul as does moon its luminosity from the sun. Soul, \n",
    "however, acts through the agency of mind. The call of the Vedas is \n",
    "“Listen, O people of the world you are the sons of God” \n",
    "\n",
    "They are not to preach any particular religion but spiritual outlook in life. \n",
    "\n",
    "They call upon us “Manurbhav” \n",
    "\n",
    "Be human, conduct your self as a human being, not like an animal. \n",
    "The Vedas teach us that man is essentially divine realizing that divinity in us \n",
    "is the purpose of life again the novelty and uniqueness of the Vedas is that \n",
    "Veda gives more importance to the collectivity, the society and assembly of the \n",
    "people than for any individual\"\"\"\n",
    "\n",
    "\n",
    "key = [86,101,100,97,115,32,100,111,32,110,111,32,97,108,108,111,119,32,107,105,\n",
    "       108,108,105,110,103,32,111,102,32,97,110,121,32,108,105,118,101,32,101,\n",
    "       110,116,105,116,121]\n",
    "\n",
    "def xor_strings_new(s, t):\n",
    "    \"\"\"xor two strings together.\n",
    "    \n",
    "    URL: https://en.wikipedia.org/wiki/XOR_cipher.\n",
    "    \"\"\"\n",
    "    if isinstance(s, str):\n",
    "        return \"\".join(chr(ord(a) ^ b) for a, b in zip(s, t))\n",
    "    else:\n",
    "        return bytes([a ^ b for a, b in zip(s, t)])\n",
    "    \n",
    "def update_key(key, length):\n",
    "    return (key * (int(length/len(key))+1))[:length]  \n",
    "\n",
    "\n",
    "if len(txt) > len(key):\n",
    "    key_new = update_key(key, len(txt))\n",
    "else:\n",
    "    key_new = key[len(txt)]\n",
    "\n",
    "enc_txt = xor_strings_new(txt, key_new) \n",
    "print(\" encrypted \".center(80, \"~\"))\n",
    "print(enc_txt)\n",
    "print(\" decrypted \".center(80, \"~\"))\n",
    "dec_txt =  xor_strings_new(enc_txt, key_new) \n",
    "print(dec_txt)"
   ]
  },
  {
   "cell_type": "markdown",
   "metadata": {},
   "source": [
    "Now, lets find out how much time we are saving with it."
   ]
  },
  {
   "cell_type": "code",
   "execution_count": 32,
   "metadata": {},
   "outputs": [
    {
     "name": "stdout",
     "output_type": "stream",
     "text": [
      "732 µs ± 58.5 µs per loop (mean ± std. dev. of 7 runs, 1000 loops each)\n"
     ]
    }
   ],
   "source": [
    "%%timeit\n",
    "txt = \"\"\"According to the Vedas, the soul resides in physical body. After death, \n",
    "the soul goes into another body according to it deeds, called karmas of the past \n",
    "lives. According to the Vedas, mind is different from soul. While soul is a \n",
    "conscious entity, mind is physical element. It appears to be conscious but that \n",
    "consciousness it drives from soul as does moon its luminosity from the sun. Soul, \n",
    "however, acts through the agency of mind. The call of the Vedas is \n",
    "“Listen, O people of the world you are the sons of God” \n",
    "\n",
    "They are not to preach any particular religion but spiritual outlook in life. \n",
    "\n",
    "They call upon us “Manurbhav” \n",
    "\n",
    "Be human, conduct your self as a human being, not like an animal. \n",
    "The Vedas teach us that man is essentially divine realizing that divinity in us \n",
    "is the purpose of life again the novelty and uniqueness of the Vedas is that \n",
    "Veda gives more importance to the collectivity, the society and assembly of the \n",
    "people than for any individual\"\"\"\n",
    "\n",
    "\n",
    "key = [86,101,100,97,115,32,100,111,32,110,111,32,97,108,108,111,119,32,107,105,\n",
    "       108,108,105,110,103,32,111,102,32,97,110,121,32,108,105,118,101,32,101,\n",
    "       110,116,105,116,121]\n",
    "\n",
    "def xor_strings_new(s, t):\n",
    "    \"\"\"xor two strings together.\n",
    "    \n",
    "    URL: https://en.wikipedia.org/wiki/XOR_cipher.\n",
    "    \"\"\"\n",
    "    if isinstance(s, str):\n",
    "        return \"\".join(chr(ord(a) ^ b) for a, b in zip(s, t))\n",
    "    else:\n",
    "        return bytes([a ^ b for a, b in zip(s, t)])\n",
    "    \n",
    "def update_key(key, length):\n",
    "    return (key * (int(length/len(key))+1))[:length]  \n",
    "\n",
    "\n",
    "if len(txt) > len(key):\n",
    "    key_new = update_key(key, len(txt))\n",
    "else:\n",
    "    key_new = key[len(txt)]\n",
    "\n",
    "enc_txt = xor_strings_new(txt, key_new) \n",
    "# print(\" encrypted \".center(80, \"~\"))\n",
    "# print(enc_txt)\n",
    "# print(\" decrypted \".center(80, \"~\"))\n",
    "dec_txt =  xor_strings_new(enc_txt, key_new) \n",
    "# print(dec_txt)"
   ]
  },
  {
   "cell_type": "code",
   "execution_count": 29,
   "metadata": {},
   "outputs": [],
   "source": [
    "import time\n",
    "class benchmark(object):\n",
    "    \n",
    "    def __init__(self,code_name, verbose=False):\n",
    "        self.code_name = code_name\n",
    "        self.verbose = verbose\n",
    "    \n",
    "    def __enter__(self):\n",
    "        self.start = time.time()\n",
    "        return self\n",
    "    \n",
    "    def __exit__(self, *exc):\n",
    "        end = time.time()\n",
    "        self.time_taken = end-self.start\n",
    "        if self.verbose:\n",
    "            print(f\"{self.code_name} : {(self.time_taken):0.7f} seconds\")\n",
    "        return False"
   ]
  },
  {
   "cell_type": "code",
   "execution_count": 47,
   "metadata": {},
   "outputs": [
    {
     "name": "stdout",
     "output_type": "stream",
     "text": [
      "Mean:  0.06673812627792358\n",
      "Median:  0.06409585475921631\n"
     ]
    }
   ],
   "source": [
    "import time\n",
    "import os\n",
    "\n",
    "txt = open(os.path.join(\"code\", \"data\", \"chanakya_niti.txt\")).read()\n",
    "key = \"Vedas do no allow killing of any live entity\"\n",
    "\n",
    "original_time = []\n",
    "for _ in range(100):\n",
    "    with benchmark(\"Original\") as b:\n",
    "        def xor_strings(s, t):\n",
    "            \"\"\"xor two strings together.\n",
    "\n",
    "            URL: https://en.wikipedia.org/wiki/XOR_cipher.\n",
    "            \"\"\"\n",
    "            if isinstance(s, str):\n",
    "                return \"\".join(chr(ord(a) ^ ord(b)) for a, b in zip(s, t))\n",
    "            else:\n",
    "                return bytes([a ^ b for a, b in zip(s, t)])\n",
    "\n",
    "        def update_key(key, length):\n",
    "            return (key * (int(length/len(key))+1))[:length]  \n",
    "\n",
    "\n",
    "        if len(txt) > len(key):\n",
    "            key_new = update_key(key, len(txt))\n",
    "        else:\n",
    "            key_new = key[len(txt)]\n",
    "\n",
    "        enc_txt = xor_strings(txt, key_new) \n",
    "        dec_txt =  xor_strings(enc_txt, key_new) \n",
    "    original_time.append(b.time_taken)\n",
    "\n",
    "    \n",
    "from statistics import mean, median\n",
    "\n",
    "print(\"Mean: \", mean(original_time))\n",
    "print(\"Median: \", median(original_time))"
   ]
  },
  {
   "cell_type": "markdown",
   "metadata": {},
   "source": [
    "Lets find the same for updated code"
   ]
  },
  {
   "cell_type": "code",
   "execution_count": 48,
   "metadata": {},
   "outputs": [
    {
     "name": "stdout",
     "output_type": "stream",
     "text": [
      "Mean:  0.05173398494720459\n",
      "Median:  0.050591111183166504\n"
     ]
    }
   ],
   "source": [
    "import os\n",
    "txt = open(os.path.join(\"code\", \"data\", \"chanakya_niti.txt\")).read()\n",
    "\n",
    "\n",
    "key = [86,101,100,97,115,32,100,111,32,110,111,32,97,108,108,111,119,32,107,105,\n",
    "       108,108,105,110,103,32,111,102,32,97,110,121,32,108,105,118,101,32,101,\n",
    "       110,116,105,116,121]\n",
    "\n",
    "update_time = []\n",
    "for _ in range(100):\n",
    "    with benchmark(\"updated\") as b:\n",
    "        def xor_strings_new(s, t):\n",
    "            \"\"\"xor two strings together.\n",
    "\n",
    "            URL: https://en.wikipedia.org/wiki/XOR_cipher.\n",
    "            \"\"\"\n",
    "            if isinstance(s, str):\n",
    "                return \"\".join(chr(ord(a) ^ b) for a, b in zip(s, t))\n",
    "            else:\n",
    "                return bytes([a ^ b for a, b in zip(s, t)])\n",
    "\n",
    "        def update_key(key, length):\n",
    "            return (key * (int(length/len(key))+1))[:length]  \n",
    "\n",
    "\n",
    "        if len(txt) > len(key):\n",
    "            key_new = update_key(key, len(txt))\n",
    "        else:\n",
    "            key_new = key[len(txt)]\n",
    "\n",
    "        enc_txt = xor_strings_new(txt, key_new) \n",
    "        dec_txt =  xor_strings_new(enc_txt, key_new) \n",
    "    update_time.append(b.time_taken)\n",
    "\n",
    "from statistics import mean, median\n",
    "\n",
    "print(\"Mean: \", mean(update_time))\n",
    "print(\"Median: \", median(update_time))"
   ]
  },
  {
   "cell_type": "code",
   "execution_count": 49,
   "metadata": {},
   "outputs": [
    {
     "name": "stdout",
     "output_type": "stream",
     "text": [
      "0.015004141330718992\n"
     ]
    }
   ],
   "source": [
    "mean_diff = mean(original_time)- mean(update_time)\n",
    "print(mean_diff)"
   ]
  },
  {
   "cell_type": "markdown",
   "metadata": {},
   "source": [
    "So you see even a simple change can optimize your code, without even having to pass the code through any profilers."
   ]
  },
  {
   "cell_type": "markdown",
   "metadata": {},
   "source": [
    "#### Use keys for sorts"
   ]
  },
  {
   "cell_type": "code",
   "execution_count": null,
   "metadata": {},
   "outputs": [],
   "source": [
    "a = [[1, 5], [10, 2], [32, 6], [223, 12], [34, 54], [53, 14]]\n"
   ]
  },
  {
   "cell_type": "markdown",
   "metadata": {},
   "source": [
    "#### Interning Strings for Efficiency."
   ]
  },
  {
   "cell_type": "code",
   "execution_count": 34,
   "metadata": {},
   "outputs": [
    {
     "name": "stdout",
     "output_type": "stream",
     "text": [
      "4514727376 4514729176\n"
     ]
    }
   ],
   "source": [
    "my_string = \"This is a good string\"\n",
    "my_string_one = \"This is a good string\"\n",
    "print(id(my_string), id(my_string_one))"
   ]
  },
  {
   "cell_type": "code",
   "execution_count": 37,
   "metadata": {},
   "outputs": [
    {
     "name": "stdout",
     "output_type": "stream",
     "text": [
      "4514729896 4514729896\n"
     ]
    }
   ],
   "source": [
    "from sys import intern\n",
    "my_string = intern(\"This is a good string\")\n",
    "my_string_one = intern(\"This is a good string\")\n",
    "print(id(my_string), id(my_string_one))"
   ]
  },
  {
   "cell_type": "code",
   "execution_count": 39,
   "metadata": {},
   "outputs": [
    {
     "name": "stdout",
     "output_type": "stream",
     "text": [
      "4514729896 4514729896\n"
     ]
    }
   ],
   "source": [
    "from sys import intern\n",
    "my_string = intern(\"This is a good string\")\n",
    "\n",
    "def intern_testing():\n",
    "    my_string_one = intern(\"This is a good string\")\n",
    "    print(id(my_string), id(my_string_one))\n",
    "    \n",
    "intern_testing()"
   ]
  },
  {
   "cell_type": "markdown",
   "metadata": {},
   "source": [
    "#### Optimizing Loops"
   ]
  },
  {
   "cell_type": "code",
   "execution_count": 46,
   "metadata": {},
   "outputs": [
    {
     "name": "stdout",
     "output_type": "stream",
     "text": [
      "[0, 1, 4, 9, 16, 25, 36, 49, 64, 81, 100, 121, 144, 169, 196, 225, 256, 289, 324, 361, 400, 441, 484, 529, 576, 625, 676, 729, 784, 841, 900, 961, 1024, 1089, 1156, 1225, 1296, 1369, 1444, 1521, 1600, 1681, 1764, 1849, 1936, 2025, 2116, 2209, 2304, 2401, 2500, 2601, 2704, 2809, 2916, 3025, 3136, 3249, 3364, 3481, 3600, 3721, 3844, 3969, 4096, 4225, 4356, 4489, 4624, 4761, 4900, 5041, 5184, 5329, 5476, 5625, 5776, 5929, 6084, 6241, 6400, 6561, 6724, 6889, 7056, 7225, 7396, 7569, 7744, 7921, 8100, 8281, 8464, 8649, 8836, 9025, 9216, 9409, 9604, 9801, 40000, 40401, 40804, 41209, 41616, 42025, 42436, 42849, 43264, 43681, 44100, 44521, 44944, 45369, 45796, 46225, 46656, 47089, 47524, 47961, 48400, 48841, 49284, 49729, 50176, 50625, 51076, 51529, 51984, 52441, 52900, 53361, 53824, 54289, 54756, 55225, 55696, 56169, 56644, 57121, 57600, 58081, 58564, 59049, 59536, 60025, 60516, 61009, 61504, 62001]\n"
     ]
    }
   ],
   "source": [
    "def square(x):\n",
    "    return x*x\n",
    "\n",
    "x = []\n",
    "for a in range(100):\n",
    "    x.append(square(a))\n",
    "    \n",
    "for a in range(200, 250):\n",
    "    x.append(square(a))\n",
    "print(x)"
   ]
  },
  {
   "cell_type": "markdown",
   "metadata": {},
   "source": [
    "- **Method 1:** `list comprehension`"
   ]
  },
  {
   "cell_type": "markdown",
   "metadata": {},
   "source": [
    "- **Method 2:** `map`"
   ]
  },
  {
   "cell_type": "markdown",
   "metadata": {},
   "source": [
    "for method 1 & 2 check section (Use builtin functions and libraries)"
   ]
  },
  {
   "cell_type": "markdown",
   "metadata": {},
   "source": [
    "- **Method 3:** `itertools.chain`"
   ]
  },
  {
   "cell_type": "code",
   "execution_count": 52,
   "metadata": {},
   "outputs": [
    {
     "name": "stdout",
     "output_type": "stream",
     "text": [
      "(0, 1, 4, 9, 16, 25, 36, 49, 64, 81, 100, 121, 144, 169, 196, 225, 256, 289, 324, 361, 400, 441, 484, 529, 576, 625, 676, 729, 784, 841, 900, 961, 1024, 1089, 1156, 1225, 1296, 1369, 1444, 1521, 1600, 1681, 1764, 1849, 1936, 2025, 2116, 2209, 2304, 2401, 2500, 2601, 2704, 2809, 2916, 3025, 3136, 3249, 3364, 3481, 3600, 3721, 3844, 3969, 4096, 4225, 4356, 4489, 4624, 4761, 4900, 5041, 5184, 5329, 5476, 5625, 5776, 5929, 6084, 6241, 6400, 6561, 6724, 6889, 7056, 7225, 7396, 7569, 7744, 7921, 8100, 8281, 8464, 8649, 8836, 9025, 9216, 9409, 9604, 9801, 40000, 40401, 40804, 41209, 41616, 42025, 42436, 42849, 43264, 43681, 44100, 44521, 44944, 45369, 45796, 46225, 46656, 47089, 47524, 47961, 48400, 48841, 49284, 49729, 50176, 50625, 51076, 51529, 51984, 52441, 52900, 53361, 53824, 54289, 54756, 55225, 55696, 56169, 56644, 57121, 57600, 58081, 58564, 59049, 59536, 60025, 60516, 61009, 61504, 62001)\n"
     ]
    }
   ],
   "source": [
    "from itertools import chain\n",
    "\n",
    "\n",
    "x = tuple(chain((square(a) for a in range(100)),\n",
    "                (square(a) for a in range(200, 250))))\n",
    "print(x)"
   ]
  },
  {
   "cell_type": "markdown",
   "metadata": {},
   "source": [
    "#### Use Set Operations."
   ]
  },
  {
   "cell_type": "markdown",
   "metadata": {},
   "source": [
    "#### Limit Method Lookup in a Loop."
   ]
  },
  {
   "cell_type": "code",
   "execution_count": 66,
   "metadata": {},
   "outputs": [
    {
     "name": "stdout",
     "output_type": "stream",
     "text": [
      "3.01 µs ± 320 ns per loop (mean ± std. dev. of 7 runs, 100000 loops each)\n"
     ]
    }
   ],
   "source": [
    "%%timeit\n",
    "from math import sqrt\n",
    "\n",
    "for a in range(10):\n",
    "    sqrt(a)"
   ]
  },
  {
   "cell_type": "code",
   "execution_count": 67,
   "metadata": {},
   "outputs": [
    {
     "name": "stdout",
     "output_type": "stream",
     "text": [
      "2.28 µs ± 527 ns per loop (mean ± std. dev. of 7 runs, 100000 loops each)\n"
     ]
    }
   ],
   "source": [
    "%%timeit\n",
    "import math\n",
    "\n",
    "for a in range(10):\n",
    "    math.sqrt(a)"
   ]
  },
  {
   "cell_type": "code",
   "execution_count": 68,
   "metadata": {},
   "outputs": [
    {
     "name": "stdout",
     "output_type": "stream",
     "text": [
      "1.51 µs ± 79.3 ns per loop (mean ± std. dev. of 7 runs, 1000000 loops each)\n"
     ]
    }
   ],
   "source": [
    "%%timeit\n",
    "import math\n",
    "\n",
    "sqrt = math.sqrt\n",
    "\n",
    "for a in range(10):\n",
    "    sqrt(a)"
   ]
  },
  {
   "cell_type": "markdown",
   "metadata": {},
   "source": [
    "#### Use `f-string` or `join` in loop insead of string concatination & `format`"
   ]
  },
  {
   "cell_type": "code",
   "execution_count": 16,
   "metadata": {},
   "outputs": [
    {
     "name": "stdout",
     "output_type": "stream",
     "text": [
      "3.96 µs ± 84.6 ns per loop (mean ± std. dev. of 7 runs, 100000 loops each)\n"
     ]
    }
   ],
   "source": [
    "%%timeit\n",
    "msg = \"TEEST\"\n",
    "\n",
    "for a in \"a simple change can optimize your code\":\n",
    "    msg = f\"{msg}{a}\""
   ]
  },
  {
   "cell_type": "code",
   "execution_count": 17,
   "metadata": {},
   "outputs": [
    {
     "name": "stdout",
     "output_type": "stream",
     "text": [
      "7.16 µs ± 109 ns per loop (mean ± std. dev. of 7 runs, 100000 loops each)\n"
     ]
    }
   ],
   "source": [
    "%%timeit\n",
    "msg = \"TEEST\"\n",
    "\n",
    "for a in \"a simple change can optimize your code\":\n",
    "    msg = \"\".join((msg, a))"
   ]
  },
  {
   "cell_type": "code",
   "execution_count": 14,
   "metadata": {},
   "outputs": [
    {
     "name": "stdout",
     "output_type": "stream",
     "text": [
      "8.72 µs ± 96.9 ns per loop (mean ± std. dev. of 7 runs, 100000 loops each)\n"
     ]
    }
   ],
   "source": [
    "%%timeit\n",
    "msg = \"TEEST\"\n",
    "\n",
    "for a in \"a simple change can optimize your code\":\n",
    "    msg = msg + str(a)"
   ]
  },
  {
   "cell_type": "code",
   "execution_count": 15,
   "metadata": {},
   "outputs": [
    {
     "name": "stdout",
     "output_type": "stream",
     "text": [
      "19.2 µs ± 503 ns per loop (mean ± std. dev. of 7 runs, 10000 loops each)\n"
     ]
    }
   ],
   "source": [
    "%%timeit\n",
    "msg = \"TEEST\"\n",
    "\n",
    "for a in \"a simple change can optimize your code\":\n",
    "    msg = \"{}{}\".format(msg,str(a))"
   ]
  },
  {
   "cell_type": "markdown",
   "metadata": {},
   "source": [
    "### Cython"
   ]
  },
  {
   "cell_type": "markdown",
   "metadata": {},
   "source": [
    "$$TODO$$"
   ]
  },
  {
   "cell_type": "markdown",
   "metadata": {},
   "source": [
    "### PyPy"
   ]
  },
  {
   "cell_type": "markdown",
   "metadata": {},
   "source": [
    "Can also try `pypy` Python implementation"
   ]
  },
  {
   "cell_type": "markdown",
   "metadata": {},
   "source": [
    "One final advice, Please try to use your common sense. It always do wonders."
   ]
  },
  {
   "cell_type": "markdown",
   "metadata": {},
   "source": [
    "## Reference"
   ]
  },
  {
   "cell_type": "markdown",
   "metadata": {},
   "source": [
    "- https://wiki.python.org/moin/TimeComplexity\n",
    "- https://wiki.python.org/moin/PythonSpeed/PerformanceTips\n",
    "- https://www.hackerearth.com/blog/python/faster-python-code\n",
    "- https://www.airpair.com/python/posts/optimizing-python-code\n",
    "- https://www.geeksforgeeks.org/optimization-tips-python-code\n",
    "- https://stackoverflow.com/questions/7165465/optimizing-python-code\n",
    "- https://wiki.python.org/moin/PythonSpeed/PerformanceTips#Profiling\n",
    "- http://blog.hackerearth.com/4-Performance-Optimization-Tips-Faster-Python-Code\n",
    "- https://www.amazon.com/Hidden-Treasures-Python-Mayank-Johri-ebook/dp/B07B2RRHGQ/"
   ]
  }
 ],
 "metadata": {
  "kernelspec": {
   "display_name": "Python 3",
   "language": "python",
   "name": "python3"
  },
  "language_info": {
   "codemirror_mode": {
    "name": "ipython",
    "version": 3
   },
   "file_extension": ".py",
   "mimetype": "text/x-python",
   "name": "python",
   "nbconvert_exporter": "python",
   "pygments_lexer": "ipython3",
   "version": "3.7.0"
  }
 },
 "nbformat": 4,
 "nbformat_minor": 2
}
