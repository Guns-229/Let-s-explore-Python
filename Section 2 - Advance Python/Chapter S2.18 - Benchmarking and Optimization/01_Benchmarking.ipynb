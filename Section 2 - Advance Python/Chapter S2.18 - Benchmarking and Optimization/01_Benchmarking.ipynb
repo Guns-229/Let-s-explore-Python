{
 "cells": [
  {
   "cell_type": "markdown",
   "metadata": {},
   "source": [
    "# Benchmarking"
   ]
  },
  {
   "cell_type": "markdown",
   "metadata": {},
   "source": [
    "The main reason we go for benchmarking any application is to find how our application is behaving and what all are the bottlenecks and allows us to find where all we can do optimization.\n",
    "\n",
    "In this section we will discuss about various methods which we can use to find the bottlenecks. For optimization, we have seperate chapter."
   ]
  },
  {
   "cell_type": "markdown",
   "metadata": {},
   "source": [
    "## `timeit`"
   ]
  },
  {
   "cell_type": "markdown",
   "metadata": {},
   "source": [
    "This is the most common and easy to use method to find how much time on an average any function or peice of code takes. We have been using a varient of it extensivly in various chapters. Still lets discuss how to use it. \n",
    "\n",
    "Lets take a problem for which we will like to find the most efficient solution. Say, we have a list of integers and wanted to find the sum of list elements."
   ]
  },
  {
   "cell_type": "code",
   "execution_count": 1,
   "metadata": {},
   "outputs": [],
   "source": [
    "from functools import reduce\n",
    "from operator import mul\n",
    "from numpy import prod, array\n",
    "\n",
    "def multiply_numpy(iterable):\n",
    "    return prod(array(iterable))\n",
    "\n",
    "def multiply_functools(iterable):\n",
    "    return reduce(mul, iterable)\n",
    "\n",
    "def multiply_manual(iterable):\n",
    "    prod = 1\n",
    "    for x in iterable:\n",
    "        prod *= x\n",
    "    return prod\n",
    "\n",
    "def multiply_lambda(A):\n",
    "    return reduce((lambda x,y: x*y),A)\n",
    "\n",
    "# very bad performance and fails after 998 elements on my machine thus\n",
    "# have not used in the example below\n",
    "def multiply_recursion(lst):\n",
    "    if len(lst) > 1:\n",
    "        return multiply_recursion(lst[:-1])* lst[-1]\n",
    "    else:\n",
    "        return lst[0]"
   ]
  },
  {
   "cell_type": "markdown",
   "metadata": {},
   "source": [
    "Now lets create the list using `randon.sample` function, which we can use. "
   ]
  },
  {
   "cell_type": "code",
   "execution_count": 11,
   "metadata": {},
   "outputs": [
    {
     "name": "stdout",
     "output_type": "stream",
     "text": [
      "[76, 69, 36, 88, 82, 50, 92, 56, 37, 40]\n"
     ]
    }
   ],
   "source": [
    "from random import sample\n",
    "\n",
    "size = 10\n",
    "dummy_data = sample(range(1, size*10), size) \n",
    "print(dummy_data)"
   ]
  },
  {
   "cell_type": "markdown",
   "metadata": {},
   "source": [
    "Now, lets test all the functions to if they are working without any issues."
   ]
  },
  {
   "cell_type": "code",
   "execution_count": 14,
   "metadata": {},
   "outputs": [
    {
     "name": "stdout",
     "output_type": "stream",
     "text": [
      "519360937869312000\n",
      "519360937869312000\n",
      "519360937869312000\n",
      "519360937869312000\n",
      "519360937869312000\n"
     ]
    }
   ],
   "source": [
    "print(multiply_functools(dummy_data))\n",
    "print(multiply_manual(dummy_data))\n",
    "print(multiply_lambda(dummy_data))\n",
    "print(multiply_recursion(dummy_data))\n",
    "print(multiply_numpy(dummy_data))"
   ]
  },
  {
   "cell_type": "markdown",
   "metadata": {},
   "source": [
    "## Importing `timeit` for Testing"
   ]
  },
  {
   "cell_type": "markdown",
   "metadata": {},
   "source": [
    "Now lets find how much time they are going to take using `timeit` module"
   ]
  },
  {
   "cell_type": "code",
   "execution_count": 15,
   "metadata": {},
   "outputs": [
    {
     "name": "stdout",
     "output_type": "stream",
     "text": [
      "2.2055636700000036\n"
     ]
    }
   ],
   "source": [
    "from timeit import timeit\n",
    "\n",
    "setup = \"from __main__ import multiply_lambda, dummy_data\"\n",
    "print(timeit(\"multiply_lambda(dummy_data)\", setup=setup))"
   ]
  },
  {
   "cell_type": "code",
   "execution_count": 16,
   "metadata": {},
   "outputs": [
    {
     "name": "stdout",
     "output_type": "stream",
     "text": [
      "1.321780106999995\n"
     ]
    }
   ],
   "source": [
    "from timeit import timeit\n",
    "\n",
    "setup = \"from __main__ import multiply_functools, dummy_data\"\n",
    "print(timeit(\"multiply_functools(dummy_data)\", setup=setup))"
   ]
  },
  {
   "cell_type": "code",
   "execution_count": 17,
   "metadata": {},
   "outputs": [
    {
     "name": "stdout",
     "output_type": "stream",
     "text": [
      "0.9278362360000187\n"
     ]
    }
   ],
   "source": [
    "from timeit import timeit\n",
    "\n",
    "setup = \"from __main__ import multiply_manual, dummy_data\"\n",
    "print(timeit(\"multiply_manual(dummy_data)\", setup=setup))"
   ]
  },
  {
   "cell_type": "markdown",
   "metadata": {},
   "source": [
    "One issue with the above way is that it is still not able to tell me how above solutions will behave with varing size of lst, so we are going to create list of variaing size and test using following code. You can also use it as template."
   ]
  },
  {
   "cell_type": "code",
   "execution_count": null,
   "metadata": {
    "scrolled": true
   },
   "outputs": [],
   "source": [
    "list_size = [10, 100, 1000, 5000, 10000]\n",
    "\n",
    "from random import sample \n",
    "from timeit import Timer\n",
    "import matplotlib.pyplot as plt\n",
    "\n",
    "result_vals = {}\n",
    "for size in list_size:\n",
    "    # size*10 is added to keep the range options more than size and to have randomness.\n",
    "    dummy_data = sample(range(1, size*2), size) \n",
    "\n",
    "    timer_functools = Timer(lambda: multiply_functools(dummy_data))\n",
    "    timer_anual = Timer(lambda: multiply_manual(dummy_data))\n",
    "    timer_lambda = Timer(lambda: multiply_lambda(dummy_data))\n",
    "#     timer_recursion = Timer(lambda: multiply_recursion(dummy_data))\n",
    "\n",
    "    repeats = int(100000 / size)\n",
    "\n",
    "    result_functools = timer_functools.timeit(repeats)\n",
    "    result_manual = timer_anual.timeit(repeats)\n",
    "    result_lambda = timer_lambda.timeit(repeats)\n",
    "    print(\"~\"*46)\n",
    "    print(f\"size: {size} - repeats: {repeats}\".center(46))\n",
    "    print(\"~\"*46)\n",
    "    print(\"Function Name \".rjust(25), \"Time taken\".rjust(20))\n",
    "    print(\"functools: \".rjust(25), \"{result:>20.4}\".format(result=result_functools))\n",
    "    print(\"manual: \".rjust(25), \"{result:>20.4}\".format(result=result_manual))\n",
    "    print(\"lambda: \".rjust(25), \"{result:>20.4}\".format(result=result_lambda))"
   ]
  },
  {
   "cell_type": "markdown",
   "metadata": {},
   "source": [
    "Lets convert the above code to view it on graph"
   ]
  },
  {
   "cell_type": "code",
   "execution_count": 4,
   "metadata": {},
   "outputs": [
    {
     "data": {
      "image/png": "[encoded data removed]",
      "text/plain": [
       "<Figure size 432x288 with 1 Axes>"
      ]
     },
     "metadata": {
      "needs_background": "light"
     },
     "output_type": "display_data"
    }
   ],
   "source": [
    "list_size = [10, 100, 1000, 2000, 3000, 4000, 5000, 10000, 100000]\n",
    "\n",
    "from random import sample \n",
    "from timeit import Timer\n",
    "import matplotlib.pyplot as plt\n",
    "\n",
    "result_vals = {\n",
    "                'functools': [],\n",
    "                'manual': [],\n",
    "                'lambda': []\n",
    "              }\n",
    "for size in list_size:\n",
    "    # size*10 is added to keep the range options more than size and to have randomness.\n",
    "    dummy_data = sample(range(1, size*10), size) \n",
    "    dummy_data = [1] * size\n",
    "    timer_functools = Timer(lambda: multiply_functools(dummy_data))\n",
    "    timer_anual = Timer(lambda: multiply_manual(dummy_data))\n",
    "    timer_lambda = Timer(lambda: multiply_lambda(dummy_data))\n",
    "#     timer_recursion = Timer(lambda: multiply_recursion(dummy_data))\n",
    "\n",
    "    repeats = int(5e6 / size)\n",
    "    \n",
    "    result_vals['functools'].append(timer_functools.timeit(repeats))\n",
    "    result_vals['manual'].append(timer_anual.timeit(repeats))\n",
    "    result_vals['lambda'].append(timer_lambda.timeit(repeats))   \n",
    "#     result_recursion = timer_recursion.timeit(repeats)\n",
    "\n",
    "cols = [\"red\", \"blue\", \"yellow\"]\n",
    "for i, key in enumerate(result_vals):\n",
    "    plt.plot(list_size, result_vals[key], '-o', color=cols[i], label=key, ms=10, alpha=0.7, mfc='skyblue')\n",
    "    plt.legend()\n",
    "plt.show()"
   ]
  },
  {
   "cell_type": "markdown",
   "metadata": {},
   "source": [
    "As we can see from the above graph, both the functions are performing nearly equal. so we can choose any algorithm"
   ]
  },
  {
   "cell_type": "code",
   "execution_count": 6,
   "metadata": {},
   "outputs": [
    {
     "data": {
      "image/png": "[encoded data removed]",
      "text/plain": [
       "<Figure size 432x288 with 1 Axes>"
      ]
     },
     "metadata": {
      "needs_background": "light"
     },
     "output_type": "display_data"
    }
   ],
   "source": [
    "list_size = [100, 1000, 2000, 3000, 4000, 5000, 10000]\n",
    "\n",
    "from random import sample, choice\n",
    "from timeit import Timer\n",
    "import matplotlib.pyplot as plt\n",
    "\n",
    "\n",
    "functions = multiply_functools, multiply_manual, multiply_lambda\n",
    "result_vals = {f.__name__: [] for f in functions}\n",
    "\n",
    "for size in list_size:\n",
    "    # size*10 is added to keep the range options more than size and to have randomness.\n",
    "#     dummy_data = sample(range(1, size*10), size) \n",
    "    dummy_data = [1] * size\n",
    "    repeats = int(5e6 / size)\n",
    "    for func in functions:    \n",
    "        result_vals[func.__name__].append(Timer(lambda: func(dummy_data)).timeit(repeats))\n",
    "\n",
    "\n",
    "cols = [\"red\", \"blue\", \"yellow\"]\n",
    "for i, key in enumerate(result_vals):\n",
    "    plt.plot(list_size, result_vals[key], '-o', color=cols[i], label=key, ms=6, alpha=0.7)\n",
    "    plt.legend()\n",
    "plt.show()"
   ]
  },
  {
   "cell_type": "markdown",
   "metadata": {},
   "source": [
    "Please note the value of data while doing the benchmarking, you would like to have data which replicates our production data without security overhead, meaning you **should** always sanitize your data before using it, so no security policy voilation happens.  "
   ]
  },
  {
   "cell_type": "code",
   "execution_count": 7,
   "metadata": {},
   "outputs": [
    {
     "name": "stdout",
     "output_type": "stream",
     "text": [
      "{'multiply_functools': [0.527080991000048, 0.8897393359999342, 1.6147010619999946, 1.8954935259999957, 2.33050911600003, 2.721930637000014, 5.028593657999977], 'multiply_manual': [0.3622921450000831, 0.6921827690000555, 1.4093685639999194, 1.8243431649999593, 2.206867281999962, 3.094417906999979, 5.159821729999976], 'multiply_lambda': [0.9914614439999241, 1.247876247000022, 1.9201982510001017, 2.3270507559999487, 2.7265884360000427, 3.5697107940000024, 6.054617178000058]}\n"
     ]
    },
    {
     "data": {
      "image/png": "[encoded data removed]",
      "text/plain": [
       "<Figure size 432x288 with 1 Axes>"
      ]
     },
     "metadata": {
      "needs_background": "light"
     },
     "output_type": "display_data"
    }
   ],
   "source": [
    "list_size = [100, 1000, 2000, 3000, 4000, 5000, 10000]\n",
    "\n",
    "from random import sample, choice\n",
    "from timeit import Timer\n",
    "import matplotlib.pyplot as plt\n",
    "\n",
    "\n",
    "functions = multiply_functools, multiply_manual, multiply_lambda\n",
    "result_vals = {f.__name__: [] for f in functions}\n",
    "\n",
    "for size in list_size:\n",
    "    # size*10 is added to keep the range options more than size and to have randomness.\n",
    "#     dummy_data = sample(range(1, size*10), size) \n",
    "    dummy_data = [10] * size\n",
    "    repeats = int(5e6 / size)\n",
    "    for func in functions:    \n",
    "        result_vals[func.__name__].append(Timer(lambda: func(dummy_data)).timeit(repeats))\n",
    "\n",
    "\n",
    "print(result_vals)\n",
    "cols = [\"red\", \"blue\", \"yellow\"]\n",
    "for i, key in enumerate(result_vals):\n",
    "    plt.plot(list_size, result_vals[key], '-o', color=cols[i], label=key, ms=6, alpha=0.7)\n",
    "    plt.legend()\n",
    "plt.show()"
   ]
  },
  {
   "cell_type": "markdown",
   "metadata": {},
   "source": [
    "## Custom decorator"
   ]
  },
  {
   "cell_type": "markdown",
   "metadata": {},
   "source": [
    "We can even create our own decorator to do what we did in above examples, if you have never created one please refer the chapter \"Decorators & Iterators\" and come back again, its a small chapter only, thus should not take too much time. :)"
   ]
  },
  {
   "cell_type": "code",
   "execution_count": 9,
   "metadata": {},
   "outputs": [],
   "source": [
    "def my_timeit(func):\n",
    "    def __inner__(*args, **kwargs):\n",
    "        from time import time\n",
    "        start = time()\n",
    "        value = func(*args, **kwargs)\n",
    "        end = time()\n",
    "        return start - end, value\n",
    "    return __inner__\n",
    "    "
   ]
  },
  {
   "cell_type": "markdown",
   "metadata": {},
   "source": [
    "Lets add the above decorator to our function, "
   ]
  },
  {
   "cell_type": "code",
   "execution_count": 10,
   "metadata": {},
   "outputs": [],
   "source": [
    "@my_timeit\n",
    "def multiply_functools(iterable):\n",
    "    return reduce(mul, iterable)\n"
   ]
  },
  {
   "cell_type": "code",
   "execution_count": 11,
   "metadata": {},
   "outputs": [
    {
     "name": "stdout",
     "output_type": "stream",
     "text": [
      "[1, 14, 18, 2, 16, 13, 12, 11, 5, 3]\n"
     ]
    }
   ],
   "source": [
    "from random import sample\n",
    "\n",
    "# Data Creation\n",
    "size = 10\n",
    "dummy_data = sample(range(1, size*2), size) \n",
    "print(dummy_data)"
   ]
  },
  {
   "cell_type": "markdown",
   "metadata": {},
   "source": [
    "Now, the function will return both time it took to run the function and value it is supposed to return."
   ]
  },
  {
   "cell_type": "code",
   "execution_count": 12,
   "metadata": {},
   "outputs": [
    {
     "name": "stdout",
     "output_type": "stream",
     "text": [
      "-5.9604644775390625e-06 207567360\n"
     ]
    }
   ],
   "source": [
    "t, val = multiply_functools(dummy_data)\n",
    "print(t, val)"
   ]
  },
  {
   "cell_type": "markdown",
   "metadata": {},
   "source": [
    "## Using Context Manager for `timeit`"
   ]
  },
  {
   "cell_type": "markdown",
   "metadata": {},
   "source": [
    "Above methods have two major isseus, \n",
    "- by adding a decorator, we changes the functionality of the function under testing\n",
    "- We can not find the performance of a portion of a code, without encapsulating it in a function\n",
    "\n",
    "By using a custom `Context Manager`, we can overcome both the above issues. For more on creating context manager in details, please refer to chapter on `Context Managers`.\n",
    "\n",
    "Here we are going to create a context manager, which will return the time it takes to execute the code inside its code block."
   ]
  },
  {
   "cell_type": "code",
   "execution_count": 14,
   "metadata": {},
   "outputs": [],
   "source": [
    "import time\n",
    "\n",
    "class benchmark(object):\n",
    "    def __init__(self,code_name):\n",
    "        self.code_name = code_name\n",
    "    \n",
    "    def __enter__(self):\n",
    "        self.start = time.time()\n",
    "    \n",
    "    def __exit__(self, *exc):\n",
    "        end = time.time()\n",
    "        print(f\"{self.code_name} : {(end-self.start):0.7f} seconds\")\n",
    "        return False"
   ]
  },
  {
   "cell_type": "markdown",
   "metadata": {},
   "source": [
    "Again, we are going to use it to validate following code base."
   ]
  },
  {
   "cell_type": "code",
   "execution_count": 15,
   "metadata": {},
   "outputs": [],
   "source": [
    "from functools import reduce\n",
    "from operator import mul\n",
    "from numpy import prod, array\n",
    "\n",
    "def multiply_numpy(iterable):\n",
    "    return prod(array(iterable))\n",
    "\n",
    "def multiply_functools(iterable):\n",
    "    return reduce(mul, iterable)\n",
    "\n",
    "def multiply_manual(iterable):\n",
    "    prod = 1\n",
    "    for x in iterable:\n",
    "        prod *= x\n",
    "    return prod\n",
    "\n",
    "def multiply_lambda(A):\n",
    "    return reduce((lambda x,y: x*y),A)\n"
   ]
  },
  {
   "cell_type": "markdown",
   "metadata": {},
   "source": [
    "Lets create the dummy data again, but for larger size."
   ]
  },
  {
   "cell_type": "code",
   "execution_count": 16,
   "metadata": {},
   "outputs": [],
   "source": [
    "from random import sample\n",
    "\n",
    "size = 10000\n",
    "dummy_data = [2] * size\n"
   ]
  },
  {
   "cell_type": "code",
   "execution_count": 19,
   "metadata": {},
   "outputs": [
    {
     "data": {
      "text/plain": [
       "1.9950631168807583849e+3010"
      ]
     },
     "execution_count": 19,
     "metadata": {},
     "output_type": "execute_result"
    }
   ],
   "source": [
    "from numpy import float128\n",
    "prod(array(dummy_data, float128))"
   ]
  },
  {
   "cell_type": "code",
   "execution_count": 23,
   "metadata": {},
   "outputs": [
    {
     "name": "stdout",
     "output_type": "stream",
     "text": [
      "numpy : 0.0066488 seconds\n",
      "reduce : 0.0036070 seconds\n",
      "manual : 0.0043998 seconds\n",
      "lambda : 0.0068140 seconds\n"
     ]
    }
   ],
   "source": [
    "from numpy import float128\n",
    "from functools import reduce\n",
    "from operator import mul\n",
    "from numpy import prod, array\n",
    "\n",
    "\n",
    "with benchmark(\"numpy\"):\n",
    "    prod(array(dummy_data, dtype=float128))\n",
    "\n",
    "with benchmark(\"reduce\"):\n",
    "     reduce(mul, dummy_data)\n",
    "\n",
    "with benchmark(\"manual\"):\n",
    "    val = 1\n",
    "    for x in dummy_data:\n",
    "        val *= x\n",
    "        \n",
    "with benchmark(\"lambda\"):\n",
    "    reduce((lambda x,y: x*y), dummy_data)"
   ]
  },
  {
   "cell_type": "markdown",
   "metadata": {},
   "source": [
    "Although the above implementation has major advantage over the previous method, it still have few side effects of its own like\n",
    "- it don't return the time, but instead it prints them on screen.\n",
    "- It only runs ones.\n",
    "\n",
    "Next, implementation will not only print time taken (but I have purposefully disabled it), but also returns it which can be accessed outside the context. "
   ]
  },
  {
   "cell_type": "code",
   "execution_count": 24,
   "metadata": {},
   "outputs": [],
   "source": [
    "import time\n",
    "class benchmark_v1(object):\n",
    "    def __init__(self, code_name, verbose=False):\n",
    "        self.code_name = code_name\n",
    "        self.verbose = verbose\n",
    "    \n",
    "    def __enter__(self):\n",
    "        self.start = time.time()\n",
    "        return self\n",
    "    \n",
    "    def __exit__(self, ty, val, tb):\n",
    "        end = time.time()\n",
    "        self.time_taken = end - self.start \n",
    "        if self.verbose:\n",
    "            print(f\"{self.code_name} : {(end-self.start):0.7f} seconds\")"
   ]
  },
  {
   "cell_type": "code",
   "execution_count": 42,
   "metadata": {},
   "outputs": [],
   "source": [
    "from random import sample\n",
    "\n",
    "size = 9999\n",
    "dummy_data = [2, 3, 4, 5] * size"
   ]
  },
  {
   "cell_type": "code",
   "execution_count": 44,
   "metadata": {},
   "outputs": [
    {
     "name": "stdout",
     "output_type": "stream",
     "text": [
      "********: Results :********\n",
      "numpy_time :       0.051085\n",
      "reduce_time:        0.09111\n",
      "manual_time:        0.08957\n",
      "lambda_time:       0.071585\n"
     ]
    }
   ],
   "source": [
    "from numpy import float128\n",
    "from functools import reduce\n",
    "from operator import mul\n",
    "from numpy import prod, array\n",
    "\n",
    "results = {}\n",
    "\n",
    "with benchmark_v1(\"numpy\") as results['numpy_time']:\n",
    "    prod(array(dummy_data, dtype=float128))\n",
    "\n",
    "with benchmark_v1(\"reduce\") as results['reduce_time']:\n",
    "     reduce(mul, dummy_data)\n",
    "\n",
    "with benchmark_v1(\"manual\") as results['manual_time']:\n",
    "    val = 1\n",
    "    for x in dummy_data:\n",
    "        val *= x\n",
    "        \n",
    "with benchmark_v1(\"lambda\") as results['lambda_time']:\n",
    "    reduce((lambda x,y: x*y), dummy_data)\n",
    "    \n",
    "print(\": Results :\".center(27, \"*\"))\n",
    "for name, result in results.items():\n",
    "    print(f\"{name:11}:{result.time_taken:>15.5}\")"
   ]
  },
  {
   "cell_type": "code",
   "execution_count": 57,
   "metadata": {},
   "outputs": [
    {
     "name": "stdout",
     "output_type": "stream",
     "text": [
      "*******: Results : 1*******\n",
      "numpy_time :     0.00022602\n",
      "reduce_time:     7.8678e-06\n",
      "manual_time:     4.0531e-06\n",
      "lambda_time:     4.0531e-06\n",
      "*******: Results : 2*******\n",
      "numpy_time :     0.00015807\n",
      "reduce_time:     1.0014e-05\n",
      "manual_time:     6.9141e-06\n",
      "lambda_time:     6.9141e-06\n",
      "*******: Results : 10******\n",
      "numpy_time :     0.00013804\n",
      "reduce_time:     1.8358e-05\n",
      "manual_time:     1.4782e-05\n",
      "lambda_time:      1.502e-05\n"
     ]
    }
   ],
   "source": [
    "from random import sample\n",
    "\n",
    "size = 9\n",
    "dd = {}\n",
    "dd[1] = [2] * size\n",
    "dd[2] = [2 , 19] * size\n",
    "dd[10] = [1, 2, 10, 200, 32, 132, 241, 342, 454, 599] * size\n",
    "\n",
    "for key, dummy in dd.items():\n",
    "    results = {}\n",
    "    with benchmark_v1(\"numpy\") as results['numpy_time']:\n",
    "        prod(array(dummy, dtype=float128))\n",
    "\n",
    "    with benchmark_v1(\"reduce\") as results['reduce_time']:\n",
    "        reduce(mul, dummy)\n",
    "\n",
    "    with benchmark_v1(\"manual\") as results['manual_time']:\n",
    "        val = 1\n",
    "        for x in dummy:\n",
    "            val *= x\n",
    "\n",
    "    with benchmark_v1(\"lambda\") as results['lambda_time']:\n",
    "        reduce((lambda x,y: x*y), dummy)\n",
    "\n",
    "    print(\": Results : {}\".format(key).center(27, \"*\"))\n",
    "    for name, result in results.items():\n",
    "        print(f\"{name:11}:{result.time_taken:>15.5}\")"
   ]
  },
  {
   "cell_type": "markdown",
   "metadata": {},
   "source": [
    "So, based on the complexity of the data, your functions might perform differently, So always know your data, before optimization.\n",
    "\n",
    "> Note, that context managers can also be used as decorators as discussed in decorators."
   ]
  },
  {
   "cell_type": "markdown",
   "metadata": {},
   "source": [
    "## Profiling"
   ]
  },
  {
   "cell_type": "markdown",
   "metadata": {},
   "source": [
    "> \"Bottlenecks occurs in surprising places, so don't try to second guess and put in a speed hack until you have proven that's where the bottleneck is.\"\n",
    "> <hr>- Rob Pike\n",
    "\n"
   ]
  },
  {
   "cell_type": "markdown",
   "metadata": {},
   "source": [
    "Profiling helps us in answering the following key parameters in Optimization, \n",
    "\n",
    "- Function Execution Time\n",
    "- Time spent on statements\n",
    "- Memory Consumption"
   ]
  },
  {
   "cell_type": "markdown",
   "metadata": {},
   "source": [
    "We might have to take in account multiple types of optimizations, we will start with CPU optimization"
   ]
  },
  {
   "cell_type": "markdown",
   "metadata": {},
   "source": [
    "### cProfile"
   ]
  },
  {
   "cell_type": "code",
   "execution_count": null,
   "metadata": {},
   "outputs": [],
   "source": []
  },
  {
   "cell_type": "markdown",
   "metadata": {},
   "source": [
    "Syntax\n",
    "```bash\n",
    "python -m cProfile -s cumtime test_profile.py\n",
    "```"
   ]
  },
  {
   "cell_type": "markdown",
   "metadata": {},
   "source": [
    "```\n",
    "$ python -m cProfile -s cumtime original_encrypt.py \n",
    "         10928558 function calls in 4.092 seconds\n",
    "\n",
    "   Ordered by: cumulative time\n",
    "\n",
    "   ncalls  tottime  percall  cumtime  percall filename:lineno(function)\n",
    "        1    0.000    0.000    4.092    4.092 {built-in method builtins.exec}\n",
    "        1    0.000    0.000    4.092    4.092 original_encrypt.py:2(<module>)\n",
    "        2    0.000    0.000    4.070    2.035 original_encrypt.py:32(xor_strings)\n",
    "        2    0.558    0.279    4.070    2.035 {method 'join' of 'str' objects}\n",
    "  2732134    2.329    0.000    3.512    0.000 original_encrypt.py:38(<genexpr>)\n",
    "  5464264    0.642    0.000    0.642    0.000 {built-in method builtins.ord}\n",
    "  2732132    0.541    0.000    0.541    0.000 {built-in method builtins.chr}\n",
    "        1    0.011    0.011    0.020    0.020 {method 'read' of '_io.TextIOWrapper' objects}\n",
    "        1    0.000    0.000    0.009    0.009 codecs.py:319(decode)\n",
    "        1    0.009    0.009    0.009    0.009 {built-in method _codecs.utf_8_decode}\n",
    "        1    0.001    0.001    0.001    0.001 original_encrypt.py:43(update_key)\n",
    "        1    0.000    0.000    0.000    0.000 {built-in method io.open}\n",
    "        1    0.000    0.000    0.000    0.000 posixpath.py:75(join)\n",
    "        1    0.000    0.000    0.000    0.000 _bootlocale.py:33(getpreferredencoding)\n",
    "        1    0.000    0.000    0.000    0.000 {built-in method _locale.nl_langinfo}\n",
    "        1    0.000    0.000    0.000    0.000 posixpath.py:41(_get_sep)\n",
    "        1    0.000    0.000    0.000    0.000 codecs.py:309(__init__)\n",
    "        3    0.000    0.000    0.000    0.000 {built-in method builtins.isinstance}\n",
    "        1    0.000    0.000    0.000    0.000 {method 'startswith' of 'str' objects}\n",
    "        1    0.000    0.000    0.000    0.000 {built-in method posix.fspath}\n",
    "        1    0.000    0.000    0.000    0.000 codecs.py:260(__init__)\n",
    "        1    0.000    0.000    0.000    0.000 {method 'endswith' of 'str' objects}\n",
    "        4    0.000    0.000    0.000    0.000 {built-in method builtins.len}\n",
    "        1    0.000    0.000    0.000    0.000 {method 'disable' of '_lsprof.Profiler' objects}\n",
    "```\n",
    "\n",
    "- `ncalls`: No of times its called\n",
    "- `tottime`: Total time taken by the function call\n",
    "- `percall`: Quotient of tottime by ncalls\n",
    "- `cumtime`: Cumalative time spent on the function and all subfunctions it calls.\n",
    "- `percall`: Quotient of `cumtime` by `primitive` calls\n",
    "- `filename:lineno(function)`: data about the functions"
   ]
  },
  {
   "cell_type": "markdown",
   "metadata": {},
   "source": [
    "> **Note**\n",
    "> <hr>\n",
    "> If there is value in first two column's then at some point of execution, the function had a recursion also. "
   ]
  },
  {
   "cell_type": "markdown",
   "metadata": {},
   "source": [
    "```\n",
    "python -m cProfile -s cumtime updated_encrypt.py \n",
    "         8196426 function calls in 3.071 seconds\n",
    "\n",
    "   Ordered by: cumulative time\n",
    "\n",
    "   ncalls  tottime  percall  cumtime  percall filename:lineno(function)\n",
    "        1    0.000    0.000    3.071    3.071 {built-in method builtins.exec}\n",
    "        1    0.000    0.000    3.071    3.071 updated_encrypt.py:1(<module>)\n",
    "        2    0.000    0.000    3.017    1.509 updated_encrypt.py:13(xor_strings_new)\n",
    "        2    0.502    0.251    3.017    1.508 {method 'join' of 'str' objects}\n",
    "  2732134    1.670    0.000    2.515    0.000 updated_encrypt.py:19(<genexpr>)\n",
    "  2732132    0.508    0.000    0.508    0.000 {built-in method builtins.chr}\n",
    "  2732132    0.337    0.000    0.337    0.000 {built-in method builtins.ord}\n",
    "        1    0.047    0.047    0.047    0.047 updated_encrypt.py:24(update_key)\n",
    "        1    0.005    0.005    0.007    0.007 {method 'read' of '_io.TextIOWrapper' objects}\n",
    "        1    0.000    0.000    0.002    0.002 codecs.py:319(decode)\n",
    "        1    0.002    0.002    0.002    0.002 {built-in method _codecs.utf_8_decode}\n",
    "        1    0.000    0.000    0.000    0.000 {built-in method io.open}\n",
    "        1    0.000    0.000    0.000    0.000 posixpath.py:75(join)\n",
    "        1    0.000    0.000    0.000    0.000 _bootlocale.py:33(getpreferredencoding)\n",
    "        1    0.000    0.000    0.000    0.000 codecs.py:309(__init__)\n",
    "        3    0.000    0.000    0.000    0.000 {built-in method builtins.isinstance}\n",
    "        1    0.000    0.000    0.000    0.000 {built-in method _locale.nl_langinfo}\n",
    "        1    0.000    0.000    0.000    0.000 codecs.py:260(__init__)\n",
    "        1    0.000    0.000    0.000    0.000 posixpath.py:41(_get_sep)\n",
    "        4    0.000    0.000    0.000    0.000 {built-in method builtins.len}\n",
    "        1    0.000    0.000    0.000    0.000 {built-in method posix.fspath}\n",
    "        1    0.000    0.000    0.000    0.000 {method 'startswith' of 'str' objects}\n",
    "        1    0.000    0.000    0.000    0.000 {method 'endswith' of 'str' objects}\n",
    "        1    0.000    0.000    0.000    0.000 {method 'disable' of '_lsprof.Profiler' objects}\n",
    "```\n",
    "```\n",
    "python -m cProfile -s cumtime v2_updated_encrypt.py \n",
    "         8196431 function calls in 2.454 seconds\n",
    "\n",
    "   Ordered by: cumulative time\n",
    "\n",
    "   ncalls  tottime  percall  cumtime  percall filename:lineno(function)\n",
    "        1    0.000    0.000    2.454    2.454 {built-in method builtins.exec}\n",
    "        1    0.000    0.000    2.454    2.454 v2_updated_encrypt.py:1(<module>)\n",
    "        2    0.000    0.000    2.442    1.221 v2_updated_encrypt.py:13(xor_strings_new)\n",
    "        2    0.398    0.199    2.442    1.221 {method 'join' of 'str' objects}\n",
    "  2732134    1.343    0.000    2.044    0.000 v2_updated_encrypt.py:19(<genexpr>)\n",
    "  2732132    0.416    0.000    0.416    0.000 {built-in method builtins.chr}\n",
    "  2732132    0.284    0.000    0.284    0.000 {built-in method builtins.ord}\n",
    "        1    0.008    0.008    0.012    0.012 {method 'read' of '_io.TextIOWrapper' objects}\n",
    "        1    0.000    0.000    0.004    0.004 codecs.py:319(decode)\n",
    "        1    0.004    0.004    0.004    0.004 {built-in method _codecs.utf_8_decode}\n",
    "        1    0.000    0.000    0.000    0.000 {built-in method io.open}\n",
    "        1    0.000    0.000    0.000    0.000 posixpath.py:75(join)\n",
    "        2    0.000    0.000    0.000    0.000 v2_updated_encrypt.py:24(update_key)\n",
    "        1    0.000    0.000    0.000    0.000 _bootlocale.py:33(getpreferredencoding)\n",
    "        1    0.000    0.000    0.000    0.000 <frozen importlib._bootstrap>:1009(_handle_fromlist)\n",
    "        1    0.000    0.000    0.000    0.000 {built-in method _locale.nl_langinfo}\n",
    "        6    0.000    0.000    0.000    0.000 {built-in method builtins.len}\n",
    "        1    0.000    0.000    0.000    0.000 codecs.py:309(__init__)\n",
    "        1    0.000    0.000    0.000    0.000 {built-in method builtins.hasattr}\n",
    "        3    0.000    0.000    0.000    0.000 {built-in method builtins.isinstance}\n",
    "        1    0.000    0.000    0.000    0.000 posixpath.py:41(_get_sep)\n",
    "        1    0.000    0.000    0.000    0.000 {method 'startswith' of 'str' objects}\n",
    "        1    0.000    0.000    0.000    0.000 {built-in method posix.fspath}\n",
    "        1    0.000    0.000    0.000    0.000 codecs.py:260(__init__)\n",
    "        1    0.000    0.000    0.000    0.000 {method 'endswith' of 'str' objects}\n",
    "        1    0.000    0.000    0.000    0.000 {method 'disable' of '_lsprof.Profiler' objects}\n",
    "```"
   ]
  },
  {
   "cell_type": "markdown",
   "metadata": {},
   "source": [
    "### pycallgraph"
   ]
  },
  {
   "cell_type": "code",
   "execution_count": null,
   "metadata": {},
   "outputs": [],
   "source": []
  },
  {
   "cell_type": "markdown",
   "metadata": {},
   "source": [
    "### line_profiler"
   ]
  },
  {
   "cell_type": "code",
   "execution_count": null,
   "metadata": {},
   "outputs": [],
   "source": []
  },
  {
   "cell_type": "markdown",
   "metadata": {},
   "source": [
    "### memory_profiler"
   ]
  },
  {
   "cell_type": "code",
   "execution_count": null,
   "metadata": {},
   "outputs": [],
   "source": []
  },
  {
   "cell_type": "markdown",
   "metadata": {},
   "source": [
    "### profilehooks"
   ]
  }
 ],
 "metadata": {
  "kernelspec": {
   "display_name": "Python 3",
   "language": "python",
   "name": "python3"
  },
  "language_info": {
   "codemirror_mode": {
    "name": "ipython",
    "version": 3
   },
   "file_extension": ".py",
   "mimetype": "text/x-python",
   "name": "python",
   "nbconvert_exporter": "python",
   "pygments_lexer": "ipython3",
   "version": "3.7.0"
  }
 },
 "nbformat": 4,
 "nbformat_minor": 2
}
