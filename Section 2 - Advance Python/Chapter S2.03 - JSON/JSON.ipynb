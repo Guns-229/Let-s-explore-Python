{
 "cells": [
  {
   "cell_type": "markdown",
   "metadata": {},
   "source": [
    "# JSON"
   ]
  },
  {
   "cell_type": "markdown",
   "metadata": {},
   "source": [
    "The json library can parse JSON from either strings or files. The library parses JSON into a Python dictionary or list. It can also convert Python dictionaries or lists into JSON strings."
   ]
  },
  {
   "cell_type": "markdown",
   "metadata": {},
   "source": [
    "## Parsing JSON - Covert JSON Strings to Python Object"
   ]
  },
  {
   "cell_type": "markdown",
   "metadata": {},
   "source": [
    "One of the most common task which we perform on `JSON` is to convert it to Python object. `json` library provides `loads` function to achieve it. Lets understand it with following example.\n",
    "\n",
    "In the below example we will take a JSON string (`json_string`) and convert it to Python object (`parsed_json`)."
   ]
  },
  {
   "cell_type": "code",
   "execution_count": 4,
   "metadata": {},
   "outputs": [
    {
     "name": "stdout",
     "output_type": "stream",
     "text": [
      "<class 'dict'> {'first_name': 'Guido', 'last_name': 'Rossum'}\n"
     ]
    }
   ],
   "source": [
    "import json\n",
    "# XML equival of json_string\n",
    "\"\"\" \n",
    "<user>\n",
    "    <first_name>Guido</first_name>\n",
    "    <last_name>Rossum</last_name>\n",
    "</user>\n",
    "\"\"\"\n",
    "json_string = '{\"first_name\": \"Guido\", \"last_name\":\"Rossum\"}'\n",
    "\n",
    "parsed_json = json.loads(json_string)\n",
    "print(type(parsed_json), parsed_json)"
   ]
  },
  {
   "cell_type": "markdown",
   "metadata": {},
   "source": [
    "We have used `loads` function to convert JSON string to Python object. As `parsed_json` is a dictionary, lets read its individual elements.  "
   ]
  },
  {
   "cell_type": "code",
   "execution_count": 2,
   "metadata": {},
   "outputs": [
    {
     "name": "stdout",
     "output_type": "stream",
     "text": [
      "Guido Rossum\n"
     ]
    }
   ],
   "source": [
    "print(parsed_json['first_name'],\n",
    "      parsed_json['last_name'])"
   ]
  },
  {
   "cell_type": "markdown",
   "metadata": {},
   "source": [
    "We can even traverse using `for` loop."
   ]
  },
  {
   "cell_type": "code",
   "execution_count": 3,
   "metadata": {},
   "outputs": [
    {
     "name": "stdout",
     "output_type": "stream",
     "text": [
      "first_name => Guido\n",
      "last_name => Rossum\n"
     ]
    }
   ],
   "source": [
    "for k, v in parsed_json.items():\n",
    "    print(k, \"=>\", v)"
   ]
  },
  {
   "cell_type": "markdown",
   "metadata": {},
   "source": [
    "Lets take a JSON string with another data type (list)"
   ]
  },
  {
   "cell_type": "code",
   "execution_count": 4,
   "metadata": {},
   "outputs": [
    {
     "name": "stdout",
     "output_type": "stream",
     "text": [
      "['first_name', 'Guido', {'name': 'mayank', 'last_name': 'johri'}] <class 'list'>\n"
     ]
    }
   ],
   "source": [
    "# It can be of other data types also\n",
    "json_string = '[\"first_name\", \"Guido\", {\"name\": \"mayank\" , \"last_name\":\"johri\"}]'\n",
    "\n",
    "parsed_json = json.loads(json_string)\n",
    "print(parsed_json, type(parsed_json))"
   ]
  },
  {
   "cell_type": "markdown",
   "metadata": {},
   "source": [
    "Below example shows, how we can read a JSON file and perform operation on its data. "
   ]
  },
  {
   "cell_type": "code",
   "execution_count": 6,
   "metadata": {},
   "outputs": [
    {
     "name": "stdout",
     "output_type": "stream",
     "text": [
      "{'results': [{'user': {'gender': 'male', 'name': {'title': 'mr', 'first': 'ernest', 'last': 'coleman'}, 'location': {'street': '6735 greenhaven ln', 'city': 'sunnyvale', 'state': 'connecticut', 'zip': '33332'}, 'email': 'ernest.coleman20@example.com', 'username': 'yellowdog409', 'password': 'ledzep', 'salt': '7iDblTIm', 'md5': '3c9871f954d86c58d3f49b98a7fb60c3', 'sha1': 'd6cb9b8abb27f9718ee9185b2cde298665a177b5', 'sha256': '4fdb19e71c66c91f27f5208cc2a59ca8833ed9b72c549f11ea6a881ffde23c65', 'registered': '1315463131', 'dob': '468664323', 'phone': '(348)-196-2669', 'cell': '(757)-671-8341', 'SSN': '641-99-7751', 'picture': {'large': 'http://api.randomuser.me/portraits/men/72.jpg', 'medium': 'http://api.randomuser.me/portraits/med/men/44.jpg', 'thumbnail': 'http://api.randomuser.me/portraits/thumb/men/47.jpg'}, 'version': '0.6', 'nationality': 'US'}, 'seed': '369a24e79c2f8676'}]}\n",
      "<class 'dict'>\n"
     ]
    }
   ],
   "source": [
    "with open(\"random.json\") as f:\n",
    "    parsed_json = json.loads(f.read())\n",
    "    \n",
    "print(parsed_json)\n",
    "print(type(parsed_json))"
   ]
  },
  {
   "cell_type": "markdown",
   "metadata": {},
   "source": [
    "Following is the table to understand the relationship between Python and JSON Data and can be useful to understand the state of data after serialization or deserialization.\n",
    "\n",
    "|Python|JSON|\n",
    "|------|-----|\n",
    "| dict | object|\n",
    "| list, tuple|array|\n",
    "| None | null |\n",
    "| False | false|\n",
    "| True | true|\n",
    "| int, float | number|\n",
    "| str  |string |"
   ]
  },
  {
   "cell_type": "markdown",
   "metadata": {},
   "source": [
    "### De-serialization - Python object to JSON string"
   ]
  },
  {
   "cell_type": "markdown",
   "metadata": {},
   "source": [
    "It is the process of converting `python` objects to `JSON` objects/string. It can be achieved by using `json.dumps`."
   ]
  },
  {
   "cell_type": "code",
   "execution_count": 9,
   "metadata": {},
   "outputs": [
    {
     "name": "stdout",
     "output_type": "stream",
     "text": [
      "{\"first_name\": \"Guido\", \"second_name\": \"Rossum\", \"titles\": [\"BDFL\", \"Developer\"]}\n",
      "<class 'str'>\n"
     ]
    }
   ],
   "source": [
    "py = {\n",
    "    'first_name': 'Guido',\n",
    "    'second_name': 'Rossum',\n",
    "    'titles': ['BDFL', 'Developer'],\n",
    "}\n",
    "\n",
    "json_string = json.dumps(py)\n",
    "print(json_string)\n",
    "print(type(json_string))"
   ]
  },
  {
   "cell_type": "code",
   "execution_count": 10,
   "metadata": {},
   "outputs": [
    {
     "name": "stdout",
     "output_type": "stream",
     "text": [
      "{\"first_name\": \"Guido\", \"second_name\": \"Rossum\", \"titles\": [\"BDFL\", \"Developer\"]}\n",
      "<class 'str'>\n"
     ]
    }
   ],
   "source": [
    "d = [\"mayank\", \"Venky\", \"Prashant Bhandarkar\"]\n",
    "\n",
    "json_string = json.dumps(py)\n",
    "print(json_string)\n",
    "print(type(json_string))"
   ]
  },
  {
   "cell_type": "markdown",
   "metadata": {},
   "source": [
    "`JSON` to Python object conversion follows the following table\n",
    "\n",
    "|  `JSON`       | Python    |\n",
    "|:-------------:|:---------:|\n",
    "| object\t    | dict      |\n",
    "| array\t        | list      |\n",
    "| string\t    | str       |\n",
    "| number (int)\t| int       |\n",
    "| number (real)\t| float     |\n",
    "| true\t        | True      |\n",
    "| false\t        | False     |\n",
    "| null\t        | None      |"
   ]
  },
  {
   "cell_type": "markdown",
   "metadata": {},
   "source": [
    "In all the above example, if we save the `JSON` string to a file then entire content is stored in a single line and will not look pretty. `json.dumps` provides additional methods to achieve it. In the following examples we are going to learn about them.\n",
    "\n",
    "Note that not all types of Python data can be converted to JSON object as shown in the below example."
   ]
  },
  {
   "cell_type": "code",
   "execution_count": 3,
   "metadata": {},
   "outputs": [
    {
     "name": "stdout",
     "output_type": "stream",
     "text": [
      "name 'json' is not defined\n",
      "name 'json' is not defined\n",
      "name 'json' is not defined\n",
      "name 'json' is not defined\n",
      "name 'json' is not defined\n",
      "name 'json' is not defined\n",
      "name 'json' is not defined\n",
      "name 'json' is not defined\n"
     ]
    }
   ],
   "source": [
    "for data in [\"Prashant Bhandarkar\", True, False, None, (1, 2), [1, (2, 3)], {1, 3}, [{1, 3}]]:\n",
    "    try:\n",
    "        json_string = json.dumps(data)\n",
    "        print(json_string)\n",
    "        print(type(json_string))\n",
    "    except Exception as e:\n",
    "        print(e)\n"
   ]
  },
  {
   "cell_type": "markdown",
   "metadata": {},
   "source": [
    "In the above example, As Python `set` has no equivalent data type in JSON it fails. So we need to fix it before using it as shonw in the below exmaple  "
   ]
  },
  {
   "cell_type": "code",
   "execution_count": 5,
   "metadata": {},
   "outputs": [
    {
     "name": "stdout",
     "output_type": "stream",
     "text": [
      "[1, 3]\n",
      "<class 'str'>\n"
     ]
    }
   ],
   "source": [
    "data = {1, 3}\n",
    "data = tuple(data)\n",
    "json_string = json.dumps(data)\n",
    "print(json_string)\n",
    "print(type(json_string))"
   ]
  },
  {
   "cell_type": "code",
   "execution_count": null,
   "metadata": {},
   "outputs": [],
   "source": []
  },
  {
   "cell_type": "markdown",
   "metadata": {},
   "source": [
    "#### `indent`"
   ]
  },
  {
   "cell_type": "markdown",
   "metadata": {},
   "source": [
    "`indent` is an argument of `dumps` which provide proper indents to the JSON elements as shown in the below examples."
   ]
  },
  {
   "cell_type": "code",
   "execution_count": 21,
   "metadata": {},
   "outputs": [
    {
     "name": "stdout",
     "output_type": "stream",
     "text": [
      "[\n",
      "  \"mayank\",\n",
      "  \"Venky\",\n",
      "  \"Prashant Bhandarkar\"\n",
      "]\n"
     ]
    }
   ],
   "source": [
    "d = [\"mayank\", \"Venky\", \"Prashant Bhandarkar\"]\n",
    "\n",
    "data = json.dumps(d, indent=2)\n",
    "print(data)"
   ]
  },
  {
   "cell_type": "code",
   "execution_count": 22,
   "metadata": {},
   "outputs": [
    {
     "name": "stdout",
     "output_type": "stream",
     "text": [
      "{\n",
      "    \"first_name\": \"Guido\",\n",
      "    \"second_name\": \"Rossum\",\n",
      "    \"titles\": [\n",
      "        \"BDFL\",\n",
      "        \"Developer\"\n",
      "    ]\n",
      "}\n"
     ]
    }
   ],
   "source": [
    "py = {\n",
    "    'first_name': 'Guido',\n",
    "    'second_name': 'Rossum',\n",
    "    'titles': ['BDFL', 'Developer'],\n",
    "}\n",
    "\n",
    "data = json.dumps(py, indent=4)\n",
    "print(data)"
   ]
  },
  {
   "cell_type": "markdown",
   "metadata": {},
   "source": [
    "#### `sort_keys`"
   ]
  },
  {
   "cell_type": "markdown",
   "metadata": {},
   "source": [
    "`sort_keys` when set to `True` sorts the Python object dictionary based on keys while converting them to `JSON` as shown in the below example"
   ]
  },
  {
   "cell_type": "code",
   "execution_count": 23,
   "metadata": {},
   "outputs": [
    {
     "name": "stdout",
     "output_type": "stream",
     "text": [
      "{\n",
      "    \"first_name\": \"Guido\",\n",
      "    \"second_name\": \"Rossum\",\n",
      "    \"titles\": [\n",
      "        \"Developer\",\n",
      "        \"BDFL\"\n",
      "    ]\n",
      "}\n"
     ]
    }
   ],
   "source": [
    "py = {\n",
    "    'titles': ['Developer', 'BDFL'], 'first_name': 'Guido',\n",
    "    'second_name': 'Rossum',\n",
    "}\n",
    "\n",
    "data = json.dumps(py, sort_keys=True, indent=4)\n",
    "print(data)"
   ]
  },
  {
   "cell_type": "markdown",
   "metadata": {},
   "source": [
    "#### `skipkeys=True`"
   ]
  },
  {
   "cell_type": "markdown",
   "metadata": {},
   "source": [
    " Lets take an example of a Python dictionary which has key as tuple, which is a valid "
   ]
  },
  {
   "cell_type": "code",
   "execution_count": 8,
   "metadata": {},
   "outputs": [
    {
     "name": "stdout",
     "output_type": "stream",
     "text": [
      "keys must be str, int, float, bool or None, not tuple\n"
     ]
    }
   ],
   "source": [
    "json_string = {(\"mohan\", \"rakesh\"): \"admin\", \"mayank\": \"user\"}\n",
    "try:\n",
    "    data = json.dumps(json_string, indent=4)\n",
    "    print(data)\n",
    "except TypeError as te:\n",
    "    print(te)"
   ]
  },
  {
   "cell_type": "markdown",
   "metadata": {},
   "source": [
    "lets use the `skipkeys=True` option, you can see that `(\"mohan\", \"rakesh\"): \"admin\"` element which was causing issue has been skipped "
   ]
  },
  {
   "cell_type": "code",
   "execution_count": 9,
   "metadata": {},
   "outputs": [
    {
     "name": "stdout",
     "output_type": "stream",
     "text": [
      "{\n",
      "    \"mayank\": \"user\"\n",
      "}\n"
     ]
    }
   ],
   "source": [
    "try:\n",
    "    data = json.dumps(json_string, skipkeys=True, indent=4)\n",
    "    print(data)\n",
    "except TypeError as te:\n",
    "    print(te)"
   ]
  },
  {
   "cell_type": "markdown",
   "metadata": {},
   "source": [
    "### JSON Validation"
   ]
  },
  {
   "cell_type": "code",
   "execution_count": 26,
   "metadata": {},
   "outputs": [
    {
     "name": "stdout",
     "output_type": "stream",
     "text": [
      "Got invalid JSON string, skipping it.\n",
      "Expecting value: line 1 column 16 (char 15)\n"
     ]
    }
   ],
   "source": [
    "# JSON validator: Quick and Basic :)\n",
    "\n",
    "import json\n",
    "\n",
    "json_string = '{\"first_name\": \\'Guido\\', \"last_name\":\"Rossum\"'\n",
    "\n",
    "try:\n",
    "    js_val = json.loads(json_string)\n",
    "except ValueError as ve:\n",
    "    print(\"Got invalid JSON string, skipping it.\")\n",
    "    print(ve)"
   ]
  },
  {
   "cell_type": "markdown",
   "metadata": {},
   "source": [
    "### JSON to load into an OrderedDict"
   ]
  },
  {
   "cell_type": "code",
   "execution_count": 35,
   "metadata": {},
   "outputs": [
    {
     "data": {
      "text/plain": [
       "OrderedDict([('titles', ['Developer', 'BDFL']),\n",
       "             ('first_name', 'Guido'),\n",
       "             ('second_name', 'Rossum')])"
      ]
     },
     "execution_count": 35,
     "metadata": {},
     "output_type": "execute_result"
    }
   ],
   "source": [
    "import collections\n",
    "py = {\n",
    "    'titles': ['Developer', 'BDFL'], 'first_name': 'Guido',\n",
    "    'second_name': 'Rossum',\n",
    "}\n",
    "\n",
    "# to avoid single quote issue in JSON\n",
    "py = str(py).replace(\"'\", '\"')\n",
    "json.JSONDecoder(object_pairs_hook=collections.OrderedDict).decode(str(py))"
   ]
  },
  {
   "cell_type": "code",
   "execution_count": 18,
   "metadata": {},
   "outputs": [
    {
     "name": "stdout",
     "output_type": "stream",
     "text": [
      "OrderedDict([('es', ['Mukesh Bansal', 'Kirti Khanna', 'Jyoti Pancholi', 'Nishant Shrivastava', 'Gajendra Bandi']), ('cs', ['Amit Shrivastava'])])\n",
      "{\n",
      "    \"es\": [\n",
      "        \"Mukesh Bansal\",\n",
      "        \"Kirti Khanna\",\n",
      "        \"Jyoti Pancholi\",\n",
      "        \"Nishant Shrivastava\",\n",
      "        \"Gajendra Bandi\"\n",
      "    ],\n",
      "    \"cs\": [\n",
      "        \"Amit Shrivastava\"\n",
      "    ]\n",
      "}\n"
     ]
    }
   ],
   "source": [
    "from collections import OrderedDict\n",
    "# OrderedDict as ordereddict\n",
    "\n",
    "lnct_batch = \"\"\"{\n",
    "    \"es\": [\"Mukesh Bansal\", \"Kirti Khanna\", \"Jyoti Pancholi\", \"Nishant Shrivastava\", \"Gajendra Bandi\"],\n",
    "    \"cs\": [\"Amit Shrivastava\"]\n",
    "}\"\"\"\n",
    "\n",
    "data = json.loads(lnct_batch,  object_pairs_hook=OrderedDict)\n",
    "print(data)\n",
    "print(json.dumps(data, indent=4))"
   ]
  },
  {
   "cell_type": "code",
   "execution_count": 40,
   "metadata": {},
   "outputs": [
    {
     "name": "stdout",
     "output_type": "stream",
     "text": [
      "{\n",
      "    \"foo\": 1,\n",
      "    \"bar\": 2\n",
      "}\n"
     ]
    }
   ],
   "source": [
    "data = json.loads('{\"foo\":1, \"bar\": 2}', object_pairs_hook=OrderedDict)\n",
    "print(json.dumps(data, indent=4))"
   ]
  },
  {
   "cell_type": "markdown",
   "metadata": {},
   "source": [
    "### Examples"
   ]
  },
  {
   "cell_type": "code",
   "execution_count": 13,
   "metadata": {},
   "outputs": [
    {
     "name": "stdout",
     "output_type": "stream",
     "text": [
      "{\"101\": {\"class\": \"V\", \"Name\": \"Rohit\", \"Roll_no\": 7}, \"102\": {\"class\": \"V\", \"Name\": \"David\", \"Roll_no\": 8}, \"103\": {\"class\": \"V\", \"Name\": \"Samiya\", \"Roll_no\": 12}}\n"
     ]
    }
   ],
   "source": [
    "import json  \n",
    "student = {\"101\":{\"class\":'V', \"Name\":'Rohit',  \"Roll_no\":7},  \n",
    "           \"102\":{\"class\":'V', \"Name\":'David',  \"Roll_no\":8},  \n",
    "           \"103\":{\"class\":'V', \"Name\":'Samiya', \"Roll_no\":12}}  \n",
    "print(json.dumps(student)) "
   ]
  },
  {
   "cell_type": "code",
   "execution_count": 14,
   "metadata": {},
   "outputs": [
    {
     "name": "stdout",
     "output_type": "stream",
     "text": [
      "{\"101\": {\"Class\": \"V\", \"Name\": \"Rohit\", \"Roll_no\": 7}, \"102\": {\"Class\": \"V\", \"Name\": \"David\", \"Roll_no\": 8}, \"103\": {\"Class\": \"V\", \"Name\": \"Samiya\", \"Roll_no\": 12}}\n"
     ]
    }
   ],
   "source": [
    "import json  \n",
    "student = {\"101\":{\"Name\":'Rohit',\"Class\":'V', \"Roll_no\":7},  \n",
    "           \"102\":{\"Name\":'David',\"Class\":'V', \"Roll_no\":8},  \n",
    "           \"103\":{\"Name\":'Samiya',\"Class\":'V', \"Roll_no\":12}}  \n",
    "print(json.dumps(student, sort_keys=True)); "
   ]
  },
  {
   "cell_type": "code",
   "execution_count": 64,
   "metadata": {},
   "outputs": [
    {
     "name": "stdout",
     "output_type": "stream",
     "text": [
      "[\"Red\", \"Black\", \"White\"]\n"
     ]
    }
   ],
   "source": [
    "import json  \n",
    "tup1 = 'Red', 'Black', 'White'\n",
    "print(json.dumps(tup1))"
   ]
  },
  {
   "cell_type": "code",
   "execution_count": 16,
   "metadata": {},
   "outputs": [
    {
     "name": "stdout",
     "output_type": "stream",
     "text": [
      "[5, 12, 13, 14]\n"
     ]
    }
   ],
   "source": [
    "import json  \n",
    "list1 = [5, 12, 13, 14];  \n",
    "print(json.dumps(list1));"
   ]
  },
  {
   "cell_type": "code",
   "execution_count": 17,
   "metadata": {},
   "outputs": [
    {
     "name": "stdout",
     "output_type": "stream",
     "text": [
      "\"Python and JSON\"\n"
     ]
    }
   ],
   "source": [
    "import json  \n",
    "string1 = 'Python and JSON';  \n",
    "print(json.dumps(string1));"
   ]
  },
  {
   "cell_type": "code",
   "execution_count": 18,
   "metadata": {},
   "outputs": [
    {
     "name": "stdout",
     "output_type": "stream",
     "text": [
      "true\n"
     ]
    }
   ],
   "source": [
    "import json  \n",
    "x = True;  \n",
    "print(json.dumps(x));  "
   ]
  },
  {
   "cell_type": "code",
   "execution_count": 1,
   "metadata": {},
   "outputs": [
    {
     "name": "stdout",
     "output_type": "stream",
     "text": [
      "{'103': {'class': 'V', 'Name': 'Samiya', 'Roll_n': 12}, '102': {'class': 'V', 'Name': 'David', 'Roll_no': 8}, '101': {'class': 'V', 'Name': 'Rohit', 'Roll_no': 7}}\n"
     ]
    }
   ],
   "source": [
    "import json  \n",
    "json_data = '{\"103\": {\"class\": \"V\", \"Name\": \"Samiya\", \"Roll_n\": 12}, \"102\": {\"class\": \"V\", \"Name\": \"David\", \"Roll_no\": 8}, \"101\": {\"class\": \"V\", \"Name\": \"Rohit\", \"Roll_no\": 7}}';  \n",
    "print(json.loads(json_data));"
   ]
  },
  {
   "cell_type": "markdown",
   "metadata": {},
   "source": [
    "### Serializing Custom Object"
   ]
  },
  {
   "cell_type": "markdown",
   "metadata": {},
   "source": [
    "We have instances where we have custom data such as an object of custom class, or of data which is not a basic data types such as (int, float, bool, None, str, list, tuple, dict). In these cases we can create our own serialization function as shown in the below example"
   ]
  },
  {
   "cell_type": "code",
   "execution_count": 10,
   "metadata": {},
   "outputs": [
    {
     "name": "stdout",
     "output_type": "stream",
     "text": [
      "{'userid': 10021, 'Punchtime': datetime.datetime(2022, 3, 4, 10, 8, 21, 178766)}\n",
      "Object of type datetime is not JSON serializable\n"
     ]
    }
   ],
   "source": [
    "# Problem\n",
    "\n",
    "import json\n",
    "\n",
    "from datetime import datetime\n",
    "\n",
    "now = datetime.now()\n",
    "user_punch_data = {\n",
    "    'userid': 10021,\n",
    "    'Punchtime': now\n",
    "}\n",
    "\n",
    "try:\n",
    "    # we have datetime object as Value for key 'Punchtime'\n",
    "    print(user_punch_data)\n",
    "    rest_data = json.dumps(user_punch_data)\n",
    "except Exception as e:\n",
    "    print(e)"
   ]
  },
  {
   "cell_type": "code",
   "execution_count": 12,
   "metadata": {},
   "outputs": [
    {
     "name": "stdout",
     "output_type": "stream",
     "text": [
      "{\"userid\": 10021, \"Punchtime\": \"2022-03-04 10:09:09.007845\"}\n"
     ]
    }
   ],
   "source": [
    "# Very Basic Solution\n",
    "import json\n",
    "from datetime import datetime\n",
    "\n",
    "\n",
    "def _serialize(obj):\n",
    "    return str(obj)\n",
    "\n",
    "now = datetime.now()\n",
    "user_punch_data = {\n",
    "    'userid': 10021,\n",
    "    'Punchtime': now\n",
    "}\n",
    "\n",
    "try:\n",
    "    rest_data = json.dumps(user_punch_data, \n",
    "                           default=_serialize)\n",
    "    print(rest_data)\n",
    "except Exception as e:\n",
    "    print(e)"
   ]
  },
  {
   "cell_type": "code",
   "execution_count": 18,
   "metadata": {},
   "outputs": [
    {
     "name": "stdout",
     "output_type": "stream",
     "text": [
      "[\"Prashant Bhandarkar\", true, false, null, [1, 2], [1, [2, 3]], [1, 3], [[1, 3]]]\n"
     ]
    }
   ],
   "source": [
    "# A bit better Solution\n",
    "import json\n",
    "from datetime import datetime\n",
    "\n",
    "\n",
    "def _serialize(obj):\n",
    "    if isinstance(obj, set):\n",
    "        return list(obj)\n",
    "    return str(obj)\n",
    "\n",
    "now = datetime.now()\n",
    "user_punch_data = [\"Prashant Bhandarkar\", True, False, None, (1, 2), [1, (2, 3)], {1, 3}, [{1, 3}]]\n",
    "\n",
    "try:\n",
    "    rest_data = json.dumps(user_punch_data, \n",
    "                           default=_serialize)\n",
    "    print(rest_data)\n",
    "except Exception as e:\n",
    "    print(e)"
   ]
  },
  {
   "cell_type": "markdown",
   "metadata": {},
   "source": [
    "### Gotcha's "
   ]
  },
  {
   "cell_type": "markdown",
   "metadata": {},
   "source": [
    "#### Gotcha 1: "
   ]
  },
  {
   "cell_type": "code",
   "execution_count": 30,
   "metadata": {},
   "outputs": [
    {
     "name": "stdout",
     "output_type": "stream",
     "text": [
      "Expecting property name enclosed in double quotes: line 1 column 2 (char 1)\n"
     ]
    }
   ],
   "source": [
    "# Single quotes are not allowed inside the JSON string to denote string\n",
    "\n",
    "import json  \n",
    "json_data = \"\"\"{'103': {\"class\": \"V\", \"Name\": \"Samiya\", \"Roll_n\": 12}, \n",
    "            \"102\": {\"class\": \"V\", \"Name\": \"David\", \"Roll_no\": 8},\n",
    "            \"101\": {\"class\": \"V\", \"Name\": \"Rohit\", \"Roll_no\": 7}}\"\"\" \n",
    "try:\n",
    "    js = json.loads(json_data)\n",
    "except Exception as je:\n",
    "    print(je)"
   ]
  },
  {
   "cell_type": "code",
   "execution_count": 20,
   "metadata": {},
   "outputs": [
    {
     "name": "stdout",
     "output_type": "stream",
     "text": [
      "Expecting property name enclosed in double quotes: line 1 column 2 (char 1)\n"
     ]
    }
   ],
   "source": [
    "import collections\n",
    "\n",
    "json_data = \"\"\"{'103': {\"class\": \"V\", \"Name\": \"Samiya\", \"Roll_n\": 12}, \n",
    "            \"102\": {\"class\": \"V\", \"Name\": \"David\", \"Roll_no\": 8},\n",
    "            \"101\": {\"class\": \"V\", \"Name\": \"Rohit\", \"Roll_no\": 7}}\"\"\" \n",
    "try:\n",
    "    json.JSONDecoder(object_pairs_hook=collections.OrderedDict).decode(str(json_data))\n",
    "except Exception as je:\n",
    "    print(je)"
   ]
  },
  {
   "cell_type": "markdown",
   "metadata": {},
   "source": [
    "**Solution:**"
   ]
  },
  {
   "cell_type": "code",
   "execution_count": 21,
   "metadata": {},
   "outputs": [
    {
     "name": "stdout",
     "output_type": "stream",
     "text": [
      "{\"103\": {\"class\": \"V\", \"Name\": \"Samiya\", \"Roll_n\": 12}, \"102\": {\"class\": \"V\", \"Name\": \"David\", \"Roll_no\": 8}, \"101\": {\"class\": \"V\", \"Name\": \"Rohit\", \"Roll_no\": 7}}\n"
     ]
    }
   ],
   "source": [
    "import ast\n",
    "import json\n",
    "\n",
    "data = json.dumps(ast.literal_eval(json_data))\n",
    "print(data)"
   ]
  },
  {
   "cell_type": "markdown",
   "metadata": {},
   "source": [
    "##### Gotcha 2: Extra `,` comma can do wonders"
   ]
  },
  {
   "cell_type": "code",
   "execution_count": 23,
   "metadata": {},
   "outputs": [
    {
     "name": "stdout",
     "output_type": "stream",
     "text": [
      "Expecting property name enclosed in double quotes: line 1 column 47 (char 46)\n"
     ]
    }
   ],
   "source": [
    "d = '{\"first_name\": \"Guido\", \"last_name\":\"Rossum\", }'\n",
    "\n",
    "try:\n",
    "    data = json.loads(d)\n",
    "    print(data, \"<==>\", type(data))\n",
    "except Exception as e:\n",
    "    print(e)"
   ]
  },
  {
   "cell_type": "markdown",
   "metadata": {},
   "source": [
    "**Solution:**"
   ]
  },
  {
   "cell_type": "code",
   "execution_count": 24,
   "metadata": {},
   "outputs": [
    {
     "name": "stdout",
     "output_type": "stream",
     "text": [
      "{\"first_name\": \"Guido\", \"last_name\": \"Rossum\"}\n"
     ]
    }
   ],
   "source": [
    "import ast\n",
    "import json\n",
    "\n",
    "json_data = '{\"first_name\": \"Guido\", \"last_name\":\"Rossum\",}'\n",
    "data = json.dumps(ast.literal_eval(json_data))\n",
    "print(data)"
   ]
  },
  {
   "cell_type": "code",
   "execution_count": 39,
   "metadata": {},
   "outputs": [
    {
     "name": "stdout",
     "output_type": "stream",
     "text": [
      "welcome\n"
     ]
    },
    {
     "data": {
      "text/plain": [
       "[None]"
      ]
     },
     "execution_count": 39,
     "metadata": {},
     "output_type": "execute_result"
    }
   ],
   "source": [
    "# Please do not use `eval` for it and use `ast.literal_eval`\n",
    "\n",
    "json_data = '[print(\"welcome\")]'\n",
    "eval(json_data)"
   ]
  },
  {
   "cell_type": "code",
   "execution_count": 25,
   "metadata": {},
   "outputs": [
    {
     "name": "stdout",
     "output_type": "stream",
     "text": [
      "e = ValueError('malformed node or string: <ast.Call object at 0x7887b735f760>')\n"
     ]
    }
   ],
   "source": [
    "import ast\n",
    "import json\n",
    "\n",
    "json_data = '[print(\"welcome\")]'\n",
    "try:\n",
    "    _data = ast.literal_eval(json_data)\n",
    "    print(f\"{_data = }\")\n",
    "    data = json.dumps(_data)\n",
    "    print(data)\n",
    "except Exception as e:\n",
    "    print(f\"{e = }\")\n"
   ]
  }
 ],
 "metadata": {
  "kernelspec": {
   "display_name": "Python 3 (ipykernel)",
   "language": "python",
   "name": "python3"
  },
  "language_info": {
   "codemirror_mode": {
    "name": "ipython",
    "version": 3
   },
   "file_extension": ".py",
   "mimetype": "text/x-python",
   "name": "python",
   "nbconvert_exporter": "python",
   "pygments_lexer": "ipython3",
   "version": "3.9.9"
  }
 },
 "nbformat": 4,
 "nbformat_minor": 2
}
