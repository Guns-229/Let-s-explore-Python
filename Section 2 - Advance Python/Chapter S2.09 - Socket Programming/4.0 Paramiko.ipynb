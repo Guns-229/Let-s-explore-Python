{
 "cells": [
  {
   "cell_type": "markdown",
   "metadata": {},
   "source": [
    "## Paramiko"
   ]
  },
  {
   "cell_type": "markdown",
   "metadata": {},
   "source": [
    "Paramiko is a third party Python (2.7, 3.4+) implementation of the SSHv2 protocol, providing both client and server functionality."
   ]
  },
  {
   "cell_type": "markdown",
   "metadata": {},
   "source": [
    "### SSH Protocol"
   ]
  },
  {
   "cell_type": "markdown",
   "metadata": {},
   "source": [
    "SSH protocol creates encrypted connection between a client and a server and all the communications such as user authentication, commands, output, & file transfers are encrypted using agreed upon encryption protocol."
   ]
  },
  {
   "cell_type": "markdown",
   "metadata": {},
   "source": [
    "![files/ssh_diagram.png](files/ssh_diagram.png)"
   ]
  },
  {
   "cell_type": "markdown",
   "metadata": {},
   "source": [
    "### Core SSH protocol classes"
   ]
  },
  {
   "cell_type": "markdown",
   "metadata": {},
   "source": [
    "Following ssh protocol classes are supported by Paramiko,"
   ]
  },
  {
   "cell_type": "markdown",
   "metadata": {},
   "source": [
    "- Channel: Abstraction for an SSH2 channel and it behaves like a socket at API level similar to Python socket API.\n",
    "- Client: SSH client & key policies\n",
    "- Message: Implementation of an SSH2 “message”\n",
    "- Packetizer: Packet handling\n",
    "- Transport: Core protocol implementation"
   ]
  },
  {
   "cell_type": "markdown",
   "metadata": {},
   "source": [
    "### Authentication & keys"
   ]
  },
  {
   "cell_type": "markdown",
   "metadata": {},
   "source": [
    "Following authentication methods and key types are supported by Paramiko."
   ]
  },
  {
   "cell_type": "markdown",
   "metadata": {},
   "source": [
    "- SSH agents\n",
    "- Host keys / known_hosts files\n",
    "- Key handling\n",
    "    - Parent key class\n",
    "    - DSA (DSS)\n",
    "    - RSA\n",
    "    - ECDSA\n",
    "    - Ed25519\n",
    "- GSS-API authentication\n",
    "- GSS-API key exchange"
   ]
  },
  {
   "cell_type": "markdown",
   "metadata": {},
   "source": [
    "### Examples"
   ]
  },
  {
   "cell_type": "markdown",
   "metadata": {},
   "source": [
    "#### SSH Remote Command Execution"
   ]
  },
  {
   "cell_type": "markdown",
   "metadata": {},
   "source": [
    "```python\n",
    "from paramiko import SSHClient, AutoAddPolicy\n",
    "\n",
    "\n",
    "def connect(username, password, ip, port=22, command=\"ls -l /tmp\"):\n",
    "    client = SSHClient()\n",
    "    client.set_missing_host_key_policy(AutoAddPolicy())\n",
    "    client.connect(ip, port, username, password)\n",
    "    shell = client.invoke_shell()\n",
    "    _, out, _ = client.exec_command(command)\n",
    "    for line in out:\n",
    "        print('... ' + line.strip('\\n'))\n",
    "\n",
    "    shell.close()\n",
    "    client.close()\n",
    "\n",
    "\n",
    "connect(\"dummy\", \"dummy@2019\", \"127.0.0.1\")\n",
    "```"
   ]
  },
  {
   "cell_type": "markdown",
   "metadata": {},
   "source": [
    "#### SFTP Put & Get Files"
   ]
  },
  {
   "cell_type": "markdown",
   "metadata": {},
   "source": [
    "```python\n",
    "\"\"\".\"\"\"\n",
    "from paramiko import Transport, SFTPClient, AutoAddPolicy\n",
    "\n",
    "\n",
    "def connect(username, password, ip, port=22):\n",
    "    client = Transport(ip, port)\n",
    "    client.connect(username=username, password=password)\n",
    "    sftp = SFTPClient.from_transport(client)\n",
    "    sftp.put(\"1_client.py\", \"1_client.py\")\n",
    "\n",
    "    client.close()\n",
    "    sftp.close()\n",
    "\n",
    "connect(\"dummy\", \"dummy@2019\", \"127.0.0.1\")\n",
    "```"
   ]
  },
  {
   "cell_type": "code",
   "execution_count": null,
   "metadata": {},
   "outputs": [],
   "source": []
  },
  {
   "cell_type": "code",
   "execution_count": null,
   "metadata": {},
   "outputs": [],
   "source": []
  },
  {
   "cell_type": "code",
   "execution_count": null,
   "metadata": {},
   "outputs": [],
   "source": []
  },
  {
   "cell_type": "markdown",
   "metadata": {},
   "source": [
    "### References"
   ]
  },
  {
   "cell_type": "markdown",
   "metadata": {},
   "source": [
    "- https://en.wikipedia.org/wiki/Secure_Shell\n",
    "- https://www.ssh.com/ssh/\n",
    "- https://www.paramiko.org/\n"
   ]
  }
 ],
 "metadata": {
  "kernelspec": {
   "display_name": "Python 3",
   "language": "python",
   "name": "python3"
  },
  "language_info": {
   "codemirror_mode": {
    "name": "ipython",
    "version": 3
   },
   "file_extension": ".py",
   "mimetype": "text/x-python",
   "name": "python",
   "nbconvert_exporter": "python",
   "pygments_lexer": "ipython3",
   "version": "3.7.0"
  }
 },
 "nbformat": 4,
 "nbformat_minor": 2
}
