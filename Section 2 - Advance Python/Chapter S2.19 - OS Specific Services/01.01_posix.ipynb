{
 "cells": [
  {
   "cell_type": "markdown",
   "metadata": {},
   "source": [
    "### `posix`"
   ]
  },
  {
   "cell_type": "markdown",
   "metadata": {},
   "source": [
    "If you try to directly access the posix module, it will not work as its available as part of module `os`, thus importing `os` module will do the trick. \n",
    "\n",
    "```python\n",
    "import posix\n",
    "dir(posix)\n",
    "```\n",
    "**output:**\n",
    "```\n",
    "---------------------------------------------------------------------------\n",
    "ModuleNotFoundError                       Traceback (most recent call last)\n",
    "<ipython-input-1-02e70a009d1f> in <module>()\n",
    "----> 1 import posix\n",
    "      2 dir(posix)\n",
    "\n",
    "ModuleNotFoundError: No module named 'posix'\n",
    "````"
   ]
  },
  {
   "cell_type": "code",
   "execution_count": null,
   "metadata": {},
   "outputs": [],
   "source": []
  },
  {
   "cell_type": "code",
   "execution_count": null,
   "metadata": {},
   "outputs": [],
   "source": []
  }
 ],
 "metadata": {
  "kernelspec": {
   "display_name": "Python 3",
   "language": "python",
   "name": "python3"
  },
  "language_info": {
   "codemirror_mode": {
    "name": "ipython",
    "version": 3
   },
   "file_extension": ".py",
   "mimetype": "text/x-python",
   "name": "python",
   "nbconvert_exporter": "python",
   "pygments_lexer": "ipython3",
   "version": "3.6.5"
  }
 },
 "nbformat": 4,
 "nbformat_minor": 2
}
