{
 "cells": [
  {
   "cell_type": "markdown",
   "metadata": {},
   "source": [
    "## Linux and BSD "
   ]
  },
  {
   "cell_type": "markdown",
   "metadata": {},
   "source": [
    "Python provides many libraries which cater Linux & BSD specific needs. In this section we are going to cover few of them. Most common modules which we are going to cover are as follows\n",
    "\n",
    "- posix\n",
    "- pwd\n",
    "- spwd\n",
    "- grp \n",
    "- crypt\n",
    "- syslog\n",
    "\n",
    "> **<center style=\"color: Green\">!!! NOTE !!!</center>**\n",
    "> <hr/>\n",
    "> <center>All the above modules will not be present on non *inx systems, such as Windows, ReactOS etc.</center>"
   ]
  }
 ],
 "metadata": {
  "kernelspec": {
   "display_name": "Python 3",
   "language": "python",
   "name": "python3"
  },
  "language_info": {
   "codemirror_mode": {
    "name": "ipython",
    "version": 3
   },
   "file_extension": ".py",
   "mimetype": "text/x-python",
   "name": "python",
   "nbconvert_exporter": "python",
   "pygments_lexer": "ipython3",
   "version": "3.7.0"
  }
 },
 "nbformat": 4,
 "nbformat_minor": 2
}
