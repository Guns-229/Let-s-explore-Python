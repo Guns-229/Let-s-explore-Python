{
 "cells": [
  {
   "cell_type": "markdown",
   "metadata": {},
   "source": [
    "# Composition\n",
    "-----\n",
    "Inheritance is useful, but another way to do the exact same thing is just to use other classes and modules, rather than rely on implicit inheritance. If you look at the three ways to exploit inheritance, two of the three involve writing new code to replace or alter functionality. This can easily be replicated by just calling functions in a module. Here's an example of doing this:"
   ]
  },
  {
   "cell_type": "code",
   "execution_count": 2,
   "metadata": {},
   "outputs": [],
   "source": [
    "class Spa(object):\n",
    "    def __init__(self):\n",
    "        print(\"in init of spa\")\n",
    "        \n",
    "    def usage(self):\n",
    "        print(\"in spa usage\")\n",
    "\n",
    "class CoffeeShop(object):\n",
    "    def __init__(self):\n",
    "        print(\"in init of coffeeshop\")\n",
    "        \n",
    "    def usage(self):\n",
    "        print(\"in CoffeeShop usage\")\n",
    "        \n",
    "class Laundery(object):\n",
    "    def __init__(self):\n",
    "        print(\"in init of Laundery\")\n",
    "    \n",
    "    def usage(self):\n",
    "        print(\"in Laundery usage\")\n",
    "\n",
    "class Hotel(object):\n",
    "    def __init__(self):\n",
    "        print(\"Hotel init\")\n",
    "        self.spa = Spa()\n",
    "        self.cs = CoffeeShop()\n",
    "        self.laundery = Laundery()"
   ]
  },
  {
   "cell_type": "code",
   "execution_count": 2,
   "metadata": {},
   "outputs": [
    {
     "name": "stdout",
     "output_type": "stream",
     "text": [
      "Hotel init\n",
      "in init of spa\n",
      "in init of coffeeshop\n",
      "in init of Laundery\n",
      "~^~^~^~^~^~^~^~^~^~^\n",
      "in spa usage\n",
      "in Laundery usage\n"
     ]
    }
   ],
   "source": [
    "swagat_hotel = Hotel()\n",
    "print(\"~^\"*10)\n",
    "swagat_hotel.spa.usage()\n",
    "swagat_hotel.laundery.usage()"
   ]
  },
  {
   "cell_type": "code",
   "execution_count": 9,
   "metadata": {},
   "outputs": [],
   "source": [
    "# Interesting Example\n",
    "class Other():        \n",
    "    def test(self):\n",
    "        print(\"Test\")\n",
    "\n",
    "\n",
    "class Child():\n",
    "    x = \"Ja, ich bin Eine Mann\"\n",
    "    def __init__(self):\n",
    "        Child.other = Other()\n",
    "\n",
    "    def implicit(self):\n",
    "        self.x = 11\n",
    "        self.other.test()\n"
   ]
  },
  {
   "cell_type": "code",
   "execution_count": 10,
   "metadata": {},
   "outputs": [
    {
     "name": "stdout",
     "output_type": "stream",
     "text": [
      "Test\n",
      "4406211728 4406211728\n"
     ]
    }
   ],
   "source": [
    "son = Child()\n",
    "girl = Child()\n",
    "\n",
    "son.other.test()\n",
    "print(id(son.other), id(girl.other))  # as Client.other was used, thus it is a class level variable."
   ]
  },
  {
   "cell_type": "code",
   "execution_count": 17,
   "metadata": {},
   "outputs": [],
   "source": [
    "# Effect on static immutable data\n",
    "# Since the `other` is a class object (and its mutable) \n",
    "# thus any change in attributes of it \n",
    "# will get reflected in all objects\n",
    "\n",
    "class Other():\n",
    "    a = 10\n",
    "\n",
    "    def test(self):\n",
    "        print(f\"I am test of Other: a = {self.a}\")\n",
    "\n",
    "class Child():\n",
    "    x = 12\n",
    "    \n",
    "    def __init__(self):\n",
    "        # Class level object, all the objects will share it.\n",
    "        Child.other = Other()\n",
    "\n",
    "    def implicit(self):\n",
    "        self.x = 11\n",
    "        self.other.test()"
   ]
  },
  {
   "cell_type": "code",
   "execution_count": 18,
   "metadata": {},
   "outputs": [
    {
     "name": "stdout",
     "output_type": "stream",
     "text": [
      "I am test of Other: a = 1100\n",
      "girl.other.a: 1100\n",
      "4406213504 4406213504\n"
     ]
    }
   ],
   "source": [
    "son = Child()\n",
    "girl = Child()\n",
    "son.other.a = 1100\n",
    "\n",
    "son.implicit()\n",
    "print(\"girl.other.a:\", girl.other.a)\n",
    "print(id(son.other), id(girl.other))"
   ]
  },
  {
   "cell_type": "code",
   "execution_count": 20,
   "metadata": {},
   "outputs": [
    {
     "name": "stdout",
     "output_type": "stream",
     "text": [
      "Test: 20\n",
      "girl.other.a: 20\n",
      "4406317936 4406317936\n"
     ]
    }
   ],
   "source": [
    "# Effect on static immutable data\n",
    "# Since the `other` is a class object any change in attributes of it \n",
    "# will get reflected in all objects\n",
    "\n",
    "class Other():\n",
    "    def __init__(self):\n",
    "        self.a = 100\n",
    "\n",
    "    def test(self):\n",
    "        print(f\"Test: {self.a}\")\n",
    "\n",
    "class Child():\n",
    "    x = 12\n",
    "    def __init__(self):\n",
    "        # Class level object, all the objects will share it.\n",
    "        Child.other = Other()\n",
    "\n",
    "    def implicit(self):\n",
    "        self.x = 11\n",
    "        self.other.test()\n",
    "\n",
    "son = Child()\n",
    "girl = Child()\n",
    "son.other.a = 20\n",
    "\n",
    "son.implicit()\n",
    "print(\"girl.other.a:\", girl.other.a)\n",
    "print(id(son.other), id(girl.other))"
   ]
  },
  {
   "cell_type": "code",
   "execution_count": 22,
   "metadata": {},
   "outputs": [
    {
     "name": "stdout",
     "output_type": "stream",
     "text": [
      "Test\n",
      "10 1100\n",
      "4406319040 4406317216\n"
     ]
    }
   ],
   "source": [
    "class Other():\n",
    "    a = 10\n",
    "\n",
    "    def test(self):\n",
    "        print(\"Test\")\n",
    "\n",
    "\n",
    "class Child():\n",
    "    x = 12\n",
    "    def __init__(self):\n",
    "        # Object level object, every Child object will have \n",
    "        # different `other` object.\n",
    "        self.other = Other()\n",
    "\n",
    "    def implicit(self):\n",
    "        self.x = 11\n",
    "        self.other.test()\n",
    "\n",
    "son = Child()\n",
    "girl = Child()\n",
    "son.other.a = 1100\n",
    "\n",
    "son.implicit()\n",
    "print(girl.other.a, son.other.a)\n",
    "print(id(son.other), id(girl.other))"
   ]
  },
  {
   "cell_type": "markdown",
   "metadata": {},
   "source": [
    "## When to Use Inheritance or Composition\n",
    "\n",
    "The question of \"inheritance versus composition\" comes down to an attempt to solve the problem of reusable code. You don't want to have duplicated code all over your software, since that's not clean and efficient. Inheritance solves this problem by creating a mechanism for you to have implied features in base classes. Composition solves this by giving you modules and the ability to call functions in other classes.\n",
    "\n",
    "If both solutions solve the problem of reuse, then which one is appropriate in which situations? The answer is incredibly subjective, but I'll give you my three guidelines for when to do which:\n",
    "\n",
    "* Avoid multiple inheritance at all costs, as it's too complex to be reliable. If you're stuck with it, then be prepared to know the class hierarchy and spend time finding where everything is coming from.\n",
    "* Use composition to package code into modules that are used in many different unrelated places and situations.\n",
    "* Use inheritance only when there are clearly related reusable pieces of code that fit under a single common concept or if you have to because of something you're using.\n",
    "\n",
    "Do not be a slave to these rules. The thing to remember about object-oriented programming is that it is entirely a social convention programmers have created to package and share code. Because it's a social convention, but one that's codified in Python, you may be forced to avoid these rules because of the people you work with. In that case, find out how they use things and then just adapt to the situation."
   ]
  }
 ],
 "metadata": {
  "anaconda-cloud": {},
  "kernelspec": {
   "display_name": "Python 3",
   "language": "python",
   "name": "python3"
  },
  "language_info": {
   "codemirror_mode": {
    "name": "ipython",
    "version": 3
   },
   "file_extension": ".py",
   "mimetype": "text/x-python",
   "name": "python",
   "nbconvert_exporter": "python",
   "pygments_lexer": "ipython3",
   "version": "3.8.2"
  }
 },
 "nbformat": 4,
 "nbformat_minor": 1
}
