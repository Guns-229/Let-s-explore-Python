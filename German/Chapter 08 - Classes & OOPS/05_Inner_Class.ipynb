{
 "cells": [
  {
   "cell_type": "markdown",
   "metadata": {},
   "source": [
    "# The inner class\n",
    "---\n",
    "An inner class or nested class is a defined entirely within the body of another class  Let us do an example:"
   ]
  },
  {
   "cell_type": "code",
   "execution_count": 2,
   "metadata": {},
   "outputs": [],
   "source": [
    "class Human(object):\n",
    "\n",
    "    def __init__(self, writing_hand):\n",
    "        self.name = 'Guido'\n",
    "        self.head = self.__Head()\n",
    "        self.left_hand = self.__Hand()\n",
    "        self.right_hand = self.__Hand()\n",
    "        self.writing_hand = writing_hand\n",
    "\n",
    "    class __Head(object):\n",
    "        \"\"\"\n",
    "        Make them private classes to avoid abuse\n",
    "        \"\"\"\n",
    "        def talk(self):\n",
    "            return 'talking...'\n",
    "    \n",
    "    class __Hand(object):\n",
    "        def writing(self, txt):\n",
    "            print(txt)\n",
    "\n",
    "    def lets_talk(self):\n",
    "        return self.head.talk();\n",
    "    \n",
    "    def lets_write(self, txt):\n",
    "        if(self.writing_hand.lower() == 'left'):\n",
    "            self.left_hand.writing(txt)\n",
    "        else:\n",
    "            self.right_hand.writing(txt)"
   ]
  },
  {
   "cell_type": "code",
   "execution_count": 3,
   "metadata": {},
   "outputs": [
    {
     "name": "stdout",
     "output_type": "stream",
     "text": [
      "Guido\n",
      "talking...\n",
      "'Human' object has no attribute '__Hand'\n",
      "********************\n",
      "Ja\n",
      "World\n"
     ]
    }
   ],
   "source": [
    "guido = Human(\"right\")\n",
    "print(guido.name)\n",
    "print(guido.head.talk())\n",
    "# Bad example misusing the methods\n",
    "try:\n",
    "    guido.__Hand.writing(guido, \"hello\")\n",
    "except Exception as e:\n",
    "    print(e)\n",
    "# guido.Hand.writing(guido, \"hello\")\n",
    "print(\"*\"*20)\n",
    "guido.right_hand.writing(\"Ja\")\n",
    "guido.lets_write(\"World\")"
   ]
  },
  {
   "cell_type": "markdown",
   "metadata": {
    "collapsed": true
   },
   "source": [
    "### when to use "
   ]
  },
  {
   "cell_type": "markdown",
   "metadata": {},
   "source": [
    "- When you want to hide the implenetation from objects\n",
    "- When inner classes has no independent functionality."
   ]
  }
 ],
 "metadata": {
  "kernelspec": {
   "display_name": "Python 3",
   "language": "python",
   "name": "python3"
  },
  "language_info": {
   "codemirror_mode": {
    "name": "ipython",
    "version": 3
   },
   "file_extension": ".py",
   "mimetype": "text/x-python",
   "name": "python",
   "nbconvert_exporter": "python",
   "pygments_lexer": "ipython3",
   "version": "3.8.2"
  }
 },
 "nbformat": 4,
 "nbformat_minor": 1
}
