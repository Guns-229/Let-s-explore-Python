{
 "cells": [
  {
   "cell_type": "markdown",
   "metadata": {},
   "source": [
    "# `_`, `__` and `__attr__` in Python"
   ]
  },
  {
   "cell_type": "markdown",
   "metadata": {},
   "source": [
    "Certain classes of identifiers (besides keywords) have special meanings. These classes are identified by the patterns of leading and trailing underscore characters:"
   ]
  },
  {
   "cell_type": "markdown",
   "metadata": {
    "collapsed": true
   },
   "source": [
    "`_*`\n",
    "Not imported by \"from module import *\". The special identifier \"`_`\" is used in the interactive interpreter to store the result of the last evaluation; it is stored in the `__builtin__` module. When not in interactive mode, \"`_`\" has no special meaning and is not defined. See section 6.12, ``The import statement.''\n",
    "Note: The name \"_\" is often used in conjunction with internationalization; refer to the documentation for the gettext module for more information on this convention.\n",
    "\n",
    "`__*__`\n",
    "System-defined names. These names are defined by the interpreter and its implementation (including the standard library); applications should not expect to define additional names using this convention. The set of names of this class defined by Python may be extended in future versions. See section 3.4, ``Special method names.''\n",
    "\n",
    "`__*`\n",
    "Class-private names. Names in this category, when used within the context of a class definition, are re-written to use a mangled form to help avoid name clashes between **private** attributes of **base** and **derived** classes."
   ]
  },
  {
   "cell_type": "code",
   "execution_count": 1,
   "metadata": {},
   "outputs": [
    {
     "name": "stdout",
     "output_type": "stream",
     "text": [
      "1010\n",
      "[10]\n",
      "type object 'SumTotal' has no attribute 'actual'\n",
      "22\n"
     ]
    }
   ],
   "source": [
    "# Static function\n",
    "class SumTotal(object):\n",
    "    init_no = [10]\n",
    "    \n",
    "    def __init__(self):\n",
    "        self.actual = 100\n",
    "        pass\n",
    "    \n",
    "    @staticmethod\n",
    "    def static_method(nums):\n",
    "        # They have no access to object/class attributes\n",
    "        print(nums)\n",
    "    \n",
    "    @classmethod\n",
    "    def cls_method(cls):\n",
    "        print(cls.init_no)\n",
    "        # As class methods do not have access to object attributes\n",
    "        try:\n",
    "            print(cls.actual)\n",
    "        except Exception as e:\n",
    "            print(e)\n",
    "        \n",
    "\n",
    "st = SumTotal()\n",
    "st.static_method(1010)\n",
    "\n",
    "st.cls_method()\n",
    "SumTotal.static_method(22)"
   ]
  },
  {
   "cell_type": "code",
   "execution_count": 2,
   "metadata": {},
   "outputs": [
    {
     "name": "stdout",
     "output_type": "stream",
     "text": [
      "data: testing\n"
     ]
    }
   ],
   "source": [
    "# Explicitly calling parent function\n",
    "\n",
    "class Base(object):\n",
    "    def test(self, data):\n",
    "        print(\"data: {}\".format(data))\n",
    "        \n",
    "class Child(Base):\n",
    "    def test(self, data):\n",
    "        super().test(data)\n",
    "        \n",
    "c = Child()\n",
    "c.test(\"testing\")"
   ]
  },
  {
   "cell_type": "markdown",
   "metadata": {},
   "source": [
    "### Monkey Patching of Classes"
   ]
  },
  {
   "cell_type": "markdown",
   "metadata": {},
   "source": [
    "Below is a very simple example of monkey patching of classes in Python. \n",
    "> **Note**\n",
    "> ____\n",
    ">After patching, all the object created will get the updates irrespective of when they were created as shown in the below example. "
   ]
  },
  {
   "cell_type": "code",
   "execution_count": 3,
   "metadata": {},
   "outputs": [
    {
     "name": "stdout",
     "output_type": "stream",
     "text": [
      "False\n",
      "Jai Jai Shri Ram\n",
      "True\n",
      "True\n"
     ]
    }
   ],
   "source": [
    "# mp/01.py\n",
    "class Hanuman(object):\n",
    "    pass\n",
    "\n",
    "def chant(cls):\n",
    "    print(\"Jai Jai Shri Ram\")\n",
    "\n",
    "heman = Hanuman()\n",
    "print('chant' in heman.__dir__())\n",
    "\n",
    "Hanuman.chant = chant\n",
    "\n",
    "hanuman = Hanuman()\n",
    "hanuman.chant()\n",
    "\n",
    "print('chant' in heman.__dir__())\n",
    "print('chant' in hanuman.__dir__())"
   ]
  },
  {
   "cell_type": "code",
   "execution_count": 4,
   "metadata": {},
   "outputs": [
    {
     "name": "stdout",
     "output_type": "stream",
     "text": [
      " __ Jai Jai Shri Ram __\n",
      "Jai Jai Shri Ram\n",
      "Jai Jai Shri Ram\n"
     ]
    }
   ],
   "source": [
    "## Patching a new variable\n",
    "# mp/02.py\n",
    "\n",
    "class Hanuman(object):\n",
    "    def chant(self):\n",
    "        print(\" __ Jai Jai Shri Ram __\")\n",
    "\n",
    "def chant(cls):\n",
    "    print(\"Jai Jai Shri Ram\")\n",
    "\n",
    "heman = Hanuman()\n",
    "heman.chant()\n",
    "\n",
    "Hanuman.chant = chant\n",
    "\n",
    "hanuman = Hanuman()\n",
    "hanuman.chant()\n",
    "heman.chant()"
   ]
  },
  {
   "cell_type": "code",
   "execution_count": 5,
   "metadata": {},
   "outputs": [
    {
     "name": "stdout",
     "output_type": "stream",
     "text": [
      " __ Jai Jai Shri Ram __\n",
      "****\n",
      "False\n",
      "Jai Jai Shri Ram $$$\n",
      "Jai Jai Shri Ram $$$\n",
      "True\n",
      "True\n"
     ]
    }
   ],
   "source": [
    "## Patching existing function\n",
    "# mp/03.py\n",
    "class Hanuman(object):\n",
    "    def chant(self, padding=\"****\"):\n",
    "        print(\" __ Jai Jai Shri Ram __\")\n",
    "        print(padding)\n",
    "\n",
    "def chant(cls):\n",
    "    print(\"Jai Jai Shri Ram\", cls.padding)\n",
    "\n",
    "heman = Hanuman()\n",
    "heman.chant()\n",
    "print('padding' in heman.__dir__())\n",
    "\n",
    "Hanuman.chant = chant\n",
    "hanuman = Hanuman()\n",
    "Hanuman.padding = \"$$$\"\n",
    "\n",
    "hanuman.chant()\n",
    "heman.chant()\n",
    "print('padding' in heman.__dir__())\n",
    "print('padding' in hanuman.__dir__())"
   ]
  },
  {
   "cell_type": "markdown",
   "metadata": {},
   "source": [
    "### Effects of patching Parent Class on child objects"
   ]
  },
  {
   "cell_type": "code",
   "execution_count": 6,
   "metadata": {},
   "outputs": [
    {
     "name": "stdout",
     "output_type": "stream",
     "text": [
      "False\n",
      "... Ohm ...\n",
      "... Ohm ...\n",
      "True\n",
      "True\n"
     ]
    }
   ],
   "source": [
    "# mp/04.py\n",
    "class Ram(object):\n",
    "    pass\n",
    "\n",
    "class Kush(Ram):\n",
    "    pass\n",
    "\n",
    "def chant(cls):\n",
    "    print(\"... Ohm ...\")\n",
    "    \n",
    "kush = Kush()\n",
    "print('chant' in kush.__dir__())\n",
    "\n",
    "Ram.chant = chant\n",
    "love = Kush()\n",
    "\n",
    "love.chant()\n",
    "kush.chant()\n",
    "print('chant' in kush.__dir__())\n",
    "print('chant' in love.__dir__())"
   ]
  }
 ],
 "metadata": {
  "kernelspec": {
   "display_name": "Python 3",
   "language": "python",
   "name": "python3"
  },
  "language_info": {
   "codemirror_mode": {
    "name": "ipython",
    "version": 3
   },
   "file_extension": ".py",
   "mimetype": "text/x-python",
   "name": "python",
   "nbconvert_exporter": "python",
   "pygments_lexer": "ipython3",
   "version": "3.8.0"
  }
 },
 "nbformat": 4,
 "nbformat_minor": 2
}
