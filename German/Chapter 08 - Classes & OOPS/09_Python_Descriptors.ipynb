{
 "cells": [
  {
   "cell_type": "markdown",
   "metadata": {},
   "source": [
    "## Python descriptors"
   ]
  },
  {
   "cell_type": "markdown",
   "metadata": {},
   "source": [
    "Descriptors are similar to Java's `getters`, `setters` & `deletors`. Python provides two ways to achieve it, one is `property` and another is `descriptors`. We have already discussed properties, thus we are going to discuss descriptors in this section."
   ]
  },
  {
   "cell_type": "markdown",
   "metadata": {},
   "source": [
    "Python descriptors are used to create `managed attributes`. **Managed Attributes** has many benefits over normal attributes, such as\n",
    "\n",
    "- Protect attribute value from changing\n",
    "- Auto updation of depending attributes (e.g. In `circle` object, update in `area` should result in updating of `radius` and vice verses) \n",
    "- Custom updation of attribute (e.g. Temperature `C` to `F` or `F` to `C`)"
   ]
  },
  {
   "cell_type": "markdown",
   "metadata": {},
   "source": [
    "### Descriptors protocol"
   ]
  },
  {
   "cell_type": "markdown",
   "metadata": {},
   "source": [
    "Any class which implement any of the `__set__`, `__get__` & `__delete__` functions of the class. "
   ]
  },
  {
   "cell_type": "markdown",
   "metadata": {},
   "source": [
    "```python\n",
    "descr.__get__(self, obj, type=None)  #  (returns) value\n",
    "\n",
    "descr.__set__(self, obj, value)      #  (returns) None\n",
    "\n",
    "descr.__delete__(self, obj)          #  (returns) None\n",
    "```"
   ]
  },
  {
   "cell_type": "markdown",
   "metadata": {},
   "source": [
    "#### Data Descriptors"
   ]
  },
  {
   "cell_type": "markdown",
   "metadata": {},
   "source": [
    "Descriptor which implement `__get__()` and `__set__()` are called `data descriptors`. They can override the default behavior when called as an attribute. "
   ]
  },
  {
   "cell_type": "markdown",
   "metadata": {},
   "source": [
    "#### Non Data Desciptors "
   ]
  },
  {
   "cell_type": "markdown",
   "metadata": {},
   "source": [
    "All other descriptors are called `non-data descriptors`. "
   ]
  },
  {
   "cell_type": "markdown",
   "metadata": {},
   "source": [
    "### Need of Descriptors"
   ]
  },
  {
   "cell_type": "markdown",
   "metadata": {},
   "source": [
    "As stated earlier, descriptors are used to implement `managed attributes`. What that means, is using descriptors we can customize an existing or create a custom attribute of the class. With `managed attributes`.\n",
    "\n",
    "Properties can do lot of the tasks which descriptors can do, what they cannot do is code reuse. They cannot be reused within another class or another property. Descriptors, on the other hand can be used multiple classes or attributes. "
   ]
  },
  {
   "cell_type": "markdown",
   "metadata": {},
   "source": [
    "### Creating descriptors"
   ]
  },
  {
   "cell_type": "markdown",
   "metadata": {},
   "source": [
    "Any class can be converted to descriptor when any of the `__get__()`, `__set__()` or `__delete__()` is implemented. Lets create few descriptors."
   ]
  },
  {
   "cell_type": "markdown",
   "metadata": {},
   "source": [
    "#### Creating descriptors using class methods"
   ]
  },
  {
   "cell_type": "markdown",
   "metadata": {},
   "source": [
    "#### `__set__`"
   ]
  },
  {
   "cell_type": "markdown",
   "metadata": {},
   "source": [
    "It is used for setting the value of the descriptor. "
   ]
  },
  {
   "cell_type": "code",
   "execution_count": 1,
   "metadata": {},
   "outputs": [],
   "source": [
    "class Temprature(object):\n",
    "    def __init__(self, name):\n",
    "        self.name = name\n",
    "        \n",
    "    def __set__(self, instance, value):\n",
    "        \"\"\"\n",
    "        instance: Obj\n",
    "        value: <float/int>C / <float/int>F : e.g. 10.2C, 10.2 C, 33.6 F\n",
    "        \"\"\"\n",
    "        print(\"__set__\")\n",
    "        if value.endswith(\"c\"):\n",
    "            instance.__dict__[self.name] = (int(value[:-1].strip())* 9/5) + 32\n",
    "        else:\n",
    "            instance.__dict__[self.name] = int(value[:-1].strip())\n",
    "        \n",
    "class Thermometer(object):\n",
    "    # Have to do it at Class level and not at object \n",
    "    # (so, not at  __init__ )\n",
    "    temp = Temprature('temp')\n",
    "\n",
    "    def display(self):\n",
    "        return self.temp"
   ]
  },
  {
   "cell_type": "code",
   "execution_count": 2,
   "metadata": {},
   "outputs": [
    {
     "name": "stdout",
     "output_type": "stream",
     "text": [
      "{}\n",
      "__set__\n",
      "68.0 68.0\n"
     ]
    }
   ],
   "source": [
    "t = Thermometer()\n",
    "print(t.__dict__)\n",
    "t.temp = \"20c\"\n",
    "\n",
    "print(t.display(), t.temp)"
   ]
  },
  {
   "cell_type": "code",
   "execution_count": 3,
   "metadata": {},
   "outputs": [
    {
     "name": "stdout",
     "output_type": "stream",
     "text": [
      "{}\n",
      "__set__\n",
      "30 30\n"
     ]
    }
   ],
   "source": [
    "t = Thermometer()\n",
    "print(t.__dict__)\n",
    "t.temp = \"30 F\"\n",
    "\n",
    "print(t.display(), t.temp)"
   ]
  },
  {
   "cell_type": "code",
   "execution_count": 4,
   "metadata": {},
   "outputs": [
    {
     "name": "stdout",
     "output_type": "stream",
     "text": [
      "{}\n",
      "__set__\n",
      "<__main__.Temprature object at 0x109a65550> 68.0\n",
      "{'temp_in_f': 68.0}\n"
     ]
    }
   ],
   "source": [
    "class Temprature(object):\n",
    "    def __init__(self, name):\n",
    "        self.name = name\n",
    "        \n",
    "    def __set__(self, instance, value):\n",
    "        print(\"__set__\")\n",
    "        if value.endswith(\"c\"):\n",
    "            instance.__dict__[self.name] = (int(value[:-1])* 9/5) + 32\n",
    "        else:\n",
    "            instance.__dict__[self.name] = int(value[:-1])\n",
    "        \n",
    "class Thermometer(object):\n",
    "    # Setting the name to something other than attribute name\n",
    "    temp = Temprature('temp_in_f')\n",
    "\n",
    "    def display(self):\n",
    "        return self.temp\n",
    "\n",
    "t = Thermometer()\n",
    "print(t.__dict__)\n",
    "t.temp = \"20c\"\n",
    "\n",
    "print(t.display(), t.temp_in_f)\n",
    "print(t.__dict__)"
   ]
  },
  {
   "cell_type": "code",
   "execution_count": 5,
   "metadata": {},
   "outputs": [
    {
     "name": "stdout",
     "output_type": "stream",
     "text": [
      "['__class__', '__delattr__', '__dict__', '__dir__', '__doc__', '__eq__', '__format__', '__ge__', '__getattribute__', '__gt__', '__hash__', '__init__', '__init_subclass__', '__le__', '__lt__', '__module__', '__ne__', '__new__', '__reduce__', '__reduce_ex__', '__repr__', '__setattr__', '__sizeof__', '__str__', '__subclasshook__', '__weakref__', 'display', 'temp', 'temp_in_f']\n"
     ]
    }
   ],
   "source": [
    "print(dir(t))"
   ]
  },
  {
   "cell_type": "markdown",
   "metadata": {},
   "source": [
    "#### `__get__`"
   ]
  },
  {
   "cell_type": "markdown",
   "metadata": {},
   "source": [
    "It allows to return the value of our custom attribute. We have taken our previous example and implemented the `__get__()`."
   ]
  },
  {
   "cell_type": "code",
   "execution_count": 6,
   "metadata": {},
   "outputs": [],
   "source": [
    "class Temprature(object):\n",
    "    def __init__(self, name):\n",
    "        self.name = name\n",
    "        \n",
    "    def __set__(self, instance, value):\n",
    "        print(\"__set__\")\n",
    "        if value.endswith(\" c\"):\n",
    "            instance.__dict__[self.name] = (int(value[:-1])* 9/5) + 32\n",
    "        else:\n",
    "            instance.__dict__[self.name] = int(value[:-1])\n",
    "        \n",
    "    def __get__(self, instance, obj):\n",
    "#         print(instance, obj)\n",
    "        print(\"inside __get__\")\n",
    "        return str(instance.__dict__[self.name]) + \" F\"\n",
    "    \n",
    "    \n",
    "class Thermometer(object):\n",
    "    temp = Temprature('temp')\n",
    "\n",
    "    def display(self):\n",
    "        return self.temp\n",
    "    \n",
    "    def update(self, val):\n",
    "        self.temp = val"
   ]
  },
  {
   "cell_type": "code",
   "execution_count": 7,
   "metadata": {},
   "outputs": [
    {
     "name": "stdout",
     "output_type": "stream",
     "text": [
      "__set__\n",
      "********************\n",
      "inside __get__\n",
      "68.0 F\n"
     ]
    }
   ],
   "source": [
    "t = Thermometer()\n",
    "\n",
    "t.temp = \"20 c\"\n",
    "print(\"*\"*20)\n",
    "print(t.temp)"
   ]
  },
  {
   "cell_type": "markdown",
   "metadata": {},
   "source": [
    "#### `__delete__`"
   ]
  },
  {
   "cell_type": "markdown",
   "metadata": {},
   "source": [
    "$$TODO$$"
   ]
  },
  {
   "cell_type": "code",
   "execution_count": 8,
   "metadata": {},
   "outputs": [],
   "source": [
    "class Temprature(object):\n",
    "    def __init__(self, name):\n",
    "        self.name = name\n",
    "        \n",
    "    def __set__(self, instance, value):\n",
    "        print(\"__set__\")\n",
    "        if value.endswith(\" c\"):\n",
    "            instance.__dict__[self.name] = (int(value[:-1])* 9/5) + 32\n",
    "        else:\n",
    "            instance.__dict__[self.name] = int(value[:-1])\n",
    "        \n",
    "    def __get__(self, instance, obj):\n",
    "#         print(instance, obj)\n",
    "        print(\"inside __get__\")\n",
    "        return str(instance.__dict__[self.name]) + \" F\"\n",
    "    \n",
    "    \n",
    "class Thermometer(object):\n",
    "    temp = Temprature('temp')\n",
    "\n",
    "    def display(self):\n",
    "        return self.temp\n",
    "    \n",
    "    def update(self, val):\n",
    "        self.temp = val"
   ]
  },
  {
   "cell_type": "code",
   "execution_count": 10,
   "metadata": {},
   "outputs": [
    {
     "name": "stdout",
     "output_type": "stream",
     "text": [
      "__set__\n",
      "********************\n",
      "inside __get__\n",
      "68.0 F {'temp': 68.0}\n",
      "__delete__\n"
     ]
    }
   ],
   "source": [
    "t = Thermometer()\n",
    "\n",
    "t.temp = \"20 c\"\n",
    "print(\"*\"*20)\n",
    "print(t.display(), t.__dict__)\n",
    "### !!! ERROR !!!\n",
    "try:\n",
    "    del(t.temp)\n",
    "    print(t.__dict__())\n",
    "except Exception as e:\n",
    "    print(e)"
   ]
  }
 ],
 "metadata": {
  "kernelspec": {
   "display_name": "Python 3",
   "language": "python",
   "name": "python3"
  },
  "language_info": {
   "codemirror_mode": {
    "name": "ipython",
    "version": 3
   },
   "file_extension": ".py",
   "mimetype": "text/x-python",
   "name": "python",
   "nbconvert_exporter": "python",
   "pygments_lexer": "ipython3",
   "version": "3.7.4"
  }
 },
 "nbformat": 4,
 "nbformat_minor": 2
}
