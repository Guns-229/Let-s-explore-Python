{
 "cells": [
  {
   "cell_type": "markdown",
   "metadata": {},
   "source": [
    "# ABC - Abstract Base Class"
   ]
  },
  {
   "cell_type": "markdown",
   "metadata": {},
   "source": [
    "Abstract base classes are a form of interface checking more strict than individual `hasattr()` checks for particular methods. By defining an abstract base class, you can define a common API for a set of subclasses. This capability is especially useful in situations where a third-party is going to provide implementations, such as with plugins to an application, but can also aid you when working on a large team or with a large code-base where keeping all classes in your head at the same time is difficult or not possible."
   ]
  },
  {
   "cell_type": "markdown",
   "metadata": {},
   "source": [
    "## How ABCs Work\n"
   ]
  },
  {
   "cell_type": "code",
   "execution_count": 1,
   "metadata": {},
   "outputs": [],
   "source": [
    "from abc import ABCMeta, abstractmethod\n",
    "\n",
    "\n",
    "class Mammal(metaclass=ABCMeta):\n",
    "    ## version 2.x ##     __metaclass__=ABCMeta\n",
    "    \n",
    "    @abstractmethod\n",
    "    def eyes(self, val):\n",
    "        pass\n",
    "    \n",
    "    def hair(self):\n",
    "        print(\"hair\")\n",
    "    \n",
    "    def neocortex(self):\n",
    "        \"\"\"a part of the cerebral cortex concerned with sight and hearing in mammals, \n",
    "        regarded as the most recently evolved part of the cortex.\"\"\"\n",
    "        print(\"neocortex\")\n",
    "    \n",
    "class Human(Mammal):\n",
    "    def eyes(self, val):\n",
    "        self.eye_color = val\n",
    "        print(\"human eyes are {}\".format(val))"
   ]
  },
  {
   "cell_type": "code",
   "execution_count": 2,
   "metadata": {},
   "outputs": [
    {
     "name": "stdout",
     "output_type": "stream",
     "text": [
      "human eyes are red\n"
     ]
    }
   ],
   "source": [
    "human = Human()\n",
    "human.eyes(\"red\")"
   ]
  },
  {
   "cell_type": "code",
   "execution_count": 3,
   "metadata": {},
   "outputs": [
    {
     "name": "stdout",
     "output_type": "stream",
     "text": [
      "{'eye_color': 'red'}\n"
     ]
    }
   ],
   "source": [
    "print(human.__dict__)"
   ]
  },
  {
   "cell_type": "code",
   "execution_count": 4,
   "metadata": {},
   "outputs": [
    {
     "name": "stdout",
     "output_type": "stream",
     "text": [
      "['__abstractmethods__', '__class__', '__delattr__', '__dict__', '__dir__', '__doc__', '__eq__', '__format__', '__ge__', '__getattribute__', '__gt__', '__hash__', '__init__', '__init_subclass__', '__le__', '__lt__', '__module__', '__ne__', '__new__', '__reduce__', '__reduce_ex__', '__repr__', '__setattr__', '__sizeof__', '__str__', '__subclasshook__', '__weakref__', '_abc_impl', 'eye_color', 'eyes', 'hair', 'neocortex']\n"
     ]
    }
   ],
   "source": [
    "print(dir(human))"
   ]
  },
  {
   "cell_type": "code",
   "execution_count": 5,
   "metadata": {},
   "outputs": [
    {
     "name": "stdout",
     "output_type": "stream",
     "text": [
      "Can't instantiate abstract class Mammal with abstract methods eyes\n"
     ]
    }
   ],
   "source": [
    "# Objects of abstract class is not possible\n",
    "try:\n",
    "    m = Mammal()\n",
    "except TypeError as te:\n",
    "    print(te)"
   ]
  },
  {
   "cell_type": "code",
   "execution_count": 6,
   "metadata": {},
   "outputs": [
    {
     "name": "stdout",
     "output_type": "stream",
     "text": [
      "Can't instantiate abstract class Fish with abstract methods eyes\n"
     ]
    }
   ],
   "source": [
    "### !!! Gotcha !!!\n",
    "class Fish(Mammal):\n",
    "    pass\n",
    "\n",
    "try:\n",
    "    fish = Fish()\n",
    "except TypeError as te:\n",
    "    print(te)"
   ]
  },
  {
   "cell_type": "code",
   "execution_count": 7,
   "metadata": {},
   "outputs": [
    {
     "name": "stdout",
     "output_type": "stream",
     "text": [
      "Hello, My eyes are green\n"
     ]
    }
   ],
   "source": [
    "class Shark(Fish):\n",
    "    def eyes(self, val):\n",
    "        print(\"Hello, My eyes are {}\".format(val))\n",
    "\n",
    "s = Shark()\n",
    "s.eyes(\"green\")"
   ]
  },
  {
   "cell_type": "code",
   "execution_count": 8,
   "metadata": {},
   "outputs": [
    {
     "name": "stdout",
     "output_type": "stream",
     "text": [
      "Can't instantiate abstract class Fish with abstract methods eyes\n"
     ]
    }
   ],
   "source": [
    "### !!! Gotcha !!!, To find the reason\n",
    "class Fish(Mammal):\n",
    "    pass\n",
    "\n",
    "def eye(self, val):\n",
    "    print(val)\n",
    "\n",
    "try:\n",
    "    Fish.eyes = eye\n",
    "    fish = Fish()\n",
    "except TypeError as te:\n",
    "    print(te)"
   ]
  },
  {
   "cell_type": "code",
   "execution_count": 9,
   "metadata": {},
   "outputs": [],
   "source": [
    "# Yes, we can create an abstract class with no abstract attributes, \n",
    "# but why will you do it? \n",
    "\n",
    "from abc import ABCMeta, abstractmethod\n",
    "\n",
    "\n",
    "class Mammal(metaclass=ABCMeta):\n",
    "    pass"
   ]
  },
  {
   "cell_type": "code",
   "execution_count": 10,
   "metadata": {},
   "outputs": [
    {
     "name": "stdout",
     "output_type": "stream",
     "text": [
      "<__main__.Mammal object at 0x108699710>\n"
     ]
    }
   ],
   "source": [
    "d = Mammal()\n",
    "print(d)"
   ]
  },
  {
   "cell_type": "code",
   "execution_count": 11,
   "metadata": {},
   "outputs": [
    {
     "name": "stdout",
     "output_type": "stream",
     "text": [
      "TEST\n"
     ]
    }
   ],
   "source": [
    "# Yes, you can create a normal class with abstact method,\n",
    "# !!! Gotcha !!!\n",
    "\n",
    "class Test(object):\n",
    "    @abstractmethod\n",
    "    def test(self):\n",
    "        print(\"TEST\")\n",
    "    \n",
    "t = Test()\n",
    "t.test()"
   ]
  },
  {
   "cell_type": "code",
   "execution_count": 12,
   "metadata": {},
   "outputs": [
    {
     "name": "stdout",
     "output_type": "stream",
     "text": [
      "Subclass: False\n"
     ]
    }
   ],
   "source": [
    "print ('Subclass:', issubclass(Human, Mammal))"
   ]
  },
  {
   "cell_type": "code",
   "execution_count": 13,
   "metadata": {},
   "outputs": [
    {
     "name": "stdout",
     "output_type": "stream",
     "text": [
      "Instance: False\n",
      "Instance: False\n"
     ]
    }
   ],
   "source": [
    "print ('Instance:', isinstance(Human(), Mammal))\n",
    "print ('Instance:', isinstance(human, Mammal))"
   ]
  },
  {
   "cell_type": "markdown",
   "metadata": {},
   "source": [
    "** NOTE ** \n",
    "\n",
    "* **issubclass**: Return true if class is a subclass (direct, indirect or virtual) of classinfo. A class is considered a subclass of itself. classinfo may be a tuple of class objects, in which case every entry in classinfo will be checked. In any other case, a TypeError exception is raised.\n",
    "\n",
    "* **isinstance**: Return true if the object argument is an instance of the classinfo argument, or of a (direct, indirect or virtual) subclass thereof. Also return true if classinfo is a type object (new-style class) and object is an object of that type or of a (direct, indirect or virtual) subclass thereof. If object is not a class instance or an object of the given type, the function always returns false. If classinfo is a tuple of class or type objects (or recursively, other such tuples), return true if object is an instance of any of the classes or types. If classinfo is not a class, type, or tuple of classes, types, and such tuples, a TypeError exception is raised."
   ]
  },
  {
   "cell_type": "markdown",
   "metadata": {},
   "source": [
    "## Registering the child class"
   ]
  },
  {
   "cell_type": "code",
   "execution_count": 14,
   "metadata": {},
   "outputs": [
    {
     "name": "stdout",
     "output_type": "stream",
     "text": [
      "Subclass: False\n",
      "Subclass: True\n"
     ]
    }
   ],
   "source": [
    "from abc import ABCMeta, abstractmethod\n",
    "\n",
    "\n",
    "class Mammal(metaclass=ABCMeta):\n",
    "    \n",
    "    @abstractmethod\n",
    "    def eyes(self, val):\n",
    "        raise NotImplementedError()\n",
    "\n",
    "    def hair(self):\n",
    "        print(\"hair\")\n",
    "    \n",
    "    def neocortex(self):\n",
    "        \"\"\"a part of the cerebral cortex concerned with sight and hearing in mammals, \n",
    "        regarded as the most recently evolved part of the cortex.\"\"\"\n",
    "        print(\"neocortex\")\n",
    "    \n",
    "class Human(object):\n",
    "    def eyes(self, val):\n",
    "        print(\"human eyes: \", val)\n",
    "\n",
    "print ('Subclass:', issubclass(Human, Mammal))        \n",
    "Mammal.register(Human)\n",
    "print ('Subclass:', issubclass(Human, Mammal))      "
   ]
  },
  {
   "cell_type": "code",
   "execution_count": 15,
   "metadata": {},
   "outputs": [
    {
     "name": "stdout",
     "output_type": "stream",
     "text": [
      "Instance: True\n",
      "human eyes:  Hazel\n"
     ]
    }
   ],
   "source": [
    "c = Human()\n",
    "print ('Instance:', isinstance(c, Mammal))\n",
    "c.eyes(\"Hazel\")"
   ]
  },
  {
   "cell_type": "markdown",
   "metadata": {},
   "source": [
    "### What is `metaclass`"
   ]
  },
  {
   "cell_type": "markdown",
   "metadata": {},
   "source": []
  },
  {
   "cell_type": "markdown",
   "metadata": {},
   "source": [
    "## Implementation Through Subclassing\n",
    "----"
   ]
  },
  {
   "cell_type": "code",
   "execution_count": 16,
   "metadata": {},
   "outputs": [
    {
     "name": "stdout",
     "output_type": "stream",
     "text": [
      "Subclass: True\n",
      "Instance: True\n",
      "Instance: True\n",
      "human eyes\n"
     ]
    }
   ],
   "source": [
    "from abc import ABCMeta, abstractmethod\n",
    "\n",
    "\n",
    "class Mammal(metaclass=ABCMeta):\n",
    "## version 2.x ##     __metaclass__=ABCMeta\n",
    "    \n",
    "    @abstractmethod\n",
    "    def eyes(self, val):\n",
    "        raise NotImplementedError()\n",
    "    \n",
    "    def hair(self):\n",
    "        print(\"hair\")\n",
    "    \n",
    "    def neocortex(self):\n",
    "        \"\"\"a part of the cerebral cortex concerned with sight and hearing in mammals, \n",
    "        regarded as the most recently evolved part of the cortex.\"\"\"\n",
    "        print(\"neocortex\")\n",
    "\n",
    "class Human(Mammal):\n",
    "    def eyes(self, val):\n",
    "        print(\"human eyes\")\n",
    "\n",
    "print ('Subclass:', issubclass(Human, Mammal))\n",
    "print ('Instance:', isinstance(Human(), Mammal))\n",
    "c = Human()\n",
    "print ('Instance:', isinstance(c, Mammal))\n",
    "c.eyes(\"Gray\")"
   ]
  },
  {
   "cell_type": "markdown",
   "metadata": {},
   "source": [
    "### Abstract Method Continued"
   ]
  },
  {
   "cell_type": "code",
   "execution_count": 17,
   "metadata": {},
   "outputs": [
    {
     "name": "stdout",
     "output_type": "stream",
     "text": [
      "Subclass: True\n",
      "Instance: True\n",
      "Instance: True\n",
      "in human eyes\n",
      "Eyes color: Green\n",
      "human eyes: Green\n"
     ]
    }
   ],
   "source": [
    "from abc import ABCMeta, abstractmethod\n",
    "\n",
    "\n",
    "class Mammal(metaclass=ABCMeta):\n",
    "## version 2.x ##     __metaclass__=ABCMeta\n",
    "    \n",
    "    @abstractmethod\n",
    "    def eyes(self, color):\n",
    "        # Partial logic in abstract method\n",
    "        self.color = color\n",
    "        print(\"Eyes color:\", self.color)\n",
    "\n",
    "    def hair(self):\n",
    "        print(\"hair\")\n",
    "    \n",
    "    def neocortex(self):\n",
    "        \"\"\"a part of the cerebral cortex concerned with sight and hearing in mammals, \n",
    "        regarded as the most recently evolved part of the cortex.\"\"\"\n",
    "        print(\"neocortex\")\n",
    "\n",
    "\n",
    "class Human(Mammal):\n",
    "    def eyes(self, val):\n",
    "        print(\"in human eyes\")\n",
    "        super(Human, self).eyes(val)\n",
    "        \n",
    "        # remaining logic\n",
    "        print(\"human eyes:\", self.color)\n",
    "\n",
    "\n",
    "print ('Subclass:', issubclass(Human, Mammal))\n",
    "print ('Instance:', isinstance(Human(), Mammal))\n",
    "c = Human()\n",
    "print ('Instance:', isinstance(c, Mammal))\n",
    "c.eyes(\"Green\")"
   ]
  },
  {
   "cell_type": "markdown",
   "metadata": {},
   "source": [
    "## Abstract Properties\n",
    "----\n",
    "`abc` provides `@abstractproperty` decorator to abstract properties."
   ]
  },
  {
   "cell_type": "code",
   "execution_count": 18,
   "metadata": {},
   "outputs": [],
   "source": [
    "from abc import ABCMeta, abstractmethod, abstractproperty\n",
    "\n",
    "\n",
    "class Base(metaclass=ABCMeta):\n",
    "    \n",
    "    @abstractproperty\n",
    "    def value(self):\n",
    "        return 'Should never get here'\n",
    "\n",
    "\n",
    "class Implementation(Base):\n",
    "    @property\n",
    "    def value(self):\n",
    "        return 'implemented property'"
   ]
  },
  {
   "cell_type": "code",
   "execution_count": 19,
   "metadata": {},
   "outputs": [
    {
     "name": "stdout",
     "output_type": "stream",
     "text": [
      "Implementation.value: implemented property\n"
     ]
    }
   ],
   "source": [
    "i = Implementation()\n",
    "print ('Implementation.value:', i.value)"
   ]
  },
  {
   "cell_type": "code",
   "execution_count": 20,
   "metadata": {},
   "outputs": [],
   "source": [
    "import abc\n",
    "\n",
    "class Base(metaclass=abc.ABCMeta):\n",
    "    \n",
    "    @abc.abstractproperty\n",
    "    def value(self):\n",
    "        return 'Should never see this'\n",
    "\n",
    "class Implementation(Base):\n",
    "    _value = 'Default value'\n",
    "    \n",
    "    @property\n",
    "    def value(self):\n",
    "        return self._value\n",
    "\n",
    "    @value.setter\n",
    "    def value(self, newvalue):\n",
    "        self._value = newvalue"
   ]
  },
  {
   "cell_type": "code",
   "execution_count": 21,
   "metadata": {},
   "outputs": [
    {
     "name": "stdout",
     "output_type": "stream",
     "text": [
      "Implementation.value: Default value\n",
      "Changed value: New value\n"
     ]
    }
   ],
   "source": [
    "i = Implementation()\n",
    "print ('Implementation.value:', i.value)\n",
    "\n",
    "i.value = 'New value'\n",
    "print ('Changed value:', i.value)"
   ]
  },
  {
   "cell_type": "markdown",
   "metadata": {},
   "source": [
    "#### NOTE #####\n",
    "For Python 2, that means assigning it to the __metaclass__ attribute on the class:\n",
    "```python\n",
    "class CVIterator(object):\n",
    "    __metaclass__ = ABCMeta\n",
    "\n",
    "    def __init__(self):\n",
    "        self.n = None # the value of n is obtained in the fit method\n",
    "```\n",
    "In Python 3, you'd use the metaclass=... syntax when defining the class:\n",
    "```python\n",
    "class CVIterator(metaclass=ABCMeta):\n",
    "    def __init__(self):\n",
    "        self.n = None # the value of n is obtained in the fit method\n",
    "```"
   ]
  },
  {
   "cell_type": "markdown",
   "metadata": {
    "collapsed": true
   },
   "source": [
    "### The __metaclass__ attribute\n",
    "\n",
    "The __metaclass__ attribute was introduced to give the programmer some control over the semantics of the class statement"
   ]
  }
 ],
 "metadata": {
  "anaconda-cloud": {},
  "kernelspec": {
   "display_name": "Python 3",
   "language": "python",
   "name": "python3"
  },
  "language_info": {
   "codemirror_mode": {
    "name": "ipython",
    "version": 3
   },
   "file_extension": ".py",
   "mimetype": "text/x-python",
   "name": "python",
   "nbconvert_exporter": "python",
   "pygments_lexer": "ipython3",
   "version": "3.8.0"
  }
 },
 "nbformat": 4,
 "nbformat_minor": 1
}
