{
 "cells": [
  {
   "cell_type": "markdown",
   "metadata": {},
   "source": [
    "# OOPS Fundamentals \n",
    "----\n",
    "## What is Inheritance?\n",
    "\n",
    "Inheritance is used to indicate that one class will get most or all of its features from a parent class. This happens implicitly whenever you write class Foo(Bar), which says \"Make a class Foo that inherits from Bar.\" When you do this, the language makes any action that you do on instances of Foo also work as if they were done to an instance of Bar. Doing this lets you put common functionality in the Bar class, then specialize that functionality in the Foo class as needed.\n",
    "\n",
    "When you are doing this kind of specialization, there are three ways that the parent and child classes can interact:\n",
    "\n",
    "* Actions on the child imply an action on the parent.\n",
    "* Actions on the child override the action on the parent.\n",
    "* Actions on the child alter the action on the parent.\n",
    "\n",
    "Also to note:\n",
    "\n",
    "- **Implicit Inheritance**: when you define a function in the parent, but not in the child. \n",
    "- **Override Explicitly**: when you define a function in the parent, and also in the child. "
   ]
  },
  {
   "cell_type": "code",
   "execution_count": 1,
   "metadata": {},
   "outputs": [
    {
     "name": "stdout",
     "output_type": "stream",
     "text": [
      "Child init\n"
     ]
    }
   ],
   "source": [
    "# Example 1:\n",
    "class Parent(object):\n",
    "    def __init__(self):\n",
    "        print(\"Parent init\")\n",
    "    \n",
    "class Child(Parent):\n",
    "    def __init__(self):\n",
    "        print(\"Child init\")\n",
    "\n",
    "child = Child()"
   ]
  },
  {
   "cell_type": "code",
   "execution_count": 2,
   "metadata": {},
   "outputs": [
    {
     "name": "stdout",
     "output_type": "stream",
     "text": [
      "Parent init\n"
     ]
    }
   ],
   "source": [
    "# Example 2:\n",
    "class Parent(object):\n",
    "    def __init__(self):\n",
    "        print(\"Parent init\")\n",
    "\n",
    "class Child(Parent):\n",
    "    pass\n",
    "        \n",
    "\n",
    "child = Child()"
   ]
  },
  {
   "cell_type": "code",
   "execution_count": 8,
   "metadata": {},
   "outputs": [],
   "source": [
    "class Parent(object):\n",
    "    def __init__(self):\n",
    "        print(\"Parent init\")\n",
    "\n",
    "    def override(self):\n",
    "        print( \"PARENT override()\")\n",
    "\n",
    "    def implicit(self):\n",
    "        print (\"PARENT implicit()\")\n",
    "\n",
    "\n",
    "class Child(Parent):\n",
    "    def __init__(self):\n",
    "        print(\"Child init\")\n",
    "        \n",
    "    def override(self):\n",
    "        print (\"CHILD override()\")"
   ]
  },
  {
   "cell_type": "code",
   "execution_count": 5,
   "metadata": {
    "scrolled": true
   },
   "outputs": [
    {
     "name": "stdout",
     "output_type": "stream",
     "text": [
      "Child init\n"
     ]
    }
   ],
   "source": [
    "child = Child()"
   ]
  },
  {
   "cell_type": "code",
   "execution_count": 6,
   "metadata": {},
   "outputs": [
    {
     "name": "stdout",
     "output_type": "stream",
     "text": [
      "PARENT implicit()\n"
     ]
    }
   ],
   "source": [
    "child.implicit()"
   ]
  },
  {
   "cell_type": "code",
   "execution_count": 9,
   "metadata": {},
   "outputs": [
    {
     "name": "stdout",
     "output_type": "stream",
     "text": [
      "CHILD override()\n"
     ]
    }
   ],
   "source": [
    "child.override()"
   ]
  },
  {
   "cell_type": "code",
   "execution_count": 23,
   "metadata": {},
   "outputs": [],
   "source": [
    "class Parent:\n",
    "    def __init__(self):\n",
    "        print(\"Parent init\")\n",
    "        \n",
    "    def override(self, x=0):\n",
    "        self.x = x\n",
    "        print( \"PARENT override()\")\n",
    "\n",
    "    def altered(self):\n",
    "        print (\"PARENT altered()\", self.x)\n",
    "\n",
    "class Child(Parent):\n",
    "    def __init__(self):\n",
    "        print(\"Child init\")\n",
    "\n",
    "    def altered(self):\n",
    "        print (\"CHILD, altered() Start\")\n",
    "        print(self.x)\n",
    "        print (\"CHILD, altered() End\")"
   ]
  },
  {
   "cell_type": "code",
   "execution_count": 24,
   "metadata": {},
   "outputs": [
    {
     "name": "stdout",
     "output_type": "stream",
     "text": [
      "Child init\n",
      "Child init\n"
     ]
    }
   ],
   "source": [
    "c, d = Child(), Child()"
   ]
  },
  {
   "cell_type": "code",
   "execution_count": 25,
   "metadata": {},
   "outputs": [
    {
     "name": "stdout",
     "output_type": "stream",
     "text": [
      "PARENT override()\n"
     ]
    }
   ],
   "source": [
    "c.override(100)"
   ]
  },
  {
   "cell_type": "code",
   "execution_count": 26,
   "metadata": {},
   "outputs": [
    {
     "name": "stdout",
     "output_type": "stream",
     "text": [
      "{'x': 100}\n",
      "{}\n"
     ]
    }
   ],
   "source": [
    "print(c.__dict__)\n",
    "print(d.__dict__)"
   ]
  },
  {
   "cell_type": "code",
   "execution_count": 27,
   "metadata": {},
   "outputs": [
    {
     "name": "stdout",
     "output_type": "stream",
     "text": [
      "CHILD, altered() Start\n",
      "100\n",
      "CHILD, altered() End\n"
     ]
    }
   ],
   "source": [
    "c.altered()"
   ]
  },
  {
   "cell_type": "code",
   "execution_count": 28,
   "metadata": {},
   "outputs": [
    {
     "name": "stdout",
     "output_type": "stream",
     "text": [
      "CHILD, altered() Start\n",
      "'Child' object has no attribute 'x'\n"
     ]
    }
   ],
   "source": [
    "try:\n",
    "    d.altered()\n",
    "except Exception as e:\n",
    "    print(e)"
   ]
  },
  {
   "cell_type": "code",
   "execution_count": 29,
   "metadata": {},
   "outputs": [
    {
     "name": "stdout",
     "output_type": "stream",
     "text": [
      "PARENT override()\n",
      "CHILD, altered() Start\n",
      "20\n",
      "CHILD, altered() End\n",
      "20 100\n"
     ]
    }
   ],
   "source": [
    "d.override(20)\n",
    "try:\n",
    "    d.altered()\n",
    "    print(d.x, c.x)\n",
    "except Exception as e:\n",
    "    print(e)"
   ]
  },
  {
   "cell_type": "code",
   "execution_count": 31,
   "metadata": {},
   "outputs": [],
   "source": [
    "# Another Bad example. \n",
    "\n",
    "class Parent:\n",
    "    x = [10]   # Reason for it being a bad example.\n",
    "\n",
    "    def update(self, val):\n",
    "        self.x.append(val)\n",
    "    \n",
    "class Child(Parent):\n",
    "    def altered(self):\n",
    "        p = super(Child, self)\n",
    "        print(type(p))\n",
    "        print (\"CHILD, BEFORE PARENT altered()\")\n",
    "        p.altered()\n",
    "        print (\"CHILD, AFTER PARENT altered()\")"
   ]
  },
  {
   "cell_type": "code",
   "execution_count": 32,
   "metadata": {},
   "outputs": [
    {
     "name": "stdout",
     "output_type": "stream",
     "text": [
      "[10]\n",
      "[10]\n"
     ]
    }
   ],
   "source": [
    "child1 = Child()\n",
    "child2 = Child()\n",
    "\n",
    "print(child1.x)\n",
    "print(child2.x)"
   ]
  },
  {
   "cell_type": "code",
   "execution_count": 33,
   "metadata": {},
   "outputs": [],
   "source": [
    "child1.x.append(2000)"
   ]
  },
  {
   "cell_type": "code",
   "execution_count": 36,
   "metadata": {},
   "outputs": [
    {
     "name": "stdout",
     "output_type": "stream",
     "text": [
      "[10, 2000] 4355523200\n",
      "[10, 2000] 4355523200\n"
     ]
    }
   ],
   "source": [
    "print(child1.x, id(child1.x))\n",
    "print(child2.x, id(child2.x))"
   ]
  },
  {
   "cell_type": "code",
   "execution_count": 37,
   "metadata": {},
   "outputs": [],
   "source": [
    "# # Bit better example but not good examples. \n",
    "\n",
    "class Parent:\n",
    "    def __init__(self):\n",
    "        self.x = [10]\n",
    "    \n",
    "    def update(self, val):\n",
    "        self.x.append(val)\n",
    "    \n",
    "class Child(Parent):\n",
    "    def __init__(self):\n",
    "        super(Child, self).__init__()\n",
    "\n",
    "    def altered(self):\n",
    "        print(type(self.p))\n",
    "        print (\"CHILD, BEFORE PARENT altered()\")\n",
    "#         self.p.altered()\n",
    "        print (\"CHILD, AFTER PARENT altered()\")"
   ]
  },
  {
   "cell_type": "code",
   "execution_count": 39,
   "metadata": {},
   "outputs": [],
   "source": [
    "child1 = Child()\n",
    "child2 = Child()\n",
    "\n",
    "child1.update(100)"
   ]
  },
  {
   "cell_type": "code",
   "execution_count": 40,
   "metadata": {},
   "outputs": [
    {
     "name": "stdout",
     "output_type": "stream",
     "text": [
      "[10, 100]\n",
      "[10]\n"
     ]
    }
   ],
   "source": [
    "print(child1.x)\n",
    "print(child2.x)"
   ]
  },
  {
   "cell_type": "code",
   "execution_count": 44,
   "metadata": {},
   "outputs": [],
   "source": [
    "# Problem of seperate init\n",
    "\n",
    "class Parent:\n",
    "    def __init__(self, title):\n",
    "        self.title = tile\n",
    "    \n",
    "    def display(self, val):\n",
    "        print(self.title, val)\n",
    "\n",
    "class Child(Parent):\n",
    "    def __init__(self, name):\n",
    "        self.name = name\n",
    "        \n",
    "    def username(self):\n",
    "        print(self.name)"
   ]
  },
  {
   "cell_type": "code",
   "execution_count": 46,
   "metadata": {},
   "outputs": [
    {
     "name": "stdout",
     "output_type": "stream",
     "text": [
      "'Child' object has no attribute 'title'\n"
     ]
    }
   ],
   "source": [
    "\n",
    "try:\n",
    "    ch = Child(\"Rahul\")\n",
    "    ch.display(\"Johri\")\n",
    "except Exception as e:\n",
    "    print(e)"
   ]
  },
  {
   "cell_type": "code",
   "execution_count": 57,
   "metadata": {},
   "outputs": [],
   "source": [
    "# Problem of seperate init\n",
    "\n",
    "class Parent:\n",
    "    def __init__(self, title):\n",
    "        print(\"Running parent __init__\")\n",
    "        self.title = title\n",
    "    \n",
    "    def display(self):\n",
    "        print(self.title)\n",
    "        \n",
    "    def username(self):\n",
    "        print(\"In parent username\")\n",
    "    \n",
    "class Child(Parent):\n",
    "    def __init__(self, name, title):\n",
    "        print(\"Running Child __init__\")\n",
    "        self.name = name\n",
    "        super(Child, self).__init__(title)\n",
    "        \n",
    "    def username(self):\n",
    "        \"\"\"\n",
    "        Solution to call parent function explicitly. \n",
    "        \"\"\"\n",
    "        print(self.name)\n",
    "        super(Child, self).username()"
   ]
  },
  {
   "cell_type": "code",
   "execution_count": 54,
   "metadata": {},
   "outputs": [
    {
     "name": "stdout",
     "output_type": "stream",
     "text": [
      "Running Child init\n",
      "Running parent __init__\n",
      "Running Child init\n",
      "Running parent __init__\n"
     ]
    }
   ],
   "source": [
    "child1 = Child(\"Roshan\", \"MSI Interview Questions\")\n",
    "child2 = Child(\"Anuja\", \"AI and us\")"
   ]
  },
  {
   "cell_type": "code",
   "execution_count": 55,
   "metadata": {},
   "outputs": [
    {
     "name": "stdout",
     "output_type": "stream",
     "text": [
      "MSI Interview Questions\n"
     ]
    }
   ],
   "source": [
    "child1.display()"
   ]
  },
  {
   "cell_type": "code",
   "execution_count": 26,
   "metadata": {},
   "outputs": [
    {
     "name": "stdout",
     "output_type": "stream",
     "text": [
      "Anuja\n",
      "AI and us\n"
     ]
    }
   ],
   "source": [
    "child2.username()"
   ]
  },
  {
   "cell_type": "code",
   "execution_count": 27,
   "metadata": {},
   "outputs": [
    {
     "name": "stdout",
     "output_type": "stream",
     "text": [
      "AI and us\n"
     ]
    }
   ],
   "source": [
    "child2.display()"
   ]
  },
  {
   "cell_type": "markdown",
   "metadata": {},
   "source": [
    "#### Immutable data"
   ]
  },
  {
   "cell_type": "code",
   "execution_count": 21,
   "metadata": {},
   "outputs": [
    {
     "name": "stdout",
     "output_type": "stream",
     "text": [
      "100\n",
      "10\n"
     ]
    }
   ],
   "source": [
    "# Bit better example but not good examples. \n",
    "\n",
    "class Parent:\n",
    "    x = 10\n",
    "    def override(self):\n",
    "        print( \"PARENT override()\")\n",
    "\n",
    "    def altered(self):\n",
    "        print (\"PARENT altered()\")\n",
    "    \n",
    "    def update(self, val):\n",
    "        self.x = val\n",
    "    \n",
    "class Child(Parent):\n",
    "\n",
    "    def override(self):\n",
    "        print (\"CHILD override()\")\n",
    "\n",
    "    def altered(self):\n",
    "        p = super(Child, self)\n",
    "        print(type(p))\n",
    "        print (\"CHILD, BEFORE PARENT altered()\")\n",
    "        p.altered()\n",
    "        print (\"CHILD, AFTER PARENT altered()\")\n",
    "\n",
    "dad = Parent()\n",
    "child1 = Child()\n",
    "child2 = Child()\n",
    "\n",
    "child1.update(100)\n",
    "print(child1.x)\n",
    "print(child2.x)"
   ]
  },
  {
   "cell_type": "code",
   "execution_count": 22,
   "metadata": {},
   "outputs": [
    {
     "name": "stdout",
     "output_type": "stream",
     "text": [
      "<class 'super'>\n",
      "CHILD, BEFORE PARENT altered()\n",
      "PARENT altered()\n",
      "CHILD, AFTER PARENT altered()\n"
     ]
    }
   ],
   "source": [
    "child2.altered()"
   ]
  },
  {
   "cell_type": "code",
   "execution_count": 26,
   "metadata": {},
   "outputs": [
    {
     "name": "stdout",
     "output_type": "stream",
     "text": [
      "100\n",
      "10\n"
     ]
    }
   ],
   "source": [
    "class Parent:\n",
    "    def __init__(self):\n",
    "        self.x = 10\n",
    "    \n",
    "    def update(self, val):\n",
    "        self.x = val\n",
    "    \n",
    "class Child(Parent):\n",
    "\n",
    "    def altered(self, val):\n",
    "        p = super(Child, self)\n",
    "        p.update(val)\n",
    "\n",
    "dad = Parent()\n",
    "child1 = Child()\n",
    "child2 = Child()\n",
    "\n",
    "child1.altered(100)\n",
    "print(child1.x)\n",
    "print(child2.x)"
   ]
  },
  {
   "cell_type": "markdown",
   "metadata": {},
   "source": [
    "## The Reason for `super()`\n",
    "\n",
    "This should seem like common sense, but then we get into trouble with a thing called multiple inheritance. Multiple inheritance is when you define a class that inherits from one or more classes, like this:\n",
    "```python\n",
    "class SuperFun(Child, BadStuff):\n",
    "    pass```\n",
    "\n",
    "This is like saying, \"Make a class named SuperFun that inherits from the classes Child and BadStuff at the same time.\"\n",
    "\n",
    "In this case, whenever you have implicit actions on any SuperFun instance, Python has to look-up the possible function in the class hierarchy for both Child and BadStuff, but it needs to do this in a consistent order. To do this Python uses \"method resolution order\" (MRO) and an algorithm called C3 to get it straight.\n",
    "\n",
    "Because the MRO is complex and a well-defined algorithm is used, Python can't leave it to you to get the MRO right. Instead, Python gives you the super() function, which handles all of this for you in the places that you need the altering type of actions as I did in Child.altered. With super() you don't have to worry about getting this right, and Python will find the right function for you.\n",
    "\n",
    "### Using super() with __init__\n",
    "The most common use of super() is actually in __init__ functions in base classes. This is usually the only place where you need to do some things in a child, then complete the initialization in the parent. Here's a quick example of doing that in the Child:\n",
    "\n",
    "```python\n",
    "class Child(Parent):\n",
    "\n",
    "    def __init__(self, stuff):\n",
    "        self.stuff = stuff\n",
    "        super(Child, self).__init__()\n",
    "```\n",
    "This is pretty much the same as the Child.altered example above, except I'm setting some variables in the __init__ before having the Parent initialize with its Parent.__init__."
   ]
  },
  {
   "cell_type": "code",
   "execution_count": 16,
   "metadata": {},
   "outputs": [],
   "source": [
    "class Parent:\n",
    "    def __init__(self):\n",
    "        print(\"Parent init\")\n",
    "        self.x = 10\n",
    "    \n",
    "    def update(self, val):\n",
    "        self.x = val"
   ]
  },
  {
   "cell_type": "code",
   "execution_count": 22,
   "metadata": {
    "scrolled": true
   },
   "outputs": [],
   "source": [
    "class Child(Parent):\n",
    "\n",
    "    def __init__(self, stuff):\n",
    "        print(\"child init\")\n",
    "        self.stuff = stuff\n",
    "        super(Child, self).__init__()"
   ]
  },
  {
   "cell_type": "code",
   "execution_count": 23,
   "metadata": {},
   "outputs": [
    {
     "name": "stdout",
     "output_type": "stream",
     "text": [
      "child init\n",
      "Parent init\n"
     ]
    }
   ],
   "source": [
    "c = Child(10)"
   ]
  }
 ],
 "metadata": {
  "anaconda-cloud": {},
  "kernelspec": {
   "display_name": "Python 3",
   "language": "python",
   "name": "python3"
  },
  "language_info": {
   "codemirror_mode": {
    "name": "ipython",
    "version": 3
   },
   "file_extension": ".py",
   "mimetype": "text/x-python",
   "name": "python",
   "nbconvert_exporter": "python",
   "pygments_lexer": "ipython3",
   "version": "3.8.2"
  }
 },
 "nbformat": 4,
 "nbformat_minor": 1
}
