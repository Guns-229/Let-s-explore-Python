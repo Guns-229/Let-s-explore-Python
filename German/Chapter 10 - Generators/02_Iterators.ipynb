{
 "cells": [
  {
   "cell_type": "markdown",
   "metadata": {},
   "source": [
    "# Iterators"
   ]
  },
  {
   "cell_type": "markdown",
   "metadata": {},
   "source": [
    "Iterators in Python are in abundance,\n",
    "- All Generators\n",
    "- Most Collection data type"
   ]
  },
  {
   "cell_type": "markdown",
   "metadata": {},
   "source": [
    "Python iterator objects are required to support two methods while following the iterator protocol.\n",
    "\n",
    "- `__iter__` returns the iterator object itself. This is used in for and in statements.\n",
    "\n",
    "- `__next__` method returns the next value from the iterator. If there is no more items to return then it should raise `StopIteration` exception.\n",
    "\n",
    "In this chapter we are going to cover only custom iterators as almost all other iterators have been taught in other sections."
   ]
  },
  {
   "cell_type": "code",
   "execution_count": 1,
   "metadata": {},
   "outputs": [
    {
     "name": "stdout",
     "output_type": "stream",
     "text": [
      "0  1  2  3  4  5  6  7  8  9  "
     ]
    }
   ],
   "source": [
    "for a in range(10):\n",
    "    print(a, end=\"  \")"
   ]
  },
  {
   "cell_type": "code",
   "execution_count": 2,
   "metadata": {},
   "outputs": [],
   "source": [
    "class MyRange(object):\n",
    "    def __init__(self, ini_val=0, end_val=10, hop=1):\n",
    "        self.__ini_val = ini_val\n",
    "        self.__end_val = end_val\n",
    "        self.__hop = hop\n",
    "        self.__current_val = self.__ini_val\n",
    "        \n",
    "    def __iter__(self):\n",
    "        return self\n",
    "    \n",
    "    def __next__(self):\n",
    "        if self.__current_val >= self.__end_val:\n",
    "            raise StopIteration\n",
    "        else:\n",
    "            val = self.__current_val\n",
    "            self.__current_val += self.__hop \n",
    "            return val"
   ]
  },
  {
   "cell_type": "code",
   "execution_count": 3,
   "metadata": {},
   "outputs": [
    {
     "name": "stdout",
     "output_type": "stream",
     "text": [
      "1 ->5 ->9 ->13 ->17 ->21 ->\b\b\n"
     ]
    }
   ],
   "source": [
    "for a in MyRange(1, 22, 4):\n",
    "    print(a, end=\" ->\")\n",
    "print(\"\\b\\b\")"
   ]
  },
  {
   "cell_type": "code",
   "execution_count": 4,
   "metadata": {},
   "outputs": [
    {
     "name": "stdout",
     "output_type": "stream",
     "text": [
      "1\n",
      "2\n",
      "3\n",
      "Error: \n"
     ]
    }
   ],
   "source": [
    "mt = MyRange(1, 4)\n",
    "\n",
    "try:\n",
    "    print(mt.__next__())\n",
    "    print(mt.__next__())\n",
    "    print(mt.__next__())\n",
    "    print(mt.__next__(), \".\")\n",
    "except StopIteration as sie:\n",
    "    print(\"Error:\", sie)"
   ]
  },
  {
   "cell_type": "code",
   "execution_count": 5,
   "metadata": {},
   "outputs": [],
   "source": [
    "class MyRange(object):\n",
    "    def __init__(self, ini_val=0, end_val=10, hop = 1):\n",
    "        self.ini_val = ini_val\n",
    "        self.end_val = end_val\n",
    "        self.hop = hop\n",
    "        self.current_val = self.ini_val\n",
    "        \n",
    "    \n",
    "    def __iter__(self):\n",
    "        return self\n",
    "    \n",
    "    def __next__(self):\n",
    "        if self.current_val >= self.end_val:\n",
    "            raise StopIteration\n",
    "        else:\n",
    "            val = self.current_val\n",
    "            self.current_val += self.hop \n",
    "            return val"
   ]
  }
 ],
 "metadata": {
  "kernelspec": {
   "display_name": "Python 3",
   "language": "python",
   "name": "python3"
  },
  "language_info": {
   "codemirror_mode": {
    "name": "ipython",
    "version": 3
   },
   "file_extension": ".py",
   "mimetype": "text/x-python",
   "name": "python",
   "nbconvert_exporter": "python",
   "pygments_lexer": "ipython3",
   "version": "3.8.0"
  }
 },
 "nbformat": 4,
 "nbformat_minor": 2
}
