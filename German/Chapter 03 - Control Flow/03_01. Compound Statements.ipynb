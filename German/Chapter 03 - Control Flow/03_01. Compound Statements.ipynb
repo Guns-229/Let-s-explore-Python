{
 "cells": [
  {
   "cell_type": "markdown",
   "metadata": {},
   "source": [
    "# Chapter 3: Compound statements\n",
    "_____________________________\n",
    "\n",
    "Compound statements contain one or groups of other statements; they affect or control the execution of those other statements in some way. \n",
    "\n",
    "In general, they span multiple lines, but can be also be listed in a single line.\n",
    "\n",
    "The `if`, `while` and `for` statements implement **traditional control flow constructs**, whereas `try` specifies **exception handlers and/or cleanup code** for a group of statements, while the `with` statement allows the execution of initialization and finalization code around a block of code. `Function` and `class` definitions are also **syntactically compound statements**.\n",
    "\n",
    "They consists of one or more *‘clauses’*. A *clause* consists of a 'header' and a ‘suite’. \n",
    "\n",
    "The 'clause' headers of a particular compound statement are all at the same indentation level. They should begins with an uniquely identifying keyword and should ends with a colon. \n",
    "\n",
    "'suite' is a group of statements controlled by a clause. It can be of one or more semicolon-separated simple statements on the same line as the header, following the header’s colon (one liner), or it can be one or more indented statements on subsequent lines. Only the latter form of a suite can contain nested compound statements; the following is illegal, mostly because it wouldn’t be clear to which if clause a following else clause would belong:"
   ]
  },
  {
   "cell_type": "markdown",
   "metadata": {},
   "source": [
    "## Traditional Control Flow Constructs\n",
    "---\n",
    "### `if` Statement\n",
    "\n",
    "The `if` statement is used for conditional execution similar to that in most common languages. If statement can be constructed in three format depending on our need.\n",
    "\n",
    "- **if**:  when we have \"**if** something do something\" condition\n",
    "- **if .. else**: when we have condition like \"**if** something: do something **else** do something else\" \n",
    "- **if .. elif ..else**: When we have too many conditions or nested conditions\n",
    "\n",
    "#### `if`\n",
    "This format is used when specific operation needs to be performed if a specific condition is met. \n",
    "Syntax:\n",
    "```python\n",
    "if <condition>:\n",
    "    <code block>\n",
    "```\n",
    "\n",
    "\n",
    "Where:\n",
    "\n",
    "+ `<condition>`: sentence that can be evaluated as true or false.\n",
    "+ `<code block>`: sequence of command lines.\n",
    "+ The clauses `elif` and `else` are optional and  several `elifs` for the `if` may be used but only  one `else` at the end.\n",
    "+ Parentheses are only required to avoid ambiguity.\n",
    "Example:"
   ]
  },
  {
   "cell_type": "code",
   "execution_count": 1,
   "metadata": {},
   "outputs": [
    {
     "name": "stdout",
     "output_type": "stream",
     "text": [
      "Mayank\n"
     ]
    }
   ],
   "source": [
    "x = \"Mayank\"\n",
    "y = \"TEST\"\n",
    "\n",
    "if y == \"TEST\":\n",
    "    print(x)"
   ]
  },
  {
   "cell_type": "code",
   "execution_count": 2,
   "metadata": {},
   "outputs": [
    {
     "name": "stdout",
     "output_type": "stream",
     "text": [
      "Hello World, TEST\n"
     ]
    }
   ],
   "source": [
    "if y:\n",
    "    print(\"Hello World,\", y)"
   ]
  },
  {
   "cell_type": "code",
   "execution_count": 1,
   "metadata": {},
   "outputs": [],
   "source": [
    "# Falsish Value, thus will not run the if code block\n",
    "y = None\n",
    "\n",
    "if y:\n",
    "    print(\"TEST\")"
   ]
  },
  {
   "cell_type": "code",
   "execution_count": 2,
   "metadata": {},
   "outputs": [],
   "source": [
    "y = 0\n",
    "if y:\n",
    "    print(\"TEST\")"
   ]
  },
  {
   "cell_type": "code",
   "execution_count": 3,
   "metadata": {},
   "outputs": [],
   "source": [
    "y = []\n",
    "if y:\n",
    "    print(\"TEST\")"
   ]
  },
  {
   "cell_type": "markdown",
   "metadata": {},
   "source": [
    "\n",
    "```python\n",
    "# For C & Java Guys\n",
    "if input(\"Please enter the password:\") == \"Simsim\": #{\n",
    "    print(\"\\t> Welcome to the cave\")\n",
    "#}\n",
    "\n",
    "print(\"Bye bye\")\n",
    "```"
   ]
  },
  {
   "cell_type": "markdown",
   "metadata": {},
   "source": [
    "#### Cascading of if"
   ]
  },
  {
   "cell_type": "code",
   "execution_count": 6,
   "metadata": {},
   "outputs": [
    {
     "name": "stdout",
     "output_type": "stream",
     "text": [
      "Hello\n",
      "Hello again\n",
      "Bye bye bye ...\n"
     ]
    }
   ],
   "source": [
    "x = 12\n",
    "if x > 10:\n",
    "    print(\"Hello\")\n",
    "    if x > 10.999999999999:\n",
    "        print(\"Hello again\")\n",
    "        if x % 2 == 0:\n",
    "            print(\"Bye bye bye ...\")"
   ]
  },
  {
   "cell_type": "code",
   "execution_count": 7,
   "metadata": {},
   "outputs": [
    {
     "name": "stdout",
     "output_type": "stream",
     "text": [
      "Hello\n",
      "Hello again\n"
     ]
    }
   ],
   "source": [
    "x = 11\n",
    "if x > 10:\n",
    "    print(\"Hello\")\n",
    "    if x > 10.999999999999:\n",
    "        print(\"Hello again\")\n",
    "        if x % 2 == 0:\n",
    "            print(\"Bye bye bye ...\")"
   ]
  },
  {
   "cell_type": "code",
   "execution_count": 8,
   "metadata": {},
   "outputs": [
    {
     "name": "stdout",
     "output_type": "stream",
     "text": [
      "4556083288\n",
      "Hello x is Green\n"
     ]
    }
   ],
   "source": [
    "x = \"Green\"\n",
    "y = None\n",
    "z = \"111\"\n",
    "print(id(y))\n",
    "if x == \"Green\":\n",
    "    print(\"Hello x is Green\")\n",
    "\n",
    "if x == 'Yellow':\n",
    "    print(\"Hello in Y\")\n",
    "\n",
    "if x == 'Orange':\n",
    "    print(\"Hello in Z\")"
   ]
  },
  {
   "cell_type": "markdown",
   "metadata": {},
   "source": [
    "### `if` ... `else` statement\n",
    "\n",
    "```python\n",
    "if <condition>:\n",
    "    <code block>\n",
    "else:\n",
    "    <code block>\n",
    "```\n",
    "Where:\n",
    "\n",
    "+ `<condition>`: sentence that can be evaluated as true `if` statement `if` statemente or false.\n",
    "+ `<code block>`: sequence of command lines.\n",
    "+ The clauses `elif` and `else` are optional and  several `elifs` for the `if` may be used but only  one `else` at the end.\n",
    "+ Parentheses are only required to avoid ambiguity."
   ]
  },
  {
   "cell_type": "code",
   "execution_count": 5,
   "metadata": {},
   "outputs": [
    {
     "name": "stdout",
     "output_type": "stream",
     "text": [
      "Name is not mayank and its Anuja\n"
     ]
    }
   ],
   "source": [
    "x = \"Anuja\"\n",
    "\n",
    "if x == \"mayank\":  #{\n",
    "    print(\"Name is mayank\")\n",
    "#}\n",
    "else:  #{\n",
    "    print(\"Name is not mayank and its\", x)\n",
    "#}"
   ]
  },
  {
   "cell_type": "code",
   "execution_count": 6,
   "metadata": {},
   "outputs": [
    {
     "name": "stdout",
     "output_type": "stream",
     "text": [
      "Name is not mayank and its Anuja\n"
     ]
    }
   ],
   "source": [
    "x = \"Anuja\"\n",
    "\n",
    "if x != \"mayank\":\n",
    "    print(\"Name is not mayank and its\", x)\n",
    "else:\n",
    "    print(\"Name is mayank\")"
   ]
  },
  {
   "cell_type": "code",
   "execution_count": 11,
   "metadata": {},
   "outputs": [
    {
     "name": "stdout",
     "output_type": "stream",
     "text": [
      "Hello in Z\n"
     ]
    }
   ],
   "source": [
    "x = \"Orange\"\n",
    "\n",
    "if x == \"Green\":\n",
    "    print(\"Hello x is Green\")\n",
    "else:\n",
    "    if x == 'Yellow':\n",
    "        print(\"Hello in Y\")\n",
    "    else:\n",
    "        if x == 'Orange':\n",
    "            print(\"Hello in Z\")"
   ]
  },
  {
   "cell_type": "markdown",
   "metadata": {},
   "source": [
    "### `if` ...`elif` ... `else` statement\n",
    "\n",
    "```python\n",
    "if <condition>:\n",
    "    <code block>\n",
    "elif <condition>:\n",
    "    <code block>\n",
    "elif <condition>:\n",
    "    <code block>\n",
    "else:\n",
    "    <code block>\n",
    "```\n",
    "\n",
    "Where:\n",
    "\n",
    "+ `<condition>`: sentence that can be evaluated as true or false.\n",
    "+ `<code block>`: sequence of command lines.\n",
    "+ The clauses `elif` and `else` are optional and  several `elifs` for the `if` may be used but only  one `else` at the end.\n",
    "+ Parentheses are only required to avoid ambiguity."
   ]
  },
  {
   "cell_type": "code",
   "execution_count": 7,
   "metadata": {},
   "outputs": [
    {
     "name": "stdout",
     "output_type": "stream",
     "text": [
      "Hello is Orange\n"
     ]
    }
   ],
   "source": [
    "# In this case we will exit after executing \n",
    "# first true condition block\n",
    "cols = \"Orange\", \"Red\", \"Green\"\n",
    "orange, red, green = \"Orange\", \"Red\", \"Green\"\n",
    "if orange in cols:\n",
    "    print(\"Hello is\", orange)\n",
    "elif red in cols:\n",
    "    print(\"Hello is\", red)\n",
    "elif green in cols:\n",
    "    print(\"Hello is\", green)"
   ]
  },
  {
   "cell_type": "code",
   "execution_count": 12,
   "metadata": {},
   "outputs": [
    {
     "name": "stdout",
     "output_type": "stream",
     "text": [
      "Cold\n"
     ]
    }
   ],
   "source": [
    "# temperature value used to test\n",
    "# Logical Issue ? Find it if you can.\n",
    "temp = 20\n",
    "\n",
    "if temp < 0:\n",
    "    print('Freezing...')\n",
    "elif 0 <= temp <= 20:\n",
    "    print ('Cold')\n",
    "elif 21 <= temp <= 25:\n",
    "    print('Room Temprature')\n",
    "elif 26 <= temp <= 35:\n",
    "    print ('Hot')\n",
    "else:\n",
    "    print('Its very HOT!, lets stay at home... \\nand drink lemonade.')"
   ]
  },
  {
   "cell_type": "code",
   "execution_count": 14,
   "metadata": {},
   "outputs": [
    {
     "name": "stdout",
     "output_type": "stream",
     "text": [
      "Its very HOT!, lets stay at home... \n",
      "and drink lemonade.\n"
     ]
    }
   ],
   "source": [
    "# temperature value used to test\n",
    "temp = 20.3\n",
    "\n",
    "if temp < 0:\n",
    "    print('Freezing...')\n",
    "elif 0 <= temp <= 20:\n",
    "    print ('Cold')\n",
    "elif 21 <= temp <= 25:\n",
    "    print('Room Temprature')\n",
    "elif 26 <= temp <= 35:\n",
    "    print ('Hot')\n",
    "else:\n",
    "    print('Its very HOT!, lets stay at home... \\nand drink lemonade.')"
   ]
  },
  {
   "cell_type": "code",
   "execution_count": 15,
   "metadata": {},
   "outputs": [
    {
     "name": "stdout",
     "output_type": "stream",
     "text": [
      "Room Temprature\n"
     ]
    }
   ],
   "source": [
    "# temperature value used to test\n",
    "# logical issue solved. \n",
    "\n",
    "temp = 20.2\n",
    "\n",
    "if temp <= 0:\n",
    "    print('Freezing...')\n",
    "elif 0 < temp <= 20:\n",
    "    print ('Cold')\n",
    "elif 20 < temp <= 25:\n",
    "    print('Room Temprature')\n",
    "elif 25 < temp <= 35:\n",
    "    print ('Hot')\n",
    "else:\n",
    "    print('Its very HOT!, lets stay at home... \\nand drink lemonade.')"
   ]
  },
  {
   "cell_type": "markdown",
   "metadata": {},
   "source": [
    "Imagine that in the above program, `23` is the temperature which was read by  some sensor or manually entered by the user and `Normal` is the response of the program."
   ]
  },
  {
   "cell_type": "markdown",
   "metadata": {},
   "source": [
    "**NOTE**: This construct will only run the first true if block and will skip all the others as shown in the below example"
   ]
  },
  {
   "cell_type": "code",
   "execution_count": 16,
   "metadata": {},
   "outputs": [
    {
     "name": "stdout",
     "output_type": "stream",
     "text": [
      "apple\n"
     ]
    }
   ],
   "source": [
    "a = \"apple\"\n",
    "b = \"banana\"\n",
    "c = \"Mango\"\n",
    "\n",
    "if a == \"apple\":\n",
    "    print(\"apple\")\n",
    "elif b == \"banana\":\n",
    "    print(\"mango\")\n",
    "elif c == \"Mango\":\n",
    "    print(\"My Mango farm\")"
   ]
  },
  {
   "cell_type": "code",
   "execution_count": 17,
   "metadata": {},
   "outputs": [
    {
     "name": "stdout",
     "output_type": "stream",
     "text": [
      "Hello in Z\n"
     ]
    }
   ],
   "source": [
    "x = \"Orange\"\n",
    "\n",
    "if x == \"Green\":\n",
    "    print(\"Hello x is Green\")\n",
    "elif x == 'Yellow':\n",
    "    print(\"Hello in Y\")\n",
    "elif x == 'Orange':\n",
    "    print(\"Hello in Z\")"
   ]
  },
  {
   "cell_type": "code",
   "execution_count": 18,
   "metadata": {},
   "outputs": [
    {
     "name": "stdout",
     "output_type": "stream",
     "text": [
      "Hello user_selection is Orange\n"
     ]
    }
   ],
   "source": [
    "user_selection = \"Orange\"\n",
    "orange, red, green = \"Orange\", \"Red\", \"Green\"\n",
    "if user_selection == orange:\n",
    "    print(\"Hello user_selection is\", orange)\n",
    "elif user_selection == red:\n",
    "    print(\"Hello user_selection is\", red)\n",
    "elif user_selection == green:\n",
    "    print(\"Hello user_selection is\", green)"
   ]
  },
  {
   "cell_type": "markdown",
   "metadata": {},
   "source": [
    "## One line if "
   ]
  },
  {
   "cell_type": "markdown",
   "metadata": {},
   "source": [
    "There are instances where we might need to have \n",
    "If the code block is composed of only one line, it can be written after the colon:\n",
    "\n",
    "    if temp < 0: print 'Freezing...'"
   ]
  },
  {
   "cell_type": "code",
   "execution_count": 13,
   "metadata": {},
   "outputs": [
    {
     "name": "stdout",
     "output_type": "stream",
     "text": [
      "Hello \n"
     ]
    }
   ],
   "source": [
    "x = 20\n",
    "\n",
    "if x > 10: print(\"Hello \")"
   ]
  },
  {
   "cell_type": "code",
   "execution_count": 16,
   "metadata": {},
   "outputs": [
    {
     "name": "stdout",
     "output_type": "stream",
     "text": [
      "Hello \n",
      "How are you doing\n"
     ]
    }
   ],
   "source": [
    "# Intresting example\n",
    "x = 20\n",
    "\n",
    "if x > 10: print(\"Hello \"); print(\"How are you doing\")"
   ]
  },
  {
   "cell_type": "code",
   "execution_count": 18,
   "metadata": {},
   "outputs": [],
   "source": [
    "# Intresting example\n",
    "x = 3\n",
    "\n",
    "if x > 10: print(\"Hello \"); print(\"How are you doing\")"
   ]
  },
  {
   "cell_type": "markdown",
   "metadata": {},
   "source": [
    "Since version 2.5, Python supports the expression:\n",
    "```python\n",
    "<variable> = <value 1> if <condition> else <value 2>\n",
    "```\n",
    "Where `<variable>` receives `<value 1>` if `<condition>` is true and `<value 2>`  otherwise."
   ]
  },
  {
   "cell_type": "code",
   "execution_count": 5,
   "metadata": {},
   "outputs": [
    {
     "name": "stdout",
     "output_type": "stream",
     "text": [
      "24\n"
     ]
    }
   ],
   "source": [
    "val = 1 if x < 10 else 24\n",
    "print(val)"
   ]
  },
  {
   "cell_type": "markdown",
   "metadata": {},
   "source": [
    "### `if` expression extended"
   ]
  },
  {
   "cell_type": "markdown",
   "metadata": {},
   "source": [
    "we can extend one liner `if` using `()`'s as shown in the below example. "
   ]
  },
  {
   "cell_type": "code",
   "execution_count": 22,
   "metadata": {},
   "outputs": [
    {
     "name": "stdout",
     "output_type": "stream",
     "text": [
      "Hot\n"
     ]
    }
   ],
   "source": [
    "temp = 30\n",
    "\n",
    "(print ('Freezing...') if temp < 0 else\n",
    "print ('Cold') if 0 < temp <= 20 else\n",
    "print ('Room Temprature') if 20 < temp <= 25 else \n",
    "print(\"Hot\") if 25 < temp <= 35 else\n",
    "print ('Its very HOT!, lets stay at home... \\nand drink lemonade.'))"
   ]
  },
  {
   "cell_type": "code",
   "execution_count": 23,
   "metadata": {},
   "outputs": [
    {
     "name": "stdout",
     "output_type": "stream",
     "text": [
      "Hot\n"
     ]
    }
   ],
   "source": [
    "# Optimized code\n",
    "temp = 30\n",
    "\n",
    "print(('Freezing...' if temp < 0 else\n",
    "'Cold' if 0 < temp <= 20 else\n",
    "'Room Temprature' if 20 < temp <= 25 else \n",
    "\"Hot\" if 25 < temp <= 35 else\n",
    "'Its very HOT!, lets stay at home... \\nand drink lemonade.'))"
   ]
  },
  {
   "cell_type": "markdown",
   "metadata": {},
   "source": [
    "We have converted one previous multi `if-elif-else` example to `single line if-else` construct."
   ]
  },
  {
   "cell_type": "markdown",
   "metadata": {},
   "source": [
    "### Suite"
   ]
  },
  {
   "cell_type": "markdown",
   "metadata": {},
   "source": [
    "Python allows to have more than one statements on a single line using `;` and its called `suite` (https://docs.python.org/3/reference/compound_stmts.html). Very simple suite is as shown in the exmples below"
   ]
  },
  {
   "cell_type": "code",
   "execution_count": 24,
   "metadata": {},
   "outputs": [
    {
     "name": "stdout",
     "output_type": "stream",
     "text": [
      "Hello\n"
     ]
    }
   ],
   "source": [
    "print(\"He\", end=\"\"); print(\"l\", end=\"\"); print(\"lo\")"
   ]
  },
  {
   "cell_type": "code",
   "execution_count": 25,
   "metadata": {},
   "outputs": [
    {
     "name": "stdout",
     "output_type": "stream",
     "text": [
      "10\n",
      "30\n"
     ]
    }
   ],
   "source": [
    "x = 10; print(x); x +=20; print(x)"
   ]
  },
  {
   "cell_type": "markdown",
   "metadata": {},
   "source": [
    "as you can see in the above example we can have more than one statements in a simple line. Lets check its effect on other compound constructs"
   ]
  },
  {
   "cell_type": "markdown",
   "metadata": {},
   "source": [
    "### `Suite` and `if`"
   ]
  },
  {
   "cell_type": "markdown",
   "metadata": {},
   "source": [
    "the entire suite will get executed only when the `if` condition is fulfilled."
   ]
  },
  {
   "cell_type": "code",
   "execution_count": 26,
   "metadata": {},
   "outputs": [
    {
     "name": "stdout",
     "output_type": "stream",
     "text": [
      "Hello\n",
      "...\n"
     ]
    }
   ],
   "source": [
    "x = 10\n",
    "if x <= 10: print(\"He\", end=\"\"); print(\"l\", end=\"\"); print(\"lo\")\n",
    "print(\"...\")"
   ]
  },
  {
   "cell_type": "markdown",
   "metadata": {},
   "source": [
    "else the entire suite will not get executed."
   ]
  },
  {
   "cell_type": "code",
   "execution_count": 27,
   "metadata": {},
   "outputs": [
    {
     "name": "stdout",
     "output_type": "stream",
     "text": [
      "...\n"
     ]
    }
   ],
   "source": [
    "x = 30\n",
    "if x <= 10: print(\"He\", end=\"\"); print(\"l\", end=\"\"); print(\"lo\")\n",
    "print(\"...\")"
   ]
  },
  {
   "cell_type": "markdown",
   "metadata": {},
   "source": [
    "> **NOTE:**<hr>\n",
    "> The semicolon binds tighter than the colon in the above context, thus either all or none of the `print()` calls are executed"
   ]
  },
  {
   "cell_type": "markdown",
   "metadata": {},
   "source": [
    "#### Gotcha's"
   ]
  },
  {
   "cell_type": "markdown",
   "metadata": {},
   "source": [
    "1. We can only have first statement as compound statements and all the following cannot be compound statementas (statements with `:`) as shown in the examples below.\n",
    "\n",
    "```python\n",
    "x = 20; if x <= 10: print(\"l\", end=\"\"); print(\"lo\")\n",
    "```\n",
    "**Output:**\n",
    "```python\n",
    "  File \"<ipython-input-14-cf119c4c1398>\", line 2\n",
    "    x = 20; if x <= 10: print(\"l\", end=\"\"); print(\"lo\")\n",
    "             ^\n",
    "SyntaxError: invalid syntax\n",
    "``` "
   ]
  },
  {
   "cell_type": "markdown",
   "metadata": {},
   "source": [
    "As one liner `if` do not have `:` in its construct it can be present in following statements as shown in the below example"
   ]
  },
  {
   "cell_type": "code",
   "execution_count": 28,
   "metadata": {},
   "outputs": [
    {
     "name": "stdout",
     "output_type": "stream",
     "text": [
      "> 8 and blue in color\n",
      "Swagatam\n"
     ]
    }
   ],
   "source": [
    "size = 10\n",
    "color = \"blue\"\n",
    "\n",
    "if size > 8: print(\"> 8 and blue in color\") if color == \"blue\" else print(\"> 8 but not blue color\");print(\"Swagatam\")"
   ]
  },
  {
   "cell_type": "markdown",
   "metadata": {},
   "source": [
    "The below example will not work as last statement was \":\" in it, \n",
    "```python\n",
    "# this one will not work\n",
    "x = 20\n",
    "if x > 10: print(\"Greater than 10\") if x > 15 else print(\"less than\") else: print(\"TEST\")\n",
    "```\n",
    "**Output:**\n",
    "```python\n",
    "  File \"<ipython-input-34-ad260d588f22>\", line 2\n",
    "    if x > 10: print(\"Greater than 10\") if x > 15 else print(\"less than\") else: print(\"TEST\")\n",
    "                                                                             ^\n",
    "SyntaxError: invalid syntax\n",
    "```"
   ]
  },
  {
   "cell_type": "markdown",
   "metadata": {},
   "source": [
    "But, following will work without issue. "
   ]
  },
  {
   "cell_type": "code",
   "execution_count": 29,
   "metadata": {},
   "outputs": [
    {
     "name": "stdout",
     "output_type": "stream",
     "text": [
      "True\n"
     ]
    }
   ],
   "source": [
    "size = 10\n",
    "color = \"blue\"\n",
    "if size > 8: x = 10 and True or False; print(x) "
   ]
  },
  {
   "cell_type": "code",
   "execution_count": 30,
   "metadata": {},
   "outputs": [
    {
     "name": "stdout",
     "output_type": "stream",
     "text": [
      "> 8 and blue in color\n",
      "10\n",
      "Hello \n"
     ]
    }
   ],
   "source": [
    "if size > 8: print(\"> 8 and blue in color\"); print(10) if color == \"blue\" else print(\"> 8 but not blue color\"); print(\"Hello \")"
   ]
  },
  {
   "cell_type": "markdown",
   "metadata": {},
   "source": [
    "### Uses of suite"
   ]
  },
  {
   "cell_type": "markdown",
   "metadata": {},
   "source": [
    "#### running at command prompt/interpretor"
   ]
  },
  {
   "cell_type": "markdown",
   "metadata": {},
   "source": [
    "```python\n",
    "$:> python -c \"import os; print(os.path.join('test', 'test'))\"\n",
    "```"
   ]
  },
  {
   "cell_type": "markdown",
   "metadata": {},
   "source": [
    "#### initiating pdb"
   ]
  },
  {
   "cell_type": "markdown",
   "metadata": {},
   "source": [
    "easy to write and easy to remove. "
   ]
  },
  {
   "cell_type": "code",
   "execution_count": 31,
   "metadata": {},
   "outputs": [],
   "source": [
    "# import pdb; pdb.sta..."
   ]
  },
  {
   "cell_type": "markdown",
   "metadata": {},
   "source": [
    "#### Ending multiline statement"
   ]
  },
  {
   "cell_type": "code",
   "execution_count": 32,
   "metadata": {},
   "outputs": [
    {
     "name": "stdout",
     "output_type": "stream",
     "text": [
      "Hot\n"
     ]
    }
   ],
   "source": [
    "temp = 30\n",
    "\n",
    "print(('Freezing...' if temp < 0 else\n",
    "'Cold' if 0 < temp <= 20 else\n",
    "'Room Temprature' if 20 < temp <= 25 else \n",
    "\"Hot\" if 25 < temp <= 35 else\n",
    "'Its very HOT!, lets stay at home... \\nand drink lemonade.'));"
   ]
  },
  {
   "cell_type": "markdown",
   "metadata": {},
   "source": [
    "#### for c/c++ guys (joke)"
   ]
  },
  {
   "cell_type": "code",
   "execution_count": 33,
   "metadata": {},
   "outputs": [
    {
     "name": "stdout",
     "output_type": "stream",
     "text": [
      "20\n"
     ]
    }
   ],
   "source": [
    "# now your code looks like c/c++ :)\n",
    "temp = 20;\n",
    "print(temp);"
   ]
  },
  {
   "cell_type": "markdown",
   "metadata": {},
   "source": [
    "### References"
   ]
  },
  {
   "cell_type": "markdown",
   "metadata": {},
   "source": [
    "- https://docs.python.org/3/reference/compound_stmts.html"
   ]
  }
 ],
 "metadata": {
  "anaconda-cloud": {},
  "kernelspec": {
   "display_name": "Python 3",
   "language": "python",
   "name": "python3"
  },
  "language_info": {
   "codemirror_mode": {
    "name": "ipython",
    "version": 3
   },
   "file_extension": ".py",
   "mimetype": "text/x-python",
   "name": "python",
   "nbconvert_exporter": "python",
   "pygments_lexer": "ipython3",
   "version": "3.8.2"
  }
 },
 "nbformat": 4,
 "nbformat_minor": 1
}
