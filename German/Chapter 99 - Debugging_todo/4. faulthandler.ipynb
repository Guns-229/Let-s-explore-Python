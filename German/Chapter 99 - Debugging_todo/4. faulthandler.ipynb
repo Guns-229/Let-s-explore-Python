{
 "cells": [
  {
   "cell_type": "markdown",
   "metadata": {},
   "source": [
    "## `faulthandler`"
   ]
  },
  {
   "cell_type": "markdown",
   "metadata": {},
   "source": [
    "> **<p style=\"color:green\">!! Note !!</p>**\n",
    "> <hr>\n",
    "> This module was added in Python 3.3 and also it is not present in Python 2.x series, but they can download it from https://pypi.org/project/faulthandler/"
   ]
  },
  {
   "cell_type": "markdown",
   "metadata": {},
   "source": [
    "`faulthandler` can be used to dump Python tracebacks explicitly on \n",
    "- a fault, \n",
    "- a timeout, \n",
    "- a user signal. \n",
    "\n",
    "`faulthandler.enable()` installs fault handlers for the `SIGSEGV`, `SIGFPE`, `SIGABRT`, `SIGBUS`, and `SIGILL`signals.\n",
    "It can also be enabled by setting the `PYTHONFAULTHANDLER=1` environment variable or by using the `-X faulthandler` command line option."
   ]
  },
  {
   "cell_type": "markdown",
   "metadata": {},
   "source": [
    "### Dump"
   ]
  },
  {
   "cell_type": "markdown",
   "metadata": {},
   "source": [
    "`dump_tractback` funtion can be used to dump the `trackback` to a file as shown in the below exmaple. Its syntax is as follows"
   ]
  },
  {
   "cell_type": "markdown",
   "metadata": {},
   "source": [
    "```python\n",
    "faulthandler.dump_traceback(file=sys.stderr, all_threads=True)\n",
    "```"
   ]
  },
  {
   "cell_type": "code",
   "execution_count": 1,
   "metadata": {},
   "outputs": [],
   "source": [
    "import faulthandler \n",
    "\n",
    "faulthandler.enable()\n",
    "\n",
    "try:\n",
    "    a = 1/0\n",
    "except Exception as e:\n",
    "    with open(\"Error.log\", \"a+\") as f:\n",
    "        faulthandler.dump_traceback(file=f, all_threads=True)"
   ]
  },
  {
   "cell_type": "markdown",
   "metadata": {},
   "source": [
    "### `enable()`"
   ]
  },
  {
   "cell_type": "markdown",
   "metadata": {},
   "source": [
    "`enable` not only starts the `faulthandler` but can also be used to define the log files as shown in the below example. After executing the below example, SEGFAULT details are "
   ]
  },
  {
   "cell_type": "markdown",
   "metadata": {},
   "source": [
    "```python\n",
    "# Reference: https://codegolf.stackexchange.com/q/22352/38159\n",
    "# Code by `Gareth Rees` https://codegolf.stackexchange.com/users/2186/gareth-rees\n",
    "\n",
    "import faulthandler as fh\n",
    "\n",
    "f = open(\"Error_auto.log\", \"a+\")\n",
    "fh.enable(file=f, all_threads=True)\n",
    "\n",
    "exec(type((lambda:0).__code__)(0,1,0,0,0,b'',(),(),(),'','',1,b''))\n",
    "```"
   ]
  },
  {
   "cell_type": "markdown",
   "metadata": {},
   "source": [
    "### `disable()`"
   ]
  },
  {
   "cell_type": "markdown",
   "metadata": {},
   "source": [
    "It disables the fault handler, thus uninstalls any signal handlers installed by `enable()`.\n",
    "\n",
    "If it is able to disable fault handler then it returns `True` else returns `False` which can happen if fault handler is already disabled."
   ]
  },
  {
   "cell_type": "markdown",
   "metadata": {},
   "source": [
    "### `is_enabled()`"
   ]
  },
  {
   "cell_type": "markdown",
   "metadata": {},
   "source": [
    "It returns `True` if fault handler is enabled else returns `False`"
   ]
  },
  {
   "cell_type": "code",
   "execution_count": 2,
   "metadata": {},
   "outputs": [
    {
     "name": "stdout",
     "output_type": "stream",
     "text": [
      "True\n",
      "True\n",
      "True\n",
      "True\n"
     ]
    }
   ],
   "source": [
    "import faulthandler as fh\n",
    "\n",
    "print(fh.is_enabled())\n",
    "print(fh.disable())\n",
    "\n",
    "fh.enable(all_threads=True)\n",
    "print(fh.is_enabled())\n",
    "print(fh.disable())"
   ]
  },
  {
   "cell_type": "markdown",
   "metadata": {},
   "source": [
    "### Examples:"
   ]
  },
  {
   "cell_type": "markdown",
   "metadata": {},
   "source": [
    "As stated above, we can initiate traceback dump in three scenarios. We are going to cover all of them. "
   ]
  },
  {
   "cell_type": "markdown",
   "metadata": {},
   "source": [
    "#### Fatal Errors"
   ]
  },
  {
   "cell_type": "markdown",
   "metadata": {},
   "source": [
    "`faulthandler.enable()` & `dump_traceback` can be used in these cases as shown in the below examples."
   ]
  },
  {
   "cell_type": "code",
   "execution_count": 3,
   "metadata": {},
   "outputs": [],
   "source": [
    "import faulthandler \n",
    "\n",
    "\n",
    "faulthandler.enable()\n",
    "try:\n",
    "    a = 1/0\n",
    "except Exception as e:\n",
    "    with open(\"Error.log\", \"a+\") as f:\n",
    "        faulthandler.dump_traceback(file=f, all_threads=True)"
   ]
  },
  {
   "cell_type": "markdown",
   "metadata": {},
   "source": [
    "### Timeout"
   ]
  },
  {
   "cell_type": "markdown",
   "metadata": {},
   "source": [
    "`faulthandler.dump_tracebacks_later()` can be used to set the timeout. It will trigger the traceback if any function exceeds to timeout time set in `dump_tracebacks_later` as shown in the below examples."
   ]
  },
  {
   "cell_type": "markdown",
   "metadata": {},
   "source": [
    "- Example 1: Default timeout to 5 sec."
   ]
  },
  {
   "cell_type": "markdown",
   "metadata": {},
   "source": [
    "```python\n",
    "import faulthandler\n",
    "\n",
    "\n",
    "def MySample():\n",
    "    import time\n",
    "    time.sleep(10)\n",
    "    return \"Welcome to the Wonders of Python\"\n",
    "\n",
    "faulthandler.dump_traceback_later(5)\n",
    "MySample()\n",
    "```\n",
    "\n",
    "**Output:**\n",
    "```python\n",
    "Timeout (0:00:05)!\n",
    "Thread 0x00007f9b082e7540 (most recent call first):\n",
    "  File \"timeout_example.py\", line 10 in MySample\n",
    "  File \"timeout_example.py\", line 13 in <module>\n",
    "```"
   ]
  },
  {
   "cell_type": "markdown",
   "metadata": {},
   "source": [
    "- Example 2: Default `timeout` to `2 sec` and `repeat = True`."
   ]
  },
  {
   "cell_type": "markdown",
   "metadata": {},
   "source": [
    "Use the `repeat=True` option to dump the traceback for each timeout,"
   ]
  },
  {
   "cell_type": "markdown",
   "metadata": {},
   "source": [
    "```PYTHON\n",
    "import faulthandler\n",
    "\n",
    "\n",
    "def MySample():\n",
    "    import time\n",
    "    time.sleep(3)\n",
    "    return \"Welcome to the Wonders of Python\"\n",
    "\n",
    "\n",
    "log_file = \"dump_later.txt\"\n",
    "f = open(log_file, \"w\")\n",
    "faulthandler.dump_traceback_later(2, file=f, repeat=True)\n",
    "txt = MySample()\n",
    "print(txt)\n",
    "f.close()\n",
    "faulthandler.cancel_dump_traceback_later()\n",
    "\n",
    "with open(log_file) as fp:\n",
    "    for line in fp.readlines():\n",
    "        print(line, end=\"\")\n",
    "```\n",
    "\n",
    "**Output:**\n",
    "```python\n",
    "Welcome to the Wonders of Python\n",
    "Timeout (0:00:02)!\n",
    "Thread 0x00007f9cea59f540 (most recent call first):\n",
    "  File \"timeout_repeat_example.py\", line 6 in MySample\n",
    "  File \"timeout_repeat_example.py\", line 13 in <module>\n",
    "```"
   ]
  },
  {
   "cell_type": "markdown",
   "metadata": {},
   "source": [
    "- Example 3: Default `timeout` to `2 sec`, `repeat = True` and function taking 6 sec to complete.\n",
    "\n",
    "    In this scenario, the traceback will happen 3 times (6 / 2 = 3) as \n",
    "\n",
    "    `log_times = time_taken/timeout`"
   ]
  },
  {
   "cell_type": "markdown",
   "metadata": {},
   "source": [
    "```python\n",
    "import faulthandler\n",
    "\n",
    "\n",
    "def MySample():\n",
    "    import time\n",
    "    time.sleep(6)\n",
    "    return \"Welcome to the Wonders of Python\"\n",
    "\n",
    "\n",
    "log_file = \"dump_later.txt\"\n",
    "f = open(log_file, \"w\")\n",
    "faulthandler.dump_traceback_later(2, file=f, repeat=True)\n",
    "txt = MySample()\n",
    "print(txt)\n",
    "f.close()\n",
    "faulthandler.cancel_dump_traceback_later()\n",
    "\n",
    "with open(log_file) as fp:\n",
    "    for line in fp.readlines():\n",
    "        print(line, end=\"\")\n",
    "```\n",
    "**Output:**\n",
    "```python\n",
    "Welcome to the Wonders of Python\n",
    "Timeout (0:00:02)!\n",
    "Thread 0x00007f3d95bff540 (most recent call first):\n",
    "  File \"timeout_repeat_2_example.py\", line 6 in MySample\n",
    "  File \"timeout_repeat_2_example.py\", line 13 in <module>\n",
    "Timeout (0:00:02)!\n",
    "Thread 0x00007f3d95bff540 (most recent call first):\n",
    "  File \"timeout_repeat_2_example.py\", line 6 in MySample\n",
    "  File \"timeout_repeat_2_example.py\", line 13 in <module>\n",
    "Timeout (0:00:02)!\n",
    "Thread 0x00007f3d95bff540 (most recent call first):\n",
    "  File \"timeout_repeat_2_example.py\", line 6 in MySample\n",
    "  File \"timeout_repeat_2_example.py\", line 13 in <module>\n",
    "```"
   ]
  },
  {
   "cell_type": "markdown",
   "metadata": {},
   "source": [
    "- Example 4: Default `timeout` to `2 sec`, `repeat = True` and `exit=True`.\n",
    "    \n",
    "    In this scenario where `exit=True` is set, program will exit out at the first timeout as shown in the example below. Also note that it will exit the program in unsafe mode, that is no cleanup will be performed, if any files are open, they **might** be left open after the program has exited. \n",
    "    \n",
    "    Also note, that it override's `repeat=True` and exit outs on the first occurrence of timeout."
   ]
  },
  {
   "cell_type": "markdown",
   "metadata": {},
   "source": [
    "```python\n",
    "import faulthandler\n",
    "\n",
    "\n",
    "def MySample():\n",
    "    import time\n",
    "    time.sleep(6)\n",
    "    return \"Welcome to the Wonders of Python\"\n",
    "\n",
    "\n",
    "faulthandler.dump_traceback_later(2, repeat=True, exit=True)\n",
    "txt = MySample()\n",
    "print(txt)\n",
    "faulthandler.cancel_dump_traceback_later()\n",
    "\n",
    "```\n",
    "**Output:**\n",
    "```python\n",
    "Timeout (0:00:02)!\n",
    "Thread 0x00007fba82f6f540 (most recent call first):\n",
    "  File \"timeout_exit_true_1_example.py\", line 6 in MySample\n",
    "  File \"timeout_exit_true_1_example.py\", line 11 in <module>\n",
    "```\n",
    "    "
   ]
  },
  {
   "cell_type": "markdown",
   "metadata": {},
   "source": [
    "### User Signal"
   ]
  },
  {
   "cell_type": "markdown",
   "metadata": {},
   "source": [
    "`faulthandler.register(signal)`\n",
    "\n",
    "1. It is not available for Windows."
   ]
  },
  {
   "cell_type": "markdown",
   "metadata": {},
   "source": [
    "```python\n",
    "from threading import Thread\n",
    "import faulthandler\n",
    "import signal\n",
    "import time\n",
    "\n",
    "\n",
    "def do():\n",
    "    time.sleep(10)\n",
    "\n",
    "\n",
    "def main():\n",
    "    threads = []\n",
    "    for _ in range(1, 10):\n",
    "        t = Thread(target=do, args=())\n",
    "        t.start()\n",
    "    for x in threads:\n",
    "        x.join()\n",
    "\n",
    "\n",
    "if __name__ == '__main__':\n",
    "    faulthandler.register(signal.SIGUSR1)\n",
    "    main()\n",
    "```\n",
    "**Output:**\n",
    "```python\n",
    "$:> python3 register_example.py &\n",
    "[1] 29577\n",
    "\n",
    "$:> kill -s USR1 29577\n",
    "\n",
    "Thread 0x00007f3f26ffd700 (most recent call first):\n",
    "  File \"register_example.py\", line 8 in do\n",
    "  File \"/usr/lib64/python3.6/threading.py\", line 864 in run\n",
    "  File \"/usr/lib64/python3.6/threading.py\", line 916 in _bootstrap_inner\n",
    "  File \"/usr/lib64/python3.6/threading.py\", line 884 in _bootstrap\n",
    "\n",
    "Thread 0x00007f3f277fe700 (most recent call first):\n",
    "  File \"register_example.py\", line 8 in do\n",
    "  File \"/usr/lib64/python3.6/threading.py\", line 864 in run\n",
    "  File \"/usr/lib64/python3.6/threading.py\", line 916 in _bootstrap_inner\n",
    "  File \"/usr/lib64/python3.6/threading.py\", line 884 in _bootstrap\n",
    "\n",
    "Thread 0x00007f3f27fff700 (most recent call first):\n",
    "  File \"register_example.py\", line 8 in do\n",
    "  File \"/usr/lib64/python3.6/threading.py\", line 864 in run\n",
    "  File \"/usr/lib64/python3.6/threading.py\", line 916 in _bootstrap_inner\n",
    "  File \"/usr/lib64/python3.6/threading.py\", line 884 in _bootstrap\n",
    "\n",
    "Thread 0x00007f3f3cd67700 (most recent call first):\n",
    "  File \"register_example.py\", line 8 in do\n",
    "  File \"/usr/lib64/python3.6/threading.py\", line 864 in run\n",
    "  File \"/usr/lib64/python3.6/threading.py\", line 916 in _bootstrap_inner\n",
    "  File \"/usr/lib64/python3.6/threading.py\", line 884 in _bootstrap\n",
    "\n",
    "Thread 0x00007f3f3d568700 (most recent call first):\n",
    "  File \"register_example.py\", line 8 in do\n",
    "  File \"/usr/lib64/python3.6/threading.py\", line 864 in run\n",
    "  File \"/usr/lib64/python3.6/threading.py\", line 916 in _bootstrap_inner\n",
    "  File \"/usr/lib64/python3.6/threading.py\", line 884 in _bootstrap\n",
    "\n",
    "Thread 0x00007f3f3dd69700 (most recent call first):\n",
    "  File \"register_example.py\", line 8 in do\n",
    "  File \"/usr/lib64/python3.6/threading.py\", line 864 in run\n",
    "  File \"/usr/lib64/python3.6/threading.py\", line 916 in _bootstrap_inner\n",
    "  File \"/usr/lib64/python3.6/threading.py\", line 884 in _bootstrap\n",
    "```"
   ]
  },
  {
   "cell_type": "markdown",
   "metadata": {},
   "source": [
    "### Issue with file descriptors"
   ]
  },
  {
   "cell_type": "markdown",
   "metadata": {},
   "source": [
    "\n",
    "`enable()`, `dump_traceback_later()` and `register()` keep the file descriptor of their file argument. If the file is closed and its file descriptor is reused by a new file, or if `os.dup2()` is used to replace the file descriptor, the traceback will be written into a different file. Call these functions again each time that the file is replaced."
   ]
  },
  {
   "cell_type": "markdown",
   "metadata": {},
   "source": [
    "### Reference"
   ]
  },
  {
   "cell_type": "markdown",
   "metadata": {},
   "source": [
    "- https://docs.python.org/3/library/faulthandler.html\n",
    "- https://blog.ionelmc.ro/2013/06/05/python-debugging-tools/"
   ]
  }
 ],
 "metadata": {
  "kernelspec": {
   "display_name": "Python 3",
   "language": "python",
   "name": "python3"
  },
  "language_info": {
   "codemirror_mode": {
    "name": "ipython",
    "version": 3
   },
   "file_extension": ".py",
   "mimetype": "text/x-python",
   "name": "python",
   "nbconvert_exporter": "python",
   "pygments_lexer": "ipython3",
   "version": "3.7.4"
  }
 },
 "nbformat": 4,
 "nbformat_minor": 2
}
