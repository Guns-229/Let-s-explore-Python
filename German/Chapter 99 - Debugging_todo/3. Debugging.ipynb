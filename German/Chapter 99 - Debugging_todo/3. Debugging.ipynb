{
 "cells": [
  {
   "cell_type": "markdown",
   "metadata": {},
   "source": [
    "# Debugging"
   ]
  },
  {
   "cell_type": "markdown",
   "metadata": {},
   "source": [
    "Debugging is an art and just like art the more you practice, better you become. Just like art, tools and processes needed for debugging can be taught. But only practice will make you great at it. "
   ]
  },
  {
   "cell_type": "markdown",
   "metadata": {},
   "source": [
    "## Using the Python debugger"
   ]
  },
  {
   "cell_type": "markdown",
   "metadata": {},
   "source": [
    "Python provides build-in debugger which can be called by importing module `pdb`. In this tutorial we are going to cover few most common actions which most developers perform as part of debugging the issue."
   ]
  },
  {
   "cell_type": "markdown",
   "metadata": {},
   "source": [
    "### Invoking the debugger"
   ]
  },
  {
   "cell_type": "markdown",
   "metadata": {},
   "source": [
    "#### Through python interactive console"
   ]
  },
  {
   "cell_type": "markdown",
   "metadata": {},
   "source": [
    "`pdb` can be invoked using the `import pdb`."
   ]
  },
  {
   "cell_type": "markdown",
   "metadata": {},
   "source": [
    "```python\n",
    "import pdb\n",
    "\n",
    "pdb.set_trace()\n",
    "```"
   ]
  },
  {
   "cell_type": "markdown",
   "metadata": {},
   "source": [
    "After `pdb.set_trace()` is executed then pdb waits for the user to provide a command to execute. "
   ]
  },
  {
   "cell_type": "markdown",
   "metadata": {},
   "source": [
    "#### Through command line"
   ]
  },
  {
   "cell_type": "markdown",
   "metadata": {},
   "source": [
    "python also allows to call pdb through command line as shown below. "
   ]
  },
  {
   "cell_type": "markdown",
   "metadata": {},
   "source": [
    "```\n",
    "$:> python -m pdb sample.py\n",
    "```"
   ]
  },
  {
   "cell_type": "markdown",
   "metadata": {},
   "source": [
    "In the above example, python will open the `sample.py` file for debugging. "
   ]
  },
  {
   "cell_type": "markdown",
   "metadata": {},
   "source": [
    "#### Through python interactive console"
   ]
  },
  {
   "cell_type": "markdown",
   "metadata": {},
   "source": [
    "for Python < 3.7, we can use `pdb.set_trace()` as part of code and use it as shown in below example. "
   ]
  },
  {
   "cell_type": "markdown",
   "metadata": {},
   "source": [
    "```python\n",
    "def sum(a, b):\n",
    "    try:\n",
    "        return a + b\n",
    "    except Exception as e:\n",
    "        print(\"!!! Error !!!\", e)\n",
    "        breakpoint()\n",
    "\n",
    "a = \"Aryan\"\n",
    "sum(10, a)\n",
    "```\n",
    "\n",
    "\n",
    "**Output:**\n",
    "    \n",
    "```python\n",
    "python set_trace_sample.py\n",
    "('!!! Error !!!', TypeError(\"unsupported operand type(s) for +: 'int' and 'str'\",))\n",
    "--Return--\n",
    "> /home/mayank/code/mj/python/lep/Section 1 - Core Python/Chapter 99 - Debugging/code/pdb/set_trace_sample.py(9)sum()->None\n",
    "-> set_trace()\n",
    "(Pdb)\n",
    "```"
   ]
  },
  {
   "cell_type": "markdown",
   "metadata": {},
   "source": [
    "Python 3.7, provides a new way start the debugger (PEP-0553). New built-in function `breakpoint()` when added to the code at certain point will launch the `pdb` at that point as shown in the below example  "
   ]
  },
  {
   "cell_type": "markdown",
   "metadata": {},
   "source": [
    "```python\n",
    "def sum(a, b):\n",
    "    try:\n",
    "        return a + b\n",
    "    except Exception as e:\n",
    "        print(\"!!! Error !!!\", e)\n",
    "        breakpoint()\n",
    "        \n",
    "sum(10, a)\n",
    "```"
   ]
  },
  {
   "cell_type": "markdown",
   "metadata": {},
   "source": [
    "You can add either `breakpoint()` or `set_trace()` just before you wish to debug the code. "
   ]
  },
  {
   "cell_type": "markdown",
   "metadata": {},
   "source": [
    "### Debugger Commands"
   ]
  },
  {
   "cell_type": "markdown",
   "metadata": {},
   "source": [
    "Once in `pdb` shell, we can provide following debugging commands to regulate the debugging process.  "
   ]
  },
  {
   "cell_type": "markdown",
   "metadata": {},
   "source": [
    "#### `h(elp)`"
   ]
  },
  {
   "cell_type": "markdown",
   "metadata": {},
   "source": [
    "On `pdb` shell when `h` or `help` is typed, pdb provide its built-in help similar to as shown below"
   ]
  },
  {
   "cell_type": "markdown",
   "metadata": {},
   "source": [
    "```\n",
    "Documented commands (type help <topic>):\n",
    "========================================\n",
    "EOF    bt         cont      enable  jump  pp       run      unt\n",
    "a      c          continue  exit    l     q        s        until\n",
    "alias  cl         d         h       list  quit     step     up\n",
    "args   clear      debug     help    n     r        tbreak   w\n",
    "b      commands   disable   ignore  next  restart  u        whatis\n",
    "break  condition  down      j       p     return   unalias  where\n",
    "\n",
    "Miscellaneous help topics:\n",
    "==========================\n",
    "exec  pdb\n",
    "\n",
    "Undocumented commands:\n",
    "======================\n",
    "retval  rv\n",
    "\n",
    "```\n"
   ]
  },
  {
   "cell_type": "markdown",
   "metadata": {},
   "source": [
    "In the below section, we will try to cover few of the most common commands from the above list."
   ]
  },
  {
   "cell_type": "markdown",
   "metadata": {},
   "source": [
    "#### `q(uit)`"
   ]
  },
  {
   "cell_type": "markdown",
   "metadata": {},
   "source": [
    "It allows to exit from `pdb` shell and it also exits out of the program under debugging. "
   ]
  },
  {
   "cell_type": "markdown",
   "metadata": {},
   "source": [
    "#### w(here)"
   ]
  },
  {
   "cell_type": "markdown",
   "metadata": {},
   "source": [
    "It prints a stack trace along with the details. With most recent frame at the bottom indicated by an arrow as shown below"
   ]
  },
  {
   "cell_type": "markdown",
   "metadata": {},
   "source": [
    "```\n",
    "(Pdb) w\n",
    "  /usr/lib64/python2.7/bdb.py(400)run()\n",
    "-> exec cmd in globals, locals\n",
    "  <string>(1)<module>()\n",
    "  /home/mayank/code/mj/python/lep/Section 1 - Core Python/Chapter 99 - Debugging/code/pdb/sample_code.py(13)<module>()\n",
    "-> multi_add(10, 2, 4)\n",
    "> /home/mayank/code/mj/python/lep/Section 1 - Core Python/Chapter 99 - Debugging/code/pdb/sample_code.py(8)multi_add()\n",
    "-> total = 0\n",
    "```\n",
    "\n",
    "We are currently on line with code `total = 0` (line number 8) in function `multi_add(10, 2, 4)` in file `sample_code.py`"
   ]
  },
  {
   "cell_type": "markdown",
   "metadata": {},
   "source": [
    "#### `d(own)`"
   ]
  },
  {
   "cell_type": "markdown",
   "metadata": {},
   "source": [
    "Move the current frame count (default one) levels down in the stack trace (to a newer frame)."
   ]
  },
  {
   "cell_type": "markdown",
   "metadata": {},
   "source": [
    "#### `u(p)`"
   ]
  },
  {
   "cell_type": "markdown",
   "metadata": {},
   "source": [
    "Move the current frame count (default one) levels up in the stack trace (to an older frame)."
   ]
  },
  {
   "cell_type": "markdown",
   "metadata": {},
   "source": [
    "```python\n",
    "def multi_add(*argv):\n",
    "        total = 0\n",
    "        for a in argv:\n",
    "                total = total + a\n",
    "        return total\n",
    "\n",
    "multi_add(10, 2, 4)\n",
    "```"
   ]
  },
  {
   "cell_type": "markdown",
   "metadata": {},
   "source": [
    "#### `s(tep)`"
   ]
  },
  {
   "cell_type": "markdown",
   "metadata": {},
   "source": [
    "It execute the current line and then stops at the first possible occasion. Debugging the above code using `s`."
   ]
  },
  {
   "cell_type": "markdown",
   "metadata": {},
   "source": [
    "```\n",
    "$:> python -m pdb sample_code.py\n",
    "\n",
    "> sample_code.py(4)<module>()\n",
    "-> \"\"\"\n",
    "(Pdb) s\n",
    "> sample_code.py(7)<module>()\n",
    "-> def multi_add(*argv):\n",
    "(Pdb) s\n",
    "> sample_code.py(13)<module>()\n",
    "-> multi_add(10, 2, 4)\n",
    "(Pdb) s\n",
    "--Call--\n",
    "> sample_code.py(7)multi_add()\n",
    "-> def multi_add(*argv):\n",
    "(Pdb) s\n",
    "> sample_code.py(8)multi_add()\n",
    "-> total = 0\n",
    "(Pdb) s\n",
    "> sample_code.py(9)multi_add()\n",
    "-> for a in argv:\n",
    "(Pdb) s\n",
    "> sample_code.py(10)multi_add()\n",
    "-> total = total + a\n",
    "(Pdb) s\n",
    "> sample_code.py(9)multi_add()\n",
    "-> for a in argv:\n",
    "(Pdb) s\n",
    "> sample_code.py(10)multi_add()\n",
    "-> total = total + a\n",
    "(Pdb) s\n",
    "> sample_code.py(9)multi_add()\n",
    "-> for a in argv:\n",
    "(Pdb) s\n",
    "> sample_code.py(10)multi_add()\n",
    "-> total = total + a\n",
    "(Pdb) s\n",
    "> sample_code.py(9)multi_add()\n",
    "-> for a in argv:\n",
    "(Pdb) s\n",
    "> sample_code.py(11)multi_add()\n",
    "-> return total\n",
    "(Pdb) s\n",
    "--Return--\n",
    "> sample_code.py(11)multi_add()->16\n",
    "-> return total\n",
    "(Pdb) s\n",
    "--Return--\n",
    "> sample_code.py(13)<module>()->None\n",
    "-> multi_add(10, 2, 4)\n",
    "(Pdb) s\n",
    "--Return--\n",
    "> <string>(1)<module>()->None\n",
    "(Pdb) s\n",
    "> /usr/lib64/python2.7/bdb.py(404)run()\n",
    "-> self.quitting = 1\n",
    "(Pdb) s\n",
    "```"
   ]
  },
  {
   "cell_type": "markdown",
   "metadata": {},
   "source": [
    "#### `n(ext)`"
   ]
  },
  {
   "cell_type": "markdown",
   "metadata": {},
   "source": [
    "Continue the execution until the next line in the current function is reached or function returns to its parent function.\n",
    "What that means is if say we have the following code\n",
    "\n",
    "```python\n",
    "a = func(x) + func(y) \n",
    "print(a)\n",
    "```\n",
    "then entire line (`a = func(x) + func(y)`) is processed and it stops at `print(a)`. "
   ]
  },
  {
   "cell_type": "markdown",
   "metadata": {},
   "source": [
    "```\n",
    "$:> python -m pdb sample_code.py\n",
    "\n",
    "> sample_code.py(4)<module>()\n",
    "-> \"\"\"\n",
    "(Pdb) n\n",
    "> sample_code.py(7)<module>()\n",
    "-> def multi_add(*argv):\n",
    "(Pdb) n\n",
    "> sample_code.py(13)<module>()\n",
    "-> multi_add(10, 2, 4)\n",
    "(Pdb) n\n",
    "--Return--\n",
    "> sample_code.py(13)<module>()->None\n",
    "-> multi_add(10, 2, 4)\n",
    "(Pdb) n\n",
    "--Return--\n",
    "> <string>(1)<module>()->None\n",
    "```"
   ]
  },
  {
   "cell_type": "markdown",
   "metadata": {},
   "source": [
    "#### Difference between `step` and `next`"
   ]
  },
  {
   "cell_type": "markdown",
   "metadata": {},
   "source": [
    "That `step` will step inside `func(x)` and will stops inside it function, while next executes called functions, only stopping at the next line in the current function which is `print(a)`"
   ]
  },
  {
   "cell_type": "markdown",
   "metadata": {},
   "source": [
    "#### `continue  lineno`"
   ]
  },
  {
   "cell_type": "markdown",
   "metadata": {},
   "source": [
    "- Without argument: execution will continue until the line with a number greater than the current one is reached.\n",
    "- With line number: execution will continue until a line with a number greater or equal to the specified is reached. \n",
    "\n",
    "In both cases, also stop when the current frame returns"
   ]
  },
  {
   "cell_type": "markdown",
   "metadata": {},
   "source": [
    "#### `r(eturn)`"
   ]
  },
  {
   "cell_type": "markdown",
   "metadata": {},
   "source": [
    "The execution continues until the current function returns."
   ]
  },
  {
   "cell_type": "markdown",
   "metadata": {},
   "source": [
    "#### `c(ont(inue))`"
   ]
  },
  {
   "cell_type": "markdown",
   "metadata": {},
   "source": [
    "The execution continues and it only stops when a breakpoint is encountered."
   ]
  },
  {
   "cell_type": "markdown",
   "metadata": {},
   "source": [
    "#### `b(reak)`"
   ]
  },
  {
   "cell_type": "markdown",
   "metadata": {},
   "source": [
    "Creates a breakpoint using one of the following \n",
    "- **line number**: Sets the breakpoint at the given line\n",
    "\n",
    "- **function argument**: Sets the breakpoint at the first line of the given function\n",
    "\n",
    "It is also possible to set the non loaded file for both line number & function name breakpoint. In this case filename needs to be provided prior to line number and function name."
   ]
  },
  {
   "cell_type": "markdown",
   "metadata": {},
   "source": [
    "- **Line Number on another file:**\n",
    "```\n",
    "(Pdb) b utils.py: 2\n",
    "Breakpoint 1 at /home/mayank/code/mj/python/lep/Section 1 - Core Python/Chapter 99 - Debugging/code/pdb/utils.py:2\n",
    "(Pdb) r\n",
    "> /home/mayank/code/mj/python/lep/Section 1 - Core Python/Chapter 99 - Debugging/code/pdb/utils.py(2)<module>()\n",
    "-> def multi_add(*argv):\n",
    "```\n",
    "\n",
    "- **function on another file:** Creates a breakpoint on function `multi_add` function in file `utils.py`\n",
    "```\n",
    "(Pdb) b utils.multi_add\n",
    "Breakpoint 1 at /home/mayank/code/mj/python/lep/Section 1 - Core Python/Chapter 99 - Debugging/code/pdb/utils.py:2\n",
    "(Pdb)\n",
    "```"
   ]
  },
  {
   "cell_type": "markdown",
   "metadata": {},
   "source": [
    "#### `tbreak` "
   ]
  },
  {
   "cell_type": "markdown",
   "metadata": {},
   "source": [
    "Similar to `b(reak)`, except gets removed after first usage."
   ]
  },
  {
   "cell_type": "markdown",
   "metadata": {},
   "source": [
    "#### `cl(ear)`"
   ]
  },
  {
   "cell_type": "markdown",
   "metadata": {},
   "source": [
    "clears all the break points if no arguments are present else only clears the requested breakpoint(s)."
   ]
  },
  {
   "cell_type": "markdown",
   "metadata": {},
   "source": [
    "#### `disable`"
   ]
  },
  {
   "cell_type": "markdown",
   "metadata": {},
   "source": [
    "Disables already set breakpoints. Multiple breakpoints can be provide as space separated list.  "
   ]
  },
  {
   "cell_type": "markdown",
   "metadata": {},
   "source": [
    "#### `enable`"
   ]
  },
  {
   "cell_type": "markdown",
   "metadata": {},
   "source": [
    "Enables the breakpoints (space separated list) specified"
   ]
  },
  {
   "cell_type": "markdown",
   "metadata": {},
   "source": [
    "#### `ignore bpnumber [count]`"
   ]
  },
  {
   "cell_type": "markdown",
   "metadata": {},
   "source": [
    "Instructs the debugger to ignore the breakpoint `count` number of times. Ig count is not present or is zero. then nothing happens. "
   ]
  },
  {
   "cell_type": "markdown",
   "metadata": {},
   "source": [
    "#### `condition bpnumber [condition]`"
   ]
  },
  {
   "cell_type": "markdown",
   "metadata": {},
   "source": [
    "Updates or add a new condition for the existing breakpoint. If `condition` is absent, any existing condition is removed."
   ]
  },
  {
   "cell_type": "markdown",
   "metadata": {},
   "source": [
    "#### `q(uit)`"
   ]
  },
  {
   "cell_type": "markdown",
   "metadata": {},
   "source": [
    "Quit from the debugger. The program being executed is aborted."
   ]
  },
  {
   "cell_type": "markdown",
   "metadata": {},
   "source": [
    "### Reading a value of a variable"
   ]
  },
  {
   "cell_type": "markdown",
   "metadata": {},
   "source": [
    "We can use `p` pdb command to read the value of the already existing variable. It will not be able to provide you have to non existing variables as shown in the below example \n",
    "\n",
    "```python\n",
    "> /home/mayank/code/mj/python/lep/Section 1 - Core Python/Chapter 99 - Debugging/code/pdb/utils.py(3)multi_add()\n",
    "-> total = 1\n",
    "(Pdb) p total\n",
    "*** NameError: NameError(\"name 'total' is not defined\",)\n",
    "(Pdb) s\n",
    "> /home/mayank/code/mj/python/lep/Section 1 - Core Python/Chapter 99 - Debugging/code/pdb/utils.py(4)multi_add()\n",
    "-> for a in argv:\n",
    "(Pdb) p total\n",
    "1\n",
    "```"
   ]
  },
  {
   "cell_type": "markdown",
   "metadata": {},
   "source": [
    "### Reference:"
   ]
  },
  {
   "cell_type": "markdown",
   "metadata": {},
   "source": [
    "- https://www.python.org/dev/peps/pep-0553/"
   ]
  }
 ],
 "metadata": {
  "kernelspec": {
   "display_name": "Python 3",
   "language": "python",
   "name": "python3"
  },
  "language_info": {
   "codemirror_mode": {
    "name": "ipython",
    "version": 3
   },
   "file_extension": ".py",
   "mimetype": "text/x-python",
   "name": "python",
   "nbconvert_exporter": "python",
   "pygments_lexer": "ipython3",
   "version": "3.7.4"
  }
 },
 "nbformat": 4,
 "nbformat_minor": 2
}
