{
 "cells": [
  {
   "cell_type": "markdown",
   "metadata": {},
   "source": [
    "## <span style=\"color:Green\">copy</span>: Shallow and deep copy operations"
   ]
  },
  {
   "cell_type": "markdown",
   "metadata": {},
   "source": [
    "-----\n",
    "In most of the programming languages assignment statement `=` equates to copy and thus are never in need of any other operator for creating a copy of an existing object. \n",
    "\n",
    "Lets start with exploring the assignment statement in python."
   ]
  },
  {
   "cell_type": "markdown",
   "metadata": {},
   "source": [
    "### Assignment ( = )"
   ]
  },
  {
   "cell_type": "markdown",
   "metadata": {},
   "source": [
    "-----\n",
    "\n",
    "**Assignments in Python do not copy objects, instead they create bindings between a target and the object**."
   ]
  },
  {
   "cell_type": "code",
   "execution_count": 1,
   "metadata": {
    "format": "row"
   },
   "outputs": [
    {
     "name": "stdout",
     "output_type": "stream",
     "text": [
      "4479101872 4479101872\n"
     ]
    }
   ],
   "source": [
    "x = 10\n",
    "y = x\n",
    "print(id(x), id(y))"
   ]
  },
  {
   "cell_type": "code",
   "execution_count": 2,
   "metadata": {},
   "outputs": [
    {
     "name": "stdout",
     "output_type": "stream",
     "text": [
      "[10, 3] [10, 3]\n",
      "[10, 'This is a test message'] [10, 'This is a test message']\n"
     ]
    }
   ],
   "source": [
    "x = [10, 3]\n",
    "y = x\n",
    "print(x , y)\n",
    "x[1] = \"This is a test message\"\n",
    "print(x, y)"
   ]
  },
  {
   "cell_type": "code",
   "execution_count": 3,
   "metadata": {},
   "outputs": [
    {
     "name": "stdout",
     "output_type": "stream",
     "text": [
      "4335533136\n",
      "4335533168 4335533168\n"
     ]
    }
   ],
   "source": [
    "x = 10\n",
    "print(id(x))\n",
    "x +=1\n",
    "y = x \n",
    "print(id(x), id(y))"
   ]
  },
  {
   "cell_type": "code",
   "execution_count": 4,
   "metadata": {},
   "outputs": [
    {
     "name": "stdout",
     "output_type": "stream",
     "text": [
      "4335533136\n",
      "4337735600 4335533136\n",
      "10 d\n"
     ]
    }
   ],
   "source": [
    "x = 10\n",
    "print(id(x))\n",
    "y = x \n",
    "x = \"d\"\n",
    "print(id(x), id(y))\n",
    "print(y, x)"
   ]
  },
  {
   "cell_type": "code",
   "execution_count": 5,
   "metadata": {},
   "outputs": [
    {
     "name": "stdout",
     "output_type": "stream",
     "text": [
      "4342292080 4372725488\n",
      "10 101\n"
     ]
    }
   ],
   "source": [
    "x = \"10\"\n",
    "y = x + \"1\"\n",
    "print(id(x), id(y))\n",
    "print(x , y)"
   ]
  },
  {
   "cell_type": "code",
   "execution_count": 6,
   "metadata": {},
   "outputs": [
    {
     "name": "stdout",
     "output_type": "stream",
     "text": [
      "4335533136 4335533136\n",
      "4335536368 4335533136\n"
     ]
    }
   ],
   "source": [
    "x = 10\n",
    "y = x\n",
    "print(id(x), id(y))\n",
    "x = 111\n",
    "print(id(x), id(y))"
   ]
  },
  {
   "cell_type": "code",
   "execution_count": 7,
   "metadata": {},
   "outputs": [
    {
     "name": "stdout",
     "output_type": "stream",
     "text": [
      "4372572272 4372572272\n",
      "[10, 20, 100] [10, 20, 100]\n"
     ]
    }
   ],
   "source": [
    "x = [10, 20, 30]\n",
    "y = x\n",
    "print(id(x), id(y))\n",
    "x[2] = 100\n",
    "print(x, y)"
   ]
  },
  {
   "cell_type": "markdown",
   "metadata": {},
   "source": [
    "In the above example, x and y variables are pointing to same memory location and are two names to the same memory object, thus change in one will result in updating another value as long as they are not assigned to another memory location.\n",
    "With that in mind lets explore the new example"
   ]
  },
  {
   "cell_type": "code",
   "execution_count": 8,
   "metadata": {},
   "outputs": [
    {
     "name": "stdout",
     "output_type": "stream",
     "text": [
      "4371929440 4371929440\n",
      "100 [10, 20, 30]\n",
      "4335536016 4371929440\n"
     ]
    }
   ],
   "source": [
    "x = [10, 20, 30]\n",
    "y = x\n",
    "print(id(x), id(y))\n",
    "x = 100\n",
    "print(x, y)\n",
    "print(id(x), id(y))"
   ]
  },
  {
   "cell_type": "code",
   "execution_count": 9,
   "metadata": {},
   "outputs": [
    {
     "name": "stdout",
     "output_type": "stream",
     "text": [
      "['a', 'b', 'c', 'd'] [['a', 'b', 'c', 'd'], ['a', 'b', 'c', 'd']]\n",
      "['a', 'b', 'dd', 'd'] [['a', 'b', 'dd', 'd'], ['a', 'b', 'dd', 'd']]\n"
     ]
    }
   ],
   "source": [
    "x = ['a','b','c','d']\n",
    "lst = [x, x]\n",
    "print(x, lst)\n",
    "x[2] = 'dd'\n",
    "print(x, lst)"
   ]
  },
  {
   "cell_type": "markdown",
   "metadata": {},
   "source": [
    "#### Copy with the Slice Operator"
   ]
  },
  {
   "cell_type": "markdown",
   "metadata": {},
   "source": [
    "Copying using slice can help us upto a certain level as shown in the below example"
   ]
  },
  {
   "cell_type": "code",
   "execution_count": 3,
   "metadata": {},
   "outputs": [],
   "source": [
    "# immutable values based list\n",
    "\n",
    "x = ['a b','b c','c','d']\n",
    "y = x[:2]"
   ]
  },
  {
   "cell_type": "code",
   "execution_count": 5,
   "metadata": {},
   "outputs": [
    {
     "name": "stdout",
     "output_type": "stream",
     "text": [
      "['a b', 'b c', 'c', 'd'] ['a b', 'b c']\n",
      "4514777984 4515330752\n"
     ]
    }
   ],
   "source": [
    "print(x, y)\n",
    "# Good :)\n",
    "print(id(x), id(y))"
   ]
  },
  {
   "cell_type": "code",
   "execution_count": 6,
   "metadata": {},
   "outputs": [
    {
     "name": "stdout",
     "output_type": "stream",
     "text": [
      "4515506416 4515506416\n",
      "['a b', '33', 'c', 'd'] ['a b', 'b c']\n"
     ]
    }
   ],
   "source": [
    "# but :(\n",
    "print(id(x[1]), id(y[1]))\n",
    "# as they are immutable, the value of only one will get updated. \n",
    "x[1] = \"33\"\n",
    "print(x, y)"
   ]
  },
  {
   "cell_type": "code",
   "execution_count": 13,
   "metadata": {},
   "outputs": [
    {
     "name": "stdout",
     "output_type": "stream",
     "text": [
      "4372712736 4371927280\n",
      "4372797808 4372788272\n"
     ]
    }
   ],
   "source": [
    "# Good :)\n",
    "print(id(x), id(y))\n",
    "# but :(\n",
    "print(id(x[1]), id(y[1]))"
   ]
  },
  {
   "cell_type": "markdown",
   "metadata": {},
   "source": [
    "but may will fail, if we have mutable data-types with in the list as shown in below examples"
   ]
  },
  {
   "cell_type": "code",
   "execution_count": 14,
   "metadata": {},
   "outputs": [
    {
     "name": "stdout",
     "output_type": "stream",
     "text": [
      "[['a1', 'b1', 'c1'], 'a', 'b', 'c', 'd'] [['a1', 'b1', 'c1'], 'a', 'b', 'c', 'd']\n",
      "4372571552 4371930400\n"
     ]
    }
   ],
   "source": [
    "x = [[\"a1\", \"b1\", \"c1\"],'a','b','c','d']\n",
    "y = x[:]\n",
    "print(x, y)\n",
    "# Good :)\n",
    "print(id(x), id(y))"
   ]
  },
  {
   "cell_type": "code",
   "execution_count": 15,
   "metadata": {},
   "outputs": [
    {
     "name": "stdout",
     "output_type": "stream",
     "text": [
      "4371930800 4371930800\n"
     ]
    }
   ],
   "source": [
    "# but :(\n",
    "print(id(x[0]), id(y[0]))\n",
    "# thus "
   ]
  },
  {
   "cell_type": "code",
   "execution_count": 16,
   "metadata": {},
   "outputs": [
    {
     "name": "stdout",
     "output_type": "stream",
     "text": [
      "[['a1', '33', 'c1'], 'a', 'b', 'c', 'd'] [['a1', '33', 'c1'], 'a', 'b', 'c', 'd']\n",
      "4372571552 4371930400\n",
      "4338113136 4338113136\n"
     ]
    }
   ],
   "source": [
    "x[0][1] = \"33\"\n",
    "# oops\n",
    "print(x, y)\n",
    "# Good :)\n",
    "print(id(x), id(y))\n",
    "# but :(\n",
    "print(id(x[1]), id(y[1]))"
   ]
  },
  {
   "cell_type": "markdown",
   "metadata": {},
   "source": [
    "Since `['a1', '33', 'c1']` is same on both the lists, changing elements in one list will also get updated in the second list as they are pointing to the same list"
   ]
  },
  {
   "cell_type": "markdown",
   "metadata": {},
   "source": [
    "Now we now know that in Python **Assignment statements do not _copy objects_, instead they create bindings between a target and an object** and can't be used to create a copy of the existing object. "
   ]
  },
  {
   "cell_type": "markdown",
   "metadata": {},
   "source": [
    "Few More Examples for better understanding"
   ]
  },
  {
   "cell_type": "code",
   "execution_count": 17,
   "metadata": {},
   "outputs": [
    {
     "name": "stdout",
     "output_type": "stream",
     "text": [
      "[1, 2, 3]\n",
      "2\n",
      "3\n",
      "4\n",
      "[1, 2, 3]\n"
     ]
    }
   ],
   "source": [
    "magic_list = [1,2,3]\n",
    "print (magic_list)  \n",
    "for i in magic_list:\n",
    "    i = i+1\n",
    "    print (i)\n",
    "print (magic_list) "
   ]
  },
  {
   "cell_type": "code",
   "execution_count": 18,
   "metadata": {},
   "outputs": [
    {
     "name": "stdout",
     "output_type": "stream",
     "text": [
      "['1', '2', '3']\n",
      "11\n",
      "21\n",
      "31\n",
      "['1', '2', '3']\n"
     ]
    }
   ],
   "source": [
    "magic_list = [\"1\",\"2\",\"3\"]\n",
    "print (magic_list)  \n",
    "for i in magic_list:\n",
    "    i = i+str(1)\n",
    "    print (i)\n",
    "print (magic_list) "
   ]
  },
  {
   "cell_type": "code",
   "execution_count": 19,
   "metadata": {},
   "outputs": [
    {
     "name": "stdout",
     "output_type": "stream",
     "text": [
      "4372839632\n",
      "4372839632\n",
      "['a', 'b', ['ab', 'ba']]\n",
      "['a', 'b', ['ab', 'ba']]\n",
      "['a', 'b', ['ab', 'new']]\n",
      "['a', 'b', ['ab', 'new']]\n",
      "['new1', 'b', ['ab', 'new']]\n",
      "['new1', 'b', ['ab', 'new']]\n",
      "as\n",
      "['new1', 'b', ['ab', 'new']]\n",
      "4338926960\n",
      "4372839632\n"
     ]
    }
   ],
   "source": [
    "lst1 = ['a','b',['ab','ba']]\n",
    "print(id(lst1))\n",
    "lst2 = lst1\n",
    "print(id(lst2))\n",
    "print(lst1)\n",
    "print(lst2)\n",
    "lst1[2][1] = \"new\"\n",
    "print(lst1)\n",
    "print(lst2)\n",
    "lst1[0] = \"new1\"\n",
    "print(lst1)\n",
    "print(lst2)\n",
    "lst1 = \"as\"\n",
    "print(lst1)\n",
    "print(lst2)\n",
    "\n",
    "print(id(lst1))\n",
    "print(id(lst2))"
   ]
  },
  {
   "cell_type": "code",
   "execution_count": 20,
   "metadata": {},
   "outputs": [
    {
     "name": "stdout",
     "output_type": "stream",
     "text": [
      "10\n",
      "10\n",
      "4335533136\n",
      "4335533136\n",
      "4335533168\n",
      "4335533136\n"
     ]
    }
   ],
   "source": [
    "x = 10\n",
    "y = x\n",
    "print(x)\n",
    "print(y)\n",
    "print(id(x))\n",
    "print(id(y))\n",
    "x = 11\n",
    "print(id(x))\n",
    "print(id(y))"
   ]
  },
  {
   "cell_type": "markdown",
   "metadata": {},
   "source": [
    "<img src=\"files/shallowcopy1.png\" width=300>\n",
    "\n",
    "<img src=\"files/shallowcopy2.png\" width=300>\n",
    "\n",
    "<img src=\"files/shallowcopy3.png\" width=470>"
   ]
  },
  {
   "cell_type": "markdown",
   "metadata": {},
   "source": [
    "For collections which are mutable or contain mutable items, copy is sometimes needed so one can change one copy without changing the other. \n",
    "Fortunately we have This module provides generic shallow and deep copy operations called **`copy`**. \n",
    "It provides two functions, one for **shallow copy** and another for **deep copy**. "
   ]
  },
  {
   "cell_type": "markdown",
   "metadata": {},
   "source": [
    "### Shallow Copy - copy.copy(x)"
   ]
  },
  {
   "cell_type": "markdown",
   "metadata": {},
   "source": [
    "**`Shallow copy` duplicates minimal possible**\n",
    "\n",
    "`Shallow copy` of a collection is a copy of the collection structure, but not the elements. After shallow copy, both original and copied collection, share the individual elements.\n",
    "\n",
    "Lets examine the below example for details"
   ]
  },
  {
   "cell_type": "code",
   "execution_count": 21,
   "metadata": {},
   "outputs": [],
   "source": [
    "import copy\n",
    "\n",
    "class MyClass:\n",
    "    def __init__(self, name): # contructor\n",
    "        self.name = name\n",
    "        \n",
    "    def __cmp__(self, other):\n",
    "        return cmp(self.name, other.name)"
   ]
  },
  {
   "cell_type": "code",
   "execution_count": 22,
   "metadata": {
    "scrolled": true
   },
   "outputs": [],
   "source": [
    "a = MyClass('a')\n",
    "l = [a, 10]\n",
    "dup = copy.copy(l)"
   ]
  },
  {
   "cell_type": "code",
   "execution_count": 23,
   "metadata": {},
   "outputs": [
    {
     "name": "stdout",
     "output_type": "stream",
     "text": [
      "l  : [<__main__.MyClass object at 0x104a197d0>, 10]\n",
      "dup: [<__main__.MyClass object at 0x104a197d0>, 10]\n"
     ]
    }
   ],
   "source": [
    "print ('l  :', l)\n",
    "print ('dup:', dup)"
   ]
  },
  {
   "cell_type": "code",
   "execution_count": 24,
   "metadata": {},
   "outputs": [
    {
     "name": "stdout",
     "output_type": "stream",
     "text": [
      "dup is l: False\n",
      "dup == l: True\n",
      "dup[0] is l[0]: True\n",
      "dup[0] == l[0]: True\n"
     ]
    }
   ],
   "source": [
    "print ('dup is l:', (dup is l))\n",
    "print ('dup == l:', (dup == l))\n",
    "print ('dup[0] is l[0]:', (dup[0] is l[0]))\n",
    "print ('dup[0] == l[0]:', (dup[0] == l[0]))"
   ]
  },
  {
   "cell_type": "code",
   "execution_count": 25,
   "metadata": {},
   "outputs": [
    {
     "name": "stdout",
     "output_type": "stream",
     "text": [
      "4372711536 4372610096\n"
     ]
    }
   ],
   "source": [
    "x = [[\"a\"], [\"b\"], [\"c\"]]\n",
    "dup_x = copy.copy(x)\n",
    "print(id(x), id(dup_x))"
   ]
  },
  {
   "cell_type": "code",
   "execution_count": 26,
   "metadata": {},
   "outputs": [
    {
     "name": "stdout",
     "output_type": "stream",
     "text": [
      "4371930400 4371930400\n"
     ]
    }
   ],
   "source": [
    "print(id(x[0]), id(dup_x[0]))"
   ]
  },
  {
   "cell_type": "code",
   "execution_count": 27,
   "metadata": {},
   "outputs": [
    {
     "name": "stdout",
     "output_type": "stream",
     "text": [
      "4338113136 4338113136\n"
     ]
    }
   ],
   "source": [
    "print(id(x[0][0]), id(dup_x[0][0]))"
   ]
  },
  {
   "cell_type": "code",
   "execution_count": 28,
   "metadata": {},
   "outputs": [],
   "source": [
    "x[0].append(\"xyz\")"
   ]
  },
  {
   "cell_type": "code",
   "execution_count": 29,
   "metadata": {},
   "outputs": [
    {
     "name": "stdout",
     "output_type": "stream",
     "text": [
      "4338113136 4338113136\n"
     ]
    }
   ],
   "source": [
    "print(id(x[0][0]), id(dup_x[0][0]))"
   ]
  },
  {
   "cell_type": "code",
   "execution_count": 30,
   "metadata": {},
   "outputs": [
    {
     "name": "stdout",
     "output_type": "stream",
     "text": [
      "[['a', 'xyz'], ['b'], ['c']] [['a', 'xyz'], ['b'], ['c']]\n"
     ]
    }
   ],
   "source": [
    "print(x, dup_x)"
   ]
  },
  {
   "cell_type": "code",
   "execution_count": 31,
   "metadata": {},
   "outputs": [],
   "source": [
    "x.append(\"x\")"
   ]
  },
  {
   "cell_type": "code",
   "execution_count": 32,
   "metadata": {},
   "outputs": [
    {
     "name": "stdout",
     "output_type": "stream",
     "text": [
      "[['a', 'xyz'], ['b'], ['c'], 'x'] [['a', 'xyz'], ['b'], ['c']]\n"
     ]
    }
   ],
   "source": [
    "print(x, dup_x)"
   ]
  },
  {
   "cell_type": "markdown",
   "metadata": {},
   "source": [
    "## Deep Copy - `copy.deepcopy(x)`"
   ]
  },
  {
   "cell_type": "markdown",
   "metadata": {},
   "source": [
    "Return a deep copy of x. Use when we have mutable elements."
   ]
  },
  {
   "cell_type": "code",
   "execution_count": 33,
   "metadata": {},
   "outputs": [
    {
     "name": "stdout",
     "output_type": "stream",
     "text": [
      "4371927760 4372736112\n"
     ]
    }
   ],
   "source": [
    "x = [[[\"a b\"], 10292], [\"b c\"], [\"c d\"]]\n",
    "dup_x = copy.deepcopy(x)\n",
    "print(id(x), id(dup_x))"
   ]
  },
  {
   "cell_type": "code",
   "execution_count": 34,
   "metadata": {},
   "outputs": [
    {
     "name": "stdout",
     "output_type": "stream",
     "text": [
      "4372840112 4372838352\n"
     ]
    }
   ],
   "source": [
    "print(id(x[0]), id(dup_x[0]))"
   ]
  },
  {
   "cell_type": "code",
   "execution_count": 35,
   "metadata": {},
   "outputs": [
    {
     "name": "stdout",
     "output_type": "stream",
     "text": [
      "4372839312 4372839232\n",
      "['a b'] ['a b']\n"
     ]
    }
   ],
   "source": [
    "# Only mutable objects are copied.\n",
    "print(id(x[0][0]), id(dup_x[0][0]))\n",
    "print(x[0][0], dup_x[0][0])"
   ]
  },
  {
   "cell_type": "code",
   "execution_count": 36,
   "metadata": {},
   "outputs": [
    {
     "name": "stdout",
     "output_type": "stream",
     "text": [
      "4372893040 4372893040\n",
      "a b a b\n"
     ]
    }
   ],
   "source": [
    "# and immutable objects are same. As only mutable object will\n",
    "# have any side effects.\n",
    "print(id(x[0][0][0]), id(dup_x[0][0][0]))\n",
    "print(x[0][0][0], dup_x[0][0][0])"
   ]
  },
  {
   "cell_type": "code",
   "execution_count": 37,
   "metadata": {},
   "outputs": [],
   "source": [
    "x[0].append(\"xyz\")"
   ]
  },
  {
   "cell_type": "code",
   "execution_count": 38,
   "metadata": {},
   "outputs": [
    {
     "name": "stdout",
     "output_type": "stream",
     "text": [
      "4372839312 4372839232\n"
     ]
    }
   ],
   "source": [
    "print(id(x[0][0]), id(dup_x[0][0]))"
   ]
  },
  {
   "cell_type": "code",
   "execution_count": 39,
   "metadata": {},
   "outputs": [
    {
     "name": "stdout",
     "output_type": "stream",
     "text": [
      "[[['a b'], 10292, 'xyz'], ['b c'], ['c d']] [[['a b'], 10292], ['b c'], ['c d']]\n"
     ]
    }
   ],
   "source": [
    "print(x, dup_x)"
   ]
  },
  {
   "cell_type": "code",
   "execution_count": 40,
   "metadata": {},
   "outputs": [
    {
     "name": "stdout",
     "output_type": "stream",
     "text": [
      "l  : [<__main__.MyClass object at 0x104a40390>]\n",
      "dup: [<__main__.MyClass object at 0x104a40a10>]\n",
      "dup is l: False\n",
      "dup == l: False\n",
      "dup[0] is l[0]: False\n",
      "dup[0] == l[0]: False\n"
     ]
    }
   ],
   "source": [
    "a = MyClass('a')\n",
    "l = [ a ]\n",
    "dup = copy.deepcopy(l)\n",
    "print ('l  :', l)\n",
    "print ('dup:', dup)\n",
    "print ('dup is l:', (dup is l))\n",
    "print ('dup == l:', (dup == l))\n",
    "print ('dup[0] is l[0]:', (dup[0] is l[0]))\n",
    "print ('dup[0] == l[0]:', (dup[0] == l[0]))"
   ]
  },
  {
   "cell_type": "code",
   "execution_count": 41,
   "metadata": {},
   "outputs": [
    {
     "name": "stdout",
     "output_type": "stream",
     "text": [
      "4372734272\n",
      "4372610176\n",
      "4337568368\n",
      "4337568368\n",
      "b\n"
     ]
    }
   ],
   "source": [
    "# shallow copy \n",
    "import copy\n",
    "\n",
    "lst1 = ['a','b',['ab','ba']]\n",
    "lst2 = copy.copy(lst1)\n",
    "\n",
    "# print(id(lst1))\n",
    "# print(id(lst2))\n",
    "# print(lst1)\n",
    "# print(lst2)\n",
    "# lst1[2][1] = \"new\"\n",
    "# print(lst1)\n",
    "# print(lst2)\n",
    "# lst1[0] = \"new1\"\n",
    "# print(lst1)\n",
    "# print(lst2)\n",
    "# lst1 = \"as\"\n",
    "# print(lst1)\n",
    "# print(lst2)\n",
    "\n",
    "print(id(lst1))\n",
    "print(id(lst2))\n",
    "print(id(lst1[1]))\n",
    "print(id(lst2[1]))\n",
    "print(lst1[1])"
   ]
  },
  {
   "cell_type": "code",
   "execution_count": 42,
   "metadata": {},
   "outputs": [
    {
     "name": "stdout",
     "output_type": "stream",
     "text": [
      "4372735472\n",
      "4372608176\n",
      "['a', 'b', ['ab', 'ba']]\n",
      "['a', 'b', ['ab', 'ba']]\n",
      "['a', 'b', ['ab', 'new']]\n",
      "['a', 'b', ['ab', 'ba']]\n",
      "['new1', 'b', ['ab', 'new']]\n",
      "['a', 'b', ['ab', 'ba']]\n",
      "as\n",
      "['a', 'b', ['ab', 'ba']]\n"
     ]
    }
   ],
   "source": [
    "# shallow copy \n",
    "import copy\n",
    "\n",
    "lst1 = ['a','b',['ab','ba']]\n",
    "lst2 = copy.deepcopy(lst1)\n",
    "\n",
    "print(id(lst1))\n",
    "print(id(lst2))\n",
    "print(lst1)\n",
    "print(lst2)\n",
    "lst1[2][1] = \"new\"\n",
    "print(lst1)\n",
    "print(lst2)\n",
    "lst1[0] = \"new1\"\n",
    "print(lst1)\n",
    "print(lst2)\n",
    "lst1 = \"as\"\n",
    "print(lst1)\n",
    "print(lst2)\n",
    "\n",
    "# # print(id(lst3))\n",
    "# print(id(lst4))\n",
    "# print(id(lst3[1]))\n",
    "# print(id(lst4[1]))\n",
    "# print(lst3[1])"
   ]
  },
  {
   "cell_type": "code",
   "execution_count": 43,
   "metadata": {},
   "outputs": [
    {
     "name": "stdout",
     "output_type": "stream",
     "text": [
      "Original team\n",
      "Lisa\n",
      "Trained as Graphic Designer\n",
      "Aged 21\n",
      "Graham\n",
      "Trained as Support Manager\n",
      "Aged 51\n",
      "Charlie\n",
      "Trained as Unknown\n",
      "Aged 9\n",
      "\n",
      "Team after changes\n",
      "Lisa\n",
      "Trained as Graphic Designer\n",
      "Aged 21\n",
      "Graham\n",
      "Trained as Support Manager\n",
      "Aged 53\n",
      "Charlotte\n",
      "Trained as Cat's home entertainer\n",
      "Aged 10\n",
      "\n",
      "Deep copy - no changes from original\n",
      "Lisa\n",
      "Trained as Graphic Designer\n",
      "Aged 21\n",
      "Graham\n",
      "Trained as Support Manager\n",
      "Aged 51\n",
      "Charlie\n",
      "Trained as Unknown\n",
      "Aged 9\n",
      "\n",
      "Shallow copy - some changes\n",
      "Lisa\n",
      "Trained as Graphic Designer\n",
      "Aged 21\n",
      "Graham\n",
      "Trained as Support Manager\n",
      "Aged 53\n",
      "Charlie\n",
      "Trained as Unknown\n",
      "Aged 9\n",
      "\n",
      "Normal copy (alias) - all changes shown\n",
      "Lisa\n",
      "Trained as Graphic Designer\n",
      "Aged 21\n",
      "Graham\n",
      "Trained as Support Manager\n",
      "Aged 53\n",
      "Charlotte\n",
      "Trained as Cat's home entertainer\n",
      "Aged 10\n",
      "\n"
     ]
    }
   ],
   "source": [
    "from copy import deepcopy\n",
    "\n",
    "\n",
    "class person(object):\n",
    "\n",
    "    def __init__ (this, name, background, age):\n",
    "        this.name=name\n",
    "        this.background=background\n",
    "        this.age=age\n",
    "\n",
    "    def setage (this,age):\n",
    "        this.age = age\n",
    "\n",
    "    def __str__(this):\n",
    "        retst = this.name + \"\\nTrained as \"\n",
    "        retst += this.background + \"\\nAged \"\n",
    "        retst += str(this.age) + \"\\n\"\n",
    "        return retst\n",
    "\n",
    "def tlist(source,demo):\n",
    "    tl = demo + \"\\n\"\n",
    "    for pers in source:\n",
    "        tl += str(pers)\n",
    "    return tl\n",
    "\n",
    "team = []\n",
    "team.append(person(\"Lisa\",\"Graphic Designer\",21))\n",
    "team.append(person(\"Graham\",\"Support Manager\",51))\n",
    "team.append(person(\"Charlie\",\"Unknown\",9))\n",
    "\n",
    "# firstyear is a clone of all levels of team - a full copy.\n",
    "# Changes to team will NOT effect firstyear\n",
    "firstyear = deepcopy(team)\n",
    "\n",
    "# secondyear is a copy of all the team member references but\n",
    "# not of the individual data for each team member. Changes to\n",
    "# team will NOT effect secondyear, but changes to attributes\n",
    "# of members within the team will.\n",
    "secondyear = team[:]\n",
    "\n",
    "# thirdyear is an alternative name for team, so any changes\n",
    "# to team will also be changes to thirdyear.\n",
    "thirdyear = team\n",
    "\n",
    "print (tlist(team,\"Original team\"))\n",
    "team[2] = person(\"Charlotte\",\"Cat's home entertainer\",10)\n",
    "team[1].setage(53)\n",
    "print (tlist(team,\"Team after changes\"))\n",
    "\n",
    "print (tlist(firstyear,\"Deep copy - no changes from original\"))\n",
    "print (tlist(secondyear,\"Shallow copy - some changes\"))\n",
    "print (tlist(thirdyear,\"Normal copy (alias) - all changes shown\"))"
   ]
  },
  {
   "cell_type": "markdown",
   "metadata": {},
   "source": [
    "### Difference between shallow and deep copying"
   ]
  },
  {
   "cell_type": "markdown",
   "metadata": {},
   "source": [
    "The difference between shallow and deep copying is only relevant for compound objects (objects that contain other objects, like lists or class instances):\n",
    "\n",
    "    A shallow copy constructs a new compound object and then (to the extent possible) inserts references into it to the objects found in the original.\n",
    "    A deep copy constructs a new compound object and then, recursively, inserts copies into it of the objects found in the original.\n",
    "\n",
    "Two problems often exist with deep copy operations that don't exist with shallow copy operations:\n",
    "\n",
    "    Recursive objects (compound objects that, directly or indirectly, contain a reference to themselves) may cause a recursive loop.\n",
    "    Because deep copy copies everything it may copy too much, such as data which is intended to be shared between copies.\n",
    "\n",
    "The deepcopy() function avoids these problems by:\n",
    "\n",
    "    keeping a 'memo' dictionary of objects already copied during the current copying pass; and\n",
    "    letting user-defined classes override the copying operation or the set of components copied."
   ]
  },
  {
   "cell_type": "markdown",
   "metadata": {},
   "source": [
    "### Controlling Copy Behavior"
   ]
  },
  {
   "cell_type": "markdown",
   "metadata": {},
   "source": [
    "It is possible to control how copies are made using the __copy__ and __deepcopy__ hooks.\n",
    "\n",
    "    __copy__() is called without any arguments and should return a shallow copy of the object.\n",
    "    __deepcopy__() is called with a memo dictionary, and should return a deep copy of the object. Any member attributes that need to be deep-copied should be passed to copy.deepcopy(), along with the memo dictionary, to control for recursion (see below).\n",
    "\n",
    "This example illustrates how the methods are called:"
   ]
  },
  {
   "cell_type": "code",
   "execution_count": 44,
   "metadata": {},
   "outputs": [
    {
     "name": "stdout",
     "output_type": "stream",
     "text": [
      "__copy__()\n",
      "__deepcopy__({})\n"
     ]
    }
   ],
   "source": [
    "import copy\n",
    "\n",
    "class MyClass:\n",
    "    def __init__(self, name):\n",
    "        self.name = name\n",
    "    \n",
    "    def __cmp__(self, other):\n",
    "        return cmp(self.name, other.name)\n",
    "    \n",
    "    def __copy__(self):\n",
    "        print ('__copy__()')\n",
    "        return MyClass(self.name)\n",
    "    \n",
    "    def __deepcopy__(self, memo):\n",
    "        print ('__deepcopy__(%s)' % str(memo))\n",
    "        return MyClass(copy.deepcopy(self.name, memo))\n",
    "\n",
    "a = MyClass('a')\n",
    "\n",
    "sc = copy.copy(a)\n",
    "dc = copy.deepcopy(a)"
   ]
  },
  {
   "cell_type": "code",
   "execution_count": 45,
   "metadata": {},
   "outputs": [
    {
     "name": "stdout",
     "output_type": "stream",
     "text": [
      "True\n",
      "True\n"
     ]
    }
   ],
   "source": [
    "# quick and dirty way to find mutable object\n",
    "x = [10, 2]\n",
    "print(isinstance(x, (list, tuple, dict)))\n",
    "print('__iter__' in dir(x))  \n",
    "# this should work in all except tuple, but tuple can also \n",
    "# contain mutable data, so its ok."
   ]
  },
  {
   "cell_type": "code",
   "execution_count": 46,
   "metadata": {},
   "outputs": [
    {
     "name": "stdout",
     "output_type": "stream",
     "text": [
      "False\n",
      "True\n"
     ]
    }
   ],
   "source": [
    "# quick and dirty way to find mutable object\n",
    "x = \"[10, 2]\"\n",
    "print(isinstance(x, (list, tuple, dict)))\n",
    "print('__iter__' in dir(x))  \n",
    "# this should work in all except tuple & string, but tuple can also \n",
    "# contain mutable data, so its ok."
   ]
  },
  {
   "cell_type": "markdown",
   "metadata": {},
   "source": [
    "## References\n",
    "\n",
    "* http://www.python-course.eu/deep_copy.php\n",
    "* http://www.shahmoradi.org/ECL2017S/lecture/5-python-variables-assignments\n",
    "* https://medium.com/broken-window/many-names-one-memory-address-122f78734cb6"
   ]
  }
 ],
 "metadata": {
  "kernelspec": {
   "display_name": "Python 3",
   "language": "python",
   "name": "python3"
  },
  "language_info": {
   "codemirror_mode": {
    "name": "ipython",
    "version": 3
   },
   "file_extension": ".py",
   "mimetype": "text/x-python",
   "name": "python",
   "nbconvert_exporter": "python",
   "pygments_lexer": "ipython3",
   "version": "3.8.0"
  }
 },
 "nbformat": 4,
 "nbformat_minor": 2
}
