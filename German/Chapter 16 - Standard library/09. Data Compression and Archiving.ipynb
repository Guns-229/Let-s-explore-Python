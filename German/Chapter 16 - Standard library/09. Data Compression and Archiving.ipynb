{
 "cells": [
  {
   "cell_type": "markdown",
   "metadata": {},
   "source": [
    "## Data Compression and Archiving"
   ]
  },
  {
   "cell_type": "markdown",
   "metadata": {},
   "source": [
    "zlib — Compression compatible with gzip\n",
    "𝑇𝑂𝐷𝑂\n",
    " \n",
    "gzip — Support for gzip files\n",
    "𝑇𝑂𝐷𝑂\n",
    " \n",
    "bz2 — Support for bzip2 compression\n",
    "𝑇𝑂𝐷𝑂\n",
    " \n",
    "lzma — Compression using the LZMA algorithm\n",
    "𝑇𝑂𝐷𝑂\n",
    " \n",
    "zipfile — Work with ZIP archives\n",
    "tarfile — Read and write tar archive files"
   ]
  }
 ],
 "metadata": {
  "kernelspec": {
   "display_name": "Python 3",
   "language": "python",
   "name": "python3"
  },
  "language_info": {
   "codemirror_mode": {
    "name": "ipython",
    "version": 3
   },
   "file_extension": ".py",
   "mimetype": "text/x-python",
   "name": "python",
   "nbconvert_exporter": "python",
   "pygments_lexer": "ipython3",
   "version": "3.7.4"
  }
 },
 "nbformat": 4,
 "nbformat_minor": 2
}
