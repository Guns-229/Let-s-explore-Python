{
 "cells": [
  {
   "cell_type": "markdown",
   "metadata": {},
   "source": [
    "## Numeric and Mathematical Modules"
   ]
  },
  {
   "cell_type": "markdown",
   "metadata": {},
   "source": [
    "numbers — Numeric abstract base classes\n",
    "𝑇𝑂𝐷𝑂\n",
    " \n",
    "math — Mathematical functions\n",
    "cmath — Mathematical functions for complex numbers\n",
    "𝑇𝑂𝐷𝑂\n",
    " \n",
    "decimal — Decimal fixed point and floating point arithmetic\n",
    "𝑇𝑂𝐷𝑂\n",
    " \n",
    "fractions — Rational numbers\n",
    "𝑇𝑂𝐷𝑂\n",
    " \n",
    "random — Generate pseudo-random numbers\n",
    "statistics — Mathematical statistics functions"
   ]
  }
 ],
 "metadata": {
  "kernelspec": {
   "display_name": "Python 3",
   "language": "python",
   "name": "python3"
  },
  "language_info": {
   "codemirror_mode": {
    "name": "ipython",
    "version": 3
   },
   "file_extension": ".py",
   "mimetype": "text/x-python",
   "name": "python",
   "nbconvert_exporter": "python",
   "pygments_lexer": "ipython3",
   "version": "3.7.4"
  }
 },
 "nbformat": 4,
 "nbformat_minor": 2
}
