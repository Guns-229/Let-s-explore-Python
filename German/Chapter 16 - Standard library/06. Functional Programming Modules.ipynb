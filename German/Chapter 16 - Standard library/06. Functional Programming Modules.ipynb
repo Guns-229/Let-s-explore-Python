{
 "cells": [
  {
   "cell_type": "markdown",
   "metadata": {},
   "source": [
    "## Functional Programming Modules - TODO"
   ]
  },
  {
   "cell_type": "markdown",
   "metadata": {},
   "source": [
    "itertools — Functions creating iterators for efficient looping\n",
    "$$𝑇𝑂𝐷𝑂$$\n",
    " \n",
    "functools — Higher-order functions and operations on callable objects\n",
    "$$𝑇𝑂𝐷𝑂$$\n",
    " \n",
    "operator — Standard operators as functions\n",
    "$$𝑇𝑂𝐷𝑂$$"
   ]
  }
 ],
 "metadata": {
  "kernelspec": {
   "display_name": "Python 3",
   "language": "python",
   "name": "python3"
  },
  "language_info": {
   "codemirror_mode": {
    "name": "ipython",
    "version": 3
   },
   "file_extension": ".py",
   "mimetype": "text/x-python",
   "name": "python",
   "nbconvert_exporter": "python",
   "pygments_lexer": "ipython3",
   "version": "3.7.4"
  }
 },
 "nbformat": 4,
 "nbformat_minor": 2
}
