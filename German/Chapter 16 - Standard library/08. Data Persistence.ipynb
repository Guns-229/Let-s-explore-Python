{
 "cells": [
  {
   "cell_type": "markdown",
   "metadata": {},
   "source": [
    "## Data Persistence - TODO"
   ]
  },
  {
   "cell_type": "markdown",
   "metadata": {},
   "source": [
    "pickle — Python object serialization\n",
    "copyreg — Register pickle support functions\n",
    "𝑇𝑂𝐷𝑂\n",
    " \n",
    "shelve — Python object persistence\n",
    "𝑇𝑂𝐷𝑂\n",
    " \n",
    "marshal — Internal Python object serialization\n",
    "𝑇𝑂𝐷𝑂\n",
    " \n",
    "dbm — Interfaces to Unix “databases”\n",
    "𝑇𝑂𝐷𝑂\n",
    " \n",
    "sqlite3 — DB-API 2.0 interface for SQLite databases"
   ]
  }
 ],
 "metadata": {
  "kernelspec": {
   "display_name": "Python 3",
   "language": "python",
   "name": "python3"
  },
  "language_info": {
   "codemirror_mode": {
    "name": "ipython",
    "version": 3
   },
   "file_extension": ".py",
   "mimetype": "text/x-python",
   "name": "python",
   "nbconvert_exporter": "python",
   "pygments_lexer": "ipython3",
   "version": "3.7.4"
  }
 },
 "nbformat": 4,
 "nbformat_minor": 2
}
