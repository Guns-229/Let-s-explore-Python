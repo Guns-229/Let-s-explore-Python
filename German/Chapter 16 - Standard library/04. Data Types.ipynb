{
 "cells": [
  {
   "cell_type": "markdown",
   "metadata": {},
   "source": [
    "## Data Types"
   ]
  },
  {
   "cell_type": "markdown",
   "metadata": {},
   "source": [
    "datetime — Basic date and time types\n",
    "calendar — General calendar-related functions\n",
    "𝑇𝑂𝐷𝑂\n",
    " \n",
    "collections — Container datatypes\n",
    "collections.abc — Abstract Base Classes for Containers\n",
    "heapq — Heap queue algorithm\n",
    "𝑇𝑂𝐷𝑂\n",
    " \n",
    "bisect — Array bisection algorithm\n",
    "𝑇𝑂𝐷𝑂\n",
    " \n",
    "array — Efficient arrays of numeric values\n",
    "𝑇𝑂𝐷𝑂\n",
    " \n",
    "weakref — Weak references\n",
    "types — Dynamic type creation and names for built-in types\n",
    "copy — Shallow and deep copy operations\n",
    "pprint — Data pretty printer\n",
    "𝑇𝑂𝐷𝑂\n",
    " \n",
    "reprlib — Alternate repr() implementation\n",
    "𝑇𝑂𝐷𝑂\n",
    " \n",
    "enum — Support for enumerations"
   ]
  }
 ],
 "metadata": {
  "kernelspec": {
   "display_name": "Python 3",
   "language": "python",
   "name": "python3"
  },
  "language_info": {
   "codemirror_mode": {
    "name": "ipython",
    "version": 3
   },
   "file_extension": ".py",
   "mimetype": "text/x-python",
   "name": "python",
   "nbconvert_exporter": "python",
   "pygments_lexer": "ipython3",
   "version": "3.7.4"
  }
 },
 "nbformat": 4,
 "nbformat_minor": 2
}
