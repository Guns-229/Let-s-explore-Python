{
 "cells": [
  {
   "cell_type": "markdown",
   "metadata": {},
   "source": [
    "# Chapter 1 - Introduction to Python"
   ]
  },
  {
   "cell_type": "markdown",
   "metadata": {},
   "source": [
    "[Python](http://www.python.org) Python ist eine objektorientierte, **dynamische**<sup>1</sup>, **stark typisierende**<sup>2</sup>, **interpretierte<sup>4</sup>** und **interaktive<sup>5</sup>** Programmiersprache auf sehr hohem Niveau."
   ]
  },
  {
   "cell_type": "markdown",
   "metadata": {},
   "source": [
    "> 1. **Dynamische Programmiersprache**: Sie führt zur Laufzeit viele gängige Programmieraufgaben aus, die statische Programmiersprachen während der Kompilierung ausführen, z\n",
    "    - Berechnung des Codes zur Laufzeit und späte Bindung\n",
    "    - Änderung von Objekten zur Laufzeit\n",
    "    - Zusammenstellen von Code zur Laufzeit basierend auf der Klasse der Instanzen\n",
    "- **Stark typisiert**: Tippfehler werden zur Laufzeit mithilfe der impliziten Typkonvertierung verhindert. Außerdem wird keine statische Typprüfung durchgeführt, d. H. Der Compiler überprüft keine Typbeschränkungsregeln und meldet solche Fehler. Der Begriff **Ententypisierung**<sup>3</sup> wird nun verwendet, um das dynamische Typisierungsparadigma zu beschreiben.\n",
    "- **Ententypisierung** (https://en.wikipedia.org/wiki/Duck_typing) ist eine Anwendung des Ententests in der Typensicherheit. Dies bedeutet, dass die Typprüfung von Variablen und Daten nur zur Laufzeit erfolgt und durch dynamische Typisierung oder durch Reflexion implementiert wird.\n",
    "- **interpretiert**: Anstatt kompiliert zu werden, wird der Quellcode zur Laufzeit von Python interpretiert und dann ausgeführt.\n",
    "- **Interaktiv**: Python bietet eine interaktive Shell, in der Sie jeweils eine Zeile ausführen und den Code nach Bedarf aktualisieren können. Weitere Details zur Shell finden Sie weiter unten in diesem Abschnitt."
   ]
  },
  {
   "cell_type": "markdown",
   "metadata": {},
   "source": [
    "Es ist auch eine Open-Source-Sprache (mit einer Lizenz, die mit der General Public License (GPL) kompatibel ist, jedoch weniger restriktiv, sodass Python sogar in proprietäre Produkte integriert werden kann). Die Spezifikation wird von der Python Software Foundation (PSF) verwaltet."
   ]
  },
  {
   "cell_type": "markdown",
   "metadata": {},
   "source": [
    "## Hauptmerkmale"
   ]
  },
  {
   "cell_type": "markdown",
   "metadata": {},
   "source": [
    "Python ist seit 2006 aus folgenden Gründen meine Wahl der Programmiersprache:\n",
    "\n",
    "* Es verwendet eine einfache und elegante Syntax, die das Lesen und Verwalten des Codes erleichtert\n",
    "* Aufgrund seiner Einfachheit, Wartbarkeit und schnellen Entwicklung: seine ideale Sprache für die Prototypenentwicklung und Ad-hoc-Programmierung\n",
    "* Die Standardinstallation von Python enthält eine Vielzahl von Standardbibliotheken, die die meisten gängigen Programmieraufgaben unterstützen, z. B. das Entwickeln von REST-Clients, Websites, Socket-Programmieren, Suchen von Text mit regulären Ausdrücken, Lesen und Ändern von Dateien wie XML, JSON und YamL usw.\n",
    "* Der interaktive Modus von Python erleichtert das Überprüfen von Codeausschnitten.\n",
    "* Wird einfach durch Hinzufügen neuer Module erweitert, die in einer kompilierten Sprache wie C oder C ++ implementiert sind.\n",
    "* Kann auch in eine Anwendung eingebettet werden, um eine programmierbare Schnittstelle bereitzustellen.\n",
    "* Es kann auf fast allen Betriebssystemen ausgeführt werden, einschließlich Mac OS X, Windows, Linux und Unix.\n",
    "* Ist freie Software in zweierlei Hinsicht\n",
    "    * Das Herunterladen oder Verwenden von Python oder das Einfügen in Ihre Anwendung kostet nichts.\n",
    "    * Es kann frei geändert und weitergegeben werden, da die Sprache zwar urheberrechtlich geschützt ist, jedoch unter einer Open Source-Lizenz verfügbar ist.\n",
    "* Gebündelte Entwicklungsumgebung namens IDLE"
   ]
  },
  {
   "cell_type": "markdown",
   "metadata": {},
   "source": [
    "## Einige Programmiersprachenfunktionen von Python sind:"
   ]
  },
  {
   "cell_type": "markdown",
   "metadata": {},
   "source": [
    "* Viele grundlegende Datentypen:\n",
    "    * Zahlen (Gleitkomma-, komplexe und Ganzzahlen mit unbegrenzter Länge)\n",
    "    * Zeichenfolgen (sowohl ASCII als auch Unicode)\n",
    "    * Sammlungen (Listen, Wörterbücher)\n",
    "* Python unterstützt die objektorientierte Programmierung mit Klassen und Mehrfachvererbung.\n",
    "* Code kann in Module und Pakete gruppiert werden.\n",
    "* Die Sprache unterstützt das Auslösen und Abfangen von Ausnahmen, was zu einer saubereren Fehlerbehandlung führt.\n",
    "* Datentypen werden stark und dynamisch typisiert. Das Mischen inkompatibler Typen (z. B. der Versuch, eine Zeichenfolge und eine Zahl hinzuzufügen) führt dazu, dass eine Ausnahme ausgelöst wird, sodass Fehler früher erkannt werden.\n",
    "* Python enthält erweiterte Programmierfunktionen wie Generatoren und Listenverständnisse.\n",
    "* Durch die automatische Speicherverwaltung von Python müssen Sie den Speicher in Ihrem Code nicht manuell zuweisen und freigeben.\n",
    "\n",
    "Es ist möglich, Python in andere Sprachen wie C und Fortran zu integrieren. Im Allgemeinen hat es viele Ähnlichkeiten mit anderen dynamischen Sprachen wie Perl und Ruby."
   ]
  },
  {
   "cell_type": "markdown",
   "metadata": {},
   "source": [
    "## Geschichte"
   ]
  },
  {
   "cell_type": "markdown",
   "metadata": {
    "collapsed": true
   },
   "source": [
    "Die Sprache wurde 1990 von **Guido Van Rossum** am Nationalen Forschungsinstitut für Mathematik und Informatik in den Niederlanden (CWI) erstellt und hatte sich ursprünglich auf Benutzer als Physiker und Ingenieure konzentriert. Python wurde aus einer anderen existierenden Sprache namens ABC entwickelt.\n",
    "![Guido van Rossum](files/GuidoVanRossum.png)"
   ]
  },
  {
   "cell_type": "markdown",
   "metadata": {},
   "source": [
    "## Versionen"
   ]
  },
  {
   "cell_type": "markdown",
   "metadata": {},
   "source": [
    "Die offizielle Implementierung von Python wird von der PSF verwaltet und in C geschrieben und wird daher auch als CPython bezeichnet. Die neueste stabile Version steht zum Download zur Verfügung unter:\n",
    "\n",
    "http://www.python.org/download/\n",
    "\n",
    "Führen Sie für Windows-Plattformen einfach das Installationsprogramm aus. Für andere Plattformen wie Linux sollte Python bereits Teil des Systems sein. In seltenen Fällen müssen Sie es möglicherweise über die Systempaketverwaltung installieren. In sehr seltenen Fällen möchten Sie den Interpreter möglicherweise aus der Quelle kompilieren und installieren Dateien.\n",
    "\n",
    "Es gibt auch Implementierungen von Python für. NET (IronPython), JVM (Jython) und Python (PyPy)."
   ]
  },
  {
   "cell_type": "markdown",
   "metadata": {},
   "source": [
    "## Ausführung von Python-Programmen / Skripten"
   ]
  },
  {
   "cell_type": "markdown",
   "metadata": {},
   "source": [
    "### Wie Code aussieht"
   ]
  },
  {
   "cell_type": "markdown",
   "metadata": {},
   "source": [
    "Beispiel eines Python-Programms:"
   ]
  },
  {
   "cell_type": "code",
   "execution_count": 1,
   "metadata": {},
   "outputs": [
    {
     "name": "stdout",
     "output_type": "stream",
     "text": [
      "New Delhi\n",
      "Bhopal\n",
      "Chennai\n",
      "Mumbai\n"
     ]
    }
   ],
   "source": [
    "# Das Zeichen \"#\" konvertiert den darauf folgenden Text als Kommentar und\n",
    "# und wird daher von Python ignoriert\n",
    "\n",
    "# Eine Liste der Städte in Indien\n",
    "cities = ['New Delhi', 'Bhopal', 'Chennai', \"Mumbai\"]\n",
    "\n",
    "for city in cities:\n",
    "    print(city)"
   ]
  },
  {
   "cell_type": "markdown",
   "metadata": {},
   "source": [
    "Im obigen Beispiel ist \"Städte\" eine Liste mit wenigen indischen Städten \"Neu-Delhi\", \"Bhopal\", \"Chennai\" und \"Mumbai\". Wenn die for-Schleife ausgeführt wird, entspricht das Instrument einem Element aus Elementen auf der Liste, einem nach dem anderen Zeit."
   ]
  },
  {
   "cell_type": "markdown",
   "metadata": {},
   "source": [
    "### Executing the code"
   ]
  },
  {
   "cell_type": "markdown",
   "metadata": {},
   "source": [
    "As the python is an interpreted language, source code have to executed by running the command `python` and passing the main source file as a paramter.\n",
    "\n",
    "To understand it better lets save the above code in a text file and name it `ap1.py`. This will be our main source file. The source files are usually identified by the extension \".py\" and can be run directly by the interpreter. Now lets \n",
    "- open a command terminal (`cmd.exe` for `Windows` and respective terminal command for *inx's such as xterm, mate-terminal, terminology [https://www.enlightenment.org/about-terminology]). \n",
    "- Navigate to the directory where the `cities.py` file is stored.\n",
    "- execute the following command"
   ]
  },
  {
   "cell_type": "markdown",
   "metadata": {},
   "source": [
    "```\n",
    "$:> python cities.py\n",
    "```"
   ]
  },
  {
   "cell_type": "markdown",
   "metadata": {},
   "source": [
    "Thus `cities.py` will run. On Windows, the file extensions \".py\", \". pyw\", \". pyc\" and \". pyo\" are associated with Python automatically during installation, so just click a the file to run it. The \". pyw\" files run with an alternate version of the interpreter that does not open the console window."
   ]
  },
  {
   "cell_type": "markdown",
   "metadata": {},
   "source": [
    "## Dynamic Typing"
   ]
  },
  {
   "cell_type": "markdown",
   "metadata": {},
   "source": [
    "\n",
    "Python uses dynamic typing, which means that the type of a variable is inferred by the interpreter at runtime (this is known as *Duck Typing*). By the time a variable is created by attribution the interpreter defines the type of a variable, along with the operations that can be applied.\n",
    "\n",
    "Typing of Python is strong, ie, the interpreter checks whether the transactions are valid and does automatic coercions between incompatible types. In Python, coercions are performed automatically only between types that are clearly related, as integer and long integer. To perform the operation between non-compatible types, you must explicitly convert the type of the variable or variables before the operation."
   ]
  },
  {
   "cell_type": "markdown",
   "metadata": {},
   "source": [
    "## Compilation and interpretation"
   ]
  },
  {
   "cell_type": "markdown",
   "metadata": {},
   "source": [
    "The source code is translated by Python to bytecode, which is a binary format with instructions for the interpreter. The bytecode is cross platform and can be distributed and run without the original source.\n",
    "\n",
    "<img src=\"files/bpyfd_diags1.png\" alt=\"Compilation, interpretation and packing\" width=500>\n",
    "\n",
    "By default, the parser compiles the code and stores the bytecode on disk, so the next time you run it, there is no need to recompile the program, reducing the load time of execution. If the source files are changed, the interpreter will be responsible for regenerating the bytecode automatically, even using the *interactive shell*. When a program or a module is invoked, the interpreter performs the analysis of the code, converts to symbols, compiles (if there is no updated bytecode on disk) and runs it in the Python virtual machine.\n",
    "\n",
    "The bytecode is stored in files with the extension \". pyc\" (normal bytecode) or \". pyo\" (optimized bytecode). The bytecode can also be packaged along with an executable interpreter, to facilitate the distribution of the application, eliminating the need to install Python on each computer."
   ]
  },
  {
   "cell_type": "markdown",
   "metadata": {},
   "source": [
    "## Interactive Mode"
   ]
  },
  {
   "cell_type": "markdown",
   "metadata": {},
   "source": [
    "The Python interpreter can be used interactively, where lines of code are typed into a *prompt* (command line) *shell* similar to the operating system.\n",
    "\n",
    "`python`\n",
    "\n",
    "It is ready to receive commands after the appearance of the signal `>>>` on the screen:\n",
    "\n",
    "`Python 2.6.4 (r264:75706, Nov  3 2009, 13:20:47)`<br/>\n",
    "`[GCC 4.4.1] on linux2`<br/>\n",
    "`Type \"help\", \"copyright\", \"credits\" or \"license\" for more information.`<br/>\n",
    "`>>>`\n",
    "\n",
    "On Windows, the interactive mode is also available via the icon \"Python (command line)\".\n",
    "\n",
    "The interactive mode is a distinguishing feature of the language, as it is possible to test and modify code snippets before inclusion in programs, to extract and convert data or even analyze the state of the objects in memory, among other possibilities.\n",
    "\n",
    "Besides the traditional interactive mode of Python, there are other programs that act as alternatives to more sophisticated interfaces (such as <span class=\"note\" title=\"PyCrust is part of wxPython project (http://www.wxpython.org/\">PyCrust</span>):\n",
    "<img src=\"files/pycrust.png\" alt=\"pycrust\" width=700>\n",
    "![PyCrust] (files/pycrust.png)"
   ]
  },
  {
   "cell_type": "markdown",
   "metadata": {},
   "source": [
    "## Common IDE & Tools"
   ]
  },
  {
   "cell_type": "markdown",
   "metadata": {},
   "source": [
    "There are many development tools for Python, such as IDEs, editors and shells (that take advantage of the interactive capabilities of Python).\n",
    "\n",
    "*Integrated Development Environments* (IDEs) are software packages that integrate various development tools in an environment consistent with the goal of increasing developer productivity. Generally, IDEs include such features as syntax highlighting (colorized source code according to the syntax of the language), source browsers, integrated shell and *code completion* (the editor presents possible ways to complete the text it can identify while typing).\n",
    "Among Python IDEs, there are most popular ones:\n",
    "\n",
    "+ [Atom](https://atom.io)\n",
    "+ [PyDev](http://pydev.org/) (plug-in for Eclipse IDE)\n",
    "+ [vim](http://vim.org)\n",
    "+ [Sublime Text](http://www.sublimetext.com/)\n",
    "+ [PyScripter](http://code.google.com/p/pyscripter/)\n",
    "+ [SPE](http://pythonide.blogspot.com/) (Stani's Python Editor)\n",
    "+ [Eric](http://eric-ide.python-projects.org/)\n",
    "\n",
    "![PyScripter](files/pyscripter.png)"
   ]
  },
  {
   "cell_type": "markdown",
   "metadata": {},
   "source": [
    "### Entire list "
   ]
  },
  {
   "cell_type": "markdown",
   "metadata": {},
   "source": [
    "\n",
    "(from https://wiki.python.org/moin/IntegratedDevelopmentEnvironments?action=show&redirect=IDE) \n",
    "\n",
    "\n",
    "**Name**|**Platform**|**Updated**|**Notes**\n",
    "-----|-----|-----|-----\n",
    "Thonny|Windows, Linux, Mac OS X, more|2016|For teaching/learning programming. Focused on program runtime visualization. Provides stepping both in statements and expressions, no-hassle variables view, separate mode for explaining references etc.\n",
    "Komodo|Windows/Linux/Mac OS X|2012|Multi-language IDE with support for Python 2.x and Python 3. Available as Komodo IDE (commercial).\n",
    "LiClipse|Linux/Mac OS X/Windows|2015|Commercial Eclipse-based IDE which provides a standalone bundling PyDev, Workspace Mechanic, Eclipse Color Theme, StartExplorer and AnyEdit, along with lightweigth support for other languages, and other usability enhancements (such as multi-caret-edition).\n",
    "NetBeans|Linux, Mac, Solaris, Windows|2009|Python/Jython support in NetBeans -- Open source, allows Python and Jython Editing, code-completion, debugger, refactoring, templates, syntax analysis, etc.; see also http://wiki.netbeans.org/Python. UPDATE: Netbeans 7.0 released without Python support. Check http://wiki.netbeans.org/Python70Roadmap for upcoming Python support.\n",
    "PyCharm|Linux/Mac OS X/Windows|2014|Free open-source IDE with a smart Python editor providing quick code navigation, code completion, refactoring, unit testing and debugger. Has a commercial Professional edition that fully supports Web development with Django, Flask, Mako and Web2Py and allows to develop remotely. Free PyCharm professional licenses for open-source projects.\n",
    "Python for VS Code|Linux/Mac OS X/Windows|2016|Free open-source extension for Visual Studio Code. Supports syntax highlighting, debugging, code completion, code navigation, refactoring, with support for Django, multi threaded, local and remote debugging.\n",
    "KDevelop|Linux/Mac OS X/(Windows)|2014|Free open-source IDE with a focus on static analysis-based code completion, navigation and highlighting. Also features a VI emulation mode.\n",
    "PyDev|Eclipse|2015|Free, open-source plugin for Eclipse -- Allows Python, Jython, and IronPython editing, code-completion, debugger, refactoring, quick navigation, templates, code analysis, unittest integration, Django integration, etc.\n",
    "Wing IDE|Windows, Linux, Mac OS X|2016|Commercial Python IDE with advanced debugger, editor with vi, emacs, visual studio and other key bindings, auto-completion, auto-editing, snippets, goto-definition, find uses, refactoring, unit testing, source browser, and much more. There are several product levels, including free and paid versions with a fully functional trial with up to three 10 day trial periods. See product features and pricing for details.\n",
    "PyScripter|Windows|2012|MIT licensed IDE written in Delphi with debugger, integrated unit testing, source browser, code navigation and syntax coloring/auto-completing editor.\n",
    "Pyshield|Windows, Linux|2010|Commercial IDE tool used to edit, debug Python script, publish encrypted scripts, build a standalone executable file, manage more files by project view, and make installation in various forms(.msi, .tar.gz, .rpm, .zip, .tar.bz2). It includes an editor simulating Emacs python-mode, a GUI debugger simulating GDB, a project view used to manage scripts, modules, extensions, packages, platform specific data files, and GUI interface to make installation.\n",
    "Spyder|Windows/Linux/Mac OS X|2012|Free open-source scientific Python development environment providing MATLAB-like features: console with variable browser, sys.path browser, environment variables browser, integrated plotting features, autocompletion and tooltips - editor with syntax highlighting, class/function browser, pyflakes/pylint code analysis, inline find/replace and search in files features, code completion and tooltips. 100% pure Python, part of Python(x,y) distribution (Windows/Linux).\n",
    "IDLE|Windows/Linux/Mac OS X/All Tk Platforms|2009|Multi-window colorized source browser, autoindent, autocompletion, tool tips, code context panel, search in files, class and path browsers, debugger, executes code in clean separate subprocess with one keystroke. 100% pure Python, part of Python 2.x and 3.x distributions.\n",
    "IdleX|Windows/Linux/Mac OS X/All Tk Platforms|2012|IdleX is a collection of over twenty extensions and plugins that provide additional functionality to IDLE, a Python IDE provided in the standard library. It transforms IDLE into a more useful tool for academic research and development as well as exploratory programming.\n",
    "µ.dev|Windows (needs to be compiled manually for other platforms)|2010|An open-source IDE, created using Lazarus. It's only for Python. include syntax highlighting, project manager, and uses pdb for debugging.\n",
    "Pyzo (formerly IEP)|Windows/Linux/Mac OS X|2016|Open-source Python IDE focused on interactivity and introspection, which makes it very suitable for scientific computing. Its practical design is aimed at simplicity and efficiency. Pyzo consists of two main components, the editor and the shell, and uses a set of pluggable tools to help the programmer in various ways: e.g. source structure, interactive help, workspace, file browser (with functionality for searching). Also includes a post-mortem debugger.\n",
    "PythonToolkit (PTK)|Windows/Linux/Mac OS X|2011|An interactive environment for python built around a matlab style console window and editor. It was designed to provide a python based environment similiar to Matlab for scientists and engineers however it can also be used as a general purpose interactive python environment especially for interactive GUI programming. Features include: Multiple independent python interpreters. Interactively program with different GUI toolkits (wxPython, TkInter, pyGTK, pyQT4 and PySide). Matlab style namespace/workspace browser. Object auto-completions, calltips and multi-line command editing in the console. Object inspection and python path management. Simple code editor and integrated debugger.\n",
    "PyStudio|Windows/Linux/Mac OS X|2012|Open-source plugin that adds syntax checking, integrated debugger and module search to Editra, a general purpose developer's text editor that supports python syntax highlighting, auto-indent, auto-completion, classbrowser, and can run scripts from inside the editor.\n",
    "Python Tools for Visual Studio|Windows|2013|Open-source plugin for Visual Studio 2010, 2012 and 2013. Supports syntax highlighting, debugging and rich intellisense, refactoring, object browser, MPI cluster debugging, Django intellisense and debugging, development REPL window and a debugging REPL window. Supports mixed-mode Python/C/C++ debugging.\n",
    "Exedore|Mac OS X|2013|Commercial with feature-limited free trial. A Mac-native, single-window IDE inspired by Xcode. Features integrated debugger, tabs, code completion with tab triggers, syntax highlighting themes, search and replace with regex, integrated REPL sessions, goto definition, file browser, integrated documentation browser. As of June 2015, does not support input() meaning any console input using this function is not supported.\n"
   ]
  },
  {
   "cell_type": "markdown",
   "metadata": {},
   "source": [
    "### IDE Configurations"
   ]
  },
  {
   "cell_type": "markdown",
   "metadata": {},
   "source": [
    "I will be using either vim/nvim/emacs or atom during this course. Few tips to use them are as follows\n",
    "\n",
    "- vim/nvim: \n",
    "    - https://realpython.com/blog/python/vim-and-python-a-match-made-in-heaven/, \n",
    "    - https://www.fullstackpython.com/vim.html\n",
    "- emacs: emacs-for-python, \n",
    "    - http://www.jesshamrick.com/2012/09/18/emacs-as-a-python-ide/,\n",
    "    - https://emacswiki.org/emacs/PythonProgrammingInEmacs\n",
    "- atom: \n",
    "\n"
   ]
  },
  {
   "cell_type": "markdown",
   "metadata": {},
   "source": [
    "### Text Editors"
   ]
  },
  {
   "cell_type": "markdown",
   "metadata": {},
   "source": [
    "There are also text editors specialized in programming code, which have features like syntax colorization, export to other formats and convert text encoding.\n",
    "\n",
    "These editors support multiple programming languages​​, Python among them:\n",
    "\n",
    "+ [SciTE](http://www.scintilla.org/SciTE.html)\n",
    "+ [Notepad++](http://notepad-plus.sourceforge.net/br/site.htm)"
   ]
  },
  {
   "cell_type": "markdown",
   "metadata": {},
   "source": [
    "**Shell** is the name given to interactive environments for executing commands that can be used to test small pieces of code and for activities like data crunching (extraction of information of interest in masses of data and subsequent translation to other formats).\n",
    "\n",
    "Beyond the standard Python **Shell**, there are others available:\n",
    "\n",
    "+ PyCrust \n",
    "+ IPython \n",
    "+ Reinteract\n",
    "+ bpython\n",
    "+ PyroShell"
   ]
  },
  {
   "cell_type": "markdown",
   "metadata": {},
   "source": [
    "**Packers** are utilities that are used to build executables that comprise the bytecode, the interpreter and other dependencies, allowing the application to run on machines without Python installed, which facilitates program distribution.\n",
    "\n",
    "Among packers for Python, are available:\n",
    "\n",
    "+ py2exe (Windows only)\n",
    "+ PyInstaller (all oses)\n",
    "+ cx_Freeze (portable)"
   ]
  },
  {
   "cell_type": "markdown",
   "metadata": {},
   "source": [
    "**Frameworks** are collections of software components (libraries, utilities and others) that have been designed to be used by other systems.\n",
    "\n",
    "Some of the most known *frameworks* availble are:\n",
    "\n",
    "+ Web: Django, TurboGears, Zope and web2py, flask.\n",
    "+ Graphic interface: TCL/TK, wxPython, PyGTK and PyQt.\n",
    "+ Scientific processing: NumPy and SciPy.\n",
    "+ Image processing: PIL.\n",
    "+ 2D: Matplotlib and SVGFig.\n",
    "+ 3D: Visual Python, PyOpenGL and Python Ogre.\n",
    "+ Object-relational mapping: SQLAlchemy, SQLObject."
   ]
  },
  {
   "cell_type": "markdown",
   "metadata": {},
   "source": [
    "## Getting Help"
   ]
  },
  {
   "cell_type": "markdown",
   "metadata": {},
   "source": [
    "- Python home page -- http://www.python.org\n",
    "- Python standard documentation -- http://www.python.org/doc/.\n",
    "- tutorials:\n",
    "    - FAQs -- http://www.python.org/doc/faq/.\n",
    "    - The Python Wiki -- http://wiki.python.org/\n",
    "    - The Python Package Index -- Lots of Python packages -- https://pypi.python.org/pypi\n",
    "    - Special interest groups (SIGs) -- http://www.python.org/sigs/\n",
    "    - The Python tutor email list -- http://mail.python.org/mailman/listinfo/tutor\n",
    "- Open source projects (Lots of projects. Search for \"python\")\n",
    "    - http://sourceforge.net\n",
    "    - https://gitlab.com/"
   ]
  },
  {
   "cell_type": "markdown",
   "metadata": {},
   "source": [
    "## Culture"
   ]
  },
  {
   "cell_type": "markdown",
   "metadata": {},
   "source": [
    "The name Python was taken by Guido van Rossum from british TV program *Monty Python's Flying Circus*, and there are many references to the show in its documentation. For instance, Python's official package repository was called Cheese Shop, the name of one of the frames of the program. Currently, the repository name is [Python Package Index](http://pypi.python.org/pypi) (PYPI).\n",
    "\n",
    "The goals of the project are summarized by Tim Peters in a text called *Zen of Python*, which can be found in Python itself using the command:"
   ]
  },
  {
   "cell_type": "markdown",
   "metadata": {},
   "source": [
    "## The Zen of Python"
   ]
  },
  {
   "cell_type": "code",
   "execution_count": 2,
   "metadata": {},
   "outputs": [
    {
     "name": "stdout",
     "output_type": "stream",
     "text": [
      "The Zen of Python, by Tim Peters\n",
      "\n",
      "Beautiful is better than ugly.\n",
      "Explicit is better than implicit.\n",
      "Simple is better than complex.\n",
      "Complex is better than complicated.\n",
      "Flat is better than nested.\n",
      "Sparse is better than dense.\n",
      "Readability counts.\n",
      "Special cases aren't special enough to break the rules.\n",
      "Although practicality beats purity.\n",
      "Errors should never pass silently.\n",
      "Unless explicitly silenced.\n",
      "In the face of ambiguity, refuse the temptation to guess.\n",
      "There should be one-- and preferably only one --obvious way to do it.\n",
      "Although that way may not be obvious at first unless you're Dutch.\n",
      "Now is better than never.\n",
      "Although never is often better than *right* now.\n",
      "If the implementation is hard to explain, it's a bad idea.\n",
      "If the implementation is easy to explain, it may be a good idea.\n",
      "Namespaces are one honking great idea -- let's do more of those!\n"
     ]
    }
   ],
   "source": [
    "import this"
   ]
  }
 ],
 "metadata": {
  "anaconda-cloud": {},
  "kernelspec": {
   "display_name": "Python 3",
   "language": "python",
   "name": "python3"
  },
  "language_info": {
   "codemirror_mode": {
    "name": "ipython",
    "version": 3
   },
   "file_extension": ".py",
   "mimetype": "text/x-python",
   "name": "python",
   "nbconvert_exporter": "python",
   "pygments_lexer": "ipython3",
   "version": "3.8.2"
  }
 },
 "nbformat": 4,
 "nbformat_minor": 1
}
