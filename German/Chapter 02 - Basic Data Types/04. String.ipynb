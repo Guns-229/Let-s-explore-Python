{
 "cells": [
  {
   "cell_type": "markdown",
   "metadata": {},
   "source": [
    "## String"
   ]
  },
  {
   "cell_type": "markdown",
   "metadata": {},
   "source": [
    "> String is a sequence of `characters`. "
   ]
  },
  {
   "cell_type": "markdown",
   "metadata": {},
   "source": [
    "*Strings* are Python *builtins* datatype for handling text. They are **immutable** datatype, thus we cannot add, remove or update character(s) in the *string*. If you wish to perform these operations than you need to create a new *string* and assign the existing/new variable name to it. "
   ]
  },
  {
   "cell_type": "markdown",
   "metadata": {},
   "source": [
    "### Characters"
   ]
  },
  {
   "cell_type": "markdown",
   "metadata": {},
   "source": [
    "Character is a unit of information that roughly corresponds to a grapheme (the smallest meaningful contrastive unit in a writing system), or symbol, such as in an alphabet in the written form of a natural language.\n",
    "\n",
    "Each character can be defined by a simple code (ascii/unicode) depending on the encoding type.\n",
    "\n",
    "Common examples of characters are `a`, `,`, `â`,`ॐ`, `ༀ`, `ੴ `, `}`. \n",
    "\n",
    "You can read more about unicode at http://unicode.org/charts/ and https://docs.python.org/3.3/howto/unicode.html"
   ]
  },
  {
   "cell_type": "markdown",
   "metadata": {},
   "source": [
    "We can print the unicode characters by appending `\\u` to the hex number or directly as shown below. Below are two most auspicious characters from Indian culture (Swastika (https://en.wikipedia.org/wiki/Swastika) and Om (https://en.wikipedia.org/wiki/Om ))."
   ]
  },
  {
   "cell_type": "code",
   "execution_count": 1,
   "metadata": {
    "scrolled": true
   },
   "outputs": [
    {
     "name": "stdout",
     "output_type": "stream",
     "text": [
      "ॐ ॐ\n"
     ]
    }
   ],
   "source": [
    "print('\\u0950', \"ॐ\")"
   ]
  },
  {
   "cell_type": "code",
   "execution_count": 2,
   "metadata": {},
   "outputs": [
    {
     "name": "stdout",
     "output_type": "stream",
     "text": [
      "௷ ௷\n"
     ]
    }
   ],
   "source": [
    "print('\\u0BF7', '௷')  # Tamil Credit Sign"
   ]
  },
  {
   "cell_type": "markdown",
   "metadata": {},
   "source": [
    "We can also do the following to get the bunch of unicode chars"
   ]
  },
  {
   "cell_type": "code",
   "execution_count": 3,
   "metadata": {},
   "outputs": [
    {
     "name": "stdout",
     "output_type": "stream",
     "text": [
      "ऀ  ँ  ं  ः  ऄ  अ  आ  इ  ई  उ  ऊ  ऋ  ऌ  ऍ  ऎ  ए  ऐ  ऑ  ऒ  ओ  औ  क  ख  ग  घ  ङ  च  छ  ज  झ  ञ  ट  ठ  ड  ढ  ण  त  थ  द  ध  न  ऩ  प  फ  ब  भ  म  य  र  ऱ  ल  ळ  ऴ  व  श  ष  स  ह  ऺ  ऻ  ़  ऽ  ा  ि  ी  ु  ू  ृ  ॄ  ॅ  ॆ  े  ै  ॉ  ॊ  ो  ौ  ्  ॎ  ॏ  ॐ  ॑  ॒  ॓  ॔  ॕ  ॖ  ॗ  क़  ख़  ग़  ज़  ड़  ढ़  फ़  य़  ॠ  ॡ  ॢ  ॣ  ।  ॥  ०  १  २  ३  ४  ५  ६  ७  ८  ९  ॰  ॱ  ॲ  ॳ  ॴ  ॵ  ॶ  ॷ  ॸ  ॹ  ॺ  ॻ  ॼ  ॽ  ॾ  "
     ]
    }
   ],
   "source": [
    "# Printing devanagari unicode characters from their corresponding int code.\n",
    "for code in range(0x0900, 0x097F):\n",
    "    print(\"{a}\".format(a=chr(code)), end=\"  \")"
   ]
  },
  {
   "cell_type": "markdown",
   "metadata": {},
   "source": [
    "### Escape Characters "
   ]
  },
  {
   "cell_type": "markdown",
   "metadata": {},
   "source": [
    "an escape character is a character which invokes an alternative interpretation on subsequent characters in a character sequence. An escape character is a particular case of metacharacters."
   ]
  },
  {
   "cell_type": "markdown",
   "metadata": {},
   "source": [
    "##### Table: Escape Characters"
   ]
  },
  {
   "cell_type": "markdown",
   "metadata": {},
   "source": [
    "| Escape sequence  | Hex value in ASCII | Character represented                                                              |\n",
    "|------------------|--------------------|------------------------------------------------------------------------------------|\n",
    "| \\a               | 07                 | Alert (Beep, Bell) (added in C89)[1]                                               |\n",
    "| \\b               | 08                 | Backspace                                                                          |\n",
    "| \\f               | 0C                 | Formfeed                                                                           |\n",
    "| \\n               | 0A                 | Newline (Line Feed); see notes below                                               |\n",
    "| \\r               | 0D                 | Carriage Return                                                                    |\n",
    "| \\t               | 09                 | Horizontal Tab                                                                     |\n",
    "| \\v               | 0B                 | Vertical Tab                                                                       |\n",
    "| \\\\               | 5C                 | Backslash                                                                          |\n",
    "| \\'               | 27                 | Single quotation mark                                                              |\n",
    "| \\\"               | 22                 | Double quotation mark                                                              |\n",
    "| \\?               | 3F                 | Question mark (used to avoid trigraphs)                                            |\n",
    "| \\nnnnote 1       | any                | The byte whose numerical value is given by nnn interpreted as an octal number      |\n",
    "| \\xhh…            | any                | The byte whose numerical value is given by hh… interpreted as a hexadecimal number |\n",
    "| \\enote 2         | 1B                 | escape character (some character sets)                                             |\n",
    "| \\Uhhhhhhhhnote 3 | none               | Unicode code point where h is a hexadecimal digit                                  |\n",
    "| \\uhhhhnote 4     | none               | Unicode code point below 10000 hexadecimal                                         |"
   ]
  },
  {
   "cell_type": "markdown",
   "metadata": {},
   "source": [
    "### String Types"
   ]
  },
  {
   "cell_type": "markdown",
   "metadata": {},
   "source": [
    "Strings can be classified in 3 categories.\n",
    "- **Standard String**: Standard string is one which executed the escape characters\n",
    "- **Raw String**: Raw Strings on the other hand handle escape characters as normal characters and do not process them\n",
    "- **formatted string literal** or **f-string**: Is a string literal that is prefixed with `f` or `F`. These strings may contain _replacement fields_, which are expressions delimited by curly braces `{}`. While other string literals always have a constant value, formatted strings are really expressions evaluated at run time.  _**{New in 3.6}**_"
   ]
  },
  {
   "cell_type": "markdown",
   "metadata": {},
   "source": [
    "String can be initialized using:\n",
    "\n",
    "+ With single or double quotes ('', \"\").\n",
    "+ On several consecutive lines, provided that it's between three single or double quotes (''' ''', \"\"\" \"\"\").\n",
    "+ Without expansion characters (example: `s = r'\\ n'`, where `s` will contain the characters `\\` and `n`).\n"
   ]
  },
  {
   "cell_type": "markdown",
   "metadata": {},
   "source": [
    "#### Standard String"
   ]
  },
  {
   "cell_type": "markdown",
   "metadata": {},
   "source": [
    "Standard string is one in which the escape characters are processed and executed. They are by default unicode strings. "
   ]
  },
  {
   "cell_type": "markdown",
   "metadata": {},
   "source": [
    "> Since Python 3, strings are by default unicode string."
   ]
  },
  {
   "cell_type": "code",
   "execution_count": 4,
   "metadata": {},
   "outputs": [
    {
     "name": "stdout",
     "output_type": "stream",
     "text": [
      "Chandu.\b\n",
      "\tNalluri\n"
     ]
    }
   ],
   "source": [
    "#### Standard String Examples: \n",
    "friend = 'Chandu.\\b\\n\\tNalluri' \n",
    "print(friend)"
   ]
  },
  {
   "cell_type": "code",
   "execution_count": 1,
   "metadata": {},
   "outputs": [
    {
     "name": "stdout",
     "output_type": "stream",
     "text": [
      "|| ओ३म् ||\n"
     ]
    }
   ],
   "source": [
    "oum = \"|| ओ३म् ||\"\n",
    "print(oum)"
   ]
  },
  {
   "cell_type": "code",
   "execution_count": 6,
   "metadata": {},
   "outputs": [
    {
     "name": "stdout",
     "output_type": "stream",
     "text": [
      "Chandu\tNalluri\n",
      "|| ओ३म् ||\n"
     ]
    }
   ],
   "source": [
    "# for Python 2.x\n",
    "\n",
    "#### Standard String Examples: \n",
    "friend = 'Chandu\\tNalluri' \n",
    "print(friend)\n",
    "\n",
    "# Unicode String\n",
    "oum = u\"|| ओ३म् ||\"\n",
    "print(oum)"
   ]
  },
  {
   "cell_type": "code",
   "execution_count": 2,
   "metadata": {},
   "outputs": [
    {
     "name": "stdout",
     "output_type": "stream",
     "text": [
      "ओ३म्\n"
     ]
    }
   ],
   "source": [
    "print(\"\\u0913\\u0969\\u092E\\u094D\")"
   ]
  },
  {
   "cell_type": "code",
   "execution_count": 8,
   "metadata": {},
   "outputs": [
    {
     "name": "stdout",
     "output_type": "stream",
     "text": [
      "ओ३म्\n"
     ]
    }
   ],
   "source": [
    "# for Python 2.x\n",
    "\n",
    "print(u\"\\u0913\\u0969\\u092E\\u094D\")"
   ]
  },
  {
   "cell_type": "code",
   "execution_count": 3,
   "metadata": {},
   "outputs": [
    {
     "name": "stdout",
     "output_type": "stream",
     "text": [
      "Mr. K.V. Pauly was a \"very good\" General Manager\n"
     ]
    }
   ],
   "source": [
    "# Benefit of `\\` escape character\n",
    "user_comment = \"Mr. K.V. Pauly was a \\\"very good\\\" General Manager\"\n",
    "print(user_comment)"
   ]
  },
  {
   "cell_type": "code",
   "execution_count": 10,
   "metadata": {},
   "outputs": [
    {
     "name": "stdout",
     "output_type": "stream",
     "text": [
      "Mr. Roshan Musheer was a 'very good' Manager.\n"
     ]
    }
   ],
   "source": [
    "user_comment = 'Mr. K.V. Pauly was a \"Very Good\" Manager'\n",
    "user_comment = 'Mr. Roshan Musheer was a \\'very good\\' Manager.'\n",
    "print(user_comment)"
   ]
  },
  {
   "cell_type": "code",
   "execution_count": 4,
   "metadata": {},
   "outputs": [
    {
     "name": "stdout",
     "output_type": "stream",
     "text": [
      "# Roshan Musheer:\n",
      "\tExcellent Manager and human being.\n"
     ]
    }
   ],
   "source": [
    "manager_details = \"# Roshan Musheer:\\n\\tExcellent Manager and human being.\"\n",
    "print(manager_details)"
   ]
  },
  {
   "cell_type": "code",
   "execution_count": 2,
   "metadata": {},
   "outputs": [
    {
     "name": "stdout",
     "output_type": "stream",
     "text": [
      "C:\n",
      "ew_data\technical_jargons\n"
     ]
    }
   ],
   "source": [
    "# Gotcha \"\\\"\n",
    "path = \"C:\\new_data\\technical_jargons\"\n",
    "print(path)"
   ]
  },
  {
   "cell_type": "code",
   "execution_count": 10,
   "metadata": {},
   "outputs": [
    {
     "name": "stdout",
     "output_type": "stream",
     "text": [
      "C:\\new_data\\technical_jargons\n"
     ]
    }
   ],
   "source": [
    "\n",
    "# Using \\\\ as escape character to print \\\n",
    "path = \"C:\\\\new_data\\\\technical_jargons\"\n",
    "print(path)"
   ]
  },
  {
   "cell_type": "markdown",
   "metadata": {},
   "source": [
    "#### Raw String"
   ]
  },
  {
   "cell_type": "markdown",
   "metadata": {},
   "source": [
    "Raw Strings on the other hand handle escape characters as normal characters and do not process them"
   ]
  },
  {
   "cell_type": "code",
   "execution_count": 5,
   "metadata": {
    "scrolled": false
   },
   "outputs": [
    {
     "name": "stdout",
     "output_type": "stream",
     "text": [
      "Roshan\\tMusheer\n"
     ]
    }
   ],
   "source": [
    "a = r'Roshan\\tMusheer'\n",
    "print(a)"
   ]
  },
  {
   "cell_type": "code",
   "execution_count": 6,
   "metadata": {},
   "outputs": [
    {
     "name": "stdout",
     "output_type": "stream",
     "text": [
      "|| ओ३म् ||\\b\\n.\n",
      "|| ओ३म् ||\b\n",
      ".\n"
     ]
    }
   ],
   "source": [
    "# Raw String\n",
    "ohm = r\"|| ओ३म् ||\\b\\n.\"\n",
    "print(ohm)\n",
    "\n",
    "# standard string\n",
    "ohm = \"|| ओ३म् ||\\b\\n.\"\n",
    "print(ohm)"
   ]
  },
  {
   "cell_type": "code",
   "execution_count": 7,
   "metadata": {
    "scrolled": true
   },
   "outputs": [
    {
     "name": "stdout",
     "output_type": "stream",
     "text": [
      "C:\n",
      "ew_data\technical_jargons\n"
     ]
    }
   ],
   "source": [
    "# Normal String\n",
    "path = \"C:\\new_data\\technical_jargons\"\n",
    "print(path)"
   ]
  },
  {
   "cell_type": "code",
   "execution_count": 17,
   "metadata": {},
   "outputs": [
    {
     "name": "stdout",
     "output_type": "stream",
     "text": [
      "C:\\new_data\\technical_jargons\n"
     ]
    }
   ],
   "source": [
    "# Raw String\n",
    "path = R\"C:\\new_data\\technical_jargons\"\n",
    "print(path)"
   ]
  },
  {
   "cell_type": "markdown",
   "metadata": {},
   "source": [
    "> NOTE: both `r` and `R` work the same way"
   ]
  },
  {
   "cell_type": "markdown",
   "metadata": {},
   "source": [
    "### `Formatted String Literal` or `F-String`"
   ]
  },
  {
   "cell_type": "markdown",
   "metadata": {},
   "source": [
    "`F-String` are prefixed with `f` or `F`. These strings may contain _replacement fields_, which are expressions delimited by curly braces `{}`. While other string literals always have a constant value, formatted strings are really expressions evaluated at run time. _**{New in 3.6}**_"
   ]
  },
  {
   "cell_type": "code",
   "execution_count": 4,
   "metadata": {},
   "outputs": [
    {
     "name": "stdout",
     "output_type": "stream",
     "text": [
      "10 is the price of 2 oranges\n",
      "{price} is the price of {count} oranges\n"
     ]
    }
   ],
   "source": [
    "price = 10\n",
    "count = 2\n",
    "print(f\"{price} is the price of {count} oranges\")\n",
    "\n",
    "# Standard String\n",
    "print(\"{price} is the price of {count} oranges\")"
   ]
  },
  {
   "cell_type": "markdown",
   "metadata": {},
   "source": [
    "### Multi line String or DocString or MultiLine Comment ;)"
   ]
  },
  {
   "cell_type": "markdown",
   "metadata": {},
   "source": [
    "Ok, following is not multi line string, its just a single line written in two line."
   ]
  },
  {
   "cell_type": "code",
   "execution_count": 5,
   "metadata": {},
   "outputs": [
    {
     "name": "stdout",
     "output_type": "stream",
     "text": [
      "String concatenation 'is\" a process' of joining two or more strings into a single string. As we have already discussed\" 'that string.\n"
     ]
    }
   ],
   "source": [
    "animal = \"String concatenation 'is\\\" a process' of joining \" \\\n",
    "         \"two or more strings into a single string. As we \" \\\n",
    "         'have already discussed\" \\'that string.'\n",
    "print(animal)"
   ]
  },
  {
   "cell_type": "code",
   "execution_count": 6,
   "metadata": {},
   "outputs": [
    {
     "name": "stdout",
     "output_type": "stream",
     "text": [
      "String concatenation 'is\" a process of joining two or more strings into a single string. As we have already discussed that string \n"
     ]
    }
   ],
   "source": [
    "# or use brakets `()`\n",
    "animal = (\"String concatenation 'is\\\" a process of joining \" \n",
    "         \"two or more strings into a single string. As we \" \n",
    "         \"have already discussed that string \")\n",
    "print(animal)"
   ]
  },
  {
   "cell_type": "markdown",
   "metadata": {},
   "source": [
    "For multi line string, we need to use triple single ( ' ) or double ( \" ) quote characters."
   ]
  },
  {
   "cell_type": "code",
   "execution_count": 7,
   "metadata": {},
   "outputs": [
    {
     "name": "stdout",
     "output_type": "stream",
     "text": [
      "This 'is'''\n",
      "    doc\" strings\n"
     ]
    }
   ],
   "source": [
    "# MultiLine String with tab :)\n",
    "docs = '''This 'is\\'''\n",
    "    doc\" strings'''\n",
    "print(docs)"
   ]
  },
  {
   "cell_type": "code",
   "execution_count": 10,
   "metadata": {},
   "outputs": [
    {
     "name": "stdout",
     "output_type": "stream",
     "text": [
      "String Concatenation:\n",
      "\n",
      "String concatenation 'is a process of joining two or more strings \n",
      "into a single string. As we have already discussed that string \n",
      "is an immutable datatype \"thus we have to create a new string \n",
      "for concatenation\", what that means is the original strings\n",
      "will still remain the same and new one will be created \n",
      "using the texts from the originals.\n",
      "\n"
     ]
    }
   ],
   "source": [
    "docs = \"\"\"String Concatenation:\n",
    "\n",
    "String concatenation 'is a process of joining two or more strings \n",
    "into a single string. As we have already discussed that string \n",
    "is an immutable datatype \"thus we have to create a new string \n",
    "for concatenation\", what that means is the original strings\n",
    "will still remain the same and new one will be created \n",
    "using the texts from the originals.\n",
    "\"\"\"\n",
    "print(docs)"
   ]
  },
  {
   "cell_type": "markdown",
   "metadata": {},
   "source": [
    "#### DocString"
   ]
  },
  {
   "cell_type": "code",
   "execution_count": 22,
   "metadata": {},
   "outputs": [],
   "source": [
    "def sample():\n",
    "    \"\"\"\n",
    "    This is a sample\n",
    "    for doc string\n",
    "    \"\"\"\n",
    "    pass"
   ]
  },
  {
   "cell_type": "markdown",
   "metadata": {},
   "source": [
    "#### Multiline comments"
   ]
  },
  {
   "cell_type": "code",
   "execution_count": 23,
   "metadata": {},
   "outputs": [
    {
     "data": {
      "text/plain": [
       "'\\nThis is multi line\\ncomment\\n'"
      ]
     },
     "execution_count": 23,
     "metadata": {},
     "output_type": "execute_result"
    }
   ],
   "source": [
    "\"\"\"\n",
    "This is multi line\n",
    "comment\n",
    "\"\"\""
   ]
  }
 ],
 "metadata": {
  "kernelspec": {
   "display_name": "Python 3",
   "language": "python",
   "name": "python3"
  },
  "language_info": {
   "codemirror_mode": {
    "name": "ipython",
    "version": 3
   },
   "file_extension": ".py",
   "mimetype": "text/x-python",
   "name": "python",
   "nbconvert_exporter": "python",
   "pygments_lexer": "ipython3",
   "version": "3.8.2"
  }
 },
 "nbformat": 4,
 "nbformat_minor": 2
}
