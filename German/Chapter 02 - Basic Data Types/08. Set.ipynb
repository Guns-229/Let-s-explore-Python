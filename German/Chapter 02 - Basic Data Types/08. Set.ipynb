{
 "cells": [
  {
   "cell_type": "markdown",
   "metadata": {},
   "source": [
    "## `set`"
   ]
  },
  {
   "cell_type": "markdown",
   "metadata": {},
   "source": [
    "Set data type is\n",
    "- an unordered collection of **unique values**\n",
    "- have only hashables elements (i.e. immutables such as int, bool, string, tuple etc)\n",
    "\n",
    "It can be defined using `{ }` pair as shown in the below example"
   ]
  },
  {
   "cell_type": "code",
   "execution_count": 1,
   "metadata": {},
   "outputs": [],
   "source": [
    "# Example\n",
    "d = {1, 2, (1, 2), \"welcome\"}"
   ]
  },
  {
   "cell_type": "markdown",
   "metadata": {},
   "source": [
    "Other datatypes such as `tuple` and `list` can be converted to set using `set` function as shown below"
   ]
  },
  {
   "cell_type": "code",
   "execution_count": 2,
   "metadata": {},
   "outputs": [
    {
     "name": "stdout",
     "output_type": "stream",
     "text": [
      "{'Manish', 'Pauly', 'Mayank', 'Roshan'}\n"
     ]
    }
   ],
   "source": [
    "user_names = [\"Mayank\", \"Roshan\", \"Pauly\", \"Manish\", \"Mayank\"]\n",
    "\n",
    "unique_users = set(user_names)\n",
    "print(unique_users)"
   ]
  },
  {
   "cell_type": "markdown",
   "metadata": {},
   "source": [
    "In the above example, In `list` `user_names` element `Mayank` was having multiple instances but once `set` `unique_users` was created using the `user_names`. All multiple instances of elements were missing from the resulting `set` `unique_users`.  \n",
    "\n",
    "`set` is mostly used in finding unique values from a collection."
   ]
  },
  {
   "cell_type": "code",
   "execution_count": 3,
   "metadata": {},
   "outputs": [
    {
     "name": "stdout",
     "output_type": "stream",
     "text": [
      "{'Manish', 'Pauly', 'Mayank', 'Roshan'}\n"
     ]
    }
   ],
   "source": [
    "# Example: Converting tuple to set\n",
    "user_names = (\"Mayank\", \"Roshan\", \"Pauly\", \"Manish\", \"Mayank\")\n",
    "\n",
    "unique_users = set(user_names)\n",
    "print(unique_users)"
   ]
  },
  {
   "cell_type": "code",
   "execution_count": 4,
   "metadata": {},
   "outputs": [
    {
     "name": "stdout",
     "output_type": "stream",
     "text": [
      "{1, 11}\n"
     ]
    }
   ],
   "source": [
    "# Example, converting dict to set,\n",
    "# In the resulting set only keys are used. \n",
    "d = {1: 2, 11: 3}\n",
    "keys = set(d)\n",
    "print(keys)"
   ]
  },
  {
   "cell_type": "markdown",
   "metadata": {},
   "source": [
    "### Operations"
   ]
  },
  {
   "cell_type": "markdown",
   "metadata": {},
   "source": [
    "#### `add`"
   ]
  },
  {
   "cell_type": "markdown",
   "metadata": {},
   "source": [
    "It allows to add an element to a set as shown in the below example.  "
   ]
  },
  {
   "cell_type": "code",
   "execution_count": 5,
   "metadata": {},
   "outputs": [
    {
     "name": "stdout",
     "output_type": "stream",
     "text": [
      "{'Kirti', 'Mayank', 'Roshan', 'Manish', 'Pauly'}\n"
     ]
    }
   ],
   "source": [
    "names = {'Manish', 'Pauly', 'Roshan', 'Mayank'}\n",
    "\n",
    "names.add(\"Kirti\")\n",
    "print(names)"
   ]
  },
  {
   "cell_type": "code",
   "execution_count": 6,
   "metadata": {},
   "outputs": [
    {
     "name": "stdout",
     "output_type": "stream",
     "text": [
      "{'Kirti', ('Rajeev', 'Sonali'), 'Mayank', 'Roshan', 'Manish', 'Pauly'}\n"
     ]
    }
   ],
   "source": [
    "names.add((\"Rajeev\", \"Sonali\"))\n",
    "print(names)"
   ]
  },
  {
   "cell_type": "markdown",
   "metadata": {},
   "source": [
    "### `clear`"
   ]
  },
  {
   "cell_type": "markdown",
   "metadata": {},
   "source": [
    "Clears all the elements from the set"
   ]
  },
  {
   "cell_type": "code",
   "execution_count": 7,
   "metadata": {},
   "outputs": [
    {
     "name": "stdout",
     "output_type": "stream",
     "text": [
      "set()\n"
     ]
    }
   ],
   "source": [
    "places = {'Budd Lake', 'Bhopal', \"Thane\", \"tel aviv\"}\n",
    "places.clear()\n",
    "print(places)"
   ]
  },
  {
   "cell_type": "markdown",
   "metadata": {},
   "source": [
    "### `copy`"
   ]
  },
  {
   "cell_type": "markdown",
   "metadata": {},
   "source": [
    "`copy` return a shallow copy of a set."
   ]
  },
  {
   "cell_type": "code",
   "execution_count": 8,
   "metadata": {},
   "outputs": [
    {
     "name": "stdout",
     "output_type": "stream",
     "text": [
      "4422516288 {'Budd Lake', 'tel aviv', 'Thane', 'Bhopal'}\n",
      "4422515168 {'Budd Lake', 'tel aviv', 'Thane', 'Bhopal'}\n"
     ]
    }
   ],
   "source": [
    "places = {'Budd Lake', 'Bhopal', \"Thane\", \"tel aviv\"}\n",
    "\n",
    "places_copy = places.copy()\n",
    "print(id(places), places)\n",
    "print(id(places_copy), places_copy)"
   ]
  },
  {
   "cell_type": "markdown",
   "metadata": {},
   "source": [
    "### `difference`"
   ]
  },
  {
   "cell_type": "markdown",
   "metadata": {},
   "source": [
    "It returns a new set with all the elements in main set but not in the other set(s) as shown in below examples"
   ]
  },
  {
   "cell_type": "code",
   "execution_count": 9,
   "metadata": {},
   "outputs": [
    {
     "name": "stdout",
     "output_type": "stream",
     "text": [
      "{'Manish', 'Gajendra'}\n"
     ]
    }
   ],
   "source": [
    "coll_names = {'Manish', 'Gajendra', \"Rajeev\"}\n",
    "dms_names = {\"Gyan\", \"Rajeev\", \"Sachin\"}\n",
    "\n",
    "print(coll_names.difference(dms_names))"
   ]
  },
  {
   "cell_type": "code",
   "execution_count": 10,
   "metadata": {},
   "outputs": [
    {
     "name": "stdout",
     "output_type": "stream",
     "text": [
      "{'Gajendra'}\n"
     ]
    }
   ],
   "source": [
    "coll_names = {'Manish', 'Gajendra', \"Rajeev\"}\n",
    "dms_names = {\"Gyan\", \"Rajeev\", \"Sachin\"}\n",
    "friends = {'Manish', \"Rajeev\"}\n",
    "\n",
    "print(coll_names.difference(dms_names, friends))"
   ]
  },
  {
   "cell_type": "markdown",
   "metadata": {},
   "source": [
    "### `difference_update`"
   ]
  },
  {
   "cell_type": "markdown",
   "metadata": {},
   "source": [
    "`difference_update` is similar to `difference` except \n",
    "- It updates existing `set` instead of creating a new `set`\n",
    "- It do not return any value. "
   ]
  },
  {
   "cell_type": "code",
   "execution_count": 11,
   "metadata": {},
   "outputs": [
    {
     "name": "stdout",
     "output_type": "stream",
     "text": [
      "None\n",
      "{'Manish', 'Gajendra'}\n"
     ]
    }
   ],
   "source": [
    "coll_names = {'Manish', 'Gajendra', \"Rajeev\"}\n",
    "dms_names = {\"Gyan\", \"Rajeev\", \"Sachin\"}\n",
    "print(coll_names.difference_update(dms_names))\n",
    "print(coll_names)"
   ]
  },
  {
   "cell_type": "markdown",
   "metadata": {},
   "source": [
    "### `discard`"
   ]
  },
  {
   "cell_type": "markdown",
   "metadata": {},
   "source": [
    "`discard` removes the element from a set if it is a member. If the element is not a member, do nothing"
   ]
  },
  {
   "cell_type": "code",
   "execution_count": 125,
   "metadata": {},
   "outputs": [
    {
     "name": "stdout",
     "output_type": "stream",
     "text": [
      "{'Gyan', 'Rajeev', 'Sachin'} None\n"
     ]
    }
   ],
   "source": [
    "dms_names = {\"Gyan\", \"Rajeev\", \"Sachin\", \"Syed\"}\n",
    "\n",
    "d = dms_names.discard(\"Syed\")\n",
    "print(dms_names, d)"
   ]
  },
  {
   "cell_type": "markdown",
   "metadata": {},
   "source": [
    "### `intersection`"
   ]
  },
  {
   "cell_type": "markdown",
   "metadata": {},
   "source": [
    "`intersection` creates a new `set` based on the intersection of two sets."
   ]
  },
  {
   "cell_type": "code",
   "execution_count": 13,
   "metadata": {},
   "outputs": [],
   "source": [
    "coll_names = {'Manish', 'Gajendra', \"Rajeev\"}\n",
    "dms_names = {\"Gyan\", \"Rajeev\", \"Sachin\"}"
   ]
  },
  {
   "cell_type": "code",
   "execution_count": 14,
   "metadata": {},
   "outputs": [
    {
     "name": "stdout",
     "output_type": "stream",
     "text": [
      "{'Rajeev'}\n"
     ]
    }
   ],
   "source": [
    "print(coll_names.intersection(dms_names))"
   ]
  },
  {
   "cell_type": "code",
   "execution_count": 15,
   "metadata": {},
   "outputs": [
    {
     "name": "stdout",
     "output_type": "stream",
     "text": [
      "{'Rajeev'}\n"
     ]
    }
   ],
   "source": [
    "print(dms_names.intersection(coll_names))"
   ]
  },
  {
   "cell_type": "markdown",
   "metadata": {},
   "source": [
    "### `symmetric_difference`"
   ]
  },
  {
   "cell_type": "markdown",
   "metadata": {},
   "source": [
    "`symmetric_difference` returns a new `set` with elements which are only in one of the `set's`. It can be understood as reverse of `intersection`"
   ]
  },
  {
   "cell_type": "code",
   "execution_count": 126,
   "metadata": {},
   "outputs": [
    {
     "name": "stdout",
     "output_type": "stream",
     "text": [
      "{'Gyan', 'Gajendra', 'Manish', 'Sachin'}\n"
     ]
    }
   ],
   "source": [
    "coll_names = {'Manish', 'Gajendra', \"Rajeev\"}\n",
    "dms_names = {\"Gyan\", \"Rajeev\", \"Sachin\"}\n",
    "print(coll_names.symmetric_difference(dms_names))"
   ]
  },
  {
   "cell_type": "markdown",
   "metadata": {},
   "source": [
    "### `intersection_update`"
   ]
  },
  {
   "cell_type": "markdown",
   "metadata": {},
   "source": [
    "`intersection_update` is similar to `intersection` except it updates the existing `set` and also it do not return any value."
   ]
  },
  {
   "cell_type": "code",
   "execution_count": 124,
   "metadata": {},
   "outputs": [
    {
     "name": "stdout",
     "output_type": "stream",
     "text": [
      "ret_val: None\n",
      "coll_names: {'Rajeev'}, dms_names: {'Gyan', 'Rajeev', 'Sachin'}\n"
     ]
    }
   ],
   "source": [
    "coll_names = {'Manish', 'Gajendra', \"Rajeev\"}\n",
    "dms_names = {\"Gyan\", \"Rajeev\", \"Sachin\"}\n",
    "ret_val = coll_names.intersection_update(dms_names)\n",
    "\n",
    "print(\"ret_val: {}\".format(ret_val))\n",
    "print(\"coll_names: {}, dms_names: {}\".format(coll_names, dms_names))"
   ]
  },
  {
   "cell_type": "markdown",
   "metadata": {},
   "source": [
    "#### `symmetric_difference_update`"
   ]
  },
  {
   "cell_type": "code",
   "execution_count": 123,
   "metadata": {},
   "outputs": [
    {
     "name": "stdout",
     "output_type": "stream",
     "text": [
      "ret_val: None\n",
      "coll_names: {'Gyan', 'Gajendra', 'Manish', 'Sachin'}, dms_names: {'Gyan', 'Rajeev', 'Sachin'}\n"
     ]
    }
   ],
   "source": [
    "coll_names = {'Manish', 'Gajendra', \"Rajeev\"}\n",
    "dms_names = {\"Gyan\", \"Rajeev\", \"Sachin\"}\n",
    "ret_val = coll_names.symmetric_difference_update(dms_names)\n",
    "\n",
    "print(\"ret_val: {}\".format(ret_val))\n",
    "print(\"coll_names: {}, dms_names: {}\".format(coll_names, dms_names))"
   ]
  },
  {
   "cell_type": "markdown",
   "metadata": {},
   "source": [
    "### `isdisjoint`"
   ]
  },
  {
   "cell_type": "markdown",
   "metadata": {},
   "source": [
    "`isdisjoint` returns `True` if two sets have a null intersection else returns `False`"
   ]
  },
  {
   "cell_type": "code",
   "execution_count": 17,
   "metadata": {},
   "outputs": [
    {
     "name": "stdout",
     "output_type": "stream",
     "text": [
      "ret_val: False\n"
     ]
    }
   ],
   "source": [
    "coll_names = {'Manish', 'Gajendra', \"Rajeev\"}\n",
    "dms_names = {\"Gyan\", \"Rajeev\", \"Sachin\"}\n",
    "ret_val = coll_names.isdisjoint(dms_names)\n",
    "\n",
    "print(\"ret_val: {}\".format(ret_val))"
   ]
  },
  {
   "cell_type": "code",
   "execution_count": 18,
   "metadata": {},
   "outputs": [
    {
     "name": "stdout",
     "output_type": "stream",
     "text": [
      "ret_val: True\n"
     ]
    }
   ],
   "source": [
    "coll_names = {'Manish', 'Gajendra', \"Rajeev\"}\n",
    "dms_names = {\"Gyan\", \"Sachin\"}\n",
    "ret_val = coll_names.isdisjoint(dms_names)\n",
    "\n",
    "print(\"ret_val: {}\".format(ret_val))"
   ]
  },
  {
   "cell_type": "markdown",
   "metadata": {},
   "source": [
    "### `issubset`"
   ]
  },
  {
   "cell_type": "markdown",
   "metadata": {},
   "source": [
    "`issubset` returns `True` if second `set` is subset of the `first`"
   ]
  },
  {
   "cell_type": "code",
   "execution_count": 19,
   "metadata": {},
   "outputs": [
    {
     "name": "stdout",
     "output_type": "stream",
     "text": [
      "ret_val: False\n"
     ]
    }
   ],
   "source": [
    "coll_names = {'Manish', 'Gajendra', \"Rajeev\"}\n",
    "dms_names = {\"Rajeev\", \"Gajendra\"}\n",
    "ret_val = coll_names.issubset(dms_names)\n",
    "\n",
    "print(\"ret_val: {}\".format(ret_val))"
   ]
  },
  {
   "cell_type": "code",
   "execution_count": 20,
   "metadata": {},
   "outputs": [
    {
     "name": "stdout",
     "output_type": "stream",
     "text": [
      "ret_val: True\n"
     ]
    }
   ],
   "source": [
    "coll_names = {'Gajendra', \"Rajeev\"}\n",
    "dms_names = {'Manish', \"Rajeev\", \"Gajendra\"}\n",
    "ret_val = coll_names.issubset(dms_names)\n",
    "\n",
    "print(\"ret_val: {}\".format(ret_val))"
   ]
  },
  {
   "cell_type": "markdown",
   "metadata": {},
   "source": [
    "### `issuperset`"
   ]
  },
  {
   "cell_type": "markdown",
   "metadata": {},
   "source": [
    "`issuperset` returns `True` if first `set` is subset of the second `set`"
   ]
  },
  {
   "cell_type": "code",
   "execution_count": 21,
   "metadata": {},
   "outputs": [
    {
     "name": "stdout",
     "output_type": "stream",
     "text": [
      "ret_val: True\n"
     ]
    }
   ],
   "source": [
    "coll_names = {'Gajendra', \"Rajeev\"}\n",
    "dms_names = {'Manish', \"Rajeev\", \"Gajendra\"}\n",
    "ret_val = dms_names.issuperset(coll_names)\n",
    "\n",
    "print(\"ret_val: {}\".format(ret_val))"
   ]
  },
  {
   "cell_type": "code",
   "execution_count": 22,
   "metadata": {},
   "outputs": [
    {
     "name": "stdout",
     "output_type": "stream",
     "text": [
      "ret_val: False\n"
     ]
    }
   ],
   "source": [
    "coll_names = {'Gajendra', \"Rajeev\"}\n",
    "dms_names = {'Manish', \"Rajeev\", \"Gajendra\"}\n",
    "ret_val = coll_names.issuperset(dms_names)\n",
    "\n",
    "print(\"ret_val: {}\".format(ret_val))"
   ]
  },
  {
   "cell_type": "markdown",
   "metadata": {},
   "source": [
    "### `pop`"
   ]
  },
  {
   "cell_type": "markdown",
   "metadata": {},
   "source": [
    "`pop` will remove an return an arbitrary set element"
   ]
  },
  {
   "cell_type": "code",
   "execution_count": 23,
   "metadata": {},
   "outputs": [
    {
     "name": "stdout",
     "output_type": "stream",
     "text": [
      "{'Gajendra', 'Rajeev'} Manish\n"
     ]
    }
   ],
   "source": [
    "dms_names = {'Manish', \"Rajeev\", \"Gajendra\"}\n",
    "poped_element = dms_names.pop()\n",
    "print(dms_names, poped_element)"
   ]
  },
  {
   "cell_type": "markdown",
   "metadata": {},
   "source": [
    "### `remove`"
   ]
  },
  {
   "cell_type": "markdown",
   "metadata": {},
   "source": [
    "Removed an element from the set, `KeyError` is raised if the element is not member of the `set`"
   ]
  },
  {
   "cell_type": "code",
   "execution_count": 112,
   "metadata": {},
   "outputs": [
    {
     "name": "stdout",
     "output_type": "stream",
     "text": [
      "{'Gajendra', 'Rajeev'} None\n"
     ]
    }
   ],
   "source": [
    "dms_names = {'Manish', \"Rajeev\", \"Gajendra\"}\n",
    "poped_element = dms_names.remove(\"Manish\")\n",
    "print(dms_names, poped_element)"
   ]
  },
  {
   "cell_type": "code",
   "execution_count": 114,
   "metadata": {},
   "outputs": [
    {
     "name": "stdout",
     "output_type": "stream",
     "text": [
      "Error: 'Manish1'\n"
     ]
    }
   ],
   "source": [
    "dms_names = {'Manish', \"Rajeev\", \"Gajendra\"}\n",
    "try:\n",
    "    poped_element = dms_names.remove(\"Manish1\")\n",
    "except Exception as e:\n",
    "    print(\"Error: {}\".format(e))"
   ]
  },
  {
   "cell_type": "markdown",
   "metadata": {},
   "source": [
    "### `union`"
   ]
  },
  {
   "cell_type": "markdown",
   "metadata": {},
   "source": [
    "`union` creates a new `set` by creating a union of two or more sets as shown in below examples"
   ]
  },
  {
   "cell_type": "code",
   "execution_count": 135,
   "metadata": {},
   "outputs": [
    {
     "name": "stdout",
     "output_type": "stream",
     "text": [
      "{'Rajeev', 'Manish', 'Gajendra'}\n",
      "coll_names:  {'Gajendra', 'Rajeev'} \n",
      "dms_names:  {'Manish', 'Gajendra', 'Rajeev'}\n"
     ]
    }
   ],
   "source": [
    "coll_names = {'Gajendra', \"Rajeev\"}\n",
    "dms_names = {'Manish', \"Rajeev\", \"Gajendra\"}\n",
    "d = coll_names.union(dms_names)\n",
    "print(d)\n",
    "print(\"coll_names: \", coll_names, \"\\ndms_names: \", dms_names)"
   ]
  },
  {
   "cell_type": "code",
   "execution_count": 136,
   "metadata": {},
   "outputs": [
    {
     "name": "stdout",
     "output_type": "stream",
     "text": [
      "{'Alok', 'Gajendra b', 'Rajeev', 'Manish', 'Chandu', 'Gajendra'}\n"
     ]
    }
   ],
   "source": [
    "coll_names = {'Gajendra b', \"Rajeev\"}\n",
    "dms_names = {'Manish', \"Rajeev\", \"Gajendra\"}\n",
    "sat = {'Alok', 'Chandu', \"Rajeev\"}\n",
    "d = coll_names.union(dms_names, sat)\n",
    "print(d)"
   ]
  },
  {
   "cell_type": "markdown",
   "metadata": {},
   "source": [
    "### `update`"
   ]
  },
  {
   "cell_type": "markdown",
   "metadata": {},
   "source": [
    "`update` is similar to `union` except updates the set itself instead of creating a newer one. "
   ]
  },
  {
   "cell_type": "code",
   "execution_count": 142,
   "metadata": {},
   "outputs": [
    {
     "name": "stdout",
     "output_type": "stream",
     "text": [
      "None\n",
      "coll_names:  {'Rishi', 'Rajeev', 'Manish', 'Gajendra'} \n",
      "dms_names:  {'Manish', 'Gajendra', 'Rajeev'}\n"
     ]
    }
   ],
   "source": [
    "coll_names = {'Rishi', \"Rajeev\"}\n",
    "dms_names = {'Manish', \"Rajeev\", \"Gajendra\"}\n",
    "d = coll_names.update(dms_names)\n",
    "print(d)\n",
    "print(\"coll_names: \", coll_names, \"\\ndms_names: \", dms_names)"
   ]
  },
  {
   "cell_type": "code",
   "execution_count": null,
   "metadata": {},
   "outputs": [],
   "source": []
  },
  {
   "cell_type": "code",
   "execution_count": null,
   "metadata": {},
   "outputs": [],
   "source": []
  },
  {
   "cell_type": "code",
   "execution_count": null,
   "metadata": {},
   "outputs": [],
   "source": []
  },
  {
   "cell_type": "markdown",
   "metadata": {},
   "source": [
    "### Accessing elements in set"
   ]
  },
  {
   "cell_type": "markdown",
   "metadata": {},
   "source": [
    "Python do not have any direct method to get individual elements as set by defination is `A set object is an \"unordered\" collection of distinct hashable objects.`. We can use following methods to get the individual elements. "
   ]
  },
  {
   "cell_type": "markdown",
   "metadata": {},
   "source": [
    "#### `for` loop"
   ]
  },
  {
   "cell_type": "markdown",
   "metadata": {},
   "source": [
    "This is the most direct, easiest and fastest method of accessing elements from a `set`"
   ]
  },
  {
   "cell_type": "code",
   "execution_count": 25,
   "metadata": {},
   "outputs": [
    {
     "name": "stdout",
     "output_type": "stream",
     "text": [
      "Vishal\n",
      "Sunil\n",
      "Arun\n",
      "Manoj\n",
      "Gyan\n",
      "Manish\n",
      "Rajeev\n",
      "Satish\n",
      "Satyendra\n",
      "Sachin\n"
     ]
    }
   ],
   "source": [
    "dms_names = {\"Gyan\", \"Rajeev\", \"Sachin\", \"Manish\", \"Vishal\",\n",
    "             \"Manoj\", \"Arun\", \"Sunil\", \"Satish\", \"Satyendra\"}\n",
    "for names in dms_names:\n",
    "    print(names)"
   ]
  },
  {
   "cell_type": "code",
   "execution_count": 33,
   "metadata": {},
   "outputs": [
    {
     "name": "stdout",
     "output_type": "stream",
     "text": [
      "0 Vishal\n",
      "1 Sunil\n",
      "2 Arun\n",
      "Arun\n",
      "0 Vishal\n",
      "1 Sunil\n",
      "Sunil\n"
     ]
    }
   ],
   "source": [
    "# Why its a bad idea to use index to get elements from set\n",
    "# order in which they were created is not maintained.\n",
    "\n",
    "def get_indxele(values, index):\n",
    "    for indx, val in enumerate(values):\n",
    "        print(indx, val)\n",
    "        if indx == index:\n",
    "            return val\n",
    "        \n",
    "print(get_indxele(dms_names = {\"Gyan\", \"Rajeev\", \"Sachin\", \"Manish\", \"Vishal\",\n",
    "             \"Manoj\", \"Arun\", \"Sunil\", \"Satish\", \"Satyendra\"}, 2))\n",
    "print(get_indxele(dms_names, 1))"
   ]
  },
  {
   "cell_type": "markdown",
   "metadata": {},
   "source": [
    "#### `next`"
   ]
  },
  {
   "cell_type": "code",
   "execution_count": 73,
   "metadata": {},
   "outputs": [
    {
     "name": "stdout",
     "output_type": "stream",
     "text": [
      "Vishal\n"
     ]
    }
   ],
   "source": [
    "print(next(iter(dms_names)))"
   ]
  },
  {
   "cell_type": "markdown",
   "metadata": {},
   "source": [
    "#### `iter(set).__next__()`"
   ]
  },
  {
   "cell_type": "code",
   "execution_count": 97,
   "metadata": {},
   "outputs": [
    {
     "name": "stdout",
     "output_type": "stream",
     "text": [
      "Vishal\n"
     ]
    }
   ],
   "source": [
    "print(iter(dms_names).__next__())"
   ]
  },
  {
   "cell_type": "markdown",
   "metadata": {},
   "source": [
    "#### `list(set)`"
   ]
  },
  {
   "cell_type": "code",
   "execution_count": 39,
   "metadata": {},
   "outputs": [
    {
     "name": "stdout",
     "output_type": "stream",
     "text": [
      "Vishal\n"
     ]
    }
   ],
   "source": [
    "print(list(dms_names)[0])"
   ]
  },
  {
   "cell_type": "markdown",
   "metadata": {},
   "source": [
    "#### `random.sample`"
   ]
  },
  {
   "cell_type": "code",
   "execution_count": 72,
   "metadata": {},
   "outputs": [
    {
     "name": "stdout",
     "output_type": "stream",
     "text": [
      "['Vishal']\n"
     ]
    }
   ],
   "source": [
    "from random import sample\n",
    "\n",
    "print(sample(dms_names, 1))"
   ]
  },
  {
   "cell_type": "markdown",
   "metadata": {},
   "source": [
    "#### `pop`"
   ]
  },
  {
   "cell_type": "code",
   "execution_count": 110,
   "metadata": {},
   "outputs": [
    {
     "name": "stdout",
     "output_type": "stream",
     "text": [
      "Vishal\n"
     ]
    }
   ],
   "source": [
    "dms_names = {\"Gyan\", \"Rajeev\", \"Sachin\", \"Manish\", \"Vishal\",\n",
    "             \"Manoj\", \"Arun\", \"Sunil\", \"Satish\", \"Satyendra\"}\n",
    "\n",
    "def get_emement(obj):\n",
    "    ret_val = obj.pop()\n",
    "    obj.add(ret_val)\n",
    "    return ret_val\n",
    "print(get_emement(dms_names))"
   ]
  },
  {
   "cell_type": "code",
   "execution_count": null,
   "metadata": {},
   "outputs": [],
   "source": []
  },
  {
   "cell_type": "code",
   "execution_count": null,
   "metadata": {},
   "outputs": [],
   "source": []
  }
 ],
 "metadata": {
  "kernelspec": {
   "display_name": "Python 3",
   "language": "python",
   "name": "python3"
  },
  "language_info": {
   "codemirror_mode": {
    "name": "ipython",
    "version": 3
   },
   "file_extension": ".py",
   "mimetype": "text/x-python",
   "name": "python",
   "nbconvert_exporter": "python",
   "pygments_lexer": "ipython3",
   "version": "3.8.2"
  }
 },
 "nbformat": 4,
 "nbformat_minor": 4
}
