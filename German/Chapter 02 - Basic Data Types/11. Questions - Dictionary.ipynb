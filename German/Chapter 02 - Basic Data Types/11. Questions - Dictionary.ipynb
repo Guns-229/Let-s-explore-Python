{
 "cells": [
  {
   "cell_type": "markdown",
   "metadata": {},
   "source": [
    "# Questions - Dictionary\n",
    "---"
   ]
  },
  {
   "cell_type": "markdown",
   "metadata": {},
   "source": [
    "**Q: Which of the following statements create a dictionary?(multiple answers allowed)**\n",
    "\n",
    "1. d = {}\n",
    "2. d = {\"mayank\":40, \"janki mohan johri\":68}\n",
    "3. d = {40:\"mayank\", 45:\"janki mohan johri\"}\n",
    "4. d = (40:\"mayank\", 45:\"janki mohan johri\")"
   ]
  },
  {
   "cell_type": "markdown",
   "metadata": {},
   "source": [
    "**Q: What will be the output of the followings**"
   ]
  },
  {
   "cell_type": "markdown",
   "metadata": {},
   "source": [
    "```python\n",
    "d1 = {\"johri\":40, \"mayank\":45}\n",
    "d2 = {\"johri\":466, \"mayank\":45}\n",
    "print(d1 == d2)\n",
    "```\n",
    "___\n",
    "```python\n",
    "d = {\"johri\":40, \"mayank\":45}\n",
    "print(\"johri\" in d)\n",
    "```\n",
    "___\n",
    "```python\n",
    "d1 = {\"johri\":40, \"mayank\":45}\n",
    "d2 = {\"johri\":466, \"mayank\":45}\n",
    "print(d1 != d2)\n",
    "```\n",
    "___\n",
    "```python\n",
    "d1 = {\"johri\":40, \"mayank\":45}\n",
    "d2 = {\"johri\":466, \"mayank\":45}\n",
    "print(d1 < d2)\n",
    "print(d1 > d2)\n",
    "```\n",
    "___\n",
    "```python\n",
    "d = {\"johri\":40, \"mayank\":45}\n",
    "for a in d:\n",
    "    print(type(a))\n",
    "\n",
    "print(list(d))\n",
    "\n",
    "for a, b in d.items():\n",
    "    print(a, b)\n",
    "```"
   ]
  }
 ],
 "metadata": {
  "kernelspec": {
   "display_name": "Python 3",
   "language": "python",
   "name": "python3"
  },
  "language_info": {
   "codemirror_mode": {
    "name": "ipython",
    "version": 3
   },
   "file_extension": ".py",
   "mimetype": "text/x-python",
   "name": "python",
   "nbconvert_exporter": "python",
   "pygments_lexer": "ipython3",
   "version": "3.7.4"
  }
 },
 "nbformat": 4,
 "nbformat_minor": 2
}
