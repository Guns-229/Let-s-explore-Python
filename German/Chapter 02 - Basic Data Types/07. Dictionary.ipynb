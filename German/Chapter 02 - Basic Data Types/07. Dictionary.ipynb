{
 "cells": [
  {
   "cell_type": "markdown",
   "metadata": {},
   "source": [
    "## Dictionary"
   ]
  },
  {
   "cell_type": "markdown",
   "metadata": {},
   "source": [
    "A dictionary is a list of associations composed by a unique key and corresponding structures. Dictionaries are mutable, like lists.\n",
    "\n",
    "The key must be an immutable type, usually strings, but can also be tuples or numeric types. On the other hand the items of dictionaries can be either mutable or immutable. The Python dictionary provides no guarantee that the keys are ordered.\n",
    "\n",
    "Syntax:\n",
    "```python\n",
    "dictionary = {'a': a, 'b': b, ..., 'z': z}\n",
    "```\n",
    "Structure:\n",
    "\n",
    "![Structure of a dictionary](files/Dictionary.png)"
   ]
  },
  {
   "cell_type": "markdown",
   "metadata": {},
   "source": [
    "Example of a dictionary:"
   ]
  },
  {
   "cell_type": "code",
   "execution_count": 2,
   "metadata": {},
   "outputs": [],
   "source": [
    "brands = {'name': 'Dabar', 'product': 'Honey'}"
   ]
  },
  {
   "cell_type": "markdown",
   "metadata": {},
   "source": [
    "- Acessing elements:"
   ]
  },
  {
   "cell_type": "code",
   "execution_count": 3,
   "metadata": {},
   "outputs": [
    {
     "name": "stdout",
     "output_type": "stream",
     "text": [
      "Dabar\n"
     ]
    }
   ],
   "source": [
    "print(brands['name'])"
   ]
  },
  {
   "cell_type": "code",
   "execution_count": 4,
   "metadata": {},
   "outputs": [
    {
     "name": "stdout",
     "output_type": "stream",
     "text": [
      "Dabar\n"
     ]
    }
   ],
   "source": [
    "print(brands.get('name'))"
   ]
  },
  {
   "cell_type": "code",
   "execution_count": 5,
   "metadata": {},
   "outputs": [
    {
     "name": "stdout",
     "output_type": "stream",
     "text": [
      "Error 'Blabla'\n"
     ]
    }
   ],
   "source": [
    "# Trying to access a key which do not exists\n",
    "\n",
    "try:\n",
    "    print(brands['Blabla'])\n",
    "except Exception as e:\n",
    "    print(\"Error\", e)"
   ]
  },
  {
   "cell_type": "code",
   "execution_count": 6,
   "metadata": {},
   "outputs": [
    {
     "name": "stdout",
     "output_type": "stream",
     "text": [
      "Dummy Value\n"
     ]
    }
   ],
   "source": [
    "print(brands.get('Blabla', \"Dummy Value\"))"
   ]
  },
  {
   "cell_type": "markdown",
   "metadata": {},
   "source": [
    "- Adding/Updating elements:\n",
    "\n",
    "If the key is not present than key/value pair will be created else, existing value will be updated. \n",
    "```python\n",
    "```"
   ]
  },
  {
   "cell_type": "code",
   "execution_count": 8,
   "metadata": {},
   "outputs": [
    {
     "name": "stdout",
     "output_type": "stream",
     "text": [
      "{'name': 'New Dabar', 'product': 'Honey'}\n"
     ]
    }
   ],
   "source": [
    "# Updating existing key/value pair\n",
    "brands['name'] = 'New Dabar'\n",
    "print(brands)"
   ]
  },
  {
   "cell_type": "code",
   "execution_count": 9,
   "metadata": {},
   "outputs": [
    {
     "name": "stdout",
     "output_type": "stream",
     "text": [
      "{'name': 'New Dabar', 'product': 'Honey', 'cost': '250'}\n"
     ]
    }
   ],
   "source": [
    "# Adding new key/value pair\n",
    "brands['cost'] = '250'\n",
    "print(brands)"
   ]
  },
  {
   "cell_type": "markdown",
   "metadata": {},
   "source": [
    "- Removing one elemento from a dictionary:\n"
   ]
  },
  {
   "cell_type": "code",
   "execution_count": 18,
   "metadata": {},
   "outputs": [
    {
     "name": "stdout",
     "output_type": "stream",
     "text": [
      "{'name': 'New Dabar', 'product': 'Honey'}\n"
     ]
    }
   ],
   "source": [
    "del brands['cost']\n",
    "print(brands)"
   ]
  },
  {
   "cell_type": "markdown",
   "metadata": {},
   "source": [
    "\n",
    "\n",
    "Getting the items, keys and values:\n",
    "```python\n",
    "items = brands.items()\n",
    "keys = brands.keys()\n",
    "values = brands.values()\n",
    "```"
   ]
  },
  {
   "cell_type": "markdown",
   "metadata": {},
   "source": [
    "**Examples with dictionaries**:"
   ]
  },
  {
   "cell_type": "code",
   "execution_count": 10,
   "metadata": {},
   "outputs": [
    {
     "name": "stdout",
     "output_type": "stream",
     "text": [
      "dict_items([('name', 'Dabar'), ('brand', 'Honey')])\n",
      "dict_keys(['name', 'brand'])\n",
      "dict_values(['Dabar', 'Honey'])\n"
     ]
    }
   ],
   "source": [
    "brands = {'name': 'Dabar', 'brand': 'Honey'}\n",
    "\n",
    "items = brands.items()\n",
    "keys = brands.keys()\n",
    "values = brands.values()\n",
    "\n",
    "print(items)\n",
    "print(keys)\n",
    "print(values)"
   ]
  },
  {
   "cell_type": "code",
   "execution_count": 12,
   "metadata": {},
   "outputs": [
    {
     "name": "stdout",
     "output_type": "stream",
     "text": [
      "{(1, 2, 3): 'Welcome', (2, 3, 4): 'Kind'} Welcome\n"
     ]
    }
   ],
   "source": [
    "# using tuple as key :)\n",
    "# All elements of tuple should be immutable. \n",
    "\n",
    "my_ci = {(1,2,3): \"Welcome\", (2,3,4): 'Kind'}\n",
    "print(my_ci, my_ci[(1,2,3)])"
   ]
  },
  {
   "cell_type": "code",
   "execution_count": 26,
   "metadata": {},
   "outputs": [
    {
     "name": "stdout",
     "output_type": "stream",
     "text": [
      "Error: unhashable type: 'list'\n"
     ]
    }
   ],
   "source": [
    "# All the elements of the tuple should eb immutable. \n",
    "try:\n",
    "    my_ci = {(1,[2],3): \"Welcome\", (2,3,4): 'Kind'}\n",
    "    print(my_ci[(1,2,3)])\n",
    "except Exception as e:\n",
    "    print(\"Error:\", e)"
   ]
  },
  {
   "cell_type": "markdown",
   "metadata": {},
   "source": [
    "### Multiple values with same key "
   ]
  },
  {
   "cell_type": "markdown",
   "metadata": {},
   "source": [
    "Last key/value pair will retain its value and all previous instances of key/value will be overwritten by the last pair. "
   ]
  },
  {
   "cell_type": "code",
   "execution_count": 27,
   "metadata": {},
   "outputs": [
    {
     "name": "stdout",
     "output_type": "stream",
     "text": [
      "{'name': 'Dabar New', 'product': 'Honey'}\n",
      "2\n"
     ]
    }
   ],
   "source": [
    "## !!! Gotcha's !!!\n",
    "\n",
    "dic = {'name': 'Dabar', z'product': 'Honey'}\n",
    "print(dic)\n",
    "print(len(dic))"
   ]
  },
  {
   "cell_type": "markdown",
   "metadata": {},
   "source": [
    "> **NOTE**: \n",
    "> the latest one will override the previous key/values as shown in the above example"
   ]
  },
  {
   "cell_type": "markdown",
   "metadata": {},
   "source": [
    "### Dictonary with `for` loop"
   ]
  },
  {
   "cell_type": "code",
   "execution_count": 7,
   "metadata": {},
   "outputs": [],
   "source": [
    "progs = {\n",
    "    \"India\": \"Chennai\",\n",
    "    \"South Africa\": \"Sant Petersberg\",\n",
    "    \"England\": \"London\"\n",
    "}"
   ]
  },
  {
   "cell_type": "markdown",
   "metadata": {},
   "source": [
    "#### keys"
   ]
  },
  {
   "cell_type": "code",
   "execution_count": 8,
   "metadata": {},
   "outputs": [
    {
     "name": "stdout",
     "output_type": "stream",
     "text": [
      "India\n",
      "South Africa\n",
      "England\n"
     ]
    }
   ],
   "source": [
    "# only keys will be returned. \n",
    "for a in progs:\n",
    "    print(a)"
   ]
  },
  {
   "cell_type": "code",
   "execution_count": 9,
   "metadata": {},
   "outputs": [
    {
     "name": "stdout",
     "output_type": "stream",
     "text": [
      "India\n",
      "South Africa\n",
      "England\n"
     ]
    }
   ],
   "source": [
    "# The above code is equivalent to this\n",
    "\n",
    "for a in progs.keys():\n",
    "    print(a)"
   ]
  },
  {
   "cell_type": "code",
   "execution_count": 10,
   "metadata": {},
   "outputs": [
    {
     "name": "stdout",
     "output_type": "stream",
     "text": [
      "Keys \t=> Values\n",
      "India => Chennai\n",
      "South Africa => Sant Petersberg\n",
      "England => London\n"
     ]
    }
   ],
   "source": [
    "print(\"Keys \\t=> Values\")\n",
    "for a in progs.keys():\n",
    "    print(\"{key} => {val}\".format(key=a, val=progs[a]))"
   ]
  },
  {
   "cell_type": "code",
   "execution_count": 11,
   "metadata": {
    "scrolled": true
   },
   "outputs": [
    {
     "name": "stdout",
     "output_type": "stream",
     "text": [
      "Keys \t=> Values\n",
      "India\t=> Chennai\n",
      "South Africa\t=> Sant Petersberg\n",
      "England\t=> London\n"
     ]
    }
   ],
   "source": [
    "print(\"Keys \\t=> Values\")\n",
    "for a in progs:\n",
    "    print(\"{key}\\t=> {val}\".format(key=a, val=progs[a]))"
   ]
  },
  {
   "cell_type": "markdown",
   "metadata": {},
   "source": [
    "#### `items` "
   ]
  },
  {
   "cell_type": "code",
   "execution_count": 12,
   "metadata": {},
   "outputs": [
    {
     "name": "stdout",
     "output_type": "stream",
     "text": [
      "India Chennai\n",
      "South Africa Sant Petersberg\n",
      "England London\n"
     ]
    }
   ],
   "source": [
    "for key, val in progs.items():\n",
    "    print(key, val)"
   ]
  },
  {
   "cell_type": "markdown",
   "metadata": {},
   "source": [
    "#### values"
   ]
  },
  {
   "cell_type": "markdown",
   "metadata": {},
   "source": [
    "> **NOTE**: You can/should not get `keys` from  `values`, because values can be duplicate. "
   ]
  },
  {
   "cell_type": "code",
   "execution_count": 13,
   "metadata": {},
   "outputs": [
    {
     "name": "stdout",
     "output_type": "stream",
     "text": [
      "Chennai\n",
      "Sant Petersberg\n",
      "London\n"
     ]
    }
   ],
   "source": [
    "for val in progs.values():\n",
    "    print(val)"
   ]
  },
  {
   "cell_type": "code",
   "execution_count": 28,
   "metadata": {},
   "outputs": [
    {
     "name": "stdout",
     "output_type": "stream",
     "text": [
      "{'India': 'Chennai', 'South Africa': 'Sant Petersberg', 'England': 'London', 'Bangaladesh': 'Dhaka'}\n"
     ]
    }
   ],
   "source": [
    "progs = {\n",
    "    \"India\": \"Chennai\",\n",
    "    \"South Africa\": \"Sant Petersberg\",\n",
    "    \"England\": \"London\"\n",
    "}\n",
    "\n",
    "# More progs\n",
    "progs['Bangaladesh'] = \"Dhaka\"\n",
    "\n",
    "print(progs)"
   ]
  },
  {
   "cell_type": "markdown",
   "metadata": {},
   "source": [
    "### Delete a key/value pair"
   ]
  },
  {
   "cell_type": "code",
   "execution_count": 29,
   "metadata": {},
   "outputs": [
    {
     "name": "stdout",
     "output_type": "stream",
     "text": [
      "{'India': 'Chennai', 'South Africa': 'Sant Petersberg', 'England': 'London', 'Bangaladesh': 'Dhaka'}\n",
      "{'India': 'Chennai', 'South Africa': 'Sant Petersberg', 'Bangaladesh': 'Dhaka'}\n"
     ]
    }
   ],
   "source": [
    "##### Why its failing\n",
    "progs = {'India': 'Chennai', 'South Africa': 'Sant Petersberg', 'England': 'London', 'Bangaladesh': 'Dhaka'}\n",
    "print(progs)\n",
    "\n",
    "del progs[\"England\"]\n",
    "print(progs)"
   ]
  },
  {
   "cell_type": "markdown",
   "metadata": {},
   "source": [
    "### Nested Dictionary"
   ]
  },
  {
   "cell_type": "code",
   "execution_count": 32,
   "metadata": {},
   "outputs": [
    {
     "name": "stdout",
     "output_type": "stream",
     "text": [
      "{'school': 'DMS', 'students_details': {1001: {'name': 'Mayank', 'age': 44}, 1002: {'name': 'Vishal Saxena', 'age': 44}, 1003: {'name': 'Rajeev Chaturvedi', 'age': 43}}}\n"
     ]
    }
   ],
   "source": [
    "multid = {'school': 'DMS',\n",
    "          'students_details': {\n",
    "              1001: {\n",
    "                  \"name\": \"Mayank\",\n",
    "                  \"age\": 44\n",
    "              },\n",
    "              1002: {\n",
    "                  \"name\" : \"Vishal Saxena\",\n",
    "                  \"age\": 44\n",
    "              },\n",
    "              1003: {\n",
    "                  \"name\": \"Rajeev Chaturvedi\",\n",
    "                  \"age\": 43\n",
    "              }\n",
    "          }\n",
    "        }\n",
    "\n",
    "print(multid)"
   ]
  },
  {
   "cell_type": "code",
   "execution_count": 33,
   "metadata": {},
   "outputs": [
    {
     "name": "stdout",
     "output_type": "stream",
     "text": [
      "{'name': 'Mayank', 'age': 44}\n",
      "Vishal Saxena\n"
     ]
    }
   ],
   "source": [
    "print(multid['students_details'][1001])\n",
    "print(multid['students_details'][1002]['name'])"
   ]
  },
  {
   "cell_type": "markdown",
   "metadata": {},
   "source": [
    "### Handling non existing `keys` "
   ]
  },
  {
   "cell_type": "code",
   "execution_count": 18,
   "metadata": {},
   "outputs": [
    {
     "name": "stdout",
     "output_type": "stream",
     "text": [
      "Error: Key now found\n"
     ]
    }
   ],
   "source": [
    "progs = {\n",
    "    \"India\": \"Chennai\",\n",
    "    \"South Africa\": \"Sant Petersberg\",\n",
    "    \"England\": \"London\"\n",
    "}\n",
    "\n",
    "try:\n",
    "    print(progs[\"Nepal\"])\n",
    "except KeyError:\n",
    "    print(\"Error: Key now found\")"
   ]
  },
  {
   "cell_type": "code",
   "execution_count": 19,
   "metadata": {},
   "outputs": [
    {
     "name": "stdout",
     "output_type": "stream",
     "text": [
      "Key not found\n"
     ]
    }
   ],
   "source": [
    "if \"Nepal\" in progs:\n",
    "    print(\"Hello\")\n",
    "else:\n",
    "    print(\"Key not found\")"
   ]
  },
  {
   "cell_type": "code",
   "execution_count": 34,
   "metadata": {},
   "outputs": [
    {
     "name": "stdout",
     "output_type": "stream",
     "text": [
      "Hello: Chennai\n"
     ]
    }
   ],
   "source": [
    "if \"India\" in progs:\n",
    "    print(\"Hello:\", progs[\"India\"])\n",
    "else:\n",
    "    print(\"Key not found\")"
   ]
  },
  {
   "cell_type": "markdown",
   "metadata": {},
   "source": [
    "we can use `get` attribute of `dictionary` to get the values as shown in the below example. In this example, we will be returned with default set value if no key is found. In below case it will return value `NonExistingKey` "
   ]
  },
  {
   "cell_type": "code",
   "execution_count": 21,
   "metadata": {},
   "outputs": [
    {
     "name": "stdout",
     "output_type": "stream",
     "text": [
      "NonExistingKey\n"
     ]
    }
   ],
   "source": [
    "print(progs.get(\"Nepal\", \"NonExistingKey\"))"
   ]
  },
  {
   "cell_type": "markdown",
   "metadata": {},
   "source": [
    "### More dictionary Examples."
   ]
  },
  {
   "cell_type": "code",
   "execution_count": 22,
   "metadata": {},
   "outputs": [
    {
     "name": "stdout",
     "output_type": "stream",
     "text": [
      "{'school': 'DMS', 'students_details': {'students': ['Mayank', 'Vishal', 'Rajeev']}}\n"
     ]
    }
   ],
   "source": [
    "multid = {'school': 'DMS',\n",
    "          'students_details': {\n",
    "              \"students\": \n",
    "                  [\n",
    "                      \"Mayank\",\n",
    "                      \"Vishal\",\n",
    "                      \"Rajeev\"\n",
    "                  ]\n",
    "          }}\n",
    "print(multid)"
   ]
  },
  {
   "cell_type": "code",
   "execution_count": 23,
   "metadata": {},
   "outputs": [
    {
     "name": "stdout",
     "output_type": "stream",
     "text": [
      "{'meme': 'wewe', 'test': 'TESt value'}\n",
      "meme\n",
      "test\n"
     ]
    }
   ],
   "source": [
    "# traversing with duplicate keys\n",
    "\n",
    "dupli = {\n",
    "    \"meme\" : \"mjmj\",\n",
    "    \"test\" : \"TESt value\",\n",
    "    \"meme\" : \"wewe\"\n",
    "}\n",
    "\n",
    "print(dupli)\n",
    "for k in dupli:\n",
    "    print(k)"
   ]
  },
  {
   "cell_type": "code",
   "execution_count": 24,
   "metadata": {
    "scrolled": false
   },
   "outputs": [],
   "source": [
    "# # Matrix in form of string\n",
    "# matrix = '''0 0 0 0 0 0 0 0 0 0 0 0\n",
    "# 9 0 0 0 0 0 0 0 0 0 0 0\n",
    "# 0 0 0 0 0 0 0 0 0 4 0 0\n",
    "# 0 0 0 0 0 0 0 3 0 0 0 0\n",
    "# 0 0 0 0 0 0 5 0 0 0 0 0\n",
    "# 0 0 0 0 6 0 0 0 0 0 0 0'''\n",
    "\n",
    "# mat = {}\n",
    "\n",
    "# # split the matrix in lines\n",
    "# for row, line in enumerate(matrix.splitlines()):\n",
    "\n",
    "#     # Splits the line int cols\n",
    "#     for col, column in enumerate(line.split()):\n",
    "\n",
    "#         column = int(column)\n",
    "#         # Places the column in the result,\n",
    "#         # if it is differente from zero\n",
    "#         if column:\n",
    "#             mat[row, col] = column\n",
    "\n",
    "# print (mat)\n",
    "# # The counting starts with zero\n",
    "# print ('Complete matrix size:', (row + 1) * (col + 1))\n",
    "# print ('Sparse matrix size:', len(mat))"
   ]
  },
  {
   "cell_type": "markdown",
   "metadata": {},
   "source": [
    "### Creating dictionary, continued."
   ]
  },
  {
   "cell_type": "markdown",
   "metadata": {},
   "source": [
    "> **NOTE**: One can create dictionary using the following methods as well"
   ]
  },
  {
   "cell_type": "code",
   "execution_count": 35,
   "metadata": {},
   "outputs": [
    {
     "name": "stdout",
     "output_type": "stream",
     "text": [
      "{'mayank': 'johri', 'Ashwini': 'Johri', 'Rahul': 'Johri'}\n"
     ]
    }
   ],
   "source": [
    "# dictionary = dict(key1=value1, key2=value2, ...)\n",
    "\n",
    "names = dict(mayank=\"johri\", Ashwini=\"Johri\", Rahul=\"Johri\")\n",
    "print(names)"
   ]
  },
  {
   "cell_type": "markdown",
   "metadata": {},
   "source": [
    "```python\n",
    "# !!! Gotcha !!!\n",
    "# It will fail to handle complex data type as keys\n",
    "\n",
    "    names = dict((\"mayank\", \"test\")=\"johri\", ashwini=\"johri\", Rahul=\"Johri\")\n",
    "    print(names)\n",
    "```\n",
    "Output:\n",
    "```\n",
    "  File \"<ipython-input-15-bd2bbfe31949>\", line 3\n",
    "    names = dict((\"mayank\", \"test\")=\"johri\", ashwini=\"johri\", Rahul=\"Johri\")\n",
    "                ^\n",
    "SyntaxError: keyword can't be an expression\n",
    "\n",
    "```"
   ]
  },
  {
   "cell_type": "code",
   "execution_count": 36,
   "metadata": {
    "scrolled": true
   },
   "outputs": [
    {
     "name": "stdout",
     "output_type": "stream",
     "text": [
      "{'mayank': 'johri', 'ashwini': 'johri', 'Rahul': 'Johri'}\n"
     ]
    }
   ],
   "source": [
    "# dictionary = dict([(key1, value1), (key2, value2), ...])\n",
    "\n",
    "names = dict([(\"mayank\",\"johri\"), (\"ashwini\", \"johri\"), (\"Rahul\",\"Johri\")])\n",
    "print(names)"
   ]
  },
  {
   "cell_type": "code",
   "execution_count": 37,
   "metadata": {},
   "outputs": [
    {
     "name": "stdout",
     "output_type": "stream",
     "text": [
      "{('mayank', 'test'): 'johri', 'ashwini': 'johri', 'Rahul': 'Johri'}\n"
     ]
    }
   ],
   "source": [
    "# It can handle tuples as key also\n",
    "names = dict([((\"mayank\", \"test\"),\"johri\"), (\"ashwini\", \"johri\"), (\"Rahul\",\"Johri\")])\n",
    "print(names)"
   ]
  },
  {
   "cell_type": "code",
   "execution_count": 28,
   "metadata": {},
   "outputs": [
    {
     "name": "stdout",
     "output_type": "stream",
     "text": [
      "{'mayank': '100', 'roshan': '10000', 'GV': '10000', 'kv_pauly': '20000'}\n"
     ]
    }
   ],
   "source": [
    "# Less keys than values\n",
    "lst_keys = ['mayank', 'roshan', 'GV', 'kv_pauly']\n",
    "lst_vals = ['100', '10000', '10000', '20000', '99999']\n",
    "\n",
    "ke_va = dict(zip(lst_keys, lst_vals))\n",
    "print(ke_va)"
   ]
  },
  {
   "cell_type": "code",
   "execution_count": 29,
   "metadata": {},
   "outputs": [
    {
     "name": "stdout",
     "output_type": "stream",
     "text": [
      "{'kv_pauly': '33300', 'roshan': '10000', 'GV': '10000'}\n"
     ]
    }
   ],
   "source": [
    "# more keys than value\n",
    "lst_keys = ['kv_pauly', 'roshan', 'GV', 'mayank']\n",
    "lst_vals = ['33300', '10000', '10000']\n",
    "\n",
    "ke_va = dict(zip(lst_keys, lst_vals))\n",
    "print(ke_va)"
   ]
  },
  {
   "cell_type": "code",
   "execution_count": 40,
   "metadata": {},
   "outputs": [
    {
     "name": "stdout",
     "output_type": "stream",
     "text": [
      "{'mayank': '100', 'roshan': '10000', 'GV': '10000', 'kv_pauly': '20000', 'Fill Value': 299}\n"
     ]
    }
   ],
   "source": [
    "# !!! Very bad idea !!!\n",
    "\n",
    "from itertools import zip_longest as zipl\n",
    "\n",
    "lst_keys = ['mayank', 'roshan', 'GV', 'kv_pauly']\n",
    "lst_vals = ['100', '10000', '10000', '20000', '99999', 299]\n",
    "\n",
    "ke_va = dict(zipl(lst_keys, lst_vals, fillvalue=\"Fill Value\"))\n",
    "print(ke_va)\n",
    "\n",
    "## Note that missing 0/99999 key_value pair. "
   ]
  },
  {
   "cell_type": "code",
   "execution_count": 31,
   "metadata": {},
   "outputs": [
    {
     "name": "stdout",
     "output_type": "stream",
     "text": [
      "{'mayank': '100', 'roshan': '10000', 'GV': '10000', 'kv_pauly': [200, 200], 'Dr. Ashiwini': [200, 200], 'Rahul': [200, 200]}\n"
     ]
    }
   ],
   "source": [
    "from itertools import zip_longest as zipl\n",
    "lst_keys = ['mayank', 'roshan', 'GV', 'kv_pauly', \"Dr. Ashiwini\", \"Rahul\"]\n",
    "lst_vals = ['100', '10000', '10000']\n",
    "\n",
    "ke_va = dict(zipl(lst_keys, lst_vals, fillvalue=[200, 200]))\n",
    "print(ke_va)"
   ]
  },
  {
   "cell_type": "code",
   "execution_count": 44,
   "metadata": {},
   "outputs": [
    {
     "name": "stdout",
     "output_type": "stream",
     "text": [
      "inside popu...\n",
      "{'mayank': '100', 'roshan': '10000', 'GV': '10000', 'kv_pauly': 101, 'Dr. Ashiwini': 101}\n"
     ]
    }
   ],
   "source": [
    "from itertools import zip_longest as zipl\n",
    "lst_keys = ['mayank', 'roshan', 'GV', 'kv_pauly', \"Dr. Ashiwini\"]\n",
    "lst_vals = ['100', '10000', '10000']\n",
    "x = 100\n",
    "\n",
    "def popu():\n",
    "    print(\"inside popu...\")\n",
    "    global x\n",
    "    x = x +1\n",
    "    return x\n",
    "\n",
    "ke_va = dict(zipl(lst_keys, lst_vals, fillvalue=popu()))\n",
    "print(ke_va)"
   ]
  },
  {
   "cell_type": "markdown",
   "metadata": {},
   "source": [
    "There are few more methods to create a dictionary which will be covered in `functional programming`.\n"
   ]
  },
  {
   "cell_type": "markdown",
   "metadata": {},
   "source": [
    "Lets check below two examples and see what is happening"
   ]
  },
  {
   "cell_type": "code",
   "execution_count": 46,
   "metadata": {},
   "outputs": [],
   "source": [
    "# Blank Dictionary\n",
    "\n",
    "d = dict()\n",
    "\n",
    "d_blank = {}"
   ]
  },
  {
   "cell_type": "code",
   "execution_count": 47,
   "metadata": {},
   "outputs": [
    {
     "name": "stdout",
     "output_type": "stream",
     "text": [
      "{10.1: 'TEST', 10: 'test', 10.5: 'really testing', 20: 'Testing completed'}\n"
     ]
    }
   ],
   "source": [
    "# lets populate the dictionary\n",
    "\n",
    "d[10.1] = \"TEST\"\n",
    "d[10] = \"test\"  \n",
    "d[10.5] = \"really testing\"\n",
    "d[20] = \"Testing completed\"\n",
    "\n",
    "print(d)"
   ]
  },
  {
   "cell_type": "code",
   "execution_count": 7,
   "metadata": {},
   "outputs": [
    {
     "name": "stdout",
     "output_type": "stream",
     "text": [
      "{10.0: 'TEST', 22: 'tt', 33: 'trtr'}\n"
     ]
    }
   ],
   "source": [
    "d = dict()\n",
    "lst = [(10.0, \"TEST\"), (22, \"tt\"), (33, \"trtr\")]\n",
    "\n",
    "for key, val in lst:\n",
    "    d[key] = val\n",
    "print(d)"
   ]
  },
  {
   "cell_type": "code",
   "execution_count": 8,
   "metadata": {},
   "outputs": [
    {
     "name": "stdout",
     "output_type": "stream",
     "text": [
      "{10.0: 'Ja', 22: 'tt', 33: 'trtr'}\n"
     ]
    }
   ],
   "source": [
    "d = dict()\n",
    "lst = [(10.0, \"TEST\"), (22, \"tt\"), (33, \"trtr\"), (10, \"Ja\")]\n",
    "\n",
    "for key, val in lst:\n",
    "    d[key] = val\n",
    "print(d)"
   ]
  },
  {
   "cell_type": "code",
   "execution_count": 36,
   "metadata": {},
   "outputs": [
    {
     "name": "stdout",
     "output_type": "stream",
     "text": [
      "{1: 'a', 2: 'b', 3: 'c', 4: 'd', 5: 'f'}\n"
     ]
    }
   ],
   "source": [
    "# non functional way to populate the dictionary\n",
    "\n",
    "lst1 = [1, 2, 3, 4, 5]\n",
    "lst2 = [\"a\", \"b\", \"c\", \"d\", \"f\"]\n",
    "# Another way to create a blank dictionary\n",
    "\n",
    "alf = {}\n",
    "for i, val in enumerate(lst1):\n",
    "    alf[val] = lst2[i]\n",
    "    \n",
    "print(alf)"
   ]
  },
  {
   "cell_type": "markdown",
   "metadata": {},
   "source": [
    "We can use the above method if \n",
    "- both the lists are of same size.\n",
    "- list which contains the keys should not have mutable object. "
   ]
  },
  {
   "cell_type": "markdown",
   "metadata": {},
   "source": [
    "> **NOTE**: We need to declare dictionary before we can use it. It can be a blank dictionary also "
   ]
  },
  {
   "cell_type": "markdown",
   "metadata": {},
   "source": [
    "### Joining two dictionaries"
   ]
  },
  {
   "cell_type": "code",
   "execution_count": 37,
   "metadata": {},
   "outputs": [
    {
     "name": "stdout",
     "output_type": "stream",
     "text": [
      "unsupported operand type(s) for +: 'dict' and 'dict'\n"
     ]
    }
   ],
   "source": [
    "a = {1: 'a', 2: 'b', 3: 'c', 4: 'd', 5: 'f'}\n",
    "b = {10.0: 'TEST', 22: 'tt', 33: 'trtr'}\n",
    "\n",
    "try:\n",
    "    c = a + b\n",
    "    print(c)\n",
    "except TypeError as te:\n",
    "    print(te)"
   ]
  },
  {
   "cell_type": "code",
   "execution_count": 49,
   "metadata": {},
   "outputs": [
    {
     "name": "stdout",
     "output_type": "stream",
     "text": [
      "{1: 'a', 2: 'b', 3: 'c', 4: 'd', 5: 'f', 10.0: 'TEST', 22: 'tt', 33: 'trtr'}\n",
      "{10.0: 'TEST', 22: 'tt', 33: 'trtr'}\n",
      "{1: 'a', 2: 'b', 3: 'c', 4: 'd', 5: 'f', 10.0: 'TEST', 22: 'tt', 33: 'trtr'}\n"
     ]
    }
   ],
   "source": [
    "# !! Gotcha !! non working try !!!!\n",
    "a = {1: 'a', 2: 'b', 3: 'c', 4: 'd', 5: 'f'}\n",
    "b = {10.0: 'TEST', 22: 'tt', 33: 'trtr'}\n",
    "\n",
    "c = a\n",
    "\n",
    "for x in b:\n",
    "    c[x] = b[x]\n",
    "print(a)\n",
    "print(b)\n",
    "print(c)\n"
   ]
  },
  {
   "cell_type": "code",
   "execution_count": 51,
   "metadata": {},
   "outputs": [
    {
     "name": "stdout",
     "output_type": "stream",
     "text": [
      "True\n"
     ]
    }
   ],
   "source": [
    "print(c is a)"
   ]
  },
  {
   "cell_type": "code",
   "execution_count": 39,
   "metadata": {},
   "outputs": [
    {
     "name": "stdout",
     "output_type": "stream",
     "text": [
      "{1: ['a', [2]], 2: 'b', 3: 'c', 4: 'd', 5: 'f'}\n",
      "{10.0: 'TEST', 22: 'tt', 33: 'trtr'}\n",
      "{1: ['a', [2]], 2: 'b', 3: 'c', 4: 'd', 5: 'f', 10.0: 'TEST', 22: 'tt', 33: 'trtr'}\n"
     ]
    }
   ],
   "source": [
    "# working try, but needs optimization\n",
    "\n",
    "a = {1:['a', [2]], 2: 'b', 3: 'c', 4: 'd', 5: 'f'}\n",
    "b = {10.0: 'TEST', 22: 'tt', 33: 'trtr'}\n",
    "\n",
    "c = {}\n",
    "for x in a:\n",
    "    c[x] = a[x]\n",
    "    \n",
    "for x in b:\n",
    "    c[x] = b[x]\n",
    "    \n",
    "print(a)\n",
    "print(b)\n",
    "print(c)"
   ]
  },
  {
   "cell_type": "code",
   "execution_count": 40,
   "metadata": {},
   "outputs": [
    {
     "name": "stdout",
     "output_type": "stream",
     "text": [
      "{1: ['a', [2]], 2: 'b', 3: 'c', 4: 'd', 5: 'f'}\n",
      "{10.0: 'TEST', 22: 'tt', 33: 'trtr'}\n",
      "{1: ['a', [2]], 2: 'b', 3: 'c', 4: 'd', 5: 'f', 10.0: 'TEST', 22: 'tt', 33: 'trtr'}\n"
     ]
    }
   ],
   "source": [
    "# Optimization try 1\n",
    "\n",
    "def dict_copy(src, dest):\n",
    "    for x in src:\n",
    "        dest[x] = src[x]\n",
    "       \n",
    "c = {}\n",
    "dict_copy(a, c)\n",
    "dict_copy(b, c)\n",
    "print(a)\n",
    "print(b)\n",
    "print(c)"
   ]
  },
  {
   "cell_type": "code",
   "execution_count": 41,
   "metadata": {},
   "outputs": [
    {
     "name": "stdout",
     "output_type": "stream",
     "text": [
      "4567550944 4567550944\n"
     ]
    }
   ],
   "source": [
    "# Lets check for deep and shallow copy\n",
    "print(id(a[1]), id(c[1]))\n",
    "# So its a shallow copy"
   ]
  },
  {
   "cell_type": "code",
   "execution_count": 12,
   "metadata": {},
   "outputs": [
    {
     "name": "stdout",
     "output_type": "stream",
     "text": [
      "{1: 'a', 2: 'b', 3: 'c', 4: 'd', 5: 'f'}\n",
      "{10.0: 'TEST', 22: 'tt', 33: 'trtr', 2: 'testing'}\n",
      "{1: 'a', 2: 'testing', 3: 'c', 4: 'd', 5: 'f', 10.0: 'TEST', 22: 'tt', 33: 'trtr'}\n"
     ]
    }
   ],
   "source": [
    "# !! Best method :) !!\n",
    "a = {1: 'a', 2: 'b', 3: 'c', 4: 'd', 5: 'f'}\n",
    "b = {10.0: 'TEST', 22: 'tt', 33: 'trtr', 2: \"testing\"}\n",
    "\n",
    "c = {**a, **b}\n",
    "print(a)\n",
    "print(b)\n",
    "print(c)"
   ]
  },
  {
   "cell_type": "markdown",
   "metadata": {},
   "source": [
    "### Dictionary Gocha's"
   ]
  },
  {
   "cell_type": "markdown",
   "metadata": {},
   "source": [
    "- Same Numeric values keys  "
   ]
  },
  {
   "cell_type": "code",
   "execution_count": 52,
   "metadata": {},
   "outputs": [
    {
     "name": "stdout",
     "output_type": "stream",
     "text": [
      "{10: 'Really Testing'}\n"
     ]
    }
   ],
   "source": [
    "d = dict()\n",
    "\n",
    "# lets populate the dictionary\n",
    "\n",
    "d[10]= \"really testing\"\n",
    "d[10.0] = \"Really Testing\"\n",
    "\n",
    "print(d)"
   ]
  },
  {
   "cell_type": "markdown",
   "metadata": {},
   "source": [
    "> **NOTE**: Dictionaries are implemented with a hash table and hash of 10.0 and 10 are same, thus  10.0 and 10 keys of dict are same and only one key/value pair is shown for them. Please check the url for details.   \n",
    "> - https://stackoverflow.com/questions/32209155/why-can-a-floating-point-dictionary-key-overwrite-an-integer-key-with-the-same-v/32211042#32211042"
   ]
  },
  {
   "cell_type": "code",
   "execution_count": 54,
   "metadata": {},
   "outputs": [
    {
     "name": "stdout",
     "output_type": "stream",
     "text": [
      "True\n",
      "10 10\n",
      "True\n"
     ]
    }
   ],
   "source": [
    "print(hash(10.0) == hash(10))\n",
    "print(hash(10.0), hash(10))\n",
    "print(10.0 == 10)"
   ]
  },
  {
   "cell_type": "code",
   "execution_count": 55,
   "metadata": {},
   "outputs": [
    {
     "name": "stdout",
     "output_type": "stream",
     "text": [
      "{10.0: 'Ja, Ich bin eine Mann'}\n"
     ]
    }
   ],
   "source": [
    "d = dict()\n",
    "\n",
    "# lets populate the dictionary\n",
    "\n",
    "d[10.0]= \"really testing\"\n",
    "d[10] = \"Ja, Ich bin eine Mann\"\n",
    "\n",
    "print(d)"
   ]
  }
 ],
 "metadata": {
  "kernelspec": {
   "display_name": "Python 3",
   "language": "python",
   "name": "python3"
  },
  "language_info": {
   "codemirror_mode": {
    "name": "ipython",
    "version": 3
   },
   "file_extension": ".py",
   "mimetype": "text/x-python",
   "name": "python",
   "nbconvert_exporter": "python",
   "pygments_lexer": "ipython3",
   "version": "3.8.2"
  }
 },
 "nbformat": 4,
 "nbformat_minor": 2
}
