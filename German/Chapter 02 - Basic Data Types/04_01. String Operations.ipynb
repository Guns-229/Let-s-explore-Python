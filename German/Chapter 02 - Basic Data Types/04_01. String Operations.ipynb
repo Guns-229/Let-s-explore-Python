{
 "cells": [
  {
   "cell_type": "markdown",
   "metadata": {},
   "source": [
    "### String Operations"
   ]
  },
  {
   "cell_type": "markdown",
   "metadata": {},
   "source": [
    "String data type provide multiple `methods`/`functions` for performing various operations. "
   ]
  },
  {
   "cell_type": "markdown",
   "metadata": {},
   "source": [
    "Lets find, all the string attributes using `dir` function."
   ]
  },
  {
   "cell_type": "code",
   "execution_count": 1,
   "metadata": {
    "scrolled": true
   },
   "outputs": [
    {
     "name": "stdout",
     "output_type": "stream",
     "text": [
      "['__add__', '__class__', '__contains__', '__delattr__', '__dir__', '__doc__', '__eq__', '__format__', '__ge__', '__getattribute__', '__getitem__', '__getnewargs__', '__gt__', '__hash__', '__init__', '__init_subclass__', '__iter__', '__le__', '__len__', '__lt__', '__mod__', '__mul__', '__ne__', '__new__', '__reduce__', '__reduce_ex__', '__repr__', '__rmod__', '__rmul__', '__setattr__', '__sizeof__', '__str__', '__subclasshook__', 'capitalize', 'casefold', 'center', 'count', 'encode', 'endswith', 'expandtabs', 'find', 'format', 'format_map', 'index', 'isalnum', 'isalpha', 'isascii', 'isdecimal', 'isdigit', 'isidentifier', 'islower', 'isnumeric', 'isprintable', 'isspace', 'istitle', 'isupper', 'join', 'ljust', 'lower', 'lstrip', 'maketrans', 'partition', 'replace', 'rfind', 'rindex', 'rjust', 'rpartition', 'rsplit', 'rstrip', 'split', 'splitlines', 'startswith', 'strip', 'swapcase', 'title', 'translate', 'upper', 'zfill']\n"
     ]
    }
   ],
   "source": [
    "print(dir(\"India\"))"
   ]
  },
  {
   "cell_type": "markdown",
   "metadata": {},
   "source": [
    "Since it provide so many attributes, we are only going to cover few of the important ones in this section"
   ]
  },
  {
   "cell_type": "markdown",
   "metadata": {},
   "source": [
    "#### Creation / Assignation"
   ]
  },
  {
   "cell_type": "markdown",
   "metadata": {},
   "source": [
    "We can create new string using assignation operator."
   ]
  },
  {
   "cell_type": "code",
   "execution_count": 1,
   "metadata": {},
   "outputs": [
    {
     "name": "stdout",
     "output_type": "stream",
     "text": [
      "Camel 4369547952\n"
     ]
    }
   ],
   "source": [
    "name = 'Camel'\n",
    "print(name, id(name))"
   ]
  },
  {
   "cell_type": "code",
   "execution_count": 2,
   "metadata": {},
   "outputs": [
    {
     "name": "stdout",
     "output_type": "stream",
     "text": [
      "Roshan\tMusheer 4343415664\n"
     ]
    }
   ],
   "source": [
    "name = \"Roshan\\tMusheer\"\n",
    "print(name, id(name))"
   ]
  },
  {
   "cell_type": "markdown",
   "metadata": {},
   "source": [
    "In the above example, we have created two new strings with data `Camel` and `Roshan\\tMusheer`. "
   ]
  },
  {
   "cell_type": "markdown",
   "metadata": {},
   "source": [
    "#### Single / Double quote in Double / Single  quote string"
   ]
  },
  {
   "cell_type": "markdown",
   "metadata": {},
   "source": [
    "We might have a situation, were we need to have single quote or double quote character with-in the string. The easiest way to achieve it by using escape character `\\`."
   ]
  },
  {
   "cell_type": "code",
   "execution_count": 5,
   "metadata": {},
   "outputs": [
    {
     "name": "stdout",
     "output_type": "stream",
     "text": [
      "Roshan\tMusheer's car\n"
     ]
    }
   ],
   "source": [
    "a = 'Roshan\\tMusheer\\'s car'\n",
    "print(a)"
   ]
  },
  {
   "cell_type": "code",
   "execution_count": 7,
   "metadata": {},
   "outputs": [
    {
     "name": "stdout",
     "output_type": "stream",
     "text": [
      "Roshan\tMusheer: \"One of the best Manager\"\n"
     ]
    }
   ],
   "source": [
    "a = \"Roshan\\tMusheer: \\\"One of the best Manager\\\"\"\n",
    "print(a)"
   ]
  },
  {
   "cell_type": "code",
   "execution_count": 9,
   "metadata": {},
   "outputs": [
    {
     "name": "stdout",
     "output_type": "stream",
     "text": [
      "Roshan Musheer said: \"Good Work\"\n"
     ]
    }
   ],
   "source": [
    "# overkill, but no harm\n",
    "a = 'Roshan Musheer said: \"Good Work\\\"'\n",
    "print(a)"
   ]
  },
  {
   "cell_type": "code",
   "execution_count": 10,
   "metadata": {},
   "outputs": [],
   "source": [
    "animal = \"Camel 'Are good in deserts.'\""
   ]
  },
  {
   "cell_type": "markdown",
   "metadata": {},
   "source": [
    "We can also use something like following, were we have used different quote to denote the string."
   ]
  },
  {
   "cell_type": "code",
   "execution_count": 7,
   "metadata": {},
   "outputs": [
    {
     "name": "stdout",
     "output_type": "stream",
     "text": [
      "Camel \"Are good in deserts.\" 4466600736\n",
      "Roshan\tMusheer's car is always too small for him. ;)\n"
     ]
    }
   ],
   "source": [
    "animal = 'Camel \"Are good in deserts.\"'\n",
    "print(animal, id(animal))\n",
    "a = \"Roshan\\tMusheer's car is always too small for him. ;)\"\n",
    "print(a)"
   ]
  },
  {
   "cell_type": "markdown",
   "metadata": {},
   "source": [
    "#### Concatenation"
   ]
  },
  {
   "cell_type": "markdown",
   "metadata": {},
   "source": [
    "String concatenation is a process of joining two or more strings into a **new single string**. As we have already discussed that string is an immutable datatype thus we have to create a new string for concatenation, what that means is the original strings will still remain the same and new one will be created using the texts from the originals. "
   ]
  },
  {
   "cell_type": "markdown",
   "metadata": {},
   "source": [
    "There are multiple ways in which we can achive the concatenation. The most common method of achiving the concatenation, is to use `+` operator. \n",
    "\n",
    "Lets take an example, where we have three string's and lets try to concatenate them using it."
   ]
  },
  {
   "cell_type": "code",
   "execution_count": 3,
   "metadata": {},
   "outputs": [
    {
     "name": "stdout",
     "output_type": "stream",
     "text": [
      "lion 4356639664\n",
      "The 4356639408\n",
      "ran away !!! 4356639280\n"
     ]
    }
   ],
   "source": [
    "animal = \"lion\"\n",
    "space = \" \"\n",
    "st_the = \"The\"\n",
    "st_action = \"ran away !!!\"\n",
    "\n",
    "print(animal, id(animal))\n",
    "print(st_the, id(st_the))\n",
    "print(st_action, id(st_action))"
   ]
  },
  {
   "cell_type": "code",
   "execution_count": 4,
   "metadata": {},
   "outputs": [
    {
     "name": "stdout",
     "output_type": "stream",
     "text": [
      "The lion ran away !!! 4356472624\n"
     ]
    }
   ],
   "source": [
    "statement = st_the + space + animal + space + st_action \n",
    "print(statement, id(statement))"
   ]
  },
  {
   "cell_type": "code",
   "execution_count": 5,
   "metadata": {},
   "outputs": [
    {
     "name": "stdout",
     "output_type": "stream",
     "text": [
      "lion 4356639664\n",
      "The 4356639408\n",
      "ran away !!! 4356639280\n"
     ]
    }
   ],
   "source": [
    "print(animal, id(animal))\n",
    "print(st_the, id(st_the))\n",
    "print(st_action, id(st_action))"
   ]
  },
  {
   "cell_type": "code",
   "execution_count": 6,
   "metadata": {},
   "outputs": [
    {
     "name": "stdout",
     "output_type": "stream",
     "text": [
      "The lion ran away !!! 4356031632\n"
     ]
    }
   ],
   "source": [
    "st = st_the + space + animal + space + st_action\n",
    "\n",
    "print(st, id(st))"
   ]
  },
  {
   "cell_type": "code",
   "execution_count": 9,
   "metadata": {},
   "outputs": [
    {
     "name": "stdout",
     "output_type": "stream",
     "text": [
      "lion 4356639664\n",
      "The 4356639408\n",
      "ran away !!! 4356639280\n"
     ]
    }
   ],
   "source": [
    "# The original string still remain intact\n",
    "print(animal, id(animal))\n",
    "print(st_the, id(st_the))\n",
    "print(st_action, id(st_action))"
   ]
  },
  {
   "cell_type": "code",
   "execution_count": 10,
   "metadata": {},
   "outputs": [
    {
     "name": "stdout",
     "output_type": "stream",
     "text": [
      "mon, tues, wed\n"
     ]
    }
   ],
   "source": [
    "partial_week = \"mon, \" + \"tues, \" + \"wed\"\n",
    "print(partial_week)"
   ]
  },
  {
   "cell_type": "markdown",
   "metadata": {},
   "source": [
    "### Interpolation"
   ]
  },
  {
   "cell_type": "markdown",
   "metadata": {},
   "source": [
    "string interpolation (or variable interpolation, variable substitution, or variable expansion) is the process of evaluating a string literal containing one or more placeholders, yielding a result in which the placeholders are replaced with their corresponding values."
   ]
  },
  {
   "cell_type": "code",
   "execution_count": 38,
   "metadata": {},
   "outputs": [
    {
     "name": "stdout",
     "output_type": "stream",
     "text": [
      "Size of `Ja, Ich bin ein Kind` => 20\n",
      "Size of `Ja, Ich bin ein Kind` => 20\n"
     ]
    }
   ],
   "source": [
    "statement = \"Ja, Ich bin ein Kind\"\n",
    "\n",
    "te = 'Size of `%s` => %d'\n",
    "\n",
    "print(te % (statement, len(statement)))\n",
    "td = te % (statement, statement.__len__())\n",
    "print(td)"
   ]
  },
  {
   "cell_type": "code",
   "execution_count": 11,
   "metadata": {},
   "outputs": [
    {
     "name": "stdout",
     "output_type": "stream",
     "text": [
      "Size of `Ja, Ich bin ein Mann` => 20\n",
      "Size of `Ja, Ich bin ein Mann` => 20.000000\n",
      "Size of `Ja, Ich bin ein Mann` => 20.000000 10.2\n",
      "must be real number, not str\n"
     ]
    }
   ],
   "source": [
    "s = \"Ja, Ich bin ein Mann\"\n",
    "\n",
    "print('Size of `%s` => %s' % (s, len(s)))\n",
    "print('Size of `%s` => %f' % (s, s.__len__()))\n",
    "try:\n",
    "    print('Size of `%s` => %f %s' % (s, s.__len__(), 10.2))\n",
    "    print('Size of `%f` => %f' % (s, s.__len__()))\n",
    "except Exception as e:\n",
    "    print(e)"
   ]
  },
  {
   "cell_type": "code",
   "execution_count": 30,
   "metadata": {},
   "outputs": [
    {
     "name": "stdout",
     "output_type": "stream",
     "text": [
      "Size of `Ja, Ich bin ein Mann` => 20\n"
     ]
    }
   ],
   "source": [
    "# we can even store the results in a variable\n",
    "result = 'Size of `%s` => %d' % (s, s.__len__())\n",
    "print(result)"
   ]
  },
  {
   "cell_type": "markdown",
   "metadata": {},
   "source": [
    "**Issue 1:**\n",
    "    - We need to know the data in advance else we might have error as show above."
   ]
  },
  {
   "cell_type": "markdown",
   "metadata": {},
   "source": [
    "- Might Get error as shown below"
   ]
  },
  {
   "cell_type": "code",
   "execution_count": 19,
   "metadata": {},
   "outputs": [
    {
     "name": "stdout",
     "output_type": "stream",
     "text": [
      "Size of `Ja, Ich bin eine Frau` => 21.000000 10.2\n",
      "must be real number, not str\n"
     ]
    }
   ],
   "source": [
    "statement = \"Ja, Ich bin eine Frau\"\n",
    "try:\n",
    "    print('Size of `%s` => %f %s' % (statement, statement.__len__(), 10.2))\n",
    "    print('Size of `%f` => %f' % (statement, statement.__len__()))\n",
    "except Exception as e:\n",
    "    print(e)"
   ]
  },
  {
   "cell_type": "markdown",
   "metadata": {},
   "source": [
    "- Or might not get an error as shown below,"
   ]
  },
  {
   "cell_type": "code",
   "execution_count": 22,
   "metadata": {},
   "outputs": [
    {
     "name": "stdout",
     "output_type": "stream",
     "text": [
      "Size of `203` => 3.000000 10.2\n",
      "Size of `203` => 3.000000\n"
     ]
    }
   ],
   "source": [
    "statement = \"203\"\n",
    "try:\n",
    "    print('Size of `%s` => %f %s' % (statement, statement.__len__(), 10.2))\n",
    "    print('Size of `%s` => %f' % (statement, statement.__len__()))\n",
    "except Exception as e:\n",
    "    print(e)"
   ]
  },
  {
   "cell_type": "markdown",
   "metadata": {},
   "source": [
    "In the second case, although the statement was a string, but the data it hold was a int, so auto conversion was sucessful"
   ]
  },
  {
   "cell_type": "code",
   "execution_count": 34,
   "metadata": {
    "scrolled": true
   },
   "outputs": [
    {
     "name": "stdout",
     "output_type": "stream",
     "text": [
      "Days in years are  356, dummy value 007.\n",
      "Percent: 5.3%, Exponencial:3.1403e-07\n",
      "Decimal: 10, Octal: 12, Hexadecimal: a\n"
     ]
    }
   ],
   "source": [
    "# Zeros left\n",
    "print ('Days in years are %4d, dummy value %03d.' % (356, 7))\n",
    "\n",
    "# Real (The number after the decimal point specifies how many decimal digits )\n",
    "print ('Percent: %.1f%%, Exponencial:%.4e' % (5.333, 0.00000031403030))\n",
    "\n",
    "# Octal and hexadecimal\n",
    "print ('Decimal: %d, Octal: %o, Hexadecimal: %x' % (10, 10, 10))"
   ]
  },
  {
   "cell_type": "code",
   "execution_count": 35,
   "metadata": {},
   "outputs": [
    {
     "name": "stdout",
     "output_type": "stream",
     "text": [
      "Error: must be real number, not str\n"
     ]
    }
   ],
   "source": [
    "# We need to know the data type before hand otherwise we might get errors \n",
    "# while processing the string\n",
    "try:\n",
    "    print ('Percent: %.1f%%, Exponencial:%.2e' % (\"5.333\", 0.00000031403030))\n",
    "except Exception as e:\n",
    "    print(\"Error:\", e)"
   ]
  },
  {
   "cell_type": "markdown",
   "metadata": {},
   "source": [
    "### `format`"
   ]
  },
  {
   "cell_type": "markdown",
   "metadata": {},
   "source": [
    "In addition to interpolation operator `%`, the string method and function `format()` is available.\n",
    "\n",
    "> The function `format()` can be used only to format one piece of data each time.\n",
    "\n",
    "*Examples*:"
   ]
  },
  {
   "cell_type": "code",
   "execution_count": 23,
   "metadata": {},
   "outputs": [
    {
     "name": "stdout",
     "output_type": "stream",
     "text": [
      "Mayank was reportee of Roshan Musheer\n"
     ]
    }
   ],
   "source": [
    "# Parameters are identified by order\n",
    "msg = '{} was {} of {}'\n",
    "\n",
    "print(msg.format('Mayank', 'reportee', 'Roshan Musheer'))"
   ]
  },
  {
   "cell_type": "markdown",
   "metadata": {},
   "source": [
    "**Note:**\n",
    "    -  If you have more numbers of \"{}\" (placeholders) than the number of variables/data then following error will be observed."
   ]
  },
  {
   "cell_type": "code",
   "execution_count": 40,
   "metadata": {
    "scrolled": true
   },
   "outputs": [
    {
     "name": "stdout",
     "output_type": "stream",
     "text": [
      "Replacement index 3 out of range for positional args tuple\n"
     ]
    }
   ],
   "source": [
    "# !!! Gotcha !!!\n",
    "try:\n",
    "    msg = '{} was {} of {}. Testing {}'\n",
    "    print(msg.format('Mayank', 'reportee', 'Roshan Musheer'))\n",
    "except Exception as e:\n",
    "    print(e)"
   ]
  },
  {
   "cell_type": "code",
   "execution_count": 24,
   "metadata": {},
   "outputs": [
    {
     "name": "stdout",
     "output_type": "stream",
     "text": [
      "Mayank was reportee of Roshan Musheer. Testing {is good}\n"
     ]
    }
   ],
   "source": [
    "# using extra `{}` as escape characters \n",
    "try:\n",
    "    msg = '{} was {} of {}. Testing {{is good}}'\n",
    "    print(msg.format('Mayank', 'reportee', 'Roshan Musheer'))\n",
    "except Exception as e:\n",
    "    print(e)"
   ]
  },
  {
   "cell_type": "markdown",
   "metadata": {},
   "source": [
    "but opposite is not true"
   ]
  },
  {
   "cell_type": "code",
   "execution_count": 25,
   "metadata": {},
   "outputs": [
    {
     "name": "stdout",
     "output_type": "stream",
     "text": [
      "Mayank was reportee\n"
     ]
    }
   ],
   "source": [
    "try:\n",
    "    msg = '{} was {}'\n",
    "    print(msg.format('Mayank', 'reportee', 'Roshan Musheer'))\n",
    "except Exception as e:\n",
    "    print(e)"
   ]
  },
  {
   "cell_type": "markdown",
   "metadata": {},
   "source": [
    "> **NOTE**\n",
    "> <hr>\n",
    "> Number of `{}` in string should be less than or equal to the number of data we are providing as parameter to `format` attribute. "
   ]
  },
  {
   "cell_type": "code",
   "execution_count": 26,
   "metadata": {},
   "outputs": [
    {
     "name": "stdout",
     "output_type": "stream",
     "text": [
      "Welcome to Pune. Pune is a good Place\n"
     ]
    }
   ],
   "source": [
    "# Pune is to be used twice, so we have to place \n",
    "# twice in format section. \n",
    "st = \"Welcome to {}. {} is a good Place\"\n",
    "\n",
    "print(st.format(\"Pune\", \"Pune\"))"
   ]
  },
  {
   "cell_type": "markdown",
   "metadata": {},
   "source": [
    "#### Issues with `{}`"
   ]
  },
  {
   "cell_type": "markdown",
   "metadata": {},
   "source": [
    "- Order needs to be maintained\n",
    "- Not very intutive or friendly. \n",
    "- If a value is to be reprinted, it needs to be duplicated."
   ]
  },
  {
   "cell_type": "code",
   "execution_count": 27,
   "metadata": {
    "scrolled": true
   },
   "outputs": [
    {
     "name": "stdout",
     "output_type": "stream",
     "text": [
      "Mayank was reportee of Shri. K.V. Pauly\n"
     ]
    }
   ],
   "source": [
    "# Parameters are identified by order\n",
    "\n",
    "msg = '{1} was {2} of {0}'\n",
    "\n",
    "print(msg.format('Shri. K.V. Pauly', 'Mayank', 'reportee'))"
   ]
  },
  {
   "cell_type": "code",
   "execution_count": 28,
   "metadata": {},
   "outputs": [
    {
     "name": "stdout",
     "output_type": "stream",
     "text": [
      "Replacement index 3 out of range for positional args tuple\n"
     ]
    }
   ],
   "source": [
    "# Gotcha, Index starts from `0` and not from `1`\n",
    "\n",
    "try:\n",
    "    msg = '{1} was {3} of {2}'\n",
    "    print(msg.format('Mr. K.V. Pauly', 'Mayank', \"Manager\"))\n",
    "except Exception as e:\n",
    "    print(e)"
   ]
  },
  {
   "cell_type": "code",
   "execution_count": 30,
   "metadata": {
    "scrolled": true
   },
   "outputs": [
    {
     "name": "stdout",
     "output_type": "stream",
     "text": [
      "Indiana is not in India.\n"
     ]
    }
   ],
   "source": [
    "# We can have same value being used multiple times. \n",
    "\n",
    "msg = \"{0}na is not in {0}.\"\n",
    "\n",
    "print(msg.format(\"India\"))"
   ]
  },
  {
   "cell_type": "code",
   "execution_count": 33,
   "metadata": {},
   "outputs": [
    {
     "name": "stdout",
     "output_type": "stream",
     "text": [
      "Welcome to Pune. Pune is a Great City...\n"
     ]
    }
   ],
   "source": [
    "st = \"Welcome to {0}. {0} is a Great City...\"\n",
    "\n",
    "print(st.format(\"Pune\"))"
   ]
  },
  {
   "cell_type": "markdown",
   "metadata": {},
   "source": [
    "#### Issues with `{<index>}`"
   ]
  },
  {
   "cell_type": "markdown",
   "metadata": {},
   "source": [
    "- Not very intutive or friendly. "
   ]
  },
  {
   "cell_type": "code",
   "execution_count": 35,
   "metadata": {},
   "outputs": [
    {
     "name": "stdout",
     "output_type": "stream",
     "text": [
      "Good Morning, Welcome to Chennai\n"
     ]
    }
   ],
   "source": [
    "# Parameters are identified by name\n",
    "\n",
    "msg = '{greeting}, Welcome to {town}'\n",
    "\n",
    "print(msg.format(greeting='Good Morning', town='Chennai'))"
   ]
  },
  {
   "cell_type": "code",
   "execution_count": 39,
   "metadata": {},
   "outputs": [
    {
     "name": "stdout",
     "output_type": "stream",
     "text": [
      "Good Morning, it is 10:02 AM.\n"
     ]
    }
   ],
   "source": [
    "msg = '{greeting}, it is {hour:02d}:{minute:02d} AM.'\n",
    "\n",
    "try:\n",
    "    print(msg.format(greeting='Good Morning', minute=2, hour=10))\n",
    "except Exception as e:\n",
    "    print(e)"
   ]
  },
  {
   "cell_type": "code",
   "execution_count": 65,
   "metadata": {},
   "outputs": [
    {
     "name": "stdout",
     "output_type": "stream",
     "text": [
      "Error: 'hour'\n"
     ]
    }
   ],
   "source": [
    "# Python is not forgiving type ;). \n",
    "\n",
    "msg = '{greeting}, it is {hour:02d}:{minute:02d} AM.'\n",
    "\n",
    "try:\n",
    "    print(msg.format(greeting='Good Morning', minute=2))\n",
    "except Exception as e:\n",
    "    print(\"Error:\", e)"
   ]
  },
  {
   "cell_type": "code",
   "execution_count": 66,
   "metadata": {},
   "outputs": [
    {
     "name": "stdout",
     "output_type": "stream",
     "text": [
      "Unknown format code 'd' for object of type 'str'\n"
     ]
    }
   ],
   "source": [
    "# Parameters are identified by name\n",
    "# But know your Data\n",
    "\n",
    "msg = '{greeting}, it is {hour:02d}:{minute:02d} AM.'\n",
    "try:\n",
    "    print(msg.format(greeting='Good Morning', \n",
    "                     minute=\"Two\", \n",
    "                     hour=10))\n",
    "except Exception as e:\n",
    "    print(e)"
   ]
  },
  {
   "cell_type": "code",
   "execution_count": 69,
   "metadata": {},
   "outputs": [
    {
     "name": "stdout",
     "output_type": "stream",
     "text": [
      "Good Morning, it is 09:Two AM.\n"
     ]
    }
   ],
   "source": [
    "# Parameters are identified by name\n",
    "# But know your Data\n",
    "\n",
    "msg = '{greeting}, it is {hour:02}:{minute} AM.'\n",
    "try:\n",
    "    print(msg.format(greeting='Good Morning', \n",
    "                     minute=\"Two\", \n",
    "                     hour=9))\n",
    "except Exception as e:\n",
    "    print(e)"
   ]
  },
  {
   "cell_type": "markdown",
   "metadata": {},
   "source": [
    "it treats `msg` string as a template and generates a new string everytime we use `format` function."
   ]
  },
  {
   "cell_type": "code",
   "execution_count": 46,
   "metadata": {},
   "outputs": [
    {
     "name": "stdout",
     "output_type": "stream",
     "text": [
      "Pi = 3.142e+00\n",
      "Pi = 1.1e+04\n"
     ]
    }
   ],
   "source": [
    "# Builtin function format()\n",
    "print ('Pi =', format(3.14159, '.3e'))\n",
    "print ('Pi =', format(11111.14159, '.1e'))"
   ]
  },
  {
   "cell_type": "markdown",
   "metadata": {},
   "source": [
    "#### Formatting in details"
   ]
  },
  {
   "cell_type": "markdown",
   "metadata": {},
   "source": [
    "`format` provides many options which can be used to process the data interpolation "
   ]
  },
  {
   "cell_type": "markdown",
   "metadata": {},
   "source": [
    "##### Basic formatting "
   ]
  },
  {
   "cell_type": "code",
   "execution_count": 72,
   "metadata": {},
   "outputs": [
    {
     "data": {
      "text/plain": [
       "'सूर्य नमस्कार'"
      ]
     },
     "execution_count": 72,
     "metadata": {},
     "output_type": "execute_result"
    }
   ],
   "source": [
    "'{} {}'.format('सूर्य', 'नमस्कार')"
   ]
  },
  {
   "cell_type": "code",
   "execution_count": 71,
   "metadata": {},
   "outputs": [
    {
     "data": {
      "text/plain": [
       "'नमस्कार सूर्य'"
      ]
     },
     "execution_count": 71,
     "metadata": {},
     "output_type": "execute_result"
    }
   ],
   "source": [
    "'{1} {0}'.format('सूर्य', 'नमस्कार')"
   ]
  },
  {
   "cell_type": "code",
   "execution_count": 70,
   "metadata": {},
   "outputs": [
    {
     "data": {
      "text/plain": [
       "'सूर्य नमस्कार'"
      ]
     },
     "execution_count": 70,
     "metadata": {},
     "output_type": "execute_result"
    }
   ],
   "source": [
    "'{sun} {hello}'.format(sun='सूर्य', hello='नमस्कार')"
   ]
  },
  {
   "cell_type": "markdown",
   "metadata": {},
   "source": [
    "##### Padding"
   ]
  },
  {
   "cell_type": "markdown",
   "metadata": {},
   "source": [
    "We can add padding or align the text using it. We can define minimum numbers of characters in the string using padding as shown below. "
   ]
  },
  {
   "cell_type": "code",
   "execution_count": 41,
   "metadata": {},
   "outputs": [
    {
     "name": "stdout",
     "output_type": "stream",
     "text": [
      "सूर्य नमस्कार        is good for health\n"
     ]
    }
   ],
   "source": [
    "print('{hello_sun:20} is good for health'.format(hello_sun='सूर्य नमस्कार'))"
   ]
  },
  {
   "cell_type": "code",
   "execution_count": 42,
   "metadata": {
    "scrolled": true
   },
   "outputs": [
    {
     "data": {
      "text/plain": [
       "'.Bonjour.'"
      ]
     },
     "execution_count": 42,
     "metadata": {},
     "output_type": "execute_result"
    }
   ],
   "source": [
    "'.{:4}.'.format('Bonjour')"
   ]
  },
  {
   "cell_type": "code",
   "execution_count": 43,
   "metadata": {},
   "outputs": [
    {
     "data": {
      "text/plain": [
       "'.Bonjour       .'"
      ]
     },
     "execution_count": 43,
     "metadata": {},
     "output_type": "execute_result"
    }
   ],
   "source": [
    "'.{:14}.'.format('Bonjour')"
   ]
  },
  {
   "cell_type": "code",
   "execution_count": 45,
   "metadata": {},
   "outputs": [
    {
     "name": "stdout",
     "output_type": "stream",
     "text": [
      "jBo        <\n",
      "10\n"
     ]
    }
   ],
   "source": [
    "# mix and match example\n",
    "\n",
    "hello = '{:10.3}'.format('jBonour')\n",
    "print(hello, \"<\")\n",
    "print(len(hello))"
   ]
  },
  {
   "cell_type": "markdown",
   "metadata": {},
   "source": [
    "##### Right Align"
   ]
  },
  {
   "cell_type": "code",
   "execution_count": 46,
   "metadata": {},
   "outputs": [
    {
     "name": "stdout",
     "output_type": "stream",
     "text": [
      ">                  सूर्य नमस्कार < end\n",
      "30\n"
     ]
    }
   ],
   "source": [
    "s = '{good_morning:>30}'.format(good_morning='सूर्य नमस्कार')\n",
    "print(\">\", s, \"< end\")\n",
    "print(len(s))"
   ]
  },
  {
   "cell_type": "code",
   "execution_count": 48,
   "metadata": {},
   "outputs": [
    {
     "name": "stdout",
     "output_type": "stream",
     "text": [
      "                            10\n",
      "                            20\n",
      "                           -30\n",
      "******************************\n",
      "Total                        0\n"
     ]
    }
   ],
   "source": [
    "s = '{:>30}'.format(10)\n",
    "print(s)\n",
    "s = '{:>30}'.format(20)\n",
    "print(s)\n",
    "s = '{:>30}'.format(-30)\n",
    "print(s)\n",
    "print(\"*\"*30)\n",
    "print('Total{:>25}'.format(0))"
   ]
  },
  {
   "cell_type": "markdown",
   "metadata": {},
   "source": [
    "If the length of string is more than specified length than it print entire string"
   ]
  },
  {
   "cell_type": "code",
   "execution_count": 49,
   "metadata": {},
   "outputs": [
    {
     "name": "stdout",
     "output_type": "stream",
     "text": [
      "सूर्य नमस्कार < end\n",
      "13\n"
     ]
    }
   ],
   "source": [
    "s = '{:>2}'.format('सूर्य नमस्कार')\n",
    "print(s, \"< end\")\n",
    "print(len(s))"
   ]
  },
  {
   "cell_type": "code",
   "execution_count": 50,
   "metadata": {},
   "outputs": [
    {
     "name": "stdout",
     "output_type": "stream",
     "text": [
      "Pay Rs:***************************100/-\n"
     ]
    }
   ],
   "source": [
    "# custom buffer text\n",
    "s = 'Pay Rs:{:*>30}/-'.format('100')\n",
    "print(s)"
   ]
  },
  {
   "cell_type": "markdown",
   "metadata": {},
   "source": [
    "##### Left Align"
   ]
  },
  {
   "cell_type": "code",
   "execution_count": 51,
   "metadata": {},
   "outputs": [
    {
     "name": "stdout",
     "output_type": "stream",
     "text": [
      "सूर्य नमस्कार                  < end\n",
      "30\n"
     ]
    }
   ],
   "source": [
    "s = '{:<30}'.format('सूर्य नमस्कार')\n",
    "print(s, \"< end\")\n",
    "print(len(s))"
   ]
  },
  {
   "cell_type": "markdown",
   "metadata": {},
   "source": [
    "If the length of string is more than specified length than it print entire string"
   ]
  },
  {
   "cell_type": "code",
   "execution_count": 42,
   "metadata": {},
   "outputs": [
    {
     "name": "stdout",
     "output_type": "stream",
     "text": [
      "सूर्य नमस्कार\n",
      "13\n"
     ]
    }
   ],
   "source": [
    "s = '{:<2}'.format('सूर्य नमस्कार')\n",
    "print(s)\n",
    "print(len(s))"
   ]
  },
  {
   "cell_type": "markdown",
   "metadata": {},
   "source": [
    "If you wish to add padding with custom character then it can be done using the following method"
   ]
  },
  {
   "cell_type": "code",
   "execution_count": 43,
   "metadata": {
    "scrolled": true
   },
   "outputs": [
    {
     "name": "stdout",
     "output_type": "stream",
     "text": [
      "सूर्य नमस्कार_________________\n"
     ]
    }
   ],
   "source": [
    "s = '{:_<30}'.format('सूर्य नमस्कार')\n",
    "print(s)"
   ]
  },
  {
   "cell_type": "code",
   "execution_count": 44,
   "metadata": {},
   "outputs": [
    {
     "name": "stdout",
     "output_type": "stream",
     "text": [
      "Pay Rs:100/-*************************\n"
     ]
    }
   ],
   "source": [
    "s = 'Pay Rs:{:*<30}'.format('100/-')\n",
    "print(s)"
   ]
  },
  {
   "cell_type": "code",
   "execution_count": 48,
   "metadata": {},
   "outputs": [
    {
     "name": "stdout",
     "output_type": "stream",
     "text": [
      "Error Invalid format specifier\n"
     ]
    }
   ],
   "source": [
    "# Padding character should be only one character, else \n",
    "# error is raied as shown below.\n",
    "\n",
    "try: \n",
    "    s = '{:*~<30}'.format('Pay Rs100')\n",
    "    print(s)\n",
    "except Exception as e:\n",
    "    print(\"Error\", e)"
   ]
  },
  {
   "cell_type": "markdown",
   "metadata": {},
   "source": [
    "##### Center Align"
   ]
  },
  {
   "cell_type": "code",
   "execution_count": 52,
   "metadata": {
    "scrolled": true
   },
   "outputs": [
    {
     "data": {
      "text/plain": [
       "'      Bonjour       , Mr. K.V.Pauly'"
      ]
     },
     "execution_count": 52,
     "metadata": {},
     "output_type": "execute_result"
    }
   ],
   "source": [
    "'{:^20}, Mr. K.V.Pauly'.format('Bonjour')"
   ]
  },
  {
   "cell_type": "code",
   "execution_count": 53,
   "metadata": {
    "scrolled": true
   },
   "outputs": [
    {
     "data": {
      "text/plain": [
       "'-こんにちは-'"
      ]
     },
     "execution_count": 53,
     "metadata": {},
     "output_type": "execute_result"
    }
   ],
   "source": [
    "'{:-^7}'.format('こんにちは')"
   ]
  },
  {
   "cell_type": "markdown",
   "metadata": {},
   "source": [
    "We can have even programmatically define the alignment as shown in below example."
   ]
  },
  {
   "cell_type": "code",
   "execution_count": 54,
   "metadata": {
    "scrolled": true
   },
   "outputs": [
    {
     "name": "stdout",
     "output_type": "stream",
     "text": [
      ">Bonjour             <\n",
      ">             Bonjour<\n",
      ">      Bonjour       <\n"
     ]
    }
   ],
   "source": [
    "lst = [\"<\", \">\", \"^\"]\n",
    "\n",
    "for align in lst:\n",
    "    print('>{:{align}{width}}<'.format('Bonjour', align=align, width='20'))"
   ]
  },
  {
   "cell_type": "markdown",
   "metadata": {},
   "source": [
    "##### Truncate"
   ]
  },
  {
   "cell_type": "markdown",
   "metadata": {},
   "source": [
    "Truncate allows to trim long string to specified length, the syntax is as follows"
   ]
  },
  {
   "cell_type": "markdown",
   "metadata": {},
   "source": [
    "```python\n",
    "{<string length>.<text length>}\n",
    "```"
   ]
  },
  {
   "cell_type": "markdown",
   "metadata": {},
   "source": [
    "- String_length: It is the final string length\n",
    "- text_length: It is the length of truncated text which will be present in final string"
   ]
  },
  {
   "cell_type": "code",
   "execution_count": 55,
   "metadata": {
    "scrolled": true
   },
   "outputs": [
    {
     "name": "stdout",
     "output_type": "stream",
     "text": [
      "42\n",
      ">test                                    <\n"
     ]
    }
   ],
   "source": [
    "s = '>{:40.4}<'.format('testdd नमस्कार')\n",
    "print(len(s))\n",
    "print(s)"
   ]
  },
  {
   "cell_type": "markdown",
   "metadata": {},
   "source": [
    "In the above example, although the string size is 101 only 4 characters are present in the final string."
   ]
  },
  {
   "cell_type": "code",
   "execution_count": 57,
   "metadata": {
    "scrolled": true
   },
   "outputs": [
    {
     "data": {
      "text/plain": [
       "' Ich bin  '"
      ]
     },
     "execution_count": 57,
     "metadata": {},
     "output_type": "execute_result"
    }
   ],
   "source": [
    "'{:^10.7}'.format('Ich bin ein Mann')"
   ]
  },
  {
   "cell_type": "markdown",
   "metadata": {},
   "source": [
    "another example, with different data types"
   ]
  },
  {
   "cell_type": "code",
   "execution_count": 51,
   "metadata": {
    "scrolled": false
   },
   "outputs": [
    {
     "data": {
      "text/plain": [
       "'Ich bin, 2.2200000'"
      ]
     },
     "execution_count": 51,
     "metadata": {},
     "output_type": "execute_result"
    }
   ],
   "source": [
    "'{:.{prec}}, {:.{prec}f}'.format('Ich bin ein Mann', 2.22, prec=7)"
   ]
  },
  {
   "cell_type": "markdown",
   "metadata": {},
   "source": [
    "#### Numbers "
   ]
  },
  {
   "cell_type": "markdown",
   "metadata": {},
   "source": [
    "**Decimals**"
   ]
  },
  {
   "cell_type": "code",
   "execution_count": 52,
   "metadata": {},
   "outputs": [
    {
     "data": {
      "text/plain": [
       "'1980'"
      ]
     },
     "execution_count": 52,
     "metadata": {},
     "output_type": "execute_result"
    }
   ],
   "source": [
    "'{:d}'.format(1980)"
   ]
  },
  {
   "cell_type": "code",
   "execution_count": 53,
   "metadata": {},
   "outputs": [
    {
     "name": "stdout",
     "output_type": "stream",
     "text": [
      "Unknown format code 'd' for object of type 'float'\n"
     ]
    }
   ],
   "source": [
    "try:\n",
    "    '{:d}'.format(119.2)\n",
    "except ValueError as ve:\n",
    "    print(ve)"
   ]
  },
  {
   "cell_type": "code",
   "execution_count": 54,
   "metadata": {},
   "outputs": [
    {
     "data": {
      "text/plain": [
       "'00019'"
      ]
     },
     "execution_count": 54,
     "metadata": {},
     "output_type": "execute_result"
    }
   ],
   "source": [
    "'{:05d}'.format(19)"
   ]
  },
  {
   "cell_type": "markdown",
   "metadata": {},
   "source": [
    "**Float**"
   ]
  },
  {
   "cell_type": "code",
   "execution_count": 55,
   "metadata": {},
   "outputs": [
    {
     "data": {
      "text/plain": [
       "'3.141593'"
      ]
     },
     "execution_count": 55,
     "metadata": {},
     "output_type": "execute_result"
    }
   ],
   "source": [
    "'{:f}'.format(3.141592653589793)"
   ]
  },
  {
   "cell_type": "code",
   "execution_count": 56,
   "metadata": {},
   "outputs": [
    {
     "data": {
      "text/plain": [
       "'    3.141593'"
      ]
     },
     "execution_count": 56,
     "metadata": {},
     "output_type": "execute_result"
    }
   ],
   "source": [
    "'{:12f}'.format(3.141592653589793)"
   ]
  },
  {
   "cell_type": "code",
   "execution_count": 57,
   "metadata": {},
   "outputs": [
    {
     "data": {
      "text/plain": [
       "'       1.900'"
      ]
     },
     "execution_count": 57,
     "metadata": {},
     "output_type": "execute_result"
    }
   ],
   "source": [
    "'{:12.3f}'.format(1.9)"
   ]
  },
  {
   "cell_type": "code",
   "execution_count": 58,
   "metadata": {},
   "outputs": [
    {
     "data": {
      "text/plain": [
       "'03.10'"
      ]
     },
     "execution_count": 58,
     "metadata": {},
     "output_type": "execute_result"
    }
   ],
   "source": [
    "# both side padding in float number\n",
    "\n",
    "'{:05.2f}'.format(3.1)"
   ]
  },
  {
   "cell_type": "code",
   "execution_count": 59,
   "metadata": {},
   "outputs": [],
   "source": [
    "### Need to find for complex & boolean numbers\n",
    "## '{:+d+d}'.format(-3 + 2j)"
   ]
  },
  {
   "cell_type": "markdown",
   "metadata": {},
   "source": [
    "##### Signs on numbers"
   ]
  },
  {
   "cell_type": "markdown",
   "metadata": {},
   "source": [
    "We can add `+` and `-` signs before the numbers as shown in the examples below"
   ]
  },
  {
   "cell_type": "code",
   "execution_count": 60,
   "metadata": {},
   "outputs": [
    {
     "data": {
      "text/plain": [
       "'  +11.0'"
      ]
     },
     "execution_count": 60,
     "metadata": {},
     "output_type": "execute_result"
    }
   ],
   "source": [
    "'{:+7.1f}'.format(11)"
   ]
  },
  {
   "cell_type": "code",
   "execution_count": 61,
   "metadata": {},
   "outputs": [
    {
     "data": {
      "text/plain": [
       "'+119291'"
      ]
     },
     "execution_count": 61,
     "metadata": {},
     "output_type": "execute_result"
    }
   ],
   "source": [
    "'{:+5d}'.format(119291)"
   ]
  },
  {
   "cell_type": "code",
   "execution_count": 62,
   "metadata": {},
   "outputs": [
    {
     "data": {
      "text/plain": [
       "'   11'"
      ]
     },
     "execution_count": 62,
     "metadata": {},
     "output_type": "execute_result"
    }
   ],
   "source": [
    "'{:5d}'.format(+11)"
   ]
  },
  {
   "cell_type": "code",
   "execution_count": 63,
   "metadata": {},
   "outputs": [
    {
     "data": {
      "text/plain": [
       "'  -11'"
      ]
     },
     "execution_count": 63,
     "metadata": {},
     "output_type": "execute_result"
    }
   ],
   "source": [
    "'{:+5d}'.format(-11)"
   ]
  },
  {
   "cell_type": "code",
   "execution_count": 64,
   "metadata": {},
   "outputs": [
    {
     "data": {
      "text/plain": [
       "'   11'"
      ]
     },
     "execution_count": 64,
     "metadata": {},
     "output_type": "execute_result"
    }
   ],
   "source": [
    "'{:-5d}'.format(+11)"
   ]
  },
  {
   "cell_type": "code",
   "execution_count": 65,
   "metadata": {},
   "outputs": [
    {
     "data": {
      "text/plain": [
       "'  -11'"
      ]
     },
     "execution_count": 65,
     "metadata": {},
     "output_type": "execute_result"
    }
   ],
   "source": [
    "'{:-5d}'.format(-11)"
   ]
  },
  {
   "cell_type": "code",
   "execution_count": 66,
   "metadata": {},
   "outputs": [
    {
     "data": {
      "text/plain": [
       "'  -11'"
      ]
     },
     "execution_count": 66,
     "metadata": {},
     "output_type": "execute_result"
    }
   ],
   "source": [
    "# Hmm, adding -ve is actually useless\n",
    "'{:5d}'.format(-11)"
   ]
  },
  {
   "cell_type": "markdown",
   "metadata": {},
   "source": [
    "##### Dictionary "
   ]
  },
  {
   "cell_type": "code",
   "execution_count": 67,
   "metadata": {},
   "outputs": [
    {
     "name": "stdout",
     "output_type": "stream",
     "text": [
      "{'name': 'Mayank', 'surname': 'Johri'}\n"
     ]
    },
    {
     "data": {
      "text/plain": [
       "'Mayank Johri'"
      ]
     },
     "execution_count": 67,
     "metadata": {},
     "output_type": "execute_result"
    }
   ],
   "source": [
    "user = {'name': 'Mayank', 'surname': 'Johri'}\n",
    "print(user)\n",
    "'{u[name]} {u[surname]}'.format(u=user)"
   ]
  },
  {
   "cell_type": "markdown",
   "metadata": {},
   "source": [
    "lets try similar with a list of dictionaries"
   ]
  },
  {
   "cell_type": "code",
   "execution_count": 68,
   "metadata": {},
   "outputs": [
    {
     "name": "stdout",
     "output_type": "stream",
     "text": [
      "Mayank Johri\n",
      "Roshan Musheer\n",
      "Mohan Shah\n",
      "Sachin Shah\n",
      "Rajeev Jain\n"
     ]
    }
   ],
   "source": [
    "users = [\n",
    "    {'name': 'Mayank', 'surname': 'Johri'},\n",
    "    {'name': 'Roshan', 'surname': 'Musheer'},\n",
    "    {'name': 'Mohan', 'surname': 'Shah'},\n",
    "    {'name': 'Sachin', 'surname': 'Shah'},\n",
    "    {'name': 'Rajeev', 'surname': 'Jain'}\n",
    "]\n",
    "\n",
    "for user in users:\n",
    "    print('{u[name]} {u[surname]}'.format(u=user))"
   ]
  },
  {
   "cell_type": "markdown",
   "metadata": {},
   "source": [
    "##### List "
   ]
  },
  {
   "cell_type": "markdown",
   "metadata": {},
   "source": [
    "List items can also be selected as shown below"
   ]
  },
  {
   "cell_type": "code",
   "execution_count": 69,
   "metadata": {},
   "outputs": [
    {
     "data": {
      "text/plain": [
       "'2 7'"
      ]
     },
     "execution_count": 69,
     "metadata": {},
     "output_type": "execute_result"
    }
   ],
   "source": [
    "lst = list(range(10))\n",
    "'{l[2]} {l[7]}'.format(l=lst)"
   ]
  },
  {
   "cell_type": "markdown",
   "metadata": {},
   "source": [
    "##### Date & Time "
   ]
  },
  {
   "cell_type": "code",
   "execution_count": 70,
   "metadata": {
    "scrolled": false
   },
   "outputs": [
    {
     "data": {
      "text/plain": [
       "'2017-12-23 14:15:00'"
      ]
     },
     "execution_count": 70,
     "metadata": {},
     "output_type": "execute_result"
    }
   ],
   "source": [
    "from datetime import datetime\n",
    "'{:%Y-%m-%d %H:%M:%S}'.format(datetime(2017, 12, 23, 14, 15))"
   ]
  },
  {
   "cell_type": "markdown",
   "metadata": {},
   "source": [
    "##### Class"
   ]
  },
  {
   "cell_type": "code",
   "execution_count": 71,
   "metadata": {},
   "outputs": [
    {
     "data": {
      "text/plain": [
       "'सूर्य नमस्कार <-> \\\\u0938\\\\u0942\\\\u0930\\\\u094d\\\\u092f \\\\u0928\\\\u092e\\\\u0938\\\\u094d\\\\u0915\\\\u093e\\\\u0930'"
      ]
     },
     "execution_count": 71,
     "metadata": {},
     "output_type": "execute_result"
    }
   ],
   "source": [
    "class Yoga(object):\n",
    "\n",
    "    def __repr__(self):\n",
    "        return 'सूर्य नमस्कार'\n",
    "    \n",
    "    \n",
    "'{0!r} <-> {0!a}'.format(Yoga())"
   ]
  },
  {
   "cell_type": "markdown",
   "metadata": {},
   "source": [
    "#### Using as Templates"
   ]
  },
  {
   "cell_type": "code",
   "execution_count": 5,
   "metadata": {},
   "outputs": [
    {
     "name": "stdout",
     "output_type": "stream",
     "text": [
      "Hello Raja      ! This is Rahim\n",
      "Hello Mayank    ! This is Nim Lang\n"
     ]
    }
   ],
   "source": [
    "hw = 'Hello {name:10}! This is {program}'\n",
    "\n",
    "for name, program in [('Raja', 'Rahim'), (\"Mayank\", \"Nim Lang\")]:\n",
    "    print(hw.format(name=name, program=program))"
   ]
  },
  {
   "cell_type": "code",
   "execution_count": 6,
   "metadata": {},
   "outputs": [
    {
     "name": "stdout",
     "output_type": "stream",
     "text": [
      "Hello Mayank! This is Nim Lang\n"
     ]
    }
   ],
   "source": [
    "name = {'name': 'Mayank', \"program\": \"Nim Lang\"}\n",
    "\n",
    "msg = 'Hello {name}! This is {program}'\n",
    "print(msg.format(name=name['name'], program=name['program']))"
   ]
  },
  {
   "cell_type": "markdown",
   "metadata": {},
   "source": [
    "### `format_map`"
   ]
  },
  {
   "cell_type": "code",
   "execution_count": 9,
   "metadata": {},
   "outputs": [
    {
     "name": "stdout",
     "output_type": "stream",
     "text": [
      "Hello Mayank! This is Nim Lang\n"
     ]
    }
   ],
   "source": [
    "# for Python >= 3.2 \n",
    "# Instead of above code we can do something as shown below\n",
    "\n",
    "name = {'name': 'Mayank', \"program\": \"Nim Lang\"}\n",
    "\n",
    "msg = 'Hello {name}! This is {program}'\n",
    "print(msg.format_map(name))"
   ]
  },
  {
   "cell_type": "code",
   "execution_count": 11,
   "metadata": {},
   "outputs": [
    {
     "name": "stdout",
     "output_type": "stream",
     "text": [
      "Hello Mayank! This is Nim Lang\n"
     ]
    }
   ],
   "source": [
    "#### for Python 2\n",
    "\n",
    "name = {'name': 'Mayank', \"program\": \"Nim Lang\"}\n",
    "\n",
    "msg = 'Hello {name}! This is {program}'\n",
    "print(msg.format(**name))"
   ]
  },
  {
   "cell_type": "markdown",
   "metadata": {},
   "source": [
    "#### Literal String / Formatted string"
   ]
  },
  {
   "cell_type": "markdown",
   "metadata": {},
   "source": [
    "It is the new Interpolation method as it is implemented in `Python 3.6`. It is similar to `format` except we cannot use it as template, because values are pre-populated. "
   ]
  },
  {
   "cell_type": "code",
   "execution_count": 61,
   "metadata": {},
   "outputs": [
    {
     "name": "stdout",
     "output_type": "stream",
     "text": [
      "Hello World     ! This is Python\n",
      "4356796560\n"
     ]
    }
   ],
   "source": [
    "name = 'World'\n",
    "program = 'Python'\n",
    "\n",
    "hw = f'Hello {name:10}! This is {program}'\n",
    "\n",
    "print(hw)\n",
    "print(id(hw))"
   ]
  },
  {
   "cell_type": "code",
   "execution_count": 63,
   "metadata": {},
   "outputs": [
    {
     "name": "stdout",
     "output_type": "stream",
     "text": [
      "name 'user_name' is not defined\n",
      "Welcome\n"
     ]
    }
   ],
   "source": [
    "# As shown in this example, we cannot use it as template. \n",
    "try:\n",
    "    hw = f'Hello {user_name:10}! This is {user_program}'\n",
    "    for user_name, user_program in [('Raja', 'Rahim'), (\"Mayank\", \"NimLang\")]:\n",
    "        print(hw)\n",
    "except Exception as e:\n",
    "    print(e)\n",
    "print(\"Welcome\")"
   ]
  },
  {
   "cell_type": "code",
   "execution_count": 65,
   "metadata": {},
   "outputs": [
    {
     "name": "stdout",
     "output_type": "stream",
     "text": [
      "Hello Raja      ! This is Rahim\n",
      "Hello Mayank    ! This is NimLang\n"
     ]
    }
   ],
   "source": [
    "# we need to use the following to achieve it. \n",
    "for user_name, user_program in [('Raja', 'Rahim'), (\"Mayank\", \"NimLang\")]:\n",
    "    print(f'Hello {user_name:10}! This is {user_program}')"
   ]
  },
  {
   "cell_type": "code",
   "execution_count": 8,
   "metadata": {},
   "outputs": [
    {
     "name": "stdout",
     "output_type": "stream",
     "text": [
      "G.V.\n",
      "Hello Mayank    ! This is NimLang\n",
      "Hello G.V.! This is Packaging\n",
      "4513630048\n"
     ]
    }
   ],
   "source": [
    "# Lets update the varibles and see if it changes the literal string\n",
    "\n",
    "name = 'G.V.'\n",
    "program = 'Packaging'\n",
    "# will not update the hw string\n",
    "print(name)\n",
    "print(hw)\n",
    "# We are creating a new string literal\n",
    "hw = F'Hello {name}! This is {program}'\n",
    "print(hw)\n",
    "print(id(hw))"
   ]
  },
  {
   "cell_type": "markdown",
   "metadata": {},
   "source": [
    "So, the strng was not updated after the variables (name, program) were updated. "
   ]
  },
  {
   "cell_type": "code",
   "execution_count": 9,
   "metadata": {},
   "outputs": [
    {
     "name": "stdout",
     "output_type": "stream",
     "text": [
      "Hello G.V.! This is Packaging\n"
     ]
    }
   ],
   "source": [
    "name = 'Ravi'\n",
    "program = 'Ruby'\n",
    "hw1 = hw\n",
    "print(hw1)"
   ]
  },
  {
   "cell_type": "code",
   "execution_count": 10,
   "metadata": {},
   "outputs": [
    {
     "name": "stdout",
     "output_type": "stream",
     "text": [
      "279 ns ± 63.1 ns per loop (mean ± std. dev. of 7 runs, 1000000 loops each)\n"
     ]
    }
   ],
   "source": [
    "%%timeit\n",
    "name = 'G.V.'\n",
    "program = 'Packaging'\n",
    "\n",
    "hw = F'Hello {name}! This is {program}'"
   ]
  },
  {
   "cell_type": "code",
   "execution_count": 11,
   "metadata": {},
   "outputs": [
    {
     "name": "stdout",
     "output_type": "stream",
     "text": [
      "1.73 µs ± 210 ns per loop (mean ± std. dev. of 7 runs, 1000000 loops each)\n"
     ]
    }
   ],
   "source": [
    "%%timeit\n",
    "hw = 'Hello {name:10}! This is {program}'.format(name=name, program=program)"
   ]
  },
  {
   "cell_type": "code",
   "execution_count": 12,
   "metadata": {},
   "outputs": [
    {
     "name": "stdout",
     "output_type": "stream",
     "text": [
      "590 ns ± 111 ns per loop (mean ± std. dev. of 7 runs, 1000000 loops each)\n"
     ]
    }
   ],
   "source": [
    "%%timeit\n",
    "hw = 'Hello %s This is %s' % (name, program)"
   ]
  },
  {
   "cell_type": "markdown",
   "metadata": {},
   "source": [
    "#### `startswith` & `endswith`"
   ]
  },
  {
   "cell_type": "markdown",
   "metadata": {},
   "source": [
    "Check if the string starts / ends with the given substring."
   ]
  },
  {
   "cell_type": "code",
   "execution_count": 66,
   "metadata": {},
   "outputs": [
    {
     "name": "stdout",
     "output_type": "stream",
     "text": [
      "True\n"
     ]
    }
   ],
   "source": [
    "username = \"Murthy \"\n",
    "# Strings are objects\n",
    "print(username.startswith('Mur'))"
   ]
  },
  {
   "cell_type": "code",
   "execution_count": 68,
   "metadata": {},
   "outputs": [
    {
     "name": "stdout",
     "output_type": "stream",
     "text": [
      "False\n"
     ]
    }
   ],
   "source": [
    "# This will check if any of the keywork listed in designation is \n",
    "# present in the username. \n",
    "# What that means is you can check more than one substring in single command \n",
    "\n",
    "designation = (\"Dr.\", \"Mr.\")\n",
    "\n",
    "print(username.startswith(designation))"
   ]
  },
  {
   "cell_type": "code",
   "execution_count": 69,
   "metadata": {
    "scrolled": true
   },
   "outputs": [
    {
     "name": "stdout",
     "output_type": "stream",
     "text": [
      "True\n"
     ]
    }
   ],
   "source": [
    "username = \"Mr. K.V Pauly\"\n",
    "\n",
    "print(username.startswith(designation))"
   ]
  },
  {
   "cell_type": "code",
   "execution_count": 70,
   "metadata": {},
   "outputs": [
    {
     "name": "stdout",
     "output_type": "stream",
     "text": [
      "True\n"
     ]
    }
   ],
   "source": [
    "# This will check if any of the keywork listed in designation is \n",
    "# present in the username. \n",
    "# What that means is you can check more than one substring in single command \n",
    "\n",
    "designation = (\"Dr.\", \"Mr.\")\n",
    "\n",
    "print(username.startswith(designation))"
   ]
  },
  {
   "cell_type": "markdown",
   "metadata": {},
   "source": [
    "`endswith` is similar to `startswith` except it checks in the end."
   ]
  },
  {
   "cell_type": "code",
   "execution_count": 73,
   "metadata": {},
   "outputs": [
    {
     "name": "stdout",
     "output_type": "stream",
     "text": [
      "False\n",
      "True\n"
     ]
    }
   ],
   "source": [
    "print(username.endswith('thy'))\n",
    "print(username.endswith('ly'))"
   ]
  },
  {
   "cell_type": "code",
   "execution_count": 72,
   "metadata": {},
   "outputs": [
    {
     "name": "stdout",
     "output_type": "stream",
     "text": [
      "True\n"
     ]
    }
   ],
   "source": [
    "# Even collections work\n",
    "ends = (\"thy\", \"ly\")\n",
    "print(username.endswith(ends))"
   ]
  },
  {
   "cell_type": "markdown",
   "metadata": {},
   "source": [
    "#### `strip()`, `lstrip()` and `rstrip()`"
   ]
  },
  {
   "cell_type": "markdown",
   "metadata": {},
   "source": [
    "This function removes the spaces and few other special characters from both side of the printable characters from the string."
   ]
  },
  {
   "cell_type": "code",
   "execution_count": 74,
   "metadata": {},
   "outputs": [
    {
     "name": "stdout",
     "output_type": "stream",
     "text": [
      "s >    \n",
      "\tMurthy\tSwamy\n",
      "\r",
      "   < 21\n"
     ]
    }
   ],
   "source": [
    "# Original String\n",
    "s = \"   \\n\\tMurthy\\tSwamy\\n\\r  \"\n",
    "\n",
    "print(\"s >\", s, \"<\", len(s))"
   ]
  },
  {
   "cell_type": "code",
   "execution_count": 75,
   "metadata": {},
   "outputs": [
    {
     "name": "stdout",
     "output_type": "stream",
     "text": [
      "start > Murthy\tSwamy < end 12\n",
      "*****************************\n",
      "s >    \n",
      "\tMurthy\tSwamy\n",
      "\r",
      "   < 21\n"
     ]
    }
   ],
   "source": [
    "# Stripped string\n",
    "stripped = s.strip()\n",
    "print(\"start >\", stripped, \"< end\", len(stripped))\n",
    "print(\"*\"*29)\n",
    "# Original String still remains the same.\n",
    "print(\"s >\", s, \"<\", len(s))"
   ]
  },
  {
   "cell_type": "code",
   "execution_count": 90,
   "metadata": {},
   "outputs": [
    {
     "name": "stdout",
     "output_type": "stream",
     "text": [
      ">     \n",
      "\tMayank\tJohri <\n",
      "> Mayank\tJohri\t\n",
      "     <\n"
     ]
    }
   ],
   "source": [
    "st = \"    \\n\\tMayank\\tJohri\\t\\n    \"\n",
    "\n",
    "print(\">\", st.rstrip(), \"<\")\n",
    "print(\">\", st.lstrip(), \"<\")"
   ]
  },
  {
   "cell_type": "markdown",
   "metadata": {},
   "source": [
    "#### `join()`"
   ]
  },
  {
   "cell_type": "markdown",
   "metadata": {},
   "source": [
    "It allows to join elements of second using the first or in other words, first is used to join the elements of second and a string is created. "
   ]
  },
  {
   "cell_type": "code",
   "execution_count": 77,
   "metadata": {},
   "outputs": [
    {
     "name": "stdout",
     "output_type": "stream",
     "text": [
      "mon,tues,wed,thus,fri\n"
     ]
    }
   ],
   "source": [
    "week_days = [\"mon\", \"tues\", \"wed\", \"thus\", \"fri\"]\n",
    "comma = \",\"\n",
    "\n",
    "\n",
    "# comma-> Joins the string elements of week_days\n",
    "print(comma.join(week_days)) # -> mon,tues,wed,thus,fri"
   ]
  },
  {
   "cell_type": "code",
   "execution_count": 83,
   "metadata": {},
   "outputs": [],
   "source": [
    "m = \"Mohan Shah\"\n",
    "a = [\"On Leave\"]"
   ]
  },
  {
   "cell_type": "code",
   "execution_count": 84,
   "metadata": {},
   "outputs": [
    {
     "name": "stdout",
     "output_type": "stream",
     "text": [
      "M,o,h,a,n, ,S,h,a,h\n"
     ]
    }
   ],
   "source": [
    "print(comma.join(m))"
   ]
  },
  {
   "cell_type": "code",
   "execution_count": 87,
   "metadata": {},
   "outputs": [
    {
     "name": "stdout",
     "output_type": "stream",
     "text": [
      ",\n"
     ]
    }
   ],
   "source": [
    "# Since `comma` has only one element, thus it will return \n",
    "# it without joining substring (`m`)\n",
    "print(m.join(comma)) "
   ]
  },
  {
   "cell_type": "code",
   "execution_count": 88,
   "metadata": {},
   "outputs": [
    {
     "name": "stdout",
     "output_type": "stream",
     "text": [
      "On Leave\n"
     ]
    }
   ],
   "source": [
    "print(comma.join(a))"
   ]
  },
  {
   "cell_type": "markdown",
   "metadata": {},
   "source": [
    "> Create a string from a list of string items"
   ]
  },
  {
   "cell_type": "code",
   "execution_count": 103,
   "metadata": {},
   "outputs": [
    {
     "data": {
      "text/plain": [
       "'M o h a n   S h a h'"
      ]
     },
     "execution_count": 103,
     "metadata": {},
     "output_type": "execute_result"
    }
   ],
   "source": [
    "\" \".join(m)"
   ]
  },
  {
   "cell_type": "code",
   "execution_count": 92,
   "metadata": {},
   "outputs": [
    {
     "data": {
      "text/plain": [
       "'M, o, h, a, n,  , S, h, a, h'"
      ]
     },
     "execution_count": 92,
     "metadata": {},
     "output_type": "execute_result"
    }
   ],
   "source": [
    "\", \".join(m)"
   ]
  },
  {
   "cell_type": "code",
   "execution_count": 104,
   "metadata": {},
   "outputs": [
    {
     "name": "stdout",
     "output_type": "stream",
     "text": [
      "Mohan  Shah\n"
     ]
    }
   ],
   "source": [
    "# Concating string using null string\n",
    "null_string = \"\"\n",
    "char_str = [\"M\", \"o\", \"h\", \"a\", \"n\",\"  \", \"S\", \"h\", \"a\", \"h\"]\n",
    "print(null_string.join(char_str))"
   ]
  },
  {
   "cell_type": "code",
   "execution_count": 93,
   "metadata": {},
   "outputs": [
    {
     "data": {
      "text/plain": [
       "'This book is good'"
      ]
     },
     "execution_count": 93,
     "metadata": {},
     "output_type": "execute_result"
    }
   ],
   "source": [
    "book_desc = [\"This\", \"book\", \"is good\"]\n",
    "\" \".join(book_desc)"
   ]
  },
  {
   "cell_type": "code",
   "execution_count": 94,
   "metadata": {},
   "outputs": [
    {
     "name": "stdout",
     "output_type": "stream",
     "text": [
      "262 ns ± 53.4 ns per loop (mean ± std. dev. of 7 runs, 1000000 loops each)\n"
     ]
    }
   ],
   "source": [
    "%%timeit\n",
    "st = \", \".join(book_desc)"
   ]
  },
  {
   "cell_type": "code",
   "execution_count": 95,
   "metadata": {},
   "outputs": [
    {
     "name": "stdout",
     "output_type": "stream",
     "text": [
      "25.7 ns ± 8.05 ns per loop (mean ± std. dev. of 7 runs, 10000000 loops each)\n"
     ]
    }
   ],
   "source": [
    "%%timeit\n",
    "st = \"This\" + \", \" + \"book\" + \", \" + \"is good\""
   ]
  },
  {
   "cell_type": "code",
   "execution_count": 96,
   "metadata": {},
   "outputs": [
    {
     "data": {
      "text/plain": [
       "\"['This', 'book', 'is good']\""
      ]
     },
     "execution_count": 96,
     "metadata": {},
     "output_type": "execute_result"
    }
   ],
   "source": [
    "# str function do not work :(\n",
    "str(book_desc)"
   ]
  },
  {
   "cell_type": "markdown",
   "metadata": {},
   "source": [
    "Your list should only have string elements, else you will get error message as follows"
   ]
  },
  {
   "cell_type": "code",
   "execution_count": 106,
   "metadata": {},
   "outputs": [
    {
     "name": "stdout",
     "output_type": "stream",
     "text": [
      "ERROR: sequence item 3: expected str instance, list found\n"
     ]
    }
   ],
   "source": [
    "## !!! Gotchas !!!\n",
    "\n",
    "try:\n",
    "    book_desc = [\"This\", \"book\", \"is good\", [1010]]\n",
    "    txt = \", \".join(book_desc)\n",
    "except Exception as e:\n",
    "    print(\"error:\".upper(), e)"
   ]
  },
  {
   "cell_type": "markdown",
   "metadata": {},
   "source": [
    "#### `capitalize`"
   ]
  },
  {
   "cell_type": "markdown",
   "metadata": {},
   "source": [
    "`capitalize` creates a new string with first character as upper case and remaining as lower case."
   ]
  },
  {
   "cell_type": "code",
   "execution_count": 97,
   "metadata": {},
   "outputs": [
    {
     "name": "stdout",
     "output_type": "stream",
     "text": [
      "Maya deploy, version: 0.0.3 \n"
     ]
    }
   ],
   "source": [
    "myStr = \"maya Deploy, Version: 0.0.3 \"\n",
    "\n",
    "print(myStr.capitalize())"
   ]
  },
  {
   "cell_type": "code",
   "execution_count": 98,
   "metadata": {
    "scrolled": true
   },
   "outputs": [
    {
     "name": "stdout",
     "output_type": "stream",
     "text": [
      "Maya deploy.\n",
      " version: 0.0.3\n"
     ]
    }
   ],
   "source": [
    "myStr = \"\"\"maya Deploy.\n",
    " Version: 0.0.3\"\"\"\n",
    "\n",
    "print(myStr.capitalize())"
   ]
  },
  {
   "cell_type": "code",
   "execution_count": 99,
   "metadata": {
    "scrolled": true
   },
   "outputs": [
    {
     "name": "stdout",
     "output_type": "stream",
     "text": [
      "Ss testing\n"
     ]
    }
   ],
   "source": [
    "# Unicode characters are also handled.\n",
    "\n",
    "my_str = \"ß Testing\"\n",
    "print(my_str.capitalize())"
   ]
  },
  {
   "cell_type": "markdown",
   "metadata": {},
   "source": [
    "#### `center`"
   ]
  },
  {
   "cell_type": "markdown",
   "metadata": {},
   "source": [
    "It acts similar to center padding, which we saw in format, except it acts on the entire string."
   ]
  },
  {
   "cell_type": "code",
   "execution_count": 100,
   "metadata": {
    "scrolled": true
   },
   "outputs": [
    {
     "name": "stdout",
     "output_type": "stream",
     "text": [
      "                 maya Deploy Version: 0.0.3                 \n",
      "-----------------maya Deploy Version: 0.0.3-----------------\n",
      "^^^^^^^^^^^^^^^^^maya Deploy Version: 0.0.3^^^^^^^^^^^^^^^^^\n"
     ]
    }
   ],
   "source": [
    "myStr = \"maya Deploy Version: 0.0.3\"\n",
    "print(myStr.center(60))\n",
    "\n",
    "# Custom padding\n",
    "print(myStr.center(60, \"-\"))\n",
    "print(myStr.center(60, \"^\"))"
   ]
  },
  {
   "cell_type": "code",
   "execution_count": 101,
   "metadata": {},
   "outputs": [
    {
     "name": "stdout",
     "output_type": "stream",
     "text": [
      "Error: The fill character must be exactly one character long\n"
     ]
    }
   ],
   "source": [
    "### Rare Gotcha\n",
    "# We can only have one character as padding and not more. \n",
    "\n",
    "try:\n",
    "    print(myStr.center(60, \"*~\"))\n",
    "except Exception as e:\n",
    "    print(\"Error:\", e)"
   ]
  },
  {
   "cell_type": "code",
   "execution_count": 63,
   "metadata": {},
   "outputs": [
    {
     "name": "stdout",
     "output_type": "stream",
     "text": [
      "maya Deploy Version: 0.0.3\n"
     ]
    }
   ],
   "source": [
    "# My string is larger than the number, nothing will happen\n",
    "\n",
    "print(myStr.center(12, \"*\"))"
   ]
  },
  {
   "cell_type": "code",
   "execution_count": 64,
   "metadata": {},
   "outputs": [
    {
     "name": "stdout",
     "output_type": "stream",
     "text": [
      "> ~~~~~~~~~~~~~Aalok is good~~~~~~~~~~~~~~ <\n"
     ]
    }
   ],
   "source": [
    "# We can cascade multiple string methods as shown below\n",
    "\n",
    "aalok = \"aalok Is Good\"\n",
    "print(\">\", aalok.capitalize().center(40, \"~\"), \"<\")"
   ]
  },
  {
   "cell_type": "markdown",
   "metadata": {},
   "source": [
    "#### `count`, `find`"
   ]
  },
  {
   "cell_type": "markdown",
   "metadata": {},
   "source": [
    "`count` returns the number of time the substring is present in the give string. It do not find the substring using recursion."
   ]
  },
  {
   "cell_type": "code",
   "execution_count": 102,
   "metadata": {
    "scrolled": true
   },
   "outputs": [
    {
     "name": "stdout",
     "output_type": "stream",
     "text": [
      "maya Deploy Version: 0.0.3\n"
     ]
    }
   ],
   "source": [
    "myStr = \"maya Deploy Version: 0.0.3\"\n",
    "print(myStr)"
   ]
  },
  {
   "cell_type": "code",
   "execution_count": 105,
   "metadata": {},
   "outputs": [
    {
     "name": "stdout",
     "output_type": "stream",
     "text": [
      "myStr.count('a'): 2\n",
      "myStr.count('e'): 2\n",
      "myStr.count('20'):0\n"
     ]
    }
   ],
   "source": [
    "print(f\"myStr.count('a'): {myStr.count('a')}\")\n",
    "print(f\"myStr.count('e'): {myStr.count('e')}\")\n",
    "print(f\"myStr.count('20'):{ myStr.count('20')}\")"
   ]
  },
  {
   "cell_type": "code",
   "execution_count": 109,
   "metadata": {},
   "outputs": [
    {
     "name": "stdout",
     "output_type": "stream",
     "text": [
      "2\n"
     ]
    }
   ],
   "source": [
    "# no recursion, once searched it will not go back to \n",
    "# search for other permutations on the searched substring \n",
    "# for substring under search. \n",
    "\n",
    "my_txt = \"dadadada\"\n",
    "print(my_txt.count(\"dada\"))"
   ]
  },
  {
   "cell_type": "code",
   "execution_count": 110,
   "metadata": {
    "scrolled": false
   },
   "outputs": [
    {
     "name": "stdout",
     "output_type": "stream",
     "text": [
      "-1\n",
      "6\n",
      "1\n"
     ]
    }
   ],
   "source": [
    "# Find returns the index of first occurence of the \n",
    "# substring in the string else returns -1\n",
    "\n",
    "print(myStr.find(\"g\"))\n",
    "print(myStr.find(\"e\"))\n",
    "my_txt = \"dadadada\"\n",
    "print(my_txt.find(\"ada\"))"
   ]
  },
  {
   "cell_type": "code",
   "execution_count": 105,
   "metadata": {},
   "outputs": [
    {
     "name": "stdout",
     "output_type": "stream",
     "text": [
      "0\n"
     ]
    }
   ],
   "source": [
    "# this is the reason it do not return \"False\" if sub=string \n",
    "# is not present.\n",
    "print(my_txt.find(\"da\"))"
   ]
  },
  {
   "cell_type": "code",
   "execution_count": 111,
   "metadata": {},
   "outputs": [
    {
     "name": "stdout",
     "output_type": "stream",
     "text": [
      "6\n"
     ]
    }
   ],
   "source": [
    "# Search only portion of the string\n",
    "my_txt = \"dada dada\"\n",
    "print(my_txt.find(\"ada\", 3))"
   ]
  },
  {
   "cell_type": "code",
   "execution_count": 107,
   "metadata": {},
   "outputs": [
    {
     "name": "stdout",
     "output_type": "stream",
     "text": [
      "-1\n"
     ]
    }
   ],
   "source": [
    "# since its outside the range thus will not be \n",
    "# able to find the substring `good`.\n",
    "my_txt = \"dada is good\"\n",
    "print(my_txt.find(\"good\", 1, 5))"
   ]
  },
  {
   "cell_type": "markdown",
   "metadata": {},
   "source": [
    "> **Note**: The find() method should be used only if you need to know the position of sub. To check if sub is a substring or not, use the `in` operator:"
   ]
  },
  {
   "cell_type": "markdown",
   "metadata": {},
   "source": [
    "checking: substring in main_string : returns true or false"
   ]
  },
  {
   "cell_type": "code",
   "execution_count": 106,
   "metadata": {},
   "outputs": [
    {
     "name": "stdout",
     "output_type": "stream",
     "text": [
      "True\n"
     ]
    }
   ],
   "source": [
    "print(\"ma\" in myStr)"
   ]
  },
  {
   "cell_type": "code",
   "execution_count": 109,
   "metadata": {},
   "outputs": [
    {
     "name": "stdout",
     "output_type": "stream",
     "text": [
      "False\n"
     ]
    }
   ],
   "source": [
    "print(\"M\" in myStr)"
   ]
  },
  {
   "cell_type": "markdown",
   "metadata": {},
   "source": [
    "### `upper` and `lower`"
   ]
  },
  {
   "cell_type": "code",
   "execution_count": 23,
   "metadata": {},
   "outputs": [
    {
     "name": "stdout",
     "output_type": "stream",
     "text": [
      "TWELVE THOUSAND THREE HUNDRED SIX, FOR SS TESTING SS\n",
      "twelve thousand three hundred six, for ß testing ss\n"
     ]
    }
   ],
   "source": [
    "# Now, they also supports unicode\n",
    "\n",
    "c = \"Twelve Thousand Three Hundred Six, for ß Testing SS\"\n",
    "print(c.upper())\n",
    "print(c.lower())"
   ]
  },
  {
   "cell_type": "code",
   "execution_count": 111,
   "metadata": {},
   "outputs": [
    {
     "name": "stdout",
     "output_type": "stream",
     "text": [
      "अभिवादन\n",
      "अभिवादन\n"
     ]
    }
   ],
   "source": [
    "swagat = \"अभिवादन\"\n",
    "print(swagat.upper())\n",
    "print(swagat.lower())"
   ]
  },
  {
   "cell_type": "code",
   "execution_count": 24,
   "metadata": {},
   "outputs": [
    {
     "name": "stdout",
     "output_type": "stream",
     "text": [
      "ஆகுதி செய்யும்போது\n",
      "ஆகுதி செய்யும்போது\n"
     ]
    }
   ],
   "source": [
    "swagat = \"ஆகுதி செய்யும்போது\"\n",
    "print(swagat.upper())\n",
    "print(swagat.lower())"
   ]
  },
  {
   "cell_type": "markdown",
   "metadata": {},
   "source": [
    "### `str` in-build module for alpha/Numeric validation\n",
    "\n",
    "Strings implement all of the common sequence operations, along with the additional methods described below."
   ]
  },
  {
   "cell_type": "code",
   "execution_count": 1,
   "metadata": {},
   "outputs": [
    {
     "name": "stdout",
     "output_type": "stream",
     "text": [
      "True\n",
      "True\n",
      "True\n",
      "True\n",
      "True\n",
      "True\n"
     ]
    }
   ],
   "source": [
    "c = \"one\"\n",
    "print(c.isalpha())\n",
    "c = \"onetwo\"\n",
    "print(c.isalpha())\n",
    "c = \"twelvethousandthreehundredsix\"\n",
    "print(c.isalpha())\n",
    "c = \"twelvethousandthreehundredandsix\"\n",
    "print(c.isalpha())\n",
    "# It even works on unicode alphas\n",
    "one = \"એક\"  # One in kannada\n",
    "print(one.isalpha())\n",
    "print(\"ذات\".isalpha())"
   ]
  },
  {
   "cell_type": "code",
   "execution_count": 114,
   "metadata": {},
   "outputs": [
    {
     "name": "stdout",
     "output_type": "stream",
     "text": [
      "False\n",
      "False\n"
     ]
    }
   ],
   "source": [
    "# Anything other than alpha will return false as shown below\n",
    "c = \"1\"\n",
    "print(c.isalpha())\n",
    "c = \"one two\"\n",
    "print(c.isalpha())"
   ]
  },
  {
   "cell_type": "code",
   "execution_count": 2,
   "metadata": {},
   "outputs": [
    {
     "name": "stdout",
     "output_type": "stream",
     "text": [
      "False\n",
      "twelvethousandthreehundredandsix True\n"
     ]
    }
   ],
   "source": [
    "# Solving the space issue.\n",
    "c = \"twelve thousand three hundred and six.\"\n",
    "print(c.isalpha())\n",
    "num = c.replace(\" \", \"\").replace(\".\",\"\").replace(\"/\",\"\")\n",
    "\n",
    "print(num, num.isalpha())"
   ]
  },
  {
   "cell_type": "code",
   "execution_count": 3,
   "metadata": {},
   "outputs": [],
   "source": [
    "superscripts = \"\\u00B2\"\n",
    "five = \"\\u0A6B\"\n",
    "five_punjabi = \"੫\"\n",
    "ten_hindi = \"१०\"\n",
    "num_one = \"1\"\n",
    "tendotfive = \"10.5\"\n",
    "one = \"one\"\n",
    "tamil_one = \"ஒன்று\"\n",
    "fractions = \"\\u00BC\""
   ]
  },
  {
   "cell_type": "code",
   "execution_count": 4,
   "metadata": {},
   "outputs": [
    {
     "name": "stdout",
     "output_type": "stream",
     "text": [
      "²\n",
      "੫\n",
      "੫\n",
      "१०\n",
      "1\n",
      "ஒன்று\n",
      "one\n",
      "¼\n"
     ]
    }
   ],
   "source": [
    "print(superscripts)\n",
    "print(five)\n",
    "print(five_punjabi)\n",
    "print(ten_hindi)\n",
    "print(num_one)\n",
    "print(tamil_one)\n",
    "print(one)\n",
    "print(fractions)"
   ]
  },
  {
   "cell_type": "markdown",
   "metadata": {},
   "source": [
    "#### `isdecimal()`"
   ]
  },
  {
   "cell_type": "code",
   "execution_count": 118,
   "metadata": {},
   "outputs": [
    {
     "name": "stdout",
     "output_type": "stream",
     "text": [
      "² \t False\n",
      "੫ \t True\n",
      "੫ \t True\n",
      "१० \t True\n",
      "1 \t True\n",
      "10.5 \t False\n",
      "ஒன்று \t False\n",
      "one \t False\n",
      "¼ \t False\n"
     ]
    }
   ],
   "source": [
    "print(superscripts, \"\\t\", superscripts.isdecimal())\n",
    "print(five, \"\\t\", five.isdecimal())\n",
    "print(five_punjabi, \"\\t\", five_punjabi.isdecimal())\n",
    "print(ten_hindi, \"\\t\", ten_hindi.isdecimal())\n",
    "print(num_one, \"\\t\", num_one.isdecimal())\n",
    "print(tendotfive, \"\\t\", tendotfive.isdecimal())\n",
    "print(tamil_one, \"\\t\", tamil_one.isdecimal())\n",
    "print(one, \"\\t\", one.isdecimal())\n",
    "print(fractions, \"\\t\", fractions.isdecimal())"
   ]
  },
  {
   "cell_type": "code",
   "execution_count": 119,
   "metadata": {},
   "outputs": [
    {
     "name": "stdout",
     "output_type": "stream",
     "text": [
      "False\n"
     ]
    }
   ],
   "source": [
    "# Any text other than numbers will result in False\n",
    "str = \"this 2009\";  \n",
    "print(str.isdecimal())"
   ]
  },
  {
   "cell_type": "markdown",
   "metadata": {},
   "source": [
    "#### `isdigit`"
   ]
  },
  {
   "cell_type": "code",
   "execution_count": 5,
   "metadata": {},
   "outputs": [
    {
     "name": "stdout",
     "output_type": "stream",
     "text": [
      "² \t True\n",
      "੫ \t True\n",
      "੫ \t True\n",
      "१० \t True\n",
      "1 \t True\n",
      "10.5 \t False\n",
      "ஒன்று \t False\n",
      "one \t False\n",
      "¼ \t False\n"
     ]
    }
   ],
   "source": [
    "# str.isdigit() (Decimals, Subscripts, Superscripts)\n",
    "print(superscripts, \"\\t\", superscripts.isdigit())\n",
    "print(five, \"\\t\" , five.isdigit())\n",
    "print(five_punjabi, \"\\t\" , five_punjabi.isdigit())\n",
    "print(ten_hindi, \"\\t\" , ten_hindi.isdigit())\n",
    "print(num_one, \"\\t\" , num_one.isdigit())\n",
    "print(tendotfive, \"\\t\", tendotfive.isdigit())\n",
    "print(tamil_one, \"\\t\", tamil_one.isdigit())\n",
    "print(one, \"\\t\" , one.isdigit())\n",
    "print(fractions, \"\\t\" , fractions.isdigit())"
   ]
  },
  {
   "cell_type": "markdown",
   "metadata": {},
   "source": [
    "#### `str.isnumeric`"
   ]
  },
  {
   "cell_type": "markdown",
   "metadata": {},
   "source": [
    "- Digits, \n",
    "- Fractions, \n",
    "- Subscripts, \n",
    "- Superscripts"
   ]
  },
  {
   "cell_type": "code",
   "execution_count": 121,
   "metadata": {},
   "outputs": [
    {
     "name": "stdout",
     "output_type": "stream",
     "text": [
      "² \t True\n",
      "੫ \t True\n",
      "੫ \t True\n",
      "१० \t True\n",
      "1 \t True\n",
      "10.5 \t False\n",
      "ஒன்று \t False\n",
      "one \t False\n",
      "¼ \t True\n"
     ]
    }
   ],
   "source": [
    "print(superscripts, \"\\t\", superscripts.isnumeric())\n",
    "print(five, \"\\t\", five.isnumeric())\n",
    "print(five_punjabi, \"\\t\", five_punjabi.isnumeric())\n",
    "print(ten_hindi, \"\\t\", ten_hindi.isnumeric())\n",
    "print(num_one, \"\\t\", num_one.isnumeric())\n",
    "\n",
    "print(tendotfive, \"\\t\", tendotfive.isnumeric())\n",
    "print(tamil_one, \"\\t\", \"ذات\".isnumeric())\n",
    "print(one, \"\\t\", one.isnumeric())\n",
    "print(fractions, \"\\t\", fractions.isnumeric())"
   ]
  },
  {
   "cell_type": "markdown",
   "metadata": {},
   "source": [
    "#### `isalnum`"
   ]
  },
  {
   "cell_type": "markdown",
   "metadata": {},
   "source": [
    "Any kind of number: be it alpha or numeric."
   ]
  },
  {
   "cell_type": "code",
   "execution_count": 122,
   "metadata": {},
   "outputs": [
    {
     "name": "stdout",
     "output_type": "stream",
     "text": [
      "² \t True\n",
      "੫ \t True\n",
      "੫ \t True\n",
      "१० \t True\n",
      "1 \t True\n",
      "10.5 \t False\n",
      "one \t True\n",
      "¼ \t True\n"
     ]
    }
   ],
   "source": [
    "print(superscripts, \"\\t\", superscripts.isalnum())\n",
    "print(five, \"\\t\", five.isalnum())\n",
    "print(five_punjabi, \"\\t\", five_punjabi.isalnum())\n",
    "print(ten_hindi, \"\\t\", ten_hindi.isalnum())\n",
    "print(num_one, \"\\t\", num_one.isalnum())\n",
    "print(tendotfive, \"\\t\", tendotfive.isnumeric())\n",
    "print(one, \"\\t\", one.isalnum())\n",
    "print(fractions, \"\\t\", fractions.isalnum())"
   ]
  },
  {
   "cell_type": "code",
   "execution_count": 123,
   "metadata": {},
   "outputs": [
    {
     "name": "stdout",
     "output_type": "stream",
     "text": [
      "True\n",
      "True\n",
      "True\n",
      "False\n"
     ]
    }
   ],
   "source": [
    "print(\"one\".isalnum())\n",
    "print(\"thirteen\".isalnum())\n",
    "tenOne = \"10One\"\n",
    "print(tenOne.isalnum())\n",
    "ten_One = \"10.10\"\n",
    "print(ten_One.isalnum())"
   ]
  },
  {
   "cell_type": "markdown",
   "metadata": {},
   "source": [
    "### Reverse String"
   ]
  },
  {
   "cell_type": "markdown",
   "metadata": {},
   "source": [
    "Creates a new list with elements in reverse order"
   ]
  },
  {
   "cell_type": "markdown",
   "metadata": {},
   "source": [
    "- **Method 1** Sliceing"
   ]
  },
  {
   "cell_type": "code",
   "execution_count": 6,
   "metadata": {},
   "outputs": [
    {
     "name": "stdout",
     "output_type": "stream",
     "text": [
      "सुबह सुबह का सूरज\n"
     ]
    }
   ],
   "source": [
    "s = \"जरूस ाक हबुस हबुस\"\n",
    "print(s[::-1])"
   ]
  },
  {
   "cell_type": "markdown",
   "metadata": {},
   "source": [
    "- **Method 2:** Using `reversed` function "
   ]
  },
  {
   "cell_type": "code",
   "execution_count": 7,
   "metadata": {},
   "outputs": [
    {
     "name": "stdout",
     "output_type": "stream",
     "text": [
      "सुबह सुबह का सूरज\n",
      "Morning Sun\n"
     ]
    }
   ],
   "source": [
    "s = \"जरूस ाक हबुस हबुस\"\n",
    "print(''.join(reversed(s)))\n",
    "s = \"nuS gninroM\"\n",
    "print(''.join(reversed(s)))"
   ]
  },
  {
   "cell_type": "code",
   "execution_count": 108,
   "metadata": {},
   "outputs": [
    {
     "name": "stdout",
     "output_type": "stream",
     "text": [
      "<reversed object at 0x103b201c0>\n",
      "(' ', ' ', '\\r', '\\n', 'y', 'm', 'a', 'w', 'S', '\\t', 'y', 'h', 't', 'r', 'u', 'M', '\\t', '\\n', ' ', ' ', ' ')\n",
      "  \r\n",
      "ymawS\tyhtruM\t\n",
      "   \n"
     ]
    }
   ],
   "source": [
    "# inner working of method 2\n",
    "print(reversed(s))\n",
    "print(tuple(reversed(s)))\n",
    "print(\"\".join(reversed(s)))"
   ]
  },
  {
   "cell_type": "code",
   "execution_count": 72,
   "metadata": {},
   "outputs": [
    {
     "name": "stdout",
     "output_type": "stream",
     "text": [
      "सुबह सुबह 01 का सूरज\n",
      "Morning Sun\n"
     ]
    }
   ],
   "source": [
    "s = \"जरूस ाक 10 हबुस हबुस\"\n",
    "print(''.join(reversed(s)))\n",
    "s = \"nuS gninroM\"\n",
    "print(''.join(reversed(s)))"
   ]
  },
  {
   "cell_type": "markdown",
   "metadata": {},
   "source": [
    "### case-insensitive string comparison"
   ]
  },
  {
   "cell_type": "markdown",
   "metadata": {},
   "source": [
    "##### for ASCII strings"
   ]
  },
  {
   "cell_type": "code",
   "execution_count": 111,
   "metadata": {},
   "outputs": [
    {
     "name": "stdout",
     "output_type": "stream",
     "text": [
      "The strings are the same (case insensitive)\n"
     ]
    }
   ],
   "source": [
    "string1 = 'Hello'\n",
    "string2 = 'helLo'\n",
    "\n",
    "if string1.lower() == string2.lower():\n",
    "    print(\"The strings are the same (case insensitive)\")\n",
    "else:\n",
    "    print(\"The strings are not the same (case insensitive)\")"
   ]
  },
  {
   "cell_type": "markdown",
   "metadata": {},
   "source": [
    "##### for unicode strings"
   ]
  },
  {
   "cell_type": "code",
   "execution_count": 128,
   "metadata": {},
   "outputs": [
    {
     "name": "stdout",
     "output_type": "stream",
     "text": [
      "The strings are the same (case insensitive)\n"
     ]
    }
   ],
   "source": [
    "str_lower = \"Σίσυφος\"\n",
    "str_upper = \"ΣΊΣΥΦΟΣ\"\n",
    "\n",
    "if str_upper.lower() == str_lower.lower():\n",
    "    print(\"The strings are the same (case insensitive)\")\n",
    "else:\n",
    "    print(\"The strings are not the same (case insensitive)\")"
   ]
  },
  {
   "cell_type": "markdown",
   "metadata": {},
   "source": [
    "but fails in some cases"
   ]
  },
  {
   "cell_type": "code",
   "execution_count": 129,
   "metadata": {},
   "outputs": [
    {
     "name": "stdout",
     "output_type": "stream",
     "text": [
      "The strings are not the same (case insensitive)\n"
     ]
    }
   ],
   "source": [
    "str_lower = \"ß test\"\n",
    "str_upper = \"SS test\"\n",
    "\n",
    "if str_upper.lower() == str_lower.lower():\n",
    "    print(\"The strings are the same (case insensitive)\")\n",
    "else:\n",
    "    print(\"The strings are not the same (case insensitive)\")"
   ]
  },
  {
   "cell_type": "code",
   "execution_count": 130,
   "metadata": {},
   "outputs": [
    {
     "name": "stdout",
     "output_type": "stream",
     "text": [
      "The strings are the same (case insensitive)\n"
     ]
    }
   ],
   "source": [
    "str_lower = \"ß test\"\n",
    "str_upper = \"SS test\"\n",
    "\n",
    "if str_upper.upper() == str_lower.upper():\n",
    "    print(\"The strings are the same (case insensitive)\")\n",
    "else:\n",
    "    print(\"The strings are not the same (case insensitive)\")"
   ]
  },
  {
   "cell_type": "code",
   "execution_count": 131,
   "metadata": {},
   "outputs": [
    {
     "name": "stdout",
     "output_type": "stream",
     "text": [
      "ss test ß test\n",
      "SS TEST SS TEST\n"
     ]
    }
   ],
   "source": [
    "print(str_upper.lower(), str_lower.lower())\n",
    "print(str_upper.upper(), str_lower.upper())"
   ]
  },
  {
   "cell_type": "markdown",
   "metadata": {},
   "source": [
    "So the best bet is using `casefold`. Lets replace `lower` to `casefold` in the above example "
   ]
  },
  {
   "cell_type": "code",
   "execution_count": 132,
   "metadata": {},
   "outputs": [
    {
     "name": "stdout",
     "output_type": "stream",
     "text": [
      "The strings are the same (case insensitive)\n"
     ]
    }
   ],
   "source": [
    "str_lower = \"ß\"\n",
    "str_upper = \"SS\"\n",
    "\n",
    "if str_upper.casefold() == str_lower.casefold():\n",
    "    print(\"The strings are the same (case insensitive)\")\n",
    "else:\n",
    "    print(\"The strings are not the same (case insensitive)\")"
   ]
  },
  {
   "cell_type": "code",
   "execution_count": 133,
   "metadata": {},
   "outputs": [
    {
     "name": "stdout",
     "output_type": "stream",
     "text": [
      "ss  :  ss\n",
      "SS\n"
     ]
    }
   ],
   "source": [
    "print(str_lower.casefold(), \" : \", str_upper.casefold())\n",
    "print(str_lower.upper())"
   ]
  },
  {
   "cell_type": "markdown",
   "metadata": {},
   "source": [
    "### Interning Strings"
   ]
  },
  {
   "cell_type": "markdown",
   "metadata": {},
   "source": [
    "It is a method of storing only one copy of each distinct string value, which must be immutable. Interning strings makes some string processing tasks more time- or space-efficient at the cost of requiring more time when the string is created or interned."
   ]
  },
  {
   "cell_type": "code",
   "execution_count": 134,
   "metadata": {},
   "outputs": [
    {
     "name": "stdout",
     "output_type": "stream",
     "text": [
      "Mayank 4466713072\n",
      "Mayank 4466713072\n",
      "True\n"
     ]
    }
   ],
   "source": [
    "s1 = \"Mayank\"\n",
    "s2 = \"Mayank\"\n",
    "\n",
    "print(s1, id(s1))\n",
    "print(s2, id(s2))\n",
    "print(s1 is s2)"
   ]
  },
  {
   "cell_type": "code",
   "execution_count": 135,
   "metadata": {},
   "outputs": [
    {
     "name": "stdout",
     "output_type": "stream",
     "text": [
      "Mayank_Johri 4466716080\n",
      "Mayank_Johri 4466716080\n",
      "True\n"
     ]
    }
   ],
   "source": [
    "s1 = \"Mayank_Johri\"\n",
    "s2 = \"Mayank_Johri\"\n",
    "\n",
    "print(s1, id(s1))\n",
    "print(s2, id(s2))\n",
    "print(s1 is s2)"
   ]
  },
  {
   "cell_type": "code",
   "execution_count": 136,
   "metadata": {},
   "outputs": [
    {
     "name": "stdout",
     "output_type": "stream",
     "text": [
      "aaaaaaaaaaaaaaaaaaaaa 4466802080\n",
      "aaaaaaaaaaaaaaaaaaaaa 4466802080\n",
      "True\n",
      "True\n"
     ]
    }
   ],
   "source": [
    "s1 = \"a\"*21\n",
    "s2 = \"aaaaaaaaaaaaaaaaaaaaa\"\n",
    "\n",
    "print(s1, id(s1))\n",
    "print(s2, id(s2))\n",
    "print(s1 is s2)\n",
    "print(s1 == s2)"
   ]
  },
  {
   "cell_type": "code",
   "execution_count": 137,
   "metadata": {},
   "outputs": [
    {
     "name": "stdout",
     "output_type": "stream",
     "text": [
      "aaaaaaaaaaaaaaaaaaaaaaaaaaaaaaaaaaaaaaaaaaaaaaaaaaaaaaaaaaaaaaaaaaaaaaaaaaaaaaaaaaaaaaaaaaaaaaaaaaaa 4466807312 100\n",
      "aaaaaaaaaaaaaaaaaaaaaaaaaaaaaaaaaaaaaaaaaaaaaaaaaaaaaaaaaaaaaaaaaaaaaaaaaaaaaaaaaaaaaaaaaaaaaaaaaaaa 4466807312 100\n",
      "True\n",
      "True\n"
     ]
    }
   ],
   "source": [
    "s1 = \"a\"*100\n",
    "s2 = \"aaaaaaaaaaaaaaaaaaaaaaaaaaaaaaaaaaaaaaaaaaaaaaaaaaaaaaaaaaaaaaaaaaaaaaaaaaaaaaaaaaaaaaaaaaaaaaaaaaaa\"\n",
    "\n",
    "print(s1, id(s1), len(s1))\n",
    "print(s2, id(s2), len(s2))\n",
    "print(s1 is s2) # Same \n",
    "print(s1 == s2) # Equal"
   ]
  },
  {
   "cell_type": "code",
   "execution_count": 138,
   "metadata": {},
   "outputs": [
    {
     "name": "stdout",
     "output_type": "stream",
     "text": [
      "aaaaaaaaaaaaaaaaaaaaaaaaaaaaaaaaaaaaaaaa aaaaaaaaaaaaaaaaaaaaaaaaaaaaaaaaaaaaaaaaaaaaaaaaaaaaaaaaaaaa 4466994672 101\n",
      "aaaaaaaaaaaaaaaaaaaaaaaaaaaaaaaaaaaaaaaa aaaaaaaaaaaaaaaaaaaaaaaaaaaaaaaaaaaaaaaaaaaaaaaaaaaaaaaaaaaa 4467003440 101\n",
      "Same: False\n",
      "Equal: True\n"
     ]
    }
   ],
   "source": [
    "s1 = \"aaaaaaaaaaaaaaaaaaaaaaaaaaaaaaaaaaaaaaaa aaaaaaaaaaaaaaaaaaaaaaaaaaaaaaaaaaaaaaaaaaaaaaaaaaaaaaaaaaaa\"\n",
    "s2 = \"aaaaaaaaaaaaaaaaaaaaaaaaaaaaaaaaaaaaaaaa aaaaaaaaaaaaaaaaaaaaaaaaaaaaaaaaaaaaaaaaaaaaaaaaaaaaaaaaaaaa\"\n",
    "\n",
    "print(s1, id(s1), len(s1))\n",
    "print(s2, id(s2), len(s2))\n",
    "print(\"Same:\", s1 is s2) # Same \n",
    "print(\"Equal:\", s1 == s2) # Equal"
   ]
  },
  {
   "cell_type": "markdown",
   "metadata": {},
   "source": [
    "By default only strings with single word are stored in intern memory "
   ]
  },
  {
   "cell_type": "code",
   "execution_count": 139,
   "metadata": {},
   "outputs": [
    {
     "name": "stdout",
     "output_type": "stream",
     "text": [
      "M  4466898288\n",
      "M  4466898544\n",
      "False\n",
      "True\n"
     ]
    }
   ],
   "source": [
    "s1 = \"M \"\n",
    "s2 = \"M \"\n",
    "\n",
    "print(s1, id(s1))\n",
    "print(s2, id(s2))\n",
    "print(s1 is s2)\n",
    "print(s1 == s2)"
   ]
  },
  {
   "cell_type": "markdown",
   "metadata": {},
   "source": [
    "But if you run the above code through a file, then it might not be true. "
   ]
  },
  {
   "cell_type": "code",
   "execution_count": 140,
   "metadata": {},
   "outputs": [
    {
     "name": "stdout",
     "output_type": "stream",
     "text": [
      "  4432948080\n",
      "  4432948080\n",
      "True\n",
      "True\n"
     ]
    }
   ],
   "source": [
    "s1 = \" \"\n",
    "s2 = \" \"\n",
    "\n",
    "print(s1, id(s1))\n",
    "print(s2, id(s2))\n",
    "print(s1 is s2)\n",
    "print(s1 == s2)"
   ]
  },
  {
   "cell_type": "markdown",
   "metadata": {},
   "source": [
    "NOTE: Special Chac's matter and not the size"
   ]
  },
  {
   "cell_type": "markdown",
   "metadata": {},
   "source": [
    "Forcefully using same instance"
   ]
  },
  {
   "cell_type": "code",
   "execution_count": 141,
   "metadata": {},
   "outputs": [
    {
     "name": "stdout",
     "output_type": "stream",
     "text": [
      "Mayank  Johri 4466867888\n",
      "Mayank_Johri 4466865008\n",
      "Mayank  Johri 4466867888 True\n"
     ]
    }
   ],
   "source": [
    "from sys import intern\n",
    "\n",
    "s1 = intern(\"Mayank  Johri\")\n",
    "s2 = intern(\"Mayank_Johri\")\n",
    "s3 = intern(\"Mayank  Johri\")\n",
    "\n",
    "print(s1, id(s1))\n",
    "print(s2, id(s2))\n",
    "print(s3, id(s3), s1 is s3)"
   ]
  },
  {
   "cell_type": "code",
   "execution_count": 1,
   "metadata": {},
   "outputs": [
    {
     "ename": "NameError",
     "evalue": "name 'intern' is not defined",
     "output_type": "error",
     "traceback": [
      "\u001b[0;31m---------------------------------------------------------------------------\u001b[0m",
      "\u001b[0;31mNameError\u001b[0m                                 Traceback (most recent call last)",
      "\u001b[0;32m<ipython-input-1-a9eec212c786>\u001b[0m in \u001b[0;36m<module>\u001b[0;34m\u001b[0m\n\u001b[0;32m----> 1\u001b[0;31m \u001b[0mj\u001b[0m \u001b[0;34m=\u001b[0m \u001b[0mintern\u001b[0m\u001b[0;34m(\u001b[0m\u001b[0;34m\"Rahul Johri\"\u001b[0m\u001b[0;34m)\u001b[0m\u001b[0;34m\u001b[0m\u001b[0;34m\u001b[0m\u001b[0m\n\u001b[0m\u001b[1;32m      2\u001b[0m \u001b[0mj1\u001b[0m \u001b[0;34m=\u001b[0m \u001b[0mintern\u001b[0m\u001b[0;34m(\u001b[0m\u001b[0;34m\"Rahul Johri\"\u001b[0m\u001b[0;34m)\u001b[0m\u001b[0;34m\u001b[0m\u001b[0;34m\u001b[0m\u001b[0m\n\u001b[1;32m      3\u001b[0m \u001b[0mprint\u001b[0m\u001b[0;34m(\u001b[0m\u001b[0mj\u001b[0m\u001b[0;34m,\u001b[0m \u001b[0mid\u001b[0m\u001b[0;34m(\u001b[0m\u001b[0mj\u001b[0m\u001b[0;34m)\u001b[0m\u001b[0;34m)\u001b[0m\u001b[0;34m\u001b[0m\u001b[0;34m\u001b[0m\u001b[0m\n\u001b[1;32m      4\u001b[0m \u001b[0mprint\u001b[0m\u001b[0;34m(\u001b[0m\u001b[0mj1\u001b[0m\u001b[0;34m,\u001b[0m \u001b[0mid\u001b[0m\u001b[0;34m(\u001b[0m\u001b[0mj1\u001b[0m\u001b[0;34m)\u001b[0m\u001b[0;34m,\u001b[0m \u001b[0mj\u001b[0m \u001b[0;32mis\u001b[0m \u001b[0mj1\u001b[0m\u001b[0;34m)\u001b[0m\u001b[0;34m\u001b[0m\u001b[0;34m\u001b[0m\u001b[0m\n\u001b[1;32m      5\u001b[0m \u001b[0mprint\u001b[0m\u001b[0;34m(\u001b[0m\u001b[0ms1\u001b[0m\u001b[0;34m,\u001b[0m \u001b[0mid\u001b[0m\u001b[0;34m(\u001b[0m\u001b[0ms1\u001b[0m\u001b[0;34m)\u001b[0m\u001b[0;34m)\u001b[0m\u001b[0;34m\u001b[0m\u001b[0;34m\u001b[0m\u001b[0m\n",
      "\u001b[0;31mNameError\u001b[0m: name 'intern' is not defined"
     ]
    }
   ],
   "source": [
    "j = intern(\"Rahul Johri\")\n",
    "j1 = intern(\"Rahul Johri\")\n",
    "print(j, id(j))\n",
    "print(j1, id(j1), j is j1)\n",
    "print(s1, id(s1))"
   ]
  },
  {
   "cell_type": "markdown",
   "metadata": {},
   "source": [
    "#### Misc "
   ]
  },
  {
   "cell_type": "code",
   "execution_count": 13,
   "metadata": {},
   "outputs": [
    {
     "name": "stdout",
     "output_type": "stream",
     "text": [
      "['Welcome, ', ' students of Python, We still learning. ', '']\n",
      "0\n",
      "['Welcome, ']\n",
      "1\n",
      "['Welcome, ', ' students of Python, We still learning. ']\n",
      "2\n",
      "['Welcome, ', ' students of Python, We still learning. ', 'We are', '']\n",
      "['Welcome, ', ' students of Python, We still learning. ', 'We are', '']\n",
      "Welcome,  students of Python, We still learning. We are\n"
     ]
    }
   ],
   "source": [
    "s = \"Welcome, We are students of Python, We still learning. We are\"\n",
    "\n",
    "d = s.split(\"We are\")\n",
    "print(d)\n",
    "lst = []\n",
    "for index, a in enumerate(d):\n",
    "    print(index)\n",
    "    if index > 1:\n",
    "        lst.append(\"We are\")\n",
    "    lst.append(a)\n",
    "    print(lst)\n",
    "\n",
    "print(lst)\n",
    "x = \"\".join(lst)\n",
    "print(x)"
   ]
  },
  {
   "cell_type": "markdown",
   "metadata": {},
   "source": [
    "### References"
   ]
  },
  {
   "cell_type": "markdown",
   "metadata": {},
   "source": [
    "- https://www.python.org/dev/peps/pep-3101/\n",
    "- https://en.wikipedia.org/wiki/String_interning\n",
    "- https://en.wikipedia.org/wiki/Escape_character\n",
    "- https://en.wikipedia.org/wiki/Escape_sequences_in_C"
   ]
  }
 ],
 "metadata": {
  "kernelspec": {
   "display_name": "Python 3",
   "language": "python",
   "name": "python3"
  },
  "language_info": {
   "codemirror_mode": {
    "name": "ipython",
    "version": 3
   },
   "file_extension": ".py",
   "mimetype": "text/x-python",
   "name": "python",
   "nbconvert_exporter": "python",
   "pygments_lexer": "ipython3",
   "version": "3.8.2"
  }
 },
 "nbformat": 4,
 "nbformat_minor": 2
}
