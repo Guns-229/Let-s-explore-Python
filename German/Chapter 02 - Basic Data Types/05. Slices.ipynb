{
 "cells": [
  {
   "cell_type": "markdown",
   "metadata": {},
   "source": [
    "## Slices"
   ]
  },
  {
   "cell_type": "markdown",
   "metadata": {},
   "source": [
    "*Slices* of *strings* can be obtained by adding indexes between brackets after a  *string* or any other iterable object.\n",
    "\n",
    "![Slicing strings](files/String_slicing_1.png)"
   ]
  },
  {
   "cell_type": "markdown",
   "metadata": {},
   "source": [
    "**Syntax** \n",
    "\n",
    "```python\n",
    "<collection>[start: end + 1: step]\n",
    "```\n",
    "**Example**"
   ]
  },
  {
   "cell_type": "code",
   "execution_count": 1,
   "metadata": {},
   "outputs": [
    {
     "name": "stdout",
     "output_type": "stream",
     "text": [
      "a\n"
     ]
    }
   ],
   "source": [
    "name = \"Manish\"\n",
    "print(name[1:2])"
   ]
  },
  {
   "cell_type": "code",
   "execution_count": 1,
   "metadata": {},
   "outputs": [
    {
     "name": "stdout",
     "output_type": "stream",
     "text": [
      "ai\n"
     ]
    }
   ],
   "source": [
    "p = \"Manish\"\n",
    "print(p[1: -1: 2])"
   ]
  },
  {
   "cell_type": "markdown",
   "metadata": {},
   "source": [
    "### Python indexes:\n",
    "-------\n",
    "\n",
    "(when Step is +ve)\n",
    "+ Default Start is first element in sequnce **order**.\n",
    "+ Count from the end if they are negative.\n",
    "+ Can be defined as sections, in the form `[start: (one step before you stop) : step]`. If not set the start, it will be considered as zero. If not set end + 1, it will be considered the size of the object. The step (between characters), if not set, is 1.\n",
    "\n",
    "> **!!! TIP !!!**: \n",
    "It is possible to invert *strings* or other iterable data type by using a negative step:"
   ]
  },
  {
   "cell_type": "code",
   "execution_count": 1,
   "metadata": {},
   "outputs": [
    {
     "name": "stdout",
     "output_type": "stream",
     "text": [
      "ns ut\n"
     ]
    }
   ],
   "source": [
    "p = \"Manish Gupta\"\n",
    "print(p[2: -1: 2])"
   ]
  },
  {
   "cell_type": "code",
   "execution_count": 4,
   "metadata": {},
   "outputs": [
    {
     "name": "stdout",
     "output_type": "stream",
     "text": [
      "nM\n"
     ]
    }
   ],
   "source": [
    "p = \"Manish Gupta\"\n",
    "print(p[2::-2])"
   ]
  },
  {
   "cell_type": "code",
   "execution_count": 3,
   "metadata": {},
   "outputs": [
    {
     "name": "stdout",
     "output_type": "stream",
     "text": [
      "apGh\n"
     ]
    }
   ],
   "source": [
    "p = \"Manish Gupta\"\n",
    "print(p[:3: -2])\n",
    "# Since step is -ve, the default start will be `-1`th index element (character)"
   ]
  },
  {
   "cell_type": "code",
   "execution_count": 4,
   "metadata": {},
   "outputs": [
    {
     "name": "stdout",
     "output_type": "stream",
     "text": [
      "auhn\n"
     ]
    }
   ],
   "source": [
    "p = \"Manish Gupta\"\n",
    "print(p[::-3])"
   ]
  },
  {
   "cell_type": "code",
   "execution_count": 3,
   "metadata": {},
   "outputs": [
    {
     "name": "stdout",
     "output_type": "stream",
     "text": [
      "ani\n"
     ]
    }
   ],
   "source": [
    "print(p[1:4])"
   ]
  },
  {
   "cell_type": "code",
   "execution_count": 8,
   "metadata": {},
   "outputs": [
    {
     "name": "stdout",
     "output_type": "stream",
     "text": [
      "Gupt\n"
     ]
    }
   ],
   "source": [
    "print(p[-5:-1])"
   ]
  },
  {
   "cell_type": "code",
   "execution_count": 5,
   "metadata": {},
   "outputs": [
    {
     "name": "stdout",
     "output_type": "stream",
     "text": [
      "M\n"
     ]
    }
   ],
   "source": [
    "st = \"Manish\"\n",
    "print(st[0::-2])"
   ]
  },
  {
   "cell_type": "code",
   "execution_count": 1,
   "metadata": {},
   "outputs": [
    {
     "name": "stdout",
     "output_type": "stream",
     "text": [
      "\n"
     ]
    }
   ],
   "source": [
    "st = \"Python Templates\"\n",
    "print(st[10:2])"
   ]
  },
  {
   "cell_type": "markdown",
   "metadata": {},
   "source": [
    "- **Effects of -ve steps**"
   ]
  },
  {
   "cell_type": "code",
   "execution_count": 2,
   "metadata": {},
   "outputs": [
    {
     "name": "stdout",
     "output_type": "stream",
     "text": [
      "setalpmeT nohtyP\n"
     ]
    }
   ],
   "source": [
    "print(st[::-1])"
   ]
  },
  {
   "cell_type": "markdown",
   "metadata": {},
   "source": [
    "> NOTE:\n",
    "><br/>\n",
    "> If start and end indexes are not provided, then we tarverse from the last element to first element"
   ]
  },
  {
   "cell_type": "code",
   "execution_count": 12,
   "metadata": {},
   "outputs": [
    {
     "name": "stdout",
     "output_type": "stream",
     "text": [
      "\n"
     ]
    }
   ],
   "source": [
    "## Gotcha \n",
    "st = \"Manish Gupta is Genius\"\n",
    "print(st[2:8:-2])"
   ]
  },
  {
   "cell_type": "code",
   "execution_count": 13,
   "metadata": {},
   "outputs": [
    {
     "name": "stdout",
     "output_type": "stream",
     "text": [
      "stlmTn\n",
      "stlmTn\n"
     ]
    }
   ],
   "source": [
    "## Gotcha \n",
    "st = \"Python Templates\"\n",
    "print(st[:4:-2])\n",
    "print(st[:3:-2])"
   ]
  },
  {
   "cell_type": "code",
   "execution_count": 14,
   "metadata": {
    "scrolled": true
   },
   "outputs": [
    {
     "name": "stdout",
     "output_type": "stream",
     "text": [
      "e o\n"
     ]
    }
   ],
   "source": [
    "print(st[8:2:-2])"
   ]
  },
  {
   "cell_type": "code",
   "execution_count": 15,
   "metadata": {},
   "outputs": [
    {
     "name": "stdout",
     "output_type": "stream",
     "text": [
      "suineG si atpuG hsinaM\n"
     ]
    }
   ],
   "source": [
    "# Funny Case, it creates a new string with reversed order.\n",
    "st = \"Manish Gupta is Genius\"\n",
    "print(st[::-1])"
   ]
  },
  {
   "cell_type": "markdown",
   "metadata": {},
   "source": [
    "We can even assign the values to variables as shown below"
   ]
  },
  {
   "cell_type": "code",
   "execution_count": 16,
   "metadata": {},
   "outputs": [
    {
     "name": "stdout",
     "output_type": "stream",
     "text": [
      "suineG si atpuG hsinaM 4413727168 4413708688\n"
     ]
    }
   ],
   "source": [
    "rev = st[::-1]\n",
    "\n",
    "print(rev, id(rev), id(st))"
   ]
  },
  {
   "cell_type": "code",
   "execution_count": 17,
   "metadata": {},
   "outputs": [
    {
     "name": "stdout",
     "output_type": "stream",
     "text": [
      ">u snM< 4413726256 4377566448 4375982168\n"
     ]
    }
   ],
   "source": [
    "rev = st[8::-2]\n",
    "t = \"\"\n",
    "print(\">{rev}<\".format(rev=rev), id(rev), id(t), id(None))"
   ]
  },
  {
   "cell_type": "code",
   "execution_count": 18,
   "metadata": {},
   "outputs": [
    {
     "name": "stdout",
     "output_type": "stream",
     "text": [
      "u s\n"
     ]
    }
   ],
   "source": [
    "rev = st[8:2:-2]\n",
    "print(rev)"
   ]
  },
  {
   "cell_type": "code",
   "execution_count": 19,
   "metadata": {},
   "outputs": [
    {
     "name": "stdout",
     "output_type": "stream",
     "text": [
      "\n"
     ]
    }
   ],
   "source": [
    "print(\"implemented\"[5:7:-2])"
   ]
  },
  {
   "cell_type": "code",
   "execution_count": 20,
   "metadata": {},
   "outputs": [
    {
     "name": "stdout",
     "output_type": "stream",
     "text": [
      "dteepi\n",
      "eepi\n",
      "dte\n"
     ]
    }
   ],
   "source": [
    "print(\"implemented\"[::-2])\n",
    "print(\"implemented\"[-5::-2])\n",
    "print(\"implemented\"[:-7:-2])"
   ]
  },
  {
   "cell_type": "code",
   "execution_count": 21,
   "metadata": {},
   "outputs": [
    {
     "name": "stdout",
     "output_type": "stream",
     "text": [
      "ipeetd\n",
      "mlmne\n",
      "ml\n"
     ]
    }
   ],
   "source": [
    "print(\"implemented\"[::2])\n",
    "print(\"implemented\"[1::2])\n",
    "print(\"implemented\"[1:4:2]) "
   ]
  },
  {
   "cell_type": "code",
   "execution_count": 7,
   "metadata": {
    "scrolled": false
   },
   "outputs": [
    {
     "name": "stdout",
     "output_type": "stream",
     "text": [
      "uten Tag\n",
      "g\n",
      " T\n",
      "gaT ne\n",
      "n\n"
     ]
    }
   ],
   "source": [
    "str1=\"Guten Tag\"\n",
    "print(str1[1:])\n",
    "print(str1[-1:])\n",
    "print(str1[-4:-2])\n",
    "print(str1[-1:2:-1])\n",
    "print(str1[4])"
   ]
  },
  {
   "cell_type": "code",
   "execution_count": 8,
   "metadata": {},
   "outputs": [
    {
     "name": "stdout",
     "output_type": "stream",
     "text": [
      "\n"
     ]
    }
   ],
   "source": [
    "print(str1[-2:4])"
   ]
  },
  {
   "cell_type": "markdown",
   "metadata": {},
   "source": [
    "> ?1 -> starts from i(**m**) and ends"
   ]
  },
  {
   "cell_type": "code",
   "execution_count": 23,
   "metadata": {
    "scrolled": false
   },
   "outputs": [
    {
     "name": "stdout",
     "output_type": "stream",
     "text": [
      "4376284240\n",
      "Mayank Johri\n",
      "id(x) 4413725680\n",
      "x[0:] 4413725680\n",
      "4388083824\n",
      "4413663920\n",
      "Mayank Johri\n",
      "ayank Johri\n",
      "y\n",
      "God knows\n",
      "4413725232\n",
      "4378922032\n",
      "4378644848\n",
      "4378478448\n",
      "G\n",
      "o\n",
      "d\n"
     ]
    }
   ],
   "source": [
    "x = 10\n",
    "print(id(x))\n",
    "x = \"Mayank Johri\"\n",
    "print(x)\n",
    "print(\"id(x)\",id(x))\n",
    "print(\"x[0:]\", id(x[0:]))\n",
    "print(id(x[1:]))\n",
    "print(id(x[2:]))\n",
    "print(x[0:])\n",
    "print(x[1:])\n",
    "print(x[2])\n",
    "\n",
    "x = \"God knows\"\n",
    "print(x)\n",
    "print(id(x))\n",
    "print(id(x[0]))\n",
    "print(id(x[1]))\n",
    "print(id(x[2]))\n",
    "print(x[0])\n",
    "print(x[1])\n",
    "print(x[2])"
   ]
  },
  {
   "cell_type": "code",
   "execution_count": 24,
   "metadata": {},
   "outputs": [
    {
     "name": "stdout",
     "output_type": "stream",
     "text": [
      "[9, 8, 7, 6, 5, 4]\n"
     ]
    }
   ],
   "source": [
    "lst = [1, 3, 4, 5, 6, 7, 8, 9, 10, 11]\n",
    "\n",
    "print(lst[-3: 1: -1])"
   ]
  },
  {
   "cell_type": "markdown",
   "metadata": {},
   "source": [
    "### Changing List using slicing"
   ]
  },
  {
   "cell_type": "markdown",
   "metadata": {},
   "source": [
    "Slicing allows to add/update/remove the elements from a list as shown below"
   ]
  },
  {
   "cell_type": "markdown",
   "metadata": {},
   "source": [
    "#### Adding/Extending elements in existing list "
   ]
  },
  {
   "cell_type": "code",
   "execution_count": 25,
   "metadata": {},
   "outputs": [
    {
     "name": "stdout",
     "output_type": "stream",
     "text": [
      "[1, 11, 10, 9, 8, 7, 3, 4, 5]\n"
     ]
    }
   ],
   "source": [
    "lst = [1, 3, 4, 5]\n",
    "lst_new_users =  [11, 10, 9, 8, 7]\n",
    "\n",
    "# instead of insert + Extend I can use slicing also.\n",
    "lst[1:1] = lst_new_users\n",
    "print(lst)"
   ]
  },
  {
   "cell_type": "code",
   "execution_count": 26,
   "metadata": {},
   "outputs": [
    {
     "name": "stdout",
     "output_type": "stream",
     "text": [
      "[1, 3, 11, 10, 9, 8, 7, 4, 5]\n"
     ]
    }
   ],
   "source": [
    "lst = [1, 3, 4, 5]\n",
    "lst_new_users =  [11, 10, 9, 8, 7]\n",
    "\n",
    "# instead of insert + Extend I can use slicing also.\n",
    "lst[2:2] = lst_new_users\n",
    "print(lst)"
   ]
  },
  {
   "cell_type": "markdown",
   "metadata": {},
   "source": [
    "#### appending elements of list"
   ]
  },
  {
   "cell_type": "code",
   "execution_count": 27,
   "metadata": {},
   "outputs": [
    {
     "name": "stdout",
     "output_type": "stream",
     "text": [
      "[1, 234, 5]\n"
     ]
    }
   ],
   "source": [
    "lst = [1, 2, 3, 4, 5]\n",
    "\n",
    "lst[1:4] = [234]\n",
    "print(lst)"
   ]
  },
  {
   "cell_type": "markdown",
   "metadata": {},
   "source": [
    "In the above example, elements with index value 1, 2 & 3 were removed and '234' was inserted in their place "
   ]
  },
  {
   "cell_type": "code",
   "execution_count": 28,
   "metadata": {},
   "outputs": [
    {
     "name": "stdout",
     "output_type": "stream",
     "text": [
      "[1, 3, 4, 5, 6, 7]\n",
      "[1, 4, 6]\n",
      "[11, 3, 10, 5, 12, 7]\n"
     ]
    }
   ],
   "source": [
    "# Even index element replacing\n",
    "\n",
    "lst = [1, 3, 4, 5, 6, 7]\n",
    "\n",
    "print(lst)\n",
    "print(lst[::2])\n",
    "lst[::2] = [11, 10, 12]\n",
    "print(lst)"
   ]
  },
  {
   "cell_type": "code",
   "execution_count": 29,
   "metadata": {},
   "outputs": [
    {
     "name": "stdout",
     "output_type": "stream",
     "text": [
      "[1, 20, 3, 40, 5]\n"
     ]
    }
   ],
   "source": [
    "# Odd indexed elements\n",
    "lst = [1, 2, 3, 4, 5]\n",
    "lst[1::2] = [20, 40]\n",
    "print(lst)"
   ]
  },
  {
   "cell_type": "markdown",
   "metadata": {},
   "source": [
    "#### Removing elements of list"
   ]
  },
  {
   "cell_type": "code",
   "execution_count": 30,
   "metadata": {
    "scrolled": true
   },
   "outputs": [
    {
     "name": "stdout",
     "output_type": "stream",
     "text": [
      "[1, 5]\n"
     ]
    }
   ],
   "source": [
    "lst = [1, 2, 3, 4, 5]\n",
    "del(lst[1:4])\n",
    "print(lst)"
   ]
  },
  {
   "cell_type": "markdown",
   "metadata": {},
   "source": [
    "In the above example, elements with index value 1, 2 & 3 were removed using `del` keyword"
   ]
  },
  {
   "cell_type": "code",
   "execution_count": 31,
   "metadata": {},
   "outputs": [
    {
     "name": "stdout",
     "output_type": "stream",
     "text": [
      "[1, 5]\n"
     ]
    }
   ],
   "source": [
    "lst = [1, 2, 3, 4, 5]\n",
    "\n",
    "lst[1:4] = []\n",
    "print(lst)"
   ]
  },
  {
   "cell_type": "markdown",
   "metadata": {},
   "source": [
    "In the above example, elements with index value 1, 2 & 3 were removed using `[]`"
   ]
  }
 ],
 "metadata": {
  "kernelspec": {
   "display_name": "Python 3",
   "language": "python",
   "name": "python3"
  },
  "language_info": {
   "codemirror_mode": {
    "name": "ipython",
    "version": 3
   },
   "file_extension": ".py",
   "mimetype": "text/x-python",
   "name": "python",
   "nbconvert_exporter": "python",
   "pygments_lexer": "ipython3",
   "version": "3.8.2"
  }
 },
 "nbformat": 4,
 "nbformat_minor": 2
}
