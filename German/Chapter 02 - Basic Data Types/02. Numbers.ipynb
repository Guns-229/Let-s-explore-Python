{
 "cells": [
  {
   "cell_type": "markdown",
   "metadata": {},
   "source": [
    "## Numeric Data Types"
   ]
  },
  {
   "cell_type": "markdown",
   "metadata": {},
   "source": [
    "Python provide following *builtins* numeric data types:\n",
    "\n",
    "+ Integer (`int`)\n",
    "+ Floating Point real (`float`)\n",
    "+ Complex (`complex`)\n",
    "+ Boolean (`True`, `False`, `None` (its not a boolean data))"
   ]
  },
  {
   "cell_type": "markdown",
   "metadata": {},
   "source": [
    "### Integer"
   ]
  },
  {
   "cell_type": "markdown",
   "metadata": {},
   "source": [
    "Just as the name suggests, Integer consists of both `+ve` and `-ve` integers with no upper or lower size limit. Also they are **immutable data types**.\n",
    "\n",
    "They can be written in any of the following format"
   ]
  },
  {
   "cell_type": "code",
   "execution_count": 1,
   "metadata": {},
   "outputs": [
    {
     "name": "stdout",
     "output_type": "stream",
     "text": [
      "-1010002249999999999 <class 'int'>\n"
     ]
    }
   ],
   "source": [
    "nom = -1010002249999999999\n",
    "print(nom, type(nom))"
   ]
  },
  {
   "cell_type": "code",
   "execution_count": 2,
   "metadata": {},
   "outputs": [
    {
     "name": "stdout",
     "output_type": "stream",
     "text": [
      "999999999999999999999999999999999999999999999999999999999999999999999999999999999999 \n",
      " <class 'int'>\n"
     ]
    }
   ],
   "source": [
    "long_int = 999999999999999999999999999999999999999999999999999999999999999999999999999999999999\n",
    "print(long_int, \"\\n\", type(long_int))"
   ]
  },
  {
   "cell_type": "markdown",
   "metadata": {},
   "source": [
    "With Python version 3.x, to increase the readability of large numbers, it allows them to be written in the following format,"
   ]
  },
  {
   "cell_type": "code",
   "execution_count": 3,
   "metadata": {
    "scrolled": true
   },
   "outputs": [
    {
     "name": "stdout",
     "output_type": "stream",
     "text": [
      "999100000009292 <class 'int'>\n",
      "990100009921 <class 'int'>\n"
     ]
    }
   ],
   "source": [
    "# with only work with 3.x\n",
    "long_int = 999_100_000_009_292    \n",
    "\n",
    "print(long_int, type(long_int))\n",
    "long_int = 99_010_00_09_921\n",
    "print(long_int, type(long_int))"
   ]
  },
  {
   "cell_type": "markdown",
   "metadata": {},
   "source": [
    "> **<center>Note</center>**\n",
    "> <hr/>\n",
    "> - Since, Python 2.4 <b>`long`</b> has been merged in <b>`int`</b>. (PEP 237)"
   ]
  },
  {
   "cell_type": "markdown",
   "metadata": {},
   "source": [
    "There is no limit of length of data in `int` or any other data type"
   ]
  },
  {
   "cell_type": "code",
   "execution_count": 5,
   "metadata": {},
   "outputs": [
    {
     "name": "stdout",
     "output_type": "stream",
     "text": [
      "999999999999999999999999999999999999999999999999999999999999999999999999999999999999999\n",
      "<class 'int'>\n"
     ]
    }
   ],
   "source": [
    "# +ve Integer\n",
    "i = 999999999999999999999999999999999999999999999999999999999999999999999999999999999999999\n",
    "print(i)\n",
    "print(type(i))"
   ]
  },
  {
   "cell_type": "code",
   "execution_count": 6,
   "metadata": {
    "scrolled": true
   },
   "outputs": [
    {
     "name": "stdout",
     "output_type": "stream",
     "text": [
      "-9999999999999999999999999999999999999999999999999999\n",
      "<class 'int'>\n"
     ]
    }
   ],
   "source": [
    "# -ve Integer\n",
    "i = -9999999999999999999999999999999999999999999999999999\n",
    "print(i)\n",
    "print(type(i))"
   ]
  },
  {
   "cell_type": "markdown",
   "metadata": {},
   "source": [
    "### Float"
   ]
  },
  {
   "cell_type": "markdown",
   "metadata": {},
   "source": [
    "All numeric data with decimal values are `float` in Python."
   ]
  },
  {
   "cell_type": "code",
   "execution_count": 8,
   "metadata": {},
   "outputs": [
    {
     "name": "stdout",
     "output_type": "stream",
     "text": [
      "10.2 <class 'float'>\n",
      "3.3333333333333335 <class 'float'>\n",
      "10.0 <class 'float'>\n"
     ]
    }
   ],
   "source": [
    "a = 10.2\n",
    "b = 10/3\n",
    "c = 10.0\n",
    "print(a, type(a))\n",
    "print(b, type(b))\n",
    "print(c, type(c))"
   ]
  },
  {
   "cell_type": "markdown",
   "metadata": {},
   "source": [
    "> <center>Note</center>\n",
    "> <hr>\n",
    "> All \"/\" division operation results in float as shown above"
   ]
  },
  {
   "cell_type": "markdown",
   "metadata": {},
   "source": [
    "### Complex Numbers"
   ]
  },
  {
   "cell_type": "code",
   "execution_count": 5,
   "metadata": {},
   "outputs": [
    {
     "name": "stdout",
     "output_type": "stream",
     "text": [
      "(3.422+4.2j) <class 'complex'>\n",
      "3.422 4.2\n"
     ]
    }
   ],
   "source": [
    "# Getting the integer from complex number\n",
    "\n",
    "a = 3.422 + 4.2j\n",
    "print(a, type(a))\n",
    "print(a.real, a.imag)"
   ]
  },
  {
   "cell_type": "markdown",
   "metadata": {},
   "source": [
    "### Converting other numeric data to `int`"
   ]
  },
  {
   "cell_type": "markdown",
   "metadata": {},
   "source": [
    "The builtin function `int()` can be used to convert other types to integer, including base changes. \n",
    "\n",
    "*Example*:"
   ]
  },
  {
   "cell_type": "code",
   "execution_count": 8,
   "metadata": {},
   "outputs": [
    {
     "name": "stdout",
     "output_type": "stream",
     "text": [
      "int(3.14) = 3\n",
      "int(3.64) = 3\n"
     ]
    }
   ],
   "source": [
    "# Converting float to integer\n",
    "\n",
    "print ('int(3.14) =', int(3.14))\n",
    "print ('int(3.64) =', int(3.64))  # Not rounding the values"
   ]
  },
  {
   "cell_type": "code",
   "execution_count": 8,
   "metadata": {},
   "outputs": [
    {
     "name": "stdout",
     "output_type": "stream",
     "text": [
      "int(\"22\") = 22 <class 'int'>\n"
     ]
    }
   ],
   "source": [
    "# Conversion from string to int is possible provided string contain \n",
    "# ONLY whole number\n",
    "val = int(\"22\")\n",
    "print('int(\"22\") =', val, type(val))  "
   ]
  },
  {
   "cell_type": "markdown",
   "metadata": {},
   "source": [
    "**Note:** Converting other data types to `int` such as `float` within string will fall as shown in the below example\n",
    "```PYTHON\n",
    "print('int(\"22.0\") !=', int(\"22.0\"))\n",
    "```\n",
    "\n",
    "```log\n",
    "---------------------------------------------------------------------------\n",
    "ValueError                                Traceback (most recent call last)\n",
    "<ipython-input-9-8e518d0771bb> in <module>()\n",
    "----> 1 print('int(\"22.0\") !=', int(\"22.0\"))\n",
    "\n",
    "ValueError: invalid literal for int() with base 10: '22.0'\n",
    "```     "
   ]
  },
  {
   "cell_type": "markdown",
   "metadata": {},
   "source": [
    "In order to covert the above string, it should be first converted into its actual format (in this case `float`) and than converted to `int` as shown in the belwo example"
   ]
  },
  {
   "cell_type": "code",
   "execution_count": 9,
   "metadata": {},
   "outputs": [
    {
     "name": "stdout",
     "output_type": "stream",
     "text": [
      "int(\"22.8\") == 22\n"
     ]
    }
   ],
   "source": [
    "print('int(\"22.8\") ==', int(float(\"22.8\")))"
   ]
  },
  {
   "cell_type": "markdown",
   "metadata": {},
   "source": [
    "Also, complex numbers can't be converted to integers as shown below, instead we can use `complex.real` to achieve it."
   ]
  },
  {
   "cell_type": "markdown",
   "metadata": {},
   "source": [
    "```python\n",
    "print(\"int(3+4j) =\", int(3 + 4j))\n",
    "```\n",
    "```log\n",
    "---------------------------------------------------------------------------\n",
    "TypeError                                 Traceback (most recent call last)\n",
    "<ipython-input-11-6fb3672eabe6> in <module>()\n",
    "----> 1 print(\"int(3+4j) =\", int(3 + 4j))\n",
    "\n",
    "TypeError: can't convert complex to int\n",
    "```\n"
   ]
  },
  {
   "cell_type": "code",
   "execution_count": 10,
   "metadata": {},
   "outputs": [
    {
     "name": "stdout",
     "output_type": "stream",
     "text": [
      "10\n"
     ]
    }
   ],
   "source": [
    "i = int(a.real)\n",
    "print(i)"
   ]
  },
  {
   "cell_type": "code",
   "execution_count": 14,
   "metadata": {},
   "outputs": [
    {
     "name": "stdout",
     "output_type": "stream",
     "text": [
      "4\n"
     ]
    }
   ],
   "source": [
    "i = int(a.imag)\n",
    "print(i)"
   ]
  },
  {
   "cell_type": "markdown",
   "metadata": {},
   "source": [
    "### Converting other numeric data to `float`"
   ]
  },
  {
   "cell_type": "code",
   "execution_count": 12,
   "metadata": {},
   "outputs": [
    {
     "name": "stdout",
     "output_type": "stream",
     "text": [
      "float(5) = 5.0\n"
     ]
    }
   ],
   "source": [
    "# Converting integer to float\n",
    "print ('float(5) =', float(5))"
   ]
  },
  {
   "cell_type": "code",
   "execution_count": 17,
   "metadata": {},
   "outputs": [
    {
     "name": "stdout",
     "output_type": "stream",
     "text": [
      "5 = 5.0\n"
     ]
    }
   ],
   "source": [
    "# Converting integer to float using division operator \n",
    "print ('5 =', 5/1)"
   ]
  },
  {
   "cell_type": "code",
   "execution_count": 18,
   "metadata": {},
   "outputs": [
    {
     "name": "stdout",
     "output_type": "stream",
     "text": [
      "float(\"22.8\") == 22.8\n",
      "float(\"228\") == 228.0\n"
     ]
    }
   ],
   "source": [
    "print('float(\"22.8\") ==', float(\"22.8\"))\n",
    "print('float(\"228\") ==', float(\"228\"))"
   ]
  },
  {
   "cell_type": "code",
   "execution_count": 15,
   "metadata": {},
   "outputs": [
    {
     "name": "stdout",
     "output_type": "stream",
     "text": [
      "5 / 2 + 3 =  5.5\n"
     ]
    }
   ],
   "source": [
    "# Auto conversion\n",
    "\n",
    "# Calculation between integer and real results in real\n",
    "print ('5 / 2 + 3 = ', 5/2 + 3)"
   ]
  },
  {
   "cell_type": "code",
   "execution_count": 19,
   "metadata": {},
   "outputs": [
    {
     "name": "stdout",
     "output_type": "stream",
     "text": [
      "3.5 2.5 6.0\n",
      "<class 'float'> <class 'float'> <class 'float'>\n"
     ]
    }
   ],
   "source": [
    "# Adding floats will always result in float.\n",
    "x = 3.5\n",
    "y = 2.5\n",
    "z = x + y\n",
    "print(x, y, z)\n",
    "print(type(x), type(y), type(z))"
   ]
  },
  {
   "cell_type": "code",
   "execution_count": 22,
   "metadata": {},
   "outputs": [
    {
     "name": "stdout",
     "output_type": "stream",
     "text": [
      "2.0 2.5 5.0\n",
      "<class 'float'> <class 'float'> <class 'float'>\n"
     ]
    }
   ],
   "source": [
    "# Multiplying floats will always result in float.\n",
    "x = 2.0\n",
    "y = 2.5\n",
    "z = x * y\n",
    "print(x, y, z)\n",
    "print(type(x), type(y), type(z))"
   ]
  },
  {
   "cell_type": "code",
   "execution_count": 23,
   "metadata": {},
   "outputs": [
    {
     "name": "stdout",
     "output_type": "stream",
     "text": [
      "2 2.5 5.0\n",
      "<class 'int'> <class 'float'> <class 'float'>\n"
     ]
    }
   ],
   "source": [
    "# Multiplying floats & int will always result in float.\n",
    "x = 2\n",
    "y = 2.5\n",
    "z = x * y\n",
    "print(x, y, z)\n",
    "print(type(x), type(y), type(z))"
   ]
  },
  {
   "cell_type": "code",
   "execution_count": 17,
   "metadata": {},
   "outputs": [
    {
     "name": "stdout",
     "output_type": "stream",
     "text": [
      "6.0 <class 'float'>\n",
      "6 <class 'int'>\n"
     ]
    }
   ],
   "source": [
    "print(z, type(z))\n",
    "z = int(z)\n",
    "print(z, type(z))"
   ]
  },
  {
   "cell_type": "code",
   "execution_count": 5,
   "metadata": {},
   "outputs": [
    {
     "name": "stdout",
     "output_type": "stream",
     "text": [
      "int('10', 8) = 8\n",
      "int('A', 16) = 10\n",
      "int() can't convert non-string with explicit base\n"
     ]
    }
   ],
   "source": [
    "# Integers in other base\n",
    "print (\"int('10', 8) =\", int('10', 8)) # base 8\n",
    "print (\"int('A', 16) =\", int('A', 16)) # base 16\n",
    "try:\n",
    "    print (\"int('33', 8) =\", int(33, 8)) # base 8\n",
    "except Exception as e:\n",
    "    print(e)"
   ]
  },
  {
   "cell_type": "code",
   "execution_count": 19,
   "metadata": {},
   "outputs": [
    {
     "name": "stdout",
     "output_type": "stream",
     "text": [
      "c = (3+4j)\n",
      "Real Part: 3.0\n",
      "Imaginary Part: 4.0\n",
      "Conjugate: (3-4j)\n"
     ]
    }
   ],
   "source": [
    "# Operations with complex numbers\n",
    "c = 3 + 4j\n",
    "print ('c =', c)\n",
    "\n",
    "print ('Real Part:', c.real)\n",
    "print ('Imaginary Part:', c.imag)\n",
    "print ('Conjugate:', c.conjugate())"
   ]
  },
  {
   "cell_type": "markdown",
   "metadata": {},
   "source": [
    "### Converting Unicode numbers to numbers"
   ]
  },
  {
   "cell_type": "markdown",
   "metadata": {},
   "source": [
    "#### Integers"
   ]
  },
  {
   "cell_type": "markdown",
   "metadata": {},
   "source": [
    "We can use `unicodedata`'s `numeric` function to convert single unicode **digit** to integer "
   ]
  },
  {
   "cell_type": "code",
   "execution_count": 26,
   "metadata": {},
   "outputs": [
    {
     "name": "stdout",
     "output_type": "stream",
     "text": [
      "੪ = 4.0\n"
     ]
    }
   ],
   "source": [
    "from unicodedata import numeric\n",
    "\n",
    "num = \"੪\"   # 4 in punjabi\n",
    "print(num, \"=\", numeric(num))"
   ]
  },
  {
   "cell_type": "code",
   "execution_count": 28,
   "metadata": {},
   "outputs": [
    {
     "name": "stdout",
     "output_type": "stream",
     "text": [
      "10.0\n"
     ]
    }
   ],
   "source": [
    "from unicodedata import numeric\n",
    "\n",
    "num = \"൰\"   # 10 in Malayalam\n",
    "print(numeric(num))"
   ]
  },
  {
   "cell_type": "code",
   "execution_count": 29,
   "metadata": {},
   "outputs": [
    {
     "name": "stdout",
     "output_type": "stream",
     "text": [
      "could not convert string to float: '൰'\n"
     ]
    }
   ],
   "source": [
    "# float cannot handle cases where single numeric character \n",
    "# represents value having multiple characters such as \n",
    "# ൰ represents 10 in Malyalam.\n",
    "\n",
    "try:\n",
    "    float(num)\n",
    "except Exception as e:\n",
    "    print(e)"
   ]
  },
  {
   "cell_type": "code",
   "execution_count": 23,
   "metadata": {},
   "outputs": [
    {
     "name": "stdout",
     "output_type": "stream",
     "text": [
      "not a numeric character\n"
     ]
    }
   ],
   "source": [
    "from unicodedata import numeric\n",
    "\n",
    "try:\n",
    "    a = \"௺\"\n",
    "    print(numeric(a))\n",
    "except Exception as e:\n",
    "    print(e)"
   ]
  },
  {
   "cell_type": "markdown",
   "metadata": {},
   "source": [
    "#### Float"
   ]
  },
  {
   "cell_type": "code",
   "execution_count": 24,
   "metadata": {
    "scrolled": true
   },
   "outputs": [
    {
     "name": "stdout",
     "output_type": "stream",
     "text": [
      "0.75\n"
     ]
    }
   ],
   "source": [
    "from unicodedata import numeric\n",
    "\n",
    "threebyfour = \"¾\"\n",
    "print(numeric(threebyfour))"
   ]
  },
  {
   "cell_type": "markdown",
   "metadata": {},
   "source": [
    "`float` function can also convert few of the unicode numeric data type but not all as shown in the below examples."
   ]
  },
  {
   "cell_type": "code",
   "execution_count": 30,
   "metadata": {},
   "outputs": [
    {
     "name": "stdout",
     "output_type": "stream",
     "text": [
      "55.5\n"
     ]
    }
   ],
   "source": [
    "print(float('۵۵.۵'))"
   ]
  },
  {
   "cell_type": "code",
   "execution_count": 31,
   "metadata": {},
   "outputs": [
    {
     "name": "stdout",
     "output_type": "stream",
     "text": [
      "44.594\n"
     ]
    }
   ],
   "source": [
    "try:\n",
    "    print(float('੪੪.൫൯൪'))\n",
    "except Exception as e:\n",
    "    print(e)"
   ]
  },
  {
   "cell_type": "code",
   "execution_count": 27,
   "metadata": {},
   "outputs": [
    {
     "name": "stdout",
     "output_type": "stream",
     "text": [
      "6.0\n"
     ]
    }
   ],
   "source": [
    "print(numeric(\"౬\"))"
   ]
  },
  {
   "cell_type": "markdown",
   "metadata": {},
   "source": [
    "but might fail for special unicode numbers such as `൰`, `൱` etc which represent `10` and `100` respectively."
   ]
  },
  {
   "cell_type": "code",
   "execution_count": 28,
   "metadata": {},
   "outputs": [
    {
     "name": "stdout",
     "output_type": "stream",
     "text": [
      "!!! ERROR !!!: could not convert string to float: '൰'\n"
     ]
    }
   ],
   "source": [
    "try:\n",
    "    print(float('൰'))\n",
    "except Exception as e:\n",
    "    print(\"!!! ERROR !!!:\",e)"
   ]
  },
  {
   "cell_type": "code",
   "execution_count": 32,
   "metadata": {},
   "outputs": [
    {
     "name": "stdout",
     "output_type": "stream",
     "text": [
      "100.0\n"
     ]
    }
   ],
   "source": [
    "try:\n",
    "    print(numeric('൱'))\n",
    "except Exception as e:\n",
    "    print(\"!!! ERROR !!!:\",e)"
   ]
  },
  {
   "cell_type": "markdown",
   "metadata": {},
   "source": [
    "### Gocha's in numbers"
   ]
  },
  {
   "cell_type": "code",
   "execution_count": 30,
   "metadata": {},
   "outputs": [
    {
     "name": "stdout",
     "output_type": "stream",
     "text": [
      "0.30000000000000004\n"
     ]
    }
   ],
   "source": [
    "a = 0.1\n",
    "b = 0.2\n",
    "\n",
    "print(a + b)"
   ]
  },
  {
   "cell_type": "code",
   "execution_count": 16,
   "metadata": {},
   "outputs": [
    {
     "name": "stdout",
     "output_type": "stream",
     "text": [
      "False\n"
     ]
    }
   ],
   "source": [
    "a = .1\n",
    "b = .2\n",
    "c = 0.3\n",
    "\n",
    "print(a + b == c)"
   ]
  },
  {
   "cell_type": "markdown",
   "metadata": {},
   "source": [
    "#### Reference:\n",
    "    - https://docs.python.org/2/tutorial/floatingpoint.html"
   ]
  }
 ],
 "metadata": {
  "kernelspec": {
   "display_name": "Python 3",
   "language": "python",
   "name": "python3"
  },
  "language_info": {
   "codemirror_mode": {
    "name": "ipython",
    "version": 3
   },
   "file_extension": ".py",
   "mimetype": "text/x-python",
   "name": "python",
   "nbconvert_exporter": "python",
   "pygments_lexer": "ipython3",
   "version": "3.8.2"
  }
 },
 "nbformat": 4,
 "nbformat_minor": 2
}
