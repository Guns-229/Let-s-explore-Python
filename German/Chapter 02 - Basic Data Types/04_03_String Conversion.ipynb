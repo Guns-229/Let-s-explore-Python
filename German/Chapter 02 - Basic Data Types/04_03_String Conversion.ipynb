{
 "cells": [
  {
   "cell_type": "markdown",
   "metadata": {},
   "source": [
    "## String Conversion"
   ]
  },
  {
   "cell_type": "markdown",
   "metadata": {},
   "source": [
    "### raw to Normal String"
   ]
  },
  {
   "cell_type": "code",
   "execution_count": 1,
   "metadata": {},
   "outputs": [
    {
     "name": "stdout",
     "output_type": "stream",
     "text": [
      "raw string: Roshan Musheer's car is always\\ntoo small for him. ;)\n",
      "Roshan Musheer's car is always\n",
      "too small for him. ;)\n"
     ]
    }
   ],
   "source": [
    "import codecs\n",
    "\n",
    "raw_str = r\"Roshan Musheer's car is always\\ntoo small for him. ;)\"\n",
    "\n",
    "print(\"raw string:\", raw_str)\n",
    "\n",
    "print(codecs.decode(raw_str, \"unicode_escape\"))"
   ]
  },
  {
   "cell_type": "markdown",
   "metadata": {},
   "source": [
    "### Normal to raw "
   ]
  },
  {
   "cell_type": "code",
   "execution_count": 2,
   "metadata": {},
   "outputs": [
    {
     "name": "stdout",
     "output_type": "stream",
     "text": [
      "Roshan Musheer's car is always\n",
      "too small for him. ;)\n"
     ]
    }
   ],
   "source": [
    "a = \"Roshan Musheer's car is always\\ntoo small for him. ;)\"\n",
    "print(a)"
   ]
  },
  {
   "cell_type": "code",
   "execution_count": 3,
   "metadata": {},
   "outputs": [
    {
     "name": "stdout",
     "output_type": "stream",
     "text": [
      "\"Roshan Musheer's car is always\\ntoo small for him. ;)\"\n"
     ]
    }
   ],
   "source": [
    "print(\"%r\" % a)"
   ]
  },
  {
   "cell_type": "markdown",
   "metadata": {},
   "source": [
    "We can even store the raw string to a variable as shown in the below example. "
   ]
  },
  {
   "cell_type": "code",
   "execution_count": 4,
   "metadata": {},
   "outputs": [
    {
     "name": "stdout",
     "output_type": "stream",
     "text": [
      "\"Roshan Musheer's car is always\\ntoo small for him. ;)\"\n"
     ]
    }
   ],
   "source": [
    "x = \"%r\" % a\n",
    "print(x)"
   ]
  },
  {
   "cell_type": "code",
   "execution_count": 5,
   "metadata": {},
   "outputs": [
    {
     "name": "stdout",
     "output_type": "stream",
     "text": [
      "C:\n",
      "ew_apps\\myapp\\conf.conf\n"
     ]
    }
   ],
   "source": [
    "conf_path = \"C:\\new_apps\\myapp\\conf.conf\"\n",
    "print(conf_path)"
   ]
  },
  {
   "cell_type": "code",
   "execution_count": 6,
   "metadata": {},
   "outputs": [
    {
     "name": "stdout",
     "output_type": "stream",
     "text": [
      "'C:\\new_apps\\\\myapp\\\\conf.conf'\n"
     ]
    }
   ],
   "source": [
    "raw_conf_path = \"%r\" % conf_path\n",
    "print(raw_conf_path)"
   ]
  }
 ],
 "metadata": {
  "kernelspec": {
   "display_name": "Python 3",
   "language": "python",
   "name": "python3"
  },
  "language_info": {
   "codemirror_mode": {
    "name": "ipython",
    "version": 3
   },
   "file_extension": ".py",
   "mimetype": "text/x-python",
   "name": "python",
   "nbconvert_exporter": "python",
   "pygments_lexer": "ipython3",
   "version": "3.7.4"
  }
 },
 "nbformat": 4,
 "nbformat_minor": 2
}
