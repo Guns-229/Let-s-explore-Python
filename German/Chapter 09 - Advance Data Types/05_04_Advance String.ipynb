{
 "cells": [
  {
   "cell_type": "markdown",
   "metadata": {},
   "source": [
    "### `maketrans` & `translate`"
   ]
  },
  {
   "cell_type": "markdown",
   "metadata": {},
   "source": [
    "This `static` method returns a translation table usable for `str.translate()` based on the parameters passed to it.\n",
    "\n",
    "If only one argument is provided then, it must be a dictionary mapping Unicode ordinals (integers) or characters (strings of length 1) to Unicode ordinals, strings (of arbitrary lengths) or None. Character keys will then be converted to ordinals.\n",
    "\n",
    "If there are two arguments, they must be strings of equal length, and in the resulting dictionary, each character in x will be mapped to the character at the same position in y. If there is a third argument, it must be a string, whose characters will be mapped to None in the result."
   ]
  },
  {
   "cell_type": "markdown",
   "metadata": {},
   "source": [
    "```python\n",
    "static str.maketrans(x[, y[, z]])\n",
    "```\n",
    "\n",
    "where\n",
    "\n",
    "- If only one argument is present then, \n",
    "    - it must be a dictionary. and \n",
    "    - it should contain 1-to-1 mapping from a single character string to its translation OR an Unicode ordinals (97 for 'a') to its translation.\n",
    "- If two arguments (`x` & `y`) are present then, \n",
    "    - they both are strings of equal length. \n",
    "    - Each character in the first string is a replacement to its corresponding index in the second string.\n",
    "- z: If all three arguments (`x`, `y` & `z`) are present \n",
    "    - `z` should also be a string\n",
    "    - Each character in the third argument is mapped to None."
   ]
  },
  {
   "cell_type": "markdown",
   "metadata": {},
   "source": [
    "```python\n",
    "str.translate(map)\n",
    "```\n"
   ]
  },
  {
   "cell_type": "markdown",
   "metadata": {},
   "source": [
    "#### `maketrans` with one parameter"
   ]
  },
  {
   "cell_type": "markdown",
   "metadata": {},
   "source": [
    "We need to pass a dictionary with both properties details above"
   ]
  },
  {
   "cell_type": "code",
   "execution_count": 1,
   "metadata": {},
   "outputs": [
    {
     "name": "stdout",
     "output_type": "stream",
     "text": [
      "Translated string: A good boss \b.\n"
     ]
    }
   ],
   "source": [
    "dis = {\n",
    "    'a': 'boss ',\n",
    "    'b': 'good ',\n",
    "    'c': 'A '\n",
    "}\n",
    "\n",
    "trans = str.maketrans(dis)\n",
    "\n",
    "print(\"Translated string:\", \"cba\\b.\".translate(trans))"
   ]
  },
  {
   "cell_type": "code",
   "execution_count": 2,
   "metadata": {},
   "outputs": [
    {
     "name": "stdout",
     "output_type": "stream",
     "text": [
      "Translated string: 656463.\n"
     ]
    }
   ],
   "source": [
    "dis = {\n",
    "    'a': '63',\n",
    "    'b': '64',\n",
    "    'c': '65'\n",
    "}\n",
    "\n",
    "trans = str.maketrans(dis)\n",
    "\n",
    "print(\"Translated string:\", \"cba.\".translate(trans))"
   ]
  },
  {
   "cell_type": "markdown",
   "metadata": {},
   "source": [
    "You can see that text \"abc.\" got transformed to \"A good boss .\". Note, `.` at the end of the string, as it was not present in the translation dictionary thus it was not converted and remained as it is."
   ]
  },
  {
   "cell_type": "markdown",
   "metadata": {},
   "source": [
    "#### `maketrans` with two parameters"
   ]
  },
  {
   "cell_type": "markdown",
   "metadata": {},
   "source": [
    "We need two equal size strings as parameters"
   ]
  },
  {
   "cell_type": "code",
   "execution_count": 3,
   "metadata": {},
   "outputs": [
    {
     "name": "stdout",
     "output_type": "stream",
     "text": [
      "Translated string: ੴ. ༀ\n"
     ]
    }
   ],
   "source": [
    "firstString = \"abc\"\n",
    "secondString = \"ॐༀੴ\"\n",
    "translation = str.maketrans(firstString, secondString)\n",
    "\n",
    "print(\"Translated string:\", \"c. b\".translate(translation))"
   ]
  },
  {
   "cell_type": "markdown",
   "metadata": {},
   "source": [
    "#### `maketrans` with three parameters"
   ]
  },
  {
   "cell_type": "code",
   "execution_count": 4,
   "metadata": {
    "scrolled": false
   },
   "outputs": [
    {
     "name": "stdout",
     "output_type": "stream",
     "text": [
      "Original string: abcd\n",
      "Translated string: zd\n"
     ]
    }
   ],
   "source": [
    "firstString = \"abc\"\n",
    "secondString = \"xyz\"\n",
    "thirdString = \"ab\"\n",
    "\n",
    "string = \"abcd\"\n",
    "print(\"Original string:\", string)\n",
    "\n",
    "translation = str.maketrans(firstString, secondString, thirdString)\n",
    "\n",
    "# translate string\n",
    "print(\"Translated string:\", string.translate(translation))"
   ]
  },
  {
   "cell_type": "code",
   "execution_count": null,
   "metadata": {},
   "outputs": [],
   "source": []
  }
 ],
 "metadata": {
  "kernelspec": {
   "display_name": "Python 3",
   "language": "python",
   "name": "python3"
  },
  "language_info": {
   "codemirror_mode": {
    "name": "ipython",
    "version": 3
   },
   "file_extension": ".py",
   "mimetype": "text/x-python",
   "name": "python",
   "nbconvert_exporter": "python",
   "pygments_lexer": "ipython3",
   "version": "3.7.4"
  }
 },
 "nbformat": 4,
 "nbformat_minor": 2
}
