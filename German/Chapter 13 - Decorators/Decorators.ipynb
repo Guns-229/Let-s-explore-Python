{
 "cells": [
  {
   "cell_type": "markdown",
   "metadata": {},
   "source": [
    "# Decorators"
   ]
  },
  {
   "cell_type": "markdown",
   "metadata": {},
   "source": [
    "## Introduction"
   ]
  },
  {
   "cell_type": "markdown",
   "metadata": {},
   "source": [
    "A decorator is the name used for a software design pattern. Decorators dynamically alter the functionality of a function, method, or class without having to directly use subclasses or change the source code of the function being decorated.\n",
    "\n",
    "Python decorator is a specific change to the Python syntax that allows us to more conveniently alter functions and methods (and possibly classes in a future version). This supports more readable applications of the DecoratorPattern but also other uses as well."
   ]
  },
  {
   "cell_type": "code",
   "execution_count": 2,
   "metadata": {},
   "outputs": [],
   "source": [
    "def bread(test_funct):\n",
    "    def hyderabad(c=\"\"):\n",
    "        print(\"</''''''\\>\")\n",
    "        test_funct(c)\n",
    "        print(\"<\\______/>\")\n",
    "    return hyderabad\n",
    "\n",
    "def ingredients(test_funct):\n",
    "    def chennai(c=\"\"):\n",
    "        print(\"#tomatoes#\")\n",
    "        test_funct(c)\n",
    "        print(\"~salad~\")\n",
    "    return chennai\n",
    "\n",
    "def cheese(food=\"--Say Cheese--\"):\n",
    "    print(food)"
   ]
  },
  {
   "cell_type": "code",
   "execution_count": 2,
   "metadata": {},
   "outputs": [
    {
     "name": "stdout",
     "output_type": "stream",
     "text": [
      "<function bread.<locals>.hyderabad at 0x108b1a290>\n",
      "...\n",
      "<function bread.<locals>.hyderabad at 0x108b1a560>\n"
     ]
    }
   ],
   "source": [
    "ch = bread(cheese)\n",
    "print(ch)\n",
    "print(\"...\")\n",
    "ch1 = bread(cheese)\n",
    "print(ch1)"
   ]
  },
  {
   "cell_type": "code",
   "execution_count": 3,
   "metadata": {},
   "outputs": [
    {
     "name": "stdout",
     "output_type": "stream",
     "text": [
      "</''''''\\>\n",
      "Egg Plant\n",
      "<\\______/>\n"
     ]
    }
   ],
   "source": [
    "ch(\"Egg Plant\")"
   ]
  },
  {
   "cell_type": "code",
   "execution_count": 4,
   "metadata": {},
   "outputs": [
    {
     "name": "stdout",
     "output_type": "stream",
     "text": [
      "</''''''\\>\n",
      "#tomatoes#\n",
      "Potato Chips\n",
      "~salad~\n",
      "<\\______/>\n"
     ]
    }
   ],
   "source": [
    "inn = bread(ingredients(cheese))\n",
    "inn(\"Potato Chips\")"
   ]
  },
  {
   "cell_type": "code",
   "execution_count": 5,
   "metadata": {},
   "outputs": [
    {
     "name": "stdout",
     "output_type": "stream",
     "text": [
      "#tomatoes#\n",
      "</''''''\\>\n",
      "Potato Chips\n",
      "<\\______/>\n",
      "~salad~\n"
     ]
    }
   ],
   "source": [
    "inn = ingredients(bread(cheese))\n",
    "inn(\"Potato Chips\")"
   ]
  },
  {
   "cell_type": "markdown",
   "metadata": {},
   "source": [
    "## Function Decorators"
   ]
  },
  {
   "cell_type": "markdown",
   "metadata": {},
   "source": [
    "A function decorator is applied to a function definition by placing it on the line before that function definition begins"
   ]
  },
  {
   "cell_type": "code",
   "execution_count": 6,
   "metadata": {},
   "outputs": [
    {
     "name": "stdout",
     "output_type": "stream",
     "text": [
      "</''''''\\>\n",
      "#tomatoes#\n",
      "Potato Chips\n",
      "~salad~\n",
      "<\\______/>\n"
     ]
    }
   ],
   "source": [
    "@bread\n",
    "@ingredients\n",
    "def sandwich(food=\"--Say Cheese--\"):\n",
    "    print(food)\n",
    "\n",
    "sandwich(\"Potato Chips\")"
   ]
  },
  {
   "cell_type": "markdown",
   "metadata": {},
   "source": [
    "> ***!!! Order Matters !!!*** "
   ]
  },
  {
   "cell_type": "code",
   "execution_count": 7,
   "metadata": {},
   "outputs": [
    {
     "name": "stdout",
     "output_type": "stream",
     "text": [
      "#tomatoes#\n",
      "</''''''\\>\n",
      "Kashimiri Mirch\n",
      "<\\______/>\n",
      "~salad~\n"
     ]
    }
   ],
   "source": [
    "@ingredients\n",
    "@bread\n",
    "def sandwich(food=\"--Say Cheese--\"):\n",
    "    print(food)\n",
    "\n",
    "sandwich(\"Kashimiri Mirch\")"
   ]
  },
  {
   "cell_type": "code",
   "execution_count": 8,
   "metadata": {},
   "outputs": [
    {
     "name": "stdout",
     "output_type": "stream",
     "text": [
      "Jam\n"
     ]
    }
   ],
   "source": [
    "def hotdog(food=\"Jam\"):\n",
    "    print(food)\n",
    "\n",
    "hotdog()"
   ]
  },
  {
   "cell_type": "code",
   "execution_count": 3,
   "metadata": {},
   "outputs": [
    {
     "name": "stdout",
     "output_type": "stream",
     "text": [
      "</''''''\\>\n",
      "#tomatoes#\n",
      "Jam\n",
      "~salad~\n",
      "<\\______/>\n"
     ]
    }
   ],
   "source": [
    "@bread\n",
    "@ingredients\n",
    "def hotdog(food):\n",
    "    print(food)\n",
    "\n",
    "hotdog(\"Jam\")"
   ]
  },
  {
   "cell_type": "code",
   "execution_count": 10,
   "metadata": {},
   "outputs": [
    {
     "name": "stdout",
     "output_type": "stream",
     "text": [
      "Yummy\n"
     ]
    }
   ],
   "source": [
    "def sandwich(food=\"--Say Cheese--\"):\n",
    "    print(food)\n",
    "\n",
    "sandwich(\"Yummy\")"
   ]
  },
  {
   "cell_type": "code",
   "execution_count": 11,
   "metadata": {},
   "outputs": [
    {
     "name": "stdout",
     "output_type": "stream",
     "text": [
      "</''''''\\>\n",
      "salad\n",
      "<\\______/>\n"
     ]
    }
   ],
   "source": [
    "# By omiting the `inner_funct in `inner`, I am making sure that my decorated \n",
    "# function is very called. \n",
    "\n",
    "def diet_sandwitch(inner_func):\n",
    "    def inner(c):\n",
    "        print(\"salad\")\n",
    "    return inner\n",
    "\n",
    "@bread\n",
    "@diet_sandwitch\n",
    "@ingredients\n",
    "def sandwich(food=\"--Say Cheese--\"):\n",
    "    print(food)\n",
    "\n",
    "sandwich(\"Yummy\")"
   ]
  },
  {
   "cell_type": "markdown",
   "metadata": {},
   "source": [
    "## Decorators with arguments"
   ]
  },
  {
   "cell_type": "markdown",
   "metadata": {},
   "source": [
    "### Using Functions"
   ]
  },
  {
   "cell_type": "markdown",
   "metadata": {},
   "source": [
    "We can create a function which can take an argument and wrap the original decorator inside as shown in below code sample."
   ]
  },
  {
   "cell_type": "code",
   "execution_count": 12,
   "metadata": {},
   "outputs": [],
   "source": [
    "def corps_fun(*deco_args, **deco_kwargs):\n",
    "    def real_decorator(func):\n",
    "        def inner(*args, **kwargs):\n",
    "            print(\"inside inner args:\", deco_args)\n",
    "            for k, v in deco_kwargs.items():\n",
    "                print(\"inside inner kwars:\", k, v)\n",
    "            print(*args, kwargs)\n",
    "            func(*args, **kwargs)\n",
    "        return inner\n",
    "    return real_decorator\n",
    "\n",
    "\n",
    "@corps_fun(\"arg1\", \"arg2\")\n",
    "def print_args(*args, **kwargs):\n",
    "    print(\"TEST\")\n",
    "    for arg in args:\n",
    "        print(\"arg\", arg)\n",
    "    for k, v in kwargs.items():\n",
    "        print(\"kwargs\", k, v)"
   ]
  },
  {
   "cell_type": "code",
   "execution_count": 13,
   "metadata": {},
   "outputs": [
    {
     "name": "stdout",
     "output_type": "stream",
     "text": [
      "inside inner args: ('arg1', 'arg2')\n",
      "1 2 3 {'corp': 'Bhopal Municipal Corporation'}\n",
      "TEST\n",
      "arg 1\n",
      "arg 2\n",
      "arg 3\n",
      "kwargs corp Bhopal Municipal Corporation\n"
     ]
    }
   ],
   "source": [
    "print_args(1, 2, 3, corp=\"Bhopal Municipal Corporation\")"
   ]
  },
  {
   "cell_type": "code",
   "execution_count": 14,
   "metadata": {},
   "outputs": [],
   "source": [
    "def decorator(*deco_args, **deco_kwargs):\n",
    "    def real_decorator(func):\n",
    "        def inner(*args, **kwargs):\n",
    "            print(\"inside inner args:\", args)\n",
    "            print(\"inside inner kwargs:\", kwargs)\n",
    "            # Calling the actual function\n",
    "            func(*args, **kwargs)\n",
    "        return inner\n",
    "    return real_decorator\n",
    "\n",
    "\n",
    "@decorator(\"arg1\", \"arg2\")\n",
    "def print_args(*args, **kwargs):\n",
    "    print(\"TEST\")\n",
    "    for arg in args:\n",
    "        print(\"arg\", arg)\n",
    "    for k, v in kwargs.items():\n",
    "        print(\"kwargs\", k, v)"
   ]
  },
  {
   "cell_type": "code",
   "execution_count": 15,
   "metadata": {},
   "outputs": [
    {
     "name": "stdout",
     "output_type": "stream",
     "text": [
      "inside inner args: (1, 2, 3)\n",
      "inside inner kwargs: {'corp': 'Bhopal Municipal Corporation'}\n",
      "TEST\n",
      "arg 1\n",
      "arg 2\n",
      "arg 3\n",
      "kwargs corp Bhopal Municipal Corporation\n"
     ]
    }
   ],
   "source": [
    "print_args(1, 2, 3, corp=\"Bhopal Municipal Corporation\")"
   ]
  },
  {
   "cell_type": "code",
   "execution_count": 16,
   "metadata": {},
   "outputs": [],
   "source": [
    "@decorator(\"arg1\", \"arg2\", ver=\"10.2.301\")\n",
    "def print_args(*args, **kwargs):\n",
    "    print(\"TEST\")\n",
    "    for arg in args:\n",
    "        print(\"arg\", arg)\n",
    "    for k, v in kwargs.items():\n",
    "        print(\"kwargs\", k, v)"
   ]
  },
  {
   "cell_type": "code",
   "execution_count": 17,
   "metadata": {},
   "outputs": [
    {
     "name": "stdout",
     "output_type": "stream",
     "text": [
      "inside inner args: (1, 2, 3)\n",
      "inside inner kwargs: {'corp': 'Bhopal Municipal Corporation'}\n",
      "TEST\n",
      "arg 1\n",
      "arg 2\n",
      "arg 3\n",
      "kwargs corp Bhopal Municipal Corporation\n"
     ]
    }
   ],
   "source": [
    "print_args(1, 2, 3, corp=\"Bhopal Municipal Corporation\")"
   ]
  },
  {
   "cell_type": "code",
   "execution_count": 18,
   "metadata": {},
   "outputs": [],
   "source": [
    "def decorator(*deco_args, **deco_kwargs):\n",
    "    def real_decorator(func):\n",
    "        def inner(*args, **kwargs):\n",
    "            print(\"inside inner args:\", args)\n",
    "            print(\"inside inner kwargs:\", kwargs)\n",
    "            # Calling the actual function\n",
    "            if args[0] == 0:\n",
    "                func(*args, **kwargs)\n",
    "        return inner\n",
    "    return real_decorator\n",
    "\n",
    "\n",
    "@decorator(\"arg1\", \"arg2\")\n",
    "def print_args(*args, **kwargs):\n",
    "    print(\"TEST\")\n",
    "    for arg in args:\n",
    "        print(\"arg\", arg)\n",
    "    for k, v in kwargs.items():\n",
    "        print(\"kwargs\", k, v)"
   ]
  },
  {
   "cell_type": "code",
   "execution_count": 19,
   "metadata": {},
   "outputs": [
    {
     "name": "stdout",
     "output_type": "stream",
     "text": [
      "inside inner args: (1, 2, 3)\n",
      "inside inner kwargs: {'corp': 'Bhopal Municipal Corporation'}\n"
     ]
    }
   ],
   "source": [
    "print_args(1, 2, 3, corp=\"Bhopal Municipal Corporation\")"
   ]
  },
  {
   "cell_type": "code",
   "execution_count": 20,
   "metadata": {},
   "outputs": [
    {
     "name": "stdout",
     "output_type": "stream",
     "text": [
      "inside inner args: (0, 1, 2, 3)\n",
      "inside inner kwargs: {'corp': 'Bhopal Municipal Corporation'}\n",
      "TEST\n",
      "arg 0\n",
      "arg 1\n",
      "arg 2\n",
      "arg 3\n",
      "kwargs corp Bhopal Municipal Corporation\n"
     ]
    }
   ],
   "source": [
    "print_args(0, 1, 2, 3, corp=\"Bhopal Municipal Corporation\")"
   ]
  },
  {
   "cell_type": "markdown",
   "metadata": {},
   "source": [
    "In the above example, we bypassed the execution of actual function itself."
   ]
  },
  {
   "cell_type": "markdown",
   "metadata": {},
   "source": [
    "### Limitations "
   ]
  },
  {
   "cell_type": "markdown",
   "metadata": {},
   "source": [
    "$$TODO$$"
   ]
  },
  {
   "cell_type": "markdown",
   "metadata": {},
   "source": [
    "We can obtain the same using the `wrapper` function of functools"
   ]
  },
  {
   "cell_type": "code",
   "execution_count": 21,
   "metadata": {},
   "outputs": [
    {
     "name": "stdout",
     "output_type": "stream",
     "text": [
      "Else ('arg1', 'arg2')\n",
      "1\n",
      "2\n",
      "3\n",
      "d Satyam\n"
     ]
    }
   ],
   "source": [
    "from functools import wraps\n",
    "\n",
    "def decorator(*deco_args, **deco_kwargs):\n",
    "    method_or_name = deco_args\n",
    "    \n",
    "    def real_decorator(method):    \n",
    "        if callable(method_or_name):\n",
    "            print(\"if\", method_or_name)\n",
    "            method.gw_method = method.__name__\n",
    "        else:\n",
    "            print(\"Else\", method_or_name)\n",
    "            method.gw_method = method_or_name\n",
    "\n",
    "        @wraps(method)\n",
    "        def wrapper(*args, **kwargs):\n",
    "            method(*args, **kwargs)\n",
    "        return wrapper\n",
    "    if callable(method_or_name):\n",
    "        return real_decorator(method_or_name)\n",
    "    return real_decorator\n",
    "\n",
    "@decorator(\"arg1\", \"arg2\", test=\"test\")\n",
    "def print_args(*args, **kwargs):\n",
    "    for arg in args:\n",
    "        print(arg)\n",
    "    for k, v in kwargs.items():\n",
    "        print(k, v)\n",
    "\n",
    "print_args(1, 2, 3, d=\"Satyam\")"
   ]
  },
  {
   "cell_type": "code",
   "execution_count": null,
   "metadata": {},
   "outputs": [],
   "source": []
  },
  {
   "cell_type": "markdown",
   "metadata": {},
   "source": [
    "#### Conditional Decorators"
   ]
  },
  {
   "cell_type": "markdown",
   "metadata": {},
   "source": [
    "There are scenarios were we want to run the decorators only under certain condition, although Python do not natively support it, but we can achieve it with the following code template."
   ]
  },
  {
   "cell_type": "code",
   "execution_count": 22,
   "metadata": {},
   "outputs": [
    {
     "name": "stdout",
     "output_type": "stream",
     "text": [
      "...done....\n"
     ]
    }
   ],
   "source": [
    "def condition(**deco_kwargs):\n",
    "    \n",
    "    def __decorator__(func):\n",
    "    \n",
    "        def __inner__(*args, **kwargs):\n",
    "            if deco_kwargs.get('flag', False):\n",
    "                return func(*args, **kwargs)\n",
    "            \n",
    "        return __inner__\n",
    "    return __decorator__\n",
    "        \n",
    "\n",
    "def decorator(func):\n",
    "    def inner(*args, **kwargs):\n",
    "        print(\"Yadayada _ in inner\")\n",
    "        print(*args, **kwargs)\n",
    "        print(args)\n",
    "        for k, v in kwargs.items():\n",
    "            print(k, v)\n",
    "        func(*args, **kwargs)\n",
    "    return inner\n",
    "\n",
    "debug = False\n",
    "\n",
    "@condition(flag=debug)\n",
    "@decorator\n",
    "def print_args(*args, **kwargs):\n",
    "    for arg in args:\n",
    "        print(arg)\n",
    "    for k, v in kwargs.items():\n",
    "        print(k, v)\n",
    "\n",
    "\n",
    "print_args(1, 2)\n",
    "print(\"...done....\")"
   ]
  },
  {
   "cell_type": "code",
   "execution_count": 23,
   "metadata": {},
   "outputs": [
    {
     "name": "stdout",
     "output_type": "stream",
     "text": [
      "Yadayada _ in inner\n",
      "1 2\n",
      "(1, 2)\n",
      "1\n",
      "2\n"
     ]
    }
   ],
   "source": [
    "debug = True\n",
    "def condition(**deco_kwargs):\n",
    "    def __decorator__(func):\n",
    "        def __inner__(*args, **kwargs):\n",
    "            if deco_kwargs.get('flag', False):\n",
    "                return func(*args, **kwargs)\n",
    "#             return func(*args, **kwargs)\n",
    "        return __inner__\n",
    "    return __decorator__\n",
    "        \n",
    "\n",
    "def decorator(func):\n",
    "    def inner(*args, **kwargs):\n",
    "        print(\"Yadayada _ in inner\")\n",
    "        print(*args, **kwargs)\n",
    "        print(args)\n",
    "        for k, v in kwargs.items():\n",
    "            print(k, v)\n",
    "        func(*args, **kwargs)\n",
    "    return inner\n",
    "\n",
    "@condition(flag=debug)\n",
    "@decorator\n",
    "def print_args(*args, **kwargs):\n",
    "    for arg in args:\n",
    "        print(arg)\n",
    "    for k, v in kwargs.items():\n",
    "        print(k, v)\n",
    "\n",
    "\n",
    "print_args(1, 2)"
   ]
  },
  {
   "cell_type": "markdown",
   "metadata": {},
   "source": [
    "### Context Managers as Decorators "
   ]
  },
  {
   "cell_type": "markdown",
   "metadata": {},
   "source": [
    "Context managers can also be used as decorators, as shown below (https://docs.python.org/dev/library/contextlib.html#contextlib.ContextDecorator)"
   ]
  },
  {
   "cell_type": "code",
   "execution_count": 24,
   "metadata": {},
   "outputs": [],
   "source": [
    "from contextlib import ContextDecorator\n",
    "\n",
    "class mycontext(ContextDecorator):\n",
    "    def __enter__(self):\n",
    "        print('Starting')\n",
    "        return self\n",
    "\n",
    "    def __exit__(self, *exc):\n",
    "        print('Finishing')\n",
    "        return False\n",
    "\n",
    "@mycontext()\n",
    "def function():\n",
    "    print('The bit in the middle')"
   ]
  },
  {
   "cell_type": "code",
   "execution_count": 25,
   "metadata": {},
   "outputs": [
    {
     "name": "stdout",
     "output_type": "stream",
     "text": [
      "Starting\n",
      "The bit in the middle\n",
      "Finishing\n"
     ]
    }
   ],
   "source": [
    "function()"
   ]
  },
  {
   "cell_type": "code",
   "execution_count": 26,
   "metadata": {},
   "outputs": [
    {
     "name": "stdout",
     "output_type": "stream",
     "text": [
      "Starting\n",
      "This is function 2\n",
      "Finishing\n"
     ]
    }
   ],
   "source": [
    "def function_2():\n",
    "    print(\"This is function 2\")\n",
    "    \n",
    "with mycontext() as t: \n",
    "    function_2()"
   ]
  },
  {
   "cell_type": "code",
   "execution_count": 27,
   "metadata": {},
   "outputs": [
    {
     "name": "stdout",
     "output_type": "stream",
     "text": [
      "Starting\n",
      "Finishing\n",
      "Error: Raising Error\n"
     ]
    }
   ],
   "source": [
    "from contextlib import ContextDecorator\n",
    "\n",
    "class mycontext(ContextDecorator):\n",
    "    def __enter__(self):\n",
    "        print('Starting')\n",
    "        return self\n",
    "\n",
    "    def __exit__(self, *exc):\n",
    "        print('Finishing')\n",
    "        return False\n",
    "\n",
    "@mycontext()\n",
    "def function():\n",
    "    raise Exception(\"Raising Error\")\n",
    "    print('The bit in the middle')\n",
    "\n",
    "try:\n",
    "    function()\n",
    "except Exception as e:\n",
    "    print(\"Error:\", e)"
   ]
  },
  {
   "cell_type": "markdown",
   "metadata": {},
   "source": [
    "In the above example, although the exception was not handled, yet, `__end__` funtion was called by python"
   ]
  },
  {
   "cell_type": "markdown",
   "metadata": {},
   "source": [
    "## Class Decorators"
   ]
  },
  {
   "cell_type": "code",
   "execution_count": null,
   "metadata": {},
   "outputs": [],
   "source": []
  },
  {
   "cell_type": "markdown",
   "metadata": {
    "collapsed": true
   },
   "source": [
    "## Bound methods\n",
    "---\n",
    "\n",
    "Unless you tell it not to, Python will create what is called a bound method when a function is an attribute of a class and you access it via an instance of a class. This may sound complicated but it does exactly what you want."
   ]
  },
  {
   "cell_type": "code",
   "execution_count": 28,
   "metadata": {},
   "outputs": [
    {
     "data": {
      "text/plain": [
       "<bound method A.method of <__main__.A object at 0x108b1f990>>"
      ]
     },
     "execution_count": 28,
     "metadata": {},
     "output_type": "execute_result"
    }
   ],
   "source": [
    "class A(object):\n",
    "    def method(*argv):\n",
    "        return argv\n",
    "a = A()\n",
    "a.method"
   ]
  },
  {
   "cell_type": "code",
   "execution_count": 29,
   "metadata": {},
   "outputs": [
    {
     "data": {
      "text/plain": [
       "(<__main__.A at 0x108b1f990>, 'an arg')"
      ]
     },
     "execution_count": 29,
     "metadata": {},
     "output_type": "execute_result"
    }
   ],
   "source": [
    "a.method('an arg')"
   ]
  },
  {
   "cell_type": "markdown",
   "metadata": {},
   "source": [
    "### staticmethod()\n",
    "\n",
    "A static method is a way of suppressing the creation of a bound method when accessing a function."
   ]
  },
  {
   "cell_type": "code",
   "execution_count": 30,
   "metadata": {},
   "outputs": [
    {
     "data": {
      "text/plain": [
       "<function __main__.A.method(*argv)>"
      ]
     },
     "execution_count": 30,
     "metadata": {},
     "output_type": "execute_result"
    }
   ],
   "source": [
    "class A(object):\n",
    "    @staticmethod\n",
    "    def method(*argv):\n",
    "        return argv\n",
    "a = A()\n",
    "a.method"
   ]
  },
  {
   "cell_type": "markdown",
   "metadata": {},
   "source": [
    "When we call a static method we don’t get any additional arguments."
   ]
  },
  {
   "cell_type": "code",
   "execution_count": 31,
   "metadata": {},
   "outputs": [
    {
     "data": {
      "text/plain": [
       "('an arg',)"
      ]
     },
     "execution_count": 31,
     "metadata": {},
     "output_type": "execute_result"
    }
   ],
   "source": [
    "a.method('an arg')"
   ]
  },
  {
   "cell_type": "markdown",
   "metadata": {},
   "source": [
    "### classmethod\n",
    "\n",
    "A class method is like a bound method except that the class of the instance is passed as an argument rather than the instance itself."
   ]
  },
  {
   "cell_type": "code",
   "execution_count": 32,
   "metadata": {},
   "outputs": [
    {
     "data": {
      "text/plain": [
       "<bound method A.method of <class '__main__.A'>>"
      ]
     },
     "execution_count": 32,
     "metadata": {},
     "output_type": "execute_result"
    }
   ],
   "source": [
    "class A(object):\n",
    "    @classmethod\n",
    "    def method(*argv):\n",
    "        return argv\n",
    "a = A()\n",
    "a.method"
   ]
  },
  {
   "cell_type": "code",
   "execution_count": 33,
   "metadata": {},
   "outputs": [
    {
     "data": {
      "text/plain": [
       "(__main__.A, 'an arg')"
      ]
     },
     "execution_count": 33,
     "metadata": {},
     "output_type": "execute_result"
    }
   ],
   "source": [
    "a.method('an arg')"
   ]
  },
  {
   "cell_type": "code",
   "execution_count": 34,
   "metadata": {},
   "outputs": [
    {
     "name": "stdout",
     "output_type": "stream",
     "text": [
      "Ja\n",
      "Name:  Mayank\n"
     ]
    }
   ],
   "source": [
    "def test(strg):\n",
    "    print(\"Name: \", strg)\n",
    "    \n",
    "def hello(func, name):\n",
    "    print(\"Ja\")\n",
    "    func(name)\n",
    "    \n",
    "hello(test, \"Mayank\")"
   ]
  },
  {
   "cell_type": "code",
   "execution_count": 35,
   "metadata": {},
   "outputs": [],
   "source": [
    "class B(object):\n",
    "    @classmethod\n",
    "    def method(*argv):\n",
    "        return argv"
   ]
  },
  {
   "cell_type": "code",
   "execution_count": 36,
   "metadata": {},
   "outputs": [
    {
     "data": {
      "text/plain": [
       "(__main__.B,)"
      ]
     },
     "execution_count": 36,
     "metadata": {},
     "output_type": "execute_result"
    }
   ],
   "source": [
    "a = B()\n",
    "a.method()"
   ]
  },
  {
   "cell_type": "markdown",
   "metadata": {},
   "source": [
    "## References:"
   ]
  },
  {
   "cell_type": "markdown",
   "metadata": {},
   "source": [
    "- https://www.python.org/dev/peps/pep-0318/"
   ]
  }
 ],
 "metadata": {
  "anaconda-cloud": {},
  "kernelspec": {
   "display_name": "Python 3",
   "language": "python",
   "name": "python3"
  },
  "language_info": {
   "codemirror_mode": {
    "name": "ipython",
    "version": 3
   },
   "file_extension": ".py",
   "mimetype": "text/x-python",
   "name": "python",
   "nbconvert_exporter": "python",
   "pygments_lexer": "ipython3",
   "version": "3.8.0"
  }
 },
 "nbformat": 4,
 "nbformat_minor": 1
}
