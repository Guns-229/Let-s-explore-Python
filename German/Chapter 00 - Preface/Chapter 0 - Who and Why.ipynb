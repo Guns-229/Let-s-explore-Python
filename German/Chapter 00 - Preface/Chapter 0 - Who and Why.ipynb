{
 "cells": [
  {
   "cell_type": "markdown",
   "metadata": {},
   "source": [
    "# Chapter 0 - Who & Why\n",
    "---"
   ]
  },
  {
   "cell_type": "markdown",
   "metadata": {},
   "source": [
    "Dieses Tutorial wurde ausschließlich zu dem Zweck erstellt, ein Basisdokument für meine Schulungsprogramme bereitzustellen. Ich veröffentliche es im Internet in der Hoffnung, dass die Leute es nützlich finden."
   ]
  },
  {
   "cell_type": "markdown",
   "metadata": {},
   "source": [
    "## Who \n",
    "---\n"
   ]
  },
  {
   "cell_type": "markdown",
   "metadata": {},
   "source": [
    "Ich bin `Mayank Johri` und arbeite seit 2000 im IT-Bereich. In dieser Zeit konnte ich einige OpenSource-Projekte und Bücher darüber veröffentlichen. Projekte finden Sie unter\n",
    "\n",
    "- https://sourceforge.net/projects/softgridhelper/\n",
    "- https://gitlab.com/mayankjohri\n",
    "\n",
    "und Bücher bei Amazon."
   ]
  },
  {
   "cell_type": "markdown",
   "metadata": {},
   "source": [
    "### My history with Python"
   ]
  },
  {
   "cell_type": "markdown",
   "metadata": {},
   "source": [
    "Bis 2005 waren Freebasic, VB, VB.NET & C meine primären Programmiersprachen. Anfang 2005 begann ich aus bestimmten persönlichen und politischen Gründen (lesen Sie M $) nach meiner nächsten Primärsprache zu suchen. Meine Anforderung dafür war gering, wie unten aufgeführt:\n",
    "- OpenSource-Sprache (damit ich nicht bezahlen muss, keine Lizenzprobleme, keine Sprachänderung ohne Problemumgehung für Änderungen)\n",
    "- Leicht zu erlernen (hatte nie zu viel Zeit)\n",
    "- kann zu ausführbaren Dateien kompiliert werden\n",
    "- GUI-Programmierung sollte möglich sein (wx)\n",
    "- Relativ anständige Ausführungsgeschwindigkeit\n",
    "- Anständige Unterstützung, Dokumentation und Forum\n",
    "\n",
    "Nach ungefähr sechs Monaten und dem Ausprobieren der meisten Programmiersprachen aus (https://en.wikipedia.org/wiki/List_of_programming_languages)[https://en.wikipedia.org/wiki/List_of_programming_languages] fand ich diese Python-Sprachsuite die meisten meiner Anforderungen und so wurde es meine erste Wahl der Programmiersprache.\n",
    "\n",
    "Andere Sprachen, die sehr nahe kamen, waren: \"Ruby\", \"FreeBasic\", \"C\" und \"lua\". Ich mochte \"FreeBasic\" und migrierte auch ein Crutial-Dienstprogramm von \"SoftGridHelper\" von Python / .Net dorthin, da dieses Dienstprogramm immer auf Benutzercomputern ausgeführt und auf fast jedem Computer in der Client-Infrastruktur (mit Ausnahme von Servern) installiert werden sollte ) und \"FreeBasic\" lieferten mir ein exeuctable mit in wenigen \"kb\" und ohne schreckliche Abhängigkeitsprobleme von \".NET\" -Versionen und es wurde in wenigen Unternehmen ohne Probleme verwendet."
   ]
  },
  {
   "cell_type": "code",
   "execution_count": 2,
   "metadata": {},
   "outputs": [
    {
     "name": "stdout",
     "output_type": "stream",
     "text": [
      "Python Version Used: 3.8.2 (v3.8.2:7b3ab5921f, Feb 24 2020, 17:52:18) \n",
      "[Clang 6.0 (clang-600.0.57)]\n",
      "sys.version_info(major=3, minor=8, micro=2, releaselevel='final', serial=0)\n"
     ]
    }
   ],
   "source": [
    "# Diese Dokumentation wurde mit jupyter erstellt\n",
    "## Python version used: \n",
    "import sys\n",
    "print(\"Python Version Used:\", sys.version)\n",
    "print(sys.version_info)"
   ]
  }
 ],
 "metadata": {
  "kernelspec": {
   "display_name": "Python 3",
   "language": "python",
   "name": "python3"
  },
  "language_info": {
   "codemirror_mode": {
    "name": "ipython",
    "version": 3
   },
   "file_extension": ".py",
   "mimetype": "text/x-python",
   "name": "python",
   "nbconvert_exporter": "python",
   "pygments_lexer": "ipython3",
   "version": "3.8.2"
  }
 },
 "nbformat": 4,
 "nbformat_minor": 2
}
