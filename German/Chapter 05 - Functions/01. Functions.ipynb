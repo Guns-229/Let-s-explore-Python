{
 "cells": [
  {
   "cell_type": "markdown",
   "metadata": {},
   "source": [
    "# Functions"
   ]
  },
  {
   "cell_type": "markdown",
   "metadata": {},
   "source": [
    "Functions are blocks of code identified by a name, which can receive **predetermined** parameters or not ;) and they might return value(s) or not.\n",
    "\n",
    "In Python, functions:\n",
    "\n",
    "+ return objects or not.\n",
    "+ can provide documentation using **Doc Strings**.\n",
    "+ Can have their properties changed (**usually** by decorators).\n",
    "+ Have their own namespace (local scope), and therefore may obscure definitions of global scope.\n",
    "+ Allows parameters to be passed by name. In this case, the parameters can be passed in any order.\n",
    "+ Allows optional parameters (with pre-defined *defaults*), thus if no parameter are provided then,  pre-defined *default* will be used.\n",
    "\n",
    "**Syntax**:\n",
    "\n",
    "```python\n",
    "def func_name(parameter_one, parameter_two=default_value):\n",
    "    \"\"\"\n",
    "    Doc String\n",
    "    \"\"\"\n",
    "    <code block>\n",
    "    return value/values\n",
    "```"
   ]
  },
  {
   "cell_type": "markdown",
   "metadata": {},
   "source": [
    "> NOTE: The parameters with *default* value must be declared after the ones without *default* value."
   ]
  },
  {
   "cell_type": "code",
   "execution_count": 1,
   "metadata": {},
   "outputs": [],
   "source": [
    "def double(val):\n",
    "    \"\"\"\n",
    "    The double function. -> What it is doing in summary\n",
    "    \n",
    "    -> now in details\n",
    "    It doubles the provided value and returns it.\n",
    "    \n",
    "    Steps:\n",
    "    1. Prints the value provide\n",
    "    2. Returns the value multiplied by 2.\n",
    "    \n",
    "    Args:\n",
    "        val (any):   Any type of data is ok\n",
    "    \n",
    "    Return:\n",
    "        (any):  The retuned value is (val * 2)\n",
    "    \n",
    "    Unit Tests:\n",
    "    -----------\n",
    "    double(2)\n",
    "    >>> 4\n",
    "    double(\"Ram \")\n",
    "    >>> Ram Ram \n",
    "    \"\"\"\n",
    "    print(\"val: {}\".format(val))\n",
    "    return val * 2"
   ]
  },
  {
   "cell_type": "code",
   "execution_count": 2,
   "metadata": {},
   "outputs": [
    {
     "name": "stdout",
     "output_type": "stream",
     "text": [
      "val: Ram \n",
      "Output: Ram Ram \n"
     ]
    }
   ],
   "source": [
    "a = double(\"Ram \")\n",
    "print(\"Output:\", a)"
   ]
  },
  {
   "cell_type": "code",
   "execution_count": 3,
   "metadata": {},
   "outputs": [
    {
     "name": "stdout",
     "output_type": "stream",
     "text": [
      "val: 1010\n",
      "Output: 2020\n"
     ]
    }
   ],
   "source": [
    "a = double(1010)\n",
    "print(\"Output:\", a)"
   ]
  },
  {
   "cell_type": "code",
   "execution_count": 5,
   "metadata": {},
   "outputs": [
    {
     "name": "stdout",
     "output_type": "stream",
     "text": [
      "val: [10, 100]\n",
      "input: [10, 100]\n",
      "Output: [10, 100, 10, 100]\n"
     ]
    }
   ],
   "source": [
    "lst = [10, 100]\n",
    "a = double(lst)\n",
    "print(f\"input: {lst}\")\n",
    "print(\"Output:\", a)"
   ]
  },
  {
   "cell_type": "code",
   "execution_count": 4,
   "metadata": {},
   "outputs": [
    {
     "name": "stdout",
     "output_type": "stream",
     "text": [
      "val: {10: 10}\n",
      "ERROR: unsupported operand type(s) for *: 'dict' and 'int'\n"
     ]
    }
   ],
   "source": [
    "lst = {10: 10}\n",
    "try:\n",
    "    a = double(lst)\n",
    "    print(f\"input: {lst}\")\n",
    "    print(\"Output:\", a)\n",
    "except Exception as e:\n",
    "    print(f\"ERROR: {e}\")"
   ]
  },
  {
   "cell_type": "code",
   "execution_count": 8,
   "metadata": {},
   "outputs": [
    {
     "name": "stdout",
     "output_type": "stream",
     "text": [
      "val: {10, 11}\n",
      "ERROR: unsupported operand type(s) for *: 'set' and 'int'\n"
     ]
    }
   ],
   "source": [
    "lst = {10, 11}\n",
    "try:\n",
    "    a = double(lst)\n",
    "    print(f\"input: {lst}\")\n",
    "    print(\"Output:\", a)\n",
    "except Exception as e:\n",
    "    print(f\"ERROR: {e}\")"
   ]
  },
  {
   "cell_type": "markdown",
   "metadata": {},
   "source": [
    "### uses of docstring"
   ]
  },
  {
   "cell_type": "code",
   "execution_count": 5,
   "metadata": {},
   "outputs": [
    {
     "name": "stdout",
     "output_type": "stream",
     "text": [
      "\n",
      "    The double function. -> What it is doing in summary\n",
      "    \n",
      "    -> now in details\n",
      "    It doubles the provided value and returns it.\n",
      "    \n",
      "    Steps:\n",
      "    1. Prints the value provide\n",
      "    2. Returns the value multiplied by 2.\n",
      "    \n",
      "    Args:\n",
      "        val (any):   Any type of data is ok\n",
      "    \n",
      "    Return:\n",
      "        (any):  The retuned value is (val * 2)\n",
      "    \n",
      "    Unit Tests:\n",
      "    -----------\n",
      "    double(2)\n",
      "    >>> 4\n",
      "    double(\"Ram \")\n",
      "    >>> Ram Ram \n",
      "    \n"
     ]
    }
   ],
   "source": [
    "print(double.__doc__)"
   ]
  },
  {
   "cell_type": "code",
   "execution_count": 6,
   "metadata": {},
   "outputs": [
    {
     "name": "stdout",
     "output_type": "stream",
     "text": [
      "Help on function double in module __main__:\n",
      "\n",
      "double(val)\n",
      "    The double function. -> What it is doing in summary\n",
      "    \n",
      "    -> now in details\n",
      "    It doubles the provided value and returns it.\n",
      "    \n",
      "    Steps:\n",
      "    1. Prints the value provide\n",
      "    2. Returns the value multiplied by 2.\n",
      "    \n",
      "    Args:\n",
      "        val (any):   Any type of data is ok\n",
      "    \n",
      "    Return:\n",
      "        (any):  The retuned value is (val * 2)\n",
      "    \n",
      "    Unit Tests:\n",
      "    -----------\n",
      "    double(2)\n",
      "    >>> 4\n",
      "    double(\"Ram \")\n",
      "    >>> Ram Ram\n",
      "\n"
     ]
    }
   ],
   "source": [
    "help(double)"
   ]
  },
  {
   "cell_type": "code",
   "execution_count": 13,
   "metadata": {},
   "outputs": [
    {
     "name": "stdout",
     "output_type": "stream",
     "text": [
      "print(value, ..., sep=' ', end='\\n', file=sys.stdout, flush=False)\n",
      "\n",
      "Prints the values to a stream, or to sys.stdout by default.\n",
      "Optional keyword arguments:\n",
      "file:  a file-like object (stream); defaults to the current sys.stdout.\n",
      "sep:   string inserted between values, default a space.\n",
      "end:   string appended after the last value, default a newline.\n",
      "flush: whether to forcibly flush the stream.\n"
     ]
    }
   ],
   "source": [
    "print(print.__doc__)"
   ]
  },
  {
   "cell_type": "code",
   "execution_count": 14,
   "metadata": {
    "scrolled": true
   },
   "outputs": [
    {
     "name": "stdout",
     "output_type": "stream",
     "text": [
      "['__annotations__', '__call__', '__class__', '__closure__', '__code__', '__defaults__', '__delattr__', '__dict__', '__dir__', '__doc__', '__eq__', '__format__', '__ge__', '__get__', '__getattribute__', '__globals__', '__gt__', '__hash__', '__init__', '__init_subclass__', '__kwdefaults__', '__le__', '__lt__', '__module__', '__name__', '__ne__', '__new__', '__qualname__', '__reduce__', '__reduce_ex__', '__repr__', '__setattr__', '__sizeof__', '__str__', '__subclasshook__']\n"
     ]
    }
   ],
   "source": [
    "print(dir(double))"
   ]
  },
  {
   "cell_type": "markdown",
   "metadata": {},
   "source": [
    "In the above example, we have `double` as function, which takes `val` as argument and returns `val * 2`. "
   ]
  },
  {
   "cell_type": "code",
   "execution_count": 15,
   "metadata": {},
   "outputs": [
    {
     "name": "stdout",
     "output_type": "stream",
     "text": [
      "val: 1234\n",
      "2468\n"
     ]
    }
   ],
   "source": [
    "a = double(1234)\n",
    "print(a)"
   ]
  },
  {
   "cell_type": "markdown",
   "metadata": {},
   "source": [
    "Functions can return any data type, next example returns a boolean value."
   ]
  },
  {
   "cell_type": "code",
   "execution_count": 7,
   "metadata": {},
   "outputs": [],
   "source": [
    "# Non optimized code.\n",
    "\n",
    "def is_valid(val, data):\n",
    "    if val in data:\n",
    "        return True\n",
    "        print(\"Hello Ji\")   # This will never run, thus should not even exist.\n",
    "    return False"
   ]
  },
  {
   "cell_type": "code",
   "execution_count": 8,
   "metadata": {},
   "outputs": [],
   "source": [
    "# optimized code. \n",
    "def is_valid(val, data):\n",
    "    return val in data"
   ]
  },
  {
   "cell_type": "markdown",
   "metadata": {},
   "source": [
    "Also note that Python do not check the data type of value for arguments, if your requirement demands then you can have same argument with different data type"
   ]
  },
  {
   "cell_type": "code",
   "execution_count": 17,
   "metadata": {},
   "outputs": [
    {
     "name": "stdout",
     "output_type": "stream",
     "text": [
      "True\n"
     ]
    }
   ],
   "source": [
    "# With list\n",
    "a = is_valid(10, [10, 200, 33, \"asf\"])\n",
    "print(a)"
   ]
  },
  {
   "cell_type": "code",
   "execution_count": 18,
   "metadata": {},
   "outputs": [
    {
     "name": "stdout",
     "output_type": "stream",
     "text": [
      "True\n"
     ]
    }
   ],
   "source": [
    "# with Tuple\n",
    "a = is_valid(200, (10, 20, 200))\n",
    "print(a)"
   ]
  },
  {
   "cell_type": "code",
   "execution_count": 19,
   "metadata": {},
   "outputs": [
    {
     "name": "stdout",
     "output_type": "stream",
     "text": [
      "False\n"
     ]
    }
   ],
   "source": [
    "a = is_valid(-10, (10, 20, 200))\n",
    "print(a)"
   ]
  },
  {
   "cell_type": "code",
   "execution_count": 9,
   "metadata": {},
   "outputs": [
    {
     "name": "stdout",
     "output_type": "stream",
     "text": [
      "True\n"
     ]
    }
   ],
   "source": [
    "a = is_valid(\"a\", \"Ja, Ich bin ein Mann\")\n",
    "print(a)"
   ]
  },
  {
   "cell_type": "code",
   "execution_count": 21,
   "metadata": {},
   "outputs": [
    {
     "name": "stdout",
     "output_type": "stream",
     "text": [
      "True\n"
     ]
    }
   ],
   "source": [
    "# With Dictionary\n",
    "k = {\n",
    "    10: \"Ten\",\n",
    "    20: \"Bees\"\n",
    "}\n",
    "\n",
    "a = is_valid(10, k)\n",
    "print(a)"
   ]
  },
  {
   "cell_type": "code",
   "execution_count": 22,
   "metadata": {},
   "outputs": [
    {
     "name": "stdout",
     "output_type": "stream",
     "text": [
      "True\n"
     ]
    }
   ],
   "source": [
    "# This will always return True, anything after\n",
    "# `return True` is not even executed.\n",
    "# Function will return after first execution of \n",
    "# `return` statement and remaining code is not executed.\n",
    "\n",
    "def is_valid(val, data):\n",
    "    a = True\n",
    "    if a:\n",
    "        return a\n",
    "    print(\"I will never print...\")\n",
    "    return not a\n",
    "\n",
    "a = is_valid(10, k)\n",
    "print(a)"
   ]
  },
  {
   "cell_type": "markdown",
   "metadata": {},
   "source": [
    "### Single line function"
   ]
  },
  {
   "cell_type": "code",
   "execution_count": 11,
   "metadata": {},
   "outputs": [
    {
     "name": "stdout",
     "output_type": "stream",
     "text": [
      "True\n"
     ]
    }
   ],
   "source": [
    "def is_valid_new(val, data): return val in data\n",
    "\n",
    "print(is_valid_new(10, [10, 200, 33, \"asf\"]))"
   ]
  },
  {
   "cell_type": "markdown",
   "metadata": {},
   "source": [
    "**Example (factorial without recursion):**"
   ]
  },
  {
   "cell_type": "code",
   "execution_count": 10,
   "metadata": {},
   "outputs": [
    {
     "name": "stdout",
     "output_type": "stream",
     "text": [
      "1 -> 1\n",
      "2 -> 2\n",
      "3 -> 6\n",
      "4 -> 24\n",
      "5 -> 120\n"
     ]
    }
   ],
   "source": [
    "def fatorial(n):\n",
    "    n = n if n > 1 else 1\n",
    "    j = 1\n",
    "    for i in range(1, n + 1):\n",
    "        j = j * i\n",
    "    return j\n",
    "\n",
    "# Testing...\n",
    "for i in range(1, 6):\n",
    "    print (i, '->', fatorial(i))"
   ]
  },
  {
   "cell_type": "markdown",
   "metadata": {},
   "source": [
    "*Example (factorial with recursion)*:"
   ]
  },
  {
   "cell_type": "code",
   "execution_count": 12,
   "metadata": {},
   "outputs": [
    {
     "name": "stdout",
     "output_type": "stream",
     "text": [
      "120\n"
     ]
    }
   ],
   "source": [
    "def factorial(num):\n",
    "    \"\"\"Fatorial implemented with recursion.\"\"\"\n",
    "    if num <= 1:\n",
    "        return 1\n",
    "    else:\n",
    "        return(num * factorial(num - 1))\n",
    "\n",
    "# Testing factorial()\n",
    "print(factorial(5))\n",
    "\n",
    "# 5 * (4 * (3 * (2 * (1))"
   ]
  },
  {
   "cell_type": "markdown",
   "metadata": {},
   "source": [
    "> **NOTE**\n",
    "> <hr>\n",
    "> **VERY BAD IDEA** to use recursion for large iterables"
   ]
  },
  {
   "cell_type": "code",
   "execution_count": 13,
   "metadata": {},
   "outputs": [
    {
     "name": "stdout",
     "output_type": "stream",
     "text": [
      "maximum recursion depth exceeded in comparison\n"
     ]
    }
   ],
   "source": [
    "try:\n",
    "    print(factorial(2970))\n",
    "except RecursionError as re:\n",
    "    print(re)"
   ]
  },
  {
   "cell_type": "markdown",
   "metadata": {},
   "source": [
    "Example (Fibonacci series with recursion):"
   ]
  },
  {
   "cell_type": "code",
   "execution_count": 28,
   "metadata": {},
   "outputs": [
    {
     "name": "stdout",
     "output_type": "stream",
     "text": [
      "1 => 1\n",
      "2 => 2\n",
      "3 => 3\n",
      "4 => 5\n",
      "5 => 8\n"
     ]
    }
   ],
   "source": [
    "# Another Bad Example. \n",
    "\n",
    "def fib(n):\n",
    "    \"\"\"Fibonacci:\n",
    "    fib(n) = fib(n - 1) + fib(n - 2) se n > 1\n",
    "    fib(n) = 1 se n <= 1\n",
    "    \"\"\"\n",
    "    if n > 1:\n",
    "        return fib(n - 1) + fib(n - 2)\n",
    "    else:\n",
    "        return 1\n",
    "\n",
    "# Show Fibonacci from 1 to 5\n",
    "for i in range(1, 6):\n",
    "    print (i, '=>', fib(i))"
   ]
  },
  {
   "cell_type": "markdown",
   "metadata": {},
   "source": [
    "Example (Fibonacci series without recursion):"
   ]
  },
  {
   "cell_type": "code",
   "execution_count": 14,
   "metadata": {},
   "outputs": [
    {
     "name": "stdout",
     "output_type": "stream",
     "text": [
      "1 => [1, 1]\n",
      "2 => [1, 1, 2]\n",
      "3 => [1, 1, 2, 3]\n",
      "4 => [1, 1, 2, 3, 5]\n",
      "5 => [1, 1, 2, 3, 5, 8]\n"
     ]
    }
   ],
   "source": [
    "def fib(n):    \n",
    "    # the first two values\n",
    "    l = [1, 1]\n",
    "    \n",
    "    # Calculating the others\n",
    "    for i in range(2, n + 1):\n",
    "        l.append(l[i -1] + l[i - 2])\n",
    "        \n",
    "    return l\n",
    "\n",
    "# Show Fibonacci from 1 to 5\n",
    "for i in [1, 2, 3, 4, 5]:\n",
    "    print (i, '=>', fib(i))"
   ]
  },
  {
   "cell_type": "code",
   "execution_count": 24,
   "metadata": {},
   "outputs": [
    {
     "name": "stdout",
     "output_type": "stream",
     "text": [
      "1 => [1, 1]\n",
      "2 => [1, 1, 2]\n",
      "3 => [1, 1, 2, 3]\n",
      "4 => [1, 1, 2, 3, 5]\n",
      "5 => [1, 1, 2, 3, 5, 8]\n"
     ]
    }
   ],
   "source": [
    "def fib(n):    \n",
    "    # the first two values\n",
    "    l = [1, 1]\n",
    "\n",
    "    # Calculating the others\n",
    "    for i in range(2, n + 1):\n",
    "        l.append(l[i - 1] + l[i - 2])\n",
    "    return l\n",
    "\n",
    "# Show Fibonacci from 1 to 5\n",
    "for i in range(1, 6):\n",
    "    print (i, '=>', fib(i))"
   ]
  },
  {
   "cell_type": "markdown",
   "metadata": {},
   "source": [
    "### Positional Arguments"
   ]
  },
  {
   "cell_type": "code",
   "execution_count": 14,
   "metadata": {},
   "outputs": [
    {
     "name": "stdout",
     "output_type": "stream",
     "text": [
      "a: 1, b: 2, 1 => 3\n",
      "a: 2, b: 3, 2 => 5\n",
      "a: 3, b: 4, 3 => 7\n",
      "a: 4, b: 5, 4 => 9\n",
      "a: 5, b: 6, 5 => 11\n"
     ]
    }
   ],
   "source": [
    "# It depends on how you are calling the function \n",
    "# or function call is made or more importantly \n",
    "# how the arguments are provided their respective\n",
    "# values.\n",
    "def sum(a, b):\n",
    "    print(f\"a: {a}, b: {b}\", end=\", \")\n",
    "    return a + b\n",
    "\n",
    "\n",
    "for i in range(1, 6):\n",
    "    print (i, '=>', sum(i, i + 1))"
   ]
  },
  {
   "cell_type": "markdown",
   "metadata": {},
   "source": [
    "In the above example, `a` will get the value of `i` and `b` will get the value of `i + 1` due to their respective positioning"
   ]
  },
  {
   "cell_type": "markdown",
   "metadata": {},
   "source": [
    "### Named Arguments"
   ]
  },
  {
   "cell_type": "code",
   "execution_count": 22,
   "metadata": {},
   "outputs": [],
   "source": [
    "def additio b):n(a,\n",
    "    print(f\"a: {a}, b: {b}\", end=\", \")\n",
    "    return a + b"
   ]
  },
  {
   "cell_type": "code",
   "execution_count": 24,
   "metadata": {},
   "outputs": [
    {
     "name": "stdout",
     "output_type": "stream",
     "text": [
      "a: 1, b: 2, 1 + 2 = 3\n"
     ]
    }
   ],
   "source": [
    "# It depends on how you are calling the function \n",
    "# or function call is made or more importantly \n",
    "# how the arguments are provided their respective\n",
    "# values.\n",
    "# Example of Positional Arguemnts\n",
    "print(\"1 + 2 =\", addition(1, 2))"
   ]
  },
  {
   "cell_type": "code",
   "execution_count": 25,
   "metadata": {},
   "outputs": [
    {
     "name": "stdout",
     "output_type": "stream",
     "text": [
      "a: 2, b: 1, 2 + 1 = 3\n"
     ]
    }
   ],
   "source": [
    "# Example of Named Arguemnts\n",
    "print(\"2 + 1 =\", addition(b=1, a=2))"
   ]
  },
  {
   "cell_type": "markdown",
   "metadata": {},
   "source": [
    "### Why named arguments ? "
   ]
  },
  {
   "cell_type": "markdown",
   "metadata": {},
   "source": [
    "- because you might wish to provide value for one selected arguments \n",
    "ex. \n",
    "```python\n",
    "print(value, ..., sep=' ', end='\\n', file=sys.stdout, flush=False)\n",
    "```\n",
    "Now, I want to provide value to just `end` and not for other keyword argument.\n",
    "```python\n",
    "print(\"a:\", a, \"\\tb:\", b, end=\"\\t\")\n",
    "```"
   ]
  },
  {
   "cell_type": "code",
   "execution_count": 31,
   "metadata": {},
   "outputs": [],
   "source": [
    "def addition_abc(a, b, c):\n",
    "    print(\"a=\", a, \"b=\", b, \"c=\", c)\n",
    "    return a + b + c"
   ]
  },
  {
   "cell_type": "markdown",
   "metadata": {},
   "source": [
    "- order of variable can be changed"
   ]
  },
  {
   "cell_type": "code",
   "execution_count": 32,
   "metadata": {},
   "outputs": [
    {
     "name": "stdout",
     "output_type": "stream",
     "text": [
      "a= 10 b= 14 c= 20\n"
     ]
    },
    {
     "data": {
      "text/plain": [
       "44"
      ]
     },
     "execution_count": 32,
     "metadata": {},
     "output_type": "execute_result"
    }
   ],
   "source": [
    "addition_abc(b=14, c=20, a=10)"
   ]
  },
  {
   "cell_type": "markdown",
   "metadata": {},
   "source": [
    "#### Gotcha #1"
   ]
  },
  {
   "cell_type": "markdown",
   "metadata": {},
   "source": [
    "```python\n",
    "## Gotcha #1\n",
    "addition_abc(b=1, a=2, 3)\n",
    "```\n",
    "**Output**:\n",
    "```python\n",
    "  File \"<ipython-input-10-e66702cbcb27>\", line 2\n",
    "    addition_abc(b=1, a=2, 3)\n",
    "                      ^\n",
    "SyntaxError: positional argument follows keyword argument\n",
    "```    "
   ]
  },
  {
   "cell_type": "markdown",
   "metadata": {},
   "source": [
    "> **NOTE**: We cannot have **non-keyword/positional** arguments after **keyword/named** arguments"
   ]
  },
  {
   "cell_type": "code",
   "execution_count": 33,
   "metadata": {},
   "outputs": [
    {
     "name": "stdout",
     "output_type": "stream",
     "text": [
      "a= 2 b= 4 c= 3\n"
     ]
    },
    {
     "data": {
      "text/plain": [
       "9"
      ]
     },
     "execution_count": 33,
     "metadata": {},
     "output_type": "execute_result"
    }
   ],
   "source": [
    "addition_abc(2, c=3, b=4)"
   ]
  },
  {
   "cell_type": "code",
   "execution_count": 34,
   "metadata": {},
   "outputs": [
    {
     "name": "stdout",
     "output_type": "stream",
     "text": [
      "a= 2 b= 2 c= 3\n"
     ]
    },
    {
     "data": {
      "text/plain": [
       "7"
      ]
     },
     "execution_count": 34,
     "metadata": {},
     "output_type": "execute_result"
    }
   ],
   "source": [
    "addition_abc(2, b=2, c=3)"
   ]
  },
  {
   "cell_type": "markdown",
   "metadata": {},
   "source": [
    "#### Gotcha #2"
   ]
  },
  {
   "cell_type": "code",
   "execution_count": 34,
   "metadata": {},
   "outputs": [
    {
     "name": "stdout",
     "output_type": "stream",
     "text": [
      "addition_abc() got multiple values for argument 'a'\n"
     ]
    }
   ],
   "source": [
    "try:\n",
    "    addition_abc(2, a=12, c=3)\n",
    "except Exception as e:\n",
    "    print(e)"
   ]
  },
  {
   "cell_type": "markdown",
   "metadata": {},
   "source": [
    "#### Gotcha #3"
   ]
  },
  {
   "cell_type": "markdown",
   "metadata": {},
   "source": [
    "```python\n",
    "# !!! Gotcha !!!\n",
    "try:\n",
    "    addition_abc(2, b=12, c=3, c=2)\n",
    "except Exception as e:\n",
    "    print(e)\n",
    "```\n",
    "\n",
    "**Output:**\n",
    "```python\n",
    "  File \"<ipython-input-2-6556eb21103d>\", line 2\n",
    "    addition_abc(2, b=12, c=3, c=2)\n",
    "                              ^\n",
    "SyntaxError: keyword argument repeated\n",
    "```"
   ]
  },
  {
   "cell_type": "markdown",
   "metadata": {},
   "source": [
    "Functions can also not return anything like in the below example"
   ]
  },
  {
   "cell_type": "code",
   "execution_count": 35,
   "metadata": {},
   "outputs": [],
   "source": [
    "def test_new(a, b, c):\n",
    "    pass"
   ]
  },
  {
   "cell_type": "markdown",
   "metadata": {},
   "source": [
    "Functions can also return multiple values, usually in form of tuple as shown in the below example."
   ]
  },
  {
   "cell_type": "markdown",
   "metadata": {},
   "source": [
    "### Handling the functions which returns more than one value"
   ]
  },
  {
   "cell_type": "markdown",
   "metadata": {},
   "source": [
    "#### Method 1: Using single variable"
   ]
  },
  {
   "cell_type": "code",
   "execution_count": 16,
   "metadata": {},
   "outputs": [
    {
     "name": "stdout",
     "output_type": "stream",
     "text": [
      "(4, 25, 10, 7) <class 'tuple'>\n"
     ]
    }
   ],
   "source": [
    "def math_mixer(a, b):\n",
    "    return a*a, b*b, a*b, a+b\n",
    "\n",
    "x = math_mixer(2, 5)\n",
    "\n",
    "print(x, type(x))"
   ]
  },
  {
   "cell_type": "markdown",
   "metadata": {},
   "source": [
    "#### Method 2: Using multiple variables"
   ]
  },
  {
   "cell_type": "markdown",
   "metadata": {},
   "source": [
    "We can handle them multiple ways, we are going to discuss about them in this chapter"
   ]
  },
  {
   "cell_type": "code",
   "execution_count": 17,
   "metadata": {
    "scrolled": true
   },
   "outputs": [
    {
     "name": "stdout",
     "output_type": "stream",
     "text": [
      "2 5\n",
      "4 <class 'int'>\n",
      "25 <class 'int'>\n"
     ]
    }
   ],
   "source": [
    "def math_mixer(a, b):\n",
    "    print(a, b)\n",
    "    return a*a, b*b\n",
    "\n",
    "aa, bb = math_mixer(2, 5)\n",
    "\n",
    "print(aa, type(aa))\n",
    "print(bb, type(bb))"
   ]
  },
  {
   "cell_type": "code",
   "execution_count": 27,
   "metadata": {},
   "outputs": [],
   "source": [
    "def math_mixer(a, b):\n",
    "    print(a, b)\n",
    "    return a*a, b*b, a*b"
   ]
  },
  {
   "cell_type": "code",
   "execution_count": 28,
   "metadata": {},
   "outputs": [
    {
     "name": "stdout",
     "output_type": "stream",
     "text": [
      "2 5\n",
      "(4, 25, 10)\n",
      "<class 'tuple'>\n"
     ]
    }
   ],
   "source": [
    "x = math_mixer(2 , 5)\n",
    "print(x)\n",
    "print(type(x))"
   ]
  },
  {
   "cell_type": "code",
   "execution_count": 29,
   "metadata": {},
   "outputs": [
    {
     "name": "stdout",
     "output_type": "stream",
     "text": [
      "2 5\n",
      "(4, 25, [7, -3])\n",
      "<class 'tuple'>\n"
     ]
    }
   ],
   "source": [
    "# Different data types can also be returned at the same time\n",
    "\n",
    "def math_mixer(a, b):\n",
    "    print(a, b)\n",
    "    return a*a, b*b, [a + b, a - b]\n",
    "\n",
    "x = math_mixer(2, 5)\n",
    "print(x)\n",
    "print(type(x))"
   ]
  },
  {
   "cell_type": "code",
   "execution_count": 30,
   "metadata": {},
   "outputs": [
    {
     "name": "stdout",
     "output_type": "stream",
     "text": [
      "<class 'list'>\n"
     ]
    }
   ],
   "source": [
    "print(type(x[2]))"
   ]
  },
  {
   "cell_type": "code",
   "execution_count": 37,
   "metadata": {},
   "outputs": [
    {
     "name": "stdout",
     "output_type": "stream",
     "text": [
      "2 5\n",
      "4 25\n",
      "<class 'int'> <class 'int'>\n",
      "12 5\n",
      "too many values to unpack (expected 2)\n"
     ]
    }
   ],
   "source": [
    "# ### Bad Design \n",
    "# Please try to avoid any usecase like below\n",
    "\n",
    "def math_mixer(a, b):\n",
    "    print(a, b)\n",
    "    if a > b:\n",
    "        return a*a, b*b, [a + b, a - b]\n",
    "    else:\n",
    "        return a*a, b*b\n",
    "\n",
    "x, b = math_mixer(2, 5)\n",
    "print(x, b)\n",
    "print(type(x), type(b))\n",
    "\n",
    "try:\n",
    "    # This will fail, as it will get three values instead \n",
    "    # of expected two\n",
    "    x, b = math_mixer(12, 5)\n",
    "    print(x, b)\n",
    "except Exception as e:\n",
    "    print(e)"
   ]
  },
  {
   "cell_type": "markdown",
   "metadata": {},
   "source": [
    "### Default/Optional Parameters"
   ]
  },
  {
   "cell_type": "code",
   "execution_count": 35,
   "metadata": {},
   "outputs": [],
   "source": [
    "def math_mixer(a, b):\n",
    "    print(a, b)\n",
    "    return a*a, b*b"
   ]
  },
  {
   "cell_type": "markdown",
   "metadata": {},
   "source": [
    "if I forgot to provide `b` then the below code will not run"
   ]
  },
  {
   "cell_type": "code",
   "execution_count": 38,
   "metadata": {},
   "outputs": [
    {
     "name": "stdout",
     "output_type": "stream",
     "text": [
      "math_mixer() missing 1 required positional argument: 'b'\n"
     ]
    }
   ],
   "source": [
    "try:\n",
    "    math_mixer(10)\n",
    "except Exception as e:\n",
    "    print(e)"
   ]
  },
  {
   "cell_type": "markdown",
   "metadata": {},
   "source": [
    "Now, if you provide default values in the function itself, then you can skip them at the function call. \n",
    "\n",
    "In the below example, as `a` and `b` have default values assigned to them, they becomes optional parameters."
   ]
  },
  {
   "cell_type": "code",
   "execution_count": 40,
   "metadata": {},
   "outputs": [],
   "source": [
    "def math_mixer(a=100, b=1000):\n",
    "    print(a, b)\n",
    "    return a*a, b*a"
   ]
  },
  {
   "cell_type": "code",
   "execution_count": 41,
   "metadata": {},
   "outputs": [
    {
     "name": "stdout",
     "output_type": "stream",
     "text": [
      "2 5\n",
      "(4, 10)\n"
     ]
    }
   ],
   "source": [
    "x = math_mixer(2, 5)\n",
    "print(x)"
   ]
  },
  {
   "cell_type": "code",
   "execution_count": 43,
   "metadata": {},
   "outputs": [
    {
     "name": "stdout",
     "output_type": "stream",
     "text": [
      "5 1000\n",
      "(25, 5000)\n"
     ]
    }
   ],
   "source": [
    "print(math_mixer(5))"
   ]
  },
  {
   "cell_type": "code",
   "execution_count": 45,
   "metadata": {},
   "outputs": [
    {
     "name": "stdout",
     "output_type": "stream",
     "text": [
      "100 6\n",
      "(10000, 600)\n"
     ]
    }
   ],
   "source": [
    "print(math_mixer(b=6))"
   ]
  },
  {
   "cell_type": "code",
   "execution_count": 48,
   "metadata": {},
   "outputs": [],
   "source": [
    "def math_mixer(d, c, a=100, b=1000): # Two required and two optional arguments\n",
    "    print(d, c, a, b)\n",
    "    return d*c, c*b, b*a, a*d"
   ]
  },
  {
   "cell_type": "code",
   "execution_count": 49,
   "metadata": {},
   "outputs": [
    {
     "name": "stdout",
     "output_type": "stream",
     "text": [
      "10 2 100 5\n",
      "(20, 10, 500, 1000)\n"
     ]
    }
   ],
   "source": [
    "x = math_mixer(c=2, d=10, b=5) # All named arguments\n",
    "print(x)"
   ]
  },
  {
   "cell_type": "code",
   "execution_count": 53,
   "metadata": {},
   "outputs": [
    {
     "name": "stdout",
     "output_type": "stream",
     "text": [
      "1 2 3 4\n",
      "(2, 8, 12, 3)\n"
     ]
    }
   ],
   "source": [
    "x = math_mixer(1, 2, 3, 4)\n",
    "print(x)"
   ]
  },
  {
   "cell_type": "code",
   "execution_count": 51,
   "metadata": {},
   "outputs": [
    {
     "name": "stdout",
     "output_type": "stream",
     "text": [
      "10 2 100 1000\n",
      "(20, 2000, 100000, 1000)\n"
     ]
    }
   ],
   "source": [
    "print(math_mixer(10, 2))"
   ]
  },
  {
   "cell_type": "code",
   "execution_count": 52,
   "metadata": {},
   "outputs": [
    {
     "name": "stdout",
     "output_type": "stream",
     "text": [
      "Error: math_mixer() missing 1 required positional argument: 'c'\n"
     ]
    }
   ],
   "source": [
    "try:\n",
    "    print(math_mixer(10))\n",
    "except Exception as e:\n",
    "    print(\"Error:\", e)"
   ]
  },
  {
   "cell_type": "markdown",
   "metadata": {},
   "source": [
    "> <center>Note:</center>\n",
    "> <hr>\n",
    "> We can also do make sure that all the keyword arguments values are provided when function is called using the following trick"
   ]
  },
  {
   "cell_type": "code",
   "execution_count": 54,
   "metadata": {},
   "outputs": [],
   "source": [
    "def mandy(a, b, *, c=\"Pune\", d=\"Hyderabad\"):\n",
    "    print(a, b, c, d)"
   ]
  },
  {
   "cell_type": "markdown",
   "metadata": {},
   "source": [
    "If we provide keyword arguments with keywords then everything works fine as shown in the below examples."
   ]
  },
  {
   "cell_type": "code",
   "execution_count": 55,
   "metadata": {},
   "outputs": [
    {
     "name": "stdout",
     "output_type": "stream",
     "text": [
      "10 20 Budd Lake Chennai\n"
     ]
    }
   ],
   "source": [
    "mandy(10, 20, c=\"Budd Lake\", d=\"Chennai\")"
   ]
  },
  {
   "cell_type": "code",
   "execution_count": 60,
   "metadata": {},
   "outputs": [
    {
     "name": "stdout",
     "output_type": "stream",
     "text": [
      "Error: mandy() takes 2 positional arguments but 3 positional arguments (and 1 keyword-only argument) were given\n"
     ]
    }
   ],
   "source": [
    "try:\n",
    "    mandy(10, 20, \"Budd Lake\", d=\"Chennai\")\n",
    "except Exception as e:\n",
    "    print(\"Error:\", e)"
   ]
  },
  {
   "cell_type": "code",
   "execution_count": 58,
   "metadata": {},
   "outputs": [
    {
     "name": "stdout",
     "output_type": "stream",
     "text": [
      "10 20 Budd Lake Hyderabad\n"
     ]
    }
   ],
   "source": [
    "mandy(10, 20, c=\"Budd Lake\")"
   ]
  },
  {
   "cell_type": "code",
   "execution_count": 61,
   "metadata": {},
   "outputs": [
    {
     "name": "stdout",
     "output_type": "stream",
     "text": [
      "10 20 Pune Hyderabad\n"
     ]
    }
   ],
   "source": [
    "mandy(10, 20)"
   ]
  },
  {
   "cell_type": "markdown",
   "metadata": {},
   "source": [
    "but if we try to use keyword argument as positional argument its then we start getting error message."
   ]
  },
  {
   "cell_type": "markdown",
   "metadata": {},
   "source": [
    "```python \n",
    "mandy(10, 20, 30, 40, 50)\n",
    "```\n",
    "\n",
    "Output\n",
    "```python\n",
    "---------------------------------------------------------------------------\n",
    "TypeError                                 Traceback (most recent call last)\n",
    "<ipython-input-8-e92865ac2d63> in <module>()\n",
    "----> 1 mandy(10, 20, 30, 40, 50)\n",
    "\n",
    "TypeError: mandy() takes 2 positional arguments but 5 were given\n",
    "```\n",
    "\n",
    "    "
   ]
  },
  {
   "cell_type": "markdown",
   "metadata": {},
   "source": [
    "```python \n",
    "mandy(10, 20, 40, 50)\n",
    "```\n",
    "\n",
    "Output\n",
    "```python\n",
    "---------------------------------------------------------------------------\n",
    "TypeError                                 Traceback (most recent call last)\n",
    "<ipython-input-8-e92865ac2d63> in <module>()\n",
    "----> 1 mandy(10, 20, 40, 50)\n",
    "\n",
    "TypeError: mandy() takes 2 positional arguments but 5 were given\n",
    "```\n",
    "\n",
    "    "
   ]
  },
  {
   "cell_type": "code",
   "execution_count": 62,
   "metadata": {},
   "outputs": [],
   "source": [
    "# All the arguments after `*` needs to be provided\n",
    "# as keyword argument\n",
    "def mandy(a, b, *, c, d=\"Hyderabad\"):\n",
    "    print(a, b, c, d)"
   ]
  },
  {
   "cell_type": "code",
   "execution_count": 63,
   "metadata": {},
   "outputs": [
    {
     "name": "stdout",
     "output_type": "stream",
     "text": [
      "10 20 40 50\n"
     ]
    }
   ],
   "source": [
    "mandy(10, 20, c=40, d=50)"
   ]
  },
  {
   "cell_type": "code",
   "execution_count": 64,
   "metadata": {},
   "outputs": [
    {
     "name": "stdout",
     "output_type": "stream",
     "text": [
      "mandy() takes 2 positional arguments but 3 positional arguments (and 1 keyword-only argument) were given\n"
     ]
    }
   ],
   "source": [
    "# I can not use `c` as positional argument.\n",
    "try:\n",
    "    mandy(10, 20, 40, d=50)\n",
    "except Exception as e:\n",
    "    print(e)"
   ]
  },
  {
   "cell_type": "markdown",
   "metadata": {},
   "source": [
    "Example (RGB conversion):"
   ]
  },
  {
   "cell_type": "code",
   "execution_count": 60,
   "metadata": {},
   "outputs": [
    {
     "name": "stdout",
     "output_type": "stream",
     "text": [
      "#c8c8ff\n",
      "#ffc8c8\n",
      "(200, 200, 255)\n"
     ]
    }
   ],
   "source": [
    "def rgb_html(r=0, g=0, b=0):\n",
    "    \"\"\"Converts R, G, B to #RRGGBB\"\"\"\n",
    "\n",
    "    return '#%02x%02x%02x' % (r, g, b)\n",
    "\n",
    "def html_rgb(color='#000000'):\n",
    "    \"\"\"Converts #RRGGBB em R, G, B\"\"\"\n",
    "\n",
    "    if color.startswith('#'): color = color[1:]\n",
    "\n",
    "    r = int(color[:2], 16)\n",
    "    g = int(color[2:4], 16)\n",
    "    b = int(color[4:], 16)\n",
    "\n",
    "    return r, g, b\n",
    "\n",
    "\n",
    "print (rgb_html(200, 200, 255))\n",
    "print (rgb_html(b=200, g=200, r=255))\n",
    "print (html_rgb('#c8c8ff'))"
   ]
  },
  {
   "cell_type": "markdown",
   "metadata": {},
   "source": [
    "> **Note**: non-default argument's should always follow default argument"
   ]
  },
  {
   "cell_type": "markdown",
   "metadata": {},
   "source": [
    "**Example**:  \n",
    "```python\n",
    "def test(d, a=100, c, b=1000):\n",
    "        print(d, c, a, b)\n",
    "        return d, c, a, b\n",
    "\n",
    "x = test(c=2, d=10, b=5)\n",
    "print(x)\n",
    "x = test(1, 2, 3, 4)\n",
    "print(x)\n",
    "print(test(10, 2))\n",
    "```\n",
    "\n",
    "**Output**:\n",
    "```python\n",
    "  File \"<ipython-input-6-3d33b3561563>\", line 1\n",
    "    def test(d, a=100, c, b=1000):\n",
    "            ^\n",
    "SyntaxError: non-default argument follows default argument\n",
    "```"
   ]
  },
  {
   "cell_type": "code",
   "execution_count": 61,
   "metadata": {},
   "outputs": [
    {
     "name": "stdout",
     "output_type": "stream",
     "text": [
      "10 2 100 5\n",
      "(10, 2, 100, 5)\n",
      "2 1 3 4\n",
      "(2, 1, 3, 4)\n",
      "2 10 100 1000\n",
      "(2, 10, 100, 1000)\n"
     ]
    }
   ],
   "source": [
    "def test(c, d, a=100, b=1000):\n",
    "    print(d, c, a, b)\n",
    "    return d, c, a, b\n",
    "\n",
    "x = test(c=2, d=10, b=5)\n",
    "print(x)\n",
    "x = test(1, 2, 3, 4)\n",
    "print(x)\n",
    "print(test(10, 2))"
   ]
  },
  {
   "cell_type": "code",
   "execution_count": 65,
   "metadata": {},
   "outputs": [
    {
     "name": "stdout",
     "output_type": "stream",
     "text": [
      "TEST TEST TEST TEST.\b"
     ]
    }
   ],
   "source": [
    "print(\"TEST\", \"TEST\", \"TEST\", \"TEST\", end=\".\\b\")"
   ]
  },
  {
   "cell_type": "code",
   "execution_count": 66,
   "metadata": {},
   "outputs": [
    {
     "name": "stdout",
     "output_type": "stream",
     "text": [
      "Help on built-in function print in module builtins:\n",
      "\n",
      "print(...)\n",
      "    print(value, ..., sep=' ', end='\\n', file=sys.stdout, flush=False)\n",
      "    \n",
      "    Prints the values to a stream, or to sys.stdout by default.\n",
      "    Optional keyword arguments:\n",
      "    file:  a file-like object (stream); defaults to the current sys.stdout.\n",
      "    sep:   string inserted between values, default a space.\n",
      "    end:   string appended after the last value, default a newline.\n",
      "    flush: whether to forcibly flush the stream.\n",
      "\n"
     ]
    }
   ],
   "source": [
    "help(print)"
   ]
  },
  {
   "cell_type": "markdown",
   "metadata": {},
   "source": [
    "Example of how to get all parameters:"
   ]
  },
  {
   "cell_type": "code",
   "execution_count": 68,
   "metadata": {},
   "outputs": [],
   "source": [
    "# Can handle all the positional arguments passed.\n",
    "def math_magic(*a):\n",
    "    n = 0\n",
    "    print(a)\n",
    "    for x in a:\n",
    "        n += x\n",
    "    return n"
   ]
  },
  {
   "cell_type": "code",
   "execution_count": 69,
   "metadata": {},
   "outputs": [
    {
     "name": "stdout",
     "output_type": "stream",
     "text": [
      "(10, 20, 30, 40)\n",
      "100\n"
     ]
    }
   ],
   "source": [
    "print(math_magic(10, 20, 30, 40))"
   ]
  },
  {
   "cell_type": "code",
   "execution_count": 70,
   "metadata": {},
   "outputs": [],
   "source": [
    "# Handles all the keyword arguments passed.\n",
    "def math_magic(**a):\n",
    "    n = 0\n",
    "    for key in a:\n",
    "        print(key, a[key])\n",
    "        n += a[key]\n",
    "    return n"
   ]
  },
  {
   "cell_type": "code",
   "execution_count": 71,
   "metadata": {},
   "outputs": [
    {
     "name": "stdout",
     "output_type": "stream",
     "text": [
      "a 10\n",
      "b 20\n",
      "c 30\n",
      "d 40\n",
      "100\n"
     ]
    }
   ],
   "source": [
    "print(math_magic(a=10, b=20, c=30, d=40))"
   ]
  },
  {
   "cell_type": "code",
   "execution_count": 74,
   "metadata": {
    "scrolled": true
   },
   "outputs": [],
   "source": [
    "# *args - arguments without name (tuple)\n",
    "# **kargs - arguments with name (dict)\n",
    "\n",
    "def my_print(*args, **kargs):\n",
    "    print(args, type(args))\n",
    "    print(kargs, type(kargs))"
   ]
  },
  {
   "cell_type": "code",
   "execution_count": 20,
   "metadata": {},
   "outputs": [
    {
     "name": "stdout",
     "output_type": "stream",
     "text": [
      "('weight', 10) <class 'tuple'>\n",
      "{'unit': 'k', 'type': 'test'} <class 'dict'>\n"
     ]
    }
   ],
   "source": [
    "my_print('weight', 10, unit='k', type=\"test\")"
   ]
  },
  {
   "cell_type": "markdown",
   "metadata": {},
   "source": [
    "names `args` and `kargs` are not a rule but a coding convension to keep them same with programming practices of other languages."
   ]
  },
  {
   "cell_type": "code",
   "execution_count": 75,
   "metadata": {},
   "outputs": [
    {
     "name": "stdout",
     "output_type": "stream",
     "text": [
      "('Mann', 10) <class 'tuple'>\n",
      "{'unit': 'Kind'} <class 'dict'>\n"
     ]
    }
   ],
   "source": [
    "def my_print(*monkey, **tiger):\n",
    "    print(monkey, type(monkey))\n",
    "    print(tiger, type(tiger))\n",
    "\n",
    "my_print('Mann', 10, unit='Kind')"
   ]
  },
  {
   "cell_type": "markdown",
   "metadata": {},
   "source": [
    "In the example, `kargs` will receive the named arguments and `args` will receive the others.\n",
    "\n",
    "The interpreter has some *builtin* functions defined, including `sorted()`, which orders sequences, and `cmp()`, which makes comparisons between two arguments and returns -1 if the first element is greater, 0 (zero) if they are equal, or 1 if the latter is higher. This function is used by the routine of ordering, a behavior that can be modified.\n",
    "\n",
    "Example:"
   ]
  },
  {
   "cell_type": "code",
   "execution_count": 77,
   "metadata": {},
   "outputs": [
    {
     "name": "stdout",
     "output_type": "stream",
     "text": [
      "('weigh', 10)\n",
      "{'unit': 'k', 'val': {'name': 'Mohan kumar Shah', 'age': 46}}\n"
     ]
    }
   ],
   "source": [
    "def func(*args , **kargs):\n",
    "    print(args)\n",
    "    print(kargs)\n",
    "\n",
    "    \n",
    "a = {\n",
    "    \"name\": \"Mohan kumar Shah\",\n",
    "    \"age\": 45 + 1\n",
    "}\n",
    "\n",
    "func('weigh', 10, unit='k', val=a)"
   ]
  },
  {
   "cell_type": "code",
   "execution_count": 72,
   "metadata": {},
   "outputs": [
    {
     "name": "stdout",
     "output_type": "stream",
     "text": [
      "weigh 10 \n",
      "\n",
      "{'unit': 'k', 'val': {'name': 'Mohan kumar Shah', 'age': 25}}\n"
     ]
    }
   ],
   "source": [
    "def my_print(*args , **kargs):\n",
    "    for a in args:\n",
    "        print(a, end=\" \")\n",
    "    print(\"\\n\")\n",
    "    print (kargs)\n",
    "\n",
    "my_print('weigh', 10, unit='k', val=a)"
   ]
  },
  {
   "cell_type": "code",
   "execution_count": 73,
   "metadata": {},
   "outputs": [
    {
     "name": "stdout",
     "output_type": "stream",
     "text": [
      "weigh 10 101 \n",
      "\n",
      "k {'name': 'Mohan kumar Shah', 'age': 25} \n"
     ]
    }
   ],
   "source": [
    "def my_print(*args, **kargs):\n",
    "    for a in args:\n",
    "        print(a, end=\" \")\n",
    "    print(\"\\n\")\n",
    "    for val in kargs.values():\n",
    "        print(val, end=\" \")\n",
    "    print()\n",
    "\n",
    "a = {\n",
    "    \"name\": \"Mohan kumar Shah\",\n",
    "    \"age\": 24 + 1\n",
    "}\n",
    "\n",
    "my_print('weigh', 10, 101, unit='k', val=a)"
   ]
  },
  {
   "cell_type": "code",
   "execution_count": 74,
   "metadata": {},
   "outputs": [
    {
     "name": "stdout",
     "output_type": "stream",
     "text": [
      "('weigh', 10, 'test')\n"
     ]
    }
   ],
   "source": [
    "def func(*args):\n",
    "    print(args)\n",
    "\n",
    "func('weigh', 10, \"test\")"
   ]
  },
  {
   "cell_type": "code",
   "execution_count": 75,
   "metadata": {},
   "outputs": [
    {
     "name": "stdout",
     "output_type": "stream",
     "text": [
      "func() got an unexpected keyword argument 'unit'\n"
     ]
    }
   ],
   "source": [
    "### Gotcha, The below function will not accept any keyword argument.\n",
    "\n",
    "def func(*args):\n",
    "    print(args)\n",
    "try:\n",
    "    func('weigh', 10, \"test\", unit='k')\n",
    "except Exception as e:\n",
    "    print(e)"
   ]
  },
  {
   "cell_type": "code",
   "execution_count": 76,
   "metadata": {},
   "outputs": [
    {
     "name": "stdout",
     "output_type": "stream",
     "text": [
      "func() takes 0 positional arguments but 3 were given\n"
     ]
    }
   ],
   "source": [
    "### Gotcha, The below function will only accept keyword argument.\n",
    "\n",
    "def func(**kargs):\n",
    "    print(args)\n",
    "try:\n",
    "    func('weigh', 10, \"test\", unit='k')\n",
    "except Exception as e:\n",
    "    print(e)"
   ]
  },
  {
   "cell_type": "code",
   "execution_count": 77,
   "metadata": {},
   "outputs": [
    {
     "name": "stdout",
     "output_type": "stream",
     "text": [
      "List: [(4, 3), (5, 1), (4, 4), (9, 0)]\n",
      "False\n",
      "False\n",
      "True\n",
      "False\n"
     ]
    }
   ],
   "source": [
    "data = [(4, 3), (5, 1), (4, 4), (9, 0)]\n",
    "\n",
    "# Comparing by the last element\n",
    "def _cmp(x, y):\n",
    "    return (x == y)\n",
    "\n",
    "print ('List:', data)\n",
    "\n",
    "for x, y in data:\n",
    "    print(_cmp(x, y))"
   ]
  },
  {
   "cell_type": "markdown",
   "metadata": {},
   "source": [
    "Python also has a *builtin* function `eval()`, which evaluates code (source or object) and returns the value.\n",
    "\n",
    "> Note: Don't use if you are not sure about the data string\n",
    "\n",
    "Example:"
   ]
  },
  {
   "cell_type": "code",
   "execution_count": 78,
   "metadata": {},
   "outputs": [
    {
     "name": "stdout",
     "output_type": "stream",
     "text": [
      "9.3\n"
     ]
    }
   ],
   "source": [
    "print (eval('12. / 2 + 3.3'))"
   ]
  },
  {
   "cell_type": "code",
   "execution_count": 79,
   "metadata": {},
   "outputs": [
    {
     "name": "stdout",
     "output_type": "stream",
     "text": [
      "Mayank Johri\n",
      "Janki Mohan Johri\n"
     ]
    }
   ],
   "source": [
    "def listing(lst):\n",
    "    for l in lst:\n",
    "        print(l)\n",
    "\n",
    "\n",
    "lst = {\"Mayank Johri\": 40, \"Janki Mohan Johri\": 68}\n",
    "listing(lst)"
   ]
  },
  {
   "cell_type": "code",
   "execution_count": 80,
   "metadata": {},
   "outputs": [],
   "source": [
    "# !!! Nice understanding example. !!!\n",
    "\n",
    "default_user = {\n",
    "    \"name\": \"Mohan kumar Shah\",\n",
    "    \"age\": 24 + 1\n",
    "}\n",
    "\n",
    "def process_dict(user=default_user):\n",
    "    print(user)\n",
    "    return user"
   ]
  },
  {
   "cell_type": "code",
   "execution_count": 81,
   "metadata": {},
   "outputs": [
    {
     "name": "stdout",
     "output_type": "stream",
     "text": [
      "{'name': 'Sachin Shah', 'age': 42}\n"
     ]
    },
    {
     "data": {
      "text/plain": [
       "{'name': 'Sachin Shah', 'age': 42}"
      ]
     },
     "execution_count": 81,
     "metadata": {},
     "output_type": "execute_result"
    }
   ],
   "source": [
    "# Lets provide user_details to the function while calling it. \n",
    "user_details = {\n",
    "    \"name\": \"Sachin Shah\",\n",
    "    \"age\": 42\n",
    "}\n",
    "\n",
    "process_dict(user_details)"
   ]
  },
  {
   "cell_type": "code",
   "execution_count": 82,
   "metadata": {},
   "outputs": [
    {
     "name": "stdout",
     "output_type": "stream",
     "text": [
      "{'name': 'Mohan kumar Shah', 'age': 25}\n",
      "user_details:  {'name': 'Mohan kumar Shah', 'age': 25}\n"
     ]
    }
   ],
   "source": [
    "user_details = process_dict()\n",
    "print(\"user_details: \", user_details)"
   ]
  },
  {
   "cell_type": "markdown",
   "metadata": {},
   "source": [
    "now, lets update the value of a,"
   ]
  },
  {
   "cell_type": "code",
   "execution_count": 83,
   "metadata": {},
   "outputs": [
    {
     "name": "stdout",
     "output_type": "stream",
     "text": [
      "{'name': 'Mohan kumar Shah', 'age': 25, 'hobby': 'Reading `Sir Arthur C Clarks` books'}\n",
      "user_details_new:  {'name': 'Mohan kumar Shah', 'age': 25, 'hobby': 'Reading `Sir Arthur C Clarks` books'} 4582987648\n",
      "user_details: {'name': 'Mohan kumar Shah', 'age': 25, 'hobby': 'Reading `Sir Arthur C Clarks` books'} 4582987648\n"
     ]
    }
   ],
   "source": [
    "# Adding new Key/Value pair\n",
    "\n",
    "default_user[\"hobby\"] = \"Reading `Sir Arthur C Clarks` books\"\n",
    "\n",
    "user_details_new = process_dict()\n",
    "print(\"user_details_new: \", user_details_new, id(user_details_new))\n",
    "print(\"user_details:\", user_details, id(user_details))"
   ]
  },
  {
   "cell_type": "code",
   "execution_count": 84,
   "metadata": {},
   "outputs": [
    {
     "name": "stdout",
     "output_type": "stream",
     "text": [
      "{'name': 'Mohan kumar Shah', 'age': 25, 'hobby': 'Reading `Sir Arthur C Clarks` books'}\n",
      "{'name': 'Mohan kumar Shah', 'age': 25, 'hobby': 'Reading `Sir Arthur C Clarks` books'}\n"
     ]
    }
   ],
   "source": [
    "## !!! *** Gotcha *** !!! \n",
    "\n",
    "default_user = \"Reading `Arthur C Clarks` books\"\n",
    "\n",
    "a = process_dict()\n",
    "print(a)"
   ]
  },
  {
   "cell_type": "code",
   "execution_count": 85,
   "metadata": {},
   "outputs": [
    {
     "name": "stdout",
     "output_type": "stream",
     "text": [
      "{'name': 'Mohan kumar Shah', 'age': 25, 'hobby': 'Reading `Sir Arthur C Clarks` books'}\n"
     ]
    },
    {
     "data": {
      "text/plain": [
       "{'name': 'Mohan kumar Shah',\n",
       " 'age': 25,\n",
       " 'hobby': 'Reading `Sir Arthur C Clarks` books'}"
      ]
     },
     "execution_count": 85,
     "metadata": {},
     "output_type": "execute_result"
    }
   ],
   "source": [
    "process_dict(a)"
   ]
  },
  {
   "cell_type": "code",
   "execution_count": 86,
   "metadata": {},
   "outputs": [
    {
     "name": "stdout",
     "output_type": "stream",
     "text": [
      "name 'du' is not defined\n"
     ]
    }
   ],
   "source": [
    "# !!! Nice understanding example. !!!\n",
    "\n",
    "try:\n",
    "    def process_dict(d=du):\n",
    "        print(d)\n",
    "\n",
    "    du = {\n",
    "        \"name\": \"Mohan kumar Shah\",\n",
    "        \"age\": 24 + 1\n",
    "    }\n",
    "\n",
    "    user_details = {\n",
    "        \"name\": \"Sachin Shah\",\n",
    "        \"age\": 42\n",
    "    }\n",
    "\n",
    "    process_dict(user_details)\n",
    "    process_dict()\n",
    "except Exception as e:\n",
    "    print(e)"
   ]
  },
  {
   "cell_type": "code",
   "execution_count": 87,
   "metadata": {},
   "outputs": [
    {
     "name": "stdout",
     "output_type": "stream",
     "text": [
      "name 'du' is not defined\n"
     ]
    }
   ],
   "source": [
    "# !!! Nice understanding example. !!!\n",
    "\n",
    "try:\n",
    "    def process_dict(d=du):\n",
    "        print(d)\n",
    "\n",
    "    du = 10\n",
    "    user_details = 20\n",
    "\n",
    "    process_dict(user_details)\n",
    "    process_dict()\n",
    "except Exception as e:\n",
    "    print(e)"
   ]
  },
  {
   "cell_type": "code",
   "execution_count": 88,
   "metadata": {},
   "outputs": [
    {
     "name": "stdout",
     "output_type": "stream",
     "text": [
      "{'name': 'Sachin Shah', 'age': 42}\n",
      "{'name': 'Mohan kumar Shah', 'age': 25}\n"
     ]
    }
   ],
   "source": [
    "# !!! Nice understanding example. !!!\n",
    "# 1. If we are using variables as default vaules, then they should already be existing or \n",
    "#    error is returned by Python. \n",
    "\n",
    "try:\n",
    "    du = {\n",
    "        \"name\": \"Mohan kumar Shah\",\n",
    "        \"age\": 24 + 1\n",
    "    }\n",
    "    \n",
    "    def process_dict(d=du):\n",
    "        print(d)\n",
    "\n",
    "    user_details = {\n",
    "        \"name\": \"Sachin Shah\",\n",
    "        \"age\": 42\n",
    "    }\n",
    "\n",
    "    process_dict(user_details)\n",
    "    process_dict()\n",
    "except Exception as e:\n",
    "    print(e)"
   ]
  },
  {
   "cell_type": "markdown",
   "metadata": {},
   "source": [
    "**What happened** \n",
    "\n",
    "Whe we defined the function, `d` and `a` were pointing to the memory which contains the dictionary. \n",
    "\n",
    "- later we updated the value of the dictionary, thus in next execution we got the updated values, as the list was still the same.  \n",
    "- later we chagned the value to `a` to a string, but that did not changed the value of `d` as it is still pointing to the dictionary. "
   ]
  },
  {
   "cell_type": "markdown",
   "metadata": {},
   "source": [
    "> **Observations**:\n",
    "\n",
    "> + The  arguments with default/keyword arguments must come last, after the positional arguments.\n",
    "> + _**The default value for a parameter is calculated when the function is defined.**_\n",
    "> + The arguments passed without an identifier are received by the function in the form of a **typle**.\n",
    "> + The arguments passed to the function with an identifier are received in the form of a **dictionary**.\n",
    "> + The parameters passed to the function with an identifier should come at the end of the parameter list."
   ]
  },
  {
   "cell_type": "markdown",
   "metadata": {},
   "source": [
    "### Default arguments with immutable values "
   ]
  },
  {
   "cell_type": "code",
   "execution_count": 95,
   "metadata": {},
   "outputs": [],
   "source": [
    "a = 20_000\n",
    "\n",
    "def process_val(d=a):\n",
    "    print()\n",
    "    print(f\"d: {d}, id(d): {id(d)}\")"
   ]
  },
  {
   "cell_type": "code",
   "execution_count": 96,
   "metadata": {},
   "outputs": [
    {
     "name": "stdout",
     "output_type": "stream",
     "text": [
      "\n",
      "d: 10, id(d): 4436954048\n"
     ]
    }
   ],
   "source": [
    "process_val(10)"
   ]
  },
  {
   "cell_type": "code",
   "execution_count": 97,
   "metadata": {},
   "outputs": [
    {
     "name": "stdout",
     "output_type": "stream",
     "text": [
      "\n",
      "d: 20000, id(d): 4492125264\n"
     ]
    }
   ],
   "source": [
    "process_val()"
   ]
  },
  {
   "cell_type": "markdown",
   "metadata": {},
   "source": [
    "Lets update the value of a with 200, "
   ]
  },
  {
   "cell_type": "code",
   "execution_count": 98,
   "metadata": {},
   "outputs": [
    {
     "name": "stdout",
     "output_type": "stream",
     "text": [
      "\n",
      "d: 20000, id(d): 4492125264\n",
      "200\n"
     ]
    }
   ],
   "source": [
    "a = 200\n",
    "process_val()\n",
    "print(a)"
   ]
  },
  {
   "cell_type": "code",
   "execution_count": 99,
   "metadata": {},
   "outputs": [
    {
     "name": "stdout",
     "output_type": "stream",
     "text": [
      "\n",
      "d: 200, id(d): 4436960128\n"
     ]
    }
   ],
   "source": [
    "process_val(200)"
   ]
  },
  {
   "cell_type": "code",
   "execution_count": 101,
   "metadata": {},
   "outputs": [
    {
     "name": "stdout",
     "output_type": "stream",
     "text": [
      "\n",
      "d: 20000, id(d): 4492125264\n"
     ]
    }
   ],
   "source": [
    "process_val()"
   ]
  },
  {
   "cell_type": "markdown",
   "metadata": {},
   "source": [
    "since at the time of function declaration, the `a` was pointing to a memory with value 20000. Thus `d` was also pointing to the same memory location, \n",
    "\n",
    "When later we changed that `a` started pointing to memory with data `200`, `d` continued to point to the memory with value `20000`"
   ]
  },
  {
   "cell_type": "markdown",
   "metadata": {},
   "source": [
    "### with list"
   ]
  },
  {
   "cell_type": "code",
   "execution_count": 120,
   "metadata": {},
   "outputs": [],
   "source": [
    "# Very Bad Idea, \n",
    "x = []\n",
    "\n",
    "def adding_lists(vals, lst=x):\n",
    "    for val in vals:\n",
    "        lst.append(val)\n",
    "    print(f\"lst: {lst}, id(lst): {id(lst)}\")\n",
    "    return lst"
   ]
  },
  {
   "cell_type": "code",
   "execution_count": 121,
   "metadata": {},
   "outputs": [
    {
     "data": {
      "text/plain": [
       "4481847936"
      ]
     },
     "execution_count": 121,
     "metadata": {},
     "output_type": "execute_result"
    }
   ],
   "source": [
    "id(x)"
   ]
  },
  {
   "cell_type": "code",
   "execution_count": 122,
   "metadata": {},
   "outputs": [
    {
     "name": "stdout",
     "output_type": "stream",
     "text": [
      "lst: [1, 2], id(lst): 4481847936\n",
      "lst: [1, 2, 1], id(lst): 4481847936\n"
     ]
    },
    {
     "data": {
      "text/plain": [
       "[1, 2, 1]"
      ]
     },
     "execution_count": 122,
     "metadata": {},
     "output_type": "execute_result"
    }
   ],
   "source": [
    "adding_lists([1, 2])\n",
    "adding_lists([1])"
   ]
  },
  {
   "cell_type": "markdown",
   "metadata": {},
   "source": [
    "it was appending the `x` "
   ]
  },
  {
   "cell_type": "code",
   "execution_count": 126,
   "metadata": {},
   "outputs": [
    {
     "name": "stdout",
     "output_type": "stream",
     "text": [
      "lst: [2, 'this is', 'just', 'a', 'test'], id(lst): 4483111360\n",
      "lst: [33, 12], id(lst): 4481517376\n"
     ]
    },
    {
     "data": {
      "text/plain": [
       "[33, 12]"
      ]
     },
     "execution_count": 126,
     "metadata": {},
     "output_type": "execute_result"
    }
   ],
   "source": [
    "# When we provide the values and not use default value it works as expected.\n",
    "\n",
    "adding_lists([\"this is\", \"just\", \"a\", \"test\"], [2])\n",
    "adding_lists([12], [33])"
   ]
  },
  {
   "cell_type": "code",
   "execution_count": 127,
   "metadata": {},
   "outputs": [
    {
     "name": "stdout",
     "output_type": "stream",
     "text": [
      "[1]\n",
      "[1, 1]\n",
      "['this is', 'just', 'a', 'test', 1]\n",
      "[1, 1, 1]\n"
     ]
    }
   ],
   "source": [
    "# Very Bad Idea, \n",
    "def test(a=[]):\n",
    "    a.append(1)\n",
    "    print(a)\n",
    "\n",
    "test()\n",
    "test()\n",
    "test([\"this is\", \"just\", \"a\", \"test\"])\n",
    "test()"
   ]
  },
  {
   "cell_type": "markdown",
   "metadata": {},
   "source": [
    "#### Why"
   ]
  },
  {
   "cell_type": "markdown",
   "metadata": {},
   "source": [
    "as `a` got initialized at the time of function `test` declaration, thus any append  to the defaultly defined `a` will point to the same list. "
   ]
  },
  {
   "cell_type": "markdown",
   "metadata": {},
   "source": [
    "#### solution to the problem"
   ]
  },
  {
   "cell_type": "code",
   "execution_count": 128,
   "metadata": {},
   "outputs": [
    {
     "name": "stdout",
     "output_type": "stream",
     "text": [
      "[1] 4492134144\n",
      "[1] 4483112448\n",
      "[1] 4455276736\n",
      "[2, 3, 1] 4492134272\n"
     ]
    }
   ],
   "source": [
    "# Still a bad idea, \n",
    "# It is still appending to actual data.\n",
    "# Solution is deepcopy\n",
    "\n",
    "def test(a=None):\n",
    "    if a == None:\n",
    "        a = []\n",
    "        \n",
    "    a.append(1)\n",
    "    print(a, id(a))\n",
    "\n",
    "test()\n",
    "test()\n",
    "test()\n",
    "x = test([2, 3])"
   ]
  },
  {
   "cell_type": "code",
   "execution_count": 129,
   "metadata": {},
   "outputs": [
    {
     "data": {
      "text/plain": [
       "[2, 3]"
      ]
     },
     "execution_count": 129,
     "metadata": {},
     "output_type": "execute_result"
    }
   ],
   "source": [
    "[2, 3]"
   ]
  },
  {
   "cell_type": "code",
   "execution_count": null,
   "metadata": {},
   "outputs": [],
   "source": []
  },
  {
   "cell_type": "markdown",
   "metadata": {},
   "source": [
    "### returning multiple values"
   ]
  },
  {
   "cell_type": "code",
   "execution_count": 130,
   "metadata": {},
   "outputs": [],
   "source": [
    "def multi_func():\n",
    "    return 10, 20, 30, 40"
   ]
  },
  {
   "cell_type": "code",
   "execution_count": 131,
   "metadata": {},
   "outputs": [
    {
     "name": "stdout",
     "output_type": "stream",
     "text": [
      "10 [20, 30] 40\n",
      "<class 'int'> <class 'list'> <class 'int'>\n"
     ]
    }
   ],
   "source": [
    "# Apart from first and last all the other returned values \n",
    "# will be handled by `b`\n",
    "\n",
    "a, *b, c = multi_func()\n",
    "print(a, b, c)\n",
    "print(type(a), type(b), type(c))"
   ]
  },
  {
   "cell_type": "code",
   "execution_count": 132,
   "metadata": {},
   "outputs": [
    {
     "name": "stdout",
     "output_type": "stream",
     "text": [
      "10 [20, 30, 40]\n"
     ]
    }
   ],
   "source": [
    "# Apart from first all the returned values will \n",
    "# be handled by `b`\n",
    "a, *b = multi_func()\n",
    "print(a, b)"
   ]
  },
  {
   "cell_type": "code",
   "execution_count": 133,
   "metadata": {},
   "outputs": [
    {
     "name": "stdout",
     "output_type": "stream",
     "text": [
      "10 ['test']\n"
     ]
    }
   ],
   "source": [
    "#$ just for fun\n",
    "def mutli_func_with_list():\n",
    "    return 10, \"test\"\n",
    "\n",
    "a, *b = mutli_func_with_list()\n",
    "print(a, b)"
   ]
  },
  {
   "cell_type": "code",
   "execution_count": 134,
   "metadata": {},
   "outputs": [
    {
     "name": "stdout",
     "output_type": "stream",
     "text": [
      "10 [(20, 30, 40)]\n"
     ]
    }
   ],
   "source": [
    "#$ just for fun\n",
    "\n",
    "def mutli_func_with_list():\n",
    "    return 10, (20, 30, 40)\n",
    "\n",
    "a, *b = mutli_func_with_list()\n",
    "print(a, b)"
   ]
  },
  {
   "cell_type": "code",
   "execution_count": 136,
   "metadata": {},
   "outputs": [
    {
     "name": "stdout",
     "output_type": "stream",
     "text": [
      "[10, 20, 30] 40\n"
     ]
    }
   ],
   "source": [
    "# `a` will get all values except last\n",
    "\n",
    "*a, b = multi_func()\n",
    "print(a, b)"
   ]
  },
  {
   "cell_type": "code",
   "execution_count": 137,
   "metadata": {},
   "outputs": [
    {
     "name": "stdout",
     "output_type": "stream",
     "text": [
      "cannot unpack non-iterable int object\n"
     ]
    }
   ],
   "source": [
    "# Gotcha !!!\n",
    "def func1():\n",
    "    return 1\n",
    "\n",
    "try:\n",
    "    *a, b = func1()\n",
    "    print(a, b)\n",
    "except Exception as e:\n",
    "    print(e)"
   ]
  },
  {
   "cell_type": "code",
   "execution_count": 106,
   "metadata": {},
   "outputs": [
    {
     "name": "stdout",
     "output_type": "stream",
     "text": [
      "cannot unpack non-iterable NoneType object\n"
     ]
    }
   ],
   "source": [
    "# Gotcha !!!\n",
    "def func1():\n",
    "    return None\n",
    "\n",
    "try:\n",
    "    *a, b = func1()\n",
    "    print(a, b)\n",
    "except Exception as e:\n",
    "    print(e)"
   ]
  },
  {
   "cell_type": "code",
   "execution_count": 107,
   "metadata": {},
   "outputs": [
    {
     "name": "stdout",
     "output_type": "stream",
     "text": [
      "cannot unpack non-iterable NoneType object\n"
     ]
    }
   ],
   "source": [
    "# Gotcha !!!\n",
    "def func1():\n",
    "    pass\n",
    "\n",
    "try:\n",
    "    *a, b = func1()\n",
    "    print(a, b)\n",
    "except Exception as e:\n",
    "    print(e)"
   ]
  },
  {
   "cell_type": "code",
   "execution_count": 138,
   "metadata": {},
   "outputs": [
    {
     "name": "stdout",
     "output_type": "stream",
     "text": [
      "[] Z\n"
     ]
    }
   ],
   "source": [
    "def func1():\n",
    "    return \"Z\"\n",
    "\n",
    "try:\n",
    "    *a, b = func1()\n",
    "    print(a, b)\n",
    "except Exception as e:\n",
    "    print(e)"
   ]
  },
  {
   "cell_type": "markdown",
   "metadata": {},
   "source": [
    "### monkey patch a function "
   ]
  },
  {
   "cell_type": "code",
   "execution_count": 109,
   "metadata": {},
   "outputs": [
    {
     "name": "stdout",
     "output_type": "stream",
     "text": [
      "'function' object has no attribute 'defaults'\n",
      "127.0.0.1\n"
     ]
    }
   ],
   "source": [
    "# Just an example, not real world case.\n",
    "\n",
    "def dummy_func(key):\n",
    "    return dummy_func.defaults.get(key, \"dummy\")\n",
    "\n",
    "try:\n",
    "    dummy_func(\"Dummy Data\")\n",
    "except Exception as e:\n",
    "    print(e)\n",
    "    \n",
    "dummy_func.defaults = {\"ipaddr\": \"127.0.0.1\", \"ip6addr\": \"::1\"}\n",
    "print(dummy_func(\"ipaddr\"))"
   ]
  },
  {
   "cell_type": "markdown",
   "metadata": {},
   "source": [
    "#### When to use monkey patching "
   ]
  },
  {
   "cell_type": "markdown",
   "metadata": {},
   "source": [
    "- When we dont have the code for module and wanted to apply some changes to it.\n",
    "- Test changes without updating the code. \n",
    "- Apply localized fixes or add/update properties"
   ]
  }
 ],
 "metadata": {
  "kernelspec": {
   "display_name": "Python 3",
   "language": "python",
   "name": "python3"
  },
  "language_info": {
   "codemirror_mode": {
    "name": "ipython",
    "version": 3
   },
   "file_extension": ".py",
   "mimetype": "text/x-python",
   "name": "python",
   "nbconvert_exporter": "python",
   "pygments_lexer": "ipython3",
   "version": "3.8.2"
  }
 },
 "nbformat": 4,
 "nbformat_minor": 1
}
