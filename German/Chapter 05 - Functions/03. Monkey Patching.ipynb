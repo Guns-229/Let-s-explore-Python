{
 "cells": [
  {
   "cell_type": "markdown",
   "metadata": {},
   "source": [
    "## Monkey Patching"
   ]
  },
  {
   "cell_type": "markdown",
   "metadata": {},
   "source": [
    "Python allows developers to patch functions, classes, modules at runtime using technique called `Monkey patching`, without actually updating them. It can be used for all types of attributes.\n",
    "\n",
    "It is very useful for\n",
    "\n",
    "- debugging your code\n",
    "- It replaces `methods`/`attributes`/`functions` at runtime which can be used for unit-testing\n",
    "- Modifying/extending behavior of third-party product without changing the original source code"
   ]
  },
  {
   "cell_type": "markdown",
   "metadata": {},
   "source": [
    "In the below example, we have `dummy_func` which at runtime we are populating with custom `defaults` dictionary. "
   ]
  },
  {
   "cell_type": "code",
   "execution_count": 1,
   "metadata": {
    "scrolled": false
   },
   "outputs": [
    {
     "name": "stdout",
     "output_type": "stream",
     "text": [
      "{'key': {}}\n",
      "False\n",
      "None\n",
      "{'key': 'ipaddr'}\n",
      "False\n",
      "None\n"
     ]
    }
   ],
   "source": [
    "def dummy_func(key):\n",
    "    print(locals())\n",
    "    print(\"defaults\" in globals())\n",
    "    if locals().get(\"defaults\", None):\n",
    "        return dummy_func.defaults.get(key, \"dummy\")\n",
    "    else:\n",
    "        return None\n",
    "\n",
    "\n",
    "print(dummy_func({}))\n",
    "dummy_func.defaults = {\"ipaddr\": \"127.0.0.1\", \"ip6addr\": \"::1\"}\n",
    "\n",
    "print(dummy_func(\"ipaddr\"))"
   ]
  },
  {
   "cell_type": "markdown",
   "metadata": {},
   "source": [
    "### Class methods"
   ]
  },
  {
   "cell_type": "markdown",
   "metadata": {},
   "source": [
    "For monkey patching class methods, We call the `Class_Name.method = new_method` to make sure that now all calls to `object.method` will"
   ]
  },
  {
   "cell_type": "code",
   "execution_count": 2,
   "metadata": {},
   "outputs": [
    {
     "name": "stdout",
     "output_type": "stream",
     "text": [
      "30\n"
     ]
    }
   ],
   "source": [
    "class OriginalClass(object):\n",
    "    def join(self, x, y):\n",
    "        return x + y\n",
    "    \n",
    "    \n",
    "oc = OriginalClass()\n",
    "print(oc.join(10, 20))"
   ]
  },
  {
   "cell_type": "code",
   "execution_count": 3,
   "metadata": {},
   "outputs": [
    {
     "name": "stdout",
     "output_type": "stream",
     "text": [
      "[2, 3, 4, 5]\n"
     ]
    }
   ],
   "source": [
    "def joining_list(self, a, b):\n",
    "    a.extend(b)\n",
    "    return a\n",
    "\n",
    "\n",
    "def testing_list(a, b):\n",
    "    OriginalClass.join = joining_list\n",
    "    oc = OriginalClass()\n",
    "    return oc.join(a, b)\n",
    "\n",
    "print(testing_list([2, 3], [4, 5]))"
   ]
  },
  {
   "cell_type": "markdown",
   "metadata": {},
   "source": [
    "#### Gotcha's"
   ]
  },
  {
   "cell_type": "markdown",
   "metadata": {},
   "source": [
    "Now, that `OriginalClass` has been patched. Any new instance creation will have access to patched version only and the original version is not accessible"
   ]
  },
  {
   "cell_type": "code",
   "execution_count": 4,
   "metadata": {},
   "outputs": [
    {
     "name": "stdout",
     "output_type": "stream",
     "text": [
      "'int' object has no attribute 'extend'\n"
     ]
    }
   ],
   "source": [
    "oc = OriginalClass()\n",
    "try:\n",
    "    print(oc.join(10, 20))\n",
    "except AttributeError as ae:\n",
    "    print(ae)"
   ]
  },
  {
   "cell_type": "markdown",
   "metadata": {},
   "source": [
    "We can avoid the above, by initially creating a variable which is pointing to the original function."
   ]
  },
  {
   "cell_type": "code",
   "execution_count": 5,
   "metadata": {},
   "outputs": [
    {
     "name": "stdout",
     "output_type": "stream",
     "text": [
      "30\n",
      "[2, 3, 4, 5]\n"
     ]
    }
   ],
   "source": [
    "class OriginalClass(object):\n",
    "    def join(self, x, y):\n",
    "        return x + y\n",
    "    \n",
    "    \n",
    "oc = OriginalClass()\n",
    "\n",
    "print(oc.join(10, 20))\n",
    "ori_join = OriginalClass.join\n",
    "\n",
    "# Lets patch \n",
    "def joining_list(self, a, b):\n",
    "    a.extend(b)\n",
    "    return a\n",
    "\n",
    "def testing_list(a, b):\n",
    "    OriginalClass.join = joining_list\n",
    "    oc = OriginalClass()\n",
    "    return oc.join(a, b)\n",
    "\n",
    "print(testing_list([2, 3], [4, 5]))"
   ]
  },
  {
   "cell_type": "code",
   "execution_count": 6,
   "metadata": {},
   "outputs": [
    {
     "name": "stdout",
     "output_type": "stream",
     "text": [
      "'int' object has no attribute 'extend'\n"
     ]
    }
   ],
   "source": [
    "try:\n",
    "    print(oc.join(10, 20))\n",
    "except AttributeError as ae:\n",
    "    print(ae)"
   ]
  },
  {
   "cell_type": "code",
   "execution_count": 7,
   "metadata": {},
   "outputs": [
    {
     "name": "stdout",
     "output_type": "stream",
     "text": [
      "30\n"
     ]
    }
   ],
   "source": [
    "## Now everything should work ;). \n",
    "\n",
    "try:\n",
    "    # unpatching it :)\n",
    "    OriginalClass.join = ori_join\n",
    "    print(oc.join(10, 20))\n",
    "except AttributeError as ae:\n",
    "    print(ae)"
   ]
  },
  {
   "cell_type": "markdown",
   "metadata": {},
   "source": [
    "### References"
   ]
  },
  {
   "cell_type": "markdown",
   "metadata": {},
   "source": [
    "- https://en.wikipedia.org/wiki/Monkey_patch\n",
    "    "
   ]
  }
 ],
 "metadata": {
  "kernelspec": {
   "display_name": "Python 3",
   "language": "python",
   "name": "python3"
  },
  "language_info": {
   "codemirror_mode": {
    "name": "ipython",
    "version": 3
   },
   "file_extension": ".py",
   "mimetype": "text/x-python",
   "name": "python",
   "nbconvert_exporter": "python",
   "pygments_lexer": "ipython3",
   "version": "3.7.4"
  }
 },
 "nbformat": 4,
 "nbformat_minor": 2
}
