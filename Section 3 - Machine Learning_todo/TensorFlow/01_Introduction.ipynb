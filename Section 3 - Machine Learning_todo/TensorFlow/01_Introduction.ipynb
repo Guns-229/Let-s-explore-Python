{
 "cells": [
  {
   "cell_type": "markdown",
   "metadata": {},
   "source": [
    "# TensorFlow"
   ]
  },
  {
   "cell_type": "markdown",
   "metadata": {},
   "source": [
    "**TensorFlow™** is an open source software library used for high performance numerical computation. \n",
    "\n",
    "Its flexible architecture allows easy deployment of computation across a variety of platforms (CPUs, GPUs, TPUs), and from desktops to clusters of servers to mobile and edge devices. Originally developed by researchers and engineers from the **Google Brain team** within **Google’s AI** organization, it comes with strong support for machine learning and deep learning and the flexible numerical computation core is used across many other scientific domains."
   ]
  },
  {
   "cell_type": "markdown",
   "metadata": {},
   "source": [
    "## Install TensorFlow with pip"
   ]
  },
  {
   "cell_type": "markdown",
   "metadata": {},
   "source": [
    "Currently following packages are available \n",
    "* Current Release\n",
    "    - **tensorflow**: Current release for CPU-only (recommended for beginners)\n",
    "    - **tensorflow-gpu**: Current release with GPU support (Ubuntu and Windows)\n",
    "* Nightly Release\n",
    "    - **tf-nightly**: Nightly build for CPU-only (unstable)\n",
    "    - **tf-nightly-gpu**: Nightly build with GPU support (unstable, Ubuntu and Windows)"
   ]
  },
  {
   "cell_type": "markdown",
   "metadata": {},
   "source": [
    "### System requirements"
   ]
  },
  {
   "cell_type": "markdown",
   "metadata": {},
   "source": [
    "- **Ubuntu** 16.04 or later (64-bit)\n",
    "- **macOS** 10.12.6 (Sierra) or later (64-bit) (no GPU support)\n",
    "- **Windows** 7 or later (64-bit) (Python 3 only)\n",
    "- **Raspbian** 9.0 or later"
   ]
  },
  {
   "cell_type": "markdown",
   "metadata": {},
   "source": [
    "### Using with virtual environment"
   ]
  },
  {
   "cell_type": "markdown",
   "metadata": {},
   "source": [
    "Use the following command to create a virtual environment in the current folder."
   ]
  },
  {
   "cell_type": "markdown",
   "metadata": {},
   "source": [
    "virtualenv --system-site-packages -p python3 ./venv"
   ]
  },
  {
   "cell_type": "markdown",
   "metadata": {},
   "source": [
    "#### Starting the Virtual Environment"
   ]
  },
  {
   "cell_type": "markdown",
   "metadata": {},
   "source": [
    "```bash\n",
    "# for *inx\n",
    "source ./venv/bin/activate\n",
    "\n",
    "# for Windows\n",
    "venv/bin/activate.bat\n",
    "```"
   ]
  },
  {
   "cell_type": "markdown",
   "metadata": {},
   "source": [
    "#### Installing TenserFlow using pip"
   ]
  },
  {
   "cell_type": "markdown",
   "metadata": {},
   "source": [
    "```bash\n",
    "pip install --upgrade \n",
    "```\n",
    "You can alternatively choose other appropriate package from the list at the top of the chapter."
   ]
  },
  {
   "cell_type": "markdown",
   "metadata": {},
   "source": [
    "#### Deactivating the Virtual Environment"
   ]
  },
  {
   "cell_type": "markdown",
   "metadata": {},
   "source": [
    "We can exit out of the virtual environment by using the following command \n",
    "\n",
    "```bash\n",
    "deactivate\n",
    "```"
   ]
  },
  {
   "cell_type": "markdown",
   "metadata": {},
   "source": [
    "### Using Docker"
   ]
  },
  {
   "cell_type": "markdown",
   "metadata": {},
   "source": [
    "Prerequisite for this is having docker installed on the machine. tensorflow image can be pulled from the repository using one of the following commands based on the requirement."
   ]
  },
  {
   "cell_type": "markdown",
   "metadata": {},
   "source": [
    "```bash\n",
    "docker pull tensorflow/tensorflow                     # latest stable release\n",
    "docker pull tensorflow/tensorflow:devel-gpu           # nightly dev release w/ GPU support\n",
    "docker pull tensorflow/tensorflow:latest-gpu-jupyter  # latest release w/ GPU support and Jupyter\n",
    "```"
   ]
  },
  {
   "cell_type": "markdown",
   "metadata": {},
   "source": [
    "#### Accessing the docker image using `bash`"
   ]
  },
  {
   "cell_type": "markdown",
   "metadata": {},
   "source": [
    "Following command will start the docker image and launch its `bash` shell for your to work on.\n",
    "\n",
    "```bash\n",
    "docker run -it tensorflow/tensorflow bash\n",
    "```"
   ]
  },
  {
   "cell_type": "markdown",
   "metadata": {},
   "source": [
    "#### Running the python script stored on the host machine"
   ]
  },
  {
   "cell_type": "markdown",
   "metadata": {},
   "source": [
    "`tensorflow` docker image also allows us to execte the scripts stored on the local machine using the following command.\n",
    "```bash\n",
    "docker run -it --rm -v $PWD:/tmp -w /tmp tensorflow/tensorflow python ./script.py\n",
    "```"
   ]
  },
  {
   "cell_type": "code",
   "execution_count": null,
   "metadata": {},
   "outputs": [],
   "source": []
  }
 ],
 "metadata": {
  "kernelspec": {
   "display_name": "Python 2",
   "language": "python",
   "name": "python2"
  },
  "language_info": {
   "codemirror_mode": {
    "name": "ipython",
    "version": 2
   },
   "file_extension": ".py",
   "mimetype": "text/x-python",
   "name": "python",
   "nbconvert_exporter": "python",
   "pygments_lexer": "ipython2",
   "version": "2.7.15"
  }
 },
 "nbformat": 4,
 "nbformat_minor": 2
}
