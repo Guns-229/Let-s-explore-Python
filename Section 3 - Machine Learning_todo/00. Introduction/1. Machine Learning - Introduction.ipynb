{
 "cells": [
  {
   "cell_type": "markdown",
   "metadata": {},
   "source": [
    "# Machine Learning - An Introduction"
   ]
  },
  {
   "cell_type": "markdown",
   "metadata": {},
   "source": [
    "## Introduction"
   ]
  },
  {
   "cell_type": "markdown",
   "metadata": {},
   "source": [
    "Machine Learning is one of the fast expanding field of computers. It is growing exponentialy and is invading every field of life and beyound. \n",
    "\n",
    "The most common and surprisingly funny yet accurate definition of \"Machine Learning\" was given by **Tom M. Mitchell** of Carnegie Mellon University and it states: "
   ]
  },
  {
   "cell_type": "markdown",
   "metadata": {},
   "source": [
    "> A computer program is said to learn from experience `E` with respect to some class of tasks `T` and performance measure `P` if its performance at tasks in `T`, as measured by `P`, improves with experience `E`.\n",
    ">\n",
    ">--**Tom M. Mitchell, Carnegie Mellon University**"
   ]
  },
  {
   "cell_type": "markdown",
   "metadata": {},
   "source": [
    "So, what does it mean is:\n",
    "\n",
    "Lets say, if your program predict weather on a long weekends (Task `T`), you can run it through a machine learning algorithm with past data (Experience `E`) and, if it has successfully \"learned\", it will be able to predicte weather forecast (Performance measure `P`) and the accuracy of prediction will be better with more experience."
   ]
  },
  {
   "cell_type": "markdown",
   "metadata": {},
   "source": [
    "## Examples of Machine Learning"
   ]
  },
  {
   "cell_type": "markdown",
   "metadata": {},
   "source": [
    "The first step in solving any ML related problem is to identify which category the problem belongs to. \n",
    "Once we have identified the type of problem, we can solve it. But without understanding about the type of problem, we will not be able to properly solve or provide a solution. "
   ]
  },
  {
   "cell_type": "markdown",
   "metadata": {},
   "source": [
    "Before we start learning about machine learning, lets discuss few of the places were ML is currently being used."
   ]
  },
  {
   "cell_type": "markdown",
   "metadata": {},
   "source": [
    "- Auto-driving cars/trucks etc\n",
    "- Drones\n",
    "- Siri, Google Now\n",
    "- Auto spell correction\n",
    "- Handwriting detection\n",
    "- Spam detection\n",
    "- Weather forecasting\n",
    "- Stock and F/X Trading\n",
    "- Defects Finding and resolution\n",
    "- Chatting / On-line help"
   ]
  },
  {
   "cell_type": "markdown",
   "metadata": {},
   "source": [
    "All the above examples fall under some or other ML categories, so lets discuss about the ML Categories/methods."
   ]
  },
  {
   "cell_type": "markdown",
   "metadata": {},
   "source": [
    "## ML methods/category"
   ]
  },
  {
   "cell_type": "markdown",
   "metadata": {},
   "source": [
    "ML has many methods but following are the most common methods/problem categories.\n",
    "\n",
    "- **Supervised Learning**: In supervised learning, data comes with additional attributes, normally out of which one attribute is to be predicted based on the existing data set. This problem can be either:\n",
    "\n",
    "    * _**Classification**_: Classification is the action or process of classifying something. `Classification` means to group the output into a class. e.g. classifying `apple` from images of various fruits.\n",
    "    \n",
    "    * _**Regression**_: It is a measure of the relation between the mean value of one variable (e.g. output) and  corresponding values of other variables (e.g. time and cost). It is defined as E[Y | X] (the expectation of `Y` for given `X`). A subset of these types of models where `Y` is binary or categorical (including logistic regression and multinomial regression along with many machine learning algorithms that essential have the same target [such as `classification trees`]) are useful for `classification`.\n",
    "- **Unsupervised Learning** in which the training data consists of a set of input vectors x without any corresponding target values. The goal in such problems may be to discover groups of similar examples within the data, where it is called clustering, or to determine the distribution of data within the input space, known as density estimation, or to project the data from a high-dimensional space down to two or three dimensions for the purpose of visualization (Click here to go to the `Scikit`-Learn unsupervised learning page).\n",
    "- **Semi-supervised learning** in which combines both labeled and unlabeled example to generate an appropriate function or classifier.\n",
    "- **Reinforcement Learning**\n",
    "- **Association Learning**\n",
    "- **Transduction** is similar to supervised learning, but does not explicitly construct a function: instead, tries to predict new outputs based on training inputs, training outputs, and new inputs.\n",
    "- **Learning to learn** is where the algorithm learns its own inductive bias based on previous experience. "
   ]
  },
  {
   "cell_type": "markdown",
   "metadata": {},
   "source": [
    "## Supervised machine learning algorithm"
   ]
  },
  {
   "cell_type": "markdown",
   "metadata": {
    "collapsed": true
   },
   "source": [
    "In it the program is \"trained\" using the past event's data (called **training data**), which then facilitate its ability to predict future events accurately when provided new data. In this algorithm, data is a set of `training examples` with the associated \"correct answers\" and it learns to predict the correct answer from this training set. In other words, it can be said that we have sets of correct/validated questions and answers and using them system tries to find the answer to the asked question."
   ]
  },
  {
   "cell_type": "markdown",
   "metadata": {},
   "source": [
    "There are many analysis techniques which are employed, few of them are as follows"
   ]
  },
  {
   "cell_type": "markdown",
   "metadata": {},
   "source": [
    "### Regression analysis"
   ]
  },
  {
   "cell_type": "markdown",
   "metadata": {},
   "source": [
    "**Regression analysis** is a form of *predictive modelling technique* which predicts, by iinvestigating the relationship between `dependent` and `independent` variable(s). \n",
    "\n",
    "It is manly used in `forecasting`, `time series modelling` and finding the `causal effect relationship` between different `variables`. For example, relationship between rash driving and number of road accidents by a driver is best studied through this regression.\n",
    "\n",
    "It is also an important tool for `modelling` and `analyzing` data. In it, we fit a `curve`/`line` to the `data points`, in such a manner that the differences between the distances of `data points` from the curve or line is minimized.  \n",
    "\n",
    "We will cover it in details in coming sections."
   ]
  },
  {
   "cell_type": "markdown",
   "metadata": {},
   "source": [
    "#### Types of Regression techniques"
   ]
  },
  {
   "cell_type": "markdown",
   "metadata": {},
   "source": [
    "There are many kinds of regression techniques available for predictions and are mostly defined by the following three metrics\n",
    " - number of independent variables \n",
    " - type of dependent variables\n",
    " - shape of regression line\n"
   ]
  },
  {
   "cell_type": "markdown",
   "metadata": {},
   "source": [
    "Most common `regression algorithms` are as follows\n",
    "\n",
    "- Linear Regression\n",
    "- Logistic Regression\n",
    "- Polynomial Regression\n",
    "- Stepwise Regression\n",
    "- Ridge Regression\n",
    "- Lasso Regression\n",
    "- ElasticNet Regression"
   ]
  },
  {
   "cell_type": "markdown",
   "metadata": {},
   "source": [
    "### Classification"
   ]
  },
  {
   "cell_type": "markdown",
   "metadata": {
    "collapsed": true
   },
   "source": [
    "Classification is the problem of identifying to which of a set of categories a new observation belongs, on the basis of a training set of data containing observations whose category membership is already defined."
   ]
  },
  {
   "cell_type": "markdown",
   "metadata": {},
   "source": [
    "#### Examples of Classification"
   ]
  },
  {
   "cell_type": "markdown",
   "metadata": {
    "collapsed": true
   },
   "source": [
    "* text categorization (e.g., spam filtering)\n",
    "* fraud detection\n",
    "* optical character recognition ORC for exams and print to text\n",
    "* Face detection\n",
    "* natural-language processing (e.g. Apple's Siri & Google Now)\n",
    "* market segmentation"
   ]
  },
  {
   "cell_type": "markdown",
   "metadata": {},
   "source": [
    "## Unsupervised learning Algorithm"
   ]
  },
  {
   "cell_type": "markdown",
   "metadata": {
    "collapsed": true
   },
   "source": [
    "In an unsupervised learning algorithm, the algorithm itself can find trends in the given data, without having to look for some specific *\"correct answer\"*. \n",
    "\n",
    "Examples of unsupervised learning algorithms involve clustering (grouping similar data points) or anomaly detection (detecting unusual data points in a data set)."
   ]
  },
  {
   "cell_type": "markdown",
   "metadata": {},
   "source": [
    "### Association Learning"
   ]
  },
  {
   "cell_type": "markdown",
   "metadata": {
    "collapsed": true
   },
   "source": [
    "**Basket analysis**:\n",
    "```\n",
    "P (Y | X ) probability that somebody who buys X\n",
    "also buys Y where X and Y are products/services.\n",
    "\n",
    "Example: P ( chips | beer ) = 0.7\n",
    "```"
   ]
  },
  {
   "cell_type": "markdown",
   "metadata": {},
   "source": [
    "## Steps used in Machine Learning"
   ]
  },
  {
   "cell_type": "markdown",
   "metadata": {},
   "source": [
    "The most common steps in creating a solution using Machine Learning are as follows"
   ]
  },
  {
   "cell_type": "markdown",
   "metadata": {},
   "source": [
    "### Step 1 - Data Collection"
   ]
  },
  {
   "cell_type": "markdown",
   "metadata": {},
   "source": [
    "In this step historic data is collected from various data sources, such as weather station, news archive etc depending on the requirement. It is a good practice to have large variety, density and volume of relevant data, because better the data better prospects for the machine to predict."
   ]
  },
  {
   "cell_type": "markdown",
   "metadata": {},
   "source": [
    "#### Data Sets - Training Sets & Data Sets"
   ]
  },
  {
   "cell_type": "markdown",
   "metadata": {},
   "source": [
    "Machine learning is about learning some properties of a data set and applying them to new data. This is why a common practice in machine learning to evaluate an algorithm is to split the data at hand into two sets, one that we call the training set on which we learn data properties and one that we call the testing set on which we test these properties."
   ]
  },
  {
   "cell_type": "markdown",
   "metadata": {},
   "source": [
    "### Step 2 - Data Preparation/Sanitization"
   ]
  },
  {
   "cell_type": "markdown",
   "metadata": {},
   "source": [
    "### Step 3 - Training Model"
   ]
  },
  {
   "cell_type": "markdown",
   "metadata": {},
   "source": [
    "### Step 4 - Evaluating Model"
   ]
  },
  {
   "cell_type": "markdown",
   "metadata": {},
   "source": [
    "### Step 5 - Performance tweaking"
   ]
  },
  {
   "cell_type": "markdown",
   "metadata": {
    "collapsed": true
   },
   "source": [
    "## Keyworks in Machine Learning"
   ]
  },
  {
   "cell_type": "markdown",
   "metadata": {},
   "source": [
    "### Deep Learning"
   ]
  },
  {
   "cell_type": "markdown",
   "metadata": {},
   "source": [
    "Deep Learning is associated with `Artificial Neural Network`. ANN uses the concept of human brain to facilitate the modeling of arbitrary functions. ANN requires a vast amount of data and this algorithm is highly flexible when it comes to model multiple outputs simultaneously. "
   ]
  },
  {
   "cell_type": "markdown",
   "metadata": {},
   "source": [
    "### Natural Language Processing"
   ]
  },
  {
   "cell_type": "markdown",
   "metadata": {
    "collapsed": true
   },
   "source": [
    "Natural language processing or NLP is a subfield of linguistics, computer science, information engineering, and artificial intelligence concerned with the interactions between computers and human (natural) languages, in particular how to program computers to process and analyze large amounts of natural language data.<sup>1</sup>"
   ]
  },
  {
   "cell_type": "markdown",
   "metadata": {},
   "source": [
    "### Data Mining"
   ]
  },
  {
   "cell_type": "markdown",
   "metadata": {
    "collapsed": true
   },
   "source": [
    "It is the process of analysing and find the patterns in large data sets involving methods at the intersection of machine learning, statistics, and database systems. Its overall goal is to extract information using AI methods from a data set and transform the information into a comprehensible structure for further use. \n",
    "\n",
    "Aside from the raw analysis step, it also involves database and data management aspects, data pre-processing, model and inference considerations, interestingness metrics, complexity considerations, post-processing of discovered structures, visualization, and online updating. "
   ]
  },
  {
   "cell_type": "markdown",
   "metadata": {},
   "source": [
    "### Data Science"
   ]
  },
  {
   "cell_type": "markdown",
   "metadata": {
    "collapsed": true
   },
   "source": [
    "Data science is a \"concept to unify statistics, data analysis, machine learning and their related methods\" in order to \"understand and analyze actual phenomena\" with data. "
   ]
  },
  {
   "cell_type": "markdown",
   "metadata": {},
   "source": [
    "**Correlation**: Correlation is any of a broad class of statistical relationships involving dependence, though in common usage ___it most often refers to the extent to which two variables have a linear relationship with each other___. Examples of dependent phenomena include the correlation between the physical statures of parents and their offspring, and the correlation between the demand for a product and its price."
   ]
  },
  {
   "cell_type": "markdown",
   "metadata": {},
   "source": [
    "## Reference:\n",
    "    1. Wikipedia: \n",
    "        - https://en.wikipedia.org/wiki/Data_mining \n",
    "        - https://en.wikipedia.org/wiki/Natural_language_processing\n",
    "    2. Dataset: \n",
    "        - http://archive.ics.uci.edu/ml/index.php\n",
    "    3. Tutorials\n",
    "        - https://www.analyticsvidhya.com/blog/2016/01/complete-tutorial-learn-data-science-python-scratch-2/"
   ]
  }
 ],
 "metadata": {
  "kernelspec": {
   "display_name": "Python 3 (ipykernel)",
   "language": "python",
   "name": "python3"
  },
  "language_info": {
   "codemirror_mode": {
    "name": "ipython",
    "version": 3
   },
   "file_extension": ".py",
   "mimetype": "text/x-python",
   "name": "python",
   "nbconvert_exporter": "python",
   "pygments_lexer": "ipython3",
   "version": "3.11.0b1"
  }
 },
 "nbformat": 4,
 "nbformat_minor": 2
}
